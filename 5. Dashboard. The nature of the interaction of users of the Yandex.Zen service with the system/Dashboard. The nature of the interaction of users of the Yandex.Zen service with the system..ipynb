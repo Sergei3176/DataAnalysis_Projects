{
 "cells": [
  {
   "cell_type": "markdown",
   "id": "c2d3be3f",
   "metadata": {},
   "source": [
    "# Характер взаимодействия посетителей Яндекс.Дзен с системой"
   ]
  },
  {
   "cell_type": "markdown",
   "id": "f7a6a413",
   "metadata": {},
   "source": [
    "Цель проекта - автоматизировать анализ взаимодействия пользователей с карточками Яндекс.Дзен.\n",
    "Предполагается, что дашбордом будут пользоваться не реже одного раза в неделю.\n",
    "Основными пользователями дашборда будут менеджеры по анализу контента.\n",
    "\n",
    "Состав данных для дашборда:\n",
    "История событий по темам карточек (два графика - абсолютные числа и процентное соотношение);\n",
    "Разбивка событий по темам источников;\n",
    "Таблица соответствия тем источников темам карточек.\n",
    "\n",
    "Данные должны группироваться по:\n",
    "Дате и времени;\n",
    "Теме карточки;\n",
    "Теме источника;\n",
    "Возрастной группе.\n",
    "\n",
    "Характер данных в дашборде:\n",
    "История событий по темам карточек — абсолютные величины с разбивкой по минутам;\n",
    "Разбивка событий по темам источников — относительные величины (% событий);\n",
    "Соответствия тем источников темам карточек - абсолютные величины.\n",
    "\n",
    "Все графики имеют равную важность.\n",
    "\n",
    "Источники данных для дашборда: cырые данные о событиях взаимодействия пользователей с карточками (таблица log_raw).\n",
    "\n",
    "База данных, в которой будут храниться агрегированные данные: дополнительные агрегированные таблицы в БД zen.\n",
    "\n",
    "Частота обновления данных: один раз в сутки, в полночь по UTC.\n",
    "\n",
    "Какие графики должны отображаться и в каком порядке, какие элементы управления должны быть на дашборде - указано в макете дашборда.\n",
    "\n",
    "Структура проекта:\n",
    "1. [Изучение данных.](#start)\n",
    "2. [Предобработка данных.](#preprocessing)\n",
    "3. [Анализ данных.](#analysis)\n",
    "4. [Общий вывод.](#outcome)\n"
   ]
  },
  {
   "cell_type": "code",
   "execution_count": 62,
   "id": "9a955089",
   "metadata": {},
   "outputs": [],
   "source": [
    "# импортируем библиотеки\n",
    "import pandas as pd\n",
    "#! pip install psycopg2\n",
    "from sqlalchemy import create_engine\n"
   ]
  },
  {
   "cell_type": "code",
   "execution_count": 63,
   "id": "82f5a4a8",
   "metadata": {
    "scrolled": true
   },
   "outputs": [],
   "source": [
    "db_config = {'user': 'praktikum_student', # имя пользователя\n",
    "            'pwd': 'Sdf4$2;d-d30pp', # пароль\n",
    "            'host': 'rc1b-wcoijxj3yxfsf3fs.mdb.yandexcloud.net',\n",
    "            'port': 6432, # порт подключения\n",
    "            'db': 'data-analyst-zen-project-db'} # название базы данных\n",
    "\n",
    "connection_string = 'postgresql://{}:{}@{}:{}/{}'.format(db_config['user'],\n",
    "                                                db_config['pwd'],\n",
    "                                                db_config['host'],\n",
    "                                                db_config['port'],\n",
    "                                                db_config['db'])\n",
    "\n",
    "engine = create_engine(connection_string)\n",
    "\n"
   ]
  },
  {
   "cell_type": "code",
   "execution_count": 64,
   "id": "a25c47a6",
   "metadata": {},
   "outputs": [],
   "source": [
    "query = '''\n",
    "        SELECT * FROM dash_visits\n",
    "        '''\n",
    "\n",
    "pd.io.sql.read_sql(query, con = engine) \n",
    "\n",
    "dash_visits  = pd.io.sql.read_sql(query, con = engine)\n",
    " \n",
    "dash_visits.to_csv('dash_visits.csv')"
   ]
  },
  {
   "cell_type": "markdown",
   "id": "faf8b9e3",
   "metadata": {},
   "source": [
    "## Изучение данных.<a id=\"start\"></a>"
   ]
  },
  {
   "cell_type": "code",
   "execution_count": 65,
   "id": "56467509",
   "metadata": {},
   "outputs": [
    {
     "data": {
      "text/html": [
       "<div>\n",
       "<style scoped>\n",
       "    .dataframe tbody tr th:only-of-type {\n",
       "        vertical-align: middle;\n",
       "    }\n",
       "\n",
       "    .dataframe tbody tr th {\n",
       "        vertical-align: top;\n",
       "    }\n",
       "\n",
       "    .dataframe thead th {\n",
       "        text-align: right;\n",
       "    }\n",
       "</style>\n",
       "<table border=\"1\" class=\"dataframe\">\n",
       "  <thead>\n",
       "    <tr style=\"text-align: right;\">\n",
       "      <th></th>\n",
       "      <th>record_id</th>\n",
       "      <th>item_topic</th>\n",
       "      <th>source_topic</th>\n",
       "      <th>age_segment</th>\n",
       "      <th>dt</th>\n",
       "      <th>visits</th>\n",
       "    </tr>\n",
       "  </thead>\n",
       "  <tbody>\n",
       "    <tr>\n",
       "      <th>0</th>\n",
       "      <td>1040597</td>\n",
       "      <td>Деньги</td>\n",
       "      <td>Авто</td>\n",
       "      <td>18-25</td>\n",
       "      <td>2019-09-24 18:32:00</td>\n",
       "      <td>3</td>\n",
       "    </tr>\n",
       "    <tr>\n",
       "      <th>1</th>\n",
       "      <td>1040598</td>\n",
       "      <td>Деньги</td>\n",
       "      <td>Авто</td>\n",
       "      <td>18-25</td>\n",
       "      <td>2019-09-24 18:35:00</td>\n",
       "      <td>1</td>\n",
       "    </tr>\n",
       "    <tr>\n",
       "      <th>2</th>\n",
       "      <td>1040599</td>\n",
       "      <td>Деньги</td>\n",
       "      <td>Авто</td>\n",
       "      <td>18-25</td>\n",
       "      <td>2019-09-24 18:54:00</td>\n",
       "      <td>4</td>\n",
       "    </tr>\n",
       "    <tr>\n",
       "      <th>3</th>\n",
       "      <td>1040600</td>\n",
       "      <td>Деньги</td>\n",
       "      <td>Авто</td>\n",
       "      <td>18-25</td>\n",
       "      <td>2019-09-24 18:55:00</td>\n",
       "      <td>17</td>\n",
       "    </tr>\n",
       "    <tr>\n",
       "      <th>4</th>\n",
       "      <td>1040601</td>\n",
       "      <td>Деньги</td>\n",
       "      <td>Авто</td>\n",
       "      <td>18-25</td>\n",
       "      <td>2019-09-24 18:56:00</td>\n",
       "      <td>27</td>\n",
       "    </tr>\n",
       "    <tr>\n",
       "      <th>5</th>\n",
       "      <td>1040602</td>\n",
       "      <td>Деньги</td>\n",
       "      <td>Авто</td>\n",
       "      <td>18-25</td>\n",
       "      <td>2019-09-24 18:57:00</td>\n",
       "      <td>22</td>\n",
       "    </tr>\n",
       "    <tr>\n",
       "      <th>6</th>\n",
       "      <td>1040603</td>\n",
       "      <td>Деньги</td>\n",
       "      <td>Авто</td>\n",
       "      <td>18-25</td>\n",
       "      <td>2019-09-24 18:58:00</td>\n",
       "      <td>24</td>\n",
       "    </tr>\n",
       "    <tr>\n",
       "      <th>7</th>\n",
       "      <td>1040604</td>\n",
       "      <td>Деньги</td>\n",
       "      <td>Авто</td>\n",
       "      <td>18-25</td>\n",
       "      <td>2019-09-24 18:59:00</td>\n",
       "      <td>20</td>\n",
       "    </tr>\n",
       "    <tr>\n",
       "      <th>8</th>\n",
       "      <td>1040605</td>\n",
       "      <td>Деньги</td>\n",
       "      <td>Авто</td>\n",
       "      <td>18-25</td>\n",
       "      <td>2019-09-24 19:00:00</td>\n",
       "      <td>5</td>\n",
       "    </tr>\n",
       "    <tr>\n",
       "      <th>9</th>\n",
       "      <td>1040606</td>\n",
       "      <td>Деньги</td>\n",
       "      <td>Авто</td>\n",
       "      <td>26-30</td>\n",
       "      <td>2019-09-24 18:29:00</td>\n",
       "      <td>1</td>\n",
       "    </tr>\n",
       "  </tbody>\n",
       "</table>\n",
       "</div>"
      ],
      "text/plain": [
       "   record_id item_topic source_topic age_segment                  dt  visits\n",
       "0    1040597     Деньги         Авто       18-25 2019-09-24 18:32:00       3\n",
       "1    1040598     Деньги         Авто       18-25 2019-09-24 18:35:00       1\n",
       "2    1040599     Деньги         Авто       18-25 2019-09-24 18:54:00       4\n",
       "3    1040600     Деньги         Авто       18-25 2019-09-24 18:55:00      17\n",
       "4    1040601     Деньги         Авто       18-25 2019-09-24 18:56:00      27\n",
       "5    1040602     Деньги         Авто       18-25 2019-09-24 18:57:00      22\n",
       "6    1040603     Деньги         Авто       18-25 2019-09-24 18:58:00      24\n",
       "7    1040604     Деньги         Авто       18-25 2019-09-24 18:59:00      20\n",
       "8    1040605     Деньги         Авто       18-25 2019-09-24 19:00:00       5\n",
       "9    1040606     Деньги         Авто       26-30 2019-09-24 18:29:00       1"
      ]
     },
     "metadata": {},
     "output_type": "display_data"
    },
    {
     "name": "stdout",
     "output_type": "stream",
     "text": [
      "<class 'pandas.core.frame.DataFrame'>\n",
      "RangeIndex: 30745 entries, 0 to 30744\n",
      "Data columns (total 6 columns):\n",
      " #   Column        Non-Null Count  Dtype         \n",
      "---  ------        --------------  -----         \n",
      " 0   record_id     30745 non-null  int64         \n",
      " 1   item_topic    30745 non-null  object        \n",
      " 2   source_topic  30745 non-null  object        \n",
      " 3   age_segment   30745 non-null  object        \n",
      " 4   dt            30745 non-null  datetime64[ns]\n",
      " 5   visits        30745 non-null  int64         \n",
      "dtypes: datetime64[ns](1), int64(2), object(3)\n",
      "memory usage: 1.4+ MB\n"
     ]
    }
   ],
   "source": [
    "display(dash_visits.head(10))\n",
    "dash_visits.info()\n"
   ]
  },
  {
   "cell_type": "markdown",
   "id": "40f2e06f",
   "metadata": {},
   "source": [
    "## Предобработка данных.<a id=\"preprocessing\"></a>"
   ]
  },
  {
   "cell_type": "code",
   "execution_count": 66,
   "id": "ac91e708",
   "metadata": {},
   "outputs": [
    {
     "data": {
      "text/plain": [
       "record_id       0\n",
       "item_topic      0\n",
       "source_topic    0\n",
       "age_segment     0\n",
       "dt              0\n",
       "visits          0\n",
       "dtype: int64"
      ]
     },
     "metadata": {},
     "output_type": "display_data"
    },
    {
     "data": {
      "text/plain": [
       "0"
      ]
     },
     "metadata": {},
     "output_type": "display_data"
    },
    {
     "data": {
      "text/plain": [
       "0"
      ]
     },
     "metadata": {},
     "output_type": "display_data"
    }
   ],
   "source": [
    "display(dash_visits.isna().sum())\n",
    "display(dash_visits.duplicated().sum())\n",
    "display(dash_visits['record_id'].duplicated().sum())\n",
    "\n",
    "try:\n",
    "    dash_visits['visits'] = dash_visits['visits'].abs() #Преобразую отрицательные \n",
    "#значения в столбце в положительные.\n",
    "except:\n",
    "    dash_visits['visits'] = None #В случае ошибки заменяю отрицательные значения значением None."
   ]
  },
  {
   "cell_type": "markdown",
   "id": "84dd8084",
   "metadata": {},
   "source": [
    "Проверил таблицу на пропуски и дубликаты строк. Пропусков и дубликатов нет. Все значения record_id уникальные.\n",
    "Убрал отрицательные значения в колонке visits."
   ]
  },
  {
   "cell_type": "markdown",
   "id": "c92e62bc",
   "metadata": {},
   "source": [
    "## Анализ данных.<a id=\"analysis\"></a>"
   ]
  },
  {
   "cell_type": "code",
   "execution_count": 67,
   "id": "ee0decaa",
   "metadata": {},
   "outputs": [
    {
     "data": {
      "text/plain": [
       "item_topic\n",
       "Деньги                10291\n",
       "Дети                  10989\n",
       "Женская психология     7737\n",
       "Женщины               11499\n",
       "Здоровье              10399\n",
       "Знаменитости           7394\n",
       "Интересные факты      19942\n",
       "Искусство              8516\n",
       "История               15389\n",
       "Красота                9814\n",
       "Культура              10205\n",
       "Наука                 21736\n",
       "Общество              19640\n",
       "Отношения             20666\n",
       "Подборки              17772\n",
       "Полезные советы       15435\n",
       "Психология             8036\n",
       "Путешествия            9260\n",
       "Рассказы              10909\n",
       "Россия                16966\n",
       "Семья                 11897\n",
       "Скандалы               9294\n",
       "Туризм                 9512\n",
       "Шоу                    7511\n",
       "Юмор                   9398\n",
       "Name: visits, dtype: int64"
      ]
     },
     "metadata": {},
     "output_type": "display_data"
    },
    {
     "data": {
      "text/plain": [
       "10399.0"
      ]
     },
     "metadata": {},
     "output_type": "display_data"
    }
   ],
   "source": [
    "#Группирую данные таблицы по теме карточек, чтобы получить количество взаимодействий по каждой теме.\n",
    "dash_visits_group = dash_visits.copy(deep=True)\n",
    "dash_visits_group = dash_visits_group.groupby('item_topic')['visits'].sum()\n",
    "display(dash_visits_group)\n",
    "display(dash_visits_group.median())"
   ]
  },
  {
   "cell_type": "markdown",
   "id": "1aa40c77",
   "metadata": {},
   "source": [
    "Разброс количества взаимодействий довольно большой от 7511 (Шоу) до 21736 (Наука). Медианное значение - 10399 взаимодействий с карточками по каждой теме."
   ]
  },
  {
   "cell_type": "code",
   "execution_count": 68,
   "id": "00c30712",
   "metadata": {},
   "outputs": [
    {
     "data": {
      "text/plain": [
       "source_topic\n",
       "Авто                  1077\n",
       "Деньги                 973\n",
       "Дети                  1459\n",
       "Еда                    912\n",
       "Здоровье              1243\n",
       "Знаменитости          1650\n",
       "Интерьеры              809\n",
       "Искусство             1228\n",
       "История               1437\n",
       "Кино                  1505\n",
       "Музыка                 750\n",
       "Одежда                1379\n",
       "Полезные советы       1578\n",
       "Политика              1024\n",
       "Психология            1055\n",
       "Путешествия           1563\n",
       "Ремонт                 985\n",
       "Россия                1687\n",
       "Сад и дача            1036\n",
       "Сделай сам             995\n",
       "Семейные отношения    1822\n",
       "Семья                 1405\n",
       "Спорт                 1007\n",
       "Строительство          758\n",
       "Технологии             741\n",
       "Финансы                667\n",
       "Name: item_topic, dtype: int64"
      ]
     },
     "metadata": {},
     "output_type": "display_data"
    },
    {
     "data": {
      "text/plain": [
       "1066.0"
      ]
     },
     "metadata": {},
     "output_type": "display_data"
    }
   ],
   "source": [
    "#Группирую данные таблицы по теме карточек, чтобы получить количество карточек, сгенерированных каждым источником.\n",
    "dash_visits_group2 = dash_visits.copy(deep=True)\n",
    "dash_visits_group2 = dash_visits_group2.groupby('source_topic')['item_topic'].count()\n",
    "display(dash_visits_group2)\n",
    "display(dash_visits_group2.median())"
   ]
  },
  {
   "cell_type": "markdown",
   "id": "36bca4ea",
   "metadata": {},
   "source": [
    "Источники с разными темами генерируют от 667 (Финансы) до 1822 карточек (Семейные отношения). Медианное значение этого показателя - 1066."
   ]
  },
  {
   "cell_type": "code",
   "execution_count": 69,
   "id": "4d7d3b1d",
   "metadata": {},
   "outputs": [
    {
     "data": {
      "text/plain": [
       "source_topic  item_topic        \n",
       "Авто          Деньги                52\n",
       "              Дети                  43\n",
       "              Женская психология    15\n",
       "              Женщины               45\n",
       "              Здоровье              45\n",
       "                                    ..\n",
       "Финансы       Семья                 17\n",
       "              Скандалы               9\n",
       "              Туризм                30\n",
       "              Шоу                   51\n",
       "              Юмор                  25\n",
       "Name: visits, Length: 644, dtype: int64"
      ]
     },
     "metadata": {},
     "output_type": "display_data"
    }
   ],
   "source": [
    "#Группирую данные таблицы по теме карточек, чтобы получить количество карточек, сгенерированных каждым источником.\n",
    "dash_visits_group3 = dash_visits.copy(deep=True)\n",
    "dash_visits_group3 = dash_visits_group3.groupby(['source_topic', 'item_topic'])['visits'].count()\n",
    "display(dash_visits_group3)"
   ]
  },
  {
   "cell_type": "markdown",
   "id": "f30aa791",
   "metadata": {},
   "source": [
    "## Общий вывод. <a id=\"outcome\"></a>"
   ]
  },
  {
   "cell_type": "markdown",
   "id": "88314218",
   "metadata": {},
   "source": [
    "1. Всего за изучаемый период произошло 310207 взаимодействий. Разбивка по темам с учётом времени визита отражена на графике \"История взаимодействий посетителей с карточками по темам (абсолютные значения)\". Расчёты в Jupiter Notebook позволяют дополнить эту информацию. Интенсивность взаимодействия зависит от темы карточек. Минимальное значение за изучаемый период у темы \"Шоу\" - 7511. Максимальное - у темы карточек \"Наука\" 21736 визитов. Медианное значение показателя - 10399.\n",
    "2. Эти данные, однако, не могут быть признаны репрезентативными, поскольку изучен период всего в 32 минуты - с 18-28 до 19-00 24 сентября 2019 г. То есть, здесь отражён небольшой отрезок вечернего времени одного буднего дня. Делать серьёзные выводы оснований нет.\n",
    "3. График \"История взаимодействий посетителей с карточками по темам (относительные значения)\" даёт информацию по этому же вопросу, отражая долю каждой темы на определённый момент времени в процентах. Здесь видно, что доля темы \"Шоу\" колеблется от 1.02% до 2.86%, а доля взаимодействий с карточками по теме \"Наука\" - от 3.57% до 8.18%.\n",
    "4. Источники с разными темами генерируют за период исследования от 667 карточек (\"Финансы\") до 1822 (\"Семейные отношения\"). Медианное значение показателя - 1066. (Расчёты получены в Jupiter Notebook, поскольку, согласно утверждённому в ТЗ макету, Pie chart \"График разбивки событий по темам источников\" отражает разбивку событий по темам источников). \"График разбивки событий по темам источников\" показывает разброс долей тем источников от общей массы событий от 10.74% (\"Семейные отношения\", до 0.85% (\"Финансы\"))\n",
    "5. Соотношение тем источников и тем карточек, представленное в \"Таблице соответствия тем карточек темам источников\", имеет три варианта. Наиболее выраженный - взаимодействие смежных или частично пересекающихся по смыслу тем источников и карточек (Россия - Общество, Путешествия - Рассказы, Полезные советы - Отношения и т.д.). Полное совпадение темы источника с темой карточки может давать меньшее количество визитов (Дети - Дети), чем смежные и даже, казалось бы, не связанные темы (Дети - История, Дети - Психология, Дети - Деньги). Меньше всего визитов даёт сочетание не связанных между собой тем источников с темами карточек (Финансы - Искусство, Сделай сам - Знаменитости и т.п.). Исходя из перечисленных особенностей, можно предположить, что читателей чаще всего инетересуют тексты на стыке тем, комбинирующие разные аспекты жизни."
   ]
  },
  {
   "cell_type": "markdown",
   "id": "b6eb6fef",
   "metadata": {},
   "source": [
    "Dashboard link: https://public.tableau.com/views/Dashboard__16556373096090/sheet0?:language=en-US&publish=yes&:display_count=n&:origin=viz_share_link"
   ]
  },
  {
   "cell_type": "markdown",
   "id": "048dd5f0",
   "metadata": {},
   "source": [
    "Presentation link: https://drive.google.com/file/d/1lWTjoDL7y5l2mppVGnAxvIQ6JKF48L3D/view?usp=sharing"
   ]
  }
 ],
 "metadata": {
  "kernelspec": {
   "display_name": "Python 3 (ipykernel)",
   "language": "python",
   "name": "python3"
  },
  "language_info": {
   "codemirror_mode": {
    "name": "ipython",
    "version": 3
   },
   "file_extension": ".py",
   "mimetype": "text/x-python",
   "name": "python",
   "nbconvert_exporter": "python",
   "pygments_lexer": "ipython3",
   "version": "3.9.7"
  }
 },
 "nbformat": 4,
 "nbformat_minor": 5
}
