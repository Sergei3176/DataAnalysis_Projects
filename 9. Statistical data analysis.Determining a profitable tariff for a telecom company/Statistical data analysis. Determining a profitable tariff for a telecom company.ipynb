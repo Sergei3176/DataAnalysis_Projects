{
 "cells": [
  {
   "cell_type": "markdown",
   "metadata": {},
   "source": [
    "# Определение перспективного тарифа для телеком-компании"
   ]
  },
  {
   "cell_type": "markdown",
   "metadata": {},
   "source": [
    "# Описание проекта."
   ]
  },
  {
   "cell_type": "markdown",
   "metadata": {},
   "source": [
    "Цель проекта: определить наиболее выгодный для компании тариф.\n",
    "\n",
    "Задачи проекта:\n",
    "1. Проанализировать поведение клиентов.\n",
    "2. Определить доходность каждого тарифа.\n",
    "3. Определить уровень доходности тарифов в географическом аспекте (Москва и регионы)\n",
    "\n",
    "Источники данных:\n",
    "Пять таблиц, содержащих информацию о клиентах и характере пользования услугами, предоставляемыми в рамках каждого тарифа, а также характеристики самих тарифов.\n",
    "\n",
    "Характер данных: выборка данных о 500 пользователях и их активности за 2018 год.\n",
    "\n",
    "Структура проекта:\n",
    "1. [Изучение данных.](#start)\n",
    "2. [Предобработка данных.](#data_preparation)\n",
    "3. [Анализ данных.](#analysis)\n",
    "4. [Проверка гипотез](#hypothesis_testing)\n",
    "5. [Общий вывод.](#outcome)"
   ]
  },
  {
   "cell_type": "markdown",
   "metadata": {},
   "source": [
    "## Изучение данных.<a id=\"start\"></a>"
   ]
  },
  {
   "cell_type": "code",
   "execution_count": 1,
   "metadata": {},
   "outputs": [],
   "source": [
    "from scipy import stats as st\n",
    "import numpy as np\n",
    "import pandas as pd\n",
    "from datetime import datetime\n",
    "import math\n",
    "import seaborn as sns\n",
    "import matplotlib.pyplot as plt"
   ]
  },
  {
   "cell_type": "code",
   "execution_count": 2,
   "metadata": {},
   "outputs": [],
   "source": [
    "calls = pd.read_csv('C:/datasets/calls.csv')\n",
    "internet = pd.read_csv('C:/datasets/internet.csv')\n",
    "messages = pd.read_csv('C:/datasets/messages.csv')\n",
    "tariffs = pd.read_csv('C:/datasets/tariffs.csv')\n",
    "users = pd.read_csv('C:/datasets/users.csv')"
   ]
  },
  {
   "cell_type": "code",
   "execution_count": 3,
   "metadata": {},
   "outputs": [
    {
     "data": {
      "text/html": [
       "<div>\n",
       "<style scoped>\n",
       "    .dataframe tbody tr th:only-of-type {\n",
       "        vertical-align: middle;\n",
       "    }\n",
       "\n",
       "    .dataframe tbody tr th {\n",
       "        vertical-align: top;\n",
       "    }\n",
       "\n",
       "    .dataframe thead th {\n",
       "        text-align: right;\n",
       "    }\n",
       "</style>\n",
       "<table border=\"1\" class=\"dataframe\">\n",
       "  <thead>\n",
       "    <tr style=\"text-align: right;\">\n",
       "      <th></th>\n",
       "      <th>id</th>\n",
       "      <th>call_date</th>\n",
       "      <th>duration</th>\n",
       "      <th>user_id</th>\n",
       "    </tr>\n",
       "  </thead>\n",
       "  <tbody>\n",
       "    <tr>\n",
       "      <th>0</th>\n",
       "      <td>1000_0</td>\n",
       "      <td>2018-07-25</td>\n",
       "      <td>0.00</td>\n",
       "      <td>1000</td>\n",
       "    </tr>\n",
       "    <tr>\n",
       "      <th>1</th>\n",
       "      <td>1000_1</td>\n",
       "      <td>2018-08-17</td>\n",
       "      <td>0.00</td>\n",
       "      <td>1000</td>\n",
       "    </tr>\n",
       "    <tr>\n",
       "      <th>2</th>\n",
       "      <td>1000_2</td>\n",
       "      <td>2018-06-11</td>\n",
       "      <td>2.85</td>\n",
       "      <td>1000</td>\n",
       "    </tr>\n",
       "    <tr>\n",
       "      <th>3</th>\n",
       "      <td>1000_3</td>\n",
       "      <td>2018-09-21</td>\n",
       "      <td>13.80</td>\n",
       "      <td>1000</td>\n",
       "    </tr>\n",
       "    <tr>\n",
       "      <th>4</th>\n",
       "      <td>1000_4</td>\n",
       "      <td>2018-12-15</td>\n",
       "      <td>5.18</td>\n",
       "      <td>1000</td>\n",
       "    </tr>\n",
       "    <tr>\n",
       "      <th>5</th>\n",
       "      <td>1000_5</td>\n",
       "      <td>2018-11-02</td>\n",
       "      <td>0.00</td>\n",
       "      <td>1000</td>\n",
       "    </tr>\n",
       "    <tr>\n",
       "      <th>6</th>\n",
       "      <td>1000_6</td>\n",
       "      <td>2018-10-18</td>\n",
       "      <td>0.00</td>\n",
       "      <td>1000</td>\n",
       "    </tr>\n",
       "    <tr>\n",
       "      <th>7</th>\n",
       "      <td>1000_7</td>\n",
       "      <td>2018-08-22</td>\n",
       "      <td>18.31</td>\n",
       "      <td>1000</td>\n",
       "    </tr>\n",
       "    <tr>\n",
       "      <th>8</th>\n",
       "      <td>1000_8</td>\n",
       "      <td>2018-09-15</td>\n",
       "      <td>18.44</td>\n",
       "      <td>1000</td>\n",
       "    </tr>\n",
       "    <tr>\n",
       "      <th>9</th>\n",
       "      <td>1000_9</td>\n",
       "      <td>2018-08-15</td>\n",
       "      <td>0.00</td>\n",
       "      <td>1000</td>\n",
       "    </tr>\n",
       "  </tbody>\n",
       "</table>\n",
       "</div>"
      ],
      "text/plain": [
       "       id   call_date  duration  user_id\n",
       "0  1000_0  2018-07-25      0.00     1000\n",
       "1  1000_1  2018-08-17      0.00     1000\n",
       "2  1000_2  2018-06-11      2.85     1000\n",
       "3  1000_3  2018-09-21     13.80     1000\n",
       "4  1000_4  2018-12-15      5.18     1000\n",
       "5  1000_5  2018-11-02      0.00     1000\n",
       "6  1000_6  2018-10-18      0.00     1000\n",
       "7  1000_7  2018-08-22     18.31     1000\n",
       "8  1000_8  2018-09-15     18.44     1000\n",
       "9  1000_9  2018-08-15      0.00     1000"
      ]
     },
     "metadata": {},
     "output_type": "display_data"
    },
    {
     "name": "stdout",
     "output_type": "stream",
     "text": [
      "<class 'pandas.core.frame.DataFrame'>\n",
      "RangeIndex: 202607 entries, 0 to 202606\n",
      "Data columns (total 4 columns):\n",
      " #   Column     Non-Null Count   Dtype  \n",
      "---  ------     --------------   -----  \n",
      " 0   id         202607 non-null  object \n",
      " 1   call_date  202607 non-null  object \n",
      " 2   duration   202607 non-null  float64\n",
      " 3   user_id    202607 non-null  int64  \n",
      "dtypes: float64(1), int64(1), object(2)\n",
      "memory usage: 6.2+ MB\n"
     ]
    }
   ],
   "source": [
    "display(calls.head(10))\n",
    "calls.info()"
   ]
  },
  {
   "cell_type": "code",
   "execution_count": 4,
   "metadata": {},
   "outputs": [
    {
     "data": {
      "text/html": [
       "<div>\n",
       "<style scoped>\n",
       "    .dataframe tbody tr th:only-of-type {\n",
       "        vertical-align: middle;\n",
       "    }\n",
       "\n",
       "    .dataframe tbody tr th {\n",
       "        vertical-align: top;\n",
       "    }\n",
       "\n",
       "    .dataframe thead th {\n",
       "        text-align: right;\n",
       "    }\n",
       "</style>\n",
       "<table border=\"1\" class=\"dataframe\">\n",
       "  <thead>\n",
       "    <tr style=\"text-align: right;\">\n",
       "      <th></th>\n",
       "      <th>id</th>\n",
       "      <th>call_date</th>\n",
       "      <th>duration</th>\n",
       "      <th>user_id</th>\n",
       "    </tr>\n",
       "  </thead>\n",
       "  <tbody>\n",
       "    <tr>\n",
       "      <th>0</th>\n",
       "      <td>1000_0</td>\n",
       "      <td>2018-07-25</td>\n",
       "      <td>0.0</td>\n",
       "      <td>1000</td>\n",
       "    </tr>\n",
       "    <tr>\n",
       "      <th>1</th>\n",
       "      <td>1000_1</td>\n",
       "      <td>2018-08-17</td>\n",
       "      <td>0.0</td>\n",
       "      <td>1000</td>\n",
       "    </tr>\n",
       "    <tr>\n",
       "      <th>2</th>\n",
       "      <td>1000_2</td>\n",
       "      <td>2018-06-11</td>\n",
       "      <td>3.0</td>\n",
       "      <td>1000</td>\n",
       "    </tr>\n",
       "    <tr>\n",
       "      <th>3</th>\n",
       "      <td>1000_3</td>\n",
       "      <td>2018-09-21</td>\n",
       "      <td>14.0</td>\n",
       "      <td>1000</td>\n",
       "    </tr>\n",
       "    <tr>\n",
       "      <th>4</th>\n",
       "      <td>1000_4</td>\n",
       "      <td>2018-12-15</td>\n",
       "      <td>6.0</td>\n",
       "      <td>1000</td>\n",
       "    </tr>\n",
       "    <tr>\n",
       "      <th>...</th>\n",
       "      <td>...</td>\n",
       "      <td>...</td>\n",
       "      <td>...</td>\n",
       "      <td>...</td>\n",
       "    </tr>\n",
       "    <tr>\n",
       "      <th>202602</th>\n",
       "      <td>1499_215</td>\n",
       "      <td>2018-12-26</td>\n",
       "      <td>1.0</td>\n",
       "      <td>1499</td>\n",
       "    </tr>\n",
       "    <tr>\n",
       "      <th>202603</th>\n",
       "      <td>1499_216</td>\n",
       "      <td>2018-10-18</td>\n",
       "      <td>19.0</td>\n",
       "      <td>1499</td>\n",
       "    </tr>\n",
       "    <tr>\n",
       "      <th>202604</th>\n",
       "      <td>1499_217</td>\n",
       "      <td>2018-11-10</td>\n",
       "      <td>11.0</td>\n",
       "      <td>1499</td>\n",
       "    </tr>\n",
       "    <tr>\n",
       "      <th>202605</th>\n",
       "      <td>1499_218</td>\n",
       "      <td>2018-10-06</td>\n",
       "      <td>5.0</td>\n",
       "      <td>1499</td>\n",
       "    </tr>\n",
       "    <tr>\n",
       "      <th>202606</th>\n",
       "      <td>1499_219</td>\n",
       "      <td>2018-12-14</td>\n",
       "      <td>20.0</td>\n",
       "      <td>1499</td>\n",
       "    </tr>\n",
       "  </tbody>\n",
       "</table>\n",
       "<p>202607 rows × 4 columns</p>\n",
       "</div>"
      ],
      "text/plain": [
       "              id   call_date  duration  user_id\n",
       "0         1000_0  2018-07-25       0.0     1000\n",
       "1         1000_1  2018-08-17       0.0     1000\n",
       "2         1000_2  2018-06-11       3.0     1000\n",
       "3         1000_3  2018-09-21      14.0     1000\n",
       "4         1000_4  2018-12-15       6.0     1000\n",
       "...          ...         ...       ...      ...\n",
       "202602  1499_215  2018-12-26       1.0     1499\n",
       "202603  1499_216  2018-10-18      19.0     1499\n",
       "202604  1499_217  2018-11-10      11.0     1499\n",
       "202605  1499_218  2018-10-06       5.0     1499\n",
       "202606  1499_219  2018-12-14      20.0     1499\n",
       "\n",
       "[202607 rows x 4 columns]"
      ]
     },
     "metadata": {},
     "output_type": "display_data"
    }
   ],
   "source": [
    "#Округляем длительность звонуков в минуту в бОльшую сторону\n",
    "calls['duration'] = np.ceil(calls['duration'])\n",
    "display(calls)\n"
   ]
  },
  {
   "cell_type": "code",
   "execution_count": 5,
   "metadata": {},
   "outputs": [
    {
     "data": {
      "text/plain": [
       "(492,)"
      ]
     },
     "execution_count": 5,
     "metadata": {},
     "output_type": "execute_result"
    }
   ],
   "source": [
    "#Определяем количество клиентов, пользующихся услугой\n",
    "calls.user_id.unique().shape"
   ]
  },
  {
   "cell_type": "markdown",
   "metadata": {},
   "source": [
    "Восемь человек вообще не делали звонков за весь период."
   ]
  },
  {
   "cell_type": "code",
   "execution_count": 6,
   "metadata": {},
   "outputs": [
    {
     "data": {
      "text/html": [
       "<div>\n",
       "<style scoped>\n",
       "    .dataframe tbody tr th:only-of-type {\n",
       "        vertical-align: middle;\n",
       "    }\n",
       "\n",
       "    .dataframe tbody tr th {\n",
       "        vertical-align: top;\n",
       "    }\n",
       "\n",
       "    .dataframe thead th {\n",
       "        text-align: right;\n",
       "    }\n",
       "</style>\n",
       "<table border=\"1\" class=\"dataframe\">\n",
       "  <thead>\n",
       "    <tr style=\"text-align: right;\">\n",
       "      <th></th>\n",
       "      <th>Unnamed: 0</th>\n",
       "      <th>id</th>\n",
       "      <th>mb_used</th>\n",
       "      <th>session_date</th>\n",
       "      <th>user_id</th>\n",
       "    </tr>\n",
       "  </thead>\n",
       "  <tbody>\n",
       "    <tr>\n",
       "      <th>0</th>\n",
       "      <td>0</td>\n",
       "      <td>1000_0</td>\n",
       "      <td>112.95</td>\n",
       "      <td>2018-11-25</td>\n",
       "      <td>1000</td>\n",
       "    </tr>\n",
       "    <tr>\n",
       "      <th>1</th>\n",
       "      <td>1</td>\n",
       "      <td>1000_1</td>\n",
       "      <td>1052.81</td>\n",
       "      <td>2018-09-07</td>\n",
       "      <td>1000</td>\n",
       "    </tr>\n",
       "    <tr>\n",
       "      <th>2</th>\n",
       "      <td>2</td>\n",
       "      <td>1000_2</td>\n",
       "      <td>1197.26</td>\n",
       "      <td>2018-06-25</td>\n",
       "      <td>1000</td>\n",
       "    </tr>\n",
       "    <tr>\n",
       "      <th>3</th>\n",
       "      <td>3</td>\n",
       "      <td>1000_3</td>\n",
       "      <td>550.27</td>\n",
       "      <td>2018-08-22</td>\n",
       "      <td>1000</td>\n",
       "    </tr>\n",
       "    <tr>\n",
       "      <th>4</th>\n",
       "      <td>4</td>\n",
       "      <td>1000_4</td>\n",
       "      <td>302.56</td>\n",
       "      <td>2018-09-24</td>\n",
       "      <td>1000</td>\n",
       "    </tr>\n",
       "    <tr>\n",
       "      <th>...</th>\n",
       "      <td>...</td>\n",
       "      <td>...</td>\n",
       "      <td>...</td>\n",
       "      <td>...</td>\n",
       "      <td>...</td>\n",
       "    </tr>\n",
       "    <tr>\n",
       "      <th>149391</th>\n",
       "      <td>149391</td>\n",
       "      <td>1499_152</td>\n",
       "      <td>318.90</td>\n",
       "      <td>2018-10-03</td>\n",
       "      <td>1499</td>\n",
       "    </tr>\n",
       "    <tr>\n",
       "      <th>149392</th>\n",
       "      <td>149392</td>\n",
       "      <td>1499_153</td>\n",
       "      <td>490.13</td>\n",
       "      <td>2018-12-14</td>\n",
       "      <td>1499</td>\n",
       "    </tr>\n",
       "    <tr>\n",
       "      <th>149393</th>\n",
       "      <td>149393</td>\n",
       "      <td>1499_154</td>\n",
       "      <td>0.00</td>\n",
       "      <td>2018-10-27</td>\n",
       "      <td>1499</td>\n",
       "    </tr>\n",
       "    <tr>\n",
       "      <th>149394</th>\n",
       "      <td>149394</td>\n",
       "      <td>1499_155</td>\n",
       "      <td>1246.32</td>\n",
       "      <td>2018-11-26</td>\n",
       "      <td>1499</td>\n",
       "    </tr>\n",
       "    <tr>\n",
       "      <th>149395</th>\n",
       "      <td>149395</td>\n",
       "      <td>1499_156</td>\n",
       "      <td>544.37</td>\n",
       "      <td>2018-10-26</td>\n",
       "      <td>1499</td>\n",
       "    </tr>\n",
       "  </tbody>\n",
       "</table>\n",
       "<p>149396 rows × 5 columns</p>\n",
       "</div>"
      ],
      "text/plain": [
       "        Unnamed: 0        id  mb_used session_date  user_id\n",
       "0                0    1000_0   112.95   2018-11-25     1000\n",
       "1                1    1000_1  1052.81   2018-09-07     1000\n",
       "2                2    1000_2  1197.26   2018-06-25     1000\n",
       "3                3    1000_3   550.27   2018-08-22     1000\n",
       "4                4    1000_4   302.56   2018-09-24     1000\n",
       "...            ...       ...      ...          ...      ...\n",
       "149391      149391  1499_152   318.90   2018-10-03     1499\n",
       "149392      149392  1499_153   490.13   2018-12-14     1499\n",
       "149393      149393  1499_154     0.00   2018-10-27     1499\n",
       "149394      149394  1499_155  1246.32   2018-11-26     1499\n",
       "149395      149395  1499_156   544.37   2018-10-26     1499\n",
       "\n",
       "[149396 rows x 5 columns]"
      ]
     },
     "metadata": {},
     "output_type": "display_data"
    },
    {
     "name": "stdout",
     "output_type": "stream",
     "text": [
      "<class 'pandas.core.frame.DataFrame'>\n",
      "RangeIndex: 149396 entries, 0 to 149395\n",
      "Data columns (total 5 columns):\n",
      " #   Column        Non-Null Count   Dtype  \n",
      "---  ------        --------------   -----  \n",
      " 0   Unnamed: 0    149396 non-null  int64  \n",
      " 1   id            149396 non-null  object \n",
      " 2   mb_used       149396 non-null  float64\n",
      " 3   session_date  149396 non-null  object \n",
      " 4   user_id       149396 non-null  int64  \n",
      "dtypes: float64(1), int64(2), object(2)\n",
      "memory usage: 5.7+ MB\n"
     ]
    }
   ],
   "source": [
    "display(internet)\n",
    "internet.info()"
   ]
  },
  {
   "cell_type": "code",
   "execution_count": 7,
   "metadata": {},
   "outputs": [
    {
     "data": {
      "text/plain": [
       "(497,)"
      ]
     },
     "execution_count": 7,
     "metadata": {},
     "output_type": "execute_result"
    }
   ],
   "source": [
    "#Определяем количество клиентов, пользующихся услугой\n",
    "internet.user_id.unique().shape"
   ]
  },
  {
   "cell_type": "markdown",
   "metadata": {},
   "source": [
    "Три человека не пользовались интернетом."
   ]
  },
  {
   "cell_type": "code",
   "execution_count": 8,
   "metadata": {},
   "outputs": [
    {
     "data": {
      "text/html": [
       "<div>\n",
       "<style scoped>\n",
       "    .dataframe tbody tr th:only-of-type {\n",
       "        vertical-align: middle;\n",
       "    }\n",
       "\n",
       "    .dataframe tbody tr th {\n",
       "        vertical-align: top;\n",
       "    }\n",
       "\n",
       "    .dataframe thead th {\n",
       "        text-align: right;\n",
       "    }\n",
       "</style>\n",
       "<table border=\"1\" class=\"dataframe\">\n",
       "  <thead>\n",
       "    <tr style=\"text-align: right;\">\n",
       "      <th></th>\n",
       "      <th>id</th>\n",
       "      <th>message_date</th>\n",
       "      <th>user_id</th>\n",
       "    </tr>\n",
       "  </thead>\n",
       "  <tbody>\n",
       "    <tr>\n",
       "      <th>0</th>\n",
       "      <td>1000_0</td>\n",
       "      <td>2018-06-27</td>\n",
       "      <td>1000</td>\n",
       "    </tr>\n",
       "    <tr>\n",
       "      <th>1</th>\n",
       "      <td>1000_1</td>\n",
       "      <td>2018-10-08</td>\n",
       "      <td>1000</td>\n",
       "    </tr>\n",
       "    <tr>\n",
       "      <th>2</th>\n",
       "      <td>1000_2</td>\n",
       "      <td>2018-08-04</td>\n",
       "      <td>1000</td>\n",
       "    </tr>\n",
       "    <tr>\n",
       "      <th>3</th>\n",
       "      <td>1000_3</td>\n",
       "      <td>2018-06-16</td>\n",
       "      <td>1000</td>\n",
       "    </tr>\n",
       "    <tr>\n",
       "      <th>4</th>\n",
       "      <td>1000_4</td>\n",
       "      <td>2018-12-05</td>\n",
       "      <td>1000</td>\n",
       "    </tr>\n",
       "    <tr>\n",
       "      <th>...</th>\n",
       "      <td>...</td>\n",
       "      <td>...</td>\n",
       "      <td>...</td>\n",
       "    </tr>\n",
       "    <tr>\n",
       "      <th>123031</th>\n",
       "      <td>1499_179</td>\n",
       "      <td>2018-12-12</td>\n",
       "      <td>1499</td>\n",
       "    </tr>\n",
       "    <tr>\n",
       "      <th>123032</th>\n",
       "      <td>1499_180</td>\n",
       "      <td>2018-09-28</td>\n",
       "      <td>1499</td>\n",
       "    </tr>\n",
       "    <tr>\n",
       "      <th>123033</th>\n",
       "      <td>1499_181</td>\n",
       "      <td>2018-09-27</td>\n",
       "      <td>1499</td>\n",
       "    </tr>\n",
       "    <tr>\n",
       "      <th>123034</th>\n",
       "      <td>1499_182</td>\n",
       "      <td>2018-11-15</td>\n",
       "      <td>1499</td>\n",
       "    </tr>\n",
       "    <tr>\n",
       "      <th>123035</th>\n",
       "      <td>1499_183</td>\n",
       "      <td>2018-11-16</td>\n",
       "      <td>1499</td>\n",
       "    </tr>\n",
       "  </tbody>\n",
       "</table>\n",
       "<p>123036 rows × 3 columns</p>\n",
       "</div>"
      ],
      "text/plain": [
       "              id message_date  user_id\n",
       "0         1000_0   2018-06-27     1000\n",
       "1         1000_1   2018-10-08     1000\n",
       "2         1000_2   2018-08-04     1000\n",
       "3         1000_3   2018-06-16     1000\n",
       "4         1000_4   2018-12-05     1000\n",
       "...          ...          ...      ...\n",
       "123031  1499_179   2018-12-12     1499\n",
       "123032  1499_180   2018-09-28     1499\n",
       "123033  1499_181   2018-09-27     1499\n",
       "123034  1499_182   2018-11-15     1499\n",
       "123035  1499_183   2018-11-16     1499\n",
       "\n",
       "[123036 rows x 3 columns]"
      ]
     },
     "metadata": {},
     "output_type": "display_data"
    },
    {
     "name": "stdout",
     "output_type": "stream",
     "text": [
      "<class 'pandas.core.frame.DataFrame'>\n",
      "RangeIndex: 123036 entries, 0 to 123035\n",
      "Data columns (total 3 columns):\n",
      " #   Column        Non-Null Count   Dtype \n",
      "---  ------        --------------   ----- \n",
      " 0   id            123036 non-null  object\n",
      " 1   message_date  123036 non-null  object\n",
      " 2   user_id       123036 non-null  int64 \n",
      "dtypes: int64(1), object(2)\n",
      "memory usage: 2.8+ MB\n"
     ]
    }
   ],
   "source": [
    "display(messages)\n",
    "messages.info()\n",
    " "
   ]
  },
  {
   "cell_type": "code",
   "execution_count": 9,
   "metadata": {},
   "outputs": [
    {
     "data": {
      "text/plain": [
       "(426,)"
      ]
     },
     "execution_count": 9,
     "metadata": {},
     "output_type": "execute_result"
    }
   ],
   "source": [
    "#Определяем количество клиентов, пользующихся услугой\n",
    "messages.user_id.unique().shape"
   ]
  },
  {
   "cell_type": "markdown",
   "metadata": {},
   "source": [
    "74 человека не пользовались смс."
   ]
  },
  {
   "cell_type": "code",
   "execution_count": 10,
   "metadata": {},
   "outputs": [
    {
     "data": {
      "text/html": [
       "<div>\n",
       "<style scoped>\n",
       "    .dataframe tbody tr th:only-of-type {\n",
       "        vertical-align: middle;\n",
       "    }\n",
       "\n",
       "    .dataframe tbody tr th {\n",
       "        vertical-align: top;\n",
       "    }\n",
       "\n",
       "    .dataframe thead th {\n",
       "        text-align: right;\n",
       "    }\n",
       "</style>\n",
       "<table border=\"1\" class=\"dataframe\">\n",
       "  <thead>\n",
       "    <tr style=\"text-align: right;\">\n",
       "      <th></th>\n",
       "      <th>messages_included</th>\n",
       "      <th>mb_per_month_included</th>\n",
       "      <th>minutes_included</th>\n",
       "      <th>rub_monthly_fee</th>\n",
       "      <th>rub_per_gb</th>\n",
       "      <th>rub_per_message</th>\n",
       "      <th>rub_per_minute</th>\n",
       "      <th>tariff_name</th>\n",
       "    </tr>\n",
       "  </thead>\n",
       "  <tbody>\n",
       "    <tr>\n",
       "      <th>0</th>\n",
       "      <td>50</td>\n",
       "      <td>15360</td>\n",
       "      <td>500</td>\n",
       "      <td>550</td>\n",
       "      <td>200</td>\n",
       "      <td>3</td>\n",
       "      <td>3</td>\n",
       "      <td>smart</td>\n",
       "    </tr>\n",
       "    <tr>\n",
       "      <th>1</th>\n",
       "      <td>1000</td>\n",
       "      <td>30720</td>\n",
       "      <td>3000</td>\n",
       "      <td>1950</td>\n",
       "      <td>150</td>\n",
       "      <td>1</td>\n",
       "      <td>1</td>\n",
       "      <td>ultra</td>\n",
       "    </tr>\n",
       "  </tbody>\n",
       "</table>\n",
       "</div>"
      ],
      "text/plain": [
       "   messages_included  mb_per_month_included  minutes_included  \\\n",
       "0                 50                  15360               500   \n",
       "1               1000                  30720              3000   \n",
       "\n",
       "   rub_monthly_fee  rub_per_gb  rub_per_message  rub_per_minute tariff_name  \n",
       "0              550         200                3               3       smart  \n",
       "1             1950         150                1               1       ultra  "
      ]
     },
     "metadata": {},
     "output_type": "display_data"
    },
    {
     "name": "stdout",
     "output_type": "stream",
     "text": [
      "<class 'pandas.core.frame.DataFrame'>\n",
      "RangeIndex: 2 entries, 0 to 1\n",
      "Data columns (total 8 columns):\n",
      " #   Column                 Non-Null Count  Dtype \n",
      "---  ------                 --------------  ----- \n",
      " 0   messages_included      2 non-null      int64 \n",
      " 1   mb_per_month_included  2 non-null      int64 \n",
      " 2   minutes_included       2 non-null      int64 \n",
      " 3   rub_monthly_fee        2 non-null      int64 \n",
      " 4   rub_per_gb             2 non-null      int64 \n",
      " 5   rub_per_message        2 non-null      int64 \n",
      " 6   rub_per_minute         2 non-null      int64 \n",
      " 7   tariff_name            2 non-null      object\n",
      "dtypes: int64(7), object(1)\n",
      "memory usage: 256.0+ bytes\n"
     ]
    }
   ],
   "source": [
    "display(tariffs)\n",
    "tariffs.info()"
   ]
  },
  {
   "cell_type": "code",
   "execution_count": 11,
   "metadata": {},
   "outputs": [
    {
     "data": {
      "text/html": [
       "<div>\n",
       "<style scoped>\n",
       "    .dataframe tbody tr th:only-of-type {\n",
       "        vertical-align: middle;\n",
       "    }\n",
       "\n",
       "    .dataframe tbody tr th {\n",
       "        vertical-align: top;\n",
       "    }\n",
       "\n",
       "    .dataframe thead th {\n",
       "        text-align: right;\n",
       "    }\n",
       "</style>\n",
       "<table border=\"1\" class=\"dataframe\">\n",
       "  <thead>\n",
       "    <tr style=\"text-align: right;\">\n",
       "      <th></th>\n",
       "      <th>user_id</th>\n",
       "      <th>age</th>\n",
       "      <th>churn_date</th>\n",
       "      <th>city</th>\n",
       "      <th>first_name</th>\n",
       "      <th>last_name</th>\n",
       "      <th>reg_date</th>\n",
       "      <th>tariff</th>\n",
       "    </tr>\n",
       "  </thead>\n",
       "  <tbody>\n",
       "    <tr>\n",
       "      <th>0</th>\n",
       "      <td>1000</td>\n",
       "      <td>52</td>\n",
       "      <td>NaN</td>\n",
       "      <td>Краснодар</td>\n",
       "      <td>Рафаил</td>\n",
       "      <td>Верещагин</td>\n",
       "      <td>2018-05-25</td>\n",
       "      <td>ultra</td>\n",
       "    </tr>\n",
       "    <tr>\n",
       "      <th>1</th>\n",
       "      <td>1001</td>\n",
       "      <td>41</td>\n",
       "      <td>NaN</td>\n",
       "      <td>Москва</td>\n",
       "      <td>Иван</td>\n",
       "      <td>Ежов</td>\n",
       "      <td>2018-11-01</td>\n",
       "      <td>smart</td>\n",
       "    </tr>\n",
       "    <tr>\n",
       "      <th>2</th>\n",
       "      <td>1002</td>\n",
       "      <td>59</td>\n",
       "      <td>NaN</td>\n",
       "      <td>Стерлитамак</td>\n",
       "      <td>Евгений</td>\n",
       "      <td>Абрамович</td>\n",
       "      <td>2018-06-17</td>\n",
       "      <td>smart</td>\n",
       "    </tr>\n",
       "    <tr>\n",
       "      <th>3</th>\n",
       "      <td>1003</td>\n",
       "      <td>23</td>\n",
       "      <td>NaN</td>\n",
       "      <td>Москва</td>\n",
       "      <td>Белла</td>\n",
       "      <td>Белякова</td>\n",
       "      <td>2018-08-17</td>\n",
       "      <td>ultra</td>\n",
       "    </tr>\n",
       "    <tr>\n",
       "      <th>4</th>\n",
       "      <td>1004</td>\n",
       "      <td>68</td>\n",
       "      <td>NaN</td>\n",
       "      <td>Новокузнецк</td>\n",
       "      <td>Татьяна</td>\n",
       "      <td>Авдеенко</td>\n",
       "      <td>2018-05-14</td>\n",
       "      <td>ultra</td>\n",
       "    </tr>\n",
       "    <tr>\n",
       "      <th>...</th>\n",
       "      <td>...</td>\n",
       "      <td>...</td>\n",
       "      <td>...</td>\n",
       "      <td>...</td>\n",
       "      <td>...</td>\n",
       "      <td>...</td>\n",
       "      <td>...</td>\n",
       "      <td>...</td>\n",
       "    </tr>\n",
       "    <tr>\n",
       "      <th>495</th>\n",
       "      <td>1495</td>\n",
       "      <td>65</td>\n",
       "      <td>NaN</td>\n",
       "      <td>Иркутск</td>\n",
       "      <td>Авксентий</td>\n",
       "      <td>Фокин</td>\n",
       "      <td>2018-08-28</td>\n",
       "      <td>ultra</td>\n",
       "    </tr>\n",
       "    <tr>\n",
       "      <th>496</th>\n",
       "      <td>1496</td>\n",
       "      <td>36</td>\n",
       "      <td>NaN</td>\n",
       "      <td>Вологда</td>\n",
       "      <td>Трифон</td>\n",
       "      <td>Блохин</td>\n",
       "      <td>2018-01-27</td>\n",
       "      <td>smart</td>\n",
       "    </tr>\n",
       "    <tr>\n",
       "      <th>497</th>\n",
       "      <td>1497</td>\n",
       "      <td>32</td>\n",
       "      <td>NaN</td>\n",
       "      <td>Челябинск</td>\n",
       "      <td>Каролина</td>\n",
       "      <td>Агеева</td>\n",
       "      <td>2018-10-09</td>\n",
       "      <td>smart</td>\n",
       "    </tr>\n",
       "    <tr>\n",
       "      <th>498</th>\n",
       "      <td>1498</td>\n",
       "      <td>68</td>\n",
       "      <td>2018-10-25</td>\n",
       "      <td>Владикавказ</td>\n",
       "      <td>Всеволод</td>\n",
       "      <td>Акимчин</td>\n",
       "      <td>2018-07-19</td>\n",
       "      <td>smart</td>\n",
       "    </tr>\n",
       "    <tr>\n",
       "      <th>499</th>\n",
       "      <td>1499</td>\n",
       "      <td>35</td>\n",
       "      <td>NaN</td>\n",
       "      <td>Пермь</td>\n",
       "      <td>Гектор</td>\n",
       "      <td>Корнилов</td>\n",
       "      <td>2018-09-27</td>\n",
       "      <td>smart</td>\n",
       "    </tr>\n",
       "  </tbody>\n",
       "</table>\n",
       "<p>500 rows × 8 columns</p>\n",
       "</div>"
      ],
      "text/plain": [
       "     user_id  age  churn_date         city first_name  last_name    reg_date  \\\n",
       "0       1000   52         NaN    Краснодар     Рафаил  Верещагин  2018-05-25   \n",
       "1       1001   41         NaN       Москва       Иван       Ежов  2018-11-01   \n",
       "2       1002   59         NaN  Стерлитамак    Евгений  Абрамович  2018-06-17   \n",
       "3       1003   23         NaN       Москва      Белла   Белякова  2018-08-17   \n",
       "4       1004   68         NaN  Новокузнецк    Татьяна   Авдеенко  2018-05-14   \n",
       "..       ...  ...         ...          ...        ...        ...         ...   \n",
       "495     1495   65         NaN      Иркутск  Авксентий      Фокин  2018-08-28   \n",
       "496     1496   36         NaN      Вологда     Трифон     Блохин  2018-01-27   \n",
       "497     1497   32         NaN    Челябинск   Каролина     Агеева  2018-10-09   \n",
       "498     1498   68  2018-10-25  Владикавказ   Всеволод    Акимчин  2018-07-19   \n",
       "499     1499   35         NaN        Пермь     Гектор   Корнилов  2018-09-27   \n",
       "\n",
       "    tariff  \n",
       "0    ultra  \n",
       "1    smart  \n",
       "2    smart  \n",
       "3    ultra  \n",
       "4    ultra  \n",
       "..     ...  \n",
       "495  ultra  \n",
       "496  smart  \n",
       "497  smart  \n",
       "498  smart  \n",
       "499  smart  \n",
       "\n",
       "[500 rows x 8 columns]"
      ]
     },
     "metadata": {},
     "output_type": "display_data"
    },
    {
     "name": "stdout",
     "output_type": "stream",
     "text": [
      "<class 'pandas.core.frame.DataFrame'>\n",
      "RangeIndex: 500 entries, 0 to 499\n",
      "Data columns (total 8 columns):\n",
      " #   Column      Non-Null Count  Dtype \n",
      "---  ------      --------------  ----- \n",
      " 0   user_id     500 non-null    int64 \n",
      " 1   age         500 non-null    int64 \n",
      " 2   churn_date  38 non-null     object\n",
      " 3   city        500 non-null    object\n",
      " 4   first_name  500 non-null    object\n",
      " 5   last_name   500 non-null    object\n",
      " 6   reg_date    500 non-null    object\n",
      " 7   tariff      500 non-null    object\n",
      "dtypes: int64(2), object(6)\n",
      "memory usage: 31.4+ KB\n"
     ]
    }
   ],
   "source": [
    "display(users)\n",
    "users.info()"
   ]
  },
  {
   "cell_type": "markdown",
   "metadata": {},
   "source": [
    "### Проверяем данные на наличие клиентов, которые вообще не пользовались услугами, предоставляемыми компанией."
   ]
  },
  {
   "cell_type": "code",
   "execution_count": 12,
   "metadata": {},
   "outputs": [],
   "source": [
    "def gone_customers (table_1, table_2, col_1, col_2):\n",
    "    test_table = table_1.merge(table_2, on = col_1, how = 'left').groupby(col_1)[col_2].count().reset_index()\n",
    "    result_table = test_table[test_table[col_2] == 0]\n",
    "\n",
    "    return result_table\n"
   ]
  },
  {
   "cell_type": "code",
   "execution_count": 13,
   "metadata": {},
   "outputs": [
    {
     "data": {
      "text/html": [
       "<div>\n",
       "<style scoped>\n",
       "    .dataframe tbody tr th:only-of-type {\n",
       "        vertical-align: middle;\n",
       "    }\n",
       "\n",
       "    .dataframe tbody tr th {\n",
       "        vertical-align: top;\n",
       "    }\n",
       "\n",
       "    .dataframe thead th {\n",
       "        text-align: right;\n",
       "    }\n",
       "</style>\n",
       "<table border=\"1\" class=\"dataframe\">\n",
       "  <thead>\n",
       "    <tr style=\"text-align: right;\">\n",
       "      <th></th>\n",
       "      <th>user_id</th>\n",
       "      <th>duration</th>\n",
       "    </tr>\n",
       "  </thead>\n",
       "  <tbody>\n",
       "    <tr>\n",
       "      <th>91</th>\n",
       "      <td>1091</td>\n",
       "      <td>0</td>\n",
       "    </tr>\n",
       "    <tr>\n",
       "      <th>106</th>\n",
       "      <td>1106</td>\n",
       "      <td>0</td>\n",
       "    </tr>\n",
       "    <tr>\n",
       "      <th>128</th>\n",
       "      <td>1128</td>\n",
       "      <td>0</td>\n",
       "    </tr>\n",
       "    <tr>\n",
       "      <th>231</th>\n",
       "      <td>1231</td>\n",
       "      <td>0</td>\n",
       "    </tr>\n",
       "    <tr>\n",
       "      <th>328</th>\n",
       "      <td>1328</td>\n",
       "      <td>0</td>\n",
       "    </tr>\n",
       "    <tr>\n",
       "      <th>371</th>\n",
       "      <td>1371</td>\n",
       "      <td>0</td>\n",
       "    </tr>\n",
       "    <tr>\n",
       "      <th>473</th>\n",
       "      <td>1473</td>\n",
       "      <td>0</td>\n",
       "    </tr>\n",
       "    <tr>\n",
       "      <th>489</th>\n",
       "      <td>1489</td>\n",
       "      <td>0</td>\n",
       "    </tr>\n",
       "  </tbody>\n",
       "</table>\n",
       "</div>"
      ],
      "text/plain": [
       "     user_id  duration\n",
       "91      1091         0\n",
       "106     1106         0\n",
       "128     1128         0\n",
       "231     1231         0\n",
       "328     1328         0\n",
       "371     1371         0\n",
       "473     1473         0\n",
       "489     1489         0"
      ]
     },
     "execution_count": 13,
     "metadata": {},
     "output_type": "execute_result"
    }
   ],
   "source": [
    "#Выявляем тех, кто не звонил.\n",
    "not_using_calls = gone_customers (users, calls, 'user_id', 'duration')\n",
    "not_using_calls"
   ]
  },
  {
   "cell_type": "code",
   "execution_count": 14,
   "metadata": {},
   "outputs": [
    {
     "data": {
      "text/html": [
       "<div>\n",
       "<style scoped>\n",
       "    .dataframe tbody tr th:only-of-type {\n",
       "        vertical-align: middle;\n",
       "    }\n",
       "\n",
       "    .dataframe tbody tr th {\n",
       "        vertical-align: top;\n",
       "    }\n",
       "\n",
       "    .dataframe thead th {\n",
       "        text-align: right;\n",
       "    }\n",
       "</style>\n",
       "<table border=\"1\" class=\"dataframe\">\n",
       "  <thead>\n",
       "    <tr style=\"text-align: right;\">\n",
       "      <th></th>\n",
       "      <th>user_id</th>\n",
       "      <th>mb_used</th>\n",
       "    </tr>\n",
       "  </thead>\n",
       "  <tbody>\n",
       "    <tr>\n",
       "      <th>128</th>\n",
       "      <td>1128</td>\n",
       "      <td>0</td>\n",
       "    </tr>\n",
       "    <tr>\n",
       "      <th>273</th>\n",
       "      <td>1273</td>\n",
       "      <td>0</td>\n",
       "    </tr>\n",
       "    <tr>\n",
       "      <th>371</th>\n",
       "      <td>1371</td>\n",
       "      <td>0</td>\n",
       "    </tr>\n",
       "  </tbody>\n",
       "</table>\n",
       "</div>"
      ],
      "text/plain": [
       "     user_id  mb_used\n",
       "128     1128        0\n",
       "273     1273        0\n",
       "371     1371        0"
      ]
     },
     "execution_count": 14,
     "metadata": {},
     "output_type": "execute_result"
    }
   ],
   "source": [
    "#Выявляем тех, кто не пользовался интернетом.\n",
    "not_using_internet = gone_customers (users, internet, 'user_id', 'mb_used')\n",
    "not_using_internet"
   ]
  },
  {
   "cell_type": "code",
   "execution_count": 15,
   "metadata": {},
   "outputs": [
    {
     "data": {
      "text/html": [
       "<div>\n",
       "<style scoped>\n",
       "    .dataframe tbody tr th:only-of-type {\n",
       "        vertical-align: middle;\n",
       "    }\n",
       "\n",
       "    .dataframe tbody tr th {\n",
       "        vertical-align: top;\n",
       "    }\n",
       "\n",
       "    .dataframe thead th {\n",
       "        text-align: right;\n",
       "    }\n",
       "</style>\n",
       "<table border=\"1\" class=\"dataframe\">\n",
       "  <thead>\n",
       "    <tr style=\"text-align: right;\">\n",
       "      <th></th>\n",
       "      <th>user_id</th>\n",
       "      <th>id</th>\n",
       "    </tr>\n",
       "  </thead>\n",
       "  <tbody>\n",
       "    <tr>\n",
       "      <th>1</th>\n",
       "      <td>1001</td>\n",
       "      <td>0</td>\n",
       "    </tr>\n",
       "    <tr>\n",
       "      <th>6</th>\n",
       "      <td>1006</td>\n",
       "      <td>0</td>\n",
       "    </tr>\n",
       "    <tr>\n",
       "      <th>10</th>\n",
       "      <td>1010</td>\n",
       "      <td>0</td>\n",
       "    </tr>\n",
       "    <tr>\n",
       "      <th>17</th>\n",
       "      <td>1017</td>\n",
       "      <td>0</td>\n",
       "    </tr>\n",
       "    <tr>\n",
       "      <th>24</th>\n",
       "      <td>1024</td>\n",
       "      <td>0</td>\n",
       "    </tr>\n",
       "    <tr>\n",
       "      <th>...</th>\n",
       "      <td>...</td>\n",
       "      <td>...</td>\n",
       "    </tr>\n",
       "    <tr>\n",
       "      <th>462</th>\n",
       "      <td>1462</td>\n",
       "      <td>0</td>\n",
       "    </tr>\n",
       "    <tr>\n",
       "      <th>466</th>\n",
       "      <td>1466</td>\n",
       "      <td>0</td>\n",
       "    </tr>\n",
       "    <tr>\n",
       "      <th>469</th>\n",
       "      <td>1469</td>\n",
       "      <td>0</td>\n",
       "    </tr>\n",
       "    <tr>\n",
       "      <th>479</th>\n",
       "      <td>1479</td>\n",
       "      <td>0</td>\n",
       "    </tr>\n",
       "    <tr>\n",
       "      <th>494</th>\n",
       "      <td>1494</td>\n",
       "      <td>0</td>\n",
       "    </tr>\n",
       "  </tbody>\n",
       "</table>\n",
       "<p>74 rows × 2 columns</p>\n",
       "</div>"
      ],
      "text/plain": [
       "     user_id  id\n",
       "1       1001   0\n",
       "6       1006   0\n",
       "10      1010   0\n",
       "17      1017   0\n",
       "24      1024   0\n",
       "..       ...  ..\n",
       "462     1462   0\n",
       "466     1466   0\n",
       "469     1469   0\n",
       "479     1479   0\n",
       "494     1494   0\n",
       "\n",
       "[74 rows x 2 columns]"
      ]
     },
     "execution_count": 15,
     "metadata": {},
     "output_type": "execute_result"
    }
   ],
   "source": [
    "#Выявляем тех, кто не пользовался смс.\n",
    "not_using_messages = gone_customers (users, messages, 'user_id', 'id')\n",
    "not_using_messages"
   ]
  },
  {
   "cell_type": "code",
   "execution_count": 16,
   "metadata": {},
   "outputs": [
    {
     "data": {
      "text/html": [
       "<div>\n",
       "<style scoped>\n",
       "    .dataframe tbody tr th:only-of-type {\n",
       "        vertical-align: middle;\n",
       "    }\n",
       "\n",
       "    .dataframe tbody tr th {\n",
       "        vertical-align: top;\n",
       "    }\n",
       "\n",
       "    .dataframe thead th {\n",
       "        text-align: right;\n",
       "    }\n",
       "</style>\n",
       "<table border=\"1\" class=\"dataframe\">\n",
       "  <thead>\n",
       "    <tr style=\"text-align: right;\">\n",
       "      <th></th>\n",
       "      <th>user_id</th>\n",
       "      <th>mb_used</th>\n",
       "      <th>duration</th>\n",
       "      <th>id</th>\n",
       "    </tr>\n",
       "  </thead>\n",
       "  <tbody>\n",
       "    <tr>\n",
       "      <th>0</th>\n",
       "      <td>1128</td>\n",
       "      <td>0</td>\n",
       "      <td>0.0</td>\n",
       "      <td>0.0</td>\n",
       "    </tr>\n",
       "    <tr>\n",
       "      <th>1</th>\n",
       "      <td>1273</td>\n",
       "      <td>0</td>\n",
       "      <td>NaN</td>\n",
       "      <td>NaN</td>\n",
       "    </tr>\n",
       "    <tr>\n",
       "      <th>2</th>\n",
       "      <td>1371</td>\n",
       "      <td>0</td>\n",
       "      <td>0.0</td>\n",
       "      <td>0.0</td>\n",
       "    </tr>\n",
       "  </tbody>\n",
       "</table>\n",
       "</div>"
      ],
      "text/plain": [
       "   user_id  mb_used  duration   id\n",
       "0     1128        0       0.0  0.0\n",
       "1     1273        0       NaN  NaN\n",
       "2     1371        0       0.0  0.0"
      ]
     },
     "execution_count": 16,
     "metadata": {},
     "output_type": "execute_result"
    }
   ],
   "source": [
    "#Выявляем тех, кто не пользовался ни одной услугой компании\n",
    "missed_clients = not_using_internet.merge(not_using_calls, on = 'user_id', how = 'left')\n",
    "missed_clients_2 = missed_clients.merge(not_using_messages, on = 'user_id', how = 'left')\n",
    "missed_clients_2"
   ]
  },
  {
   "cell_type": "markdown",
   "metadata": {},
   "source": [
    "Два клиента точно не пользовались никакими услугами компании."
   ]
  },
  {
   "cell_type": "markdown",
   "metadata": {},
   "source": [
    "## Предобработка данных.<a id=\"data_preparation\"></a>"
   ]
  },
  {
   "cell_type": "markdown",
   "metadata": {},
   "source": [
    "### Приводим данные к нужным типам"
   ]
  },
  {
   "cell_type": "code",
   "execution_count": 17,
   "metadata": {},
   "outputs": [
    {
     "name": "stdout",
     "output_type": "stream",
     "text": [
      "<class 'pandas.core.frame.DataFrame'>\n",
      "RangeIndex: 202607 entries, 0 to 202606\n",
      "Data columns (total 4 columns):\n",
      " #   Column     Non-Null Count   Dtype         \n",
      "---  ------     --------------   -----         \n",
      " 0   id         202607 non-null  int32         \n",
      " 1   call_date  202607 non-null  datetime64[ns]\n",
      " 2   duration   202607 non-null  float64       \n",
      " 3   user_id    202607 non-null  int64         \n",
      "dtypes: datetime64[ns](1), float64(1), int32(1), int64(1)\n",
      "memory usage: 5.4 MB\n"
     ]
    }
   ],
   "source": [
    "#Приводим данные к нужным типам в таблице calls\n",
    "calls['id'] = calls['id'].astype(int)\n",
    "calls['call_date'] = pd.to_datetime(calls['call_date'], format='%Y-%m-%dT%H:%M:%S')\n",
    "calls.info()"
   ]
  },
  {
   "cell_type": "code",
   "execution_count": 18,
   "metadata": {},
   "outputs": [
    {
     "name": "stdout",
     "output_type": "stream",
     "text": [
      "<class 'pandas.core.frame.DataFrame'>\n",
      "RangeIndex: 149396 entries, 0 to 149395\n",
      "Data columns (total 5 columns):\n",
      " #   Column        Non-Null Count   Dtype         \n",
      "---  ------        --------------   -----         \n",
      " 0   Unnamed: 0    149396 non-null  int64         \n",
      " 1   id            149396 non-null  object        \n",
      " 2   mb_used       149396 non-null  float64       \n",
      " 3   session_date  149396 non-null  datetime64[ns]\n",
      " 4   user_id       149396 non-null  int64         \n",
      "dtypes: datetime64[ns](1), float64(1), int64(2), object(1)\n",
      "memory usage: 5.7+ MB\n"
     ]
    },
    {
     "data": {
      "text/html": [
       "<div>\n",
       "<style scoped>\n",
       "    .dataframe tbody tr th:only-of-type {\n",
       "        vertical-align: middle;\n",
       "    }\n",
       "\n",
       "    .dataframe tbody tr th {\n",
       "        vertical-align: top;\n",
       "    }\n",
       "\n",
       "    .dataframe thead th {\n",
       "        text-align: right;\n",
       "    }\n",
       "</style>\n",
       "<table border=\"1\" class=\"dataframe\">\n",
       "  <thead>\n",
       "    <tr style=\"text-align: right;\">\n",
       "      <th></th>\n",
       "      <th>Unnamed: 0</th>\n",
       "      <th>id</th>\n",
       "      <th>mb_used</th>\n",
       "      <th>session_date</th>\n",
       "      <th>user_id</th>\n",
       "    </tr>\n",
       "  </thead>\n",
       "  <tbody>\n",
       "    <tr>\n",
       "      <th>0</th>\n",
       "      <td>0</td>\n",
       "      <td>1000_0</td>\n",
       "      <td>112.95</td>\n",
       "      <td>2018-11-25</td>\n",
       "      <td>1000</td>\n",
       "    </tr>\n",
       "    <tr>\n",
       "      <th>1</th>\n",
       "      <td>1</td>\n",
       "      <td>1000_1</td>\n",
       "      <td>1052.81</td>\n",
       "      <td>2018-09-07</td>\n",
       "      <td>1000</td>\n",
       "    </tr>\n",
       "    <tr>\n",
       "      <th>2</th>\n",
       "      <td>2</td>\n",
       "      <td>1000_2</td>\n",
       "      <td>1197.26</td>\n",
       "      <td>2018-06-25</td>\n",
       "      <td>1000</td>\n",
       "    </tr>\n",
       "    <tr>\n",
       "      <th>3</th>\n",
       "      <td>3</td>\n",
       "      <td>1000_3</td>\n",
       "      <td>550.27</td>\n",
       "      <td>2018-08-22</td>\n",
       "      <td>1000</td>\n",
       "    </tr>\n",
       "    <tr>\n",
       "      <th>4</th>\n",
       "      <td>4</td>\n",
       "      <td>1000_4</td>\n",
       "      <td>302.56</td>\n",
       "      <td>2018-09-24</td>\n",
       "      <td>1000</td>\n",
       "    </tr>\n",
       "    <tr>\n",
       "      <th>...</th>\n",
       "      <td>...</td>\n",
       "      <td>...</td>\n",
       "      <td>...</td>\n",
       "      <td>...</td>\n",
       "      <td>...</td>\n",
       "    </tr>\n",
       "    <tr>\n",
       "      <th>149391</th>\n",
       "      <td>149391</td>\n",
       "      <td>1499_152</td>\n",
       "      <td>318.90</td>\n",
       "      <td>2018-10-03</td>\n",
       "      <td>1499</td>\n",
       "    </tr>\n",
       "    <tr>\n",
       "      <th>149392</th>\n",
       "      <td>149392</td>\n",
       "      <td>1499_153</td>\n",
       "      <td>490.13</td>\n",
       "      <td>2018-12-14</td>\n",
       "      <td>1499</td>\n",
       "    </tr>\n",
       "    <tr>\n",
       "      <th>149393</th>\n",
       "      <td>149393</td>\n",
       "      <td>1499_154</td>\n",
       "      <td>0.00</td>\n",
       "      <td>2018-10-27</td>\n",
       "      <td>1499</td>\n",
       "    </tr>\n",
       "    <tr>\n",
       "      <th>149394</th>\n",
       "      <td>149394</td>\n",
       "      <td>1499_155</td>\n",
       "      <td>1246.32</td>\n",
       "      <td>2018-11-26</td>\n",
       "      <td>1499</td>\n",
       "    </tr>\n",
       "    <tr>\n",
       "      <th>149395</th>\n",
       "      <td>149395</td>\n",
       "      <td>1499_156</td>\n",
       "      <td>544.37</td>\n",
       "      <td>2018-10-26</td>\n",
       "      <td>1499</td>\n",
       "    </tr>\n",
       "  </tbody>\n",
       "</table>\n",
       "<p>149396 rows × 5 columns</p>\n",
       "</div>"
      ],
      "text/plain": [
       "        Unnamed: 0        id  mb_used session_date  user_id\n",
       "0                0    1000_0   112.95   2018-11-25     1000\n",
       "1                1    1000_1  1052.81   2018-09-07     1000\n",
       "2                2    1000_2  1197.26   2018-06-25     1000\n",
       "3                3    1000_3   550.27   2018-08-22     1000\n",
       "4                4    1000_4   302.56   2018-09-24     1000\n",
       "...            ...       ...      ...          ...      ...\n",
       "149391      149391  1499_152   318.90   2018-10-03     1499\n",
       "149392      149392  1499_153   490.13   2018-12-14     1499\n",
       "149393      149393  1499_154     0.00   2018-10-27     1499\n",
       "149394      149394  1499_155  1246.32   2018-11-26     1499\n",
       "149395      149395  1499_156   544.37   2018-10-26     1499\n",
       "\n",
       "[149396 rows x 5 columns]"
      ]
     },
     "metadata": {},
     "output_type": "display_data"
    }
   ],
   "source": [
    "#Приводим данные к нужным типам в таблице internet\n",
    "internet['session_date'] = pd.to_datetime(internet['session_date'], format='%Y-%m-%dT%H:%M:%S')\n",
    "internet.info()\n",
    "display(internet)"
   ]
  },
  {
   "cell_type": "code",
   "execution_count": 19,
   "metadata": {},
   "outputs": [
    {
     "name": "stdout",
     "output_type": "stream",
     "text": [
      "<class 'pandas.core.frame.DataFrame'>\n",
      "RangeIndex: 123036 entries, 0 to 123035\n",
      "Data columns (total 3 columns):\n",
      " #   Column        Non-Null Count   Dtype         \n",
      "---  ------        --------------   -----         \n",
      " 0   id            123036 non-null  int32         \n",
      " 1   message_date  123036 non-null  datetime64[ns]\n",
      " 2   user_id       123036 non-null  int64         \n",
      "dtypes: datetime64[ns](1), int32(1), int64(1)\n",
      "memory usage: 2.3 MB\n"
     ]
    }
   ],
   "source": [
    "#Приводим данные к нужным типам в таблице messages\n",
    "messages['message_date'] = pd.to_datetime(messages['message_date'], format='%Y-%m-%dT%H:%M:%S')\n",
    "messages['id'] = messages['id'].astype(int)\n",
    "messages.info()"
   ]
  },
  {
   "cell_type": "code",
   "execution_count": 20,
   "metadata": {},
   "outputs": [
    {
     "name": "stdout",
     "output_type": "stream",
     "text": [
      "<class 'pandas.core.frame.DataFrame'>\n",
      "RangeIndex: 500 entries, 0 to 499\n",
      "Data columns (total 8 columns):\n",
      " #   Column      Non-Null Count  Dtype         \n",
      "---  ------      --------------  -----         \n",
      " 0   user_id     500 non-null    int64         \n",
      " 1   age         500 non-null    int64         \n",
      " 2   churn_date  38 non-null     datetime64[ns]\n",
      " 3   city        500 non-null    object        \n",
      " 4   first_name  500 non-null    object        \n",
      " 5   last_name   500 non-null    object        \n",
      " 6   reg_date    500 non-null    datetime64[ns]\n",
      " 7   tariff      500 non-null    object        \n",
      "dtypes: datetime64[ns](2), int64(2), object(4)\n",
      "memory usage: 31.4+ KB\n"
     ]
    }
   ],
   "source": [
    "#Приводим данные к нужным типам в таблице users\n",
    "users['churn_date'] = pd.to_datetime(users['churn_date'], format='%Y-%m-%dT%H:%M:%S')\n",
    "users['reg_date'] = pd.to_datetime(users['reg_date'], format='%Y-%m-%dT%H:%M:%S')\n",
    "users.info()"
   ]
  },
  {
   "cell_type": "markdown",
   "metadata": {},
   "source": [
    "### Убираем ошибки в данных."
   ]
  },
  {
   "cell_type": "code",
   "execution_count": 21,
   "metadata": {},
   "outputs": [
    {
     "name": "stdout",
     "output_type": "stream",
     "text": [
      "<class 'pandas.core.frame.DataFrame'>\n",
      "RangeIndex: 149396 entries, 0 to 149395\n",
      "Data columns (total 4 columns):\n",
      " #   Column        Non-Null Count   Dtype         \n",
      "---  ------        --------------   -----         \n",
      " 0   id            149396 non-null  object        \n",
      " 1   mb_used       149396 non-null  float64       \n",
      " 2   session_date  149396 non-null  datetime64[ns]\n",
      " 3   user_id       149396 non-null  int64         \n",
      "dtypes: datetime64[ns](1), float64(1), int64(1), object(1)\n",
      "memory usage: 4.6+ MB\n"
     ]
    }
   ],
   "source": [
    "#Убираем колонку 'Unnamed: 0', которая дублирует индексы в таблице internet\n",
    "internet.drop(columns = ['Unnamed: 0'], axis = 1, inplace = True)\n",
    "internet.info()"
   ]
  },
  {
   "cell_type": "code",
   "execution_count": 22,
   "metadata": {},
   "outputs": [
    {
     "data": {
      "text/html": [
       "<div>\n",
       "<style scoped>\n",
       "    .dataframe tbody tr th:only-of-type {\n",
       "        vertical-align: middle;\n",
       "    }\n",
       "\n",
       "    .dataframe tbody tr th {\n",
       "        vertical-align: top;\n",
       "    }\n",
       "\n",
       "    .dataframe thead th {\n",
       "        text-align: right;\n",
       "    }\n",
       "</style>\n",
       "<table border=\"1\" class=\"dataframe\">\n",
       "  <thead>\n",
       "    <tr style=\"text-align: right;\">\n",
       "      <th></th>\n",
       "      <th>id</th>\n",
       "      <th>mb_used</th>\n",
       "      <th>session_date</th>\n",
       "      <th>user_id</th>\n",
       "    </tr>\n",
       "  </thead>\n",
       "  <tbody>\n",
       "    <tr>\n",
       "      <th>0</th>\n",
       "      <td>1000_0</td>\n",
       "      <td>112.95</td>\n",
       "      <td>2018-11-25</td>\n",
       "      <td>1000</td>\n",
       "    </tr>\n",
       "    <tr>\n",
       "      <th>1</th>\n",
       "      <td>1000_1</td>\n",
       "      <td>1052.81</td>\n",
       "      <td>2018-09-07</td>\n",
       "      <td>1000</td>\n",
       "    </tr>\n",
       "    <tr>\n",
       "      <th>2</th>\n",
       "      <td>1000_2</td>\n",
       "      <td>1197.26</td>\n",
       "      <td>2018-06-25</td>\n",
       "      <td>1000</td>\n",
       "    </tr>\n",
       "    <tr>\n",
       "      <th>3</th>\n",
       "      <td>1000_3</td>\n",
       "      <td>550.27</td>\n",
       "      <td>2018-08-22</td>\n",
       "      <td>1000</td>\n",
       "    </tr>\n",
       "    <tr>\n",
       "      <th>4</th>\n",
       "      <td>1000_4</td>\n",
       "      <td>302.56</td>\n",
       "      <td>2018-09-24</td>\n",
       "      <td>1000</td>\n",
       "    </tr>\n",
       "    <tr>\n",
       "      <th>...</th>\n",
       "      <td>...</td>\n",
       "      <td>...</td>\n",
       "      <td>...</td>\n",
       "      <td>...</td>\n",
       "    </tr>\n",
       "    <tr>\n",
       "      <th>149391</th>\n",
       "      <td>1499_152</td>\n",
       "      <td>318.90</td>\n",
       "      <td>2018-10-03</td>\n",
       "      <td>1499</td>\n",
       "    </tr>\n",
       "    <tr>\n",
       "      <th>149392</th>\n",
       "      <td>1499_153</td>\n",
       "      <td>490.13</td>\n",
       "      <td>2018-12-14</td>\n",
       "      <td>1499</td>\n",
       "    </tr>\n",
       "    <tr>\n",
       "      <th>149393</th>\n",
       "      <td>1499_154</td>\n",
       "      <td>0.00</td>\n",
       "      <td>2018-10-27</td>\n",
       "      <td>1499</td>\n",
       "    </tr>\n",
       "    <tr>\n",
       "      <th>149394</th>\n",
       "      <td>1499_155</td>\n",
       "      <td>1246.32</td>\n",
       "      <td>2018-11-26</td>\n",
       "      <td>1499</td>\n",
       "    </tr>\n",
       "    <tr>\n",
       "      <th>149395</th>\n",
       "      <td>1499_156</td>\n",
       "      <td>544.37</td>\n",
       "      <td>2018-10-26</td>\n",
       "      <td>1499</td>\n",
       "    </tr>\n",
       "  </tbody>\n",
       "</table>\n",
       "<p>149396 rows × 4 columns</p>\n",
       "</div>"
      ],
      "text/plain": [
       "              id  mb_used session_date  user_id\n",
       "0         1000_0   112.95   2018-11-25     1000\n",
       "1         1000_1  1052.81   2018-09-07     1000\n",
       "2         1000_2  1197.26   2018-06-25     1000\n",
       "3         1000_3   550.27   2018-08-22     1000\n",
       "4         1000_4   302.56   2018-09-24     1000\n",
       "...          ...      ...          ...      ...\n",
       "149391  1499_152   318.90   2018-10-03     1499\n",
       "149392  1499_153   490.13   2018-12-14     1499\n",
       "149393  1499_154     0.00   2018-10-27     1499\n",
       "149394  1499_155  1246.32   2018-11-26     1499\n",
       "149395  1499_156   544.37   2018-10-26     1499\n",
       "\n",
       "[149396 rows x 4 columns]"
      ]
     },
     "metadata": {},
     "output_type": "display_data"
    },
    {
     "data": {
      "text/plain": [
       "19598"
      ]
     },
     "metadata": {},
     "output_type": "display_data"
    },
    {
     "data": {
      "image/png": "[encoded data removed]",
      "text/plain": [
       "<Figure size 432x288 with 1 Axes>"
      ]
     },
     "metadata": {
      "needs_background": "light"
     },
     "output_type": "display_data"
    }
   ],
   "source": [
    "#Проверяем данные на нулевые значения.\n",
    "internet['mb_used'].hist(bins = 100)\n",
    "display(internet)\n",
    "display(internet[internet['mb_used'] == 0]['session_date'].count())"
   ]
  },
  {
   "cell_type": "markdown",
   "metadata": {},
   "source": [
    "Гистограмма показывает не менее 21000 сессий (при 100 корзинах в гистограмме), когда за сессию было потрачено 0 Мб. Такие сессии невозможны. Это либо ошибка при загрузке данных либо ошибка при внесении данных в таблицу. Согласно гистограмме таких эпизодов больше 21000 или более 14.05% от общей массы. При подсчёте с помощью логической индексации получается всего 19598 эпизодов или 13.11% от общей массы. Причиной такого различия является, очевидно, тот факт, что в первый столбец гистограммы попадает и часть значений около нуля.\n",
    "    При получении помесячного трафика каждого абонента мы получим один и тот же объём трафика, вне зависимости от того, будем ли мы пренебрегать нулевыми значениями или удалим их. Вычисление среднего трафика мы делаем на основе суммы помесячных значений а не на основе суммы сессий.\n",
    "    Значения итогового дохода от каждого интернет-пользователя в случае удаления нулей так же не изменятся.\n",
    "    Следовательно, хотя получившаяся доля аномальных значений велика, делать с ней что-то нет необходимости."
   ]
  },
  {
   "cell_type": "markdown",
   "metadata": {},
   "source": [
    "### Проверяем данные на наличие пропусков"
   ]
  },
  {
   "cell_type": "code",
   "execution_count": 23,
   "metadata": {},
   "outputs": [
    {
     "data": {
      "text/plain": [
       "id           0\n",
       "call_date    0\n",
       "duration     0\n",
       "user_id      0\n",
       "dtype: int64"
      ]
     },
     "execution_count": 23,
     "metadata": {},
     "output_type": "execute_result"
    }
   ],
   "source": [
    "calls.isna().sum()"
   ]
  },
  {
   "cell_type": "code",
   "execution_count": 24,
   "metadata": {},
   "outputs": [
    {
     "data": {
      "text/plain": [
       "id              0\n",
       "mb_used         0\n",
       "session_date    0\n",
       "user_id         0\n",
       "dtype: int64"
      ]
     },
     "execution_count": 24,
     "metadata": {},
     "output_type": "execute_result"
    }
   ],
   "source": [
    "internet.isna().sum()"
   ]
  },
  {
   "cell_type": "code",
   "execution_count": 25,
   "metadata": {},
   "outputs": [
    {
     "data": {
      "text/plain": [
       "id              0\n",
       "message_date    0\n",
       "user_id         0\n",
       "dtype: int64"
      ]
     },
     "execution_count": 25,
     "metadata": {},
     "output_type": "execute_result"
    }
   ],
   "source": [
    "messages.isna().sum()"
   ]
  },
  {
   "cell_type": "code",
   "execution_count": 26,
   "metadata": {},
   "outputs": [
    {
     "data": {
      "text/plain": [
       "messages_included        0\n",
       "mb_per_month_included    0\n",
       "minutes_included         0\n",
       "rub_monthly_fee          0\n",
       "rub_per_gb               0\n",
       "rub_per_message          0\n",
       "rub_per_minute           0\n",
       "tariff_name              0\n",
       "dtype: int64"
      ]
     },
     "execution_count": 26,
     "metadata": {},
     "output_type": "execute_result"
    }
   ],
   "source": [
    "tariffs.isna().sum()"
   ]
  },
  {
   "cell_type": "code",
   "execution_count": 27,
   "metadata": {},
   "outputs": [
    {
     "data": {
      "text/plain": [
       "user_id         0\n",
       "age             0\n",
       "churn_date    462\n",
       "city            0\n",
       "first_name      0\n",
       "last_name       0\n",
       "reg_date        0\n",
       "tariff          0\n",
       "dtype: int64"
      ]
     },
     "execution_count": 27,
     "metadata": {},
     "output_type": "execute_result"
    }
   ],
   "source": [
    "users.isna().sum()"
   ]
  },
  {
   "cell_type": "markdown",
   "metadata": {},
   "source": [
    "Пропуски есть только в колонке churn_date таблицы users. Это, по-видимому, отсутствующие даты, свидетельствующие о том, что 462 клиента продолжают пользоваться тарифом."
   ]
  },
  {
   "cell_type": "markdown",
   "metadata": {},
   "source": [
    "### Проверяем данные на наличие дубликатов."
   ]
  },
  {
   "cell_type": "code",
   "execution_count": 28,
   "metadata": {},
   "outputs": [
    {
     "data": {
      "text/plain": [
       "0"
      ]
     },
     "execution_count": 28,
     "metadata": {},
     "output_type": "execute_result"
    }
   ],
   "source": [
    "calls.duplicated().sum()"
   ]
  },
  {
   "cell_type": "code",
   "execution_count": 29,
   "metadata": {},
   "outputs": [
    {
     "data": {
      "text/plain": [
       "0"
      ]
     },
     "execution_count": 29,
     "metadata": {},
     "output_type": "execute_result"
    }
   ],
   "source": [
    "internet.duplicated().sum()"
   ]
  },
  {
   "cell_type": "code",
   "execution_count": 30,
   "metadata": {},
   "outputs": [
    {
     "data": {
      "text/plain": [
       "0"
      ]
     },
     "execution_count": 30,
     "metadata": {},
     "output_type": "execute_result"
    }
   ],
   "source": [
    "messages.duplicated().sum()"
   ]
  },
  {
   "cell_type": "code",
   "execution_count": 31,
   "metadata": {},
   "outputs": [
    {
     "data": {
      "text/plain": [
       "0"
      ]
     },
     "execution_count": 31,
     "metadata": {},
     "output_type": "execute_result"
    }
   ],
   "source": [
    "tariffs.duplicated().sum()"
   ]
  },
  {
   "cell_type": "code",
   "execution_count": 32,
   "metadata": {},
   "outputs": [
    {
     "data": {
      "text/plain": [
       "0"
      ]
     },
     "execution_count": 32,
     "metadata": {},
     "output_type": "execute_result"
    }
   ],
   "source": [
    "users.duplicated().sum()"
   ]
  },
  {
   "cell_type": "markdown",
   "metadata": {},
   "source": [
    "### Проверяем значение в колонках first_name, last_name, city таблицы users на наличие скрытых дубликатов"
   ]
  },
  {
   "cell_type": "code",
   "execution_count": 33,
   "metadata": {},
   "outputs": [
    {
     "data": {
      "text/plain": [
       "array(['Краснодар', 'Москва', 'Стерлитамак', 'Новокузнецк',\n",
       "       'Набережные Челны', 'Ульяновск', 'Челябинск', 'Пермь', 'Тюмень',\n",
       "       'Самара', 'Санкт-Петербург', 'Иваново', 'Чебоксары', 'Омск', 'Уфа',\n",
       "       'Томск', 'Чита', 'Мурманск', 'Петрозаводск', 'Тверь',\n",
       "       'Екатеринбург', 'Махачкала', 'Вологда', 'Череповец', 'Ярославль',\n",
       "       'Сочи', 'Хабаровск', 'Ставрополь', 'Рязань', 'Улан-Удэ', 'Тула',\n",
       "       'Саратов', 'Ростов-на-Дону', 'Казань', 'Иркутск', 'Курск',\n",
       "       'Калуга', 'Якутск', 'Астрахань', 'Химки', 'Владикавказ',\n",
       "       'Волгоград', 'Саранск', 'Ижевск', 'Новосибирск', 'Брянск',\n",
       "       'Тольятти', 'Нижний Тагил', 'Орёл', 'Белгород', 'Воронеж',\n",
       "       'Волжский', 'Курган', 'Барнаул', 'Красноярск', 'Архангельск',\n",
       "       'Липецк', 'Кемерово', 'Киров', 'Сургут', 'Пенза', 'Магнитогорск',\n",
       "       'Нижний Новгород', 'Кострома', 'Владивосток', 'Тамбов', 'Балашиха',\n",
       "       'Севастополь', 'Калининград', 'Оренбург', 'Смоленск',\n",
       "       'Нижневартовск', 'Владимир', 'Новороссийск', 'Грозный', 'Подольск'],\n",
       "      dtype=object)"
      ]
     },
     "execution_count": 33,
     "metadata": {},
     "output_type": "execute_result"
    }
   ],
   "source": [
    "users['first_name'].unique()\n",
    "users['last_name'].unique()\n",
    "users['city'].unique()"
   ]
  },
  {
   "cell_type": "markdown",
   "metadata": {},
   "source": [
    "Ни в одной из таблиц нет пропущенных данных, кроме колонки churn_date таблицы users. В этом случае отсутствующие даты свидетельствующт о том, что 462 клиента продолжают пользоваться тарифом. Дублирующихся строк так же нет ни в одной таблице.\n",
    "Единственная ошибка в данных, которая была обнаружена - дублирующая индексацию колонка 'Unnamed: 0' таблицы internet. Эта колонка была удалена. Скрытых дубликатов в именах, фамилиях и названиях городов нет."
   ]
  },
  {
   "cell_type": "markdown",
   "metadata": {},
   "source": [
    "### Добавляем в таблицы столбцы с названием месяца."
   ]
  },
  {
   "cell_type": "code",
   "execution_count": 34,
   "metadata": {},
   "outputs": [
    {
     "data": {
      "text/html": [
       "<div>\n",
       "<style scoped>\n",
       "    .dataframe tbody tr th:only-of-type {\n",
       "        vertical-align: middle;\n",
       "    }\n",
       "\n",
       "    .dataframe tbody tr th {\n",
       "        vertical-align: top;\n",
       "    }\n",
       "\n",
       "    .dataframe thead th {\n",
       "        text-align: right;\n",
       "    }\n",
       "</style>\n",
       "<table border=\"1\" class=\"dataframe\">\n",
       "  <thead>\n",
       "    <tr style=\"text-align: right;\">\n",
       "      <th></th>\n",
       "      <th>user_id</th>\n",
       "      <th>months</th>\n",
       "      <th>duration</th>\n",
       "      <th>call_number</th>\n",
       "    </tr>\n",
       "  </thead>\n",
       "  <tbody>\n",
       "    <tr>\n",
       "      <th>0</th>\n",
       "      <td>1000</td>\n",
       "      <td>5</td>\n",
       "      <td>159.0</td>\n",
       "      <td>22</td>\n",
       "    </tr>\n",
       "    <tr>\n",
       "      <th>1</th>\n",
       "      <td>1000</td>\n",
       "      <td>6</td>\n",
       "      <td>172.0</td>\n",
       "      <td>43</td>\n",
       "    </tr>\n",
       "    <tr>\n",
       "      <th>2</th>\n",
       "      <td>1000</td>\n",
       "      <td>7</td>\n",
       "      <td>340.0</td>\n",
       "      <td>47</td>\n",
       "    </tr>\n",
       "    <tr>\n",
       "      <th>3</th>\n",
       "      <td>1000</td>\n",
       "      <td>8</td>\n",
       "      <td>408.0</td>\n",
       "      <td>52</td>\n",
       "    </tr>\n",
       "    <tr>\n",
       "      <th>4</th>\n",
       "      <td>1000</td>\n",
       "      <td>9</td>\n",
       "      <td>466.0</td>\n",
       "      <td>58</td>\n",
       "    </tr>\n",
       "    <tr>\n",
       "      <th>...</th>\n",
       "      <td>...</td>\n",
       "      <td>...</td>\n",
       "      <td>...</td>\n",
       "      <td>...</td>\n",
       "    </tr>\n",
       "    <tr>\n",
       "      <th>3169</th>\n",
       "      <td>1498</td>\n",
       "      <td>10</td>\n",
       "      <td>247.0</td>\n",
       "      <td>41</td>\n",
       "    </tr>\n",
       "    <tr>\n",
       "      <th>3170</th>\n",
       "      <td>1499</td>\n",
       "      <td>9</td>\n",
       "      <td>70.0</td>\n",
       "      <td>9</td>\n",
       "    </tr>\n",
       "    <tr>\n",
       "      <th>3171</th>\n",
       "      <td>1499</td>\n",
       "      <td>10</td>\n",
       "      <td>449.0</td>\n",
       "      <td>68</td>\n",
       "    </tr>\n",
       "    <tr>\n",
       "      <th>3172</th>\n",
       "      <td>1499</td>\n",
       "      <td>11</td>\n",
       "      <td>612.0</td>\n",
       "      <td>74</td>\n",
       "    </tr>\n",
       "    <tr>\n",
       "      <th>3173</th>\n",
       "      <td>1499</td>\n",
       "      <td>12</td>\n",
       "      <td>492.0</td>\n",
       "      <td>69</td>\n",
       "    </tr>\n",
       "  </tbody>\n",
       "</table>\n",
       "<p>3174 rows × 4 columns</p>\n",
       "</div>"
      ],
      "text/plain": [
       "      user_id  months  duration  call_number\n",
       "0        1000       5     159.0           22\n",
       "1        1000       6     172.0           43\n",
       "2        1000       7     340.0           47\n",
       "3        1000       8     408.0           52\n",
       "4        1000       9     466.0           58\n",
       "...       ...     ...       ...          ...\n",
       "3169     1498      10     247.0           41\n",
       "3170     1499       9      70.0            9\n",
       "3171     1499      10     449.0           68\n",
       "3172     1499      11     612.0           74\n",
       "3173     1499      12     492.0           69\n",
       "\n",
       "[3174 rows x 4 columns]"
      ]
     },
     "metadata": {},
     "output_type": "display_data"
    }
   ],
   "source": [
    "#добавляем столбец с названием месяца в таблицу calls.\n",
    "#Группируем, чтобы получить количество звонков и их продолжительность для каждого клиента помесячно.\n",
    "calls['months'] = calls['call_date'].dt.month\n",
    "calls_monthly = calls.groupby(['user_id', 'months']).agg({\n",
    "  'duration': 'sum',\n",
    "  'call_date': 'count'\n",
    "}).reset_index()\n",
    "calls_monthly.rename(columns = {'call_date': 'call_number'}, inplace = True)\n",
    "display(calls_monthly)"
   ]
  },
  {
   "cell_type": "code",
   "execution_count": 35,
   "metadata": {},
   "outputs": [
    {
     "name": "stdout",
     "output_type": "stream",
     "text": [
      "<class 'pandas.core.frame.DataFrame'>\n",
      "RangeIndex: 3203 entries, 0 to 3202\n",
      "Data columns (total 3 columns):\n",
      " #   Column   Non-Null Count  Dtype  \n",
      "---  ------   --------------  -----  \n",
      " 0   user_id  3203 non-null   int64  \n",
      " 1   months   3203 non-null   int64  \n",
      " 2   mb_used  3203 non-null   float64\n",
      "dtypes: float64(1), int64(2)\n",
      "memory usage: 75.2 KB\n"
     ]
    },
    {
     "data": {
      "text/html": [
       "<div>\n",
       "<style scoped>\n",
       "    .dataframe tbody tr th:only-of-type {\n",
       "        vertical-align: middle;\n",
       "    }\n",
       "\n",
       "    .dataframe tbody tr th {\n",
       "        vertical-align: top;\n",
       "    }\n",
       "\n",
       "    .dataframe thead th {\n",
       "        text-align: right;\n",
       "    }\n",
       "</style>\n",
       "<table border=\"1\" class=\"dataframe\">\n",
       "  <thead>\n",
       "    <tr style=\"text-align: right;\">\n",
       "      <th></th>\n",
       "      <th>user_id</th>\n",
       "      <th>months</th>\n",
       "      <th>mb_used</th>\n",
       "    </tr>\n",
       "  </thead>\n",
       "  <tbody>\n",
       "    <tr>\n",
       "      <th>0</th>\n",
       "      <td>1000</td>\n",
       "      <td>5</td>\n",
       "      <td>2253.49</td>\n",
       "    </tr>\n",
       "    <tr>\n",
       "      <th>1</th>\n",
       "      <td>1000</td>\n",
       "      <td>6</td>\n",
       "      <td>23233.77</td>\n",
       "    </tr>\n",
       "    <tr>\n",
       "      <th>2</th>\n",
       "      <td>1000</td>\n",
       "      <td>7</td>\n",
       "      <td>14003.64</td>\n",
       "    </tr>\n",
       "    <tr>\n",
       "      <th>3</th>\n",
       "      <td>1000</td>\n",
       "      <td>8</td>\n",
       "      <td>14055.93</td>\n",
       "    </tr>\n",
       "    <tr>\n",
       "      <th>4</th>\n",
       "      <td>1000</td>\n",
       "      <td>9</td>\n",
       "      <td>14568.91</td>\n",
       "    </tr>\n",
       "    <tr>\n",
       "      <th>5</th>\n",
       "      <td>1000</td>\n",
       "      <td>10</td>\n",
       "      <td>14702.49</td>\n",
       "    </tr>\n",
       "    <tr>\n",
       "      <th>6</th>\n",
       "      <td>1000</td>\n",
       "      <td>11</td>\n",
       "      <td>14756.47</td>\n",
       "    </tr>\n",
       "    <tr>\n",
       "      <th>7</th>\n",
       "      <td>1000</td>\n",
       "      <td>12</td>\n",
       "      <td>9817.61</td>\n",
       "    </tr>\n",
       "    <tr>\n",
       "      <th>8</th>\n",
       "      <td>1001</td>\n",
       "      <td>11</td>\n",
       "      <td>18429.34</td>\n",
       "    </tr>\n",
       "    <tr>\n",
       "      <th>9</th>\n",
       "      <td>1001</td>\n",
       "      <td>12</td>\n",
       "      <td>14036.66</td>\n",
       "    </tr>\n",
       "  </tbody>\n",
       "</table>\n",
       "</div>"
      ],
      "text/plain": [
       "   user_id  months   mb_used\n",
       "0     1000       5   2253.49\n",
       "1     1000       6  23233.77\n",
       "2     1000       7  14003.64\n",
       "3     1000       8  14055.93\n",
       "4     1000       9  14568.91\n",
       "5     1000      10  14702.49\n",
       "6     1000      11  14756.47\n",
       "7     1000      12   9817.61\n",
       "8     1001      11  18429.34\n",
       "9     1001      12  14036.66"
      ]
     },
     "execution_count": 35,
     "metadata": {},
     "output_type": "execute_result"
    }
   ],
   "source": [
    "#добавляем столбец с названием месяца в таблицу internet.\n",
    "#Группируем, чтобы получить объём трафика для каждого клиента помесячно.\n",
    "internet['months'] = internet['session_date'].dt.month\n",
    "internet_monthly = internet.groupby(['user_id', 'months']).agg({\n",
    "  'mb_used': 'sum'\n",
    "}).reset_index()\n",
    "\n",
    "internet_monthly.info()\n",
    "internet_monthly.head(10)"
   ]
  },
  {
   "cell_type": "code",
   "execution_count": 36,
   "metadata": {
    "scrolled": true
   },
   "outputs": [
    {
     "data": {
      "text/html": [
       "<div>\n",
       "<style scoped>\n",
       "    .dataframe tbody tr th:only-of-type {\n",
       "        vertical-align: middle;\n",
       "    }\n",
       "\n",
       "    .dataframe tbody tr th {\n",
       "        vertical-align: top;\n",
       "    }\n",
       "\n",
       "    .dataframe thead th {\n",
       "        text-align: right;\n",
       "    }\n",
       "</style>\n",
       "<table border=\"1\" class=\"dataframe\">\n",
       "  <thead>\n",
       "    <tr style=\"text-align: right;\">\n",
       "      <th></th>\n",
       "      <th>user_id</th>\n",
       "      <th>months</th>\n",
       "      <th>message_number</th>\n",
       "    </tr>\n",
       "  </thead>\n",
       "  <tbody>\n",
       "    <tr>\n",
       "      <th>0</th>\n",
       "      <td>1000</td>\n",
       "      <td>5</td>\n",
       "      <td>22</td>\n",
       "    </tr>\n",
       "    <tr>\n",
       "      <th>1</th>\n",
       "      <td>1000</td>\n",
       "      <td>6</td>\n",
       "      <td>60</td>\n",
       "    </tr>\n",
       "    <tr>\n",
       "      <th>2</th>\n",
       "      <td>1000</td>\n",
       "      <td>7</td>\n",
       "      <td>75</td>\n",
       "    </tr>\n",
       "    <tr>\n",
       "      <th>3</th>\n",
       "      <td>1000</td>\n",
       "      <td>8</td>\n",
       "      <td>81</td>\n",
       "    </tr>\n",
       "    <tr>\n",
       "      <th>4</th>\n",
       "      <td>1000</td>\n",
       "      <td>9</td>\n",
       "      <td>57</td>\n",
       "    </tr>\n",
       "    <tr>\n",
       "      <th>5</th>\n",
       "      <td>1000</td>\n",
       "      <td>10</td>\n",
       "      <td>73</td>\n",
       "    </tr>\n",
       "    <tr>\n",
       "      <th>6</th>\n",
       "      <td>1000</td>\n",
       "      <td>11</td>\n",
       "      <td>58</td>\n",
       "    </tr>\n",
       "    <tr>\n",
       "      <th>7</th>\n",
       "      <td>1000</td>\n",
       "      <td>12</td>\n",
       "      <td>70</td>\n",
       "    </tr>\n",
       "    <tr>\n",
       "      <th>8</th>\n",
       "      <td>1002</td>\n",
       "      <td>6</td>\n",
       "      <td>4</td>\n",
       "    </tr>\n",
       "    <tr>\n",
       "      <th>9</th>\n",
       "      <td>1002</td>\n",
       "      <td>7</td>\n",
       "      <td>11</td>\n",
       "    </tr>\n",
       "    <tr>\n",
       "      <th>10</th>\n",
       "      <td>1002</td>\n",
       "      <td>8</td>\n",
       "      <td>13</td>\n",
       "    </tr>\n",
       "    <tr>\n",
       "      <th>11</th>\n",
       "      <td>1002</td>\n",
       "      <td>9</td>\n",
       "      <td>4</td>\n",
       "    </tr>\n",
       "    <tr>\n",
       "      <th>12</th>\n",
       "      <td>1002</td>\n",
       "      <td>10</td>\n",
       "      <td>10</td>\n",
       "    </tr>\n",
       "    <tr>\n",
       "      <th>13</th>\n",
       "      <td>1002</td>\n",
       "      <td>11</td>\n",
       "      <td>16</td>\n",
       "    </tr>\n",
       "    <tr>\n",
       "      <th>14</th>\n",
       "      <td>1002</td>\n",
       "      <td>12</td>\n",
       "      <td>12</td>\n",
       "    </tr>\n",
       "    <tr>\n",
       "      <th>15</th>\n",
       "      <td>1003</td>\n",
       "      <td>8</td>\n",
       "      <td>37</td>\n",
       "    </tr>\n",
       "    <tr>\n",
       "      <th>16</th>\n",
       "      <td>1003</td>\n",
       "      <td>9</td>\n",
       "      <td>91</td>\n",
       "    </tr>\n",
       "    <tr>\n",
       "      <th>17</th>\n",
       "      <td>1003</td>\n",
       "      <td>10</td>\n",
       "      <td>83</td>\n",
       "    </tr>\n",
       "    <tr>\n",
       "      <th>18</th>\n",
       "      <td>1003</td>\n",
       "      <td>11</td>\n",
       "      <td>94</td>\n",
       "    </tr>\n",
       "    <tr>\n",
       "      <th>19</th>\n",
       "      <td>1003</td>\n",
       "      <td>12</td>\n",
       "      <td>75</td>\n",
       "    </tr>\n",
       "    <tr>\n",
       "      <th>20</th>\n",
       "      <td>1004</td>\n",
       "      <td>5</td>\n",
       "      <td>95</td>\n",
       "    </tr>\n",
       "    <tr>\n",
       "      <th>21</th>\n",
       "      <td>1004</td>\n",
       "      <td>6</td>\n",
       "      <td>134</td>\n",
       "    </tr>\n",
       "    <tr>\n",
       "      <th>22</th>\n",
       "      <td>1004</td>\n",
       "      <td>7</td>\n",
       "      <td>181</td>\n",
       "    </tr>\n",
       "    <tr>\n",
       "      <th>23</th>\n",
       "      <td>1004</td>\n",
       "      <td>8</td>\n",
       "      <td>151</td>\n",
       "    </tr>\n",
       "    <tr>\n",
       "      <th>24</th>\n",
       "      <td>1004</td>\n",
       "      <td>9</td>\n",
       "      <td>146</td>\n",
       "    </tr>\n",
       "    <tr>\n",
       "      <th>25</th>\n",
       "      <td>1004</td>\n",
       "      <td>10</td>\n",
       "      <td>165</td>\n",
       "    </tr>\n",
       "    <tr>\n",
       "      <th>26</th>\n",
       "      <td>1004</td>\n",
       "      <td>11</td>\n",
       "      <td>158</td>\n",
       "    </tr>\n",
       "    <tr>\n",
       "      <th>27</th>\n",
       "      <td>1004</td>\n",
       "      <td>12</td>\n",
       "      <td>162</td>\n",
       "    </tr>\n",
       "    <tr>\n",
       "      <th>28</th>\n",
       "      <td>1005</td>\n",
       "      <td>1</td>\n",
       "      <td>7</td>\n",
       "    </tr>\n",
       "    <tr>\n",
       "      <th>29</th>\n",
       "      <td>1005</td>\n",
       "      <td>2</td>\n",
       "      <td>38</td>\n",
       "    </tr>\n",
       "    <tr>\n",
       "      <th>30</th>\n",
       "      <td>1005</td>\n",
       "      <td>3</td>\n",
       "      <td>56</td>\n",
       "    </tr>\n",
       "    <tr>\n",
       "      <th>31</th>\n",
       "      <td>1005</td>\n",
       "      <td>4</td>\n",
       "      <td>41</td>\n",
       "    </tr>\n",
       "    <tr>\n",
       "      <th>32</th>\n",
       "      <td>1005</td>\n",
       "      <td>5</td>\n",
       "      <td>42</td>\n",
       "    </tr>\n",
       "    <tr>\n",
       "      <th>33</th>\n",
       "      <td>1005</td>\n",
       "      <td>6</td>\n",
       "      <td>47</td>\n",
       "    </tr>\n",
       "    <tr>\n",
       "      <th>34</th>\n",
       "      <td>1005</td>\n",
       "      <td>7</td>\n",
       "      <td>56</td>\n",
       "    </tr>\n",
       "    <tr>\n",
       "      <th>35</th>\n",
       "      <td>1005</td>\n",
       "      <td>8</td>\n",
       "      <td>64</td>\n",
       "    </tr>\n",
       "    <tr>\n",
       "      <th>36</th>\n",
       "      <td>1005</td>\n",
       "      <td>9</td>\n",
       "      <td>52</td>\n",
       "    </tr>\n",
       "    <tr>\n",
       "      <th>37</th>\n",
       "      <td>1005</td>\n",
       "      <td>10</td>\n",
       "      <td>44</td>\n",
       "    </tr>\n",
       "    <tr>\n",
       "      <th>38</th>\n",
       "      <td>1005</td>\n",
       "      <td>11</td>\n",
       "      <td>51</td>\n",
       "    </tr>\n",
       "    <tr>\n",
       "      <th>39</th>\n",
       "      <td>1005</td>\n",
       "      <td>12</td>\n",
       "      <td>54</td>\n",
       "    </tr>\n",
       "    <tr>\n",
       "      <th>40</th>\n",
       "      <td>1007</td>\n",
       "      <td>4</td>\n",
       "      <td>11</td>\n",
       "    </tr>\n",
       "    <tr>\n",
       "      <th>41</th>\n",
       "      <td>1007</td>\n",
       "      <td>5</td>\n",
       "      <td>39</td>\n",
       "    </tr>\n",
       "    <tr>\n",
       "      <th>42</th>\n",
       "      <td>1007</td>\n",
       "      <td>6</td>\n",
       "      <td>26</td>\n",
       "    </tr>\n",
       "    <tr>\n",
       "      <th>43</th>\n",
       "      <td>1007</td>\n",
       "      <td>7</td>\n",
       "      <td>26</td>\n",
       "    </tr>\n",
       "    <tr>\n",
       "      <th>44</th>\n",
       "      <td>1007</td>\n",
       "      <td>8</td>\n",
       "      <td>27</td>\n",
       "    </tr>\n",
       "    <tr>\n",
       "      <th>45</th>\n",
       "      <td>1007</td>\n",
       "      <td>9</td>\n",
       "      <td>31</td>\n",
       "    </tr>\n",
       "    <tr>\n",
       "      <th>46</th>\n",
       "      <td>1007</td>\n",
       "      <td>10</td>\n",
       "      <td>18</td>\n",
       "    </tr>\n",
       "    <tr>\n",
       "      <th>47</th>\n",
       "      <td>1007</td>\n",
       "      <td>11</td>\n",
       "      <td>21</td>\n",
       "    </tr>\n",
       "    <tr>\n",
       "      <th>48</th>\n",
       "      <td>1007</td>\n",
       "      <td>12</td>\n",
       "      <td>26</td>\n",
       "    </tr>\n",
       "    <tr>\n",
       "      <th>49</th>\n",
       "      <td>1008</td>\n",
       "      <td>12</td>\n",
       "      <td>56</td>\n",
       "    </tr>\n",
       "    <tr>\n",
       "      <th>50</th>\n",
       "      <td>1009</td>\n",
       "      <td>3</td>\n",
       "      <td>2</td>\n",
       "    </tr>\n",
       "    <tr>\n",
       "      <th>51</th>\n",
       "      <td>1009</td>\n",
       "      <td>4</td>\n",
       "      <td>14</td>\n",
       "    </tr>\n",
       "    <tr>\n",
       "      <th>52</th>\n",
       "      <td>1009</td>\n",
       "      <td>5</td>\n",
       "      <td>7</td>\n",
       "    </tr>\n",
       "    <tr>\n",
       "      <th>53</th>\n",
       "      <td>1009</td>\n",
       "      <td>6</td>\n",
       "      <td>14</td>\n",
       "    </tr>\n",
       "    <tr>\n",
       "      <th>54</th>\n",
       "      <td>1009</td>\n",
       "      <td>7</td>\n",
       "      <td>14</td>\n",
       "    </tr>\n",
       "    <tr>\n",
       "      <th>55</th>\n",
       "      <td>1009</td>\n",
       "      <td>8</td>\n",
       "      <td>9</td>\n",
       "    </tr>\n",
       "    <tr>\n",
       "      <th>56</th>\n",
       "      <td>1009</td>\n",
       "      <td>9</td>\n",
       "      <td>12</td>\n",
       "    </tr>\n",
       "    <tr>\n",
       "      <th>57</th>\n",
       "      <td>1009</td>\n",
       "      <td>10</td>\n",
       "      <td>15</td>\n",
       "    </tr>\n",
       "    <tr>\n",
       "      <th>58</th>\n",
       "      <td>1009</td>\n",
       "      <td>11</td>\n",
       "      <td>11</td>\n",
       "    </tr>\n",
       "    <tr>\n",
       "      <th>59</th>\n",
       "      <td>1009</td>\n",
       "      <td>12</td>\n",
       "      <td>12</td>\n",
       "    </tr>\n",
       "  </tbody>\n",
       "</table>\n",
       "</div>"
      ],
      "text/plain": [
       "    user_id  months  message_number\n",
       "0      1000       5              22\n",
       "1      1000       6              60\n",
       "2      1000       7              75\n",
       "3      1000       8              81\n",
       "4      1000       9              57\n",
       "5      1000      10              73\n",
       "6      1000      11              58\n",
       "7      1000      12              70\n",
       "8      1002       6               4\n",
       "9      1002       7              11\n",
       "10     1002       8              13\n",
       "11     1002       9               4\n",
       "12     1002      10              10\n",
       "13     1002      11              16\n",
       "14     1002      12              12\n",
       "15     1003       8              37\n",
       "16     1003       9              91\n",
       "17     1003      10              83\n",
       "18     1003      11              94\n",
       "19     1003      12              75\n",
       "20     1004       5              95\n",
       "21     1004       6             134\n",
       "22     1004       7             181\n",
       "23     1004       8             151\n",
       "24     1004       9             146\n",
       "25     1004      10             165\n",
       "26     1004      11             158\n",
       "27     1004      12             162\n",
       "28     1005       1               7\n",
       "29     1005       2              38\n",
       "30     1005       3              56\n",
       "31     1005       4              41\n",
       "32     1005       5              42\n",
       "33     1005       6              47\n",
       "34     1005       7              56\n",
       "35     1005       8              64\n",
       "36     1005       9              52\n",
       "37     1005      10              44\n",
       "38     1005      11              51\n",
       "39     1005      12              54\n",
       "40     1007       4              11\n",
       "41     1007       5              39\n",
       "42     1007       6              26\n",
       "43     1007       7              26\n",
       "44     1007       8              27\n",
       "45     1007       9              31\n",
       "46     1007      10              18\n",
       "47     1007      11              21\n",
       "48     1007      12              26\n",
       "49     1008      12              56\n",
       "50     1009       3               2\n",
       "51     1009       4              14\n",
       "52     1009       5               7\n",
       "53     1009       6              14\n",
       "54     1009       7              14\n",
       "55     1009       8               9\n",
       "56     1009       9              12\n",
       "57     1009      10              15\n",
       "58     1009      11              11\n",
       "59     1009      12              12"
      ]
     },
     "execution_count": 36,
     "metadata": {},
     "output_type": "execute_result"
    }
   ],
   "source": [
    "#добавляем столбец с названием месяца в таблицу internet.\n",
    "#Группируем, чтобы получить количество смс для каждого клиента помесячно.\n",
    "messages['months'] = messages['message_date'].dt.month\n",
    "messages_monthly = messages.groupby(['user_id', 'months']).agg({\n",
    "  'message_date': 'count'\n",
    "}).reset_index()\n",
    "messages_monthly.rename(columns = {'message_date': 'message_number'}, inplace = True)\n",
    "messages_monthly.head(60)"
   ]
  },
  {
   "cell_type": "code",
   "execution_count": 37,
   "metadata": {
    "scrolled": false
   },
   "outputs": [
    {
     "data": {
      "text/html": [
       "<div>\n",
       "<style scoped>\n",
       "    .dataframe tbody tr th:only-of-type {\n",
       "        vertical-align: middle;\n",
       "    }\n",
       "\n",
       "    .dataframe tbody tr th {\n",
       "        vertical-align: top;\n",
       "    }\n",
       "\n",
       "    .dataframe thead th {\n",
       "        text-align: right;\n",
       "    }\n",
       "</style>\n",
       "<table border=\"1\" class=\"dataframe\">\n",
       "  <thead>\n",
       "    <tr style=\"text-align: right;\">\n",
       "      <th></th>\n",
       "      <th>user_id</th>\n",
       "      <th>months</th>\n",
       "      <th>duration</th>\n",
       "      <th>call_number</th>\n",
       "      <th>mb_used</th>\n",
       "      <th>message_number</th>\n",
       "      <th>age</th>\n",
       "      <th>churn_date</th>\n",
       "      <th>city</th>\n",
       "      <th>first_name</th>\n",
       "      <th>last_name</th>\n",
       "      <th>reg_date</th>\n",
       "      <th>tariff</th>\n",
       "      <th>messages_included</th>\n",
       "      <th>mb_per_month_included</th>\n",
       "      <th>minutes_included</th>\n",
       "      <th>rub_monthly_fee</th>\n",
       "      <th>rub_per_gb</th>\n",
       "      <th>rub_per_message</th>\n",
       "      <th>rub_per_minute</th>\n",
       "    </tr>\n",
       "  </thead>\n",
       "  <tbody>\n",
       "    <tr>\n",
       "      <th>0</th>\n",
       "      <td>1000</td>\n",
       "      <td>5</td>\n",
       "      <td>159.0</td>\n",
       "      <td>22.0</td>\n",
       "      <td>3.0</td>\n",
       "      <td>22.0</td>\n",
       "      <td>52</td>\n",
       "      <td>NaT</td>\n",
       "      <td>Краснодар</td>\n",
       "      <td>Рафаил</td>\n",
       "      <td>Верещагин</td>\n",
       "      <td>2018-05-25</td>\n",
       "      <td>ultra</td>\n",
       "      <td>1000</td>\n",
       "      <td>30.0</td>\n",
       "      <td>3000</td>\n",
       "      <td>1950</td>\n",
       "      <td>150</td>\n",
       "      <td>1</td>\n",
       "      <td>1</td>\n",
       "    </tr>\n",
       "    <tr>\n",
       "      <th>1</th>\n",
       "      <td>1000</td>\n",
       "      <td>6</td>\n",
       "      <td>172.0</td>\n",
       "      <td>43.0</td>\n",
       "      <td>23.0</td>\n",
       "      <td>60.0</td>\n",
       "      <td>52</td>\n",
       "      <td>NaT</td>\n",
       "      <td>Краснодар</td>\n",
       "      <td>Рафаил</td>\n",
       "      <td>Верещагин</td>\n",
       "      <td>2018-05-25</td>\n",
       "      <td>ultra</td>\n",
       "      <td>1000</td>\n",
       "      <td>30.0</td>\n",
       "      <td>3000</td>\n",
       "      <td>1950</td>\n",
       "      <td>150</td>\n",
       "      <td>1</td>\n",
       "      <td>1</td>\n",
       "    </tr>\n",
       "    <tr>\n",
       "      <th>2</th>\n",
       "      <td>1000</td>\n",
       "      <td>7</td>\n",
       "      <td>340.0</td>\n",
       "      <td>47.0</td>\n",
       "      <td>14.0</td>\n",
       "      <td>75.0</td>\n",
       "      <td>52</td>\n",
       "      <td>NaT</td>\n",
       "      <td>Краснодар</td>\n",
       "      <td>Рафаил</td>\n",
       "      <td>Верещагин</td>\n",
       "      <td>2018-05-25</td>\n",
       "      <td>ultra</td>\n",
       "      <td>1000</td>\n",
       "      <td>30.0</td>\n",
       "      <td>3000</td>\n",
       "      <td>1950</td>\n",
       "      <td>150</td>\n",
       "      <td>1</td>\n",
       "      <td>1</td>\n",
       "    </tr>\n",
       "    <tr>\n",
       "      <th>3</th>\n",
       "      <td>1000</td>\n",
       "      <td>8</td>\n",
       "      <td>408.0</td>\n",
       "      <td>52.0</td>\n",
       "      <td>14.0</td>\n",
       "      <td>81.0</td>\n",
       "      <td>52</td>\n",
       "      <td>NaT</td>\n",
       "      <td>Краснодар</td>\n",
       "      <td>Рафаил</td>\n",
       "      <td>Верещагин</td>\n",
       "      <td>2018-05-25</td>\n",
       "      <td>ultra</td>\n",
       "      <td>1000</td>\n",
       "      <td>30.0</td>\n",
       "      <td>3000</td>\n",
       "      <td>1950</td>\n",
       "      <td>150</td>\n",
       "      <td>1</td>\n",
       "      <td>1</td>\n",
       "    </tr>\n",
       "    <tr>\n",
       "      <th>4</th>\n",
       "      <td>1000</td>\n",
       "      <td>9</td>\n",
       "      <td>466.0</td>\n",
       "      <td>58.0</td>\n",
       "      <td>15.0</td>\n",
       "      <td>57.0</td>\n",
       "      <td>52</td>\n",
       "      <td>NaT</td>\n",
       "      <td>Краснодар</td>\n",
       "      <td>Рафаил</td>\n",
       "      <td>Верещагин</td>\n",
       "      <td>2018-05-25</td>\n",
       "      <td>ultra</td>\n",
       "      <td>1000</td>\n",
       "      <td>30.0</td>\n",
       "      <td>3000</td>\n",
       "      <td>1950</td>\n",
       "      <td>150</td>\n",
       "      <td>1</td>\n",
       "      <td>1</td>\n",
       "    </tr>\n",
       "  </tbody>\n",
       "</table>\n",
       "</div>"
      ],
      "text/plain": [
       "   user_id  months  duration  call_number  mb_used  message_number  age  \\\n",
       "0     1000       5     159.0         22.0      3.0            22.0   52   \n",
       "1     1000       6     172.0         43.0     23.0            60.0   52   \n",
       "2     1000       7     340.0         47.0     14.0            75.0   52   \n",
       "3     1000       8     408.0         52.0     14.0            81.0   52   \n",
       "4     1000       9     466.0         58.0     15.0            57.0   52   \n",
       "\n",
       "  churn_date       city first_name  last_name   reg_date tariff  \\\n",
       "0        NaT  Краснодар     Рафаил  Верещагин 2018-05-25  ultra   \n",
       "1        NaT  Краснодар     Рафаил  Верещагин 2018-05-25  ultra   \n",
       "2        NaT  Краснодар     Рафаил  Верещагин 2018-05-25  ultra   \n",
       "3        NaT  Краснодар     Рафаил  Верещагин 2018-05-25  ultra   \n",
       "4        NaT  Краснодар     Рафаил  Верещагин 2018-05-25  ultra   \n",
       "\n",
       "   messages_included  mb_per_month_included  minutes_included  \\\n",
       "0               1000                   30.0              3000   \n",
       "1               1000                   30.0              3000   \n",
       "2               1000                   30.0              3000   \n",
       "3               1000                   30.0              3000   \n",
       "4               1000                   30.0              3000   \n",
       "\n",
       "   rub_monthly_fee  rub_per_gb  rub_per_message  rub_per_minute  \n",
       "0             1950         150                1               1  \n",
       "1             1950         150                1               1  \n",
       "2             1950         150                1               1  \n",
       "3             1950         150                1               1  \n",
       "4             1950         150                1               1  "
      ]
     },
     "metadata": {},
     "output_type": "display_data"
    },
    {
     "name": "stdout",
     "output_type": "stream",
     "text": [
      "<class 'pandas.core.frame.DataFrame'>\n",
      "Int64Index: 3214 entries, 0 to 3213\n",
      "Data columns (total 20 columns):\n",
      " #   Column                 Non-Null Count  Dtype         \n",
      "---  ------                 --------------  -----         \n",
      " 0   user_id                3214 non-null   int64         \n",
      " 1   months                 3214 non-null   int64         \n",
      " 2   duration               3214 non-null   float64       \n",
      " 3   call_number            3214 non-null   float64       \n",
      " 4   mb_used                3214 non-null   float64       \n",
      " 5   message_number         3214 non-null   float64       \n",
      " 6   age                    3214 non-null   int64         \n",
      " 7   churn_date             187 non-null    datetime64[ns]\n",
      " 8   city                   3214 non-null   object        \n",
      " 9   first_name             3214 non-null   object        \n",
      " 10  last_name              3214 non-null   object        \n",
      " 11  reg_date               3214 non-null   datetime64[ns]\n",
      " 12  tariff                 3214 non-null   object        \n",
      " 13  messages_included      3214 non-null   int64         \n",
      " 14  mb_per_month_included  3214 non-null   float64       \n",
      " 15  minutes_included       3214 non-null   int64         \n",
      " 16  rub_monthly_fee        3214 non-null   int64         \n",
      " 17  rub_per_gb             3214 non-null   int64         \n",
      " 18  rub_per_message        3214 non-null   int64         \n",
      " 19  rub_per_minute         3214 non-null   int64         \n",
      "dtypes: datetime64[ns](2), float64(5), int64(9), object(4)\n",
      "memory usage: 527.3+ KB\n"
     ]
    },
    {
     "data": {
      "text/plain": [
       "(498,)"
      ]
     },
     "execution_count": 37,
     "metadata": {},
     "output_type": "execute_result"
    }
   ],
   "source": [
    "#Объединяем таблицы, полученный в результате группировки.\n",
    "result_table = calls_monthly.merge(internet_monthly, on = ['months', 'user_id'], how = 'outer')\n",
    "result_table = result_table.merge(messages_monthly, on = ['months', 'user_id'], how = 'outer')\n",
    "#display(result_table.head(10))\n",
    "result_table_users = result_table.merge(users, on = 'user_id', how = 'left')\n",
    "tariffs.rename(columns = {'tariff_name': 'tariff'}, inplace = True)\n",
    "result_table_tariffs = result_table_users.merge(tariffs, on = 'tariff', how = 'left')\n",
    "\n",
    "#При создании итоговой таблицы в колонках с количеством использованных смс помесячно возникли значения NAN,\n",
    "#поскольку часть пользователей не пользовалась смс. Заменяем все значения NAN на 0.\n",
    "#В порядке контроля делаем это же в других колонках.\n",
    "result_table_tariffs[['duration', 'call_number', 'mb_used', 'message_number']] = result_table_tariffs[['duration', 'call_number', 'mb_used', 'message_number']].fillna(0)\n",
    "\n",
    "#Переводим измерение трафика в гигабайты и округляем использованный трафик помесячно в бОльшую сторону.\n",
    "result_table_tariffs['mb_per_month_included'] = result_table_tariffs['mb_per_month_included'] / 1024\n",
    "result_table_tariffs['mb_used'] = (result_table_tariffs['mb_used'] / 1024).apply(np.ceil)\n",
    "display(result_table_tariffs.head())\n",
    "result_table_tariffs.info()\n",
    "result_table_tariffs.user_id.unique().shape "
   ]
  },
  {
   "cell_type": "markdown",
   "metadata": {},
   "source": [
    "В таблице 498 user_id, тогда как в таблице users их 500. Два клиента, как мы выяснили выше, (user_id - 1128 и 1371) не воспользовались ни одной из трёх услуг, их нет в объединённой таблице."
   ]
  },
  {
   "cell_type": "code",
   "execution_count": 38,
   "metadata": {
    "scrolled": false
   },
   "outputs": [
    {
     "data": {
      "text/html": [
       "<div>\n",
       "<style scoped>\n",
       "    .dataframe tbody tr th:only-of-type {\n",
       "        vertical-align: middle;\n",
       "    }\n",
       "\n",
       "    .dataframe tbody tr th {\n",
       "        vertical-align: top;\n",
       "    }\n",
       "\n",
       "    .dataframe thead th {\n",
       "        text-align: right;\n",
       "    }\n",
       "</style>\n",
       "<table border=\"1\" class=\"dataframe\">\n",
       "  <thead>\n",
       "    <tr style=\"text-align: right;\">\n",
       "      <th></th>\n",
       "      <th>user_id</th>\n",
       "      <th>months</th>\n",
       "      <th>duration</th>\n",
       "      <th>call_number</th>\n",
       "      <th>gb_used</th>\n",
       "      <th>message_number</th>\n",
       "      <th>age</th>\n",
       "      <th>churn_date</th>\n",
       "      <th>city</th>\n",
       "      <th>first_name</th>\n",
       "      <th>...</th>\n",
       "      <th>reg_date</th>\n",
       "      <th>tariff</th>\n",
       "      <th>messages_included</th>\n",
       "      <th>gb_per_month_included</th>\n",
       "      <th>minutes_included</th>\n",
       "      <th>rub_monthly_fee</th>\n",
       "      <th>rub_per_gb</th>\n",
       "      <th>rub_per_message</th>\n",
       "      <th>rub_per_minute</th>\n",
       "      <th>monthly_revenue</th>\n",
       "    </tr>\n",
       "  </thead>\n",
       "  <tbody>\n",
       "    <tr>\n",
       "      <th>0</th>\n",
       "      <td>1000</td>\n",
       "      <td>5</td>\n",
       "      <td>159.0</td>\n",
       "      <td>22.0</td>\n",
       "      <td>3.0</td>\n",
       "      <td>22.0</td>\n",
       "      <td>52</td>\n",
       "      <td>NaT</td>\n",
       "      <td>Краснодар</td>\n",
       "      <td>Рафаил</td>\n",
       "      <td>...</td>\n",
       "      <td>2018-05-25</td>\n",
       "      <td>ultra</td>\n",
       "      <td>1000</td>\n",
       "      <td>30.0</td>\n",
       "      <td>3000</td>\n",
       "      <td>1950</td>\n",
       "      <td>150</td>\n",
       "      <td>1</td>\n",
       "      <td>1</td>\n",
       "      <td>1950.0</td>\n",
       "    </tr>\n",
       "    <tr>\n",
       "      <th>1</th>\n",
       "      <td>1000</td>\n",
       "      <td>6</td>\n",
       "      <td>172.0</td>\n",
       "      <td>43.0</td>\n",
       "      <td>23.0</td>\n",
       "      <td>60.0</td>\n",
       "      <td>52</td>\n",
       "      <td>NaT</td>\n",
       "      <td>Краснодар</td>\n",
       "      <td>Рафаил</td>\n",
       "      <td>...</td>\n",
       "      <td>2018-05-25</td>\n",
       "      <td>ultra</td>\n",
       "      <td>1000</td>\n",
       "      <td>30.0</td>\n",
       "      <td>3000</td>\n",
       "      <td>1950</td>\n",
       "      <td>150</td>\n",
       "      <td>1</td>\n",
       "      <td>1</td>\n",
       "      <td>1950.0</td>\n",
       "    </tr>\n",
       "    <tr>\n",
       "      <th>2</th>\n",
       "      <td>1000</td>\n",
       "      <td>7</td>\n",
       "      <td>340.0</td>\n",
       "      <td>47.0</td>\n",
       "      <td>14.0</td>\n",
       "      <td>75.0</td>\n",
       "      <td>52</td>\n",
       "      <td>NaT</td>\n",
       "      <td>Краснодар</td>\n",
       "      <td>Рафаил</td>\n",
       "      <td>...</td>\n",
       "      <td>2018-05-25</td>\n",
       "      <td>ultra</td>\n",
       "      <td>1000</td>\n",
       "      <td>30.0</td>\n",
       "      <td>3000</td>\n",
       "      <td>1950</td>\n",
       "      <td>150</td>\n",
       "      <td>1</td>\n",
       "      <td>1</td>\n",
       "      <td>1950.0</td>\n",
       "    </tr>\n",
       "    <tr>\n",
       "      <th>3</th>\n",
       "      <td>1000</td>\n",
       "      <td>8</td>\n",
       "      <td>408.0</td>\n",
       "      <td>52.0</td>\n",
       "      <td>14.0</td>\n",
       "      <td>81.0</td>\n",
       "      <td>52</td>\n",
       "      <td>NaT</td>\n",
       "      <td>Краснодар</td>\n",
       "      <td>Рафаил</td>\n",
       "      <td>...</td>\n",
       "      <td>2018-05-25</td>\n",
       "      <td>ultra</td>\n",
       "      <td>1000</td>\n",
       "      <td>30.0</td>\n",
       "      <td>3000</td>\n",
       "      <td>1950</td>\n",
       "      <td>150</td>\n",
       "      <td>1</td>\n",
       "      <td>1</td>\n",
       "      <td>1950.0</td>\n",
       "    </tr>\n",
       "    <tr>\n",
       "      <th>4</th>\n",
       "      <td>1000</td>\n",
       "      <td>9</td>\n",
       "      <td>466.0</td>\n",
       "      <td>58.0</td>\n",
       "      <td>15.0</td>\n",
       "      <td>57.0</td>\n",
       "      <td>52</td>\n",
       "      <td>NaT</td>\n",
       "      <td>Краснодар</td>\n",
       "      <td>Рафаил</td>\n",
       "      <td>...</td>\n",
       "      <td>2018-05-25</td>\n",
       "      <td>ultra</td>\n",
       "      <td>1000</td>\n",
       "      <td>30.0</td>\n",
       "      <td>3000</td>\n",
       "      <td>1950</td>\n",
       "      <td>150</td>\n",
       "      <td>1</td>\n",
       "      <td>1</td>\n",
       "      <td>1950.0</td>\n",
       "    </tr>\n",
       "    <tr>\n",
       "      <th>5</th>\n",
       "      <td>1000</td>\n",
       "      <td>10</td>\n",
       "      <td>350.0</td>\n",
       "      <td>57.0</td>\n",
       "      <td>15.0</td>\n",
       "      <td>73.0</td>\n",
       "      <td>52</td>\n",
       "      <td>NaT</td>\n",
       "      <td>Краснодар</td>\n",
       "      <td>Рафаил</td>\n",
       "      <td>...</td>\n",
       "      <td>2018-05-25</td>\n",
       "      <td>ultra</td>\n",
       "      <td>1000</td>\n",
       "      <td>30.0</td>\n",
       "      <td>3000</td>\n",
       "      <td>1950</td>\n",
       "      <td>150</td>\n",
       "      <td>1</td>\n",
       "      <td>1</td>\n",
       "      <td>1950.0</td>\n",
       "    </tr>\n",
       "    <tr>\n",
       "      <th>6</th>\n",
       "      <td>1000</td>\n",
       "      <td>11</td>\n",
       "      <td>338.0</td>\n",
       "      <td>43.0</td>\n",
       "      <td>15.0</td>\n",
       "      <td>58.0</td>\n",
       "      <td>52</td>\n",
       "      <td>NaT</td>\n",
       "      <td>Краснодар</td>\n",
       "      <td>Рафаил</td>\n",
       "      <td>...</td>\n",
       "      <td>2018-05-25</td>\n",
       "      <td>ultra</td>\n",
       "      <td>1000</td>\n",
       "      <td>30.0</td>\n",
       "      <td>3000</td>\n",
       "      <td>1950</td>\n",
       "      <td>150</td>\n",
       "      <td>1</td>\n",
       "      <td>1</td>\n",
       "      <td>1950.0</td>\n",
       "    </tr>\n",
       "    <tr>\n",
       "      <th>7</th>\n",
       "      <td>1000</td>\n",
       "      <td>12</td>\n",
       "      <td>333.0</td>\n",
       "      <td>46.0</td>\n",
       "      <td>10.0</td>\n",
       "      <td>70.0</td>\n",
       "      <td>52</td>\n",
       "      <td>NaT</td>\n",
       "      <td>Краснодар</td>\n",
       "      <td>Рафаил</td>\n",
       "      <td>...</td>\n",
       "      <td>2018-05-25</td>\n",
       "      <td>ultra</td>\n",
       "      <td>1000</td>\n",
       "      <td>30.0</td>\n",
       "      <td>3000</td>\n",
       "      <td>1950</td>\n",
       "      <td>150</td>\n",
       "      <td>1</td>\n",
       "      <td>1</td>\n",
       "      <td>1950.0</td>\n",
       "    </tr>\n",
       "    <tr>\n",
       "      <th>8</th>\n",
       "      <td>1001</td>\n",
       "      <td>11</td>\n",
       "      <td>430.0</td>\n",
       "      <td>59.0</td>\n",
       "      <td>18.0</td>\n",
       "      <td>0.0</td>\n",
       "      <td>41</td>\n",
       "      <td>NaT</td>\n",
       "      <td>Москва</td>\n",
       "      <td>Иван</td>\n",
       "      <td>...</td>\n",
       "      <td>2018-11-01</td>\n",
       "      <td>smart</td>\n",
       "      <td>50</td>\n",
       "      <td>15.0</td>\n",
       "      <td>500</td>\n",
       "      <td>550</td>\n",
       "      <td>200</td>\n",
       "      <td>3</td>\n",
       "      <td>3</td>\n",
       "      <td>1150.0</td>\n",
       "    </tr>\n",
       "    <tr>\n",
       "      <th>9</th>\n",
       "      <td>1001</td>\n",
       "      <td>12</td>\n",
       "      <td>414.0</td>\n",
       "      <td>63.0</td>\n",
       "      <td>14.0</td>\n",
       "      <td>0.0</td>\n",
       "      <td>41</td>\n",
       "      <td>NaT</td>\n",
       "      <td>Москва</td>\n",
       "      <td>Иван</td>\n",
       "      <td>...</td>\n",
       "      <td>2018-11-01</td>\n",
       "      <td>smart</td>\n",
       "      <td>50</td>\n",
       "      <td>15.0</td>\n",
       "      <td>500</td>\n",
       "      <td>550</td>\n",
       "      <td>200</td>\n",
       "      <td>3</td>\n",
       "      <td>3</td>\n",
       "      <td>550.0</td>\n",
       "    </tr>\n",
       "  </tbody>\n",
       "</table>\n",
       "<p>10 rows × 21 columns</p>\n",
       "</div>"
      ],
      "text/plain": [
       "   user_id  months  duration  call_number  gb_used  message_number  age  \\\n",
       "0     1000       5     159.0         22.0      3.0            22.0   52   \n",
       "1     1000       6     172.0         43.0     23.0            60.0   52   \n",
       "2     1000       7     340.0         47.0     14.0            75.0   52   \n",
       "3     1000       8     408.0         52.0     14.0            81.0   52   \n",
       "4     1000       9     466.0         58.0     15.0            57.0   52   \n",
       "5     1000      10     350.0         57.0     15.0            73.0   52   \n",
       "6     1000      11     338.0         43.0     15.0            58.0   52   \n",
       "7     1000      12     333.0         46.0     10.0            70.0   52   \n",
       "8     1001      11     430.0         59.0     18.0             0.0   41   \n",
       "9     1001      12     414.0         63.0     14.0             0.0   41   \n",
       "\n",
       "  churn_date       city first_name  ...   reg_date tariff messages_included  \\\n",
       "0        NaT  Краснодар     Рафаил  ... 2018-05-25  ultra              1000   \n",
       "1        NaT  Краснодар     Рафаил  ... 2018-05-25  ultra              1000   \n",
       "2        NaT  Краснодар     Рафаил  ... 2018-05-25  ultra              1000   \n",
       "3        NaT  Краснодар     Рафаил  ... 2018-05-25  ultra              1000   \n",
       "4        NaT  Краснодар     Рафаил  ... 2018-05-25  ultra              1000   \n",
       "5        NaT  Краснодар     Рафаил  ... 2018-05-25  ultra              1000   \n",
       "6        NaT  Краснодар     Рафаил  ... 2018-05-25  ultra              1000   \n",
       "7        NaT  Краснодар     Рафаил  ... 2018-05-25  ultra              1000   \n",
       "8        NaT     Москва       Иван  ... 2018-11-01  smart                50   \n",
       "9        NaT     Москва       Иван  ... 2018-11-01  smart                50   \n",
       "\n",
       "   gb_per_month_included  minutes_included  rub_monthly_fee  rub_per_gb  \\\n",
       "0                   30.0              3000             1950         150   \n",
       "1                   30.0              3000             1950         150   \n",
       "2                   30.0              3000             1950         150   \n",
       "3                   30.0              3000             1950         150   \n",
       "4                   30.0              3000             1950         150   \n",
       "5                   30.0              3000             1950         150   \n",
       "6                   30.0              3000             1950         150   \n",
       "7                   30.0              3000             1950         150   \n",
       "8                   15.0               500              550         200   \n",
       "9                   15.0               500              550         200   \n",
       "\n",
       "   rub_per_message  rub_per_minute  monthly_revenue  \n",
       "0                1               1           1950.0  \n",
       "1                1               1           1950.0  \n",
       "2                1               1           1950.0  \n",
       "3                1               1           1950.0  \n",
       "4                1               1           1950.0  \n",
       "5                1               1           1950.0  \n",
       "6                1               1           1950.0  \n",
       "7                1               1           1950.0  \n",
       "8                3               3           1150.0  \n",
       "9                3               3            550.0  \n",
       "\n",
       "[10 rows x 21 columns]"
      ]
     },
     "metadata": {},
     "output_type": "display_data"
    }
   ],
   "source": [
    "#переименовываю колонку с интернет-трафиком.\n",
    "result_table_tariffs.rename(columns = {'mb_used' : 'gb_used', 'mb_per_month_included':'gb_per_month_included'}, inplace = True)\n",
    "\n",
    "#Создаём функцию для расчёта месячного дохода от каждого клиента\n",
    "def monthly_revenue(tarif, used, granted, extra):\n",
    "    return (used - granted) * extra \n",
    "\n",
    "#В цикле рассчитываем доходы от каждого клиента по видам услуг: продолжительность звонков, количество смс,\n",
    "#объём использованного трафика в месяц.\n",
    "\n",
    "for i in list(range(0, len(result_table_tariffs))):\n",
    "    tarif = result_table_tariffs.rub_monthly_fee[i]\n",
    "    used_minutes = result_table_tariffs.duration[i]\n",
    "    used_messages = result_table_tariffs.message_number[i]\n",
    "    used_gb = result_table_tariffs.gb_used[i]\n",
    "    granted_minutes = result_table_tariffs.minutes_included[i]\n",
    "    granted_messages = result_table_tariffs.messages_included[i]\n",
    "    granted_gb = result_table_tariffs.gb_per_month_included[i]\n",
    "    extra_minutes = result_table_tariffs.rub_per_minute[i]\n",
    "    extra_messages = result_table_tariffs.rub_per_message[i]\n",
    "    extra_gb = result_table_tariffs.rub_per_gb[i]\n",
    "    \n",
    "    if result_table_tariffs.duration[i] > result_table_tariffs.minutes_included[i]:\n",
    "        tarif += monthly_revenue(tarif, used_minutes, granted_minutes, extra_minutes)\n",
    "    \n",
    "    if result_table_tariffs.message_number[i] > result_table_tariffs.messages_included[i]:\n",
    "        tarif += monthly_revenue(tarif, used_messages, granted_messages, extra_messages)\n",
    "        \n",
    "    if result_table_tariffs.gb_used[i] > result_table_tariffs.gb_per_month_included[i]:\n",
    "        tarif += monthly_revenue(tarif, used_gb, granted_gb, extra_gb)\n",
    "\n",
    "    result_table_tariffs.loc[i, 'monthly_revenue'] = tarif\n",
    "\n",
    "\n",
    "display(result_table_tariffs.head(10))\n",
    "     \n"
   ]
  },
  {
   "cell_type": "markdown",
   "metadata": {},
   "source": [
    "## Анализ данных<a id=\"analysis\"></a>"
   ]
  },
  {
   "cell_type": "code",
   "execution_count": 39,
   "metadata": {},
   "outputs": [
    {
     "data": {
      "text/html": [
       "<div>\n",
       "<style scoped>\n",
       "    .dataframe tbody tr th:only-of-type {\n",
       "        vertical-align: middle;\n",
       "    }\n",
       "\n",
       "    .dataframe tbody tr th {\n",
       "        vertical-align: top;\n",
       "    }\n",
       "\n",
       "    .dataframe thead th {\n",
       "        text-align: right;\n",
       "    }\n",
       "</style>\n",
       "<table border=\"1\" class=\"dataframe\">\n",
       "  <thead>\n",
       "    <tr style=\"text-align: right;\">\n",
       "      <th></th>\n",
       "      <th>user_id</th>\n",
       "      <th>months</th>\n",
       "      <th>duration</th>\n",
       "      <th>call_number</th>\n",
       "      <th>gb_used</th>\n",
       "      <th>message_number</th>\n",
       "      <th>age</th>\n",
       "      <th>churn_date</th>\n",
       "      <th>city</th>\n",
       "      <th>first_name</th>\n",
       "      <th>...</th>\n",
       "      <th>reg_date</th>\n",
       "      <th>tariff</th>\n",
       "      <th>messages_included</th>\n",
       "      <th>gb_per_month_included</th>\n",
       "      <th>minutes_included</th>\n",
       "      <th>rub_monthly_fee</th>\n",
       "      <th>rub_per_gb</th>\n",
       "      <th>rub_per_message</th>\n",
       "      <th>rub_per_minute</th>\n",
       "      <th>monthly_revenue</th>\n",
       "    </tr>\n",
       "  </thead>\n",
       "  <tbody>\n",
       "    <tr>\n",
       "      <th>0</th>\n",
       "      <td>1000</td>\n",
       "      <td>5</td>\n",
       "      <td>159.0</td>\n",
       "      <td>22.0</td>\n",
       "      <td>3.0</td>\n",
       "      <td>22.0</td>\n",
       "      <td>52</td>\n",
       "      <td>NaT</td>\n",
       "      <td>Краснодар</td>\n",
       "      <td>Рафаил</td>\n",
       "      <td>...</td>\n",
       "      <td>2018-05-25</td>\n",
       "      <td>ultra</td>\n",
       "      <td>1000</td>\n",
       "      <td>30.0</td>\n",
       "      <td>3000</td>\n",
       "      <td>1950</td>\n",
       "      <td>150</td>\n",
       "      <td>1</td>\n",
       "      <td>1</td>\n",
       "      <td>1950.0</td>\n",
       "    </tr>\n",
       "    <tr>\n",
       "      <th>1</th>\n",
       "      <td>1000</td>\n",
       "      <td>6</td>\n",
       "      <td>172.0</td>\n",
       "      <td>43.0</td>\n",
       "      <td>23.0</td>\n",
       "      <td>60.0</td>\n",
       "      <td>52</td>\n",
       "      <td>NaT</td>\n",
       "      <td>Краснодар</td>\n",
       "      <td>Рафаил</td>\n",
       "      <td>...</td>\n",
       "      <td>2018-05-25</td>\n",
       "      <td>ultra</td>\n",
       "      <td>1000</td>\n",
       "      <td>30.0</td>\n",
       "      <td>3000</td>\n",
       "      <td>1950</td>\n",
       "      <td>150</td>\n",
       "      <td>1</td>\n",
       "      <td>1</td>\n",
       "      <td>1950.0</td>\n",
       "    </tr>\n",
       "    <tr>\n",
       "      <th>2</th>\n",
       "      <td>1000</td>\n",
       "      <td>7</td>\n",
       "      <td>340.0</td>\n",
       "      <td>47.0</td>\n",
       "      <td>14.0</td>\n",
       "      <td>75.0</td>\n",
       "      <td>52</td>\n",
       "      <td>NaT</td>\n",
       "      <td>Краснодар</td>\n",
       "      <td>Рафаил</td>\n",
       "      <td>...</td>\n",
       "      <td>2018-05-25</td>\n",
       "      <td>ultra</td>\n",
       "      <td>1000</td>\n",
       "      <td>30.0</td>\n",
       "      <td>3000</td>\n",
       "      <td>1950</td>\n",
       "      <td>150</td>\n",
       "      <td>1</td>\n",
       "      <td>1</td>\n",
       "      <td>1950.0</td>\n",
       "    </tr>\n",
       "    <tr>\n",
       "      <th>3</th>\n",
       "      <td>1000</td>\n",
       "      <td>8</td>\n",
       "      <td>408.0</td>\n",
       "      <td>52.0</td>\n",
       "      <td>14.0</td>\n",
       "      <td>81.0</td>\n",
       "      <td>52</td>\n",
       "      <td>NaT</td>\n",
       "      <td>Краснодар</td>\n",
       "      <td>Рафаил</td>\n",
       "      <td>...</td>\n",
       "      <td>2018-05-25</td>\n",
       "      <td>ultra</td>\n",
       "      <td>1000</td>\n",
       "      <td>30.0</td>\n",
       "      <td>3000</td>\n",
       "      <td>1950</td>\n",
       "      <td>150</td>\n",
       "      <td>1</td>\n",
       "      <td>1</td>\n",
       "      <td>1950.0</td>\n",
       "    </tr>\n",
       "    <tr>\n",
       "      <th>4</th>\n",
       "      <td>1000</td>\n",
       "      <td>9</td>\n",
       "      <td>466.0</td>\n",
       "      <td>58.0</td>\n",
       "      <td>15.0</td>\n",
       "      <td>57.0</td>\n",
       "      <td>52</td>\n",
       "      <td>NaT</td>\n",
       "      <td>Краснодар</td>\n",
       "      <td>Рафаил</td>\n",
       "      <td>...</td>\n",
       "      <td>2018-05-25</td>\n",
       "      <td>ultra</td>\n",
       "      <td>1000</td>\n",
       "      <td>30.0</td>\n",
       "      <td>3000</td>\n",
       "      <td>1950</td>\n",
       "      <td>150</td>\n",
       "      <td>1</td>\n",
       "      <td>1</td>\n",
       "      <td>1950.0</td>\n",
       "    </tr>\n",
       "    <tr>\n",
       "      <th>...</th>\n",
       "      <td>...</td>\n",
       "      <td>...</td>\n",
       "      <td>...</td>\n",
       "      <td>...</td>\n",
       "      <td>...</td>\n",
       "      <td>...</td>\n",
       "      <td>...</td>\n",
       "      <td>...</td>\n",
       "      <td>...</td>\n",
       "      <td>...</td>\n",
       "      <td>...</td>\n",
       "      <td>...</td>\n",
       "      <td>...</td>\n",
       "      <td>...</td>\n",
       "      <td>...</td>\n",
       "      <td>...</td>\n",
       "      <td>...</td>\n",
       "      <td>...</td>\n",
       "      <td>...</td>\n",
       "      <td>...</td>\n",
       "      <td>...</td>\n",
       "    </tr>\n",
       "    <tr>\n",
       "      <th>3204</th>\n",
       "      <td>1473</td>\n",
       "      <td>9</td>\n",
       "      <td>0.0</td>\n",
       "      <td>0.0</td>\n",
       "      <td>17.0</td>\n",
       "      <td>19.0</td>\n",
       "      <td>18</td>\n",
       "      <td>NaT</td>\n",
       "      <td>Красноярск</td>\n",
       "      <td>Николай</td>\n",
       "      <td>...</td>\n",
       "      <td>2018-08-05</td>\n",
       "      <td>ultra</td>\n",
       "      <td>1000</td>\n",
       "      <td>30.0</td>\n",
       "      <td>3000</td>\n",
       "      <td>1950</td>\n",
       "      <td>150</td>\n",
       "      <td>1</td>\n",
       "      <td>1</td>\n",
       "      <td>1950.0</td>\n",
       "    </tr>\n",
       "    <tr>\n",
       "      <th>3205</th>\n",
       "      <td>1473</td>\n",
       "      <td>10</td>\n",
       "      <td>0.0</td>\n",
       "      <td>0.0</td>\n",
       "      <td>14.0</td>\n",
       "      <td>20.0</td>\n",
       "      <td>18</td>\n",
       "      <td>NaT</td>\n",
       "      <td>Красноярск</td>\n",
       "      <td>Николай</td>\n",
       "      <td>...</td>\n",
       "      <td>2018-08-05</td>\n",
       "      <td>ultra</td>\n",
       "      <td>1000</td>\n",
       "      <td>30.0</td>\n",
       "      <td>3000</td>\n",
       "      <td>1950</td>\n",
       "      <td>150</td>\n",
       "      <td>1</td>\n",
       "      <td>1</td>\n",
       "      <td>1950.0</td>\n",
       "    </tr>\n",
       "    <tr>\n",
       "      <th>3206</th>\n",
       "      <td>1473</td>\n",
       "      <td>11</td>\n",
       "      <td>0.0</td>\n",
       "      <td>0.0</td>\n",
       "      <td>22.0</td>\n",
       "      <td>14.0</td>\n",
       "      <td>18</td>\n",
       "      <td>NaT</td>\n",
       "      <td>Красноярск</td>\n",
       "      <td>Николай</td>\n",
       "      <td>...</td>\n",
       "      <td>2018-08-05</td>\n",
       "      <td>ultra</td>\n",
       "      <td>1000</td>\n",
       "      <td>30.0</td>\n",
       "      <td>3000</td>\n",
       "      <td>1950</td>\n",
       "      <td>150</td>\n",
       "      <td>1</td>\n",
       "      <td>1</td>\n",
       "      <td>1950.0</td>\n",
       "    </tr>\n",
       "    <tr>\n",
       "      <th>3207</th>\n",
       "      <td>1473</td>\n",
       "      <td>12</td>\n",
       "      <td>0.0</td>\n",
       "      <td>0.0</td>\n",
       "      <td>18.0</td>\n",
       "      <td>20.0</td>\n",
       "      <td>18</td>\n",
       "      <td>NaT</td>\n",
       "      <td>Красноярск</td>\n",
       "      <td>Николай</td>\n",
       "      <td>...</td>\n",
       "      <td>2018-08-05</td>\n",
       "      <td>ultra</td>\n",
       "      <td>1000</td>\n",
       "      <td>30.0</td>\n",
       "      <td>3000</td>\n",
       "      <td>1950</td>\n",
       "      <td>150</td>\n",
       "      <td>1</td>\n",
       "      <td>1</td>\n",
       "      <td>1950.0</td>\n",
       "    </tr>\n",
       "    <tr>\n",
       "      <th>3208</th>\n",
       "      <td>1476</td>\n",
       "      <td>4</td>\n",
       "      <td>0.0</td>\n",
       "      <td>0.0</td>\n",
       "      <td>1.0</td>\n",
       "      <td>0.0</td>\n",
       "      <td>50</td>\n",
       "      <td>NaT</td>\n",
       "      <td>Москва</td>\n",
       "      <td>Валентина</td>\n",
       "      <td>...</td>\n",
       "      <td>2018-04-30</td>\n",
       "      <td>ultra</td>\n",
       "      <td>1000</td>\n",
       "      <td>30.0</td>\n",
       "      <td>3000</td>\n",
       "      <td>1950</td>\n",
       "      <td>150</td>\n",
       "      <td>1</td>\n",
       "      <td>1</td>\n",
       "      <td>1950.0</td>\n",
       "    </tr>\n",
       "  </tbody>\n",
       "</table>\n",
       "<p>985 rows × 21 columns</p>\n",
       "</div>"
      ],
      "text/plain": [
       "      user_id  months  duration  call_number  gb_used  message_number  age  \\\n",
       "0        1000       5     159.0         22.0      3.0            22.0   52   \n",
       "1        1000       6     172.0         43.0     23.0            60.0   52   \n",
       "2        1000       7     340.0         47.0     14.0            75.0   52   \n",
       "3        1000       8     408.0         52.0     14.0            81.0   52   \n",
       "4        1000       9     466.0         58.0     15.0            57.0   52   \n",
       "...       ...     ...       ...          ...      ...             ...  ...   \n",
       "3204     1473       9       0.0          0.0     17.0            19.0   18   \n",
       "3205     1473      10       0.0          0.0     14.0            20.0   18   \n",
       "3206     1473      11       0.0          0.0     22.0            14.0   18   \n",
       "3207     1473      12       0.0          0.0     18.0            20.0   18   \n",
       "3208     1476       4       0.0          0.0      1.0             0.0   50   \n",
       "\n",
       "     churn_date        city first_name  ...   reg_date tariff  \\\n",
       "0           NaT   Краснодар     Рафаил  ... 2018-05-25  ultra   \n",
       "1           NaT   Краснодар     Рафаил  ... 2018-05-25  ultra   \n",
       "2           NaT   Краснодар     Рафаил  ... 2018-05-25  ultra   \n",
       "3           NaT   Краснодар     Рафаил  ... 2018-05-25  ultra   \n",
       "4           NaT   Краснодар     Рафаил  ... 2018-05-25  ultra   \n",
       "...         ...         ...        ...  ...        ...    ...   \n",
       "3204        NaT  Красноярск    Николай  ... 2018-08-05  ultra   \n",
       "3205        NaT  Красноярск    Николай  ... 2018-08-05  ultra   \n",
       "3206        NaT  Красноярск    Николай  ... 2018-08-05  ultra   \n",
       "3207        NaT  Красноярск    Николай  ... 2018-08-05  ultra   \n",
       "3208        NaT      Москва  Валентина  ... 2018-04-30  ultra   \n",
       "\n",
       "     messages_included  gb_per_month_included  minutes_included  \\\n",
       "0                 1000                   30.0              3000   \n",
       "1                 1000                   30.0              3000   \n",
       "2                 1000                   30.0              3000   \n",
       "3                 1000                   30.0              3000   \n",
       "4                 1000                   30.0              3000   \n",
       "...                ...                    ...               ...   \n",
       "3204              1000                   30.0              3000   \n",
       "3205              1000                   30.0              3000   \n",
       "3206              1000                   30.0              3000   \n",
       "3207              1000                   30.0              3000   \n",
       "3208              1000                   30.0              3000   \n",
       "\n",
       "      rub_monthly_fee  rub_per_gb  rub_per_message  rub_per_minute  \\\n",
       "0                1950         150                1               1   \n",
       "1                1950         150                1               1   \n",
       "2                1950         150                1               1   \n",
       "3                1950         150                1               1   \n",
       "4                1950         150                1               1   \n",
       "...               ...         ...              ...             ...   \n",
       "3204             1950         150                1               1   \n",
       "3205             1950         150                1               1   \n",
       "3206             1950         150                1               1   \n",
       "3207             1950         150                1               1   \n",
       "3208             1950         150                1               1   \n",
       "\n",
       "      monthly_revenue  \n",
       "0              1950.0  \n",
       "1              1950.0  \n",
       "2              1950.0  \n",
       "3              1950.0  \n",
       "4              1950.0  \n",
       "...               ...  \n",
       "3204           1950.0  \n",
       "3205           1950.0  \n",
       "3206           1950.0  \n",
       "3207           1950.0  \n",
       "3208           1950.0  \n",
       "\n",
       "[985 rows x 21 columns]"
      ]
     },
     "metadata": {},
     "output_type": "display_data"
    },
    {
     "data": {
      "text/plain": [
       "526.6233502538071"
      ]
     },
     "metadata": {},
     "output_type": "display_data"
    },
    {
     "data": {
      "text/plain": [
       "100873.63339730089"
      ]
     },
     "metadata": {},
     "output_type": "display_data"
    },
    {
     "data": {
      "text/plain": [
       "317.60609785912624"
      ]
     },
     "metadata": {},
     "output_type": "display_data"
    }
   ],
   "source": [
    "#Находим статистики звонков для пользователей тарифа ultra.\n",
    "ultra = result_table_tariffs[result_table_tariffs['tariff'] == 'ultra']\n",
    "display(ultra)\n",
    "avg_minutes_ultra = ultra['duration'].mean()\n",
    "display(avg_minutes_ultra)\n",
    "variance_minutes_ultra = np.var(ultra['duration'], ddof = 1)\n",
    "display(variance_minutes_ultra)\n",
    "standard_deviation_minutes_ultra = np.sqrt(variance_minutes_ultra)\n",
    "display(standard_deviation_minutes_ultra)"
   ]
  },
  {
   "cell_type": "markdown",
   "metadata": {},
   "source": [
    "Средняя продолжительность разговоров стремится (но не равна, так как мы оценивем среднее по выборке) к 526.6 минутам. Дисперсия может быть оценена как равная 100873.63. Стандартное отклонение оценивается как 317.6 минуты, следовательно, разговоры по телефону  у абонентов с тарифом ultra свыше 1404 минут, являются выбросом."
   ]
  },
  {
   "cell_type": "code",
   "execution_count": 40,
   "metadata": {},
   "outputs": [
    {
     "data": {
      "text/plain": [
       "49.36345177664975"
      ]
     },
     "metadata": {},
     "output_type": "display_data"
    },
    {
     "data": {
      "text/plain": [
       "2285.2661425446818"
      ]
     },
     "metadata": {},
     "output_type": "display_data"
    },
    {
     "data": {
      "text/plain": [
       "47.8044573501748"
      ]
     },
     "metadata": {},
     "output_type": "display_data"
    }
   ],
   "source": [
    "#Находим статистики смс для пользователей тарифа ultra.\n",
    "avg_sms_number_ultra = ultra['message_number'].mean()\n",
    "display(avg_sms_number_ultra)\n",
    "variance_sms_number_ultra = np.var(ultra['message_number'], ddof = 1)\n",
    "display(variance_sms_number_ultra)\n",
    "standard_deviation_sms_number_ultra = np.sqrt(variance_sms_number_ultra)\n",
    "display(standard_deviation_sms_number_ultra)"
   ]
  },
  {
   "cell_type": "markdown",
   "metadata": {},
   "source": [
    "Среднее количество смс в месяц у пользователей тарифа ultra оценивается в 49. Дисперсия оценивается в 2285.27. Стандартное отклонение, таким образом, может быть оценено в 47.8. Следовательно, количество смс более 200 в месяц можно считать выбросом."
   ]
  },
  {
   "cell_type": "code",
   "execution_count": 41,
   "metadata": {},
   "outputs": [
    {
     "data": {
      "text/plain": [
       "19.494416243654822"
      ]
     },
     "metadata": {},
     "output_type": "display_data"
    },
    {
     "data": {
      "text/plain": [
       "97.09168626965472"
      ]
     },
     "metadata": {},
     "output_type": "display_data"
    },
    {
     "data": {
      "text/plain": [
       "9.8535113675103"
      ]
     },
     "metadata": {},
     "output_type": "display_data"
    }
   ],
   "source": [
    "#Находим статистики трафика интернета для пользователей тарифа ultra.\n",
    "avg_gb_ultra = ultra['gb_used'].mean()\n",
    "display(avg_gb_ultra)\n",
    "variance_gb_ultra = np.var(ultra['gb_used'], ddof = 1)\n",
    "display(variance_gb_ultra)\n",
    "standard_deviation_gb_ultra = np.sqrt(variance_gb_ultra)\n",
    "display(standard_deviation_gb_ultra)"
   ]
  },
  {
   "cell_type": "markdown",
   "metadata": {},
   "source": [
    "Среднее значение использованного трафика в Гб. оценивается в 19.5. Дисперсия оценочно равна 97.1. Стандартное отклонение может быть оценено в 9.85 Гб. Таким образом, использованный трпафик более 49 Гб. в месяц, будет выбросом."
   ]
  },
  {
   "cell_type": "code",
   "execution_count": 42,
   "metadata": {},
   "outputs": [
    {
     "data": {
      "text/html": [
       "<div>\n",
       "<style scoped>\n",
       "    .dataframe tbody tr th:only-of-type {\n",
       "        vertical-align: middle;\n",
       "    }\n",
       "\n",
       "    .dataframe tbody tr th {\n",
       "        vertical-align: top;\n",
       "    }\n",
       "\n",
       "    .dataframe thead th {\n",
       "        text-align: right;\n",
       "    }\n",
       "</style>\n",
       "<table border=\"1\" class=\"dataframe\">\n",
       "  <thead>\n",
       "    <tr style=\"text-align: right;\">\n",
       "      <th></th>\n",
       "      <th>user_id</th>\n",
       "      <th>months</th>\n",
       "      <th>duration</th>\n",
       "      <th>call_number</th>\n",
       "      <th>gb_used</th>\n",
       "      <th>message_number</th>\n",
       "      <th>age</th>\n",
       "      <th>churn_date</th>\n",
       "      <th>city</th>\n",
       "      <th>first_name</th>\n",
       "      <th>...</th>\n",
       "      <th>reg_date</th>\n",
       "      <th>tariff</th>\n",
       "      <th>messages_included</th>\n",
       "      <th>gb_per_month_included</th>\n",
       "      <th>minutes_included</th>\n",
       "      <th>rub_monthly_fee</th>\n",
       "      <th>rub_per_gb</th>\n",
       "      <th>rub_per_message</th>\n",
       "      <th>rub_per_minute</th>\n",
       "      <th>monthly_revenue</th>\n",
       "    </tr>\n",
       "  </thead>\n",
       "  <tbody>\n",
       "    <tr>\n",
       "      <th>8</th>\n",
       "      <td>1001</td>\n",
       "      <td>11</td>\n",
       "      <td>430.0</td>\n",
       "      <td>59.0</td>\n",
       "      <td>18.0</td>\n",
       "      <td>0.0</td>\n",
       "      <td>41</td>\n",
       "      <td>NaT</td>\n",
       "      <td>Москва</td>\n",
       "      <td>Иван</td>\n",
       "      <td>...</td>\n",
       "      <td>2018-11-01</td>\n",
       "      <td>smart</td>\n",
       "      <td>50</td>\n",
       "      <td>15.0</td>\n",
       "      <td>500</td>\n",
       "      <td>550</td>\n",
       "      <td>200</td>\n",
       "      <td>3</td>\n",
       "      <td>3</td>\n",
       "      <td>1150.0</td>\n",
       "    </tr>\n",
       "    <tr>\n",
       "      <th>9</th>\n",
       "      <td>1001</td>\n",
       "      <td>12</td>\n",
       "      <td>414.0</td>\n",
       "      <td>63.0</td>\n",
       "      <td>14.0</td>\n",
       "      <td>0.0</td>\n",
       "      <td>41</td>\n",
       "      <td>NaT</td>\n",
       "      <td>Москва</td>\n",
       "      <td>Иван</td>\n",
       "      <td>...</td>\n",
       "      <td>2018-11-01</td>\n",
       "      <td>smart</td>\n",
       "      <td>50</td>\n",
       "      <td>15.0</td>\n",
       "      <td>500</td>\n",
       "      <td>550</td>\n",
       "      <td>200</td>\n",
       "      <td>3</td>\n",
       "      <td>3</td>\n",
       "      <td>550.0</td>\n",
       "    </tr>\n",
       "    <tr>\n",
       "      <th>10</th>\n",
       "      <td>1002</td>\n",
       "      <td>6</td>\n",
       "      <td>117.0</td>\n",
       "      <td>15.0</td>\n",
       "      <td>11.0</td>\n",
       "      <td>4.0</td>\n",
       "      <td>59</td>\n",
       "      <td>NaT</td>\n",
       "      <td>Стерлитамак</td>\n",
       "      <td>Евгений</td>\n",
       "      <td>...</td>\n",
       "      <td>2018-06-17</td>\n",
       "      <td>smart</td>\n",
       "      <td>50</td>\n",
       "      <td>15.0</td>\n",
       "      <td>500</td>\n",
       "      <td>550</td>\n",
       "      <td>200</td>\n",
       "      <td>3</td>\n",
       "      <td>3</td>\n",
       "      <td>550.0</td>\n",
       "    </tr>\n",
       "    <tr>\n",
       "      <th>11</th>\n",
       "      <td>1002</td>\n",
       "      <td>7</td>\n",
       "      <td>214.0</td>\n",
       "      <td>26.0</td>\n",
       "      <td>18.0</td>\n",
       "      <td>11.0</td>\n",
       "      <td>59</td>\n",
       "      <td>NaT</td>\n",
       "      <td>Стерлитамак</td>\n",
       "      <td>Евгений</td>\n",
       "      <td>...</td>\n",
       "      <td>2018-06-17</td>\n",
       "      <td>smart</td>\n",
       "      <td>50</td>\n",
       "      <td>15.0</td>\n",
       "      <td>500</td>\n",
       "      <td>550</td>\n",
       "      <td>200</td>\n",
       "      <td>3</td>\n",
       "      <td>3</td>\n",
       "      <td>1150.0</td>\n",
       "    </tr>\n",
       "    <tr>\n",
       "      <th>12</th>\n",
       "      <td>1002</td>\n",
       "      <td>8</td>\n",
       "      <td>289.0</td>\n",
       "      <td>42.0</td>\n",
       "      <td>20.0</td>\n",
       "      <td>13.0</td>\n",
       "      <td>59</td>\n",
       "      <td>NaT</td>\n",
       "      <td>Стерлитамак</td>\n",
       "      <td>Евгений</td>\n",
       "      <td>...</td>\n",
       "      <td>2018-06-17</td>\n",
       "      <td>smart</td>\n",
       "      <td>50</td>\n",
       "      <td>15.0</td>\n",
       "      <td>500</td>\n",
       "      <td>550</td>\n",
       "      <td>200</td>\n",
       "      <td>3</td>\n",
       "      <td>3</td>\n",
       "      <td>1550.0</td>\n",
       "    </tr>\n",
       "    <tr>\n",
       "      <th>...</th>\n",
       "      <td>...</td>\n",
       "      <td>...</td>\n",
       "      <td>...</td>\n",
       "      <td>...</td>\n",
       "      <td>...</td>\n",
       "      <td>...</td>\n",
       "      <td>...</td>\n",
       "      <td>...</td>\n",
       "      <td>...</td>\n",
       "      <td>...</td>\n",
       "      <td>...</td>\n",
       "      <td>...</td>\n",
       "      <td>...</td>\n",
       "      <td>...</td>\n",
       "      <td>...</td>\n",
       "      <td>...</td>\n",
       "      <td>...</td>\n",
       "      <td>...</td>\n",
       "      <td>...</td>\n",
       "      <td>...</td>\n",
       "      <td>...</td>\n",
       "    </tr>\n",
       "    <tr>\n",
       "      <th>3209</th>\n",
       "      <td>1489</td>\n",
       "      <td>8</td>\n",
       "      <td>0.0</td>\n",
       "      <td>0.0</td>\n",
       "      <td>11.0</td>\n",
       "      <td>17.0</td>\n",
       "      <td>35</td>\n",
       "      <td>NaT</td>\n",
       "      <td>Санкт-Петербург</td>\n",
       "      <td>Павел</td>\n",
       "      <td>...</td>\n",
       "      <td>2018-08-15</td>\n",
       "      <td>smart</td>\n",
       "      <td>50</td>\n",
       "      <td>15.0</td>\n",
       "      <td>500</td>\n",
       "      <td>550</td>\n",
       "      <td>200</td>\n",
       "      <td>3</td>\n",
       "      <td>3</td>\n",
       "      <td>550.0</td>\n",
       "    </tr>\n",
       "    <tr>\n",
       "      <th>3210</th>\n",
       "      <td>1489</td>\n",
       "      <td>9</td>\n",
       "      <td>0.0</td>\n",
       "      <td>0.0</td>\n",
       "      <td>17.0</td>\n",
       "      <td>32.0</td>\n",
       "      <td>35</td>\n",
       "      <td>NaT</td>\n",
       "      <td>Санкт-Петербург</td>\n",
       "      <td>Павел</td>\n",
       "      <td>...</td>\n",
       "      <td>2018-08-15</td>\n",
       "      <td>smart</td>\n",
       "      <td>50</td>\n",
       "      <td>15.0</td>\n",
       "      <td>500</td>\n",
       "      <td>550</td>\n",
       "      <td>200</td>\n",
       "      <td>3</td>\n",
       "      <td>3</td>\n",
       "      <td>950.0</td>\n",
       "    </tr>\n",
       "    <tr>\n",
       "      <th>3211</th>\n",
       "      <td>1489</td>\n",
       "      <td>10</td>\n",
       "      <td>0.0</td>\n",
       "      <td>0.0</td>\n",
       "      <td>20.0</td>\n",
       "      <td>21.0</td>\n",
       "      <td>35</td>\n",
       "      <td>NaT</td>\n",
       "      <td>Санкт-Петербург</td>\n",
       "      <td>Павел</td>\n",
       "      <td>...</td>\n",
       "      <td>2018-08-15</td>\n",
       "      <td>smart</td>\n",
       "      <td>50</td>\n",
       "      <td>15.0</td>\n",
       "      <td>500</td>\n",
       "      <td>550</td>\n",
       "      <td>200</td>\n",
       "      <td>3</td>\n",
       "      <td>3</td>\n",
       "      <td>1550.0</td>\n",
       "    </tr>\n",
       "    <tr>\n",
       "      <th>3212</th>\n",
       "      <td>1489</td>\n",
       "      <td>11</td>\n",
       "      <td>0.0</td>\n",
       "      <td>0.0</td>\n",
       "      <td>18.0</td>\n",
       "      <td>20.0</td>\n",
       "      <td>35</td>\n",
       "      <td>NaT</td>\n",
       "      <td>Санкт-Петербург</td>\n",
       "      <td>Павел</td>\n",
       "      <td>...</td>\n",
       "      <td>2018-08-15</td>\n",
       "      <td>smart</td>\n",
       "      <td>50</td>\n",
       "      <td>15.0</td>\n",
       "      <td>500</td>\n",
       "      <td>550</td>\n",
       "      <td>200</td>\n",
       "      <td>3</td>\n",
       "      <td>3</td>\n",
       "      <td>1150.0</td>\n",
       "    </tr>\n",
       "    <tr>\n",
       "      <th>3213</th>\n",
       "      <td>1489</td>\n",
       "      <td>12</td>\n",
       "      <td>0.0</td>\n",
       "      <td>0.0</td>\n",
       "      <td>17.0</td>\n",
       "      <td>35.0</td>\n",
       "      <td>35</td>\n",
       "      <td>NaT</td>\n",
       "      <td>Санкт-Петербург</td>\n",
       "      <td>Павел</td>\n",
       "      <td>...</td>\n",
       "      <td>2018-08-15</td>\n",
       "      <td>smart</td>\n",
       "      <td>50</td>\n",
       "      <td>15.0</td>\n",
       "      <td>500</td>\n",
       "      <td>550</td>\n",
       "      <td>200</td>\n",
       "      <td>3</td>\n",
       "      <td>3</td>\n",
       "      <td>950.0</td>\n",
       "    </tr>\n",
       "  </tbody>\n",
       "</table>\n",
       "<p>2229 rows × 21 columns</p>\n",
       "</div>"
      ],
      "text/plain": [
       "      user_id  months  duration  call_number  gb_used  message_number  age  \\\n",
       "8        1001      11     430.0         59.0     18.0             0.0   41   \n",
       "9        1001      12     414.0         63.0     14.0             0.0   41   \n",
       "10       1002       6     117.0         15.0     11.0             4.0   59   \n",
       "11       1002       7     214.0         26.0     18.0            11.0   59   \n",
       "12       1002       8     289.0         42.0     20.0            13.0   59   \n",
       "...       ...     ...       ...          ...      ...             ...  ...   \n",
       "3209     1489       8       0.0          0.0     11.0            17.0   35   \n",
       "3210     1489       9       0.0          0.0     17.0            32.0   35   \n",
       "3211     1489      10       0.0          0.0     20.0            21.0   35   \n",
       "3212     1489      11       0.0          0.0     18.0            20.0   35   \n",
       "3213     1489      12       0.0          0.0     17.0            35.0   35   \n",
       "\n",
       "     churn_date             city first_name  ...   reg_date tariff  \\\n",
       "8           NaT           Москва       Иван  ... 2018-11-01  smart   \n",
       "9           NaT           Москва       Иван  ... 2018-11-01  smart   \n",
       "10          NaT      Стерлитамак    Евгений  ... 2018-06-17  smart   \n",
       "11          NaT      Стерлитамак    Евгений  ... 2018-06-17  smart   \n",
       "12          NaT      Стерлитамак    Евгений  ... 2018-06-17  smart   \n",
       "...         ...              ...        ...  ...        ...    ...   \n",
       "3209        NaT  Санкт-Петербург      Павел  ... 2018-08-15  smart   \n",
       "3210        NaT  Санкт-Петербург      Павел  ... 2018-08-15  smart   \n",
       "3211        NaT  Санкт-Петербург      Павел  ... 2018-08-15  smart   \n",
       "3212        NaT  Санкт-Петербург      Павел  ... 2018-08-15  smart   \n",
       "3213        NaT  Санкт-Петербург      Павел  ... 2018-08-15  smart   \n",
       "\n",
       "     messages_included  gb_per_month_included  minutes_included  \\\n",
       "8                   50                   15.0               500   \n",
       "9                   50                   15.0               500   \n",
       "10                  50                   15.0               500   \n",
       "11                  50                   15.0               500   \n",
       "12                  50                   15.0               500   \n",
       "...                ...                    ...               ...   \n",
       "3209                50                   15.0               500   \n",
       "3210                50                   15.0               500   \n",
       "3211                50                   15.0               500   \n",
       "3212                50                   15.0               500   \n",
       "3213                50                   15.0               500   \n",
       "\n",
       "      rub_monthly_fee  rub_per_gb  rub_per_message  rub_per_minute  \\\n",
       "8                 550         200                3               3   \n",
       "9                 550         200                3               3   \n",
       "10                550         200                3               3   \n",
       "11                550         200                3               3   \n",
       "12                550         200                3               3   \n",
       "...               ...         ...              ...             ...   \n",
       "3209              550         200                3               3   \n",
       "3210              550         200                3               3   \n",
       "3211              550         200                3               3   \n",
       "3212              550         200                3               3   \n",
       "3213              550         200                3               3   \n",
       "\n",
       "      monthly_revenue  \n",
       "8              1150.0  \n",
       "9               550.0  \n",
       "10              550.0  \n",
       "11             1150.0  \n",
       "12             1550.0  \n",
       "...               ...  \n",
       "3209            550.0  \n",
       "3210            950.0  \n",
       "3211           1550.0  \n",
       "3212           1150.0  \n",
       "3213            950.0  \n",
       "\n",
       "[2229 rows x 21 columns]"
      ]
     },
     "metadata": {},
     "output_type": "display_data"
    },
    {
     "data": {
      "text/plain": [
       "417.9349484073576"
      ]
     },
     "metadata": {},
     "output_type": "display_data"
    },
    {
     "data": {
      "text/plain": [
       "36219.31578434424"
      ]
     },
     "metadata": {},
     "output_type": "display_data"
    },
    {
     "data": {
      "text/plain": [
       "190.31372988921277"
      ]
     },
     "metadata": {},
     "output_type": "display_data"
    }
   ],
   "source": [
    "#Находим статистики звонков для пользователей тарифа smart.\n",
    "smart = result_table_tariffs[result_table_tariffs['tariff'] == 'smart']\n",
    "display(smart)\n",
    "avg_minutes_smart = smart['duration'].mean()\n",
    "display(avg_minutes_smart)\n",
    "variance_minutes_smart = np.var(smart['duration'], ddof = 1)\n",
    "display(variance_minutes_smart)\n",
    "standard_deviation_minutes_smart = np.sqrt(variance_minutes_smart)\n",
    "display(standard_deviation_minutes_smart)"
   ]
  },
  {
   "cell_type": "markdown",
   "metadata": {},
   "source": [
    "Среднее значение продолжительности разговором для абонентов с тарифом smart оценивается в 417.93 минуты. Дисперсия оценочно равна 36219.31. Стандартное отклонение может быть оценено в 190.31 минуты. Следовательно, разговоры продолжительностью более 989 минут являюся выбросом."
   ]
  },
  {
   "cell_type": "code",
   "execution_count": 43,
   "metadata": {},
   "outputs": [
    {
     "data": {
      "text/plain": [
       "33.384028712427096"
      ]
     },
     "metadata": {},
     "output_type": "display_data"
    },
    {
     "data": {
      "text/plain": [
       "796.8129584480083"
      ]
     },
     "metadata": {},
     "output_type": "display_data"
    },
    {
     "data": {
      "text/plain": [
       "28.22787555676141"
      ]
     },
     "metadata": {},
     "output_type": "display_data"
    }
   ],
   "source": [
    "#Находим статистики смс для пользователей тарифа smart.\n",
    "avg_sms_number_smart = smart['message_number'].mean()\n",
    "display(avg_sms_number_smart)\n",
    "variance_sms_number_smart = np.var(smart['message_number'], ddof = 1)\n",
    "display(variance_sms_number_smart)\n",
    "standard_deviation_sms_number_smart = np.sqrt(variance_sms_number_smart)\n",
    "display(standard_deviation_sms_number_smart)"
   ]
  },
  {
   "cell_type": "markdown",
   "metadata": {},
   "source": [
    "Среднее количество смс в месяц у пользователей тарифа ultra оценивается в 33.38. Дисперсия оценивается в 796.81. Стандарстное отклонение, таким образом, может быть оценено в 28.23. Следовательно, количество смс более 85 в месяц можно считать выбросом."
   ]
  },
  {
   "cell_type": "code",
   "execution_count": 44,
   "metadata": {},
   "outputs": [
    {
     "data": {
      "text/plain": [
       "16.328847016599372"
      ]
     },
     "metadata": {},
     "output_type": "display_data"
    },
    {
     "data": {
      "text/plain": [
       "33.02870517811158"
      ]
     },
     "metadata": {},
     "output_type": "display_data"
    },
    {
     "data": {
      "text/plain": [
       "5.747060568509052"
      ]
     },
     "metadata": {},
     "output_type": "display_data"
    }
   ],
   "source": [
    "#Находим статистики трафика интернета для пользователей тарифа smart.\n",
    "avg_gb_smart = smart['gb_used'].mean()\n",
    "display(avg_gb_smart)\n",
    "variance_gb_smart = np.var(smart['gb_used'], ddof = 1)\n",
    "display(variance_gb_smart)\n",
    "standard_deviation_gb_smart = np.sqrt(variance_gb_smart)\n",
    "display(standard_deviation_gb_smart)"
   ]
  },
  {
   "cell_type": "markdown",
   "metadata": {},
   "source": [
    "Среднее значение использованного трафика в Гб. оценивается в 16.33. Дисперсия оценочно равна 33.02. Стандартное отклонение может быть оценено в 5.75 Гб. Таким образом, использованный трпафик более 33.55  Гб. в месяц, будет выбросом."
   ]
  },
  {
   "cell_type": "code",
   "execution_count": 45,
   "metadata": {},
   "outputs": [
    {
     "data": {
      "image/png": "[encoded data removed]",
      "text/plain": [
       "<Figure size 432x288 with 1 Axes>"
      ]
     },
     "metadata": {
      "needs_background": "light"
     },
     "output_type": "display_data"
    }
   ],
   "source": [
    "#Сравниваем распределения длительности разговоров в месяц по тарифам.\n",
    "ax = sns.histplot(smart['duration'], bins = 50, color = 'blue')\n",
    "sns.histplot(ultra['duration'], bins = 50, color=\"orange\", alpha = 0.7)\n",
    "plt.title('Распределение длительности разговоров в месяц')\n",
    "ax.set(xlabel='Количество абонентов', ylabel='Длительность разговоров')\n",
    "ax.legend(['smart', 'ultra'])\n",
    "plt.show()"
   ]
  },
  {
   "cell_type": "markdown",
   "metadata": {},
   "source": [
    "Средняя продлжительность разговоров в месяц среди пользователей тарифа ultra распределена нормально со средним 526.623, дисперсией 100873.633 и стандартным отклонением 317.606.\n",
    "Существует значительное количество абонентов, не совершавших разговоров в течение отдельных месяцев. Это отразилось в виде высокого столбца со значением 0. Распределение длительности разговоров близко к нормальному, но несколько скошено вправо. Согласно правилу трёх сигм, продолжительность разговоров свыше 1404 минут в месяц можно считать выбросом. Это очень важно, с учётом того, что тариф включает в себя 3000 оплаченных минут разговора в месяц.\n",
    "\n",
    "Средняя продолжительность разговоров для пользователей тарифа smart распределена нормально со средним 417.934, дисперсией 36219.315 и стандартным отклонением 190.313. С учётом того, что тариф предоставляет 500 минут разговора в месяц, средний пользователь тарифа не использует пакет звонков полностью. Максимальной длительностью разговоров для этой группы абонентов согласно правилу трёх сигм можно считать 989 минут. Всё что больше (до 1400 митнут) - составляет выброс."
   ]
  },
  {
   "cell_type": "code",
   "execution_count": 46,
   "metadata": {},
   "outputs": [
    {
     "data": {
      "image/png": "[encoded data removed]",
      "text/plain": [
       "<Figure size 432x288 with 1 Axes>"
      ]
     },
     "metadata": {
      "needs_background": "light"
     },
     "output_type": "display_data"
    }
   ],
   "source": [
    "#Сравниваем распределения количества смс в месяц по тарифам.\n",
    "ax = sns.histplot(smart['message_number'], bins = 50, color = 'blue')\n",
    "sns.histplot(ultra['message_number'], bins = 50, color=\"orange\", alpha = 0.7)\n",
    "plt.title('Распределение количества смс в месяц')\n",
    "ax.set(xlabel='Количество абонентов', ylabel='Количество смс в месяц')\n",
    "ax.legend(['smart', 'ultra'])\n",
    "plt.show()"
   ]
  },
  {
   "cell_type": "markdown",
   "metadata": {},
   "source": [
    "Количество смс, отправленных в месяц одним абонентом в месяц среди пользователей тарифа ultra распределено нормально (данные положительно скошены) со средним 49.363, дисперсией 2285.266 и стандартным отклонением 47.804.\n",
    "Правый столбец диаграммы показывает, что более четверти пользователей тарифа ultra не пользуются смс. Подавляющее большинство их отправляет не более 200 смс в месяц. В то же время тариф прдлагает 1000 оплаченных смс в месяц.\n",
    "\n",
    "Количество смс, отправленных пользователями тарифа smart распределена нормально (данные положительно скошены) со средним 33.384, дисперсией 796.812 и стандартным отклонением 28.228.\n",
    "Столбец слева показывает, как и в случае с тарифом ultra, большое количество абонентов, не пользовавшихся смс (не менее 16% от общего количества пользователей тарифа smart). Среднее количество смс, отправляемых в месяц по этому тарифу - 33-34. В соответствии с правилом трёх сигм, основная масса абонентов, пользующихся тарифом smart,  отправляет не более 85 смс в месяц, при включенных в тариф 50 смс в месяц. Таким образом, часть абонентов приносит оператору дополнительную прибыль."
   ]
  },
  {
   "cell_type": "code",
   "execution_count": 47,
   "metadata": {},
   "outputs": [
    {
     "data": {
      "image/png": "[encoded data removed]",
      "text/plain": [
       "<Figure size 432x288 with 1 Axes>"
      ]
     },
     "metadata": {
      "needs_background": "light"
     },
     "output_type": "display_data"
    }
   ],
   "source": [
    "#Сравниваем распределения интернет-трафика в месяц по тарифам.\n",
    "ax = sns.histplot(smart['gb_used'], bins = 50, color = 'blue')\n",
    "sns.histplot(ultra['gb_used'], bins = 50, color=\"orange\", alpha = 0.7)\n",
    "plt.title('Распределение трафика в месяц')\n",
    "ax.set(xlabel='Количество абонентов', ylabel='Количество трафика в месяц')\n",
    "ax.legend(['smart', 'ultra'])\n",
    "plt.show()"
   ]
  },
  {
   "cell_type": "markdown",
   "metadata": {},
   "source": [
    "Количество гигабайт интернет-трафика, использованного в месяц среди пользователей тарифа ultra распределена нормально со средним 19.494, дисперсией 97.091 и стандартным отклонением 9.853. \n",
    "Около половины абонентов используют трафик больше среднего значения. Объём трафика, использованного за месяц доходит до 49 гб. То есть, значительная часть пользователей превышает предоставленный тарифом лимит в 30 гб.\n",
    "\n",
    "Количество интернет-трафика пользователей тарифа smart распределено нормально со средним 16.329, дисперсией 33.029 и стандартным отклонением 5.747.\n",
    "Средний объём использованного трафика по тарифу smart составил 16.33 Гб. Осномная масса абонентов использовала в месяц не более 33.55 Гб. в месяц, при том, что тариф предоставляет только 15 Гб. трафика в месяц. Не менее половины пользователей тарифа smart доплачивают за интернет сверх тарифа.\n",
    "В целом, можно говорить, что для обоих тарифов свойственны общие тенденции как в использовании звонков (средний абонент не использует все минуты разговора),\n",
    "так и в использовании смс (значительное количество абонентов не пользуется смс вовсе, и в среднем эта услуга не очень популярна, а использование смс сверх тарифа в smart происходит только за счёт очень малого количества смс, включённых в тариф)\n",
    "и так же в использовании интернет-трафика (абоненты в обоих случаях активно пользуются интернетом и часто платят за дополнительный трафик)."
   ]
  },
  {
   "cell_type": "code",
   "execution_count": 48,
   "metadata": {},
   "outputs": [
    {
     "data": {
      "text/plain": [
       "2070.1522842639592"
      ]
     },
     "metadata": {},
     "output_type": "display_data"
    },
    {
     "data": {
      "text/plain": [
       "141516.74507861698"
      ]
     },
     "metadata": {},
     "output_type": "display_data"
    },
    {
     "data": {
      "text/plain": [
       "376.1871144505311"
      ]
     },
     "metadata": {},
     "output_type": "display_data"
    }
   ],
   "source": [
    "monthly_revenue_ultra = ultra['monthly_revenue'].mean()\n",
    "display(monthly_revenue_ultra)\n",
    "variance_monthly_revenue_ultra = np.var(ultra['monthly_revenue'], ddof = 1)\n",
    "display(variance_monthly_revenue_ultra)\n",
    "standard_deviation_monthly_revenue_ultra = np.sqrt(variance_monthly_revenue_ultra)\n",
    "display(standard_deviation_monthly_revenue_ultra)"
   ]
  },
  {
   "cell_type": "markdown",
   "metadata": {},
   "source": [
    "Оценочное среднее месячного дохода от каждого пользователя с тарифом ultra равно 2070.15. Дисперсия оценочно равна 141516.75. Стандартное отклонение составляет 376.19. Таким образом, основная масса пользователей тарифа ultra платит до 3198.72 рублей в месяц. Всё, что выше можно считать выбросом."
   ]
  },
  {
   "cell_type": "code",
   "execution_count": 49,
   "metadata": {},
   "outputs": [
    {
     "data": {
      "text/plain": [
       "1289.9735307312696"
      ]
     },
     "metadata": {},
     "output_type": "display_data"
    },
    {
     "data": {
      "text/plain": [
       "669785.7080064153"
      ]
     },
     "metadata": {},
     "output_type": "display_data"
    },
    {
     "data": {
      "text/plain": [
       "818.4043670499415"
      ]
     },
     "metadata": {},
     "output_type": "display_data"
    }
   ],
   "source": [
    "#Находим статистики помесячного дохода для пользователей тарифа ultra.\n",
    "monthly_revenue_smart = smart['monthly_revenue'].mean()\n",
    "display(monthly_revenue_smart)\n",
    "variance_monthly_revenue_smart = np.var(smart['monthly_revenue'], ddof = 1)\n",
    "display(variance_monthly_revenue_smart)\n",
    "standard_deviation_monthly_revenue_smart = np.sqrt(variance_monthly_revenue_smart)\n",
    "display(standard_deviation_monthly_revenue_smart)"
   ]
  },
  {
   "cell_type": "markdown",
   "metadata": {},
   "source": [
    "Оценочное среднее месячного дохода от каждого пользователя с тарифом smart равно 1289.97. Дисперсия оценочно равна 669785.71. Стандартное отклонение составляет 818.4. Таким образом, основная масса пользователей тарифа smart платит до 3745.17 рублей в месяц. Всё, что выше можно считать выбросом."
   ]
  },
  {
   "cell_type": "code",
   "execution_count": 50,
   "metadata": {},
   "outputs": [
    {
     "data": {
      "text/plain": [
       "Text(0, 0.5, 'Рубли')"
      ]
     },
     "execution_count": 50,
     "metadata": {},
     "output_type": "execute_result"
    },
    {
     "data": {
      "image/png": "[encoded data removed]",
      "text/plain": [
       "<Figure size 432x288 with 1 Axes>"
      ]
     },
     "metadata": {
      "needs_background": "light"
     },
     "output_type": "display_data"
    }
   ],
   "source": [
    "#Сравниваем среднюю выручку с одного пользователя в месяц по тарифам.\n",
    "result_table_tariffs.pivot_table(index='tariff', columns='months', values='monthly_revenue', aggfunc='mean').T.plot(kind='bar', alpha=0.5)\n",
    "plt.title('Средняя ежемесячная выручка по 2-м тарифам за год'+ \"\\n\")\n",
    "plt.xlabel('Месяц')\n",
    "plt.ylabel('Рубли')"
   ]
  },
  {
   "cell_type": "markdown",
   "metadata": {},
   "source": [
    "Выручка от тарифа ultra всегда заметно больше, чем от тарифа smart. Если выручка от тарифа ultra всегда в течение года распределена более или менее равномерно, то выручка от тарифа smart в течение года имеет тенденцию к росту."
   ]
  },
  {
   "cell_type": "markdown",
   "metadata": {},
   "source": [
    "## Проверка гипотез.<a id=\"hypothesis_testing\"></a>"
   ]
  },
  {
   "cell_type": "markdown",
   "metadata": {},
   "source": [
    "### Первая гипотеза."
   ]
  },
  {
   "cell_type": "markdown",
   "metadata": {},
   "source": [
    "Нулевая гипотеза: средняя выручка пользователей тарифов «Ультра» и «Смарт» не отличаются.\n",
    "Альтернативная гипотеза: средняя выручка пользователей тарифов «Ультра» и «Смарт» отличаются.\n",
    "Нулевая гипотеза должна быть сформулирована, чтобы в ней присутствовал знак \"=\". Альтернативная сформулирована так, чтобы протитворечить нулевой."
   ]
  },
  {
   "cell_type": "code",
   "execution_count": 51,
   "metadata": {},
   "outputs": [
    {
     "data": {
      "text/plain": [
       "'Средний месячный доход от одного пользователя тарифа ultra:'"
      ]
     },
     "metadata": {},
     "output_type": "display_data"
    },
    {
     "data": {
      "text/plain": [
       "2070.1522842639592"
      ]
     },
     "metadata": {},
     "output_type": "display_data"
    },
    {
     "data": {
      "text/plain": [
       "'Средний месячный доход от одного пользователя тарифа smart:'"
      ]
     },
     "metadata": {},
     "output_type": "display_data"
    },
    {
     "data": {
      "text/plain": [
       "1289.9735307312696"
      ]
     },
     "metadata": {},
     "output_type": "display_data"
    },
    {
     "data": {
      "text/plain": [
       "'p-значение:'"
      ]
     },
     "metadata": {},
     "output_type": "display_data"
    },
    {
     "data": {
      "text/plain": [
       "1.4229814360764067e-160"
      ]
     },
     "metadata": {},
     "output_type": "display_data"
    },
    {
     "data": {
      "text/plain": [
       "'Отвергаем нулевую гипотезу'"
      ]
     },
     "metadata": {},
     "output_type": "display_data"
    }
   ],
   "source": [
    "#Проверяем гипотезу\n",
    "sample1 = ultra['monthly_revenue']\n",
    "sample2 = smart['monthly_revenue']\n",
    "\n",
    "alpha = .05\n",
    "\n",
    "results = st.ttest_ind(sample1, sample2)\n",
    "\n",
    "display('Средний месячный доход от одного пользователя тарифа ultra:', ultra['monthly_revenue'].mean())\n",
    "display('Средний месячный доход от одного пользователя тарифа smart:', smart['monthly_revenue'].mean())\n",
    "\n",
    "display('p-значение:', results.pvalue)\n",
    "\n",
    "if results.pvalue < alpha:\n",
    "    display('Отвергаем нулевую гипотезу')\n",
    "else:\n",
    "    display('Не получилось отвергнуть нулевую гипотезу')"
   ]
  },
  {
   "cell_type": "markdown",
   "metadata": {},
   "source": [
    "Гипотеза о равенстве средней выручки пользователей тарифов ultra и smart отвергнута. Дополнительные расчёты показывают, что средняя выручка абонентов, пользующихся тарифом ultra в 1.6 раза больше, чем средняя выручка абонентов, пользующихся тарифом smart.\n",
    "Если бы критический уровень статистической значимости был равен 0.01, результат был бы тот же."
   ]
  },
  {
   "cell_type": "code",
   "execution_count": 52,
   "metadata": {},
   "outputs": [
    {
     "data": {
      "text/html": [
       "<div>\n",
       "<style scoped>\n",
       "    .dataframe tbody tr th:only-of-type {\n",
       "        vertical-align: middle;\n",
       "    }\n",
       "\n",
       "    .dataframe tbody tr th {\n",
       "        vertical-align: top;\n",
       "    }\n",
       "\n",
       "    .dataframe thead th {\n",
       "        text-align: right;\n",
       "    }\n",
       "</style>\n",
       "<table border=\"1\" class=\"dataframe\">\n",
       "  <thead>\n",
       "    <tr style=\"text-align: right;\">\n",
       "      <th></th>\n",
       "      <th>user_id</th>\n",
       "      <th>months</th>\n",
       "      <th>duration</th>\n",
       "      <th>call_number</th>\n",
       "      <th>gb_used</th>\n",
       "      <th>message_number</th>\n",
       "      <th>age</th>\n",
       "      <th>churn_date</th>\n",
       "      <th>city</th>\n",
       "      <th>first_name</th>\n",
       "      <th>...</th>\n",
       "      <th>reg_date</th>\n",
       "      <th>tariff</th>\n",
       "      <th>messages_included</th>\n",
       "      <th>gb_per_month_included</th>\n",
       "      <th>minutes_included</th>\n",
       "      <th>rub_monthly_fee</th>\n",
       "      <th>rub_per_gb</th>\n",
       "      <th>rub_per_message</th>\n",
       "      <th>rub_per_minute</th>\n",
       "      <th>monthly_revenue</th>\n",
       "    </tr>\n",
       "  </thead>\n",
       "  <tbody>\n",
       "    <tr>\n",
       "      <th>8</th>\n",
       "      <td>1001</td>\n",
       "      <td>11</td>\n",
       "      <td>430.0</td>\n",
       "      <td>59.0</td>\n",
       "      <td>18.0</td>\n",
       "      <td>0.0</td>\n",
       "      <td>41</td>\n",
       "      <td>NaT</td>\n",
       "      <td>Москва</td>\n",
       "      <td>Иван</td>\n",
       "      <td>...</td>\n",
       "      <td>2018-11-01</td>\n",
       "      <td>smart</td>\n",
       "      <td>50</td>\n",
       "      <td>15.0</td>\n",
       "      <td>500</td>\n",
       "      <td>550</td>\n",
       "      <td>200</td>\n",
       "      <td>3</td>\n",
       "      <td>3</td>\n",
       "      <td>1150.0</td>\n",
       "    </tr>\n",
       "    <tr>\n",
       "      <th>9</th>\n",
       "      <td>1001</td>\n",
       "      <td>12</td>\n",
       "      <td>414.0</td>\n",
       "      <td>63.0</td>\n",
       "      <td>14.0</td>\n",
       "      <td>0.0</td>\n",
       "      <td>41</td>\n",
       "      <td>NaT</td>\n",
       "      <td>Москва</td>\n",
       "      <td>Иван</td>\n",
       "      <td>...</td>\n",
       "      <td>2018-11-01</td>\n",
       "      <td>smart</td>\n",
       "      <td>50</td>\n",
       "      <td>15.0</td>\n",
       "      <td>500</td>\n",
       "      <td>550</td>\n",
       "      <td>200</td>\n",
       "      <td>3</td>\n",
       "      <td>3</td>\n",
       "      <td>550.0</td>\n",
       "    </tr>\n",
       "    <tr>\n",
       "      <th>17</th>\n",
       "      <td>1003</td>\n",
       "      <td>8</td>\n",
       "      <td>380.0</td>\n",
       "      <td>55.0</td>\n",
       "      <td>9.0</td>\n",
       "      <td>37.0</td>\n",
       "      <td>23</td>\n",
       "      <td>NaT</td>\n",
       "      <td>Москва</td>\n",
       "      <td>Белла</td>\n",
       "      <td>...</td>\n",
       "      <td>2018-08-17</td>\n",
       "      <td>ultra</td>\n",
       "      <td>1000</td>\n",
       "      <td>30.0</td>\n",
       "      <td>3000</td>\n",
       "      <td>1950</td>\n",
       "      <td>150</td>\n",
       "      <td>1</td>\n",
       "      <td>1</td>\n",
       "      <td>1950.0</td>\n",
       "    </tr>\n",
       "    <tr>\n",
       "      <th>18</th>\n",
       "      <td>1003</td>\n",
       "      <td>9</td>\n",
       "      <td>961.0</td>\n",
       "      <td>134.0</td>\n",
       "      <td>13.0</td>\n",
       "      <td>91.0</td>\n",
       "      <td>23</td>\n",
       "      <td>NaT</td>\n",
       "      <td>Москва</td>\n",
       "      <td>Белла</td>\n",
       "      <td>...</td>\n",
       "      <td>2018-08-17</td>\n",
       "      <td>ultra</td>\n",
       "      <td>1000</td>\n",
       "      <td>30.0</td>\n",
       "      <td>3000</td>\n",
       "      <td>1950</td>\n",
       "      <td>150</td>\n",
       "      <td>1</td>\n",
       "      <td>1</td>\n",
       "      <td>1950.0</td>\n",
       "    </tr>\n",
       "    <tr>\n",
       "      <th>19</th>\n",
       "      <td>1003</td>\n",
       "      <td>10</td>\n",
       "      <td>855.0</td>\n",
       "      <td>108.0</td>\n",
       "      <td>15.0</td>\n",
       "      <td>83.0</td>\n",
       "      <td>23</td>\n",
       "      <td>NaT</td>\n",
       "      <td>Москва</td>\n",
       "      <td>Белла</td>\n",
       "      <td>...</td>\n",
       "      <td>2018-08-17</td>\n",
       "      <td>ultra</td>\n",
       "      <td>1000</td>\n",
       "      <td>30.0</td>\n",
       "      <td>3000</td>\n",
       "      <td>1950</td>\n",
       "      <td>150</td>\n",
       "      <td>1</td>\n",
       "      <td>1</td>\n",
       "      <td>1950.0</td>\n",
       "    </tr>\n",
       "  </tbody>\n",
       "</table>\n",
       "<p>5 rows × 21 columns</p>\n",
       "</div>"
      ],
      "text/plain": [
       "    user_id  months  duration  call_number  gb_used  message_number  age  \\\n",
       "8      1001      11     430.0         59.0     18.0             0.0   41   \n",
       "9      1001      12     414.0         63.0     14.0             0.0   41   \n",
       "17     1003       8     380.0         55.0      9.0            37.0   23   \n",
       "18     1003       9     961.0        134.0     13.0            91.0   23   \n",
       "19     1003      10     855.0        108.0     15.0            83.0   23   \n",
       "\n",
       "   churn_date    city first_name  ...   reg_date tariff messages_included  \\\n",
       "8         NaT  Москва       Иван  ... 2018-11-01  smart                50   \n",
       "9         NaT  Москва       Иван  ... 2018-11-01  smart                50   \n",
       "17        NaT  Москва      Белла  ... 2018-08-17  ultra              1000   \n",
       "18        NaT  Москва      Белла  ... 2018-08-17  ultra              1000   \n",
       "19        NaT  Москва      Белла  ... 2018-08-17  ultra              1000   \n",
       "\n",
       "    gb_per_month_included  minutes_included  rub_monthly_fee  rub_per_gb  \\\n",
       "8                    15.0               500              550         200   \n",
       "9                    15.0               500              550         200   \n",
       "17                   30.0              3000             1950         150   \n",
       "18                   30.0              3000             1950         150   \n",
       "19                   30.0              3000             1950         150   \n",
       "\n",
       "    rub_per_message  rub_per_minute  monthly_revenue  \n",
       "8                 3               3           1150.0  \n",
       "9                 3               3            550.0  \n",
       "17                1               1           1950.0  \n",
       "18                1               1           1950.0  \n",
       "19                1               1           1950.0  \n",
       "\n",
       "[5 rows x 21 columns]"
      ]
     },
     "metadata": {},
     "output_type": "display_data"
    },
    {
     "data": {
      "text/html": [
       "<div>\n",
       "<style scoped>\n",
       "    .dataframe tbody tr th:only-of-type {\n",
       "        vertical-align: middle;\n",
       "    }\n",
       "\n",
       "    .dataframe tbody tr th {\n",
       "        vertical-align: top;\n",
       "    }\n",
       "\n",
       "    .dataframe thead th {\n",
       "        text-align: right;\n",
       "    }\n",
       "</style>\n",
       "<table border=\"1\" class=\"dataframe\">\n",
       "  <thead>\n",
       "    <tr style=\"text-align: right;\">\n",
       "      <th></th>\n",
       "      <th>user_id</th>\n",
       "      <th>months</th>\n",
       "      <th>duration</th>\n",
       "      <th>call_number</th>\n",
       "      <th>gb_used</th>\n",
       "      <th>message_number</th>\n",
       "      <th>age</th>\n",
       "      <th>churn_date</th>\n",
       "      <th>city</th>\n",
       "      <th>first_name</th>\n",
       "      <th>...</th>\n",
       "      <th>reg_date</th>\n",
       "      <th>tariff</th>\n",
       "      <th>messages_included</th>\n",
       "      <th>gb_per_month_included</th>\n",
       "      <th>minutes_included</th>\n",
       "      <th>rub_monthly_fee</th>\n",
       "      <th>rub_per_gb</th>\n",
       "      <th>rub_per_message</th>\n",
       "      <th>rub_per_minute</th>\n",
       "      <th>monthly_revenue</th>\n",
       "    </tr>\n",
       "  </thead>\n",
       "  <tbody>\n",
       "    <tr>\n",
       "      <th>0</th>\n",
       "      <td>1000</td>\n",
       "      <td>5</td>\n",
       "      <td>159.0</td>\n",
       "      <td>22.0</td>\n",
       "      <td>3.0</td>\n",
       "      <td>22.0</td>\n",
       "      <td>52</td>\n",
       "      <td>NaT</td>\n",
       "      <td>Краснодар</td>\n",
       "      <td>Рафаил</td>\n",
       "      <td>...</td>\n",
       "      <td>2018-05-25</td>\n",
       "      <td>ultra</td>\n",
       "      <td>1000</td>\n",
       "      <td>30.0</td>\n",
       "      <td>3000</td>\n",
       "      <td>1950</td>\n",
       "      <td>150</td>\n",
       "      <td>1</td>\n",
       "      <td>1</td>\n",
       "      <td>1950.0</td>\n",
       "    </tr>\n",
       "    <tr>\n",
       "      <th>1</th>\n",
       "      <td>1000</td>\n",
       "      <td>6</td>\n",
       "      <td>172.0</td>\n",
       "      <td>43.0</td>\n",
       "      <td>23.0</td>\n",
       "      <td>60.0</td>\n",
       "      <td>52</td>\n",
       "      <td>NaT</td>\n",
       "      <td>Краснодар</td>\n",
       "      <td>Рафаил</td>\n",
       "      <td>...</td>\n",
       "      <td>2018-05-25</td>\n",
       "      <td>ultra</td>\n",
       "      <td>1000</td>\n",
       "      <td>30.0</td>\n",
       "      <td>3000</td>\n",
       "      <td>1950</td>\n",
       "      <td>150</td>\n",
       "      <td>1</td>\n",
       "      <td>1</td>\n",
       "      <td>1950.0</td>\n",
       "    </tr>\n",
       "    <tr>\n",
       "      <th>2</th>\n",
       "      <td>1000</td>\n",
       "      <td>7</td>\n",
       "      <td>340.0</td>\n",
       "      <td>47.0</td>\n",
       "      <td>14.0</td>\n",
       "      <td>75.0</td>\n",
       "      <td>52</td>\n",
       "      <td>NaT</td>\n",
       "      <td>Краснодар</td>\n",
       "      <td>Рафаил</td>\n",
       "      <td>...</td>\n",
       "      <td>2018-05-25</td>\n",
       "      <td>ultra</td>\n",
       "      <td>1000</td>\n",
       "      <td>30.0</td>\n",
       "      <td>3000</td>\n",
       "      <td>1950</td>\n",
       "      <td>150</td>\n",
       "      <td>1</td>\n",
       "      <td>1</td>\n",
       "      <td>1950.0</td>\n",
       "    </tr>\n",
       "    <tr>\n",
       "      <th>3</th>\n",
       "      <td>1000</td>\n",
       "      <td>8</td>\n",
       "      <td>408.0</td>\n",
       "      <td>52.0</td>\n",
       "      <td>14.0</td>\n",
       "      <td>81.0</td>\n",
       "      <td>52</td>\n",
       "      <td>NaT</td>\n",
       "      <td>Краснодар</td>\n",
       "      <td>Рафаил</td>\n",
       "      <td>...</td>\n",
       "      <td>2018-05-25</td>\n",
       "      <td>ultra</td>\n",
       "      <td>1000</td>\n",
       "      <td>30.0</td>\n",
       "      <td>3000</td>\n",
       "      <td>1950</td>\n",
       "      <td>150</td>\n",
       "      <td>1</td>\n",
       "      <td>1</td>\n",
       "      <td>1950.0</td>\n",
       "    </tr>\n",
       "    <tr>\n",
       "      <th>4</th>\n",
       "      <td>1000</td>\n",
       "      <td>9</td>\n",
       "      <td>466.0</td>\n",
       "      <td>58.0</td>\n",
       "      <td>15.0</td>\n",
       "      <td>57.0</td>\n",
       "      <td>52</td>\n",
       "      <td>NaT</td>\n",
       "      <td>Краснодар</td>\n",
       "      <td>Рафаил</td>\n",
       "      <td>...</td>\n",
       "      <td>2018-05-25</td>\n",
       "      <td>ultra</td>\n",
       "      <td>1000</td>\n",
       "      <td>30.0</td>\n",
       "      <td>3000</td>\n",
       "      <td>1950</td>\n",
       "      <td>150</td>\n",
       "      <td>1</td>\n",
       "      <td>1</td>\n",
       "      <td>1950.0</td>\n",
       "    </tr>\n",
       "    <tr>\n",
       "      <th>...</th>\n",
       "      <td>...</td>\n",
       "      <td>...</td>\n",
       "      <td>...</td>\n",
       "      <td>...</td>\n",
       "      <td>...</td>\n",
       "      <td>...</td>\n",
       "      <td>...</td>\n",
       "      <td>...</td>\n",
       "      <td>...</td>\n",
       "      <td>...</td>\n",
       "      <td>...</td>\n",
       "      <td>...</td>\n",
       "      <td>...</td>\n",
       "      <td>...</td>\n",
       "      <td>...</td>\n",
       "      <td>...</td>\n",
       "      <td>...</td>\n",
       "      <td>...</td>\n",
       "      <td>...</td>\n",
       "      <td>...</td>\n",
       "      <td>...</td>\n",
       "    </tr>\n",
       "    <tr>\n",
       "      <th>3209</th>\n",
       "      <td>1489</td>\n",
       "      <td>8</td>\n",
       "      <td>0.0</td>\n",
       "      <td>0.0</td>\n",
       "      <td>11.0</td>\n",
       "      <td>17.0</td>\n",
       "      <td>35</td>\n",
       "      <td>NaT</td>\n",
       "      <td>Санкт-Петербург</td>\n",
       "      <td>Павел</td>\n",
       "      <td>...</td>\n",
       "      <td>2018-08-15</td>\n",
       "      <td>smart</td>\n",
       "      <td>50</td>\n",
       "      <td>15.0</td>\n",
       "      <td>500</td>\n",
       "      <td>550</td>\n",
       "      <td>200</td>\n",
       "      <td>3</td>\n",
       "      <td>3</td>\n",
       "      <td>550.0</td>\n",
       "    </tr>\n",
       "    <tr>\n",
       "      <th>3210</th>\n",
       "      <td>1489</td>\n",
       "      <td>9</td>\n",
       "      <td>0.0</td>\n",
       "      <td>0.0</td>\n",
       "      <td>17.0</td>\n",
       "      <td>32.0</td>\n",
       "      <td>35</td>\n",
       "      <td>NaT</td>\n",
       "      <td>Санкт-Петербург</td>\n",
       "      <td>Павел</td>\n",
       "      <td>...</td>\n",
       "      <td>2018-08-15</td>\n",
       "      <td>smart</td>\n",
       "      <td>50</td>\n",
       "      <td>15.0</td>\n",
       "      <td>500</td>\n",
       "      <td>550</td>\n",
       "      <td>200</td>\n",
       "      <td>3</td>\n",
       "      <td>3</td>\n",
       "      <td>950.0</td>\n",
       "    </tr>\n",
       "    <tr>\n",
       "      <th>3211</th>\n",
       "      <td>1489</td>\n",
       "      <td>10</td>\n",
       "      <td>0.0</td>\n",
       "      <td>0.0</td>\n",
       "      <td>20.0</td>\n",
       "      <td>21.0</td>\n",
       "      <td>35</td>\n",
       "      <td>NaT</td>\n",
       "      <td>Санкт-Петербург</td>\n",
       "      <td>Павел</td>\n",
       "      <td>...</td>\n",
       "      <td>2018-08-15</td>\n",
       "      <td>smart</td>\n",
       "      <td>50</td>\n",
       "      <td>15.0</td>\n",
       "      <td>500</td>\n",
       "      <td>550</td>\n",
       "      <td>200</td>\n",
       "      <td>3</td>\n",
       "      <td>3</td>\n",
       "      <td>1550.0</td>\n",
       "    </tr>\n",
       "    <tr>\n",
       "      <th>3212</th>\n",
       "      <td>1489</td>\n",
       "      <td>11</td>\n",
       "      <td>0.0</td>\n",
       "      <td>0.0</td>\n",
       "      <td>18.0</td>\n",
       "      <td>20.0</td>\n",
       "      <td>35</td>\n",
       "      <td>NaT</td>\n",
       "      <td>Санкт-Петербург</td>\n",
       "      <td>Павел</td>\n",
       "      <td>...</td>\n",
       "      <td>2018-08-15</td>\n",
       "      <td>smart</td>\n",
       "      <td>50</td>\n",
       "      <td>15.0</td>\n",
       "      <td>500</td>\n",
       "      <td>550</td>\n",
       "      <td>200</td>\n",
       "      <td>3</td>\n",
       "      <td>3</td>\n",
       "      <td>1150.0</td>\n",
       "    </tr>\n",
       "    <tr>\n",
       "      <th>3213</th>\n",
       "      <td>1489</td>\n",
       "      <td>12</td>\n",
       "      <td>0.0</td>\n",
       "      <td>0.0</td>\n",
       "      <td>17.0</td>\n",
       "      <td>35.0</td>\n",
       "      <td>35</td>\n",
       "      <td>NaT</td>\n",
       "      <td>Санкт-Петербург</td>\n",
       "      <td>Павел</td>\n",
       "      <td>...</td>\n",
       "      <td>2018-08-15</td>\n",
       "      <td>smart</td>\n",
       "      <td>50</td>\n",
       "      <td>15.0</td>\n",
       "      <td>500</td>\n",
       "      <td>550</td>\n",
       "      <td>200</td>\n",
       "      <td>3</td>\n",
       "      <td>3</td>\n",
       "      <td>950.0</td>\n",
       "    </tr>\n",
       "  </tbody>\n",
       "</table>\n",
       "<p>2603 rows × 21 columns</p>\n",
       "</div>"
      ],
      "text/plain": [
       "      user_id  months  duration  call_number  gb_used  message_number  age  \\\n",
       "0        1000       5     159.0         22.0      3.0            22.0   52   \n",
       "1        1000       6     172.0         43.0     23.0            60.0   52   \n",
       "2        1000       7     340.0         47.0     14.0            75.0   52   \n",
       "3        1000       8     408.0         52.0     14.0            81.0   52   \n",
       "4        1000       9     466.0         58.0     15.0            57.0   52   \n",
       "...       ...     ...       ...          ...      ...             ...  ...   \n",
       "3209     1489       8       0.0          0.0     11.0            17.0   35   \n",
       "3210     1489       9       0.0          0.0     17.0            32.0   35   \n",
       "3211     1489      10       0.0          0.0     20.0            21.0   35   \n",
       "3212     1489      11       0.0          0.0     18.0            20.0   35   \n",
       "3213     1489      12       0.0          0.0     17.0            35.0   35   \n",
       "\n",
       "     churn_date             city first_name  ...   reg_date tariff  \\\n",
       "0           NaT        Краснодар     Рафаил  ... 2018-05-25  ultra   \n",
       "1           NaT        Краснодар     Рафаил  ... 2018-05-25  ultra   \n",
       "2           NaT        Краснодар     Рафаил  ... 2018-05-25  ultra   \n",
       "3           NaT        Краснодар     Рафаил  ... 2018-05-25  ultra   \n",
       "4           NaT        Краснодар     Рафаил  ... 2018-05-25  ultra   \n",
       "...         ...              ...        ...  ...        ...    ...   \n",
       "3209        NaT  Санкт-Петербург      Павел  ... 2018-08-15  smart   \n",
       "3210        NaT  Санкт-Петербург      Павел  ... 2018-08-15  smart   \n",
       "3211        NaT  Санкт-Петербург      Павел  ... 2018-08-15  smart   \n",
       "3212        NaT  Санкт-Петербург      Павел  ... 2018-08-15  smart   \n",
       "3213        NaT  Санкт-Петербург      Павел  ... 2018-08-15  smart   \n",
       "\n",
       "     messages_included  gb_per_month_included  minutes_included  \\\n",
       "0                 1000                   30.0              3000   \n",
       "1                 1000                   30.0              3000   \n",
       "2                 1000                   30.0              3000   \n",
       "3                 1000                   30.0              3000   \n",
       "4                 1000                   30.0              3000   \n",
       "...                ...                    ...               ...   \n",
       "3209                50                   15.0               500   \n",
       "3210                50                   15.0               500   \n",
       "3211                50                   15.0               500   \n",
       "3212                50                   15.0               500   \n",
       "3213                50                   15.0               500   \n",
       "\n",
       "      rub_monthly_fee  rub_per_gb  rub_per_message  rub_per_minute  \\\n",
       "0                1950         150                1               1   \n",
       "1                1950         150                1               1   \n",
       "2                1950         150                1               1   \n",
       "3                1950         150                1               1   \n",
       "4                1950         150                1               1   \n",
       "...               ...         ...              ...             ...   \n",
       "3209              550         200                3               3   \n",
       "3210              550         200                3               3   \n",
       "3211              550         200                3               3   \n",
       "3212              550         200                3               3   \n",
       "3213              550         200                3               3   \n",
       "\n",
       "      monthly_revenue  \n",
       "0              1950.0  \n",
       "1              1950.0  \n",
       "2              1950.0  \n",
       "3              1950.0  \n",
       "4              1950.0  \n",
       "...               ...  \n",
       "3209            550.0  \n",
       "3210            950.0  \n",
       "3211           1550.0  \n",
       "3212           1150.0  \n",
       "3213            950.0  \n",
       "\n",
       "[2603 rows x 21 columns]"
      ]
     },
     "metadata": {},
     "output_type": "display_data"
    }
   ],
   "source": [
    "# Строим таблицу, содержащую данные абонентов из Москвы\n",
    "Moscow_customers = result_table_tariffs[result_table_tariffs['city'] == 'Москва']\n",
    "display(Moscow_customers.head())\n",
    "\n",
    "#Строим таблицу, содержащую данные абонентов из регионов\n",
    "regions_customers = result_table_tariffs[result_table_tariffs['city'] != 'Москва']\n",
    "display(regions_customers)"
   ]
  },
  {
   "cell_type": "markdown",
   "metadata": {},
   "source": [
    "### Вторая гипотеза."
   ]
  },
  {
   "cell_type": "markdown",
   "metadata": {},
   "source": [
    "Нулевая гипотеза: средняя выручка пользователей из Москвы и регионов не отличаются.\n",
    "Альтернативная гипотеза: средняя выручка пользователей из Москвы и регионов отличаются.\n",
    "Нулевая гипотеза должна быть сформулирована, чтобы в ней присутствовал знак \"=\". Альтернативная сформулирована так, чтобы протитворечить нулевой."
   ]
  },
  {
   "cell_type": "code",
   "execution_count": 53,
   "metadata": {},
   "outputs": [
    {
     "data": {
      "text/plain": [
       "1546.7135842880523"
      ]
     },
     "metadata": {},
     "output_type": "display_data"
    },
    {
     "data": {
      "text/plain": [
       "1524.9362274298885"
      ]
     },
     "metadata": {},
     "output_type": "display_data"
    },
    {
     "data": {
      "text/plain": [
       "'p-значение:'"
      ]
     },
     "metadata": {},
     "output_type": "display_data"
    },
    {
     "data": {
      "text/plain": [
       "0.5440152911670224"
      ]
     },
     "metadata": {},
     "output_type": "display_data"
    },
    {
     "data": {
      "text/plain": [
       "'Не получилось отвергнуть нулевую гипотезу'"
      ]
     },
     "metadata": {},
     "output_type": "display_data"
    }
   ],
   "source": [
    "#Проверяем гипотезу\n",
    "sample1 = Moscow_customers['monthly_revenue']\n",
    "sample2 = regions_customers['monthly_revenue']\n",
    "\n",
    "alpha = .05\n",
    "\n",
    "results = st.ttest_ind(sample1, sample2)\n",
    "\n",
    "display(Moscow_customers['monthly_revenue'].mean())\n",
    "display(regions_customers['monthly_revenue'].mean())\n",
    "\n",
    "display('p-значение:', results.pvalue)\n",
    "\n",
    "if results.pvalue < alpha:\n",
    "    display('Отвергаем нулевую гипотезу')\n",
    "else:\n",
    "    display('Не получилось отвергнуть нулевую гипотезу')"
   ]
  },
  {
   "cell_type": "markdown",
   "metadata": {},
   "source": [
    "Гипотезу о равенстве средней выручки пользователей из Москвы и из регионов отвергнуть не удалось. Дополнительные расчёты показывают, что средняя выручка абонентов из регионов составляет 98.59% от средней выручки, полученной от пользователя-москвича."
   ]
  },
  {
   "cell_type": "markdown",
   "metadata": {},
   "source": [
    "## Общий вывод."
   ]
  },
  {
   "cell_type": "markdown",
   "metadata": {},
   "source": [
    "1. Средняя продлжительность разговоров в месяц среди пользователей тарифа ultra составляет в среднем 526.623 минуты.\n",
    "Существует значительное количество абонентов, не совершавших разговоров в течение отдельных месяцев. Это отразилось в виде высокого столбца со значением 0. Согласно правилу трёх сигм, продолжительность разговоров свыше 1404 минут в месяц можно считать выбросом. Это очень важно, с учётом того, что тариф включает в себя 3000 оплаченных минут разговора в месяц.\n",
    "\n",
    "2. Количество смс, отправленных в месяц одним абонентом в месяц среди пользователей тарифа ultra в среднем составляет 49.363. Стандартное отклонение составило 47.804, следовательно, подавляющее большинство их отправляет не более 200 смс в месяц. В то время как тариф прелагает 1000 оплаченных смс в месяц.\n",
    "Правый столбец диаграммы показывает, что более четверти пользователей тарифа ultra не пользуются смс.  \n",
    "\n",
    "3. Объём интернет-трафика, использованного в месяц среди пользователей тарифа ultra в среднем равен 19.494 Гб. Стандартное отклонение составляет  9.853 Гб. Таким образом, объём трафика, использованного за месяц доходит до 49 гб. Около половины пользователей превышают предоставленный тарифом лимит в 30 гб. \n",
    "\n",
    "4. Средняя продолжительность разговоров для пользователей тарифа smart равна 417.934 минут. Стандартное отклонение в 190.313 минут позволяет говорить (опираясь на правило трёх сигм) о том, что подавляющее большинство абонентов разговаривает до 989 минут в месяц. Всё что больше (до 1400 минут) - составляет выброс. С учётом того, что тариф предоставляет 500 минут разговора в месяц, средний пользователь тарифа не использует пакет звонков полностью.\n",
    "\n",
    "5. Среднее количество смс, отправленных пользователями тарифа smart равно 33.384. Стандартное отклонение, равное 28.228, и правило трёх сигм, позволяет утверждать, что основная масса абонентов, пользующихся тарифом smart,  отправляет не более 85 смс в месяц, при включенных в тариф 50 смс в месяц. Таким образом, часть абонентов приносит оператору дополнительную прибыль.\n",
    "Столбец слева показывает, как и в случае с тарифом ultra, большое количество абонентов, не пользовавшихся смс (не менее 16% от общего количества пользователей тарифа smart). \n",
    "\n",
    "6. Количество интернет-трафика пользователей тарифа smart в среднем равно 16.329 Гб. Стандартное отклонение в 5.747 Гб. и правило трёх сигм позволяют говорить о том, что осномная масса абонентов использовала в месяц до 33.55 Гб. в месяц, при том, что тариф предоставляет только 15 Гб. трафика в месяц. Не менее половины пользователей тарифа smart доплачивают за интернет сверх тарифа.\n",
    "\n",
    "7. В целом, можно говорить, что для обоих тарифов свойственны общие тенденции как в использовании звонков (средний абонент не использует все минуты разговора),\n",
    "так и в использовании смс (значительное количество абонентов не пользуется смс вовсе, и в среднем эта услуга не очень популярна, а использование смс сверх тарифа в smart происходит только за счёт очень малого количества смс, включённых в тариф)\n",
    "и так же в использовании интернет-трафика (абоненты в обоих случаях активно пользуются интернетом и часто платят за дополнительный трафик).\n",
    "\n",
    "8. Гипотеза о равенстве средней выручки пользователей тарифов ultra и smart отвергнута. Дополнительные расчёты показывают, что средняя выручка абонентов, пользующихся тарифом ultra в 1.6 раза больше, чем средняя выручка абонентов, пользующихся тарифом smart.\n",
    "Если бы критический уровень статистической значимости был равен 0.01, результат был бы тот же.\n",
    "\n",
    "9. Гипотезу о равенстве средней выручки пользователей из Москвы и из регионов отвергнуть не удалось. Дополнительные расчёты показывают, что средняя выручка абонентов из регионов составляет 98.59% от средней выручки, полученной от пользователя-москвича.\n",
    "\n",
    "10. Оценочное среднее месячного дохода от каждого пользователя с тарифом ultra равно 2070.15. Стандартное отклонение составляет 376.19. Таким образом, основная масса пользователей тарифа ultra платит до 3198.72 рублей в месяц.\n",
    "\n",
    "11. Оценочное среднее месячного дохода от каждого пользователя с тарифом smart равно 1289.97. Стандартное отклонение составляет 818.4. Таким образом, основная масса пользователей тарифа smart платит до 3745.17 рублей в месяц.\n",
    "\n",
    "12. Выручка от тарифа ultra всегда заметно больше, чем от тарифа smart. Если выручка от тарифа ultra всегда в течение года распределена более или менее равномерно, то выручка от тарифа smart в течение года имеет тенденцию к росту.\n",
    "\n",
    "Таким, образом, для компании мегалайн самым выгодным тарифом является ultra. Делать акцент на работе с пользователями из Москвы или из регионов нет необходимости, поскольку доходы компании по этому критерию не отличаются."
   ]
  }
 ],
 "metadata": {
  "ExecuteTimeLog": [
   {
    "duration": 824,
    "start_time": "2022-10-11T09:37:43.739Z"
   },
   {
    "duration": 891,
    "start_time": "2022-10-11T09:42:36.771Z"
   },
   {
    "duration": 23,
    "start_time": "2022-10-11T09:44:02.029Z"
   },
   {
    "duration": 34,
    "start_time": "2022-10-11T09:44:40.138Z"
   },
   {
    "duration": 32,
    "start_time": "2022-10-11T09:46:12.234Z"
   },
   {
    "duration": 21,
    "start_time": "2022-10-11T09:48:51.389Z"
   },
   {
    "duration": 24,
    "start_time": "2022-10-11T09:49:08.289Z"
   },
   {
    "duration": 16,
    "start_time": "2022-10-11T09:49:45.691Z"
   },
   {
    "duration": 14,
    "start_time": "2022-10-11T09:49:45.776Z"
   },
   {
    "duration": 22,
    "start_time": "2022-10-11T09:50:05.176Z"
   },
   {
    "duration": 1275,
    "start_time": "2022-10-11T10:00:47.944Z"
   },
   {
    "duration": 8,
    "start_time": "2022-10-11T10:01:57.656Z"
   },
   {
    "duration": 8,
    "start_time": "2022-10-11T10:02:08.690Z"
   },
   {
    "duration": 9,
    "start_time": "2022-10-11T10:02:41.722Z"
   },
   {
    "duration": 10,
    "start_time": "2022-10-11T10:03:03.679Z"
   },
   {
    "duration": 31,
    "start_time": "2022-10-11T10:03:14.385Z"
   },
   {
    "duration": 12,
    "start_time": "2022-10-11T10:03:21.792Z"
   },
   {
    "duration": 12,
    "start_time": "2022-10-11T10:08:55.392Z"
   },
   {
    "duration": 3,
    "start_time": "2022-10-11T10:10:40.718Z"
   },
   {
    "duration": 407,
    "start_time": "2022-10-11T10:10:43.342Z"
   },
   {
    "duration": 33,
    "start_time": "2022-10-11T10:10:45.739Z"
   },
   {
    "duration": 31,
    "start_time": "2022-10-11T10:10:50.023Z"
   },
   {
    "duration": 26,
    "start_time": "2022-10-11T10:10:52.961Z"
   },
   {
    "duration": 17,
    "start_time": "2022-10-11T10:10:56.122Z"
   },
   {
    "duration": 22,
    "start_time": "2022-10-11T10:11:00.072Z"
   },
   {
    "duration": 33,
    "start_time": "2022-10-11T10:11:03.236Z"
   },
   {
    "duration": 10,
    "start_time": "2022-10-11T10:11:52.545Z"
   },
   {
    "duration": 13,
    "start_time": "2022-10-11T10:12:07.619Z"
   },
   {
    "duration": 11,
    "start_time": "2022-10-11T10:12:19.483Z"
   },
   {
    "duration": 52,
    "start_time": "2022-10-11T10:17:09.871Z"
   },
   {
    "duration": 34,
    "start_time": "2022-10-11T10:17:37.310Z"
   },
   {
    "duration": 16,
    "start_time": "2022-10-11T10:17:40.848Z"
   },
   {
    "duration": 22,
    "start_time": "2022-10-11T10:18:01.268Z"
   },
   {
    "duration": 33,
    "start_time": "2022-10-11T10:18:11.041Z"
   },
   {
    "duration": 9,
    "start_time": "2022-10-11T10:21:46.956Z"
   },
   {
    "duration": 1056,
    "start_time": "2022-10-11T10:22:10.019Z"
   },
   {
    "duration": 8,
    "start_time": "2022-10-11T10:23:01.198Z"
   },
   {
    "duration": 8,
    "start_time": "2022-10-11T10:23:19.195Z"
   },
   {
    "duration": 8,
    "start_time": "2022-10-11T10:23:31.767Z"
   },
   {
    "duration": 1346,
    "start_time": "2022-10-11T10:23:41.592Z"
   },
   {
    "duration": 8,
    "start_time": "2022-10-11T10:24:11.774Z"
   },
   {
    "duration": 31,
    "start_time": "2022-10-11T10:25:48.063Z"
   },
   {
    "duration": 4,
    "start_time": "2022-10-11T10:25:52.557Z"
   },
   {
    "duration": 11,
    "start_time": "2022-10-11T10:26:07.600Z"
   },
   {
    "duration": 13,
    "start_time": "2022-10-11T10:28:27.776Z"
   },
   {
    "duration": 3,
    "start_time": "2022-10-11T10:28:58.536Z"
   },
   {
    "duration": 416,
    "start_time": "2022-10-11T10:29:00.866Z"
   },
   {
    "duration": 31,
    "start_time": "2022-10-11T10:29:03.173Z"
   },
   {
    "duration": 29,
    "start_time": "2022-10-11T10:29:06.320Z"
   },
   {
    "duration": 24,
    "start_time": "2022-10-11T10:29:09.216Z"
   },
   {
    "duration": 17,
    "start_time": "2022-10-11T10:29:11.877Z"
   },
   {
    "duration": 20,
    "start_time": "2022-10-11T10:29:19.411Z"
   },
   {
    "duration": 58,
    "start_time": "2022-10-11T10:29:23.138Z"
   },
   {
    "duration": 20,
    "start_time": "2022-10-11T10:29:26.529Z"
   },
   {
    "duration": 8,
    "start_time": "2022-10-11T10:29:48.463Z"
   },
   {
    "duration": 10,
    "start_time": "2022-10-11T10:30:27.729Z"
   },
   {
    "duration": 8,
    "start_time": "2022-10-11T10:31:07.866Z"
   },
   {
    "duration": 8,
    "start_time": "2022-10-11T10:31:17.519Z"
   },
   {
    "duration": 8,
    "start_time": "2022-10-11T10:32:51.586Z"
   },
   {
    "duration": 25,
    "start_time": "2022-10-11T10:33:00.502Z"
   },
   {
    "duration": 21,
    "start_time": "2022-10-11T10:33:24.614Z"
   },
   {
    "duration": 20,
    "start_time": "2022-10-11T10:34:17.059Z"
   },
   {
    "duration": 20,
    "start_time": "2022-10-11T10:34:28.330Z"
   },
   {
    "duration": 35,
    "start_time": "2022-10-11T10:39:28.206Z"
   },
   {
    "duration": 16,
    "start_time": "2022-10-11T10:40:53.851Z"
   },
   {
    "duration": 13,
    "start_time": "2022-10-11T10:41:44.909Z"
   },
   {
    "duration": 12,
    "start_time": "2022-10-11T10:41:53.076Z"
   },
   {
    "duration": 19,
    "start_time": "2022-10-11T10:41:53.641Z"
   },
   {
    "duration": 13,
    "start_time": "2022-10-11T10:42:25.428Z"
   },
   {
    "duration": 25,
    "start_time": "2022-10-11T10:42:28.175Z"
   },
   {
    "duration": 13,
    "start_time": "2022-10-11T10:42:31.348Z"
   },
   {
    "duration": 8,
    "start_time": "2022-10-11T10:42:49.211Z"
   },
   {
    "duration": 9,
    "start_time": "2022-10-11T10:42:52.147Z"
   },
   {
    "duration": 10,
    "start_time": "2022-10-11T10:43:18.917Z"
   },
   {
    "duration": 8,
    "start_time": "2022-10-11T10:44:18.274Z"
   },
   {
    "duration": 13,
    "start_time": "2022-10-11T10:44:34.621Z"
   },
   {
    "duration": 12,
    "start_time": "2022-10-11T10:44:54.516Z"
   },
   {
    "duration": 33,
    "start_time": "2022-10-11T10:45:11.783Z"
   },
   {
    "duration": 31,
    "start_time": "2022-10-11T10:45:50.461Z"
   },
   {
    "duration": 3,
    "start_time": "2022-10-11T10:54:12.628Z"
   },
   {
    "duration": 424,
    "start_time": "2022-10-11T10:54:14.988Z"
   },
   {
    "duration": 32,
    "start_time": "2022-10-11T10:54:17.446Z"
   },
   {
    "duration": 33,
    "start_time": "2022-10-11T10:54:20.597Z"
   },
   {
    "duration": 25,
    "start_time": "2022-10-11T10:55:17.763Z"
   },
   {
    "duration": 17,
    "start_time": "2022-10-11T10:55:21.791Z"
   },
   {
    "duration": 22,
    "start_time": "2022-10-11T10:55:25.181Z"
   },
   {
    "duration": 58,
    "start_time": "2022-10-11T10:55:28.596Z"
   },
   {
    "duration": 23,
    "start_time": "2022-10-11T10:55:32.241Z"
   },
   {
    "duration": 27,
    "start_time": "2022-10-11T10:57:14.784Z"
   },
   {
    "duration": 24,
    "start_time": "2022-10-11T10:57:42.168Z"
   },
   {
    "duration": 14,
    "start_time": "2022-10-11T10:58:34.634Z"
   },
   {
    "duration": 37,
    "start_time": "2022-10-11T10:59:33.764Z"
   },
   {
    "duration": 4,
    "start_time": "2022-10-11T11:01:09.759Z"
   },
   {
    "duration": 444,
    "start_time": "2022-10-11T11:01:11.830Z"
   },
   {
    "duration": 35,
    "start_time": "2022-10-11T11:01:13.933Z"
   },
   {
    "duration": 33,
    "start_time": "2022-10-11T11:01:17.703Z"
   },
   {
    "duration": 29,
    "start_time": "2022-10-11T11:01:20.415Z"
   },
   {
    "duration": 17,
    "start_time": "2022-10-11T11:01:24.362Z"
   },
   {
    "duration": 24,
    "start_time": "2022-10-11T11:01:27.292Z"
   },
   {
    "duration": 77,
    "start_time": "2022-10-11T11:01:31.147Z"
   },
   {
    "duration": 42,
    "start_time": "2022-10-11T11:01:35.087Z"
   },
   {
    "duration": 17,
    "start_time": "2022-10-11T11:02:01.074Z"
   },
   {
    "duration": 12,
    "start_time": "2022-10-11T11:02:23.084Z"
   },
   {
    "duration": 9,
    "start_time": "2022-10-11T11:02:47.187Z"
   },
   {
    "duration": 8,
    "start_time": "2022-10-11T11:02:58.566Z"
   },
   {
    "duration": 12,
    "start_time": "2022-10-11T11:03:09.340Z"
   },
   {
    "duration": 13,
    "start_time": "2022-10-11T11:03:28.535Z"
   },
   {
    "duration": 19,
    "start_time": "2022-10-11T11:03:39.646Z"
   },
   {
    "duration": 117,
    "start_time": "2022-10-11T11:03:46.205Z"
   },
   {
    "duration": 3,
    "start_time": "2022-10-11T11:04:04.857Z"
   },
   {
    "duration": 413,
    "start_time": "2022-10-11T11:04:07.190Z"
   },
   {
    "duration": 34,
    "start_time": "2022-10-11T11:04:09.170Z"
   },
   {
    "duration": 32,
    "start_time": "2022-10-11T11:04:12.490Z"
   },
   {
    "duration": 26,
    "start_time": "2022-10-11T11:04:15.155Z"
   },
   {
    "duration": 16,
    "start_time": "2022-10-11T11:04:18.519Z"
   },
   {
    "duration": 23,
    "start_time": "2022-10-11T11:04:21.623Z"
   },
   {
    "duration": 60,
    "start_time": "2022-10-11T11:04:25.212Z"
   },
   {
    "duration": 37,
    "start_time": "2022-10-11T11:04:28.542Z"
   },
   {
    "duration": 16,
    "start_time": "2022-10-11T11:04:31.357Z"
   },
   {
    "duration": 21,
    "start_time": "2022-10-11T11:04:46.803Z"
   },
   {
    "duration": 22,
    "start_time": "2022-10-11T11:05:07.146Z"
   },
   {
    "duration": 3,
    "start_time": "2022-10-11T11:05:23.774Z"
   },
   {
    "duration": 435,
    "start_time": "2022-10-11T11:05:26.047Z"
   },
   {
    "duration": 33,
    "start_time": "2022-10-11T11:05:28.316Z"
   },
   {
    "duration": 32,
    "start_time": "2022-10-11T11:05:31.729Z"
   },
   {
    "duration": 25,
    "start_time": "2022-10-11T11:05:34.857Z"
   },
   {
    "duration": 16,
    "start_time": "2022-10-11T11:05:38.096Z"
   },
   {
    "duration": 35,
    "start_time": "2022-10-11T11:05:41.239Z"
   },
   {
    "duration": 70,
    "start_time": "2022-10-11T11:05:44.380Z"
   },
   {
    "duration": 38,
    "start_time": "2022-10-11T11:05:47.538Z"
   },
   {
    "duration": 22,
    "start_time": "2022-10-11T11:05:51.207Z"
   },
   {
    "duration": 45,
    "start_time": "2022-10-11T12:21:02.160Z"
   },
   {
    "duration": 34,
    "start_time": "2022-10-11T12:21:27.425Z"
   },
   {
    "duration": 7,
    "start_time": "2022-10-11T12:31:45.093Z"
   },
   {
    "duration": 6,
    "start_time": "2022-10-11T12:31:45.587Z"
   },
   {
    "duration": 14,
    "start_time": "2022-10-11T12:32:00.187Z"
   },
   {
    "duration": 32,
    "start_time": "2022-10-11T12:39:37.971Z"
   },
   {
    "duration": 18,
    "start_time": "2022-10-11T12:40:06.110Z"
   },
   {
    "duration": 7,
    "start_time": "2022-10-11T12:41:45.902Z"
   },
   {
    "duration": 11,
    "start_time": "2022-10-11T12:41:50.132Z"
   },
   {
    "duration": 7,
    "start_time": "2022-10-11T12:41:53.744Z"
   },
   {
    "duration": 6,
    "start_time": "2022-10-11T12:41:57.082Z"
   },
   {
    "duration": 6,
    "start_time": "2022-10-11T12:42:00.994Z"
   },
   {
    "duration": 17,
    "start_time": "2022-10-11T13:00:14.762Z"
   },
   {
    "duration": 66,
    "start_time": "2022-10-11T13:00:24.804Z"
   },
   {
    "duration": 44,
    "start_time": "2022-10-11T13:01:46.672Z"
   },
   {
    "duration": 27,
    "start_time": "2022-10-11T13:01:49.619Z"
   },
   {
    "duration": 6,
    "start_time": "2022-10-11T13:01:52.217Z"
   },
   {
    "duration": 7,
    "start_time": "2022-10-11T13:01:54.739Z"
   },
   {
    "duration": 70,
    "start_time": "2022-10-11T13:06:55.429Z"
   },
   {
    "duration": 50,
    "start_time": "2022-10-11T13:07:27.923Z"
   },
   {
    "duration": 6,
    "start_time": "2022-10-11T13:11:26.314Z"
   },
   {
    "duration": 6,
    "start_time": "2022-10-11T13:12:13.880Z"
   },
   {
    "duration": 5,
    "start_time": "2022-10-11T13:12:43.031Z"
   },
   {
    "duration": 5,
    "start_time": "2022-10-11T13:13:07.240Z"
   },
   {
    "duration": 9,
    "start_time": "2022-10-11T13:49:00.306Z"
   },
   {
    "duration": 8,
    "start_time": "2022-10-11T13:49:18.856Z"
   },
   {
    "duration": 32,
    "start_time": "2022-10-11T15:49:54.876Z"
   },
   {
    "duration": 42,
    "start_time": "2022-10-11T15:50:09.436Z"
   },
   {
    "duration": 33,
    "start_time": "2022-10-11T15:51:43.150Z"
   },
   {
    "duration": 99,
    "start_time": "2022-10-11T15:52:50.261Z"
   },
   {
    "duration": 853,
    "start_time": "2022-10-12T06:34:41.410Z"
   },
   {
    "duration": 900,
    "start_time": "2022-10-12T06:34:42.264Z"
   },
   {
    "duration": 36,
    "start_time": "2022-10-12T06:34:43.165Z"
   },
   {
    "duration": 110,
    "start_time": "2022-10-12T06:34:43.202Z"
   },
   {
    "duration": 22,
    "start_time": "2022-10-12T06:34:43.314Z"
   },
   {
    "duration": 17,
    "start_time": "2022-10-12T06:34:43.338Z"
   },
   {
    "duration": 18,
    "start_time": "2022-10-12T06:34:43.357Z"
   },
   {
    "duration": 56,
    "start_time": "2022-10-12T06:34:43.412Z"
   },
   {
    "duration": 48,
    "start_time": "2022-10-12T06:34:43.470Z"
   },
   {
    "duration": 21,
    "start_time": "2022-10-12T06:34:43.519Z"
   },
   {
    "duration": 38,
    "start_time": "2022-10-12T06:34:43.542Z"
   },
   {
    "duration": 37,
    "start_time": "2022-10-12T06:34:43.581Z"
   },
   {
    "duration": 7,
    "start_time": "2022-10-12T06:34:43.620Z"
   },
   {
    "duration": 11,
    "start_time": "2022-10-12T06:34:43.631Z"
   },
   {
    "duration": 7,
    "start_time": "2022-10-12T06:34:43.644Z"
   },
   {
    "duration": 5,
    "start_time": "2022-10-12T06:34:43.653Z"
   },
   {
    "duration": 10,
    "start_time": "2022-10-12T06:34:43.659Z"
   },
   {
    "duration": 94,
    "start_time": "2022-10-12T06:34:43.670Z"
   },
   {
    "duration": 47,
    "start_time": "2022-10-12T06:34:43.766Z"
   },
   {
    "duration": 26,
    "start_time": "2022-10-12T06:34:43.814Z"
   },
   {
    "duration": 7,
    "start_time": "2022-10-12T06:34:43.841Z"
   },
   {
    "duration": 10,
    "start_time": "2022-10-12T06:34:43.849Z"
   },
   {
    "duration": 4,
    "start_time": "2022-10-12T06:34:43.861Z"
   },
   {
    "duration": 922,
    "start_time": "2022-10-14T08:35:54.560Z"
   },
   {
    "duration": 961,
    "start_time": "2022-10-14T08:35:55.484Z"
   },
   {
    "duration": 66,
    "start_time": "2022-10-14T08:35:56.447Z"
   },
   {
    "duration": 163,
    "start_time": "2022-10-14T08:35:56.516Z"
   },
   {
    "duration": 31,
    "start_time": "2022-10-14T08:35:56.681Z"
   },
   {
    "duration": 35,
    "start_time": "2022-10-14T08:35:56.723Z"
   },
   {
    "duration": 29,
    "start_time": "2022-10-14T08:35:56.761Z"
   },
   {
    "duration": 85,
    "start_time": "2022-10-14T08:35:56.792Z"
   },
   {
    "duration": 49,
    "start_time": "2022-10-14T08:35:56.879Z"
   },
   {
    "duration": 53,
    "start_time": "2022-10-14T08:35:56.932Z"
   },
   {
    "duration": 86,
    "start_time": "2022-10-14T08:35:56.987Z"
   },
   {
    "duration": 16,
    "start_time": "2022-10-14T08:35:57.075Z"
   },
   {
    "duration": 10,
    "start_time": "2022-10-14T08:35:57.093Z"
   },
   {
    "duration": 17,
    "start_time": "2022-10-14T08:35:57.105Z"
   },
   {
    "duration": 32,
    "start_time": "2022-10-14T08:35:57.124Z"
   },
   {
    "duration": 9,
    "start_time": "2022-10-14T08:35:57.158Z"
   },
   {
    "duration": 19,
    "start_time": "2022-10-14T08:35:57.168Z"
   },
   {
    "duration": 82,
    "start_time": "2022-10-14T08:35:57.189Z"
   },
   {
    "duration": 50,
    "start_time": "2022-10-14T08:35:57.273Z"
   },
   {
    "duration": 48,
    "start_time": "2022-10-14T08:35:57.325Z"
   },
   {
    "duration": 7,
    "start_time": "2022-10-14T08:35:57.374Z"
   },
   {
    "duration": 13,
    "start_time": "2022-10-14T08:35:57.382Z"
   },
   {
    "duration": 5,
    "start_time": "2022-10-14T08:35:57.397Z"
   },
   {
    "duration": 27,
    "start_time": "2022-10-14T08:39:07.313Z"
   },
   {
    "duration": 25,
    "start_time": "2022-10-14T08:42:48.967Z"
   },
   {
    "duration": 36,
    "start_time": "2022-10-14T08:42:58.085Z"
   },
   {
    "duration": 108,
    "start_time": "2022-10-14T08:46:50.205Z"
   },
   {
    "duration": 38,
    "start_time": "2022-10-14T08:47:01.153Z"
   },
   {
    "duration": 48,
    "start_time": "2022-10-14T08:47:33.900Z"
   },
   {
    "duration": 39,
    "start_time": "2022-10-14T08:54:21.830Z"
   },
   {
    "duration": 44,
    "start_time": "2022-10-14T08:54:35.490Z"
   },
   {
    "duration": 52,
    "start_time": "2022-10-14T08:55:39.716Z"
   },
   {
    "duration": 79,
    "start_time": "2022-10-14T09:00:34.877Z"
   },
   {
    "duration": 44,
    "start_time": "2022-10-14T09:00:55.720Z"
   },
   {
    "duration": 37,
    "start_time": "2022-10-14T09:02:08.004Z"
   },
   {
    "duration": 33,
    "start_time": "2022-10-14T09:19:25.804Z"
   },
   {
    "duration": 49,
    "start_time": "2022-10-14T09:22:54.860Z"
   },
   {
    "duration": 62,
    "start_time": "2022-10-14T09:23:32.199Z"
   },
   {
    "duration": 37,
    "start_time": "2022-10-14T09:24:31.331Z"
   },
   {
    "duration": 12,
    "start_time": "2022-10-14T09:53:24.970Z"
   },
   {
    "duration": 23,
    "start_time": "2022-10-14T09:53:35.010Z"
   },
   {
    "duration": 21,
    "start_time": "2022-10-14T09:54:56.259Z"
   },
   {
    "duration": 22,
    "start_time": "2022-10-14T09:55:47.578Z"
   },
   {
    "duration": 52,
    "start_time": "2022-10-14T09:57:14.865Z"
   },
   {
    "duration": 52,
    "start_time": "2022-10-14T09:59:33.589Z"
   },
   {
    "duration": 46,
    "start_time": "2022-10-14T10:02:49.396Z"
   },
   {
    "duration": 49,
    "start_time": "2022-10-14T10:03:56.152Z"
   },
   {
    "duration": 1132,
    "start_time": "2022-10-14T10:09:11.951Z"
   },
   {
    "duration": 10,
    "start_time": "2022-10-14T10:09:42.470Z"
   },
   {
    "duration": 775,
    "start_time": "2022-10-14T10:10:03.865Z"
   },
   {
    "duration": 15,
    "start_time": "2022-10-14T10:10:36.833Z"
   },
   {
    "duration": 50,
    "start_time": "2022-10-14T10:10:54.625Z"
   },
   {
    "duration": 42,
    "start_time": "2022-10-14T10:19:31.968Z"
   },
   {
    "duration": 65,
    "start_time": "2022-10-14T10:19:42.963Z"
   },
   {
    "duration": 56,
    "start_time": "2022-10-14T10:20:03.167Z"
   },
   {
    "duration": 41,
    "start_time": "2022-10-14T10:20:33.179Z"
   },
   {
    "duration": 38,
    "start_time": "2022-10-14T10:21:52.516Z"
   },
   {
    "duration": 52,
    "start_time": "2022-10-14T10:22:08.524Z"
   },
   {
    "duration": 62,
    "start_time": "2022-10-14T10:30:23.941Z"
   },
   {
    "duration": 22,
    "start_time": "2022-10-14T10:31:58.068Z"
   },
   {
    "duration": 57,
    "start_time": "2022-10-14T10:33:27.359Z"
   },
   {
    "duration": 46,
    "start_time": "2022-10-14T10:33:42.044Z"
   },
   {
    "duration": 69,
    "start_time": "2022-10-14T10:33:42.608Z"
   },
   {
    "duration": 49,
    "start_time": "2022-10-14T10:34:03.843Z"
   },
   {
    "duration": 39,
    "start_time": "2022-10-14T10:34:26.122Z"
   },
   {
    "duration": 33,
    "start_time": "2022-10-14T10:35:21.093Z"
   },
   {
    "duration": 50,
    "start_time": "2022-10-14T10:35:48.138Z"
   },
   {
    "duration": 39,
    "start_time": "2022-10-14T10:35:51.798Z"
   },
   {
    "duration": 22,
    "start_time": "2022-10-14T10:35:56.582Z"
   },
   {
    "duration": 2485,
    "start_time": "2022-10-14T10:41:07.254Z"
   },
   {
    "duration": 36,
    "start_time": "2022-10-14T10:41:23.038Z"
   },
   {
    "duration": 22,
    "start_time": "2022-10-14T10:41:53.075Z"
   },
   {
    "duration": 45,
    "start_time": "2022-10-14T10:42:17.780Z"
   },
   {
    "duration": 29,
    "start_time": "2022-10-14T10:43:34.256Z"
   },
   {
    "duration": 22,
    "start_time": "2022-10-14T10:44:26.364Z"
   },
   {
    "duration": 20,
    "start_time": "2022-10-14T10:45:50.101Z"
   },
   {
    "duration": 48,
    "start_time": "2022-10-14T10:47:14.743Z"
   },
   {
    "duration": 41,
    "start_time": "2022-10-14T10:51:07.250Z"
   },
   {
    "duration": 41,
    "start_time": "2022-10-14T10:51:20.663Z"
   },
   {
    "duration": 65,
    "start_time": "2022-10-14T10:56:11.314Z"
   },
   {
    "duration": 64,
    "start_time": "2022-10-14T10:56:32.413Z"
   },
   {
    "duration": 72,
    "start_time": "2022-10-14T10:56:41.246Z"
   },
   {
    "duration": 77,
    "start_time": "2022-10-14T10:57:46.009Z"
   },
   {
    "duration": 58,
    "start_time": "2022-10-14T10:58:40.945Z"
   },
   {
    "duration": 58,
    "start_time": "2022-10-14T11:03:20.516Z"
   },
   {
    "duration": 72,
    "start_time": "2022-10-14T11:16:47.407Z"
   },
   {
    "duration": 50,
    "start_time": "2022-10-14T11:17:08.480Z"
   },
   {
    "duration": 72,
    "start_time": "2022-10-14T11:17:32.398Z"
   },
   {
    "duration": 78,
    "start_time": "2022-10-14T11:17:48.352Z"
   },
   {
    "duration": 50,
    "start_time": "2022-10-14T11:22:17.033Z"
   },
   {
    "duration": 47,
    "start_time": "2022-10-14T11:22:57.629Z"
   },
   {
    "duration": 32,
    "start_time": "2022-10-14T11:23:33.272Z"
   },
   {
    "duration": 18,
    "start_time": "2022-10-14T11:25:11.618Z"
   },
   {
    "duration": 13,
    "start_time": "2022-10-14T11:25:32.598Z"
   },
   {
    "duration": 54,
    "start_time": "2022-10-14T11:27:33.318Z"
   },
   {
    "duration": 74,
    "start_time": "2022-10-14T11:28:04.870Z"
   },
   {
    "duration": 75,
    "start_time": "2022-10-14T12:31:07.927Z"
   },
   {
    "duration": 56,
    "start_time": "2022-10-14T12:31:54.147Z"
   },
   {
    "duration": 54,
    "start_time": "2022-10-14T12:32:15.683Z"
   },
   {
    "duration": 81,
    "start_time": "2022-10-14T14:01:14.072Z"
   },
   {
    "duration": 18,
    "start_time": "2022-10-14T14:01:21.471Z"
   },
   {
    "duration": 49,
    "start_time": "2022-10-14T14:02:07.557Z"
   },
   {
    "duration": 67,
    "start_time": "2022-10-14T14:02:23.534Z"
   },
   {
    "duration": 50,
    "start_time": "2022-10-14T14:02:55.946Z"
   },
   {
    "duration": 14,
    "start_time": "2022-10-14T14:04:37.190Z"
   },
   {
    "duration": 3,
    "start_time": "2022-10-14T14:05:02.380Z"
   },
   {
    "duration": 414,
    "start_time": "2022-10-14T14:05:02.386Z"
   },
   {
    "duration": 34,
    "start_time": "2022-10-14T14:05:02.802Z"
   },
   {
    "duration": 32,
    "start_time": "2022-10-14T14:05:02.837Z"
   },
   {
    "duration": 26,
    "start_time": "2022-10-14T14:05:02.871Z"
   },
   {
    "duration": 17,
    "start_time": "2022-10-14T14:05:02.899Z"
   },
   {
    "duration": 52,
    "start_time": "2022-10-14T14:05:02.918Z"
   },
   {
    "duration": 65,
    "start_time": "2022-10-14T14:05:02.972Z"
   },
   {
    "duration": 40,
    "start_time": "2022-10-14T14:05:03.055Z"
   },
   {
    "duration": 57,
    "start_time": "2022-10-14T14:05:03.097Z"
   },
   {
    "duration": 46,
    "start_time": "2022-10-14T14:05:03.156Z"
   },
   {
    "duration": 14,
    "start_time": "2022-10-14T14:05:03.205Z"
   },
   {
    "duration": 33,
    "start_time": "2022-10-14T14:05:03.221Z"
   },
   {
    "duration": 37,
    "start_time": "2022-10-14T14:05:03.257Z"
   },
   {
    "duration": 22,
    "start_time": "2022-10-14T14:05:03.296Z"
   },
   {
    "duration": 17,
    "start_time": "2022-10-14T14:05:03.320Z"
   },
   {
    "duration": 25,
    "start_time": "2022-10-14T14:05:03.338Z"
   },
   {
    "duration": 55,
    "start_time": "2022-10-14T14:05:03.364Z"
   },
   {
    "duration": 49,
    "start_time": "2022-10-14T14:05:03.420Z"
   },
   {
    "duration": 21,
    "start_time": "2022-10-14T14:05:03.471Z"
   },
   {
    "duration": 5,
    "start_time": "2022-10-14T14:05:03.494Z"
   },
   {
    "duration": 22,
    "start_time": "2022-10-14T14:05:03.501Z"
   },
   {
    "duration": 14,
    "start_time": "2022-10-14T14:05:03.524Z"
   },
   {
    "duration": 59,
    "start_time": "2022-10-14T14:05:03.554Z"
   },
   {
    "duration": 58,
    "start_time": "2022-10-14T14:05:03.614Z"
   },
   {
    "duration": 33,
    "start_time": "2022-10-14T14:05:03.674Z"
   },
   {
    "duration": 13,
    "start_time": "2022-10-14T14:05:03.709Z"
   },
   {
    "duration": 54,
    "start_time": "2022-10-14T14:05:18.254Z"
   },
   {
    "duration": 44,
    "start_time": "2022-10-14T14:05:39.145Z"
   },
   {
    "duration": 34,
    "start_time": "2022-10-14T14:06:05.807Z"
   },
   {
    "duration": 14,
    "start_time": "2022-10-14T14:06:12.165Z"
   },
   {
    "duration": 1969,
    "start_time": "2022-10-14T14:06:22.476Z"
   },
   {
    "duration": 8,
    "start_time": "2022-10-14T14:06:38.287Z"
   },
   {
    "duration": 41,
    "start_time": "2022-10-14T14:06:47.437Z"
   },
   {
    "duration": 13,
    "start_time": "2022-10-14T14:07:30.825Z"
   },
   {
    "duration": 11,
    "start_time": "2022-10-14T14:07:48.155Z"
   },
   {
    "duration": 38,
    "start_time": "2022-10-14T14:07:55.898Z"
   },
   {
    "duration": 39,
    "start_time": "2022-10-14T14:08:26.473Z"
   },
   {
    "duration": 76,
    "start_time": "2022-10-14T14:09:08.480Z"
   },
   {
    "duration": 20,
    "start_time": "2022-10-14T14:09:14.470Z"
   },
   {
    "duration": 180,
    "start_time": "2022-10-14T14:09:32.623Z"
   },
   {
    "duration": 1233,
    "start_time": "2022-10-14T14:10:23.778Z"
   },
   {
    "duration": 756,
    "start_time": "2022-10-14T14:10:25.013Z"
   },
   {
    "duration": 45,
    "start_time": "2022-10-14T14:10:25.771Z"
   },
   {
    "duration": 38,
    "start_time": "2022-10-14T14:10:25.818Z"
   },
   {
    "duration": 26,
    "start_time": "2022-10-14T14:10:25.858Z"
   },
   {
    "duration": 15,
    "start_time": "2022-10-14T14:10:25.886Z"
   },
   {
    "duration": 52,
    "start_time": "2022-10-14T14:10:25.902Z"
   },
   {
    "duration": 70,
    "start_time": "2022-10-14T14:10:25.956Z"
   },
   {
    "duration": 57,
    "start_time": "2022-10-14T14:10:26.029Z"
   },
   {
    "duration": 26,
    "start_time": "2022-10-14T14:10:26.090Z"
   },
   {
    "duration": 66,
    "start_time": "2022-10-14T14:10:26.118Z"
   },
   {
    "duration": 14,
    "start_time": "2022-10-14T14:10:26.186Z"
   },
   {
    "duration": 16,
    "start_time": "2022-10-14T14:10:26.202Z"
   },
   {
    "duration": 18,
    "start_time": "2022-10-14T14:10:26.220Z"
   },
   {
    "duration": 21,
    "start_time": "2022-10-14T14:10:26.239Z"
   },
   {
    "duration": 6,
    "start_time": "2022-10-14T14:10:26.262Z"
   },
   {
    "duration": 11,
    "start_time": "2022-10-14T14:10:26.270Z"
   },
   {
    "duration": 91,
    "start_time": "2022-10-14T14:10:26.283Z"
   },
   {
    "duration": 50,
    "start_time": "2022-10-14T14:10:26.376Z"
   },
   {
    "duration": 45,
    "start_time": "2022-10-14T14:10:26.428Z"
   },
   {
    "duration": 7,
    "start_time": "2022-10-14T14:10:26.475Z"
   },
   {
    "duration": 20,
    "start_time": "2022-10-14T14:10:26.484Z"
   },
   {
    "duration": 10,
    "start_time": "2022-10-14T14:10:26.507Z"
   },
   {
    "duration": 90,
    "start_time": "2022-10-14T14:10:26.520Z"
   },
   {
    "duration": 71,
    "start_time": "2022-10-14T14:10:26.613Z"
   },
   {
    "duration": 35,
    "start_time": "2022-10-14T14:10:26.686Z"
   },
   {
    "duration": 0,
    "start_time": "2022-10-14T14:10:35.561Z"
   },
   {
    "duration": 1216,
    "start_time": "2022-10-14T14:10:44.742Z"
   },
   {
    "duration": 717,
    "start_time": "2022-10-14T14:10:45.961Z"
   },
   {
    "duration": 48,
    "start_time": "2022-10-14T14:10:46.680Z"
   },
   {
    "duration": 34,
    "start_time": "2022-10-14T14:10:46.730Z"
   },
   {
    "duration": 28,
    "start_time": "2022-10-14T14:10:46.767Z"
   },
   {
    "duration": 18,
    "start_time": "2022-10-14T14:10:46.797Z"
   },
   {
    "duration": 53,
    "start_time": "2022-10-14T14:10:46.817Z"
   },
   {
    "duration": 82,
    "start_time": "2022-10-14T14:10:46.872Z"
   },
   {
    "duration": 47,
    "start_time": "2022-10-14T14:10:46.956Z"
   },
   {
    "duration": 49,
    "start_time": "2022-10-14T14:10:47.005Z"
   },
   {
    "duration": 62,
    "start_time": "2022-10-14T14:10:47.056Z"
   },
   {
    "duration": 15,
    "start_time": "2022-10-14T14:10:47.120Z"
   },
   {
    "duration": 23,
    "start_time": "2022-10-14T14:10:47.137Z"
   },
   {
    "duration": 13,
    "start_time": "2022-10-14T14:10:47.163Z"
   },
   {
    "duration": 7,
    "start_time": "2022-10-14T14:10:47.178Z"
   },
   {
    "duration": 23,
    "start_time": "2022-10-14T14:10:47.186Z"
   },
   {
    "duration": 18,
    "start_time": "2022-10-14T14:10:47.211Z"
   },
   {
    "duration": 94,
    "start_time": "2022-10-14T14:10:47.231Z"
   },
   {
    "duration": 69,
    "start_time": "2022-10-14T14:10:47.328Z"
   },
   {
    "duration": 34,
    "start_time": "2022-10-14T14:10:47.400Z"
   },
   {
    "duration": 23,
    "start_time": "2022-10-14T14:10:47.436Z"
   },
   {
    "duration": 20,
    "start_time": "2022-10-14T14:10:47.461Z"
   },
   {
    "duration": 23,
    "start_time": "2022-10-14T14:10:47.483Z"
   },
   {
    "duration": 73,
    "start_time": "2022-10-14T14:10:47.508Z"
   },
   {
    "duration": 51,
    "start_time": "2022-10-14T14:10:47.583Z"
   },
   {
    "duration": 45,
    "start_time": "2022-10-14T14:10:47.636Z"
   },
   {
    "duration": 1390,
    "start_time": "2022-10-14T14:11:00.881Z"
   },
   {
    "duration": 766,
    "start_time": "2022-10-14T14:11:02.273Z"
   },
   {
    "duration": 46,
    "start_time": "2022-10-14T14:11:03.041Z"
   },
   {
    "duration": 36,
    "start_time": "2022-10-14T14:11:03.089Z"
   },
   {
    "duration": 47,
    "start_time": "2022-10-14T14:11:03.128Z"
   },
   {
    "duration": 46,
    "start_time": "2022-10-14T14:11:03.177Z"
   },
   {
    "duration": 52,
    "start_time": "2022-10-14T14:11:03.224Z"
   },
   {
    "duration": 81,
    "start_time": "2022-10-14T14:11:03.278Z"
   },
   {
    "duration": 42,
    "start_time": "2022-10-14T14:11:03.361Z"
   },
   {
    "duration": 49,
    "start_time": "2022-10-14T14:11:03.405Z"
   },
   {
    "duration": 43,
    "start_time": "2022-10-14T14:11:03.456Z"
   },
   {
    "duration": 16,
    "start_time": "2022-10-14T14:11:03.501Z"
   },
   {
    "duration": 50,
    "start_time": "2022-10-14T14:11:03.518Z"
   },
   {
    "duration": 56,
    "start_time": "2022-10-14T14:11:03.571Z"
   },
   {
    "duration": 24,
    "start_time": "2022-10-14T14:11:03.629Z"
   },
   {
    "duration": 42,
    "start_time": "2022-10-14T14:11:03.654Z"
   },
   {
    "duration": 38,
    "start_time": "2022-10-14T14:11:03.697Z"
   },
   {
    "duration": 82,
    "start_time": "2022-10-14T14:11:03.736Z"
   },
   {
    "duration": 59,
    "start_time": "2022-10-14T14:11:03.820Z"
   },
   {
    "duration": 28,
    "start_time": "2022-10-14T14:11:03.881Z"
   },
   {
    "duration": 8,
    "start_time": "2022-10-14T14:11:03.910Z"
   },
   {
    "duration": 35,
    "start_time": "2022-10-14T14:11:03.920Z"
   },
   {
    "duration": 15,
    "start_time": "2022-10-14T14:11:03.957Z"
   },
   {
    "duration": 67,
    "start_time": "2022-10-14T14:11:03.974Z"
   },
   {
    "duration": 58,
    "start_time": "2022-10-14T14:11:04.043Z"
   },
   {
    "duration": 54,
    "start_time": "2022-10-14T14:11:04.103Z"
   },
   {
    "duration": 199,
    "start_time": "2022-10-14T14:11:04.159Z"
   },
   {
    "duration": 97,
    "start_time": "2022-10-14T14:11:13.850Z"
   },
   {
    "duration": 98,
    "start_time": "2022-10-14T14:11:26.140Z"
   },
   {
    "duration": 35,
    "start_time": "2022-10-14T14:18:43.546Z"
   },
   {
    "duration": 914,
    "start_time": "2022-10-14T14:29:58.150Z"
   },
   {
    "duration": 1718,
    "start_time": "2022-10-14T14:30:15.975Z"
   },
   {
    "duration": 37,
    "start_time": "2022-10-14T14:30:36.808Z"
   },
   {
    "duration": 57,
    "start_time": "2022-10-14T14:31:32.403Z"
   },
   {
    "duration": 77,
    "start_time": "2022-10-14T14:31:49.572Z"
   },
   {
    "duration": 75,
    "start_time": "2022-10-14T14:32:14.965Z"
   },
   {
    "duration": 75,
    "start_time": "2022-10-14T14:32:29.776Z"
   },
   {
    "duration": 3,
    "start_time": "2022-10-14T14:33:41.127Z"
   },
   {
    "duration": 502,
    "start_time": "2022-10-14T14:33:41.132Z"
   },
   {
    "duration": 62,
    "start_time": "2022-10-14T14:33:41.638Z"
   },
   {
    "duration": 57,
    "start_time": "2022-10-14T14:33:41.703Z"
   },
   {
    "duration": 40,
    "start_time": "2022-10-14T14:33:41.765Z"
   },
   {
    "duration": 22,
    "start_time": "2022-10-14T14:33:41.808Z"
   },
   {
    "duration": 30,
    "start_time": "2022-10-14T14:33:41.855Z"
   },
   {
    "duration": 108,
    "start_time": "2022-10-14T14:33:41.888Z"
   },
   {
    "duration": 81,
    "start_time": "2022-10-14T14:33:41.999Z"
   },
   {
    "duration": 36,
    "start_time": "2022-10-14T14:33:42.083Z"
   },
   {
    "duration": 98,
    "start_time": "2022-10-14T14:33:42.122Z"
   },
   {
    "duration": 32,
    "start_time": "2022-10-14T14:33:42.223Z"
   },
   {
    "duration": 11,
    "start_time": "2022-10-14T14:33:42.260Z"
   },
   {
    "duration": 14,
    "start_time": "2022-10-14T14:33:42.273Z"
   },
   {
    "duration": 18,
    "start_time": "2022-10-14T14:33:42.289Z"
   },
   {
    "duration": 15,
    "start_time": "2022-10-14T14:33:42.309Z"
   },
   {
    "duration": 32,
    "start_time": "2022-10-14T14:33:42.326Z"
   },
   {
    "duration": 85,
    "start_time": "2022-10-14T14:33:42.360Z"
   },
   {
    "duration": 49,
    "start_time": "2022-10-14T14:33:42.447Z"
   },
   {
    "duration": 25,
    "start_time": "2022-10-14T14:33:42.498Z"
   },
   {
    "duration": 30,
    "start_time": "2022-10-14T14:33:42.525Z"
   },
   {
    "duration": 22,
    "start_time": "2022-10-14T14:33:42.557Z"
   },
   {
    "duration": 13,
    "start_time": "2022-10-14T14:33:42.582Z"
   },
   {
    "duration": 62,
    "start_time": "2022-10-14T14:33:42.597Z"
   },
   {
    "duration": 50,
    "start_time": "2022-10-14T14:33:42.661Z"
   },
   {
    "duration": 61,
    "start_time": "2022-10-14T14:33:42.713Z"
   },
   {
    "duration": 98,
    "start_time": "2022-10-14T14:33:42.777Z"
   },
   {
    "duration": 78,
    "start_time": "2022-10-14T14:34:32.541Z"
   },
   {
    "duration": 94,
    "start_time": "2022-10-14T14:35:58.287Z"
   },
   {
    "duration": 165,
    "start_time": "2022-10-14T15:32:44.673Z"
   },
   {
    "duration": 160,
    "start_time": "2022-10-14T15:33:19.752Z"
   },
   {
    "duration": 30,
    "start_time": "2022-10-14T15:33:49.195Z"
   },
   {
    "duration": 31,
    "start_time": "2022-10-14T15:34:50.674Z"
   },
   {
    "duration": 29,
    "start_time": "2022-10-14T15:35:04.092Z"
   },
   {
    "duration": 27,
    "start_time": "2022-10-14T15:35:22.948Z"
   },
   {
    "duration": 819,
    "start_time": "2022-10-27T10:39:36.712Z"
   },
   {
    "duration": 1233,
    "start_time": "2022-10-27T10:39:37.534Z"
   },
   {
    "duration": 32,
    "start_time": "2022-10-27T10:39:38.769Z"
   },
   {
    "duration": 29,
    "start_time": "2022-10-27T10:39:38.803Z"
   },
   {
    "duration": 22,
    "start_time": "2022-10-27T10:39:38.834Z"
   },
   {
    "duration": 12,
    "start_time": "2022-10-27T10:39:38.857Z"
   },
   {
    "duration": 16,
    "start_time": "2022-10-27T10:39:38.871Z"
   },
   {
    "duration": 91,
    "start_time": "2022-10-27T10:39:38.889Z"
   },
   {
    "duration": 58,
    "start_time": "2022-10-27T10:39:38.982Z"
   },
   {
    "duration": 22,
    "start_time": "2022-10-27T10:39:39.043Z"
   },
   {
    "duration": 36,
    "start_time": "2022-10-27T10:39:39.067Z"
   },
   {
    "duration": 32,
    "start_time": "2022-10-27T10:39:39.104Z"
   },
   {
    "duration": 9,
    "start_time": "2022-10-27T10:39:39.138Z"
   },
   {
    "duration": 10,
    "start_time": "2022-10-27T10:39:39.148Z"
   },
   {
    "duration": 5,
    "start_time": "2022-10-27T10:39:39.159Z"
   },
   {
    "duration": 5,
    "start_time": "2022-10-27T10:39:39.166Z"
   },
   {
    "duration": 5,
    "start_time": "2022-10-27T10:39:39.172Z"
   },
   {
    "duration": 79,
    "start_time": "2022-10-27T10:39:39.179Z"
   },
   {
    "duration": 37,
    "start_time": "2022-10-27T10:39:39.259Z"
   },
   {
    "duration": 39,
    "start_time": "2022-10-27T10:39:39.297Z"
   },
   {
    "duration": 5,
    "start_time": "2022-10-27T10:39:39.338Z"
   },
   {
    "duration": 10,
    "start_time": "2022-10-27T10:39:39.344Z"
   },
   {
    "duration": 5,
    "start_time": "2022-10-27T10:39:39.356Z"
   },
   {
    "duration": 51,
    "start_time": "2022-10-27T10:39:39.362Z"
   },
   {
    "duration": 45,
    "start_time": "2022-10-27T10:39:39.427Z"
   },
   {
    "duration": 30,
    "start_time": "2022-10-27T10:39:39.473Z"
   },
   {
    "duration": 104,
    "start_time": "2022-10-27T10:39:39.504Z"
   },
   {
    "duration": 40,
    "start_time": "2022-10-27T11:19:56.684Z"
   },
   {
    "duration": 41,
    "start_time": "2022-10-27T11:20:02.839Z"
   },
   {
    "duration": 28,
    "start_time": "2022-10-27T11:20:07.604Z"
   },
   {
    "duration": 18,
    "start_time": "2022-10-27T11:21:29.000Z"
   },
   {
    "duration": 10,
    "start_time": "2022-10-27T11:21:59.061Z"
   },
   {
    "duration": 12,
    "start_time": "2022-10-27T11:22:30.728Z"
   },
   {
    "duration": 12,
    "start_time": "2022-10-27T11:30:21.344Z"
   },
   {
    "duration": 15,
    "start_time": "2022-10-27T11:30:54.788Z"
   },
   {
    "duration": 13,
    "start_time": "2022-10-27T11:31:22.846Z"
   },
   {
    "duration": 28,
    "start_time": "2022-10-27T11:31:40.836Z"
   },
   {
    "duration": 8,
    "start_time": "2022-10-27T11:32:15.476Z"
   },
   {
    "duration": 41,
    "start_time": "2022-10-27T11:33:36.651Z"
   },
   {
    "duration": 39,
    "start_time": "2022-10-27T11:34:24.633Z"
   },
   {
    "duration": 22,
    "start_time": "2022-10-27T11:48:55.200Z"
   },
   {
    "duration": 22,
    "start_time": "2022-10-27T11:49:26.390Z"
   },
   {
    "duration": 33,
    "start_time": "2022-10-27T11:50:38.145Z"
   },
   {
    "duration": 24,
    "start_time": "2022-10-27T11:52:11.959Z"
   },
   {
    "duration": 22,
    "start_time": "2022-10-27T11:53:01.597Z"
   },
   {
    "duration": 23,
    "start_time": "2022-10-27T11:54:00.952Z"
   },
   {
    "duration": 22,
    "start_time": "2022-10-27T11:54:38.237Z"
   },
   {
    "duration": 22,
    "start_time": "2022-10-27T11:55:00.204Z"
   },
   {
    "duration": 38,
    "start_time": "2022-10-27T11:58:45.797Z"
   },
   {
    "duration": 31,
    "start_time": "2022-10-27T11:59:45.842Z"
   },
   {
    "duration": 27,
    "start_time": "2022-10-27T12:01:32.801Z"
   },
   {
    "duration": 44,
    "start_time": "2022-10-27T12:02:12.089Z"
   },
   {
    "duration": 36,
    "start_time": "2022-10-27T12:02:48.146Z"
   },
   {
    "duration": 21,
    "start_time": "2022-10-27T12:03:44.950Z"
   },
   {
    "duration": 40,
    "start_time": "2022-10-27T12:04:21.446Z"
   },
   {
    "duration": 94,
    "start_time": "2022-10-27T12:20:38.877Z"
   },
   {
    "duration": 9,
    "start_time": "2022-10-27T12:21:04.257Z"
   },
   {
    "duration": 10,
    "start_time": "2022-10-27T12:21:43.012Z"
   },
   {
    "duration": 10,
    "start_time": "2022-10-27T12:22:06.077Z"
   },
   {
    "duration": 83,
    "start_time": "2022-10-27T12:29:27.112Z"
   },
   {
    "duration": 10,
    "start_time": "2022-10-27T12:29:32.856Z"
   },
   {
    "duration": 15,
    "start_time": "2022-10-27T12:29:54.452Z"
   },
   {
    "duration": 15,
    "start_time": "2022-10-27T12:29:54.953Z"
   },
   {
    "duration": 39,
    "start_time": "2022-10-27T12:30:56.949Z"
   },
   {
    "duration": 25,
    "start_time": "2022-10-27T12:31:12.685Z"
   },
   {
    "duration": 25,
    "start_time": "2022-10-27T12:31:43.651Z"
   },
   {
    "duration": 23,
    "start_time": "2022-10-27T12:32:43.902Z"
   },
   {
    "duration": 62,
    "start_time": "2022-10-27T12:45:12.254Z"
   },
   {
    "duration": 862,
    "start_time": "2022-10-27T12:46:00.252Z"
   },
   {
    "duration": 834,
    "start_time": "2022-10-27T12:46:45.854Z"
   },
   {
    "duration": 0,
    "start_time": "2022-10-27T12:47:10.270Z"
   },
   {
    "duration": 0,
    "start_time": "2022-10-27T12:47:14.684Z"
   },
   {
    "duration": 3,
    "start_time": "2022-10-27T12:47:26.009Z"
   },
   {
    "duration": 419,
    "start_time": "2022-10-27T12:47:26.015Z"
   },
   {
    "duration": 29,
    "start_time": "2022-10-27T12:47:26.435Z"
   },
   {
    "duration": 27,
    "start_time": "2022-10-27T12:47:26.466Z"
   },
   {
    "duration": 33,
    "start_time": "2022-10-27T12:47:26.495Z"
   },
   {
    "duration": 14,
    "start_time": "2022-10-27T12:47:26.530Z"
   },
   {
    "duration": 29,
    "start_time": "2022-10-27T12:47:26.546Z"
   },
   {
    "duration": 81,
    "start_time": "2022-10-27T12:47:26.577Z"
   },
   {
    "duration": 36,
    "start_time": "2022-10-27T12:47:26.660Z"
   },
   {
    "duration": 32,
    "start_time": "2022-10-27T12:47:26.698Z"
   },
   {
    "duration": 42,
    "start_time": "2022-10-27T12:47:26.732Z"
   },
   {
    "duration": 13,
    "start_time": "2022-10-27T12:47:26.776Z"
   },
   {
    "duration": 31,
    "start_time": "2022-10-27T12:47:26.791Z"
   },
   {
    "duration": 10,
    "start_time": "2022-10-27T12:47:26.825Z"
   },
   {
    "duration": 8,
    "start_time": "2022-10-27T12:47:26.837Z"
   },
   {
    "duration": 5,
    "start_time": "2022-10-27T12:47:26.847Z"
   },
   {
    "duration": 8,
    "start_time": "2022-10-27T12:47:26.853Z"
   },
   {
    "duration": 73,
    "start_time": "2022-10-27T12:47:26.863Z"
   },
   {
    "duration": 41,
    "start_time": "2022-10-27T12:47:26.938Z"
   },
   {
    "duration": 42,
    "start_time": "2022-10-27T12:47:26.980Z"
   },
   {
    "duration": 6,
    "start_time": "2022-10-27T12:47:27.024Z"
   },
   {
    "duration": 8,
    "start_time": "2022-10-27T12:47:27.031Z"
   },
   {
    "duration": 6,
    "start_time": "2022-10-27T12:47:27.040Z"
   },
   {
    "duration": 41,
    "start_time": "2022-10-27T12:47:27.047Z"
   },
   {
    "duration": 63,
    "start_time": "2022-10-27T12:47:27.090Z"
   },
   {
    "duration": 25,
    "start_time": "2022-10-27T12:47:27.154Z"
   },
   {
    "duration": 22,
    "start_time": "2022-10-27T12:47:27.180Z"
   },
   {
    "duration": 8,
    "start_time": "2022-10-27T12:52:29.822Z"
   },
   {
    "duration": 29,
    "start_time": "2022-10-27T12:52:41.266Z"
   },
   {
    "duration": 24,
    "start_time": "2022-10-27T12:53:01.853Z"
   },
   {
    "duration": 45,
    "start_time": "2022-10-27T13:01:42.369Z"
   },
   {
    "duration": 3,
    "start_time": "2022-10-27T13:04:25.574Z"
   },
   {
    "duration": 373,
    "start_time": "2022-10-27T13:04:25.580Z"
   },
   {
    "duration": 31,
    "start_time": "2022-10-27T13:04:25.955Z"
   },
   {
    "duration": 48,
    "start_time": "2022-10-27T13:04:25.988Z"
   },
   {
    "duration": 35,
    "start_time": "2022-10-27T13:04:26.038Z"
   },
   {
    "duration": 26,
    "start_time": "2022-10-27T13:04:26.075Z"
   },
   {
    "duration": 35,
    "start_time": "2022-10-27T13:04:26.103Z"
   },
   {
    "duration": 27,
    "start_time": "2022-10-27T13:04:26.140Z"
   },
   {
    "duration": 83,
    "start_time": "2022-10-27T13:04:26.169Z"
   },
   {
    "duration": 32,
    "start_time": "2022-10-27T13:04:26.254Z"
   },
   {
    "duration": 17,
    "start_time": "2022-10-27T13:04:26.287Z"
   },
   {
    "duration": 47,
    "start_time": "2022-10-27T13:04:26.306Z"
   },
   {
    "duration": 12,
    "start_time": "2022-10-27T13:04:26.354Z"
   },
   {
    "duration": 9,
    "start_time": "2022-10-27T13:04:26.367Z"
   },
   {
    "duration": 9,
    "start_time": "2022-10-27T13:04:26.378Z"
   },
   {
    "duration": 33,
    "start_time": "2022-10-27T13:04:26.389Z"
   },
   {
    "duration": 4,
    "start_time": "2022-10-27T13:04:26.424Z"
   },
   {
    "duration": 7,
    "start_time": "2022-10-27T13:04:26.429Z"
   },
   {
    "duration": 50,
    "start_time": "2022-10-27T13:04:26.437Z"
   },
   {
    "duration": 50,
    "start_time": "2022-10-27T13:04:26.488Z"
   },
   {
    "duration": 19,
    "start_time": "2022-10-27T13:04:26.539Z"
   },
   {
    "duration": 5,
    "start_time": "2022-10-27T13:04:26.560Z"
   },
   {
    "duration": 9,
    "start_time": "2022-10-27T13:04:26.566Z"
   },
   {
    "duration": 8,
    "start_time": "2022-10-27T13:04:26.576Z"
   },
   {
    "duration": 56,
    "start_time": "2022-10-27T13:04:26.586Z"
   },
   {
    "duration": 36,
    "start_time": "2022-10-27T13:04:26.644Z"
   },
   {
    "duration": 41,
    "start_time": "2022-10-27T13:04:26.681Z"
   },
   {
    "duration": 22,
    "start_time": "2022-10-27T13:04:26.724Z"
   },
   {
    "duration": 36,
    "start_time": "2022-10-27T13:06:02.746Z"
   },
   {
    "duration": 27,
    "start_time": "2022-10-27T13:07:31.191Z"
   },
   {
    "duration": 15,
    "start_time": "2022-10-27T13:09:01.542Z"
   },
   {
    "duration": 34,
    "start_time": "2022-10-27T13:10:21.076Z"
   },
   {
    "duration": 38,
    "start_time": "2022-10-27T13:10:28.520Z"
   },
   {
    "duration": 24,
    "start_time": "2022-10-27T13:10:38.737Z"
   },
   {
    "duration": 24,
    "start_time": "2022-10-27T13:10:39.220Z"
   },
   {
    "duration": 23,
    "start_time": "2022-10-27T13:10:43.627Z"
   },
   {
    "duration": 39,
    "start_time": "2022-10-27T13:11:38.044Z"
   },
   {
    "duration": 43,
    "start_time": "2022-10-27T13:12:29.162Z"
   },
   {
    "duration": 38,
    "start_time": "2022-10-27T13:13:03.024Z"
   },
   {
    "duration": 25,
    "start_time": "2022-10-27T13:14:52.528Z"
   },
   {
    "duration": 26,
    "start_time": "2022-10-27T13:15:25.134Z"
   },
   {
    "duration": 16,
    "start_time": "2022-10-27T13:16:16.791Z"
   },
   {
    "duration": 10,
    "start_time": "2022-10-27T13:16:36.557Z"
   },
   {
    "duration": 11,
    "start_time": "2022-10-27T13:16:37.092Z"
   },
   {
    "duration": 12,
    "start_time": "2022-10-27T13:16:40.231Z"
   },
   {
    "duration": 12,
    "start_time": "2022-10-27T13:16:56.227Z"
   },
   {
    "duration": 22,
    "start_time": "2022-10-27T13:17:12.387Z"
   },
   {
    "duration": 22,
    "start_time": "2022-10-27T13:19:31.172Z"
   },
   {
    "duration": 26,
    "start_time": "2022-10-27T13:20:00.380Z"
   },
   {
    "duration": 23,
    "start_time": "2022-10-27T13:21:14.255Z"
   },
   {
    "duration": 20,
    "start_time": "2022-10-27T13:22:07.239Z"
   },
   {
    "duration": 16,
    "start_time": "2022-10-27T13:23:42.431Z"
   },
   {
    "duration": 12,
    "start_time": "2022-10-27T13:24:08.235Z"
   },
   {
    "duration": 12,
    "start_time": "2022-10-27T13:24:31.395Z"
   },
   {
    "duration": 23,
    "start_time": "2022-10-27T13:24:40.789Z"
   },
   {
    "duration": 24,
    "start_time": "2022-10-27T13:25:45.178Z"
   },
   {
    "duration": 29,
    "start_time": "2022-10-27T13:29:46.085Z"
   },
   {
    "duration": 21,
    "start_time": "2022-10-27T13:30:27.421Z"
   },
   {
    "duration": 21,
    "start_time": "2022-10-27T13:31:10.513Z"
   },
   {
    "duration": 12,
    "start_time": "2022-10-27T13:35:56.589Z"
   },
   {
    "duration": 12,
    "start_time": "2022-10-27T13:35:57.091Z"
   },
   {
    "duration": 22,
    "start_time": "2022-10-27T13:36:19.932Z"
   },
   {
    "duration": 23,
    "start_time": "2022-10-27T13:36:20.422Z"
   },
   {
    "duration": 19,
    "start_time": "2022-10-27T13:37:25.894Z"
   },
   {
    "duration": 26,
    "start_time": "2022-10-27T13:37:56.934Z"
   },
   {
    "duration": 44,
    "start_time": "2022-10-27T13:38:27.351Z"
   },
   {
    "duration": 22,
    "start_time": "2022-10-27T13:38:46.333Z"
   },
   {
    "duration": 14,
    "start_time": "2022-10-27T13:39:13.587Z"
   },
   {
    "duration": 19,
    "start_time": "2022-10-27T13:40:06.553Z"
   },
   {
    "duration": 19,
    "start_time": "2022-10-27T13:40:43.766Z"
   },
   {
    "duration": 14,
    "start_time": "2022-10-27T13:41:08.397Z"
   },
   {
    "duration": 14,
    "start_time": "2022-10-27T13:41:34.285Z"
   },
   {
    "duration": 2,
    "start_time": "2022-10-27T13:47:23.856Z"
   },
   {
    "duration": 412,
    "start_time": "2022-10-27T13:47:23.862Z"
   },
   {
    "duration": 30,
    "start_time": "2022-10-27T13:47:24.275Z"
   },
   {
    "duration": 2,
    "start_time": "2022-10-27T13:47:24.307Z"
   },
   {
    "duration": 37,
    "start_time": "2022-10-27T13:47:24.311Z"
   },
   {
    "duration": 2,
    "start_time": "2022-10-27T13:47:24.349Z"
   },
   {
    "duration": 53,
    "start_time": "2022-10-27T13:47:24.353Z"
   },
   {
    "duration": 2,
    "start_time": "2022-10-27T13:47:24.408Z"
   },
   {
    "duration": 25,
    "start_time": "2022-10-27T13:47:24.411Z"
   },
   {
    "duration": 25,
    "start_time": "2022-10-27T13:47:24.437Z"
   },
   {
    "duration": 67,
    "start_time": "2022-10-27T13:47:24.465Z"
   },
   {
    "duration": 33,
    "start_time": "2022-10-27T13:47:24.534Z"
   },
   {
    "duration": 20,
    "start_time": "2022-10-27T13:47:24.568Z"
   },
   {
    "duration": 55,
    "start_time": "2022-10-27T13:47:24.590Z"
   },
   {
    "duration": 12,
    "start_time": "2022-10-27T13:47:24.647Z"
   },
   {
    "duration": 16,
    "start_time": "2022-10-27T13:47:24.660Z"
   },
   {
    "duration": 16,
    "start_time": "2022-10-27T13:47:24.677Z"
   },
   {
    "duration": 19,
    "start_time": "2022-10-27T13:47:24.694Z"
   },
   {
    "duration": 12,
    "start_time": "2022-10-27T13:47:24.715Z"
   },
   {
    "duration": 7,
    "start_time": "2022-10-27T13:47:24.729Z"
   },
   {
    "duration": 47,
    "start_time": "2022-10-27T13:47:24.738Z"
   },
   {
    "duration": 44,
    "start_time": "2022-10-27T13:47:24.787Z"
   },
   {
    "duration": 20,
    "start_time": "2022-10-27T13:47:24.833Z"
   },
   {
    "duration": 4,
    "start_time": "2022-10-27T13:47:24.855Z"
   },
   {
    "duration": 8,
    "start_time": "2022-10-27T13:47:24.861Z"
   },
   {
    "duration": 18,
    "start_time": "2022-10-27T13:47:24.870Z"
   },
   {
    "duration": 51,
    "start_time": "2022-10-27T13:47:24.889Z"
   },
   {
    "duration": 34,
    "start_time": "2022-10-27T13:47:24.941Z"
   },
   {
    "duration": 26,
    "start_time": "2022-10-27T13:47:24.978Z"
   },
   {
    "duration": 29,
    "start_time": "2022-10-27T13:47:25.005Z"
   },
   {
    "duration": 20,
    "start_time": "2022-10-27T14:13:10.739Z"
   },
   {
    "duration": 22,
    "start_time": "2022-10-27T14:15:52.572Z"
   },
   {
    "duration": 19,
    "start_time": "2022-10-27T14:17:37.811Z"
   },
   {
    "duration": 21,
    "start_time": "2022-10-27T14:18:09.933Z"
   },
   {
    "duration": 13,
    "start_time": "2022-10-27T14:19:33.463Z"
   },
   {
    "duration": 21,
    "start_time": "2022-10-27T14:20:31.859Z"
   },
   {
    "duration": 13,
    "start_time": "2022-10-27T14:51:37.719Z"
   },
   {
    "duration": 17,
    "start_time": "2022-10-27T14:52:28.556Z"
   },
   {
    "duration": 12,
    "start_time": "2022-10-27T14:53:02.767Z"
   },
   {
    "duration": 13,
    "start_time": "2022-10-27T14:53:47.969Z"
   },
   {
    "duration": 18,
    "start_time": "2022-10-27T14:55:14.729Z"
   },
   {
    "duration": 13,
    "start_time": "2022-10-27T14:58:51.232Z"
   },
   {
    "duration": 10,
    "start_time": "2022-10-27T14:59:05.680Z"
   },
   {
    "duration": 19,
    "start_time": "2022-10-27T14:59:28.112Z"
   },
   {
    "duration": 14,
    "start_time": "2022-10-27T14:59:47.043Z"
   },
   {
    "duration": 23,
    "start_time": "2022-10-27T15:00:04.248Z"
   },
   {
    "duration": 21,
    "start_time": "2022-10-27T15:00:21.824Z"
   },
   {
    "duration": 3,
    "start_time": "2022-10-27T16:44:53.598Z"
   },
   {
    "duration": 366,
    "start_time": "2022-10-27T16:44:53.605Z"
   },
   {
    "duration": 29,
    "start_time": "2022-10-27T16:44:53.973Z"
   },
   {
    "duration": 2,
    "start_time": "2022-10-27T16:44:54.004Z"
   },
   {
    "duration": 32,
    "start_time": "2022-10-27T16:44:54.008Z"
   },
   {
    "duration": 3,
    "start_time": "2022-10-27T16:44:54.042Z"
   },
   {
    "duration": 29,
    "start_time": "2022-10-27T16:44:54.046Z"
   },
   {
    "duration": 3,
    "start_time": "2022-10-27T16:44:54.076Z"
   },
   {
    "duration": 19,
    "start_time": "2022-10-27T16:44:54.080Z"
   },
   {
    "duration": 30,
    "start_time": "2022-10-27T16:44:54.101Z"
   },
   {
    "duration": 50,
    "start_time": "2022-10-27T16:44:54.132Z"
   },
   {
    "duration": 46,
    "start_time": "2022-10-27T16:44:54.183Z"
   },
   {
    "duration": 16,
    "start_time": "2022-10-27T16:44:54.231Z"
   },
   {
    "duration": 41,
    "start_time": "2022-10-27T16:44:54.249Z"
   },
   {
    "duration": 11,
    "start_time": "2022-10-27T16:44:54.292Z"
   },
   {
    "duration": 21,
    "start_time": "2022-10-27T16:44:54.304Z"
   },
   {
    "duration": 9,
    "start_time": "2022-10-27T16:44:54.326Z"
   },
   {
    "duration": 12,
    "start_time": "2022-10-27T16:44:54.336Z"
   },
   {
    "duration": 7,
    "start_time": "2022-10-27T16:44:54.350Z"
   },
   {
    "duration": 7,
    "start_time": "2022-10-27T16:44:54.358Z"
   },
   {
    "duration": 39,
    "start_time": "2022-10-27T16:44:54.366Z"
   },
   {
    "duration": 32,
    "start_time": "2022-10-27T16:44:54.422Z"
   },
   {
    "duration": 18,
    "start_time": "2022-10-27T16:44:54.455Z"
   },
   {
    "duration": 5,
    "start_time": "2022-10-27T16:44:54.474Z"
   },
   {
    "duration": 15,
    "start_time": "2022-10-27T16:44:54.480Z"
   },
   {
    "duration": 5,
    "start_time": "2022-10-27T16:44:54.496Z"
   },
   {
    "duration": 59,
    "start_time": "2022-10-27T16:44:54.502Z"
   },
   {
    "duration": 32,
    "start_time": "2022-10-27T16:44:54.562Z"
   },
   {
    "duration": 38,
    "start_time": "2022-10-27T16:44:54.595Z"
   },
   {
    "duration": 19,
    "start_time": "2022-10-27T16:44:54.634Z"
   },
   {
    "duration": 12,
    "start_time": "2022-10-27T16:49:52.709Z"
   },
   {
    "duration": 9,
    "start_time": "2022-10-27T16:50:27.995Z"
   },
   {
    "duration": 18,
    "start_time": "2022-10-27T16:50:51.422Z"
   },
   {
    "duration": 35,
    "start_time": "2022-10-27T16:53:13.473Z"
   },
   {
    "duration": 38,
    "start_time": "2022-10-27T16:53:21.056Z"
   },
   {
    "duration": 46,
    "start_time": "2022-10-27T16:53:30.780Z"
   },
   {
    "duration": 38,
    "start_time": "2022-10-27T16:53:40.609Z"
   },
   {
    "duration": 26,
    "start_time": "2022-10-27T16:56:15.881Z"
   },
   {
    "duration": 10,
    "start_time": "2022-10-27T17:03:16.342Z"
   },
   {
    "duration": 10,
    "start_time": "2022-10-27T17:03:31.648Z"
   },
   {
    "duration": 30,
    "start_time": "2022-10-27T17:03:47.316Z"
   },
   {
    "duration": 18,
    "start_time": "2022-10-27T17:04:14.503Z"
   },
   {
    "duration": 14,
    "start_time": "2022-10-27T17:05:09.157Z"
   },
   {
    "duration": 29,
    "start_time": "2022-10-27T17:06:33.616Z"
   },
   {
    "duration": 15,
    "start_time": "2022-10-27T17:07:05.309Z"
   },
   {
    "duration": 30,
    "start_time": "2022-10-27T17:07:09.228Z"
   },
   {
    "duration": 37,
    "start_time": "2022-10-27T17:10:19.171Z"
   },
   {
    "duration": 35,
    "start_time": "2022-10-27T17:10:51.111Z"
   },
   {
    "duration": 38,
    "start_time": "2022-10-27T17:11:41.417Z"
   },
   {
    "duration": 33,
    "start_time": "2022-10-27T17:14:17.763Z"
   },
   {
    "duration": 14,
    "start_time": "2022-10-27T17:15:10.125Z"
   },
   {
    "duration": 23,
    "start_time": "2022-10-27T17:15:15.971Z"
   },
   {
    "duration": 31,
    "start_time": "2022-10-27T17:15:25.495Z"
   },
   {
    "duration": 2,
    "start_time": "2022-10-27T17:15:33.080Z"
   },
   {
    "duration": 397,
    "start_time": "2022-10-27T17:15:33.086Z"
   },
   {
    "duration": 29,
    "start_time": "2022-10-27T17:15:33.485Z"
   },
   {
    "duration": 30,
    "start_time": "2022-10-27T17:15:33.515Z"
   },
   {
    "duration": 22,
    "start_time": "2022-10-27T17:15:33.546Z"
   },
   {
    "duration": 15,
    "start_time": "2022-10-27T17:15:33.570Z"
   },
   {
    "duration": 37,
    "start_time": "2022-10-27T17:15:33.587Z"
   },
   {
    "duration": 56,
    "start_time": "2022-10-27T17:15:33.625Z"
   },
   {
    "duration": 48,
    "start_time": "2022-10-27T17:15:33.682Z"
   },
   {
    "duration": 18,
    "start_time": "2022-10-27T17:15:33.732Z"
   },
   {
    "duration": 47,
    "start_time": "2022-10-27T17:15:33.752Z"
   },
   {
    "duration": 24,
    "start_time": "2022-10-27T17:15:33.801Z"
   },
   {
    "duration": 27,
    "start_time": "2022-10-27T17:15:33.827Z"
   },
   {
    "duration": 27,
    "start_time": "2022-10-27T17:15:33.856Z"
   },
   {
    "duration": 16,
    "start_time": "2022-10-27T17:15:33.886Z"
   },
   {
    "duration": 8,
    "start_time": "2022-10-27T17:15:33.904Z"
   },
   {
    "duration": 24,
    "start_time": "2022-10-27T17:15:33.914Z"
   },
   {
    "duration": 58,
    "start_time": "2022-10-27T17:15:33.940Z"
   },
   {
    "duration": 34,
    "start_time": "2022-10-27T17:15:33.999Z"
   },
   {
    "duration": 17,
    "start_time": "2022-10-27T17:15:34.035Z"
   },
   {
    "duration": 5,
    "start_time": "2022-10-27T17:15:34.054Z"
   },
   {
    "duration": 13,
    "start_time": "2022-10-27T17:15:34.060Z"
   },
   {
    "duration": 13,
    "start_time": "2022-10-27T17:15:34.075Z"
   },
   {
    "duration": 54,
    "start_time": "2022-10-27T17:15:34.089Z"
   },
   {
    "duration": 35,
    "start_time": "2022-10-27T17:15:34.145Z"
   },
   {
    "duration": 40,
    "start_time": "2022-10-27T17:15:34.182Z"
   },
   {
    "duration": 14,
    "start_time": "2022-10-27T17:15:34.224Z"
   },
   {
    "duration": 31,
    "start_time": "2022-10-27T17:15:34.239Z"
   },
   {
    "duration": 3,
    "start_time": "2022-10-27T17:15:50.957Z"
   },
   {
    "duration": 362,
    "start_time": "2022-10-27T17:15:53.679Z"
   },
   {
    "duration": 35,
    "start_time": "2022-10-27T17:15:57.832Z"
   },
   {
    "duration": 29,
    "start_time": "2022-10-27T17:16:01.630Z"
   },
   {
    "duration": 27,
    "start_time": "2022-10-27T17:16:05.903Z"
   },
   {
    "duration": 24,
    "start_time": "2022-10-27T17:16:10.324Z"
   },
   {
    "duration": 15,
    "start_time": "2022-10-27T17:16:13.971Z"
   },
   {
    "duration": 19,
    "start_time": "2022-10-27T17:16:24.851Z"
   },
   {
    "duration": 58,
    "start_time": "2022-10-27T17:16:29.203Z"
   },
   {
    "duration": 35,
    "start_time": "2022-10-27T17:16:32.937Z"
   },
   {
    "duration": 21,
    "start_time": "2022-10-27T17:16:37.039Z"
   },
   {
    "duration": 37,
    "start_time": "2022-10-27T17:16:40.616Z"
   },
   {
    "duration": 14,
    "start_time": "2022-10-27T17:16:44.111Z"
   },
   {
    "duration": 8,
    "start_time": "2022-10-27T17:16:47.899Z"
   },
   {
    "duration": 11,
    "start_time": "2022-10-27T17:16:50.857Z"
   },
   {
    "duration": 5,
    "start_time": "2022-10-27T17:16:53.653Z"
   },
   {
    "duration": 7,
    "start_time": "2022-10-27T17:16:57.447Z"
   },
   {
    "duration": 6,
    "start_time": "2022-10-27T17:17:00.624Z"
   },
   {
    "duration": 37,
    "start_time": "2022-10-27T17:17:04.393Z"
   },
   {
    "duration": 35,
    "start_time": "2022-10-27T17:17:07.625Z"
   },
   {
    "duration": 21,
    "start_time": "2022-10-27T17:17:12.103Z"
   },
   {
    "duration": 5,
    "start_time": "2022-10-27T17:17:15.837Z"
   },
   {
    "duration": 6,
    "start_time": "2022-10-27T17:17:19.358Z"
   },
   {
    "duration": 5,
    "start_time": "2022-10-27T17:17:21.916Z"
   },
   {
    "duration": 45,
    "start_time": "2022-10-27T17:17:26.025Z"
   },
   {
    "duration": 34,
    "start_time": "2022-10-27T17:17:33.759Z"
   },
   {
    "duration": 27,
    "start_time": "2022-10-27T17:17:39.183Z"
   },
   {
    "duration": 17,
    "start_time": "2022-10-27T17:17:47.344Z"
   },
   {
    "duration": 32,
    "start_time": "2022-10-27T17:17:51.994Z"
   },
   {
    "duration": 35,
    "start_time": "2022-10-27T17:17:57.163Z"
   },
   {
    "duration": 32,
    "start_time": "2022-10-27T17:18:46.559Z"
   },
   {
    "duration": 36,
    "start_time": "2022-10-27T17:20:48.866Z"
   },
   {
    "duration": 26,
    "start_time": "2022-10-27T17:21:43.980Z"
   },
   {
    "duration": 13,
    "start_time": "2022-10-27T17:23:05.483Z"
   },
   {
    "duration": 16,
    "start_time": "2022-10-27T17:23:06.013Z"
   },
   {
    "duration": 26,
    "start_time": "2022-10-27T17:23:13.451Z"
   },
   {
    "duration": 3,
    "start_time": "2022-10-27T17:23:21.796Z"
   },
   {
    "duration": 386,
    "start_time": "2022-10-27T17:23:21.801Z"
   },
   {
    "duration": 28,
    "start_time": "2022-10-27T17:23:22.189Z"
   },
   {
    "duration": 25,
    "start_time": "2022-10-27T17:23:22.218Z"
   },
   {
    "duration": 21,
    "start_time": "2022-10-27T17:23:22.244Z"
   },
   {
    "duration": 13,
    "start_time": "2022-10-27T17:23:22.268Z"
   },
   {
    "duration": 43,
    "start_time": "2022-10-27T17:23:22.283Z"
   },
   {
    "duration": 52,
    "start_time": "2022-10-27T17:23:22.327Z"
   },
   {
    "duration": 43,
    "start_time": "2022-10-27T17:23:22.381Z"
   },
   {
    "duration": 20,
    "start_time": "2022-10-27T17:23:22.426Z"
   },
   {
    "duration": 38,
    "start_time": "2022-10-27T17:23:22.447Z"
   },
   {
    "duration": 35,
    "start_time": "2022-10-27T17:23:22.487Z"
   },
   {
    "duration": 7,
    "start_time": "2022-10-27T17:23:22.523Z"
   },
   {
    "duration": 12,
    "start_time": "2022-10-27T17:23:22.532Z"
   },
   {
    "duration": 6,
    "start_time": "2022-10-27T17:23:22.547Z"
   },
   {
    "duration": 5,
    "start_time": "2022-10-27T17:23:22.554Z"
   },
   {
    "duration": 7,
    "start_time": "2022-10-27T17:23:22.561Z"
   },
   {
    "duration": 74,
    "start_time": "2022-10-27T17:23:22.570Z"
   },
   {
    "duration": 32,
    "start_time": "2022-10-27T17:23:22.645Z"
   },
   {
    "duration": 16,
    "start_time": "2022-10-27T17:23:22.679Z"
   },
   {
    "duration": 4,
    "start_time": "2022-10-27T17:23:22.697Z"
   },
   {
    "duration": 25,
    "start_time": "2022-10-27T17:23:22.702Z"
   },
   {
    "duration": 5,
    "start_time": "2022-10-27T17:23:22.728Z"
   },
   {
    "duration": 39,
    "start_time": "2022-10-27T17:23:22.734Z"
   },
   {
    "duration": 47,
    "start_time": "2022-10-27T17:23:22.775Z"
   },
   {
    "duration": 24,
    "start_time": "2022-10-27T17:23:22.824Z"
   },
   {
    "duration": 12,
    "start_time": "2022-10-27T17:23:22.850Z"
   },
   {
    "duration": 30,
    "start_time": "2022-10-27T17:23:22.863Z"
   },
   {
    "duration": 13,
    "start_time": "2022-10-27T17:23:55.578Z"
   },
   {
    "duration": 25,
    "start_time": "2022-10-27T17:27:49.790Z"
   },
   {
    "duration": 27,
    "start_time": "2022-10-27T17:29:02.372Z"
   },
   {
    "duration": 30,
    "start_time": "2022-10-27T17:31:35.557Z"
   },
   {
    "duration": 32,
    "start_time": "2022-10-27T17:32:10.831Z"
   },
   {
    "duration": 52,
    "start_time": "2022-10-27T17:32:36.469Z"
   },
   {
    "duration": 763,
    "start_time": "2022-10-31T12:51:11.627Z"
   },
   {
    "duration": 1700,
    "start_time": "2022-10-31T12:51:12.392Z"
   },
   {
    "duration": 40,
    "start_time": "2022-10-31T12:51:14.094Z"
   },
   {
    "duration": 32,
    "start_time": "2022-10-31T12:51:14.138Z"
   },
   {
    "duration": 48,
    "start_time": "2022-10-31T12:51:14.172Z"
   },
   {
    "duration": 14,
    "start_time": "2022-10-31T12:51:14.222Z"
   },
   {
    "duration": 22,
    "start_time": "2022-10-31T12:51:14.239Z"
   },
   {
    "duration": 92,
    "start_time": "2022-10-31T12:51:14.263Z"
   },
   {
    "duration": 48,
    "start_time": "2022-10-31T12:51:14.357Z"
   },
   {
    "duration": 20,
    "start_time": "2022-10-31T12:51:14.408Z"
   },
   {
    "duration": 36,
    "start_time": "2022-10-31T12:51:14.429Z"
   },
   {
    "duration": 39,
    "start_time": "2022-10-31T12:51:14.467Z"
   },
   {
    "duration": 10,
    "start_time": "2022-10-31T12:51:14.508Z"
   },
   {
    "duration": 11,
    "start_time": "2022-10-31T12:51:14.520Z"
   },
   {
    "duration": 23,
    "start_time": "2022-10-31T12:51:14.533Z"
   },
   {
    "duration": 8,
    "start_time": "2022-10-31T12:51:14.557Z"
   },
   {
    "duration": 14,
    "start_time": "2022-10-31T12:51:14.567Z"
   },
   {
    "duration": 81,
    "start_time": "2022-10-31T12:51:14.582Z"
   },
   {
    "duration": 55,
    "start_time": "2022-10-31T12:51:14.665Z"
   },
   {
    "duration": 29,
    "start_time": "2022-10-31T12:51:14.722Z"
   },
   {
    "duration": 5,
    "start_time": "2022-10-31T12:51:14.753Z"
   },
   {
    "duration": 16,
    "start_time": "2022-10-31T12:51:14.760Z"
   },
   {
    "duration": 28,
    "start_time": "2022-10-31T12:51:14.778Z"
   },
   {
    "duration": 49,
    "start_time": "2022-10-31T12:51:14.808Z"
   },
   {
    "duration": 58,
    "start_time": "2022-10-31T12:51:14.858Z"
   },
   {
    "duration": 27,
    "start_time": "2022-10-31T12:51:14.918Z"
   },
   {
    "duration": 83,
    "start_time": "2022-10-31T12:51:14.947Z"
   },
   {
    "duration": 946,
    "start_time": "2022-11-01T10:40:28.838Z"
   },
   {
    "duration": 1271,
    "start_time": "2022-11-01T10:40:29.787Z"
   },
   {
    "duration": 46,
    "start_time": "2022-11-01T10:40:31.060Z"
   },
   {
    "duration": 35,
    "start_time": "2022-11-01T10:40:31.108Z"
   },
   {
    "duration": 28,
    "start_time": "2022-11-01T10:40:31.145Z"
   },
   {
    "duration": 23,
    "start_time": "2022-11-01T10:40:31.175Z"
   },
   {
    "duration": 38,
    "start_time": "2022-11-01T10:40:31.200Z"
   },
   {
    "duration": 84,
    "start_time": "2022-11-01T10:40:31.240Z"
   },
   {
    "duration": 43,
    "start_time": "2022-11-01T10:40:31.326Z"
   },
   {
    "duration": 53,
    "start_time": "2022-11-01T10:40:31.371Z"
   },
   {
    "duration": 48,
    "start_time": "2022-11-01T10:40:31.426Z"
   },
   {
    "duration": 15,
    "start_time": "2022-11-01T10:40:31.476Z"
   },
   {
    "duration": 32,
    "start_time": "2022-11-01T10:40:31.493Z"
   },
   {
    "duration": 14,
    "start_time": "2022-11-01T10:40:31.528Z"
   },
   {
    "duration": 7,
    "start_time": "2022-11-01T10:40:31.544Z"
   },
   {
    "duration": 14,
    "start_time": "2022-11-01T10:40:31.552Z"
   },
   {
    "duration": 10,
    "start_time": "2022-11-01T10:40:31.568Z"
   },
   {
    "duration": 83,
    "start_time": "2022-11-01T10:40:31.580Z"
   },
   {
    "duration": 60,
    "start_time": "2022-11-01T10:40:31.665Z"
   },
   {
    "duration": 27,
    "start_time": "2022-11-01T10:40:31.727Z"
   },
   {
    "duration": 5,
    "start_time": "2022-11-01T10:40:31.756Z"
   },
   {
    "duration": 10,
    "start_time": "2022-11-01T10:40:31.763Z"
   },
   {
    "duration": 5,
    "start_time": "2022-11-01T10:40:31.775Z"
   },
   {
    "duration": 84,
    "start_time": "2022-11-01T10:40:31.782Z"
   },
   {
    "duration": 67,
    "start_time": "2022-11-01T10:40:31.868Z"
   },
   {
    "duration": 36,
    "start_time": "2022-11-01T10:40:31.937Z"
   },
   {
    "duration": 93,
    "start_time": "2022-11-01T10:40:31.975Z"
   },
   {
    "duration": 27,
    "start_time": "2022-11-01T10:43:26.773Z"
   },
   {
    "duration": 93,
    "start_time": "2022-11-01T11:45:40.983Z"
   },
   {
    "duration": 10,
    "start_time": "2022-11-01T11:45:47.469Z"
   },
   {
    "duration": 24,
    "start_time": "2022-11-01T11:45:55.993Z"
   },
   {
    "duration": 10,
    "start_time": "2022-11-01T11:46:09.815Z"
   },
   {
    "duration": 50,
    "start_time": "2022-11-01T11:46:44.526Z"
   },
   {
    "duration": 72,
    "start_time": "2022-11-01T11:48:18.816Z"
   },
   {
    "duration": 1413,
    "start_time": "2022-11-01T11:48:24.092Z"
   },
   {
    "duration": 1338,
    "start_time": "2022-11-01T11:50:23.596Z"
   },
   {
    "duration": 1170,
    "start_time": "2022-11-01T11:50:36.239Z"
   },
   {
    "duration": 24,
    "start_time": "2022-11-01T11:50:51.928Z"
   },
   {
    "duration": 10,
    "start_time": "2022-11-01T11:51:40.206Z"
   },
   {
    "duration": 39,
    "start_time": "2022-11-01T11:51:44.259Z"
   },
   {
    "duration": 892,
    "start_time": "2022-11-01T11:52:02.888Z"
   },
   {
    "duration": 36,
    "start_time": "2022-11-01T11:52:13.900Z"
   },
   {
    "duration": 13,
    "start_time": "2022-11-01T11:52:22.682Z"
   },
   {
    "duration": 10,
    "start_time": "2022-11-01T11:52:35.489Z"
   },
   {
    "duration": 915,
    "start_time": "2022-11-01T11:52:40.238Z"
   },
   {
    "duration": 36,
    "start_time": "2022-11-01T11:54:36.135Z"
   },
   {
    "duration": 30,
    "start_time": "2022-11-01T11:55:09.633Z"
   },
   {
    "duration": 37,
    "start_time": "2022-11-01T11:56:11.974Z"
   },
   {
    "duration": 44,
    "start_time": "2022-11-01T11:57:50.503Z"
   },
   {
    "duration": 13,
    "start_time": "2022-11-01T12:01:04.902Z"
   },
   {
    "duration": 1287,
    "start_time": "2022-11-01T12:01:18.638Z"
   },
   {
    "duration": 13,
    "start_time": "2022-11-01T12:01:51.842Z"
   },
   {
    "duration": 10,
    "start_time": "2022-11-01T12:01:58.267Z"
   },
   {
    "duration": 11,
    "start_time": "2022-11-01T12:02:04.708Z"
   },
   {
    "duration": 12,
    "start_time": "2022-11-01T12:02:37.114Z"
   },
   {
    "duration": 11,
    "start_time": "2022-11-01T12:02:42.076Z"
   },
   {
    "duration": 1364,
    "start_time": "2022-11-01T12:03:06.813Z"
   },
   {
    "duration": 1191,
    "start_time": "2022-11-01T12:03:21.102Z"
   },
   {
    "duration": 9,
    "start_time": "2022-11-01T12:03:29.698Z"
   },
   {
    "duration": 10,
    "start_time": "2022-11-01T12:05:36.724Z"
   },
   {
    "duration": 11,
    "start_time": "2022-11-01T12:06:03.733Z"
   },
   {
    "duration": 11,
    "start_time": "2022-11-01T12:08:00.746Z"
   },
   {
    "duration": 15,
    "start_time": "2022-11-01T12:09:52.050Z"
   },
   {
    "duration": 1199,
    "start_time": "2022-11-01T12:09:57.252Z"
   },
   {
    "duration": 34,
    "start_time": "2022-11-01T12:13:46.182Z"
   },
   {
    "duration": 25,
    "start_time": "2022-11-01T12:14:02.222Z"
   },
   {
    "duration": 11,
    "start_time": "2022-11-01T12:15:15.004Z"
   },
   {
    "duration": 11,
    "start_time": "2022-11-01T12:17:51.280Z"
   },
   {
    "duration": 37,
    "start_time": "2022-11-01T12:18:52.167Z"
   },
   {
    "duration": 41,
    "start_time": "2022-11-01T12:37:16.346Z"
   },
   {
    "duration": 20,
    "start_time": "2022-11-01T12:40:11.695Z"
   },
   {
    "duration": 22,
    "start_time": "2022-11-01T12:40:20.797Z"
   },
   {
    "duration": 25,
    "start_time": "2022-11-01T12:40:31.642Z"
   },
   {
    "duration": 21,
    "start_time": "2022-11-01T13:26:57.920Z"
   },
   {
    "duration": 3,
    "start_time": "2022-11-01T13:27:02.453Z"
   },
   {
    "duration": 474,
    "start_time": "2022-11-01T13:27:02.460Z"
   },
   {
    "duration": 50,
    "start_time": "2022-11-01T13:27:02.936Z"
   },
   {
    "duration": 49,
    "start_time": "2022-11-01T13:27:02.989Z"
   },
   {
    "duration": 47,
    "start_time": "2022-11-01T13:27:03.040Z"
   },
   {
    "duration": 40,
    "start_time": "2022-11-01T13:27:03.090Z"
   },
   {
    "duration": 24,
    "start_time": "2022-11-01T13:27:03.132Z"
   },
   {
    "duration": 89,
    "start_time": "2022-11-01T13:27:03.158Z"
   },
   {
    "duration": 43,
    "start_time": "2022-11-01T13:27:03.249Z"
   },
   {
    "duration": 41,
    "start_time": "2022-11-01T13:27:03.294Z"
   },
   {
    "duration": 49,
    "start_time": "2022-11-01T13:27:03.337Z"
   },
   {
    "duration": 47,
    "start_time": "2022-11-01T13:27:03.388Z"
   },
   {
    "duration": 10,
    "start_time": "2022-11-01T13:27:03.437Z"
   },
   {
    "duration": 17,
    "start_time": "2022-11-01T13:27:03.449Z"
   },
   {
    "duration": 7,
    "start_time": "2022-11-01T13:27:03.469Z"
   },
   {
    "duration": 9,
    "start_time": "2022-11-01T13:27:03.478Z"
   },
   {
    "duration": 40,
    "start_time": "2022-11-01T13:27:03.489Z"
   },
   {
    "duration": 65,
    "start_time": "2022-11-01T13:27:03.531Z"
   },
   {
    "duration": 60,
    "start_time": "2022-11-01T13:27:03.597Z"
   },
   {
    "duration": 24,
    "start_time": "2022-11-01T13:27:03.659Z"
   },
   {
    "duration": 7,
    "start_time": "2022-11-01T13:27:03.684Z"
   },
   {
    "duration": 34,
    "start_time": "2022-11-01T13:27:03.693Z"
   },
   {
    "duration": 7,
    "start_time": "2022-11-01T13:27:03.728Z"
   },
   {
    "duration": 49,
    "start_time": "2022-11-01T13:27:03.737Z"
   },
   {
    "duration": 73,
    "start_time": "2022-11-01T13:27:03.788Z"
   },
   {
    "duration": 33,
    "start_time": "2022-11-01T13:27:03.863Z"
   },
   {
    "duration": 63,
    "start_time": "2022-11-01T13:27:03.897Z"
   },
   {
    "duration": 29,
    "start_time": "2022-11-01T13:27:03.961Z"
   },
   {
    "duration": 63,
    "start_time": "2022-11-01T13:27:03.992Z"
   },
   {
    "duration": 49,
    "start_time": "2022-11-01T13:30:47.811Z"
   },
   {
    "duration": 57,
    "start_time": "2022-11-01T13:31:14.233Z"
   },
   {
    "duration": 4,
    "start_time": "2022-11-01T13:31:38.759Z"
   },
   {
    "duration": 51,
    "start_time": "2022-11-01T13:31:54.901Z"
   },
   {
    "duration": 53,
    "start_time": "2022-11-01T13:33:25.288Z"
   },
   {
    "duration": 52,
    "start_time": "2022-11-01T13:34:01.297Z"
   },
   {
    "duration": 55,
    "start_time": "2022-11-01T13:34:24.086Z"
   },
   {
    "duration": 53,
    "start_time": "2022-11-01T13:34:39.111Z"
   },
   {
    "duration": 52,
    "start_time": "2022-11-01T13:34:57.507Z"
   },
   {
    "duration": 54,
    "start_time": "2022-11-01T13:35:08.415Z"
   },
   {
    "duration": 60,
    "start_time": "2022-11-01T13:36:05.414Z"
   },
   {
    "duration": 51,
    "start_time": "2022-11-01T13:36:14.187Z"
   },
   {
    "duration": 59,
    "start_time": "2022-11-01T13:37:12.046Z"
   },
   {
    "duration": 54,
    "start_time": "2022-11-01T13:37:32.494Z"
   },
   {
    "duration": 52,
    "start_time": "2022-11-01T13:37:43.454Z"
   },
   {
    "duration": 52,
    "start_time": "2022-11-01T13:37:56.693Z"
   },
   {
    "duration": 41,
    "start_time": "2022-11-01T13:39:43.188Z"
   },
   {
    "duration": 34,
    "start_time": "2022-11-01T13:40:04.127Z"
   },
   {
    "duration": 44,
    "start_time": "2022-11-01T13:43:31.381Z"
   },
   {
    "duration": 43,
    "start_time": "2022-11-01T13:43:51.309Z"
   },
   {
    "duration": 21,
    "start_time": "2022-11-01T13:51:30.868Z"
   },
   {
    "duration": 20,
    "start_time": "2022-11-01T13:52:00.424Z"
   },
   {
    "duration": 19,
    "start_time": "2022-11-01T13:52:08.154Z"
   },
   {
    "duration": 443,
    "start_time": "2022-11-01T13:52:10.842Z"
   },
   {
    "duration": 35,
    "start_time": "2022-11-01T13:52:12.590Z"
   },
   {
    "duration": 39,
    "start_time": "2022-11-01T13:52:30.294Z"
   },
   {
    "duration": 435,
    "start_time": "2022-11-01T13:52:37.739Z"
   },
   {
    "duration": 33,
    "start_time": "2022-11-01T13:52:39.583Z"
   },
   {
    "duration": 35,
    "start_time": "2022-11-01T13:52:45.785Z"
   },
   {
    "duration": 21,
    "start_time": "2022-11-01T13:52:50.814Z"
   },
   {
    "duration": 49,
    "start_time": "2022-11-01T13:53:11.793Z"
   },
   {
    "duration": 37,
    "start_time": "2022-11-01T13:53:25.931Z"
   },
   {
    "duration": 4,
    "start_time": "2022-11-01T13:53:30.302Z"
   },
   {
    "duration": 508,
    "start_time": "2022-11-01T13:53:31.901Z"
   },
   {
    "duration": 35,
    "start_time": "2022-11-01T13:53:33.638Z"
   },
   {
    "duration": 35,
    "start_time": "2022-11-01T13:53:37.013Z"
   },
   {
    "duration": 34,
    "start_time": "2022-11-01T13:54:03.520Z"
   },
   {
    "duration": 43,
    "start_time": "2022-11-01T13:54:08.846Z"
   },
   {
    "duration": 17,
    "start_time": "2022-11-01T13:54:15.156Z"
   },
   {
    "duration": 13,
    "start_time": "2022-11-01T13:54:27.384Z"
   },
   {
    "duration": 468,
    "start_time": "2022-11-01T13:54:31.094Z"
   },
   {
    "duration": 34,
    "start_time": "2022-11-01T13:54:32.661Z"
   },
   {
    "duration": 32,
    "start_time": "2022-11-01T13:55:30.000Z"
   },
   {
    "duration": 3,
    "start_time": "2022-11-01T13:55:36.184Z"
   },
   {
    "duration": 449,
    "start_time": "2022-11-01T13:55:38.750Z"
   },
   {
    "duration": 32,
    "start_time": "2022-11-01T13:55:42.362Z"
   },
   {
    "duration": 36,
    "start_time": "2022-11-01T13:55:50.198Z"
   },
   {
    "duration": 11,
    "start_time": "2022-11-01T13:58:07.314Z"
   },
   {
    "duration": 11,
    "start_time": "2022-11-01T13:58:31.261Z"
   },
   {
    "duration": 3,
    "start_time": "2022-11-01T13:58:35.461Z"
   },
   {
    "duration": 481,
    "start_time": "2022-11-01T13:58:35.469Z"
   },
   {
    "duration": 37,
    "start_time": "2022-11-01T13:58:35.953Z"
   },
   {
    "duration": 43,
    "start_time": "2022-11-01T13:58:35.993Z"
   },
   {
    "duration": 31,
    "start_time": "2022-11-01T13:58:36.038Z"
   },
   {
    "duration": 17,
    "start_time": "2022-11-01T13:58:36.072Z"
   },
   {
    "duration": 47,
    "start_time": "2022-11-01T13:58:36.090Z"
   },
   {
    "duration": 64,
    "start_time": "2022-11-01T13:58:36.139Z"
   },
   {
    "duration": 59,
    "start_time": "2022-11-01T13:58:36.205Z"
   },
   {
    "duration": 23,
    "start_time": "2022-11-01T13:58:36.266Z"
   },
   {
    "duration": 85,
    "start_time": "2022-11-01T13:58:36.291Z"
   },
   {
    "duration": 22,
    "start_time": "2022-11-01T13:58:36.378Z"
   },
   {
    "duration": 24,
    "start_time": "2022-11-01T13:58:36.402Z"
   },
   {
    "duration": 13,
    "start_time": "2022-11-01T13:58:36.428Z"
   },
   {
    "duration": 7,
    "start_time": "2022-11-01T13:58:36.444Z"
   },
   {
    "duration": 7,
    "start_time": "2022-11-01T13:58:36.453Z"
   },
   {
    "duration": 10,
    "start_time": "2022-11-01T13:58:36.462Z"
   },
   {
    "duration": 84,
    "start_time": "2022-11-01T13:58:36.474Z"
   },
   {
    "duration": 42,
    "start_time": "2022-11-01T13:58:36.560Z"
   },
   {
    "duration": 36,
    "start_time": "2022-11-01T13:58:36.604Z"
   },
   {
    "duration": 5,
    "start_time": "2022-11-01T13:58:36.642Z"
   },
   {
    "duration": 7,
    "start_time": "2022-11-01T13:58:36.648Z"
   },
   {
    "duration": 6,
    "start_time": "2022-11-01T13:58:36.657Z"
   },
   {
    "duration": 74,
    "start_time": "2022-11-01T13:58:36.664Z"
   },
   {
    "duration": 43,
    "start_time": "2022-11-01T13:58:36.740Z"
   },
   {
    "duration": 49,
    "start_time": "2022-11-01T13:58:36.784Z"
   },
   {
    "duration": 43,
    "start_time": "2022-11-01T13:58:36.835Z"
   },
   {
    "duration": 50,
    "start_time": "2022-11-01T13:58:36.879Z"
   },
   {
    "duration": 36,
    "start_time": "2022-11-01T13:58:36.931Z"
   },
   {
    "duration": 40,
    "start_time": "2022-11-01T13:58:48.519Z"
   },
   {
    "duration": 41,
    "start_time": "2022-11-01T13:59:05.061Z"
   },
   {
    "duration": 48,
    "start_time": "2022-11-01T13:59:13.372Z"
   },
   {
    "duration": 3,
    "start_time": "2022-11-01T14:00:39.593Z"
   },
   {
    "duration": 424,
    "start_time": "2022-11-01T14:00:39.601Z"
   },
   {
    "duration": 34,
    "start_time": "2022-11-01T14:00:40.027Z"
   },
   {
    "duration": 35,
    "start_time": "2022-11-01T14:00:40.063Z"
   },
   {
    "duration": 46,
    "start_time": "2022-11-01T14:00:40.100Z"
   },
   {
    "duration": 15,
    "start_time": "2022-11-01T14:00:40.149Z"
   },
   {
    "duration": 22,
    "start_time": "2022-11-01T14:00:40.166Z"
   },
   {
    "duration": 98,
    "start_time": "2022-11-01T14:00:40.190Z"
   },
   {
    "duration": 60,
    "start_time": "2022-11-01T14:00:40.290Z"
   },
   {
    "duration": 24,
    "start_time": "2022-11-01T14:00:40.352Z"
   },
   {
    "duration": 58,
    "start_time": "2022-11-01T14:00:40.378Z"
   },
   {
    "duration": 14,
    "start_time": "2022-11-01T14:00:40.438Z"
   },
   {
    "duration": 10,
    "start_time": "2022-11-01T14:00:40.454Z"
   },
   {
    "duration": 13,
    "start_time": "2022-11-01T14:00:40.465Z"
   },
   {
    "duration": 6,
    "start_time": "2022-11-01T14:00:40.481Z"
   },
   {
    "duration": 39,
    "start_time": "2022-11-01T14:00:40.489Z"
   },
   {
    "duration": 8,
    "start_time": "2022-11-01T14:00:40.530Z"
   },
   {
    "duration": 53,
    "start_time": "2022-11-01T14:00:40.540Z"
   },
   {
    "duration": 60,
    "start_time": "2022-11-01T14:00:40.595Z"
   },
   {
    "duration": 22,
    "start_time": "2022-11-01T14:00:40.657Z"
   },
   {
    "duration": 5,
    "start_time": "2022-11-01T14:00:40.681Z"
   },
   {
    "duration": 7,
    "start_time": "2022-11-01T14:00:40.688Z"
   },
   {
    "duration": 32,
    "start_time": "2022-11-01T14:00:40.696Z"
   },
   {
    "duration": 43,
    "start_time": "2022-11-01T14:00:40.729Z"
   },
   {
    "duration": 60,
    "start_time": "2022-11-01T14:00:40.774Z"
   },
   {
    "duration": 31,
    "start_time": "2022-11-01T14:00:40.835Z"
   },
   {
    "duration": 65,
    "start_time": "2022-11-01T14:00:40.868Z"
   },
   {
    "duration": 27,
    "start_time": "2022-11-01T14:00:40.935Z"
   },
   {
    "duration": 62,
    "start_time": "2022-11-01T14:00:40.964Z"
   },
   {
    "duration": 796,
    "start_time": "2022-11-02T15:44:51.155Z"
   },
   {
    "duration": 1061,
    "start_time": "2022-11-02T15:44:51.953Z"
   },
   {
    "duration": 37,
    "start_time": "2022-11-02T15:44:53.016Z"
   },
   {
    "duration": 26,
    "start_time": "2022-11-02T15:44:53.055Z"
   },
   {
    "duration": 20,
    "start_time": "2022-11-02T15:44:53.083Z"
   },
   {
    "duration": 13,
    "start_time": "2022-11-02T15:44:53.105Z"
   },
   {
    "duration": 24,
    "start_time": "2022-11-02T15:44:53.119Z"
   },
   {
    "duration": 74,
    "start_time": "2022-11-02T15:44:53.145Z"
   },
   {
    "duration": 37,
    "start_time": "2022-11-02T15:44:53.221Z"
   },
   {
    "duration": 29,
    "start_time": "2022-11-02T15:44:53.260Z"
   },
   {
    "duration": 33,
    "start_time": "2022-11-02T15:44:53.290Z"
   },
   {
    "duration": 12,
    "start_time": "2022-11-02T15:44:53.325Z"
   },
   {
    "duration": 17,
    "start_time": "2022-11-02T15:44:53.338Z"
   },
   {
    "duration": 25,
    "start_time": "2022-11-02T15:44:53.357Z"
   },
   {
    "duration": 9,
    "start_time": "2022-11-02T15:44:53.383Z"
   },
   {
    "duration": 10,
    "start_time": "2022-11-02T15:44:53.393Z"
   },
   {
    "duration": 8,
    "start_time": "2022-11-02T15:44:53.405Z"
   },
   {
    "duration": 64,
    "start_time": "2022-11-02T15:44:53.414Z"
   },
   {
    "duration": 36,
    "start_time": "2022-11-02T15:44:53.479Z"
   },
   {
    "duration": 23,
    "start_time": "2022-11-02T15:44:53.516Z"
   },
   {
    "duration": 5,
    "start_time": "2022-11-02T15:44:53.540Z"
   },
   {
    "duration": 11,
    "start_time": "2022-11-02T15:44:53.547Z"
   },
   {
    "duration": 5,
    "start_time": "2022-11-02T15:44:53.578Z"
   },
   {
    "duration": 42,
    "start_time": "2022-11-02T15:44:53.585Z"
   },
   {
    "duration": 57,
    "start_time": "2022-11-02T15:44:53.629Z"
   },
   {
    "duration": 26,
    "start_time": "2022-11-02T15:44:53.688Z"
   },
   {
    "duration": 35,
    "start_time": "2022-11-02T15:44:53.716Z"
   },
   {
    "duration": 22,
    "start_time": "2022-11-02T15:44:53.777Z"
   },
   {
    "duration": 32,
    "start_time": "2022-11-02T15:44:53.801Z"
   },
   {
    "duration": 84,
    "start_time": "2022-11-02T15:46:40.827Z"
   },
   {
    "duration": 23,
    "start_time": "2022-11-02T16:07:23.024Z"
   },
   {
    "duration": 21,
    "start_time": "2022-11-02T16:07:54.293Z"
   },
   {
    "duration": 3,
    "start_time": "2022-11-02T16:08:43.332Z"
   },
   {
    "duration": 384,
    "start_time": "2022-11-02T16:08:43.336Z"
   },
   {
    "duration": 27,
    "start_time": "2022-11-02T16:08:43.722Z"
   },
   {
    "duration": 26,
    "start_time": "2022-11-02T16:08:43.750Z"
   },
   {
    "duration": 22,
    "start_time": "2022-11-02T16:08:43.777Z"
   },
   {
    "duration": 12,
    "start_time": "2022-11-02T16:08:43.800Z"
   },
   {
    "duration": 17,
    "start_time": "2022-11-02T16:08:43.814Z"
   },
   {
    "duration": 76,
    "start_time": "2022-11-02T16:08:43.832Z"
   },
   {
    "duration": 32,
    "start_time": "2022-11-02T16:08:43.910Z"
   },
   {
    "duration": 34,
    "start_time": "2022-11-02T16:08:43.943Z"
   },
   {
    "duration": 34,
    "start_time": "2022-11-02T16:08:43.979Z"
   },
   {
    "duration": 12,
    "start_time": "2022-11-02T16:08:44.015Z"
   },
   {
    "duration": 9,
    "start_time": "2022-11-02T16:08:44.029Z"
   },
   {
    "duration": 11,
    "start_time": "2022-11-02T16:08:44.040Z"
   },
   {
    "duration": 6,
    "start_time": "2022-11-02T16:08:44.076Z"
   },
   {
    "duration": 8,
    "start_time": "2022-11-02T16:08:44.083Z"
   },
   {
    "duration": 8,
    "start_time": "2022-11-02T16:08:44.092Z"
   },
   {
    "duration": 51,
    "start_time": "2022-11-02T16:08:44.101Z"
   },
   {
    "duration": 50,
    "start_time": "2022-11-02T16:08:44.154Z"
   },
   {
    "duration": 18,
    "start_time": "2022-11-02T16:08:44.205Z"
   },
   {
    "duration": 5,
    "start_time": "2022-11-02T16:08:44.224Z"
   },
   {
    "duration": 9,
    "start_time": "2022-11-02T16:08:44.230Z"
   },
   {
    "duration": 9,
    "start_time": "2022-11-02T16:08:44.240Z"
   },
   {
    "duration": 61,
    "start_time": "2022-11-02T16:08:44.252Z"
   },
   {
    "duration": 33,
    "start_time": "2022-11-02T16:08:44.314Z"
   },
   {
    "duration": 38,
    "start_time": "2022-11-02T16:08:44.349Z"
   },
   {
    "duration": 34,
    "start_time": "2022-11-02T16:08:44.388Z"
   },
   {
    "duration": 20,
    "start_time": "2022-11-02T16:08:44.423Z"
   },
   {
    "duration": 44,
    "start_time": "2022-11-02T16:08:44.445Z"
   },
   {
    "duration": 21,
    "start_time": "2022-11-02T16:09:41.425Z"
   },
   {
    "duration": 23,
    "start_time": "2022-11-02T16:09:54.395Z"
   },
   {
    "duration": 37,
    "start_time": "2022-11-02T16:11:06.134Z"
   },
   {
    "duration": 1102,
    "start_time": "2022-11-02T16:11:57.256Z"
   },
   {
    "duration": 1123,
    "start_time": "2022-11-02T16:13:44.623Z"
   },
   {
    "duration": 143,
    "start_time": "2022-11-02T16:13:54.769Z"
   },
   {
    "duration": 245,
    "start_time": "2022-11-02T16:15:08.234Z"
   },
   {
    "duration": 29,
    "start_time": "2022-11-02T16:20:50.003Z"
   },
   {
    "duration": 37,
    "start_time": "2022-11-02T16:32:20.465Z"
   },
   {
    "duration": 244,
    "start_time": "2022-11-02T16:32:44.291Z"
   },
   {
    "duration": 156,
    "start_time": "2022-11-02T16:35:59.667Z"
   },
   {
    "duration": 93,
    "start_time": "2022-11-02T16:37:22.131Z"
   },
   {
    "duration": 122,
    "start_time": "2022-11-02T17:01:18.716Z"
   },
   {
    "duration": 72,
    "start_time": "2022-11-02T17:07:32.552Z"
   },
   {
    "duration": 104,
    "start_time": "2022-11-02T17:08:16.498Z"
   },
   {
    "duration": 38,
    "start_time": "2022-11-02T17:08:38.913Z"
   },
   {
    "duration": 52,
    "start_time": "2022-11-02T17:08:52.747Z"
   },
   {
    "duration": 213,
    "start_time": "2022-11-02T17:09:48.481Z"
   },
   {
    "duration": 190,
    "start_time": "2022-11-02T17:11:05.831Z"
   },
   {
    "duration": 245,
    "start_time": "2022-11-02T17:11:17.379Z"
   },
   {
    "duration": 239,
    "start_time": "2022-11-02T17:18:28.282Z"
   },
   {
    "duration": 3,
    "start_time": "2022-11-02T19:05:56.321Z"
   },
   {
    "duration": 387,
    "start_time": "2022-11-02T19:05:56.326Z"
   },
   {
    "duration": 28,
    "start_time": "2022-11-02T19:05:56.714Z"
   },
   {
    "duration": 39,
    "start_time": "2022-11-02T19:05:56.744Z"
   },
   {
    "duration": 22,
    "start_time": "2022-11-02T19:05:56.785Z"
   },
   {
    "duration": 13,
    "start_time": "2022-11-02T19:05:56.808Z"
   },
   {
    "duration": 19,
    "start_time": "2022-11-02T19:05:56.822Z"
   },
   {
    "duration": 79,
    "start_time": "2022-11-02T19:05:56.843Z"
   },
   {
    "duration": 32,
    "start_time": "2022-11-02T19:05:56.924Z"
   },
   {
    "duration": 39,
    "start_time": "2022-11-02T19:05:56.958Z"
   },
   {
    "duration": 35,
    "start_time": "2022-11-02T19:05:56.999Z"
   },
   {
    "duration": 12,
    "start_time": "2022-11-02T19:05:57.036Z"
   },
   {
    "duration": 31,
    "start_time": "2022-11-02T19:05:57.049Z"
   },
   {
    "duration": 11,
    "start_time": "2022-11-02T19:05:57.082Z"
   },
   {
    "duration": 6,
    "start_time": "2022-11-02T19:05:57.095Z"
   },
   {
    "duration": 7,
    "start_time": "2022-11-02T19:05:57.102Z"
   },
   {
    "duration": 7,
    "start_time": "2022-11-02T19:05:57.110Z"
   },
   {
    "duration": 72,
    "start_time": "2022-11-02T19:05:57.118Z"
   },
   {
    "duration": 36,
    "start_time": "2022-11-02T19:05:57.192Z"
   },
   {
    "duration": 18,
    "start_time": "2022-11-02T19:05:57.229Z"
   },
   {
    "duration": 5,
    "start_time": "2022-11-02T19:05:57.249Z"
   },
   {
    "duration": 5,
    "start_time": "2022-11-02T19:05:57.278Z"
   },
   {
    "duration": 9,
    "start_time": "2022-11-02T19:05:57.284Z"
   },
   {
    "duration": 40,
    "start_time": "2022-11-02T19:05:57.294Z"
   },
   {
    "duration": 56,
    "start_time": "2022-11-02T19:05:57.336Z"
   },
   {
    "duration": 28,
    "start_time": "2022-11-02T19:05:57.393Z"
   },
   {
    "duration": 38,
    "start_time": "2022-11-02T19:05:57.422Z"
   },
   {
    "duration": 36,
    "start_time": "2022-11-02T19:05:57.461Z"
   },
   {
    "duration": 336,
    "start_time": "2022-11-02T19:05:57.498Z"
   },
   {
    "duration": 861,
    "start_time": "2022-11-03T07:24:54.423Z"
   },
   {
    "duration": 1394,
    "start_time": "2022-11-03T07:24:55.285Z"
   },
   {
    "duration": 42,
    "start_time": "2022-11-03T07:24:56.681Z"
   },
   {
    "duration": 31,
    "start_time": "2022-11-03T07:24:56.725Z"
   },
   {
    "duration": 26,
    "start_time": "2022-11-03T07:24:56.757Z"
   },
   {
    "duration": 15,
    "start_time": "2022-11-03T07:24:56.785Z"
   },
   {
    "duration": 52,
    "start_time": "2022-11-03T07:24:56.801Z"
   },
   {
    "duration": 84,
    "start_time": "2022-11-03T07:24:56.855Z"
   },
   {
    "duration": 37,
    "start_time": "2022-11-03T07:24:56.941Z"
   },
   {
    "duration": 23,
    "start_time": "2022-11-03T07:24:56.981Z"
   },
   {
    "duration": 41,
    "start_time": "2022-11-03T07:24:57.033Z"
   },
   {
    "duration": 13,
    "start_time": "2022-11-03T07:24:57.076Z"
   },
   {
    "duration": 9,
    "start_time": "2022-11-03T07:24:57.091Z"
   },
   {
    "duration": 41,
    "start_time": "2022-11-03T07:24:57.102Z"
   },
   {
    "duration": 9,
    "start_time": "2022-11-03T07:24:57.145Z"
   },
   {
    "duration": 8,
    "start_time": "2022-11-03T07:24:57.155Z"
   },
   {
    "duration": 10,
    "start_time": "2022-11-03T07:24:57.164Z"
   },
   {
    "duration": 94,
    "start_time": "2022-11-03T07:24:57.175Z"
   },
   {
    "duration": 40,
    "start_time": "2022-11-03T07:24:57.271Z"
   },
   {
    "duration": 44,
    "start_time": "2022-11-03T07:24:57.313Z"
   },
   {
    "duration": 5,
    "start_time": "2022-11-03T07:24:57.359Z"
   },
   {
    "duration": 8,
    "start_time": "2022-11-03T07:24:57.366Z"
   },
   {
    "duration": 6,
    "start_time": "2022-11-03T07:24:57.376Z"
   },
   {
    "duration": 78,
    "start_time": "2022-11-03T07:24:57.384Z"
   },
   {
    "duration": 42,
    "start_time": "2022-11-03T07:24:57.464Z"
   },
   {
    "duration": 50,
    "start_time": "2022-11-03T07:24:57.508Z"
   },
   {
    "duration": 42,
    "start_time": "2022-11-03T07:24:57.559Z"
   },
   {
    "duration": 43,
    "start_time": "2022-11-03T07:24:57.604Z"
   },
   {
    "duration": 51,
    "start_time": "2022-11-03T07:24:57.649Z"
   },
   {
    "duration": 80,
    "start_time": "2022-11-03T07:32:47.003Z"
   },
   {
    "duration": 89,
    "start_time": "2022-11-03T07:33:15.562Z"
   },
   {
    "duration": 12,
    "start_time": "2022-11-03T07:52:16.673Z"
   },
   {
    "duration": 49,
    "start_time": "2022-11-03T07:53:40.758Z"
   },
   {
    "duration": 59,
    "start_time": "2022-11-03T07:54:06.492Z"
   },
   {
    "duration": 10,
    "start_time": "2022-11-03T07:54:18.183Z"
   },
   {
    "duration": 192,
    "start_time": "2022-11-03T07:54:41.388Z"
   },
   {
    "duration": 200,
    "start_time": "2022-11-03T07:55:04.760Z"
   },
   {
    "duration": 61,
    "start_time": "2022-11-03T07:56:08.903Z"
   },
   {
    "duration": 55,
    "start_time": "2022-11-03T07:56:31.846Z"
   },
   {
    "duration": 49,
    "start_time": "2022-11-03T07:57:06.867Z"
   },
   {
    "duration": 47,
    "start_time": "2022-11-03T07:57:36.552Z"
   },
   {
    "duration": 9,
    "start_time": "2022-11-03T07:57:58.161Z"
   },
   {
    "duration": 10,
    "start_time": "2022-11-03T07:58:50.082Z"
   },
   {
    "duration": 13,
    "start_time": "2022-11-03T07:59:19.234Z"
   },
   {
    "duration": 14,
    "start_time": "2022-11-03T07:59:31.563Z"
   },
   {
    "duration": 25,
    "start_time": "2022-11-03T07:59:55.944Z"
   },
   {
    "duration": 23142,
    "start_time": "2022-11-03T08:00:56.230Z"
   },
   {
    "duration": 60,
    "start_time": "2022-11-03T08:01:31.174Z"
   },
   {
    "duration": 22328,
    "start_time": "2022-11-03T08:02:20.429Z"
   },
   {
    "duration": 70,
    "start_time": "2022-11-03T08:27:45.998Z"
   },
   {
    "duration": 50,
    "start_time": "2022-11-03T08:28:45.154Z"
   },
   {
    "duration": 17,
    "start_time": "2022-11-03T08:29:19.720Z"
   },
   {
    "duration": 36,
    "start_time": "2022-11-03T08:32:09.831Z"
   },
   {
    "duration": 4,
    "start_time": "2022-11-03T08:47:22.334Z"
   },
   {
    "duration": 593,
    "start_time": "2022-11-03T08:47:22.342Z"
   },
   {
    "duration": 53,
    "start_time": "2022-11-03T08:47:22.938Z"
   },
   {
    "duration": 65,
    "start_time": "2022-11-03T08:47:22.993Z"
   },
   {
    "duration": 51,
    "start_time": "2022-11-03T08:47:23.060Z"
   },
   {
    "duration": 40,
    "start_time": "2022-11-03T08:47:23.115Z"
   },
   {
    "duration": 52,
    "start_time": "2022-11-03T08:47:23.158Z"
   },
   {
    "duration": 159,
    "start_time": "2022-11-03T08:47:23.213Z"
   },
   {
    "duration": 74,
    "start_time": "2022-11-03T08:47:23.374Z"
   },
   {
    "duration": 24,
    "start_time": "2022-11-03T08:47:23.451Z"
   },
   {
    "duration": 59,
    "start_time": "2022-11-03T08:47:23.477Z"
   },
   {
    "duration": 20,
    "start_time": "2022-11-03T08:47:23.538Z"
   },
   {
    "duration": 44,
    "start_time": "2022-11-03T08:47:23.560Z"
   },
   {
    "duration": 42,
    "start_time": "2022-11-03T08:47:23.606Z"
   },
   {
    "duration": 28,
    "start_time": "2022-11-03T08:47:23.652Z"
   },
   {
    "duration": 32,
    "start_time": "2022-11-03T08:47:23.683Z"
   },
   {
    "duration": 45,
    "start_time": "2022-11-03T08:47:23.717Z"
   },
   {
    "duration": 101,
    "start_time": "2022-11-03T08:47:23.763Z"
   },
   {
    "duration": 48,
    "start_time": "2022-11-03T08:47:23.866Z"
   },
   {
    "duration": 46,
    "start_time": "2022-11-03T08:47:23.916Z"
   },
   {
    "duration": 22,
    "start_time": "2022-11-03T08:47:23.964Z"
   },
   {
    "duration": 26,
    "start_time": "2022-11-03T08:47:23.988Z"
   },
   {
    "duration": 34,
    "start_time": "2022-11-03T08:47:24.016Z"
   },
   {
    "duration": 93,
    "start_time": "2022-11-03T08:47:24.052Z"
   },
   {
    "duration": 52,
    "start_time": "2022-11-03T08:47:24.147Z"
   },
   {
    "duration": 50,
    "start_time": "2022-11-03T08:47:24.201Z"
   },
   {
    "duration": 58,
    "start_time": "2022-11-03T08:47:24.253Z"
   },
   {
    "duration": 74,
    "start_time": "2022-11-03T08:47:24.313Z"
   },
   {
    "duration": 4,
    "start_time": "2022-11-03T11:52:09.415Z"
   },
   {
    "duration": 475,
    "start_time": "2022-11-03T11:52:09.422Z"
   },
   {
    "duration": 43,
    "start_time": "2022-11-03T11:52:09.899Z"
   },
   {
    "duration": 40,
    "start_time": "2022-11-03T11:52:09.945Z"
   },
   {
    "duration": 27,
    "start_time": "2022-11-03T11:52:09.987Z"
   },
   {
    "duration": 40,
    "start_time": "2022-11-03T11:52:10.016Z"
   },
   {
    "duration": 21,
    "start_time": "2022-11-03T11:52:10.058Z"
   },
   {
    "duration": 94,
    "start_time": "2022-11-03T11:52:10.081Z"
   },
   {
    "duration": 39,
    "start_time": "2022-11-03T11:52:10.177Z"
   },
   {
    "duration": 28,
    "start_time": "2022-11-03T11:52:10.235Z"
   },
   {
    "duration": 41,
    "start_time": "2022-11-03T11:52:10.265Z"
   },
   {
    "duration": 42,
    "start_time": "2022-11-03T11:52:10.308Z"
   },
   {
    "duration": 15,
    "start_time": "2022-11-03T11:52:10.355Z"
   },
   {
    "duration": 13,
    "start_time": "2022-11-03T11:52:10.371Z"
   },
   {
    "duration": 6,
    "start_time": "2022-11-03T11:52:10.387Z"
   },
   {
    "duration": 7,
    "start_time": "2022-11-03T11:52:10.394Z"
   },
   {
    "duration": 36,
    "start_time": "2022-11-03T11:52:10.403Z"
   },
   {
    "duration": 47,
    "start_time": "2022-11-03T11:52:10.450Z"
   },
   {
    "duration": 57,
    "start_time": "2022-11-03T11:52:10.498Z"
   },
   {
    "duration": 22,
    "start_time": "2022-11-03T11:52:10.556Z"
   },
   {
    "duration": 5,
    "start_time": "2022-11-03T11:52:10.579Z"
   },
   {
    "duration": 16,
    "start_time": "2022-11-03T11:52:10.586Z"
   },
   {
    "duration": 11,
    "start_time": "2022-11-03T11:52:10.603Z"
   },
   {
    "duration": 45,
    "start_time": "2022-11-03T11:52:10.633Z"
   },
   {
    "duration": 67,
    "start_time": "2022-11-03T11:52:10.680Z"
   },
   {
    "duration": 31,
    "start_time": "2022-11-03T11:52:10.750Z"
   },
   {
    "duration": 56,
    "start_time": "2022-11-03T11:52:10.783Z"
   },
   {
    "duration": 14,
    "start_time": "2022-11-03T11:52:10.845Z"
   },
   {
    "duration": 880,
    "start_time": "2022-11-03T13:26:18.439Z"
   },
   {
    "duration": 1137,
    "start_time": "2022-11-03T13:26:19.321Z"
   },
   {
    "duration": 39,
    "start_time": "2022-11-03T13:26:20.460Z"
   },
   {
    "duration": 29,
    "start_time": "2022-11-03T13:26:20.502Z"
   },
   {
    "duration": 23,
    "start_time": "2022-11-03T13:26:20.533Z"
   },
   {
    "duration": 14,
    "start_time": "2022-11-03T13:26:20.557Z"
   },
   {
    "duration": 41,
    "start_time": "2022-11-03T13:26:20.572Z"
   },
   {
    "duration": 59,
    "start_time": "2022-11-03T13:26:20.615Z"
   },
   {
    "duration": 80,
    "start_time": "2022-11-03T13:26:20.676Z"
   },
   {
    "duration": 27,
    "start_time": "2022-11-03T13:26:20.759Z"
   },
   {
    "duration": 54,
    "start_time": "2022-11-03T13:26:20.787Z"
   },
   {
    "duration": 13,
    "start_time": "2022-11-03T13:26:20.843Z"
   },
   {
    "duration": 44,
    "start_time": "2022-11-03T13:26:20.858Z"
   },
   {
    "duration": 30,
    "start_time": "2022-11-03T13:26:20.904Z"
   },
   {
    "duration": 7,
    "start_time": "2022-11-03T13:26:20.935Z"
   },
   {
    "duration": 5,
    "start_time": "2022-11-03T13:26:20.943Z"
   },
   {
    "duration": 7,
    "start_time": "2022-11-03T13:26:20.950Z"
   },
   {
    "duration": 61,
    "start_time": "2022-11-03T13:26:20.958Z"
   },
   {
    "duration": 38,
    "start_time": "2022-11-03T13:26:21.021Z"
   },
   {
    "duration": 23,
    "start_time": "2022-11-03T13:26:21.061Z"
   },
   {
    "duration": 24,
    "start_time": "2022-11-03T13:26:21.085Z"
   },
   {
    "duration": 6,
    "start_time": "2022-11-03T13:26:21.110Z"
   },
   {
    "duration": 4,
    "start_time": "2022-11-03T13:26:21.117Z"
   },
   {
    "duration": 36,
    "start_time": "2022-11-03T13:26:21.123Z"
   },
   {
    "duration": 74,
    "start_time": "2022-11-03T13:26:21.161Z"
   },
   {
    "duration": 31,
    "start_time": "2022-11-03T13:26:21.237Z"
   },
   {
    "duration": 49,
    "start_time": "2022-11-03T13:26:21.270Z"
   },
   {
    "duration": 110,
    "start_time": "2022-11-03T13:26:21.322Z"
   },
   {
    "duration": 10,
    "start_time": "2022-11-03T14:19:40.912Z"
   },
   {
    "duration": 10,
    "start_time": "2022-11-03T14:20:35.082Z"
   },
   {
    "duration": 12,
    "start_time": "2022-11-03T14:37:54.987Z"
   },
   {
    "duration": 12,
    "start_time": "2022-11-03T14:39:08.450Z"
   },
   {
    "duration": 44,
    "start_time": "2022-11-03T15:06:16.854Z"
   },
   {
    "duration": 54,
    "start_time": "2022-11-03T15:06:29.744Z"
   },
   {
    "duration": 3,
    "start_time": "2022-11-03T15:06:49.960Z"
   },
   {
    "duration": 448,
    "start_time": "2022-11-03T15:06:49.969Z"
   },
   {
    "duration": 31,
    "start_time": "2022-11-03T15:06:50.418Z"
   },
   {
    "duration": 70,
    "start_time": "2022-11-03T15:06:50.451Z"
   },
   {
    "duration": 42,
    "start_time": "2022-11-03T15:06:50.523Z"
   },
   {
    "duration": 24,
    "start_time": "2022-11-03T15:06:50.567Z"
   },
   {
    "duration": 45,
    "start_time": "2022-11-03T15:06:50.593Z"
   },
   {
    "duration": 71,
    "start_time": "2022-11-03T15:06:50.640Z"
   },
   {
    "duration": 38,
    "start_time": "2022-11-03T15:06:50.713Z"
   },
   {
    "duration": 19,
    "start_time": "2022-11-03T15:06:50.753Z"
   },
   {
    "duration": 62,
    "start_time": "2022-11-03T15:06:50.776Z"
   },
   {
    "duration": 15,
    "start_time": "2022-11-03T15:06:50.840Z"
   },
   {
    "duration": 21,
    "start_time": "2022-11-03T15:06:50.858Z"
   },
   {
    "duration": 33,
    "start_time": "2022-11-03T15:06:50.881Z"
   },
   {
    "duration": 9,
    "start_time": "2022-11-03T15:06:50.915Z"
   },
   {
    "duration": 26,
    "start_time": "2022-11-03T15:06:50.925Z"
   },
   {
    "duration": 13,
    "start_time": "2022-11-03T15:06:50.954Z"
   },
   {
    "duration": 83,
    "start_time": "2022-11-03T15:06:50.970Z"
   },
   {
    "duration": 54,
    "start_time": "2022-11-03T15:06:51.055Z"
   },
   {
    "duration": 20,
    "start_time": "2022-11-03T15:06:51.110Z"
   },
   {
    "duration": 16,
    "start_time": "2022-11-03T15:06:51.132Z"
   },
   {
    "duration": 37,
    "start_time": "2022-11-03T15:06:51.149Z"
   },
   {
    "duration": 15,
    "start_time": "2022-11-03T15:06:51.187Z"
   },
   {
    "duration": 49,
    "start_time": "2022-11-03T15:06:51.204Z"
   },
   {
    "duration": 38,
    "start_time": "2022-11-03T15:06:51.255Z"
   },
   {
    "duration": 30,
    "start_time": "2022-11-03T15:06:51.294Z"
   },
   {
    "duration": 34,
    "start_time": "2022-11-03T15:06:51.326Z"
   },
   {
    "duration": 16,
    "start_time": "2022-11-03T15:06:51.361Z"
   },
   {
    "duration": 34,
    "start_time": "2022-11-03T15:07:05.571Z"
   },
   {
    "duration": 35,
    "start_time": "2022-11-03T15:07:13.072Z"
   },
   {
    "duration": 45,
    "start_time": "2022-11-03T15:08:02.523Z"
   },
   {
    "duration": 34,
    "start_time": "2022-11-03T15:08:26.504Z"
   },
   {
    "duration": 3,
    "start_time": "2022-11-03T15:08:41.569Z"
   },
   {
    "duration": 406,
    "start_time": "2022-11-03T15:08:41.577Z"
   },
   {
    "duration": 30,
    "start_time": "2022-11-03T15:08:41.985Z"
   },
   {
    "duration": 31,
    "start_time": "2022-11-03T15:08:42.016Z"
   },
   {
    "duration": 38,
    "start_time": "2022-11-03T15:08:42.049Z"
   },
   {
    "duration": 45,
    "start_time": "2022-11-03T15:08:42.088Z"
   },
   {
    "duration": 29,
    "start_time": "2022-11-03T15:08:42.134Z"
   },
   {
    "duration": 82,
    "start_time": "2022-11-03T15:08:42.165Z"
   },
   {
    "duration": 37,
    "start_time": "2022-11-03T15:08:42.248Z"
   },
   {
    "duration": 30,
    "start_time": "2022-11-03T15:08:42.287Z"
   },
   {
    "duration": 55,
    "start_time": "2022-11-03T15:08:42.320Z"
   },
   {
    "duration": 17,
    "start_time": "2022-11-03T15:08:42.376Z"
   },
   {
    "duration": 45,
    "start_time": "2022-11-03T15:08:42.394Z"
   },
   {
    "duration": 40,
    "start_time": "2022-11-03T15:08:42.440Z"
   },
   {
    "duration": 33,
    "start_time": "2022-11-03T15:08:42.482Z"
   },
   {
    "duration": 24,
    "start_time": "2022-11-03T15:08:42.516Z"
   },
   {
    "duration": 53,
    "start_time": "2022-11-03T15:08:42.542Z"
   },
   {
    "duration": 87,
    "start_time": "2022-11-03T15:08:42.598Z"
   },
   {
    "duration": 85,
    "start_time": "2022-11-03T15:08:42.687Z"
   },
   {
    "duration": 47,
    "start_time": "2022-11-03T15:08:42.774Z"
   },
   {
    "duration": 51,
    "start_time": "2022-11-03T15:08:42.823Z"
   },
   {
    "duration": 56,
    "start_time": "2022-11-03T15:08:42.876Z"
   },
   {
    "duration": 87,
    "start_time": "2022-11-03T15:08:42.934Z"
   },
   {
    "duration": 85,
    "start_time": "2022-11-03T15:08:43.023Z"
   },
   {
    "duration": 93,
    "start_time": "2022-11-03T15:08:43.110Z"
   },
   {
    "duration": 36,
    "start_time": "2022-11-03T15:08:43.204Z"
   },
   {
    "duration": 50,
    "start_time": "2022-11-03T15:08:43.241Z"
   },
   {
    "duration": 60,
    "start_time": "2022-11-03T15:08:43.293Z"
   },
   {
    "duration": 34,
    "start_time": "2022-11-03T15:08:59.310Z"
   },
   {
    "duration": 2,
    "start_time": "2022-11-03T15:09:07.630Z"
   },
   {
    "duration": 391,
    "start_time": "2022-11-03T15:09:07.636Z"
   },
   {
    "duration": 29,
    "start_time": "2022-11-03T15:09:08.029Z"
   },
   {
    "duration": 28,
    "start_time": "2022-11-03T15:09:08.060Z"
   },
   {
    "duration": 32,
    "start_time": "2022-11-03T15:09:08.089Z"
   },
   {
    "duration": 15,
    "start_time": "2022-11-03T15:09:08.123Z"
   },
   {
    "duration": 21,
    "start_time": "2022-11-03T15:09:08.139Z"
   },
   {
    "duration": 84,
    "start_time": "2022-11-03T15:09:08.162Z"
   },
   {
    "duration": 37,
    "start_time": "2022-11-03T15:09:08.248Z"
   },
   {
    "duration": 31,
    "start_time": "2022-11-03T15:09:08.287Z"
   },
   {
    "duration": 39,
    "start_time": "2022-11-03T15:09:08.319Z"
   },
   {
    "duration": 12,
    "start_time": "2022-11-03T15:09:08.360Z"
   },
   {
    "duration": 8,
    "start_time": "2022-11-03T15:09:08.373Z"
   },
   {
    "duration": 32,
    "start_time": "2022-11-03T15:09:08.383Z"
   },
   {
    "duration": 7,
    "start_time": "2022-11-03T15:09:08.419Z"
   },
   {
    "duration": 7,
    "start_time": "2022-11-03T15:09:08.428Z"
   },
   {
    "duration": 6,
    "start_time": "2022-11-03T15:09:08.436Z"
   },
   {
    "duration": 71,
    "start_time": "2022-11-03T15:09:08.444Z"
   },
   {
    "duration": 33,
    "start_time": "2022-11-03T15:09:08.516Z"
   },
   {
    "duration": 18,
    "start_time": "2022-11-03T15:09:08.550Z"
   },
   {
    "duration": 5,
    "start_time": "2022-11-03T15:09:08.570Z"
   },
   {
    "duration": 33,
    "start_time": "2022-11-03T15:09:08.577Z"
   },
   {
    "duration": 4,
    "start_time": "2022-11-03T15:09:08.611Z"
   },
   {
    "duration": 71,
    "start_time": "2022-11-03T15:09:08.617Z"
   },
   {
    "duration": 34,
    "start_time": "2022-11-03T15:09:08.689Z"
   },
   {
    "duration": 26,
    "start_time": "2022-11-03T15:09:08.725Z"
   },
   {
    "duration": 33,
    "start_time": "2022-11-03T15:09:08.753Z"
   },
   {
    "duration": 30,
    "start_time": "2022-11-03T15:09:08.788Z"
   },
   {
    "duration": 67,
    "start_time": "2022-11-03T15:09:34.470Z"
   },
   {
    "duration": 48,
    "start_time": "2022-11-03T15:10:21.863Z"
   },
   {
    "duration": 2,
    "start_time": "2022-11-03T15:10:36.731Z"
   },
   {
    "duration": 412,
    "start_time": "2022-11-03T15:10:36.738Z"
   },
   {
    "duration": 29,
    "start_time": "2022-11-03T15:10:37.155Z"
   },
   {
    "duration": 28,
    "start_time": "2022-11-03T15:10:37.185Z"
   },
   {
    "duration": 23,
    "start_time": "2022-11-03T15:10:37.215Z"
   },
   {
    "duration": 14,
    "start_time": "2022-11-03T15:10:37.241Z"
   },
   {
    "duration": 18,
    "start_time": "2022-11-03T15:10:37.257Z"
   },
   {
    "duration": 83,
    "start_time": "2022-11-03T15:10:37.277Z"
   },
   {
    "duration": 54,
    "start_time": "2022-11-03T15:10:37.362Z"
   },
   {
    "duration": 20,
    "start_time": "2022-11-03T15:10:37.417Z"
   },
   {
    "duration": 40,
    "start_time": "2022-11-03T15:10:37.439Z"
   },
   {
    "duration": 35,
    "start_time": "2022-11-03T15:10:37.481Z"
   },
   {
    "duration": 11,
    "start_time": "2022-11-03T15:10:37.518Z"
   },
   {
    "duration": 10,
    "start_time": "2022-11-03T15:10:37.531Z"
   },
   {
    "duration": 5,
    "start_time": "2022-11-03T15:10:37.544Z"
   },
   {
    "duration": 5,
    "start_time": "2022-11-03T15:10:37.551Z"
   },
   {
    "duration": 6,
    "start_time": "2022-11-03T15:10:37.557Z"
   },
   {
    "duration": 79,
    "start_time": "2022-11-03T15:10:37.565Z"
   },
   {
    "duration": 35,
    "start_time": "2022-11-03T15:10:37.646Z"
   },
   {
    "duration": 33,
    "start_time": "2022-11-03T15:10:37.682Z"
   },
   {
    "duration": 5,
    "start_time": "2022-11-03T15:10:37.716Z"
   },
   {
    "duration": 9,
    "start_time": "2022-11-03T15:10:37.723Z"
   },
   {
    "duration": 6,
    "start_time": "2022-11-03T15:10:37.734Z"
   },
   {
    "duration": 39,
    "start_time": "2022-11-03T15:10:37.741Z"
   },
   {
    "duration": 49,
    "start_time": "2022-11-03T15:10:37.782Z"
   },
   {
    "duration": 25,
    "start_time": "2022-11-03T15:10:37.833Z"
   },
   {
    "duration": 68,
    "start_time": "2022-11-03T15:10:37.860Z"
   },
   {
    "duration": 15,
    "start_time": "2022-11-03T15:10:37.930Z"
   },
   {
    "duration": 37,
    "start_time": "2022-11-03T15:11:18.406Z"
   },
   {
    "duration": 3,
    "start_time": "2022-11-03T15:11:26.644Z"
   },
   {
    "duration": 379,
    "start_time": "2022-11-03T15:11:26.650Z"
   },
   {
    "duration": 28,
    "start_time": "2022-11-03T15:11:27.031Z"
   },
   {
    "duration": 27,
    "start_time": "2022-11-03T15:11:27.061Z"
   },
   {
    "duration": 27,
    "start_time": "2022-11-03T15:11:27.090Z"
   },
   {
    "duration": 14,
    "start_time": "2022-11-03T15:11:27.119Z"
   },
   {
    "duration": 19,
    "start_time": "2022-11-03T15:11:27.134Z"
   },
   {
    "duration": 81,
    "start_time": "2022-11-03T15:11:27.155Z"
   },
   {
    "duration": 36,
    "start_time": "2022-11-03T15:11:27.238Z"
   },
   {
    "duration": 19,
    "start_time": "2022-11-03T15:11:27.275Z"
   },
   {
    "duration": 38,
    "start_time": "2022-11-03T15:11:27.309Z"
   },
   {
    "duration": 13,
    "start_time": "2022-11-03T15:11:27.348Z"
   },
   {
    "duration": 14,
    "start_time": "2022-11-03T15:11:27.363Z"
   },
   {
    "duration": 31,
    "start_time": "2022-11-03T15:11:27.379Z"
   },
   {
    "duration": 6,
    "start_time": "2022-11-03T15:11:27.412Z"
   },
   {
    "duration": 7,
    "start_time": "2022-11-03T15:11:27.419Z"
   },
   {
    "duration": 6,
    "start_time": "2022-11-03T15:11:27.428Z"
   },
   {
    "duration": 42,
    "start_time": "2022-11-03T15:11:27.436Z"
   },
   {
    "duration": 61,
    "start_time": "2022-11-03T15:11:27.479Z"
   },
   {
    "duration": 28,
    "start_time": "2022-11-03T15:11:27.542Z"
   },
   {
    "duration": 7,
    "start_time": "2022-11-03T15:11:27.571Z"
   },
   {
    "duration": 29,
    "start_time": "2022-11-03T15:11:27.580Z"
   },
   {
    "duration": 6,
    "start_time": "2022-11-03T15:11:27.610Z"
   },
   {
    "duration": 35,
    "start_time": "2022-11-03T15:11:27.617Z"
   },
   {
    "duration": 31,
    "start_time": "2022-11-03T15:11:27.654Z"
   },
   {
    "duration": 42,
    "start_time": "2022-11-03T15:11:27.687Z"
   },
   {
    "duration": 33,
    "start_time": "2022-11-03T15:11:27.731Z"
   },
   {
    "duration": 17,
    "start_time": "2022-11-03T15:11:27.766Z"
   },
   {
    "duration": 34,
    "start_time": "2022-11-03T15:11:35.715Z"
   },
   {
    "duration": 35,
    "start_time": "2022-11-03T15:11:37.581Z"
   },
   {
    "duration": 2,
    "start_time": "2022-11-03T15:11:44.964Z"
   },
   {
    "duration": 413,
    "start_time": "2022-11-03T15:11:44.970Z"
   },
   {
    "duration": 28,
    "start_time": "2022-11-03T15:11:45.385Z"
   },
   {
    "duration": 29,
    "start_time": "2022-11-03T15:11:45.414Z"
   },
   {
    "duration": 37,
    "start_time": "2022-11-03T15:11:45.444Z"
   },
   {
    "duration": 31,
    "start_time": "2022-11-03T15:11:45.483Z"
   },
   {
    "duration": 32,
    "start_time": "2022-11-03T15:11:45.515Z"
   },
   {
    "duration": 76,
    "start_time": "2022-11-03T15:11:45.549Z"
   },
   {
    "duration": 36,
    "start_time": "2022-11-03T15:11:45.626Z"
   },
   {
    "duration": 19,
    "start_time": "2022-11-03T15:11:45.663Z"
   },
   {
    "duration": 59,
    "start_time": "2022-11-03T15:11:45.683Z"
   },
   {
    "duration": 13,
    "start_time": "2022-11-03T15:11:45.743Z"
   },
   {
    "duration": 29,
    "start_time": "2022-11-03T15:11:45.757Z"
   },
   {
    "duration": 18,
    "start_time": "2022-11-03T15:11:45.787Z"
   },
   {
    "duration": 26,
    "start_time": "2022-11-03T15:11:45.807Z"
   },
   {
    "duration": 28,
    "start_time": "2022-11-03T15:11:45.834Z"
   },
   {
    "duration": 16,
    "start_time": "2022-11-03T15:11:45.864Z"
   },
   {
    "duration": 72,
    "start_time": "2022-11-03T15:11:45.882Z"
   },
   {
    "duration": 31,
    "start_time": "2022-11-03T15:11:45.956Z"
   },
   {
    "duration": 33,
    "start_time": "2022-11-03T15:11:45.989Z"
   },
   {
    "duration": 5,
    "start_time": "2022-11-03T15:11:46.023Z"
   },
   {
    "duration": 34,
    "start_time": "2022-11-03T15:11:46.030Z"
   },
   {
    "duration": 35,
    "start_time": "2022-11-03T15:11:46.065Z"
   },
   {
    "duration": 45,
    "start_time": "2022-11-03T15:11:46.102Z"
   },
   {
    "duration": 34,
    "start_time": "2022-11-03T15:11:46.148Z"
   },
   {
    "duration": 32,
    "start_time": "2022-11-03T15:11:46.183Z"
   },
   {
    "duration": 35,
    "start_time": "2022-11-03T15:11:46.216Z"
   },
   {
    "duration": 22,
    "start_time": "2022-11-03T15:11:46.252Z"
   },
   {
    "duration": 33,
    "start_time": "2022-11-03T15:12:12.426Z"
   },
   {
    "duration": 35,
    "start_time": "2022-11-03T15:13:15.570Z"
   },
   {
    "duration": 46,
    "start_time": "2022-11-03T15:13:32.236Z"
   },
   {
    "duration": 49,
    "start_time": "2022-11-03T15:14:37.946Z"
   },
   {
    "duration": 3,
    "start_time": "2022-11-03T15:17:17.591Z"
   },
   {
    "duration": 378,
    "start_time": "2022-11-03T15:17:17.599Z"
   },
   {
    "duration": 30,
    "start_time": "2022-11-03T15:17:17.979Z"
   },
   {
    "duration": 29,
    "start_time": "2022-11-03T15:17:18.011Z"
   },
   {
    "duration": 23,
    "start_time": "2022-11-03T15:17:18.042Z"
   },
   {
    "duration": 45,
    "start_time": "2022-11-03T15:17:18.068Z"
   },
   {
    "duration": 19,
    "start_time": "2022-11-03T15:17:18.114Z"
   },
   {
    "duration": 79,
    "start_time": "2022-11-03T15:17:18.136Z"
   },
   {
    "duration": 36,
    "start_time": "2022-11-03T15:17:18.217Z"
   },
   {
    "duration": 20,
    "start_time": "2022-11-03T15:17:18.254Z"
   },
   {
    "duration": 62,
    "start_time": "2022-11-03T15:17:18.275Z"
   },
   {
    "duration": 11,
    "start_time": "2022-11-03T15:17:18.339Z"
   },
   {
    "duration": 11,
    "start_time": "2022-11-03T15:17:18.352Z"
   },
   {
    "duration": 12,
    "start_time": "2022-11-03T15:17:18.365Z"
   },
   {
    "duration": 5,
    "start_time": "2022-11-03T15:17:18.380Z"
   },
   {
    "duration": 26,
    "start_time": "2022-11-03T15:17:18.386Z"
   },
   {
    "duration": 6,
    "start_time": "2022-11-03T15:17:18.413Z"
   },
   {
    "duration": 50,
    "start_time": "2022-11-03T15:17:18.420Z"
   },
   {
    "duration": 50,
    "start_time": "2022-11-03T15:17:18.473Z"
   },
   {
    "duration": 21,
    "start_time": "2022-11-03T15:17:18.524Z"
   },
   {
    "duration": 5,
    "start_time": "2022-11-03T15:17:18.547Z"
   },
   {
    "duration": 8,
    "start_time": "2022-11-03T15:17:18.554Z"
   },
   {
    "duration": 6,
    "start_time": "2022-11-03T15:17:18.563Z"
   },
   {
    "duration": 68,
    "start_time": "2022-11-03T15:17:18.570Z"
   },
   {
    "duration": 31,
    "start_time": "2022-11-03T15:17:18.640Z"
   },
   {
    "duration": 42,
    "start_time": "2022-11-03T15:17:18.673Z"
   },
   {
    "duration": 47,
    "start_time": "2022-11-03T15:17:18.716Z"
   },
   {
    "duration": 13,
    "start_time": "2022-11-03T15:17:18.764Z"
   },
   {
    "duration": 408,
    "start_time": "2022-11-03T15:19:50.133Z"
   },
   {
    "duration": 3,
    "start_time": "2022-11-03T15:35:43.390Z"
   },
   {
    "duration": 4,
    "start_time": "2022-11-03T15:35:48.130Z"
   },
   {
    "duration": 4,
    "start_time": "2022-11-03T15:35:50.947Z"
   },
   {
    "duration": 16,
    "start_time": "2022-11-03T15:38:31.516Z"
   },
   {
    "duration": 399,
    "start_time": "2022-11-03T15:39:05.255Z"
   },
   {
    "duration": 8,
    "start_time": "2022-11-03T15:39:08.837Z"
   },
   {
    "duration": 7,
    "start_time": "2022-11-03T15:39:09.363Z"
   },
   {
    "duration": 5,
    "start_time": "2022-11-03T15:39:20.367Z"
   },
   {
    "duration": 4,
    "start_time": "2022-11-03T15:39:20.874Z"
   },
   {
    "duration": 4,
    "start_time": "2022-11-03T15:39:28.747Z"
   },
   {
    "duration": 4,
    "start_time": "2022-11-03T15:39:29.303Z"
   },
   {
    "duration": 7,
    "start_time": "2022-11-03T15:39:39.422Z"
   },
   {
    "duration": 49,
    "start_time": "2022-11-03T15:39:39.986Z"
   },
   {
    "duration": 3,
    "start_time": "2022-11-03T15:39:57.895Z"
   },
   {
    "duration": 1142,
    "start_time": "2022-11-03T15:43:33.114Z"
   },
   {
    "duration": 8,
    "start_time": "2022-11-03T15:43:38.172Z"
   },
   {
    "duration": 6,
    "start_time": "2022-11-03T15:43:38.700Z"
   },
   {
    "duration": 5,
    "start_time": "2022-11-03T15:43:51.114Z"
   },
   {
    "duration": 6,
    "start_time": "2022-11-03T15:43:55.677Z"
   },
   {
    "duration": 1224,
    "start_time": "2022-11-03T15:45:42.687Z"
   },
   {
    "duration": 5,
    "start_time": "2022-11-03T15:45:46.998Z"
   },
   {
    "duration": 6,
    "start_time": "2022-11-03T15:45:51.744Z"
   },
   {
    "duration": 6,
    "start_time": "2022-11-03T15:45:55.105Z"
   },
   {
    "duration": 1133,
    "start_time": "2022-11-03T15:48:15.350Z"
   },
   {
    "duration": 6,
    "start_time": "2022-11-03T15:48:19.319Z"
   },
   {
    "duration": 6,
    "start_time": "2022-11-03T15:48:23.902Z"
   },
   {
    "duration": 6,
    "start_time": "2022-11-03T15:48:28.100Z"
   },
   {
    "duration": 1273,
    "start_time": "2022-11-03T15:49:42.194Z"
   },
   {
    "duration": 6,
    "start_time": "2022-11-03T15:49:46.979Z"
   },
   {
    "duration": 6,
    "start_time": "2022-11-03T15:49:47.515Z"
   },
   {
    "duration": 6,
    "start_time": "2022-11-03T15:49:50.700Z"
   },
   {
    "duration": 6,
    "start_time": "2022-11-03T15:49:54.628Z"
   },
   {
    "duration": 6,
    "start_time": "2022-11-03T15:49:55.144Z"
   },
   {
    "duration": 1263,
    "start_time": "2022-11-03T16:00:05.304Z"
   },
   {
    "duration": 7,
    "start_time": "2022-11-03T16:00:08.276Z"
   },
   {
    "duration": 7,
    "start_time": "2022-11-03T16:00:13.067Z"
   },
   {
    "duration": 9,
    "start_time": "2022-11-03T16:00:16.335Z"
   },
   {
    "duration": 17,
    "start_time": "2022-11-03T16:00:16.866Z"
   },
   {
    "duration": 12,
    "start_time": "2022-11-03T16:01:20.999Z"
   },
   {
    "duration": 1131,
    "start_time": "2022-11-03T16:01:51.430Z"
   },
   {
    "duration": 7,
    "start_time": "2022-11-03T16:01:55.089Z"
   },
   {
    "duration": 6,
    "start_time": "2022-11-03T16:01:58.585Z"
   },
   {
    "duration": 7,
    "start_time": "2022-11-03T16:02:02.114Z"
   },
   {
    "duration": 3,
    "start_time": "2022-11-03T16:02:11.085Z"
   },
   {
    "duration": 402,
    "start_time": "2022-11-03T16:02:11.093Z"
   },
   {
    "duration": 32,
    "start_time": "2022-11-03T16:02:11.497Z"
   },
   {
    "duration": 31,
    "start_time": "2022-11-03T16:02:11.531Z"
   },
   {
    "duration": 51,
    "start_time": "2022-11-03T16:02:11.564Z"
   },
   {
    "duration": 15,
    "start_time": "2022-11-03T16:02:11.617Z"
   },
   {
    "duration": 27,
    "start_time": "2022-11-03T16:02:11.634Z"
   },
   {
    "duration": 87,
    "start_time": "2022-11-03T16:02:11.662Z"
   },
   {
    "duration": 37,
    "start_time": "2022-11-03T16:02:11.750Z"
   },
   {
    "duration": 34,
    "start_time": "2022-11-03T16:02:11.789Z"
   },
   {
    "duration": 132,
    "start_time": "2022-11-03T16:02:11.825Z"
   },
   {
    "duration": 14,
    "start_time": "2022-11-03T16:02:11.959Z"
   },
   {
    "duration": 19,
    "start_time": "2022-11-03T16:02:11.974Z"
   },
   {
    "duration": 12,
    "start_time": "2022-11-03T16:02:11.995Z"
   },
   {
    "duration": 7,
    "start_time": "2022-11-03T16:02:12.011Z"
   },
   {
    "duration": 10,
    "start_time": "2022-11-03T16:02:12.019Z"
   },
   {
    "duration": 15,
    "start_time": "2022-11-03T16:02:12.031Z"
   },
   {
    "duration": 64,
    "start_time": "2022-11-03T16:02:12.048Z"
   },
   {
    "duration": 36,
    "start_time": "2022-11-03T16:02:12.114Z"
   },
   {
    "duration": 21,
    "start_time": "2022-11-03T16:02:12.152Z"
   },
   {
    "duration": 12,
    "start_time": "2022-11-03T16:02:12.175Z"
   },
   {
    "duration": 28,
    "start_time": "2022-11-03T16:02:12.189Z"
   },
   {
    "duration": 11,
    "start_time": "2022-11-03T16:02:12.219Z"
   },
   {
    "duration": 56,
    "start_time": "2022-11-03T16:02:12.232Z"
   },
   {
    "duration": 35,
    "start_time": "2022-11-03T16:02:12.289Z"
   },
   {
    "duration": 26,
    "start_time": "2022-11-03T16:02:12.326Z"
   },
   {
    "duration": 57,
    "start_time": "2022-11-03T16:02:12.354Z"
   },
   {
    "duration": 1202,
    "start_time": "2022-11-03T16:02:12.413Z"
   },
   {
    "duration": 6,
    "start_time": "2022-11-03T16:02:13.617Z"
   },
   {
    "duration": 10,
    "start_time": "2022-11-03T16:02:13.625Z"
   },
   {
    "duration": 9,
    "start_time": "2022-11-03T16:02:13.636Z"
   },
   {
    "duration": 1186,
    "start_time": "2022-11-03T16:28:59.610Z"
   },
   {
    "duration": 7,
    "start_time": "2022-11-03T16:29:03.444Z"
   },
   {
    "duration": 1409,
    "start_time": "2022-11-03T17:09:39.767Z"
   },
   {
    "duration": 6,
    "start_time": "2022-11-03T17:09:45.070Z"
   },
   {
    "duration": 6,
    "start_time": "2022-11-03T17:09:49.268Z"
   },
   {
    "duration": 8,
    "start_time": "2022-11-03T17:09:52.678Z"
   },
   {
    "duration": 1184,
    "start_time": "2022-11-03T17:10:06.931Z"
   },
   {
    "duration": 6,
    "start_time": "2022-11-03T17:10:11.497Z"
   },
   {
    "duration": 7,
    "start_time": "2022-11-03T17:10:15.129Z"
   },
   {
    "duration": 6,
    "start_time": "2022-11-03T17:10:18.478Z"
   },
   {
    "duration": 13,
    "start_time": "2022-11-03T17:10:45.054Z"
   },
   {
    "duration": 1210,
    "start_time": "2022-11-03T17:11:46.643Z"
   },
   {
    "duration": 6,
    "start_time": "2022-11-03T17:11:50.660Z"
   },
   {
    "duration": 8,
    "start_time": "2022-11-03T17:11:54.941Z"
   },
   {
    "duration": 6,
    "start_time": "2022-11-03T17:11:58.225Z"
   },
   {
    "duration": 1198,
    "start_time": "2022-11-03T17:12:17.206Z"
   },
   {
    "duration": 6,
    "start_time": "2022-11-03T17:12:21.483Z"
   },
   {
    "duration": 6,
    "start_time": "2022-11-03T17:12:25.287Z"
   },
   {
    "duration": 5,
    "start_time": "2022-11-03T17:12:28.767Z"
   },
   {
    "duration": 17,
    "start_time": "2022-11-03T17:12:58.831Z"
   },
   {
    "duration": 1684,
    "start_time": "2022-11-03T17:20:44.156Z"
   },
   {
    "duration": 6,
    "start_time": "2022-11-03T17:20:48.394Z"
   },
   {
    "duration": 11,
    "start_time": "2022-11-03T17:22:33.565Z"
   },
   {
    "duration": 1087,
    "start_time": "2022-11-03T17:22:54.937Z"
   },
   {
    "duration": 9,
    "start_time": "2022-11-03T17:22:59.216Z"
   },
   {
    "duration": 1080,
    "start_time": "2022-11-03T17:23:26.890Z"
   },
   {
    "duration": 8,
    "start_time": "2022-11-03T17:23:31.211Z"
   },
   {
    "duration": 3,
    "start_time": "2022-11-03T18:41:13.716Z"
   },
   {
    "duration": 426,
    "start_time": "2022-11-03T18:41:13.722Z"
   },
   {
    "duration": 34,
    "start_time": "2022-11-03T18:41:14.151Z"
   },
   {
    "duration": 31,
    "start_time": "2022-11-03T18:41:14.187Z"
   },
   {
    "duration": 25,
    "start_time": "2022-11-03T18:41:14.220Z"
   },
   {
    "duration": 17,
    "start_time": "2022-11-03T18:41:14.247Z"
   },
   {
    "duration": 45,
    "start_time": "2022-11-03T18:41:14.265Z"
   },
   {
    "duration": 74,
    "start_time": "2022-11-03T18:41:14.312Z"
   },
   {
    "duration": 49,
    "start_time": "2022-11-03T18:41:14.387Z"
   },
   {
    "duration": 19,
    "start_time": "2022-11-03T18:41:14.438Z"
   },
   {
    "duration": 52,
    "start_time": "2022-11-03T18:41:14.459Z"
   },
   {
    "duration": 13,
    "start_time": "2022-11-03T18:41:14.513Z"
   },
   {
    "duration": 23,
    "start_time": "2022-11-03T18:41:14.528Z"
   },
   {
    "duration": 17,
    "start_time": "2022-11-03T18:41:14.553Z"
   },
   {
    "duration": 11,
    "start_time": "2022-11-03T18:41:14.574Z"
   },
   {
    "duration": 14,
    "start_time": "2022-11-03T18:41:14.587Z"
   },
   {
    "duration": 47,
    "start_time": "2022-11-03T18:41:14.603Z"
   },
   {
    "duration": 69,
    "start_time": "2022-11-03T18:41:14.652Z"
   },
   {
    "duration": 35,
    "start_time": "2022-11-03T18:41:14.723Z"
   },
   {
    "duration": 19,
    "start_time": "2022-11-03T18:41:14.760Z"
   },
   {
    "duration": 16,
    "start_time": "2022-11-03T18:41:14.781Z"
   },
   {
    "duration": 26,
    "start_time": "2022-11-03T18:41:14.799Z"
   },
   {
    "duration": 40,
    "start_time": "2022-11-03T18:41:14.827Z"
   },
   {
    "duration": 59,
    "start_time": "2022-11-03T18:41:14.869Z"
   },
   {
    "duration": 30,
    "start_time": "2022-11-03T18:41:14.929Z"
   },
   {
    "duration": 27,
    "start_time": "2022-11-03T18:41:14.961Z"
   },
   {
    "duration": 70,
    "start_time": "2022-11-03T18:41:14.990Z"
   },
   {
    "duration": 1138,
    "start_time": "2022-11-03T18:41:15.062Z"
   },
   {
    "duration": 8,
    "start_time": "2022-11-03T18:41:16.202Z"
   },
   {
    "duration": 6,
    "start_time": "2022-11-03T18:41:16.212Z"
   },
   {
    "duration": 14,
    "start_time": "2022-11-03T18:41:16.220Z"
   },
   {
    "duration": 60,
    "start_time": "2022-11-03T18:41:36.305Z"
   },
   {
    "duration": 45,
    "start_time": "2022-11-03T18:42:28.656Z"
   },
   {
    "duration": 54,
    "start_time": "2022-11-03T18:42:56.582Z"
   },
   {
    "duration": 53,
    "start_time": "2022-11-03T18:43:09.937Z"
   },
   {
    "duration": 67,
    "start_time": "2022-11-03T18:43:30.165Z"
   },
   {
    "duration": 48,
    "start_time": "2022-11-03T18:43:34.923Z"
   },
   {
    "duration": 49,
    "start_time": "2022-11-03T18:44:18.040Z"
   },
   {
    "duration": 1166,
    "start_time": "2022-11-03T18:44:34.335Z"
   },
   {
    "duration": 9,
    "start_time": "2022-11-03T18:44:42.944Z"
   },
   {
    "duration": 8,
    "start_time": "2022-11-03T18:44:46.951Z"
   },
   {
    "duration": 6,
    "start_time": "2022-11-03T18:44:50.517Z"
   },
   {
    "duration": 1098,
    "start_time": "2022-11-03T18:46:40.581Z"
   },
   {
    "duration": 6,
    "start_time": "2022-11-03T18:46:43.846Z"
   },
   {
    "duration": 7,
    "start_time": "2022-11-03T18:46:44.382Z"
   },
   {
    "duration": 136,
    "start_time": "2022-11-03T18:47:30.807Z"
   },
   {
    "duration": 6,
    "start_time": "2022-11-03T18:47:34.291Z"
   },
   {
    "duration": 39,
    "start_time": "2022-11-03T18:48:26.568Z"
   },
   {
    "duration": 7,
    "start_time": "2022-11-03T18:48:33.640Z"
   },
   {
    "duration": 45,
    "start_time": "2022-11-03T18:49:43.774Z"
   },
   {
    "duration": 7,
    "start_time": "2022-11-03T18:49:47.016Z"
   },
   {
    "duration": 74,
    "start_time": "2022-11-03T18:49:52.755Z"
   },
   {
    "duration": 40,
    "start_time": "2022-11-03T18:49:55.963Z"
   },
   {
    "duration": 70,
    "start_time": "2022-11-03T18:49:58.848Z"
   },
   {
    "duration": 6,
    "start_time": "2022-11-03T18:50:04.493Z"
   },
   {
    "duration": 881,
    "start_time": "2022-11-03T18:51:30.274Z"
   },
   {
    "duration": 440,
    "start_time": "2022-11-03T18:51:31.157Z"
   },
   {
    "duration": 39,
    "start_time": "2022-11-03T18:51:31.599Z"
   },
   {
    "duration": 30,
    "start_time": "2022-11-03T18:51:31.640Z"
   },
   {
    "duration": 43,
    "start_time": "2022-11-03T18:51:31.672Z"
   },
   {
    "duration": 15,
    "start_time": "2022-11-03T18:51:31.716Z"
   },
   {
    "duration": 24,
    "start_time": "2022-11-03T18:51:31.733Z"
   },
   {
    "duration": 80,
    "start_time": "2022-11-03T18:51:31.759Z"
   },
   {
    "duration": 36,
    "start_time": "2022-11-03T18:51:31.841Z"
   },
   {
    "duration": 39,
    "start_time": "2022-11-03T18:51:31.878Z"
   },
   {
    "duration": 39,
    "start_time": "2022-11-03T18:51:31.919Z"
   },
   {
    "duration": 14,
    "start_time": "2022-11-03T18:51:31.959Z"
   },
   {
    "duration": 36,
    "start_time": "2022-11-03T18:51:31.974Z"
   },
   {
    "duration": 11,
    "start_time": "2022-11-03T18:51:32.013Z"
   },
   {
    "duration": 11,
    "start_time": "2022-11-03T18:51:32.026Z"
   },
   {
    "duration": 6,
    "start_time": "2022-11-03T18:51:32.039Z"
   },
   {
    "duration": 10,
    "start_time": "2022-11-03T18:51:32.047Z"
   },
   {
    "duration": 79,
    "start_time": "2022-11-03T18:51:32.059Z"
   },
   {
    "duration": 41,
    "start_time": "2022-11-03T18:51:32.139Z"
   },
   {
    "duration": 48,
    "start_time": "2022-11-03T18:51:32.182Z"
   },
   {
    "duration": 5,
    "start_time": "2022-11-03T18:51:32.232Z"
   },
   {
    "duration": 10,
    "start_time": "2022-11-03T18:51:32.239Z"
   },
   {
    "duration": 13,
    "start_time": "2022-11-03T18:51:32.250Z"
   },
   {
    "duration": 50,
    "start_time": "2022-11-03T18:51:32.264Z"
   },
   {
    "duration": 36,
    "start_time": "2022-11-03T18:51:32.316Z"
   },
   {
    "duration": 28,
    "start_time": "2022-11-03T18:51:32.353Z"
   },
   {
    "duration": 74,
    "start_time": "2022-11-03T18:51:32.383Z"
   },
   {
    "duration": 60,
    "start_time": "2022-11-03T18:51:32.459Z"
   },
   {
    "duration": 139,
    "start_time": "2022-11-03T18:51:32.522Z"
   },
   {
    "duration": 0,
    "start_time": "2022-11-03T18:51:32.663Z"
   },
   {
    "duration": 0,
    "start_time": "2022-11-03T18:51:32.665Z"
   },
   {
    "duration": 11423,
    "start_time": "2022-11-03T18:54:52.516Z"
   },
   {
    "duration": 8,
    "start_time": "2022-11-03T18:56:31.046Z"
   },
   {
    "duration": 294,
    "start_time": "2022-11-03T18:59:45.182Z"
   },
   {
    "duration": 4,
    "start_time": "2022-11-03T18:59:49.908Z"
   },
   {
    "duration": 8,
    "start_time": "2022-11-03T19:06:51.587Z"
   },
   {
    "duration": 35,
    "start_time": "2022-11-03T19:07:11.163Z"
   },
   {
    "duration": 112,
    "start_time": "2022-11-03T19:07:21.615Z"
   },
   {
    "duration": 80,
    "start_time": "2022-11-03T19:11:23.770Z"
   },
   {
    "duration": 88,
    "start_time": "2022-11-03T19:11:29.346Z"
   },
   {
    "duration": 143,
    "start_time": "2022-11-03T19:13:01.471Z"
   },
   {
    "duration": 176,
    "start_time": "2022-11-03T19:14:00.258Z"
   },
   {
    "duration": 230,
    "start_time": "2022-11-03T19:15:06.302Z"
   },
   {
    "duration": 4,
    "start_time": "2022-11-03T19:15:39.452Z"
   },
   {
    "duration": 519,
    "start_time": "2022-11-03T19:15:39.466Z"
   },
   {
    "duration": 43,
    "start_time": "2022-11-03T19:15:39.987Z"
   },
   {
    "duration": 36,
    "start_time": "2022-11-03T19:15:40.032Z"
   },
   {
    "duration": 62,
    "start_time": "2022-11-03T19:15:40.070Z"
   },
   {
    "duration": 20,
    "start_time": "2022-11-03T19:15:40.140Z"
   },
   {
    "duration": 23,
    "start_time": "2022-11-03T19:15:40.162Z"
   },
   {
    "duration": 91,
    "start_time": "2022-11-03T19:15:40.186Z"
   },
   {
    "duration": 60,
    "start_time": "2022-11-03T19:15:40.279Z"
   },
   {
    "duration": 30,
    "start_time": "2022-11-03T19:15:40.342Z"
   },
   {
    "duration": 84,
    "start_time": "2022-11-03T19:15:40.374Z"
   },
   {
    "duration": 14,
    "start_time": "2022-11-03T19:15:40.460Z"
   },
   {
    "duration": 19,
    "start_time": "2022-11-03T19:15:40.476Z"
   },
   {
    "duration": 21,
    "start_time": "2022-11-03T19:15:40.497Z"
   },
   {
    "duration": 9,
    "start_time": "2022-11-03T19:15:40.521Z"
   },
   {
    "duration": 9,
    "start_time": "2022-11-03T19:15:40.532Z"
   },
   {
    "duration": 13,
    "start_time": "2022-11-03T19:15:40.543Z"
   },
   {
    "duration": 88,
    "start_time": "2022-11-03T19:15:40.558Z"
   },
   {
    "duration": 39,
    "start_time": "2022-11-03T19:15:40.649Z"
   },
   {
    "duration": 34,
    "start_time": "2022-11-03T19:15:40.689Z"
   },
   {
    "duration": 6,
    "start_time": "2022-11-03T19:15:40.724Z"
   },
   {
    "duration": 15,
    "start_time": "2022-11-03T19:15:40.731Z"
   },
   {
    "duration": 9,
    "start_time": "2022-11-03T19:15:40.748Z"
   },
   {
    "duration": 76,
    "start_time": "2022-11-03T19:15:40.759Z"
   },
   {
    "duration": 50,
    "start_time": "2022-11-03T19:15:40.838Z"
   },
   {
    "duration": 41,
    "start_time": "2022-11-03T19:15:40.890Z"
   },
   {
    "duration": 78,
    "start_time": "2022-11-03T19:15:40.933Z"
   },
   {
    "duration": 276,
    "start_time": "2022-11-03T19:15:41.013Z"
   },
   {
    "duration": 3,
    "start_time": "2022-11-03T19:51:55.584Z"
   },
   {
    "duration": 377,
    "start_time": "2022-11-03T19:51:55.590Z"
   },
   {
    "duration": 29,
    "start_time": "2022-11-03T19:51:55.969Z"
   },
   {
    "duration": 29,
    "start_time": "2022-11-03T19:51:55.999Z"
   },
   {
    "duration": 23,
    "start_time": "2022-11-03T19:51:56.029Z"
   },
   {
    "duration": 14,
    "start_time": "2022-11-03T19:51:56.054Z"
   },
   {
    "duration": 40,
    "start_time": "2022-11-03T19:51:56.069Z"
   },
   {
    "duration": 58,
    "start_time": "2022-11-03T19:51:56.111Z"
   },
   {
    "duration": 52,
    "start_time": "2022-11-03T19:51:56.171Z"
   },
   {
    "duration": 19,
    "start_time": "2022-11-03T19:51:56.225Z"
   },
   {
    "duration": 43,
    "start_time": "2022-11-03T19:51:56.246Z"
   },
   {
    "duration": 24,
    "start_time": "2022-11-03T19:51:56.291Z"
   },
   {
    "duration": 6,
    "start_time": "2022-11-03T19:51:56.316Z"
   },
   {
    "duration": 10,
    "start_time": "2022-11-03T19:51:56.323Z"
   },
   {
    "duration": 6,
    "start_time": "2022-11-03T19:51:56.335Z"
   },
   {
    "duration": 6,
    "start_time": "2022-11-03T19:51:56.342Z"
   },
   {
    "duration": 5,
    "start_time": "2022-11-03T19:51:56.350Z"
   },
   {
    "duration": 76,
    "start_time": "2022-11-03T19:51:56.357Z"
   },
   {
    "duration": 32,
    "start_time": "2022-11-03T19:51:56.434Z"
   },
   {
    "duration": 18,
    "start_time": "2022-11-03T19:51:56.467Z"
   },
   {
    "duration": 26,
    "start_time": "2022-11-03T19:51:56.486Z"
   },
   {
    "duration": 7,
    "start_time": "2022-11-03T19:51:56.513Z"
   },
   {
    "duration": 5,
    "start_time": "2022-11-03T19:51:56.521Z"
   },
   {
    "duration": 35,
    "start_time": "2022-11-03T19:51:56.527Z"
   },
   {
    "duration": 51,
    "start_time": "2022-11-03T19:51:56.563Z"
   },
   {
    "duration": 32,
    "start_time": "2022-11-03T19:51:56.616Z"
   },
   {
    "duration": 63,
    "start_time": "2022-11-03T19:51:56.650Z"
   },
   {
    "duration": 201,
    "start_time": "2022-11-03T19:51:56.714Z"
   },
   {
    "duration": 9495,
    "start_time": "2022-11-03T19:53:44.851Z"
   },
   {
    "duration": 164,
    "start_time": "2022-11-03T19:54:59.983Z"
   },
   {
    "duration": 154,
    "start_time": "2022-11-03T19:55:39.968Z"
   },
   {
    "duration": 9621,
    "start_time": "2022-11-03T19:56:43.627Z"
   },
   {
    "duration": 746,
    "start_time": "2022-11-04T10:50:35.356Z"
   },
   {
    "duration": 948,
    "start_time": "2022-11-04T10:50:36.104Z"
   },
   {
    "duration": 34,
    "start_time": "2022-11-04T10:50:37.054Z"
   },
   {
    "duration": 36,
    "start_time": "2022-11-04T10:50:37.089Z"
   },
   {
    "duration": 25,
    "start_time": "2022-11-04T10:50:37.127Z"
   },
   {
    "duration": 14,
    "start_time": "2022-11-04T10:50:37.153Z"
   },
   {
    "duration": 48,
    "start_time": "2022-11-04T10:50:37.168Z"
   },
   {
    "duration": 61,
    "start_time": "2022-11-04T10:50:37.217Z"
   },
   {
    "duration": 57,
    "start_time": "2022-11-04T10:50:37.279Z"
   },
   {
    "duration": 20,
    "start_time": "2022-11-04T10:50:37.338Z"
   },
   {
    "duration": 55,
    "start_time": "2022-11-04T10:50:37.360Z"
   },
   {
    "duration": 12,
    "start_time": "2022-11-04T10:50:37.416Z"
   },
   {
    "duration": 8,
    "start_time": "2022-11-04T10:50:37.430Z"
   },
   {
    "duration": 10,
    "start_time": "2022-11-04T10:50:37.441Z"
   },
   {
    "duration": 5,
    "start_time": "2022-11-04T10:50:37.453Z"
   },
   {
    "duration": 5,
    "start_time": "2022-11-04T10:50:37.460Z"
   },
   {
    "duration": 47,
    "start_time": "2022-11-04T10:50:37.466Z"
   },
   {
    "duration": 52,
    "start_time": "2022-11-04T10:50:37.514Z"
   },
   {
    "duration": 55,
    "start_time": "2022-11-04T10:50:37.567Z"
   },
   {
    "duration": 21,
    "start_time": "2022-11-04T10:50:37.624Z"
   },
   {
    "duration": 4,
    "start_time": "2022-11-04T10:50:37.647Z"
   },
   {
    "duration": 8,
    "start_time": "2022-11-04T10:50:37.652Z"
   },
   {
    "duration": 4,
    "start_time": "2022-11-04T10:50:37.662Z"
   },
   {
    "duration": 69,
    "start_time": "2022-11-04T10:50:37.668Z"
   },
   {
    "duration": 34,
    "start_time": "2022-11-04T10:50:37.739Z"
   },
   {
    "duration": 50,
    "start_time": "2022-11-04T10:50:37.775Z"
   },
   {
    "duration": 48,
    "start_time": "2022-11-04T10:50:37.826Z"
   },
   {
    "duration": 848,
    "start_time": "2022-11-04T10:50:37.876Z"
   },
   {
    "duration": 650,
    "start_time": "2022-11-04T10:51:06.820Z"
   },
   {
    "duration": 686,
    "start_time": "2022-11-04T10:51:12.940Z"
   },
   {
    "duration": 877,
    "start_time": "2022-11-04T10:51:21.388Z"
   },
   {
    "duration": 374,
    "start_time": "2022-11-04T10:51:22.267Z"
   },
   {
    "duration": 39,
    "start_time": "2022-11-04T10:51:22.642Z"
   },
   {
    "duration": 28,
    "start_time": "2022-11-04T10:51:22.682Z"
   },
   {
    "duration": 23,
    "start_time": "2022-11-04T10:51:22.713Z"
   },
   {
    "duration": 13,
    "start_time": "2022-11-04T10:51:22.737Z"
   },
   {
    "duration": 17,
    "start_time": "2022-11-04T10:51:22.752Z"
   },
   {
    "duration": 91,
    "start_time": "2022-11-04T10:51:22.771Z"
   },
   {
    "duration": 51,
    "start_time": "2022-11-04T10:51:22.863Z"
   },
   {
    "duration": 20,
    "start_time": "2022-11-04T10:51:22.916Z"
   },
   {
    "duration": 36,
    "start_time": "2022-11-04T10:51:22.938Z"
   },
   {
    "duration": 34,
    "start_time": "2022-11-04T10:51:22.976Z"
   },
   {
    "duration": 6,
    "start_time": "2022-11-04T10:51:23.012Z"
   },
   {
    "duration": 12,
    "start_time": "2022-11-04T10:51:23.021Z"
   },
   {
    "duration": 5,
    "start_time": "2022-11-04T10:51:23.035Z"
   },
   {
    "duration": 6,
    "start_time": "2022-11-04T10:51:23.042Z"
   },
   {
    "duration": 8,
    "start_time": "2022-11-04T10:51:23.049Z"
   },
   {
    "duration": 89,
    "start_time": "2022-11-04T10:51:23.059Z"
   },
   {
    "duration": 34,
    "start_time": "2022-11-04T10:51:23.149Z"
   },
   {
    "duration": 41,
    "start_time": "2022-11-04T10:51:23.185Z"
   },
   {
    "duration": 5,
    "start_time": "2022-11-04T10:51:23.228Z"
   },
   {
    "duration": 9,
    "start_time": "2022-11-04T10:51:23.235Z"
   },
   {
    "duration": 21,
    "start_time": "2022-11-04T10:51:23.246Z"
   },
   {
    "duration": 60,
    "start_time": "2022-11-04T10:51:23.269Z"
   },
   {
    "duration": 35,
    "start_time": "2022-11-04T10:51:23.331Z"
   },
   {
    "duration": 55,
    "start_time": "2022-11-04T10:51:23.368Z"
   },
   {
    "duration": 49,
    "start_time": "2022-11-04T10:51:23.425Z"
   },
   {
    "duration": 761,
    "start_time": "2022-11-04T10:51:23.476Z"
   },
   {
    "duration": 1517,
    "start_time": "2022-11-04T10:51:38.195Z"
   },
   {
    "duration": 1460,
    "start_time": "2022-11-04T10:51:58.736Z"
   },
   {
    "duration": 1825,
    "start_time": "2022-11-04T11:01:29.060Z"
   },
   {
    "duration": 14,
    "start_time": "2022-11-04T11:48:09.321Z"
   },
   {
    "duration": 17,
    "start_time": "2022-11-04T11:49:00.023Z"
   },
   {
    "duration": 26,
    "start_time": "2022-11-04T11:49:41.222Z"
   },
   {
    "duration": 27,
    "start_time": "2022-11-04T11:50:17.421Z"
   },
   {
    "duration": 2,
    "start_time": "2022-11-04T11:54:05.060Z"
   },
   {
    "duration": 427,
    "start_time": "2022-11-04T11:54:05.068Z"
   },
   {
    "duration": 36,
    "start_time": "2022-11-04T11:54:05.497Z"
   },
   {
    "duration": 39,
    "start_time": "2022-11-04T11:54:05.534Z"
   },
   {
    "duration": 55,
    "start_time": "2022-11-04T11:54:05.575Z"
   },
   {
    "duration": 14,
    "start_time": "2022-11-04T11:54:05.633Z"
   },
   {
    "duration": 19,
    "start_time": "2022-11-04T11:54:05.649Z"
   },
   {
    "duration": 93,
    "start_time": "2022-11-04T11:54:05.670Z"
   },
   {
    "duration": 59,
    "start_time": "2022-11-04T11:54:05.764Z"
   },
   {
    "duration": 21,
    "start_time": "2022-11-04T11:54:05.825Z"
   },
   {
    "duration": 39,
    "start_time": "2022-11-04T11:54:05.848Z"
   },
   {
    "duration": 38,
    "start_time": "2022-11-04T11:54:05.889Z"
   },
   {
    "duration": 14,
    "start_time": "2022-11-04T11:54:05.929Z"
   },
   {
    "duration": 15,
    "start_time": "2022-11-04T11:54:05.945Z"
   },
   {
    "duration": 6,
    "start_time": "2022-11-04T11:54:05.962Z"
   },
   {
    "duration": 5,
    "start_time": "2022-11-04T11:54:05.969Z"
   },
   {
    "duration": 8,
    "start_time": "2022-11-04T11:54:05.975Z"
   },
   {
    "duration": 60,
    "start_time": "2022-11-04T11:54:06.022Z"
   },
   {
    "duration": 44,
    "start_time": "2022-11-04T11:54:06.084Z"
   },
   {
    "duration": 28,
    "start_time": "2022-11-04T11:54:06.130Z"
   },
   {
    "duration": 6,
    "start_time": "2022-11-04T11:54:06.160Z"
   },
   {
    "duration": 11,
    "start_time": "2022-11-04T11:54:06.168Z"
   },
   {
    "duration": 40,
    "start_time": "2022-11-04T11:54:06.181Z"
   },
   {
    "duration": 45,
    "start_time": "2022-11-04T11:54:06.231Z"
   },
   {
    "duration": 47,
    "start_time": "2022-11-04T11:54:06.278Z"
   },
   {
    "duration": 26,
    "start_time": "2022-11-04T11:54:06.326Z"
   },
   {
    "duration": 71,
    "start_time": "2022-11-04T11:54:06.354Z"
   },
   {
    "duration": 1947,
    "start_time": "2022-11-04T11:54:06.427Z"
   },
   {
    "duration": 53,
    "start_time": "2022-11-04T11:54:08.376Z"
   },
   {
    "duration": 374,
    "start_time": "2022-11-04T11:58:12.606Z"
   },
   {
    "duration": 6,
    "start_time": "2022-11-04T11:59:52.432Z"
   },
   {
    "duration": 34,
    "start_time": "2022-11-04T12:00:16.522Z"
   },
   {
    "duration": 54,
    "start_time": "2022-11-04T12:00:39.080Z"
   },
   {
    "duration": 52,
    "start_time": "2022-11-04T12:03:32.621Z"
   },
   {
    "duration": 51,
    "start_time": "2022-11-04T14:11:18.655Z"
   },
   {
    "duration": 6,
    "start_time": "2022-11-04T14:11:50.521Z"
   },
   {
    "duration": 9,
    "start_time": "2022-11-04T14:13:50.788Z"
   },
   {
    "duration": 9,
    "start_time": "2022-11-04T14:14:11.921Z"
   },
   {
    "duration": 63,
    "start_time": "2022-11-04T14:17:08.345Z"
   },
   {
    "duration": 68,
    "start_time": "2022-11-04T14:17:27.787Z"
   },
   {
    "duration": 66,
    "start_time": "2022-11-04T14:17:49.407Z"
   },
   {
    "duration": 71,
    "start_time": "2022-11-04T14:18:24.887Z"
   },
   {
    "duration": 65,
    "start_time": "2022-11-04T14:18:50.300Z"
   },
   {
    "duration": 73,
    "start_time": "2022-11-04T14:19:36.534Z"
   },
   {
    "duration": 64,
    "start_time": "2022-11-04T14:20:02.095Z"
   },
   {
    "duration": 61,
    "start_time": "2022-11-04T14:20:23.975Z"
   },
   {
    "duration": 58,
    "start_time": "2022-11-04T14:20:59.045Z"
   },
   {
    "duration": 2034,
    "start_time": "2022-11-04T15:08:28.224Z"
   },
   {
    "duration": 149,
    "start_time": "2022-11-04T15:09:13.997Z"
   },
   {
    "duration": 187,
    "start_time": "2022-11-04T15:09:36.347Z"
   },
   {
    "duration": 182,
    "start_time": "2022-11-04T15:11:40.742Z"
   },
   {
    "duration": 260,
    "start_time": "2022-11-04T15:11:50.487Z"
   },
   {
    "duration": 49,
    "start_time": "2022-11-04T15:12:42.521Z"
   },
   {
    "duration": 37,
    "start_time": "2022-11-04T16:42:18.882Z"
   },
   {
    "duration": 8,
    "start_time": "2022-11-04T16:44:06.090Z"
   },
   {
    "duration": 7,
    "start_time": "2022-11-04T16:45:39.381Z"
   },
   {
    "duration": 169,
    "start_time": "2022-11-04T16:46:25.488Z"
   },
   {
    "duration": 129,
    "start_time": "2022-11-04T16:46:57.726Z"
   },
   {
    "duration": 8,
    "start_time": "2022-11-04T17:07:36.683Z"
   },
   {
    "duration": 224,
    "start_time": "2022-11-04T17:08:43.171Z"
   },
   {
    "duration": 11,
    "start_time": "2022-11-04T18:07:06.494Z"
   },
   {
    "duration": 37,
    "start_time": "2022-11-04T18:11:54.182Z"
   },
   {
    "duration": 202,
    "start_time": "2022-11-04T18:13:54.344Z"
   },
   {
    "duration": 903,
    "start_time": "2022-11-07T09:25:25.061Z"
   },
   {
    "duration": 886,
    "start_time": "2022-11-07T09:25:25.966Z"
   },
   {
    "duration": 40,
    "start_time": "2022-11-07T09:25:26.854Z"
   },
   {
    "duration": 35,
    "start_time": "2022-11-07T09:25:26.897Z"
   },
   {
    "duration": 50,
    "start_time": "2022-11-07T09:25:26.933Z"
   },
   {
    "duration": 22,
    "start_time": "2022-11-07T09:25:26.985Z"
   },
   {
    "duration": 25,
    "start_time": "2022-11-07T09:25:27.009Z"
   },
   {
    "duration": 96,
    "start_time": "2022-11-07T09:25:27.036Z"
   },
   {
    "duration": 56,
    "start_time": "2022-11-07T09:25:27.134Z"
   },
   {
    "duration": 22,
    "start_time": "2022-11-07T09:25:27.192Z"
   },
   {
    "duration": 62,
    "start_time": "2022-11-07T09:25:27.216Z"
   },
   {
    "duration": 16,
    "start_time": "2022-11-07T09:25:27.281Z"
   },
   {
    "duration": 10,
    "start_time": "2022-11-07T09:25:27.299Z"
   },
   {
    "duration": 12,
    "start_time": "2022-11-07T09:25:27.310Z"
   },
   {
    "duration": 9,
    "start_time": "2022-11-07T09:25:27.323Z"
   },
   {
    "duration": 45,
    "start_time": "2022-11-07T09:25:27.333Z"
   },
   {
    "duration": 16,
    "start_time": "2022-11-07T09:25:27.380Z"
   },
   {
    "duration": 62,
    "start_time": "2022-11-07T09:25:27.397Z"
   },
   {
    "duration": 43,
    "start_time": "2022-11-07T09:25:27.476Z"
   },
   {
    "duration": 24,
    "start_time": "2022-11-07T09:25:27.520Z"
   },
   {
    "duration": 5,
    "start_time": "2022-11-07T09:25:27.546Z"
   },
   {
    "duration": 29,
    "start_time": "2022-11-07T09:25:27.553Z"
   },
   {
    "duration": 6,
    "start_time": "2022-11-07T09:25:27.583Z"
   },
   {
    "duration": 50,
    "start_time": "2022-11-07T09:25:27.590Z"
   },
   {
    "duration": 78,
    "start_time": "2022-11-07T09:25:27.642Z"
   },
   {
    "duration": 31,
    "start_time": "2022-11-07T09:25:27.722Z"
   },
   {
    "duration": 72,
    "start_time": "2022-11-07T09:25:27.755Z"
   },
   {
    "duration": 1868,
    "start_time": "2022-11-07T09:25:27.830Z"
   },
   {
    "duration": 38,
    "start_time": "2022-11-07T09:25:29.699Z"
   },
   {
    "duration": 686,
    "start_time": "2022-11-07T09:25:29.739Z"
   },
   {
    "duration": 10,
    "start_time": "2022-11-07T09:25:30.426Z"
   },
   {
    "duration": 176,
    "start_time": "2022-11-07T09:25:30.438Z"
   },
   {
    "duration": 10,
    "start_time": "2022-11-07T09:25:30.616Z"
   },
   {
    "duration": 207,
    "start_time": "2022-11-07T09:25:30.628Z"
   },
   {
    "duration": 56,
    "start_time": "2022-11-07T09:25:30.837Z"
   },
   {
    "duration": 224,
    "start_time": "2022-11-07T09:25:30.895Z"
   },
   {
    "duration": 840,
    "start_time": "2022-11-08T08:02:16.313Z"
   },
   {
    "duration": 814,
    "start_time": "2022-11-08T08:02:17.155Z"
   },
   {
    "duration": 45,
    "start_time": "2022-11-08T08:02:17.971Z"
   },
   {
    "duration": 41,
    "start_time": "2022-11-08T08:02:18.018Z"
   },
   {
    "duration": 42,
    "start_time": "2022-11-08T08:02:18.061Z"
   },
   {
    "duration": 14,
    "start_time": "2022-11-08T08:02:18.104Z"
   },
   {
    "duration": 19,
    "start_time": "2022-11-08T08:02:18.119Z"
   },
   {
    "duration": 89,
    "start_time": "2022-11-08T08:02:18.139Z"
   },
   {
    "duration": 37,
    "start_time": "2022-11-08T08:02:18.229Z"
   },
   {
    "duration": 38,
    "start_time": "2022-11-08T08:02:18.268Z"
   },
   {
    "duration": 39,
    "start_time": "2022-11-08T08:02:18.308Z"
   },
   {
    "duration": 12,
    "start_time": "2022-11-08T08:02:18.348Z"
   },
   {
    "duration": 41,
    "start_time": "2022-11-08T08:02:18.361Z"
   },
   {
    "duration": 14,
    "start_time": "2022-11-08T08:02:18.403Z"
   },
   {
    "duration": 5,
    "start_time": "2022-11-08T08:02:18.418Z"
   },
   {
    "duration": 5,
    "start_time": "2022-11-08T08:02:18.425Z"
   },
   {
    "duration": 6,
    "start_time": "2022-11-08T08:02:18.431Z"
   },
   {
    "duration": 93,
    "start_time": "2022-11-08T08:02:18.439Z"
   },
   {
    "duration": 40,
    "start_time": "2022-11-08T08:02:18.533Z"
   },
   {
    "duration": 41,
    "start_time": "2022-11-08T08:02:18.574Z"
   },
   {
    "duration": 6,
    "start_time": "2022-11-08T08:02:18.616Z"
   },
   {
    "duration": 14,
    "start_time": "2022-11-08T08:02:18.623Z"
   },
   {
    "duration": 13,
    "start_time": "2022-11-08T08:02:18.639Z"
   },
   {
    "duration": 60,
    "start_time": "2022-11-08T08:02:18.653Z"
   },
   {
    "duration": 37,
    "start_time": "2022-11-08T08:02:18.714Z"
   },
   {
    "duration": 47,
    "start_time": "2022-11-08T08:02:18.753Z"
   },
   {
    "duration": 47,
    "start_time": "2022-11-08T08:02:18.801Z"
   },
   {
    "duration": 1730,
    "start_time": "2022-11-08T08:02:18.851Z"
   },
   {
    "duration": 45,
    "start_time": "2022-11-08T08:02:20.582Z"
   },
   {
    "duration": 609,
    "start_time": "2022-11-08T08:02:20.629Z"
   },
   {
    "duration": 8,
    "start_time": "2022-11-08T08:02:21.239Z"
   },
   {
    "duration": 161,
    "start_time": "2022-11-08T08:02:21.248Z"
   },
   {
    "duration": 8,
    "start_time": "2022-11-08T08:02:21.410Z"
   },
   {
    "duration": 181,
    "start_time": "2022-11-08T08:02:21.419Z"
   },
   {
    "duration": 38,
    "start_time": "2022-11-08T08:02:21.601Z"
   },
   {
    "duration": 206,
    "start_time": "2022-11-08T08:02:21.641Z"
   },
   {
    "duration": 3,
    "start_time": "2022-11-08T13:33:28.201Z"
   },
   {
    "duration": 453,
    "start_time": "2022-11-08T13:33:28.209Z"
   },
   {
    "duration": 43,
    "start_time": "2022-11-08T13:33:28.664Z"
   },
   {
    "duration": 39,
    "start_time": "2022-11-08T13:33:28.709Z"
   },
   {
    "duration": 54,
    "start_time": "2022-11-08T13:33:28.750Z"
   },
   {
    "duration": 16,
    "start_time": "2022-11-08T13:33:28.806Z"
   },
   {
    "duration": 23,
    "start_time": "2022-11-08T13:33:28.823Z"
   },
   {
    "duration": 94,
    "start_time": "2022-11-08T13:33:28.848Z"
   },
   {
    "duration": 56,
    "start_time": "2022-11-08T13:33:28.944Z"
   },
   {
    "duration": 26,
    "start_time": "2022-11-08T13:33:29.002Z"
   },
   {
    "duration": 42,
    "start_time": "2022-11-08T13:33:29.029Z"
   },
   {
    "duration": 16,
    "start_time": "2022-11-08T13:33:29.098Z"
   },
   {
    "duration": 17,
    "start_time": "2022-11-08T13:33:29.116Z"
   },
   {
    "duration": 16,
    "start_time": "2022-11-08T13:33:29.135Z"
   },
   {
    "duration": 7,
    "start_time": "2022-11-08T13:33:29.155Z"
   },
   {
    "duration": 37,
    "start_time": "2022-11-08T13:33:29.164Z"
   },
   {
    "duration": 17,
    "start_time": "2022-11-08T13:33:29.202Z"
   },
   {
    "duration": 62,
    "start_time": "2022-11-08T13:33:29.221Z"
   },
   {
    "duration": 49,
    "start_time": "2022-11-08T13:33:29.285Z"
   },
   {
    "duration": 21,
    "start_time": "2022-11-08T13:33:29.336Z"
   },
   {
    "duration": 6,
    "start_time": "2022-11-08T13:33:29.358Z"
   },
   {
    "duration": 35,
    "start_time": "2022-11-08T13:33:29.366Z"
   },
   {
    "duration": 9,
    "start_time": "2022-11-08T13:33:29.403Z"
   },
   {
    "duration": 46,
    "start_time": "2022-11-08T13:33:29.413Z"
   },
   {
    "duration": 59,
    "start_time": "2022-11-08T13:33:29.461Z"
   },
   {
    "duration": 29,
    "start_time": "2022-11-08T13:33:29.522Z"
   },
   {
    "duration": 72,
    "start_time": "2022-11-08T13:33:29.552Z"
   },
   {
    "duration": 1820,
    "start_time": "2022-11-08T13:33:29.626Z"
   },
   {
    "duration": 62,
    "start_time": "2022-11-08T13:33:31.448Z"
   },
   {
    "duration": 225,
    "start_time": "2022-11-08T13:33:31.512Z"
   },
   {
    "duration": 8,
    "start_time": "2022-11-08T13:33:31.739Z"
   },
   {
    "duration": 157,
    "start_time": "2022-11-08T13:33:31.749Z"
   },
   {
    "duration": 9,
    "start_time": "2022-11-08T13:33:31.908Z"
   },
   {
    "duration": 236,
    "start_time": "2022-11-08T13:33:31.919Z"
   },
   {
    "duration": 51,
    "start_time": "2022-11-08T13:33:32.157Z"
   },
   {
    "duration": 201,
    "start_time": "2022-11-08T13:33:32.210Z"
   },
   {
    "duration": 2,
    "start_time": "2022-11-08T13:45:20.441Z"
   },
   {
    "duration": 374,
    "start_time": "2022-11-08T13:45:20.449Z"
   },
   {
    "duration": 40,
    "start_time": "2022-11-08T13:45:20.825Z"
   },
   {
    "duration": 34,
    "start_time": "2022-11-08T13:45:20.866Z"
   },
   {
    "duration": 30,
    "start_time": "2022-11-08T13:45:20.901Z"
   },
   {
    "duration": 13,
    "start_time": "2022-11-08T13:45:20.933Z"
   },
   {
    "duration": 33,
    "start_time": "2022-11-08T13:45:20.948Z"
   },
   {
    "duration": 70,
    "start_time": "2022-11-08T13:45:20.982Z"
   },
   {
    "duration": 50,
    "start_time": "2022-11-08T13:45:21.053Z"
   },
   {
    "duration": 23,
    "start_time": "2022-11-08T13:45:21.105Z"
   },
   {
    "duration": 38,
    "start_time": "2022-11-08T13:45:21.130Z"
   },
   {
    "duration": 37,
    "start_time": "2022-11-08T13:45:21.170Z"
   },
   {
    "duration": 6,
    "start_time": "2022-11-08T13:45:21.208Z"
   },
   {
    "duration": 14,
    "start_time": "2022-11-08T13:45:21.215Z"
   },
   {
    "duration": 6,
    "start_time": "2022-11-08T13:45:21.232Z"
   },
   {
    "duration": 6,
    "start_time": "2022-11-08T13:45:21.240Z"
   },
   {
    "duration": 52,
    "start_time": "2022-11-08T13:45:21.247Z"
   },
   {
    "duration": 60,
    "start_time": "2022-11-08T13:45:21.301Z"
   },
   {
    "duration": 41,
    "start_time": "2022-11-08T13:45:21.363Z"
   },
   {
    "duration": 20,
    "start_time": "2022-11-08T13:45:21.405Z"
   },
   {
    "duration": 5,
    "start_time": "2022-11-08T13:45:21.426Z"
   },
   {
    "duration": 8,
    "start_time": "2022-11-08T13:45:21.432Z"
   },
   {
    "duration": 6,
    "start_time": "2022-11-08T13:45:21.441Z"
   },
   {
    "duration": 74,
    "start_time": "2022-11-08T13:45:21.449Z"
   },
   {
    "duration": 38,
    "start_time": "2022-11-08T13:45:21.525Z"
   },
   {
    "duration": 49,
    "start_time": "2022-11-08T13:45:21.564Z"
   },
   {
    "duration": 55,
    "start_time": "2022-11-08T13:45:21.615Z"
   },
   {
    "duration": 1799,
    "start_time": "2022-11-08T13:45:21.672Z"
   },
   {
    "duration": 46,
    "start_time": "2022-11-08T13:45:23.472Z"
   },
   {
    "duration": 220,
    "start_time": "2022-11-08T13:45:23.519Z"
   },
   {
    "duration": 9,
    "start_time": "2022-11-08T13:45:23.741Z"
   },
   {
    "duration": 176,
    "start_time": "2022-11-08T13:45:23.752Z"
   },
   {
    "duration": 9,
    "start_time": "2022-11-08T13:45:23.930Z"
   },
   {
    "duration": 211,
    "start_time": "2022-11-08T13:45:23.941Z"
   },
   {
    "duration": 46,
    "start_time": "2022-11-08T13:45:24.154Z"
   },
   {
    "duration": 195,
    "start_time": "2022-11-08T13:45:24.201Z"
   },
   {
    "duration": 7,
    "start_time": "2022-11-08T13:47:19.274Z"
   },
   {
    "duration": 97,
    "start_time": "2022-11-08T13:47:56.222Z"
   },
   {
    "duration": 192,
    "start_time": "2022-11-08T13:48:12.599Z"
   },
   {
    "duration": 249,
    "start_time": "2022-11-08T13:48:35.869Z"
   },
   {
    "duration": 213,
    "start_time": "2022-11-08T13:48:46.789Z"
   },
   {
    "duration": 182,
    "start_time": "2022-11-08T13:48:59.285Z"
   },
   {
    "duration": 169,
    "start_time": "2022-11-08T13:49:11.923Z"
   },
   {
    "duration": 143,
    "start_time": "2022-11-08T13:49:31.073Z"
   },
   {
    "duration": 160,
    "start_time": "2022-11-08T13:49:39.777Z"
   },
   {
    "duration": 8,
    "start_time": "2022-11-08T14:00:32.084Z"
   },
   {
    "duration": 209,
    "start_time": "2022-11-08T14:01:56.685Z"
   },
   {
    "duration": 866,
    "start_time": "2022-11-09T17:24:07.424Z"
   },
   {
    "duration": 814,
    "start_time": "2022-11-09T17:24:08.292Z"
   },
   {
    "duration": 40,
    "start_time": "2022-11-09T17:24:09.108Z"
   },
   {
    "duration": 34,
    "start_time": "2022-11-09T17:24:09.150Z"
   },
   {
    "duration": 36,
    "start_time": "2022-11-09T17:24:09.186Z"
   },
   {
    "duration": 13,
    "start_time": "2022-11-09T17:24:09.224Z"
   },
   {
    "duration": 23,
    "start_time": "2022-11-09T17:24:09.239Z"
   },
   {
    "duration": 81,
    "start_time": "2022-11-09T17:24:09.264Z"
   },
   {
    "duration": 55,
    "start_time": "2022-11-09T17:24:09.347Z"
   },
   {
    "duration": 24,
    "start_time": "2022-11-09T17:24:09.404Z"
   },
   {
    "duration": 60,
    "start_time": "2022-11-09T17:24:09.430Z"
   },
   {
    "duration": 13,
    "start_time": "2022-11-09T17:24:09.492Z"
   },
   {
    "duration": 10,
    "start_time": "2022-11-09T17:24:09.507Z"
   },
   {
    "duration": 12,
    "start_time": "2022-11-09T17:24:09.518Z"
   },
   {
    "duration": 16,
    "start_time": "2022-11-09T17:24:09.532Z"
   },
   {
    "duration": 11,
    "start_time": "2022-11-09T17:24:09.550Z"
   },
   {
    "duration": 5,
    "start_time": "2022-11-09T17:24:09.586Z"
   },
   {
    "duration": 69,
    "start_time": "2022-11-09T17:24:09.593Z"
   },
   {
    "duration": 44,
    "start_time": "2022-11-09T17:24:09.663Z"
   },
   {
    "duration": 23,
    "start_time": "2022-11-09T17:24:09.708Z"
   },
   {
    "duration": 6,
    "start_time": "2022-11-09T17:24:09.732Z"
   },
   {
    "duration": 8,
    "start_time": "2022-11-09T17:24:09.739Z"
   },
   {
    "duration": 5,
    "start_time": "2022-11-09T17:24:09.748Z"
   },
   {
    "duration": 69,
    "start_time": "2022-11-09T17:24:09.755Z"
   },
   {
    "duration": 40,
    "start_time": "2022-11-09T17:24:09.826Z"
   },
   {
    "duration": 47,
    "start_time": "2022-11-09T17:24:09.868Z"
   },
   {
    "duration": 48,
    "start_time": "2022-11-09T17:24:09.917Z"
   },
   {
    "duration": 1837,
    "start_time": "2022-11-09T17:24:09.985Z"
   },
   {
    "duration": 38,
    "start_time": "2022-11-09T17:24:11.823Z"
   },
   {
    "duration": 646,
    "start_time": "2022-11-09T17:24:11.863Z"
   },
   {
    "duration": 9,
    "start_time": "2022-11-09T17:24:12.512Z"
   },
   {
    "duration": 200,
    "start_time": "2022-11-09T17:24:12.523Z"
   },
   {
    "duration": 9,
    "start_time": "2022-11-09T17:24:12.726Z"
   },
   {
    "duration": 201,
    "start_time": "2022-11-09T17:24:12.737Z"
   },
   {
    "duration": 48,
    "start_time": "2022-11-09T17:24:12.940Z"
   },
   {
    "duration": 216,
    "start_time": "2022-11-09T17:24:12.990Z"
   },
   {
    "duration": 8,
    "start_time": "2022-11-09T17:24:13.208Z"
   },
   {
    "duration": 283,
    "start_time": "2022-11-09T17:24:13.218Z"
   },
   {
    "duration": 7,
    "start_time": "2022-11-09T17:24:13.503Z"
   },
   {
    "duration": 227,
    "start_time": "2022-11-09T17:24:13.512Z"
   },
   {
    "duration": 874,
    "start_time": "2022-11-10T15:28:51.976Z"
   },
   {
    "duration": 837,
    "start_time": "2022-11-10T15:28:52.852Z"
   },
   {
    "duration": 39,
    "start_time": "2022-11-10T15:28:53.691Z"
   },
   {
    "duration": 30,
    "start_time": "2022-11-10T15:28:53.732Z"
   },
   {
    "duration": 25,
    "start_time": "2022-11-10T15:28:53.779Z"
   },
   {
    "duration": 24,
    "start_time": "2022-11-10T15:28:53.807Z"
   },
   {
    "duration": 55,
    "start_time": "2022-11-10T15:28:53.833Z"
   },
   {
    "duration": 93,
    "start_time": "2022-11-10T15:28:53.890Z"
   },
   {
    "duration": 47,
    "start_time": "2022-11-10T15:28:53.986Z"
   },
   {
    "duration": 46,
    "start_time": "2022-11-10T15:28:54.035Z"
   },
   {
    "duration": 39,
    "start_time": "2022-11-10T15:28:54.083Z"
   },
   {
    "duration": 13,
    "start_time": "2022-11-10T15:28:54.124Z"
   },
   {
    "duration": 14,
    "start_time": "2022-11-10T15:28:54.138Z"
   },
   {
    "duration": 30,
    "start_time": "2022-11-10T15:28:54.153Z"
   },
   {
    "duration": 10,
    "start_time": "2022-11-10T15:28:54.184Z"
   },
   {
    "duration": 10,
    "start_time": "2022-11-10T15:28:54.196Z"
   },
   {
    "duration": 10,
    "start_time": "2022-11-10T15:28:54.207Z"
   },
   {
    "duration": 79,
    "start_time": "2022-11-10T15:28:54.219Z"
   },
   {
    "duration": 41,
    "start_time": "2022-11-10T15:28:54.300Z"
   },
   {
    "duration": 44,
    "start_time": "2022-11-10T15:28:54.343Z"
   },
   {
    "duration": 4,
    "start_time": "2022-11-10T15:28:54.389Z"
   },
   {
    "duration": 11,
    "start_time": "2022-11-10T15:28:54.395Z"
   },
   {
    "duration": 5,
    "start_time": "2022-11-10T15:28:54.408Z"
   },
   {
    "duration": 68,
    "start_time": "2022-11-10T15:28:54.415Z"
   },
   {
    "duration": 45,
    "start_time": "2022-11-10T15:28:54.485Z"
   },
   {
    "duration": 53,
    "start_time": "2022-11-10T15:28:54.532Z"
   },
   {
    "duration": 51,
    "start_time": "2022-11-10T15:28:54.587Z"
   },
   {
    "duration": 1738,
    "start_time": "2022-11-10T15:28:54.641Z"
   },
   {
    "duration": 35,
    "start_time": "2022-11-10T15:28:56.381Z"
   },
   {
    "duration": 615,
    "start_time": "2022-11-10T15:28:56.418Z"
   },
   {
    "duration": 8,
    "start_time": "2022-11-10T15:28:57.035Z"
   },
   {
    "duration": 176,
    "start_time": "2022-11-10T15:28:57.044Z"
   },
   {
    "duration": 8,
    "start_time": "2022-11-10T15:28:57.222Z"
   },
   {
    "duration": 187,
    "start_time": "2022-11-10T15:28:57.231Z"
   },
   {
    "duration": 36,
    "start_time": "2022-11-10T15:28:57.419Z"
   },
   {
    "duration": 206,
    "start_time": "2022-11-10T15:28:57.457Z"
   },
   {
    "duration": 15,
    "start_time": "2022-11-10T15:28:57.665Z"
   },
   {
    "duration": 260,
    "start_time": "2022-11-10T15:28:57.681Z"
   },
   {
    "duration": 7,
    "start_time": "2022-11-10T15:28:57.942Z"
   },
   {
    "duration": 195,
    "start_time": "2022-11-10T15:28:57.951Z"
   },
   {
    "duration": 3,
    "start_time": "2022-11-10T16:22:33.088Z"
   },
   {
    "duration": 415,
    "start_time": "2022-11-10T16:22:33.097Z"
   },
   {
    "duration": 36,
    "start_time": "2022-11-10T16:22:33.514Z"
   },
   {
    "duration": 30,
    "start_time": "2022-11-10T16:22:33.552Z"
   },
   {
    "duration": 24,
    "start_time": "2022-11-10T16:22:33.584Z"
   },
   {
    "duration": 16,
    "start_time": "2022-11-10T16:22:33.610Z"
   },
   {
    "duration": 53,
    "start_time": "2022-11-10T16:22:33.628Z"
   },
   {
    "duration": 62,
    "start_time": "2022-11-10T16:22:33.683Z"
   },
   {
    "duration": 59,
    "start_time": "2022-11-10T16:22:33.747Z"
   },
   {
    "duration": 25,
    "start_time": "2022-11-10T16:22:33.808Z"
   },
   {
    "duration": 82,
    "start_time": "2022-11-10T16:22:33.835Z"
   },
   {
    "duration": 18,
    "start_time": "2022-11-10T16:22:33.920Z"
   },
   {
    "duration": 19,
    "start_time": "2022-11-10T16:22:33.940Z"
   },
   {
    "duration": 33,
    "start_time": "2022-11-10T16:22:33.961Z"
   },
   {
    "duration": 11,
    "start_time": "2022-11-10T16:22:33.998Z"
   },
   {
    "duration": 7,
    "start_time": "2022-11-10T16:22:34.014Z"
   },
   {
    "duration": 12,
    "start_time": "2022-11-10T16:22:34.022Z"
   },
   {
    "duration": 80,
    "start_time": "2022-11-10T16:22:34.036Z"
   },
   {
    "duration": 44,
    "start_time": "2022-11-10T16:22:34.119Z"
   },
   {
    "duration": 22,
    "start_time": "2022-11-10T16:22:34.177Z"
   },
   {
    "duration": 5,
    "start_time": "2022-11-10T16:22:34.201Z"
   },
   {
    "duration": 7,
    "start_time": "2022-11-10T16:22:34.208Z"
   },
   {
    "duration": 17,
    "start_time": "2022-11-10T16:22:34.217Z"
   },
   {
    "duration": 79,
    "start_time": "2022-11-10T16:22:34.236Z"
   },
   {
    "duration": 62,
    "start_time": "2022-11-10T16:22:34.316Z"
   },
   {
    "duration": 33,
    "start_time": "2022-11-10T16:22:34.380Z"
   },
   {
    "duration": 82,
    "start_time": "2022-11-10T16:22:34.415Z"
   },
   {
    "duration": 1960,
    "start_time": "2022-11-10T16:22:34.499Z"
   },
   {
    "duration": 44,
    "start_time": "2022-11-10T16:22:36.461Z"
   },
   {
    "duration": 203,
    "start_time": "2022-11-10T16:22:36.507Z"
   },
   {
    "duration": 7,
    "start_time": "2022-11-10T16:22:36.712Z"
   },
   {
    "duration": 192,
    "start_time": "2022-11-10T16:22:36.721Z"
   },
   {
    "duration": 8,
    "start_time": "2022-11-10T16:22:36.914Z"
   },
   {
    "duration": 196,
    "start_time": "2022-11-10T16:22:36.923Z"
   },
   {
    "duration": 37,
    "start_time": "2022-11-10T16:22:37.121Z"
   },
   {
    "duration": 207,
    "start_time": "2022-11-10T16:22:37.159Z"
   },
   {
    "duration": 13,
    "start_time": "2022-11-10T16:22:37.367Z"
   },
   {
    "duration": 289,
    "start_time": "2022-11-10T16:22:37.383Z"
   },
   {
    "duration": 10,
    "start_time": "2022-11-10T16:22:37.674Z"
   },
   {
    "duration": 229,
    "start_time": "2022-11-10T16:22:37.686Z"
   },
   {
    "duration": 1199,
    "start_time": "2022-11-10T16:32:02.963Z"
   },
   {
    "duration": 12,
    "start_time": "2022-11-10T16:32:37.583Z"
   },
   {
    "duration": 11,
    "start_time": "2022-11-10T16:33:28.775Z"
   },
   {
    "duration": 5,
    "start_time": "2022-11-10T16:56:40.718Z"
   },
   {
    "duration": 20,
    "start_time": "2022-11-10T16:57:15.475Z"
   },
   {
    "duration": 49,
    "start_time": "2022-11-10T16:58:50.449Z"
   },
   {
    "duration": 12,
    "start_time": "2022-11-10T17:10:29.487Z"
   },
   {
    "duration": 1019,
    "start_time": "2022-11-11T15:43:38.143Z"
   },
   {
    "duration": 1160,
    "start_time": "2022-11-11T15:43:39.166Z"
   },
   {
    "duration": 58,
    "start_time": "2022-11-11T15:43:40.328Z"
   },
   {
    "duration": 41,
    "start_time": "2022-11-11T15:43:40.389Z"
   },
   {
    "duration": 32,
    "start_time": "2022-11-11T15:43:40.453Z"
   },
   {
    "duration": 19,
    "start_time": "2022-11-11T15:43:40.487Z"
   },
   {
    "duration": 71,
    "start_time": "2022-11-11T15:43:40.507Z"
   },
   {
    "duration": 101,
    "start_time": "2022-11-11T15:43:40.580Z"
   },
   {
    "duration": 83,
    "start_time": "2022-11-11T15:43:40.685Z"
   },
   {
    "duration": 29,
    "start_time": "2022-11-11T15:43:40.772Z"
   },
   {
    "duration": 77,
    "start_time": "2022-11-11T15:43:40.803Z"
   },
   {
    "duration": 16,
    "start_time": "2022-11-11T15:43:40.881Z"
   },
   {
    "duration": 10,
    "start_time": "2022-11-11T15:43:40.899Z"
   },
   {
    "duration": 49,
    "start_time": "2022-11-11T15:43:40.910Z"
   },
   {
    "duration": 9,
    "start_time": "2022-11-11T15:43:40.960Z"
   },
   {
    "duration": 7,
    "start_time": "2022-11-11T15:43:40.971Z"
   },
   {
    "duration": 10,
    "start_time": "2022-11-11T15:43:40.980Z"
   },
   {
    "duration": 98,
    "start_time": "2022-11-11T15:43:40.992Z"
   },
   {
    "duration": 74,
    "start_time": "2022-11-11T15:43:41.092Z"
   },
   {
    "duration": 29,
    "start_time": "2022-11-11T15:43:41.167Z"
   },
   {
    "duration": 6,
    "start_time": "2022-11-11T15:43:41.198Z"
   },
   {
    "duration": 17,
    "start_time": "2022-11-11T15:43:41.206Z"
   },
   {
    "duration": 15,
    "start_time": "2022-11-11T15:43:41.226Z"
   },
   {
    "duration": 73,
    "start_time": "2022-11-11T15:43:41.243Z"
   },
   {
    "duration": 65,
    "start_time": "2022-11-11T15:43:41.317Z"
   },
   {
    "duration": 44,
    "start_time": "2022-11-11T15:43:41.385Z"
   },
   {
    "duration": 84,
    "start_time": "2022-11-11T15:43:41.431Z"
   },
   {
    "duration": 2333,
    "start_time": "2022-11-11T15:43:41.519Z"
   },
   {
    "duration": 52,
    "start_time": "2022-11-11T15:43:43.854Z"
   },
   {
    "duration": 858,
    "start_time": "2022-11-11T15:43:43.907Z"
   },
   {
    "duration": 12,
    "start_time": "2022-11-11T15:43:44.767Z"
   },
   {
    "duration": 252,
    "start_time": "2022-11-11T15:43:44.781Z"
   },
   {
    "duration": 29,
    "start_time": "2022-11-11T15:43:45.036Z"
   },
   {
    "duration": 273,
    "start_time": "2022-11-11T15:43:45.067Z"
   },
   {
    "duration": 64,
    "start_time": "2022-11-11T15:43:45.341Z"
   },
   {
    "duration": 274,
    "start_time": "2022-11-11T15:43:45.406Z"
   },
   {
    "duration": 10,
    "start_time": "2022-11-11T15:43:45.682Z"
   },
   {
    "duration": 372,
    "start_time": "2022-11-11T15:43:45.694Z"
   },
   {
    "duration": 11,
    "start_time": "2022-11-11T15:43:46.068Z"
   },
   {
    "duration": 279,
    "start_time": "2022-11-11T15:43:46.080Z"
   },
   {
    "duration": 16,
    "start_time": "2022-11-11T15:43:46.367Z"
   },
   {
    "duration": 100,
    "start_time": "2022-11-11T15:43:46.385Z"
   },
   {
    "duration": 14,
    "start_time": "2022-11-11T15:43:46.487Z"
   },
   {
    "duration": 17,
    "start_time": "2022-11-11T16:05:26.272Z"
   },
   {
    "duration": 4,
    "start_time": "2022-11-11T17:08:06.116Z"
   },
   {
    "duration": 590,
    "start_time": "2022-11-11T17:08:06.127Z"
   },
   {
    "duration": 45,
    "start_time": "2022-11-11T17:08:06.719Z"
   },
   {
    "duration": 42,
    "start_time": "2022-11-11T17:08:06.766Z"
   },
   {
    "duration": 58,
    "start_time": "2022-11-11T17:08:06.812Z"
   },
   {
    "duration": 17,
    "start_time": "2022-11-11T17:08:06.871Z"
   },
   {
    "duration": 23,
    "start_time": "2022-11-11T17:08:06.890Z"
   },
   {
    "duration": 65,
    "start_time": "2022-11-11T17:08:06.951Z"
   },
   {
    "duration": 63,
    "start_time": "2022-11-11T17:08:07.017Z"
   },
   {
    "duration": 25,
    "start_time": "2022-11-11T17:08:07.082Z"
   },
   {
    "duration": 72,
    "start_time": "2022-11-11T17:08:07.111Z"
   },
   {
    "duration": 16,
    "start_time": "2022-11-11T17:08:07.185Z"
   },
   {
    "duration": 16,
    "start_time": "2022-11-11T17:08:07.203Z"
   },
   {
    "duration": 35,
    "start_time": "2022-11-11T17:08:07.221Z"
   },
   {
    "duration": 7,
    "start_time": "2022-11-11T17:08:07.259Z"
   },
   {
    "duration": 8,
    "start_time": "2022-11-11T17:08:07.268Z"
   },
   {
    "duration": 17,
    "start_time": "2022-11-11T17:08:07.278Z"
   },
   {
    "duration": 98,
    "start_time": "2022-11-11T17:08:07.298Z"
   },
   {
    "duration": 60,
    "start_time": "2022-11-11T17:08:07.398Z"
   },
   {
    "duration": 25,
    "start_time": "2022-11-11T17:08:07.460Z"
   },
   {
    "duration": 6,
    "start_time": "2022-11-11T17:08:07.487Z"
   },
   {
    "duration": 9,
    "start_time": "2022-11-11T17:08:07.495Z"
   },
   {
    "duration": 9,
    "start_time": "2022-11-11T17:08:07.506Z"
   },
   {
    "duration": 82,
    "start_time": "2022-11-11T17:08:07.517Z"
   },
   {
    "duration": 76,
    "start_time": "2022-11-11T17:08:07.602Z"
   },
   {
    "duration": 44,
    "start_time": "2022-11-11T17:08:07.680Z"
   },
   {
    "duration": 86,
    "start_time": "2022-11-11T17:08:07.726Z"
   },
   {
    "duration": 2201,
    "start_time": "2022-11-11T17:08:07.814Z"
   },
   {
    "duration": 55,
    "start_time": "2022-11-11T17:08:10.020Z"
   },
   {
    "duration": 276,
    "start_time": "2022-11-11T17:08:10.077Z"
   },
   {
    "duration": 9,
    "start_time": "2022-11-11T17:08:10.356Z"
   },
   {
    "duration": 221,
    "start_time": "2022-11-11T17:08:10.367Z"
   },
   {
    "duration": 10,
    "start_time": "2022-11-11T17:08:10.590Z"
   },
   {
    "duration": 279,
    "start_time": "2022-11-11T17:08:10.602Z"
   },
   {
    "duration": 71,
    "start_time": "2022-11-11T17:08:10.883Z"
   },
   {
    "duration": 262,
    "start_time": "2022-11-11T17:08:10.956Z"
   },
   {
    "duration": 10,
    "start_time": "2022-11-11T17:08:11.220Z"
   },
   {
    "duration": 264,
    "start_time": "2022-11-11T17:08:11.233Z"
   },
   {
    "duration": 10,
    "start_time": "2022-11-11T17:08:11.499Z"
   },
   {
    "duration": 374,
    "start_time": "2022-11-11T17:08:11.512Z"
   },
   {
    "duration": 17,
    "start_time": "2022-11-11T17:08:11.887Z"
   },
   {
    "duration": 92,
    "start_time": "2022-11-11T17:08:11.906Z"
   },
   {
    "duration": 14,
    "start_time": "2022-11-11T17:08:12.000Z"
   },
   {
    "duration": 357,
    "start_time": "2022-11-11T17:17:57.180Z"
   },
   {
    "duration": 107,
    "start_time": "2022-11-11T17:19:54.974Z"
   },
   {
    "duration": 473,
    "start_time": "2022-11-11T17:19:55.083Z"
   },
   {
    "duration": 42,
    "start_time": "2022-11-11T17:19:55.558Z"
   },
   {
    "duration": 67,
    "start_time": "2022-11-11T17:19:55.603Z"
   },
   {
    "duration": 33,
    "start_time": "2022-11-11T17:19:55.673Z"
   },
   {
    "duration": 48,
    "start_time": "2022-11-11T17:19:55.708Z"
   },
   {
    "duration": 25,
    "start_time": "2022-11-11T17:19:55.758Z"
   },
   {
    "duration": 97,
    "start_time": "2022-11-11T17:19:55.786Z"
   },
   {
    "duration": 42,
    "start_time": "2022-11-11T17:19:55.885Z"
   },
   {
    "duration": 30,
    "start_time": "2022-11-11T17:19:55.950Z"
   },
   {
    "duration": 999,
    "start_time": "2022-11-11T17:19:55.982Z"
   },
   {
    "duration": 18,
    "start_time": "2022-11-11T17:19:56.983Z"
   },
   {
    "duration": 16,
    "start_time": "2022-11-11T17:19:57.004Z"
   },
   {
    "duration": 43,
    "start_time": "2022-11-11T17:19:57.022Z"
   },
   {
    "duration": 19,
    "start_time": "2022-11-11T17:19:57.067Z"
   },
   {
    "duration": 9,
    "start_time": "2022-11-11T17:19:57.088Z"
   },
   {
    "duration": 25,
    "start_time": "2022-11-11T17:19:57.100Z"
   },
   {
    "duration": 75,
    "start_time": "2022-11-11T17:19:57.126Z"
   },
   {
    "duration": 57,
    "start_time": "2022-11-11T17:19:57.203Z"
   },
   {
    "duration": 27,
    "start_time": "2022-11-11T17:19:57.262Z"
   },
   {
    "duration": 6,
    "start_time": "2022-11-11T17:19:57.291Z"
   },
   {
    "duration": 14,
    "start_time": "2022-11-11T17:19:57.299Z"
   },
   {
    "duration": 37,
    "start_time": "2022-11-11T17:19:57.315Z"
   },
   {
    "duration": 51,
    "start_time": "2022-11-11T17:19:57.354Z"
   },
   {
    "duration": 72,
    "start_time": "2022-11-11T17:19:57.408Z"
   },
   {
    "duration": 37,
    "start_time": "2022-11-11T17:19:57.482Z"
   },
   {
    "duration": 80,
    "start_time": "2022-11-11T17:19:57.521Z"
   },
   {
    "duration": 2378,
    "start_time": "2022-11-11T17:19:57.606Z"
   },
   {
    "duration": 64,
    "start_time": "2022-11-11T17:19:59.987Z"
   },
   {
    "duration": 233,
    "start_time": "2022-11-11T17:20:00.053Z"
   },
   {
    "duration": 8,
    "start_time": "2022-11-11T17:20:00.288Z"
   },
   {
    "duration": 220,
    "start_time": "2022-11-11T17:20:00.298Z"
   },
   {
    "duration": 10,
    "start_time": "2022-11-11T17:20:00.520Z"
   },
   {
    "duration": 260,
    "start_time": "2022-11-11T17:20:00.533Z"
   },
   {
    "duration": 58,
    "start_time": "2022-11-11T17:20:00.795Z"
   },
   {
    "duration": 372,
    "start_time": "2022-11-11T17:20:00.856Z"
   },
   {
    "duration": 21,
    "start_time": "2022-11-11T17:20:01.230Z"
   },
   {
    "duration": 266,
    "start_time": "2022-11-11T17:20:01.253Z"
   },
   {
    "duration": 9,
    "start_time": "2022-11-11T17:20:01.521Z"
   },
   {
    "duration": 242,
    "start_time": "2022-11-11T17:20:01.550Z"
   },
   {
    "duration": 17,
    "start_time": "2022-11-11T17:20:01.795Z"
   },
   {
    "duration": 88,
    "start_time": "2022-11-11T17:20:01.814Z"
   },
   {
    "duration": 13,
    "start_time": "2022-11-11T17:20:01.904Z"
   },
   {
    "duration": 241,
    "start_time": "2022-11-11T17:20:55.629Z"
   },
   {
    "duration": 4,
    "start_time": "2022-11-11T17:21:24.330Z"
   },
   {
    "duration": 440,
    "start_time": "2022-11-11T17:21:24.336Z"
   },
   {
    "duration": 42,
    "start_time": "2022-11-11T17:21:24.778Z"
   },
   {
    "duration": 41,
    "start_time": "2022-11-11T17:21:24.822Z"
   },
   {
    "duration": 31,
    "start_time": "2022-11-11T17:21:24.865Z"
   },
   {
    "duration": 18,
    "start_time": "2022-11-11T17:21:24.899Z"
   },
   {
    "duration": 30,
    "start_time": "2022-11-11T17:21:24.950Z"
   },
   {
    "duration": 90,
    "start_time": "2022-11-11T17:21:24.982Z"
   },
   {
    "duration": 43,
    "start_time": "2022-11-11T17:21:25.075Z"
   },
   {
    "duration": 47,
    "start_time": "2022-11-11T17:21:25.120Z"
   },
   {
    "duration": 54,
    "start_time": "2022-11-11T17:21:25.168Z"
   },
   {
    "duration": 39,
    "start_time": "2022-11-11T17:21:25.224Z"
   },
   {
    "duration": 17,
    "start_time": "2022-11-11T17:21:25.265Z"
   },
   {
    "duration": 16,
    "start_time": "2022-11-11T17:21:25.285Z"
   },
   {
    "duration": 11,
    "start_time": "2022-11-11T17:21:25.303Z"
   },
   {
    "duration": 35,
    "start_time": "2022-11-11T17:21:25.317Z"
   },
   {
    "duration": 9,
    "start_time": "2022-11-11T17:21:25.354Z"
   },
   {
    "duration": 63,
    "start_time": "2022-11-11T17:21:25.365Z"
   },
   {
    "duration": 42,
    "start_time": "2022-11-11T17:21:25.451Z"
   },
   {
    "duration": 23,
    "start_time": "2022-11-11T17:21:25.495Z"
   },
   {
    "duration": 33,
    "start_time": "2022-11-11T17:21:25.519Z"
   },
   {
    "duration": 9,
    "start_time": "2022-11-11T17:21:25.554Z"
   },
   {
    "duration": 11,
    "start_time": "2022-11-11T17:21:25.565Z"
   },
   {
    "duration": 71,
    "start_time": "2022-11-11T17:21:25.581Z"
   },
   {
    "duration": 45,
    "start_time": "2022-11-11T17:21:25.654Z"
   },
   {
    "duration": 64,
    "start_time": "2022-11-11T17:21:25.701Z"
   },
   {
    "duration": 57,
    "start_time": "2022-11-11T17:21:25.767Z"
   },
   {
    "duration": 2141,
    "start_time": "2022-11-11T17:21:25.826Z"
   },
   {
    "duration": 46,
    "start_time": "2022-11-11T17:21:27.969Z"
   },
   {
    "duration": 279,
    "start_time": "2022-11-11T17:21:28.018Z"
   },
   {
    "duration": 0,
    "start_time": "2022-11-11T17:21:28.300Z"
   },
   {
    "duration": 0,
    "start_time": "2022-11-11T17:21:28.302Z"
   },
   {
    "duration": 0,
    "start_time": "2022-11-11T17:21:28.303Z"
   },
   {
    "duration": 0,
    "start_time": "2022-11-11T17:21:28.305Z"
   },
   {
    "duration": 0,
    "start_time": "2022-11-11T17:21:28.307Z"
   },
   {
    "duration": 0,
    "start_time": "2022-11-11T17:21:28.308Z"
   },
   {
    "duration": 0,
    "start_time": "2022-11-11T17:21:28.310Z"
   },
   {
    "duration": 0,
    "start_time": "2022-11-11T17:21:28.311Z"
   },
   {
    "duration": 0,
    "start_time": "2022-11-11T17:21:28.312Z"
   },
   {
    "duration": 0,
    "start_time": "2022-11-11T17:21:28.313Z"
   },
   {
    "duration": 0,
    "start_time": "2022-11-11T17:21:28.314Z"
   },
   {
    "duration": 0,
    "start_time": "2022-11-11T17:21:28.315Z"
   },
   {
    "duration": 0,
    "start_time": "2022-11-11T17:21:28.316Z"
   },
   {
    "duration": 258,
    "start_time": "2022-11-11T17:21:41.076Z"
   },
   {
    "duration": 3,
    "start_time": "2022-11-11T17:22:47.132Z"
   },
   {
    "duration": 451,
    "start_time": "2022-11-11T17:22:47.144Z"
   },
   {
    "duration": 40,
    "start_time": "2022-11-11T17:22:47.597Z"
   },
   {
    "duration": 38,
    "start_time": "2022-11-11T17:22:47.639Z"
   },
   {
    "duration": 30,
    "start_time": "2022-11-11T17:22:47.680Z"
   },
   {
    "duration": 46,
    "start_time": "2022-11-11T17:22:47.711Z"
   },
   {
    "duration": 26,
    "start_time": "2022-11-11T17:22:47.759Z"
   },
   {
    "duration": 98,
    "start_time": "2022-11-11T17:22:47.788Z"
   },
   {
    "duration": 43,
    "start_time": "2022-11-11T17:22:47.888Z"
   },
   {
    "duration": 23,
    "start_time": "2022-11-11T17:22:47.950Z"
   },
   {
    "duration": 48,
    "start_time": "2022-11-11T17:22:47.976Z"
   },
   {
    "duration": 39,
    "start_time": "2022-11-11T17:22:48.025Z"
   },
   {
    "duration": 12,
    "start_time": "2022-11-11T17:22:48.066Z"
   },
   {
    "duration": 15,
    "start_time": "2022-11-11T17:22:48.080Z"
   },
   {
    "duration": 7,
    "start_time": "2022-11-11T17:22:48.097Z"
   },
   {
    "duration": 47,
    "start_time": "2022-11-11T17:22:48.105Z"
   },
   {
    "duration": 10,
    "start_time": "2022-11-11T17:22:48.154Z"
   },
   {
    "duration": 55,
    "start_time": "2022-11-11T17:22:48.166Z"
   },
   {
    "duration": 66,
    "start_time": "2022-11-11T17:22:48.223Z"
   },
   {
    "duration": 23,
    "start_time": "2022-11-11T17:22:48.291Z"
   },
   {
    "duration": 6,
    "start_time": "2022-11-11T17:22:48.315Z"
   },
   {
    "duration": 36,
    "start_time": "2022-11-11T17:22:48.322Z"
   },
   {
    "duration": 7,
    "start_time": "2022-11-11T17:22:48.360Z"
   },
   {
    "duration": 48,
    "start_time": "2022-11-11T17:22:48.369Z"
   },
   {
    "duration": 69,
    "start_time": "2022-11-11T17:22:48.419Z"
   },
   {
    "duration": 34,
    "start_time": "2022-11-11T17:22:48.491Z"
   },
   {
    "duration": 94,
    "start_time": "2022-11-11T17:22:48.528Z"
   },
   {
    "duration": 2303,
    "start_time": "2022-11-11T17:22:48.624Z"
   },
   {
    "duration": 56,
    "start_time": "2022-11-11T17:22:50.932Z"
   },
   {
    "duration": 244,
    "start_time": "2022-11-11T17:22:50.990Z"
   },
   {
    "duration": 20,
    "start_time": "2022-11-11T17:22:51.235Z"
   },
   {
    "duration": 226,
    "start_time": "2022-11-11T17:22:51.256Z"
   },
   {
    "duration": 11,
    "start_time": "2022-11-11T17:22:51.485Z"
   },
   {
    "duration": 373,
    "start_time": "2022-11-11T17:22:51.498Z"
   },
   {
    "duration": 43,
    "start_time": "2022-11-11T17:22:51.873Z"
   },
   {
    "duration": 264,
    "start_time": "2022-11-11T17:22:51.918Z"
   },
   {
    "duration": 13,
    "start_time": "2022-11-11T17:22:52.184Z"
   },
   {
    "duration": 244,
    "start_time": "2022-11-11T17:22:52.200Z"
   },
   {
    "duration": 14,
    "start_time": "2022-11-11T17:22:52.446Z"
   },
   {
    "duration": 271,
    "start_time": "2022-11-11T17:22:52.462Z"
   },
   {
    "duration": 27,
    "start_time": "2022-11-11T17:22:52.735Z"
   },
   {
    "duration": 102,
    "start_time": "2022-11-11T17:22:52.764Z"
   },
   {
    "duration": 17,
    "start_time": "2022-11-11T17:22:52.869Z"
   },
   {
    "duration": 879,
    "start_time": "2022-11-11T18:59:12.722Z"
   },
   {
    "duration": 1312,
    "start_time": "2022-11-11T18:59:13.603Z"
   },
   {
    "duration": 38,
    "start_time": "2022-11-11T18:59:14.916Z"
   },
   {
    "duration": 31,
    "start_time": "2022-11-11T18:59:14.955Z"
   },
   {
    "duration": 46,
    "start_time": "2022-11-11T18:59:14.989Z"
   },
   {
    "duration": 15,
    "start_time": "2022-11-11T18:59:15.037Z"
   },
   {
    "duration": 27,
    "start_time": "2022-11-11T18:59:15.054Z"
   },
   {
    "duration": 86,
    "start_time": "2022-11-11T18:59:15.083Z"
   },
   {
    "duration": 56,
    "start_time": "2022-11-11T18:59:15.171Z"
   },
   {
    "duration": 30,
    "start_time": "2022-11-11T18:59:15.229Z"
   },
   {
    "duration": 77,
    "start_time": "2022-11-11T18:59:15.260Z"
   },
   {
    "duration": 19,
    "start_time": "2022-11-11T18:59:15.339Z"
   },
   {
    "duration": 10,
    "start_time": "2022-11-11T18:59:15.360Z"
   },
   {
    "duration": 11,
    "start_time": "2022-11-11T18:59:15.372Z"
   },
   {
    "duration": 37,
    "start_time": "2022-11-11T18:59:15.384Z"
   },
   {
    "duration": 9,
    "start_time": "2022-11-11T18:59:15.422Z"
   },
   {
    "duration": 32,
    "start_time": "2022-11-11T18:59:15.432Z"
   },
   {
    "duration": 58,
    "start_time": "2022-11-11T18:59:15.466Z"
   },
   {
    "duration": 41,
    "start_time": "2022-11-11T18:59:15.526Z"
   },
   {
    "duration": 26,
    "start_time": "2022-11-11T18:59:15.569Z"
   },
   {
    "duration": 25,
    "start_time": "2022-11-11T18:59:15.596Z"
   },
   {
    "duration": 12,
    "start_time": "2022-11-11T18:59:15.622Z"
   },
   {
    "duration": 13,
    "start_time": "2022-11-11T18:59:15.635Z"
   },
   {
    "duration": 51,
    "start_time": "2022-11-11T18:59:15.650Z"
   },
   {
    "duration": 43,
    "start_time": "2022-11-11T18:59:15.718Z"
   },
   {
    "duration": 32,
    "start_time": "2022-11-11T18:59:15.763Z"
   },
   {
    "duration": 73,
    "start_time": "2022-11-11T18:59:15.796Z"
   },
   {
    "duration": 2016,
    "start_time": "2022-11-11T18:59:15.870Z"
   },
   {
    "duration": 54,
    "start_time": "2022-11-11T18:59:17.887Z"
   },
   {
    "duration": 457,
    "start_time": "2022-11-11T18:59:17.943Z"
   },
   {
    "duration": 19,
    "start_time": "2022-11-11T18:59:18.402Z"
   },
   {
    "duration": 201,
    "start_time": "2022-11-11T18:59:18.423Z"
   },
   {
    "duration": 8,
    "start_time": "2022-11-11T18:59:18.625Z"
   },
   {
    "duration": 213,
    "start_time": "2022-11-11T18:59:18.634Z"
   },
   {
    "duration": 42,
    "start_time": "2022-11-11T18:59:18.849Z"
   },
   {
    "duration": 280,
    "start_time": "2022-11-11T18:59:18.893Z"
   },
   {
    "duration": 10,
    "start_time": "2022-11-11T18:59:19.176Z"
   },
   {
    "duration": 245,
    "start_time": "2022-11-11T18:59:19.187Z"
   },
   {
    "duration": 10,
    "start_time": "2022-11-11T18:59:19.434Z"
   },
   {
    "duration": 317,
    "start_time": "2022-11-11T18:59:19.445Z"
   },
   {
    "duration": 18,
    "start_time": "2022-11-11T18:59:19.767Z"
   },
   {
    "duration": 87,
    "start_time": "2022-11-11T18:59:19.787Z"
   },
   {
    "duration": 10,
    "start_time": "2022-11-11T18:59:19.876Z"
   },
   {
    "duration": 4,
    "start_time": "2022-11-11T20:13:23.190Z"
   },
   {
    "duration": 859,
    "start_time": "2022-11-12T16:57:13.867Z"
   },
   {
    "duration": 1412,
    "start_time": "2022-11-12T16:57:14.727Z"
   },
   {
    "duration": 58,
    "start_time": "2022-11-12T16:57:16.141Z"
   },
   {
    "duration": 32,
    "start_time": "2022-11-12T16:57:16.202Z"
   },
   {
    "duration": 52,
    "start_time": "2022-11-12T16:57:16.235Z"
   },
   {
    "duration": 15,
    "start_time": "2022-11-12T16:57:16.289Z"
   },
   {
    "duration": 17,
    "start_time": "2022-11-12T16:57:16.306Z"
   },
   {
    "duration": 85,
    "start_time": "2022-11-12T16:57:16.325Z"
   },
   {
    "duration": 47,
    "start_time": "2022-11-12T16:57:16.412Z"
   },
   {
    "duration": 23,
    "start_time": "2022-11-12T16:57:16.461Z"
   },
   {
    "duration": 45,
    "start_time": "2022-11-12T16:57:16.485Z"
   },
   {
    "duration": 30,
    "start_time": "2022-11-12T16:57:16.531Z"
   },
   {
    "duration": 19,
    "start_time": "2022-11-12T16:57:16.562Z"
   },
   {
    "duration": 11,
    "start_time": "2022-11-12T16:57:16.584Z"
   },
   {
    "duration": 7,
    "start_time": "2022-11-12T16:57:16.596Z"
   },
   {
    "duration": 5,
    "start_time": "2022-11-12T16:57:16.604Z"
   },
   {
    "duration": 7,
    "start_time": "2022-11-12T16:57:16.611Z"
   },
   {
    "duration": 78,
    "start_time": "2022-11-12T16:57:16.619Z"
   },
   {
    "duration": 37,
    "start_time": "2022-11-12T16:57:16.699Z"
   },
   {
    "duration": 38,
    "start_time": "2022-11-12T16:57:16.738Z"
   },
   {
    "duration": 5,
    "start_time": "2022-11-12T16:57:16.777Z"
   },
   {
    "duration": 18,
    "start_time": "2022-11-12T16:57:16.783Z"
   },
   {
    "duration": 8,
    "start_time": "2022-11-12T16:57:16.803Z"
   },
   {
    "duration": 71,
    "start_time": "2022-11-12T16:57:16.812Z"
   },
   {
    "duration": 64,
    "start_time": "2022-11-12T16:57:16.886Z"
   },
   {
    "duration": 35,
    "start_time": "2022-11-12T16:57:16.958Z"
   },
   {
    "duration": 75,
    "start_time": "2022-11-12T16:57:16.994Z"
   },
   {
    "duration": 4,
    "start_time": "2022-11-12T16:57:17.073Z"
   },
   {
    "duration": 1892,
    "start_time": "2022-11-12T16:57:17.079Z"
   },
   {
    "duration": 48,
    "start_time": "2022-11-12T16:57:18.973Z"
   },
   {
    "duration": 668,
    "start_time": "2022-11-12T16:57:19.023Z"
   },
   {
    "duration": 10,
    "start_time": "2022-11-12T16:57:19.693Z"
   },
   {
    "duration": 198,
    "start_time": "2022-11-12T16:57:19.705Z"
   },
   {
    "duration": 8,
    "start_time": "2022-11-12T16:57:19.904Z"
   },
   {
    "duration": 197,
    "start_time": "2022-11-12T16:57:19.914Z"
   },
   {
    "duration": 49,
    "start_time": "2022-11-12T16:57:20.112Z"
   },
   {
    "duration": 223,
    "start_time": "2022-11-12T16:57:20.162Z"
   },
   {
    "duration": 8,
    "start_time": "2022-11-12T16:57:20.387Z"
   },
   {
    "duration": 315,
    "start_time": "2022-11-12T16:57:20.397Z"
   },
   {
    "duration": 9,
    "start_time": "2022-11-12T16:57:20.713Z"
   },
   {
    "duration": 218,
    "start_time": "2022-11-12T16:57:20.724Z"
   },
   {
    "duration": 20,
    "start_time": "2022-11-12T16:57:20.949Z"
   },
   {
    "duration": 49,
    "start_time": "2022-11-12T16:57:20.971Z"
   },
   {
    "duration": 42,
    "start_time": "2022-11-12T16:57:21.022Z"
   },
   {
    "duration": 18,
    "start_time": "2022-11-12T16:58:07.820Z"
   },
   {
    "duration": 97,
    "start_time": "2022-11-12T16:59:49.332Z"
   },
   {
    "duration": 5,
    "start_time": "2022-11-12T17:00:03.498Z"
   },
   {
    "duration": 10,
    "start_time": "2022-11-12T17:00:29.693Z"
   },
   {
    "duration": 3,
    "start_time": "2022-11-12T17:00:43.523Z"
   },
   {
    "duration": 494,
    "start_time": "2022-11-12T17:00:43.531Z"
   },
   {
    "duration": 65,
    "start_time": "2022-11-12T17:00:44.027Z"
   },
   {
    "duration": 15,
    "start_time": "2022-11-12T17:00:44.094Z"
   },
   {
    "duration": 64,
    "start_time": "2022-11-12T17:00:44.112Z"
   },
   {
    "duration": 34,
    "start_time": "2022-11-12T17:00:44.178Z"
   },
   {
    "duration": 13,
    "start_time": "2022-11-12T17:00:44.214Z"
   },
   {
    "duration": 47,
    "start_time": "2022-11-12T17:00:44.228Z"
   },
   {
    "duration": 57,
    "start_time": "2022-11-12T17:00:44.277Z"
   },
   {
    "duration": 59,
    "start_time": "2022-11-12T17:00:44.335Z"
   },
   {
    "duration": 20,
    "start_time": "2022-11-12T17:00:44.397Z"
   },
   {
    "duration": 81,
    "start_time": "2022-11-12T17:00:44.418Z"
   },
   {
    "duration": 15,
    "start_time": "2022-11-12T17:00:44.501Z"
   },
   {
    "duration": 10,
    "start_time": "2022-11-12T17:00:44.518Z"
   },
   {
    "duration": 39,
    "start_time": "2022-11-12T17:00:44.529Z"
   },
   {
    "duration": 9,
    "start_time": "2022-11-12T17:00:44.570Z"
   },
   {
    "duration": 7,
    "start_time": "2022-11-12T17:00:44.580Z"
   },
   {
    "duration": 10,
    "start_time": "2022-11-12T17:00:44.589Z"
   },
   {
    "duration": 74,
    "start_time": "2022-11-12T17:00:44.600Z"
   },
   {
    "duration": 38,
    "start_time": "2022-11-12T17:00:44.676Z"
   },
   {
    "duration": 18,
    "start_time": "2022-11-12T17:00:44.716Z"
   },
   {
    "duration": 12,
    "start_time": "2022-11-12T17:00:44.748Z"
   },
   {
    "duration": 13,
    "start_time": "2022-11-12T17:00:44.764Z"
   },
   {
    "duration": 9,
    "start_time": "2022-11-12T17:00:44.778Z"
   },
   {
    "duration": 45,
    "start_time": "2022-11-12T17:00:44.789Z"
   },
   {
    "duration": 45,
    "start_time": "2022-11-12T17:00:44.836Z"
   },
   {
    "duration": 28,
    "start_time": "2022-11-12T17:00:44.883Z"
   },
   {
    "duration": 74,
    "start_time": "2022-11-12T17:00:44.913Z"
   },
   {
    "duration": 5,
    "start_time": "2022-11-12T17:00:44.991Z"
   },
   {
    "duration": 1975,
    "start_time": "2022-11-12T17:00:44.997Z"
   },
   {
    "duration": 34,
    "start_time": "2022-11-12T17:00:46.973Z"
   },
   {
    "duration": 211,
    "start_time": "2022-11-12T17:00:47.009Z"
   },
   {
    "duration": 7,
    "start_time": "2022-11-12T17:00:47.221Z"
   },
   {
    "duration": 190,
    "start_time": "2022-11-12T17:00:47.230Z"
   },
   {
    "duration": 28,
    "start_time": "2022-11-12T17:00:47.421Z"
   },
   {
    "duration": 195,
    "start_time": "2022-11-12T17:00:47.454Z"
   },
   {
    "duration": 40,
    "start_time": "2022-11-12T17:00:47.654Z"
   },
   {
    "duration": 246,
    "start_time": "2022-11-12T17:00:47.695Z"
   },
   {
    "duration": 18,
    "start_time": "2022-11-12T17:00:47.948Z"
   },
   {
    "duration": 241,
    "start_time": "2022-11-12T17:00:47.967Z"
   },
   {
    "duration": 10,
    "start_time": "2022-11-12T17:00:48.210Z"
   },
   {
    "duration": 356,
    "start_time": "2022-11-12T17:00:48.222Z"
   },
   {
    "duration": 17,
    "start_time": "2022-11-12T17:00:48.579Z"
   },
   {
    "duration": 66,
    "start_time": "2022-11-12T17:00:48.598Z"
   },
   {
    "duration": 15,
    "start_time": "2022-11-12T17:00:48.666Z"
   },
   {
    "duration": 23,
    "start_time": "2022-11-12T17:05:32.437Z"
   },
   {
    "duration": 17,
    "start_time": "2022-11-12T17:05:54.817Z"
   },
   {
    "duration": 56,
    "start_time": "2022-11-12T17:06:22.864Z"
   },
   {
    "duration": 15,
    "start_time": "2022-11-12T17:06:33.564Z"
   },
   {
    "duration": 3,
    "start_time": "2022-11-12T17:06:43.863Z"
   },
   {
    "duration": 415,
    "start_time": "2022-11-12T17:06:43.868Z"
   },
   {
    "duration": 31,
    "start_time": "2022-11-12T17:06:44.285Z"
   },
   {
    "duration": 10,
    "start_time": "2022-11-12T17:06:44.318Z"
   },
   {
    "duration": 52,
    "start_time": "2022-11-12T17:06:44.329Z"
   },
   {
    "duration": 0,
    "start_time": "2022-11-12T17:06:44.384Z"
   },
   {
    "duration": 0,
    "start_time": "2022-11-12T17:06:44.385Z"
   },
   {
    "duration": 0,
    "start_time": "2022-11-12T17:06:44.386Z"
   },
   {
    "duration": 0,
    "start_time": "2022-11-12T17:06:44.388Z"
   },
   {
    "duration": 0,
    "start_time": "2022-11-12T17:06:44.389Z"
   },
   {
    "duration": 0,
    "start_time": "2022-11-12T17:06:44.391Z"
   },
   {
    "duration": 0,
    "start_time": "2022-11-12T17:06:44.392Z"
   },
   {
    "duration": 0,
    "start_time": "2022-11-12T17:06:44.394Z"
   },
   {
    "duration": 0,
    "start_time": "2022-11-12T17:06:44.395Z"
   },
   {
    "duration": 0,
    "start_time": "2022-11-12T17:06:44.396Z"
   },
   {
    "duration": 0,
    "start_time": "2022-11-12T17:06:44.398Z"
   },
   {
    "duration": 0,
    "start_time": "2022-11-12T17:06:44.400Z"
   },
   {
    "duration": 0,
    "start_time": "2022-11-12T17:06:44.401Z"
   },
   {
    "duration": 0,
    "start_time": "2022-11-12T17:06:44.403Z"
   },
   {
    "duration": 0,
    "start_time": "2022-11-12T17:06:44.404Z"
   },
   {
    "duration": 0,
    "start_time": "2022-11-12T17:06:44.406Z"
   },
   {
    "duration": 0,
    "start_time": "2022-11-12T17:06:44.409Z"
   },
   {
    "duration": 0,
    "start_time": "2022-11-12T17:06:44.410Z"
   },
   {
    "duration": 0,
    "start_time": "2022-11-12T17:06:44.411Z"
   },
   {
    "duration": 0,
    "start_time": "2022-11-12T17:06:44.413Z"
   },
   {
    "duration": 0,
    "start_time": "2022-11-12T17:06:44.415Z"
   },
   {
    "duration": 0,
    "start_time": "2022-11-12T17:06:44.416Z"
   },
   {
    "duration": 0,
    "start_time": "2022-11-12T17:06:44.417Z"
   },
   {
    "duration": 0,
    "start_time": "2022-11-12T17:06:44.418Z"
   },
   {
    "duration": 0,
    "start_time": "2022-11-12T17:06:44.418Z"
   },
   {
    "duration": 0,
    "start_time": "2022-11-12T17:06:44.420Z"
   },
   {
    "duration": 0,
    "start_time": "2022-11-12T17:06:44.420Z"
   },
   {
    "duration": 0,
    "start_time": "2022-11-12T17:06:44.422Z"
   },
   {
    "duration": 0,
    "start_time": "2022-11-12T17:06:44.451Z"
   },
   {
    "duration": 0,
    "start_time": "2022-11-12T17:06:44.452Z"
   },
   {
    "duration": 0,
    "start_time": "2022-11-12T17:06:44.453Z"
   },
   {
    "duration": 0,
    "start_time": "2022-11-12T17:06:44.453Z"
   },
   {
    "duration": 0,
    "start_time": "2022-11-12T17:06:44.456Z"
   },
   {
    "duration": 0,
    "start_time": "2022-11-12T17:06:44.456Z"
   },
   {
    "duration": 0,
    "start_time": "2022-11-12T17:06:44.457Z"
   },
   {
    "duration": 0,
    "start_time": "2022-11-12T17:06:44.458Z"
   },
   {
    "duration": 0,
    "start_time": "2022-11-12T17:06:44.458Z"
   },
   {
    "duration": 0,
    "start_time": "2022-11-12T17:06:44.459Z"
   },
   {
    "duration": 0,
    "start_time": "2022-11-12T17:06:44.459Z"
   },
   {
    "duration": 0,
    "start_time": "2022-11-12T17:06:44.460Z"
   },
   {
    "duration": 0,
    "start_time": "2022-11-12T17:06:44.460Z"
   },
   {
    "duration": 62,
    "start_time": "2022-11-12T17:07:26.007Z"
   },
   {
    "duration": 23,
    "start_time": "2022-11-12T17:07:31.289Z"
   },
   {
    "duration": 12,
    "start_time": "2022-11-12T17:08:41.181Z"
   },
   {
    "duration": 3,
    "start_time": "2022-11-12T17:09:02.831Z"
   },
   {
    "duration": 425,
    "start_time": "2022-11-12T17:09:02.838Z"
   },
   {
    "duration": 31,
    "start_time": "2022-11-12T17:09:03.266Z"
   },
   {
    "duration": 12,
    "start_time": "2022-11-12T17:09:03.299Z"
   },
   {
    "duration": 49,
    "start_time": "2022-11-12T17:09:03.313Z"
   },
   {
    "duration": 24,
    "start_time": "2022-11-12T17:09:03.365Z"
   },
   {
    "duration": 14,
    "start_time": "2022-11-12T17:09:03.390Z"
   },
   {
    "duration": 18,
    "start_time": "2022-11-12T17:09:03.405Z"
   },
   {
    "duration": 114,
    "start_time": "2022-11-12T17:09:03.425Z"
   },
   {
    "duration": 50,
    "start_time": "2022-11-12T17:09:03.548Z"
   },
   {
    "duration": 26,
    "start_time": "2022-11-12T17:09:03.600Z"
   },
   {
    "duration": 77,
    "start_time": "2022-11-12T17:09:03.628Z"
   },
   {
    "duration": 12,
    "start_time": "2022-11-12T17:09:03.706Z"
   },
   {
    "duration": 9,
    "start_time": "2022-11-12T17:09:03.720Z"
   },
   {
    "duration": 15,
    "start_time": "2022-11-12T17:09:03.754Z"
   },
   {
    "duration": 7,
    "start_time": "2022-11-12T17:09:03.770Z"
   },
   {
    "duration": 7,
    "start_time": "2022-11-12T17:09:03.778Z"
   },
   {
    "duration": 8,
    "start_time": "2022-11-12T17:09:03.786Z"
   },
   {
    "duration": 64,
    "start_time": "2022-11-12T17:09:03.797Z"
   },
   {
    "duration": 33,
    "start_time": "2022-11-12T17:09:03.866Z"
   },
   {
    "duration": 19,
    "start_time": "2022-11-12T17:09:03.901Z"
   },
   {
    "duration": 5,
    "start_time": "2022-11-12T17:09:03.922Z"
   },
   {
    "duration": 28,
    "start_time": "2022-11-12T17:09:03.929Z"
   },
   {
    "duration": 14,
    "start_time": "2022-11-12T17:09:03.959Z"
   },
   {
    "duration": 43,
    "start_time": "2022-11-12T17:09:03.974Z"
   },
   {
    "duration": 50,
    "start_time": "2022-11-12T17:09:04.018Z"
   },
   {
    "duration": 29,
    "start_time": "2022-11-12T17:09:04.070Z"
   },
   {
    "duration": 65,
    "start_time": "2022-11-12T17:09:04.100Z"
   },
   {
    "duration": 5,
    "start_time": "2022-11-12T17:09:04.167Z"
   },
   {
    "duration": 1893,
    "start_time": "2022-11-12T17:09:04.174Z"
   },
   {
    "duration": 42,
    "start_time": "2022-11-12T17:09:06.068Z"
   },
   {
    "duration": 206,
    "start_time": "2022-11-12T17:09:06.112Z"
   },
   {
    "duration": 8,
    "start_time": "2022-11-12T17:09:06.319Z"
   },
   {
    "duration": 186,
    "start_time": "2022-11-12T17:09:06.329Z"
   },
   {
    "duration": 7,
    "start_time": "2022-11-12T17:09:06.517Z"
   },
   {
    "duration": 189,
    "start_time": "2022-11-12T17:09:06.525Z"
   },
   {
    "duration": 49,
    "start_time": "2022-11-12T17:09:06.716Z"
   },
   {
    "duration": 200,
    "start_time": "2022-11-12T17:09:06.767Z"
   },
   {
    "duration": 7,
    "start_time": "2022-11-12T17:09:06.970Z"
   },
   {
    "duration": 294,
    "start_time": "2022-11-12T17:09:06.979Z"
   },
   {
    "duration": 8,
    "start_time": "2022-11-12T17:09:07.275Z"
   },
   {
    "duration": 213,
    "start_time": "2022-11-12T17:09:07.287Z"
   },
   {
    "duration": 14,
    "start_time": "2022-11-12T17:09:07.502Z"
   },
   {
    "duration": 72,
    "start_time": "2022-11-12T17:09:07.518Z"
   },
   {
    "duration": 10,
    "start_time": "2022-11-12T17:09:07.592Z"
   },
   {
    "duration": 12,
    "start_time": "2022-11-12T17:10:00.591Z"
   },
   {
    "duration": 3,
    "start_time": "2022-11-12T17:10:07.231Z"
   },
   {
    "duration": 398,
    "start_time": "2022-11-12T17:10:07.237Z"
   },
   {
    "duration": 40,
    "start_time": "2022-11-12T17:10:07.638Z"
   },
   {
    "duration": 9,
    "start_time": "2022-11-12T17:10:07.679Z"
   },
   {
    "duration": 32,
    "start_time": "2022-11-12T17:10:07.690Z"
   },
   {
    "duration": 52,
    "start_time": "2022-11-12T17:10:07.723Z"
   },
   {
    "duration": 14,
    "start_time": "2022-11-12T17:10:07.777Z"
   },
   {
    "duration": 18,
    "start_time": "2022-11-12T17:10:07.793Z"
   },
   {
    "duration": 81,
    "start_time": "2022-11-12T17:10:07.813Z"
   },
   {
    "duration": 58,
    "start_time": "2022-11-12T17:10:07.896Z"
   },
   {
    "duration": 488,
    "start_time": "2022-11-12T17:10:07.964Z"
   },
   {
    "duration": 41,
    "start_time": "2022-11-12T17:10:08.455Z"
   },
   {
    "duration": 12,
    "start_time": "2022-11-12T17:10:08.498Z"
   },
   {
    "duration": 10,
    "start_time": "2022-11-12T17:10:08.511Z"
   },
   {
    "duration": 31,
    "start_time": "2022-11-12T17:10:08.522Z"
   },
   {
    "duration": 11,
    "start_time": "2022-11-12T17:10:08.555Z"
   },
   {
    "duration": 15,
    "start_time": "2022-11-12T17:10:08.568Z"
   },
   {
    "duration": 8,
    "start_time": "2022-11-12T17:10:08.584Z"
   },
   {
    "duration": 51,
    "start_time": "2022-11-12T17:10:08.594Z"
   },
   {
    "duration": 43,
    "start_time": "2022-11-12T17:10:08.647Z"
   },
   {
    "duration": 19,
    "start_time": "2022-11-12T17:10:08.692Z"
   },
   {
    "duration": 5,
    "start_time": "2022-11-12T17:10:08.713Z"
   },
   {
    "duration": 9,
    "start_time": "2022-11-12T17:10:08.720Z"
   },
   {
    "duration": 24,
    "start_time": "2022-11-12T17:10:08.731Z"
   },
   {
    "duration": 59,
    "start_time": "2022-11-12T17:10:08.757Z"
   },
   {
    "duration": 45,
    "start_time": "2022-11-12T17:10:08.818Z"
   },
   {
    "duration": 32,
    "start_time": "2022-11-12T17:10:08.867Z"
   },
   {
    "duration": 72,
    "start_time": "2022-11-12T17:10:08.901Z"
   },
   {
    "duration": 4,
    "start_time": "2022-11-12T17:10:08.977Z"
   },
   {
    "duration": 1892,
    "start_time": "2022-11-12T17:10:08.983Z"
   },
   {
    "duration": 34,
    "start_time": "2022-11-12T17:10:10.876Z"
   },
   {
    "duration": 210,
    "start_time": "2022-11-12T17:10:10.912Z"
   },
   {
    "duration": 8,
    "start_time": "2022-11-12T17:10:11.123Z"
   },
   {
    "duration": 199,
    "start_time": "2022-11-12T17:10:11.132Z"
   },
   {
    "duration": 26,
    "start_time": "2022-11-12T17:10:11.333Z"
   },
   {
    "duration": 174,
    "start_time": "2022-11-12T17:10:11.360Z"
   },
   {
    "duration": 54,
    "start_time": "2022-11-12T17:10:11.535Z"
   },
   {
    "duration": 330,
    "start_time": "2022-11-12T17:10:11.592Z"
   },
   {
    "duration": 8,
    "start_time": "2022-11-12T17:10:11.924Z"
   },
   {
    "duration": 228,
    "start_time": "2022-11-12T17:10:11.933Z"
   },
   {
    "duration": 8,
    "start_time": "2022-11-12T17:10:12.163Z"
   },
   {
    "duration": 203,
    "start_time": "2022-11-12T17:10:12.173Z"
   },
   {
    "duration": 12,
    "start_time": "2022-11-12T17:10:12.378Z"
   },
   {
    "duration": 81,
    "start_time": "2022-11-12T17:10:12.391Z"
   },
   {
    "duration": 12,
    "start_time": "2022-11-12T17:10:12.474Z"
   },
   {
    "duration": 17,
    "start_time": "2022-11-12T17:12:10.648Z"
   },
   {
    "duration": 13,
    "start_time": "2022-11-12T17:13:47.128Z"
   },
   {
    "duration": 3,
    "start_time": "2022-11-12T17:14:00.668Z"
   },
   {
    "duration": 465,
    "start_time": "2022-11-12T17:14:00.675Z"
   },
   {
    "duration": 40,
    "start_time": "2022-11-12T17:14:01.142Z"
   },
   {
    "duration": 12,
    "start_time": "2022-11-12T17:14:01.184Z"
   },
   {
    "duration": 29,
    "start_time": "2022-11-12T17:14:01.198Z"
   },
   {
    "duration": 46,
    "start_time": "2022-11-12T17:14:01.230Z"
   },
   {
    "duration": 18,
    "start_time": "2022-11-12T17:14:01.277Z"
   },
   {
    "duration": 22,
    "start_time": "2022-11-12T17:14:01.297Z"
   },
   {
    "duration": 118,
    "start_time": "2022-11-12T17:14:01.321Z"
   },
   {
    "duration": 65,
    "start_time": "2022-11-12T17:14:01.441Z"
   },
   {
    "duration": 219,
    "start_time": "2022-11-12T17:14:01.509Z"
   },
   {
    "duration": 50,
    "start_time": "2022-11-12T17:14:01.729Z"
   },
   {
    "duration": 27,
    "start_time": "2022-11-12T17:14:01.780Z"
   },
   {
    "duration": 28,
    "start_time": "2022-11-12T17:14:01.808Z"
   },
   {
    "duration": 44,
    "start_time": "2022-11-12T17:14:01.839Z"
   },
   {
    "duration": 7,
    "start_time": "2022-11-12T17:14:01.884Z"
   },
   {
    "duration": 26,
    "start_time": "2022-11-12T17:14:01.892Z"
   },
   {
    "duration": 36,
    "start_time": "2022-11-12T17:14:01.919Z"
   },
   {
    "duration": 72,
    "start_time": "2022-11-12T17:14:01.956Z"
   },
   {
    "duration": 40,
    "start_time": "2022-11-12T17:14:02.030Z"
   },
   {
    "duration": 24,
    "start_time": "2022-11-12T17:14:02.072Z"
   },
   {
    "duration": 5,
    "start_time": "2022-11-12T17:14:02.098Z"
   },
   {
    "duration": 16,
    "start_time": "2022-11-12T17:14:02.104Z"
   },
   {
    "duration": 15,
    "start_time": "2022-11-12T17:14:02.121Z"
   },
   {
    "duration": 72,
    "start_time": "2022-11-12T17:14:02.138Z"
   },
   {
    "duration": 36,
    "start_time": "2022-11-12T17:14:02.212Z"
   },
   {
    "duration": 30,
    "start_time": "2022-11-12T17:14:02.255Z"
   },
   {
    "duration": 47,
    "start_time": "2022-11-12T17:14:02.287Z"
   },
   {
    "duration": 16,
    "start_time": "2022-11-12T17:14:02.335Z"
   },
   {
    "duration": 1894,
    "start_time": "2022-11-12T17:14:02.360Z"
   },
   {
    "duration": 51,
    "start_time": "2022-11-12T17:14:04.255Z"
   },
   {
    "duration": 235,
    "start_time": "2022-11-12T17:14:04.308Z"
   },
   {
    "duration": 15,
    "start_time": "2022-11-12T17:14:04.545Z"
   },
   {
    "duration": 193,
    "start_time": "2022-11-12T17:14:04.563Z"
   },
   {
    "duration": 13,
    "start_time": "2022-11-12T17:14:04.758Z"
   },
   {
    "duration": 211,
    "start_time": "2022-11-12T17:14:04.773Z"
   },
   {
    "duration": 66,
    "start_time": "2022-11-12T17:14:04.985Z"
   },
   {
    "duration": 263,
    "start_time": "2022-11-12T17:14:05.053Z"
   },
   {
    "duration": 10,
    "start_time": "2022-11-12T17:14:05.319Z"
   },
   {
    "duration": 430,
    "start_time": "2022-11-12T17:14:05.331Z"
   },
   {
    "duration": 10,
    "start_time": "2022-11-12T17:14:05.764Z"
   },
   {
    "duration": 200,
    "start_time": "2022-11-12T17:14:05.778Z"
   },
   {
    "duration": 15,
    "start_time": "2022-11-12T17:14:05.980Z"
   },
   {
    "duration": 80,
    "start_time": "2022-11-12T17:14:05.997Z"
   },
   {
    "duration": 10,
    "start_time": "2022-11-12T17:14:06.079Z"
   },
   {
    "duration": 13,
    "start_time": "2022-11-12T17:17:04.895Z"
   },
   {
    "duration": 4,
    "start_time": "2022-11-12T17:17:14.666Z"
   },
   {
    "duration": 442,
    "start_time": "2022-11-12T17:17:14.674Z"
   },
   {
    "duration": 34,
    "start_time": "2022-11-12T17:17:15.118Z"
   },
   {
    "duration": 13,
    "start_time": "2022-11-12T17:17:15.155Z"
   },
   {
    "duration": 44,
    "start_time": "2022-11-12T17:17:15.170Z"
   },
   {
    "duration": 32,
    "start_time": "2022-11-12T17:17:15.217Z"
   },
   {
    "duration": 20,
    "start_time": "2022-11-12T17:17:15.251Z"
   },
   {
    "duration": 42,
    "start_time": "2022-11-12T17:17:15.279Z"
   },
   {
    "duration": 104,
    "start_time": "2022-11-12T17:17:15.323Z"
   },
   {
    "duration": 66,
    "start_time": "2022-11-12T17:17:15.429Z"
   },
   {
    "duration": 29,
    "start_time": "2022-11-12T17:17:15.498Z"
   },
   {
    "duration": 182,
    "start_time": "2022-11-12T17:17:15.531Z"
   },
   {
    "duration": 57,
    "start_time": "2022-11-12T17:17:15.715Z"
   },
   {
    "duration": 13,
    "start_time": "2022-11-12T17:17:15.773Z"
   },
   {
    "duration": 9,
    "start_time": "2022-11-12T17:17:15.789Z"
   },
   {
    "duration": 12,
    "start_time": "2022-11-12T17:17:15.799Z"
   },
   {
    "duration": 6,
    "start_time": "2022-11-12T17:17:15.813Z"
   },
   {
    "duration": 12,
    "start_time": "2022-11-12T17:17:15.848Z"
   },
   {
    "duration": 20,
    "start_time": "2022-11-12T17:17:15.861Z"
   },
   {
    "duration": 62,
    "start_time": "2022-11-12T17:17:15.883Z"
   },
   {
    "duration": 42,
    "start_time": "2022-11-12T17:17:15.947Z"
   },
   {
    "duration": 20,
    "start_time": "2022-11-12T17:17:15.991Z"
   },
   {
    "duration": 5,
    "start_time": "2022-11-12T17:17:16.013Z"
   },
   {
    "duration": 29,
    "start_time": "2022-11-12T17:17:16.020Z"
   },
   {
    "duration": 21,
    "start_time": "2022-11-12T17:17:16.054Z"
   },
   {
    "duration": 44,
    "start_time": "2022-11-12T17:17:16.076Z"
   },
   {
    "duration": 51,
    "start_time": "2022-11-12T17:17:16.121Z"
   },
   {
    "duration": 31,
    "start_time": "2022-11-12T17:17:16.174Z"
   },
   {
    "duration": 73,
    "start_time": "2022-11-12T17:17:16.206Z"
   },
   {
    "duration": 5,
    "start_time": "2022-11-12T17:17:16.281Z"
   },
   {
    "duration": 1848,
    "start_time": "2022-11-12T17:17:16.288Z"
   },
   {
    "duration": 59,
    "start_time": "2022-11-12T17:17:18.137Z"
   },
   {
    "duration": 220,
    "start_time": "2022-11-12T17:17:18.197Z"
   },
   {
    "duration": 10,
    "start_time": "2022-11-12T17:17:18.419Z"
   },
   {
    "duration": 187,
    "start_time": "2022-11-12T17:17:18.430Z"
   },
   {
    "duration": 7,
    "start_time": "2022-11-12T17:17:18.619Z"
   },
   {
    "duration": 195,
    "start_time": "2022-11-12T17:17:18.627Z"
   },
   {
    "duration": 53,
    "start_time": "2022-11-12T17:17:18.823Z"
   },
   {
    "duration": 226,
    "start_time": "2022-11-12T17:17:18.878Z"
   },
   {
    "duration": 9,
    "start_time": "2022-11-12T17:17:19.106Z"
   },
   {
    "duration": 224,
    "start_time": "2022-11-12T17:17:19.117Z"
   },
   {
    "duration": 24,
    "start_time": "2022-11-12T17:17:19.344Z"
   },
   {
    "duration": 220,
    "start_time": "2022-11-12T17:17:19.370Z"
   },
   {
    "duration": 16,
    "start_time": "2022-11-12T17:17:19.592Z"
   },
   {
    "duration": 85,
    "start_time": "2022-11-12T17:17:19.610Z"
   },
   {
    "duration": 11,
    "start_time": "2022-11-12T17:17:19.697Z"
   },
   {
    "duration": 164,
    "start_time": "2022-11-12T17:19:08.321Z"
   },
   {
    "duration": 158,
    "start_time": "2022-11-12T17:31:45.757Z"
   },
   {
    "duration": 155,
    "start_time": "2022-11-12T17:32:07.927Z"
   },
   {
    "duration": 174,
    "start_time": "2022-11-12T17:32:49.420Z"
   },
   {
    "duration": 335,
    "start_time": "2022-11-12T17:34:50.480Z"
   },
   {
    "duration": 173,
    "start_time": "2022-11-12T17:35:16.347Z"
   },
   {
    "duration": 185,
    "start_time": "2022-11-12T17:35:50.692Z"
   },
   {
    "duration": 268,
    "start_time": "2022-11-12T17:36:01.528Z"
   },
   {
    "duration": 263,
    "start_time": "2022-11-12T17:36:29.734Z"
   },
   {
    "duration": 260,
    "start_time": "2022-11-12T17:36:41.110Z"
   },
   {
    "duration": 263,
    "start_time": "2022-11-12T17:42:18.197Z"
   },
   {
    "duration": 163,
    "start_time": "2022-11-12T17:42:29.888Z"
   },
   {
    "duration": 152,
    "start_time": "2022-11-12T17:42:39.134Z"
   },
   {
    "duration": 164,
    "start_time": "2022-11-12T17:42:57.313Z"
   },
   {
    "duration": 151,
    "start_time": "2022-11-12T17:43:17.971Z"
   },
   {
    "duration": 367,
    "start_time": "2022-11-12T17:43:34.340Z"
   },
   {
    "duration": 479,
    "start_time": "2022-11-12T17:43:54.532Z"
   },
   {
    "duration": 482,
    "start_time": "2022-11-12T17:52:06.592Z"
   },
   {
    "duration": 276,
    "start_time": "2022-11-12T18:04:23.205Z"
   },
   {
    "duration": 13,
    "start_time": "2022-11-12T18:17:05.983Z"
   },
   {
    "duration": 8,
    "start_time": "2022-11-12T18:17:29.731Z"
   },
   {
    "duration": 3,
    "start_time": "2022-11-12T18:29:50.601Z"
   },
   {
    "duration": 465,
    "start_time": "2022-11-12T18:29:50.610Z"
   },
   {
    "duration": 31,
    "start_time": "2022-11-12T18:29:51.078Z"
   },
   {
    "duration": 15,
    "start_time": "2022-11-12T18:29:51.110Z"
   },
   {
    "duration": 71,
    "start_time": "2022-11-12T18:29:51.127Z"
   },
   {
    "duration": 24,
    "start_time": "2022-11-12T18:29:51.201Z"
   },
   {
    "duration": 40,
    "start_time": "2022-11-12T18:29:51.226Z"
   },
   {
    "duration": 28,
    "start_time": "2022-11-12T18:29:51.268Z"
   },
   {
    "duration": 104,
    "start_time": "2022-11-12T18:29:51.298Z"
   },
   {
    "duration": 65,
    "start_time": "2022-11-12T18:29:51.403Z"
   },
   {
    "duration": 29,
    "start_time": "2022-11-12T18:29:51.470Z"
   },
   {
    "duration": 281,
    "start_time": "2022-11-12T18:29:51.502Z"
   },
   {
    "duration": 38,
    "start_time": "2022-11-12T18:29:51.784Z"
   },
   {
    "duration": 26,
    "start_time": "2022-11-12T18:29:51.824Z"
   },
   {
    "duration": 36,
    "start_time": "2022-11-12T18:29:51.854Z"
   },
   {
    "duration": 15,
    "start_time": "2022-11-12T18:29:51.892Z"
   },
   {
    "duration": 7,
    "start_time": "2022-11-12T18:29:51.908Z"
   },
   {
    "duration": 10,
    "start_time": "2022-11-12T18:29:51.916Z"
   },
   {
    "duration": 21,
    "start_time": "2022-11-12T18:29:51.928Z"
   },
   {
    "duration": 56,
    "start_time": "2022-11-12T18:29:51.951Z"
   },
   {
    "duration": 34,
    "start_time": "2022-11-12T18:29:52.009Z"
   },
   {
    "duration": 26,
    "start_time": "2022-11-12T18:29:52.044Z"
   },
   {
    "duration": 13,
    "start_time": "2022-11-12T18:29:52.072Z"
   },
   {
    "duration": 12,
    "start_time": "2022-11-12T18:29:52.087Z"
   },
   {
    "duration": 10,
    "start_time": "2022-11-12T18:29:52.101Z"
   },
   {
    "duration": 50,
    "start_time": "2022-11-12T18:29:52.113Z"
   },
   {
    "duration": 36,
    "start_time": "2022-11-12T18:29:52.165Z"
   },
   {
    "duration": 49,
    "start_time": "2022-11-12T18:29:52.203Z"
   },
   {
    "duration": 51,
    "start_time": "2022-11-12T18:29:52.254Z"
   },
   {
    "duration": 5,
    "start_time": "2022-11-12T18:29:52.306Z"
   },
   {
    "duration": 14,
    "start_time": "2022-11-12T18:29:52.312Z"
   },
   {
    "duration": 1760,
    "start_time": "2022-11-12T18:29:52.347Z"
   },
   {
    "duration": 46,
    "start_time": "2022-11-12T18:29:54.108Z"
   },
   {
    "duration": 210,
    "start_time": "2022-11-12T18:29:54.156Z"
   },
   {
    "duration": 12,
    "start_time": "2022-11-12T18:29:54.370Z"
   },
   {
    "duration": 167,
    "start_time": "2022-11-12T18:29:54.385Z"
   },
   {
    "duration": 10,
    "start_time": "2022-11-12T18:29:54.554Z"
   },
   {
    "duration": 197,
    "start_time": "2022-11-12T18:29:54.566Z"
   },
   {
    "duration": 36,
    "start_time": "2022-11-12T18:29:54.766Z"
   },
   {
    "duration": 201,
    "start_time": "2022-11-12T18:29:54.804Z"
   },
   {
    "duration": 9,
    "start_time": "2022-11-12T18:29:55.007Z"
   },
   {
    "duration": 492,
    "start_time": "2022-11-12T18:29:55.020Z"
   },
   {
    "duration": 7,
    "start_time": "2022-11-12T18:29:55.513Z"
   },
   {
    "duration": 199,
    "start_time": "2022-11-12T18:29:55.522Z"
   },
   {
    "duration": 27,
    "start_time": "2022-11-12T18:29:55.723Z"
   },
   {
    "duration": 50,
    "start_time": "2022-11-12T18:29:55.752Z"
   },
   {
    "duration": 12,
    "start_time": "2022-11-12T18:29:55.804Z"
   },
   {
    "duration": 723,
    "start_time": "2022-11-12T18:32:52.820Z"
   },
   {
    "duration": 720,
    "start_time": "2022-11-12T18:33:31.102Z"
   },
   {
    "duration": 735,
    "start_time": "2022-11-12T18:34:56.841Z"
   },
   {
    "duration": 13,
    "start_time": "2022-11-12T18:35:09.695Z"
   },
   {
    "duration": 21,
    "start_time": "2022-11-12T18:35:34.364Z"
   },
   {
    "duration": 773,
    "start_time": "2022-11-12T18:36:27.696Z"
   },
   {
    "duration": 675,
    "start_time": "2022-11-12T18:36:52.985Z"
   },
   {
    "duration": 669,
    "start_time": "2022-11-12T18:37:24.460Z"
   },
   {
    "duration": 764,
    "start_time": "2022-11-12T18:37:46.287Z"
   },
   {
    "duration": 28,
    "start_time": "2022-11-12T18:38:23.646Z"
   },
   {
    "duration": 23,
    "start_time": "2022-11-12T18:38:49.142Z"
   },
   {
    "duration": 789,
    "start_time": "2022-11-12T18:39:10.000Z"
   },
   {
    "duration": 452,
    "start_time": "2022-11-12T18:39:10.791Z"
   },
   {
    "duration": 51,
    "start_time": "2022-11-12T18:39:11.245Z"
   },
   {
    "duration": 13,
    "start_time": "2022-11-12T18:39:11.299Z"
   },
   {
    "duration": 68,
    "start_time": "2022-11-12T18:39:11.314Z"
   },
   {
    "duration": 23,
    "start_time": "2022-11-12T18:39:11.384Z"
   },
   {
    "duration": 14,
    "start_time": "2022-11-12T18:39:11.408Z"
   },
   {
    "duration": 38,
    "start_time": "2022-11-12T18:39:11.424Z"
   },
   {
    "duration": 63,
    "start_time": "2022-11-12T18:39:11.464Z"
   },
   {
    "duration": 68,
    "start_time": "2022-11-12T18:39:11.549Z"
   },
   {
    "duration": 42,
    "start_time": "2022-11-12T18:39:11.619Z"
   },
   {
    "duration": 497,
    "start_time": "2022-11-12T18:39:11.664Z"
   },
   {
    "duration": 46,
    "start_time": "2022-11-12T18:39:12.164Z"
   },
   {
    "duration": 13,
    "start_time": "2022-11-12T18:39:12.211Z"
   },
   {
    "duration": 27,
    "start_time": "2022-11-12T18:39:12.226Z"
   },
   {
    "duration": 12,
    "start_time": "2022-11-12T18:39:12.255Z"
   },
   {
    "duration": 9,
    "start_time": "2022-11-12T18:39:12.268Z"
   },
   {
    "duration": 6,
    "start_time": "2022-11-12T18:39:12.279Z"
   },
   {
    "duration": 8,
    "start_time": "2022-11-12T18:39:12.286Z"
   },
   {
    "duration": 84,
    "start_time": "2022-11-12T18:39:12.296Z"
   },
   {
    "duration": 41,
    "start_time": "2022-11-12T18:39:12.382Z"
   },
   {
    "duration": 36,
    "start_time": "2022-11-12T18:39:12.424Z"
   },
   {
    "duration": 6,
    "start_time": "2022-11-12T18:39:12.462Z"
   },
   {
    "duration": 12,
    "start_time": "2022-11-12T18:39:12.470Z"
   },
   {
    "duration": 5,
    "start_time": "2022-11-12T18:39:12.484Z"
   },
   {
    "duration": 87,
    "start_time": "2022-11-12T18:39:12.490Z"
   },
   {
    "duration": 41,
    "start_time": "2022-11-12T18:39:12.579Z"
   },
   {
    "duration": 58,
    "start_time": "2022-11-12T18:39:12.624Z"
   },
   {
    "duration": 45,
    "start_time": "2022-11-12T18:39:12.684Z"
   },
   {
    "duration": 4,
    "start_time": "2022-11-12T18:39:12.730Z"
   },
   {
    "duration": 32,
    "start_time": "2022-11-12T18:39:12.747Z"
   },
   {
    "duration": 1824,
    "start_time": "2022-11-12T18:39:12.781Z"
   },
   {
    "duration": 47,
    "start_time": "2022-11-12T18:39:14.607Z"
   },
   {
    "duration": 222,
    "start_time": "2022-11-12T18:39:14.656Z"
   },
   {
    "duration": 9,
    "start_time": "2022-11-12T18:39:14.880Z"
   },
   {
    "duration": 212,
    "start_time": "2022-11-12T18:39:14.891Z"
   },
   {
    "duration": 7,
    "start_time": "2022-11-12T18:39:15.105Z"
   },
   {
    "duration": 178,
    "start_time": "2022-11-12T18:39:15.113Z"
   },
   {
    "duration": 60,
    "start_time": "2022-11-12T18:39:15.293Z"
   },
   {
    "duration": 244,
    "start_time": "2022-11-12T18:39:15.356Z"
   },
   {
    "duration": 7,
    "start_time": "2022-11-12T18:39:15.602Z"
   },
   {
    "duration": 201,
    "start_time": "2022-11-12T18:39:15.611Z"
   },
   {
    "duration": 7,
    "start_time": "2022-11-12T18:39:15.813Z"
   },
   {
    "duration": 272,
    "start_time": "2022-11-12T18:39:15.822Z"
   },
   {
    "duration": 15,
    "start_time": "2022-11-12T18:39:16.096Z"
   },
   {
    "duration": 88,
    "start_time": "2022-11-12T18:39:16.112Z"
   },
   {
    "duration": 9,
    "start_time": "2022-11-12T18:39:16.202Z"
   },
   {
    "duration": 764,
    "start_time": "2022-11-12T18:40:08.889Z"
   },
   {
    "duration": 3,
    "start_time": "2022-11-12T18:40:31.537Z"
   },
   {
    "duration": 403,
    "start_time": "2022-11-12T18:40:31.543Z"
   },
   {
    "duration": 31,
    "start_time": "2022-11-12T18:40:31.949Z"
   },
   {
    "duration": 12,
    "start_time": "2022-11-12T18:40:31.982Z"
   },
   {
    "duration": 56,
    "start_time": "2022-11-12T18:40:31.996Z"
   },
   {
    "duration": 26,
    "start_time": "2022-11-12T18:40:32.054Z"
   },
   {
    "duration": 13,
    "start_time": "2022-11-12T18:40:32.082Z"
   },
   {
    "duration": 18,
    "start_time": "2022-11-12T18:40:32.096Z"
   },
   {
    "duration": 83,
    "start_time": "2022-11-12T18:40:32.116Z"
   },
   {
    "duration": 61,
    "start_time": "2022-11-12T18:40:32.201Z"
   },
   {
    "duration": 28,
    "start_time": "2022-11-12T18:40:32.265Z"
   },
   {
    "duration": 305,
    "start_time": "2022-11-12T18:40:32.294Z"
   },
   {
    "duration": 37,
    "start_time": "2022-11-12T18:40:32.600Z"
   },
   {
    "duration": 13,
    "start_time": "2022-11-12T18:40:32.647Z"
   },
   {
    "duration": 12,
    "start_time": "2022-11-12T18:40:32.662Z"
   },
   {
    "duration": 11,
    "start_time": "2022-11-12T18:40:32.675Z"
   },
   {
    "duration": 5,
    "start_time": "2022-11-12T18:40:32.687Z"
   },
   {
    "duration": 5,
    "start_time": "2022-11-12T18:40:32.694Z"
   },
   {
    "duration": 8,
    "start_time": "2022-11-12T18:40:32.700Z"
   },
   {
    "duration": 84,
    "start_time": "2022-11-12T18:40:32.710Z"
   },
   {
    "duration": 33,
    "start_time": "2022-11-12T18:40:32.795Z"
   },
   {
    "duration": 31,
    "start_time": "2022-11-12T18:40:32.830Z"
   },
   {
    "duration": 5,
    "start_time": "2022-11-12T18:40:32.864Z"
   },
   {
    "duration": 10,
    "start_time": "2022-11-12T18:40:32.871Z"
   },
   {
    "duration": 5,
    "start_time": "2022-11-12T18:40:32.883Z"
   },
   {
    "duration": 76,
    "start_time": "2022-11-12T18:40:32.889Z"
   },
   {
    "duration": 39,
    "start_time": "2022-11-12T18:40:32.968Z"
   },
   {
    "duration": 43,
    "start_time": "2022-11-12T18:40:33.008Z"
   },
   {
    "duration": 48,
    "start_time": "2022-11-12T18:40:33.056Z"
   },
   {
    "duration": 4,
    "start_time": "2022-11-12T18:40:33.106Z"
   },
   {
    "duration": 794,
    "start_time": "2022-11-12T18:40:33.111Z"
   },
   {
    "duration": 0,
    "start_time": "2022-11-12T18:40:33.906Z"
   },
   {
    "duration": 0,
    "start_time": "2022-11-12T18:40:33.907Z"
   },
   {
    "duration": 0,
    "start_time": "2022-11-12T18:40:33.908Z"
   },
   {
    "duration": 0,
    "start_time": "2022-11-12T18:40:33.910Z"
   },
   {
    "duration": 0,
    "start_time": "2022-11-12T18:40:33.911Z"
   },
   {
    "duration": 0,
    "start_time": "2022-11-12T18:40:33.912Z"
   },
   {
    "duration": 0,
    "start_time": "2022-11-12T18:40:33.913Z"
   },
   {
    "duration": 0,
    "start_time": "2022-11-12T18:40:33.914Z"
   },
   {
    "duration": 0,
    "start_time": "2022-11-12T18:40:33.915Z"
   },
   {
    "duration": 0,
    "start_time": "2022-11-12T18:40:33.916Z"
   },
   {
    "duration": 0,
    "start_time": "2022-11-12T18:40:33.917Z"
   },
   {
    "duration": 0,
    "start_time": "2022-11-12T18:40:33.918Z"
   },
   {
    "duration": 0,
    "start_time": "2022-11-12T18:40:33.919Z"
   },
   {
    "duration": 0,
    "start_time": "2022-11-12T18:40:33.920Z"
   },
   {
    "duration": 0,
    "start_time": "2022-11-12T18:40:33.922Z"
   },
   {
    "duration": 0,
    "start_time": "2022-11-12T18:40:33.923Z"
   },
   {
    "duration": 51,
    "start_time": "2022-11-13T11:48:02.209Z"
   },
   {
    "duration": 954,
    "start_time": "2022-11-13T11:48:08.166Z"
   },
   {
    "duration": 1303,
    "start_time": "2022-11-13T11:48:09.122Z"
   },
   {
    "duration": 55,
    "start_time": "2022-11-13T11:48:10.427Z"
   },
   {
    "duration": 17,
    "start_time": "2022-11-13T11:48:10.484Z"
   },
   {
    "duration": 44,
    "start_time": "2022-11-13T11:48:10.503Z"
   },
   {
    "duration": 37,
    "start_time": "2022-11-13T11:48:10.580Z"
   },
   {
    "duration": 15,
    "start_time": "2022-11-13T11:48:10.619Z"
   },
   {
    "duration": 60,
    "start_time": "2022-11-13T11:48:10.636Z"
   },
   {
    "duration": 82,
    "start_time": "2022-11-13T11:48:10.698Z"
   },
   {
    "duration": 51,
    "start_time": "2022-11-13T11:48:10.783Z"
   },
   {
    "duration": 44,
    "start_time": "2022-11-13T11:48:10.836Z"
   },
   {
    "duration": 720,
    "start_time": "2022-11-13T11:48:10.882Z"
   },
   {
    "duration": 45,
    "start_time": "2022-11-13T11:48:11.603Z"
   },
   {
    "duration": 31,
    "start_time": "2022-11-13T11:48:11.650Z"
   },
   {
    "duration": 13,
    "start_time": "2022-11-13T11:48:11.683Z"
   },
   {
    "duration": 13,
    "start_time": "2022-11-13T11:48:11.697Z"
   },
   {
    "duration": 6,
    "start_time": "2022-11-13T11:48:11.712Z"
   },
   {
    "duration": 7,
    "start_time": "2022-11-13T11:48:11.719Z"
   },
   {
    "duration": 11,
    "start_time": "2022-11-13T11:48:11.728Z"
   },
   {
    "duration": 92,
    "start_time": "2022-11-13T11:48:11.741Z"
   },
   {
    "duration": 58,
    "start_time": "2022-11-13T11:48:11.835Z"
   },
   {
    "duration": 28,
    "start_time": "2022-11-13T11:48:11.895Z"
   },
   {
    "duration": 5,
    "start_time": "2022-11-13T11:48:11.925Z"
   },
   {
    "duration": 12,
    "start_time": "2022-11-13T11:48:11.932Z"
   },
   {
    "duration": 9,
    "start_time": "2022-11-13T11:48:11.945Z"
   },
   {
    "duration": 81,
    "start_time": "2022-11-13T11:48:11.981Z"
   },
   {
    "duration": 59,
    "start_time": "2022-11-13T11:48:12.065Z"
   },
   {
    "duration": 52,
    "start_time": "2022-11-13T11:48:12.128Z"
   },
   {
    "duration": 54,
    "start_time": "2022-11-13T11:48:12.182Z"
   },
   {
    "duration": 6,
    "start_time": "2022-11-13T11:48:12.238Z"
   },
   {
    "duration": 39,
    "start_time": "2022-11-13T11:48:12.246Z"
   },
   {
    "duration": 2030,
    "start_time": "2022-11-13T11:48:12.288Z"
   },
   {
    "duration": 38,
    "start_time": "2022-11-13T11:48:14.320Z"
   },
   {
    "duration": 227,
    "start_time": "2022-11-13T11:48:14.379Z"
   },
   {
    "duration": 10,
    "start_time": "2022-11-13T11:48:14.608Z"
   },
   {
    "duration": 201,
    "start_time": "2022-11-13T11:48:14.620Z"
   },
   {
    "duration": 8,
    "start_time": "2022-11-13T11:48:14.822Z"
   },
   {
    "duration": 206,
    "start_time": "2022-11-13T11:48:14.832Z"
   },
   {
    "duration": 49,
    "start_time": "2022-11-13T11:48:15.040Z"
   },
   {
    "duration": 232,
    "start_time": "2022-11-13T11:48:15.090Z"
   },
   {
    "duration": 12,
    "start_time": "2022-11-13T11:48:15.324Z"
   },
   {
    "duration": 331,
    "start_time": "2022-11-13T11:48:15.338Z"
   },
   {
    "duration": 15,
    "start_time": "2022-11-13T11:48:15.670Z"
   },
   {
    "duration": 259,
    "start_time": "2022-11-13T11:48:15.687Z"
   },
   {
    "duration": 33,
    "start_time": "2022-11-13T11:48:15.948Z"
   },
   {
    "duration": 63,
    "start_time": "2022-11-13T11:48:15.983Z"
   },
   {
    "duration": 34,
    "start_time": "2022-11-13T11:48:16.048Z"
   },
   {
    "duration": 8,
    "start_time": "2022-11-13T11:48:37.878Z"
   },
   {
    "duration": 9,
    "start_time": "2022-11-13T11:49:22.943Z"
   },
   {
    "duration": 917,
    "start_time": "2022-11-13T11:51:04.577Z"
   },
   {
    "duration": 811,
    "start_time": "2022-11-13T11:53:44.145Z"
   },
   {
    "duration": 9,
    "start_time": "2022-11-13T11:54:16.742Z"
   },
   {
    "duration": 9,
    "start_time": "2022-11-13T11:54:58.092Z"
   },
   {
    "duration": 10,
    "start_time": "2022-11-13T11:55:31.777Z"
   },
   {
    "duration": 57,
    "start_time": "2022-11-13T11:56:17.979Z"
   },
   {
    "duration": 550,
    "start_time": "2022-11-13T11:56:28.418Z"
   },
   {
    "duration": 68,
    "start_time": "2022-11-13T11:57:04.686Z"
   },
   {
    "duration": 270,
    "start_time": "2022-11-13T11:57:45.893Z"
   },
   {
    "duration": 607,
    "start_time": "2022-11-13T11:57:57.677Z"
   },
   {
    "duration": 13,
    "start_time": "2022-11-13T11:59:22.873Z"
   },
   {
    "duration": 8,
    "start_time": "2022-11-13T11:59:52.338Z"
   },
   {
    "duration": 9,
    "start_time": "2022-11-13T12:00:54.918Z"
   },
   {
    "duration": 9,
    "start_time": "2022-11-13T12:02:28.569Z"
   },
   {
    "duration": 681,
    "start_time": "2022-11-13T12:03:52.010Z"
   },
   {
    "duration": 43,
    "start_time": "2022-11-13T12:07:53.369Z"
   },
   {
    "duration": 33,
    "start_time": "2022-11-13T12:08:01.669Z"
   },
   {
    "duration": 18,
    "start_time": "2022-11-13T12:09:52.334Z"
   },
   {
    "duration": 39,
    "start_time": "2022-11-13T12:10:12.885Z"
   },
   {
    "duration": 17,
    "start_time": "2022-11-13T12:10:36.398Z"
   },
   {
    "duration": 936,
    "start_time": "2022-11-13T12:11:23.589Z"
   },
   {
    "duration": 984,
    "start_time": "2022-11-13T12:12:04.178Z"
   },
   {
    "duration": 938,
    "start_time": "2022-11-13T12:13:04.090Z"
   },
   {
    "duration": 17,
    "start_time": "2022-11-13T12:13:22.474Z"
   },
   {
    "duration": 13,
    "start_time": "2022-11-13T12:19:32.896Z"
   },
   {
    "duration": 20,
    "start_time": "2022-11-13T12:19:51.203Z"
   },
   {
    "duration": 16,
    "start_time": "2022-11-13T12:20:10.191Z"
   },
   {
    "duration": 9,
    "start_time": "2022-11-13T12:21:22.838Z"
   },
   {
    "duration": 8,
    "start_time": "2022-11-13T12:21:52.524Z"
   },
   {
    "duration": 5,
    "start_time": "2022-11-13T12:29:47.267Z"
   },
   {
    "duration": 10,
    "start_time": "2022-11-13T12:30:01.091Z"
   },
   {
    "duration": 22,
    "start_time": "2022-11-13T12:31:10.026Z"
   },
   {
    "duration": 20,
    "start_time": "2022-11-13T12:32:55.020Z"
   },
   {
    "duration": 33,
    "start_time": "2022-11-13T12:34:12.786Z"
   },
   {
    "duration": 28,
    "start_time": "2022-11-13T12:34:34.444Z"
   },
   {
    "duration": 28,
    "start_time": "2022-11-13T12:35:46.206Z"
   },
   {
    "duration": 29,
    "start_time": "2022-11-13T12:36:02.214Z"
   },
   {
    "duration": 34,
    "start_time": "2022-11-13T12:36:02.802Z"
   },
   {
    "duration": 32,
    "start_time": "2022-11-13T12:37:03.062Z"
   },
   {
    "duration": 28,
    "start_time": "2022-11-13T12:38:48.807Z"
   },
   {
    "duration": 10,
    "start_time": "2022-11-13T12:47:51.005Z"
   },
   {
    "duration": 57,
    "start_time": "2022-11-13T12:51:46.349Z"
   },
   {
    "duration": 34,
    "start_time": "2022-11-13T12:55:54.314Z"
   },
   {
    "duration": 64,
    "start_time": "2022-11-13T12:58:25.358Z"
   },
   {
    "duration": 54,
    "start_time": "2022-11-13T12:58:56.458Z"
   },
   {
    "duration": 58,
    "start_time": "2022-11-13T13:00:16.059Z"
   },
   {
    "duration": 57,
    "start_time": "2022-11-13T13:00:44.271Z"
   },
   {
    "duration": 64,
    "start_time": "2022-11-13T13:01:56.641Z"
   },
   {
    "duration": 48,
    "start_time": "2022-11-13T13:02:07.732Z"
   },
   {
    "duration": 54,
    "start_time": "2022-11-13T13:02:22.239Z"
   },
   {
    "duration": 42,
    "start_time": "2022-11-13T13:02:44.290Z"
   },
   {
    "duration": 49,
    "start_time": "2022-11-13T13:06:49.735Z"
   },
   {
    "duration": 51,
    "start_time": "2022-11-13T13:09:38.258Z"
   },
   {
    "duration": 59,
    "start_time": "2022-11-13T13:10:26.860Z"
   },
   {
    "duration": 53,
    "start_time": "2022-11-13T13:10:46.411Z"
   },
   {
    "duration": 61,
    "start_time": "2022-11-13T13:11:13.379Z"
   },
   {
    "duration": 14,
    "start_time": "2022-11-13T13:18:24.366Z"
   },
   {
    "duration": 21,
    "start_time": "2022-11-13T13:22:27.822Z"
   },
   {
    "duration": 30,
    "start_time": "2022-11-13T13:22:55.765Z"
   },
   {
    "duration": 20,
    "start_time": "2022-11-13T13:23:18.436Z"
   },
   {
    "duration": 812,
    "start_time": "2022-11-13T13:26:14.227Z"
   },
   {
    "duration": 31,
    "start_time": "2022-11-13T13:26:39.624Z"
   },
   {
    "duration": 27,
    "start_time": "2022-11-13T13:27:12.049Z"
   },
   {
    "duration": 30,
    "start_time": "2022-11-13T13:27:33.530Z"
   },
   {
    "duration": 40,
    "start_time": "2022-11-13T13:29:22.664Z"
   },
   {
    "duration": 31,
    "start_time": "2022-11-13T13:30:23.426Z"
   },
   {
    "duration": 28,
    "start_time": "2022-11-13T13:30:43.827Z"
   },
   {
    "duration": 35,
    "start_time": "2022-11-13T13:31:04.086Z"
   },
   {
    "duration": 38,
    "start_time": "2022-11-13T13:31:36.450Z"
   },
   {
    "duration": 27,
    "start_time": "2022-11-13T13:38:09.945Z"
   },
   {
    "duration": 19,
    "start_time": "2022-11-13T13:38:31.809Z"
   },
   {
    "duration": 20,
    "start_time": "2022-11-13T13:38:47.139Z"
   },
   {
    "duration": 19,
    "start_time": "2022-11-13T13:39:11.260Z"
   },
   {
    "duration": 24,
    "start_time": "2022-11-13T13:39:28.434Z"
   },
   {
    "duration": 20,
    "start_time": "2022-11-13T13:40:01.211Z"
   },
   {
    "duration": 24,
    "start_time": "2022-11-13T13:40:31.202Z"
   },
   {
    "duration": 29,
    "start_time": "2022-11-13T13:40:49.398Z"
   },
   {
    "duration": 12,
    "start_time": "2022-11-13T13:41:33.500Z"
   },
   {
    "duration": 16,
    "start_time": "2022-11-13T13:41:52.975Z"
   },
   {
    "duration": 20,
    "start_time": "2022-11-13T13:42:11.258Z"
   },
   {
    "duration": 12,
    "start_time": "2022-11-13T13:42:31.697Z"
   },
   {
    "duration": 12,
    "start_time": "2022-11-13T13:42:44.424Z"
   },
   {
    "duration": 13,
    "start_time": "2022-11-13T13:43:06.196Z"
   },
   {
    "duration": 18,
    "start_time": "2022-11-13T13:43:27.883Z"
   },
   {
    "duration": 4,
    "start_time": "2022-11-13T13:49:04.664Z"
   },
   {
    "duration": 9,
    "start_time": "2022-11-13T13:57:41.543Z"
   },
   {
    "duration": 30,
    "start_time": "2022-11-13T14:07:22.062Z"
   },
   {
    "duration": 26,
    "start_time": "2022-11-13T14:07:49.508Z"
   },
   {
    "duration": 26,
    "start_time": "2022-11-13T14:08:06.816Z"
   },
   {
    "duration": 27,
    "start_time": "2022-11-13T14:08:17.582Z"
   },
   {
    "duration": 26,
    "start_time": "2022-11-13T14:08:37.905Z"
   },
   {
    "duration": 35,
    "start_time": "2022-11-13T14:09:04.776Z"
   },
   {
    "duration": 26,
    "start_time": "2022-11-13T14:09:19.227Z"
   },
   {
    "duration": 26,
    "start_time": "2022-11-13T14:09:37.049Z"
   },
   {
    "duration": 24,
    "start_time": "2022-11-13T14:09:52.844Z"
   },
   {
    "duration": 35,
    "start_time": "2022-11-13T14:10:11.285Z"
   },
   {
    "duration": 34,
    "start_time": "2022-11-13T14:10:24.256Z"
   },
   {
    "duration": 29,
    "start_time": "2022-11-13T14:10:39.931Z"
   },
   {
    "duration": 24,
    "start_time": "2022-11-13T14:10:59.050Z"
   },
   {
    "duration": 31,
    "start_time": "2022-11-13T14:11:23.176Z"
   },
   {
    "duration": 26,
    "start_time": "2022-11-13T14:11:46.531Z"
   },
   {
    "duration": 41,
    "start_time": "2022-11-13T14:12:05.073Z"
   },
   {
    "duration": 26,
    "start_time": "2022-11-13T14:12:18.103Z"
   },
   {
    "duration": 25,
    "start_time": "2022-11-13T14:12:29.443Z"
   },
   {
    "duration": 5,
    "start_time": "2022-11-13T15:57:00.199Z"
   },
   {
    "duration": 490,
    "start_time": "2022-11-13T15:57:00.206Z"
   },
   {
    "duration": 33,
    "start_time": "2022-11-13T15:57:00.698Z"
   },
   {
    "duration": 45,
    "start_time": "2022-11-13T15:57:00.733Z"
   },
   {
    "duration": 37,
    "start_time": "2022-11-13T15:57:00.789Z"
   },
   {
    "duration": 49,
    "start_time": "2022-11-13T15:57:00.828Z"
   },
   {
    "duration": 47,
    "start_time": "2022-11-13T15:57:00.879Z"
   },
   {
    "duration": 60,
    "start_time": "2022-11-13T15:57:00.928Z"
   },
   {
    "duration": 0,
    "start_time": "2022-11-13T15:57:00.995Z"
   },
   {
    "duration": 0,
    "start_time": "2022-11-13T15:57:00.996Z"
   },
   {
    "duration": 0,
    "start_time": "2022-11-13T15:57:00.997Z"
   },
   {
    "duration": 0,
    "start_time": "2022-11-13T15:57:00.998Z"
   },
   {
    "duration": 0,
    "start_time": "2022-11-13T15:57:00.999Z"
   },
   {
    "duration": 0,
    "start_time": "2022-11-13T15:57:01.001Z"
   },
   {
    "duration": 0,
    "start_time": "2022-11-13T15:57:01.002Z"
   },
   {
    "duration": 0,
    "start_time": "2022-11-13T15:57:01.003Z"
   },
   {
    "duration": 0,
    "start_time": "2022-11-13T15:57:01.003Z"
   },
   {
    "duration": 0,
    "start_time": "2022-11-13T15:57:01.005Z"
   },
   {
    "duration": 0,
    "start_time": "2022-11-13T15:57:01.005Z"
   },
   {
    "duration": 1,
    "start_time": "2022-11-13T15:57:01.006Z"
   },
   {
    "duration": 0,
    "start_time": "2022-11-13T15:57:01.007Z"
   },
   {
    "duration": 0,
    "start_time": "2022-11-13T15:57:01.009Z"
   },
   {
    "duration": 0,
    "start_time": "2022-11-13T15:57:01.010Z"
   },
   {
    "duration": 0,
    "start_time": "2022-11-13T15:57:01.010Z"
   },
   {
    "duration": 0,
    "start_time": "2022-11-13T15:57:01.011Z"
   },
   {
    "duration": 0,
    "start_time": "2022-11-13T15:57:01.013Z"
   },
   {
    "duration": 0,
    "start_time": "2022-11-13T15:57:01.014Z"
   },
   {
    "duration": 0,
    "start_time": "2022-11-13T15:57:01.015Z"
   },
   {
    "duration": 0,
    "start_time": "2022-11-13T15:57:01.016Z"
   },
   {
    "duration": 0,
    "start_time": "2022-11-13T15:57:01.017Z"
   },
   {
    "duration": 0,
    "start_time": "2022-11-13T15:57:01.019Z"
   },
   {
    "duration": 0,
    "start_time": "2022-11-13T15:57:01.020Z"
   },
   {
    "duration": 0,
    "start_time": "2022-11-13T15:57:01.021Z"
   },
   {
    "duration": 0,
    "start_time": "2022-11-13T15:57:01.022Z"
   },
   {
    "duration": 0,
    "start_time": "2022-11-13T15:57:01.023Z"
   },
   {
    "duration": 0,
    "start_time": "2022-11-13T15:57:01.024Z"
   },
   {
    "duration": 0,
    "start_time": "2022-11-13T15:57:01.025Z"
   },
   {
    "duration": 0,
    "start_time": "2022-11-13T15:57:01.026Z"
   },
   {
    "duration": 0,
    "start_time": "2022-11-13T15:57:01.027Z"
   },
   {
    "duration": 0,
    "start_time": "2022-11-13T15:57:01.028Z"
   },
   {
    "duration": 0,
    "start_time": "2022-11-13T15:57:01.029Z"
   },
   {
    "duration": 0,
    "start_time": "2022-11-13T15:57:01.030Z"
   },
   {
    "duration": 0,
    "start_time": "2022-11-13T15:57:01.031Z"
   },
   {
    "duration": 0,
    "start_time": "2022-11-13T15:57:01.032Z"
   },
   {
    "duration": 0,
    "start_time": "2022-11-13T15:57:01.033Z"
   },
   {
    "duration": 0,
    "start_time": "2022-11-13T15:57:01.034Z"
   },
   {
    "duration": 0,
    "start_time": "2022-11-13T15:57:01.035Z"
   },
   {
    "duration": 18,
    "start_time": "2022-11-13T15:59:00.963Z"
   },
   {
    "duration": 25,
    "start_time": "2022-11-13T15:59:12.177Z"
   },
   {
    "duration": 44,
    "start_time": "2022-11-13T16:01:23.193Z"
   },
   {
    "duration": 58,
    "start_time": "2022-11-13T16:01:28.113Z"
   },
   {
    "duration": 64,
    "start_time": "2022-11-13T16:01:57.843Z"
   },
   {
    "duration": 68,
    "start_time": "2022-11-13T16:02:52.270Z"
   },
   {
    "duration": 1015,
    "start_time": "2022-11-13T16:04:47.171Z"
   },
   {
    "duration": 1279,
    "start_time": "2022-11-13T16:04:48.188Z"
   },
   {
    "duration": 39,
    "start_time": "2022-11-13T16:04:49.468Z"
   },
   {
    "duration": 26,
    "start_time": "2022-11-13T16:04:49.509Z"
   },
   {
    "duration": 50,
    "start_time": "2022-11-13T16:04:49.537Z"
   },
   {
    "duration": 25,
    "start_time": "2022-11-13T16:04:49.589Z"
   },
   {
    "duration": 14,
    "start_time": "2022-11-13T16:04:49.616Z"
   },
   {
    "duration": 134,
    "start_time": "2022-11-13T16:04:49.632Z"
   },
   {
    "duration": 0,
    "start_time": "2022-11-13T16:04:49.769Z"
   },
   {
    "duration": 0,
    "start_time": "2022-11-13T16:04:49.770Z"
   },
   {
    "duration": 0,
    "start_time": "2022-11-13T16:04:49.779Z"
   },
   {
    "duration": 0,
    "start_time": "2022-11-13T16:04:49.780Z"
   },
   {
    "duration": 0,
    "start_time": "2022-11-13T16:04:49.781Z"
   },
   {
    "duration": 0,
    "start_time": "2022-11-13T16:04:49.782Z"
   },
   {
    "duration": 0,
    "start_time": "2022-11-13T16:04:49.783Z"
   },
   {
    "duration": 0,
    "start_time": "2022-11-13T16:04:49.784Z"
   },
   {
    "duration": 0,
    "start_time": "2022-11-13T16:04:49.785Z"
   },
   {
    "duration": 0,
    "start_time": "2022-11-13T16:04:49.787Z"
   },
   {
    "duration": 0,
    "start_time": "2022-11-13T16:04:49.788Z"
   },
   {
    "duration": 0,
    "start_time": "2022-11-13T16:04:49.789Z"
   },
   {
    "duration": 0,
    "start_time": "2022-11-13T16:04:49.790Z"
   },
   {
    "duration": 0,
    "start_time": "2022-11-13T16:04:49.791Z"
   },
   {
    "duration": 0,
    "start_time": "2022-11-13T16:04:49.792Z"
   },
   {
    "duration": 0,
    "start_time": "2022-11-13T16:04:49.793Z"
   },
   {
    "duration": 0,
    "start_time": "2022-11-13T16:04:49.794Z"
   },
   {
    "duration": 0,
    "start_time": "2022-11-13T16:04:49.795Z"
   },
   {
    "duration": 0,
    "start_time": "2022-11-13T16:04:49.797Z"
   },
   {
    "duration": 0,
    "start_time": "2022-11-13T16:04:49.797Z"
   },
   {
    "duration": 0,
    "start_time": "2022-11-13T16:04:49.798Z"
   },
   {
    "duration": 0,
    "start_time": "2022-11-13T16:04:49.799Z"
   },
   {
    "duration": 0,
    "start_time": "2022-11-13T16:04:49.800Z"
   },
   {
    "duration": 0,
    "start_time": "2022-11-13T16:04:49.801Z"
   },
   {
    "duration": 0,
    "start_time": "2022-11-13T16:04:49.802Z"
   },
   {
    "duration": 0,
    "start_time": "2022-11-13T16:04:49.803Z"
   },
   {
    "duration": 0,
    "start_time": "2022-11-13T16:04:49.804Z"
   },
   {
    "duration": 0,
    "start_time": "2022-11-13T16:04:49.805Z"
   },
   {
    "duration": 0,
    "start_time": "2022-11-13T16:04:49.806Z"
   },
   {
    "duration": 0,
    "start_time": "2022-11-13T16:04:49.807Z"
   },
   {
    "duration": 0,
    "start_time": "2022-11-13T16:04:49.808Z"
   },
   {
    "duration": 0,
    "start_time": "2022-11-13T16:04:49.810Z"
   },
   {
    "duration": 0,
    "start_time": "2022-11-13T16:04:49.811Z"
   },
   {
    "duration": 0,
    "start_time": "2022-11-13T16:04:49.812Z"
   },
   {
    "duration": 0,
    "start_time": "2022-11-13T16:04:49.814Z"
   },
   {
    "duration": 0,
    "start_time": "2022-11-13T16:04:49.815Z"
   },
   {
    "duration": 1,
    "start_time": "2022-11-13T16:04:49.816Z"
   },
   {
    "duration": 0,
    "start_time": "2022-11-13T16:04:49.880Z"
   },
   {
    "duration": 1,
    "start_time": "2022-11-13T16:04:49.881Z"
   },
   {
    "duration": 15,
    "start_time": "2022-11-13T16:05:04.117Z"
   },
   {
    "duration": 3,
    "start_time": "2022-11-13T16:05:42.484Z"
   },
   {
    "duration": 480,
    "start_time": "2022-11-13T16:05:42.490Z"
   },
   {
    "duration": 29,
    "start_time": "2022-11-13T16:05:42.972Z"
   },
   {
    "duration": 27,
    "start_time": "2022-11-13T16:05:43.002Z"
   },
   {
    "duration": 49,
    "start_time": "2022-11-13T16:05:43.031Z"
   },
   {
    "duration": 26,
    "start_time": "2022-11-13T16:05:43.082Z"
   },
   {
    "duration": 17,
    "start_time": "2022-11-13T16:05:43.110Z"
   },
   {
    "duration": 52,
    "start_time": "2022-11-13T16:05:43.129Z"
   },
   {
    "duration": 0,
    "start_time": "2022-11-13T16:05:43.183Z"
   },
   {
    "duration": 0,
    "start_time": "2022-11-13T16:05:43.185Z"
   },
   {
    "duration": 1,
    "start_time": "2022-11-13T16:05:43.186Z"
   },
   {
    "duration": 0,
    "start_time": "2022-11-13T16:05:43.188Z"
   },
   {
    "duration": 0,
    "start_time": "2022-11-13T16:05:43.189Z"
   },
   {
    "duration": 0,
    "start_time": "2022-11-13T16:05:43.190Z"
   },
   {
    "duration": 0,
    "start_time": "2022-11-13T16:05:43.192Z"
   },
   {
    "duration": 0,
    "start_time": "2022-11-13T16:05:43.193Z"
   },
   {
    "duration": 0,
    "start_time": "2022-11-13T16:05:43.194Z"
   },
   {
    "duration": 0,
    "start_time": "2022-11-13T16:05:43.195Z"
   },
   {
    "duration": 0,
    "start_time": "2022-11-13T16:05:43.197Z"
   },
   {
    "duration": 0,
    "start_time": "2022-11-13T16:05:43.198Z"
   },
   {
    "duration": 0,
    "start_time": "2022-11-13T16:05:43.200Z"
   },
   {
    "duration": 0,
    "start_time": "2022-11-13T16:05:43.201Z"
   },
   {
    "duration": 0,
    "start_time": "2022-11-13T16:05:43.202Z"
   },
   {
    "duration": 0,
    "start_time": "2022-11-13T16:05:43.204Z"
   },
   {
    "duration": 0,
    "start_time": "2022-11-13T16:05:43.205Z"
   },
   {
    "duration": 0,
    "start_time": "2022-11-13T16:05:43.206Z"
   },
   {
    "duration": 0,
    "start_time": "2022-11-13T16:05:43.207Z"
   },
   {
    "duration": 1,
    "start_time": "2022-11-13T16:05:43.208Z"
   },
   {
    "duration": 0,
    "start_time": "2022-11-13T16:05:43.210Z"
   },
   {
    "duration": 0,
    "start_time": "2022-11-13T16:05:43.211Z"
   },
   {
    "duration": 0,
    "start_time": "2022-11-13T16:05:43.212Z"
   },
   {
    "duration": 0,
    "start_time": "2022-11-13T16:05:43.213Z"
   },
   {
    "duration": 0,
    "start_time": "2022-11-13T16:05:43.214Z"
   },
   {
    "duration": 0,
    "start_time": "2022-11-13T16:05:43.215Z"
   },
   {
    "duration": 0,
    "start_time": "2022-11-13T16:05:43.216Z"
   },
   {
    "duration": 0,
    "start_time": "2022-11-13T16:05:43.217Z"
   },
   {
    "duration": 0,
    "start_time": "2022-11-13T16:05:43.217Z"
   },
   {
    "duration": 0,
    "start_time": "2022-11-13T16:05:43.218Z"
   },
   {
    "duration": 0,
    "start_time": "2022-11-13T16:05:43.219Z"
   },
   {
    "duration": 0,
    "start_time": "2022-11-13T16:05:43.280Z"
   },
   {
    "duration": 0,
    "start_time": "2022-11-13T16:05:43.281Z"
   },
   {
    "duration": 0,
    "start_time": "2022-11-13T16:05:43.282Z"
   },
   {
    "duration": 0,
    "start_time": "2022-11-13T16:05:43.282Z"
   },
   {
    "duration": 0,
    "start_time": "2022-11-13T16:05:43.283Z"
   },
   {
    "duration": 0,
    "start_time": "2022-11-13T16:05:43.284Z"
   },
   {
    "duration": 0,
    "start_time": "2022-11-13T16:05:43.285Z"
   },
   {
    "duration": 0,
    "start_time": "2022-11-13T16:05:43.286Z"
   },
   {
    "duration": 15,
    "start_time": "2022-11-13T16:05:58.439Z"
   },
   {
    "duration": 14,
    "start_time": "2022-11-13T16:06:38.370Z"
   },
   {
    "duration": 4,
    "start_time": "2022-11-13T16:07:05.345Z"
   },
   {
    "duration": 472,
    "start_time": "2022-11-13T16:07:05.375Z"
   },
   {
    "duration": 32,
    "start_time": "2022-11-13T16:07:05.849Z"
   },
   {
    "duration": 30,
    "start_time": "2022-11-13T16:07:05.883Z"
   },
   {
    "duration": 38,
    "start_time": "2022-11-13T16:07:05.915Z"
   },
   {
    "duration": 28,
    "start_time": "2022-11-13T16:07:05.979Z"
   },
   {
    "duration": 16,
    "start_time": "2022-11-13T16:07:06.009Z"
   },
   {
    "duration": 57,
    "start_time": "2022-11-13T16:07:06.026Z"
   },
   {
    "duration": 0,
    "start_time": "2022-11-13T16:07:06.085Z"
   },
   {
    "duration": 0,
    "start_time": "2022-11-13T16:07:06.087Z"
   },
   {
    "duration": 0,
    "start_time": "2022-11-13T16:07:06.088Z"
   },
   {
    "duration": 0,
    "start_time": "2022-11-13T16:07:06.089Z"
   },
   {
    "duration": 0,
    "start_time": "2022-11-13T16:07:06.090Z"
   },
   {
    "duration": 0,
    "start_time": "2022-11-13T16:07:06.091Z"
   },
   {
    "duration": 0,
    "start_time": "2022-11-13T16:07:06.092Z"
   },
   {
    "duration": 0,
    "start_time": "2022-11-13T16:07:06.093Z"
   },
   {
    "duration": 0,
    "start_time": "2022-11-13T16:07:06.094Z"
   },
   {
    "duration": 0,
    "start_time": "2022-11-13T16:07:06.095Z"
   },
   {
    "duration": 0,
    "start_time": "2022-11-13T16:07:06.096Z"
   },
   {
    "duration": 0,
    "start_time": "2022-11-13T16:07:06.097Z"
   },
   {
    "duration": 0,
    "start_time": "2022-11-13T16:07:06.098Z"
   },
   {
    "duration": 0,
    "start_time": "2022-11-13T16:07:06.100Z"
   },
   {
    "duration": 0,
    "start_time": "2022-11-13T16:07:06.101Z"
   },
   {
    "duration": 0,
    "start_time": "2022-11-13T16:07:06.102Z"
   },
   {
    "duration": 0,
    "start_time": "2022-11-13T16:07:06.103Z"
   },
   {
    "duration": 0,
    "start_time": "2022-11-13T16:07:06.104Z"
   },
   {
    "duration": 0,
    "start_time": "2022-11-13T16:07:06.105Z"
   },
   {
    "duration": 0,
    "start_time": "2022-11-13T16:07:06.107Z"
   },
   {
    "duration": 0,
    "start_time": "2022-11-13T16:07:06.108Z"
   },
   {
    "duration": 0,
    "start_time": "2022-11-13T16:07:06.109Z"
   },
   {
    "duration": 0,
    "start_time": "2022-11-13T16:07:06.111Z"
   },
   {
    "duration": 0,
    "start_time": "2022-11-13T16:07:06.113Z"
   },
   {
    "duration": 0,
    "start_time": "2022-11-13T16:07:06.114Z"
   },
   {
    "duration": 0,
    "start_time": "2022-11-13T16:07:06.116Z"
   },
   {
    "duration": 0,
    "start_time": "2022-11-13T16:07:06.117Z"
   },
   {
    "duration": 0,
    "start_time": "2022-11-13T16:07:06.118Z"
   },
   {
    "duration": 0,
    "start_time": "2022-11-13T16:07:06.120Z"
   },
   {
    "duration": 0,
    "start_time": "2022-11-13T16:07:06.180Z"
   },
   {
    "duration": 0,
    "start_time": "2022-11-13T16:07:06.181Z"
   },
   {
    "duration": 0,
    "start_time": "2022-11-13T16:07:06.183Z"
   },
   {
    "duration": 0,
    "start_time": "2022-11-13T16:07:06.184Z"
   },
   {
    "duration": 0,
    "start_time": "2022-11-13T16:07:06.185Z"
   },
   {
    "duration": 0,
    "start_time": "2022-11-13T16:07:06.186Z"
   },
   {
    "duration": 0,
    "start_time": "2022-11-13T16:07:06.187Z"
   },
   {
    "duration": 0,
    "start_time": "2022-11-13T16:07:06.189Z"
   },
   {
    "duration": 0,
    "start_time": "2022-11-13T16:07:06.190Z"
   },
   {
    "duration": 0,
    "start_time": "2022-11-13T16:07:06.191Z"
   },
   {
    "duration": 23,
    "start_time": "2022-11-13T16:07:46.374Z"
   },
   {
    "duration": 22,
    "start_time": "2022-11-13T16:07:57.097Z"
   },
   {
    "duration": 14,
    "start_time": "2022-11-13T16:08:08.469Z"
   },
   {
    "duration": 848,
    "start_time": "2022-11-13T16:08:44.342Z"
   },
   {
    "duration": 472,
    "start_time": "2022-11-13T16:08:45.192Z"
   },
   {
    "duration": 39,
    "start_time": "2022-11-13T16:08:45.665Z"
   },
   {
    "duration": 39,
    "start_time": "2022-11-13T16:08:45.706Z"
   },
   {
    "duration": 56,
    "start_time": "2022-11-13T16:08:45.747Z"
   },
   {
    "duration": 54,
    "start_time": "2022-11-13T16:08:45.805Z"
   },
   {
    "duration": 18,
    "start_time": "2022-11-13T16:08:45.860Z"
   },
   {
    "duration": 33,
    "start_time": "2022-11-13T16:08:45.881Z"
   },
   {
    "duration": 87,
    "start_time": "2022-11-13T16:08:45.916Z"
   },
   {
    "duration": 56,
    "start_time": "2022-11-13T16:08:46.004Z"
   },
   {
    "duration": 37,
    "start_time": "2022-11-13T16:08:46.062Z"
   },
   {
    "duration": 615,
    "start_time": "2022-11-13T16:08:46.101Z"
   },
   {
    "duration": 42,
    "start_time": "2022-11-13T16:08:46.718Z"
   },
   {
    "duration": 27,
    "start_time": "2022-11-13T16:08:46.763Z"
   },
   {
    "duration": 8,
    "start_time": "2022-11-13T16:08:46.791Z"
   },
   {
    "duration": 24,
    "start_time": "2022-11-13T16:08:46.801Z"
   },
   {
    "duration": 11,
    "start_time": "2022-11-13T16:08:46.827Z"
   },
   {
    "duration": 10,
    "start_time": "2022-11-13T16:08:46.840Z"
   },
   {
    "duration": 30,
    "start_time": "2022-11-13T16:08:46.851Z"
   },
   {
    "duration": 72,
    "start_time": "2022-11-13T16:08:46.882Z"
   },
   {
    "duration": 64,
    "start_time": "2022-11-13T16:08:46.955Z"
   },
   {
    "duration": 30,
    "start_time": "2022-11-13T16:08:47.020Z"
   },
   {
    "duration": 6,
    "start_time": "2022-11-13T16:08:47.051Z"
   },
   {
    "duration": 7,
    "start_time": "2022-11-13T16:08:47.080Z"
   },
   {
    "duration": 12,
    "start_time": "2022-11-13T16:08:47.088Z"
   },
   {
    "duration": 60,
    "start_time": "2022-11-13T16:08:47.101Z"
   },
   {
    "duration": 47,
    "start_time": "2022-11-13T16:08:47.179Z"
   },
   {
    "duration": 54,
    "start_time": "2022-11-13T16:08:47.228Z"
   },
   {
    "duration": 45,
    "start_time": "2022-11-13T16:08:47.283Z"
   },
   {
    "duration": 10,
    "start_time": "2022-11-13T16:08:47.330Z"
   },
   {
    "duration": 38,
    "start_time": "2022-11-13T16:08:47.341Z"
   },
   {
    "duration": 1946,
    "start_time": "2022-11-13T16:08:47.381Z"
   },
   {
    "duration": 56,
    "start_time": "2022-11-13T16:08:49.329Z"
   },
   {
    "duration": 235,
    "start_time": "2022-11-13T16:08:49.388Z"
   },
   {
    "duration": 9,
    "start_time": "2022-11-13T16:08:49.625Z"
   },
   {
    "duration": 204,
    "start_time": "2022-11-13T16:08:49.635Z"
   },
   {
    "duration": 8,
    "start_time": "2022-11-13T16:08:49.841Z"
   },
   {
    "duration": 204,
    "start_time": "2022-11-13T16:08:49.851Z"
   },
   {
    "duration": 53,
    "start_time": "2022-11-13T16:08:50.056Z"
   },
   {
    "duration": 236,
    "start_time": "2022-11-13T16:08:50.111Z"
   },
   {
    "duration": 8,
    "start_time": "2022-11-13T16:08:50.351Z"
   },
   {
    "duration": 238,
    "start_time": "2022-11-13T16:08:50.361Z"
   },
   {
    "duration": 8,
    "start_time": "2022-11-13T16:08:50.601Z"
   },
   {
    "duration": 327,
    "start_time": "2022-11-13T16:08:50.610Z"
   },
   {
    "duration": 13,
    "start_time": "2022-11-13T16:08:50.939Z"
   },
   {
    "duration": 77,
    "start_time": "2022-11-13T16:08:50.954Z"
   },
   {
    "duration": 11,
    "start_time": "2022-11-13T16:08:51.033Z"
   },
   {
    "duration": 12,
    "start_time": "2022-11-13T16:09:02.292Z"
   },
   {
    "duration": 53,
    "start_time": "2022-11-13T16:11:04.919Z"
   },
   {
    "duration": 49,
    "start_time": "2022-11-13T16:15:26.873Z"
   },
   {
    "duration": 1854,
    "start_time": "2022-11-13T16:15:54.789Z"
   },
   {
    "duration": 117,
    "start_time": "2022-11-13T16:17:25.695Z"
   },
   {
    "duration": 13,
    "start_time": "2022-11-13T16:17:54.895Z"
   },
   {
    "duration": 10,
    "start_time": "2022-11-13T16:18:00.900Z"
   },
   {
    "duration": 13,
    "start_time": "2022-11-13T16:18:08.671Z"
   },
   {
    "duration": 14,
    "start_time": "2022-11-13T16:18:22.024Z"
   },
   {
    "duration": 14,
    "start_time": "2022-11-13T16:19:58.542Z"
   },
   {
    "duration": 1699,
    "start_time": "2022-11-13T16:20:39.873Z"
   },
   {
    "duration": 14,
    "start_time": "2022-11-13T16:22:40.066Z"
   },
   {
    "duration": 19,
    "start_time": "2022-11-13T16:23:00.054Z"
   },
   {
    "duration": 1938,
    "start_time": "2022-11-13T16:23:50.847Z"
   },
   {
    "duration": 52,
    "start_time": "2022-11-13T16:24:54.636Z"
   },
   {
    "duration": 57,
    "start_time": "2022-11-13T16:40:00.015Z"
   },
   {
    "duration": 430,
    "start_time": "2022-11-13T16:40:00.074Z"
   },
   {
    "duration": 30,
    "start_time": "2022-11-13T16:40:00.505Z"
   },
   {
    "duration": 42,
    "start_time": "2022-11-13T16:40:00.538Z"
   },
   {
    "duration": 46,
    "start_time": "2022-11-13T16:40:00.582Z"
   },
   {
    "duration": 38,
    "start_time": "2022-11-13T16:40:00.631Z"
   },
   {
    "duration": 36,
    "start_time": "2022-11-13T16:40:00.671Z"
   },
   {
    "duration": 29,
    "start_time": "2022-11-13T16:40:00.709Z"
   },
   {
    "duration": 57,
    "start_time": "2022-11-13T16:40:00.740Z"
   },
   {
    "duration": 44,
    "start_time": "2022-11-13T16:40:00.801Z"
   },
   {
    "duration": 35,
    "start_time": "2022-11-13T16:40:00.847Z"
   },
   {
    "duration": 279,
    "start_time": "2022-11-13T16:40:00.884Z"
   },
   {
    "duration": 48,
    "start_time": "2022-11-13T16:40:01.164Z"
   },
   {
    "duration": 13,
    "start_time": "2022-11-13T16:40:01.213Z"
   },
   {
    "duration": 36,
    "start_time": "2022-11-13T16:40:01.228Z"
   },
   {
    "duration": 67,
    "start_time": "2022-11-13T16:40:01.266Z"
   },
   {
    "duration": 43,
    "start_time": "2022-11-13T16:40:01.335Z"
   },
   {
    "duration": 48,
    "start_time": "2022-11-13T16:40:01.379Z"
   },
   {
    "duration": 31,
    "start_time": "2022-11-13T16:40:01.429Z"
   },
   {
    "duration": 100,
    "start_time": "2022-11-13T16:40:01.462Z"
   },
   {
    "duration": 40,
    "start_time": "2022-11-13T16:40:01.563Z"
   },
   {
    "duration": 30,
    "start_time": "2022-11-13T16:40:01.604Z"
   },
   {
    "duration": 5,
    "start_time": "2022-11-13T16:40:01.635Z"
   },
   {
    "duration": 22,
    "start_time": "2022-11-13T16:40:01.641Z"
   },
   {
    "duration": 31,
    "start_time": "2022-11-13T16:40:01.665Z"
   },
   {
    "duration": 71,
    "start_time": "2022-11-13T16:40:01.698Z"
   },
   {
    "duration": 38,
    "start_time": "2022-11-13T16:40:01.771Z"
   },
   {
    "duration": 33,
    "start_time": "2022-11-13T16:40:01.812Z"
   },
   {
    "duration": 57,
    "start_time": "2022-11-13T16:40:01.847Z"
   },
   {
    "duration": 9,
    "start_time": "2022-11-13T16:40:01.906Z"
   },
   {
    "duration": 24,
    "start_time": "2022-11-13T16:40:01.916Z"
   },
   {
    "duration": 1884,
    "start_time": "2022-11-13T16:40:01.942Z"
   },
   {
    "duration": 36,
    "start_time": "2022-11-13T16:40:03.827Z"
   },
   {
    "duration": 203,
    "start_time": "2022-11-13T16:40:03.879Z"
   },
   {
    "duration": 8,
    "start_time": "2022-11-13T16:40:04.084Z"
   },
   {
    "duration": 187,
    "start_time": "2022-11-13T16:40:04.094Z"
   },
   {
    "duration": 1006,
    "start_time": "2022-11-13T16:40:04.283Z"
   },
   {
    "duration": 0,
    "start_time": "2022-11-13T16:40:05.290Z"
   },
   {
    "duration": 0,
    "start_time": "2022-11-13T16:40:05.292Z"
   },
   {
    "duration": 0,
    "start_time": "2022-11-13T16:40:05.293Z"
   },
   {
    "duration": 0,
    "start_time": "2022-11-13T16:40:05.294Z"
   },
   {
    "duration": 0,
    "start_time": "2022-11-13T16:40:05.295Z"
   },
   {
    "duration": 0,
    "start_time": "2022-11-13T16:40:05.296Z"
   },
   {
    "duration": 0,
    "start_time": "2022-11-13T16:40:05.297Z"
   },
   {
    "duration": 0,
    "start_time": "2022-11-13T16:40:05.299Z"
   },
   {
    "duration": 0,
    "start_time": "2022-11-13T16:40:05.300Z"
   },
   {
    "duration": 0,
    "start_time": "2022-11-13T16:40:05.302Z"
   },
   {
    "duration": 8,
    "start_time": "2022-11-13T16:40:56.188Z"
   },
   {
    "duration": 181,
    "start_time": "2022-11-13T16:41:05.835Z"
   },
   {
    "duration": 13,
    "start_time": "2022-11-13T16:53:34.014Z"
   },
   {
    "duration": 44,
    "start_time": "2022-11-13T16:58:13.570Z"
   },
   {
    "duration": 8,
    "start_time": "2022-11-13T17:02:29.235Z"
   },
   {
    "duration": 716,
    "start_time": "2022-11-13T17:04:20.584Z"
   },
   {
    "duration": 9,
    "start_time": "2022-11-13T17:04:35.792Z"
   },
   {
    "duration": 713,
    "start_time": "2022-11-13T17:14:22.107Z"
   },
   {
    "duration": 10,
    "start_time": "2022-11-13T17:14:31.285Z"
   },
   {
    "duration": 292,
    "start_time": "2022-11-13T17:15:11.968Z"
   },
   {
    "duration": 299,
    "start_time": "2022-11-13T17:15:46.095Z"
   },
   {
    "duration": 820,
    "start_time": "2022-11-13T17:16:35.166Z"
   },
   {
    "duration": 288,
    "start_time": "2022-11-13T17:16:56.235Z"
   },
   {
    "duration": 4,
    "start_time": "2022-11-13T17:17:47.761Z"
   },
   {
    "duration": 441,
    "start_time": "2022-11-13T17:17:47.768Z"
   },
   {
    "duration": 33,
    "start_time": "2022-11-13T17:17:48.211Z"
   },
   {
    "duration": 29,
    "start_time": "2022-11-13T17:17:48.246Z"
   },
   {
    "duration": 35,
    "start_time": "2022-11-13T17:17:48.279Z"
   },
   {
    "duration": 27,
    "start_time": "2022-11-13T17:17:48.315Z"
   },
   {
    "duration": 43,
    "start_time": "2022-11-13T17:17:48.344Z"
   },
   {
    "duration": 21,
    "start_time": "2022-11-13T17:17:48.389Z"
   },
   {
    "duration": 76,
    "start_time": "2022-11-13T17:17:48.411Z"
   },
   {
    "duration": 48,
    "start_time": "2022-11-13T17:17:48.489Z"
   },
   {
    "duration": 42,
    "start_time": "2022-11-13T17:17:48.540Z"
   },
   {
    "duration": 333,
    "start_time": "2022-11-13T17:17:48.584Z"
   },
   {
    "duration": 41,
    "start_time": "2022-11-13T17:17:48.919Z"
   },
   {
    "duration": 30,
    "start_time": "2022-11-13T17:17:48.963Z"
   },
   {
    "duration": 14,
    "start_time": "2022-11-13T17:17:48.995Z"
   },
   {
    "duration": 22,
    "start_time": "2022-11-13T17:17:49.011Z"
   },
   {
    "duration": 9,
    "start_time": "2022-11-13T17:17:49.035Z"
   },
   {
    "duration": 18,
    "start_time": "2022-11-13T17:17:49.046Z"
   },
   {
    "duration": 6,
    "start_time": "2022-11-13T17:17:49.080Z"
   },
   {
    "duration": 72,
    "start_time": "2022-11-13T17:17:49.088Z"
   },
   {
    "duration": 56,
    "start_time": "2022-11-13T17:17:49.162Z"
   },
   {
    "duration": 24,
    "start_time": "2022-11-13T17:17:49.220Z"
   },
   {
    "duration": 6,
    "start_time": "2022-11-13T17:17:49.246Z"
   },
   {
    "duration": 31,
    "start_time": "2022-11-13T17:17:49.253Z"
   },
   {
    "duration": 7,
    "start_time": "2022-11-13T17:17:49.286Z"
   },
   {
    "duration": 175,
    "start_time": "2022-11-13T17:17:49.295Z"
   },
   {
    "duration": 41,
    "start_time": "2022-11-13T17:17:49.480Z"
   },
   {
    "duration": 61,
    "start_time": "2022-11-13T17:17:49.523Z"
   },
   {
    "duration": 42,
    "start_time": "2022-11-13T17:17:49.590Z"
   },
   {
    "duration": 12,
    "start_time": "2022-11-13T17:17:49.634Z"
   },
   {
    "duration": 34,
    "start_time": "2022-11-13T17:17:49.648Z"
   },
   {
    "duration": 1860,
    "start_time": "2022-11-13T17:17:49.684Z"
   },
   {
    "duration": 52,
    "start_time": "2022-11-13T17:17:51.546Z"
   },
   {
    "duration": 1145,
    "start_time": "2022-11-13T17:17:51.599Z"
   },
   {
    "duration": 9,
    "start_time": "2022-11-13T17:17:52.746Z"
   },
   {
    "duration": 225,
    "start_time": "2022-11-13T17:17:52.757Z"
   },
   {
    "duration": 9,
    "start_time": "2022-11-13T17:17:52.984Z"
   },
   {
    "duration": 188,
    "start_time": "2022-11-13T17:17:52.994Z"
   },
   {
    "duration": 44,
    "start_time": "2022-11-13T17:17:53.183Z"
   },
   {
    "duration": 0,
    "start_time": "2022-11-13T17:17:53.229Z"
   },
   {
    "duration": 0,
    "start_time": "2022-11-13T17:17:53.230Z"
   },
   {
    "duration": 0,
    "start_time": "2022-11-13T17:17:53.231Z"
   },
   {
    "duration": 0,
    "start_time": "2022-11-13T17:17:53.232Z"
   },
   {
    "duration": 0,
    "start_time": "2022-11-13T17:17:53.233Z"
   },
   {
    "duration": 0,
    "start_time": "2022-11-13T17:17:53.234Z"
   },
   {
    "duration": 0,
    "start_time": "2022-11-13T17:17:53.236Z"
   },
   {
    "duration": 0,
    "start_time": "2022-11-13T17:17:53.237Z"
   },
   {
    "duration": 0,
    "start_time": "2022-11-13T17:17:53.245Z"
   },
   {
    "duration": 289,
    "start_time": "2022-11-13T17:18:29.514Z"
   },
   {
    "duration": 448,
    "start_time": "2022-11-13T17:19:32.476Z"
   },
   {
    "duration": 354,
    "start_time": "2022-11-13T17:22:54.131Z"
   },
   {
    "duration": 467,
    "start_time": "2022-11-13T17:23:10.806Z"
   },
   {
    "duration": 336,
    "start_time": "2022-11-13T17:26:11.421Z"
   },
   {
    "duration": 320,
    "start_time": "2022-11-13T17:26:39.462Z"
   },
   {
    "duration": 330,
    "start_time": "2022-11-13T17:26:54.808Z"
   },
   {
    "duration": 287,
    "start_time": "2022-11-13T17:28:14.006Z"
   },
   {
    "duration": 509,
    "start_time": "2022-11-13T17:28:54.362Z"
   },
   {
    "duration": 321,
    "start_time": "2022-11-13T17:29:17.395Z"
   },
   {
    "duration": 340,
    "start_time": "2022-11-13T17:40:58.766Z"
   },
   {
    "duration": 14,
    "start_time": "2022-11-13T17:43:38.226Z"
   },
   {
    "duration": 342,
    "start_time": "2022-11-13T17:44:38.776Z"
   },
   {
    "duration": 269,
    "start_time": "2022-11-13T17:45:57.086Z"
   },
   {
    "duration": 276,
    "start_time": "2022-11-13T17:46:15.297Z"
   },
   {
    "duration": 235,
    "start_time": "2022-11-13T17:46:34.360Z"
   },
   {
    "duration": 701,
    "start_time": "2022-11-13T17:48:06.245Z"
   },
   {
    "duration": 900,
    "start_time": "2022-11-13T17:48:22.050Z"
   },
   {
    "duration": 19,
    "start_time": "2022-11-13T17:49:05.175Z"
   },
   {
    "duration": 276,
    "start_time": "2022-11-13T17:49:15.693Z"
   },
   {
    "duration": 17,
    "start_time": "2022-11-13T17:49:27.122Z"
   },
   {
    "duration": 16,
    "start_time": "2022-11-13T17:50:06.211Z"
   },
   {
    "duration": 247,
    "start_time": "2022-11-13T17:51:20.461Z"
   },
   {
    "duration": 16,
    "start_time": "2022-11-13T17:51:31.559Z"
   },
   {
    "duration": 212,
    "start_time": "2022-11-13T17:51:49.903Z"
   },
   {
    "duration": 15,
    "start_time": "2022-11-13T17:52:50.576Z"
   },
   {
    "duration": 17,
    "start_time": "2022-11-13T17:53:09.263Z"
   },
   {
    "duration": 14,
    "start_time": "2022-11-13T17:54:08.488Z"
   },
   {
    "duration": 222,
    "start_time": "2022-11-13T17:54:13.821Z"
   },
   {
    "duration": 19,
    "start_time": "2022-11-13T17:56:14.158Z"
   },
   {
    "duration": 13,
    "start_time": "2022-11-13T17:57:14.548Z"
   },
   {
    "duration": 19,
    "start_time": "2022-11-13T17:57:34.143Z"
   },
   {
    "duration": 13,
    "start_time": "2022-11-13T17:58:04.630Z"
   },
   {
    "duration": 104,
    "start_time": "2022-11-13T18:00:25.760Z"
   },
   {
    "duration": 10,
    "start_time": "2022-11-13T18:01:38.208Z"
   },
   {
    "duration": 13,
    "start_time": "2022-11-13T18:01:57.092Z"
   },
   {
    "duration": 11,
    "start_time": "2022-11-13T18:02:32.071Z"
   },
   {
    "duration": 10,
    "start_time": "2022-11-13T18:02:44.070Z"
   },
   {
    "duration": 11,
    "start_time": "2022-11-13T18:02:51.744Z"
   },
   {
    "duration": 10,
    "start_time": "2022-11-13T18:03:07.651Z"
   },
   {
    "duration": 79,
    "start_time": "2022-11-13T18:03:35.448Z"
   },
   {
    "duration": 11,
    "start_time": "2022-11-13T18:03:46.010Z"
   },
   {
    "duration": 20,
    "start_time": "2022-11-13T18:04:37.450Z"
   },
   {
    "duration": 11,
    "start_time": "2022-11-13T18:05:09.065Z"
   },
   {
    "duration": 21,
    "start_time": "2022-11-13T18:05:19.171Z"
   },
   {
    "duration": 10,
    "start_time": "2022-11-13T18:05:46.453Z"
   },
   {
    "duration": 9,
    "start_time": "2022-11-13T18:05:56.225Z"
   },
   {
    "duration": 15,
    "start_time": "2022-11-13T18:06:10.279Z"
   },
   {
    "duration": 13,
    "start_time": "2022-11-13T18:06:33.015Z"
   },
   {
    "duration": 16,
    "start_time": "2022-11-13T18:06:43.962Z"
   },
   {
    "duration": 10,
    "start_time": "2022-11-13T18:07:00.026Z"
   },
   {
    "duration": 15,
    "start_time": "2022-11-13T18:07:08.230Z"
   },
   {
    "duration": 39,
    "start_time": "2022-11-13T18:08:59.144Z"
   },
   {
    "duration": 16,
    "start_time": "2022-11-13T18:09:03.311Z"
   },
   {
    "duration": 29,
    "start_time": "2022-11-13T18:09:21.747Z"
   },
   {
    "duration": 30,
    "start_time": "2022-11-13T18:09:38.900Z"
   },
   {
    "duration": 238,
    "start_time": "2022-11-13T18:09:56.374Z"
   },
   {
    "duration": 234,
    "start_time": "2022-11-13T18:11:57.702Z"
   },
   {
    "duration": 228,
    "start_time": "2022-11-13T18:12:06.808Z"
   },
   {
    "duration": 316,
    "start_time": "2022-11-13T18:12:17.105Z"
   },
   {
    "duration": 298,
    "start_time": "2022-11-13T18:14:37.404Z"
   },
   {
    "duration": 500,
    "start_time": "2022-11-13T18:14:51.925Z"
   },
   {
    "duration": 58,
    "start_time": "2022-11-13T18:15:08.010Z"
   },
   {
    "duration": 244,
    "start_time": "2022-11-13T18:15:26.867Z"
   },
   {
    "duration": 261,
    "start_time": "2022-11-13T18:15:40.484Z"
   },
   {
    "duration": 296,
    "start_time": "2022-11-13T18:16:40.739Z"
   },
   {
    "duration": 336,
    "start_time": "2022-11-13T18:17:23.978Z"
   },
   {
    "duration": 380,
    "start_time": "2022-11-13T18:17:53.222Z"
   },
   {
    "duration": 486,
    "start_time": "2022-11-13T18:18:03.434Z"
   },
   {
    "duration": 1386,
    "start_time": "2022-11-14T14:49:18.931Z"
   },
   {
    "duration": 1293,
    "start_time": "2022-11-14T14:49:20.320Z"
   },
   {
    "duration": 35,
    "start_time": "2022-11-14T14:49:21.615Z"
   },
   {
    "duration": 23,
    "start_time": "2022-11-14T14:49:21.653Z"
   },
   {
    "duration": 32,
    "start_time": "2022-11-14T14:49:21.677Z"
   },
   {
    "duration": 47,
    "start_time": "2022-11-14T14:49:21.710Z"
   },
   {
    "duration": 15,
    "start_time": "2022-11-14T14:49:21.758Z"
   },
   {
    "duration": 29,
    "start_time": "2022-11-14T14:49:21.776Z"
   },
   {
    "duration": 77,
    "start_time": "2022-11-14T14:49:21.806Z"
   },
   {
    "duration": 69,
    "start_time": "2022-11-14T14:49:21.886Z"
   },
   {
    "duration": 22,
    "start_time": "2022-11-14T14:49:21.957Z"
   },
   {
    "duration": 299,
    "start_time": "2022-11-14T14:49:21.981Z"
   },
   {
    "duration": 51,
    "start_time": "2022-11-14T14:49:22.282Z"
   },
   {
    "duration": 13,
    "start_time": "2022-11-14T14:49:22.334Z"
   },
   {
    "duration": 36,
    "start_time": "2022-11-14T14:49:22.349Z"
   },
   {
    "duration": 14,
    "start_time": "2022-11-14T14:49:22.386Z"
   },
   {
    "duration": 32,
    "start_time": "2022-11-14T14:49:22.402Z"
   },
   {
    "duration": 36,
    "start_time": "2022-11-14T14:49:22.436Z"
   },
   {
    "duration": 39,
    "start_time": "2022-11-14T14:49:22.474Z"
   },
   {
    "duration": 72,
    "start_time": "2022-11-14T14:49:22.514Z"
   },
   {
    "duration": 51,
    "start_time": "2022-11-14T14:49:22.589Z"
   },
   {
    "duration": 25,
    "start_time": "2022-11-14T14:49:22.642Z"
   },
   {
    "duration": 5,
    "start_time": "2022-11-14T14:49:22.669Z"
   },
   {
    "duration": 14,
    "start_time": "2022-11-14T14:49:22.676Z"
   },
   {
    "duration": 17,
    "start_time": "2022-11-14T14:49:22.692Z"
   },
   {
    "duration": 63,
    "start_time": "2022-11-14T14:49:22.711Z"
   },
   {
    "duration": 43,
    "start_time": "2022-11-14T14:49:22.776Z"
   },
   {
    "duration": 33,
    "start_time": "2022-11-14T14:49:22.835Z"
   },
   {
    "duration": 45,
    "start_time": "2022-11-14T14:49:22.870Z"
   },
   {
    "duration": 10,
    "start_time": "2022-11-14T14:49:22.933Z"
   },
   {
    "duration": 9,
    "start_time": "2022-11-14T14:49:22.945Z"
   },
   {
    "duration": 1803,
    "start_time": "2022-11-14T14:49:22.956Z"
   },
   {
    "duration": 37,
    "start_time": "2022-11-14T14:49:24.761Z"
   },
   {
    "duration": 220,
    "start_time": "2022-11-14T14:49:24.800Z"
   },
   {
    "duration": 15,
    "start_time": "2022-11-14T14:49:25.022Z"
   },
   {
    "duration": 196,
    "start_time": "2022-11-14T14:49:25.039Z"
   },
   {
    "duration": 8,
    "start_time": "2022-11-14T14:49:25.237Z"
   },
   {
    "duration": 197,
    "start_time": "2022-11-14T14:49:25.247Z"
   },
   {
    "duration": 39,
    "start_time": "2022-11-14T14:49:25.447Z"
   },
   {
    "duration": 220,
    "start_time": "2022-11-14T14:49:25.488Z"
   },
   {
    "duration": 7,
    "start_time": "2022-11-14T14:49:25.710Z"
   },
   {
    "duration": 279,
    "start_time": "2022-11-14T14:49:25.733Z"
   },
   {
    "duration": 21,
    "start_time": "2022-11-14T14:49:26.014Z"
   },
   {
    "duration": 290,
    "start_time": "2022-11-14T14:49:26.037Z"
   },
   {
    "duration": 19,
    "start_time": "2022-11-14T14:49:26.329Z"
   },
   {
    "duration": 93,
    "start_time": "2022-11-14T14:49:26.350Z"
   },
   {
    "duration": 14,
    "start_time": "2022-11-14T14:49:26.445Z"
   },
   {
    "duration": 3,
    "start_time": "2022-11-14T16:23:45.167Z"
   },
   {
    "duration": 428,
    "start_time": "2022-11-14T16:23:45.175Z"
   },
   {
    "duration": 31,
    "start_time": "2022-11-14T16:23:45.604Z"
   },
   {
    "duration": 27,
    "start_time": "2022-11-14T16:23:45.637Z"
   },
   {
    "duration": 34,
    "start_time": "2022-11-14T16:23:45.665Z"
   },
   {
    "duration": 46,
    "start_time": "2022-11-14T16:23:45.701Z"
   },
   {
    "duration": 14,
    "start_time": "2022-11-14T16:23:45.748Z"
   },
   {
    "duration": 20,
    "start_time": "2022-11-14T16:23:45.764Z"
   },
   {
    "duration": 78,
    "start_time": "2022-11-14T16:23:45.785Z"
   },
   {
    "duration": 47,
    "start_time": "2022-11-14T16:23:45.865Z"
   },
   {
    "duration": 39,
    "start_time": "2022-11-14T16:23:45.914Z"
   },
   {
    "duration": 279,
    "start_time": "2022-11-14T16:23:45.955Z"
   },
   {
    "duration": 40,
    "start_time": "2022-11-14T16:23:46.236Z"
   },
   {
    "duration": 14,
    "start_time": "2022-11-14T16:23:46.278Z"
   },
   {
    "duration": 7,
    "start_time": "2022-11-14T16:23:46.296Z"
   },
   {
    "duration": 37,
    "start_time": "2022-11-14T16:23:46.305Z"
   },
   {
    "duration": 8,
    "start_time": "2022-11-14T16:23:46.343Z"
   },
   {
    "duration": 10,
    "start_time": "2022-11-14T16:23:46.353Z"
   },
   {
    "duration": 8,
    "start_time": "2022-11-14T16:23:46.364Z"
   },
   {
    "duration": 77,
    "start_time": "2022-11-14T16:23:46.374Z"
   },
   {
    "duration": 37,
    "start_time": "2022-11-14T16:23:46.452Z"
   },
   {
    "duration": 19,
    "start_time": "2022-11-14T16:23:46.491Z"
   },
   {
    "duration": 22,
    "start_time": "2022-11-14T16:23:46.512Z"
   },
   {
    "duration": 9,
    "start_time": "2022-11-14T16:23:46.536Z"
   },
   {
    "duration": 5,
    "start_time": "2022-11-14T16:23:46.547Z"
   },
   {
    "duration": 48,
    "start_time": "2022-11-14T16:23:46.554Z"
   },
   {
    "duration": 53,
    "start_time": "2022-11-14T16:23:46.604Z"
   },
   {
    "duration": 34,
    "start_time": "2022-11-14T16:23:46.659Z"
   },
   {
    "duration": 61,
    "start_time": "2022-11-14T16:23:46.695Z"
   },
   {
    "duration": 12,
    "start_time": "2022-11-14T16:23:46.758Z"
   },
   {
    "duration": 4,
    "start_time": "2022-11-14T16:23:46.772Z"
   },
   {
    "duration": 1871,
    "start_time": "2022-11-14T16:23:46.778Z"
   },
   {
    "duration": 41,
    "start_time": "2022-11-14T16:23:48.651Z"
   },
   {
    "duration": 215,
    "start_time": "2022-11-14T16:23:48.693Z"
   },
   {
    "duration": 8,
    "start_time": "2022-11-14T16:23:48.909Z"
   },
   {
    "duration": 191,
    "start_time": "2022-11-14T16:23:48.932Z"
   },
   {
    "duration": 13,
    "start_time": "2022-11-14T16:23:49.125Z"
   },
   {
    "duration": 201,
    "start_time": "2022-11-14T16:23:49.140Z"
   },
   {
    "duration": 40,
    "start_time": "2022-11-14T16:23:49.343Z"
   },
   {
    "duration": 305,
    "start_time": "2022-11-14T16:23:49.384Z"
   },
   {
    "duration": 8,
    "start_time": "2022-11-14T16:23:49.690Z"
   },
   {
    "duration": 217,
    "start_time": "2022-11-14T16:23:49.702Z"
   },
   {
    "duration": 14,
    "start_time": "2022-11-14T16:23:49.921Z"
   },
   {
    "duration": 307,
    "start_time": "2022-11-14T16:23:49.937Z"
   },
   {
    "duration": 15,
    "start_time": "2022-11-14T16:23:50.246Z"
   },
   {
    "duration": 78,
    "start_time": "2022-11-14T16:23:50.263Z"
   },
   {
    "duration": 12,
    "start_time": "2022-11-14T16:23:50.343Z"
   },
   {
    "duration": 288,
    "start_time": "2022-11-14T16:29:37.217Z"
   },
   {
    "duration": 372,
    "start_time": "2022-11-14T16:30:17.511Z"
   },
   {
    "duration": 208,
    "start_time": "2022-11-14T16:34:39.289Z"
   },
   {
    "duration": 411,
    "start_time": "2022-11-14T16:35:01.045Z"
   },
   {
    "duration": 272,
    "start_time": "2022-11-14T16:35:15.726Z"
   },
   {
    "duration": 270,
    "start_time": "2022-11-14T16:35:44.777Z"
   },
   {
    "duration": 15,
    "start_time": "2022-11-14T16:36:13.053Z"
   },
   {
    "duration": 13,
    "start_time": "2022-11-14T16:36:25.672Z"
   },
   {
    "duration": 275,
    "start_time": "2022-11-14T16:36:51.544Z"
   },
   {
    "duration": 274,
    "start_time": "2022-11-14T16:36:52.043Z"
   },
   {
    "duration": 14,
    "start_time": "2022-11-14T16:39:17.698Z"
   },
   {
    "duration": 13,
    "start_time": "2022-11-14T16:40:21.226Z"
   },
   {
    "duration": 507,
    "start_time": "2022-11-14T16:41:46.882Z"
   },
   {
    "duration": 306,
    "start_time": "2022-11-14T16:42:20.179Z"
   },
   {
    "duration": 299,
    "start_time": "2022-11-14T16:43:52.397Z"
   },
   {
    "duration": 276,
    "start_time": "2022-11-14T16:44:21.357Z"
   },
   {
    "duration": 334,
    "start_time": "2022-11-14T16:44:36.331Z"
   },
   {
    "duration": 344,
    "start_time": "2022-11-14T16:47:47.249Z"
   },
   {
    "duration": 411,
    "start_time": "2022-11-14T16:48:12.022Z"
   },
   {
    "duration": 276,
    "start_time": "2022-11-14T16:48:33.781Z"
   },
   {
    "duration": 292,
    "start_time": "2022-11-14T16:49:19.065Z"
   },
   {
    "duration": 303,
    "start_time": "2022-11-14T16:50:05.706Z"
   },
   {
    "duration": 309,
    "start_time": "2022-11-14T16:50:22.806Z"
   },
   {
    "duration": 425,
    "start_time": "2022-11-14T16:50:40.298Z"
   },
   {
    "duration": 288,
    "start_time": "2022-11-14T16:53:13.772Z"
   },
   {
    "duration": 281,
    "start_time": "2022-11-14T16:53:30.198Z"
   },
   {
    "duration": 262,
    "start_time": "2022-11-14T16:53:48.210Z"
   },
   {
    "duration": 273,
    "start_time": "2022-11-14T16:55:14.694Z"
   },
   {
    "duration": 290,
    "start_time": "2022-11-14T16:55:48.536Z"
   },
   {
    "duration": 438,
    "start_time": "2022-11-14T16:56:45.968Z"
   },
   {
    "duration": 120,
    "start_time": "2022-11-14T17:00:34.662Z"
   },
   {
    "duration": 356,
    "start_time": "2022-11-14T17:02:47.695Z"
   },
   {
    "duration": 314,
    "start_time": "2022-11-14T17:03:19.455Z"
   },
   {
    "duration": 949,
    "start_time": "2022-11-14T17:08:58.920Z"
   },
   {
    "duration": 3500,
    "start_time": "2022-11-14T17:09:14.938Z"
   },
   {
    "duration": 24,
    "start_time": "2022-11-14T17:09:59.726Z"
   },
   {
    "duration": 278,
    "start_time": "2022-11-14T17:10:58.170Z"
   },
   {
    "duration": 348,
    "start_time": "2022-11-14T17:13:19.974Z"
   },
   {
    "duration": 578,
    "start_time": "2022-11-14T17:13:53.925Z"
   },
   {
    "duration": 318,
    "start_time": "2022-11-14T17:16:13.521Z"
   },
   {
    "duration": 327,
    "start_time": "2022-11-14T17:17:03.364Z"
   },
   {
    "duration": 341,
    "start_time": "2022-11-14T17:17:19.381Z"
   },
   {
    "duration": 328,
    "start_time": "2022-11-14T17:17:54.266Z"
   },
   {
    "duration": 444,
    "start_time": "2022-11-14T17:19:47.217Z"
   },
   {
    "duration": 320,
    "start_time": "2022-11-14T17:24:02.902Z"
   },
   {
    "duration": 319,
    "start_time": "2022-11-14T17:24:03.396Z"
   },
   {
    "duration": 321,
    "start_time": "2022-11-14T17:25:43.238Z"
   },
   {
    "duration": 318,
    "start_time": "2022-11-14T17:26:03.582Z"
   },
   {
    "duration": 336,
    "start_time": "2022-11-14T17:28:20.807Z"
   },
   {
    "duration": 403,
    "start_time": "2022-11-14T17:28:45.370Z"
   },
   {
    "duration": 8,
    "start_time": "2022-11-14T17:31:58.122Z"
   },
   {
    "duration": 3,
    "start_time": "2022-11-14T18:54:57.230Z"
   },
   {
    "duration": 426,
    "start_time": "2022-11-14T18:54:57.237Z"
   },
   {
    "duration": 31,
    "start_time": "2022-11-14T18:54:57.665Z"
   },
   {
    "duration": 40,
    "start_time": "2022-11-14T18:54:57.698Z"
   },
   {
    "duration": 42,
    "start_time": "2022-11-14T18:54:57.739Z"
   },
   {
    "duration": 41,
    "start_time": "2022-11-14T18:54:57.783Z"
   },
   {
    "duration": 15,
    "start_time": "2022-11-14T18:54:57.827Z"
   },
   {
    "duration": 20,
    "start_time": "2022-11-14T18:54:57.844Z"
   },
   {
    "duration": 87,
    "start_time": "2022-11-14T18:54:57.866Z"
   },
   {
    "duration": 47,
    "start_time": "2022-11-14T18:54:57.955Z"
   },
   {
    "duration": 31,
    "start_time": "2022-11-14T18:54:58.003Z"
   },
   {
    "duration": 289,
    "start_time": "2022-11-14T18:54:58.035Z"
   },
   {
    "duration": 41,
    "start_time": "2022-11-14T18:54:58.325Z"
   },
   {
    "duration": 13,
    "start_time": "2022-11-14T18:54:58.368Z"
   },
   {
    "duration": 31,
    "start_time": "2022-11-14T18:54:58.384Z"
   },
   {
    "duration": 12,
    "start_time": "2022-11-14T18:54:58.417Z"
   },
   {
    "duration": 8,
    "start_time": "2022-11-14T18:54:58.431Z"
   },
   {
    "duration": 7,
    "start_time": "2022-11-14T18:54:58.440Z"
   },
   {
    "duration": 8,
    "start_time": "2022-11-14T18:54:58.448Z"
   },
   {
    "duration": 69,
    "start_time": "2022-11-14T18:54:58.458Z"
   },
   {
    "duration": 41,
    "start_time": "2022-11-14T18:54:58.529Z"
   },
   {
    "duration": 19,
    "start_time": "2022-11-14T18:54:58.572Z"
   },
   {
    "duration": 25,
    "start_time": "2022-11-14T18:54:58.593Z"
   },
   {
    "duration": 10,
    "start_time": "2022-11-14T18:54:58.620Z"
   },
   {
    "duration": 6,
    "start_time": "2022-11-14T18:54:58.631Z"
   },
   {
    "duration": 47,
    "start_time": "2022-11-14T18:54:58.639Z"
   },
   {
    "duration": 48,
    "start_time": "2022-11-14T18:54:58.688Z"
   },
   {
    "duration": 32,
    "start_time": "2022-11-14T18:54:58.738Z"
   },
   {
    "duration": 60,
    "start_time": "2022-11-14T18:54:58.771Z"
   },
   {
    "duration": 10,
    "start_time": "2022-11-14T18:54:58.832Z"
   },
   {
    "duration": 12,
    "start_time": "2022-11-14T18:54:58.844Z"
   },
   {
    "duration": 1762,
    "start_time": "2022-11-14T18:54:58.858Z"
   },
   {
    "duration": 42,
    "start_time": "2022-11-14T18:55:00.622Z"
   },
   {
    "duration": 19,
    "start_time": "2022-11-14T18:55:00.665Z"
   },
   {
    "duration": 59,
    "start_time": "2022-11-14T18:55:00.685Z"
   },
   {
    "duration": 55,
    "start_time": "2022-11-14T18:55:00.745Z"
   },
   {
    "duration": 9,
    "start_time": "2022-11-14T18:55:00.801Z"
   },
   {
    "duration": 36,
    "start_time": "2022-11-14T18:55:00.812Z"
   },
   {
    "duration": 363,
    "start_time": "2022-11-14T18:55:00.850Z"
   },
   {
    "duration": 324,
    "start_time": "2022-11-14T18:55:01.215Z"
   },
   {
    "duration": 312,
    "start_time": "2022-11-14T18:55:01.541Z"
   },
   {
    "duration": 7,
    "start_time": "2022-11-14T18:55:01.857Z"
   },
   {
    "duration": 420,
    "start_time": "2022-11-14T18:55:01.866Z"
   },
   {
    "duration": 31,
    "start_time": "2022-11-14T18:55:02.287Z"
   },
   {
    "duration": 51,
    "start_time": "2022-11-14T18:55:02.319Z"
   },
   {
    "duration": 11,
    "start_time": "2022-11-14T18:55:02.372Z"
   },
   {
    "duration": 463,
    "start_time": "2022-11-14T18:56:47.336Z"
   },
   {
    "duration": 350,
    "start_time": "2022-11-14T18:57:15.468Z"
   },
   {
    "duration": 335,
    "start_time": "2022-11-14T18:57:44.436Z"
   },
   {
    "duration": 334,
    "start_time": "2022-11-14T18:57:53.990Z"
   },
   {
    "duration": 8,
    "start_time": "2022-11-14T19:01:56.182Z"
   },
   {
    "duration": 17,
    "start_time": "2022-11-14T19:27:17.744Z"
   },
   {
    "duration": 1324,
    "start_time": "2022-11-15T16:05:11.559Z"
   },
   {
    "duration": 1206,
    "start_time": "2022-11-15T16:05:12.885Z"
   },
   {
    "duration": 65,
    "start_time": "2022-11-15T16:05:14.093Z"
   },
   {
    "duration": 18,
    "start_time": "2022-11-15T16:05:14.161Z"
   },
   {
    "duration": 50,
    "start_time": "2022-11-15T16:05:14.181Z"
   },
   {
    "duration": 42,
    "start_time": "2022-11-15T16:05:14.232Z"
   },
   {
    "duration": 26,
    "start_time": "2022-11-15T16:05:14.277Z"
   },
   {
    "duration": 58,
    "start_time": "2022-11-15T16:05:14.307Z"
   },
   {
    "duration": 97,
    "start_time": "2022-11-15T16:05:14.372Z"
   },
   {
    "duration": 65,
    "start_time": "2022-11-15T16:05:14.473Z"
   },
   {
    "duration": 30,
    "start_time": "2022-11-15T16:05:14.546Z"
   },
   {
    "duration": 370,
    "start_time": "2022-11-15T16:05:14.578Z"
   },
   {
    "duration": 58,
    "start_time": "2022-11-15T16:05:14.950Z"
   },
   {
    "duration": 22,
    "start_time": "2022-11-15T16:05:15.010Z"
   },
   {
    "duration": 31,
    "start_time": "2022-11-15T16:05:15.034Z"
   },
   {
    "duration": 20,
    "start_time": "2022-11-15T16:05:15.067Z"
   },
   {
    "duration": 7,
    "start_time": "2022-11-15T16:05:15.089Z"
   },
   {
    "duration": 9,
    "start_time": "2022-11-15T16:05:15.098Z"
   },
   {
    "duration": 23,
    "start_time": "2022-11-15T16:05:15.109Z"
   },
   {
    "duration": 108,
    "start_time": "2022-11-15T16:05:15.134Z"
   },
   {
    "duration": 54,
    "start_time": "2022-11-15T16:05:15.244Z"
   },
   {
    "duration": 34,
    "start_time": "2022-11-15T16:05:15.300Z"
   },
   {
    "duration": 10,
    "start_time": "2022-11-15T16:05:15.337Z"
   },
   {
    "duration": 9,
    "start_time": "2022-11-15T16:05:15.349Z"
   },
   {
    "duration": 13,
    "start_time": "2022-11-15T16:05:15.365Z"
   },
   {
    "duration": 89,
    "start_time": "2022-11-15T16:05:15.380Z"
   },
   {
    "duration": 44,
    "start_time": "2022-11-15T16:05:15.471Z"
   },
   {
    "duration": 51,
    "start_time": "2022-11-15T16:05:15.518Z"
   },
   {
    "duration": 41,
    "start_time": "2022-11-15T16:05:15.572Z"
   },
   {
    "duration": 38,
    "start_time": "2022-11-15T16:05:15.623Z"
   },
   {
    "duration": 31,
    "start_time": "2022-11-15T16:05:15.664Z"
   },
   {
    "duration": 2306,
    "start_time": "2022-11-15T16:05:15.697Z"
   },
   {
    "duration": 62,
    "start_time": "2022-11-15T16:05:18.004Z"
   },
   {
    "duration": 8,
    "start_time": "2022-11-15T16:05:18.069Z"
   },
   {
    "duration": 9,
    "start_time": "2022-11-15T16:05:18.079Z"
   },
   {
    "duration": 307,
    "start_time": "2022-11-15T16:05:18.090Z"
   },
   {
    "duration": 9,
    "start_time": "2022-11-15T16:05:18.399Z"
   },
   {
    "duration": 21,
    "start_time": "2022-11-15T16:05:18.410Z"
   },
   {
    "duration": 438,
    "start_time": "2022-11-15T16:05:18.432Z"
   },
   {
    "duration": 438,
    "start_time": "2022-11-15T16:05:18.872Z"
   },
   {
    "duration": 450,
    "start_time": "2022-11-15T16:05:19.313Z"
   },
   {
    "duration": 10,
    "start_time": "2022-11-15T16:05:19.766Z"
   },
   {
    "duration": 9,
    "start_time": "2022-11-15T16:05:19.778Z"
   },
   {
    "duration": 631,
    "start_time": "2022-11-15T16:05:19.788Z"
   },
   {
    "duration": 23,
    "start_time": "2022-11-15T16:05:20.422Z"
   },
   {
    "duration": 93,
    "start_time": "2022-11-15T16:05:20.447Z"
   },
   {
    "duration": 23,
    "start_time": "2022-11-15T16:05:20.542Z"
   },
   {
    "duration": 1344,
    "start_time": "2022-11-15T16:05:35.446Z"
   },
   {
    "duration": 491,
    "start_time": "2022-11-15T16:05:36.792Z"
   },
   {
    "duration": 34,
    "start_time": "2022-11-15T16:05:37.285Z"
   },
   {
    "duration": 34,
    "start_time": "2022-11-15T16:05:37.320Z"
   },
   {
    "duration": 35,
    "start_time": "2022-11-15T16:05:37.358Z"
   },
   {
    "duration": 32,
    "start_time": "2022-11-15T16:05:37.395Z"
   },
   {
    "duration": 27,
    "start_time": "2022-11-15T16:05:37.432Z"
   },
   {
    "duration": 24,
    "start_time": "2022-11-15T16:05:37.460Z"
   },
   {
    "duration": 85,
    "start_time": "2022-11-15T16:05:37.486Z"
   },
   {
    "duration": 74,
    "start_time": "2022-11-15T16:05:37.572Z"
   },
   {
    "duration": 24,
    "start_time": "2022-11-15T16:05:37.647Z"
   },
   {
    "duration": 353,
    "start_time": "2022-11-15T16:05:37.673Z"
   },
   {
    "duration": 59,
    "start_time": "2022-11-15T16:05:38.027Z"
   },
   {
    "duration": 15,
    "start_time": "2022-11-15T16:05:38.090Z"
   },
   {
    "duration": 11,
    "start_time": "2022-11-15T16:05:38.123Z"
   },
   {
    "duration": 49,
    "start_time": "2022-11-15T16:05:38.136Z"
   },
   {
    "duration": 47,
    "start_time": "2022-11-15T16:05:38.187Z"
   },
   {
    "duration": 33,
    "start_time": "2022-11-15T16:05:38.239Z"
   },
   {
    "duration": 38,
    "start_time": "2022-11-15T16:05:38.274Z"
   },
   {
    "duration": 99,
    "start_time": "2022-11-15T16:05:38.313Z"
   },
   {
    "duration": 59,
    "start_time": "2022-11-15T16:05:38.413Z"
   },
   {
    "duration": 26,
    "start_time": "2022-11-15T16:05:38.474Z"
   },
   {
    "duration": 25,
    "start_time": "2022-11-15T16:05:38.501Z"
   },
   {
    "duration": 22,
    "start_time": "2022-11-15T16:05:38.527Z"
   },
   {
    "duration": 11,
    "start_time": "2022-11-15T16:05:38.552Z"
   },
   {
    "duration": 56,
    "start_time": "2022-11-15T16:05:38.564Z"
   },
   {
    "duration": 51,
    "start_time": "2022-11-15T16:05:38.625Z"
   },
   {
    "duration": 45,
    "start_time": "2022-11-15T16:05:38.678Z"
   },
   {
    "duration": 48,
    "start_time": "2022-11-15T16:05:38.732Z"
   },
   {
    "duration": 10,
    "start_time": "2022-11-15T16:05:38.782Z"
   },
   {
    "duration": 4,
    "start_time": "2022-11-15T16:05:38.795Z"
   },
   {
    "duration": 2124,
    "start_time": "2022-11-15T16:05:38.800Z"
   },
   {
    "duration": 57,
    "start_time": "2022-11-15T16:05:40.930Z"
   },
   {
    "duration": 9,
    "start_time": "2022-11-15T16:05:40.988Z"
   },
   {
    "duration": 38,
    "start_time": "2022-11-15T16:05:40.998Z"
   },
   {
    "duration": 76,
    "start_time": "2022-11-15T16:05:41.040Z"
   },
   {
    "duration": 13,
    "start_time": "2022-11-15T16:05:41.117Z"
   },
   {
    "duration": 36,
    "start_time": "2022-11-15T16:05:41.132Z"
   },
   {
    "duration": 380,
    "start_time": "2022-11-15T16:05:41.170Z"
   },
   {
    "duration": 395,
    "start_time": "2022-11-15T16:05:41.553Z"
   },
   {
    "duration": 389,
    "start_time": "2022-11-15T16:05:41.952Z"
   },
   {
    "duration": 11,
    "start_time": "2022-11-15T16:05:42.344Z"
   },
   {
    "duration": 17,
    "start_time": "2022-11-15T16:05:42.357Z"
   },
   {
    "duration": 486,
    "start_time": "2022-11-15T16:05:42.375Z"
   },
   {
    "duration": 14,
    "start_time": "2022-11-15T16:05:42.863Z"
   },
   {
    "duration": 97,
    "start_time": "2022-11-15T16:05:42.879Z"
   },
   {
    "duration": 12,
    "start_time": "2022-11-15T16:05:42.978Z"
   },
   {
    "duration": 129,
    "start_time": "2022-11-15T16:15:52.817Z"
   },
   {
    "duration": 17,
    "start_time": "2022-11-15T16:16:22.850Z"
   },
   {
    "duration": 260,
    "start_time": "2022-11-15T16:17:02.907Z"
   }
  ],
  "kernelspec": {
   "display_name": "Python 3 (ipykernel)",
   "language": "python",
   "name": "python3"
  },
  "language_info": {
   "codemirror_mode": {
    "name": "ipython",
    "version": 3
   },
   "file_extension": ".py",
   "mimetype": "text/x-python",
   "name": "python",
   "nbconvert_exporter": "python",
   "pygments_lexer": "ipython3",
   "version": "3.9.7"
  },
  "toc": {
   "base_numbering": 1,
   "nav_menu": {},
   "number_sections": true,
   "sideBar": true,
   "skip_h1_title": true,
   "title_cell": "Table of Contents",
   "title_sidebar": "Contents",
   "toc_cell": false,
   "toc_position": {
    "height": "calc(100% - 180px)",
    "left": "10px",
    "top": "150px",
    "width": "165px"
   },
   "toc_section_display": true,
   "toc_window_display": false
  }
 },
 "nbformat": 4,
 "nbformat_minor": 2
}
