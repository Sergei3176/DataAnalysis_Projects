{
 "cells": [
  {
   "cell_type": "markdown",
   "id": "792ae181",
   "metadata": {},
   "source": [
    "# Исследование клиентов для телекоммуникационной компании."
   ]
  },
  {
   "cell_type": "markdown",
   "id": "170b2643",
   "metadata": {},
   "source": [
    "Заказчик — большая телекоммуникационная компания.\n",
    "Цель: Перед компанией стоит задача определить текущий уровень потребительской лояльности (NPS) среди клиентов из России.\n",
    "Задачи: \n",
    "1. Обработать материалы опроса;\n",
    "2. Подготовка дашборда с его итогами. \n",
    "Работа выполняется в SQLite.\n",
    "В рамках проекта необходимо выяснить:\n",
    "Как распределены участники опроса по возрасту, полу и возрасту;\n",
    "Соотношение количества старых и новых пользователей;\n",
    "Активность населения городов в рамках опроса;\n",
    "Степень лояльности разных групп пользователей сервису;\n",
    "Общий NPS среди всех опрошенных;\n",
    "Черты и особенности, характеризующие группу cторонников (promoters).\n",
    "\n",
    "Структура проекта:\n",
    "\n",
    "1. [Изучение данных.](#start)\n",
    "2. [Предобработка данных.](#preprocessing)\n",
    "3. [Создание и выгрузка таблицы.](#table)\n",
    "4. [Общий вывод.](#outcome)"
   ]
  },
  {
   "cell_type": "code",
   "execution_count": 1,
   "id": "870e796d",
   "metadata": {},
   "outputs": [],
   "source": [
    "import pandas as pd\n",
    "import numpy as np\n",
    "\n",
    "from sqlalchemy import create_engine\n"
   ]
  },
  {
   "cell_type": "code",
   "execution_count": 2,
   "id": "02fa022e",
   "metadata": {},
   "outputs": [],
   "source": [
    "path_to_db_server = '/datasets/telecomm_csi.db'  \n",
    "\n",
    "    \n",
    "engine = create_engine(f'sqlite:///{path_to_db_server}', echo = False)"
   ]
  },
  {
   "cell_type": "markdown",
   "id": "58137b88",
   "metadata": {},
   "source": [
    "## Формирование запроса и изучение данных.<a id=\"start\"></a>"
   ]
  },
  {
   "cell_type": "code",
   "execution_count": 3,
   "id": "a0b01c3b",
   "metadata": {},
   "outputs": [],
   "source": [
    "query = \"\"\"\n",
    "SELECT u.user_id, u.lt_day,\n",
    "       CASE\n",
    "       WHEN u.lt_day <= 365 THEN 'TRUE'\n",
    "       ELSE 'FALSE'\n",
    "       END AS is_new,\n",
    "u.age,\n",
    "       CASE\n",
    "       WHEN gender_segment = 0 THEN 'мужчина'\n",
    "       ELSE 'женщина'\n",
    "       END AS gender_segment,\n",
    "u.os_name, u.cpe_type_name, l.country, l.city, SUBSTR(a_s.title, 4) AS age_segment,\n",
    "SUBSTR(ts.title, 4) AS traffic_segment, SUBSTR(lts.title, 4) AS lifetime_segment,\n",
    "u.nps_score,\n",
    "        CASE\n",
    "        WHEN u.nps_score <= 6 THEN 'detractors'\n",
    "        WHEN u.nps_score >= 9 THEN 'promoters'\n",
    "        ELSE 'passives'\n",
    "        END AS nps_group\n",
    "FROM location AS l\n",
    "LEFT OUTER JOIN user AS u ON l.location_id = u.location_id\n",
    "LEFT OUTER JOIN age_segment AS a_s ON a_s.age_gr_id = u.age_gr_id\n",
    "LEFT OUTER JOIN traffic_segment AS ts ON ts.tr_gr_id = u.tr_gr_id\n",
    "LEFT OUTER JOIN lifetime_segment AS lts ON lts.lt_gr_id = u.lt_gr_id\n",
    "\n",
    ";\n",
    "\"\"\""
   ]
  },
  {
   "cell_type": "code",
   "execution_count": 4,
   "id": "02e49896",
   "metadata": {},
   "outputs": [
    {
     "data": {
      "text/html": [
       "<div>\n",
       "<style scoped>\n",
       "    .dataframe tbody tr th:only-of-type {\n",
       "        vertical-align: middle;\n",
       "    }\n",
       "\n",
       "    .dataframe tbody tr th {\n",
       "        vertical-align: top;\n",
       "    }\n",
       "\n",
       "    .dataframe thead th {\n",
       "        text-align: right;\n",
       "    }\n",
       "</style>\n",
       "<table border=\"1\" class=\"dataframe\">\n",
       "  <thead>\n",
       "    <tr style=\"text-align: right;\">\n",
       "      <th></th>\n",
       "      <th>user_id</th>\n",
       "      <th>lt_day</th>\n",
       "      <th>is_new</th>\n",
       "      <th>age</th>\n",
       "      <th>gender_segment</th>\n",
       "      <th>os_name</th>\n",
       "      <th>cpe_type_name</th>\n",
       "      <th>country</th>\n",
       "      <th>city</th>\n",
       "      <th>age_segment</th>\n",
       "      <th>traffic_segment</th>\n",
       "      <th>lifetime_segment</th>\n",
       "      <th>nps_score</th>\n",
       "      <th>nps_group</th>\n",
       "    </tr>\n",
       "  </thead>\n",
       "  <tbody>\n",
       "    <tr>\n",
       "      <th>0</th>\n",
       "      <td>A0CMN5</td>\n",
       "      <td>2729</td>\n",
       "      <td>FALSE</td>\n",
       "      <td>27.0</td>\n",
       "      <td>мужчина</td>\n",
       "      <td>ANDROID</td>\n",
       "      <td>SMARTPHONE</td>\n",
       "      <td>Россия</td>\n",
       "      <td>Архангельск</td>\n",
       "      <td>25-34</td>\n",
       "      <td>60-65</td>\n",
       "      <td>36+</td>\n",
       "      <td>6</td>\n",
       "      <td>detractors</td>\n",
       "    </tr>\n",
       "    <tr>\n",
       "      <th>1</th>\n",
       "      <td>A0CYVK</td>\n",
       "      <td>478</td>\n",
       "      <td>FALSE</td>\n",
       "      <td>48.0</td>\n",
       "      <td>женщина</td>\n",
       "      <td>ANDROID</td>\n",
       "      <td>SMARTPHONE</td>\n",
       "      <td>Россия</td>\n",
       "      <td>Архангельск</td>\n",
       "      <td>45-54</td>\n",
       "      <td>10-15</td>\n",
       "      <td>13-24</td>\n",
       "      <td>7</td>\n",
       "      <td>passives</td>\n",
       "    </tr>\n",
       "    <tr>\n",
       "      <th>2</th>\n",
       "      <td>A0HNQU</td>\n",
       "      <td>413</td>\n",
       "      <td>FALSE</td>\n",
       "      <td>42.0</td>\n",
       "      <td>женщина</td>\n",
       "      <td>ANDROID</td>\n",
       "      <td>SMARTPHONE</td>\n",
       "      <td>Россия</td>\n",
       "      <td>Архангельск</td>\n",
       "      <td>35-44</td>\n",
       "      <td>20-25</td>\n",
       "      <td>13-24</td>\n",
       "      <td>9</td>\n",
       "      <td>promoters</td>\n",
       "    </tr>\n",
       "  </tbody>\n",
       "</table>\n",
       "</div>"
      ],
      "text/plain": [
       "  user_id  lt_day is_new   age gender_segment  os_name cpe_type_name country  \\\n",
       "0  A0CMN5    2729  FALSE  27.0        мужчина  ANDROID    SMARTPHONE  Россия   \n",
       "1  A0CYVK     478  FALSE  48.0        женщина  ANDROID    SMARTPHONE  Россия   \n",
       "2  A0HNQU     413  FALSE  42.0        женщина  ANDROID    SMARTPHONE  Россия   \n",
       "\n",
       "          city age_segment traffic_segment lifetime_segment  nps_score  \\\n",
       "0  Архангельск       25-34           60-65              36+          6   \n",
       "1  Архангельск       45-54           10-15            13-24          7   \n",
       "2  Архангельск       35-44           20-25            13-24          9   \n",
       "\n",
       "    nps_group  \n",
       "0  detractors  \n",
       "1    passives  \n",
       "2   promoters  "
      ]
     },
     "execution_count": 4,
     "metadata": {},
     "output_type": "execute_result"
    }
   ],
   "source": [
    "df = pd.read_sql(query, engine)\n",
    "df.head(3)"
   ]
  },
  {
   "cell_type": "markdown",
   "id": "d2bc9610",
   "metadata": {},
   "source": [
    "## Предобработка данных.<a id=\"preprocessing\"></a>"
   ]
  },
  {
   "cell_type": "code",
   "execution_count": 5,
   "id": "b8519d9e",
   "metadata": {},
   "outputs": [
    {
     "data": {
      "text/plain": [
       "user_id               0\n",
       "lt_day                0\n",
       "is_new                0\n",
       "age                 554\n",
       "gender_segment        0\n",
       "os_name               0\n",
       "cpe_type_name         0\n",
       "country               0\n",
       "city                  0\n",
       "age_segment           0\n",
       "traffic_segment       0\n",
       "lifetime_segment      0\n",
       "nps_score             0\n",
       "nps_group             0\n",
       "dtype: int64"
      ]
     },
     "metadata": {},
     "output_type": "display_data"
    },
    {
     "data": {
      "text/plain": [
       "0"
      ]
     },
     "metadata": {},
     "output_type": "display_data"
    },
    {
     "data": {
      "text/plain": [
       "501939"
      ]
     },
     "metadata": {},
     "output_type": "display_data"
    },
    {
     "data": {
      "text/plain": [
       "array(['мужчина', 'женщина'], dtype=object)"
      ]
     },
     "metadata": {},
     "output_type": "display_data"
    },
    {
     "data": {
      "text/plain": [
       "женщина    273743\n",
       "мужчина    228750\n",
       "Name: gender_segment, dtype: int64"
      ]
     },
     "metadata": {},
     "output_type": "display_data"
    }
   ],
   "source": [
    "display(df.isna().sum())\n",
    "display(df.duplicated().sum())\n",
    "display(df['age'].count())\n",
    "display(df['gender_segment'].unique())\n",
    "display(df['gender_segment'].value_counts())"
   ]
  },
  {
   "cell_type": "markdown",
   "id": "015a3342",
   "metadata": {},
   "source": [
    "Дубликатов строк в таблице нет. В колонке age присутствует 554 значения NULL из 502493 значений, что состаляет 0.11% от общего количества. Следовательно, мы можем пренебречь количеством значений NULL, как незначительным. В столбце gender_segment до применения CASE присутствуют значения 1, 0 и nan. Здесь присутствует 1301 значение nan, что составляет 0.26% от общего количества. Следовательно, мы можем пренебречь количеством значений nan, как незначительным. Выделять их в отдельную группунет необходимости."
   ]
  },
  {
   "cell_type": "markdown",
   "id": "4d9fb6d6",
   "metadata": {},
   "source": [
    "## Создание и выгрузка таблицы.<a id=\"table\"></a>"
   ]
  },
  {
   "cell_type": "markdown",
   "id": "68b9d438",
   "metadata": {},
   "source": []
  },
  {
   "cell_type": "code",
   "execution_count": 6,
   "id": "30d6151c",
   "metadata": {},
   "outputs": [],
   "source": [
    "df.to_csv('telecomm_csi_tableau.csv', index=False)"
   ]
  },
  {
   "cell_type": "code",
   "execution_count": 7,
   "id": "67318d42",
   "metadata": {},
   "outputs": [
    {
     "name": "stdout",
     "output_type": "stream",
     "text": [
      "<class 'pandas.core.frame.DataFrame'>\n",
      "RangeIndex: 502493 entries, 0 to 502492\n",
      "Data columns (total 14 columns):\n",
      " #   Column            Non-Null Count   Dtype  \n",
      "---  ------            --------------   -----  \n",
      " 0   user_id           502493 non-null  object \n",
      " 1   lt_day            502493 non-null  int64  \n",
      " 2   is_new            502493 non-null  object \n",
      " 3   age               501939 non-null  float64\n",
      " 4   gender_segment    502493 non-null  object \n",
      " 5   os_name           502493 non-null  object \n",
      " 6   cpe_type_name     502493 non-null  object \n",
      " 7   country           502493 non-null  object \n",
      " 8   city              502493 non-null  object \n",
      " 9   age_segment       502493 non-null  object \n",
      " 10  traffic_segment   502493 non-null  object \n",
      " 11  lifetime_segment  502493 non-null  object \n",
      " 12  nps_score         502493 non-null  int64  \n",
      " 13  nps_group         502493 non-null  object \n",
      "dtypes: float64(1), int64(2), object(11)\n",
      "memory usage: 53.7+ MB\n"
     ]
    }
   ],
   "source": [
    "df.info()"
   ]
  },
  {
   "cell_type": "markdown",
   "id": "908bf1c7",
   "metadata": {},
   "source": [
    "## Вывод.<a id=\"outcome\"></a>"
   ]
  },
  {
   "cell_type": "markdown",
   "id": "77d65254",
   "metadata": {},
   "source": [
    "В результате исследования можно сделать следующие выводы:\n",
    "\n",
    "Общий NPS всех клиентов компании составил 21.90%.\n",
    "\n",
    "Медианный возраст клиентов компании - 39 лет. Медианный возраст для возрастных сегментов: до 16 лет - 14; 16-24 года - 22; 25-34 года - 31; 35-44 года - 39; 45-54 года - 49; 55-64 года - 58; 66 + лет - 68.\n",
    "\n",
    "Медианный возраст с учётом гендерной принадлежности не изменяется - 39 лет, как у мужчин, так и у женщин. В межквартильном интервале женщины на полгода старше мужчин.\n",
    "\n",
    "Новые клиенты составляют 17.13% от общего количества, старые - 82.87. NPS у \"новичков\" значительно выше - 35.62 против 19.06 у \"старых\" клиентов.\n",
    "\n",
    "Больше всего участников опроса проживает в Москве, Санкт-Петербурге и в других городах-миллионниках. При этом количество участников в миллионниках уменьшается непропорционально уменьшению населения. Определить именно степень активности в каждом городе невозможно, поскольку нет данных о населении каждого города. Случайные внешние данные позволяют говорить о том, что активность томичей в 2, а новосибирцев - приблизительно в 3 раза выше, чем москвичей.\n",
    "\n",
    "Есть определённая зависимость степени лояльности клиентов от возраста. С 16 до 66 лет наблюдается рост лояльности. В каждой возрастной группе женщины значительно более лояльны компании, чем мужчины. В группах 16-24 и 25-34 года уровень лояльности среди женщин почти в 2 раза выше, чем среди мужчин. Не лояльны только возрастная группа до 16 лет и людя, не указавшие возраст.\n",
    "\n",
    "В группах по типу устройства наиболее лояльны (100%) владельцы MIFI-роутеров. Владельцы WLAN-роутеров, портативных устройств и карманных компьютеров демонстрируют нулевое значение NPS, владельцы модемов и mobile test platform - отрицательное значение NPS. Крайними значениями, как и нулевыми, можно пренебречь, поскольку их владельцы представленны числом от 1 до 7. Самая многочисленная группа (владельцы смртфонов) демонстрируют NPS равный 21.5.\n",
    "\n",
    "Наибольшую лояльность в группах по объёму трафика показывают наименее активные пользователи с трафиком до 1 мегабайта (34.62%, 28.21%, 26.94%). Наименьший уровень лояльности свойствен самой активной группе с трафиком больше 24100 мегабайт (2.48%). При этом, самая многочисленная группа (112649 человек), объём трафика которой равен от 1 до 5 мегабайт, показывает уровень лояльности 22.88%.\n",
    "\n",
    "Уровень лояльности опрошенных не зависит от места проживания. Нет зависимости от проживания в столице, городах миллионниках или в городах среднего размера.\n",
    "\n",
    "В зависимости от используемой операционной системы, наиболее лояльными оказались клиенты, использующие SYMBIAN OS. Далее с небольшими интервалами идут BADA OS, варианты WINDOWS, ANDROID и, с большим отрывом - IOS, пользователи которой наименее лояльны.\n",
    "\n",
    "Группа promoters составляет большинство среди клиентов компании - 52.55%\n",
    "В группе promoters пользователи предпочитают OS ANDROID (88.88%). Близкие по значению показатели свойственны и для двух других групп. IOS используют 9.66% promoters, что приблизительно в полтора раза меньше этого показателя для двух других групп.\n",
    "96.71% promoters предпочитают использовать смартфоны. Близкие по значению показатели свойственны представителям двух других групп.\n",
    "В большей части сегментов по потреблению трафика promoters составляют заметное большинство. Больше всего их количественно среди тех, кто использует до 10 мегабайт.\n",
    "Основную часть группы promoters составляют мужчины и женщины в возрасте 25-44 года. Причём, женщины в обеих возрастных группах преобладают. В группе 35-44 года, такое преобладание очень заметно.\n",
    "Таким образом, в группе promoters, составляющей 52.55% всех клиентов, представлены, как мужчины, так и женщины всех возрастных групп. Возрас основного количества клиентов - 25-44 года. Женщин реди них заметно больше. Представители этой группы используют трафик объёме до 10 мегабайт. Они предпочитают использовать смартфоны на OS ANDROID, не отличаясь в этом от представителей двух других групп клиентов компании."
   ]
  },
  {
   "cell_type": "markdown",
   "id": "f1b5a6fc",
   "metadata": {},
   "source": [
    "### Ссылка на дашборд на сайте Tableau Public:"
   ]
  },
  {
   "cell_type": "markdown",
   "id": "a925213e",
   "metadata": {},
   "source": [
    "https://public.tableau.com/app/profile/sergei.kinev/viz/_16563355732310/promoters_5?publish=yes"
   ]
  },
  {
   "cell_type": "markdown",
   "id": "d1348c11",
   "metadata": {},
   "source": [
    "### Ссылка на pdf-файл с презентацией:"
   ]
  },
  {
   "cell_type": "markdown",
   "id": "06acc9e1",
   "metadata": {},
   "source": [
    "https://drive.google.com/file/d/1QAZQUPV2uxqh7GXBh2RrrRXCj_EeL0zq/view?usp=sharing"
   ]
  }
 ],
 "metadata": {
  "ExecuteTimeLog": [
   {
    "duration": 500,
    "start_time": "2022-06-29T03:57:38.009Z"
   },
   {
    "duration": 9,
    "start_time": "2022-06-29T03:57:38.511Z"
   },
   {
    "duration": 7,
    "start_time": "2022-06-29T03:57:38.522Z"
   },
   {
    "duration": 6690,
    "start_time": "2022-06-29T03:57:38.531Z"
   },
   {
    "duration": 1875,
    "start_time": "2022-06-29T03:57:45.222Z"
   },
   {
    "duration": 3441,
    "start_time": "2022-06-29T03:57:47.098Z"
   },
   {
    "duration": 487,
    "start_time": "2022-06-29T03:57:50.542Z"
   },
   {
    "duration": 472,
    "start_time": "2022-06-29T07:27:49.177Z"
   },
   {
    "duration": 29,
    "start_time": "2022-06-29T07:27:49.651Z"
   },
   {
    "duration": 2,
    "start_time": "2022-06-29T07:27:49.682Z"
   },
   {
    "duration": 6480,
    "start_time": "2022-06-29T07:27:49.686Z"
   },
   {
    "duration": 1839,
    "start_time": "2022-06-29T07:27:56.168Z"
   },
   {
    "duration": 0,
    "start_time": "2022-06-29T07:27:58.008Z"
   },
   {
    "duration": 0,
    "start_time": "2022-06-29T07:27:58.009Z"
   },
   {
    "duration": 3,
    "start_time": "2022-06-29T07:28:12.216Z"
   },
   {
    "duration": 5307,
    "start_time": "2022-06-29T07:28:15.670Z"
   },
   {
    "duration": 1795,
    "start_time": "2022-06-29T07:28:20.978Z"
   },
   {
    "duration": 1741,
    "start_time": "2022-06-29T07:28:43.106Z"
   },
   {
    "duration": 2,
    "start_time": "2022-06-29T07:29:37.246Z"
   },
   {
    "duration": 25,
    "start_time": "2022-06-29T07:29:37.250Z"
   },
   {
    "duration": 8,
    "start_time": "2022-06-29T07:29:37.277Z"
   },
   {
    "duration": 5693,
    "start_time": "2022-06-29T07:29:37.286Z"
   },
   {
    "duration": 1761,
    "start_time": "2022-06-29T07:29:42.985Z"
   },
   {
    "duration": 0,
    "start_time": "2022-06-29T07:29:44.748Z"
   },
   {
    "duration": 0,
    "start_time": "2022-06-29T07:29:44.750Z"
   },
   {
    "duration": 1775,
    "start_time": "2022-06-29T07:37:55.555Z"
   },
   {
    "duration": 1725,
    "start_time": "2022-06-29T07:46:14.101Z"
   },
   {
    "duration": 1753,
    "start_time": "2022-06-29T07:46:26.241Z"
   },
   {
    "duration": 2,
    "start_time": "2022-06-29T07:49:48.107Z"
   },
   {
    "duration": 21,
    "start_time": "2022-06-29T07:49:48.111Z"
   },
   {
    "duration": 5,
    "start_time": "2022-06-29T07:49:48.133Z"
   },
   {
    "duration": 5654,
    "start_time": "2022-06-29T07:49:48.139Z"
   },
   {
    "duration": 1873,
    "start_time": "2022-06-29T07:49:53.794Z"
   },
   {
    "duration": 3995,
    "start_time": "2022-06-29T07:49:55.670Z"
   },
   {
    "duration": 478,
    "start_time": "2022-06-29T07:49:59.667Z"
   },
   {
    "duration": 3,
    "start_time": "2022-06-29T08:01:23.047Z"
   },
   {
    "duration": 5532,
    "start_time": "2022-06-29T08:01:27.327Z"
   },
   {
    "duration": 1808,
    "start_time": "2022-06-29T08:01:42.506Z"
   },
   {
    "duration": 1817,
    "start_time": "2022-06-29T08:02:43.275Z"
   },
   {
    "duration": 1807,
    "start_time": "2022-06-29T08:02:56.648Z"
   },
   {
    "duration": 3,
    "start_time": "2022-06-29T08:28:54.162Z"
   },
   {
    "duration": 3,
    "start_time": "2022-06-29T08:29:04.994Z"
   },
   {
    "duration": 5611,
    "start_time": "2022-06-29T08:29:16.439Z"
   },
   {
    "duration": 3,
    "start_time": "2022-06-29T08:44:48.968Z"
   },
   {
    "duration": 9,
    "start_time": "2022-06-29T08:44:48.973Z"
   },
   {
    "duration": 5,
    "start_time": "2022-06-29T08:44:48.984Z"
   },
   {
    "duration": 5907,
    "start_time": "2022-06-29T08:44:49.008Z"
   },
   {
    "duration": 2052,
    "start_time": "2022-06-29T08:44:54.917Z"
   },
   {
    "duration": 4111,
    "start_time": "2022-06-29T08:44:56.971Z"
   },
   {
    "duration": 517,
    "start_time": "2022-06-29T08:45:01.085Z"
   },
   {
    "duration": 2126,
    "start_time": "2022-06-29T08:49:25.606Z"
   },
   {
    "duration": 2083,
    "start_time": "2022-06-29T08:49:43.906Z"
   },
   {
    "duration": 3,
    "start_time": "2022-06-29T08:58:11.362Z"
   },
   {
    "duration": 573,
    "start_time": "2022-06-29T08:58:42.271Z"
   },
   {
    "duration": 30,
    "start_time": "2022-06-29T08:58:42.846Z"
   },
   {
    "duration": 3,
    "start_time": "2022-06-29T08:58:42.878Z"
   },
   {
    "duration": 7124,
    "start_time": "2022-06-29T08:58:42.883Z"
   },
   {
    "duration": 2262,
    "start_time": "2022-06-29T08:58:50.009Z"
   },
   {
    "duration": 4042,
    "start_time": "2022-06-29T08:58:52.273Z"
   },
   {
    "duration": 562,
    "start_time": "2022-06-29T08:58:56.318Z"
   },
   {
    "duration": 3761,
    "start_time": "2022-06-29T09:01:20.139Z"
   },
   {
    "duration": 3,
    "start_time": "2022-06-29T09:36:12.323Z"
   },
   {
    "duration": 2,
    "start_time": "2022-06-29T09:36:17.332Z"
   },
   {
    "duration": 8,
    "start_time": "2022-06-29T09:36:17.336Z"
   },
   {
    "duration": 5,
    "start_time": "2022-06-29T09:36:17.345Z"
   },
   {
    "duration": 5665,
    "start_time": "2022-06-29T09:36:17.351Z"
   },
   {
    "duration": 2138,
    "start_time": "2022-06-29T09:36:23.018Z"
   },
   {
    "duration": 3964,
    "start_time": "2022-06-29T09:36:25.157Z"
   },
   {
    "duration": 546,
    "start_time": "2022-06-29T09:36:29.123Z"
   },
   {
    "duration": 2,
    "start_time": "2022-06-29T11:41:14.378Z"
   },
   {
    "duration": 6,
    "start_time": "2022-06-29T11:41:14.383Z"
   },
   {
    "duration": 6,
    "start_time": "2022-06-29T11:41:14.391Z"
   },
   {
    "duration": 6501,
    "start_time": "2022-06-29T11:41:14.399Z"
   },
   {
    "duration": 2409,
    "start_time": "2022-06-29T11:41:20.902Z"
   },
   {
    "duration": 4498,
    "start_time": "2022-06-29T11:41:23.313Z"
   },
   {
    "duration": 573,
    "start_time": "2022-06-29T11:41:27.812Z"
   },
   {
    "duration": 518,
    "start_time": "2022-06-30T04:42:15.524Z"
   },
   {
    "duration": 18,
    "start_time": "2022-06-30T04:42:16.044Z"
   },
   {
    "duration": 3,
    "start_time": "2022-06-30T04:42:16.064Z"
   },
   {
    "duration": 5268,
    "start_time": "2022-06-30T04:42:16.069Z"
   },
   {
    "duration": 1995,
    "start_time": "2022-06-30T04:42:21.338Z"
   },
   {
    "duration": 3716,
    "start_time": "2022-06-30T04:42:23.334Z"
   },
   {
    "duration": 490,
    "start_time": "2022-06-30T04:42:27.055Z"
   }
  ],
  "kernelspec": {
   "display_name": "Python 3 (ipykernel)",
   "language": "python",
   "name": "python3"
  },
  "language_info": {
   "codemirror_mode": {
    "name": "ipython",
    "version": 3
   },
   "file_extension": ".py",
   "mimetype": "text/x-python",
   "name": "python",
   "nbconvert_exporter": "python",
   "pygments_lexer": "ipython3",
   "version": "3.9.7"
  },
  "toc": {
   "base_numbering": 1,
   "nav_menu": {},
   "number_sections": true,
   "sideBar": true,
   "skip_h1_title": true,
   "title_cell": "Table of Contents",
   "title_sidebar": "Contents",
   "toc_cell": false,
   "toc_position": {},
   "toc_section_display": true,
   "toc_window_display": false
  }
 },
 "nbformat": 4,
 "nbformat_minor": 5
}
