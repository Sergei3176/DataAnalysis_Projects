{
 "cells": [
  {
   "cell_type": "markdown",
   "id": "771894ec",
   "metadata": {},
   "source": [
    "# Изучение российского рынка кинопроката."
   ]
  },
  {
   "cell_type": "markdown",
   "id": "e831a00b",
   "metadata": {},
   "source": [
    "## Описание проекта"
   ]
  },
  {
   "cell_type": "markdown",
   "id": "7c01a1b6",
   "metadata": {},
   "source": [
    "Заказчик этого исследования — Министерство культуры Российской Федерации.\n",
    "Цель -  изучить рынок российского кинопроката.\n",
    "Задачи: \n",
    "    1. выявить текущие тренды;\n",
    "    2.выяснить особенности проката фильмов, получивших государственную поддержку;\n",
    "    оценить интерес зрителя к фильмам, получившим государственную поддержку;\n",
    "Описание данных.\n",
    "Данные опубликованы на портале открытых данных Министерства культуры. Набор данных содержит информацию о прокатных удостоверениях, сборах и государственной поддержке фильмов, а также информацию с сайта КиноПоиск.\n",
    "Данные представленны двумя таблицами: mkrf_movies (15 параметров для анализа) 877.4+ KB и mkrf_shows (2 параметра для анализа) 49.5 KB.\n",
    "\n",
    "Структура исследования.\n",
    "\n",
    "[Часть 1. Изучение данных.](#Step1)\n",
    "\n",
    "[Часть 2. Предобработка данных.](#Step2)\n",
    "\n",
    "Обработка столбцов с категориальными данными:\n",
    "1. удаление ошибок\n",
    "2. изменение типов данных\n",
    "3. поиск пропусков\n",
    "4. удаление дубликатов\n",
    "\n",
    "Объединение таблиц.\n",
    "\n",
    "Обработка столбцов с количественными данными.\n",
    "\n",
    "[Часть 3. Исследовательский анализ данных.](#Step3)\n",
    "Определение количества фильмов, вышедших в прокат в течение каждого года.\n",
    "Нахождение доли фильмов с информацией о прокате в общем количестве фильмов\n",
    "Исследование динамики проката по годам.\n",
    "Определение среднего и медианного размера сборов за каждый год.\n",
    "Определение степени влияния возрастного ограничения аудитории на сборы фильма в прокате в период с 2015 по 2019 год.\n",
    "\n",
    "[Часть 4. Исследование фильмо, получивших государственную поддержку.](#Step4)\n",
    "Выявление размера средств,  выделенных на поддержку кино.\n",
    "Проверка окупаемости таких фильмов.\n",
    "Выяснение их рейтинга.\n",
    "Определение частоты получения господдержки режиссёрами за 10 лет.\n",
    "Выяснение названий фильмов режиссёра, получавшего поддержку наибольшее количество раз.\n",
    "Нахождение доли государственной поддержки в общем бюджете фильмов такого режиссёра.\n",
    "Определение среднего рейтинга фильмов режиссёра - \"чемпиона\"\n",
    "Получение информации об окупаемости фильмов этого режиссёра.\n",
    "Определение жанра, чаще всего поддерживающнгося государством за весь исследуемый период.\n",
    "Выявление количества студий, чьи проекты, поддержанные государством окупились и их отношение к общей массе студий, получивших господдержку.\n",
    "\n",
    "[Часть 5. Общий вывод по исследованию.](#Step5)"
   ]
  },
  {
   "cell_type": "markdown",
   "id": "a987495d",
   "metadata": {},
   "source": [
    "# Изучение данных."
   ]
  },
  {
   "cell_type": "code",
   "execution_count": 1,
   "id": "c3902ebc",
   "metadata": {
    "scrolled": true
   },
   "outputs": [],
   "source": [
    "import pandas as pd\n",
    "import matplotlib.pyplot as plt\n",
    "import numpy as np\n",
    "import warnings\n",
    "warnings.filterwarnings(\"ignore\")\n"
   ]
  },
  {
   "cell_type": "code",
   "execution_count": 2,
   "id": "5a8144cb",
   "metadata": {},
   "outputs": [
    {
     "name": "stdout",
     "output_type": "stream",
     "text": [
      "<class 'pandas.core.frame.DataFrame'>\n",
      "RangeIndex: 7486 entries, 0 to 7485\n",
      "Data columns (total 15 columns):\n",
      " #   Column                 Non-Null Count  Dtype  \n",
      "---  ------                 --------------  -----  \n",
      " 0   title                  7486 non-null   object \n",
      " 1   puNumber               7486 non-null   object \n",
      " 2   show_start_date        7486 non-null   object \n",
      " 3   type                   7486 non-null   object \n",
      " 4   film_studio            7468 non-null   object \n",
      " 5   production_country     7484 non-null   object \n",
      " 6   director               7477 non-null   object \n",
      " 7   producer               6918 non-null   object \n",
      " 8   age_restriction        7486 non-null   object \n",
      " 9   refundable_support     332 non-null    float64\n",
      " 10  nonrefundable_support  332 non-null    float64\n",
      " 11  budget                 332 non-null    float64\n",
      " 12  financing_source       332 non-null    object \n",
      " 13  ratings                6519 non-null   object \n",
      " 14  genres                 6510 non-null   object \n",
      "dtypes: float64(3), object(12)\n",
      "memory usage: 877.4+ KB\n",
      "<class 'pandas.core.frame.DataFrame'>\n",
      "RangeIndex: 3158 entries, 0 to 3157\n",
      "Data columns (total 2 columns):\n",
      " #   Column      Non-Null Count  Dtype  \n",
      "---  ------      --------------  -----  \n",
      " 0   puNumber    3158 non-null   int64  \n",
      " 1   box_office  3158 non-null   float64\n",
      "dtypes: float64(1), int64(1)\n",
      "memory usage: 49.5 KB\n"
     ]
    }
   ],
   "source": [
    "server_path_movies = '/datasets/mkrf_movies.csv'   #сохраняем путь к файлу на сервере Практикума\n",
    "local_path_movies = 'C:\\datasets\\mkrf_movies.csv'               #сохраняем путь к файлу на компьютере \n",
    "server_path_shows = '/datasets/mkrf_shows.csv'   #сохраняем путь к файлу на сервере Практикума\n",
    "local_path_shows = 'C:\\datasets\\mkrf_shows.csv'               #сохраняем путь к файлу на компьютере \n",
    "\n",
    "try:\n",
    "    data = pd.read_csv(server_path_movies)    #пробуем найти данные о фильмах по сетевому адресу\n",
    "except: \n",
    "    data = pd.read_csv(local_path_movies)     #если не находим по сетевому, ищем по локальному\n",
    "    \n",
    "try:\n",
    "    data_table = pd.read_csv(server_path_shows)    #пробуем найти данные о кассовых сборах по сетевому адресу\n",
    "except: \n",
    "    data_table = pd.read_csv(local_path_shows)     #если не находим по сетевому, ищем по локальному\n",
    "    \n",
    "    \n",
    "data.info()\n",
    "data_table.info()"
   ]
  },
  {
   "cell_type": "code",
   "execution_count": 3,
   "id": "4c0eafaa",
   "metadata": {
    "scrolled": true
   },
   "outputs": [],
   "source": [
    "\n",
    "#data = pd.read_csv('/datasets/mkrf_movies.csv')\n",
    "#data_table = pd.read_csv('/datasets/mkrf_shows.csv')\n",
    "#data.info()\n",
    "#data_table.info()"
   ]
  },
  {
   "cell_type": "markdown",
   "id": "f57f1243",
   "metadata": {},
   "source": [
    "В таблице mkrf_movies данные только по пяти параметрам представленны полностью.\n",
    "Часть цифровых данных имеет тип данных object. Данные о финансировании фильмов представленны предельно скудно (4.43% от общеего количества фильмов)\n",
    "Данные таблицы mkrf_shows дают информацию о прокате только 42.19% фильмов, представленных в таблице mkrf_movies, что ограничивает возможности исследования.\n"
   ]
  },
  {
   "cell_type": "markdown",
   "id": "4caae3ac",
   "metadata": {},
   "source": [
    "## Предобработка данных."
   ]
  },
  {
   "cell_type": "markdown",
   "id": "c8940632",
   "metadata": {},
   "source": [
    "### Обработка столбцов с категориальными данными."
   ]
  },
  {
   "cell_type": "code",
   "execution_count": 4,
   "id": "203b99bd",
   "metadata": {
    "scrolled": true
   },
   "outputs": [
    {
     "name": "stdout",
     "output_type": "stream",
     "text": [
      "<class 'pandas.core.frame.DataFrame'>\n",
      "RangeIndex: 7486 entries, 0 to 7485\n",
      "Data columns (total 15 columns):\n",
      " #   Column                 Non-Null Count  Dtype  \n",
      "---  ------                 --------------  -----  \n",
      " 0   title                  7486 non-null   object \n",
      " 1   puNumber               7486 non-null   int64  \n",
      " 2   show_start_date        7486 non-null   object \n",
      " 3   type                   7486 non-null   object \n",
      " 4   film_studio            7468 non-null   object \n",
      " 5   production_country     7484 non-null   object \n",
      " 6   director               7477 non-null   object \n",
      " 7   producer               6918 non-null   object \n",
      " 8   age_restriction        7486 non-null   object \n",
      " 9   refundable_support     332 non-null    float64\n",
      " 10  nonrefundable_support  332 non-null    float64\n",
      " 11  budget                 332 non-null    float64\n",
      " 12  financing_source       332 non-null    object \n",
      " 13  ratings                6519 non-null   object \n",
      " 14  genres                 6510 non-null   object \n",
      "dtypes: float64(3), int64(1), object(11)\n",
      "memory usage: 877.4+ KB\n"
     ]
    }
   ],
   "source": [
    "#Ошибку в столбце puNumber заменяю на значение NaN и преобразую тип данных в этом столбце - с object на int64.\n",
    "data['puNumber'] = pd.to_numeric(data['puNumber'], errors='coerce').fillna(0).astype('int64')\n",
    "data.info()"
   ]
  },
  {
   "cell_type": "code",
   "execution_count": 5,
   "id": "93037b82",
   "metadata": {},
   "outputs": [
    {
     "data": {
      "text/plain": [
       "0   2015-11-27 12:00:00+00:00\n",
       "1   2016-09-13 12:00:00+00:00\n",
       "2   2016-10-10 12:00:00+00:00\n",
       "3   2016-06-10 12:00:00+00:00\n",
       "4   2015-07-29 12:00:00+00:00\n",
       "Name: show_start_date, dtype: datetime64[ns, UTC]"
      ]
     },
     "metadata": {},
     "output_type": "display_data"
    }
   ],
   "source": [
    "#Меняю тип данных в столбце show_start_date на datetime.\n",
    "data['show_start_date'] = pd.to_datetime(data['show_start_date'], format = '%Y.%m.%dT%H:%M:%S')\n",
    "display(data['show_start_date'].head())"
   ]
  },
  {
   "cell_type": "code",
   "execution_count": 6,
   "id": "adbef632",
   "metadata": {
    "scrolled": true
   },
   "outputs": [
    {
     "name": "stdout",
     "output_type": "stream",
     "text": [
      "<class 'pandas.core.frame.DataFrame'>\n",
      "Int64Index: 7486 entries, 0 to 7485\n",
      "Data columns (total 16 columns):\n",
      " #   Column                 Non-Null Count  Dtype              \n",
      "---  ------                 --------------  -----              \n",
      " 0   title                  7486 non-null   object             \n",
      " 1   puNumber               7486 non-null   int64              \n",
      " 2   show_start_date        7486 non-null   datetime64[ns, UTC]\n",
      " 3   type                   7486 non-null   object             \n",
      " 4   film_studio            7468 non-null   object             \n",
      " 5   production_country     7484 non-null   object             \n",
      " 6   director               7477 non-null   object             \n",
      " 7   producer               6918 non-null   object             \n",
      " 8   age_restriction        7486 non-null   object             \n",
      " 9   refundable_support     332 non-null    float64            \n",
      " 10  nonrefundable_support  332 non-null    float64            \n",
      " 11  budget                 332 non-null    float64            \n",
      " 12  financing_source       332 non-null    object             \n",
      " 13  ratings                6519 non-null   object             \n",
      " 14  genres                 6510 non-null   object             \n",
      " 15  box_office             3158 non-null   float64            \n",
      "dtypes: datetime64[ns, UTC](1), float64(4), int64(1), object(10)\n",
      "memory usage: 994.2+ KB\n"
     ]
    }
   ],
   "source": [
    "#Объединяю таблицы.\n",
    "movies_data = data.merge(data_table, on = 'puNumber', how = 'left')\n",
    "movies_data.info() # проверяю объедение двух таблиц\n"
   ]
  },
  {
   "cell_type": "code",
   "execution_count": 7,
   "id": "9f89de8c",
   "metadata": {},
   "outputs": [
    {
     "data": {
      "text/plain": [
       "title                       0\n",
       "puNumber                    0\n",
       "show_start_date             0\n",
       "type                        0\n",
       "film_studio                18\n",
       "production_country          2\n",
       "director                    9\n",
       "producer                  568\n",
       "age_restriction             0\n",
       "refundable_support       7154\n",
       "nonrefundable_support    7154\n",
       "budget                   7154\n",
       "financing_source         7154\n",
       "ratings                   967\n",
       "genres                    976\n",
       "box_office               4328\n",
       "dtype: int64"
      ]
     },
     "execution_count": 7,
     "metadata": {},
     "output_type": "execute_result"
    }
   ],
   "source": [
    "#Ищу пропуски в столбцах.\n",
    "movies_data.query('production_country != production_country')\n",
    "movies_data.query('film_studio != film_studio')\n",
    "movies_data.query('age_restriction != age_restriction')\n",
    "\n",
    "movies_data.isna().sum()"
   ]
  },
  {
   "cell_type": "markdown",
   "id": "3d4f0b63",
   "metadata": {},
   "source": [
    "Пропуски присутствуют в колонках с категориальными данными: film_studio, production_country, director, producer,  financing_source, ratings, genres, box_office. \n",
    "Заполнять пропуски в колонках с числовыми значениями нет возможности, поскольку нет данных для их заполнения, в то же время значения NaN технически не препятствуютнашим дальнейшим расчётам, хотя и делают их менее репрезентативными.\n",
    "Два пропуска в столбце production_country и в целом в строке 4441 не препятствуют решению задачи, по этой причине, я оставляю таблицу как есть.\n",
    "Восемнадцать пропусков в столбце film_studio уже более заметны, но тратить время на поиск студии в каждом случае, замены типа данных float на object для каждой ячейки нет необходимости, поскольку это не влияет на решение поставленной задачи.\n",
    "То же относится к девяти пропускам в столбце director.\n",
    "Большое количество пропусков в столбце producer в значительной мере представленно советскими фильмами, в период создания которых продюсер как действующее лицо не обозначался или обозначался как директор кинокартины, или такой фигуры вообще не было. В остальных случаях пустые ячейки пришлось бы заполнять вручную, заменяя при этом тип данных с float на object, что было бы совершенно излишне, исходя из поставленной задачи.\n",
    "Нет необходимости заполнять пустые ячейки в столбце ratings (967 значений), работу пришлось бы проводить вручную, при том, что на решение задачи данный параметр не влияет.\n",
    "То же можно сказать о столбце genres (976 пустых ячеек).\n",
    "Столбцы, содержащие информацию, о финансировании фильмов, имеют одинаковое количество пропусков. Эти пропуски можно обозначить как случайные, по предложенной классификации. Но они связанны между собой. Возможно они являются частью какой-то другой таблицы, которая была включена в состав mkrf_movies.csv ранее.\n",
    "Столбцы  ratings и  genres так же могли быть включены либо в составе одной таблицы либо из двух разных.\n",
    "Сама таблица mkrf_movies.csv уже является результатом объединения трёх или более таблиц.\n",
    "Пропуски в столбцах: refundable_support, nonrefundable_support, budget и financing_source неслучайны. Они свидетельствуют о том, что фильмы были сняты без государственной поддержки."
   ]
  },
  {
   "cell_type": "code",
   "execution_count": 8,
   "id": "8f0ef9ea",
   "metadata": {},
   "outputs": [
    {
     "data": {
      "text/plain": [
       "array(['Художественный', 'Анимационный', 'Прочие', 'Документальный',\n",
       "       'Научно-популярный', ' Художественный', ' Анимационный',\n",
       "       'Музыкально-развлекательный'], dtype=object)"
      ]
     },
     "metadata": {},
     "output_type": "display_data"
    },
    {
     "data": {
      "text/plain": [
       "array(['Художественный', 'Анимационный', 'Прочие', 'Документальный',\n",
       "       'Научно-популярный', 'Музыкально-развлекательный'], dtype=object)"
      ]
     },
     "execution_count": 8,
     "metadata": {},
     "output_type": "execute_result"
    }
   ],
   "source": [
    "#Удаляю неявные дубликаты в столбце type.\n",
    "display(movies_data['type'].unique())\n",
    "movies_data['type'] = movies_data['type'].str.strip()\n",
    "movies_data['type'] = movies_data['type'].str.strip()\n",
    "movies_data['type'].unique()"
   ]
  },
  {
   "cell_type": "markdown",
   "id": "f10594e1",
   "metadata": {},
   "source": [
    "В таблице довольно много дубликатов. В столбце title их число доходит до пяти. Это вызвано тем, что на один и тот же фильм получено больше одного прокатного удостоверения без исключительных прав.\n",
    "Дубликаты в столбце type неизбежны ввиду ограгиченности самого числа типов фильмов.\n",
    "Дубликаты в столбце film_studio могут присутствовать по двум причинам. Во-первых, - каждая студия сняла за время своего существования больше одного фильма. Во-вторых, часть студий (по крайней мере - российских) имеют схожие официальные название, и в таком случае в столбце появляется подобие скрытых дубликатов, тогда как в действительности это просто юридические ухищрения (ООО \"Ералаш\", функционирующее с 14.10.2003, и ООО \"Продюссерский центр Ералаш\", существующее с 18.01.2004.). Ещё одна причина появления дубликатов (неявных) - кооперация студий при создании фильмов. В результате студия в кооперации с другими будет упоминаться дополнительно столько раз, сколько фильмов было снято ею или с её участием.\n",
    "Есть ещё по меньшей мере один странный пример. ООО \"Мульт в кино\" методом value_counts() выявляется дважды: на второй позиции, с 57 фильмами, и на четвёртой - 18 фильмами. Возможно, проблема кроется в лишнем пробеле после названия компании. Проверю это предположение и по возможности уберу дубликат в следующей ячейке.\n",
    "\n"
   ]
  },
  {
   "cell_type": "code",
   "execution_count": 9,
   "id": "b18053e4",
   "metadata": {},
   "outputs": [
    {
     "data": {
      "text/plain": [
       "18"
      ]
     },
     "execution_count": 9,
     "metadata": {},
     "output_type": "execute_result"
    }
   ],
   "source": [
    "#Убираю скрытое дублирование в названии кинокомпании.\n",
    "movies_data['film_studio'] = movies_data['film_studio'].replace('ООО \"Мульт в кино\" ', 'ООО \"Мульт в кино\"')\n",
    "\n",
    "movies_data['film_studio'] = movies_data['film_studio'].replace('АО \"Аэроплан\"', 'ЗАО \"Аэроплан\"')\n",
    "\n",
    "\n",
    "def replace_wrong_values(wrong_values, correct_value):\n",
    "    for wrong_value in wrong_values:\n",
    "        movies_data['film_studio'] = movies_data['film_studio'].replace(wrong_value, correct_value)\n",
    "\n",
    "duplicates = ['Анимаккорд Лтд', 'ООО Студия \"АНИМАККОРД\" - АНИМАККОРД ЛТД.']\n",
    "name = 'ООО Студия \"АНИМАККОРД\" - ANIMACCORD LTD.'\n",
    "replace_wrong_values(duplicates, name)\n",
    " \n",
    "movies_data['film_studio'].value_counts().head(60)\n",
    "movies_data['film_studio'].isna().sum()"
   ]
  },
  {
   "cell_type": "markdown",
   "id": "d339c1ac",
   "metadata": {},
   "source": [
    "Убрал неявные дубликаты в названиях кинокомпаний ООО \"Мульт в кино\" и ООО Студия \"АНИМАККОРД\" - ANIMACCORD LTD.\n",
    "Остальные дубликаты являются мнимыми (в столбцах type, film_studio, production_country, director, producer, age_restriction, financing_source, ratings, genres). Это неизбежно повторяющиеся типы фильмов, названия студий, стран производства, имена режисёров и продюссеров и названия продюссерских центров, категории возрастных ограничений, источники финансирования, значения рейтингов, названия жанров. Так же присутствуют различные сочетания имён режисёров и продюссеров, названий кинокомпаний и стран производства, в случаях совместного роизводства фильмов.\n",
    "Проблемой является столбец ratings, сохранённый как object и содержащий в себе не только обычные значения рейтингов от 1 до 10 с десятыми долями, но и значения в процентах(%), а так же одно значение \"nan\". Кроме того, часть значений в столбце имеет тип object, часть - float. Приведу значение в этой колонке к единообразному виду."
   ]
  },
  {
   "cell_type": "code",
   "execution_count": 10,
   "id": "4ea63bd8",
   "metadata": {},
   "outputs": [
    {
     "data": {
      "text/plain": [
       "array([7.2, 6.6, 6.8, 7.7, 8.3, 8. , 7.8, 8.1, 7.1, 6. , 7.4, 5.8, 8.7,\n",
       "       6.3, 6.9, 5. , 4.3, 7.3, 7. , 6.4, nan, 8.2, 7.5, 6.7, 7.9, 5.9,\n",
       "       6.2, 5.6, 6.5, 2.4, 7.6, 6.1, 8.6, 8.5, 8.8, 5.5, 5.1, 5.7, 5.4,\n",
       "       4.4, 4.5, 5.3, 4.1, 8.4, 2.6, 3.8, 4.6, 4.8, 4. , 3. , 1.6, 4.2,\n",
       "       5.2, 4.7, 4.9, 3.9, 2.7, 3.3, 2.9, 3.7, 1.4, 3.1, 3.5, 3.2, 2.8,\n",
       "       1.5, 2.1, 2.5, 9.2, 3.4, 1.1, 3.6, 1. , 1.3, 1.9, 1.8, 1.2, 1.7,\n",
       "       9. , 8.9, 9.1])"
      ]
     },
     "execution_count": 10,
     "metadata": {},
     "output_type": "execute_result"
    }
   ],
   "source": [
    "#Привожу значения в колонке ratings к единоообразному виду.\n",
    "movies_data['ratings'] = pd.to_numeric(movies_data['ratings'], errors = 'coerce')\n",
    "\n",
    "movies_data['ratings'].unique()"
   ]
  },
  {
   "cell_type": "code",
   "execution_count": 11,
   "id": "67ae19eb",
   "metadata": {},
   "outputs": [
    {
     "data": {
      "text/plain": [
       "0"
      ]
     },
     "metadata": {},
     "output_type": "display_data"
    },
    {
     "data": {
      "text/plain": [
       "221054410    2\n",
       "221154310    2\n",
       "221048915    1\n",
       "121004611    1\n",
       "121014411    1\n",
       "            ..\n",
       "121009015    1\n",
       "111004115    1\n",
       "211047015    1\n",
       "121011015    1\n",
       "124010719    1\n",
       "Name: puNumber, Length: 7484, dtype: int64"
      ]
     },
     "metadata": {},
     "output_type": "display_data"
    },
    {
     "data": {
      "text/html": [
       "<div>\n",
       "<style scoped>\n",
       "    .dataframe tbody tr th:only-of-type {\n",
       "        vertical-align: middle;\n",
       "    }\n",
       "\n",
       "    .dataframe tbody tr th {\n",
       "        vertical-align: top;\n",
       "    }\n",
       "\n",
       "    .dataframe thead th {\n",
       "        text-align: right;\n",
       "    }\n",
       "</style>\n",
       "<table border=\"1\" class=\"dataframe\">\n",
       "  <thead>\n",
       "    <tr style=\"text-align: right;\">\n",
       "      <th></th>\n",
       "      <th>title</th>\n",
       "      <th>puNumber</th>\n",
       "      <th>show_start_date</th>\n",
       "      <th>type</th>\n",
       "      <th>film_studio</th>\n",
       "      <th>production_country</th>\n",
       "      <th>director</th>\n",
       "      <th>producer</th>\n",
       "      <th>age_restriction</th>\n",
       "      <th>refundable_support</th>\n",
       "      <th>nonrefundable_support</th>\n",
       "      <th>budget</th>\n",
       "      <th>financing_source</th>\n",
       "      <th>ratings</th>\n",
       "      <th>genres</th>\n",
       "      <th>box_office</th>\n",
       "    </tr>\n",
       "  </thead>\n",
       "  <tbody>\n",
       "    <tr>\n",
       "      <th>4638</th>\n",
       "      <td>Как жениться и остаться холостым</td>\n",
       "      <td>221154310</td>\n",
       "      <td>2010-12-17 12:00:00+00:00</td>\n",
       "      <td>Художественный</td>\n",
       "      <td>Ше Вам, Скрипт Ассосье, Тэ Фэ 1 Фильм Продюксь...</td>\n",
       "      <td>Франция</td>\n",
       "      <td>Эрик Лартиго</td>\n",
       "      <td>Амандин Било, Алан Шаба</td>\n",
       "      <td>«16+» - для детей старше 16 лет</td>\n",
       "      <td>NaN</td>\n",
       "      <td>NaN</td>\n",
       "      <td>NaN</td>\n",
       "      <td>NaN</td>\n",
       "      <td>7.0</td>\n",
       "      <td>мелодрама,комедия</td>\n",
       "      <td>NaN</td>\n",
       "    </tr>\n",
       "    <tr>\n",
       "      <th>4639</th>\n",
       "      <td>Иоанна - женщина на папском престоле /По роман...</td>\n",
       "      <td>221154310</td>\n",
       "      <td>2010-12-17 12:00:00+00:00</td>\n",
       "      <td>Художественный</td>\n",
       "      <td>Константин Фильм, А Эр Ди Дегето Фильм, Дюне ...</td>\n",
       "      <td>Германия - Великобритания - Италия - Испания</td>\n",
       "      <td>Зенке Вортманн</td>\n",
       "      <td>Оливер Бербен, Дорис Д.Хайнце, Фарук Элтан</td>\n",
       "      <td>«16+» - для детей старше 16 лет</td>\n",
       "      <td>NaN</td>\n",
       "      <td>NaN</td>\n",
       "      <td>NaN</td>\n",
       "      <td>NaN</td>\n",
       "      <td>7.6</td>\n",
       "      <td>драма,мелодрама,история</td>\n",
       "      <td>NaN</td>\n",
       "    </tr>\n",
       "    <tr>\n",
       "      <th>5067</th>\n",
       "      <td>Анализируй это!</td>\n",
       "      <td>221054410</td>\n",
       "      <td>2010-05-25 12:00:00+00:00</td>\n",
       "      <td>Художественный</td>\n",
       "      <td>Уорнер Бразерс, Вилладж Роудшоу Филмз ЛТД</td>\n",
       "      <td>США-Австралия</td>\n",
       "      <td>ХЭрольд Рэмис</td>\n",
       "      <td>Джейн Розенталь, Пола Уейнстейн</td>\n",
       "      <td>«16+» - для детей старше 16 лет</td>\n",
       "      <td>NaN</td>\n",
       "      <td>NaN</td>\n",
       "      <td>NaN</td>\n",
       "      <td>NaN</td>\n",
       "      <td>7.4</td>\n",
       "      <td>комедия,криминал</td>\n",
       "      <td>NaN</td>\n",
       "    </tr>\n",
       "    <tr>\n",
       "      <th>5068</th>\n",
       "      <td>Анализируй то!</td>\n",
       "      <td>221054410</td>\n",
       "      <td>2010-05-25 12:00:00+00:00</td>\n",
       "      <td>Художественный</td>\n",
       "      <td>Уорнер Бразерс, Виллидж Роадшоу Пикчерз, Эн-Пи...</td>\n",
       "      <td>США</td>\n",
       "      <td>Гарольд Реймис</td>\n",
       "      <td>Джейн Розенталь, Паул Уэйнстейн</td>\n",
       "      <td>«12+» - для детей старше 12 лет</td>\n",
       "      <td>NaN</td>\n",
       "      <td>NaN</td>\n",
       "      <td>NaN</td>\n",
       "      <td>NaN</td>\n",
       "      <td>6.8</td>\n",
       "      <td>комедия,криминал</td>\n",
       "      <td>NaN</td>\n",
       "    </tr>\n",
       "  </tbody>\n",
       "</table>\n",
       "</div>"
      ],
      "text/plain": [
       "                                                  title   puNumber  \\\n",
       "4638                   Как жениться и остаться холостым  221154310   \n",
       "4639  Иоанна - женщина на папском престоле /По роман...  221154310   \n",
       "5067                                    Анализируй это!  221054410   \n",
       "5068                                     Анализируй то!  221054410   \n",
       "\n",
       "               show_start_date            type  \\\n",
       "4638 2010-12-17 12:00:00+00:00  Художественный   \n",
       "4639 2010-12-17 12:00:00+00:00  Художественный   \n",
       "5067 2010-05-25 12:00:00+00:00  Художественный   \n",
       "5068 2010-05-25 12:00:00+00:00  Художественный   \n",
       "\n",
       "                                            film_studio  \\\n",
       "4638  Ше Вам, Скрипт Ассосье, Тэ Фэ 1 Фильм Продюксь...   \n",
       "4639   Константин Фильм, А Эр Ди Дегето Фильм, Дюне ...   \n",
       "5067          Уорнер Бразерс, Вилладж Роудшоу Филмз ЛТД   \n",
       "5068  Уорнер Бразерс, Виллидж Роадшоу Пикчерз, Эн-Пи...   \n",
       "\n",
       "                                production_country        director  \\\n",
       "4638                                       Франция    Эрик Лартиго   \n",
       "4639  Германия - Великобритания - Италия - Испания  Зенке Вортманн   \n",
       "5067                                 США-Австралия   ХЭрольд Рэмис   \n",
       "5068                                           США  Гарольд Реймис   \n",
       "\n",
       "                                        producer  \\\n",
       "4638                     Амандин Било, Алан Шаба   \n",
       "4639  Оливер Бербен, Дорис Д.Хайнце, Фарук Элтан   \n",
       "5067             Джейн Розенталь, Пола Уейнстейн   \n",
       "5068             Джейн Розенталь, Паул Уэйнстейн   \n",
       "\n",
       "                      age_restriction  refundable_support  \\\n",
       "4638  «16+» - для детей старше 16 лет                 NaN   \n",
       "4639  «16+» - для детей старше 16 лет                 NaN   \n",
       "5067  «16+» - для детей старше 16 лет                 NaN   \n",
       "5068  «12+» - для детей старше 12 лет                 NaN   \n",
       "\n",
       "      nonrefundable_support  budget financing_source  ratings  \\\n",
       "4638                    NaN     NaN              NaN      7.0   \n",
       "4639                    NaN     NaN              NaN      7.6   \n",
       "5067                    NaN     NaN              NaN      7.4   \n",
       "5068                    NaN     NaN              NaN      6.8   \n",
       "\n",
       "                       genres  box_office  \n",
       "4638        мелодрама,комедия         NaN  \n",
       "4639  драма,мелодрама,история         NaN  \n",
       "5067         комедия,криминал         NaN  \n",
       "5068         комедия,криминал         NaN  "
      ]
     },
     "metadata": {},
     "output_type": "display_data"
    }
   ],
   "source": [
    "display(movies_data.duplicated().sum())\n",
    "display(movies_data['puNumber'].value_counts())\n",
    "movies_data_duplicates = movies_data.query('puNumber == 221054410 or puNumber == 221154310')\n",
    "display(movies_data_duplicates)"
   ]
  },
  {
   "cell_type": "markdown",
   "id": "a4f6d3dd",
   "metadata": {},
   "source": [
    "Полных дубликатов в таблице нет.\n",
    "В столбце puNumber два номера прокатных удостоверений дублируются. 221054410 может быть ошибкой при наборе, поскольку род этим номером обозначены прокатные удостоверения на два фильма, из которых один является продолжением другого.\n",
    "Та же ситуация с номером 221154310 необъяснима. Этот номер прокатного удостоверения написан для двух разных фильмов.\n",
    "Поскольку в данном случае я не работаю с прокатными удостоверениями, можно оставить ситуацию как есть."
   ]
  },
  {
   "cell_type": "markdown",
   "id": "2752fc19",
   "metadata": {},
   "source": [
    "### Обработка столбцов с количественными данными."
   ]
  },
  {
   "cell_type": "code",
   "execution_count": 12,
   "id": "44c858c2",
   "metadata": {},
   "outputs": [
    {
     "data": {
      "text/plain": [
       "0.0            17\n",
       "38000000.0      6\n",
       "50000000.0      4\n",
       "80000000.0      4\n",
       "37142857.0      3\n",
       "               ..\n",
       "109020947.0     1\n",
       "90276774.0      1\n",
       "78686500.0      1\n",
       "14462464.0      1\n",
       "150147502.0     1\n",
       "Name: budget, Length: 290, dtype: int64"
      ]
     },
     "metadata": {},
     "output_type": "display_data"
    },
    {
     "data": {
      "text/plain": [
       "count    3.320000e+02\n",
       "mean     1.272297e+08\n",
       "std      1.885883e+08\n",
       "min      0.000000e+00\n",
       "25%      4.200000e+07\n",
       "50%      6.864992e+07\n",
       "75%      1.419853e+08\n",
       "max      2.305074e+09\n",
       "Name: budget, dtype: float64"
      ]
     },
     "metadata": {},
     "output_type": "display_data"
    },
    {
     "data": {
      "text/html": [
       "<div>\n",
       "<style scoped>\n",
       "    .dataframe tbody tr th:only-of-type {\n",
       "        vertical-align: middle;\n",
       "    }\n",
       "\n",
       "    .dataframe tbody tr th {\n",
       "        vertical-align: top;\n",
       "    }\n",
       "\n",
       "    .dataframe thead th {\n",
       "        text-align: right;\n",
       "    }\n",
       "</style>\n",
       "<table border=\"1\" class=\"dataframe\">\n",
       "  <thead>\n",
       "    <tr style=\"text-align: right;\">\n",
       "      <th></th>\n",
       "      <th>title</th>\n",
       "      <th>puNumber</th>\n",
       "      <th>show_start_date</th>\n",
       "      <th>type</th>\n",
       "      <th>film_studio</th>\n",
       "      <th>production_country</th>\n",
       "      <th>director</th>\n",
       "      <th>producer</th>\n",
       "      <th>age_restriction</th>\n",
       "      <th>refundable_support</th>\n",
       "      <th>nonrefundable_support</th>\n",
       "      <th>budget</th>\n",
       "      <th>financing_source</th>\n",
       "      <th>ratings</th>\n",
       "      <th>genres</th>\n",
       "      <th>box_office</th>\n",
       "    </tr>\n",
       "  </thead>\n",
       "  <tbody>\n",
       "    <tr>\n",
       "      <th>2053</th>\n",
       "      <td>14+</td>\n",
       "      <td>111023614</td>\n",
       "      <td>2014-12-19 12:00:00+00:00</td>\n",
       "      <td>Художественный</td>\n",
       "      <td>ООО Киностудия  \"Сентябрь\"</td>\n",
       "      <td>Россия</td>\n",
       "      <td>А.Зайцев</td>\n",
       "      <td>О.Гранина, А.Зайцев</td>\n",
       "      <td>«16+» - для детей старше 16 лет</td>\n",
       "      <td>0.0</td>\n",
       "      <td>23000000.0</td>\n",
       "      <td>23000000.0</td>\n",
       "      <td>Министерство культуры, Фонд кино</td>\n",
       "      <td>6.6</td>\n",
       "      <td>мелодрама</td>\n",
       "      <td>1.023402e+07</td>\n",
       "    </tr>\n",
       "    <tr>\n",
       "      <th>2058</th>\n",
       "      <td>Дуxless 2</td>\n",
       "      <td>111000415</td>\n",
       "      <td>2015-01-26 12:00:00+00:00</td>\n",
       "      <td>Художественный</td>\n",
       "      <td>ООО \"Киностудия \"Слово\", ООО \"Арт Пикчерс Студия\"</td>\n",
       "      <td>Россия</td>\n",
       "      <td>Р.Прыгунов</td>\n",
       "      <td>П.Ануров, Ф.Бондарчук, Д.Рудовский</td>\n",
       "      <td>«16+» - для детей старше 16 лет</td>\n",
       "      <td>0.0</td>\n",
       "      <td>75000000.0</td>\n",
       "      <td>75000000.0</td>\n",
       "      <td>Фонд кино</td>\n",
       "      <td>6.6</td>\n",
       "      <td>драма</td>\n",
       "      <td>4.461635e+08</td>\n",
       "    </tr>\n",
       "    <tr>\n",
       "      <th>2472</th>\n",
       "      <td>Воин (2015)</td>\n",
       "      <td>111017315</td>\n",
       "      <td>2015-09-28 12:00:00+00:00</td>\n",
       "      <td>Художественный</td>\n",
       "      <td>ООО \"Форпост Продакшн\", ООО \"Арт Пикчерс Студия\"</td>\n",
       "      <td>Россия</td>\n",
       "      <td>А.Андрианов</td>\n",
       "      <td>ООО \"Арт Пикчерс Студия\"</td>\n",
       "      <td>«12+» - для детей старше 12 лет</td>\n",
       "      <td>10000000.0</td>\n",
       "      <td>70000000.0</td>\n",
       "      <td>80000000.0</td>\n",
       "      <td>Фонд кино</td>\n",
       "      <td>7.8</td>\n",
       "      <td>боевик,драма,криминал</td>\n",
       "      <td>1.965724e+08</td>\n",
       "    </tr>\n",
       "    <tr>\n",
       "      <th>2532</th>\n",
       "      <td>Бармен.</td>\n",
       "      <td>111009615</td>\n",
       "      <td>2015-05-26 12:00:00+00:00</td>\n",
       "      <td>Художественный</td>\n",
       "      <td>АО \"ВайТ Медиа\", ООО \"Арт Пикчерс Студия\"</td>\n",
       "      <td>Россия</td>\n",
       "      <td>Д.Штурманова</td>\n",
       "      <td>Т.Вайнштейн</td>\n",
       "      <td>«16+» - для детей старше 16 лет</td>\n",
       "      <td>20000000.0</td>\n",
       "      <td>0.0</td>\n",
       "      <td>20000000.0</td>\n",
       "      <td>Фонд кино</td>\n",
       "      <td>6.2</td>\n",
       "      <td>комедия,фэнтези</td>\n",
       "      <td>6.741897e+07</td>\n",
       "    </tr>\n",
       "    <tr>\n",
       "      <th>2615</th>\n",
       "      <td>Савва. Сердце воина</td>\n",
       "      <td>114001715</td>\n",
       "      <td>2015-07-21 12:00:00+00:00</td>\n",
       "      <td>Анимационный</td>\n",
       "      <td>ООО \"Глюкоза Продакшн\", ООО \"Арт Пикчерс Студия\"</td>\n",
       "      <td>Россия</td>\n",
       "      <td>М.Фадеев</td>\n",
       "      <td>А.Чистяков</td>\n",
       "      <td>«6+» - для детей старше 6 лет</td>\n",
       "      <td>60000000.0</td>\n",
       "      <td>100000000.0</td>\n",
       "      <td>160000000.0</td>\n",
       "      <td>Фонд кино</td>\n",
       "      <td>4.6</td>\n",
       "      <td>мультфильм,приключения,фэнтези</td>\n",
       "      <td>1.844876e+08</td>\n",
       "    </tr>\n",
       "    <tr>\n",
       "      <th>2684</th>\n",
       "      <td>Тряпичный союз</td>\n",
       "      <td>111010215</td>\n",
       "      <td>2015-06-08 12:00:00+00:00</td>\n",
       "      <td>Художественный</td>\n",
       "      <td>ООО \"Кинокомпания \"КОКТЕБЕЛЬ\"</td>\n",
       "      <td>Россия</td>\n",
       "      <td>М.Местецкий</td>\n",
       "      <td>Р.Борисевич, А.Кушаев</td>\n",
       "      <td>«18+» - запрещено для детей</td>\n",
       "      <td>0.0</td>\n",
       "      <td>59000000.0</td>\n",
       "      <td>59000000.0</td>\n",
       "      <td>Фонд кино</td>\n",
       "      <td>6.3</td>\n",
       "      <td>комедия,драма</td>\n",
       "      <td>1.957739e+06</td>\n",
       "    </tr>\n",
       "    <tr>\n",
       "      <th>2788</th>\n",
       "      <td>Срочно выйду замуж</td>\n",
       "      <td>111017115</td>\n",
       "      <td>2015-09-30 12:00:00+00:00</td>\n",
       "      <td>Художественный</td>\n",
       "      <td>АО \"ВайТ Медиа\", ООО \"Арт Пикчерс Студия\"</td>\n",
       "      <td>Россия</td>\n",
       "      <td>С Чекалов</td>\n",
       "      <td>Ф.Бондарчук, Т.Вайнштейн, Д.Рудовский</td>\n",
       "      <td>«16+» - для детей старше 16 лет</td>\n",
       "      <td>0.0</td>\n",
       "      <td>35000000.0</td>\n",
       "      <td>35000000.0</td>\n",
       "      <td>Фонд кино</td>\n",
       "      <td>5.1</td>\n",
       "      <td>комедия,мелодрама</td>\n",
       "      <td>7.293778e+07</td>\n",
       "    </tr>\n",
       "    <tr>\n",
       "      <th>2874</th>\n",
       "      <td>Помню - не помню!</td>\n",
       "      <td>111004916</td>\n",
       "      <td>2016-03-01 12:00:00+00:00</td>\n",
       "      <td>Художественный</td>\n",
       "      <td>ООО \"КиноФирма\"</td>\n",
       "      <td>Россия</td>\n",
       "      <td>В.Ровенский</td>\n",
       "      <td>ООО \"КиноФирма\"</td>\n",
       "      <td>«12+» - для детей старше 12 лет</td>\n",
       "      <td>0.0</td>\n",
       "      <td>6000000.0</td>\n",
       "      <td>6000000.0</td>\n",
       "      <td>Министерство культуры</td>\n",
       "      <td>4.3</td>\n",
       "      <td>комедия</td>\n",
       "      <td>1.536293e+07</td>\n",
       "    </tr>\n",
       "    <tr>\n",
       "      <th>3047</th>\n",
       "      <td>Любовь с ограничениями</td>\n",
       "      <td>111008216</td>\n",
       "      <td>2016-04-29 12:00:00+00:00</td>\n",
       "      <td>Художественный</td>\n",
       "      <td>АО \"ВайТ Медиа\", ООО \"Арт Пикчерс Студия\"</td>\n",
       "      <td>Россия</td>\n",
       "      <td>Д.Тюрин</td>\n",
       "      <td>Ф.Бондарчук, Т.Вайнштейн, Д.Рудовский</td>\n",
       "      <td>«16+» - для детей старше 16 лет</td>\n",
       "      <td>19000000.0</td>\n",
       "      <td>51000000.0</td>\n",
       "      <td>70000000.0</td>\n",
       "      <td>Фонд кино</td>\n",
       "      <td>6.3</td>\n",
       "      <td>комедия,мелодрама</td>\n",
       "      <td>7.029905e+07</td>\n",
       "    </tr>\n",
       "    <tr>\n",
       "      <th>3565</th>\n",
       "      <td>Притяжение (2016)</td>\n",
       "      <td>111018116</td>\n",
       "      <td>2016-12-16 12:00:00+00:00</td>\n",
       "      <td>Художественный</td>\n",
       "      <td>ООО \"Водород 2011\",  ООО \"Арт Пикчерс Студия\"</td>\n",
       "      <td>Россия</td>\n",
       "      <td>Ф.Бондарчук</td>\n",
       "      <td>ООО \"Арт Пикчерс Студия\"</td>\n",
       "      <td>«12+» - для детей старше 12 лет</td>\n",
       "      <td>0.0</td>\n",
       "      <td>250000000.0</td>\n",
       "      <td>250000000.0</td>\n",
       "      <td>Фонд кино</td>\n",
       "      <td>5.6</td>\n",
       "      <td>фантастика</td>\n",
       "      <td>1.038321e+09</td>\n",
       "    </tr>\n",
       "    <tr>\n",
       "      <th>3675</th>\n",
       "      <td>Чудо-юдо</td>\n",
       "      <td>114001817</td>\n",
       "      <td>2017-06-27 12:00:00+00:00</td>\n",
       "      <td>Анимационный</td>\n",
       "      <td>ООО \"КиноФирма\"</td>\n",
       "      <td>Россия</td>\n",
       "      <td>А.Лукичев</td>\n",
       "      <td>ООО \"КиноФирма\"</td>\n",
       "      <td>«6+» - для детей старше 6 лет</td>\n",
       "      <td>20000000.0</td>\n",
       "      <td>20000000.0</td>\n",
       "      <td>40000000.0</td>\n",
       "      <td>Фонд кино</td>\n",
       "      <td>5.2</td>\n",
       "      <td>мультфильм,фэнтези,семейный</td>\n",
       "      <td>5.510801e+07</td>\n",
       "    </tr>\n",
       "    <tr>\n",
       "      <th>3739</th>\n",
       "      <td>Мифы</td>\n",
       "      <td>111004317</td>\n",
       "      <td>2017-06-07 12:00:00+00:00</td>\n",
       "      <td>Художественный</td>\n",
       "      <td>ООО \"ХАЙПФИЛМ\", ООО \"Арт Пикчерс Студия\"</td>\n",
       "      <td>Россия</td>\n",
       "      <td>А.Молочников</td>\n",
       "      <td>Ф.Бондарчук, Д.Рудовский, И.Стюарт, М.Османн, ...</td>\n",
       "      <td>«16+» - для детей старше 16 лет</td>\n",
       "      <td>25000000.0</td>\n",
       "      <td>20000000.0</td>\n",
       "      <td>45000000.0</td>\n",
       "      <td>Фонд кино</td>\n",
       "      <td>4.8</td>\n",
       "      <td>комедия</td>\n",
       "      <td>5.045195e+07</td>\n",
       "    </tr>\n",
       "    <tr>\n",
       "      <th>5673</th>\n",
       "      <td>Селфи</td>\n",
       "      <td>111012117</td>\n",
       "      <td>2018-02-01 12:00:00+00:00</td>\n",
       "      <td>Художественный</td>\n",
       "      <td>ООО \"Киностудия \"Слово\", ООО \"Арт Пикчерс Студия\"</td>\n",
       "      <td>Россия</td>\n",
       "      <td>Н.Хомерики</td>\n",
       "      <td>П.Ануров, Ф.Бондарчук, Д.Рудовский</td>\n",
       "      <td>«16+» - для детей старше 16 лет</td>\n",
       "      <td>20000000.0</td>\n",
       "      <td>40000000.0</td>\n",
       "      <td>60000000.0</td>\n",
       "      <td>Фонд кино</td>\n",
       "      <td>5.8</td>\n",
       "      <td>триллер,драма</td>\n",
       "      <td>2.251964e+08</td>\n",
       "    </tr>\n",
       "    <tr>\n",
       "      <th>5806</th>\n",
       "      <td>Два хвоста</td>\n",
       "      <td>114001018</td>\n",
       "      <td>2018-05-31 12:00:00+00:00</td>\n",
       "      <td>Анимационный</td>\n",
       "      <td>ООО \"ЛИЦЕНЗИОННЫЕ БРЕНДЫ\"</td>\n",
       "      <td>Россия</td>\n",
       "      <td>В.Ровенский, Н.Лопато, В.Азеев</td>\n",
       "      <td>ООО \"ЛИЦЕНЗИОННЫЕ БРЕНДЫ\"</td>\n",
       "      <td>«6+» - для детей старше 6 лет</td>\n",
       "      <td>10000000.0</td>\n",
       "      <td>60000000.0</td>\n",
       "      <td>70000000.0</td>\n",
       "      <td>Фонд кино</td>\n",
       "      <td>5.0</td>\n",
       "      <td>мультфильм,детский</td>\n",
       "      <td>1.065143e+08</td>\n",
       "    </tr>\n",
       "    <tr>\n",
       "      <th>6008</th>\n",
       "      <td>Принцесса и дракон</td>\n",
       "      <td>114003018</td>\n",
       "      <td>2018-08-23 12:00:00+00:00</td>\n",
       "      <td>Анимационный</td>\n",
       "      <td>ООО \"ЛИЦЕНЗИОННЫЕ БРЕНДЫ\"</td>\n",
       "      <td>Россия</td>\n",
       "      <td>М.Нефедова</td>\n",
       "      <td>ООО \"ЛИЦЕНЗИОННЫЕ БРЕНДЫ\"</td>\n",
       "      <td>«6+» - для детей старше 6 лет</td>\n",
       "      <td>40000000.0</td>\n",
       "      <td>40000000.0</td>\n",
       "      <td>80000000.0</td>\n",
       "      <td>Фонд кино</td>\n",
       "      <td>5.2</td>\n",
       "      <td>мультфильм,фэнтези,детский</td>\n",
       "      <td>8.336633e+07</td>\n",
       "    </tr>\n",
       "    <tr>\n",
       "      <th>6323</th>\n",
       "      <td>Баба Яга</td>\n",
       "      <td>114006518</td>\n",
       "      <td>2018-11-08 12:00:00+00:00</td>\n",
       "      <td>Анимационный</td>\n",
       "      <td>ООО \"Арт Пикчерс Студия\"</td>\n",
       "      <td>Россия</td>\n",
       "      <td>В.Саков</td>\n",
       "      <td>ООО \"Арт Пикчерс Студия\", ООО \"КРИЭЙТИВ АНИМЭЙ...</td>\n",
       "      <td>«6+» - для детей старше 6 лет</td>\n",
       "      <td>0.0</td>\n",
       "      <td>138969465.0</td>\n",
       "      <td>138969465.0</td>\n",
       "      <td>Фонд кино</td>\n",
       "      <td>NaN</td>\n",
       "      <td>NaN</td>\n",
       "      <td>1.334699e+06</td>\n",
       "    </tr>\n",
       "    <tr>\n",
       "      <th>6823</th>\n",
       "      <td>Большое путешествие</td>\n",
       "      <td>114002419</td>\n",
       "      <td>2019-04-20 12:00:00+00:00</td>\n",
       "      <td>Анимационный</td>\n",
       "      <td>ООО \"ЛИЦЕНЗИОННЫЕ БРЕНДЫ\"</td>\n",
       "      <td>Россия</td>\n",
       "      <td>Н.Лопато, В.Ровенский</td>\n",
       "      <td>ООО \"ЛИЦЕНЗИОННЫЕ БРЕНДЫ\"</td>\n",
       "      <td>«6+» - для детей старше 6 лет</td>\n",
       "      <td>60000000.0</td>\n",
       "      <td>120000000.0</td>\n",
       "      <td>180000000.0</td>\n",
       "      <td>Фонд кино</td>\n",
       "      <td>6.2</td>\n",
       "      <td>мультфильм,комедия,приключения</td>\n",
       "      <td>1.476068e+08</td>\n",
       "    </tr>\n",
       "  </tbody>\n",
       "</table>\n",
       "</div>"
      ],
      "text/plain": [
       "                       title   puNumber           show_start_date  \\\n",
       "2053                     14+  111023614 2014-12-19 12:00:00+00:00   \n",
       "2058               Дуxless 2  111000415 2015-01-26 12:00:00+00:00   \n",
       "2472             Воин (2015)  111017315 2015-09-28 12:00:00+00:00   \n",
       "2532                 Бармен.  111009615 2015-05-26 12:00:00+00:00   \n",
       "2615     Савва. Сердце воина  114001715 2015-07-21 12:00:00+00:00   \n",
       "2684          Тряпичный союз  111010215 2015-06-08 12:00:00+00:00   \n",
       "2788      Срочно выйду замуж  111017115 2015-09-30 12:00:00+00:00   \n",
       "2874       Помню - не помню!  111004916 2016-03-01 12:00:00+00:00   \n",
       "3047  Любовь с ограничениями  111008216 2016-04-29 12:00:00+00:00   \n",
       "3565       Притяжение (2016)  111018116 2016-12-16 12:00:00+00:00   \n",
       "3675                Чудо-юдо  114001817 2017-06-27 12:00:00+00:00   \n",
       "3739                    Мифы  111004317 2017-06-07 12:00:00+00:00   \n",
       "5673                   Селфи  111012117 2018-02-01 12:00:00+00:00   \n",
       "5806              Два хвоста  114001018 2018-05-31 12:00:00+00:00   \n",
       "6008      Принцесса и дракон  114003018 2018-08-23 12:00:00+00:00   \n",
       "6323                Баба Яга  114006518 2018-11-08 12:00:00+00:00   \n",
       "6823     Большое путешествие  114002419 2019-04-20 12:00:00+00:00   \n",
       "\n",
       "                type                                        film_studio  \\\n",
       "2053  Художественный                         ООО Киностудия  \"Сентябрь\"   \n",
       "2058  Художественный  ООО \"Киностудия \"Слово\", ООО \"Арт Пикчерс Студия\"   \n",
       "2472  Художественный   ООО \"Форпост Продакшн\", ООО \"Арт Пикчерс Студия\"   \n",
       "2532  Художественный          АО \"ВайТ Медиа\", ООО \"Арт Пикчерс Студия\"   \n",
       "2615    Анимационный   ООО \"Глюкоза Продакшн\", ООО \"Арт Пикчерс Студия\"   \n",
       "2684  Художественный                      ООО \"Кинокомпания \"КОКТЕБЕЛЬ\"   \n",
       "2788  Художественный          АО \"ВайТ Медиа\", ООО \"Арт Пикчерс Студия\"   \n",
       "2874  Художественный                                    ООО \"КиноФирма\"   \n",
       "3047  Художественный          АО \"ВайТ Медиа\", ООО \"Арт Пикчерс Студия\"   \n",
       "3565  Художественный      ООО \"Водород 2011\",  ООО \"Арт Пикчерс Студия\"   \n",
       "3675    Анимационный                                    ООО \"КиноФирма\"   \n",
       "3739  Художественный           ООО \"ХАЙПФИЛМ\", ООО \"Арт Пикчерс Студия\"   \n",
       "5673  Художественный  ООО \"Киностудия \"Слово\", ООО \"Арт Пикчерс Студия\"   \n",
       "5806    Анимационный                          ООО \"ЛИЦЕНЗИОННЫЕ БРЕНДЫ\"   \n",
       "6008    Анимационный                          ООО \"ЛИЦЕНЗИОННЫЕ БРЕНДЫ\"   \n",
       "6323    Анимационный                           ООО \"Арт Пикчерс Студия\"   \n",
       "6823    Анимационный                          ООО \"ЛИЦЕНЗИОННЫЕ БРЕНДЫ\"   \n",
       "\n",
       "     production_country                        director  \\\n",
       "2053             Россия                        А.Зайцев   \n",
       "2058             Россия                      Р.Прыгунов   \n",
       "2472             Россия                     А.Андрианов   \n",
       "2532             Россия                    Д.Штурманова   \n",
       "2615             Россия                        М.Фадеев   \n",
       "2684             Россия                     М.Местецкий   \n",
       "2788             Россия                       С Чекалов   \n",
       "2874             Россия                     В.Ровенский   \n",
       "3047             Россия                         Д.Тюрин   \n",
       "3565             Россия                     Ф.Бондарчук   \n",
       "3675             Россия                       А.Лукичев   \n",
       "3739             Россия                    А.Молочников   \n",
       "5673             Россия                      Н.Хомерики   \n",
       "5806             Россия  В.Ровенский, Н.Лопато, В.Азеев   \n",
       "6008             Россия                      М.Нефедова   \n",
       "6323             Россия                         В.Саков   \n",
       "6823             Россия           Н.Лопато, В.Ровенский   \n",
       "\n",
       "                                               producer  \\\n",
       "2053                                О.Гранина, А.Зайцев   \n",
       "2058                 П.Ануров, Ф.Бондарчук, Д.Рудовский   \n",
       "2472                           ООО \"Арт Пикчерс Студия\"   \n",
       "2532                                        Т.Вайнштейн   \n",
       "2615                                         А.Чистяков   \n",
       "2684                              Р.Борисевич, А.Кушаев   \n",
       "2788              Ф.Бондарчук, Т.Вайнштейн, Д.Рудовский   \n",
       "2874                                    ООО \"КиноФирма\"   \n",
       "3047              Ф.Бондарчук, Т.Вайнштейн, Д.Рудовский   \n",
       "3565                           ООО \"Арт Пикчерс Студия\"   \n",
       "3675                                    ООО \"КиноФирма\"   \n",
       "3739  Ф.Бондарчук, Д.Рудовский, И.Стюарт, М.Османн, ...   \n",
       "5673                 П.Ануров, Ф.Бондарчук, Д.Рудовский   \n",
       "5806                          ООО \"ЛИЦЕНЗИОННЫЕ БРЕНДЫ\"   \n",
       "6008                          ООО \"ЛИЦЕНЗИОННЫЕ БРЕНДЫ\"   \n",
       "6323  ООО \"Арт Пикчерс Студия\", ООО \"КРИЭЙТИВ АНИМЭЙ...   \n",
       "6823                          ООО \"ЛИЦЕНЗИОННЫЕ БРЕНДЫ\"   \n",
       "\n",
       "                      age_restriction  refundable_support  \\\n",
       "2053  «16+» - для детей старше 16 лет                 0.0   \n",
       "2058  «16+» - для детей старше 16 лет                 0.0   \n",
       "2472  «12+» - для детей старше 12 лет          10000000.0   \n",
       "2532  «16+» - для детей старше 16 лет          20000000.0   \n",
       "2615    «6+» - для детей старше 6 лет          60000000.0   \n",
       "2684      «18+» - запрещено для детей                 0.0   \n",
       "2788  «16+» - для детей старше 16 лет                 0.0   \n",
       "2874  «12+» - для детей старше 12 лет                 0.0   \n",
       "3047  «16+» - для детей старше 16 лет          19000000.0   \n",
       "3565  «12+» - для детей старше 12 лет                 0.0   \n",
       "3675    «6+» - для детей старше 6 лет          20000000.0   \n",
       "3739  «16+» - для детей старше 16 лет          25000000.0   \n",
       "5673  «16+» - для детей старше 16 лет          20000000.0   \n",
       "5806    «6+» - для детей старше 6 лет          10000000.0   \n",
       "6008    «6+» - для детей старше 6 лет          40000000.0   \n",
       "6323    «6+» - для детей старше 6 лет                 0.0   \n",
       "6823    «6+» - для детей старше 6 лет          60000000.0   \n",
       "\n",
       "      nonrefundable_support       budget                  financing_source  \\\n",
       "2053             23000000.0   23000000.0  Министерство культуры, Фонд кино   \n",
       "2058             75000000.0   75000000.0                         Фонд кино   \n",
       "2472             70000000.0   80000000.0                         Фонд кино   \n",
       "2532                    0.0   20000000.0                         Фонд кино   \n",
       "2615            100000000.0  160000000.0                         Фонд кино   \n",
       "2684             59000000.0   59000000.0                         Фонд кино   \n",
       "2788             35000000.0   35000000.0                         Фонд кино   \n",
       "2874              6000000.0    6000000.0             Министерство культуры   \n",
       "3047             51000000.0   70000000.0                         Фонд кино   \n",
       "3565            250000000.0  250000000.0                         Фонд кино   \n",
       "3675             20000000.0   40000000.0                         Фонд кино   \n",
       "3739             20000000.0   45000000.0                         Фонд кино   \n",
       "5673             40000000.0   60000000.0                         Фонд кино   \n",
       "5806             60000000.0   70000000.0                         Фонд кино   \n",
       "6008             40000000.0   80000000.0                         Фонд кино   \n",
       "6323            138969465.0  138969465.0                         Фонд кино   \n",
       "6823            120000000.0  180000000.0                         Фонд кино   \n",
       "\n",
       "      ratings                          genres    box_office  \n",
       "2053      6.6                       мелодрама  1.023402e+07  \n",
       "2058      6.6                           драма  4.461635e+08  \n",
       "2472      7.8           боевик,драма,криминал  1.965724e+08  \n",
       "2532      6.2                 комедия,фэнтези  6.741897e+07  \n",
       "2615      4.6  мультфильм,приключения,фэнтези  1.844876e+08  \n",
       "2684      6.3                   комедия,драма  1.957739e+06  \n",
       "2788      5.1               комедия,мелодрама  7.293778e+07  \n",
       "2874      4.3                         комедия  1.536293e+07  \n",
       "3047      6.3               комедия,мелодрама  7.029905e+07  \n",
       "3565      5.6                      фантастика  1.038321e+09  \n",
       "3675      5.2     мультфильм,фэнтези,семейный  5.510801e+07  \n",
       "3739      4.8                         комедия  5.045195e+07  \n",
       "5673      5.8                   триллер,драма  2.251964e+08  \n",
       "5806      5.0              мультфильм,детский  1.065143e+08  \n",
       "6008      5.2      мультфильм,фэнтези,детский  8.336633e+07  \n",
       "6323      NaN                             NaN  1.334699e+06  \n",
       "6823      6.2  мультфильм,комедия,приключения  1.476068e+08  "
      ]
     },
     "metadata": {},
     "output_type": "display_data"
    }
   ],
   "source": [
    "#Изучаю столбцы, которые хранят количественные значения.\n",
    "#display(movies_data['refundable_support'].value_counts())\n",
    "#display(movies_data['refundable_support'].describe())\n",
    "# movies_data['nonrefundable_support'].value_counts().head(60)\n",
    "# movies_data['nonrefundable_support'].describe()\n",
    "display(movies_data['budget'].value_counts())\n",
    "display(movies_data['budget'].describe())\n",
    "# movies_data['box_office'].value_counts().tail(60)\n",
    "# movies_data['box_office'].describe()\n",
    "budget_size = movies_data[movies_data['budget'] < (movies_data['refundable_support'] + movies_data['nonrefundable_support'])]\n",
    "\n",
    "for index in range(0, len(movies_data['budget'])):\n",
    "    refundable_support = movies_data['refundable_support'][index]\n",
    "    budget = movies_data['budget'][index]\n",
    "    nonrefundable_support = movies_data['nonrefundable_support'][index]\n",
    "    if budget < (refundable_support + nonrefundable_support):\n",
    "        movies_data.loc[index, 'budget'] = refundable_support + nonrefundable_support\n",
    "\n",
    "display(movies_data.query('budget == (refundable_support + nonrefundable_support)'))\n",
    "\n"
   ]
  },
  {
   "cell_type": "markdown",
   "id": "8c992686",
   "metadata": {},
   "source": [
    "Пропуски в большом количестве присутствуют в колонках: refundable_support, nonrefundable_support, budget.\n",
    "Из 332 фильмов, для которых есть данные о возвратных средствах поддержки из государственного бюджета, 221 фильм её не получил. О фильмах, не отразившихся в этой колонке у нас информации по данному вопросу нет (в ячейках стоит NaN). Интересно, что медианное значение такой поддержки равно нулю.\n",
    "Из 332 фильмов, для которых есть данные о возвратных средствах поддержки из государственного бюджета, только 9 фильмов её не получили. Об остальных фильмах информации по получении невозвратных средств господдержки нет, и в ячейках стоит значение NaN. Медианное значение такой поддержки - 30000000. Вероятнее всего суммы выделялись в рублях.\n",
    "Данные колонки budget озадачивают. 17 фильмов имели нулевой бюджет. Учитывая, что отсутствие данных в этом случае отражается значением NaN, ноль либо является ошибкой либо означает, что фильмы снимались за счёт членов съёмочной группы.\n",
    "Столбец box_office даёт неожиданную информацию с нулевыми (24 значения) или близкими к нулю сборами. Нулевые или близкие к нулю сборы могут означать провалившиеся в прокате, малоизвестные фильмы. Относительно небольшие суммы могут быть собраны провинциальными кинотеатрами или онлайн-кинотеатрами.\n",
    "\n",
    "17 фильмов в таблице имеют бюджет меньше совокупного государственного финансирования. В таких случая я приравниваю бюджет к совокупному государственному финасированию фильма. Этот ход не даст надёжных данных, но сделает общую картину более приближенной к реальности. При помощи метода query() ппроверил результат."
   ]
  },
  {
   "cell_type": "code",
   "execution_count": 13,
   "id": "61101899",
   "metadata": {},
   "outputs": [
    {
     "data": {
      "image/png": "[encoded data removed]",
      "text/plain": [
       "<Figure size 1440x1080 with 9 Axes>"
      ]
     },
     "metadata": {
      "needs_background": "light"
     },
     "output_type": "display_data"
    }
   ],
   "source": [
    "#Выявляю нормальные значения в данных, касающихся финансирования фильмов.\n",
    "\n",
    "column_list_box = ['refundable_support', 'nonrefundable_support', 'budget', 'ratings', 'box_office']\n",
    "title_list_box = ['Размеры возвратной поддержки', 'Размеры невозвратной поддержки', 'Бюджет фильма', 'Рейтинг фильма', 'Кассовые сборы']\n",
    "limits_list = [[0, 200000000], [10000, 80000000], [0, 2500000000], [0,10], [0, 1500000000]]\n",
    "\n",
    "ax = movies_data[column_list_box].plot(kind='box', subplots=True, layout=(3,3), figsize=(20,15), grid=True)\n",
    "\n",
    "for i in range(len(column_list_box)):\n",
    "    ax[column_list_box[i]].set_ylim(limits_list[i])\n",
    "    ax[column_list_box[i]].title.set_text(title_list_box[i])\n",
    "    "
   ]
  },
  {
   "cell_type": "markdown",
   "id": "20875a0b",
   "metadata": {},
   "source": [
    "Все размеры возвратных средств свыше 375 млн. рублей оказываются выбросом. Ситуация тем более необычная, что медианное значение по этому параметру равно нулю, тогда как среднее - 11864460. Странность вызвана тем, что практически две трети фильмов о которых есть данные о финансовой поддержке возвратными средствами, такой поддержки не получили. Поскольку данных чрезвычайно мало, убирать выброс нет смысла, иначе эти данные потеряют даже намёк на репрезентативность.\n",
    "Помощь невозвратными средствами в большинстве случаев составляет 200 тыс. до 6 млн. рублей. Всё, что больше - в теории составляет выброс. По причине немногочисленности данных я буду использовать все значения.\n",
    "Бюджет основной массы фильмов не превышает 250 млн. рублей. Однако, учитывая общий дефицит информации по этому вопросу, можно взять в рассчёт фильмы с бюджетом до 1 млрд. рублей\n",
    "Значения рейтинги большинства фильмов находятся в диапазоне от 4 до 9. При это рейтинги 50% фильмов находятся в диапазоне 5.9 - 7.1\n",
    "Кассовые сборы свыше 50 млн. рублей составляют выброс.\n",
    "Проверю долю выброса от общего числа значений в колонке box_office."
   ]
  },
  {
   "cell_type": "code",
   "execution_count": 14,
   "id": "fff1469e",
   "metadata": {},
   "outputs": [
    {
     "data": {
      "text/plain": [
       "title                    597\n",
       "puNumber                 597\n",
       "show_start_date          597\n",
       "type                     597\n",
       "film_studio              597\n",
       "production_country       597\n",
       "director                 597\n",
       "producer                 596\n",
       "age_restriction          597\n",
       "refundable_support       121\n",
       "nonrefundable_support    121\n",
       "budget                   121\n",
       "financing_source         121\n",
       "ratings                  579\n",
       "genres                   580\n",
       "box_office               597\n",
       "dtype: int64"
      ]
     },
     "metadata": {},
     "output_type": "display_data"
    },
    {
     "data": {
      "text/plain": [
       "title                    0.189044\n",
       "puNumber                 0.189044\n",
       "show_start_date          0.189044\n",
       "type                     0.189044\n",
       "film_studio              0.189044\n",
       "production_country       0.189044\n",
       "director                 0.189044\n",
       "producer                 0.188727\n",
       "age_restriction          0.189044\n",
       "refundable_support       0.038315\n",
       "nonrefundable_support    0.038315\n",
       "budget                   0.038315\n",
       "financing_source         0.038315\n",
       "ratings                  0.183344\n",
       "genres                   0.183661\n",
       "box_office               0.189044\n",
       "dtype: float64"
      ]
     },
     "execution_count": 14,
     "metadata": {},
     "output_type": "execute_result"
    }
   ],
   "source": [
    "box_office_anomaly = movies_data[movies_data['box_office'] > 50000000].count()\n",
    "display(box_office_anomaly)\n",
    "box_office_anomaly_share = box_office_anomaly / movies_data['box_office'].count()\n",
    "box_office_anomaly_share"
   ]
  },
  {
   "cell_type": "markdown",
   "id": "0c85cca3",
   "metadata": {},
   "source": [
    "Общая доля выброса в колонке box_office составляет 18.9%. Это слишком много для того, чтобы игнорировать такие данные. В дальнейшем я буду проводить анализ не убирая выброс."
   ]
  },
  {
   "cell_type": "markdown",
   "id": "f0502679",
   "metadata": {},
   "source": [
    "### Добавление колонок в таблицу."
   ]
  },
  {
   "cell_type": "code",
   "execution_count": 15,
   "id": "8628b2c9",
   "metadata": {},
   "outputs": [],
   "source": [
    "#Создаю колонку year, содержащую год проката.\n",
    "movies_data['year'] = movies_data['show_start_date'].dt.year"
   ]
  },
  {
   "cell_type": "code",
   "execution_count": 16,
   "id": "e53ab6f0",
   "metadata": {},
   "outputs": [],
   "source": [
    "#Создаю колонку year, содержащую имя и фамилию глвного режисёра.\n",
    "movies_data['chief_director'] = movies_data['director'].str.split(',', 1, expand=True)[0]\n",
    "#display(movies_data.head())"
   ]
  },
  {
   "cell_type": "code",
   "execution_count": 17,
   "id": "4a823d0a",
   "metadata": {},
   "outputs": [],
   "source": [
    "#Создаю колонку year, содержащую основной жанр.\n",
    "movies_data['main_genre'] = movies_data['genres'].str.split(',', 1, expand=True)[0]\n",
    "#display(movies_data.head())"
   ]
  },
  {
   "cell_type": "code",
   "execution_count": 18,
   "id": "97d514c1",
   "metadata": {},
   "outputs": [
    {
     "data": {
      "text/plain": [
       "array([       nan, 0.33370314, 0.7       , 0.61269064, 0.69009473,\n",
       "       0.62476381, 0.48216008, 0.67999951, 0.53940683, 0.53743599,\n",
       "       0.69999998, 0.7       , 0.68947448, 0.35272785, 0.27723917,\n",
       "       0.37378187, 1.        , 0.50121231, 0.12963849, 0.62962963,\n",
       "       0.65702441, 0.66656877, 0.21      , 0.12      , 0.40975944,\n",
       "       0.25      , 0.66896323, 0.67994543, 0.69767442, 0.38758813,\n",
       "       0.52737763, 0.22192632, 0.33671433, 0.68992812, 0.69286755,\n",
       "       0.42581383, 0.36235166, 0.62036062, 0.65331017, 0.69910397,\n",
       "       0.17783734, 0.69840404, 0.36146563, 0.66268254, 0.67516879,\n",
       "       0.66392217, 0.69999999, 0.43054823, 0.70000001, 0.68297529,\n",
       "       0.69      , 0.32432432, 0.6024407 , 0.63778177, 0.6224779 ,\n",
       "       0.62459948, 0.29917895, 0.695     , 0.69999999, 0.64974102,\n",
       "       0.55555556, 0.36759115, 0.68717703, 0.62287229, 0.69444444,\n",
       "       0.48231756, 0.69996216, 0.67122405, 0.36097849, 0.34069436,\n",
       "       0.66666667, 0.62591548, 0.5931632 , 0.37313433, 0.59226455,\n",
       "       0.16992353, 0.59525249, 0.43485016, 0.54001572, 0.64102564,\n",
       "       0.35135388, 0.43330857, 0.67146749, 0.33048448, 0.69591643,\n",
       "       0.66509779, 0.64935065, 0.5267251 , 0.36893796, 0.65448889,\n",
       "       0.3384766 , 0.50083676, 0.67662156, 0.64991334, 0.48352278,\n",
       "       0.51375687, 0.1002317 , 0.65498608, 0.65000001, 0.65878099,\n",
       "       0.63157895, 0.52715257, 0.64999944, 0.22314208, 0.22931373,\n",
       "       0.44308185, 0.50834641, 0.3249792 , 0.1172056 , 0.38461538,\n",
       "       0.58647079, 0.63012599, 0.65      , 0.3660633 , 0.3074456 ,\n",
       "       0.6       , 0.64987179, 0.5       , 0.66292033, 0.47308884,\n",
       "       0.66736217, 0.66666547, 0.22526201, 0.64941493, 0.63218267,\n",
       "       0.16393443, 0.65770191, 0.12161109, 0.78474525, 0.47619048,\n",
       "       0.4526359 , 0.36842105, 0.69836488, 0.64452897, 0.32848023,\n",
       "       0.61875041, 0.51836413, 0.26572355, 0.49386564, 0.55052276,\n",
       "       0.69413076, 0.23634536, 0.64      , 0.65810325, 0.63886919,\n",
       "       0.69714819, 0.66000002, 0.42774449, 0.65625   , 0.64999942,\n",
       "       0.35555556, 0.59362535, 0.61575141, 0.6351564 , 0.21745094,\n",
       "       0.62223587, 0.61538462, 0.63387424, 0.61584255, 0.51932692,\n",
       "       0.06646133, 0.64814815, 0.5912123 , 0.64298605, 0.2904427 ,\n",
       "       0.35905176, 0.47698976, 0.52478014, 0.45571101, 0.28370599,\n",
       "       0.47377395, 0.31905415, 0.47122118, 0.69998218, 0.64991278,\n",
       "       0.440373  , 0.61625865, 0.04404305, 0.42773575, 0.33333333,\n",
       "       0.65789474, 0.57345394, 0.42307692, 0.67774533, 0.28659143,\n",
       "       0.56053812, 0.375     , 0.68396547, 0.29390556, 0.57206227,\n",
       "       0.4561668 , 0.66424729, 0.3422738 , 0.29354068, 0.42855539,\n",
       "       0.54545455, 0.66634009, 0.31872005, 0.66051763, 0.42372881,\n",
       "       0.20100503, 0.69976421, 0.66489362, 0.30564934, 0.6389076 ,\n",
       "       0.31557174, 0.62      , 0.15584416, 0.46296296, 0.66197715,\n",
       "       0.64516129, 0.62399245, 0.26830659, 0.66599993, 0.65636079,\n",
       "       0.42671218, 0.48486677, 0.49690613, 0.26003387, 0.63933474,\n",
       "       0.31095768, 0.55463674, 0.64831634, 0.69459069, 0.61994374,\n",
       "       0.62972292, 0.55645587, 0.3192708 , 0.33655869, 0.29166667,\n",
       "       0.35760299, 0.48498854, 0.30434783, 0.56450504, 0.61735408,\n",
       "       0.39422968, 0.25801936, 0.26009022, 0.63909824, 0.63812012,\n",
       "       0.23333333, 0.34059946, 0.49134705, 0.58323295, 0.24209718,\n",
       "       0.66122309, 0.66235202, 0.64336386, 0.625     , 0.65      ,\n",
       "       0.28376435, 0.6097561 , 0.64965176, 0.64794816, 0.63559322,\n",
       "       0.41207494, 0.66592675, 0.55930264, 0.66622252, 0.665     ,\n",
       "       0.61735147, 0.58873123, 0.11713288, 0.59020705, 0.64086389,\n",
       "       0.6625    , 0.25808167, 0.0769288 , 0.09090909, 0.33814336,\n",
       "       0.60474117, 0.48      , 0.21424746, 0.65683794, 0.16664128,\n",
       "       0.62848218, 0.51005957, 0.44444444, 0.51020408, 0.52631579,\n",
       "       0.52966102, 0.64999783, 0.66601175])"
      ]
     },
     "execution_count": 18,
     "metadata": {},
     "output_type": "execute_result"
    }
   ],
   "source": [
    "#Нахожу долю государственной поддержки в бюджете каждого фильма.\n",
    "movies_data['state_support_share'] = (movies_data['refundable_support'] + movies_data['nonrefundable_support'])\t / movies_data['budget']\n",
    "#display(movies_data['state_support_share'].tail(60))\n",
    "# movies_data['state_support_share'].value_counts().tail(60)\n",
    "movies_data['state_support_share'].unique()\n",
    "#display(movies_data['state_support_share'].median())"
   ]
  },
  {
   "cell_type": "markdown",
   "id": "d3f27630",
   "metadata": {},
   "source": [
    "В массе своей значение доли государственной поддержки в бюджете российских фильмов составляет до 0.66, медианное значение - 0.61. Таким образом, обычный российский фильм более чем на половину финансируется государством. Это обстоятельство с одной стороны свмидетельствует о неразвитости российского коммерческого кино, с другой - указывает на то, что в фильмах так или иначе реализуется госзаказ.\n",
    "Значения inf, как среднее и максимальное значения доли государственного финансирования, и NaN, как значение стандартного отклонения пока оставляют меня в изумлении."
   ]
  },
  {
   "cell_type": "markdown",
   "id": "1fb8d239",
   "metadata": {},
   "source": [
    "## Исследовательский анализ данных."
   ]
  },
  {
   "cell_type": "code",
   "execution_count": 19,
   "id": "68a4f18f",
   "metadata": {},
   "outputs": [
    {
     "data": {
      "text/html": [
       "<div>\n",
       "<style scoped>\n",
       "    .dataframe tbody tr th:only-of-type {\n",
       "        vertical-align: middle;\n",
       "    }\n",
       "\n",
       "    .dataframe tbody tr th {\n",
       "        vertical-align: top;\n",
       "    }\n",
       "\n",
       "    .dataframe thead th {\n",
       "        text-align: right;\n",
       "    }\n",
       "</style>\n",
       "<table border=\"1\" class=\"dataframe\">\n",
       "  <thead>\n",
       "    <tr style=\"text-align: right;\">\n",
       "      <th></th>\n",
       "      <th>box_office</th>\n",
       "      <th>title</th>\n",
       "    </tr>\n",
       "    <tr>\n",
       "      <th>year</th>\n",
       "      <th></th>\n",
       "      <th></th>\n",
       "    </tr>\n",
       "  </thead>\n",
       "  <tbody>\n",
       "    <tr>\n",
       "      <th>2010</th>\n",
       "      <td>105</td>\n",
       "      <td>985</td>\n",
       "    </tr>\n",
       "    <tr>\n",
       "      <th>2011</th>\n",
       "      <td>109</td>\n",
       "      <td>622</td>\n",
       "    </tr>\n",
       "    <tr>\n",
       "      <th>2012</th>\n",
       "      <td>128</td>\n",
       "      <td>593</td>\n",
       "    </tr>\n",
       "    <tr>\n",
       "      <th>2013</th>\n",
       "      <td>184</td>\n",
       "      <td>630</td>\n",
       "    </tr>\n",
       "    <tr>\n",
       "      <th>2014</th>\n",
       "      <td>279</td>\n",
       "      <td>807</td>\n",
       "    </tr>\n",
       "    <tr>\n",
       "      <th>2015</th>\n",
       "      <td>465</td>\n",
       "      <td>705</td>\n",
       "    </tr>\n",
       "    <tr>\n",
       "      <th>2016</th>\n",
       "      <td>526</td>\n",
       "      <td>818</td>\n",
       "    </tr>\n",
       "    <tr>\n",
       "      <th>2017</th>\n",
       "      <td>357</td>\n",
       "      <td>505</td>\n",
       "    </tr>\n",
       "    <tr>\n",
       "      <th>2018</th>\n",
       "      <td>475</td>\n",
       "      <td>891</td>\n",
       "    </tr>\n",
       "    <tr>\n",
       "      <th>2019</th>\n",
       "      <td>530</td>\n",
       "      <td>930</td>\n",
       "    </tr>\n",
       "  </tbody>\n",
       "</table>\n",
       "</div>"
      ],
      "text/plain": [
       "      box_office  title\n",
       "year                   \n",
       "2010         105    985\n",
       "2011         109    622\n",
       "2012         128    593\n",
       "2013         184    630\n",
       "2014         279    807\n",
       "2015         465    705\n",
       "2016         526    818\n",
       "2017         357    505\n",
       "2018         475    891\n",
       "2019         530    930"
      ]
     },
     "metadata": {},
     "output_type": "display_data"
    },
    {
     "data": {
      "text/plain": [
       "3158"
      ]
     },
     "metadata": {},
     "output_type": "display_data"
    },
    {
     "data": {
      "text/plain": [
       "0.42185412770504943"
      ]
     },
     "metadata": {},
     "output_type": "display_data"
    }
   ],
   "source": [
    "#Определяю долю фильмов с информацией о прокате в общем количестве фильмов.\n",
    "#Нахожу количество фильмов за каждый год и фильмов с информацией о прокате по годам.\n",
    "movies_data_pivot = movies_data.pivot_table(index = 'year', values = ['title', 'box_office'], aggfunc = 'count')\n",
    "display(movies_data_pivot)\n",
    "\n",
    "#Нахожу общее количество фильмов.\n",
    "movies_total_number = movies_data_pivot['title'].sum()\n",
    "#Получаю количество всех фильмов с информацией о прокате за 10 лет.\n",
    "release_information_total = movies_data_pivot['box_office'].sum()\n",
    "display(release_information_total)\n",
    "\n",
    "#Нахожу долю фильмов с данными о прокате от общего их количества.\n",
    "release_information_share = release_information_total / movies_total_number\n",
    "display(release_information_share)\n",
    "\n"
   ]
  },
  {
   "cell_type": "code",
   "execution_count": 20,
   "id": "bbcb8be6",
   "metadata": {},
   "outputs": [
    {
     "data": {
      "text/plain": [
       "year\n",
       "2010    0.106599\n",
       "2011    0.175241\n",
       "2012    0.215852\n",
       "2013    0.292063\n",
       "2014    0.345725\n",
       "2015    0.659574\n",
       "2016    0.643032\n",
       "2017    0.706931\n",
       "2018    0.533109\n",
       "2019    0.569892\n",
       "dtype: float64"
      ]
     },
     "metadata": {},
     "output_type": "display_data"
    },
    {
     "data": {
      "image/png": "[encoded data removed]",
      "text/plain": [
       "<Figure size 432x288 with 1 Axes>"
      ]
     },
     "metadata": {
      "needs_background": "light"
     },
     "output_type": "display_data"
    }
   ],
   "source": [
    "#Нахожу долю фильмов с информацией о прокате по годам.\n",
    "release_information_per_year = pd.to_numeric(movies_data_pivot['box_office'], errors = 'coerce') / pd.to_numeric(movies_data_pivot['title'], errors = 'coerce')\n",
    "\n",
    "#Построю график для наглядности.\n",
    "#Создам функцию, которая позволит выводить одновременно числовые значения и график.\n",
    "def display_data(data_table, figsize, xlabel, ylabel, title):\n",
    "    display(data_table)\n",
    "    ax = data_table.plot(grid=True, title=title)\n",
    "    ax.set_xlabel(xlabel)\n",
    "    ax.set_ylabel(ylabel)\n",
    "\n",
    "display_data(\n",
    "    release_information_per_year,\n",
    "    figsize = (10,10),\n",
    "    xlabel = 'годы',\n",
    "    ylabel='доля фильмов с информацией о прокате',\n",
    "    title = 'Доля фильмов с информацией о прокате'\n",
    ")\n",
    "plt.show()\n",
    "\n"
   ]
  },
  {
   "cell_type": "markdown",
   "id": "d5e6d7eb",
   "metadata": {},
   "source": [
    "Количество фильмов по годам найдено и представленно в сводной таблице movies_data_pivot. Доля фильмов с прокатной информацией составила 42,2% от их общей массы. Для указанного периода доля фильмов с указанной прокатной информацией имеет тенденцию к росту, хотя на 2018 год приходится провал, сменившийся некоторым ростом. Полнее всего в данных представлен период 2015-2017 гг. - за этот период доля фильмов, с указанной прокатной информацией составляет от 0.643 до 0.706."
   ]
  },
  {
   "cell_type": "code",
   "execution_count": 21,
   "id": "8df520d5",
   "metadata": {},
   "outputs": [
    {
     "data": {
      "text/html": [
       "<div>\n",
       "<style scoped>\n",
       "    .dataframe tbody tr th:only-of-type {\n",
       "        vertical-align: middle;\n",
       "    }\n",
       "\n",
       "    .dataframe tbody tr th {\n",
       "        vertical-align: top;\n",
       "    }\n",
       "\n",
       "    .dataframe thead th {\n",
       "        text-align: right;\n",
       "    }\n",
       "</style>\n",
       "<table border=\"1\" class=\"dataframe\">\n",
       "  <thead>\n",
       "    <tr style=\"text-align: right;\">\n",
       "      <th></th>\n",
       "      <th>box_office</th>\n",
       "    </tr>\n",
       "    <tr>\n",
       "      <th>year</th>\n",
       "      <th></th>\n",
       "    </tr>\n",
       "  </thead>\n",
       "  <tbody>\n",
       "    <tr>\n",
       "      <th>2010</th>\n",
       "      <td>2.428654e+06</td>\n",
       "    </tr>\n",
       "    <tr>\n",
       "      <th>2011</th>\n",
       "      <td>1.410276e+07</td>\n",
       "    </tr>\n",
       "    <tr>\n",
       "      <th>2012</th>\n",
       "      <td>6.955423e+06</td>\n",
       "    </tr>\n",
       "    <tr>\n",
       "      <th>2013</th>\n",
       "      <td>2.979971e+07</td>\n",
       "    </tr>\n",
       "    <tr>\n",
       "      <th>2014</th>\n",
       "      <td>7.444952e+09</td>\n",
       "    </tr>\n",
       "    <tr>\n",
       "      <th>2015</th>\n",
       "      <td>3.949737e+10</td>\n",
       "    </tr>\n",
       "    <tr>\n",
       "      <th>2016</th>\n",
       "      <td>4.786630e+10</td>\n",
       "    </tr>\n",
       "    <tr>\n",
       "      <th>2017</th>\n",
       "      <td>4.856371e+10</td>\n",
       "    </tr>\n",
       "    <tr>\n",
       "      <th>2018</th>\n",
       "      <td>4.966840e+10</td>\n",
       "    </tr>\n",
       "    <tr>\n",
       "      <th>2019</th>\n",
       "      <td>4.842571e+10</td>\n",
       "    </tr>\n",
       "  </tbody>\n",
       "</table>\n",
       "</div>"
      ],
      "text/plain": [
       "        box_office\n",
       "year              \n",
       "2010  2.428654e+06\n",
       "2011  1.410276e+07\n",
       "2012  6.955423e+06\n",
       "2013  2.979971e+07\n",
       "2014  7.444952e+09\n",
       "2015  3.949737e+10\n",
       "2016  4.786630e+10\n",
       "2017  4.856371e+10\n",
       "2018  4.966840e+10\n",
       "2019  4.842571e+10"
      ]
     },
     "metadata": {},
     "output_type": "display_data"
    },
    {
     "data": {
      "image/png": "[encoded data removed]",
      "text/plain": [
       "<Figure size 432x288 with 1 Axes>"
      ]
     },
     "metadata": {
      "needs_background": "light"
     },
     "output_type": "display_data"
    }
   ],
   "source": [
    "#Исследую динамику проката по годам.\n",
    "film_distribution_per_year = movies_data.pivot_table(index = 'year', values = 'box_office', aggfunc = 'sum')\n",
    "\n",
    "display_data(\n",
    "    film_distribution_per_year,\n",
    "    figsize = (10,10),\n",
    "    xlabel = 'годы',\n",
    "    ylabel='кассовые сборы',\n",
    "    title = 'Кассовые сборы фильмов'\n",
    ")\n",
    "plt.show()"
   ]
  },
  {
   "cell_type": "markdown",
   "id": "fc9ac051",
   "metadata": {},
   "source": [
    "Минимальная сумма сборов была в 2011 г. С 2013 г. по 2016 г.в, сборы практически взрывообразно. До 2018 г. был характерен незначительный дальнейший рост, после чего последовало небольшое снижение до уровня 2017 г. Для более корректного сравнения максимумов и минимума а так же - динамики в целом, необходимо учитывать инфляцию, тем более, что сумма сборов указана в рублях."
   ]
  },
  {
   "cell_type": "code",
   "execution_count": 22,
   "id": "07425cc8",
   "metadata": {},
   "outputs": [
    {
     "data": {
      "text/html": [
       "<div>\n",
       "<style scoped>\n",
       "    .dataframe tbody tr th:only-of-type {\n",
       "        vertical-align: middle;\n",
       "    }\n",
       "\n",
       "    .dataframe tbody tr th {\n",
       "        vertical-align: top;\n",
       "    }\n",
       "\n",
       "    .dataframe thead th {\n",
       "        text-align: right;\n",
       "    }\n",
       "</style>\n",
       "<table border=\"1\" class=\"dataframe\">\n",
       "  <thead>\n",
       "    <tr style=\"text-align: right;\">\n",
       "      <th></th>\n",
       "      <th>mean</th>\n",
       "      <th>median</th>\n",
       "    </tr>\n",
       "    <tr>\n",
       "      <th>year</th>\n",
       "      <th></th>\n",
       "      <th></th>\n",
       "    </tr>\n",
       "  </thead>\n",
       "  <tbody>\n",
       "    <tr>\n",
       "      <th>2010</th>\n",
       "      <td>2.313004e+04</td>\n",
       "      <td>1700.000</td>\n",
       "    </tr>\n",
       "    <tr>\n",
       "      <th>2011</th>\n",
       "      <td>1.293832e+05</td>\n",
       "      <td>3000.000</td>\n",
       "    </tr>\n",
       "    <tr>\n",
       "      <th>2012</th>\n",
       "      <td>5.433924e+04</td>\n",
       "      <td>5660.000</td>\n",
       "    </tr>\n",
       "    <tr>\n",
       "      <th>2013</th>\n",
       "      <td>1.619549e+05</td>\n",
       "      <td>3522.500</td>\n",
       "    </tr>\n",
       "    <tr>\n",
       "      <th>2014</th>\n",
       "      <td>3.069095e+06</td>\n",
       "      <td>16210.000</td>\n",
       "    </tr>\n",
       "    <tr>\n",
       "      <th>2015</th>\n",
       "      <td>1.300236e+07</td>\n",
       "      <td>2583688.500</td>\n",
       "    </tr>\n",
       "    <tr>\n",
       "      <th>2016</th>\n",
       "      <td>1.132928e+07</td>\n",
       "      <td>2046934.500</td>\n",
       "    </tr>\n",
       "    <tr>\n",
       "      <th>2017</th>\n",
       "      <td>1.419013e+07</td>\n",
       "      <td>5510864.500</td>\n",
       "    </tr>\n",
       "    <tr>\n",
       "      <th>2018</th>\n",
       "      <td>1.487507e+07</td>\n",
       "      <td>5150012.255</td>\n",
       "    </tr>\n",
       "    <tr>\n",
       "      <th>2019</th>\n",
       "      <td>1.240769e+07</td>\n",
       "      <td>3196478.460</td>\n",
       "    </tr>\n",
       "  </tbody>\n",
       "</table>\n",
       "</div>"
      ],
      "text/plain": [
       "              mean       median\n",
       "year                           \n",
       "2010  2.313004e+04     1700.000\n",
       "2011  1.293832e+05     3000.000\n",
       "2012  5.433924e+04     5660.000\n",
       "2013  1.619549e+05     3522.500\n",
       "2014  3.069095e+06    16210.000\n",
       "2015  1.300236e+07  2583688.500\n",
       "2016  1.132928e+07  2046934.500\n",
       "2017  1.419013e+07  5510864.500\n",
       "2018  1.487507e+07  5150012.255\n",
       "2019  1.240769e+07  3196478.460"
      ]
     },
     "metadata": {},
     "output_type": "display_data"
    },
    {
     "data": {
      "image/png": "[encoded data removed]",
      "text/plain": [
       "<Figure size 432x288 with 1 Axes>"
      ]
     },
     "metadata": {
      "needs_background": "light"
     },
     "output_type": "display_data"
    },
    {
     "data": {
      "image/png": "[encoded data removed]",
      "text/plain": [
       "<Figure size 432x288 with 1 Axes>"
      ]
     },
     "metadata": {
      "needs_background": "light"
     },
     "output_type": "display_data"
    }
   ],
   "source": [
    "#Нахожу среднее и медианное значение сборов за каждый год.\n",
    "#Нахожу значения без учёта выброса.\n",
    "film_distribution_per_year = movies_data.groupby('year')['box_office'].agg(['mean', 'median'])\n",
    "#dispiay(film_distribition_per_year)\n",
    "\n",
    "#Определяю, какие значения в колонке box_office составляют выброс.\n",
    "# movies_data.boxplot('box_office', figsize=(20,15), grid=True)\n",
    "ax = movies_data['box_office'].plot(kind='box', grid=True)\n",
    "plt.ylim = 3000000000\n",
    "\n",
    "#Создаю колонку box_office2, куда входят только значения без выброса - не более 100 млн. рублей \n",
    "movies_data['box_office2'] = movies_data.loc[movies_data['box_office'] <= 100000000]['box_office']\n",
    "film_distribution_per_year2 = movies_data.groupby('year')['box_office2'].agg(['mean', 'median'])\n",
    "\n",
    "\n",
    "#display(film_distribution_per_year2)\n",
    "\n",
    "display_data(\n",
    "    film_distribution_per_year2,\n",
    "    figsize = (10,10),\n",
    "    xlabel = 'годы',\n",
    "    ylabel='размер сборов',\n",
    "    title = 'Размер сборов за каждый год'\n",
    ")\n",
    "plt.show()"
   ]
  },
  {
   "cell_type": "code",
   "execution_count": 23,
   "id": "fa5b8bb4",
   "metadata": {},
   "outputs": [
    {
     "data": {
      "text/plain": [
       "title                    435\n",
       "puNumber                 435\n",
       "show_start_date          435\n",
       "type                     435\n",
       "film_studio              435\n",
       "production_country       435\n",
       "director                 435\n",
       "producer                 434\n",
       "age_restriction          435\n",
       "refundable_support        85\n",
       "nonrefundable_support     85\n",
       "budget                    85\n",
       "financing_source          85\n",
       "ratings                  421\n",
       "genres                   422\n",
       "box_office               435\n",
       "year                     435\n",
       "chief_director           435\n",
       "main_genre               422\n",
       "state_support_share       85\n",
       "box_office2                0\n",
       "dtype: int64"
      ]
     },
     "metadata": {},
     "output_type": "display_data"
    }
   ],
   "source": [
    "#Считаю количество фильмов, попавших в выброс по значению кассовых сборов.\n",
    "movies_data_anomaly = movies_data[movies_data['box_office'] > 100000000].count()\n",
    "display(movies_data_anomaly)"
   ]
  },
  {
   "cell_type": "markdown",
   "id": "b6146460",
   "metadata": {},
   "source": [
    "Поскольку бОльшая часть значений колонки box_office составляет выброс, разница между средним и медианным значением кассовых сборов составляет десятки раз. При подсчёте с учётом выброса средний показатель за каждый год меняется сильнее, чем медианный.\n",
    "Выполнил оба варианта досчёта, поскольку слишком большое количество значений столбца оказываются выбросом.\n",
    "В выброс попадает 435 фильмов из 3158, кассовые сборы которых нам известны. Они составляют 13.7% от общей массы. Это слишком много. Соответственно остальные рассчёты будут проводиться без удаления аномалий."
   ]
  },
  {
   "cell_type": "code",
   "execution_count": 24,
   "id": "b9a6a5d3",
   "metadata": {},
   "outputs": [
    {
     "data": {
      "text/plain": [
       "year\n",
       "2010    0.106599\n",
       "2011    0.175241\n",
       "2012    0.215852\n",
       "2013    0.292063\n",
       "2014    0.345725\n",
       "2015    0.659574\n",
       "2016    0.643032\n",
       "2017    0.706931\n",
       "2018    0.533109\n",
       "2019    0.569892\n",
       "dtype: float64"
      ]
     },
     "metadata": {},
     "output_type": "display_data"
    },
    {
     "data": {
      "image/png": "[encoded data removed]",
      "text/plain": [
       "<Figure size 432x288 with 1 Axes>"
      ]
     },
     "metadata": {
      "needs_background": "light"
     },
     "output_type": "display_data"
    }
   ],
   "source": [
    "#Определяю степень влияния возрастного ограничения аудитории на сборы фильма в прокате в период с 2015 по 2019 год.\n",
    "movies_data_year = movies_data.loc[movies_data['year'] >= 2015]\n",
    "movies_data_year.plot(x='box_office2', y='age_restriction', kind='scatter', alpha=0.3)\n",
    "\n",
    "#display(movies_data_year)\n",
    "\n",
    "display_data(\n",
    "    release_information_per_year,\n",
    "    figsize = (10,10),\n",
    "    xlabel = 'кассовые сборы',\n",
    "    ylabel='категории возрастного ограничения',\n",
    "    title = 'Влияние возрастного ограничения аудитории на сборы фильма в прокате в период с 2015 по 2019 год.'\n",
    ")\n",
    "plt.show()"
   ]
  },
  {
   "cell_type": "code",
   "execution_count": 25,
   "id": "1ecfebbb",
   "metadata": {},
   "outputs": [
    {
     "data": {
      "text/html": [
       "<div>\n",
       "<style scoped>\n",
       "    .dataframe tbody tr th:only-of-type {\n",
       "        vertical-align: middle;\n",
       "    }\n",
       "\n",
       "    .dataframe tbody tr th {\n",
       "        vertical-align: top;\n",
       "    }\n",
       "\n",
       "    .dataframe thead th {\n",
       "        text-align: right;\n",
       "    }\n",
       "</style>\n",
       "<table border=\"1\" class=\"dataframe\">\n",
       "  <thead>\n",
       "    <tr style=\"text-align: right;\">\n",
       "      <th>age_restriction</th>\n",
       "      <th>«0+» - для любой зрительской аудитории</th>\n",
       "      <th>«12+» - для детей старше 12 лет</th>\n",
       "      <th>«16+» - для детей старше 16 лет</th>\n",
       "      <th>«18+» - запрещено для детей</th>\n",
       "      <th>«6+» - для детей старше 6 лет</th>\n",
       "    </tr>\n",
       "    <tr>\n",
       "      <th>year</th>\n",
       "      <th></th>\n",
       "      <th></th>\n",
       "      <th></th>\n",
       "      <th></th>\n",
       "      <th></th>\n",
       "    </tr>\n",
       "  </thead>\n",
       "  <tbody>\n",
       "    <tr>\n",
       "      <th>2015</th>\n",
       "      <td>3.790546e+08</td>\n",
       "      <td>1.361608e+10</td>\n",
       "      <td>1.136812e+10</td>\n",
       "      <td>5.432308e+09</td>\n",
       "      <td>8.701799e+09</td>\n",
       "    </tr>\n",
       "    <tr>\n",
       "      <th>2016</th>\n",
       "      <td>1.502288e+08</td>\n",
       "      <td>1.220445e+10</td>\n",
       "      <td>1.666455e+10</td>\n",
       "      <td>6.793930e+09</td>\n",
       "      <td>1.205315e+10</td>\n",
       "    </tr>\n",
       "    <tr>\n",
       "      <th>2017</th>\n",
       "      <td>2.295989e+08</td>\n",
       "      <td>7.851428e+09</td>\n",
       "      <td>1.874504e+10</td>\n",
       "      <td>9.651496e+09</td>\n",
       "      <td>1.208614e+10</td>\n",
       "    </tr>\n",
       "    <tr>\n",
       "      <th>2018</th>\n",
       "      <td>3.244900e+07</td>\n",
       "      <td>1.426729e+10</td>\n",
       "      <td>1.650360e+10</td>\n",
       "      <td>8.760086e+09</td>\n",
       "      <td>1.010497e+10</td>\n",
       "    </tr>\n",
       "    <tr>\n",
       "      <th>2019</th>\n",
       "      <td>1.774607e+07</td>\n",
       "      <td>1.268020e+10</td>\n",
       "      <td>1.275342e+10</td>\n",
       "      <td>1.012180e+10</td>\n",
       "      <td>1.285255e+10</td>\n",
       "    </tr>\n",
       "  </tbody>\n",
       "</table>\n",
       "</div>"
      ],
      "text/plain": [
       "age_restriction  «0+» - для любой зрительской аудитории  \\\n",
       "year                                                      \n",
       "2015                                       3.790546e+08   \n",
       "2016                                       1.502288e+08   \n",
       "2017                                       2.295989e+08   \n",
       "2018                                       3.244900e+07   \n",
       "2019                                       1.774607e+07   \n",
       "\n",
       "age_restriction  «12+» - для детей старше 12 лет  \\\n",
       "year                                               \n",
       "2015                                1.361608e+10   \n",
       "2016                                1.220445e+10   \n",
       "2017                                7.851428e+09   \n",
       "2018                                1.426729e+10   \n",
       "2019                                1.268020e+10   \n",
       "\n",
       "age_restriction  «16+» - для детей старше 16 лет  «18+» - запрещено для детей  \\\n",
       "year                                                                            \n",
       "2015                                1.136812e+10                 5.432308e+09   \n",
       "2016                                1.666455e+10                 6.793930e+09   \n",
       "2017                                1.874504e+10                 9.651496e+09   \n",
       "2018                                1.650360e+10                 8.760086e+09   \n",
       "2019                                1.275342e+10                 1.012180e+10   \n",
       "\n",
       "age_restriction  «6+» - для детей старше 6 лет  \n",
       "year                                            \n",
       "2015                              8.701799e+09  \n",
       "2016                              1.205315e+10  \n",
       "2017                              1.208614e+10  \n",
       "2018                              1.010497e+10  \n",
       "2019                              1.285255e+10  "
      ]
     },
     "metadata": {},
     "output_type": "display_data"
    },
    {
     "data": {
      "image/png": "[encoded data removed]",
      "text/plain": [
       "<Figure size 1152x720 with 1 Axes>"
      ]
     },
     "metadata": {
      "needs_background": "light"
     },
     "output_type": "display_data"
    }
   ],
   "source": [
    "#Выясняю влияние возрастного ограничения на сборы фильма в прокате.\n",
    "movies_data_restriction = movies_data_year.pivot_table(index = 'year', columns = 'age_restriction', values = 'box_office', aggfunc = 'sum')\n",
    "display(movies_data_restriction)\n",
    "movies_data_restriction.plot(title = 'Влияние возрастного ограничения на сборы фильма в прокате', xlabel = 'годы', ylabel='кассовые сборы фильмов', figsize = (16, 10))\n",
    "plt.xticks(range(2015, 2020, 1))\n",
    "plt.show()"
   ]
  },
  {
   "cell_type": "markdown",
   "id": "772db11d",
   "metadata": {},
   "source": [
    "За период 2015-2019 гг. больший доход приносили фильмы категорий 16+. По итогам четырёх лет из пяти (2015-2018 гг.) фильмы данной категории ограничения лидировали и лишь немного уступили в 2019 г. категории ограничения 6+. Возможно, такая ситуация была вызвана увеличением производства полнометражных мультфильмов, на которые можно ходить всей семьёй."
   ]
  },
  {
   "cell_type": "markdown",
   "id": "8d45804f",
   "metadata": {},
   "source": [
    "### Исследование фильмов, получивших государственную поддержку."
   ]
  },
  {
   "cell_type": "code",
   "execution_count": 26,
   "id": "0c4bbbd2",
   "metadata": {},
   "outputs": [
    {
     "data": {
      "text/html": [
       "<div>\n",
       "<style scoped>\n",
       "    .dataframe tbody tr th:only-of-type {\n",
       "        vertical-align: middle;\n",
       "    }\n",
       "\n",
       "    .dataframe tbody tr th {\n",
       "        vertical-align: top;\n",
       "    }\n",
       "\n",
       "    .dataframe thead th {\n",
       "        text-align: right;\n",
       "    }\n",
       "</style>\n",
       "<table border=\"1\" class=\"dataframe\">\n",
       "  <thead>\n",
       "    <tr style=\"text-align: right;\">\n",
       "      <th></th>\n",
       "      <th>title</th>\n",
       "      <th>puNumber</th>\n",
       "      <th>show_start_date</th>\n",
       "      <th>type</th>\n",
       "      <th>film_studio</th>\n",
       "      <th>production_country</th>\n",
       "      <th>director</th>\n",
       "      <th>producer</th>\n",
       "      <th>age_restriction</th>\n",
       "      <th>refundable_support</th>\n",
       "      <th>...</th>\n",
       "      <th>budget</th>\n",
       "      <th>financing_source</th>\n",
       "      <th>ratings</th>\n",
       "      <th>genres</th>\n",
       "      <th>box_office</th>\n",
       "      <th>year</th>\n",
       "      <th>chief_director</th>\n",
       "      <th>main_genre</th>\n",
       "      <th>state_support_share</th>\n",
       "      <th>box_office2</th>\n",
       "    </tr>\n",
       "  </thead>\n",
       "  <tbody>\n",
       "    <tr>\n",
       "      <th>336</th>\n",
       "      <td>Каникулы строгого режима</td>\n",
       "      <td>111008514</td>\n",
       "      <td>2014-08-07 12:00:00+00:00</td>\n",
       "      <td>Художественный</td>\n",
       "      <td>ООО \"Кинобазза\" по  заказу ЗАО \"Дирекция Кино\"</td>\n",
       "      <td>Россия</td>\n",
       "      <td>И.Зайцев</td>\n",
       "      <td>А.Максимов, Н.Попов, Д.Файзиев</td>\n",
       "      <td>«12+» - для детей старше 12 лет</td>\n",
       "      <td>NaN</td>\n",
       "      <td>...</td>\n",
       "      <td>NaN</td>\n",
       "      <td>NaN</td>\n",
       "      <td>7.1</td>\n",
       "      <td>драма,комедия,приключения</td>\n",
       "      <td>360.0</td>\n",
       "      <td>2014</td>\n",
       "      <td>И.Зайцев</td>\n",
       "      <td>драма</td>\n",
       "      <td>NaN</td>\n",
       "      <td>360.0</td>\n",
       "    </tr>\n",
       "    <tr>\n",
       "      <th>462</th>\n",
       "      <td>Август. Восьмого</td>\n",
       "      <td>111000612</td>\n",
       "      <td>2012-02-07 12:00:00+00:00</td>\n",
       "      <td>Художественный</td>\n",
       "      <td>ЗАО \"ПК \"ГЛАВКИНО\"</td>\n",
       "      <td>Россия</td>\n",
       "      <td>Д.Файзиев</td>\n",
       "      <td>Д.Файзиев, Ф.Бондарчук, И.Бачурин</td>\n",
       "      <td>«12+» - для детей старше 12 лет</td>\n",
       "      <td>NaN</td>\n",
       "      <td>...</td>\n",
       "      <td>NaN</td>\n",
       "      <td>NaN</td>\n",
       "      <td>6.1</td>\n",
       "      <td>драма,военный</td>\n",
       "      <td>6775.0</td>\n",
       "      <td>2012</td>\n",
       "      <td>Д.Файзиев</td>\n",
       "      <td>драма</td>\n",
       "      <td>NaN</td>\n",
       "      <td>6775.0</td>\n",
       "    </tr>\n",
       "    <tr>\n",
       "      <th>463</th>\n",
       "      <td>Тот еще...!</td>\n",
       "      <td>111001612</td>\n",
       "      <td>2012-02-20 12:00:00+00:00</td>\n",
       "      <td>Художественный</td>\n",
       "      <td>ООО \"Энджой мувиз\"</td>\n",
       "      <td>Россия</td>\n",
       "      <td>С.Андреасян</td>\n",
       "      <td>Г.Малков</td>\n",
       "      <td>«12+» - для детей старше 12 лет</td>\n",
       "      <td>NaN</td>\n",
       "      <td>...</td>\n",
       "      <td>NaN</td>\n",
       "      <td>NaN</td>\n",
       "      <td>2.6</td>\n",
       "      <td>фэнтези,комедия,семейный</td>\n",
       "      <td>12779.0</td>\n",
       "      <td>2012</td>\n",
       "      <td>С.Андреасян</td>\n",
       "      <td>фэнтези</td>\n",
       "      <td>NaN</td>\n",
       "      <td>12779.0</td>\n",
       "    </tr>\n",
       "    <tr>\n",
       "      <th>464</th>\n",
       "      <td>КОКОКО</td>\n",
       "      <td>111003112</td>\n",
       "      <td>2012-06-05 12:00:00+00:00</td>\n",
       "      <td>Художественный</td>\n",
       "      <td>ООО Кинокомпания \"Глобус-фильм\"</td>\n",
       "      <td>Россия</td>\n",
       "      <td>А.Смирнова</td>\n",
       "      <td>С.Сельянов</td>\n",
       "      <td>«18+» - запрещено для детей</td>\n",
       "      <td>NaN</td>\n",
       "      <td>...</td>\n",
       "      <td>NaN</td>\n",
       "      <td>NaN</td>\n",
       "      <td>6.9</td>\n",
       "      <td>драма,комедия</td>\n",
       "      <td>200.0</td>\n",
       "      <td>2012</td>\n",
       "      <td>А.Смирнова</td>\n",
       "      <td>драма</td>\n",
       "      <td>NaN</td>\n",
       "      <td>200.0</td>\n",
       "    </tr>\n",
       "    <tr>\n",
       "      <th>469</th>\n",
       "      <td>Разговор</td>\n",
       "      <td>111000712</td>\n",
       "      <td>2012-02-07 12:00:00+00:00</td>\n",
       "      <td>Художественный</td>\n",
       "      <td>ООО \"Кинокомпания \"КВФильм-Продакшн\", ООО \"Ком...</td>\n",
       "      <td>Россия</td>\n",
       "      <td>В.Иванов, С.Комаров</td>\n",
       "      <td>В.Карев</td>\n",
       "      <td>«16+» - для детей старше 16 лет</td>\n",
       "      <td>NaN</td>\n",
       "      <td>...</td>\n",
       "      <td>NaN</td>\n",
       "      <td>NaN</td>\n",
       "      <td>7.6</td>\n",
       "      <td>триллер,драма,детектив</td>\n",
       "      <td>NaN</td>\n",
       "      <td>2012</td>\n",
       "      <td>В.Иванов</td>\n",
       "      <td>триллер</td>\n",
       "      <td>NaN</td>\n",
       "      <td>NaN</td>\n",
       "    </tr>\n",
       "  </tbody>\n",
       "</table>\n",
       "<p>5 rows × 21 columns</p>\n",
       "</div>"
      ],
      "text/plain": [
       "                        title   puNumber           show_start_date  \\\n",
       "336  Каникулы строгого режима  111008514 2014-08-07 12:00:00+00:00   \n",
       "462          Август. Восьмого  111000612 2012-02-07 12:00:00+00:00   \n",
       "463               Тот еще...!  111001612 2012-02-20 12:00:00+00:00   \n",
       "464                    КОКОКО  111003112 2012-06-05 12:00:00+00:00   \n",
       "469                  Разговор  111000712 2012-02-07 12:00:00+00:00   \n",
       "\n",
       "               type                                        film_studio  \\\n",
       "336  Художественный     ООО \"Кинобазза\" по  заказу ЗАО \"Дирекция Кино\"   \n",
       "462  Художественный                                 ЗАО \"ПК \"ГЛАВКИНО\"   \n",
       "463  Художественный                                 ООО \"Энджой мувиз\"   \n",
       "464  Художественный                    ООО Кинокомпания \"Глобус-фильм\"   \n",
       "469  Художественный  ООО \"Кинокомпания \"КВФильм-Продакшн\", ООО \"Ком...   \n",
       "\n",
       "    production_country             director  \\\n",
       "336             Россия             И.Зайцев   \n",
       "462             Россия            Д.Файзиев   \n",
       "463             Россия          С.Андреасян   \n",
       "464             Россия           А.Смирнова   \n",
       "469             Россия  В.Иванов, С.Комаров   \n",
       "\n",
       "                              producer                  age_restriction  \\\n",
       "336     А.Максимов, Н.Попов, Д.Файзиев  «12+» - для детей старше 12 лет   \n",
       "462  Д.Файзиев, Ф.Бондарчук, И.Бачурин  «12+» - для детей старше 12 лет   \n",
       "463                           Г.Малков  «12+» - для детей старше 12 лет   \n",
       "464                         С.Сельянов      «18+» - запрещено для детей   \n",
       "469                            В.Карев  «16+» - для детей старше 16 лет   \n",
       "\n",
       "     refundable_support  ...  budget  financing_source ratings  \\\n",
       "336                 NaN  ...     NaN               NaN     7.1   \n",
       "462                 NaN  ...     NaN               NaN     6.1   \n",
       "463                 NaN  ...     NaN               NaN     2.6   \n",
       "464                 NaN  ...     NaN               NaN     6.9   \n",
       "469                 NaN  ...     NaN               NaN     7.6   \n",
       "\n",
       "                        genres box_office  year  chief_director main_genre  \\\n",
       "336  драма,комедия,приключения      360.0  2014        И.Зайцев      драма   \n",
       "462              драма,военный     6775.0  2012       Д.Файзиев      драма   \n",
       "463   фэнтези,комедия,семейный    12779.0  2012     С.Андреасян    фэнтези   \n",
       "464              драма,комедия      200.0  2012      А.Смирнова      драма   \n",
       "469     триллер,драма,детектив        NaN  2012        В.Иванов    триллер   \n",
       "\n",
       "    state_support_share  box_office2  \n",
       "336                 NaN        360.0  \n",
       "462                 NaN       6775.0  \n",
       "463                 NaN      12779.0  \n",
       "464                 NaN        200.0  \n",
       "469                 NaN          NaN  \n",
       "\n",
       "[5 rows x 21 columns]"
      ]
     },
     "metadata": {},
     "output_type": "display_data"
    },
    {
     "data": {
      "text/html": [
       "<div>\n",
       "<style scoped>\n",
       "    .dataframe tbody tr th:only-of-type {\n",
       "        vertical-align: middle;\n",
       "    }\n",
       "\n",
       "    .dataframe tbody tr th {\n",
       "        vertical-align: top;\n",
       "    }\n",
       "\n",
       "    .dataframe thead th {\n",
       "        text-align: right;\n",
       "    }\n",
       "</style>\n",
       "<table border=\"1\" class=\"dataframe\">\n",
       "  <thead>\n",
       "    <tr style=\"text-align: right;\">\n",
       "      <th></th>\n",
       "      <th>index</th>\n",
       "      <th>title</th>\n",
       "    </tr>\n",
       "  </thead>\n",
       "  <tbody>\n",
       "    <tr>\n",
       "      <th>0</th>\n",
       "      <td>336</td>\n",
       "      <td>Каникулы строгого режима</td>\n",
       "    </tr>\n",
       "    <tr>\n",
       "      <th>1</th>\n",
       "      <td>462</td>\n",
       "      <td>Август. Восьмого</td>\n",
       "    </tr>\n",
       "    <tr>\n",
       "      <th>2</th>\n",
       "      <td>463</td>\n",
       "      <td>Тот еще...!</td>\n",
       "    </tr>\n",
       "    <tr>\n",
       "      <th>3</th>\n",
       "      <td>464</td>\n",
       "      <td>КОКОКО</td>\n",
       "    </tr>\n",
       "    <tr>\n",
       "      <th>4</th>\n",
       "      <td>469</td>\n",
       "      <td>Разговор</td>\n",
       "    </tr>\n",
       "  </tbody>\n",
       "</table>\n",
       "</div>"
      ],
      "text/plain": [
       "   index                     title\n",
       "0    336  Каникулы строгого режима\n",
       "1    462          Август. Восьмого\n",
       "2    463               Тот еще...!\n",
       "3    464                    КОКОКО\n",
       "4    469                  Разговор"
      ]
     },
     "metadata": {},
     "output_type": "display_data"
    }
   ],
   "source": [
    "#Определяю количество российских фильмов, представленных в таблицах.\n",
    "russian_movies = movies_data[movies_data['production_country'] == 'Россия']\n",
    "display(russian_movies.head())\n",
    "unique_russian_movies = russian_movies['title'].drop_duplicates().reset_index()\n",
    "display(unique_russian_movies.head())\n"
   ]
  },
  {
   "cell_type": "markdown",
   "id": "c4bf7b46",
   "metadata": {},
   "source": [
    "Всего в таблице представленно 1803 уникальных названия российских фильмов. Найти это число было необходимо, поскольку государственное финансирование получили именно российские фильмы. Иностранные его не получали. Советские фильмы не финансировались современным российским государством по понятным причинам.\n",
    "Всего 332 фильма имеют информацию о государственном финансировании. Следовательно, мы имеем такие данные только относительно 18.41% всех представленных в таблице российских фильмов. Анализ информации относительно профинансированных фильмов будет проведён, но мы должны помнить о спорной репрезентативности полученных данных."
   ]
  },
  {
   "cell_type": "code",
   "execution_count": 27,
   "id": "f5b745a2",
   "metadata": {},
   "outputs": [
    {
     "data": {
      "text/html": [
       "<div>\n",
       "<style scoped>\n",
       "    .dataframe tbody tr th:only-of-type {\n",
       "        vertical-align: middle;\n",
       "    }\n",
       "\n",
       "    .dataframe tbody tr th {\n",
       "        vertical-align: top;\n",
       "    }\n",
       "\n",
       "    .dataframe thead th {\n",
       "        text-align: right;\n",
       "    }\n",
       "</style>\n",
       "<table border=\"1\" class=\"dataframe\">\n",
       "  <thead>\n",
       "    <tr style=\"text-align: right;\">\n",
       "      <th></th>\n",
       "      <th>title</th>\n",
       "      <th>puNumber</th>\n",
       "      <th>show_start_date</th>\n",
       "      <th>type</th>\n",
       "      <th>film_studio</th>\n",
       "      <th>production_country</th>\n",
       "      <th>director</th>\n",
       "      <th>producer</th>\n",
       "      <th>age_restriction</th>\n",
       "      <th>refundable_support</th>\n",
       "      <th>...</th>\n",
       "      <th>budget</th>\n",
       "      <th>financing_source</th>\n",
       "      <th>ratings</th>\n",
       "      <th>genres</th>\n",
       "      <th>box_office</th>\n",
       "      <th>year</th>\n",
       "      <th>chief_director</th>\n",
       "      <th>main_genre</th>\n",
       "      <th>state_support_share</th>\n",
       "      <th>box_office2</th>\n",
       "    </tr>\n",
       "  </thead>\n",
       "  <tbody>\n",
       "    <tr>\n",
       "      <th>1281</th>\n",
       "      <td>Пока еще жива</td>\n",
       "      <td>111005313</td>\n",
       "      <td>2013-10-11 12:00:00+00:00</td>\n",
       "      <td>Художественный</td>\n",
       "      <td>АНО содействия развитию кинематографии \"Ангел-...</td>\n",
       "      <td>Россия</td>\n",
       "      <td>А.Атанесян</td>\n",
       "      <td>А.Атанесян, М.Бабаханов, Р.Бутко</td>\n",
       "      <td>«16+» - для детей старше 16 лет</td>\n",
       "      <td>0.0</td>\n",
       "      <td>...</td>\n",
       "      <td>79411900.0</td>\n",
       "      <td>Министерство культуры</td>\n",
       "      <td>8.1</td>\n",
       "      <td>драма,мелодрама</td>\n",
       "      <td>3.653536e+05</td>\n",
       "      <td>2013</td>\n",
       "      <td>А.Атанесян</td>\n",
       "      <td>драма</td>\n",
       "      <td>0.333703</td>\n",
       "      <td>365353.6</td>\n",
       "    </tr>\n",
       "    <tr>\n",
       "      <th>1448</th>\n",
       "      <td>Бесславные придурки</td>\n",
       "      <td>111003314</td>\n",
       "      <td>2014-03-28 12:00:00+00:00</td>\n",
       "      <td>Художественный</td>\n",
       "      <td>ООО \"Компания \"АТК-Студио\"</td>\n",
       "      <td>Россия</td>\n",
       "      <td>А.Якимчук</td>\n",
       "      <td>А.Тютрюмов</td>\n",
       "      <td>«12+» - для детей старше 12 лет</td>\n",
       "      <td>0.0</td>\n",
       "      <td>...</td>\n",
       "      <td>37142857.0</td>\n",
       "      <td>Министерство культуры</td>\n",
       "      <td>NaN</td>\n",
       "      <td>NaN</td>\n",
       "      <td>2.814000e+04</td>\n",
       "      <td>2014</td>\n",
       "      <td>А.Якимчук</td>\n",
       "      <td>NaN</td>\n",
       "      <td>0.700000</td>\n",
       "      <td>28140.0</td>\n",
       "    </tr>\n",
       "    <tr>\n",
       "      <th>1498</th>\n",
       "      <td>Невидимки</td>\n",
       "      <td>111004213</td>\n",
       "      <td>2013-09-10 12:00:00+00:00</td>\n",
       "      <td>Художественный</td>\n",
       "      <td>ООО \"Компания \"РЕАЛ-ДАКОТА\"</td>\n",
       "      <td>Россия</td>\n",
       "      <td>Р.Давлетьяров, С.Комаров</td>\n",
       "      <td>Р.Давлетьяров, А.Котелевский, А.Олейников</td>\n",
       "      <td>«12+» - для детей старше 12 лет</td>\n",
       "      <td>0.0</td>\n",
       "      <td>...</td>\n",
       "      <td>176023490.0</td>\n",
       "      <td>Фонд кино</td>\n",
       "      <td>5.3</td>\n",
       "      <td>комедия,фантастика</td>\n",
       "      <td>1.995703e+07</td>\n",
       "      <td>2013</td>\n",
       "      <td>Р.Давлетьяров</td>\n",
       "      <td>комедия</td>\n",
       "      <td>0.612691</td>\n",
       "      <td>19957031.5</td>\n",
       "    </tr>\n",
       "    <tr>\n",
       "      <th>1524</th>\n",
       "      <td>БЕРЦЫ</td>\n",
       "      <td>111004314</td>\n",
       "      <td>2014-05-05 12:00:00+00:00</td>\n",
       "      <td>Художественный</td>\n",
       "      <td>ООО \"Студия \"Пассажир\"</td>\n",
       "      <td>Россия</td>\n",
       "      <td>Е.Миндадзе (псевдоним Катя Шагалова)</td>\n",
       "      <td>Л.Антонова</td>\n",
       "      <td>«16+» - для детей старше 16 лет</td>\n",
       "      <td>0.0</td>\n",
       "      <td>...</td>\n",
       "      <td>40574140.0</td>\n",
       "      <td>Министерство культуры</td>\n",
       "      <td>4.2</td>\n",
       "      <td>драма</td>\n",
       "      <td>5.591750e+04</td>\n",
       "      <td>2014</td>\n",
       "      <td>Е.Миндадзе (псевдоним Катя Шагалова)</td>\n",
       "      <td>драма</td>\n",
       "      <td>0.690095</td>\n",
       "      <td>55917.5</td>\n",
       "    </tr>\n",
       "    <tr>\n",
       "      <th>1792</th>\n",
       "      <td>Братья Ч</td>\n",
       "      <td>111004414</td>\n",
       "      <td>2014-04-23 12:00:00+00:00</td>\n",
       "      <td>Художественный</td>\n",
       "      <td>ООО \"Студия \"Пассажир\"</td>\n",
       "      <td>Россия</td>\n",
       "      <td>М.Угаров</td>\n",
       "      <td>А.Миндадзе, Л.Антонова</td>\n",
       "      <td>«16+» - для детей старше 16 лет</td>\n",
       "      <td>0.0</td>\n",
       "      <td>...</td>\n",
       "      <td>40015122.0</td>\n",
       "      <td>Министерство культуры</td>\n",
       "      <td>6.4</td>\n",
       "      <td>драма</td>\n",
       "      <td>2.321000e+05</td>\n",
       "      <td>2014</td>\n",
       "      <td>М.Угаров</td>\n",
       "      <td>драма</td>\n",
       "      <td>0.624764</td>\n",
       "      <td>232100.0</td>\n",
       "    </tr>\n",
       "    <tr>\n",
       "      <th>...</th>\n",
       "      <td>...</td>\n",
       "      <td>...</td>\n",
       "      <td>...</td>\n",
       "      <td>...</td>\n",
       "      <td>...</td>\n",
       "      <td>...</td>\n",
       "      <td>...</td>\n",
       "      <td>...</td>\n",
       "      <td>...</td>\n",
       "      <td>...</td>\n",
       "      <td>...</td>\n",
       "      <td>...</td>\n",
       "      <td>...</td>\n",
       "      <td>...</td>\n",
       "      <td>...</td>\n",
       "      <td>...</td>\n",
       "      <td>...</td>\n",
       "      <td>...</td>\n",
       "      <td>...</td>\n",
       "      <td>...</td>\n",
       "      <td>...</td>\n",
       "    </tr>\n",
       "    <tr>\n",
       "      <th>7464</th>\n",
       "      <td>Союз спасения</td>\n",
       "      <td>111022019</td>\n",
       "      <td>2019-12-26 12:00:00+00:00</td>\n",
       "      <td>Художественный</td>\n",
       "      <td>ЗАО \"Дирекция кино\"</td>\n",
       "      <td>Россия</td>\n",
       "      <td>А.Кравчук</td>\n",
       "      <td>А.Максимов, К.Эрнст</td>\n",
       "      <td>«12+» - для детей старше 12 лет</td>\n",
       "      <td>100000000.0</td>\n",
       "      <td>...</td>\n",
       "      <td>980000000.0</td>\n",
       "      <td>Фонд кино</td>\n",
       "      <td>6.0</td>\n",
       "      <td>история,биография,драма</td>\n",
       "      <td>7.177032e+08</td>\n",
       "      <td>2019</td>\n",
       "      <td>А.Кравчук</td>\n",
       "      <td>история</td>\n",
       "      <td>0.510204</td>\n",
       "      <td>NaN</td>\n",
       "    </tr>\n",
       "    <tr>\n",
       "      <th>7466</th>\n",
       "      <td>Иван Царевич и Серый Волк 4</td>\n",
       "      <td>114005019</td>\n",
       "      <td>2019-12-20 12:00:00+00:00</td>\n",
       "      <td>Анимационный</td>\n",
       "      <td>ООО \"Студия анимационного кино \"Мельница\"</td>\n",
       "      <td>Россия</td>\n",
       "      <td>Д.Шмидт, К.Феоктистов</td>\n",
       "      <td>С.Сельянов, А.Боярский</td>\n",
       "      <td>«6+» - для детей старше 6 лет</td>\n",
       "      <td>100000000.0</td>\n",
       "      <td>...</td>\n",
       "      <td>190000000.0</td>\n",
       "      <td>Фонд кино</td>\n",
       "      <td>6.7</td>\n",
       "      <td>мультфильм,приключения,семейный</td>\n",
       "      <td>5.010692e+08</td>\n",
       "      <td>2019</td>\n",
       "      <td>Д.Шмидт</td>\n",
       "      <td>мультфильм</td>\n",
       "      <td>0.526316</td>\n",
       "      <td>NaN</td>\n",
       "    </tr>\n",
       "    <tr>\n",
       "      <th>7474</th>\n",
       "      <td>Вторжение</td>\n",
       "      <td>111022519</td>\n",
       "      <td>2019-12-23 12:00:00+00:00</td>\n",
       "      <td>Художественный</td>\n",
       "      <td>ООО \"Арт Пикчерс Студия\", ООО \"Водород 2011\"</td>\n",
       "      <td>Россия</td>\n",
       "      <td>Ф.Бондарчук</td>\n",
       "      <td>Ф.Бондарчук, М.Врубель, А.Андрющенко, Д.Рудовский</td>\n",
       "      <td>«12+» - для детей старше 12 лет</td>\n",
       "      <td>100000000.0</td>\n",
       "      <td>...</td>\n",
       "      <td>944000000.0</td>\n",
       "      <td>Фонд кино</td>\n",
       "      <td>5.7</td>\n",
       "      <td>фантастика,боевик</td>\n",
       "      <td>NaN</td>\n",
       "      <td>2019</td>\n",
       "      <td>Ф.Бондарчук</td>\n",
       "      <td>фантастика</td>\n",
       "      <td>0.529661</td>\n",
       "      <td>NaN</td>\n",
       "    </tr>\n",
       "    <tr>\n",
       "      <th>7476</th>\n",
       "      <td>Я свободен</td>\n",
       "      <td>111023019</td>\n",
       "      <td>2019-12-26 12:00:00+00:00</td>\n",
       "      <td>Художественный</td>\n",
       "      <td>АО \"ТПО \"Киностудия им. М.Горького\"</td>\n",
       "      <td>Россия</td>\n",
       "      <td>И.Северов</td>\n",
       "      <td>С.Зернов</td>\n",
       "      <td>«12+» - для детей старше 12 лет</td>\n",
       "      <td>0.0</td>\n",
       "      <td>...</td>\n",
       "      <td>46154000.0</td>\n",
       "      <td>Министерство культуры</td>\n",
       "      <td>5.9</td>\n",
       "      <td>драма</td>\n",
       "      <td>NaN</td>\n",
       "      <td>2019</td>\n",
       "      <td>И.Северов</td>\n",
       "      <td>драма</td>\n",
       "      <td>0.649998</td>\n",
       "      <td>NaN</td>\n",
       "    </tr>\n",
       "    <tr>\n",
       "      <th>7478</th>\n",
       "      <td>(Не)идеальный мужчина</td>\n",
       "      <td>111023119</td>\n",
       "      <td>2019-12-24 12:00:00+00:00</td>\n",
       "      <td>Художественный</td>\n",
       "      <td>ООО \"Нон-Стоп Продакшн\"</td>\n",
       "      <td>Россия</td>\n",
       "      <td>М.Бальчюнас (псевдоним М.Вайсберг)</td>\n",
       "      <td>С.Мелькумов, А.Роднянский, М.Вайсберг, Р.Минас...</td>\n",
       "      <td>«12+» - для детей старше 12 лет</td>\n",
       "      <td>40000000.0</td>\n",
       "      <td>...</td>\n",
       "      <td>150147502.0</td>\n",
       "      <td>Фонд кино</td>\n",
       "      <td>4.5</td>\n",
       "      <td>комедия,фантастика,мелодрама</td>\n",
       "      <td>NaN</td>\n",
       "      <td>2019</td>\n",
       "      <td>М.Бальчюнас (псевдоним М.Вайсберг)</td>\n",
       "      <td>комедия</td>\n",
       "      <td>0.666012</td>\n",
       "      <td>NaN</td>\n",
       "    </tr>\n",
       "  </tbody>\n",
       "</table>\n",
       "<p>332 rows × 21 columns</p>\n",
       "</div>"
      ],
      "text/plain": [
       "                            title   puNumber           show_start_date  \\\n",
       "1281                Пока еще жива  111005313 2013-10-11 12:00:00+00:00   \n",
       "1448          Бесславные придурки  111003314 2014-03-28 12:00:00+00:00   \n",
       "1498                    Невидимки  111004213 2013-09-10 12:00:00+00:00   \n",
       "1524                        БЕРЦЫ  111004314 2014-05-05 12:00:00+00:00   \n",
       "1792                     Братья Ч  111004414 2014-04-23 12:00:00+00:00   \n",
       "...                           ...        ...                       ...   \n",
       "7464                Союз спасения  111022019 2019-12-26 12:00:00+00:00   \n",
       "7466  Иван Царевич и Серый Волк 4  114005019 2019-12-20 12:00:00+00:00   \n",
       "7474                    Вторжение  111022519 2019-12-23 12:00:00+00:00   \n",
       "7476                   Я свободен  111023019 2019-12-26 12:00:00+00:00   \n",
       "7478        (Не)идеальный мужчина  111023119 2019-12-24 12:00:00+00:00   \n",
       "\n",
       "                type                                        film_studio  \\\n",
       "1281  Художественный  АНО содействия развитию кинематографии \"Ангел-...   \n",
       "1448  Художественный                         ООО \"Компания \"АТК-Студио\"   \n",
       "1498  Художественный                        ООО \"Компания \"РЕАЛ-ДАКОТА\"   \n",
       "1524  Художественный                             ООО \"Студия \"Пассажир\"   \n",
       "1792  Художественный                             ООО \"Студия \"Пассажир\"   \n",
       "...              ...                                                ...   \n",
       "7464  Художественный                                ЗАО \"Дирекция кино\"   \n",
       "7466    Анимационный          ООО \"Студия анимационного кино \"Мельница\"   \n",
       "7474  Художественный       ООО \"Арт Пикчерс Студия\", ООО \"Водород 2011\"   \n",
       "7476  Художественный                АО \"ТПО \"Киностудия им. М.Горького\"   \n",
       "7478  Художественный                           ООО \"Нон-Стоп Продакшн\"    \n",
       "\n",
       "     production_country                              director  \\\n",
       "1281             Россия                            А.Атанесян   \n",
       "1448             Россия                             А.Якимчук   \n",
       "1498             Россия              Р.Давлетьяров, С.Комаров   \n",
       "1524             Россия  Е.Миндадзе (псевдоним Катя Шагалова)   \n",
       "1792             Россия                              М.Угаров   \n",
       "...                 ...                                   ...   \n",
       "7464             Россия                             А.Кравчук   \n",
       "7466             Россия                 Д.Шмидт, К.Феоктистов   \n",
       "7474             Россия                           Ф.Бондарчук   \n",
       "7476             Россия                             И.Северов   \n",
       "7478             Россия    М.Бальчюнас (псевдоним М.Вайсберг)   \n",
       "\n",
       "                                               producer  \\\n",
       "1281                   А.Атанесян, М.Бабаханов, Р.Бутко   \n",
       "1448                                         А.Тютрюмов   \n",
       "1498          Р.Давлетьяров, А.Котелевский, А.Олейников   \n",
       "1524                                         Л.Антонова   \n",
       "1792                             А.Миндадзе, Л.Антонова   \n",
       "...                                                 ...   \n",
       "7464                                А.Максимов, К.Эрнст   \n",
       "7466                             С.Сельянов, А.Боярский   \n",
       "7474  Ф.Бондарчук, М.Врубель, А.Андрющенко, Д.Рудовский   \n",
       "7476                                           С.Зернов   \n",
       "7478  С.Мелькумов, А.Роднянский, М.Вайсберг, Р.Минас...   \n",
       "\n",
       "                      age_restriction  refundable_support  ...       budget  \\\n",
       "1281  «16+» - для детей старше 16 лет                 0.0  ...   79411900.0   \n",
       "1448  «12+» - для детей старше 12 лет                 0.0  ...   37142857.0   \n",
       "1498  «12+» - для детей старше 12 лет                 0.0  ...  176023490.0   \n",
       "1524  «16+» - для детей старше 16 лет                 0.0  ...   40574140.0   \n",
       "1792  «16+» - для детей старше 16 лет                 0.0  ...   40015122.0   \n",
       "...                               ...                 ...  ...          ...   \n",
       "7464  «12+» - для детей старше 12 лет         100000000.0  ...  980000000.0   \n",
       "7466    «6+» - для детей старше 6 лет         100000000.0  ...  190000000.0   \n",
       "7474  «12+» - для детей старше 12 лет         100000000.0  ...  944000000.0   \n",
       "7476  «12+» - для детей старше 12 лет                 0.0  ...   46154000.0   \n",
       "7478  «12+» - для детей старше 12 лет          40000000.0  ...  150147502.0   \n",
       "\n",
       "           financing_source ratings                           genres  \\\n",
       "1281  Министерство культуры     8.1                  драма,мелодрама   \n",
       "1448  Министерство культуры     NaN                              NaN   \n",
       "1498              Фонд кино     5.3               комедия,фантастика   \n",
       "1524  Министерство культуры     4.2                            драма   \n",
       "1792  Министерство культуры     6.4                            драма   \n",
       "...                     ...     ...                              ...   \n",
       "7464              Фонд кино     6.0          история,биография,драма   \n",
       "7466              Фонд кино     6.7  мультфильм,приключения,семейный   \n",
       "7474              Фонд кино     5.7                фантастика,боевик   \n",
       "7476  Министерство культуры     5.9                            драма   \n",
       "7478              Фонд кино     4.5     комедия,фантастика,мелодрама   \n",
       "\n",
       "        box_office  year                        chief_director  main_genre  \\\n",
       "1281  3.653536e+05  2013                            А.Атанесян       драма   \n",
       "1448  2.814000e+04  2014                             А.Якимчук         NaN   \n",
       "1498  1.995703e+07  2013                         Р.Давлетьяров     комедия   \n",
       "1524  5.591750e+04  2014  Е.Миндадзе (псевдоним Катя Шагалова)       драма   \n",
       "1792  2.321000e+05  2014                              М.Угаров       драма   \n",
       "...            ...   ...                                   ...         ...   \n",
       "7464  7.177032e+08  2019                             А.Кравчук     история   \n",
       "7466  5.010692e+08  2019                               Д.Шмидт  мультфильм   \n",
       "7474           NaN  2019                           Ф.Бондарчук  фантастика   \n",
       "7476           NaN  2019                             И.Северов       драма   \n",
       "7478           NaN  2019    М.Бальчюнас (псевдоним М.Вайсберг)     комедия   \n",
       "\n",
       "     state_support_share  box_office2  \n",
       "1281            0.333703     365353.6  \n",
       "1448            0.700000      28140.0  \n",
       "1498            0.612691   19957031.5  \n",
       "1524            0.690095      55917.5  \n",
       "1792            0.624764     232100.0  \n",
       "...                  ...          ...  \n",
       "7464            0.510204          NaN  \n",
       "7466            0.526316          NaN  \n",
       "7474            0.529661          NaN  \n",
       "7476            0.649998          NaN  \n",
       "7478            0.666012          NaN  \n",
       "\n",
       "[332 rows x 21 columns]"
      ]
     },
     "metadata": {},
     "output_type": "display_data"
    }
   ],
   "source": [
    "#Создаю таблицу с фильмами, получившими государственную поддержку.\n",
    "gov_support_movies = movies_data.query('refundable_support >= 0 or nonrefundable_support >= 0')\n",
    "display(gov_support_movies)\n"
   ]
  },
  {
   "cell_type": "code",
   "execution_count": 28,
   "id": "c0ee6e43",
   "metadata": {},
   "outputs": [
    {
     "data": {
      "text/plain": [
       "1281     26500000.0\n",
       "1448     26000000.0\n",
       "1498    107847945.0\n",
       "1524     28000000.0\n",
       "1792     25000000.0\n",
       "           ...     \n",
       "7464    500000000.0\n",
       "7466    100000000.0\n",
       "7474    500000000.0\n",
       "7476     30000000.0\n",
       "7478    100000000.0\n",
       "Name: gov_support_total, Length: 332, dtype: float64"
      ]
     },
     "metadata": {},
     "output_type": "display_data"
    },
    {
     "data": {
      "text/plain": [
       "20200688312.0"
      ]
     },
     "metadata": {},
     "output_type": "display_data"
    },
    {
     "data": {
      "text/plain": [
       "year\n",
       "2013    1.343479e+08\n",
       "2014    5.720023e+08\n",
       "2015    3.656241e+09\n",
       "2016    4.303155e+09\n",
       "2017    3.183972e+09\n",
       "2018    3.446969e+09\n",
       "2019    4.904000e+09\n",
       "Name: gov_support_total, dtype: float64"
      ]
     },
     "metadata": {},
     "output_type": "display_data"
    },
    {
     "data": {
      "image/png": "[encoded data removed]",
      "text/plain": [
       "<Figure size 432x288 with 1 Axes>"
      ]
     },
     "metadata": {
      "needs_background": "light"
     },
     "output_type": "display_data"
    }
   ],
   "source": [
    "#Выясняю, сколько денег было выделено на поддержку кино в 2010-2019 гг. В том числе, за каждый год.\n",
    "#Создаю колонку, в которой содержится сумма всей финансовой помощи для каждого фильма.\n",
    "gov_support_movies['gov_support_total'] = (gov_support_movies['refundable_support'] + gov_support_movies['nonrefundable_support'])\n",
    "display(gov_support_movies['gov_support_total'])\n",
    "#Выясняю объём помощи за 10 лет.\n",
    "display(gov_support_movies['gov_support_total'].sum())\n",
    "\n",
    "#Считаю объём помощи за каждый год.\n",
    "gov_support_movies_per_year = gov_support_movies.groupby('year')['gov_support_total'].sum()\n",
    "\n",
    "gov_support_movies_per_year.plot()\n",
    "display_data(gov_support_movies_per_year,\n",
    "             \n",
    "             title = 'Объём государственной помощи за каждый год',\n",
    "             xlabel = 'годы',\n",
    "             ylabel = 'объём помощи (руб.)',\n",
    "             figsize = (10,10))"
   ]
  },
  {
   "cell_type": "markdown",
   "id": "dafca9d6",
   "metadata": {},
   "source": [
    "За 10 лет на господдержку кино было потрачено более 20 млрд. 200 млн. рублей. Заметный рост этой поддержки начался в 2013 г. С 2014 г. до 2015 г. наблюдался резкий рост вложений (более чем в 4 раза). В целом это может быть связано с поддержания уровня социального оптимизма в связи с международным кризисом 2014 г., последовашим за тем ростом международной напряжённости, а так же волны санкций и антисанкций. К 2017 г. напряжённость несколько снизилась, что и  привело, возможно, к некоторому уменьшению финансирования. Причины повторного роста финансирования по-видимому кроются в усилении государственного контроля за контентом в Сети, на ТВ и в кино."
   ]
  },
  {
   "cell_type": "code",
   "execution_count": 29,
   "id": "794195b1",
   "metadata": {},
   "outputs": [
    {
     "data": {
      "text/plain": [
       "0.17642032815058772"
      ]
     },
     "metadata": {},
     "output_type": "display_data"
    },
    {
     "data": {
      "text/plain": [
       "0.0579558876433068"
      ]
     },
     "metadata": {},
     "output_type": "display_data"
    },
    {
     "data": {
      "text/plain": [
       "26.73"
      ]
     },
     "execution_count": 29,
     "metadata": {},
     "output_type": "execute_result"
    }
   ],
   "source": [
    "#Нахожу медианное значение окупаемости всех фильмов за 10 лет без удаления выброса.\n",
    "project_payback = (gov_support_movies['box_office'] /gov_support_movies['budget']).median()\n",
    "display(project_payback)\n",
    "#Нахожу медианное значение окупаемости всех фильмов за 10 лет после удаления выброса.\n",
    "project_payback2 = (gov_support_movies['box_office2'] /gov_support_movies['budget']).median()\n",
    "display(project_payback2)\n",
    "\n",
    "round((1 - gov_support_movies['box_office2'].count() / gov_support_movies['box_office'].count()) * 100, 2)"
   ]
  },
  {
   "cell_type": "markdown",
   "id": "c3ebbbcf",
   "metadata": {},
   "source": [
    "Выброс слишком большой. Учитываем медианное значение без удаления выброса. Медианное значение окупаемости значительно меньше половины вложенных средств. Фильмы с государственным финансированием как правило не окупаются. "
   ]
  },
  {
   "cell_type": "code",
   "execution_count": 30,
   "id": "15ca007a",
   "metadata": {},
   "outputs": [
    {
     "data": {
      "text/plain": [
       "6.2"
      ]
     },
     "metadata": {},
     "output_type": "display_data"
    },
    {
     "data": {
      "text/plain": [
       "6.4"
      ]
     },
     "metadata": {},
     "output_type": "display_data"
    }
   ],
   "source": [
    "#Нахожу медианный рейтинг фильмов, получивших господдержку\n",
    "display(gov_support_movies['ratings'].median())\n",
    "#Создаю таблицу с российскими фильмами, не получавшими никакогог финансирования от государства.\n",
    "unsupport_movies = russian_movies[russian_movies['refundable_support'].isna()]\n",
    "#display(unsupport_movies)\n",
    "display(unsupport_movies['ratings'].median())"
   ]
  },
  {
   "cell_type": "markdown",
   "id": "ebda3507",
   "metadata": {},
   "source": [
    "Медианный рейтинг таких фильмов не очень велик. Хотя при рейтинге 6.2 можно было бы, как представляется, ожидать лучшей окупаемости, чем она есть в действительности. Характерно, что рейтинг фильмов, НЕ получивших господдержки, несколько выше, - 6.4, то есть, на 3.23% выше. Государственные институты не очень точно попадают в плане зрительских предпочтений."
   ]
  },
  {
   "cell_type": "code",
   "execution_count": 31,
   "id": "16340200",
   "metadata": {},
   "outputs": [
    {
     "data": {
      "text/html": [
       "<div>\n",
       "<style scoped>\n",
       "    .dataframe tbody tr th:only-of-type {\n",
       "        vertical-align: middle;\n",
       "    }\n",
       "\n",
       "    .dataframe tbody tr th {\n",
       "        vertical-align: top;\n",
       "    }\n",
       "\n",
       "    .dataframe thead th {\n",
       "        text-align: right;\n",
       "    }\n",
       "</style>\n",
       "<table border=\"1\" class=\"dataframe\">\n",
       "  <thead>\n",
       "    <tr style=\"text-align: right;\">\n",
       "      <th></th>\n",
       "      <th>gov_support_total</th>\n",
       "    </tr>\n",
       "    <tr>\n",
       "      <th>chief_director</th>\n",
       "      <th></th>\n",
       "    </tr>\n",
       "  </thead>\n",
       "  <tbody>\n",
       "    <tr>\n",
       "      <th>Ф.Бондарчук</th>\n",
       "      <td>1</td>\n",
       "    </tr>\n",
       "    <tr>\n",
       "      <th>А Андрющенко</th>\n",
       "      <td>1</td>\n",
       "    </tr>\n",
       "    <tr>\n",
       "      <th>А.Аббасов</th>\n",
       "      <td>1</td>\n",
       "    </tr>\n",
       "    <tr>\n",
       "      <th>А.Аксененко</th>\n",
       "      <td>3</td>\n",
       "    </tr>\n",
       "    <tr>\n",
       "      <th>А.Амиров</th>\n",
       "      <td>1</td>\n",
       "    </tr>\n",
       "  </tbody>\n",
       "</table>\n",
       "</div>"
      ],
      "text/plain": [
       "                gov_support_total\n",
       "chief_director                   \n",
       " Ф.Бондарчук                    1\n",
       "А Андрющенко                    1\n",
       "А.Аббасов                       1\n",
       "А.Аксененко                     3\n",
       "А.Амиров                        1"
      ]
     },
     "metadata": {},
     "output_type": "display_data"
    },
    {
     "data": {
      "text/plain": [
       "gov_support_total\n",
       "1                    224\n",
       "2                     37\n",
       "3                      7\n",
       "4                      2\n",
       "5                      1\n",
       "dtype: int64"
      ]
     },
     "execution_count": 31,
     "metadata": {},
     "output_type": "execute_result"
    }
   ],
   "source": [
    "#Выясняю, сколько раз за изучаемый период режиссёр мог получить государственные средства.\n",
    "director_gov_support = gov_support_movies.pivot_table(index = 'chief_director', values = 'gov_support_total', aggfunc = 'count')\n",
    "display(director_gov_support.head())\n",
    "director_gov_support.value_counts()\n"
   ]
  },
  {
   "cell_type": "markdown",
   "id": "de451c4f",
   "metadata": {},
   "source": [
    "Только 10 режиссёров из 270-ти за 10 лет получили государственную поддержку больше двух раз."
   ]
  },
  {
   "cell_type": "code",
   "execution_count": 32,
   "id": "766d8689",
   "metadata": {},
   "outputs": [
    {
     "data": {
      "text/html": [
       "<div>\n",
       "<style scoped>\n",
       "    .dataframe tbody tr th:only-of-type {\n",
       "        vertical-align: middle;\n",
       "    }\n",
       "\n",
       "    .dataframe tbody tr th {\n",
       "        vertical-align: top;\n",
       "    }\n",
       "\n",
       "    .dataframe thead th {\n",
       "        text-align: right;\n",
       "    }\n",
       "</style>\n",
       "<table border=\"1\" class=\"dataframe\">\n",
       "  <thead>\n",
       "    <tr style=\"text-align: right;\">\n",
       "      <th></th>\n",
       "      <th>chief_director</th>\n",
       "      <th>gov_support_total</th>\n",
       "    </tr>\n",
       "  </thead>\n",
       "  <tbody>\n",
       "    <tr>\n",
       "      <th>106</th>\n",
       "      <td>Д.Тюрин</td>\n",
       "      <td>2</td>\n",
       "    </tr>\n",
       "    <tr>\n",
       "      <th>238</th>\n",
       "      <td>Т.Бекмамбетов</td>\n",
       "      <td>2</td>\n",
       "    </tr>\n",
       "    <tr>\n",
       "      <th>134</th>\n",
       "      <td>И.Северов</td>\n",
       "      <td>2</td>\n",
       "    </tr>\n",
       "    <tr>\n",
       "      <th>135</th>\n",
       "      <td>И.Твердовский</td>\n",
       "      <td>2</td>\n",
       "    </tr>\n",
       "    <tr>\n",
       "      <th>148</th>\n",
       "      <td>К.Дружинин</td>\n",
       "      <td>2</td>\n",
       "    </tr>\n",
       "    <tr>\n",
       "      <th>160</th>\n",
       "      <td>К.Худяков</td>\n",
       "      <td>2</td>\n",
       "    </tr>\n",
       "    <tr>\n",
       "      <th>162</th>\n",
       "      <td>Л.Марголин</td>\n",
       "      <td>2</td>\n",
       "    </tr>\n",
       "    <tr>\n",
       "      <th>167</th>\n",
       "      <td>М.Волков</td>\n",
       "      <td>2</td>\n",
       "    </tr>\n",
       "    <tr>\n",
       "      <th>102</th>\n",
       "      <td>Д.Месхиев</td>\n",
       "      <td>2</td>\n",
       "    </tr>\n",
       "    <tr>\n",
       "      <th>177</th>\n",
       "      <td>М.Расходников</td>\n",
       "      <td>2</td>\n",
       "    </tr>\n",
       "    <tr>\n",
       "      <th>188</th>\n",
       "      <td>Н.Меркулова</td>\n",
       "      <td>2</td>\n",
       "    </tr>\n",
       "    <tr>\n",
       "      <th>205</th>\n",
       "      <td>П.Лунгин</td>\n",
       "      <td>2</td>\n",
       "    </tr>\n",
       "    <tr>\n",
       "      <th>206</th>\n",
       "      <td>П.Руминов</td>\n",
       "      <td>2</td>\n",
       "    </tr>\n",
       "    <tr>\n",
       "      <th>213</th>\n",
       "      <td>Р.Гигинеишвили</td>\n",
       "      <td>2</td>\n",
       "    </tr>\n",
       "    <tr>\n",
       "      <th>216</th>\n",
       "      <td>Р.Каримов</td>\n",
       "      <td>2</td>\n",
       "    </tr>\n",
       "    <tr>\n",
       "      <th>219</th>\n",
       "      <td>Р.Прыгунов</td>\n",
       "      <td>2</td>\n",
       "    </tr>\n",
       "    <tr>\n",
       "      <th>228</th>\n",
       "      <td>С.Подгаевский</td>\n",
       "      <td>2</td>\n",
       "    </tr>\n",
       "    <tr>\n",
       "      <th>184</th>\n",
       "      <td>Н.Джорджадзе</td>\n",
       "      <td>2</td>\n",
       "    </tr>\n",
       "    <tr>\n",
       "      <th>100</th>\n",
       "      <td>Д.Киселев</td>\n",
       "      <td>2</td>\n",
       "    </tr>\n",
       "    <tr>\n",
       "      <th>249</th>\n",
       "      <td>Ф.Дмитриев</td>\n",
       "      <td>2</td>\n",
       "    </tr>\n",
       "    <tr>\n",
       "      <th>40</th>\n",
       "      <td>А.Меликян</td>\n",
       "      <td>2</td>\n",
       "    </tr>\n",
       "    <tr>\n",
       "      <th>14</th>\n",
       "      <td>А.Волгин</td>\n",
       "      <td>2</td>\n",
       "    </tr>\n",
       "    <tr>\n",
       "      <th>38</th>\n",
       "      <td>А.Матисон</td>\n",
       "      <td>2</td>\n",
       "    </tr>\n",
       "    <tr>\n",
       "      <th>91</th>\n",
       "      <td>В.Хотиненко</td>\n",
       "      <td>2</td>\n",
       "    </tr>\n",
       "    <tr>\n",
       "      <th>48</th>\n",
       "      <td>А.Пармас</td>\n",
       "      <td>2</td>\n",
       "    </tr>\n",
       "    <tr>\n",
       "      <th>50</th>\n",
       "      <td>А.Пиманов</td>\n",
       "      <td>2</td>\n",
       "    </tr>\n",
       "    <tr>\n",
       "      <th>53</th>\n",
       "      <td>А.Прошкин</td>\n",
       "      <td>2</td>\n",
       "    </tr>\n",
       "    <tr>\n",
       "      <th>13</th>\n",
       "      <td>А.Войтинский</td>\n",
       "      <td>2</td>\n",
       "    </tr>\n",
       "    <tr>\n",
       "      <th>61</th>\n",
       "      <td>А.Темников</td>\n",
       "      <td>2</td>\n",
       "    </tr>\n",
       "    <tr>\n",
       "      <th>64</th>\n",
       "      <td>А.Федорченко</td>\n",
       "      <td>2</td>\n",
       "    </tr>\n",
       "    <tr>\n",
       "      <th>70</th>\n",
       "      <td>А.Якимчук</td>\n",
       "      <td>2</td>\n",
       "    </tr>\n",
       "    <tr>\n",
       "      <th>11</th>\n",
       "      <td>А.Богуславский</td>\n",
       "      <td>2</td>\n",
       "    </tr>\n",
       "    <tr>\n",
       "      <th>78</th>\n",
       "      <td>В.Глаголева</td>\n",
       "      <td>2</td>\n",
       "    </tr>\n",
       "    <tr>\n",
       "      <th>84</th>\n",
       "      <td>В.Ровенский</td>\n",
       "      <td>2</td>\n",
       "    </tr>\n",
       "    <tr>\n",
       "      <th>88</th>\n",
       "      <td>В.Тодоровский</td>\n",
       "      <td>2</td>\n",
       "    </tr>\n",
       "    <tr>\n",
       "      <th>15</th>\n",
       "      <td>А.Галибин</td>\n",
       "      <td>2</td>\n",
       "    </tr>\n",
       "    <tr>\n",
       "      <th>24</th>\n",
       "      <td>А.Карпиловский</td>\n",
       "      <td>2</td>\n",
       "    </tr>\n",
       "    <tr>\n",
       "      <th>227</th>\n",
       "      <td>С.Мокрицкий</td>\n",
       "      <td>3</td>\n",
       "    </tr>\n",
       "    <tr>\n",
       "      <th>3</th>\n",
       "      <td>А.Аксененко</td>\n",
       "      <td>3</td>\n",
       "    </tr>\n",
       "    <tr>\n",
       "      <th>194</th>\n",
       "      <td>Н.Хомерики</td>\n",
       "      <td>3</td>\n",
       "    </tr>\n",
       "    <tr>\n",
       "      <th>161</th>\n",
       "      <td>К.Шипенко</td>\n",
       "      <td>3</td>\n",
       "    </tr>\n",
       "    <tr>\n",
       "      <th>67</th>\n",
       "      <td>А.Цицилин</td>\n",
       "      <td>3</td>\n",
       "    </tr>\n",
       "    <tr>\n",
       "      <th>109</th>\n",
       "      <td>Д.Шмидт</td>\n",
       "      <td>3</td>\n",
       "    </tr>\n",
       "    <tr>\n",
       "      <th>30</th>\n",
       "      <td>А.Котт</td>\n",
       "      <td>3</td>\n",
       "    </tr>\n",
       "    <tr>\n",
       "      <th>222</th>\n",
       "      <td>С.Андреасян</td>\n",
       "      <td>4</td>\n",
       "    </tr>\n",
       "    <tr>\n",
       "      <th>98</th>\n",
       "      <td>Д.Дьяченко</td>\n",
       "      <td>4</td>\n",
       "    </tr>\n",
       "    <tr>\n",
       "      <th>214</th>\n",
       "      <td>Р.Давлетьяров</td>\n",
       "      <td>5</td>\n",
       "    </tr>\n",
       "  </tbody>\n",
       "</table>\n",
       "</div>"
      ],
      "text/plain": [
       "     chief_director  gov_support_total\n",
       "106         Д.Тюрин                  2\n",
       "238   Т.Бекмамбетов                  2\n",
       "134       И.Северов                  2\n",
       "135   И.Твердовский                  2\n",
       "148      К.Дружинин                  2\n",
       "160       К.Худяков                  2\n",
       "162      Л.Марголин                  2\n",
       "167        М.Волков                  2\n",
       "102       Д.Месхиев                  2\n",
       "177   М.Расходников                  2\n",
       "188     Н.Меркулова                  2\n",
       "205        П.Лунгин                  2\n",
       "206       П.Руминов                  2\n",
       "213  Р.Гигинеишвили                  2\n",
       "216       Р.Каримов                  2\n",
       "219      Р.Прыгунов                  2\n",
       "228   С.Подгаевский                  2\n",
       "184    Н.Джорджадзе                  2\n",
       "100       Д.Киселев                  2\n",
       "249      Ф.Дмитриев                  2\n",
       "40        А.Меликян                  2\n",
       "14         А.Волгин                  2\n",
       "38        А.Матисон                  2\n",
       "91      В.Хотиненко                  2\n",
       "48         А.Пармас                  2\n",
       "50        А.Пиманов                  2\n",
       "53        А.Прошкин                  2\n",
       "13     А.Войтинский                  2\n",
       "61       А.Темников                  2\n",
       "64     А.Федорченко                  2\n",
       "70        А.Якимчук                  2\n",
       "11   А.Богуславский                  2\n",
       "78      В.Глаголева                  2\n",
       "84      В.Ровенский                  2\n",
       "88    В.Тодоровский                  2\n",
       "15        А.Галибин                  2\n",
       "24   А.Карпиловский                  2\n",
       "227     С.Мокрицкий                  3\n",
       "3       А.Аксененко                  3\n",
       "194      Н.Хомерики                  3\n",
       "161       К.Шипенко                  3\n",
       "67        А.Цицилин                  3\n",
       "109         Д.Шмидт                  3\n",
       "30           А.Котт                  3\n",
       "222     С.Андреасян                  4\n",
       "98       Д.Дьяченко                  4\n",
       "214   Р.Давлетьяров                  5"
      ]
     },
     "metadata": {},
     "output_type": "display_data"
    }
   ],
   "source": [
    "#Выясняю, кто из режиссёров пользовался господдержкой больше одного раза.\n",
    "#Поскольку индексация в сводной таблице director_gov_support была проведена но колонке chief_director,\n",
    "#Применяю к этой таблице метод reset_index(), чтобы имена режисёров составляли простую колонку.\n",
    "director_gov_support = gov_support_movies.pivot_table(index = 'chief_director', values = 'gov_support_total', aggfunc = 'count').reset_index()\n",
    "director_gov_support_count = director_gov_support[director_gov_support['gov_support_total'] > 1]\n",
    "display(director_gov_support_count.sort_values(by = 'gov_support_total'))"
   ]
  },
  {
   "cell_type": "code",
   "execution_count": 33,
   "id": "e2f36f9a",
   "metadata": {},
   "outputs": [
    {
     "data": {
      "text/plain": [
       "1498                 Невидимки\n",
       "1870    А зори здесь тихие..._\n",
       "2482                 Однажды._\n",
       "2723         Чистое искусство.\n",
       "6922          Донбасс. Окраина\n",
       "Name: title, dtype: object"
      ]
     },
     "metadata": {},
     "output_type": "display_data"
    },
    {
     "data": {
      "text/plain": [
       "6.779999999999999"
      ]
     },
     "metadata": {},
     "output_type": "display_data"
    }
   ],
   "source": [
    "#Выясняю, какие фильмы получили финансирование у режиссёра-\"чемпиона\".\n",
    "movies_by_directors = gov_support_movies.loc[gov_support_movies['chief_director'] == 'Р.Давлетьяров']['title']\n",
    "display(movies_by_directors)\n",
    "#Определяю средний рейтинг фильмов режиссёра-\"чемпиона\"\n",
    "mean_ratings = gov_support_movies.loc[gov_support_movies['chief_director'] == 'Р.Давлетьяров']['ratings'].mean()\n",
    "display(mean_ratings)"
   ]
  },
  {
   "cell_type": "markdown",
   "id": "309823e7",
   "metadata": {},
   "source": [
    "Средний рейтинг фильмов Давлетьярова, получавшего поддержку за счёт государственных средств чаще остальных оказался на 9.3% успешнее с точки зрения зрителей."
   ]
  },
  {
   "cell_type": "code",
   "execution_count": 34,
   "id": "a9f95afe",
   "metadata": {},
   "outputs": [
    {
     "data": {
      "text/plain": [
       "0.596871621745552"
      ]
     },
     "metadata": {},
     "output_type": "display_data"
    }
   ],
   "source": [
    "#Выясняю долю государственной поддержки в общем бюджете фильмов Давлетьярова.\n",
    "#Нахожу общий бюджет всех фильмов.\n",
    "movies_by_directors_budget = gov_support_movies.loc[gov_support_movies['chief_director'] == 'Р.Давлетьяров']['budget'].sum()\n",
    "\n",
    "#Нахожу сумму государственной поддержки.\n",
    "support_movies_by_directors = gov_support_movies.loc[gov_support_movies['chief_director'] == 'Р.Давлетьяров']['gov_support_total'].sum()\n",
    "\n",
    "#Определяю долю государственной поддержки в бюджете фильмов Давлетьярова за исследуемый период.\n",
    "support_share = support_movies_by_directors / movies_by_directors_budget\n",
    "display(support_share)"
   ]
  },
  {
   "cell_type": "markdown",
   "id": "2a9377bd",
   "metadata": {},
   "source": [
    "Доля государственной поддержки в бюджетах фильмов Давлетьярова  составила почти 59.7% , что на 3% меньше, чем медианное значение для всех фильмов, получивших такую поддержку."
   ]
  },
  {
   "cell_type": "code",
   "execution_count": 35,
   "id": "dd1b6c3d",
   "metadata": {},
   "outputs": [
    {
     "data": {
      "text/html": [
       "<div>\n",
       "<style scoped>\n",
       "    .dataframe tbody tr th:only-of-type {\n",
       "        vertical-align: middle;\n",
       "    }\n",
       "\n",
       "    .dataframe tbody tr th {\n",
       "        vertical-align: top;\n",
       "    }\n",
       "\n",
       "    .dataframe thead th {\n",
       "        text-align: right;\n",
       "    }\n",
       "</style>\n",
       "<table border=\"1\" class=\"dataframe\">\n",
       "  <thead>\n",
       "    <tr style=\"text-align: right;\">\n",
       "      <th></th>\n",
       "      <th>title</th>\n",
       "      <th>puNumber</th>\n",
       "      <th>show_start_date</th>\n",
       "      <th>type</th>\n",
       "      <th>film_studio</th>\n",
       "      <th>production_country</th>\n",
       "      <th>director</th>\n",
       "      <th>producer</th>\n",
       "      <th>age_restriction</th>\n",
       "      <th>refundable_support</th>\n",
       "      <th>...</th>\n",
       "      <th>financing_source</th>\n",
       "      <th>ratings</th>\n",
       "      <th>genres</th>\n",
       "      <th>box_office</th>\n",
       "      <th>year</th>\n",
       "      <th>chief_director</th>\n",
       "      <th>main_genre</th>\n",
       "      <th>state_support_share</th>\n",
       "      <th>box_office2</th>\n",
       "      <th>gov_support_total</th>\n",
       "    </tr>\n",
       "  </thead>\n",
       "  <tbody>\n",
       "    <tr>\n",
       "      <th>1498</th>\n",
       "      <td>Невидимки</td>\n",
       "      <td>111004213</td>\n",
       "      <td>2013-09-10 12:00:00+00:00</td>\n",
       "      <td>Художественный</td>\n",
       "      <td>ООО \"Компания \"РЕАЛ-ДАКОТА\"</td>\n",
       "      <td>Россия</td>\n",
       "      <td>Р.Давлетьяров, С.Комаров</td>\n",
       "      <td>Р.Давлетьяров, А.Котелевский, А.Олейников</td>\n",
       "      <td>«12+» - для детей старше 12 лет</td>\n",
       "      <td>0.0</td>\n",
       "      <td>...</td>\n",
       "      <td>Фонд кино</td>\n",
       "      <td>5.3</td>\n",
       "      <td>комедия,фантастика</td>\n",
       "      <td>1.995703e+07</td>\n",
       "      <td>2013</td>\n",
       "      <td>Р.Давлетьяров</td>\n",
       "      <td>комедия</td>\n",
       "      <td>0.612691</td>\n",
       "      <td>19957031.50</td>\n",
       "      <td>107847945.0</td>\n",
       "    </tr>\n",
       "    <tr>\n",
       "      <th>1870</th>\n",
       "      <td>А зори здесь тихие..._</td>\n",
       "      <td>111002915</td>\n",
       "      <td>2015-03-16 12:00:00+00:00</td>\n",
       "      <td>Художественный</td>\n",
       "      <td>ООО \"Компания \"Реал-Дакота\"</td>\n",
       "      <td>Россия</td>\n",
       "      <td>Р.Давлетьяров</td>\n",
       "      <td>NaN</td>\n",
       "      <td>«12+» - для детей старше 12 лет</td>\n",
       "      <td>50000000.0</td>\n",
       "      <td>...</td>\n",
       "      <td>Фонд кино</td>\n",
       "      <td>8.5</td>\n",
       "      <td>драма,военный,история</td>\n",
       "      <td>2.491668e+08</td>\n",
       "      <td>2015</td>\n",
       "      <td>Р.Давлетьяров</td>\n",
       "      <td>драма</td>\n",
       "      <td>0.680000</td>\n",
       "      <td>NaN</td>\n",
       "      <td>150000000.0</td>\n",
       "    </tr>\n",
       "    <tr>\n",
       "      <th>2482</th>\n",
       "      <td>Однажды._</td>\n",
       "      <td>111004215</td>\n",
       "      <td>2015-04-15 12:00:00+00:00</td>\n",
       "      <td>Художественный</td>\n",
       "      <td>ООО \"Компания \"РЕАЛ-ДАКОТА\", НП \"Интерфест\"</td>\n",
       "      <td>Россия</td>\n",
       "      <td>Р.Давлетьяров</td>\n",
       "      <td>Р.Давлетьяров, А.Котелевский</td>\n",
       "      <td>«16+» - для детей старше 16 лет</td>\n",
       "      <td>0.0</td>\n",
       "      <td>...</td>\n",
       "      <td>Фонд кино</td>\n",
       "      <td>7.9</td>\n",
       "      <td>драма,криминал,детектив</td>\n",
       "      <td>1.274840e+07</td>\n",
       "      <td>2015</td>\n",
       "      <td>Р.Давлетьяров</td>\n",
       "      <td>драма</td>\n",
       "      <td>0.620361</td>\n",
       "      <td>12748398.30</td>\n",
       "      <td>97000000.0</td>\n",
       "    </tr>\n",
       "    <tr>\n",
       "      <th>2723</th>\n",
       "      <td>Чистое искусство.</td>\n",
       "      <td>111008715</td>\n",
       "      <td>2015-05-05 12:00:00+00:00</td>\n",
       "      <td>Художественный</td>\n",
       "      <td>ООО \"КОМПАНИЯ \"РЕАЛ-ДАКОТА\"</td>\n",
       "      <td>Россия</td>\n",
       "      <td>Р.Давлетьяров</td>\n",
       "      <td>Р.Давлетьяров</td>\n",
       "      <td>«16+» - для детей старше 16 лет</td>\n",
       "      <td>15000000.0</td>\n",
       "      <td>...</td>\n",
       "      <td>Фонд кино</td>\n",
       "      <td>5.9</td>\n",
       "      <td>триллер,детектив</td>\n",
       "      <td>6.457303e+06</td>\n",
       "      <td>2015</td>\n",
       "      <td>Р.Давлетьяров</td>\n",
       "      <td>триллер</td>\n",
       "      <td>0.671224</td>\n",
       "      <td>6457303.02</td>\n",
       "      <td>75000000.0</td>\n",
       "    </tr>\n",
       "    <tr>\n",
       "      <th>6922</th>\n",
       "      <td>Донбасс. Окраина</td>\n",
       "      <td>111007919</td>\n",
       "      <td>2019-06-12 12:00:00+00:00</td>\n",
       "      <td>Художественный</td>\n",
       "      <td>АНО \"Интерфест\", ООО \"Пропеллер Продакшн\"</td>\n",
       "      <td>Россия</td>\n",
       "      <td>Р.Давлетьяров</td>\n",
       "      <td>Р.Давлетьяров, Г.Поземельный</td>\n",
       "      <td>«12+» - для детей старше 12 лет</td>\n",
       "      <td>0.0</td>\n",
       "      <td>...</td>\n",
       "      <td>Министерство культуры</td>\n",
       "      <td>6.3</td>\n",
       "      <td>драма,военный,триллер</td>\n",
       "      <td>1.093343e+07</td>\n",
       "      <td>2019</td>\n",
       "      <td>Р.Давлетьяров</td>\n",
       "      <td>драма</td>\n",
       "      <td>0.283764</td>\n",
       "      <td>10933431.92</td>\n",
       "      <td>30000000.0</td>\n",
       "    </tr>\n",
       "  </tbody>\n",
       "</table>\n",
       "<p>5 rows × 22 columns</p>\n",
       "</div>"
      ],
      "text/plain": [
       "                       title   puNumber           show_start_date  \\\n",
       "1498               Невидимки  111004213 2013-09-10 12:00:00+00:00   \n",
       "1870  А зори здесь тихие..._  111002915 2015-03-16 12:00:00+00:00   \n",
       "2482               Однажды._  111004215 2015-04-15 12:00:00+00:00   \n",
       "2723       Чистое искусство.  111008715 2015-05-05 12:00:00+00:00   \n",
       "6922        Донбасс. Окраина  111007919 2019-06-12 12:00:00+00:00   \n",
       "\n",
       "                type                                  film_studio  \\\n",
       "1498  Художественный                  ООО \"Компания \"РЕАЛ-ДАКОТА\"   \n",
       "1870  Художественный                  ООО \"Компания \"Реал-Дакота\"   \n",
       "2482  Художественный  ООО \"Компания \"РЕАЛ-ДАКОТА\", НП \"Интерфест\"   \n",
       "2723  Художественный                  ООО \"КОМПАНИЯ \"РЕАЛ-ДАКОТА\"   \n",
       "6922  Художественный    АНО \"Интерфест\", ООО \"Пропеллер Продакшн\"   \n",
       "\n",
       "     production_country                  director  \\\n",
       "1498             Россия  Р.Давлетьяров, С.Комаров   \n",
       "1870             Россия             Р.Давлетьяров   \n",
       "2482             Россия             Р.Давлетьяров   \n",
       "2723             Россия             Р.Давлетьяров   \n",
       "6922             Россия             Р.Давлетьяров   \n",
       "\n",
       "                                       producer  \\\n",
       "1498  Р.Давлетьяров, А.Котелевский, А.Олейников   \n",
       "1870                                        NaN   \n",
       "2482               Р.Давлетьяров, А.Котелевский   \n",
       "2723                              Р.Давлетьяров   \n",
       "6922               Р.Давлетьяров, Г.Поземельный   \n",
       "\n",
       "                      age_restriction  refundable_support  ...  \\\n",
       "1498  «12+» - для детей старше 12 лет                 0.0  ...   \n",
       "1870  «12+» - для детей старше 12 лет          50000000.0  ...   \n",
       "2482  «16+» - для детей старше 16 лет                 0.0  ...   \n",
       "2723  «16+» - для детей старше 16 лет          15000000.0  ...   \n",
       "6922  «12+» - для детей старше 12 лет                 0.0  ...   \n",
       "\n",
       "           financing_source  ratings                   genres    box_office  \\\n",
       "1498              Фонд кино      5.3       комедия,фантастика  1.995703e+07   \n",
       "1870              Фонд кино      8.5    драма,военный,история  2.491668e+08   \n",
       "2482              Фонд кино      7.9  драма,криминал,детектив  1.274840e+07   \n",
       "2723              Фонд кино      5.9         триллер,детектив  6.457303e+06   \n",
       "6922  Министерство культуры      6.3    драма,военный,триллер  1.093343e+07   \n",
       "\n",
       "      year  chief_director  main_genre state_support_share  box_office2  \\\n",
       "1498  2013   Р.Давлетьяров     комедия            0.612691  19957031.50   \n",
       "1870  2015   Р.Давлетьяров       драма            0.680000          NaN   \n",
       "2482  2015   Р.Давлетьяров       драма            0.620361  12748398.30   \n",
       "2723  2015   Р.Давлетьяров     триллер            0.671224   6457303.02   \n",
       "6922  2019   Р.Давлетьяров       драма            0.283764  10933431.92   \n",
       "\n",
       "      gov_support_total  \n",
       "1498        107847945.0  \n",
       "1870        150000000.0  \n",
       "2482         97000000.0  \n",
       "2723         75000000.0  \n",
       "6922         30000000.0  \n",
       "\n",
       "[5 rows x 22 columns]"
      ]
     },
     "metadata": {},
     "output_type": "display_data"
    },
    {
     "data": {
      "text/plain": [
       "1498    0.113377\n",
       "1870    1.129555\n",
       "2482    0.081532\n",
       "2723    0.057791\n",
       "6922    0.103417\n",
       "dtype: float64"
      ]
     },
     "metadata": {},
     "output_type": "display_data"
    }
   ],
   "source": [
    "#Выясню, насколько окупаются фильмы самого поддержанного государством режиссёра.\n",
    "champion_director = gov_support_movies.loc[gov_support_movies['chief_director'] == 'Р.Давлетьяров']\n",
    "display(champion_director)\n",
    "\n",
    "movies_payback = champion_director['box_office'] / champion_director['budget']\n",
    "display(movies_payback)"
   ]
  },
  {
   "cell_type": "markdown",
   "id": "612ac67b",
   "metadata": {},
   "source": [
    "Из всех фильмов Р.Давлетьярова, получивших поддержку государства, окупился только ремейк фильма \"А зори здесь тихие...\", не исключено, что и этим успехом режиссёр во многом обязан во-первых, качеству работы предшественника, и во-вторых, интересу зрителей к тематике Великой Отечественной войны. Три фильма из пяти, включая патриотический \"Донбасс. Окраина\", в прокате провалились, можно сказать с треском. В свою очередь, тот факт, что практически все фильмы чемпиона по количеству раз получения господдержки провалились, говорит о нерациональности принимаемых решений в этом вопросе. (Фонд кино в 2013-2015 гг. поддержал четыре фильма Давлетьярова, из которых три - провалились в прокате.)"
   ]
  },
  {
   "cell_type": "code",
   "execution_count": 36,
   "id": "22d45ea6",
   "metadata": {},
   "outputs": [
    {
     "data": {
      "text/html": [
       "<div>\n",
       "<style scoped>\n",
       "    .dataframe tbody tr th:only-of-type {\n",
       "        vertical-align: middle;\n",
       "    }\n",
       "\n",
       "    .dataframe tbody tr th {\n",
       "        vertical-align: top;\n",
       "    }\n",
       "\n",
       "    .dataframe thead th {\n",
       "        text-align: right;\n",
       "    }\n",
       "</style>\n",
       "<table border=\"1\" class=\"dataframe\">\n",
       "  <thead>\n",
       "    <tr style=\"text-align: right;\">\n",
       "      <th></th>\n",
       "      <th>main_genre</th>\n",
       "      <th>gov_support_total</th>\n",
       "    </tr>\n",
       "  </thead>\n",
       "  <tbody>\n",
       "    <tr>\n",
       "      <th>0</th>\n",
       "      <td>биография</td>\n",
       "      <td>3</td>\n",
       "    </tr>\n",
       "    <tr>\n",
       "      <th>1</th>\n",
       "      <td>боевик</td>\n",
       "      <td>6</td>\n",
       "    </tr>\n",
       "    <tr>\n",
       "      <th>2</th>\n",
       "      <td>военный</td>\n",
       "      <td>9</td>\n",
       "    </tr>\n",
       "    <tr>\n",
       "      <th>3</th>\n",
       "      <td>детектив</td>\n",
       "      <td>5</td>\n",
       "    </tr>\n",
       "    <tr>\n",
       "      <th>4</th>\n",
       "      <td>детский</td>\n",
       "      <td>4</td>\n",
       "    </tr>\n",
       "    <tr>\n",
       "      <th>5</th>\n",
       "      <td>драма</td>\n",
       "      <td>93</td>\n",
       "    </tr>\n",
       "    <tr>\n",
       "      <th>6</th>\n",
       "      <td>история</td>\n",
       "      <td>4</td>\n",
       "    </tr>\n",
       "    <tr>\n",
       "      <th>7</th>\n",
       "      <td>комедия</td>\n",
       "      <td>74</td>\n",
       "    </tr>\n",
       "    <tr>\n",
       "      <th>8</th>\n",
       "      <td>криминал</td>\n",
       "      <td>3</td>\n",
       "    </tr>\n",
       "    <tr>\n",
       "      <th>9</th>\n",
       "      <td>мелодрама</td>\n",
       "      <td>15</td>\n",
       "    </tr>\n",
       "    <tr>\n",
       "      <th>10</th>\n",
       "      <td>мультфильм</td>\n",
       "      <td>31</td>\n",
       "    </tr>\n",
       "    <tr>\n",
       "      <th>11</th>\n",
       "      <td>мюзикл</td>\n",
       "      <td>4</td>\n",
       "    </tr>\n",
       "    <tr>\n",
       "      <th>12</th>\n",
       "      <td>приключения</td>\n",
       "      <td>7</td>\n",
       "    </tr>\n",
       "    <tr>\n",
       "      <th>13</th>\n",
       "      <td>реальное ТВ</td>\n",
       "      <td>1</td>\n",
       "    </tr>\n",
       "    <tr>\n",
       "      <th>14</th>\n",
       "      <td>семейный</td>\n",
       "      <td>7</td>\n",
       "    </tr>\n",
       "    <tr>\n",
       "      <th>15</th>\n",
       "      <td>спорт</td>\n",
       "      <td>3</td>\n",
       "    </tr>\n",
       "    <tr>\n",
       "      <th>16</th>\n",
       "      <td>триллер</td>\n",
       "      <td>15</td>\n",
       "    </tr>\n",
       "    <tr>\n",
       "      <th>17</th>\n",
       "      <td>ужасы</td>\n",
       "      <td>10</td>\n",
       "    </tr>\n",
       "    <tr>\n",
       "      <th>18</th>\n",
       "      <td>фантастика</td>\n",
       "      <td>11</td>\n",
       "    </tr>\n",
       "    <tr>\n",
       "      <th>19</th>\n",
       "      <td>фэнтези</td>\n",
       "      <td>11</td>\n",
       "    </tr>\n",
       "  </tbody>\n",
       "</table>\n",
       "</div>"
      ],
      "text/plain": [
       "     main_genre  gov_support_total\n",
       "0     биография                  3\n",
       "1        боевик                  6\n",
       "2       военный                  9\n",
       "3      детектив                  5\n",
       "4       детский                  4\n",
       "5         драма                 93\n",
       "6       история                  4\n",
       "7       комедия                 74\n",
       "8      криминал                  3\n",
       "9     мелодрама                 15\n",
       "10   мультфильм                 31\n",
       "11       мюзикл                  4\n",
       "12  приключения                  7\n",
       "13  реальное ТВ                  1\n",
       "14     семейный                  7\n",
       "15        спорт                  3\n",
       "16      триллер                 15\n",
       "17        ужасы                 10\n",
       "18   фантастика                 11\n",
       "19      фэнтези                 11"
      ]
     },
     "metadata": {},
     "output_type": "display_data"
    }
   ],
   "source": [
    "#Выясняю, какой жанр чаще всего поддерживается государством.\n",
    "genre_support = gov_support_movies.pivot_table(index = 'main_genre', values = 'gov_support_total', aggfunc = 'count').reset_index()\n",
    "display(genre_support)"
   ]
  },
  {
   "cell_type": "markdown",
   "id": "a53aa594",
   "metadata": {},
   "source": [
    "Первое место среди жанров по объёму помощи от государства занимают фильмы в жанре драмы. Вторым идёт комедийный жанр. В числе наименее поддерживаемых оказались фильмы для детей. Видимо, в силу того, что их почти не снимают."
   ]
  },
  {
   "cell_type": "code",
   "execution_count": 37,
   "id": "adb0f38e",
   "metadata": {},
   "outputs": [
    {
     "data": {
      "text/html": [
       "<div>\n",
       "<style scoped>\n",
       "    .dataframe tbody tr th:only-of-type {\n",
       "        vertical-align: middle;\n",
       "    }\n",
       "\n",
       "    .dataframe tbody tr th {\n",
       "        vertical-align: top;\n",
       "    }\n",
       "\n",
       "    .dataframe thead th {\n",
       "        text-align: right;\n",
       "    }\n",
       "</style>\n",
       "<table border=\"1\" class=\"dataframe\">\n",
       "  <thead>\n",
       "    <tr style=\"text-align: right;\">\n",
       "      <th></th>\n",
       "      <th>film_studio</th>\n",
       "      <th>studio_pay_back</th>\n",
       "    </tr>\n",
       "  </thead>\n",
       "  <tbody>\n",
       "    <tr>\n",
       "      <th>0</th>\n",
       "      <td>ООО \"КиноФирма\"</td>\n",
       "      <td>2.560489</td>\n",
       "    </tr>\n",
       "    <tr>\n",
       "      <th>1</th>\n",
       "      <td>ООО \"Магнум-фильм\"</td>\n",
       "      <td>1.363503</td>\n",
       "    </tr>\n",
       "    <tr>\n",
       "      <th>2</th>\n",
       "      <td>ООО \"ТаББаК\"</td>\n",
       "      <td>1.515320</td>\n",
       "    </tr>\n",
       "    <tr>\n",
       "      <th>3</th>\n",
       "      <td>АО \"ВайТ Медиа\", ООО \"Арт Пикчерс Студия\"</td>\n",
       "      <td>6.459158</td>\n",
       "    </tr>\n",
       "    <tr>\n",
       "      <th>4</th>\n",
       "      <td>ЗАО \"Аэроплан\"</td>\n",
       "      <td>3.333205</td>\n",
       "    </tr>\n",
       "    <tr>\n",
       "      <th>...</th>\n",
       "      <td>...</td>\n",
       "      <td>...</td>\n",
       "    </tr>\n",
       "    <tr>\n",
       "      <th>62</th>\n",
       "      <td>ООО \"Энджой мувиз\"</td>\n",
       "      <td>1.868574</td>\n",
       "    </tr>\n",
       "    <tr>\n",
       "      <th>63</th>\n",
       "      <td>ООО Кинокомпания \"Аврора продакшнс\" по заказу ...</td>\n",
       "      <td>2.053782</td>\n",
       "    </tr>\n",
       "    <tr>\n",
       "      <th>64</th>\n",
       "      <td>ООО Кинокомпания \"Глобус-фильм\"</td>\n",
       "      <td>2.713113</td>\n",
       "    </tr>\n",
       "    <tr>\n",
       "      <th>65</th>\n",
       "      <td>ООО Кинокомпания \"Инвада Фильм\", АО \"ВБД Груп\"</td>\n",
       "      <td>6.643566</td>\n",
       "    </tr>\n",
       "    <tr>\n",
       "      <th>66</th>\n",
       "      <td>ООО Кинокомпания \"Лунапарк\"</td>\n",
       "      <td>1.122267</td>\n",
       "    </tr>\n",
       "  </tbody>\n",
       "</table>\n",
       "<p>67 rows × 2 columns</p>\n",
       "</div>"
      ],
      "text/plain": [
       "                                          film_studio  studio_pay_back\n",
       "0                                     ООО \"КиноФирма\"         2.560489\n",
       "1                                  ООО \"Магнум-фильм\"         1.363503\n",
       "2                                        ООО \"ТаББаК\"         1.515320\n",
       "3           АО \"ВайТ Медиа\", ООО \"Арт Пикчерс Студия\"         6.459158\n",
       "4                                      ЗАО \"Аэроплан\"         3.333205\n",
       "..                                                ...              ...\n",
       "62                                 ООО \"Энджой мувиз\"         1.868574\n",
       "63  ООО Кинокомпания \"Аврора продакшнс\" по заказу ...         2.053782\n",
       "64                    ООО Кинокомпания \"Глобус-фильм\"         2.713113\n",
       "65     ООО Кинокомпания \"Инвада Фильм\", АО \"ВБД Груп\"         6.643566\n",
       "66                        ООО Кинокомпания \"Лунапарк\"         1.122267\n",
       "\n",
       "[67 rows x 2 columns]"
      ]
     },
     "metadata": {},
     "output_type": "display_data"
    },
    {
     "data": {
      "text/plain": [
       "film_studio        67\n",
       "studio_pay_back    67\n",
       "dtype: int64"
      ]
     },
     "metadata": {},
     "output_type": "display_data"
    },
    {
     "data": {
      "text/plain": [
       "studio_pay_back    3.421382\n",
       "dtype: float64"
      ]
     },
     "metadata": {},
     "output_type": "display_data"
    },
    {
     "data": {
      "text/plain": [
       "film_studio        197\n",
       "studio_pay_back    197\n",
       "dtype: int64"
      ]
     },
     "metadata": {},
     "output_type": "display_data"
    }
   ],
   "source": [
    "#Выясняю количество студий, у которых окупаются проекты.\n",
    "gov_support_movies['studio_pay_back'] = gov_support_movies['box_office'] / gov_support_movies['budget']\n",
    "film_studio_pay_back = gov_support_movies.pivot_table(index = 'film_studio', values = 'studio_pay_back', aggfunc = 'sum').reset_index()\n",
    "film_studio_pay_back2 = film_studio_pay_back[film_studio_pay_back['studio_pay_back'] > 1]\n",
    "\n",
    "film_studio_pay_back2.replace([np.inf, -np.inf], np.nan, inplace=True)#Заменяю значения inf на NaN.\n",
    "film_studio_pay_back2.dropna(inplace=True)# убираю строки c  нулевыv значением.\n",
    "film_studio_pay_back2 = film_studio_pay_back2.reset_index(drop=True)#Изменяю индексы строк.\n",
    "display(film_studio_pay_back2)\n",
    "display(film_studio_pay_back2.count())\n",
    "display(film_studio_pay_back2.mean())\n",
    "\n",
    "#Нахожу количество студий, получающих помощь государства, чьи проекты не окупаются.\n",
    "studio_pay_back_fail = film_studio_pay_back[film_studio_pay_back['studio_pay_back'] < 1]\n",
    "display(studio_pay_back_fail.count())"
   ]
  },
  {
   "cell_type": "markdown",
   "id": "1c810ee4",
   "metadata": {},
   "source": [
    "67 кинокомпаний и кооллабораций, получающих средства от государства, окупают свои проекты. (Из числа тех, о которых у нас есть данные о бюджете и кассовых сборах) Проекты 197 компаний обычно не окупаются. Проекты только 23.32% за период 2010-2015 гг. были коммерчески успешными.\n",
    "\n",
    "Посмотрю, как обстоят дела с российскими фильмами, не получившими никакого финансирования. бюджет по таким фильмам нам не известен. Однако, мы можем выяснить медианное значение по рейтингу этих фильмов и сравнить с медианным рейтингом фильмов, получивших господдержку."
   ]
  },
  {
   "cell_type": "markdown",
   "id": "cf5ddda9",
   "metadata": {},
   "source": [
    "## Общий вывод."
   ]
  },
  {
   "cell_type": "raw",
   "id": "ae2b9269",
   "metadata": {},
   "source": [
    "Исходя из представленной таблицы в 2010-2019 гг. в прокат выходило от 505 до 985 фильмов в год (в среднем - около 750-ти).\n",
    "\n",
    "Доля фильмов с информацией о прокате составила 42.2% от их общего количества.\n",
    "Если смотреть по годам, доля фильмов, имеющих информацию о прокате, росла до 2017 г., включительно, когда составила 70.06% от общего их числа. Затем наметилось снижение до уровня 54-59% в 2018 и 2019 гг. \n",
    "\n",
    "Данные о коссовых сборах представленны не полностью. Имеющиеся данные позволяют говорить о том, что минимальная сумма сборов была в 2011 г. С 2013-2014 гг. этот показатель начал расти (среднее значение кассовых сборов начало увеличиваться с 2013 г., медианное - с 2014 г.). В 2019 г. этот показатель снизился (и среднее, и медиана). Среднее и медианное значения серьёзно различаются (чаще всего - в разы), что свимдетельствует о серьёзном влиянии выброса. Для более корректного сравнения максимумов и минимума а так же - динамики в целом, необходимо учитывать инфляцию, тем более, что сумма сборов указана в рублях.\n",
    "\n",
    "В 2015-2018 гг. наибольшие кассовые сборы приходились на фильмы с возрастным ограничением 16+ (очевидно, это основная категория зрителей в России). В 2019 г. с небольшим отрывом лидировали фильмы с категорией ограничения 6+. Возможно, такая ситуация была вызвана увеличением производства полнометражных мультфильмов, на которые можно ходить всей семьёй.\n",
    "\n",
    "В таблице представленны данные о государственной поддержке создания фильмов возвратными и невозвратными средствами. Данное обстоятельство делает необходимым анализ ситуации в отечественной киноиндустрии и изучения вопроса об эффективности вложения государственных средств в этой сфере.\n",
    "Фильмы, о которых у нас есть информация о получении государственной поддержке составляют 18.41% всех российских фильмов. (Советские фильмы сюда не входят.) По-видимому, это и есть процент всех фильмов, получивших от государства финансирование. Следовательно, вмешательство государства в сферу кинопроизводства заметно, но не особенно велико. \n",
    "\n",
    "За 10 лет на господдержку кино было потрачено более 20 млрд. 200 млн. рублей. Заметный рост такой помощи начался в 2013 г. С 2014 г. до 2015 г. наблюдался резкий рост вложений (более чем в 4 раза). В целом это может быть связано с попытками поддержания уровня социального оптимизма в связи с международным кризисом 2014 г., последовашим за тем ростом международной напряжённости, а так же волны санкций и антисанкций. К 2017 г. напряжённость несколько снизилась, что привело, очевидно, к некоторому уменьшению финансирования. Причины повторного роста финансирования по-видимому кроются в усилении государственного контроля за контентом в Сети, на ТВ и в кино.\n",
    "\n",
    "Значение доли государственной поддержки в бюджете российских фильмов составляет до 0.66, медианное значение - 0.61. Таким образом, обычный российский фильм, получающий господдержку, более чем на половину финансируется государством. Это обстоятельство с одной стороны свидетельствует о степени (не)развитости российского коммерческого кино, с другой - указывает на то, что в этих фильмах так или иначе реализуется госзаказ. \n",
    "\n",
    "Медианное значение окупаемости в обоих случаях значительно меньше половины вложенных средств (не более 17.6%). Фильмы с государственным финансированием как правило не окупаются.\n",
    "\n",
    "Медианный рейтинг таких фильмов не очень велик. Хотя при рейтинге 6.2 можно было бы, как представляется, ожидать лучшей окупаемости, чем она есть в действительности. Медианный рейтинг российских фильмов, не получивших никакой государственной поддержки, составил 6.4, таким образом он на 3.23% выше, чем у поддержанных фильмов. Государственные институты не очень точно попадают в цель в плане зрительских предпочтений, хотя промах и некритичен.\n",
    "\n",
    "Большинство режисёров, получивших в каком-то виде государственное финансирование, получили его только один раз. Только 10 режиссёров из 270-ти за 10 лет получили государственную поддержку больше двух раз.\n",
    "\n",
    "Самым успешным в этом плане оказался Р. Давлетьяров. Он получил финансовую поддержку пять раз. Необходимо, однако, отметить, что эта помощь не была распределена равномерно в течение всего десятилетия. Четыре фильма из пяти были поддержаны в 2013-2015 гг., и ещё один - в 2019 г. Такое распределение наводит на мысль о непрозрачности и нелогичности механизма господдержки киноиндустрии.\n",
    "Особое внимание к фильмам Давлетьярова со стороны государства в итоге не было вполне оправданным. Средний рейтинг его фильмов, получавших поддержку за счёт государственных средств, составил 6.78, что на 9.3% успешнее с точки зрения зрителей. Этот результат впечатляет ещё менее на фоне медианного рейтинга фильмов, снятых без какой-либо поддержки со стороны государства (6.4).\n",
    "Доля государственной поддержки в бюджетах фильмов Давлетьярова  составила почти 59.7% , что немного меньше, чем медианное значение для всех фильмов, получивших такую поддержку (61%). В любом случае, обе цифры свидетельствуют о том, что государство поддерживает нежизнеспособные фильмы, или таким образом старается реализовать своего рода госзаказ в кино. В ппрочем, одно другому не мешает, и в этой ситуации могут присутствовать оба фактора.\n",
    "Из всех фильмов Р.Давлетьярова, получивших поддержку государства, окупился только ремейк фильма \"А зори здесь тихие...\", не исключено, что и этим успехом режиссёр во многом обязан во-первых, качеству работы предшественника, и во-вторых, интересу зрителей к тематике Великой Отечественной войны. Свою роль в данном случае могла сыграть и распространившаяся в российском обществе ностальгия по СССР.\n",
    "Основания для поиска причин успеха этого фильма в прокате вне плоскости талантов режиссёра действительно есть. Второй по коммерческой успешности его фильм - \"Однажды\", набрал только 81.5% от потраченного на съёмки бюджета. Остальные три фильма из пяти, включая патриотический \"Донбасс. Окраина\", оказались откровенно провальными.\n",
    "\n",
    "Если обратить внимание на жанровые предпочтения чиновников от кинематографа и культуры, то первое место по объёму помощи от государства занимают фильмы в жанре драмы. Вторым идёт комедийный жанр. В числе наименее поддерживаемых оказались фильмы для детей. Видимо, в силу того, чтов России их сейчас почти не снимают.\n",
    "\n",
    "Наконец, интерес к окупаемости проектов киностудий и их коллабораций привели к выводу о том, что только 67 кинокомпаний, получающих средства от государства, окупают свои проекты. (Из числа тех, о которых у нас есть данные о бюджете и кассовых сборах.) Многие из них окупают свои проекты в разы, медианное значение окупаемости для них - 3.42 или 242%. Проекты 197 компаний обычно не окупаются. Таким образом, проекты только 25.38% киностудий и коллабораций за период 2010-2015 гг. были коммерчески успешными.\n",
    "\n",
    "В результате анализа можно сделать вывод о возрастающем вмешательстве государствав в киноиндустрию. Совершенно очевидно и то, что коммерческий успех не является для государственных чиновников важным критерием И это странно, поскольку именно такой успех означал, бы что зрители поддерживают месседжи государства, отправляемые посредством кино. Отсутствие окупаемости таких фильмов безусловно свидетельствует и о нерациональном использовании бюджетных средств.\n",
    "В качестве рекомендаций можно было бы предложить пересмотр механизмов, принципов и целей финансирования киноиндустрии, проведение профессиональной аттестации кадров, ответственных за выделение и распределение бюджетных средств или даже полный отказ от такого вида деятельности."
   ]
  }
 ],
 "metadata": {
  "ExecuteTimeLog": [
   {
    "duration": 970,
    "start_time": "2022-04-16T08:30:35.408Z"
   },
   {
    "duration": 0,
    "start_time": "2022-04-16T08:30:36.381Z"
   },
   {
    "duration": 0,
    "start_time": "2022-04-16T08:30:36.383Z"
   },
   {
    "duration": 0,
    "start_time": "2022-04-16T08:30:36.384Z"
   },
   {
    "duration": 0,
    "start_time": "2022-04-16T08:30:36.385Z"
   },
   {
    "duration": 1,
    "start_time": "2022-04-16T08:30:36.399Z"
   },
   {
    "duration": 0,
    "start_time": "2022-04-16T08:30:36.401Z"
   },
   {
    "duration": 0,
    "start_time": "2022-04-16T08:30:36.402Z"
   },
   {
    "duration": 0,
    "start_time": "2022-04-16T08:30:36.404Z"
   },
   {
    "duration": 0,
    "start_time": "2022-04-16T08:30:36.405Z"
   },
   {
    "duration": 0,
    "start_time": "2022-04-16T08:30:36.406Z"
   },
   {
    "duration": 0,
    "start_time": "2022-04-16T08:30:36.408Z"
   },
   {
    "duration": 0,
    "start_time": "2022-04-16T08:30:36.409Z"
   },
   {
    "duration": 0,
    "start_time": "2022-04-16T08:30:36.410Z"
   },
   {
    "duration": 0,
    "start_time": "2022-04-16T08:30:36.412Z"
   },
   {
    "duration": 0,
    "start_time": "2022-04-16T08:30:36.413Z"
   },
   {
    "duration": 0,
    "start_time": "2022-04-16T08:30:36.414Z"
   },
   {
    "duration": 1,
    "start_time": "2022-04-16T08:30:36.415Z"
   },
   {
    "duration": 0,
    "start_time": "2022-04-16T08:30:36.417Z"
   },
   {
    "duration": 0,
    "start_time": "2022-04-16T08:30:36.418Z"
   },
   {
    "duration": 0,
    "start_time": "2022-04-16T08:30:36.420Z"
   },
   {
    "duration": 0,
    "start_time": "2022-04-16T08:30:36.421Z"
   },
   {
    "duration": 0,
    "start_time": "2022-04-16T08:30:36.422Z"
   },
   {
    "duration": 0,
    "start_time": "2022-04-16T08:30:36.423Z"
   },
   {
    "duration": 0,
    "start_time": "2022-04-16T08:30:36.425Z"
   },
   {
    "duration": 0,
    "start_time": "2022-04-16T08:30:36.426Z"
   },
   {
    "duration": 0,
    "start_time": "2022-04-16T08:30:36.428Z"
   },
   {
    "duration": 0,
    "start_time": "2022-04-16T08:30:36.429Z"
   },
   {
    "duration": 0,
    "start_time": "2022-04-16T08:30:36.430Z"
   },
   {
    "duration": 0,
    "start_time": "2022-04-16T08:30:36.432Z"
   },
   {
    "duration": 0,
    "start_time": "2022-04-16T08:30:36.433Z"
   },
   {
    "duration": 0,
    "start_time": "2022-04-16T08:30:36.434Z"
   },
   {
    "duration": 0,
    "start_time": "2022-04-16T08:30:36.436Z"
   },
   {
    "duration": 107,
    "start_time": "2022-04-16T08:50:09.428Z"
   },
   {
    "duration": 120,
    "start_time": "2022-04-16T08:50:39.262Z"
   },
   {
    "duration": 119,
    "start_time": "2022-04-16T08:50:48.251Z"
   },
   {
    "duration": 18,
    "start_time": "2022-04-16T08:50:48.373Z"
   },
   {
    "duration": 11,
    "start_time": "2022-04-16T08:50:48.393Z"
   },
   {
    "duration": 11,
    "start_time": "2022-04-16T08:50:48.406Z"
   },
   {
    "duration": 21,
    "start_time": "2022-04-16T08:50:48.418Z"
   },
   {
    "duration": 5,
    "start_time": "2022-04-16T08:50:48.441Z"
   },
   {
    "duration": 14,
    "start_time": "2022-04-16T08:50:48.448Z"
   },
   {
    "duration": 9,
    "start_time": "2022-04-16T08:50:48.463Z"
   },
   {
    "duration": 34,
    "start_time": "2022-04-16T08:50:48.473Z"
   },
   {
    "duration": 350,
    "start_time": "2022-04-16T08:50:48.510Z"
   },
   {
    "duration": 4,
    "start_time": "2022-04-16T08:50:48.861Z"
   },
   {
    "duration": 13,
    "start_time": "2022-04-16T08:50:48.867Z"
   },
   {
    "duration": 27,
    "start_time": "2022-04-16T08:50:48.882Z"
   },
   {
    "duration": 6,
    "start_time": "2022-04-16T08:50:48.910Z"
   },
   {
    "duration": 13,
    "start_time": "2022-04-16T08:50:48.917Z"
   },
   {
    "duration": 15,
    "start_time": "2022-04-16T08:50:48.931Z"
   },
   {
    "duration": 181,
    "start_time": "2022-04-16T08:50:48.948Z"
   },
   {
    "duration": 125,
    "start_time": "2022-04-16T08:50:49.131Z"
   },
   {
    "duration": 232,
    "start_time": "2022-04-16T08:50:49.258Z"
   },
   {
    "duration": 160,
    "start_time": "2022-04-16T08:50:49.500Z"
   },
   {
    "duration": 299,
    "start_time": "2022-04-16T08:50:49.662Z"
   },
   {
    "duration": 41,
    "start_time": "2022-04-16T08:50:49.963Z"
   },
   {
    "duration": 35,
    "start_time": "2022-04-16T08:50:50.006Z"
   },
   {
    "duration": 157,
    "start_time": "2022-04-16T08:50:50.043Z"
   },
   {
    "duration": 7,
    "start_time": "2022-04-16T08:50:50.201Z"
   },
   {
    "duration": 9,
    "start_time": "2022-04-16T08:50:50.209Z"
   },
   {
    "duration": 13,
    "start_time": "2022-04-16T08:50:50.220Z"
   },
   {
    "duration": 14,
    "start_time": "2022-04-16T08:50:50.236Z"
   },
   {
    "duration": 9,
    "start_time": "2022-04-16T08:50:50.251Z"
   },
   {
    "duration": 39,
    "start_time": "2022-04-16T08:50:50.262Z"
   },
   {
    "duration": 23,
    "start_time": "2022-04-16T08:50:50.303Z"
   },
   {
    "duration": 10,
    "start_time": "2022-04-16T08:50:50.328Z"
   },
   {
    "duration": 28,
    "start_time": "2022-04-16T08:50:50.340Z"
   },
   {
    "duration": 19,
    "start_time": "2022-04-16T09:26:58.053Z"
   },
   {
    "duration": 6,
    "start_time": "2022-04-16T09:27:54.374Z"
   },
   {
    "duration": 5,
    "start_time": "2022-04-16T09:58:16.844Z"
   },
   {
    "duration": 6,
    "start_time": "2022-04-16T09:58:46.476Z"
   },
   {
    "duration": 243,
    "start_time": "2022-04-16T10:07:51.678Z"
   },
   {
    "duration": 236,
    "start_time": "2022-04-16T10:08:14.390Z"
   },
   {
    "duration": 6,
    "start_time": "2022-04-16T10:15:44.211Z"
   },
   {
    "duration": 8,
    "start_time": "2022-04-16T10:18:02.421Z"
   },
   {
    "duration": 4,
    "start_time": "2022-04-16T10:18:07.031Z"
   },
   {
    "duration": 4,
    "start_time": "2022-04-16T10:21:43.697Z"
   },
   {
    "duration": 6,
    "start_time": "2022-04-16T10:30:46.453Z"
   },
   {
    "duration": 773,
    "start_time": "2022-04-16T10:42:09.036Z"
   },
   {
    "duration": 0,
    "start_time": "2022-04-16T10:42:09.811Z"
   },
   {
    "duration": 0,
    "start_time": "2022-04-16T10:42:09.812Z"
   },
   {
    "duration": 0,
    "start_time": "2022-04-16T10:42:09.813Z"
   },
   {
    "duration": 1,
    "start_time": "2022-04-16T10:42:09.813Z"
   },
   {
    "duration": 0,
    "start_time": "2022-04-16T10:42:09.814Z"
   },
   {
    "duration": 0,
    "start_time": "2022-04-16T10:42:09.815Z"
   },
   {
    "duration": 0,
    "start_time": "2022-04-16T10:42:09.816Z"
   },
   {
    "duration": 0,
    "start_time": "2022-04-16T10:42:09.817Z"
   },
   {
    "duration": 0,
    "start_time": "2022-04-16T10:42:09.818Z"
   },
   {
    "duration": 0,
    "start_time": "2022-04-16T10:42:09.819Z"
   },
   {
    "duration": 0,
    "start_time": "2022-04-16T10:42:09.820Z"
   },
   {
    "duration": 0,
    "start_time": "2022-04-16T10:42:09.821Z"
   },
   {
    "duration": 0,
    "start_time": "2022-04-16T10:42:09.822Z"
   },
   {
    "duration": 0,
    "start_time": "2022-04-16T10:42:09.823Z"
   },
   {
    "duration": 0,
    "start_time": "2022-04-16T10:42:09.823Z"
   },
   {
    "duration": 0,
    "start_time": "2022-04-16T10:42:09.824Z"
   },
   {
    "duration": 0,
    "start_time": "2022-04-16T10:42:09.825Z"
   },
   {
    "duration": 0,
    "start_time": "2022-04-16T10:42:09.826Z"
   },
   {
    "duration": 0,
    "start_time": "2022-04-16T10:42:09.827Z"
   },
   {
    "duration": 0,
    "start_time": "2022-04-16T10:42:09.828Z"
   },
   {
    "duration": 0,
    "start_time": "2022-04-16T10:42:09.829Z"
   },
   {
    "duration": 0,
    "start_time": "2022-04-16T10:42:09.830Z"
   },
   {
    "duration": 0,
    "start_time": "2022-04-16T10:42:09.832Z"
   },
   {
    "duration": 0,
    "start_time": "2022-04-16T10:42:09.833Z"
   },
   {
    "duration": 0,
    "start_time": "2022-04-16T10:42:09.835Z"
   },
   {
    "duration": 0,
    "start_time": "2022-04-16T10:42:09.836Z"
   },
   {
    "duration": 0,
    "start_time": "2022-04-16T10:42:09.836Z"
   },
   {
    "duration": 0,
    "start_time": "2022-04-16T10:42:09.837Z"
   },
   {
    "duration": 0,
    "start_time": "2022-04-16T10:42:09.838Z"
   },
   {
    "duration": 0,
    "start_time": "2022-04-16T10:42:09.839Z"
   },
   {
    "duration": 0,
    "start_time": "2022-04-16T10:42:09.841Z"
   },
   {
    "duration": 0,
    "start_time": "2022-04-16T10:42:09.842Z"
   },
   {
    "duration": 0,
    "start_time": "2022-04-16T10:42:09.843Z"
   },
   {
    "duration": 106,
    "start_time": "2022-04-16T10:42:17.783Z"
   },
   {
    "duration": 0,
    "start_time": "2022-04-16T10:42:17.891Z"
   },
   {
    "duration": 0,
    "start_time": "2022-04-16T10:42:17.892Z"
   },
   {
    "duration": 0,
    "start_time": "2022-04-16T10:42:17.893Z"
   },
   {
    "duration": 0,
    "start_time": "2022-04-16T10:42:17.894Z"
   },
   {
    "duration": 0,
    "start_time": "2022-04-16T10:42:17.895Z"
   },
   {
    "duration": 0,
    "start_time": "2022-04-16T10:42:17.896Z"
   },
   {
    "duration": 0,
    "start_time": "2022-04-16T10:42:17.897Z"
   },
   {
    "duration": 0,
    "start_time": "2022-04-16T10:42:17.898Z"
   },
   {
    "duration": 0,
    "start_time": "2022-04-16T10:42:17.898Z"
   },
   {
    "duration": 0,
    "start_time": "2022-04-16T10:42:17.899Z"
   },
   {
    "duration": 0,
    "start_time": "2022-04-16T10:42:17.900Z"
   },
   {
    "duration": 0,
    "start_time": "2022-04-16T10:42:17.901Z"
   },
   {
    "duration": 0,
    "start_time": "2022-04-16T10:42:17.902Z"
   },
   {
    "duration": 0,
    "start_time": "2022-04-16T10:42:17.902Z"
   },
   {
    "duration": 0,
    "start_time": "2022-04-16T10:42:17.903Z"
   },
   {
    "duration": 0,
    "start_time": "2022-04-16T10:42:17.904Z"
   },
   {
    "duration": 0,
    "start_time": "2022-04-16T10:42:17.904Z"
   },
   {
    "duration": 0,
    "start_time": "2022-04-16T10:42:17.906Z"
   },
   {
    "duration": 0,
    "start_time": "2022-04-16T10:42:17.907Z"
   },
   {
    "duration": 0,
    "start_time": "2022-04-16T10:42:17.908Z"
   },
   {
    "duration": 0,
    "start_time": "2022-04-16T10:42:17.908Z"
   },
   {
    "duration": 0,
    "start_time": "2022-04-16T10:42:17.909Z"
   },
   {
    "duration": 0,
    "start_time": "2022-04-16T10:42:17.910Z"
   },
   {
    "duration": 0,
    "start_time": "2022-04-16T10:42:17.911Z"
   },
   {
    "duration": 0,
    "start_time": "2022-04-16T10:42:17.912Z"
   },
   {
    "duration": 0,
    "start_time": "2022-04-16T10:42:17.913Z"
   },
   {
    "duration": 0,
    "start_time": "2022-04-16T10:42:17.914Z"
   },
   {
    "duration": 0,
    "start_time": "2022-04-16T10:42:17.915Z"
   },
   {
    "duration": 0,
    "start_time": "2022-04-16T10:42:17.915Z"
   },
   {
    "duration": 0,
    "start_time": "2022-04-16T10:42:17.916Z"
   },
   {
    "duration": 0,
    "start_time": "2022-04-16T10:42:17.917Z"
   },
   {
    "duration": 0,
    "start_time": "2022-04-16T10:42:17.918Z"
   },
   {
    "duration": 0,
    "start_time": "2022-04-16T10:42:17.919Z"
   },
   {
    "duration": 129,
    "start_time": "2022-04-16T10:42:28.505Z"
   },
   {
    "duration": 17,
    "start_time": "2022-04-16T10:42:31.583Z"
   },
   {
    "duration": 9,
    "start_time": "2022-04-16T10:42:31.602Z"
   },
   {
    "duration": 13,
    "start_time": "2022-04-16T10:42:31.613Z"
   },
   {
    "duration": 24,
    "start_time": "2022-04-16T10:42:31.627Z"
   },
   {
    "duration": 5,
    "start_time": "2022-04-16T10:42:31.653Z"
   },
   {
    "duration": 17,
    "start_time": "2022-04-16T10:42:31.659Z"
   },
   {
    "duration": 20,
    "start_time": "2022-04-16T10:42:31.677Z"
   },
   {
    "duration": 9,
    "start_time": "2022-04-16T10:42:31.699Z"
   },
   {
    "duration": 360,
    "start_time": "2022-04-16T10:42:31.710Z"
   },
   {
    "duration": 4,
    "start_time": "2022-04-16T10:42:32.071Z"
   },
   {
    "duration": 24,
    "start_time": "2022-04-16T10:42:32.076Z"
   },
   {
    "duration": 13,
    "start_time": "2022-04-16T10:42:32.101Z"
   },
   {
    "duration": 12,
    "start_time": "2022-04-16T10:42:32.115Z"
   },
   {
    "duration": 16,
    "start_time": "2022-04-16T10:42:32.129Z"
   },
   {
    "duration": 13,
    "start_time": "2022-04-16T10:42:32.146Z"
   },
   {
    "duration": 168,
    "start_time": "2022-04-16T10:42:32.161Z"
   },
   {
    "duration": 124,
    "start_time": "2022-04-16T10:42:32.331Z"
   },
   {
    "duration": 235,
    "start_time": "2022-04-16T10:42:32.456Z"
   },
   {
    "duration": 171,
    "start_time": "2022-04-16T10:42:32.692Z"
   },
   {
    "duration": 285,
    "start_time": "2022-04-16T10:42:32.864Z"
   },
   {
    "duration": 41,
    "start_time": "2022-04-16T10:42:33.150Z"
   },
   {
    "duration": 35,
    "start_time": "2022-04-16T10:42:33.193Z"
   },
   {
    "duration": 137,
    "start_time": "2022-04-16T10:42:33.230Z"
   },
   {
    "duration": 6,
    "start_time": "2022-04-16T10:42:33.369Z"
   },
   {
    "duration": 10,
    "start_time": "2022-04-16T10:42:33.377Z"
   },
   {
    "duration": 14,
    "start_time": "2022-04-16T10:42:33.400Z"
   },
   {
    "duration": 16,
    "start_time": "2022-04-16T10:42:33.416Z"
   },
   {
    "duration": 7,
    "start_time": "2022-04-16T10:42:33.433Z"
   },
   {
    "duration": 10,
    "start_time": "2022-04-16T10:42:33.442Z"
   },
   {
    "duration": 25,
    "start_time": "2022-04-16T10:42:33.454Z"
   },
   {
    "duration": 12,
    "start_time": "2022-04-16T10:42:33.500Z"
   },
   {
    "duration": 37,
    "start_time": "2022-04-16T10:42:33.514Z"
   },
   {
    "duration": 52,
    "start_time": "2022-04-17T05:40:04.050Z"
   },
   {
    "duration": 834,
    "start_time": "2022-04-17T05:40:14.960Z"
   },
   {
    "duration": 104,
    "start_time": "2022-04-17T05:40:15.796Z"
   },
   {
    "duration": 0,
    "start_time": "2022-04-17T05:40:15.903Z"
   },
   {
    "duration": 0,
    "start_time": "2022-04-17T05:40:15.904Z"
   },
   {
    "duration": 0,
    "start_time": "2022-04-17T05:40:15.905Z"
   },
   {
    "duration": 0,
    "start_time": "2022-04-17T05:40:15.906Z"
   },
   {
    "duration": 0,
    "start_time": "2022-04-17T05:40:15.907Z"
   },
   {
    "duration": 0,
    "start_time": "2022-04-17T05:40:15.908Z"
   },
   {
    "duration": 0,
    "start_time": "2022-04-17T05:40:15.909Z"
   },
   {
    "duration": 1,
    "start_time": "2022-04-17T05:40:15.910Z"
   },
   {
    "duration": 0,
    "start_time": "2022-04-17T05:40:15.912Z"
   },
   {
    "duration": 0,
    "start_time": "2022-04-17T05:40:15.913Z"
   },
   {
    "duration": 0,
    "start_time": "2022-04-17T05:40:15.914Z"
   },
   {
    "duration": 0,
    "start_time": "2022-04-17T05:40:15.915Z"
   },
   {
    "duration": 0,
    "start_time": "2022-04-17T05:40:15.916Z"
   },
   {
    "duration": 0,
    "start_time": "2022-04-17T05:40:15.917Z"
   },
   {
    "duration": 0,
    "start_time": "2022-04-17T05:40:15.918Z"
   },
   {
    "duration": 0,
    "start_time": "2022-04-17T05:40:15.919Z"
   },
   {
    "duration": 0,
    "start_time": "2022-04-17T05:40:15.920Z"
   },
   {
    "duration": 0,
    "start_time": "2022-04-17T05:40:15.922Z"
   },
   {
    "duration": 0,
    "start_time": "2022-04-17T05:40:15.923Z"
   },
   {
    "duration": 0,
    "start_time": "2022-04-17T05:40:15.924Z"
   },
   {
    "duration": 0,
    "start_time": "2022-04-17T05:40:15.925Z"
   },
   {
    "duration": 0,
    "start_time": "2022-04-17T05:40:15.926Z"
   },
   {
    "duration": 0,
    "start_time": "2022-04-17T05:40:15.927Z"
   },
   {
    "duration": 0,
    "start_time": "2022-04-17T05:40:15.928Z"
   },
   {
    "duration": 0,
    "start_time": "2022-04-17T05:40:15.929Z"
   },
   {
    "duration": 0,
    "start_time": "2022-04-17T05:40:15.930Z"
   },
   {
    "duration": 0,
    "start_time": "2022-04-17T05:40:15.931Z"
   },
   {
    "duration": 0,
    "start_time": "2022-04-17T05:40:15.932Z"
   },
   {
    "duration": 0,
    "start_time": "2022-04-17T05:40:15.933Z"
   },
   {
    "duration": 0,
    "start_time": "2022-04-17T05:40:15.934Z"
   },
   {
    "duration": 0,
    "start_time": "2022-04-17T05:40:15.935Z"
   },
   {
    "duration": 0,
    "start_time": "2022-04-17T05:40:15.937Z"
   },
   {
    "duration": 0,
    "start_time": "2022-04-17T05:40:15.938Z"
   },
   {
    "duration": 72,
    "start_time": "2022-04-17T05:40:33.306Z"
   },
   {
    "duration": 117,
    "start_time": "2022-04-17T05:40:40.525Z"
   },
   {
    "duration": 82,
    "start_time": "2022-04-17T05:43:40.186Z"
   },
   {
    "duration": 2,
    "start_time": "2022-04-17T05:43:48.335Z"
   },
   {
    "duration": 89,
    "start_time": "2022-04-17T05:43:51.316Z"
   },
   {
    "duration": 75,
    "start_time": "2022-04-17T05:45:46.022Z"
   },
   {
    "duration": 2,
    "start_time": "2022-04-17T05:50:59.133Z"
   },
   {
    "duration": 92,
    "start_time": "2022-04-17T05:51:02.801Z"
   },
   {
    "duration": 106,
    "start_time": "2022-04-17T05:52:07.367Z"
   },
   {
    "duration": 16,
    "start_time": "2022-04-17T05:54:48.991Z"
   },
   {
    "duration": 21,
    "start_time": "2022-04-17T05:55:07.547Z"
   },
   {
    "duration": 13,
    "start_time": "2022-04-17T05:55:09.623Z"
   },
   {
    "duration": 23,
    "start_time": "2022-04-17T05:55:11.744Z"
   },
   {
    "duration": 22,
    "start_time": "2022-04-17T06:08:27.725Z"
   },
   {
    "duration": 25,
    "start_time": "2022-04-17T06:09:03.864Z"
   },
   {
    "duration": 26,
    "start_time": "2022-04-17T06:09:47.658Z"
   },
   {
    "duration": 18,
    "start_time": "2022-04-17T06:11:12.674Z"
   },
   {
    "duration": 20,
    "start_time": "2022-04-17T06:41:18.860Z"
   },
   {
    "duration": 16,
    "start_time": "2022-04-17T06:41:35.665Z"
   },
   {
    "duration": 18,
    "start_time": "2022-04-17T06:48:49.977Z"
   },
   {
    "duration": 20,
    "start_time": "2022-04-17T06:54:39.924Z"
   },
   {
    "duration": 28,
    "start_time": "2022-04-17T06:55:06.256Z"
   },
   {
    "duration": 18,
    "start_time": "2022-04-17T06:55:36.009Z"
   },
   {
    "duration": 24,
    "start_time": "2022-04-17T06:56:04.391Z"
   },
   {
    "duration": 132,
    "start_time": "2022-04-17T06:57:10.622Z"
   },
   {
    "duration": 24,
    "start_time": "2022-04-17T06:57:17.084Z"
   },
   {
    "duration": 23,
    "start_time": "2022-04-17T06:57:42.871Z"
   },
   {
    "duration": 147,
    "start_time": "2022-04-17T07:03:57.826Z"
   },
   {
    "duration": 32,
    "start_time": "2022-04-17T07:04:57.396Z"
   },
   {
    "duration": 10,
    "start_time": "2022-04-17T07:09:29.556Z"
   },
   {
    "duration": 391,
    "start_time": "2022-04-17T07:09:32.843Z"
   },
   {
    "duration": 10,
    "start_time": "2022-04-17T07:16:09.077Z"
   },
   {
    "duration": 27,
    "start_time": "2022-04-17T07:16:30.533Z"
   },
   {
    "duration": 12,
    "start_time": "2022-04-17T07:17:17.828Z"
   },
   {
    "duration": 13,
    "start_time": "2022-04-17T07:18:01.911Z"
   },
   {
    "duration": 27,
    "start_time": "2022-04-17T07:18:46.529Z"
   },
   {
    "duration": 11,
    "start_time": "2022-04-17T07:19:11.404Z"
   },
   {
    "duration": 30,
    "start_time": "2022-04-17T07:22:12.674Z"
   },
   {
    "duration": 40,
    "start_time": "2022-04-17T07:32:05.522Z"
   },
   {
    "duration": 37,
    "start_time": "2022-04-17T07:32:25.518Z"
   },
   {
    "duration": 36,
    "start_time": "2022-04-17T07:32:49.502Z"
   },
   {
    "duration": 52,
    "start_time": "2022-04-17T07:33:15.517Z"
   },
   {
    "duration": 38,
    "start_time": "2022-04-17T07:33:28.074Z"
   },
   {
    "duration": 15,
    "start_time": "2022-04-17T07:35:35.551Z"
   },
   {
    "duration": 124,
    "start_time": "2022-04-17T07:38:39.965Z"
   },
   {
    "duration": 20,
    "start_time": "2022-04-17T07:39:26.819Z"
   },
   {
    "duration": 3209,
    "start_time": "2022-04-17T07:40:05.739Z"
   },
   {
    "duration": 6056,
    "start_time": "2022-04-17T07:40:55.950Z"
   },
   {
    "duration": 129,
    "start_time": "2022-04-17T07:41:38.515Z"
   },
   {
    "duration": 140,
    "start_time": "2022-04-17T07:45:03.519Z"
   },
   {
    "duration": 135,
    "start_time": "2022-04-17T07:45:45.376Z"
   },
   {
    "duration": 125,
    "start_time": "2022-04-17T07:48:26.761Z"
   },
   {
    "duration": 139,
    "start_time": "2022-04-17T07:48:44.268Z"
   },
   {
    "duration": 2463,
    "start_time": "2022-04-17T07:50:00.388Z"
   },
   {
    "duration": 120,
    "start_time": "2022-04-17T07:50:12.633Z"
   },
   {
    "duration": 121,
    "start_time": "2022-04-17T07:50:37.405Z"
   },
   {
    "duration": 130,
    "start_time": "2022-04-17T07:52:26.753Z"
   },
   {
    "duration": 246,
    "start_time": "2022-04-17T07:53:22.312Z"
   },
   {
    "duration": 158,
    "start_time": "2022-04-17T07:54:48.249Z"
   },
   {
    "duration": 158,
    "start_time": "2022-04-17T07:59:17.683Z"
   },
   {
    "duration": 5,
    "start_time": "2022-04-17T08:00:13.511Z"
   },
   {
    "duration": 136,
    "start_time": "2022-04-17T08:00:18.863Z"
   },
   {
    "duration": 3,
    "start_time": "2022-04-17T08:00:55.332Z"
   },
   {
    "duration": 117,
    "start_time": "2022-04-17T08:00:55.337Z"
   },
   {
    "duration": 2,
    "start_time": "2022-04-17T08:00:55.456Z"
   },
   {
    "duration": 33,
    "start_time": "2022-04-17T08:00:55.460Z"
   },
   {
    "duration": 10,
    "start_time": "2022-04-17T08:00:55.495Z"
   },
   {
    "duration": 20,
    "start_time": "2022-04-17T08:00:55.507Z"
   },
   {
    "duration": 19,
    "start_time": "2022-04-17T08:00:55.529Z"
   },
   {
    "duration": 151,
    "start_time": "2022-04-17T08:00:55.549Z"
   },
   {
    "duration": 0,
    "start_time": "2022-04-17T08:00:55.702Z"
   },
   {
    "duration": 0,
    "start_time": "2022-04-17T08:00:55.704Z"
   },
   {
    "duration": 0,
    "start_time": "2022-04-17T08:00:55.705Z"
   },
   {
    "duration": 0,
    "start_time": "2022-04-17T08:00:55.706Z"
   },
   {
    "duration": 0,
    "start_time": "2022-04-17T08:00:55.707Z"
   },
   {
    "duration": 0,
    "start_time": "2022-04-17T08:00:55.707Z"
   },
   {
    "duration": 0,
    "start_time": "2022-04-17T08:00:55.708Z"
   },
   {
    "duration": 0,
    "start_time": "2022-04-17T08:00:55.709Z"
   },
   {
    "duration": 0,
    "start_time": "2022-04-17T08:00:55.710Z"
   },
   {
    "duration": 0,
    "start_time": "2022-04-17T08:00:55.711Z"
   },
   {
    "duration": 0,
    "start_time": "2022-04-17T08:00:55.711Z"
   },
   {
    "duration": 0,
    "start_time": "2022-04-17T08:00:55.712Z"
   },
   {
    "duration": 0,
    "start_time": "2022-04-17T08:00:55.713Z"
   },
   {
    "duration": 0,
    "start_time": "2022-04-17T08:00:55.714Z"
   },
   {
    "duration": 0,
    "start_time": "2022-04-17T08:00:55.715Z"
   },
   {
    "duration": 0,
    "start_time": "2022-04-17T08:00:55.716Z"
   },
   {
    "duration": 0,
    "start_time": "2022-04-17T08:00:55.717Z"
   },
   {
    "duration": 0,
    "start_time": "2022-04-17T08:00:55.718Z"
   },
   {
    "duration": 0,
    "start_time": "2022-04-17T08:00:55.719Z"
   },
   {
    "duration": 0,
    "start_time": "2022-04-17T08:00:55.720Z"
   },
   {
    "duration": 0,
    "start_time": "2022-04-17T08:00:55.720Z"
   },
   {
    "duration": 0,
    "start_time": "2022-04-17T08:00:55.721Z"
   },
   {
    "duration": 0,
    "start_time": "2022-04-17T08:00:55.722Z"
   },
   {
    "duration": 0,
    "start_time": "2022-04-17T08:00:55.723Z"
   },
   {
    "duration": 0,
    "start_time": "2022-04-17T08:00:55.724Z"
   },
   {
    "duration": 0,
    "start_time": "2022-04-17T08:00:55.724Z"
   },
   {
    "duration": 0,
    "start_time": "2022-04-17T08:00:55.725Z"
   },
   {
    "duration": 0,
    "start_time": "2022-04-17T08:00:55.726Z"
   },
   {
    "duration": 0,
    "start_time": "2022-04-17T08:00:55.727Z"
   },
   {
    "duration": 3,
    "start_time": "2022-04-17T08:01:20.807Z"
   },
   {
    "duration": 123,
    "start_time": "2022-04-17T08:01:20.813Z"
   },
   {
    "duration": 2,
    "start_time": "2022-04-17T08:01:20.938Z"
   },
   {
    "duration": 24,
    "start_time": "2022-04-17T08:01:20.942Z"
   },
   {
    "duration": 10,
    "start_time": "2022-04-17T08:01:20.968Z"
   },
   {
    "duration": 34,
    "start_time": "2022-04-17T08:01:20.979Z"
   },
   {
    "duration": 21,
    "start_time": "2022-04-17T08:01:21.015Z"
   },
   {
    "duration": 144,
    "start_time": "2022-04-17T08:01:21.038Z"
   },
   {
    "duration": 0,
    "start_time": "2022-04-17T08:01:21.186Z"
   },
   {
    "duration": 0,
    "start_time": "2022-04-17T08:01:21.187Z"
   },
   {
    "duration": 0,
    "start_time": "2022-04-17T08:01:21.189Z"
   },
   {
    "duration": 0,
    "start_time": "2022-04-17T08:01:21.190Z"
   },
   {
    "duration": 0,
    "start_time": "2022-04-17T08:01:21.192Z"
   },
   {
    "duration": 0,
    "start_time": "2022-04-17T08:01:21.192Z"
   },
   {
    "duration": 0,
    "start_time": "2022-04-17T08:01:21.193Z"
   },
   {
    "duration": 0,
    "start_time": "2022-04-17T08:01:21.194Z"
   },
   {
    "duration": 0,
    "start_time": "2022-04-17T08:01:21.195Z"
   },
   {
    "duration": 0,
    "start_time": "2022-04-17T08:01:21.196Z"
   },
   {
    "duration": 0,
    "start_time": "2022-04-17T08:01:21.197Z"
   },
   {
    "duration": 0,
    "start_time": "2022-04-17T08:01:21.198Z"
   },
   {
    "duration": 0,
    "start_time": "2022-04-17T08:01:21.199Z"
   },
   {
    "duration": 0,
    "start_time": "2022-04-17T08:01:21.200Z"
   },
   {
    "duration": 0,
    "start_time": "2022-04-17T08:01:21.201Z"
   },
   {
    "duration": 0,
    "start_time": "2022-04-17T08:01:21.202Z"
   },
   {
    "duration": 0,
    "start_time": "2022-04-17T08:01:21.203Z"
   },
   {
    "duration": 0,
    "start_time": "2022-04-17T08:01:21.204Z"
   },
   {
    "duration": 0,
    "start_time": "2022-04-17T08:01:21.204Z"
   },
   {
    "duration": 0,
    "start_time": "2022-04-17T08:01:21.205Z"
   },
   {
    "duration": 0,
    "start_time": "2022-04-17T08:01:21.206Z"
   },
   {
    "duration": 0,
    "start_time": "2022-04-17T08:01:21.207Z"
   },
   {
    "duration": 0,
    "start_time": "2022-04-17T08:01:21.208Z"
   },
   {
    "duration": 0,
    "start_time": "2022-04-17T08:01:21.209Z"
   },
   {
    "duration": 0,
    "start_time": "2022-04-17T08:01:21.210Z"
   },
   {
    "duration": 0,
    "start_time": "2022-04-17T08:01:21.211Z"
   },
   {
    "duration": 0,
    "start_time": "2022-04-17T08:01:21.212Z"
   },
   {
    "duration": 0,
    "start_time": "2022-04-17T08:01:21.213Z"
   },
   {
    "duration": 0,
    "start_time": "2022-04-17T08:01:21.214Z"
   },
   {
    "duration": 3,
    "start_time": "2022-04-17T08:01:31.095Z"
   },
   {
    "duration": 101,
    "start_time": "2022-04-17T08:01:33.237Z"
   },
   {
    "duration": 20,
    "start_time": "2022-04-17T08:01:38.745Z"
   },
   {
    "duration": 9,
    "start_time": "2022-04-17T08:01:43.095Z"
   },
   {
    "duration": 23,
    "start_time": "2022-04-17T08:01:45.097Z"
   },
   {
    "duration": 19,
    "start_time": "2022-04-17T08:01:47.717Z"
   },
   {
    "duration": 129,
    "start_time": "2022-04-17T08:01:51.349Z"
   },
   {
    "duration": 6,
    "start_time": "2022-04-17T08:01:53.513Z"
   },
   {
    "duration": 15,
    "start_time": "2022-04-17T08:01:55.762Z"
   },
   {
    "duration": 8,
    "start_time": "2022-04-17T08:01:59.000Z"
   },
   {
    "duration": 31,
    "start_time": "2022-04-17T08:02:01.761Z"
   },
   {
    "duration": 28,
    "start_time": "2022-04-17T08:02:04.920Z"
   },
   {
    "duration": 2157,
    "start_time": "2022-04-17T08:03:38.531Z"
   },
   {
    "duration": 2109,
    "start_time": "2022-04-17T08:04:11.572Z"
   },
   {
    "duration": 2271,
    "start_time": "2022-04-17T08:04:40.628Z"
   },
   {
    "duration": 2079,
    "start_time": "2022-04-17T08:04:52.018Z"
   },
   {
    "duration": 2166,
    "start_time": "2022-04-17T08:05:02.938Z"
   },
   {
    "duration": 2292,
    "start_time": "2022-04-17T08:05:13.666Z"
   },
   {
    "duration": 2265,
    "start_time": "2022-04-17T08:05:25.561Z"
   },
   {
    "duration": 2257,
    "start_time": "2022-04-17T08:05:43.794Z"
   },
   {
    "duration": 71,
    "start_time": "2022-04-17T08:06:17.274Z"
   },
   {
    "duration": 36,
    "start_time": "2022-04-17T08:06:36.609Z"
   },
   {
    "duration": 135,
    "start_time": "2022-04-17T08:07:45.971Z"
   },
   {
    "duration": 112,
    "start_time": "2022-04-17T08:07:51.001Z"
   },
   {
    "duration": 114,
    "start_time": "2022-04-17T08:11:10.390Z"
   },
   {
    "duration": 135,
    "start_time": "2022-04-17T08:11:35.703Z"
   },
   {
    "duration": 134,
    "start_time": "2022-04-17T08:13:07.023Z"
   },
   {
    "duration": 135,
    "start_time": "2022-04-17T08:13:30.220Z"
   },
   {
    "duration": 132,
    "start_time": "2022-04-17T08:14:27.862Z"
   },
   {
    "duration": 363,
    "start_time": "2022-04-17T08:16:12.233Z"
   },
   {
    "duration": 12,
    "start_time": "2022-04-17T08:22:54.052Z"
   },
   {
    "duration": 130,
    "start_time": "2022-04-17T08:22:59.268Z"
   },
   {
    "duration": 13,
    "start_time": "2022-04-17T08:23:03.806Z"
   },
   {
    "duration": 19,
    "start_time": "2022-04-17T08:24:57.412Z"
   },
   {
    "duration": 14,
    "start_time": "2022-04-17T08:26:03.327Z"
   },
   {
    "duration": 41,
    "start_time": "2022-04-17T08:26:15.000Z"
   },
   {
    "duration": 43,
    "start_time": "2022-04-17T08:26:28.836Z"
   },
   {
    "duration": 630,
    "start_time": "2022-04-17T08:26:50.575Z"
   },
   {
    "duration": 541,
    "start_time": "2022-04-17T08:27:05.003Z"
   },
   {
    "duration": 550,
    "start_time": "2022-04-17T08:28:33.045Z"
   },
   {
    "duration": 620,
    "start_time": "2022-04-17T08:29:09.450Z"
   },
   {
    "duration": 532,
    "start_time": "2022-04-17T08:29:33.509Z"
   },
   {
    "duration": 4,
    "start_time": "2022-04-17T08:39:27.937Z"
   },
   {
    "duration": 7,
    "start_time": "2022-04-17T08:39:42.299Z"
   },
   {
    "duration": 8,
    "start_time": "2022-04-17T08:40:04.569Z"
   },
   {
    "duration": 14,
    "start_time": "2022-04-17T08:41:43.241Z"
   },
   {
    "duration": 18,
    "start_time": "2022-04-17T08:41:56.546Z"
   },
   {
    "duration": 12,
    "start_time": "2022-04-17T08:42:22.563Z"
   },
   {
    "duration": 3,
    "start_time": "2022-04-17T08:52:22.695Z"
   },
   {
    "duration": 131,
    "start_time": "2022-04-17T08:52:22.700Z"
   },
   {
    "duration": 3,
    "start_time": "2022-04-17T08:52:22.833Z"
   },
   {
    "duration": 22,
    "start_time": "2022-04-17T08:52:22.838Z"
   },
   {
    "duration": 11,
    "start_time": "2022-04-17T08:52:22.861Z"
   },
   {
    "duration": 35,
    "start_time": "2022-04-17T08:52:22.874Z"
   },
   {
    "duration": 20,
    "start_time": "2022-04-17T08:52:22.911Z"
   },
   {
    "duration": 159,
    "start_time": "2022-04-17T08:52:22.933Z"
   },
   {
    "duration": 0,
    "start_time": "2022-04-17T08:52:23.094Z"
   },
   {
    "duration": 0,
    "start_time": "2022-04-17T08:52:23.096Z"
   },
   {
    "duration": 0,
    "start_time": "2022-04-17T08:52:23.097Z"
   },
   {
    "duration": 0,
    "start_time": "2022-04-17T08:52:23.098Z"
   },
   {
    "duration": 0,
    "start_time": "2022-04-17T08:52:23.099Z"
   },
   {
    "duration": 0,
    "start_time": "2022-04-17T08:52:23.100Z"
   },
   {
    "duration": 0,
    "start_time": "2022-04-17T08:52:23.101Z"
   },
   {
    "duration": 0,
    "start_time": "2022-04-17T08:52:23.102Z"
   },
   {
    "duration": 1,
    "start_time": "2022-04-17T08:52:23.103Z"
   },
   {
    "duration": 0,
    "start_time": "2022-04-17T08:52:23.105Z"
   },
   {
    "duration": 0,
    "start_time": "2022-04-17T08:52:23.106Z"
   },
   {
    "duration": 0,
    "start_time": "2022-04-17T08:52:23.107Z"
   },
   {
    "duration": 0,
    "start_time": "2022-04-17T08:52:23.108Z"
   },
   {
    "duration": 0,
    "start_time": "2022-04-17T08:52:23.109Z"
   },
   {
    "duration": 0,
    "start_time": "2022-04-17T08:52:23.110Z"
   },
   {
    "duration": 0,
    "start_time": "2022-04-17T08:52:23.111Z"
   },
   {
    "duration": 0,
    "start_time": "2022-04-17T08:52:23.112Z"
   },
   {
    "duration": 0,
    "start_time": "2022-04-17T08:52:23.113Z"
   },
   {
    "duration": 0,
    "start_time": "2022-04-17T08:52:23.114Z"
   },
   {
    "duration": 0,
    "start_time": "2022-04-17T08:52:23.115Z"
   },
   {
    "duration": 0,
    "start_time": "2022-04-17T08:52:23.115Z"
   },
   {
    "duration": 0,
    "start_time": "2022-04-17T08:52:23.116Z"
   },
   {
    "duration": 0,
    "start_time": "2022-04-17T08:52:23.117Z"
   },
   {
    "duration": 0,
    "start_time": "2022-04-17T08:52:23.118Z"
   },
   {
    "duration": 0,
    "start_time": "2022-04-17T08:52:23.119Z"
   },
   {
    "duration": 0,
    "start_time": "2022-04-17T08:52:23.120Z"
   },
   {
    "duration": 0,
    "start_time": "2022-04-17T08:52:23.121Z"
   },
   {
    "duration": 0,
    "start_time": "2022-04-17T08:52:23.122Z"
   },
   {
    "duration": 0,
    "start_time": "2022-04-17T08:52:23.124Z"
   },
   {
    "duration": 0,
    "start_time": "2022-04-17T08:52:23.125Z"
   },
   {
    "duration": 4,
    "start_time": "2022-04-17T08:52:54.138Z"
   },
   {
    "duration": 16,
    "start_time": "2022-04-17T08:53:01.372Z"
   },
   {
    "duration": 15,
    "start_time": "2022-04-17T08:53:05.414Z"
   },
   {
    "duration": 7,
    "start_time": "2022-04-17T08:53:08.644Z"
   },
   {
    "duration": 10,
    "start_time": "2022-04-17T08:54:14.353Z"
   },
   {
    "duration": 7,
    "start_time": "2022-04-17T08:54:37.522Z"
   },
   {
    "duration": 7,
    "start_time": "2022-04-17T08:55:12.453Z"
   },
   {
    "duration": 123,
    "start_time": "2022-04-17T08:56:40.000Z"
   },
   {
    "duration": 0,
    "start_time": "2022-04-17T08:57:13.228Z"
   },
   {
    "duration": 2705,
    "start_time": "2022-04-17T08:57:14.941Z"
   },
   {
    "duration": 0,
    "start_time": "2022-04-17T08:57:38.537Z"
   },
   {
    "duration": 0,
    "start_time": "2022-04-17T08:57:48.020Z"
   },
   {
    "duration": 2608,
    "start_time": "2022-04-17T08:57:53.120Z"
   },
   {
    "duration": 11,
    "start_time": "2022-04-17T08:57:57.401Z"
   },
   {
    "duration": 2708,
    "start_time": "2022-04-17T08:58:44.321Z"
   },
   {
    "duration": 2592,
    "start_time": "2022-04-17T08:59:23.339Z"
   },
   {
    "duration": 2356,
    "start_time": "2022-04-17T09:00:06.424Z"
   },
   {
    "duration": 3,
    "start_time": "2022-04-17T09:00:19.551Z"
   },
   {
    "duration": 104,
    "start_time": "2022-04-17T09:00:19.556Z"
   },
   {
    "duration": 3,
    "start_time": "2022-04-17T09:00:19.661Z"
   },
   {
    "duration": 32,
    "start_time": "2022-04-17T09:00:19.666Z"
   },
   {
    "duration": 10,
    "start_time": "2022-04-17T09:00:19.699Z"
   },
   {
    "duration": 24,
    "start_time": "2022-04-17T09:00:19.711Z"
   },
   {
    "duration": 21,
    "start_time": "2022-04-17T09:00:19.736Z"
   },
   {
    "duration": 125,
    "start_time": "2022-04-17T09:00:19.758Z"
   },
   {
    "duration": 0,
    "start_time": "2022-04-17T09:00:19.885Z"
   },
   {
    "duration": 0,
    "start_time": "2022-04-17T09:00:19.887Z"
   },
   {
    "duration": 0,
    "start_time": "2022-04-17T09:00:19.888Z"
   },
   {
    "duration": 0,
    "start_time": "2022-04-17T09:00:19.889Z"
   },
   {
    "duration": 0,
    "start_time": "2022-04-17T09:00:19.890Z"
   },
   {
    "duration": 0,
    "start_time": "2022-04-17T09:00:19.890Z"
   },
   {
    "duration": 0,
    "start_time": "2022-04-17T09:00:19.891Z"
   },
   {
    "duration": 0,
    "start_time": "2022-04-17T09:00:19.892Z"
   },
   {
    "duration": 0,
    "start_time": "2022-04-17T09:00:19.893Z"
   },
   {
    "duration": 0,
    "start_time": "2022-04-17T09:00:19.894Z"
   },
   {
    "duration": 0,
    "start_time": "2022-04-17T09:00:19.895Z"
   },
   {
    "duration": 0,
    "start_time": "2022-04-17T09:00:19.896Z"
   },
   {
    "duration": 0,
    "start_time": "2022-04-17T09:00:19.896Z"
   },
   {
    "duration": 1,
    "start_time": "2022-04-17T09:00:19.897Z"
   },
   {
    "duration": 0,
    "start_time": "2022-04-17T09:00:19.898Z"
   },
   {
    "duration": 0,
    "start_time": "2022-04-17T09:00:19.899Z"
   },
   {
    "duration": 0,
    "start_time": "2022-04-17T09:00:19.900Z"
   },
   {
    "duration": 0,
    "start_time": "2022-04-17T09:00:19.901Z"
   },
   {
    "duration": 0,
    "start_time": "2022-04-17T09:00:19.902Z"
   },
   {
    "duration": 0,
    "start_time": "2022-04-17T09:00:19.903Z"
   },
   {
    "duration": 0,
    "start_time": "2022-04-17T09:00:19.904Z"
   },
   {
    "duration": 0,
    "start_time": "2022-04-17T09:00:19.905Z"
   },
   {
    "duration": 0,
    "start_time": "2022-04-17T09:00:19.906Z"
   },
   {
    "duration": 0,
    "start_time": "2022-04-17T09:00:19.907Z"
   },
   {
    "duration": 0,
    "start_time": "2022-04-17T09:00:19.908Z"
   },
   {
    "duration": 0,
    "start_time": "2022-04-17T09:00:19.909Z"
   },
   {
    "duration": 0,
    "start_time": "2022-04-17T09:00:19.910Z"
   },
   {
    "duration": 0,
    "start_time": "2022-04-17T09:00:19.911Z"
   },
   {
    "duration": 0,
    "start_time": "2022-04-17T09:00:19.912Z"
   },
   {
    "duration": 0,
    "start_time": "2022-04-17T09:00:19.913Z"
   },
   {
    "duration": 3,
    "start_time": "2022-04-17T09:00:26.647Z"
   },
   {
    "duration": 101,
    "start_time": "2022-04-17T09:00:28.756Z"
   },
   {
    "duration": 32,
    "start_time": "2022-04-17T09:00:33.260Z"
   },
   {
    "duration": 11,
    "start_time": "2022-04-17T09:00:35.623Z"
   },
   {
    "duration": 24,
    "start_time": "2022-04-17T09:00:37.787Z"
   },
   {
    "duration": 19,
    "start_time": "2022-04-17T09:00:42.008Z"
   },
   {
    "duration": 6,
    "start_time": "2022-04-17T09:00:47.156Z"
   },
   {
    "duration": 14,
    "start_time": "2022-04-17T09:00:49.763Z"
   },
   {
    "duration": 9,
    "start_time": "2022-04-17T09:00:52.552Z"
   },
   {
    "duration": 32,
    "start_time": "2022-04-17T09:00:56.363Z"
   },
   {
    "duration": 138,
    "start_time": "2022-04-17T09:01:51.689Z"
   },
   {
    "duration": 554,
    "start_time": "2022-04-17T09:01:57.644Z"
   },
   {
    "duration": 6,
    "start_time": "2022-04-17T09:02:51.270Z"
   },
   {
    "duration": 9,
    "start_time": "2022-04-17T09:05:43.189Z"
   },
   {
    "duration": 15,
    "start_time": "2022-04-17T09:07:45.932Z"
   },
   {
    "duration": 9,
    "start_time": "2022-04-17T09:07:50.942Z"
   },
   {
    "duration": 15,
    "start_time": "2022-04-17T09:08:01.057Z"
   },
   {
    "duration": 15,
    "start_time": "2022-04-17T09:08:01.637Z"
   },
   {
    "duration": 14,
    "start_time": "2022-04-17T09:08:10.700Z"
   },
   {
    "duration": 3,
    "start_time": "2022-04-17T09:08:17.469Z"
   },
   {
    "duration": 112,
    "start_time": "2022-04-17T09:08:17.473Z"
   },
   {
    "duration": 2,
    "start_time": "2022-04-17T09:08:17.587Z"
   },
   {
    "duration": 21,
    "start_time": "2022-04-17T09:08:17.591Z"
   },
   {
    "duration": 12,
    "start_time": "2022-04-17T09:08:17.615Z"
   },
   {
    "duration": 23,
    "start_time": "2022-04-17T09:08:17.629Z"
   },
   {
    "duration": 45,
    "start_time": "2022-04-17T09:08:17.654Z"
   },
   {
    "duration": 7,
    "start_time": "2022-04-17T09:08:17.701Z"
   },
   {
    "duration": 15,
    "start_time": "2022-04-17T09:08:17.710Z"
   },
   {
    "duration": 9,
    "start_time": "2022-04-17T09:08:17.728Z"
   },
   {
    "duration": 66,
    "start_time": "2022-04-17T09:08:17.739Z"
   },
   {
    "duration": 166,
    "start_time": "2022-04-17T09:08:17.806Z"
   },
   {
    "duration": 607,
    "start_time": "2022-04-17T09:08:17.974Z"
   },
   {
    "duration": 17,
    "start_time": "2022-04-17T09:08:18.582Z"
   },
   {
    "duration": 5,
    "start_time": "2022-04-17T09:08:18.601Z"
   },
   {
    "duration": 15,
    "start_time": "2022-04-17T09:08:18.608Z"
   },
   {
    "duration": 22,
    "start_time": "2022-04-17T09:08:18.624Z"
   },
   {
    "duration": 9,
    "start_time": "2022-04-17T09:08:18.648Z"
   },
   {
    "duration": 18,
    "start_time": "2022-04-17T09:08:18.658Z"
   },
   {
    "duration": 14,
    "start_time": "2022-04-17T09:08:18.678Z"
   },
   {
    "duration": 153,
    "start_time": "2022-04-17T09:08:18.695Z"
   },
   {
    "duration": 0,
    "start_time": "2022-04-17T09:08:18.849Z"
   },
   {
    "duration": 0,
    "start_time": "2022-04-17T09:08:18.850Z"
   },
   {
    "duration": 0,
    "start_time": "2022-04-17T09:08:18.851Z"
   },
   {
    "duration": 0,
    "start_time": "2022-04-17T09:08:18.853Z"
   },
   {
    "duration": 0,
    "start_time": "2022-04-17T09:08:18.854Z"
   },
   {
    "duration": 0,
    "start_time": "2022-04-17T09:08:18.854Z"
   },
   {
    "duration": 0,
    "start_time": "2022-04-17T09:08:18.856Z"
   },
   {
    "duration": 0,
    "start_time": "2022-04-17T09:08:18.857Z"
   },
   {
    "duration": 0,
    "start_time": "2022-04-17T09:08:18.858Z"
   },
   {
    "duration": 0,
    "start_time": "2022-04-17T09:08:18.859Z"
   },
   {
    "duration": 0,
    "start_time": "2022-04-17T09:08:18.860Z"
   },
   {
    "duration": 0,
    "start_time": "2022-04-17T09:08:18.861Z"
   },
   {
    "duration": 0,
    "start_time": "2022-04-17T09:08:18.862Z"
   },
   {
    "duration": 0,
    "start_time": "2022-04-17T09:08:18.863Z"
   },
   {
    "duration": 0,
    "start_time": "2022-04-17T09:08:18.864Z"
   },
   {
    "duration": 0,
    "start_time": "2022-04-17T09:08:18.865Z"
   },
   {
    "duration": 0,
    "start_time": "2022-04-17T09:08:18.866Z"
   },
   {
    "duration": 258,
    "start_time": "2022-04-17T09:08:43.848Z"
   },
   {
    "duration": 133,
    "start_time": "2022-04-17T09:08:53.105Z"
   },
   {
    "duration": 267,
    "start_time": "2022-04-17T09:12:42.484Z"
   },
   {
    "duration": 139,
    "start_time": "2022-04-17T09:14:18.913Z"
   },
   {
    "duration": 139,
    "start_time": "2022-04-17T09:16:23.290Z"
   },
   {
    "duration": 281,
    "start_time": "2022-04-17T09:23:04.616Z"
   },
   {
    "duration": 290,
    "start_time": "2022-04-17T09:23:39.319Z"
   },
   {
    "duration": 296,
    "start_time": "2022-04-17T09:25:41.564Z"
   },
   {
    "duration": 283,
    "start_time": "2022-04-17T09:26:00.223Z"
   },
   {
    "duration": 291,
    "start_time": "2022-04-17T09:26:22.710Z"
   },
   {
    "duration": 9,
    "start_time": "2022-04-17T09:28:14.037Z"
   },
   {
    "duration": 394,
    "start_time": "2022-04-17T09:31:41.592Z"
   },
   {
    "duration": 286,
    "start_time": "2022-04-17T09:32:43.434Z"
   },
   {
    "duration": 181,
    "start_time": "2022-04-17T09:33:49.386Z"
   },
   {
    "duration": 314,
    "start_time": "2022-04-17T09:36:03.346Z"
   },
   {
    "duration": 328,
    "start_time": "2022-04-17T09:43:40.734Z"
   },
   {
    "duration": 274,
    "start_time": "2022-04-17T09:44:03.049Z"
   },
   {
    "duration": 423,
    "start_time": "2022-04-17T09:49:07.435Z"
   },
   {
    "duration": 411,
    "start_time": "2022-04-17T09:49:17.063Z"
   },
   {
    "duration": 417,
    "start_time": "2022-04-17T09:49:26.475Z"
   },
   {
    "duration": 425,
    "start_time": "2022-04-17T09:49:51.442Z"
   },
   {
    "duration": 287,
    "start_time": "2022-04-17T09:50:04.346Z"
   },
   {
    "duration": 370,
    "start_time": "2022-04-17T09:50:16.366Z"
   },
   {
    "duration": 12,
    "start_time": "2022-04-17T09:53:24.648Z"
   },
   {
    "duration": 22,
    "start_time": "2022-04-17T09:53:28.986Z"
   },
   {
    "duration": 74,
    "start_time": "2022-04-17T09:53:44.514Z"
   },
   {
    "duration": 50,
    "start_time": "2022-04-17T09:53:45.100Z"
   },
   {
    "duration": 42,
    "start_time": "2022-04-17T09:54:22.322Z"
   },
   {
    "duration": 44,
    "start_time": "2022-04-17T09:54:22.832Z"
   },
   {
    "duration": 160,
    "start_time": "2022-04-17T09:54:28.180Z"
   },
   {
    "duration": 8,
    "start_time": "2022-04-17T09:54:35.529Z"
   },
   {
    "duration": 3,
    "start_time": "2022-04-17T09:59:48.894Z"
   },
   {
    "duration": 112,
    "start_time": "2022-04-17T09:59:48.899Z"
   },
   {
    "duration": 3,
    "start_time": "2022-04-17T09:59:49.012Z"
   },
   {
    "duration": 22,
    "start_time": "2022-04-17T09:59:49.017Z"
   },
   {
    "duration": 10,
    "start_time": "2022-04-17T09:59:49.041Z"
   },
   {
    "duration": 47,
    "start_time": "2022-04-17T09:59:49.052Z"
   },
   {
    "duration": 19,
    "start_time": "2022-04-17T09:59:49.101Z"
   },
   {
    "duration": 6,
    "start_time": "2022-04-17T09:59:49.121Z"
   },
   {
    "duration": 18,
    "start_time": "2022-04-17T09:59:49.129Z"
   },
   {
    "duration": 8,
    "start_time": "2022-04-17T09:59:49.149Z"
   },
   {
    "duration": 72,
    "start_time": "2022-04-17T09:59:49.159Z"
   },
   {
    "duration": 179,
    "start_time": "2022-04-17T09:59:49.234Z"
   },
   {
    "duration": 564,
    "start_time": "2022-04-17T09:59:49.416Z"
   },
   {
    "duration": 19,
    "start_time": "2022-04-17T09:59:49.981Z"
   },
   {
    "duration": 4,
    "start_time": "2022-04-17T09:59:50.002Z"
   },
   {
    "duration": 14,
    "start_time": "2022-04-17T09:59:50.008Z"
   },
   {
    "duration": 17,
    "start_time": "2022-04-17T09:59:50.024Z"
   },
   {
    "duration": 9,
    "start_time": "2022-04-17T09:59:50.043Z"
   },
   {
    "duration": 48,
    "start_time": "2022-04-17T09:59:50.053Z"
   },
   {
    "duration": 16,
    "start_time": "2022-04-17T09:59:50.103Z"
   },
   {
    "duration": 148,
    "start_time": "2022-04-17T09:59:50.120Z"
   },
   {
    "duration": 209,
    "start_time": "2022-04-17T09:59:50.270Z"
   },
   {
    "duration": 372,
    "start_time": "2022-04-17T09:59:50.481Z"
   },
   {
    "duration": 11,
    "start_time": "2022-04-17T09:59:50.855Z"
   },
   {
    "duration": 387,
    "start_time": "2022-04-17T09:59:50.868Z"
   },
   {
    "duration": 405,
    "start_time": "2022-04-17T09:59:51.257Z"
   },
   {
    "duration": 72,
    "start_time": "2022-04-17T09:59:51.664Z"
   },
   {
    "duration": 140,
    "start_time": "2022-04-17T09:59:51.738Z"
   },
   {
    "duration": 0,
    "start_time": "2022-04-17T09:59:51.880Z"
   },
   {
    "duration": 0,
    "start_time": "2022-04-17T09:59:51.882Z"
   },
   {
    "duration": 0,
    "start_time": "2022-04-17T09:59:51.883Z"
   },
   {
    "duration": 0,
    "start_time": "2022-04-17T09:59:51.884Z"
   },
   {
    "duration": 0,
    "start_time": "2022-04-17T09:59:51.885Z"
   },
   {
    "duration": 0,
    "start_time": "2022-04-17T09:59:51.887Z"
   },
   {
    "duration": 0,
    "start_time": "2022-04-17T09:59:51.888Z"
   },
   {
    "duration": 0,
    "start_time": "2022-04-17T09:59:51.889Z"
   },
   {
    "duration": 0,
    "start_time": "2022-04-17T09:59:51.890Z"
   },
   {
    "duration": 0,
    "start_time": "2022-04-17T09:59:51.891Z"
   },
   {
    "duration": 0,
    "start_time": "2022-04-17T09:59:51.892Z"
   },
   {
    "duration": 9,
    "start_time": "2022-04-17T10:00:17.725Z"
   },
   {
    "duration": 10,
    "start_time": "2022-04-17T10:06:11.062Z"
   },
   {
    "duration": 40,
    "start_time": "2022-04-17T10:14:02.076Z"
   },
   {
    "duration": 4,
    "start_time": "2022-04-17T10:28:54.021Z"
   },
   {
    "duration": 123,
    "start_time": "2022-04-17T10:28:54.028Z"
   },
   {
    "duration": 3,
    "start_time": "2022-04-17T10:28:54.153Z"
   },
   {
    "duration": 24,
    "start_time": "2022-04-17T10:28:54.157Z"
   },
   {
    "duration": 18,
    "start_time": "2022-04-17T10:28:54.183Z"
   },
   {
    "duration": 32,
    "start_time": "2022-04-17T10:28:54.204Z"
   },
   {
    "duration": 37,
    "start_time": "2022-04-17T10:28:54.238Z"
   },
   {
    "duration": 17,
    "start_time": "2022-04-17T10:28:54.277Z"
   },
   {
    "duration": 24,
    "start_time": "2022-04-17T10:28:54.296Z"
   },
   {
    "duration": 13,
    "start_time": "2022-04-17T10:28:54.322Z"
   },
   {
    "duration": 40,
    "start_time": "2022-04-17T10:28:54.337Z"
   },
   {
    "duration": 204,
    "start_time": "2022-04-17T10:28:54.393Z"
   },
   {
    "duration": 639,
    "start_time": "2022-04-17T10:28:54.602Z"
   },
   {
    "duration": 12,
    "start_time": "2022-04-17T10:28:55.243Z"
   },
   {
    "duration": 9,
    "start_time": "2022-04-17T10:28:55.256Z"
   },
   {
    "duration": 35,
    "start_time": "2022-04-17T10:28:55.267Z"
   },
   {
    "duration": 29,
    "start_time": "2022-04-17T10:28:55.304Z"
   },
   {
    "duration": 12,
    "start_time": "2022-04-17T10:28:55.334Z"
   },
   {
    "duration": 17,
    "start_time": "2022-04-17T10:28:55.348Z"
   },
   {
    "duration": 36,
    "start_time": "2022-04-17T10:28:55.367Z"
   },
   {
    "duration": 149,
    "start_time": "2022-04-17T10:28:55.405Z"
   },
   {
    "duration": 170,
    "start_time": "2022-04-17T10:28:55.556Z"
   },
   {
    "duration": 304,
    "start_time": "2022-04-17T10:28:55.729Z"
   },
   {
    "duration": 11,
    "start_time": "2022-04-17T10:28:56.035Z"
   },
   {
    "duration": 315,
    "start_time": "2022-04-17T10:28:56.048Z"
   },
   {
    "duration": 311,
    "start_time": "2022-04-17T10:28:56.365Z"
   },
   {
    "duration": 59,
    "start_time": "2022-04-17T10:28:56.677Z"
   },
   {
    "duration": 57,
    "start_time": "2022-04-17T10:28:56.738Z"
   },
   {
    "duration": 173,
    "start_time": "2022-04-17T10:28:56.797Z"
   },
   {
    "duration": 30,
    "start_time": "2022-04-17T10:28:56.972Z"
   },
   {
    "duration": 20,
    "start_time": "2022-04-17T10:28:57.003Z"
   },
   {
    "duration": 17,
    "start_time": "2022-04-17T10:28:57.025Z"
   },
   {
    "duration": 16,
    "start_time": "2022-04-17T10:28:57.044Z"
   },
   {
    "duration": 39,
    "start_time": "2022-04-17T10:28:57.062Z"
   },
   {
    "duration": 20,
    "start_time": "2022-04-17T10:28:57.103Z"
   },
   {
    "duration": 29,
    "start_time": "2022-04-17T10:28:57.125Z"
   },
   {
    "duration": 14,
    "start_time": "2022-04-17T10:28:57.158Z"
   },
   {
    "duration": 59,
    "start_time": "2022-04-17T10:28:57.174Z"
   },
   {
    "duration": 840,
    "start_time": "2022-04-17T14:45:13.682Z"
   },
   {
    "duration": 750,
    "start_time": "2022-04-17T14:45:14.524Z"
   },
   {
    "duration": 3,
    "start_time": "2022-04-17T14:45:15.276Z"
   },
   {
    "duration": 46,
    "start_time": "2022-04-17T14:45:15.281Z"
   },
   {
    "duration": 16,
    "start_time": "2022-04-17T14:45:15.330Z"
   },
   {
    "duration": 22,
    "start_time": "2022-04-17T14:45:15.348Z"
   },
   {
    "duration": 23,
    "start_time": "2022-04-17T14:45:15.372Z"
   },
   {
    "duration": 51,
    "start_time": "2022-04-17T14:45:15.397Z"
   },
   {
    "duration": 16,
    "start_time": "2022-04-17T14:45:15.451Z"
   },
   {
    "duration": 9,
    "start_time": "2022-04-17T14:45:15.469Z"
   },
   {
    "duration": 39,
    "start_time": "2022-04-17T14:45:15.479Z"
   },
   {
    "duration": 151,
    "start_time": "2022-04-17T14:45:15.528Z"
   },
   {
    "duration": 583,
    "start_time": "2022-04-17T14:45:15.680Z"
   },
   {
    "duration": 12,
    "start_time": "2022-04-17T14:45:16.266Z"
   },
   {
    "duration": 9,
    "start_time": "2022-04-17T14:45:16.279Z"
   },
   {
    "duration": 85,
    "start_time": "2022-04-17T14:45:16.290Z"
   },
   {
    "duration": 15,
    "start_time": "2022-04-17T14:45:16.377Z"
   },
   {
    "duration": 10,
    "start_time": "2022-04-17T14:45:16.393Z"
   },
   {
    "duration": 39,
    "start_time": "2022-04-17T14:45:16.404Z"
   },
   {
    "duration": 22,
    "start_time": "2022-04-17T14:45:16.445Z"
   },
   {
    "duration": 149,
    "start_time": "2022-04-17T14:45:16.469Z"
   },
   {
    "duration": 153,
    "start_time": "2022-04-17T14:45:16.619Z"
   },
   {
    "duration": 336,
    "start_time": "2022-04-17T14:45:16.774Z"
   },
   {
    "duration": 15,
    "start_time": "2022-04-17T14:45:17.111Z"
   },
   {
    "duration": 205,
    "start_time": "2022-04-17T14:45:17.128Z"
   },
   {
    "duration": 312,
    "start_time": "2022-04-17T14:45:17.335Z"
   },
   {
    "duration": 40,
    "start_time": "2022-04-17T14:45:17.649Z"
   },
   {
    "duration": 41,
    "start_time": "2022-04-17T14:45:17.691Z"
   },
   {
    "duration": 160,
    "start_time": "2022-04-17T14:45:17.734Z"
   },
   {
    "duration": 13,
    "start_time": "2022-04-17T14:45:17.896Z"
   },
   {
    "duration": 11,
    "start_time": "2022-04-17T14:45:17.922Z"
   },
   {
    "duration": 18,
    "start_time": "2022-04-17T14:45:17.938Z"
   },
   {
    "duration": 15,
    "start_time": "2022-04-17T14:45:17.958Z"
   },
   {
    "duration": 8,
    "start_time": "2022-04-17T14:45:17.975Z"
   },
   {
    "duration": 46,
    "start_time": "2022-04-17T14:45:17.985Z"
   },
   {
    "duration": 29,
    "start_time": "2022-04-17T14:45:18.033Z"
   },
   {
    "duration": 13,
    "start_time": "2022-04-17T14:45:18.064Z"
   },
   {
    "duration": 64,
    "start_time": "2022-04-17T14:45:18.079Z"
   },
   {
    "duration": 1115,
    "start_time": "2022-04-17T17:10:12.747Z"
   },
   {
    "duration": 439,
    "start_time": "2022-04-17T17:10:13.864Z"
   },
   {
    "duration": 3,
    "start_time": "2022-04-17T17:10:14.304Z"
   },
   {
    "duration": 26,
    "start_time": "2022-04-17T17:10:14.309Z"
   },
   {
    "duration": 17,
    "start_time": "2022-04-17T17:10:14.339Z"
   },
   {
    "duration": 31,
    "start_time": "2022-04-17T17:10:14.358Z"
   },
   {
    "duration": 22,
    "start_time": "2022-04-17T17:10:14.391Z"
   },
   {
    "duration": 20,
    "start_time": "2022-04-17T17:10:14.414Z"
   },
   {
    "duration": 42,
    "start_time": "2022-04-17T17:10:14.438Z"
   },
   {
    "duration": 17,
    "start_time": "2022-04-17T17:10:14.485Z"
   },
   {
    "duration": 69,
    "start_time": "2022-04-17T17:10:14.504Z"
   },
   {
    "duration": 197,
    "start_time": "2022-04-17T17:10:14.575Z"
   },
   {
    "duration": 1001,
    "start_time": "2022-04-17T17:10:14.774Z"
   },
   {
    "duration": 26,
    "start_time": "2022-04-17T17:10:15.778Z"
   },
   {
    "duration": 5,
    "start_time": "2022-04-17T17:10:15.806Z"
   },
   {
    "duration": 125,
    "start_time": "2022-04-17T17:10:15.812Z"
   },
   {
    "duration": 32,
    "start_time": "2022-04-17T17:10:15.943Z"
   },
   {
    "duration": 11,
    "start_time": "2022-04-17T17:10:15.978Z"
   },
   {
    "duration": 19,
    "start_time": "2022-04-17T17:10:15.995Z"
   },
   {
    "duration": 36,
    "start_time": "2022-04-17T17:10:16.016Z"
   },
   {
    "duration": 225,
    "start_time": "2022-04-17T17:10:16.057Z"
   },
   {
    "duration": 263,
    "start_time": "2022-04-17T17:10:16.293Z"
   },
   {
    "duration": 323,
    "start_time": "2022-04-17T17:10:16.559Z"
   },
   {
    "duration": 13,
    "start_time": "2022-04-17T17:10:16.887Z"
   },
   {
    "duration": 229,
    "start_time": "2022-04-17T17:10:16.902Z"
   },
   {
    "duration": 366,
    "start_time": "2022-04-17T17:10:17.133Z"
   },
   {
    "duration": 70,
    "start_time": "2022-04-17T17:10:17.501Z"
   },
   {
    "duration": 53,
    "start_time": "2022-04-17T17:10:17.576Z"
   },
   {
    "duration": 221,
    "start_time": "2022-04-17T17:10:17.631Z"
   },
   {
    "duration": 13,
    "start_time": "2022-04-17T17:10:17.854Z"
   },
   {
    "duration": 12,
    "start_time": "2022-04-17T17:10:17.869Z"
   },
   {
    "duration": 51,
    "start_time": "2022-04-17T17:10:17.883Z"
   },
   {
    "duration": 32,
    "start_time": "2022-04-17T17:10:17.936Z"
   },
   {
    "duration": 14,
    "start_time": "2022-04-17T17:10:17.970Z"
   },
   {
    "duration": 11,
    "start_time": "2022-04-17T17:10:17.986Z"
   },
   {
    "duration": 44,
    "start_time": "2022-04-17T17:10:17.999Z"
   },
   {
    "duration": 41,
    "start_time": "2022-04-17T17:10:18.046Z"
   },
   {
    "duration": 56,
    "start_time": "2022-04-17T17:10:18.089Z"
   },
   {
    "duration": 759,
    "start_time": "2022-04-17T17:43:56.120Z"
   },
   {
    "duration": 713,
    "start_time": "2022-04-17T17:43:56.880Z"
   },
   {
    "duration": 2,
    "start_time": "2022-04-17T17:43:57.595Z"
   },
   {
    "duration": 20,
    "start_time": "2022-04-17T17:43:57.600Z"
   },
   {
    "duration": 14,
    "start_time": "2022-04-17T17:43:57.621Z"
   },
   {
    "duration": 35,
    "start_time": "2022-04-17T17:43:57.636Z"
   },
   {
    "duration": 22,
    "start_time": "2022-04-17T17:43:57.673Z"
   },
   {
    "duration": 6,
    "start_time": "2022-04-17T17:43:57.696Z"
   },
   {
    "duration": 44,
    "start_time": "2022-04-17T17:43:57.704Z"
   },
   {
    "duration": 12,
    "start_time": "2022-04-17T17:43:57.753Z"
   },
   {
    "duration": 33,
    "start_time": "2022-04-17T17:43:57.766Z"
   },
   {
    "duration": 174,
    "start_time": "2022-04-17T17:43:57.801Z"
   },
   {
    "duration": 637,
    "start_time": "2022-04-17T17:43:57.976Z"
   },
   {
    "duration": 21,
    "start_time": "2022-04-17T17:43:58.615Z"
   },
   {
    "duration": 13,
    "start_time": "2022-04-17T17:43:58.638Z"
   },
   {
    "duration": 12,
    "start_time": "2022-04-17T17:43:58.654Z"
   },
   {
    "duration": 89,
    "start_time": "2022-04-17T17:43:58.668Z"
   },
   {
    "duration": 14,
    "start_time": "2022-04-17T17:43:58.760Z"
   },
   {
    "duration": 26,
    "start_time": "2022-04-17T17:43:58.776Z"
   },
   {
    "duration": 50,
    "start_time": "2022-04-17T17:43:58.803Z"
   },
   {
    "duration": 20,
    "start_time": "2022-04-17T17:43:58.856Z"
   },
   {
    "duration": 150,
    "start_time": "2022-04-17T17:43:58.878Z"
   },
   {
    "duration": 163,
    "start_time": "2022-04-17T17:43:59.030Z"
   },
   {
    "duration": 295,
    "start_time": "2022-04-17T17:43:59.195Z"
   },
   {
    "duration": 11,
    "start_time": "2022-04-17T17:43:59.492Z"
   },
   {
    "duration": 219,
    "start_time": "2022-04-17T17:43:59.505Z"
   },
   {
    "duration": 307,
    "start_time": "2022-04-17T17:43:59.726Z"
   },
   {
    "duration": 45,
    "start_time": "2022-04-17T17:44:00.036Z"
   },
   {
    "duration": 49,
    "start_time": "2022-04-17T17:44:00.083Z"
   },
   {
    "duration": 229,
    "start_time": "2022-04-17T17:44:00.136Z"
   },
   {
    "duration": 17,
    "start_time": "2022-04-17T17:44:00.368Z"
   },
   {
    "duration": 37,
    "start_time": "2022-04-17T17:44:00.387Z"
   },
   {
    "duration": 35,
    "start_time": "2022-04-17T17:44:00.426Z"
   },
   {
    "duration": 34,
    "start_time": "2022-04-17T17:44:00.463Z"
   },
   {
    "duration": 31,
    "start_time": "2022-04-17T17:44:00.499Z"
   },
   {
    "duration": 22,
    "start_time": "2022-04-17T17:44:00.537Z"
   },
   {
    "duration": 40,
    "start_time": "2022-04-17T17:44:00.561Z"
   },
   {
    "duration": 29,
    "start_time": "2022-04-17T17:44:00.603Z"
   },
   {
    "duration": 61,
    "start_time": "2022-04-17T17:44:00.634Z"
   },
   {
    "duration": 6,
    "start_time": "2022-04-17T18:08:06.273Z"
   },
   {
    "duration": 10,
    "start_time": "2022-04-17T18:09:09.089Z"
   },
   {
    "duration": 13,
    "start_time": "2022-04-17T18:27:27.050Z"
   },
   {
    "duration": 17,
    "start_time": "2022-04-17T18:27:51.034Z"
   },
   {
    "duration": 9,
    "start_time": "2022-04-17T18:28:21.807Z"
   },
   {
    "duration": 59,
    "start_time": "2022-04-17T18:29:32.783Z"
   },
   {
    "duration": 624,
    "start_time": "2022-04-17T18:37:46.681Z"
   },
   {
    "duration": 173,
    "start_time": "2022-04-17T18:37:47.308Z"
   },
   {
    "duration": 3,
    "start_time": "2022-04-17T18:37:47.483Z"
   },
   {
    "duration": 36,
    "start_time": "2022-04-17T18:37:47.488Z"
   },
   {
    "duration": 23,
    "start_time": "2022-04-17T18:37:47.527Z"
   },
   {
    "duration": 48,
    "start_time": "2022-04-17T18:37:47.552Z"
   },
   {
    "duration": 39,
    "start_time": "2022-04-17T18:37:47.601Z"
   },
   {
    "duration": 6,
    "start_time": "2022-04-17T18:37:47.644Z"
   },
   {
    "duration": 36,
    "start_time": "2022-04-17T18:37:47.652Z"
   },
   {
    "duration": 30,
    "start_time": "2022-04-17T18:37:47.690Z"
   },
   {
    "duration": 57,
    "start_time": "2022-04-17T18:37:47.722Z"
   },
   {
    "duration": 219,
    "start_time": "2022-04-17T18:37:47.781Z"
   },
   {
    "duration": 757,
    "start_time": "2022-04-17T18:37:48.002Z"
   },
   {
    "duration": 11,
    "start_time": "2022-04-17T18:37:48.762Z"
   },
   {
    "duration": 14,
    "start_time": "2022-04-17T18:37:48.775Z"
   },
   {
    "duration": 93,
    "start_time": "2022-04-17T18:37:48.791Z"
   },
   {
    "duration": 31,
    "start_time": "2022-04-17T18:37:48.887Z"
   },
   {
    "duration": 20,
    "start_time": "2022-04-17T18:37:48.920Z"
   },
   {
    "duration": 33,
    "start_time": "2022-04-17T18:37:48.942Z"
   },
   {
    "duration": 21,
    "start_time": "2022-04-17T18:37:48.977Z"
   },
   {
    "duration": 175,
    "start_time": "2022-04-17T18:37:49.000Z"
   },
   {
    "duration": 149,
    "start_time": "2022-04-17T18:37:49.177Z"
   },
   {
    "duration": 329,
    "start_time": "2022-04-17T18:37:49.328Z"
   },
   {
    "duration": 10,
    "start_time": "2022-04-17T18:37:49.659Z"
   },
   {
    "duration": 278,
    "start_time": "2022-04-17T18:37:49.671Z"
   },
   {
    "duration": 347,
    "start_time": "2022-04-17T18:37:49.951Z"
   },
   {
    "duration": 51,
    "start_time": "2022-04-17T18:37:50.300Z"
   },
   {
    "duration": 57,
    "start_time": "2022-04-17T18:37:50.353Z"
   },
   {
    "duration": 182,
    "start_time": "2022-04-17T18:37:50.412Z"
   },
   {
    "duration": 12,
    "start_time": "2022-04-17T18:37:50.596Z"
   },
   {
    "duration": 14,
    "start_time": "2022-04-17T18:37:50.622Z"
   },
   {
    "duration": 18,
    "start_time": "2022-04-17T18:37:50.638Z"
   },
   {
    "duration": 17,
    "start_time": "2022-04-17T18:37:50.658Z"
   },
   {
    "duration": 13,
    "start_time": "2022-04-17T18:37:50.677Z"
   },
   {
    "duration": 12,
    "start_time": "2022-04-17T18:37:50.729Z"
   },
   {
    "duration": 43,
    "start_time": "2022-04-17T18:37:50.742Z"
   },
   {
    "duration": 14,
    "start_time": "2022-04-17T18:37:50.787Z"
   },
   {
    "duration": 45,
    "start_time": "2022-04-17T18:37:50.825Z"
   },
   {
    "duration": 50,
    "start_time": "2022-06-22T13:50:13.314Z"
   },
   {
    "duration": 818,
    "start_time": "2022-06-22T13:50:19.895Z"
   },
   {
    "duration": 283,
    "start_time": "2022-06-22T13:50:22.336Z"
   },
   {
    "duration": 573,
    "start_time": "2022-08-21T11:17:02.410Z"
   },
   {
    "duration": 294,
    "start_time": "2022-08-21T11:17:02.985Z"
   },
   {
    "duration": 2,
    "start_time": "2022-08-21T11:17:03.281Z"
   },
   {
    "duration": 21,
    "start_time": "2022-08-21T11:17:03.285Z"
   },
   {
    "duration": 11,
    "start_time": "2022-08-21T11:17:03.308Z"
   },
   {
    "duration": 20,
    "start_time": "2022-08-21T11:17:03.320Z"
   },
   {
    "duration": 18,
    "start_time": "2022-08-21T11:17:03.341Z"
   },
   {
    "duration": 5,
    "start_time": "2022-08-21T11:17:03.360Z"
   },
   {
    "duration": 38,
    "start_time": "2022-08-21T11:17:03.366Z"
   },
   {
    "duration": 7,
    "start_time": "2022-08-21T11:17:03.407Z"
   },
   {
    "duration": 34,
    "start_time": "2022-08-21T11:17:03.416Z"
   },
   {
    "duration": 146,
    "start_time": "2022-08-21T11:17:03.451Z"
   },
   {
    "duration": 565,
    "start_time": "2022-08-21T11:17:03.599Z"
   },
   {
    "duration": 13,
    "start_time": "2022-08-21T11:17:04.166Z"
   },
   {
    "duration": 4,
    "start_time": "2022-08-21T11:17:04.180Z"
   },
   {
    "duration": 74,
    "start_time": "2022-08-21T11:17:04.200Z"
   },
   {
    "duration": 15,
    "start_time": "2022-08-21T11:17:04.275Z"
   },
   {
    "duration": 14,
    "start_time": "2022-08-21T11:17:04.291Z"
   },
   {
    "duration": 19,
    "start_time": "2022-08-21T11:17:04.306Z"
   },
   {
    "duration": 14,
    "start_time": "2022-08-21T11:17:04.326Z"
   },
   {
    "duration": 143,
    "start_time": "2022-08-21T11:17:04.342Z"
   },
   {
    "duration": 147,
    "start_time": "2022-08-21T11:17:04.486Z"
   },
   {
    "duration": 248,
    "start_time": "2022-08-21T11:17:04.635Z"
   },
   {
    "duration": 17,
    "start_time": "2022-08-21T11:17:04.884Z"
   },
   {
    "duration": 199,
    "start_time": "2022-08-21T11:17:04.902Z"
   },
   {
    "duration": 297,
    "start_time": "2022-08-21T11:17:05.102Z"
   },
   {
    "duration": 43,
    "start_time": "2022-08-21T11:17:05.400Z"
   },
   {
    "duration": 35,
    "start_time": "2022-08-21T11:17:05.446Z"
   },
   {
    "duration": 154,
    "start_time": "2022-08-21T11:17:05.501Z"
   },
   {
    "duration": 9,
    "start_time": "2022-08-21T11:17:05.656Z"
   },
   {
    "duration": 7,
    "start_time": "2022-08-21T11:17:05.667Z"
   },
   {
    "duration": 35,
    "start_time": "2022-08-21T11:17:05.676Z"
   },
   {
    "duration": 16,
    "start_time": "2022-08-21T11:17:05.713Z"
   },
   {
    "duration": 7,
    "start_time": "2022-08-21T11:17:05.731Z"
   },
   {
    "duration": 8,
    "start_time": "2022-08-21T11:17:05.740Z"
   },
   {
    "duration": 52,
    "start_time": "2022-08-21T11:17:05.749Z"
   },
   {
    "duration": 12,
    "start_time": "2022-08-21T11:17:05.803Z"
   },
   {
    "duration": 37,
    "start_time": "2022-08-21T11:17:05.816Z"
   },
   {
    "duration": 3,
    "start_time": "2022-08-21T11:17:10.710Z"
   },
   {
    "duration": 145,
    "start_time": "2022-08-21T11:17:17.161Z"
   },
   {
    "duration": 160,
    "start_time": "2022-08-21T11:18:04.249Z"
   }
  ],
  "kernelspec": {
   "display_name": "Python 3 (ipykernel)",
   "language": "python",
   "name": "python3"
  },
  "language_info": {
   "codemirror_mode": {
    "name": "ipython",
    "version": 3
   },
   "file_extension": ".py",
   "mimetype": "text/x-python",
   "name": "python",
   "nbconvert_exporter": "python",
   "pygments_lexer": "ipython3",
   "version": "3.9.7"
  },
  "toc": {
   "base_numbering": 1,
   "nav_menu": {},
   "number_sections": true,
   "sideBar": true,
   "skip_h1_title": true,
   "title_cell": "Table of Contents",
   "title_sidebar": "Contents",
   "toc_cell": false,
   "toc_position": {},
   "toc_section_display": true,
   "toc_window_display": false
  }
 },
 "nbformat": 4,
 "nbformat_minor": 5
}
