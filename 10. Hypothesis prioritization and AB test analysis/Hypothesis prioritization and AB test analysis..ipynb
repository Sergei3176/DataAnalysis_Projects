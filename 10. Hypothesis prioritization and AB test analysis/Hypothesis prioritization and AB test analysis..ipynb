{
 "cells": [
  {
   "cell_type": "markdown",
   "metadata": {},
   "source": [
    "# Приоритезация гипотез и анализ А/В-теста."
   ]
  },
  {
   "cell_type": "markdown",
   "metadata": {},
   "source": [
    "## Описание проекта."
   ]
  },
  {
   "cell_type": "markdown",
   "metadata": {},
   "source": [
    "Цель проекта: увеличение выручки интернет-магазина.\n",
    "Задачи:\n",
    "1.Приоритезация гипотез для увеличения выручки.\n",
    "2.Запуск A/B-теста и анализ результатов.\n",
    "\n",
    "Источники данных:\n",
    "Таблица с гипотезами по увеличению выручки интенет-магазина и параметрами: Reach, Impact, Confidence, Effort.\n",
    "Таблица с данными о заказах, включавющая информацию о доходах, дате и делении на группы.\n",
    "Таблица с данными о количестве посетителей на каждый день по группам.\n",
    "\n",
    "Структура проекта:\n",
    "Структура проекта:\n",
    "1. [Изучение данных.](#start)\n",
    "2. [Предобработка данных.](#data_preparation)\n",
    "3. [Приоритезация гипотез.](#hypothesis)\n",
    "4. [Анализ А/В-теста](#test_analysis)\n",
    "5. [Вывод по результатам теста.](#outcome)"
   ]
  },
  {
   "cell_type": "markdown",
   "metadata": {},
   "source": [
    "## Изучение данных.<a id=\"start\"></a>"
   ]
  },
  {
   "cell_type": "code",
   "execution_count": 44,
   "metadata": {},
   "outputs": [],
   "source": [
    "import pandas as pd\n",
    "import numpy as np\n",
    "import scipy.stats as stats\n",
    "import datetime as dt\n",
    "import matplotlib.pyplot as plt"
   ]
  },
  {
   "cell_type": "code",
   "execution_count": 45,
   "metadata": {},
   "outputs": [],
   "source": [
    "hypothesis = pd.read_csv('C:/datasets/hypothesis.csv')\n",
    "orders = pd.read_csv('C:/datasets/orders.csv')\n",
    "visitors = pd.read_csv('C:/datasets/visitors.csv')"
   ]
  },
  {
   "cell_type": "code",
   "execution_count": 46,
   "metadata": {},
   "outputs": [
    {
     "name": "stdout",
     "output_type": "stream",
     "text": [
      "<class 'pandas.core.frame.DataFrame'>\n",
      "RangeIndex: 9 entries, 0 to 8\n",
      "Data columns (total 5 columns):\n",
      " #   Column      Non-Null Count  Dtype \n",
      "---  ------      --------------  ----- \n",
      " 0   Hypothesis  9 non-null      object\n",
      " 1   Reach       9 non-null      int64 \n",
      " 2   Impact      9 non-null      int64 \n",
      " 3   Confidence  9 non-null      int64 \n",
      " 4   Efforts     9 non-null      int64 \n",
      "dtypes: int64(4), object(1)\n",
      "memory usage: 488.0+ bytes\n"
     ]
    },
    {
     "data": {
      "text/html": [
       "<div>\n",
       "<style scoped>\n",
       "    .dataframe tbody tr th:only-of-type {\n",
       "        vertical-align: middle;\n",
       "    }\n",
       "\n",
       "    .dataframe tbody tr th {\n",
       "        vertical-align: top;\n",
       "    }\n",
       "\n",
       "    .dataframe thead th {\n",
       "        text-align: right;\n",
       "    }\n",
       "</style>\n",
       "<table border=\"1\" class=\"dataframe\">\n",
       "  <thead>\n",
       "    <tr style=\"text-align: right;\">\n",
       "      <th></th>\n",
       "      <th>Hypothesis</th>\n",
       "      <th>Reach</th>\n",
       "      <th>Impact</th>\n",
       "      <th>Confidence</th>\n",
       "      <th>Efforts</th>\n",
       "    </tr>\n",
       "  </thead>\n",
       "  <tbody>\n",
       "    <tr>\n",
       "      <th>0</th>\n",
       "      <td>Добавить два новых канала привлечения трафика, что позволит привлекать на 30% больше пользователей</td>\n",
       "      <td>3</td>\n",
       "      <td>10</td>\n",
       "      <td>8</td>\n",
       "      <td>6</td>\n",
       "    </tr>\n",
       "    <tr>\n",
       "      <th>1</th>\n",
       "      <td>Запустить собственную службу доставки, что сократит срок доставки заказов</td>\n",
       "      <td>2</td>\n",
       "      <td>5</td>\n",
       "      <td>4</td>\n",
       "      <td>10</td>\n",
       "    </tr>\n",
       "    <tr>\n",
       "      <th>2</th>\n",
       "      <td>Добавить блоки рекомендаций товаров на сайт интернет магазина, чтобы повысить конверсию и средний чек заказа</td>\n",
       "      <td>8</td>\n",
       "      <td>3</td>\n",
       "      <td>7</td>\n",
       "      <td>3</td>\n",
       "    </tr>\n",
       "    <tr>\n",
       "      <th>3</th>\n",
       "      <td>Изменить структура категорий, что увеличит конверсию, т.к. пользователи быстрее найдут нужный товар</td>\n",
       "      <td>8</td>\n",
       "      <td>3</td>\n",
       "      <td>3</td>\n",
       "      <td>8</td>\n",
       "    </tr>\n",
       "    <tr>\n",
       "      <th>4</th>\n",
       "      <td>Изменить цвет фона главной страницы, чтобы увеличить вовлеченность пользователей</td>\n",
       "      <td>3</td>\n",
       "      <td>1</td>\n",
       "      <td>1</td>\n",
       "      <td>1</td>\n",
       "    </tr>\n",
       "    <tr>\n",
       "      <th>5</th>\n",
       "      <td>Добавить страницу отзывов клиентов о магазине, что позволит увеличить количество заказов</td>\n",
       "      <td>3</td>\n",
       "      <td>2</td>\n",
       "      <td>2</td>\n",
       "      <td>3</td>\n",
       "    </tr>\n",
       "    <tr>\n",
       "      <th>6</th>\n",
       "      <td>Показать на главной странице баннеры с актуальными акциями и распродажами, чтобы увеличить конверсию</td>\n",
       "      <td>5</td>\n",
       "      <td>3</td>\n",
       "      <td>8</td>\n",
       "      <td>3</td>\n",
       "    </tr>\n",
       "    <tr>\n",
       "      <th>7</th>\n",
       "      <td>Добавить форму подписки на все основные страницы, чтобы собрать базу клиентов для email-рассылок</td>\n",
       "      <td>10</td>\n",
       "      <td>7</td>\n",
       "      <td>8</td>\n",
       "      <td>5</td>\n",
       "    </tr>\n",
       "    <tr>\n",
       "      <th>8</th>\n",
       "      <td>Запустить акцию, дающую скидку на товар в день рождения</td>\n",
       "      <td>1</td>\n",
       "      <td>9</td>\n",
       "      <td>9</td>\n",
       "      <td>5</td>\n",
       "    </tr>\n",
       "  </tbody>\n",
       "</table>\n",
       "</div>"
      ],
      "text/plain": [
       "                                                                                                     Hypothesis  \\\n",
       "0            Добавить два новых канала привлечения трафика, что позволит привлекать на 30% больше пользователей   \n",
       "1                                     Запустить собственную службу доставки, что сократит срок доставки заказов   \n",
       "2  Добавить блоки рекомендаций товаров на сайт интернет магазина, чтобы повысить конверсию и средний чек заказа   \n",
       "3           Изменить структура категорий, что увеличит конверсию, т.к. пользователи быстрее найдут нужный товар   \n",
       "4                              Изменить цвет фона главной страницы, чтобы увеличить вовлеченность пользователей   \n",
       "5                      Добавить страницу отзывов клиентов о магазине, что позволит увеличить количество заказов   \n",
       "6          Показать на главной странице баннеры с актуальными акциями и распродажами, чтобы увеличить конверсию   \n",
       "7              Добавить форму подписки на все основные страницы, чтобы собрать базу клиентов для email-рассылок   \n",
       "8                                                       Запустить акцию, дающую скидку на товар в день рождения   \n",
       "\n",
       "   Reach  Impact  Confidence  Efforts  \n",
       "0      3      10           8        6  \n",
       "1      2       5           4       10  \n",
       "2      8       3           7        3  \n",
       "3      8       3           3        8  \n",
       "4      3       1           1        1  \n",
       "5      3       2           2        3  \n",
       "6      5       3           8        3  \n",
       "7     10       7           8        5  \n",
       "8      1       9           9        5  "
      ]
     },
     "execution_count": 46,
     "metadata": {},
     "output_type": "execute_result"
    }
   ],
   "source": [
    "hypothesis.info()\n",
    "pd.options.display.max_colwidth = 130\n",
    "hypothesis"
   ]
  },
  {
   "cell_type": "code",
   "execution_count": 47,
   "metadata": {},
   "outputs": [
    {
     "name": "stdout",
     "output_type": "stream",
     "text": [
      "<class 'pandas.core.frame.DataFrame'>\n",
      "RangeIndex: 1197 entries, 0 to 1196\n",
      "Data columns (total 5 columns):\n",
      " #   Column         Non-Null Count  Dtype \n",
      "---  ------         --------------  ----- \n",
      " 0   transactionId  1197 non-null   int64 \n",
      " 1   visitorId      1197 non-null   int64 \n",
      " 2   date           1197 non-null   object\n",
      " 3   revenue        1197 non-null   int64 \n",
      " 4   group          1197 non-null   object\n",
      "dtypes: int64(3), object(2)\n",
      "memory usage: 46.9+ KB\n"
     ]
    },
    {
     "data": {
      "text/html": [
       "<div>\n",
       "<style scoped>\n",
       "    .dataframe tbody tr th:only-of-type {\n",
       "        vertical-align: middle;\n",
       "    }\n",
       "\n",
       "    .dataframe tbody tr th {\n",
       "        vertical-align: top;\n",
       "    }\n",
       "\n",
       "    .dataframe thead th {\n",
       "        text-align: right;\n",
       "    }\n",
       "</style>\n",
       "<table border=\"1\" class=\"dataframe\">\n",
       "  <thead>\n",
       "    <tr style=\"text-align: right;\">\n",
       "      <th></th>\n",
       "      <th>transactionId</th>\n",
       "      <th>visitorId</th>\n",
       "      <th>date</th>\n",
       "      <th>revenue</th>\n",
       "      <th>group</th>\n",
       "    </tr>\n",
       "  </thead>\n",
       "  <tbody>\n",
       "    <tr>\n",
       "      <th>0</th>\n",
       "      <td>3667963787</td>\n",
       "      <td>3312258926</td>\n",
       "      <td>2019-08-15</td>\n",
       "      <td>1650</td>\n",
       "      <td>B</td>\n",
       "    </tr>\n",
       "    <tr>\n",
       "      <th>1</th>\n",
       "      <td>2804400009</td>\n",
       "      <td>3642806036</td>\n",
       "      <td>2019-08-15</td>\n",
       "      <td>730</td>\n",
       "      <td>B</td>\n",
       "    </tr>\n",
       "    <tr>\n",
       "      <th>2</th>\n",
       "      <td>2961555356</td>\n",
       "      <td>4069496402</td>\n",
       "      <td>2019-08-15</td>\n",
       "      <td>400</td>\n",
       "      <td>A</td>\n",
       "    </tr>\n",
       "    <tr>\n",
       "      <th>3</th>\n",
       "      <td>3797467345</td>\n",
       "      <td>1196621759</td>\n",
       "      <td>2019-08-15</td>\n",
       "      <td>9759</td>\n",
       "      <td>B</td>\n",
       "    </tr>\n",
       "    <tr>\n",
       "      <th>4</th>\n",
       "      <td>2282983706</td>\n",
       "      <td>2322279887</td>\n",
       "      <td>2019-08-15</td>\n",
       "      <td>2308</td>\n",
       "      <td>B</td>\n",
       "    </tr>\n",
       "    <tr>\n",
       "      <th>...</th>\n",
       "      <td>...</td>\n",
       "      <td>...</td>\n",
       "      <td>...</td>\n",
       "      <td>...</td>\n",
       "      <td>...</td>\n",
       "    </tr>\n",
       "    <tr>\n",
       "      <th>1192</th>\n",
       "      <td>2662137336</td>\n",
       "      <td>3733762160</td>\n",
       "      <td>2019-08-14</td>\n",
       "      <td>6490</td>\n",
       "      <td>B</td>\n",
       "    </tr>\n",
       "    <tr>\n",
       "      <th>1193</th>\n",
       "      <td>2203539145</td>\n",
       "      <td>370388673</td>\n",
       "      <td>2019-08-14</td>\n",
       "      <td>3190</td>\n",
       "      <td>A</td>\n",
       "    </tr>\n",
       "    <tr>\n",
       "      <th>1194</th>\n",
       "      <td>1807773912</td>\n",
       "      <td>573423106</td>\n",
       "      <td>2019-08-14</td>\n",
       "      <td>10550</td>\n",
       "      <td>A</td>\n",
       "    </tr>\n",
       "    <tr>\n",
       "      <th>1195</th>\n",
       "      <td>1947021204</td>\n",
       "      <td>1614305549</td>\n",
       "      <td>2019-08-14</td>\n",
       "      <td>100</td>\n",
       "      <td>A</td>\n",
       "    </tr>\n",
       "    <tr>\n",
       "      <th>1196</th>\n",
       "      <td>3936777065</td>\n",
       "      <td>2108080724</td>\n",
       "      <td>2019-08-15</td>\n",
       "      <td>202740</td>\n",
       "      <td>B</td>\n",
       "    </tr>\n",
       "  </tbody>\n",
       "</table>\n",
       "<p>1197 rows × 5 columns</p>\n",
       "</div>"
      ],
      "text/plain": [
       "      transactionId   visitorId        date  revenue group\n",
       "0        3667963787  3312258926  2019-08-15     1650     B\n",
       "1        2804400009  3642806036  2019-08-15      730     B\n",
       "2        2961555356  4069496402  2019-08-15      400     A\n",
       "3        3797467345  1196621759  2019-08-15     9759     B\n",
       "4        2282983706  2322279887  2019-08-15     2308     B\n",
       "...             ...         ...         ...      ...   ...\n",
       "1192     2662137336  3733762160  2019-08-14     6490     B\n",
       "1193     2203539145   370388673  2019-08-14     3190     A\n",
       "1194     1807773912   573423106  2019-08-14    10550     A\n",
       "1195     1947021204  1614305549  2019-08-14      100     A\n",
       "1196     3936777065  2108080724  2019-08-15   202740     B\n",
       "\n",
       "[1197 rows x 5 columns]"
      ]
     },
     "execution_count": 47,
     "metadata": {},
     "output_type": "execute_result"
    }
   ],
   "source": [
    "orders.info()\n",
    "orders"
   ]
  },
  {
   "cell_type": "code",
   "execution_count": 48,
   "metadata": {},
   "outputs": [
    {
     "name": "stdout",
     "output_type": "stream",
     "text": [
      "<class 'pandas.core.frame.DataFrame'>\n",
      "RangeIndex: 62 entries, 0 to 61\n",
      "Data columns (total 3 columns):\n",
      " #   Column    Non-Null Count  Dtype \n",
      "---  ------    --------------  ----- \n",
      " 0   date      62 non-null     object\n",
      " 1   group     62 non-null     object\n",
      " 2   visitors  62 non-null     int64 \n",
      "dtypes: int64(1), object(2)\n",
      "memory usage: 1.6+ KB\n"
     ]
    },
    {
     "data": {
      "text/html": [
       "<div>\n",
       "<style scoped>\n",
       "    .dataframe tbody tr th:only-of-type {\n",
       "        vertical-align: middle;\n",
       "    }\n",
       "\n",
       "    .dataframe tbody tr th {\n",
       "        vertical-align: top;\n",
       "    }\n",
       "\n",
       "    .dataframe thead th {\n",
       "        text-align: right;\n",
       "    }\n",
       "</style>\n",
       "<table border=\"1\" class=\"dataframe\">\n",
       "  <thead>\n",
       "    <tr style=\"text-align: right;\">\n",
       "      <th></th>\n",
       "      <th>date</th>\n",
       "      <th>group</th>\n",
       "      <th>visitors</th>\n",
       "    </tr>\n",
       "  </thead>\n",
       "  <tbody>\n",
       "    <tr>\n",
       "      <th>0</th>\n",
       "      <td>2019-08-01</td>\n",
       "      <td>A</td>\n",
       "      <td>719</td>\n",
       "    </tr>\n",
       "    <tr>\n",
       "      <th>1</th>\n",
       "      <td>2019-08-02</td>\n",
       "      <td>A</td>\n",
       "      <td>619</td>\n",
       "    </tr>\n",
       "    <tr>\n",
       "      <th>2</th>\n",
       "      <td>2019-08-03</td>\n",
       "      <td>A</td>\n",
       "      <td>507</td>\n",
       "    </tr>\n",
       "    <tr>\n",
       "      <th>3</th>\n",
       "      <td>2019-08-04</td>\n",
       "      <td>A</td>\n",
       "      <td>717</td>\n",
       "    </tr>\n",
       "    <tr>\n",
       "      <th>4</th>\n",
       "      <td>2019-08-05</td>\n",
       "      <td>A</td>\n",
       "      <td>756</td>\n",
       "    </tr>\n",
       "    <tr>\n",
       "      <th>...</th>\n",
       "      <td>...</td>\n",
       "      <td>...</td>\n",
       "      <td>...</td>\n",
       "    </tr>\n",
       "    <tr>\n",
       "      <th>57</th>\n",
       "      <td>2019-08-27</td>\n",
       "      <td>B</td>\n",
       "      <td>720</td>\n",
       "    </tr>\n",
       "    <tr>\n",
       "      <th>58</th>\n",
       "      <td>2019-08-28</td>\n",
       "      <td>B</td>\n",
       "      <td>654</td>\n",
       "    </tr>\n",
       "    <tr>\n",
       "      <th>59</th>\n",
       "      <td>2019-08-29</td>\n",
       "      <td>B</td>\n",
       "      <td>531</td>\n",
       "    </tr>\n",
       "    <tr>\n",
       "      <th>60</th>\n",
       "      <td>2019-08-30</td>\n",
       "      <td>B</td>\n",
       "      <td>490</td>\n",
       "    </tr>\n",
       "    <tr>\n",
       "      <th>61</th>\n",
       "      <td>2019-08-31</td>\n",
       "      <td>B</td>\n",
       "      <td>718</td>\n",
       "    </tr>\n",
       "  </tbody>\n",
       "</table>\n",
       "<p>62 rows × 3 columns</p>\n",
       "</div>"
      ],
      "text/plain": [
       "          date group  visitors\n",
       "0   2019-08-01     A       719\n",
       "1   2019-08-02     A       619\n",
       "2   2019-08-03     A       507\n",
       "3   2019-08-04     A       717\n",
       "4   2019-08-05     A       756\n",
       "..         ...   ...       ...\n",
       "57  2019-08-27     B       720\n",
       "58  2019-08-28     B       654\n",
       "59  2019-08-29     B       531\n",
       "60  2019-08-30     B       490\n",
       "61  2019-08-31     B       718\n",
       "\n",
       "[62 rows x 3 columns]"
      ]
     },
     "execution_count": 48,
     "metadata": {},
     "output_type": "execute_result"
    }
   ],
   "source": [
    "visitors.info()\n",
    "visitors"
   ]
  },
  {
   "cell_type": "markdown",
   "metadata": {},
   "source": [
    "## Предобработка данных.<a id=\"data_preparation\"></a>"
   ]
  },
  {
   "cell_type": "markdown",
   "metadata": {},
   "source": [
    "### Приводим даты к нужному типу"
   ]
  },
  {
   "cell_type": "code",
   "execution_count": 49,
   "metadata": {},
   "outputs": [
    {
     "name": "stdout",
     "output_type": "stream",
     "text": [
      "<class 'pandas.core.frame.DataFrame'>\n",
      "RangeIndex: 1197 entries, 0 to 1196\n",
      "Data columns (total 5 columns):\n",
      " #   Column         Non-Null Count  Dtype         \n",
      "---  ------         --------------  -----         \n",
      " 0   transactionId  1197 non-null   int64         \n",
      " 1   visitorId      1197 non-null   int64         \n",
      " 2   date           1197 non-null   datetime64[ns]\n",
      " 3   revenue        1197 non-null   int64         \n",
      " 4   group          1197 non-null   object        \n",
      "dtypes: datetime64[ns](1), int64(3), object(1)\n",
      "memory usage: 46.9+ KB\n",
      "<class 'pandas.core.frame.DataFrame'>\n",
      "RangeIndex: 62 entries, 0 to 61\n",
      "Data columns (total 3 columns):\n",
      " #   Column    Non-Null Count  Dtype         \n",
      "---  ------    --------------  -----         \n",
      " 0   date      62 non-null     datetime64[ns]\n",
      " 1   group     62 non-null     object        \n",
      " 2   visitors  62 non-null     int64         \n",
      "dtypes: datetime64[ns](1), int64(1), object(1)\n",
      "memory usage: 1.6+ KB\n"
     ]
    }
   ],
   "source": [
    "\n",
    "orders['date'] = pd.to_datetime(orders['date'], format='%Y-%m-%dT%H:%M:%S')\n",
    "visitors['date'] = pd.to_datetime(visitors['date'], format='%Y-%m-%dT%H:%M:%S')\n",
    "orders.info()\n",
    "visitors.info()"
   ]
  },
  {
   "cell_type": "markdown",
   "metadata": {},
   "source": [
    "### Проверяем данные на нулевые значения"
   ]
  },
  {
   "cell_type": "code",
   "execution_count": 50,
   "metadata": {},
   "outputs": [
    {
     "data": {
      "text/plain": [
       "transactionId    0\n",
       "visitorId        0\n",
       "date             0\n",
       "revenue          0\n",
       "group            0\n",
       "dtype: int64"
      ]
     },
     "metadata": {},
     "output_type": "display_data"
    },
    {
     "data": {
      "text/plain": [
       "date        0\n",
       "group       0\n",
       "visitors    0\n",
       "dtype: int64"
      ]
     },
     "metadata": {},
     "output_type": "display_data"
    }
   ],
   "source": [
    "display(orders.isna().sum())\n",
    "display(visitors.isna().sum())"
   ]
  },
  {
   "cell_type": "markdown",
   "metadata": {},
   "source": [
    "### Проверяем orders и visitors на наличие дубликатов"
   ]
  },
  {
   "cell_type": "code",
   "execution_count": 51,
   "metadata": {},
   "outputs": [
    {
     "data": {
      "text/plain": [
       "0"
      ]
     },
     "metadata": {},
     "output_type": "display_data"
    },
    {
     "data": {
      "text/plain": [
       "0"
      ]
     },
     "metadata": {},
     "output_type": "display_data"
    }
   ],
   "source": [
    "display(orders.duplicated().sum())\n",
    "display(visitors.duplicated().sum())"
   ]
  },
  {
   "cell_type": "markdown",
   "metadata": {},
   "source": [
    "### Унифицируем названия колонок в таблицах"
   ]
  },
  {
   "cell_type": "code",
   "execution_count": 52,
   "metadata": {},
   "outputs": [],
   "source": [
    "#В таблице hypothesis напишем названия колонок со строчных букв\n",
    "hypothesis = hypothesis.rename(columns = {'Hypothesis': 'hypothesis', 'Reach': 'reach', 'Impact': 'impact', 'Confidence': 'confidence', 'Efforts': 'efforts'})"
   ]
  },
  {
   "cell_type": "code",
   "execution_count": 53,
   "metadata": {},
   "outputs": [],
   "source": [
    "#Убираем прописные буквы из назаний колонок в orders\n",
    "orders = orders.rename(columns = {'transactionId' : 'transaction_id', 'visitorId' : 'visitor_id'})"
   ]
  },
  {
   "cell_type": "markdown",
   "metadata": {},
   "source": [
    "### Проверяем корректность проведения теста."
   ]
  },
  {
   "cell_type": "code",
   "execution_count": 54,
   "metadata": {},
   "outputs": [
    {
     "data": {
      "text/plain": [
       "'Количество групп в тесте:'"
      ]
     },
     "metadata": {},
     "output_type": "display_data"
    },
    {
     "data": {
      "text/plain": [
       "2"
      ]
     },
     "metadata": {},
     "output_type": "display_data"
    },
    {
     "data": {
      "text/plain": [
       "'Дата начала теста:'"
      ]
     },
     "metadata": {},
     "output_type": "display_data"
    },
    {
     "data": {
      "text/plain": [
       "Timestamp('2019-08-01 00:00:00')"
      ]
     },
     "metadata": {},
     "output_type": "display_data"
    },
    {
     "data": {
      "text/plain": [
       "'Дата окончания теста:'"
      ]
     },
     "metadata": {},
     "output_type": "display_data"
    },
    {
     "data": {
      "text/plain": [
       "Timestamp('2019-08-31 00:00:00')"
      ]
     },
     "metadata": {},
     "output_type": "display_data"
    },
    {
     "data": {
      "text/plain": [
       "'Количество пользователей в группе А:'"
      ]
     },
     "metadata": {},
     "output_type": "display_data"
    },
    {
     "data": {
      "text/plain": [
       "557"
      ]
     },
     "metadata": {},
     "output_type": "display_data"
    },
    {
     "data": {
      "text/plain": [
       "'Количество пользователей в группе В:'"
      ]
     },
     "metadata": {},
     "output_type": "display_data"
    },
    {
     "data": {
      "text/plain": [
       "640"
      ]
     },
     "metadata": {},
     "output_type": "display_data"
    },
    {
     "data": {
      "text/plain": [
       "'Число посетителей, относящихся к обеим группам:'"
      ]
     },
     "metadata": {},
     "output_type": "display_data"
    },
    {
     "data": {
      "text/plain": [
       "0"
      ]
     },
     "metadata": {},
     "output_type": "display_data"
    },
    {
     "data": {
      "image/png": "[encoded data removed]",
      "text/plain": [
       "<Figure size 864x360 with 1 Axes>"
      ]
     },
     "metadata": {
      "needs_background": "light"
     },
     "output_type": "display_data"
    }
   ],
   "source": [
    "#Проверяем количество групп в А/В-тесте\n",
    "display('Количество групп в тесте:',orders['group'].nunique())\n",
    "\n",
    "#Выясняем временной интервал теста:\n",
    "display('Дата начала теста:', visitors['date'].min())\n",
    "display('Дата окончания теста:',visitors['date'].max())\n",
    "\n",
    "#Выявляем количество пользователей в каждой группе:\n",
    "users_number_A = orders[orders['group'] == 'A']['visitor_id'].count()\n",
    "users_number_B = orders[orders['group'] == 'B']['visitor_id'].count()\n",
    "display('Количество пользователей в группе А:', users_number_A)\n",
    "display('Количество пользователей в группе В:', users_number_B)\n",
    "\n",
    "#Проверяем, не попадают ли какие-то пользователи в обе группы:\n",
    "duplicate_visitors = orders.query('group == \"A\" and group == \"B\"').count()\n",
    "display(\"Число посетителей, относящихся к обеим группам:\", duplicate_visitors['visitor_id'])\n",
    "\n",
    "#Изучаем динамику посетителей по группам по дням:\n",
    "#Находим динамику посетителей по дням:\n",
    "visitors_by_date_A = visitors[visitors['group'] == 'A'].groupby(['date'])['visitors'].sum()\n",
    "visitors_by_date_B = visitors[visitors['group'] == 'B'].groupby(['date'])['visitors'].sum()\n",
    "#Строим график посетителей по дням\n",
    "fig = plt.figure(figsize = (12, 5))\n",
    "\n",
    "plt.plot(visitors_by_date_A, label = 'A')\n",
    "plt.plot(visitors_by_date_B, label = 'B')\n",
    "\n",
    "plt.xlabel('Даты')\n",
    "plt.ylabel('Количество посетителей в день')\n",
    "plt.title('График динамики посетителей по дням')\n",
    "\n",
    "plt.legend()\n",
    "plt.show()"
   ]
  },
  {
   "cell_type": "markdown",
   "metadata": {},
   "source": [
    "В тесте участвуют две группы пользователей. Ни один из них не попадает в обе группы одновременно. Тест длился 31 день, с 1 по 31 августа 2019 г.\n",
    "Посетители распределены по группам неравномерно: 557/640, это может создать погрешности в его результатах.\n",
    "Динамика обеих групп посетителей по дням почти идентична, следовательно группы ведут себя одинаково, аномалий в поведении посетителей нет. Это хорошо. Результат теста будет более точным."
   ]
  },
  {
   "cell_type": "markdown",
   "metadata": {},
   "source": [
    "## Приоритезация гипотез.<a id=\"hypothesis\"></a>"
   ]
  },
  {
   "cell_type": "markdown",
   "metadata": {},
   "source": [
    "### Приоритезируем гипотизы с использованием вреймворка ICE"
   ]
  },
  {
   "cell_type": "code",
   "execution_count": 55,
   "metadata": {
    "scrolled": true
   },
   "outputs": [
    {
     "data": {
      "text/html": [
       "<div>\n",
       "<style scoped>\n",
       "    .dataframe tbody tr th:only-of-type {\n",
       "        vertical-align: middle;\n",
       "    }\n",
       "\n",
       "    .dataframe tbody tr th {\n",
       "        vertical-align: top;\n",
       "    }\n",
       "\n",
       "    .dataframe thead th {\n",
       "        text-align: right;\n",
       "    }\n",
       "</style>\n",
       "<table border=\"1\" class=\"dataframe\">\n",
       "  <thead>\n",
       "    <tr style=\"text-align: right;\">\n",
       "      <th></th>\n",
       "      <th>ICE</th>\n",
       "      <th>hypothesis</th>\n",
       "    </tr>\n",
       "  </thead>\n",
       "  <tbody>\n",
       "    <tr>\n",
       "      <th>8</th>\n",
       "      <td>16.20</td>\n",
       "      <td>Запустить акцию, дающую скидку на товар в день рождения</td>\n",
       "    </tr>\n",
       "    <tr>\n",
       "      <th>0</th>\n",
       "      <td>13.33</td>\n",
       "      <td>Добавить два новых канала привлечения трафика, что позволит привлекать на 30% больше пользователей</td>\n",
       "    </tr>\n",
       "    <tr>\n",
       "      <th>7</th>\n",
       "      <td>11.20</td>\n",
       "      <td>Добавить форму подписки на все основные страницы, чтобы собрать базу клиентов для email-рассылок</td>\n",
       "    </tr>\n",
       "    <tr>\n",
       "      <th>6</th>\n",
       "      <td>8.00</td>\n",
       "      <td>Показать на главной странице баннеры с актуальными акциями и распродажами, чтобы увеличить конверсию</td>\n",
       "    </tr>\n",
       "    <tr>\n",
       "      <th>2</th>\n",
       "      <td>7.00</td>\n",
       "      <td>Добавить блоки рекомендаций товаров на сайт интернет магазина, чтобы повысить конверсию и средний чек заказа</td>\n",
       "    </tr>\n",
       "    <tr>\n",
       "      <th>1</th>\n",
       "      <td>2.00</td>\n",
       "      <td>Запустить собственную службу доставки, что сократит срок доставки заказов</td>\n",
       "    </tr>\n",
       "    <tr>\n",
       "      <th>5</th>\n",
       "      <td>1.33</td>\n",
       "      <td>Добавить страницу отзывов клиентов о магазине, что позволит увеличить количество заказов</td>\n",
       "    </tr>\n",
       "    <tr>\n",
       "      <th>3</th>\n",
       "      <td>1.12</td>\n",
       "      <td>Изменить структура категорий, что увеличит конверсию, т.к. пользователи быстрее найдут нужный товар</td>\n",
       "    </tr>\n",
       "    <tr>\n",
       "      <th>4</th>\n",
       "      <td>1.00</td>\n",
       "      <td>Изменить цвет фона главной страницы, чтобы увеличить вовлеченность пользователей</td>\n",
       "    </tr>\n",
       "  </tbody>\n",
       "</table>\n",
       "</div>"
      ],
      "text/plain": [
       "     ICE  \\\n",
       "8  16.20   \n",
       "0  13.33   \n",
       "7  11.20   \n",
       "6   8.00   \n",
       "2   7.00   \n",
       "1   2.00   \n",
       "5   1.33   \n",
       "3   1.12   \n",
       "4   1.00   \n",
       "\n",
       "                                                                                                     hypothesis  \n",
       "8                                                       Запустить акцию, дающую скидку на товар в день рождения  \n",
       "0            Добавить два новых канала привлечения трафика, что позволит привлекать на 30% больше пользователей  \n",
       "7              Добавить форму подписки на все основные страницы, чтобы собрать базу клиентов для email-рассылок  \n",
       "6          Показать на главной странице баннеры с актуальными акциями и распродажами, чтобы увеличить конверсию  \n",
       "2  Добавить блоки рекомендаций товаров на сайт интернет магазина, чтобы повысить конверсию и средний чек заказа  \n",
       "1                                     Запустить собственную службу доставки, что сократит срок доставки заказов  \n",
       "5                      Добавить страницу отзывов клиентов о магазине, что позволит увеличить количество заказов  \n",
       "3           Изменить структура категорий, что увеличит конверсию, т.к. пользователи быстрее найдут нужный товар  \n",
       "4                              Изменить цвет фона главной страницы, чтобы увеличить вовлеченность пользователей  "
      ]
     },
     "metadata": {},
     "output_type": "display_data"
    }
   ],
   "source": [
    "hypothesis['ICE'] = hypothesis['impact'] * hypothesis['confidence'] / hypothesis['efforts']\n",
    "display(hypothesis[['ICE', 'hypothesis']].sort_values(by = 'ICE', ascending = False).round(2))"
   ]
  },
  {
   "cell_type": "markdown",
   "metadata": {},
   "source": [
    "### Приоритезируем гипотизы с использованием вреймворка RICE"
   ]
  },
  {
   "cell_type": "code",
   "execution_count": 56,
   "metadata": {},
   "outputs": [
    {
     "data": {
      "text/html": [
       "<div>\n",
       "<style scoped>\n",
       "    .dataframe tbody tr th:only-of-type {\n",
       "        vertical-align: middle;\n",
       "    }\n",
       "\n",
       "    .dataframe tbody tr th {\n",
       "        vertical-align: top;\n",
       "    }\n",
       "\n",
       "    .dataframe thead th {\n",
       "        text-align: right;\n",
       "    }\n",
       "</style>\n",
       "<table border=\"1\" class=\"dataframe\">\n",
       "  <thead>\n",
       "    <tr style=\"text-align: right;\">\n",
       "      <th></th>\n",
       "      <th>RICE</th>\n",
       "      <th>hypothesis</th>\n",
       "    </tr>\n",
       "  </thead>\n",
       "  <tbody>\n",
       "    <tr>\n",
       "      <th>7</th>\n",
       "      <td>112.0</td>\n",
       "      <td>Добавить форму подписки на все основные страницы, чтобы собрать базу клиентов для email-рассылок</td>\n",
       "    </tr>\n",
       "    <tr>\n",
       "      <th>2</th>\n",
       "      <td>56.0</td>\n",
       "      <td>Добавить блоки рекомендаций товаров на сайт интернет магазина, чтобы повысить конверсию и средний чек заказа</td>\n",
       "    </tr>\n",
       "    <tr>\n",
       "      <th>0</th>\n",
       "      <td>40.0</td>\n",
       "      <td>Добавить два новых канала привлечения трафика, что позволит привлекать на 30% больше пользователей</td>\n",
       "    </tr>\n",
       "    <tr>\n",
       "      <th>6</th>\n",
       "      <td>40.0</td>\n",
       "      <td>Показать на главной странице баннеры с актуальными акциями и распродажами, чтобы увеличить конверсию</td>\n",
       "    </tr>\n",
       "    <tr>\n",
       "      <th>8</th>\n",
       "      <td>16.2</td>\n",
       "      <td>Запустить акцию, дающую скидку на товар в день рождения</td>\n",
       "    </tr>\n",
       "    <tr>\n",
       "      <th>3</th>\n",
       "      <td>9.0</td>\n",
       "      <td>Изменить структура категорий, что увеличит конверсию, т.к. пользователи быстрее найдут нужный товар</td>\n",
       "    </tr>\n",
       "    <tr>\n",
       "      <th>1</th>\n",
       "      <td>4.0</td>\n",
       "      <td>Запустить собственную службу доставки, что сократит срок доставки заказов</td>\n",
       "    </tr>\n",
       "    <tr>\n",
       "      <th>5</th>\n",
       "      <td>4.0</td>\n",
       "      <td>Добавить страницу отзывов клиентов о магазине, что позволит увеличить количество заказов</td>\n",
       "    </tr>\n",
       "    <tr>\n",
       "      <th>4</th>\n",
       "      <td>3.0</td>\n",
       "      <td>Изменить цвет фона главной страницы, чтобы увеличить вовлеченность пользователей</td>\n",
       "    </tr>\n",
       "  </tbody>\n",
       "</table>\n",
       "</div>"
      ],
      "text/plain": [
       "    RICE  \\\n",
       "7  112.0   \n",
       "2   56.0   \n",
       "0   40.0   \n",
       "6   40.0   \n",
       "8   16.2   \n",
       "3    9.0   \n",
       "1    4.0   \n",
       "5    4.0   \n",
       "4    3.0   \n",
       "\n",
       "                                                                                                     hypothesis  \n",
       "7              Добавить форму подписки на все основные страницы, чтобы собрать базу клиентов для email-рассылок  \n",
       "2  Добавить блоки рекомендаций товаров на сайт интернет магазина, чтобы повысить конверсию и средний чек заказа  \n",
       "0            Добавить два новых канала привлечения трафика, что позволит привлекать на 30% больше пользователей  \n",
       "6          Показать на главной странице баннеры с актуальными акциями и распродажами, чтобы увеличить конверсию  \n",
       "8                                                       Запустить акцию, дающую скидку на товар в день рождения  \n",
       "3           Изменить структура категорий, что увеличит конверсию, т.к. пользователи быстрее найдут нужный товар  \n",
       "1                                     Запустить собственную службу доставки, что сократит срок доставки заказов  \n",
       "5                      Добавить страницу отзывов клиентов о магазине, что позволит увеличить количество заказов  \n",
       "4                              Изменить цвет фона главной страницы, чтобы увеличить вовлеченность пользователей  "
      ]
     },
     "metadata": {},
     "output_type": "display_data"
    }
   ],
   "source": [
    "hypothesis['RICE'] = hypothesis['reach'] * hypothesis['impact'] * hypothesis['confidence'] / hypothesis['efforts']\n",
    "display(hypothesis[['RICE', 'hypothesis']].sort_values(by = 'RICE', ascending = False))"
   ]
  },
  {
   "cell_type": "markdown",
   "metadata": {},
   "source": [
    "Фреймворк ICE не учитывает параметр охвата пользователей предполагаемым изменением. Поэтому, при добавлении нового параметра, меняяются и результаты приоритезации. При использовании RICE на первых местах оказались гипотезы, связанные воздействием напрямую, через Сеть, со стимулированием клиентов к действию. При использовании ICE в верху списка оказались маркетинговые действия, в том числе - с коротким сроком действия."
   ]
  },
  {
   "cell_type": "markdown",
   "metadata": {},
   "source": [
    "## Анализ А/В-теста.<a id=\"test_analysis\"></a>"
   ]
  },
  {
   "cell_type": "code",
   "execution_count": 57,
   "metadata": {},
   "outputs": [
    {
     "data": {
      "image/png": "[encoded data removed]",
      "text/plain": [
       "<Figure size 864x360 with 1 Axes>"
      ]
     },
     "metadata": {
      "needs_background": "light"
     },
     "output_type": "display_data"
    }
   ],
   "source": [
    "#Для построения графиков кумулятивной выручки и кумулятивного среднего чека по группам создаём таблицы с кумулятивными данными.\n",
    "#создаем массив уникальных пар значений дат и групп теста\n",
    "dates_groups = orders[['date', 'group']].drop_duplicates()\n",
    "\n",
    "#получаем агрегированные кумулятивные по дням данные о заказах \n",
    "aggregated_orders = dates_groups.apply(lambda x: orders[np.logical_and(orders['date'] <= x['date'], orders['group'] == x['group'])]\n",
    "                                       .agg({'date' : 'max', 'group' : 'max', 'transaction_id' : 'nunique', 'visitor_id' : 'nunique', 'revenue' : 'sum'}), axis=1).sort_values(by=['date','group'])\n",
    "\n",
    "#получаем агрегированные кумулятивные по дням данные о посетителях\n",
    "aggregated_visitors = dates_groups.apply(lambda x: visitors[np.logical_and(visitors['date'] <= x['date'], visitors['group'] == x['group'])]\n",
    "                                         .agg({'date' : 'max', 'group' : 'max', 'visitors': 'sum'}), axis = 1).sort_values(by = ['date', 'group'])\n",
    "\n",
    "#объединяем кумулятивные данные в одной таблице\n",
    "cumulative_data = aggregated_orders.merge(aggregated_visitors, left_on = ['date', 'group'], right_on = ['date', 'group'])\n",
    "cumulative_data.columns = ['date', 'group', 'orders', 'buyers', 'revenue', 'visitors']\n",
    "\n",
    "#создаем график с кумулятивной выручкой для каждой группы:\n",
    "cumulative_revenue_A = cumulative_data[cumulative_data['group'] == 'A'][['date', 'revenue', 'orders']]\n",
    "cumulative_revenue_B = cumulative_data[cumulative_data['group'] == 'B'][['date', 'revenue', 'orders']]\n",
    "\n",
    "#строим график кумулятивной выручки по группам:\n",
    "fig = plt.figure(figsize = (12, 5))\n",
    "\n",
    "plt.plot(cumulative_revenue_A['date'], cumulative_revenue_A['revenue'], label = 'A')\n",
    "plt.plot(cumulative_revenue_B['date'], cumulative_revenue_B['revenue'], label = 'B')\n",
    "plt.xlabel('Даты')\n",
    "plt.ylabel('Кумулятивная выручка (руб.)')\n",
    "plt.title('График кумулятивной выручки по группам')\n",
    "plt.legend()\n",
    "plt.show()\n",
    "#cumulative_data"
   ]
  },
  {
   "cell_type": "markdown",
   "metadata": {},
   "source": [
    "Кумулятивная выручка группы В растёт быстрее. В середине эксперимента в группе В происходит резкий скачок кумулятивной выручки, после чего рост снова становится плавным. Очевидно мы имеем дело с разовой аномалией. Или было очень много заказов или же были очень дорогие заказы. Данные необходимо проверить на предмет выбросов."
   ]
  },
  {
   "cell_type": "code",
   "execution_count": 58,
   "metadata": {},
   "outputs": [
    {
     "data": {
      "image/png": "[encoded data removed]",
      "text/plain": [
       "<Figure size 864x360 with 1 Axes>"
      ]
     },
     "metadata": {
      "needs_background": "light"
     },
     "output_type": "display_data"
    }
   ],
   "source": [
    "#строим графики среднего чека по группам\n",
    "fig = plt.figure(figsize = (12, 5))\n",
    "\n",
    "plt.plot(cumulative_revenue_A['date'], cumulative_revenue_A['revenue'] / cumulative_revenue_A['orders'], label = 'A')\n",
    "plt.plot(cumulative_revenue_B['date'], cumulative_revenue_B['revenue'] / cumulative_revenue_B['orders'], label = 'B')\n",
    "\n",
    "plt.xlabel('Даты')\n",
    "plt.ylabel('Размер среднего чека (руб.)')\n",
    "plt.title('График среднего чека по группам')\n",
    "\n",
    "plt.legend()\n",
    "plt.show()"
   ]
  },
  {
   "cell_type": "markdown",
   "metadata": {},
   "source": [
    "Средний чек у группы В в середине теста резко вырос более, чем в полтора раза, затем начал постепенно снижаться. Мы явно имеем дело с аномалией. Судя по графику, показатели для обеих груп стабилизировались, но аномальные данные нужно убрать."
   ]
  },
  {
   "cell_type": "code",
   "execution_count": 59,
   "metadata": {},
   "outputs": [
    {
     "data": {
      "text/html": [
       "<div>\n",
       "<style scoped>\n",
       "    .dataframe tbody tr th:only-of-type {\n",
       "        vertical-align: middle;\n",
       "    }\n",
       "\n",
       "    .dataframe tbody tr th {\n",
       "        vertical-align: top;\n",
       "    }\n",
       "\n",
       "    .dataframe thead th {\n",
       "        text-align: right;\n",
       "    }\n",
       "</style>\n",
       "<table border=\"1\" class=\"dataframe\">\n",
       "  <thead>\n",
       "    <tr style=\"text-align: right;\">\n",
       "      <th></th>\n",
       "      <th>date</th>\n",
       "      <th>revenueA</th>\n",
       "      <th>ordersA</th>\n",
       "      <th>revenueB</th>\n",
       "      <th>ordersB</th>\n",
       "    </tr>\n",
       "  </thead>\n",
       "  <tbody>\n",
       "    <tr>\n",
       "      <th>0</th>\n",
       "      <td>2019-08-01</td>\n",
       "      <td>148579</td>\n",
       "      <td>24</td>\n",
       "      <td>101217</td>\n",
       "      <td>21</td>\n",
       "    </tr>\n",
       "    <tr>\n",
       "      <th>1</th>\n",
       "      <td>2019-08-02</td>\n",
       "      <td>242401</td>\n",
       "      <td>44</td>\n",
       "      <td>266748</td>\n",
       "      <td>45</td>\n",
       "    </tr>\n",
       "    <tr>\n",
       "      <th>2</th>\n",
       "      <td>2019-08-03</td>\n",
       "      <td>354874</td>\n",
       "      <td>68</td>\n",
       "      <td>380996</td>\n",
       "      <td>61</td>\n",
       "    </tr>\n",
       "    <tr>\n",
       "      <th>3</th>\n",
       "      <td>2019-08-04</td>\n",
       "      <td>425699</td>\n",
       "      <td>84</td>\n",
       "      <td>489567</td>\n",
       "      <td>78</td>\n",
       "    </tr>\n",
       "    <tr>\n",
       "      <th>4</th>\n",
       "      <td>2019-08-05</td>\n",
       "      <td>549917</td>\n",
       "      <td>109</td>\n",
       "      <td>581995</td>\n",
       "      <td>101</td>\n",
       "    </tr>\n",
       "    <tr>\n",
       "      <th>5</th>\n",
       "      <td>2019-08-06</td>\n",
       "      <td>598401</td>\n",
       "      <td>127</td>\n",
       "      <td>824337</td>\n",
       "      <td>129</td>\n",
       "    </tr>\n",
       "    <tr>\n",
       "      <th>6</th>\n",
       "      <td>2019-08-07</td>\n",
       "      <td>740818</td>\n",
       "      <td>145</td>\n",
       "      <td>1049671</td>\n",
       "      <td>153</td>\n",
       "    </tr>\n",
       "    <tr>\n",
       "      <th>7</th>\n",
       "      <td>2019-08-08</td>\n",
       "      <td>837097</td>\n",
       "      <td>161</td>\n",
       "      <td>1270589</td>\n",
       "      <td>180</td>\n",
       "    </tr>\n",
       "    <tr>\n",
       "      <th>8</th>\n",
       "      <td>2019-08-09</td>\n",
       "      <td>1025603</td>\n",
       "      <td>177</td>\n",
       "      <td>1431401</td>\n",
       "      <td>205</td>\n",
       "    </tr>\n",
       "    <tr>\n",
       "      <th>9</th>\n",
       "      <td>2019-08-10</td>\n",
       "      <td>1236098</td>\n",
       "      <td>193</td>\n",
       "      <td>1539203</td>\n",
       "      <td>228</td>\n",
       "    </tr>\n",
       "    <tr>\n",
       "      <th>10</th>\n",
       "      <td>2019-08-11</td>\n",
       "      <td>1313683</td>\n",
       "      <td>206</td>\n",
       "      <td>1592513</td>\n",
       "      <td>241</td>\n",
       "    </tr>\n",
       "    <tr>\n",
       "      <th>11</th>\n",
       "      <td>2019-08-12</td>\n",
       "      <td>1562873</td>\n",
       "      <td>230</td>\n",
       "      <td>1734067</td>\n",
       "      <td>264</td>\n",
       "    </tr>\n",
       "    <tr>\n",
       "      <th>12</th>\n",
       "      <td>2019-08-13</td>\n",
       "      <td>1826511</td>\n",
       "      <td>244</td>\n",
       "      <td>1853738</td>\n",
       "      <td>285</td>\n",
       "    </tr>\n",
       "    <tr>\n",
       "      <th>13</th>\n",
       "      <td>2019-08-14</td>\n",
       "      <td>1890852</td>\n",
       "      <td>268</td>\n",
       "      <td>2025446</td>\n",
       "      <td>308</td>\n",
       "    </tr>\n",
       "    <tr>\n",
       "      <th>14</th>\n",
       "      <td>2019-08-15</td>\n",
       "      <td>1979057</td>\n",
       "      <td>283</td>\n",
       "      <td>2367945</td>\n",
       "      <td>339</td>\n",
       "    </tr>\n",
       "    <tr>\n",
       "      <th>15</th>\n",
       "      <td>2019-08-16</td>\n",
       "      <td>2078908</td>\n",
       "      <td>301</td>\n",
       "      <td>2539635</td>\n",
       "      <td>359</td>\n",
       "    </tr>\n",
       "    <tr>\n",
       "      <th>16</th>\n",
       "      <td>2019-08-17</td>\n",
       "      <td>2129769</td>\n",
       "      <td>311</td>\n",
       "      <td>2620790</td>\n",
       "      <td>373</td>\n",
       "    </tr>\n",
       "    <tr>\n",
       "      <th>17</th>\n",
       "      <td>2019-08-18</td>\n",
       "      <td>2202167</td>\n",
       "      <td>328</td>\n",
       "      <td>2686621</td>\n",
       "      <td>382</td>\n",
       "    </tr>\n",
       "    <tr>\n",
       "      <th>18</th>\n",
       "      <td>2019-08-19</td>\n",
       "      <td>2391910</td>\n",
       "      <td>350</td>\n",
       "      <td>4116541</td>\n",
       "      <td>403</td>\n",
       "    </tr>\n",
       "    <tr>\n",
       "      <th>19</th>\n",
       "      <td>2019-08-20</td>\n",
       "      <td>2469529</td>\n",
       "      <td>362</td>\n",
       "      <td>4263815</td>\n",
       "      <td>423</td>\n",
       "    </tr>\n",
       "    <tr>\n",
       "      <th>20</th>\n",
       "      <td>2019-08-21</td>\n",
       "      <td>2643838</td>\n",
       "      <td>385</td>\n",
       "      <td>4426892</td>\n",
       "      <td>437</td>\n",
       "    </tr>\n",
       "    <tr>\n",
       "      <th>21</th>\n",
       "      <td>2019-08-22</td>\n",
       "      <td>2756579</td>\n",
       "      <td>401</td>\n",
       "      <td>4589247</td>\n",
       "      <td>462</td>\n",
       "    </tr>\n",
       "    <tr>\n",
       "      <th>22</th>\n",
       "      <td>2019-08-23</td>\n",
       "      <td>2874367</td>\n",
       "      <td>426</td>\n",
       "      <td>4703216</td>\n",
       "      <td>477</td>\n",
       "    </tr>\n",
       "    <tr>\n",
       "      <th>23</th>\n",
       "      <td>2019-08-24</td>\n",
       "      <td>3002070</td>\n",
       "      <td>441</td>\n",
       "      <td>4798722</td>\n",
       "      <td>493</td>\n",
       "    </tr>\n",
       "    <tr>\n",
       "      <th>24</th>\n",
       "      <td>2019-08-25</td>\n",
       "      <td>3070704</td>\n",
       "      <td>451</td>\n",
       "      <td>4901584</td>\n",
       "      <td>507</td>\n",
       "    </tr>\n",
       "    <tr>\n",
       "      <th>25</th>\n",
       "      <td>2019-08-26</td>\n",
       "      <td>3227918</td>\n",
       "      <td>467</td>\n",
       "      <td>5084583</td>\n",
       "      <td>532</td>\n",
       "    </tr>\n",
       "    <tr>\n",
       "      <th>26</th>\n",
       "      <td>2019-08-27</td>\n",
       "      <td>3514698</td>\n",
       "      <td>495</td>\n",
       "      <td>5232260</td>\n",
       "      <td>548</td>\n",
       "    </tr>\n",
       "    <tr>\n",
       "      <th>27</th>\n",
       "      <td>2019-08-28</td>\n",
       "      <td>3615820</td>\n",
       "      <td>512</td>\n",
       "      <td>5328268</td>\n",
       "      <td>576</td>\n",
       "    </tr>\n",
       "    <tr>\n",
       "      <th>28</th>\n",
       "      <td>2019-08-29</td>\n",
       "      <td>3936510</td>\n",
       "      <td>534</td>\n",
       "      <td>5559398</td>\n",
       "      <td>596</td>\n",
       "    </tr>\n",
       "    <tr>\n",
       "      <th>29</th>\n",
       "      <td>2019-08-30</td>\n",
       "      <td>4022970</td>\n",
       "      <td>545</td>\n",
       "      <td>5774631</td>\n",
       "      <td>620</td>\n",
       "    </tr>\n",
       "    <tr>\n",
       "      <th>30</th>\n",
       "      <td>2019-08-31</td>\n",
       "      <td>4084803</td>\n",
       "      <td>557</td>\n",
       "      <td>5907760</td>\n",
       "      <td>640</td>\n",
       "    </tr>\n",
       "  </tbody>\n",
       "</table>\n",
       "</div>"
      ],
      "text/plain": [
       "         date  revenueA  ordersA  revenueB  ordersB\n",
       "0  2019-08-01    148579       24    101217       21\n",
       "1  2019-08-02    242401       44    266748       45\n",
       "2  2019-08-03    354874       68    380996       61\n",
       "3  2019-08-04    425699       84    489567       78\n",
       "4  2019-08-05    549917      109    581995      101\n",
       "5  2019-08-06    598401      127    824337      129\n",
       "6  2019-08-07    740818      145   1049671      153\n",
       "7  2019-08-08    837097      161   1270589      180\n",
       "8  2019-08-09   1025603      177   1431401      205\n",
       "9  2019-08-10   1236098      193   1539203      228\n",
       "10 2019-08-11   1313683      206   1592513      241\n",
       "11 2019-08-12   1562873      230   1734067      264\n",
       "12 2019-08-13   1826511      244   1853738      285\n",
       "13 2019-08-14   1890852      268   2025446      308\n",
       "14 2019-08-15   1979057      283   2367945      339\n",
       "15 2019-08-16   2078908      301   2539635      359\n",
       "16 2019-08-17   2129769      311   2620790      373\n",
       "17 2019-08-18   2202167      328   2686621      382\n",
       "18 2019-08-19   2391910      350   4116541      403\n",
       "19 2019-08-20   2469529      362   4263815      423\n",
       "20 2019-08-21   2643838      385   4426892      437\n",
       "21 2019-08-22   2756579      401   4589247      462\n",
       "22 2019-08-23   2874367      426   4703216      477\n",
       "23 2019-08-24   3002070      441   4798722      493\n",
       "24 2019-08-25   3070704      451   4901584      507\n",
       "25 2019-08-26   3227918      467   5084583      532\n",
       "26 2019-08-27   3514698      495   5232260      548\n",
       "27 2019-08-28   3615820      512   5328268      576\n",
       "28 2019-08-29   3936510      534   5559398      596\n",
       "29 2019-08-30   4022970      545   5774631      620\n",
       "30 2019-08-31   4084803      557   5907760      640"
      ]
     },
     "metadata": {},
     "output_type": "display_data"
    },
    {
     "data": {
      "image/png": "[encoded data removed]",
      "text/plain": [
       "<Figure size 864x360 with 1 Axes>"
      ]
     },
     "metadata": {
      "needs_background": "light"
     },
     "output_type": "display_data"
    }
   ],
   "source": [
    "#Cобираем данные о выручке в одном датафрейме\n",
    "merged_cumulative_revenue = cumulative_revenue_A.merge(cumulative_revenue_B, left_on = 'date', right_on = 'date', how = 'left', suffixes = ['A', 'B'])\n",
    "\n",
    "display(merged_cumulative_revenue)\n",
    "\n",
    "# Строим график относительного изменения кумулятивного среднего чека группы B к группе A\n",
    "fig = plt.figure(figsize = (12, 5))\n",
    "\n",
    "plt.plot(merged_cumulative_revenue['date'], (merged_cumulative_revenue['revenueB'] / merged_cumulative_revenue['ordersB']) / (merged_cumulative_revenue['revenueA'] / merged_cumulative_revenue['ordersA']) - 1)\n",
    "plt.axhline(y = 0, color = 'black', linestyle = '--')\n",
    "\n",
    "plt.xlabel('Даты')\n",
    "plt.title('График относительного изменения кумулятивного среднего чека группы B к группе A')\n",
    "\n",
    "\n",
    "plt.show()"
   ]
  },
  {
   "cell_type": "markdown",
   "metadata": {},
   "source": [
    "В начале теста относительное значение кумулятивного среднего чека группы В относительно группы А было ниже более чем на 20%. Затем произошло два резких скачка, в результате которых относительное значение среднего чека группы В стало почти на 40% выше, по отношению к группе А. Позже это значение резко упало и в середине теста вновь очень резко возросло. Ближе к концу теста началось его снижение и стабилизация на уровне около 30% выше по отношению к группе Б. Такие серьёзные колебания свидетельствуют об аномалиях, влияние которых только начало уменьшаться ближе к концу периода. Без фильтрации данных от аномалий тест пришлось бы продолжать."
   ]
  },
  {
   "cell_type": "code",
   "execution_count": 60,
   "metadata": {},
   "outputs": [
    {
     "data": {
      "image/png": "[encoded data removed]",
      "text/plain": [
       "<Figure size 864x360 with 1 Axes>"
      ]
     },
     "metadata": {
      "needs_background": "light"
     },
     "output_type": "display_data"
    }
   ],
   "source": [
    "#Создаём таблицы кумулятивного среднего количества заказов:\n",
    "cumulative_data['orders_by_visitors'] = cumulative_data['orders'] / cumulative_data['visitors']\n",
    "\n",
    "#Создаём таблицы кумулятивного среднего количества заказов по группам:\n",
    "cumulative_orders_data_A = cumulative_data[cumulative_data['group'] == 'A']\n",
    "cumulative_orders_data_B = cumulative_data[cumulative_data['group'] == 'B']\n",
    "\n",
    "#Cтроим график кумулятивного среднего количества заказов на посетителя по группам\n",
    "fig = plt.figure(figsize = (12, 5))\n",
    "\n",
    "plt.plot(cumulative_orders_data_A['date'], cumulative_orders_data_A['orders_by_visitors'], label = 'A')\n",
    "plt.plot(cumulative_orders_data_B['date'], cumulative_orders_data_B['orders_by_visitors'], label = 'B')\n",
    "\n",
    "plt.xlabel('Даты')\n",
    "plt.ylabel('Кумулятивное среднее количество заказов на посетителя')\n",
    "plt.title('График кумулятивного среднего количества заказов на посетителя по группам')\n",
    "\n",
    "plt.legend()\n",
    "plt.show()"
   ]
  },
  {
   "cell_type": "markdown",
   "metadata": {},
   "source": [
    "В обеих группах уже в начале теста произошёл скачок количества заказов, после чего их количество резко снизилось. Затем количество заказов на посетителя в группе А начало стабилизироваться. В группе В произошло ещё два скачка в середине теста, после чего так же началась стабилизация этого показателя. В группе В этот показатель остаётся более высоким, но незначительно. Возможно, стоит проверить статистическую значимость этого различия."
   ]
  },
  {
   "cell_type": "code",
   "execution_count": 61,
   "metadata": {},
   "outputs": [
    {
     "data": {
      "image/png": "[encoded data removed]",
      "text/plain": [
       "<Figure size 864x360 with 1 Axes>"
      ]
     },
     "metadata": {
      "needs_background": "light"
     },
     "output_type": "display_data"
    }
   ],
   "source": [
    "#Объединяем кумулятивные данные\n",
    "merged_cumulative_data = cumulative_orders_data_A.merge(cumulative_orders_data_B, left_on = 'date', right_on = 'date', how = 'left', suffixes = ['A', 'B'])\n",
    "\n",
    "#Строим график относительного изменения кумулятивного среднего количества заказов на посетителя группы B к группе A\n",
    "fig = plt.figure(figsize = (12, 5))\n",
    "\n",
    "plt.plot(merged_cumulative_data['date'], (merged_cumulative_data['orders_by_visitorsB'] / merged_cumulative_data['orders_by_visitorsA']) - 1)\n",
    "plt.axhline(y = 0, color = 'black', linestyle = '--')\n",
    "\n",
    "plt.xlabel('Даты')\n",
    "plt.title('График относительного изменения кумулятивного среднего количества заказов на посетителя группы B к группе A')\n",
    "\n",
    "plt.show()"
   ]
  },
  {
   "cell_type": "markdown",
   "metadata": {},
   "source": [
    "В начале теста относительное изменение среднего количества заказов на посетителя группы В к группе А скачет. Во второй половине теста показатель начинает стабилизироваться. Очевидно, в группе А были посетители с аномальным количеством заказов. Затем, подобная же аномалия проявилась в группе В."
   ]
  },
  {
   "cell_type": "code",
   "execution_count": 62,
   "metadata": {},
   "outputs": [
    {
     "data": {
      "image/png": "[encoded data removed]",
      "text/plain": [
       "<Figure size 864x360 with 1 Axes>"
      ]
     },
     "metadata": {
      "needs_background": "light"
     },
     "output_type": "display_data"
    }
   ],
   "source": [
    "#Группируем количество заказов по пользователям.\n",
    "orders_by_visitors = orders.groupby('visitor_id', as_index = False).agg({'transaction_id' : 'nunique'})\n",
    "orders_by_visitors.columns = ['visitor_id', 'orders']\n",
    "#Строим точечный график количества заказов по пользователям.\n",
    "x_values = pd.Series(range(0, len(orders_by_visitors)))\n",
    "\n",
    "fig = plt.figure(figsize = (12, 5))\n",
    "plt.scatter(x_values, orders_by_visitors['orders'])\n",
    "\n",
    "plt.xlabel('Количество посетителей')\n",
    "plt.ylabel('Количество заказов на посетителя')\n",
    "plt.title('График количества заказов на посетителя')\n",
    "\n",
    "plt.show()"
   ]
  },
  {
   "cell_type": "markdown",
   "metadata": {},
   "source": [
    "Основная масса посетителей сделала за весь период по одному заказу. Довольно большое количество из них совершило по два заказа, очевидно нет причины считать их аномалией. Считать ли аномалией посетителей, совершивших три заказа, - не ясно."
   ]
  },
  {
   "cell_type": "code",
   "execution_count": 63,
   "metadata": {},
   "outputs": [
    {
     "data": {
      "text/plain": [
       "array([2., 4.])"
      ]
     },
     "metadata": {},
     "output_type": "display_data"
    }
   ],
   "source": [
    "#Считаем 95-й и 99-й перцентили количества заказов на пользователя, чтобы выбрать границу для определения аномальных пользователей\n",
    "display(np.percentile(orders_by_visitors['orders'], [95, 99]))"
   ]
  },
  {
   "cell_type": "markdown",
   "metadata": {},
   "source": [
    "Не более 5% посетителей оформляли 2 заказа. Примем это число за верхнюю границу числа заказов, остальное отнесём к аномалиям."
   ]
  },
  {
   "cell_type": "code",
   "execution_count": 64,
   "metadata": {},
   "outputs": [
    {
     "data": {
      "image/png": "[encoded data removed]",
      "text/plain": [
       "<Figure size 864x360 with 1 Axes>"
      ]
     },
     "metadata": {
      "needs_background": "light"
     },
     "output_type": "display_data"
    },
    {
     "data": {
      "image/png": "[encoded data removed]",
      "text/plain": [
       "<Figure size 864x360 with 1 Axes>"
      ]
     },
     "metadata": {
      "needs_background": "light"
     },
     "output_type": "display_data"
    }
   ],
   "source": [
    "#Строим точечный график стоимостей заказов\n",
    "x_values = pd.Series(range(0, len(orders['revenue'])))\n",
    "\n",
    "fig = plt.figure(figsize = (12, 5))\n",
    "plt.scatter(x_values, orders['revenue'])\n",
    "\n",
    "plt.xlabel('Количество посетителей')\n",
    "plt.ylabel('Стоимость заказа')\n",
    "plt.title('Точечный график стоимостей заказов')\n",
    "\n",
    "plt.show()\n",
    "#Строим точечный график стоимостей заказов с ограничением по оси У для изучение основной части заказа\n",
    "x_values = pd.Series(range(0, len(orders['revenue'])))\n",
    "\n",
    "fig = plt.figure(figsize = (12, 5))\n",
    "plt.scatter(x_values, orders['revenue'])\n",
    "plt.ylim((0,80000))\n",
    "\n",
    "plt.xlabel('Количество посетителей')\n",
    "plt.ylabel('Стоимость заказа')\n",
    "plt.title('Детальный точечный график стоимостей заказов')\n",
    "\n",
    "plt.show()"
   ]
  },
  {
   "cell_type": "markdown",
   "metadata": {},
   "source": [
    "Стоимость основной массы заказов до 20-ти тысяч."
   ]
  },
  {
   "cell_type": "code",
   "execution_count": 65,
   "metadata": {},
   "outputs": [
    {
     "data": {
      "text/plain": [
       "array([28000. , 58233.2])"
      ]
     },
     "metadata": {},
     "output_type": "display_data"
    },
    {
     "data": {
      "text/plain": [
       "8348.005847953216"
      ]
     },
     "metadata": {},
     "output_type": "display_data"
    },
    {
     "data": {
      "text/plain": [
       "2978.0"
      ]
     },
     "metadata": {},
     "output_type": "display_data"
    }
   ],
   "source": [
    "#Посчитаем 95-й и 99-й перцентили стоимости заказов. Выберем границу для определения аномальных заказов\n",
    "display(np.percentile(orders['revenue'], [95, 99]))\n",
    "display(orders['revenue'].mean())\n",
    "display(orders['revenue'].median())"
   ]
  },
  {
   "cell_type": "markdown",
   "metadata": {},
   "source": [
    "Не более 1% посетителей оформляли заказ на сумму более 58233.2 рубля. Примем это число за верхнюю границу стоимости заказов, остальное отнесём к аномалиям. Сравнение среднего и медианного показателя свидететельствуют о существенном влиянии выброса."
   ]
  },
  {
   "cell_type": "markdown",
   "metadata": {},
   "source": [
    "Делаем тест в отношении среднего числа заказов между группами по \"сырым\" данным:\n",
    "\n",
    "Нулевая гипотеза: Статистические различия в среднем числе заказов между группами отсутствуют.\n",
    "Альтернативная гипотеза: В среднем числе заказов между группами присутствуют статистически значимые различия.\n",
    "Поскольку мы используем при расчётах 99-ю перцентиль, alpha = 0.01"
   ]
  },
  {
   "cell_type": "code",
   "execution_count": 66,
   "metadata": {},
   "outputs": [
    {
     "data": {
      "text/plain": [
       "'p-value ='"
      ]
     },
     "metadata": {},
     "output_type": "display_data"
    },
    {
     "data": {
      "text/plain": [
       "'0.017'"
      ]
     },
     "metadata": {},
     "output_type": "display_data"
    },
    {
     "data": {
      "text/plain": [
       "'Разница в среднем количестве заказов равна'"
      ]
     },
     "metadata": {},
     "output_type": "display_data"
    },
    {
     "data": {
      "text/plain": [
       "'0.138'"
      ]
     },
     "metadata": {},
     "output_type": "display_data"
    }
   ],
   "source": [
    "#Посчитаем статистическую значимость различий в среднем количестве заказов на посетителя между группами по «сырым» данным.\n",
    "#Создаём таблицы заказов по пользователям, для каждой группы:\n",
    "orders_by_visitors_A = (orders[orders['group'] == 'A'].groupby('visitor_id', as_index=False).agg({'transaction_id': 'nunique'})\n",
    ")\n",
    "orders_by_visitors_A.columns = ['visitor_id', 'orders']\n",
    "orders_by_visitors_B = (orders[orders['group'] == 'B'].groupby('visitor_id', as_index=False).agg({'transaction_id': 'nunique'})\n",
    ")\n",
    "orders_by_visitors_B.columns = ['visitor_id', 'orders']\n",
    "\n",
    "#Создаём таблицы с количеством посетителей на дату по группам:\n",
    "visitors_A = visitors[visitors['group'] == 'A']\n",
    "visitors_B = visitors[visitors['group'] == 'B']\n",
    "#На основе таблиц создаём выборки для теста:\n",
    "sample_A = pd.concat([orders_by_visitors_A['orders'], pd.Series(0, index = np.arange(visitors_A['visitors'].sum() - len(orders_by_visitors_A['orders'])), name = 'orders')], axis = 0)\n",
    "sample_B = pd.concat([orders_by_visitors_B['orders'], pd.Series(0, index = np.arange(visitors_B['visitors'].sum() - len(orders_by_visitors_B['orders'])), name = 'orders')], axis = 0)\n",
    "\n",
    "display('p-value =' , \"{0:.3f}\".format(stats.mannwhitneyu(sample_A, sample_B)[1]))\n",
    "\n",
    "display('Разница в среднем количестве заказов равна', \"{0:.3f}\".format(sample_B.mean() / sample_A.mean() - 1))"
   ]
  },
  {
   "cell_type": "markdown",
   "metadata": {},
   "source": [
    "Тест показал, что p-value больше чем 0.01, следовательно нулевую гипотезу об отсутствии статистически значимых различий в среднем числе заказов между группами отвергнуть на основании \"сырых\" данных не удалось. По \"сырым\" данным количество заказов на пользователя по группам отличается.\n",
    "Относительный прирост в группе В составляет почти 14%. Наблюдаемые различия не являются значимыми при таком уровне значимости, а следовательно были получены случайно."
   ]
  },
  {
   "cell_type": "markdown",
   "metadata": {},
   "source": [
    "Делаем тест в отношении среднего чека заказа между группами по \"сырым\" данным:\n",
    "\n",
    "Нулевая гипотеза: Статистические различия в среднем чеке заказа между группами отсутствуют.\n",
    "Альтернативная гипотеза: В среднем чеке заказа между группами присутствуют статистически значимые различия.\n",
    "Поскольку мы используем при расчётах 99-ю перцентиль, alpha = 0.01"
   ]
  },
  {
   "cell_type": "markdown",
   "metadata": {},
   "source": [
    "Нулевая гипотеза: Статистические различия в среднем чеке заказа между группами отсутствуют.\n",
    "Альтернативная гипотеза: В среднем чеке заказа между группами присутствуют статистически значимые различия.\n",
    "Поскольку мы используем при расчётах 99-ю перцентиль, alpha = 0.01"
   ]
  },
  {
   "cell_type": "code",
   "execution_count": 67,
   "metadata": {},
   "outputs": [
    {
     "data": {
      "text/plain": [
       "'p-value ='"
      ]
     },
     "metadata": {},
     "output_type": "display_data"
    },
    {
     "data": {
      "text/plain": [
       "'0.729'"
      ]
     },
     "metadata": {},
     "output_type": "display_data"
    },
    {
     "data": {
      "text/plain": [
       "'Разница в среднем количестве заказов равна'"
      ]
     },
     "metadata": {},
     "output_type": "display_data"
    },
    {
     "data": {
      "text/plain": [
       "'0.259'"
      ]
     },
     "metadata": {},
     "output_type": "display_data"
    }
   ],
   "source": [
    "#Считаем статистическую значимость различий в среднем чеке заказа между группами по «сырым» данным\n",
    "display('p-value =' , '{0:.3f}'.format(stats.mannwhitneyu(orders[orders['group'] == 'A']['revenue'], orders[orders['group'] == 'B']['revenue'])[1]))\n",
    "display('Разница в среднем количестве заказов равна', '{0:.3f}'.format(orders[orders['group'] == 'B']['revenue'].mean() / orders[orders['group'] == 'A']['revenue'].mean() - 1))"
   ]
  },
  {
   "cell_type": "markdown",
   "metadata": {},
   "source": [
    "Тест показал, что p-value значительно больше чем 0.01, следовательно нулевую гипотезу о том, что статистически значимых различий в среднем числе заказов между группами нет, отвергнуть не удалось.\n",
    "При этом средний чек группы В значительно выше среднего чека группы А.\n",
    "Поскольку относительное различие среднего чека между сегментами составляет 25.9%, наблюдаемые различия не являются значимыми при таком уровне значимости, а следовательно были получены случайно."
   ]
  },
  {
   "cell_type": "code",
   "execution_count": 68,
   "metadata": {},
   "outputs": [],
   "source": [
    "#Для подсчёта статистической значимости различий в среднем количестве заказов на посетителя между группами и статистической\n",
    "#значимости различий в среднем чеке заказа между группами по «очищенным» данным создадим переменную,\n",
    "#содержащую данные об аномальных пользователях\n",
    "#Создаём переменную со слишком большим количеством заказов:\n",
    "users_with_many_orders = pd.concat([orders_by_visitors_A[orders_by_visitors_A['orders'] > 4]['visitor_id'], orders_by_visitors_B[orders_by_visitors_B['orders'] > 4]['visitor_id']], axis = 0)\n",
    "\n",
    "#Создаём переменную со слишком большим чеком:\n",
    "users_with_expensive_orders = orders[orders['revenue'] > np.percentile(orders['revenue'], 99)]['visitor_id']\n",
    "\n",
    "#Собираем данные об аномальных пользователях:\n",
    "abnormal_users = (pd.concat([users_with_many_orders, users_with_expensive_orders], axis = 0).drop_duplicates().sort_values())"
   ]
  },
  {
   "cell_type": "code",
   "execution_count": 69,
   "metadata": {},
   "outputs": [],
   "source": [
    "#Создаём переменные с очищенными данными о среднем количестве заказов\n",
    "sample_filtered_A = pd.concat([orders_by_visitors_A[np.logical_not(orders_by_visitors_A['visitor_id'].isin(abnormal_users))]['orders'],\n",
    "                              pd.Series(0, index = np.arange(visitors_A['visitors'].sum() - len(orders_by_visitors_A['orders'])), name = 'orders')], axis = 0)\n",
    "\n",
    "sample_filtered_B = pd.concat([orders_by_visitors_B[np.logical_not(orders_by_visitors_B['visitor_id'].isin(abnormal_users))]['orders'],\n",
    "                              pd.Series(0, index = np.arange(visitors_B['visitors'].sum() - len(orders_by_visitors_B['orders'])), name = 'orders')], axis = 0)\n"
   ]
  },
  {
   "cell_type": "code",
   "execution_count": 70,
   "metadata": {
    "scrolled": true
   },
   "outputs": [
    {
     "data": {
      "text/plain": [
       "'p-value ='"
      ]
     },
     "metadata": {},
     "output_type": "display_data"
    },
    {
     "data": {
      "text/plain": [
       "'0.014'"
      ]
     },
     "metadata": {},
     "output_type": "display_data"
    },
    {
     "data": {
      "text/plain": [
       "'Разница в среднем количестве заказов равна'"
      ]
     },
     "metadata": {},
     "output_type": "display_data"
    },
    {
     "data": {
      "text/plain": [
       "'0.153'"
      ]
     },
     "metadata": {},
     "output_type": "display_data"
    }
   ],
   "source": [
    "#Cчитаем статистическую значимость различий в среднем количестве заказов на посетителя между группами по «очищенным» данным\n",
    "display('p-value =' , \"{0:.3f}\".format(stats.mannwhitneyu(sample_filtered_A, sample_filtered_B)[1]))\n",
    "\n",
    "display('Разница в среднем количестве заказов равна', \"{0:.3f}\".format(sample_filtered_B.mean() / sample_filtered_A.mean() - 1))"
   ]
  },
  {
   "cell_type": "markdown",
   "metadata": {},
   "source": [
    "По очищенным данным статистическая значимость различий в среднем количестве заказов на посетителя между группами подтверждается. p-value теперь равно значению alpha, следовательно, мы отклоняем нулевую гипотезу. Относительный прирост в группе В стал ещё более заметным и составил 17.4% (по неочищенным данным - 13.8%)"
   ]
  },
  {
   "cell_type": "code",
   "execution_count": 71,
   "metadata": {},
   "outputs": [],
   "source": [
    "#Для вычисления статистической значимости различий в среднем чеке заказа между группами по очищенным данным\n",
    "#создаём переменные с очищенными данными о среднем чеке заказа:\n",
    "sample_filtered_avg_A = orders[np.logical_and(orders['group'] == 'A', np.logical_not(orders['visitor_id'].isin(abnormal_users)))]['revenue']\n",
    "sample_filtered_avg_B = orders[np.logical_and(orders['group'] == 'B', np.logical_not(orders['visitor_id'].isin(abnormal_users)))]['revenue']"
   ]
  },
  {
   "cell_type": "code",
   "execution_count": 72,
   "metadata": {},
   "outputs": [
    {
     "data": {
      "text/plain": [
       "'p-value ='"
      ]
     },
     "metadata": {},
     "output_type": "display_data"
    },
    {
     "data": {
      "text/plain": [
       "'0.851'"
      ]
     },
     "metadata": {},
     "output_type": "display_data"
    },
    {
     "data": {
      "text/plain": [
       "'Разница в среднем количестве заказов равна'"
      ]
     },
     "metadata": {},
     "output_type": "display_data"
    },
    {
     "data": {
      "text/plain": [
       "'-0.006'"
      ]
     },
     "metadata": {},
     "output_type": "display_data"
    }
   ],
   "source": [
    "#Cчитаем статистическую значимость различий в среднем чеке заказа между группами по очищенным данным\n",
    "display('p-value =' , \"{0:.3f}\".format(stats.mannwhitneyu(sample_filtered_avg_A, sample_filtered_avg_B)[1]))\n",
    "display('Разница в среднем количестве заказов равна', \"{0:.3f}\".format(sample_filtered_avg_B.mean() / sample_filtered_avg_A.mean() - 1))"
   ]
  },
  {
   "cell_type": "markdown",
   "metadata": {},
   "source": [
    "p-value для очищенных данных не просто остался значительно больше чем 0.05, но и увеличился. Средний чек группы В по очищенным данным на 2% меньше, чем у группы А. Различие в среднем чеке заказа статистической значимости не имеет."
   ]
  },
  {
   "cell_type": "markdown",
   "metadata": {},
   "source": [
    "## Вывод по результатам теста."
   ]
  },
  {
   "cell_type": "markdown",
   "metadata": {},
   "source": [
    "Относительно приоритезации гипотез: \n",
    "При помощи фреймворка ICE в качестве приоритетных выделяются:\n",
    "1. Запустить акцию, дающую скидку на товар в день рождения - 16.20\n",
    "2. Добавить два новых канала привлечения трафика, что позволит привлекать на 30% больше пользователей - 13.33\n",
    "3. Добавить форму подписки на все основные страницы, чтобы собрать базу клиентов для email-рассылок - 11.20\n",
    "\n",
    "При помощи фреймворка RICE в качестве приоритетных выделяются:\n",
    "1. Добавить форму подписки на все основные страницы, чтобы собрать базу клиентов для email-рассылок - 112.0\n",
    "2. Добавить блоки рекомендаций товаров на сайт интернет магазина, чтобы повысить конверсию и средний чек заказа - 56.0\n",
    "3. Добавить два новых канала привлечения трафика, что позволит привлекать на 30% больше пользователей - 40.0\n",
    "4. Показать на главной странице баннеры с актуальными акциями и распродажами, чтобы увеличить конверсию -40.0 \n",
    "\n",
    "Фреймворк ICE не учитывает параметр охвата пользователей предполагаемым изменением. Поэтому, при добавлении нового параметра, меняяются и результаты приоритезации. При использовании RICE на первых местах оказались гипотезы, связанные воздействием напрямую, через Сеть, со стимулированием клиентов к действию. При использовании ICE в верху списка оказались маркетинговые действия, в том числе - с коротким сроком действия.\n",
    "\n",
    "По анализу результатов А/В-теста:\n",
    "\n",
    "1. Статистически значимых различий в количестве заказов по группам и по \"сырым\" данным нет. Однако после фильтрации аномалий статистически значимые различия по этому параметру появляются.\n",
    "2. Статистически значимых различий по среднему чеку нет ни по \"сырым\", ни по очищенным данным. До удаления аномалий средний чек в группе В был значительно выше, чем в группе А (на 25.9%). После очистки данных средний чек в группе В оказался на 0.6% ниже, чем группе А.\n",
    "3. Графики показывают стабилизацию параметров к концу теста.\n",
    "Тест можно остановить и зафиксировать \"победу\" группы В, поскольку снижение чека на 0.6%, не имеющее статистической значимости, вполне компенсируется ростом количества заказов на 15.3%"
   ]
  }
 ],
 "metadata": {
  "ExecuteTimeLog": [
   {
    "duration": 50,
    "start_time": "2022-12-15T11:17:52.688Z"
   },
   {
    "duration": 1151,
    "start_time": "2022-12-15T11:17:59.067Z"
   },
   {
    "duration": 287,
    "start_time": "2022-12-15T11:18:01.302Z"
   },
   {
    "duration": 12,
    "start_time": "2022-12-15T11:18:04.306Z"
   },
   {
    "duration": 11,
    "start_time": "2022-12-15T11:18:41.358Z"
   },
   {
    "duration": 14,
    "start_time": "2022-12-15T11:19:18.340Z"
   },
   {
    "duration": 18,
    "start_time": "2022-12-15T11:19:47.217Z"
   },
   {
    "duration": 18,
    "start_time": "2022-12-15T11:21:26.923Z"
   },
   {
    "duration": 16,
    "start_time": "2022-12-15T12:01:04.883Z"
   },
   {
    "duration": 12,
    "start_time": "2022-12-15T12:04:45.370Z"
   },
   {
    "duration": 6,
    "start_time": "2022-12-15T12:04:59.173Z"
   },
   {
    "duration": 8,
    "start_time": "2022-12-15T12:05:48.798Z"
   },
   {
    "duration": 5,
    "start_time": "2022-12-15T12:07:14.891Z"
   },
   {
    "duration": 5,
    "start_time": "2022-12-15T12:07:34.418Z"
   },
   {
    "duration": 5,
    "start_time": "2022-12-15T12:07:57.105Z"
   },
   {
    "duration": 4,
    "start_time": "2022-12-15T12:08:04.324Z"
   },
   {
    "duration": 66,
    "start_time": "2022-12-15T12:21:23.126Z"
   },
   {
    "duration": 8,
    "start_time": "2022-12-15T12:22:03.801Z"
   },
   {
    "duration": 8,
    "start_time": "2022-12-15T12:29:35.421Z"
   },
   {
    "duration": 325,
    "start_time": "2022-12-15T12:29:44.395Z"
   },
   {
    "duration": 286,
    "start_time": "2022-12-15T12:29:58.774Z"
   },
   {
    "duration": 337,
    "start_time": "2022-12-15T12:31:54.078Z"
   },
   {
    "duration": 9,
    "start_time": "2022-12-15T12:35:50.007Z"
   },
   {
    "duration": 6,
    "start_time": "2022-12-15T12:35:53.575Z"
   },
   {
    "duration": 22,
    "start_time": "2022-12-15T12:36:27.008Z"
   },
   {
    "duration": 8,
    "start_time": "2022-12-15T12:49:23.234Z"
   },
   {
    "duration": 11,
    "start_time": "2022-12-15T12:50:56.552Z"
   },
   {
    "duration": 10,
    "start_time": "2022-12-15T12:51:09.044Z"
   },
   {
    "duration": 10,
    "start_time": "2022-12-15T12:51:20.114Z"
   },
   {
    "duration": 8,
    "start_time": "2022-12-15T12:51:52.527Z"
   },
   {
    "duration": 9,
    "start_time": "2022-12-15T12:53:01.940Z"
   },
   {
    "duration": 11,
    "start_time": "2022-12-15T12:53:43.582Z"
   },
   {
    "duration": 4,
    "start_time": "2022-12-15T13:00:32.607Z"
   },
   {
    "duration": 10,
    "start_time": "2022-12-15T13:00:38.230Z"
   },
   {
    "duration": 10,
    "start_time": "2022-12-15T13:02:13.910Z"
   },
   {
    "duration": 13,
    "start_time": "2022-12-15T13:07:35.999Z"
   },
   {
    "duration": 10,
    "start_time": "2022-12-15T13:09:07.677Z"
   },
   {
    "duration": 4,
    "start_time": "2022-12-15T15:12:42.101Z"
   },
   {
    "duration": 27,
    "start_time": "2022-12-15T15:23:22.448Z"
   },
   {
    "duration": 2780,
    "start_time": "2022-12-15T15:27:20.856Z"
   },
   {
    "duration": 2718,
    "start_time": "2022-12-15T15:31:31.972Z"
   },
   {
    "duration": 160,
    "start_time": "2022-12-15T15:33:00.926Z"
   },
   {
    "duration": 166,
    "start_time": "2022-12-15T15:33:09.720Z"
   },
   {
    "duration": 76,
    "start_time": "2022-12-15T15:40:28.528Z"
   },
   {
    "duration": 81,
    "start_time": "2022-12-15T15:40:42.547Z"
   },
   {
    "duration": 165,
    "start_time": "2022-12-15T15:41:18.196Z"
   },
   {
    "duration": 172,
    "start_time": "2022-12-15T15:41:37.914Z"
   },
   {
    "duration": 270,
    "start_time": "2022-12-15T15:42:41.676Z"
   },
   {
    "duration": 251,
    "start_time": "2022-12-15T15:43:00.683Z"
   },
   {
    "duration": 268,
    "start_time": "2022-12-15T15:50:39.045Z"
   },
   {
    "duration": 280,
    "start_time": "2022-12-15T15:51:53.162Z"
   },
   {
    "duration": 261,
    "start_time": "2022-12-15T15:52:28.692Z"
   },
   {
    "duration": 25,
    "start_time": "2022-12-15T18:22:32.608Z"
   },
   {
    "duration": 3,
    "start_time": "2022-12-15T18:22:36.819Z"
   },
   {
    "duration": 267,
    "start_time": "2022-12-15T18:22:42.436Z"
   },
   {
    "duration": 260,
    "start_time": "2022-12-15T18:25:11.172Z"
   },
   {
    "duration": 257,
    "start_time": "2022-12-15T18:25:46.000Z"
   },
   {
    "duration": 511,
    "start_time": "2022-12-15T18:27:45.460Z"
   },
   {
    "duration": 404,
    "start_time": "2022-12-15T18:28:43.595Z"
   },
   {
    "duration": 151,
    "start_time": "2022-12-15T18:40:02.228Z"
   },
   {
    "duration": 154,
    "start_time": "2022-12-15T18:41:03.044Z"
   },
   {
    "duration": 154,
    "start_time": "2022-12-15T18:42:33.822Z"
   },
   {
    "duration": 1145,
    "start_time": "2022-12-16T16:29:40.674Z"
   },
   {
    "duration": 292,
    "start_time": "2022-12-16T16:29:41.821Z"
   },
   {
    "duration": 21,
    "start_time": "2022-12-16T16:29:42.114Z"
   },
   {
    "duration": 19,
    "start_time": "2022-12-16T16:29:42.137Z"
   },
   {
    "duration": 17,
    "start_time": "2022-12-16T16:29:42.157Z"
   },
   {
    "duration": 19,
    "start_time": "2022-12-16T16:29:42.176Z"
   },
   {
    "duration": 9,
    "start_time": "2022-12-16T16:29:42.197Z"
   },
   {
    "duration": 7,
    "start_time": "2022-12-16T16:29:42.208Z"
   },
   {
    "duration": 5,
    "start_time": "2022-12-16T16:29:42.251Z"
   },
   {
    "duration": 6,
    "start_time": "2022-12-16T16:29:42.258Z"
   },
   {
    "duration": 13,
    "start_time": "2022-12-16T16:29:42.265Z"
   },
   {
    "duration": 10,
    "start_time": "2022-12-16T16:29:42.280Z"
   },
   {
    "duration": 572,
    "start_time": "2022-12-16T16:29:42.291Z"
   },
   {
    "duration": 164,
    "start_time": "2022-12-16T16:29:42.864Z"
   },
   {
    "duration": 12,
    "start_time": "2022-12-16T16:41:05.443Z"
   },
   {
    "duration": 257,
    "start_time": "2022-12-16T16:44:34.767Z"
   },
   {
    "duration": 327,
    "start_time": "2022-12-16T16:44:57.846Z"
   },
   {
    "duration": 324,
    "start_time": "2022-12-16T16:53:30.847Z"
   },
   {
    "duration": 310,
    "start_time": "2022-12-16T16:54:08.070Z"
   },
   {
    "duration": 288,
    "start_time": "2022-12-16T16:54:44.107Z"
   },
   {
    "duration": 248,
    "start_time": "2022-12-16T16:54:44.597Z"
   },
   {
    "duration": 243,
    "start_time": "2022-12-16T16:54:53.896Z"
   },
   {
    "duration": 251,
    "start_time": "2022-12-16T16:55:11.006Z"
   },
   {
    "duration": 283,
    "start_time": "2022-12-16T16:55:18.364Z"
   },
   {
    "duration": 271,
    "start_time": "2022-12-16T16:55:23.909Z"
   },
   {
    "duration": 262,
    "start_time": "2022-12-16T16:57:15.309Z"
   },
   {
    "duration": 265,
    "start_time": "2022-12-16T16:57:45.861Z"
   },
   {
    "duration": 296,
    "start_time": "2022-12-16T16:58:47.925Z"
   },
   {
    "duration": 286,
    "start_time": "2022-12-16T17:03:22.140Z"
   },
   {
    "duration": 288,
    "start_time": "2022-12-16T17:07:15.727Z"
   },
   {
    "duration": 263,
    "start_time": "2022-12-16T17:08:05.508Z"
   },
   {
    "duration": 231,
    "start_time": "2022-12-16T17:09:14.989Z"
   },
   {
    "duration": 175,
    "start_time": "2022-12-16T17:27:36.350Z"
   },
   {
    "duration": 10,
    "start_time": "2022-12-16T17:29:34.570Z"
   },
   {
    "duration": 9,
    "start_time": "2022-12-16T17:29:48.995Z"
   },
   {
    "duration": 474,
    "start_time": "2022-12-16T17:45:32.323Z"
   },
   {
    "duration": 38,
    "start_time": "2022-12-16T17:47:49.092Z"
   },
   {
    "duration": 407,
    "start_time": "2022-12-16T17:48:35.061Z"
   },
   {
    "duration": 460,
    "start_time": "2022-12-16T17:48:58.959Z"
   },
   {
    "duration": 439,
    "start_time": "2022-12-16T17:49:42.892Z"
   },
   {
    "duration": 406,
    "start_time": "2022-12-16T17:50:22.982Z"
   },
   {
    "duration": 2,
    "start_time": "2022-12-16T17:50:32.718Z"
   },
   {
    "duration": 1270,
    "start_time": "2022-12-16T17:58:03.604Z"
   },
   {
    "duration": 1158,
    "start_time": "2022-12-16T17:58:52.163Z"
   },
   {
    "duration": 113,
    "start_time": "2022-12-16T17:59:15.317Z"
   },
   {
    "duration": 12,
    "start_time": "2022-12-16T18:00:03.423Z"
   },
   {
    "duration": 107,
    "start_time": "2022-12-16T18:00:28.890Z"
   },
   {
    "duration": 1121,
    "start_time": "2022-12-16T18:00:42.224Z"
   },
   {
    "duration": 409,
    "start_time": "2022-12-16T18:01:21.119Z"
   },
   {
    "duration": 129,
    "start_time": "2022-12-16T18:01:58.613Z"
   },
   {
    "duration": 116,
    "start_time": "2022-12-16T18:01:59.119Z"
   },
   {
    "duration": 229,
    "start_time": "2022-12-16T18:02:47.341Z"
   },
   {
    "duration": 170,
    "start_time": "2022-12-16T18:04:02.592Z"
   },
   {
    "duration": 168,
    "start_time": "2022-12-16T18:05:43.163Z"
   },
   {
    "duration": 169,
    "start_time": "2022-12-16T18:06:41.568Z"
   },
   {
    "duration": 186,
    "start_time": "2022-12-16T18:09:56.427Z"
   },
   {
    "duration": 207,
    "start_time": "2022-12-16T18:10:54.612Z"
   },
   {
    "duration": 167,
    "start_time": "2022-12-16T18:22:57.919Z"
   },
   {
    "duration": 132,
    "start_time": "2022-12-16T18:23:12.138Z"
   },
   {
    "duration": 163,
    "start_time": "2022-12-16T18:23:39.725Z"
   },
   {
    "duration": 242,
    "start_time": "2022-12-16T18:27:29.339Z"
   },
   {
    "duration": 1114,
    "start_time": "2022-12-16T18:28:48.306Z"
   },
   {
    "duration": 214,
    "start_time": "2022-12-16T18:29:19.503Z"
   },
   {
    "duration": 318,
    "start_time": "2022-12-16T18:29:48.005Z"
   },
   {
    "duration": 10,
    "start_time": "2022-12-16T18:50:56.804Z"
   },
   {
    "duration": 7,
    "start_time": "2022-12-16T18:51:21.132Z"
   },
   {
    "duration": 114,
    "start_time": "2022-12-16T18:56:34.747Z"
   },
   {
    "duration": 122,
    "start_time": "2022-12-16T18:56:35.239Z"
   },
   {
    "duration": 5,
    "start_time": "2022-12-16T19:06:11.142Z"
   },
   {
    "duration": 1206,
    "start_time": "2022-12-17T17:31:25.832Z"
   },
   {
    "duration": 290,
    "start_time": "2022-12-17T17:31:27.040Z"
   },
   {
    "duration": 20,
    "start_time": "2022-12-17T17:31:27.331Z"
   },
   {
    "duration": 19,
    "start_time": "2022-12-17T17:31:27.353Z"
   },
   {
    "duration": 18,
    "start_time": "2022-12-17T17:31:27.373Z"
   },
   {
    "duration": 18,
    "start_time": "2022-12-17T17:31:27.393Z"
   },
   {
    "duration": 7,
    "start_time": "2022-12-17T17:31:27.413Z"
   },
   {
    "duration": 39,
    "start_time": "2022-12-17T17:31:27.421Z"
   },
   {
    "duration": 3,
    "start_time": "2022-12-17T17:31:27.462Z"
   },
   {
    "duration": 6,
    "start_time": "2022-12-17T17:31:27.467Z"
   },
   {
    "duration": 17,
    "start_time": "2022-12-17T17:31:27.474Z"
   },
   {
    "duration": 10,
    "start_time": "2022-12-17T17:31:27.492Z"
   },
   {
    "duration": 525,
    "start_time": "2022-12-17T17:31:27.504Z"
   },
   {
    "duration": 162,
    "start_time": "2022-12-17T17:31:28.030Z"
   },
   {
    "duration": 316,
    "start_time": "2022-12-17T17:31:28.194Z"
   },
   {
    "duration": 178,
    "start_time": "2022-12-17T17:31:28.512Z"
   },
   {
    "duration": 237,
    "start_time": "2022-12-17T17:31:28.692Z"
   },
   {
    "duration": 111,
    "start_time": "2022-12-17T17:31:28.931Z"
   },
   {
    "duration": 10,
    "start_time": "2022-12-17T17:31:29.044Z"
   },
   {
    "duration": 88,
    "start_time": "2022-12-17T17:38:16.806Z"
   },
   {
    "duration": 116,
    "start_time": "2022-12-17T17:38:29.331Z"
   },
   {
    "duration": 128,
    "start_time": "2022-12-17T17:44:48.661Z"
   },
   {
    "duration": 117,
    "start_time": "2022-12-17T17:45:11.083Z"
   },
   {
    "duration": 188,
    "start_time": "2022-12-17T17:46:24.604Z"
   },
   {
    "duration": 116,
    "start_time": "2022-12-17T17:46:25.099Z"
   },
   {
    "duration": 0,
    "start_time": "2022-12-17T17:47:47.617Z"
   },
   {
    "duration": 1073,
    "start_time": "2022-12-17T17:47:51.049Z"
   },
   {
    "duration": 154,
    "start_time": "2022-12-17T17:49:12.411Z"
   },
   {
    "duration": 117,
    "start_time": "2022-12-17T17:49:44.842Z"
   },
   {
    "duration": 4,
    "start_time": "2022-12-17T17:52:56.411Z"
   },
   {
    "duration": 6,
    "start_time": "2022-12-17T17:54:25.051Z"
   },
   {
    "duration": 12,
    "start_time": "2022-12-17T17:54:39.896Z"
   },
   {
    "duration": 5,
    "start_time": "2022-12-17T17:55:07.942Z"
   },
   {
    "duration": 7,
    "start_time": "2022-12-17T17:56:02.528Z"
   },
   {
    "duration": 5,
    "start_time": "2022-12-17T17:57:01.173Z"
   },
   {
    "duration": 7,
    "start_time": "2022-12-17T18:18:55.563Z"
   },
   {
    "duration": 9,
    "start_time": "2022-12-17T18:19:07.411Z"
   },
   {
    "duration": 290,
    "start_time": "2022-12-17T18:19:42.479Z"
   },
   {
    "duration": 233,
    "start_time": "2022-12-17T18:20:51.835Z"
   },
   {
    "duration": 12,
    "start_time": "2022-12-17T18:20:59.288Z"
   },
   {
    "duration": 1152,
    "start_time": "2022-12-17T18:23:53.525Z"
   },
   {
    "duration": 3,
    "start_time": "2022-12-17T18:24:13.309Z"
   },
   {
    "duration": 77,
    "start_time": "2022-12-17T18:24:13.316Z"
   },
   {
    "duration": 16,
    "start_time": "2022-12-17T18:24:13.394Z"
   },
   {
    "duration": 19,
    "start_time": "2022-12-17T18:24:13.412Z"
   },
   {
    "duration": 16,
    "start_time": "2022-12-17T18:24:13.433Z"
   },
   {
    "duration": 19,
    "start_time": "2022-12-17T18:24:13.451Z"
   },
   {
    "duration": 8,
    "start_time": "2022-12-17T18:24:13.471Z"
   },
   {
    "duration": 9,
    "start_time": "2022-12-17T18:24:13.481Z"
   },
   {
    "duration": 6,
    "start_time": "2022-12-17T18:24:13.491Z"
   },
   {
    "duration": 5,
    "start_time": "2022-12-17T18:24:13.498Z"
   },
   {
    "duration": 11,
    "start_time": "2022-12-17T18:24:13.505Z"
   },
   {
    "duration": 40,
    "start_time": "2022-12-17T18:24:13.518Z"
   },
   {
    "duration": 425,
    "start_time": "2022-12-17T18:24:13.560Z"
   },
   {
    "duration": 176,
    "start_time": "2022-12-17T18:24:13.987Z"
   },
   {
    "duration": 271,
    "start_time": "2022-12-17T18:24:14.166Z"
   },
   {
    "duration": 201,
    "start_time": "2022-12-17T18:24:14.438Z"
   },
   {
    "duration": 271,
    "start_time": "2022-12-17T18:24:14.641Z"
   },
   {
    "duration": 228,
    "start_time": "2022-12-17T18:24:14.914Z"
   },
   {
    "duration": 11,
    "start_time": "2022-12-17T18:24:15.144Z"
   },
   {
    "duration": 149,
    "start_time": "2022-12-17T18:24:15.157Z"
   },
   {
    "duration": 5,
    "start_time": "2022-12-17T18:24:15.308Z"
   },
   {
    "duration": 32,
    "start_time": "2022-12-17T18:24:15.314Z"
   },
   {
    "duration": 273,
    "start_time": "2022-12-17T18:25:42.720Z"
   },
   {
    "duration": 121,
    "start_time": "2022-12-17T18:27:09.047Z"
   },
   {
    "duration": 7,
    "start_time": "2022-12-17T18:29:44.515Z"
   },
   {
    "duration": 130,
    "start_time": "2022-12-17T18:30:57.570Z"
   },
   {
    "duration": 204,
    "start_time": "2022-12-17T18:31:13.169Z"
   },
   {
    "duration": 205,
    "start_time": "2022-12-17T18:31:44.187Z"
   },
   {
    "duration": 200,
    "start_time": "2022-12-17T18:31:56.960Z"
   },
   {
    "duration": 8,
    "start_time": "2022-12-17T18:32:10.702Z"
   },
   {
    "duration": 7,
    "start_time": "2022-12-17T18:32:15.343Z"
   },
   {
    "duration": 7,
    "start_time": "2022-12-17T18:32:15.840Z"
   },
   {
    "duration": 9,
    "start_time": "2022-12-17T18:32:16.601Z"
   },
   {
    "duration": 198,
    "start_time": "2022-12-17T18:32:40.205Z"
   },
   {
    "duration": 202,
    "start_time": "2022-12-17T18:32:41.500Z"
   },
   {
    "duration": 8,
    "start_time": "2022-12-17T18:32:53.651Z"
   },
   {
    "duration": 3,
    "start_time": "2022-12-17T18:33:01.483Z"
   },
   {
    "duration": 111,
    "start_time": "2022-12-17T18:33:01.490Z"
   },
   {
    "duration": 15,
    "start_time": "2022-12-17T18:33:01.603Z"
   },
   {
    "duration": 26,
    "start_time": "2022-12-17T18:33:01.620Z"
   },
   {
    "duration": 25,
    "start_time": "2022-12-17T18:33:01.648Z"
   },
   {
    "duration": 20,
    "start_time": "2022-12-17T18:33:01.676Z"
   },
   {
    "duration": 33,
    "start_time": "2022-12-17T18:33:01.698Z"
   },
   {
    "duration": 26,
    "start_time": "2022-12-17T18:33:01.733Z"
   },
   {
    "duration": 38,
    "start_time": "2022-12-17T18:33:01.760Z"
   },
   {
    "duration": 33,
    "start_time": "2022-12-17T18:33:01.800Z"
   },
   {
    "duration": 30,
    "start_time": "2022-12-17T18:33:01.835Z"
   },
   {
    "duration": 36,
    "start_time": "2022-12-17T18:33:01.867Z"
   },
   {
    "duration": 462,
    "start_time": "2022-12-17T18:33:01.905Z"
   },
   {
    "duration": 220,
    "start_time": "2022-12-17T18:33:02.369Z"
   },
   {
    "duration": 370,
    "start_time": "2022-12-17T18:33:02.591Z"
   },
   {
    "duration": 212,
    "start_time": "2022-12-17T18:33:02.963Z"
   },
   {
    "duration": 253,
    "start_time": "2022-12-17T18:33:03.177Z"
   },
   {
    "duration": 190,
    "start_time": "2022-12-17T18:33:03.432Z"
   },
   {
    "duration": 4,
    "start_time": "2022-12-17T18:33:03.623Z"
   },
   {
    "duration": 140,
    "start_time": "2022-12-17T18:33:03.628Z"
   },
   {
    "duration": 5,
    "start_time": "2022-12-17T18:33:03.770Z"
   },
   {
    "duration": 14,
    "start_time": "2022-12-17T18:33:03.777Z"
   },
   {
    "duration": 8,
    "start_time": "2022-12-17T18:33:26.883Z"
   },
   {
    "duration": 15,
    "start_time": "2022-12-17T18:35:18.694Z"
   },
   {
    "duration": 16,
    "start_time": "2022-12-17T18:35:49.831Z"
   },
   {
    "duration": 15,
    "start_time": "2022-12-17T18:36:26.053Z"
   },
   {
    "duration": 69,
    "start_time": "2022-12-17T18:37:03.216Z"
   },
   {
    "duration": 136,
    "start_time": "2022-12-17T18:42:30.026Z"
   },
   {
    "duration": 22,
    "start_time": "2022-12-17T18:44:11.168Z"
   },
   {
    "duration": 111,
    "start_time": "2022-12-17T18:45:06.460Z"
   },
   {
    "duration": 113,
    "start_time": "2022-12-17T18:45:21.010Z"
   },
   {
    "duration": 28,
    "start_time": "2022-12-17T18:59:45.947Z"
   },
   {
    "duration": 21,
    "start_time": "2022-12-17T19:07:31.964Z"
   },
   {
    "duration": 36,
    "start_time": "2022-12-17T19:07:53.700Z"
   },
   {
    "duration": 1136,
    "start_time": "2022-12-18T13:37:55.294Z"
   },
   {
    "duration": 297,
    "start_time": "2022-12-18T13:37:56.432Z"
   },
   {
    "duration": 18,
    "start_time": "2022-12-18T13:37:56.731Z"
   },
   {
    "duration": 19,
    "start_time": "2022-12-18T13:37:56.752Z"
   },
   {
    "duration": 16,
    "start_time": "2022-12-18T13:37:56.772Z"
   },
   {
    "duration": 19,
    "start_time": "2022-12-18T13:37:56.789Z"
   },
   {
    "duration": 7,
    "start_time": "2022-12-18T13:37:56.809Z"
   },
   {
    "duration": 39,
    "start_time": "2022-12-18T13:37:56.818Z"
   },
   {
    "duration": 3,
    "start_time": "2022-12-18T13:37:56.859Z"
   },
   {
    "duration": 9,
    "start_time": "2022-12-18T13:37:56.864Z"
   },
   {
    "duration": 14,
    "start_time": "2022-12-18T13:37:56.874Z"
   },
   {
    "duration": 12,
    "start_time": "2022-12-18T13:37:56.889Z"
   },
   {
    "duration": 535,
    "start_time": "2022-12-18T13:37:56.902Z"
   },
   {
    "duration": 160,
    "start_time": "2022-12-18T13:37:57.438Z"
   },
   {
    "duration": 339,
    "start_time": "2022-12-18T13:37:57.600Z"
   },
   {
    "duration": 190,
    "start_time": "2022-12-18T13:37:57.941Z"
   },
   {
    "duration": 297,
    "start_time": "2022-12-18T13:37:58.132Z"
   },
   {
    "duration": 125,
    "start_time": "2022-12-18T13:37:58.430Z"
   },
   {
    "duration": 4,
    "start_time": "2022-12-18T13:37:58.557Z"
   },
   {
    "duration": 144,
    "start_time": "2022-12-18T13:37:58.562Z"
   },
   {
    "duration": 5,
    "start_time": "2022-12-18T13:37:58.708Z"
   },
   {
    "duration": 43,
    "start_time": "2022-12-18T13:37:58.715Z"
   },
   {
    "duration": 98,
    "start_time": "2022-12-18T13:47:14.321Z"
   },
   {
    "duration": 14,
    "start_time": "2022-12-18T13:47:24.968Z"
   },
   {
    "duration": 1223,
    "start_time": "2022-12-18T16:12:56.702Z"
   },
   {
    "duration": 309,
    "start_time": "2022-12-18T16:12:57.927Z"
   },
   {
    "duration": 20,
    "start_time": "2022-12-18T16:12:58.238Z"
   },
   {
    "duration": 21,
    "start_time": "2022-12-18T16:12:58.260Z"
   },
   {
    "duration": 17,
    "start_time": "2022-12-18T16:12:58.669Z"
   },
   {
    "duration": 22,
    "start_time": "2022-12-18T16:12:58.688Z"
   },
   {
    "duration": 14,
    "start_time": "2022-12-18T16:12:58.737Z"
   },
   {
    "duration": 11,
    "start_time": "2022-12-18T16:12:58.753Z"
   },
   {
    "duration": 5,
    "start_time": "2022-12-18T16:12:58.766Z"
   },
   {
    "duration": 14,
    "start_time": "2022-12-18T16:12:58.772Z"
   },
   {
    "duration": 17,
    "start_time": "2022-12-18T16:12:58.789Z"
   },
   {
    "duration": 13,
    "start_time": "2022-12-18T16:12:58.822Z"
   },
   {
    "duration": 566,
    "start_time": "2022-12-18T16:12:58.836Z"
   },
   {
    "duration": 191,
    "start_time": "2022-12-18T16:12:59.404Z"
   },
   {
    "duration": 346,
    "start_time": "2022-12-18T16:12:59.597Z"
   },
   {
    "duration": 205,
    "start_time": "2022-12-18T16:12:59.945Z"
   },
   {
    "duration": 270,
    "start_time": "2022-12-18T16:13:00.152Z"
   },
   {
    "duration": 137,
    "start_time": "2022-12-18T16:13:00.424Z"
   },
   {
    "duration": 4,
    "start_time": "2022-12-18T16:13:00.562Z"
   },
   {
    "duration": 176,
    "start_time": "2022-12-18T16:13:00.569Z"
   },
   {
    "duration": 7,
    "start_time": "2022-12-18T16:13:00.746Z"
   },
   {
    "duration": 46,
    "start_time": "2022-12-18T16:13:00.754Z"
   },
   {
    "duration": 32,
    "start_time": "2022-12-18T16:13:00.802Z"
   },
   {
    "duration": 7,
    "start_time": "2022-12-18T16:13:00.836Z"
   },
   {
    "duration": 105,
    "start_time": "2022-12-18T16:51:00.111Z"
   },
   {
    "duration": 22,
    "start_time": "2022-12-18T16:51:25.059Z"
   },
   {
    "duration": 12,
    "start_time": "2022-12-18T16:52:36.397Z"
   },
   {
    "duration": 6,
    "start_time": "2022-12-18T16:56:51.733Z"
   },
   {
    "duration": 9,
    "start_time": "2022-12-18T16:57:13.644Z"
   },
   {
    "duration": 34,
    "start_time": "2022-12-18T16:57:28.294Z"
   },
   {
    "duration": 14,
    "start_time": "2022-12-18T16:57:38.039Z"
   },
   {
    "duration": 35,
    "start_time": "2022-12-18T16:58:48.538Z"
   },
   {
    "duration": 9,
    "start_time": "2022-12-18T16:59:55.789Z"
   },
   {
    "duration": 9,
    "start_time": "2022-12-18T16:59:55.960Z"
   },
   {
    "duration": 23,
    "start_time": "2022-12-18T17:00:03.796Z"
   },
   {
    "duration": 8,
    "start_time": "2022-12-18T17:13:44.660Z"
   },
   {
    "duration": 10,
    "start_time": "2022-12-18T17:13:47.304Z"
   },
   {
    "duration": 21,
    "start_time": "2022-12-18T17:13:50.862Z"
   },
   {
    "duration": 10,
    "start_time": "2022-12-18T17:34:42.401Z"
   },
   {
    "duration": 7,
    "start_time": "2022-12-18T17:34:45.282Z"
   },
   {
    "duration": 8,
    "start_time": "2022-12-18T17:34:45.759Z"
   },
   {
    "duration": 10,
    "start_time": "2022-12-18T17:35:03.246Z"
   },
   {
    "duration": 1279,
    "start_time": "2022-12-19T11:56:08.363Z"
   },
   {
    "duration": 283,
    "start_time": "2022-12-19T11:56:09.644Z"
   },
   {
    "duration": 20,
    "start_time": "2022-12-19T11:56:09.929Z"
   },
   {
    "duration": 47,
    "start_time": "2022-12-19T11:56:09.951Z"
   },
   {
    "duration": 42,
    "start_time": "2022-12-19T11:56:09.999Z"
   },
   {
    "duration": 61,
    "start_time": "2022-12-19T11:56:10.043Z"
   },
   {
    "duration": 21,
    "start_time": "2022-12-19T11:56:10.106Z"
   },
   {
    "duration": 22,
    "start_time": "2022-12-19T11:56:10.129Z"
   },
   {
    "duration": 21,
    "start_time": "2022-12-19T11:56:10.153Z"
   },
   {
    "duration": 20,
    "start_time": "2022-12-19T11:56:10.177Z"
   },
   {
    "duration": 20,
    "start_time": "2022-12-19T11:56:10.199Z"
   },
   {
    "duration": 13,
    "start_time": "2022-12-19T11:56:10.222Z"
   },
   {
    "duration": 542,
    "start_time": "2022-12-19T11:56:10.236Z"
   },
   {
    "duration": 185,
    "start_time": "2022-12-19T11:56:10.780Z"
   },
   {
    "duration": 306,
    "start_time": "2022-12-19T11:56:10.966Z"
   },
   {
    "duration": 197,
    "start_time": "2022-12-19T11:56:11.273Z"
   },
   {
    "duration": 284,
    "start_time": "2022-12-19T11:56:11.471Z"
   },
   {
    "duration": 165,
    "start_time": "2022-12-19T11:56:11.758Z"
   },
   {
    "duration": 6,
    "start_time": "2022-12-19T11:56:11.926Z"
   },
   {
    "duration": 181,
    "start_time": "2022-12-19T11:56:11.933Z"
   },
   {
    "duration": 9,
    "start_time": "2022-12-19T11:56:12.116Z"
   },
   {
    "duration": 73,
    "start_time": "2022-12-19T11:56:12.127Z"
   },
   {
    "duration": 35,
    "start_time": "2022-12-19T11:56:12.202Z"
   },
   {
    "duration": 46,
    "start_time": "2022-12-19T11:56:12.238Z"
   },
   {
    "duration": 68,
    "start_time": "2022-12-19T11:56:12.286Z"
   },
   {
    "duration": 40,
    "start_time": "2022-12-19T11:56:12.356Z"
   },
   {
    "duration": 30,
    "start_time": "2022-12-19T11:56:12.398Z"
   },
   {
    "duration": 54,
    "start_time": "2022-12-19T11:56:12.432Z"
   },
   {
    "duration": 76,
    "start_time": "2022-12-19T12:27:44.792Z"
   },
   {
    "duration": 1223,
    "start_time": "2022-12-19T12:28:23.401Z"
   },
   {
    "duration": 262,
    "start_time": "2022-12-19T12:28:24.626Z"
   },
   {
    "duration": 20,
    "start_time": "2022-12-19T12:28:24.890Z"
   },
   {
    "duration": 19,
    "start_time": "2022-12-19T12:28:24.912Z"
   },
   {
    "duration": 22,
    "start_time": "2022-12-19T12:28:24.932Z"
   },
   {
    "duration": 20,
    "start_time": "2022-12-19T12:28:24.955Z"
   },
   {
    "duration": 10,
    "start_time": "2022-12-19T12:28:24.976Z"
   },
   {
    "duration": 10,
    "start_time": "2022-12-19T12:28:24.987Z"
   },
   {
    "duration": 32,
    "start_time": "2022-12-19T12:28:24.998Z"
   },
   {
    "duration": 6,
    "start_time": "2022-12-19T12:28:25.033Z"
   },
   {
    "duration": 16,
    "start_time": "2022-12-19T12:28:25.041Z"
   },
   {
    "duration": 11,
    "start_time": "2022-12-19T12:28:25.058Z"
   },
   {
    "duration": 539,
    "start_time": "2022-12-19T12:28:25.070Z"
   },
   {
    "duration": 182,
    "start_time": "2022-12-19T12:28:25.611Z"
   },
   {
    "duration": 371,
    "start_time": "2022-12-19T12:28:25.795Z"
   },
   {
    "duration": 185,
    "start_time": "2022-12-19T12:28:26.168Z"
   },
   {
    "duration": 257,
    "start_time": "2022-12-19T12:28:26.355Z"
   },
   {
    "duration": 123,
    "start_time": "2022-12-19T12:28:26.614Z"
   },
   {
    "duration": 6,
    "start_time": "2022-12-19T12:28:26.739Z"
   },
   {
    "duration": 136,
    "start_time": "2022-12-19T12:28:26.746Z"
   },
   {
    "duration": 9,
    "start_time": "2022-12-19T12:28:26.883Z"
   },
   {
    "duration": 48,
    "start_time": "2022-12-19T12:28:26.893Z"
   },
   {
    "duration": 10,
    "start_time": "2022-12-19T12:28:26.942Z"
   },
   {
    "duration": 7,
    "start_time": "2022-12-19T12:28:26.953Z"
   },
   {
    "duration": 11,
    "start_time": "2022-12-19T12:28:26.962Z"
   },
   {
    "duration": 28,
    "start_time": "2022-12-19T12:28:26.975Z"
   },
   {
    "duration": 8,
    "start_time": "2022-12-19T12:28:27.026Z"
   },
   {
    "duration": 12,
    "start_time": "2022-12-19T12:28:27.036Z"
   },
   {
    "duration": 8,
    "start_time": "2022-12-19T12:29:20.625Z"
   },
   {
    "duration": 84,
    "start_time": "2022-12-19T13:02:11.997Z"
   },
   {
    "duration": 11,
    "start_time": "2022-12-19T13:02:54.094Z"
   },
   {
    "duration": 193,
    "start_time": "2022-12-19T13:03:28.640Z"
   },
   {
    "duration": 10,
    "start_time": "2022-12-19T13:04:37.101Z"
   },
   {
    "duration": 180,
    "start_time": "2022-12-19T13:04:57.641Z"
   },
   {
    "duration": 351,
    "start_time": "2022-12-19T13:25:26.744Z"
   },
   {
    "duration": 1148,
    "start_time": "2022-12-19T14:15:43.621Z"
   },
   {
    "duration": 257,
    "start_time": "2022-12-19T14:15:44.772Z"
   },
   {
    "duration": 26,
    "start_time": "2022-12-19T14:15:45.031Z"
   },
   {
    "duration": 34,
    "start_time": "2022-12-19T14:15:45.060Z"
   },
   {
    "duration": 46,
    "start_time": "2022-12-19T14:15:45.096Z"
   },
   {
    "duration": 22,
    "start_time": "2022-12-19T14:15:45.144Z"
   },
   {
    "duration": 12,
    "start_time": "2022-12-19T14:15:45.169Z"
   },
   {
    "duration": 11,
    "start_time": "2022-12-19T14:15:45.221Z"
   },
   {
    "duration": 4,
    "start_time": "2022-12-19T14:15:45.234Z"
   },
   {
    "duration": 4,
    "start_time": "2022-12-19T14:15:45.242Z"
   },
   {
    "duration": 20,
    "start_time": "2022-12-19T14:15:45.248Z"
   },
   {
    "duration": 54,
    "start_time": "2022-12-19T14:15:45.269Z"
   },
   {
    "duration": 607,
    "start_time": "2022-12-19T14:15:45.325Z"
   },
   {
    "duration": 196,
    "start_time": "2022-12-19T14:15:45.933Z"
   },
   {
    "duration": 302,
    "start_time": "2022-12-19T14:15:46.131Z"
   },
   {
    "duration": 282,
    "start_time": "2022-12-19T14:15:46.436Z"
   },
   {
    "duration": 315,
    "start_time": "2022-12-19T14:15:46.721Z"
   },
   {
    "duration": 135,
    "start_time": "2022-12-19T14:15:47.038Z"
   },
   {
    "duration": 6,
    "start_time": "2022-12-19T14:15:47.175Z"
   },
   {
    "duration": 214,
    "start_time": "2022-12-19T14:15:47.183Z"
   },
   {
    "duration": 25,
    "start_time": "2022-12-19T14:15:47.399Z"
   },
   {
    "duration": 59,
    "start_time": "2022-12-19T14:15:47.426Z"
   },
   {
    "duration": 13,
    "start_time": "2022-12-19T14:15:47.487Z"
   },
   {
    "duration": 25,
    "start_time": "2022-12-19T14:15:47.502Z"
   },
   {
    "duration": 54,
    "start_time": "2022-12-19T14:15:47.529Z"
   },
   {
    "duration": 32,
    "start_time": "2022-12-19T14:15:47.585Z"
   },
   {
    "duration": 11,
    "start_time": "2022-12-19T14:15:47.619Z"
   },
   {
    "duration": 34,
    "start_time": "2022-12-19T14:15:47.633Z"
   },
   {
    "duration": 1235,
    "start_time": "2022-12-20T13:07:32.785Z"
   },
   {
    "duration": 211,
    "start_time": "2022-12-20T13:07:34.022Z"
   },
   {
    "duration": 24,
    "start_time": "2022-12-20T13:07:34.235Z"
   },
   {
    "duration": 25,
    "start_time": "2022-12-20T13:07:34.261Z"
   },
   {
    "duration": 44,
    "start_time": "2022-12-20T13:07:34.289Z"
   },
   {
    "duration": 25,
    "start_time": "2022-12-20T13:07:34.335Z"
   },
   {
    "duration": 22,
    "start_time": "2022-12-20T13:07:34.362Z"
   },
   {
    "duration": 22,
    "start_time": "2022-12-20T13:07:34.385Z"
   },
   {
    "duration": 23,
    "start_time": "2022-12-20T13:07:34.409Z"
   },
   {
    "duration": 21,
    "start_time": "2022-12-20T13:07:34.434Z"
   },
   {
    "duration": 65,
    "start_time": "2022-12-20T13:07:34.458Z"
   },
   {
    "duration": 22,
    "start_time": "2022-12-20T13:07:34.525Z"
   },
   {
    "duration": 648,
    "start_time": "2022-12-20T13:07:34.549Z"
   },
   {
    "duration": 210,
    "start_time": "2022-12-20T13:07:35.201Z"
   },
   {
    "duration": 286,
    "start_time": "2022-12-20T13:07:35.413Z"
   },
   {
    "duration": 197,
    "start_time": "2022-12-20T13:07:35.701Z"
   },
   {
    "duration": 268,
    "start_time": "2022-12-20T13:07:35.899Z"
   },
   {
    "duration": 114,
    "start_time": "2022-12-20T13:07:36.176Z"
   },
   {
    "duration": 6,
    "start_time": "2022-12-20T13:07:36.292Z"
   },
   {
    "duration": 138,
    "start_time": "2022-12-20T13:07:36.300Z"
   },
   {
    "duration": 8,
    "start_time": "2022-12-20T13:07:36.440Z"
   },
   {
    "duration": 52,
    "start_time": "2022-12-20T13:07:36.449Z"
   },
   {
    "duration": 12,
    "start_time": "2022-12-20T13:07:36.502Z"
   },
   {
    "duration": 7,
    "start_time": "2022-12-20T13:07:36.516Z"
   },
   {
    "duration": 11,
    "start_time": "2022-12-20T13:07:36.524Z"
   },
   {
    "duration": 52,
    "start_time": "2022-12-20T13:07:36.536Z"
   },
   {
    "duration": 7,
    "start_time": "2022-12-20T13:07:36.590Z"
   },
   {
    "duration": 12,
    "start_time": "2022-12-20T13:07:36.598Z"
   },
   {
    "duration": 5,
    "start_time": "2022-12-20T13:11:43.876Z"
   },
   {
    "duration": 4,
    "start_time": "2022-12-20T13:11:58.586Z"
   },
   {
    "duration": 5,
    "start_time": "2022-12-20T13:12:27.276Z"
   },
   {
    "duration": 4,
    "start_time": "2022-12-20T13:12:39.069Z"
   },
   {
    "duration": 4,
    "start_time": "2022-12-20T13:12:45.476Z"
   },
   {
    "duration": 5,
    "start_time": "2022-12-20T13:12:58.923Z"
   },
   {
    "duration": 5,
    "start_time": "2022-12-20T13:14:28.979Z"
   },
   {
    "duration": 5,
    "start_time": "2022-12-20T13:14:57.677Z"
   },
   {
    "duration": 7,
    "start_time": "2022-12-20T13:15:34.980Z"
   },
   {
    "duration": 10,
    "start_time": "2022-12-20T13:21:33.293Z"
   },
   {
    "duration": 11,
    "start_time": "2022-12-20T13:22:12.813Z"
   },
   {
    "duration": 13,
    "start_time": "2022-12-20T13:22:30.602Z"
   },
   {
    "duration": 137,
    "start_time": "2022-12-20T13:25:41.076Z"
   },
   {
    "duration": 15,
    "start_time": "2022-12-20T13:25:57.263Z"
   },
   {
    "duration": 17,
    "start_time": "2022-12-20T13:26:29.090Z"
   },
   {
    "duration": 16,
    "start_time": "2022-12-20T13:28:27.393Z"
   },
   {
    "duration": 48,
    "start_time": "2022-12-20T14:45:18.099Z"
   },
   {
    "duration": 25,
    "start_time": "2022-12-20T14:45:43.535Z"
   },
   {
    "duration": 28,
    "start_time": "2022-12-20T14:46:08.784Z"
   },
   {
    "duration": 25,
    "start_time": "2022-12-20T14:46:26.239Z"
   },
   {
    "duration": 23,
    "start_time": "2022-12-20T14:47:27.836Z"
   },
   {
    "duration": 32,
    "start_time": "2022-12-20T14:48:29.602Z"
   },
   {
    "duration": 33,
    "start_time": "2022-12-20T14:50:33.058Z"
   },
   {
    "duration": 26,
    "start_time": "2022-12-20T14:53:25.454Z"
   },
   {
    "duration": 30,
    "start_time": "2022-12-20T14:53:50.039Z"
   },
   {
    "duration": 34,
    "start_time": "2022-12-20T14:54:12.804Z"
   },
   {
    "duration": 28,
    "start_time": "2022-12-20T14:55:59.097Z"
   },
   {
    "duration": 25,
    "start_time": "2022-12-20T14:57:26.915Z"
   },
   {
    "duration": 41,
    "start_time": "2022-12-20T14:59:38.073Z"
   },
   {
    "duration": 219,
    "start_time": "2022-12-20T15:01:24.485Z"
   },
   {
    "duration": 195,
    "start_time": "2022-12-20T15:01:53.693Z"
   },
   {
    "duration": 259,
    "start_time": "2022-12-20T15:02:16.122Z"
   },
   {
    "duration": 233,
    "start_time": "2022-12-20T15:03:29.982Z"
   },
   {
    "duration": 222,
    "start_time": "2022-12-20T15:04:29.381Z"
   },
   {
    "duration": 1273,
    "start_time": "2022-12-20T18:47:10.129Z"
   },
   {
    "duration": 279,
    "start_time": "2022-12-20T18:47:11.404Z"
   },
   {
    "duration": 22,
    "start_time": "2022-12-20T18:47:11.685Z"
   },
   {
    "duration": 21,
    "start_time": "2022-12-20T18:47:11.710Z"
   },
   {
    "duration": 23,
    "start_time": "2022-12-20T18:47:11.733Z"
   },
   {
    "duration": 30,
    "start_time": "2022-12-20T18:47:11.758Z"
   },
   {
    "duration": 16,
    "start_time": "2022-12-20T18:47:11.791Z"
   },
   {
    "duration": 33,
    "start_time": "2022-12-20T18:47:11.809Z"
   },
   {
    "duration": 5,
    "start_time": "2022-12-20T18:47:11.844Z"
   },
   {
    "duration": 6,
    "start_time": "2022-12-20T18:47:11.853Z"
   },
   {
    "duration": 353,
    "start_time": "2022-12-20T18:47:11.861Z"
   },
   {
    "duration": 26,
    "start_time": "2022-12-20T18:47:12.216Z"
   },
   {
    "duration": 13,
    "start_time": "2022-12-20T18:47:12.244Z"
   },
   {
    "duration": 503,
    "start_time": "2022-12-20T18:47:12.259Z"
   },
   {
    "duration": 212,
    "start_time": "2022-12-20T18:47:12.764Z"
   },
   {
    "duration": 364,
    "start_time": "2022-12-20T18:47:12.978Z"
   },
   {
    "duration": 195,
    "start_time": "2022-12-20T18:47:13.344Z"
   },
   {
    "duration": 285,
    "start_time": "2022-12-20T18:47:13.542Z"
   },
   {
    "duration": 146,
    "start_time": "2022-12-20T18:47:13.829Z"
   },
   {
    "duration": 6,
    "start_time": "2022-12-20T18:47:13.976Z"
   },
   {
    "duration": 145,
    "start_time": "2022-12-20T18:47:13.983Z"
   },
   {
    "duration": 14,
    "start_time": "2022-12-20T18:47:14.129Z"
   },
   {
    "duration": 133,
    "start_time": "2022-12-20T18:47:14.145Z"
   },
   {
    "duration": 14,
    "start_time": "2022-12-20T18:47:14.279Z"
   },
   {
    "duration": 8,
    "start_time": "2022-12-20T18:47:14.295Z"
   },
   {
    "duration": 32,
    "start_time": "2022-12-20T18:47:14.305Z"
   },
   {
    "duration": 33,
    "start_time": "2022-12-20T18:47:14.339Z"
   },
   {
    "duration": 8,
    "start_time": "2022-12-20T18:47:14.374Z"
   },
   {
    "duration": 13,
    "start_time": "2022-12-20T18:47:14.383Z"
   },
   {
    "duration": 103,
    "start_time": "2022-12-20T18:49:02.270Z"
   },
   {
    "duration": 14,
    "start_time": "2022-12-20T18:51:57.453Z"
   },
   {
    "duration": 14,
    "start_time": "2022-12-20T18:52:11.925Z"
   },
   {
    "duration": 17,
    "start_time": "2022-12-20T18:52:27.748Z"
   },
   {
    "duration": 12,
    "start_time": "2022-12-20T18:53:49.755Z"
   },
   {
    "duration": 1179,
    "start_time": "2022-12-21T17:20:48.901Z"
   },
   {
    "duration": 288,
    "start_time": "2022-12-21T17:20:50.082Z"
   },
   {
    "duration": 22,
    "start_time": "2022-12-21T17:20:50.372Z"
   },
   {
    "duration": 19,
    "start_time": "2022-12-21T17:20:50.395Z"
   },
   {
    "duration": 16,
    "start_time": "2022-12-21T17:20:50.415Z"
   },
   {
    "duration": 22,
    "start_time": "2022-12-21T17:20:50.433Z"
   },
   {
    "duration": 9,
    "start_time": "2022-12-21T17:20:50.457Z"
   },
   {
    "duration": 8,
    "start_time": "2022-12-21T17:20:50.468Z"
   },
   {
    "duration": 4,
    "start_time": "2022-12-21T17:20:50.514Z"
   },
   {
    "duration": 4,
    "start_time": "2022-12-21T17:20:50.521Z"
   },
   {
    "duration": 284,
    "start_time": "2022-12-21T17:20:50.526Z"
   },
   {
    "duration": 13,
    "start_time": "2022-12-21T17:20:50.812Z"
   },
   {
    "duration": 9,
    "start_time": "2022-12-21T17:20:50.826Z"
   },
   {
    "duration": 425,
    "start_time": "2022-12-21T17:20:50.837Z"
   },
   {
    "duration": 156,
    "start_time": "2022-12-21T17:20:51.264Z"
   },
   {
    "duration": 294,
    "start_time": "2022-12-21T17:20:51.422Z"
   },
   {
    "duration": 167,
    "start_time": "2022-12-21T17:20:51.718Z"
   },
   {
    "duration": 273,
    "start_time": "2022-12-21T17:20:51.887Z"
   },
   {
    "duration": 113,
    "start_time": "2022-12-21T17:20:52.162Z"
   },
   {
    "duration": 5,
    "start_time": "2022-12-21T17:20:52.277Z"
   },
   {
    "duration": 136,
    "start_time": "2022-12-21T17:20:52.283Z"
   },
   {
    "duration": 7,
    "start_time": "2022-12-21T17:20:52.421Z"
   },
   {
    "duration": 113,
    "start_time": "2022-12-21T17:20:52.430Z"
   },
   {
    "duration": 12,
    "start_time": "2022-12-21T17:20:52.544Z"
   },
   {
    "duration": 14,
    "start_time": "2022-12-21T17:20:52.557Z"
   },
   {
    "duration": 27,
    "start_time": "2022-12-21T17:20:52.572Z"
   },
   {
    "duration": 37,
    "start_time": "2022-12-21T17:20:52.600Z"
   },
   {
    "duration": 7,
    "start_time": "2022-12-21T17:20:52.639Z"
   },
   {
    "duration": 14,
    "start_time": "2022-12-21T17:20:52.647Z"
   },
   {
    "duration": 426,
    "start_time": "2022-12-21T17:27:53.088Z"
   },
   {
    "duration": 472,
    "start_time": "2022-12-21T17:28:13.984Z"
   },
   {
    "duration": 406,
    "start_time": "2022-12-21T17:30:46.429Z"
   },
   {
    "duration": 453,
    "start_time": "2022-12-21T17:32:19.511Z"
   },
   {
    "duration": 457,
    "start_time": "2022-12-21T17:32:44.228Z"
   },
   {
    "duration": 403,
    "start_time": "2022-12-21T17:32:56.788Z"
   },
   {
    "duration": 400,
    "start_time": "2022-12-21T17:33:35.921Z"
   },
   {
    "duration": 395,
    "start_time": "2022-12-21T17:34:32.113Z"
   },
   {
    "duration": 386,
    "start_time": "2022-12-21T17:34:44.083Z"
   },
   {
    "duration": 404,
    "start_time": "2022-12-21T17:36:18.314Z"
   },
   {
    "duration": 492,
    "start_time": "2022-12-21T17:46:41.192Z"
   },
   {
    "duration": 399,
    "start_time": "2022-12-21T17:47:14.122Z"
   },
   {
    "duration": 404,
    "start_time": "2022-12-21T17:47:23.470Z"
   },
   {
    "duration": 504,
    "start_time": "2022-12-21T17:47:30.543Z"
   },
   {
    "duration": 393,
    "start_time": "2022-12-21T17:47:42.408Z"
   },
   {
    "duration": 407,
    "start_time": "2022-12-21T17:47:52.793Z"
   },
   {
    "duration": 390,
    "start_time": "2022-12-21T17:48:11.434Z"
   },
   {
    "duration": 381,
    "start_time": "2022-12-21T17:51:08.145Z"
   },
   {
    "duration": 409,
    "start_time": "2022-12-21T18:00:01.948Z"
   },
   {
    "duration": 305,
    "start_time": "2022-12-21T18:00:49.884Z"
   },
   {
    "duration": 293,
    "start_time": "2022-12-21T18:01:40.876Z"
   },
   {
    "duration": 405,
    "start_time": "2022-12-21T18:02:28.448Z"
   },
   {
    "duration": 486,
    "start_time": "2022-12-21T18:03:31.244Z"
   },
   {
    "duration": 433,
    "start_time": "2022-12-21T18:03:48.586Z"
   },
   {
    "duration": 401,
    "start_time": "2022-12-21T18:05:42.502Z"
   },
   {
    "duration": 74,
    "start_time": "2022-12-21T18:17:23.125Z"
   },
   {
    "duration": 265,
    "start_time": "2022-12-21T18:17:44.706Z"
   },
   {
    "duration": 261,
    "start_time": "2022-12-21T18:18:06.350Z"
   },
   {
    "duration": 280,
    "start_time": "2022-12-21T18:18:24.882Z"
   },
   {
    "duration": 257,
    "start_time": "2022-12-21T18:18:35.354Z"
   },
   {
    "duration": 404,
    "start_time": "2022-12-21T18:19:36.599Z"
   },
   {
    "duration": 399,
    "start_time": "2022-12-21T18:20:01.039Z"
   },
   {
    "duration": 411,
    "start_time": "2022-12-21T18:20:19.206Z"
   },
   {
    "duration": 414,
    "start_time": "2022-12-21T18:20:44.416Z"
   },
   {
    "duration": 423,
    "start_time": "2022-12-21T18:21:04.502Z"
   },
   {
    "duration": 392,
    "start_time": "2022-12-21T18:21:09.052Z"
   },
   {
    "duration": 425,
    "start_time": "2022-12-21T18:21:14.551Z"
   },
   {
    "duration": 485,
    "start_time": "2022-12-21T18:21:21.602Z"
   },
   {
    "duration": 404,
    "start_time": "2022-12-21T18:21:31.515Z"
   },
   {
    "duration": 61,
    "start_time": "2022-12-21T18:38:19.956Z"
   },
   {
    "duration": 1217,
    "start_time": "2022-12-21T18:38:43.102Z"
   },
   {
    "duration": 253,
    "start_time": "2022-12-21T18:38:44.321Z"
   },
   {
    "duration": 20,
    "start_time": "2022-12-21T18:38:44.575Z"
   },
   {
    "duration": 19,
    "start_time": "2022-12-21T18:38:44.598Z"
   },
   {
    "duration": 23,
    "start_time": "2022-12-21T18:38:44.619Z"
   },
   {
    "duration": 20,
    "start_time": "2022-12-21T18:38:44.644Z"
   },
   {
    "duration": 9,
    "start_time": "2022-12-21T18:38:44.666Z"
   },
   {
    "duration": 36,
    "start_time": "2022-12-21T18:38:44.677Z"
   },
   {
    "duration": 4,
    "start_time": "2022-12-21T18:38:44.714Z"
   },
   {
    "duration": 7,
    "start_time": "2022-12-21T18:38:44.720Z"
   },
   {
    "duration": 355,
    "start_time": "2022-12-21T18:38:44.729Z"
   },
   {
    "duration": 13,
    "start_time": "2022-12-21T18:38:45.087Z"
   },
   {
    "duration": 18,
    "start_time": "2022-12-21T18:38:45.101Z"
   },
   {
    "duration": 463,
    "start_time": "2022-12-21T18:38:45.121Z"
   },
   {
    "duration": 190,
    "start_time": "2022-12-21T18:38:45.586Z"
   },
   {
    "duration": 344,
    "start_time": "2022-12-21T18:38:45.778Z"
   },
   {
    "duration": 194,
    "start_time": "2022-12-21T18:38:46.123Z"
   },
   {
    "duration": 316,
    "start_time": "2022-12-21T18:38:46.319Z"
   },
   {
    "duration": 132,
    "start_time": "2022-12-21T18:38:46.636Z"
   },
   {
    "duration": 7,
    "start_time": "2022-12-21T18:38:46.770Z"
   },
   {
    "duration": 195,
    "start_time": "2022-12-21T18:38:46.779Z"
   },
   {
    "duration": 9,
    "start_time": "2022-12-21T18:38:46.976Z"
   },
   {
    "duration": 138,
    "start_time": "2022-12-21T18:38:46.987Z"
   },
   {
    "duration": 17,
    "start_time": "2022-12-21T18:38:47.127Z"
   },
   {
    "duration": 12,
    "start_time": "2022-12-21T18:38:47.146Z"
   },
   {
    "duration": 19,
    "start_time": "2022-12-21T18:38:47.160Z"
   },
   {
    "duration": 34,
    "start_time": "2022-12-21T18:38:47.181Z"
   },
   {
    "duration": 7,
    "start_time": "2022-12-21T18:38:47.218Z"
   },
   {
    "duration": 11,
    "start_time": "2022-12-21T18:38:47.226Z"
   },
   {
    "duration": 465,
    "start_time": "2022-12-21T18:39:18.843Z"
   },
   {
    "duration": 459,
    "start_time": "2022-12-21T18:39:58.657Z"
   },
   {
    "duration": 471,
    "start_time": "2022-12-21T18:41:22.674Z"
   },
   {
    "duration": 466,
    "start_time": "2022-12-21T18:42:52.746Z"
   },
   {
    "duration": 491,
    "start_time": "2022-12-21T18:43:09.958Z"
   },
   {
    "duration": 439,
    "start_time": "2022-12-21T18:43:45.493Z"
   },
   {
    "duration": 592,
    "start_time": "2022-12-21T18:45:26.103Z"
   },
   {
    "duration": 488,
    "start_time": "2022-12-21T18:45:34.416Z"
   },
   {
    "duration": 444,
    "start_time": "2022-12-21T18:47:54.379Z"
   },
   {
    "duration": 1009,
    "start_time": "2022-12-21T18:49:10.218Z"
   },
   {
    "duration": 112,
    "start_time": "2022-12-21T18:49:11.229Z"
   },
   {
    "duration": 20,
    "start_time": "2022-12-21T18:49:11.343Z"
   },
   {
    "duration": 19,
    "start_time": "2022-12-21T18:49:11.365Z"
   },
   {
    "duration": 16,
    "start_time": "2022-12-21T18:49:11.385Z"
   },
   {
    "duration": 21,
    "start_time": "2022-12-21T18:49:11.402Z"
   },
   {
    "duration": 8,
    "start_time": "2022-12-21T18:49:11.425Z"
   },
   {
    "duration": 8,
    "start_time": "2022-12-21T18:49:11.435Z"
   },
   {
    "duration": 3,
    "start_time": "2022-12-21T18:49:11.445Z"
   },
   {
    "duration": 5,
    "start_time": "2022-12-21T18:49:11.451Z"
   },
   {
    "duration": 334,
    "start_time": "2022-12-21T18:49:11.457Z"
   },
   {
    "duration": 20,
    "start_time": "2022-12-21T18:49:11.793Z"
   },
   {
    "duration": 12,
    "start_time": "2022-12-21T18:49:11.815Z"
   },
   {
    "duration": 491,
    "start_time": "2022-12-21T18:49:11.829Z"
   },
   {
    "duration": 190,
    "start_time": "2022-12-21T18:49:12.322Z"
   },
   {
    "duration": 269,
    "start_time": "2022-12-21T18:49:12.514Z"
   },
   {
    "duration": 189,
    "start_time": "2022-12-21T18:49:12.785Z"
   },
   {
    "duration": 290,
    "start_time": "2022-12-21T18:49:12.976Z"
   },
   {
    "duration": 118,
    "start_time": "2022-12-21T18:49:13.268Z"
   },
   {
    "duration": 5,
    "start_time": "2022-12-21T18:49:13.387Z"
   },
   {
    "duration": 153,
    "start_time": "2022-12-21T18:49:13.393Z"
   },
   {
    "duration": 9,
    "start_time": "2022-12-21T18:49:13.547Z"
   },
   {
    "duration": 112,
    "start_time": "2022-12-21T18:49:13.557Z"
   },
   {
    "duration": 16,
    "start_time": "2022-12-21T18:49:13.670Z"
   },
   {
    "duration": 28,
    "start_time": "2022-12-21T18:49:13.688Z"
   },
   {
    "duration": 34,
    "start_time": "2022-12-21T18:49:13.717Z"
   },
   {
    "duration": 26,
    "start_time": "2022-12-21T18:49:13.753Z"
   },
   {
    "duration": 9,
    "start_time": "2022-12-21T18:49:13.781Z"
   },
   {
    "duration": 25,
    "start_time": "2022-12-21T18:49:13.792Z"
   },
   {
    "duration": 468,
    "start_time": "2022-12-21T18:51:55.592Z"
   },
   {
    "duration": 1149,
    "start_time": "2022-12-21T18:52:42.214Z"
   },
   {
    "duration": 131,
    "start_time": "2022-12-21T18:52:43.365Z"
   },
   {
    "duration": 21,
    "start_time": "2022-12-21T18:52:43.498Z"
   },
   {
    "duration": 19,
    "start_time": "2022-12-21T18:52:43.523Z"
   },
   {
    "duration": 22,
    "start_time": "2022-12-21T18:52:43.544Z"
   },
   {
    "duration": 45,
    "start_time": "2022-12-21T18:52:43.568Z"
   },
   {
    "duration": 9,
    "start_time": "2022-12-21T18:52:43.614Z"
   },
   {
    "duration": 9,
    "start_time": "2022-12-21T18:52:43.625Z"
   },
   {
    "duration": 5,
    "start_time": "2022-12-21T18:52:43.636Z"
   },
   {
    "duration": 7,
    "start_time": "2022-12-21T18:52:43.645Z"
   },
   {
    "duration": 347,
    "start_time": "2022-12-21T18:52:43.654Z"
   },
   {
    "duration": 20,
    "start_time": "2022-12-21T18:52:44.003Z"
   },
   {
    "duration": 11,
    "start_time": "2022-12-21T18:52:44.025Z"
   },
   {
    "duration": 544,
    "start_time": "2022-12-21T18:52:44.038Z"
   },
   {
    "duration": 203,
    "start_time": "2022-12-21T18:52:44.585Z"
   },
   {
    "duration": 331,
    "start_time": "2022-12-21T18:52:44.790Z"
   },
   {
    "duration": 214,
    "start_time": "2022-12-21T18:52:45.124Z"
   },
   {
    "duration": 285,
    "start_time": "2022-12-21T18:52:45.340Z"
   },
   {
    "duration": 123,
    "start_time": "2022-12-21T18:52:45.627Z"
   },
   {
    "duration": 6,
    "start_time": "2022-12-21T18:52:45.752Z"
   },
   {
    "duration": 144,
    "start_time": "2022-12-21T18:52:45.760Z"
   },
   {
    "duration": 16,
    "start_time": "2022-12-21T18:52:45.905Z"
   },
   {
    "duration": 138,
    "start_time": "2022-12-21T18:52:45.923Z"
   },
   {
    "duration": 14,
    "start_time": "2022-12-21T18:52:46.063Z"
   },
   {
    "duration": 8,
    "start_time": "2022-12-21T18:52:46.079Z"
   },
   {
    "duration": 9,
    "start_time": "2022-12-21T18:52:46.111Z"
   },
   {
    "duration": 25,
    "start_time": "2022-12-21T18:52:46.122Z"
   },
   {
    "duration": 6,
    "start_time": "2022-12-21T18:52:46.150Z"
   },
   {
    "duration": 16,
    "start_time": "2022-12-21T18:52:46.158Z"
   },
   {
    "duration": 483,
    "start_time": "2022-12-21T18:55:48.515Z"
   },
   {
    "duration": 547,
    "start_time": "2022-12-21T18:56:06.050Z"
   },
   {
    "duration": 274,
    "start_time": "2022-12-21T18:59:31.896Z"
   },
   {
    "duration": 142,
    "start_time": "2022-12-21T19:00:49.650Z"
   },
   {
    "duration": 309,
    "start_time": "2022-12-21T19:08:54.190Z"
   },
   {
    "duration": 187,
    "start_time": "2022-12-21T19:09:18.462Z"
   },
   {
    "duration": 151,
    "start_time": "2022-12-21T19:10:17.061Z"
   },
   {
    "duration": 269,
    "start_time": "2022-12-21T19:12:54.419Z"
   },
   {
    "duration": 270,
    "start_time": "2022-12-21T19:14:20.595Z"
   },
   {
    "duration": 292,
    "start_time": "2022-12-21T19:18:13.403Z"
   },
   {
    "duration": 326,
    "start_time": "2022-12-21T19:20:18.377Z"
   },
   {
    "duration": 253,
    "start_time": "2022-12-21T19:23:11.833Z"
   },
   {
    "duration": 327,
    "start_time": "2022-12-21T19:24:44.201Z"
   },
   {
    "duration": 122,
    "start_time": "2022-12-21T19:25:08.993Z"
   },
   {
    "duration": 154,
    "start_time": "2022-12-21T19:28:23.793Z"
   },
   {
    "duration": 303,
    "start_time": "2022-12-21T19:32:42.601Z"
   },
   {
    "duration": 50,
    "start_time": "2022-12-21T19:37:39.247Z"
   },
   {
    "duration": 19,
    "start_time": "2022-12-21T19:38:25.592Z"
   },
   {
    "duration": 59,
    "start_time": "2022-12-21T19:38:49.048Z"
   },
   {
    "duration": 14,
    "start_time": "2022-12-21T19:48:19.474Z"
   },
   {
    "duration": 1187,
    "start_time": "2022-12-22T11:23:58.196Z"
   },
   {
    "duration": 238,
    "start_time": "2022-12-22T11:23:59.386Z"
   },
   {
    "duration": 24,
    "start_time": "2022-12-22T11:23:59.626Z"
   },
   {
    "duration": 22,
    "start_time": "2022-12-22T11:23:59.652Z"
   },
   {
    "duration": 22,
    "start_time": "2022-12-22T11:23:59.675Z"
   },
   {
    "duration": 23,
    "start_time": "2022-12-22T11:23:59.699Z"
   },
   {
    "duration": 10,
    "start_time": "2022-12-22T11:23:59.723Z"
   },
   {
    "duration": 8,
    "start_time": "2022-12-22T11:23:59.735Z"
   },
   {
    "duration": 4,
    "start_time": "2022-12-22T11:23:59.744Z"
   },
   {
    "duration": 6,
    "start_time": "2022-12-22T11:23:59.751Z"
   },
   {
    "duration": 399,
    "start_time": "2022-12-22T11:23:59.759Z"
   },
   {
    "duration": 16,
    "start_time": "2022-12-22T11:24:00.160Z"
   },
   {
    "duration": 29,
    "start_time": "2022-12-22T11:24:00.178Z"
   },
   {
    "duration": 467,
    "start_time": "2022-12-22T11:24:00.209Z"
   },
   {
    "duration": 196,
    "start_time": "2022-12-22T11:24:00.677Z"
   },
   {
    "duration": 331,
    "start_time": "2022-12-22T11:24:00.875Z"
   },
   {
    "duration": 226,
    "start_time": "2022-12-22T11:24:01.208Z"
   },
   {
    "duration": 266,
    "start_time": "2022-12-22T11:24:01.436Z"
   },
   {
    "duration": 141,
    "start_time": "2022-12-22T11:24:01.704Z"
   },
   {
    "duration": 5,
    "start_time": "2022-12-22T11:24:01.847Z"
   },
   {
    "duration": 400,
    "start_time": "2022-12-22T11:24:01.853Z"
   },
   {
    "duration": 51,
    "start_time": "2022-12-22T11:24:02.254Z"
   },
   {
    "duration": 0,
    "start_time": "2022-12-22T11:24:02.307Z"
   },
   {
    "duration": 0,
    "start_time": "2022-12-22T11:24:02.308Z"
   },
   {
    "duration": 0,
    "start_time": "2022-12-22T11:24:02.310Z"
   },
   {
    "duration": 0,
    "start_time": "2022-12-22T11:24:02.311Z"
   },
   {
    "duration": 0,
    "start_time": "2022-12-22T11:24:02.312Z"
   },
   {
    "duration": 0,
    "start_time": "2022-12-22T11:24:02.313Z"
   },
   {
    "duration": 0,
    "start_time": "2022-12-22T11:24:02.314Z"
   },
   {
    "duration": 0,
    "start_time": "2022-12-22T11:24:02.315Z"
   },
   {
    "duration": 91,
    "start_time": "2022-12-22T11:25:44.908Z"
   },
   {
    "duration": 12,
    "start_time": "2022-12-22T11:26:36.190Z"
   },
   {
    "duration": 60,
    "start_time": "2022-12-22T11:28:13.108Z"
   },
   {
    "duration": 15,
    "start_time": "2022-12-22T11:28:20.592Z"
   },
   {
    "duration": 7,
    "start_time": "2022-12-22T11:28:24.147Z"
   },
   {
    "duration": 9,
    "start_time": "2022-12-22T11:28:28.016Z"
   },
   {
    "duration": 28,
    "start_time": "2022-12-22T11:28:31.336Z"
   },
   {
    "duration": 11,
    "start_time": "2022-12-22T11:42:39.437Z"
   },
   {
    "duration": 20,
    "start_time": "2022-12-22T11:42:48.907Z"
   },
   {
    "duration": 62,
    "start_time": "2022-12-22T11:43:21.507Z"
   },
   {
    "duration": 21,
    "start_time": "2022-12-22T11:44:53.143Z"
   },
   {
    "duration": 16,
    "start_time": "2022-12-22T11:45:16.491Z"
   },
   {
    "duration": 17,
    "start_time": "2022-12-22T11:45:35.272Z"
   },
   {
    "duration": 7,
    "start_time": "2022-12-22T11:45:55.883Z"
   },
   {
    "duration": 3,
    "start_time": "2022-12-22T12:10:03.014Z"
   },
   {
    "duration": 100,
    "start_time": "2022-12-22T12:10:03.020Z"
   },
   {
    "duration": 16,
    "start_time": "2022-12-22T12:10:03.122Z"
   },
   {
    "duration": 44,
    "start_time": "2022-12-22T12:10:03.140Z"
   },
   {
    "duration": 24,
    "start_time": "2022-12-22T12:10:03.187Z"
   },
   {
    "duration": 37,
    "start_time": "2022-12-22T12:10:03.213Z"
   },
   {
    "duration": 14,
    "start_time": "2022-12-22T12:10:03.253Z"
   },
   {
    "duration": 11,
    "start_time": "2022-12-22T12:10:03.271Z"
   },
   {
    "duration": 31,
    "start_time": "2022-12-22T12:10:03.285Z"
   },
   {
    "duration": 23,
    "start_time": "2022-12-22T12:10:03.318Z"
   },
   {
    "duration": 281,
    "start_time": "2022-12-22T12:10:03.343Z"
   },
   {
    "duration": 13,
    "start_time": "2022-12-22T12:10:03.626Z"
   },
   {
    "duration": 45,
    "start_time": "2022-12-22T12:10:03.641Z"
   },
   {
    "duration": 507,
    "start_time": "2022-12-22T12:10:03.690Z"
   },
   {
    "duration": 200,
    "start_time": "2022-12-22T12:10:04.200Z"
   },
   {
    "duration": 381,
    "start_time": "2022-12-22T12:10:04.404Z"
   },
   {
    "duration": 276,
    "start_time": "2022-12-22T12:10:04.787Z"
   },
   {
    "duration": 371,
    "start_time": "2022-12-22T12:10:05.065Z"
   },
   {
    "duration": 161,
    "start_time": "2022-12-22T12:10:05.438Z"
   },
   {
    "duration": 8,
    "start_time": "2022-12-22T12:10:05.601Z"
   },
   {
    "duration": 397,
    "start_time": "2022-12-22T12:10:05.611Z"
   },
   {
    "duration": 9,
    "start_time": "2022-12-22T12:10:06.010Z"
   },
   {
    "duration": 87,
    "start_time": "2022-12-22T12:10:06.021Z"
   },
   {
    "duration": 32,
    "start_time": "2022-12-22T12:10:06.110Z"
   },
   {
    "duration": 39,
    "start_time": "2022-12-22T12:10:06.144Z"
   },
   {
    "duration": 52,
    "start_time": "2022-12-22T12:10:06.186Z"
   },
   {
    "duration": 61,
    "start_time": "2022-12-22T12:10:06.241Z"
   },
   {
    "duration": 7,
    "start_time": "2022-12-22T12:10:06.303Z"
   },
   {
    "duration": 29,
    "start_time": "2022-12-22T12:10:06.312Z"
   },
   {
    "duration": 47,
    "start_time": "2022-12-22T12:10:06.343Z"
   },
   {
    "duration": 4,
    "start_time": "2022-12-22T12:10:52.584Z"
   },
   {
    "duration": 91,
    "start_time": "2022-12-22T12:10:52.591Z"
   },
   {
    "duration": 19,
    "start_time": "2022-12-22T12:10:52.685Z"
   },
   {
    "duration": 25,
    "start_time": "2022-12-22T12:10:52.706Z"
   },
   {
    "duration": 20,
    "start_time": "2022-12-22T12:10:52.732Z"
   },
   {
    "duration": 53,
    "start_time": "2022-12-22T12:10:52.754Z"
   },
   {
    "duration": 11,
    "start_time": "2022-12-22T12:10:52.809Z"
   },
   {
    "duration": 19,
    "start_time": "2022-12-22T12:10:52.821Z"
   },
   {
    "duration": 10,
    "start_time": "2022-12-22T12:10:52.842Z"
   },
   {
    "duration": 8,
    "start_time": "2022-12-22T12:10:52.855Z"
   },
   {
    "duration": 337,
    "start_time": "2022-12-22T12:10:52.865Z"
   },
   {
    "duration": 18,
    "start_time": "2022-12-22T12:10:53.206Z"
   },
   {
    "duration": 19,
    "start_time": "2022-12-22T12:10:53.226Z"
   },
   {
    "duration": 907,
    "start_time": "2022-12-22T12:10:53.247Z"
   },
   {
    "duration": 351,
    "start_time": "2022-12-22T12:10:54.156Z"
   },
   {
    "duration": 398,
    "start_time": "2022-12-22T12:10:54.510Z"
   },
   {
    "duration": 291,
    "start_time": "2022-12-22T12:10:54.912Z"
   },
   {
    "duration": 389,
    "start_time": "2022-12-22T12:10:55.206Z"
   },
   {
    "duration": 198,
    "start_time": "2022-12-22T12:10:55.600Z"
   },
   {
    "duration": 6,
    "start_time": "2022-12-22T12:10:55.800Z"
   },
   {
    "duration": 452,
    "start_time": "2022-12-22T12:10:55.808Z"
   },
   {
    "duration": 9,
    "start_time": "2022-12-22T12:10:56.262Z"
   },
   {
    "duration": 72,
    "start_time": "2022-12-22T12:10:56.274Z"
   },
   {
    "duration": 20,
    "start_time": "2022-12-22T12:10:56.347Z"
   },
   {
    "duration": 37,
    "start_time": "2022-12-22T12:10:56.396Z"
   },
   {
    "duration": 26,
    "start_time": "2022-12-22T12:10:56.435Z"
   },
   {
    "duration": 70,
    "start_time": "2022-12-22T12:10:56.463Z"
   },
   {
    "duration": 10,
    "start_time": "2022-12-22T12:10:56.537Z"
   },
   {
    "duration": 12,
    "start_time": "2022-12-22T12:10:56.548Z"
   },
   {
    "duration": 1269,
    "start_time": "2022-12-23T17:49:10.159Z"
   },
   {
    "duration": 276,
    "start_time": "2022-12-23T17:49:11.430Z"
   },
   {
    "duration": 21,
    "start_time": "2022-12-23T17:49:11.708Z"
   },
   {
    "duration": 34,
    "start_time": "2022-12-23T17:49:11.732Z"
   },
   {
    "duration": 67,
    "start_time": "2022-12-23T17:49:11.767Z"
   },
   {
    "duration": 45,
    "start_time": "2022-12-23T17:49:11.835Z"
   },
   {
    "duration": 63,
    "start_time": "2022-12-23T17:49:11.882Z"
   },
   {
    "duration": 17,
    "start_time": "2022-12-23T17:49:11.947Z"
   },
   {
    "duration": 68,
    "start_time": "2022-12-23T17:49:11.965Z"
   },
   {
    "duration": 46,
    "start_time": "2022-12-23T17:49:12.037Z"
   },
   {
    "duration": 374,
    "start_time": "2022-12-23T17:49:12.086Z"
   },
   {
    "duration": 36,
    "start_time": "2022-12-23T17:49:12.462Z"
   },
   {
    "duration": 18,
    "start_time": "2022-12-23T17:49:12.499Z"
   },
   {
    "duration": 509,
    "start_time": "2022-12-23T17:49:12.519Z"
   },
   {
    "duration": 216,
    "start_time": "2022-12-23T17:49:13.030Z"
   },
   {
    "duration": 365,
    "start_time": "2022-12-23T17:49:13.248Z"
   },
   {
    "duration": 233,
    "start_time": "2022-12-23T17:49:13.615Z"
   },
   {
    "duration": 346,
    "start_time": "2022-12-23T17:49:13.850Z"
   },
   {
    "duration": 184,
    "start_time": "2022-12-23T17:49:14.205Z"
   },
   {
    "duration": 14,
    "start_time": "2022-12-23T17:49:14.391Z"
   },
   {
    "duration": 458,
    "start_time": "2022-12-23T17:49:14.407Z"
   },
   {
    "duration": 35,
    "start_time": "2022-12-23T17:49:14.867Z"
   },
   {
    "duration": 44,
    "start_time": "2022-12-23T17:49:14.907Z"
   },
   {
    "duration": 36,
    "start_time": "2022-12-23T17:49:14.952Z"
   },
   {
    "duration": 45,
    "start_time": "2022-12-23T17:49:14.990Z"
   },
   {
    "duration": 11,
    "start_time": "2022-12-23T17:49:15.037Z"
   },
   {
    "duration": 60,
    "start_time": "2022-12-23T17:49:15.050Z"
   },
   {
    "duration": 9,
    "start_time": "2022-12-23T17:49:15.113Z"
   },
   {
    "duration": 15,
    "start_time": "2022-12-23T17:49:15.124Z"
   },
   {
    "duration": 111,
    "start_time": "2022-12-23T17:49:50.712Z"
   },
   {
    "duration": 8,
    "start_time": "2022-12-23T17:50:01.921Z"
   }
  ],
  "kernelspec": {
   "display_name": "Python 3 (ipykernel)",
   "language": "python",
   "name": "python3"
  },
  "language_info": {
   "codemirror_mode": {
    "name": "ipython",
    "version": 3
   },
   "file_extension": ".py",
   "mimetype": "text/x-python",
   "name": "python",
   "nbconvert_exporter": "python",
   "pygments_lexer": "ipython3",
   "version": "3.9.7"
  },
  "toc": {
   "base_numbering": 1,
   "nav_menu": {},
   "number_sections": true,
   "sideBar": true,
   "skip_h1_title": true,
   "title_cell": "Table of Contents",
   "title_sidebar": "Contents",
   "toc_cell": false,
   "toc_position": {
    "height": "calc(100% - 180px)",
    "left": "10px",
    "top": "150px",
    "width": "261.523px"
   },
   "toc_section_display": true,
   "toc_window_display": true
  }
 },
 "nbformat": 4,
 "nbformat_minor": 2
}
