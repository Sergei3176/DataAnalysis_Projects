{
 "cells": [
  {
   "cell_type": "markdown",
   "metadata": {},
   "source": [
    "# Проект: Оценка результатов A/B-теста"
   ]
  },
  {
   "cell_type": "markdown",
   "metadata": {},
   "source": [
    "## Описание проекта."
   ]
  },
  {
   "cell_type": "markdown",
   "metadata": {},
   "source": [
    "Цель проекта: провести оценку результатов A/B-теста. \n",
    "Задачи проекта:\n",
    "1. Оценить корректность проведения теста.\n",
    "а. проверить пересечение тестовой аудитории с конкурирующим тестом;\n",
    "б. сделать проверку на совпадение теста и маркетинговых событий;\n",
    "в. проверить соблюдение временнЫх границ теста;\n",
    "г. проверить корректность подбора аудитории теста.\n",
    "2. Проанализировать результат теста.\n",
    "\n",
    "Источники данных:\n",
    "1. Техническое задание.\n",
    "2. Четыре таблицы, содержащие календарь маркетинговых событий, данные о пользователях, данные о событиях и данные о разбивке аудитории на группы по тестам.\n",
    "\n",
    "Структура проекта:\n",
    "1. [Изучение данных.](#start)\n",
    "2. [Предобработка данных.](#preprocessing)\n",
    "3. [Оценка корректности проведения теста.](#asset)\n",
    "4. [Исследовательский анализ данных.](#eda)\n",
    "5. [Оценка результатов A/B-тестирования..](#a/b_testing)\n",
    "6. [Выводы.](#outcome)"
   ]
  },
  {
   "cell_type": "code",
   "execution_count": 9,
   "metadata": {},
   "outputs": [],
   "source": [
    "#Библиотеки для работы с данными\n",
    "import pandas as pd\n",
    "import numpy as np\n",
    "\n",
    "from scipy import stats as st\n",
    "import math as mth\n",
    "\n",
    "#модуль datetime для работы с датами\n",
    "from datetime import datetime as dt\n",
    "from datetime import date\n",
    "\n",
    "#Библиотеки для визуализации данных\n",
    "import seaborn as sns\n",
    "import matplotlib.pyplot as plt\n",
    "from plotly import graph_objects as go"
   ]
  },
  {
   "cell_type": "markdown",
   "metadata": {},
   "source": [
    "## Изучение данных.\n",
    "<a id=\"start\"></a>"
   ]
  },
  {
   "cell_type": "code",
   "execution_count": 10,
   "metadata": {},
   "outputs": [],
   "source": [
    "marketing_calender = pd.read_csv('C:/datasets/ab_project_marketing_events.csv')"
   ]
  },
  {
   "cell_type": "code",
   "execution_count": 11,
   "metadata": {},
   "outputs": [
    {
     "data": {
      "text/html": [
       "<div>\n",
       "<style scoped>\n",
       "    .dataframe tbody tr th:only-of-type {\n",
       "        vertical-align: middle;\n",
       "    }\n",
       "\n",
       "    .dataframe tbody tr th {\n",
       "        vertical-align: top;\n",
       "    }\n",
       "\n",
       "    .dataframe thead th {\n",
       "        text-align: right;\n",
       "    }\n",
       "</style>\n",
       "<table border=\"1\" class=\"dataframe\">\n",
       "  <thead>\n",
       "    <tr style=\"text-align: right;\">\n",
       "      <th></th>\n",
       "      <th>name</th>\n",
       "      <th>regions</th>\n",
       "      <th>start_dt</th>\n",
       "      <th>finish_dt</th>\n",
       "    </tr>\n",
       "  </thead>\n",
       "  <tbody>\n",
       "    <tr>\n",
       "      <th>0</th>\n",
       "      <td>Christmas&amp;New Year Promo</td>\n",
       "      <td>EU, N.America</td>\n",
       "      <td>2020-12-25</td>\n",
       "      <td>2021-01-03</td>\n",
       "    </tr>\n",
       "    <tr>\n",
       "      <th>1</th>\n",
       "      <td>St. Valentine's Day Giveaway</td>\n",
       "      <td>EU, CIS, APAC, N.America</td>\n",
       "      <td>2020-02-14</td>\n",
       "      <td>2020-02-16</td>\n",
       "    </tr>\n",
       "    <tr>\n",
       "      <th>2</th>\n",
       "      <td>St. Patric's Day Promo</td>\n",
       "      <td>EU, N.America</td>\n",
       "      <td>2020-03-17</td>\n",
       "      <td>2020-03-19</td>\n",
       "    </tr>\n",
       "    <tr>\n",
       "      <th>3</th>\n",
       "      <td>Easter Promo</td>\n",
       "      <td>EU, CIS, APAC, N.America</td>\n",
       "      <td>2020-04-12</td>\n",
       "      <td>2020-04-19</td>\n",
       "    </tr>\n",
       "    <tr>\n",
       "      <th>4</th>\n",
       "      <td>4th of July Promo</td>\n",
       "      <td>N.America</td>\n",
       "      <td>2020-07-04</td>\n",
       "      <td>2020-07-11</td>\n",
       "    </tr>\n",
       "    <tr>\n",
       "      <th>5</th>\n",
       "      <td>Black Friday Ads Campaign</td>\n",
       "      <td>EU, CIS, APAC, N.America</td>\n",
       "      <td>2020-11-26</td>\n",
       "      <td>2020-12-01</td>\n",
       "    </tr>\n",
       "    <tr>\n",
       "      <th>6</th>\n",
       "      <td>Chinese New Year Promo</td>\n",
       "      <td>APAC</td>\n",
       "      <td>2020-01-25</td>\n",
       "      <td>2020-02-07</td>\n",
       "    </tr>\n",
       "    <tr>\n",
       "      <th>7</th>\n",
       "      <td>Labor day (May 1st) Ads Campaign</td>\n",
       "      <td>EU, CIS, APAC</td>\n",
       "      <td>2020-05-01</td>\n",
       "      <td>2020-05-03</td>\n",
       "    </tr>\n",
       "    <tr>\n",
       "      <th>8</th>\n",
       "      <td>International Women's Day Promo</td>\n",
       "      <td>EU, CIS, APAC</td>\n",
       "      <td>2020-03-08</td>\n",
       "      <td>2020-03-10</td>\n",
       "    </tr>\n",
       "    <tr>\n",
       "      <th>9</th>\n",
       "      <td>Victory Day CIS (May 9th) Event</td>\n",
       "      <td>CIS</td>\n",
       "      <td>2020-05-09</td>\n",
       "      <td>2020-05-11</td>\n",
       "    </tr>\n",
       "    <tr>\n",
       "      <th>10</th>\n",
       "      <td>CIS New Year Gift Lottery</td>\n",
       "      <td>CIS</td>\n",
       "      <td>2020-12-30</td>\n",
       "      <td>2021-01-07</td>\n",
       "    </tr>\n",
       "    <tr>\n",
       "      <th>11</th>\n",
       "      <td>Dragon Boat Festival Giveaway</td>\n",
       "      <td>APAC</td>\n",
       "      <td>2020-06-25</td>\n",
       "      <td>2020-07-01</td>\n",
       "    </tr>\n",
       "    <tr>\n",
       "      <th>12</th>\n",
       "      <td>Single's Day Gift Promo</td>\n",
       "      <td>APAC</td>\n",
       "      <td>2020-11-11</td>\n",
       "      <td>2020-11-12</td>\n",
       "    </tr>\n",
       "    <tr>\n",
       "      <th>13</th>\n",
       "      <td>Chinese Moon Festival</td>\n",
       "      <td>APAC</td>\n",
       "      <td>2020-10-01</td>\n",
       "      <td>2020-10-07</td>\n",
       "    </tr>\n",
       "  </tbody>\n",
       "</table>\n",
       "</div>"
      ],
      "text/plain": [
       "                                name                   regions    start_dt  \\\n",
       "0           Christmas&New Year Promo             EU, N.America  2020-12-25   \n",
       "1       St. Valentine's Day Giveaway  EU, CIS, APAC, N.America  2020-02-14   \n",
       "2             St. Patric's Day Promo             EU, N.America  2020-03-17   \n",
       "3                       Easter Promo  EU, CIS, APAC, N.America  2020-04-12   \n",
       "4                  4th of July Promo                 N.America  2020-07-04   \n",
       "5          Black Friday Ads Campaign  EU, CIS, APAC, N.America  2020-11-26   \n",
       "6             Chinese New Year Promo                      APAC  2020-01-25   \n",
       "7   Labor day (May 1st) Ads Campaign             EU, CIS, APAC  2020-05-01   \n",
       "8    International Women's Day Promo             EU, CIS, APAC  2020-03-08   \n",
       "9    Victory Day CIS (May 9th) Event                       CIS  2020-05-09   \n",
       "10         CIS New Year Gift Lottery                       CIS  2020-12-30   \n",
       "11     Dragon Boat Festival Giveaway                      APAC  2020-06-25   \n",
       "12           Single's Day Gift Promo                      APAC  2020-11-11   \n",
       "13             Chinese Moon Festival                      APAC  2020-10-01   \n",
       "\n",
       "     finish_dt  \n",
       "0   2021-01-03  \n",
       "1   2020-02-16  \n",
       "2   2020-03-19  \n",
       "3   2020-04-19  \n",
       "4   2020-07-11  \n",
       "5   2020-12-01  \n",
       "6   2020-02-07  \n",
       "7   2020-05-03  \n",
       "8   2020-03-10  \n",
       "9   2020-05-11  \n",
       "10  2021-01-07  \n",
       "11  2020-07-01  \n",
       "12  2020-11-12  \n",
       "13  2020-10-07  "
      ]
     },
     "metadata": {},
     "output_type": "display_data"
    },
    {
     "name": "stdout",
     "output_type": "stream",
     "text": [
      "<class 'pandas.core.frame.DataFrame'>\n",
      "RangeIndex: 14 entries, 0 to 13\n",
      "Data columns (total 4 columns):\n",
      " #   Column     Non-Null Count  Dtype \n",
      "---  ------     --------------  ----- \n",
      " 0   name       14 non-null     object\n",
      " 1   regions    14 non-null     object\n",
      " 2   start_dt   14 non-null     object\n",
      " 3   finish_dt  14 non-null     object\n",
      "dtypes: object(4)\n",
      "memory usage: 576.0+ bytes\n"
     ]
    }
   ],
   "source": [
    "display(marketing_calender)\n",
    "marketing_calender.info()"
   ]
  },
  {
   "cell_type": "code",
   "execution_count": 12,
   "metadata": {},
   "outputs": [
    {
     "data": {
      "text/plain": [
       "array(['EU, N.America', 'EU, CIS, APAC, N.America', 'N.America', 'APAC',\n",
       "       'EU, CIS, APAC', 'CIS'], dtype=object)"
      ]
     },
     "execution_count": 12,
     "metadata": {},
     "output_type": "execute_result"
    }
   ],
   "source": [
    "marketing_calender['regions'].unique()"
   ]
  },
  {
   "cell_type": "markdown",
   "metadata": {},
   "source": [
    "Маркетинговые мероприятия охватывают четыре региона:Европейский Союз, Северная Америка, Азиатско-Тихоокеанский регион и СНГ. Часть мероприятий охватывает два, три или четыре региона одновременно."
   ]
  },
  {
   "cell_type": "code",
   "execution_count": 13,
   "metadata": {},
   "outputs": [],
   "source": [
    "new_user_data = pd.read_csv('C:/datasets/final_ab_new_users.csv')"
   ]
  },
  {
   "cell_type": "code",
   "execution_count": 14,
   "metadata": {},
   "outputs": [
    {
     "data": {
      "text/html": [
       "<div>\n",
       "<style scoped>\n",
       "    .dataframe tbody tr th:only-of-type {\n",
       "        vertical-align: middle;\n",
       "    }\n",
       "\n",
       "    .dataframe tbody tr th {\n",
       "        vertical-align: top;\n",
       "    }\n",
       "\n",
       "    .dataframe thead th {\n",
       "        text-align: right;\n",
       "    }\n",
       "</style>\n",
       "<table border=\"1\" class=\"dataframe\">\n",
       "  <thead>\n",
       "    <tr style=\"text-align: right;\">\n",
       "      <th></th>\n",
       "      <th>user_id</th>\n",
       "      <th>first_date</th>\n",
       "      <th>region</th>\n",
       "      <th>device</th>\n",
       "    </tr>\n",
       "  </thead>\n",
       "  <tbody>\n",
       "    <tr>\n",
       "      <th>0</th>\n",
       "      <td>D72A72121175D8BE</td>\n",
       "      <td>2020-12-07</td>\n",
       "      <td>EU</td>\n",
       "      <td>PC</td>\n",
       "    </tr>\n",
       "    <tr>\n",
       "      <th>1</th>\n",
       "      <td>F1C668619DFE6E65</td>\n",
       "      <td>2020-12-07</td>\n",
       "      <td>N.America</td>\n",
       "      <td>Android</td>\n",
       "    </tr>\n",
       "    <tr>\n",
       "      <th>2</th>\n",
       "      <td>2E1BF1D4C37EA01F</td>\n",
       "      <td>2020-12-07</td>\n",
       "      <td>EU</td>\n",
       "      <td>PC</td>\n",
       "    </tr>\n",
       "    <tr>\n",
       "      <th>3</th>\n",
       "      <td>50734A22C0C63768</td>\n",
       "      <td>2020-12-07</td>\n",
       "      <td>EU</td>\n",
       "      <td>iPhone</td>\n",
       "    </tr>\n",
       "    <tr>\n",
       "      <th>4</th>\n",
       "      <td>E1BDDCE0DAFA2679</td>\n",
       "      <td>2020-12-07</td>\n",
       "      <td>N.America</td>\n",
       "      <td>iPhone</td>\n",
       "    </tr>\n",
       "    <tr>\n",
       "      <th>5</th>\n",
       "      <td>137119F5A9E69421</td>\n",
       "      <td>2020-12-07</td>\n",
       "      <td>N.America</td>\n",
       "      <td>iPhone</td>\n",
       "    </tr>\n",
       "    <tr>\n",
       "      <th>6</th>\n",
       "      <td>62F0C741CC42D0CC</td>\n",
       "      <td>2020-12-07</td>\n",
       "      <td>APAC</td>\n",
       "      <td>iPhone</td>\n",
       "    </tr>\n",
       "    <tr>\n",
       "      <th>7</th>\n",
       "      <td>8942E64218C9A1ED</td>\n",
       "      <td>2020-12-07</td>\n",
       "      <td>EU</td>\n",
       "      <td>PC</td>\n",
       "    </tr>\n",
       "    <tr>\n",
       "      <th>8</th>\n",
       "      <td>499AFACF904BBAE3</td>\n",
       "      <td>2020-12-07</td>\n",
       "      <td>N.America</td>\n",
       "      <td>iPhone</td>\n",
       "    </tr>\n",
       "    <tr>\n",
       "      <th>9</th>\n",
       "      <td>FFCEA1179C253104</td>\n",
       "      <td>2020-12-07</td>\n",
       "      <td>EU</td>\n",
       "      <td>Android</td>\n",
       "    </tr>\n",
       "  </tbody>\n",
       "</table>\n",
       "</div>"
      ],
      "text/plain": [
       "            user_id  first_date     region   device\n",
       "0  D72A72121175D8BE  2020-12-07         EU       PC\n",
       "1  F1C668619DFE6E65  2020-12-07  N.America  Android\n",
       "2  2E1BF1D4C37EA01F  2020-12-07         EU       PC\n",
       "3  50734A22C0C63768  2020-12-07         EU   iPhone\n",
       "4  E1BDDCE0DAFA2679  2020-12-07  N.America   iPhone\n",
       "5  137119F5A9E69421  2020-12-07  N.America   iPhone\n",
       "6  62F0C741CC42D0CC  2020-12-07       APAC   iPhone\n",
       "7  8942E64218C9A1ED  2020-12-07         EU       PC\n",
       "8  499AFACF904BBAE3  2020-12-07  N.America   iPhone\n",
       "9  FFCEA1179C253104  2020-12-07         EU  Android"
      ]
     },
     "metadata": {},
     "output_type": "display_data"
    },
    {
     "name": "stdout",
     "output_type": "stream",
     "text": [
      "<class 'pandas.core.frame.DataFrame'>\n",
      "RangeIndex: 61733 entries, 0 to 61732\n",
      "Data columns (total 4 columns):\n",
      " #   Column      Non-Null Count  Dtype \n",
      "---  ------      --------------  ----- \n",
      " 0   user_id     61733 non-null  object\n",
      " 1   first_date  61733 non-null  object\n",
      " 2   region      61733 non-null  object\n",
      " 3   device      61733 non-null  object\n",
      "dtypes: object(4)\n",
      "memory usage: 1.9+ MB\n"
     ]
    }
   ],
   "source": [
    "display(new_user_data.head(10))\n",
    "new_user_data.info()"
   ]
  },
  {
   "cell_type": "code",
   "execution_count": 15,
   "metadata": {},
   "outputs": [
    {
     "data": {
      "text/plain": [
       "array(['EU', 'N.America', 'APAC', 'CIS'], dtype=object)"
      ]
     },
     "metadata": {},
     "output_type": "display_data"
    },
    {
     "data": {
      "text/plain": [
       "array(['PC', 'Android', 'iPhone', 'Mac'], dtype=object)"
      ]
     },
     "metadata": {},
     "output_type": "display_data"
    }
   ],
   "source": [
    "display(new_user_data['region'].unique())\n",
    "display(new_user_data['device'].unique())"
   ]
  },
  {
   "cell_type": "markdown",
   "metadata": {},
   "source": [
    "В тестах (мы пока не знаем, сколько их) принимают участие жители четырёх регионов: Европейский Союз, Северная Америка, Азиатско-Тихоокеанский регион и СНГ, использующие четыре типа устройств: персональные компьютеры (здесь возможны Windows - более вероятно, и Linux - менее вероятно), мобильные телефоны на OS Android, мобильные телефоны на iOS и персональные компьютеры (более вероятно - ноутбуки на MacOS)."
   ]
  },
  {
   "cell_type": "code",
   "execution_count": 16,
   "metadata": {},
   "outputs": [],
   "source": [
    "user_events_data = pd.read_csv('C:/datasets/final_ab_events.csv')"
   ]
  },
  {
   "cell_type": "code",
   "execution_count": 17,
   "metadata": {},
   "outputs": [
    {
     "data": {
      "text/html": [
       "<div>\n",
       "<style scoped>\n",
       "    .dataframe tbody tr th:only-of-type {\n",
       "        vertical-align: middle;\n",
       "    }\n",
       "\n",
       "    .dataframe tbody tr th {\n",
       "        vertical-align: top;\n",
       "    }\n",
       "\n",
       "    .dataframe thead th {\n",
       "        text-align: right;\n",
       "    }\n",
       "</style>\n",
       "<table border=\"1\" class=\"dataframe\">\n",
       "  <thead>\n",
       "    <tr style=\"text-align: right;\">\n",
       "      <th></th>\n",
       "      <th>user_id</th>\n",
       "      <th>event_dt</th>\n",
       "      <th>event_name</th>\n",
       "      <th>details</th>\n",
       "    </tr>\n",
       "  </thead>\n",
       "  <tbody>\n",
       "    <tr>\n",
       "      <th>0</th>\n",
       "      <td>E1BDDCE0DAFA2679</td>\n",
       "      <td>2020-12-07 20:22:03</td>\n",
       "      <td>purchase</td>\n",
       "      <td>99.99</td>\n",
       "    </tr>\n",
       "    <tr>\n",
       "      <th>1</th>\n",
       "      <td>7B6452F081F49504</td>\n",
       "      <td>2020-12-07 09:22:53</td>\n",
       "      <td>purchase</td>\n",
       "      <td>9.99</td>\n",
       "    </tr>\n",
       "    <tr>\n",
       "      <th>2</th>\n",
       "      <td>9CD9F34546DF254C</td>\n",
       "      <td>2020-12-07 12:59:29</td>\n",
       "      <td>purchase</td>\n",
       "      <td>4.99</td>\n",
       "    </tr>\n",
       "    <tr>\n",
       "      <th>3</th>\n",
       "      <td>96F27A054B191457</td>\n",
       "      <td>2020-12-07 04:02:40</td>\n",
       "      <td>purchase</td>\n",
       "      <td>4.99</td>\n",
       "    </tr>\n",
       "    <tr>\n",
       "      <th>4</th>\n",
       "      <td>1FD7660FDF94CA1F</td>\n",
       "      <td>2020-12-07 10:15:09</td>\n",
       "      <td>purchase</td>\n",
       "      <td>4.99</td>\n",
       "    </tr>\n",
       "    <tr>\n",
       "      <th>5</th>\n",
       "      <td>831887FE7F2D6CBA</td>\n",
       "      <td>2020-12-07 06:50:29</td>\n",
       "      <td>purchase</td>\n",
       "      <td>4.99</td>\n",
       "    </tr>\n",
       "    <tr>\n",
       "      <th>6</th>\n",
       "      <td>6B2F726BFD5F8220</td>\n",
       "      <td>2020-12-07 11:27:42</td>\n",
       "      <td>purchase</td>\n",
       "      <td>4.99</td>\n",
       "    </tr>\n",
       "    <tr>\n",
       "      <th>7</th>\n",
       "      <td>BEB37715AACF53B0</td>\n",
       "      <td>2020-12-07 04:26:15</td>\n",
       "      <td>purchase</td>\n",
       "      <td>4.99</td>\n",
       "    </tr>\n",
       "    <tr>\n",
       "      <th>8</th>\n",
       "      <td>B5FA27F582227197</td>\n",
       "      <td>2020-12-07 01:46:37</td>\n",
       "      <td>purchase</td>\n",
       "      <td>4.99</td>\n",
       "    </tr>\n",
       "    <tr>\n",
       "      <th>9</th>\n",
       "      <td>A92195E3CFB83DBD</td>\n",
       "      <td>2020-12-07 00:32:07</td>\n",
       "      <td>purchase</td>\n",
       "      <td>4.99</td>\n",
       "    </tr>\n",
       "  </tbody>\n",
       "</table>\n",
       "</div>"
      ],
      "text/plain": [
       "            user_id             event_dt event_name  details\n",
       "0  E1BDDCE0DAFA2679  2020-12-07 20:22:03   purchase    99.99\n",
       "1  7B6452F081F49504  2020-12-07 09:22:53   purchase     9.99\n",
       "2  9CD9F34546DF254C  2020-12-07 12:59:29   purchase     4.99\n",
       "3  96F27A054B191457  2020-12-07 04:02:40   purchase     4.99\n",
       "4  1FD7660FDF94CA1F  2020-12-07 10:15:09   purchase     4.99\n",
       "5  831887FE7F2D6CBA  2020-12-07 06:50:29   purchase     4.99\n",
       "6  6B2F726BFD5F8220  2020-12-07 11:27:42   purchase     4.99\n",
       "7  BEB37715AACF53B0  2020-12-07 04:26:15   purchase     4.99\n",
       "8  B5FA27F582227197  2020-12-07 01:46:37   purchase     4.99\n",
       "9  A92195E3CFB83DBD  2020-12-07 00:32:07   purchase     4.99"
      ]
     },
     "metadata": {},
     "output_type": "display_data"
    },
    {
     "name": "stdout",
     "output_type": "stream",
     "text": [
      "<class 'pandas.core.frame.DataFrame'>\n",
      "RangeIndex: 440317 entries, 0 to 440316\n",
      "Data columns (total 4 columns):\n",
      " #   Column      Non-Null Count   Dtype  \n",
      "---  ------      --------------   -----  \n",
      " 0   user_id     440317 non-null  object \n",
      " 1   event_dt    440317 non-null  object \n",
      " 2   event_name  440317 non-null  object \n",
      " 3   details     62740 non-null   float64\n",
      "dtypes: float64(1), object(3)\n",
      "memory usage: 13.4+ MB\n"
     ]
    }
   ],
   "source": [
    "display(user_events_data.head(10))\n",
    "user_events_data.info()"
   ]
  },
  {
   "cell_type": "code",
   "execution_count": 18,
   "metadata": {},
   "outputs": [
    {
     "data": {
      "text/plain": [
       "array(['purchase', 'product_cart', 'product_page', 'login'], dtype=object)"
      ]
     },
     "metadata": {},
     "output_type": "display_data"
    }
   ],
   "source": [
    "#Проверяем уникальные значения в столбце event_name\n",
    "display(user_events_data['event_name'].unique())"
   ]
  },
  {
   "cell_type": "markdown",
   "metadata": {},
   "source": [
    "Столбец event_name таблицы user_events_data содержит четыре типа событий: вход в систему, посещение страницы с определённым типом продукта, товара в корзину, покупка."
   ]
  },
  {
   "cell_type": "code",
   "execution_count": 19,
   "metadata": {},
   "outputs": [],
   "source": [
    "test_participants = pd.read_csv('C:/datasets/final_ab_participants.csv')"
   ]
  },
  {
   "cell_type": "code",
   "execution_count": 20,
   "metadata": {
    "scrolled": true
   },
   "outputs": [
    {
     "data": {
      "text/html": [
       "<div>\n",
       "<style scoped>\n",
       "    .dataframe tbody tr th:only-of-type {\n",
       "        vertical-align: middle;\n",
       "    }\n",
       "\n",
       "    .dataframe tbody tr th {\n",
       "        vertical-align: top;\n",
       "    }\n",
       "\n",
       "    .dataframe thead th {\n",
       "        text-align: right;\n",
       "    }\n",
       "</style>\n",
       "<table border=\"1\" class=\"dataframe\">\n",
       "  <thead>\n",
       "    <tr style=\"text-align: right;\">\n",
       "      <th></th>\n",
       "      <th>user_id</th>\n",
       "      <th>group</th>\n",
       "      <th>ab_test</th>\n",
       "    </tr>\n",
       "  </thead>\n",
       "  <tbody>\n",
       "    <tr>\n",
       "      <th>0</th>\n",
       "      <td>D1ABA3E2887B6A73</td>\n",
       "      <td>A</td>\n",
       "      <td>recommender_system_test</td>\n",
       "    </tr>\n",
       "    <tr>\n",
       "      <th>1</th>\n",
       "      <td>A7A3664BD6242119</td>\n",
       "      <td>A</td>\n",
       "      <td>recommender_system_test</td>\n",
       "    </tr>\n",
       "    <tr>\n",
       "      <th>2</th>\n",
       "      <td>DABC14FDDFADD29E</td>\n",
       "      <td>A</td>\n",
       "      <td>recommender_system_test</td>\n",
       "    </tr>\n",
       "    <tr>\n",
       "      <th>3</th>\n",
       "      <td>04988C5DF189632E</td>\n",
       "      <td>A</td>\n",
       "      <td>recommender_system_test</td>\n",
       "    </tr>\n",
       "    <tr>\n",
       "      <th>4</th>\n",
       "      <td>482F14783456D21B</td>\n",
       "      <td>B</td>\n",
       "      <td>recommender_system_test</td>\n",
       "    </tr>\n",
       "    <tr>\n",
       "      <th>5</th>\n",
       "      <td>4FF2998A348C484F</td>\n",
       "      <td>A</td>\n",
       "      <td>recommender_system_test</td>\n",
       "    </tr>\n",
       "    <tr>\n",
       "      <th>6</th>\n",
       "      <td>7473E0943673C09E</td>\n",
       "      <td>A</td>\n",
       "      <td>recommender_system_test</td>\n",
       "    </tr>\n",
       "    <tr>\n",
       "      <th>7</th>\n",
       "      <td>C46FE336D240A054</td>\n",
       "      <td>A</td>\n",
       "      <td>recommender_system_test</td>\n",
       "    </tr>\n",
       "    <tr>\n",
       "      <th>8</th>\n",
       "      <td>92CB588012C10D3D</td>\n",
       "      <td>A</td>\n",
       "      <td>recommender_system_test</td>\n",
       "    </tr>\n",
       "    <tr>\n",
       "      <th>9</th>\n",
       "      <td>057AB296296C7FC0</td>\n",
       "      <td>B</td>\n",
       "      <td>recommender_system_test</td>\n",
       "    </tr>\n",
       "  </tbody>\n",
       "</table>\n",
       "</div>"
      ],
      "text/plain": [
       "            user_id group                  ab_test\n",
       "0  D1ABA3E2887B6A73     A  recommender_system_test\n",
       "1  A7A3664BD6242119     A  recommender_system_test\n",
       "2  DABC14FDDFADD29E     A  recommender_system_test\n",
       "3  04988C5DF189632E     A  recommender_system_test\n",
       "4  482F14783456D21B     B  recommender_system_test\n",
       "5  4FF2998A348C484F     A  recommender_system_test\n",
       "6  7473E0943673C09E     A  recommender_system_test\n",
       "7  C46FE336D240A054     A  recommender_system_test\n",
       "8  92CB588012C10D3D     A  recommender_system_test\n",
       "9  057AB296296C7FC0     B  recommender_system_test"
      ]
     },
     "metadata": {},
     "output_type": "display_data"
    },
    {
     "name": "stdout",
     "output_type": "stream",
     "text": [
      "<class 'pandas.core.frame.DataFrame'>\n",
      "RangeIndex: 18268 entries, 0 to 18267\n",
      "Data columns (total 3 columns):\n",
      " #   Column   Non-Null Count  Dtype \n",
      "---  ------   --------------  ----- \n",
      " 0   user_id  18268 non-null  object\n",
      " 1   group    18268 non-null  object\n",
      " 2   ab_test  18268 non-null  object\n",
      "dtypes: object(3)\n",
      "memory usage: 428.3+ KB\n"
     ]
    }
   ],
   "source": [
    "display(test_participants.head(10))\n",
    "test_participants.info()"
   ]
  },
  {
   "cell_type": "code",
   "execution_count": 21,
   "metadata": {},
   "outputs": [
    {
     "data": {
      "text/plain": [
       "array(['recommender_system_test', 'interface_eu_test'], dtype=object)"
      ]
     },
     "metadata": {},
     "output_type": "display_data"
    }
   ],
   "source": [
    "#Проверяем уникальные значения столбца ab_test таблицы test_participants\n",
    "display(test_participants['ab_test'].unique())"
   ]
  },
  {
   "cell_type": "markdown",
   "metadata": {},
   "source": [
    "В таблице содержится информация о двух тестах, из которых мы проверяем только recommender_system_test."
   ]
  },
  {
   "cell_type": "markdown",
   "metadata": {},
   "source": [
    "## Предобработка данных.\n",
    "<a id=\"preprocessing\"></a>"
   ]
  },
  {
   "cell_type": "markdown",
   "metadata": {},
   "source": [
    "### Приведение данных к нужным типам."
   ]
  },
  {
   "cell_type": "code",
   "execution_count": 22,
   "metadata": {},
   "outputs": [
    {
     "name": "stdout",
     "output_type": "stream",
     "text": [
      "<class 'pandas.core.frame.DataFrame'>\n",
      "RangeIndex: 14 entries, 0 to 13\n",
      "Data columns (total 4 columns):\n",
      " #   Column     Non-Null Count  Dtype         \n",
      "---  ------     --------------  -----         \n",
      " 0   name       14 non-null     object        \n",
      " 1   regions    14 non-null     object        \n",
      " 2   start_dt   14 non-null     datetime64[ns]\n",
      " 3   finish_dt  14 non-null     datetime64[ns]\n",
      "dtypes: datetime64[ns](2), object(2)\n",
      "memory usage: 576.0+ bytes\n"
     ]
    }
   ],
   "source": [
    "#Меняем тип данных object на datetime в столбцах трёх таблиц, содержащих даты.\n",
    "marketing_calender['start_dt'] = pd.to_datetime(marketing_calender['start_dt'], format = '%Y.%m.%d')\n",
    "marketing_calender['finish_dt'] = pd.to_datetime(marketing_calender['finish_dt'], format = '%Y.%m.%d')\n",
    "marketing_calender.info()"
   ]
  },
  {
   "cell_type": "code",
   "execution_count": 23,
   "metadata": {
    "scrolled": true
   },
   "outputs": [
    {
     "name": "stdout",
     "output_type": "stream",
     "text": [
      "<class 'pandas.core.frame.DataFrame'>\n",
      "RangeIndex: 61733 entries, 0 to 61732\n",
      "Data columns (total 4 columns):\n",
      " #   Column      Non-Null Count  Dtype         \n",
      "---  ------      --------------  -----         \n",
      " 0   user_id     61733 non-null  object        \n",
      " 1   first_date  61733 non-null  datetime64[ns]\n",
      " 2   region      61733 non-null  object        \n",
      " 3   device      61733 non-null  object        \n",
      "dtypes: datetime64[ns](1), object(3)\n",
      "memory usage: 1.9+ MB\n"
     ]
    }
   ],
   "source": [
    "new_user_data['first_date'] = pd.to_datetime(new_user_data['first_date'], format = '%Y.%m.%d')\n",
    "new_user_data.info()"
   ]
  },
  {
   "cell_type": "code",
   "execution_count": 24,
   "metadata": {},
   "outputs": [
    {
     "data": {
      "text/plain": [
       "array(['2020-12-07', '2020-12-08', '2020-12-09', '2020-12-10',\n",
       "       '2020-12-11', '2020-12-12', '2020-12-13', '2020-12-14',\n",
       "       '2020-12-15', '2020-12-16', '2020-12-17', '2020-12-18',\n",
       "       '2020-12-19', '2020-12-20', '2020-12-21', '2020-12-22',\n",
       "       '2020-12-23', '2020-12-24', '2020-12-25', '2020-12-26',\n",
       "       '2020-12-27', '2020-12-28', '2020-12-29', '2020-12-30'],\n",
       "      dtype=object)"
      ]
     },
     "execution_count": 24,
     "metadata": {},
     "output_type": "execute_result"
    }
   ],
   "source": [
    "user_events_data['event_dt'] = pd.to_datetime(user_events_data['event_dt'], format = '%Y.%m.%d %H:%M:%S')\n",
    "#Создаём колонку с датой, по которой будем фильтровать участников и события по времен\n",
    "user_events_data['day'] = user_events_data['event_dt'].dt.strftime('%Y-%m-%d')\n",
    "user_events_data['day'].unique()"
   ]
  },
  {
   "cell_type": "markdown",
   "metadata": {},
   "source": [
    "### Проверка данных на дубликаты."
   ]
  },
  {
   "cell_type": "code",
   "execution_count": 25,
   "metadata": {},
   "outputs": [
    {
     "data": {
      "text/plain": [
       "0"
      ]
     },
     "metadata": {},
     "output_type": "display_data"
    }
   ],
   "source": [
    "display(marketing_calender.duplicated().sum())"
   ]
  },
  {
   "cell_type": "markdown",
   "metadata": {},
   "source": [
    "Маркетинговые события не дублируются."
   ]
  },
  {
   "cell_type": "code",
   "execution_count": 26,
   "metadata": {},
   "outputs": [
    {
     "data": {
      "text/plain": [
       "0"
      ]
     },
     "metadata": {},
     "output_type": "display_data"
    },
    {
     "data": {
      "text/plain": [
       "0"
      ]
     },
     "metadata": {},
     "output_type": "display_data"
    }
   ],
   "source": [
    "display(new_user_data.duplicated().sum())\n",
    "display(new_user_data['user_id'].duplicated().sum())"
   ]
  },
  {
   "cell_type": "markdown",
   "metadata": {},
   "source": [
    "В данных о пользователях нет дубликатов."
   ]
  },
  {
   "cell_type": "code",
   "execution_count": 27,
   "metadata": {},
   "outputs": [
    {
     "data": {
      "text/plain": [
       "0"
      ]
     },
     "metadata": {},
     "output_type": "display_data"
    },
    {
     "data": {
      "text/plain": [
       "381614"
      ]
     },
     "metadata": {},
     "output_type": "display_data"
    }
   ],
   "source": [
    "display(user_events_data.duplicated().sum())\n",
    "display(user_events_data['user_id'].duplicated().sum())"
   ]
  },
  {
   "cell_type": "markdown",
   "metadata": {},
   "source": [
    "В таблице с данными о событиях нет дубликатов строк. Обилие дубликатов в столбце user_id говорит о том, что на каждого пользователя приходится больше одного события."
   ]
  },
  {
   "cell_type": "code",
   "execution_count": 28,
   "metadata": {},
   "outputs": [
    {
     "data": {
      "text/plain": [
       "0"
      ]
     },
     "metadata": {},
     "output_type": "display_data"
    },
    {
     "data": {
      "text/plain": [
       "1602"
      ]
     },
     "metadata": {},
     "output_type": "display_data"
    }
   ],
   "source": [
    "display(test_participants.duplicated().sum())\n",
    "display(test_participants['user_id'].duplicated().sum())\n"
   ]
  },
  {
   "cell_type": "markdown",
   "metadata": {},
   "source": [
    "Повторяющихся строк в таблице нет.\n",
    "Следовательно, 1602 дубликата в столбце user_id таблицы test_participants свидетельствуют о том, что 1602 человека участвуют либо в разных тестах, либо оказались в одной в обеих группах одного теста.\n",
    "Вернёмся к вопросу при проверке аудитории теста."
   ]
  },
  {
   "cell_type": "markdown",
   "metadata": {},
   "source": [
    "### Проверка данных на пропуски и выявление их характера."
   ]
  },
  {
   "cell_type": "code",
   "execution_count": 29,
   "metadata": {},
   "outputs": [],
   "source": [
    "#Создаю таблицу для анализа пропусков\n",
    "user_events_data_gap = user_events_data.copy()"
   ]
  },
  {
   "cell_type": "code",
   "execution_count": null,
   "metadata": {},
   "outputs": [],
   "source": [
    "user_events_data_gap = pd.get_dummies(user_events_data_gap, columns=['event_name'], drop_first=False)"
   ]
  },
  {
   "cell_type": "code",
   "execution_count": null,
   "metadata": {},
   "outputs": [],
   "source": [
    "#Создаю колонку, содержащую информацию о наличии пропусков\n",
    "user_events_data_gap['events_gap'] = user_events_data.details.isna() * 1\n",
    "display(user_events_data_gap.head())"
   ]
  },
  {
   "cell_type": "code",
   "execution_count": null,
   "metadata": {},
   "outputs": [],
   "source": [
    "#Группирую данные по наличию пропуска в событиях. Проверяю средние значения.\n",
    "user_events_data_gap_group = user_events_data_gap.groupby('events_gap').mean().round(2).reset_index()\n",
    "display(user_events_data_gap_group)"
   ]
  },
  {
   "cell_type": "markdown",
   "metadata": {},
   "source": [
    "Все значения в details связаны с событием purchase (покупка) в столбце event_name. Следовательно, пропуски в колонке details появляются каждый раз, когда клиент вошёл на сайт, прошёл до корзины, но не совершил покупку. Пропуски связанны со статусом покупки в системе (совершена - не совершена). Пропуск не случаен и относится к типу пропусков MNAR (Missing Not At Random / Отсутствует не случайно). С этими пропусками ничего не нужно было бы делать, даже если бы их было не много."
   ]
  },
  {
   "cell_type": "markdown",
   "metadata": {},
   "source": [
    "## Оценка корректности проведения теста.\n",
    "<a id=\"asset\"></a>"
   ]
  },
  {
   "cell_type": "markdown",
   "metadata": {},
   "source": [
    "#### Проверка на соответствие данных требованиям технического задания."
   ]
  },
  {
   "cell_type": "code",
   "execution_count": null,
   "metadata": {},
   "outputs": [],
   "source": [
    "#Выясняем даты начала и окончания набора участников тестирования.\n",
    "temp_new_user_data = test_participants.merge(new_user_data, on = 'user_id', how = 'left')\n",
    "test_new_user_data = temp_new_user_data.query('ab_test == \"recommender_system_test\"')\n",
    "new_user_data_max = new_user_data.max()\n",
    "new_user_data_min = new_user_data.min()\n",
    "display(new_user_data_max)\n",
    "display(new_user_data_min)\n",
    "test_new_user_data['first_date'].max()\n",
    "#test_new_user_data.nunique"
   ]
  },
  {
   "cell_type": "markdown",
   "metadata": {},
   "source": [
    "Согласно ТЗ набор участников теста должен быть остановлен 21 декабря 2020 г., то есть, самые новые участники должны были быть набраны 20 декабря 2020 г. В реальности последние участники присоединились 23 декабря."
   ]
  },
  {
   "cell_type": "code",
   "execution_count": null,
   "metadata": {},
   "outputs": [],
   "source": [
    "#Выясняем дату остановки теста.\n",
    "user_events_data['day'].max()"
   ]
  },
  {
   "cell_type": "markdown",
   "metadata": {},
   "source": [
    "Точную дату формального прекращения теста установить не удалось. Фактически, с 31 декабря 2020 г. по 4 января 2021 г. тестирование уже не проводилось. Очевидно, \"затишье\" было вызвано праздниками. Данное обстоятельство делает результаты тестирования некорректными."
   ]
  },
  {
   "cell_type": "code",
   "execution_count": null,
   "metadata": {},
   "outputs": [],
   "source": [
    "#Создаём таблицу, включающую данные о пользователях, об активности и о тестах пользователей для recommender_system_test\n",
    "#total_data_table = temp_new_user_data.merge(user_events_data, on = 'user_id', how = 'left')\n",
    "#Находим количество уникальных user_id в таблице\n",
    "total_number_unique_user_id = temp_new_user_data.nunique(axis = 0)\n",
    "display('Общее количество участников тестов: ', total_number_unique_user_id['user_id'])\n",
    "\n",
    "#Находим общее количество уникальных user_id всех европейцев, зарегистрировавшихся\n",
    "#по 21 декабря 2020 г., включительно.\n",
    "total_data_table_eu = temp_new_user_data.query('region == \"EU\" and first_date <= \"2020-12-21\"').nunique(axis = 0)\n",
    "display('Общее количество участников тестов из Евросоюза: ', total_data_table_eu['user_id'])\n",
    "\n",
    "#Находим общее количество уникальных user_id всех европейцев в тесте recommender_system_test\n",
    "#data_table_recommender_system_test = total_data_table.query('ab_test == \"recommender_system_test\"')\n",
    "recommender_system_test_eu = test_new_user_data.query('region == \"EU\"').nunique(axis = 0)\n",
    "display('Количество участников теста recommender_system_test из Евросоюза: ', recommender_system_test_eu['user_id'])\n",
    "\n",
    "#Находим долю европейцев, участвовавших в recommender_system_test от числа всех зарегистрированных европейцев.\n",
    "eu_users_share = recommender_system_test_eu['user_id'] / total_data_table_eu['user_id']\n",
    "display('Доля европейцев в тесте recommender_system_test от общего количества участников теста: ', eu_users_share)\n",
    "\n",
    "#Находим общее количество уникальных user_id всех участников recommender_system_test\n",
    "user_recommender_system_test_number = test_new_user_data.nunique(axis = 0)\n",
    "display('Общее количество участников теста recommender_system_test', user_recommender_system_test_number['user_id'])\n",
    "total_data_table_eu"
   ]
  },
  {
   "cell_type": "markdown",
   "metadata": {},
   "source": [
    "Всего пользователей в таблице 16666. Пользователей из Евросоюза - 16316. 6351 пользователь из Евросоюза участвовал в тесте recommender_system_test, что составило 41.47% от числа европейцев, зарегистрировавшихся по 21 декабря включительно. В 2.76 раза больше, чем определено в ТЗ. Это должно серьёзно сказаться на репрезентативности теста, и, в конечном итоге, на его результатах.\n",
    "\n",
    "Ожидаемое количество участников в 6000 человек. Набрано для теста 6700. Тот факт, что активность была только до 30 декабря включительно, учтём в процессе EDA. Ожидается, что количество участников ещё уменьшится. Здесь явное несоответствий требованиям ТЗ."
   ]
  },
  {
   "cell_type": "code",
   "execution_count": null,
   "metadata": {},
   "outputs": [],
   "source": [
    "recommender_system_test_eu['user_id']/len(new_user_data.query('first_date <= \"2020-12-21\" & region == \"EU\"'))"
   ]
  },
  {
   "cell_type": "markdown",
   "metadata": {},
   "source": [
    "#### Проверка времени проведения теста."
   ]
  },
  {
   "cell_type": "code",
   "execution_count": null,
   "metadata": {},
   "outputs": [],
   "source": [
    "#Выявляем совпадение теста с маркетинговой активностью.\n",
    "#marketing_calender_test = marketing_calender.query('start_dt >= \"2020-12-07\"')\n",
    "#display(marketing_calender_test)\n",
    "\n",
    "test_period = pd.Interval(pd.Timestamp('2020-12-07 00:00:00'),\n",
    "                        pd.Timestamp('2021-01-04 00:00:00'))\n",
    "\n",
    "marketing_calender_test2 = []\n",
    "\n",
    "for i in range(len(marketing_calender)):\n",
    "    event_interval = pd.Interval(pd.Timestamp(marketing_calender['start_dt'][i]),\n",
    "                                pd.Timestamp(marketing_calender['finish_dt'][i]))\n",
    "    is_event_overlaping = test_period.overlaps(event_interval)\n",
    "    if is_event_overlaping:\n",
    "        marketing_calender_test2.append(marketing_calender.loc[i])\n",
    "        \n",
    "display(pd.DataFrame(marketing_calender_test2))\n",
    "        "
   ]
  },
  {
   "cell_type": "markdown",
   "metadata": {},
   "source": [
    "Два маркетинговых события, охватывающих три больших региона совпадают с периодом тестирования.Сами эти события так же накладываются друг на друга, что делает период с 25 декабря 2020 г. по 4 января 2021  неудачным для тестирования, поскольку активность клиентов в этот период отличается от нормальной. Для периода с 30 декабря 2020 г. по 3 января 2021 г. ситуация ещё менее подходящая, поскольку в это время тест пересекается с двумя маркетинговыми событиями одновременно. "
   ]
  },
  {
   "cell_type": "markdown",
   "metadata": {},
   "source": [
    "#### Проверка аудитории теста."
   ]
  },
  {
   "cell_type": "code",
   "execution_count": null,
   "metadata": {},
   "outputs": [],
   "source": [
    "#Проверяю аудиторию на пересечение двух тестов.\n",
    "#Создаём таблицу с дубликатами.\n",
    "cross_test = test_participants[test_participants['user_id'].duplicated() == True]\n",
    "\n",
    "#Проходим по таблице срезом.\n",
    "check_result_system_test = cross_test.query('ab_test == \"recommender_system_test\"')\n",
    "check_result_eu_interface = cross_test.query('ab_test == \"interface_eu_test\"')\n",
    "display(check_result_system_test['user_id'].count())\n",
    "display(check_result_eu_interface['user_id'].count())\n"
   ]
  },
  {
   "cell_type": "markdown",
   "metadata": {},
   "source": [
    "В таблице с участниками тестов (test_participants) 1602 дубликата. Срезом query() по таблице с дубликатими (cross_test) мы получаем либо 1602 человека участвующих в параллельном тесте, либо ноль, если делаем срез по интересующему нас тесту. Из этого следует, что все 1602 дубликата в колонке user_id в двух тестах одновременно.\n",
    "Это некритично, если параллельный тест касается другого продукта или если во втором тесте участник находится в той же группе."
   ]
  },
  {
   "cell_type": "code",
   "execution_count": null,
   "metadata": {},
   "outputs": [],
   "source": [
    "#Проверяем участников теста на участие в двух группах одновременно\n",
    "#Проверяю аудиторию на участие в двух группах.\n",
    "#Создаём таблицу с дубликатами для всех участников.\n",
    "cross_group_total = test_participants[test_participants['user_id'].duplicated() == True]\n",
    "\n",
    "#Выясняем, в какую группу в recommender_system_test попали участники теста interface_eu_test.\n",
    "cross_test_groups = cross_group_total.merge(test_participants, on = 'user_id', how = 'left')\n",
    "#display(cross_test_groups)\n",
    "result = cross_test_groups.query('ab_test_x == \"interface_eu_test\" and ab_test_y == \"recommender_system_test\"')\n",
    "#display(result)\n",
    "result_user_count_a = result.query('group_x == \"A\"')\n",
    "result_user_count_b = result.query('group_x == \"B\"')\n",
    "display('Число участников теста recommender_system_test, попавших в контрольную группу теста  interface_eu_test', result_user_count_a['user_id'].count())\n",
    "display('Число участников теста recommender_system_test, попавших в тестовую группу теста interface_eu_test ', result_user_count_b['user_id'].count())\n",
    "\n",
    "\n",
    "#Ищем пересечения по группам внутри теста recommender_system_test.\n",
    "#Использую ранее сделанное объединение таблиц участников теста recommender_system_test и данных пользователей.\n",
    "duplicated_group = test_new_user_data[test_new_user_data['user_id'].duplicated() == True]\n",
    "duplicated_group_count = duplicated_group.nunique()\n",
    "display(duplicated_group)\n",
    "display(duplicated_group_count)\n",
    "#Для надёжности проверяю, есть ли значения в предполагаемой таблице с дубликатами user_id по группам.\n",
    "duplicated_group_a = duplicated_group.query('group == \"A\"')\n",
    "duplicated_group_b = duplicated_group.query('group == \"B\"')\n",
    "display(duplicated_group_a)\n",
    "display(duplicated_group_b)\n",
    "#Сравниваю общее количество user_id в таблице и количество уникальных значений в user_id\n",
    "#duplicated_id_count = test_new_user_data['user_id']\n",
    "#duplicated_id = data_table_recommender_system_test['user_id'].nunique()\n",
    "#duplicate_test = data_table_recommender_system_test.nunique(axis = 0)\n",
    "#display('Общее количество user_id: ', duplicated_id_count)\n",
    "#display('Количество уникальных user_id: ', duplicated_id)\n",
    "#duplicate_test"
   ]
  },
  {
   "cell_type": "markdown",
   "metadata": {},
   "source": [
    "Проверка на дубликаты и на количество дубликатов в таблице с данными участников recommender_system_test показала отсутствие пересечений по группам внутри этого теста.\n",
    "Следовательно, никто в тесте recommender_system_test не участвует в двух группах одновременно.\n",
    "\n",
    "Дубликаты по группам существуют только по причине того, что часть пользователей участвует в двух тестах.\n",
    "\n",
    "783 участника recommender_system_test попали в тестовую группу теста interface_eu_test. Следовательно, результаты recommender_system_test могут быть искажены."
   ]
  },
  {
   "cell_type": "code",
   "execution_count": null,
   "metadata": {},
   "outputs": [],
   "source": [
    "#Строим общую таблицу.\n",
    "full_table = test_participants.merge(new_user_data, on = 'user_id', how = 'left')\n",
    "full_table_result = full_table.merge(user_events_data, on = 'user_id', how = 'left')\n",
    "#display(full_table_result)\n",
    "\n",
    "#Фильтруем данные по участию в тесте.\n",
    "#Фильтруем события старше 14 дней.\n",
    "recommender_system_test_time_delta = full_table_result.drop(full_table_result[full_table_result['event_dt'] >= (full_table_result['first_date'] + pd.Timedelta(14, 'D'))].index)\n",
    "#display(recommender_system_test_table)\n",
    "#Учитываем только участников recommender_system_test.\n",
    "recommender_system_test = recommender_system_test_time_delta.query('ab_test == \"recommender_system_test\"')\n",
    "# считаем общее количество участников, подходящих по времени\n",
    "participants_count = recommender_system_test['user_id'].nunique()\n",
    "display('Всего участников, соответствующих периоду, указанному в ТЗ: ' ,participants_count)\n",
    "\n",
    "#Убираем неактивных пользователей\n",
    "non_active_count_a = recommender_system_test.query('event_dt == \"NaT\" and group == \"A\"')\n",
    "non_active_count_b = recommender_system_test.query('event_dt == \"NaT\" and group == \"B\"')\n",
    "display('Количество неактивных участников в группе А: ', non_active_count_a['user_id'].nunique())\n",
    "display('Количество неактивных участников в группе В: ', non_active_count_b['user_id'].nunique())\n",
    "\n",
    "#Таблица активных участников\n",
    "filter_full_table_result = recommender_system_test.query('event_dt != \"NaT\"')\n",
    "#display(filter_full_table_result)\n",
    "display('Количество активных участников в тесте: ', filter_full_table_result['user_id'].nunique())\n",
    "\n",
    "#Определяем количество активных участников в каждой группе с учётом соблюдения 14-дневного срока\n",
    "filter_participants_a = filter_full_table_result.query('group == \"A\"')\n",
    "filter_participants_b = filter_full_table_result.query('group == \"B\"')\n",
    "display('Количество активных участников в группе А: ',filter_participants_a['user_id'].nunique())\n",
    "display('Количество активных участников в группе В: ',filter_participants_b['user_id'].nunique())\n"
   ]
  },
  {
   "cell_type": "markdown",
   "metadata": {},
   "source": [
    "Всего в тесте 6701 человек. Из них 3026 - неактивных.\n",
    "Из них в группе А 1077 и в группе В 1949 человека.\n",
    "Активных участников в тесте всего 3675 человека, вместо необходимых 6000.\n",
    "В группе А остаётся 2747 человек, и в группе В - 928 человек.\n",
    "Распределение между группами в любом случае остаётся неравномерным: группа А составляет 74.75% от числа всех участников."
   ]
  },
  {
   "cell_type": "code",
   "execution_count": null,
   "metadata": {},
   "outputs": [],
   "source": [
    "#Проверяем деление трафика по устройствам в каждой группе.\n",
    "device_number_a = filter_participants_a.query('device == \"PC\" or  device == \"Mac\"')\n",
    "device_number_b = filter_participants_b.query('device == \"PC\" or  device == \"Mac\"')\n",
    "#Делим совокупное количество владельцев десктопных устройств на общее количество людей для каждой из двух груп\n",
    "display(device_number_a['device'].count() / filter_participants_a['user_id'].count())\n",
    "display(device_number_b['device'].count() / filter_participants_b['user_id'].count())\n"
   ]
  },
  {
   "cell_type": "markdown",
   "metadata": {},
   "source": [
    "Владельцы компьютеров и ноутбуков среди активных участников составляют по группам 35.94% для группы А и 30.14% для группы В. Трафик  между мобильными и десктопными устройствами распределён неравномерно, хотя различие между группами по этому показателю невелико. Доля владельцев десктопных устройств в тесте, очевидно отражает их реальную долю от общего количества людей, пользующихся интенетом."
   ]
  },
  {
   "cell_type": "markdown",
   "metadata": {},
   "source": [
    "### Промежуточный вывод о качестве исходных данных."
   ]
  },
  {
   "cell_type": "markdown",
   "metadata": {},
   "source": [
    "При проведении тестирования необходимо учитывать сложный состав данных, которые нельзя назвать чистыми.\n",
    "Пропуски есть только в таблице с активностью. Они являются логичным следствием принципы учёта активности и анализу не мешают.\n",
    "В таблице участников тестов. Присутствуют в большом количестве(1602) дубликаты user_id. Это связано с тем, что пользователи участвовали в двух тестах. Часть пользователей нашего теста участвовала в конкурирующем в составе тестовой группы, что может оказать влияние на результат.\n",
    "Других дубликатов, включая пересечение по группам внутри нашего теста, нет. Это очень хорошо.\n",
    "Данные по активности обрываются после 30 декабря, что сильно затрудняет анализ результатов теста.\n",
    "Данные об участниках можно разделить на три уровня по критерию активности в тесте. Вместо 6000 человек для этого А/В-теста набрано 6701 (1-й уровень); участвовало в тесте (совершали события) 4673 человек (2-й уровень); участвовали все 14 дней 2272 активного участника совокупно, в обеих группах (3-уровень).\n",
    "Группы представленные изначально отличаются по количеству очень сильно в 2.66 раза. Разница численности групп активных пользователей - 2.36 раза. Группа В в обоих случаях меньше. Это не оказывает принципиального влияния на качество теста.\n",
    "Доля жителей Европы, привлечённых в тест, от общего числа зарегистрированных за время теста европейцев, в реальности составила 38.92% зарегистрированных пользователей из Европы, вместо оговоренных 15%, что превышает условие в ТЗ в 2.5 раза.\n",
    "Данные так же указывают на совпадение теста по времени с двумя маркетинговыми мероприятиями, которые могут повлиять на поведение пользователей и, как следствие, на результат теста.\n",
    "\n",
    "Принципиальное влияние на исход теста могут оказать:\n",
    "неполные данные по длительности теста;\n",
    "доля европейцев от общего числа зарегистрированных европейцев;\n",
    "участие пользователей в тестовой группе конкурирующего теста;\n",
    "совпадение теста с маркетинговыми событиями."
   ]
  },
  {
   "cell_type": "markdown",
   "metadata": {},
   "source": [
    " ## Исследовательский анализ данных.\n",
    " <a id=\"eda\"></a>"
   ]
  },
  {
   "cell_type": "markdown",
   "metadata": {},
   "source": [
    "### Сравнение распределений количества событий на пользователя для обеих групп."
   ]
  },
  {
   "cell_type": "code",
   "execution_count": null,
   "metadata": {},
   "outputs": [],
   "source": [
    "#Строим распределение количества событий по пользователям.\n",
    "\n",
    "#Распределение количества событий по пользователям для группы А:\n",
    "\n",
    "events_by_users_a = (\n",
    "    filter_participants_a.groupby('user_id', as_index=False)\n",
    "    .agg({'event_name': 'count'})\n",
    ")\n",
    "\n",
    "#Распределение количества событий по пользователям для группы В:\n",
    "events_by_users_b = (\n",
    "    filter_participants_b.groupby('user_id', as_index=False)\n",
    "    .agg({'event_name': 'count'})\n",
    ")\n",
    "\n",
    "\n",
    "#Строим графики\n",
    "ax = sns.histplot(events_by_users_a['event_name'], bins = 25, color = 'blue')\n",
    "sns.histplot(events_by_users_b['event_name'], bins = 25, color=\"orange\", alpha = 0.7)\n",
    "plt.title('Количество событий на участника теста.')\n",
    "ax.set(xlabel='Количество событий', ylabel='Количество участников')\n",
    "ax.legend(['Группа А', 'Группа В'])\n",
    "plt.show()\n",
    "\n",
    "\n",
    "sns.boxplot(x = 'event_name', data = events_by_users_a)\n",
    "plt.title('Активность участников группы А')\n",
    "plt.xlabel('Количество событий для участников группы А')\n",
    "plt.show()\n",
    "sns.boxplot(x = 'event_name', data = events_by_users_b, color=\"orange\")\n",
    "plt.title('Активность участников группы В')\n",
    "plt.xlabel('Количество событий для участников группы В')\n",
    "\n",
    "plt.show()\n"
   ]
  },
  {
   "cell_type": "code",
   "execution_count": null,
   "metadata": {},
   "outputs": [],
   "source": [
    "display(np.percentile(events_by_users_a['event_name'], [95, 97.5, 99]))\n",
    "display(np.percentile(events_by_users_b['event_name'], [95, 97.5, 99]))"
   ]
  },
  {
   "cell_type": "markdown",
   "metadata": {},
   "source": [
    "Здесь учитываем только тех участников, которые были активны 14 дней (или по которым сохранились данные за 14 дней).\n",
    "Распределение активности обеих групп близко к нормальному.\n",
    "Активность в совершении событий для группы А несколько выше. Медианное значение событий на человека в контрольной группе - 6, в тестовой - 4. Максимальная статистически значимая величина количества событий на человека - 16 для группы А и 12 для группы В.\n",
    "Количественно выбросы в группах одинаковые, но в группе В присутствуют более заметные выбросы.\n",
    "Участники группы В менее активны."
   ]
  },
  {
   "cell_type": "markdown",
   "metadata": {},
   "source": [
    "### Сравнение распределений число событий в выборках по дням"
   ]
  },
  {
   "cell_type": "code",
   "execution_count": null,
   "metadata": {},
   "outputs": [],
   "source": [
    "#Создаём таблицы по выборкам\n",
    "\n",
    "events_by_day_a = (\n",
    "    filter_participants_a.groupby('day', as_index=False)\n",
    "    .agg({'event_name': 'count'})\n",
    ")\n",
    "events_by_day_a.columns = ['day', 'event_name']\n",
    "\n",
    "#Для группы В:\n",
    "events_by_day_b = (\n",
    "    filter_participants_b.groupby('day', as_index=False)\n",
    "    .agg({'event_name': 'count'})\n",
    ")\n",
    "events_by_day_b.columns = ['day', 'event_name']\n",
    "\n",
    "\n",
    "#Строим графики\n",
    "plt.figure(figsize=(15,7))\n",
    "plt.barh(events_by_day_a['day'], events_by_day_a['event_name'], color='blue', alpha=0.45, label='Группа А')\n",
    "plt.barh(events_by_day_b['day'], events_by_day_b['event_name'], color='orange', alpha=0.75, label='Группа В')\n",
    "plt.xlabel('Кол-во событий')\n",
    "plt.ylabel('ДАТА')\n",
    "#plt.title('Распределение событий по дням')\n",
    "plt.legend()\n",
    "plt.show()"
   ]
  },
  {
   "cell_type": "markdown",
   "metadata": {},
   "source": [
    "События по дням в группе А распределены близко к нормальному. В группе В - два пика, в начале и в середине теста. 30 декабря активность резко обрывается. В этот день активность (незначительную) показали только участники группы В.\n",
    "Распределение по дням показывает бОльшую активность контрольной группы, что, судя по разнице графиков, не всегда может быть объяснено только значительным численным превосходством группы А."
   ]
  },
  {
   "cell_type": "code",
   "execution_count": null,
   "metadata": {},
   "outputs": [],
   "source": [
    "group_participants_by_date_a = filter_participants_a.query('group == \"A\"').groupby('first_date')['user_id'].count()\n",
    "group_participants_by_date_b = filter_participants_b.query('group == \"B\"').groupby('first_date')['user_id'].count()\n",
    "\n",
    "display(group_participants_by_date_a)\n",
    "display(group_participants_by_date_b)"
   ]
  },
  {
   "cell_type": "markdown",
   "metadata": {},
   "source": [
    "14 декабря в группе А происходит всплеск регистраций пользователей, затем показатель снижается (после 15 декабря - постепенно). В группе бы 16 декабря происходит однодневный всплеск регистраций, на второй день происходит резкое павдение этого показателя. Показатель для группы А превосходит показатель группы В в разы. 15 декабря - более чем 10 раз."
   ]
  },
  {
   "cell_type": "markdown",
   "metadata": {},
   "source": [
    "### Изучение изменений конверсии в воронке в выборках на разных этапах."
   ]
  },
  {
   "cell_type": "code",
   "execution_count": null,
   "metadata": {},
   "outputs": [],
   "source": [
    "#Строим таблицы по группам для участников, которые участвовали весь срок - 14 дней\n",
    "#filter_participants_a = filter_full_table_result.query('group == \"A\"')\n",
    "#filter_participants_b = filter_full_table_result.query('group == \"B\"')\n",
    "conversion_rate_a = filter_participants_a.groupby('event_name').agg({'user_id': 'nunique'}).sort_values(by='event_name', ascending=False).reset_index()\n",
    "conversion_rate_b = filter_participants_b.groupby('event_name').agg({'user_id': 'nunique'}).sort_values(by='event_name', ascending=False).reset_index()\n",
    "\n",
    "sorted_conversion_rate_a = conversion_rate_a.sort_values(by = 'user_id', ascending = False)\n",
    "sorted_conversion_rate_b = conversion_rate_b.sort_values(by = 'user_id', ascending = False)\n",
    "display(sorted_conversion_rate_a)\n",
    "sorted_conversion_rate_b\n"
   ]
  },
  {
   "cell_type": "markdown",
   "metadata": {},
   "source": [
    "Обращает на себя внимание, что в обеих товар в корзину положило меньше участников, чем совершило покупку. Это вызвано, тем, что здесь нет прямой последовательности.\n",
    "С одной стороны, пользователь может использовать корзину вместо \"Избранного\", если оно вообще есть в данном случае. То есть, человек кладёт что-то в корзину, чтобы подумать, точно ли ему нужен этот продукт.\n",
    "С другой стороны, покупатели могут воспользоваться возможностью \"быстрой покупки\", переходя сразу от товара к оплате. Скорее всего здесь мы сталкиваемся с людьми, которые уже точно знают, какой товар и с какими характеристиками они хотят приобрести.\n",
    "В группе В залогинилось на 1 человека меньше, чем в тесте приняло активное участие. Кто-то совершал покупку без входа в личный кабинет или подобного действия."
   ]
  },
  {
   "cell_type": "code",
   "execution_count": null,
   "metadata": {},
   "outputs": [],
   "source": [
    "#Строим воронки для каждой группы.\n",
    "sorted_conversion_rate_a = sorted_conversion_rate_a.reindex([3, 1, 2, 0])\n",
    "#Воронка для группы А\n",
    "fig = go.Figure(\n",
    "    go.Funnel(\n",
    "        y= sorted_conversion_rate_a['event_name'],\n",
    "        x= sorted_conversion_rate_a['user_id'],\n",
    "        \n",
    "    )\n",
    "    \n",
    ")\n",
    "fig.update_layout(title={\"text\": \"Воронка продаж для группы А.\"})\n",
    "fig.show()\n",
    "\n",
    "\n",
    "\n",
    "#Воронка для группы В\n",
    "sorted_conversion_rate_b = sorted_conversion_rate_b.reindex([3, 1, 2, 0])\n",
    "fig = go.Figure(\n",
    "    go.Funnel(\n",
    "        y= sorted_conversion_rate_b['event_name'],\n",
    "        x= sorted_conversion_rate_b['user_id'],\n",
    "    )\n",
    ")\n",
    "fig.update_layout(title={\"text\": \"Воронка продаж для группы В.\"})\n",
    "\n",
    "fig.show() \n"
   ]
  },
  {
   "cell_type": "code",
   "execution_count": null,
   "metadata": {},
   "outputs": [],
   "source": [
    "#Создаём таблицы конверсии относительно login для каждой группы\n",
    "sorted_conversion_rate_a['conversion'] = (sorted_conversion_rate_a['user_id'] / sorted_conversion_rate_a.iloc[0, 1] * 100).round(2)\n",
    "sorted_conversion_rate_b['conversion'] = (sorted_conversion_rate_b['user_id'] / sorted_conversion_rate_b.iloc[0, 1] * 100).round(2)\n",
    "display(sorted_conversion_rate_a)\n",
    "sorted_conversion_rate_b"
   ]
  },
  {
   "cell_type": "markdown",
   "metadata": {},
   "source": [
    "При проведении тестирования необходимо учитывать сложный состав данных, которые нельзя назвать чистыми.\n",
    "Во-первых, нужно учесть, что таблицы содержат информацию по двум тестам.\n",
    "Во-вторых, данные по активности обрываются после 30 декабря, так что последние участники тестировались только 10-13 дней и их активность учитывать нельзя.\n",
    "В-четвёртых, хотя, вместо 6000 человек для этого А/В-теста набрано 6701, активно участвовало в тесте 3675 человек.\n",
    "В-пятых, группы отличаются по количеству очень сильно. Группа А больше группы В в 2.96 раза.\n",
    "В-шестых, доля жителей Европы, попавших в тест, в 2.76 раз превышает условие в ТЗ.\n",
    "Наконец, данные указывают на совпадение теста по времени с двумя маркетинговыми событиями и с двумя праздниками: Рождеством (помним, что у нас большинство участников из региона Европейский Союз, добавляем к ним участников из Северной Америки) и Новым годом (что актуально на территории СНГ). Если Рождество в Европе - семейный праздник, то на период от Рождества до Трёх королей (6 января), а то и до 10 января, многие уезжают в отпуска для активного отдыха. Тест необходимо было перенести, а состав участников пополнить."
   ]
  },
  {
   "cell_type": "markdown",
   "metadata": {},
   "source": []
  },
  {
   "cell_type": "markdown",
   "metadata": {},
   "source": [
    "## Оценка результатов A/B-тестирования.\n",
    "<a id=\"a/b_testing\"></a>"
   ]
  },
  {
   "cell_type": "code",
   "execution_count": null,
   "metadata": {
    "scrolled": true
   },
   "outputs": [],
   "source": [
    "#Строим общую таблицу с конверсией для обеих групп.\n",
    "result_conversion_rate = sorted_conversion_rate_a.merge(sorted_conversion_rate_b, on = 'event_name')\n",
    "\n",
    "result_conversion_rate.rename(columns = {'user_id_x':'events_number_a', 'conversion_x':'conversion_a', 'user_id_y':'events_number_b', 'conversion_y':'conversion_b' }, inplace = True )\n",
    "#Добавляем колонку с разницей конверсии.\n",
    "result_conversion_rate['conversion_delta %'] = (result_conversion_rate['conversion_b'] / result_conversion_rate['conversion_a'] * 100 - 100).round(2)\n",
    "result_conversion_rate"
   ]
  },
  {
   "cell_type": "markdown",
   "metadata": {},
   "source": [
    "На всех этапах воронки конверсия в группе В хуже, чем в группе А.\n",
    "Вместо роста по всем метрикам на 10% получили падение метрик: по конверсии в product_page  -12.93%, по конверсии в product_cart  -8.3% и по конверсии в purchase  -12.98%.\n",
    "Вместо заметного роста получили заметное падение.\n",
    "Мы могли бы предположить, что внесённые изменения ухудшили продукт или усложнили пользовательский опыт. Однако мы должны учитывать, что по многоим пунктам организаторам теста не удалось соблюсти не только условия ТЗ, но и общие принципы А/В-тестирования. "
   ]
  },
  {
   "cell_type": "markdown",
   "metadata": {},
   "source": [
    "### Проверка статистической разницы долей z-критерием."
   ]
  },
  {
   "cell_type": "markdown",
   "metadata": {},
   "source": [
    "Нулевая гипотеза: доли для контрольной и тестовой групп не имеют статистических различий.\n",
    "Альтернативная гипотеза: доли для контрольной и тестовой групп имеют статистические различия."
   ]
  },
  {
   "cell_type": "code",
   "execution_count": null,
   "metadata": {},
   "outputs": [],
   "source": [
    "#Создаём функцию для проведения z-теста по четырём метрикам.\n",
    "\n",
    "def z_test(successes, trials, alpha):\n",
    "    \n",
    "    alpha = .05\n",
    "\n",
    "# Пропорция успехов в первой группе:\n",
    "    p1 = successes[0]/trials[0]\n",
    "\n",
    "# Пропорция успехов во второй группе:\n",
    "    p2 = successes[1]/trials[1]\n",
    "    \n",
    "    display(successes[0], successes[1], trials[0], trials[1])\n",
    "# Пропорция успехов в комбинированном датасете:\n",
    "    p_combined = (successes[0] + successes[1]) / (trials[0] + trials[1])\n",
    "\n",
    "# Разница пропорций в датасетах\n",
    "    difference = p1 - p2 \n",
    "\n",
    "\n",
    "# Считаем статистику в ст.отклонениях стандартного нормального распределения\n",
    "    z_value = difference / mth.sqrt(p_combined * (1 - p_combined) * (1/trials[0] + 1/trials[1]))\n",
    "\n",
    "# Задаем стандартное нормальное распределение\n",
    "    distr = st.norm(0, 1)  \n",
    "\n",
    "    p_value = ((1 - distr.cdf(abs(z_value))) * 2)\n",
    "    \n",
    "    \n",
    "    display('p-значение ', p_value)\n",
    "   \n",
    "\n",
    "    \n",
    "\n",
    "    if p_value < alpha:\n",
    "        display('Отвергаем нулевую гипотезу: между долями есть значимая разница')\n",
    "    else:\n",
    "        display(\n",
    "        'Не получилось отвергнуть нулевую гипотезу, нет оснований считать доли разными')    \n",
    "        "
   ]
  },
  {
   "cell_type": "code",
   "execution_count": null,
   "metadata": {},
   "outputs": [],
   "source": [
    "#Создаём цикл для использования функции.\n",
    "alpha = .05\n",
    "alpha_bonferroni = alpha/3\n",
    "\n",
    "trials = [sorted_conversion_rate_a.iloc[0, 1], sorted_conversion_rate_b.iloc[0, 1]]\n",
    "\n",
    "event_table = result_conversion_rate[['event_name', 'events_number_a', 'events_number_b']]\n",
    "\n",
    "event_dict = event_table.set_index('event_name').to_dict('index')\n",
    "\n",
    "for ev in ['product_page', 'product_cart', 'purchase']:\n",
    "    successes = [event_dict[ev][\"events_number_a\"], event_dict[ev][\"events_number_b\"]]\n",
    "    display(f'Тестируем событие \"{ev}\" / successes = {event_dict[ev][\"events_number_a\"], event_dict[ev][\"events_number_b\"]}')\n",
    "    \n",
    "    z_test(successes, trials, alpha_bonferroni)"
   ]
  },
  {
   "cell_type": "markdown",
   "metadata": {},
   "source": [
    "Статистическое отличие в долях групп А и В имеют метрики product_page, просевшая на 12.93%, и purchase, просевная на 12.98%. Метрика product_cart, просевшая на 8.3%, статистически значимых отличий по группам не имеет."
   ]
  },
  {
   "cell_type": "markdown",
   "metadata": {},
   "source": [
    "## Общие выводы.\n",
    "<a id=\"outcome\"></a>"
   ]
  },
  {
   "cell_type": "markdown",
   "metadata": {},
   "source": [
    "Участники первоначально набраны в нужном количестве. Но при этом мы должны учитывать, что в данных представленны люди, зарегистрировавшиеся после 17 декабря. Поскольку активность фактически завершилась к 31 декабря, люди, зарегистрировашиеся в период с 18 по 20 декабря, включительно, не могут быть учтены как полноценные участники теста.\n",
    "С учётом этого фактора в группе А полноценно участвовали лишь 2747 человек, а в группе В - 928. Всего активных участников, прошедших тестирование в течение всех 14-ти дней - 3675 человек.\n",
    "\n",
    "Распределение активности обеих групп близко к нормальному.\n",
    "Активность в совершении событий для группы А несколько выше. Медианное значение событий на человека в контрольной группе - 6, в тестовой - 4. Максимальная статистически значимая величина количества событий на человека - 16 для группы А и 12 для группы В.\n",
    "Количественно выбросов в группе В несколько больше, чем в контрольной группе.\n",
    "Активность в целом у обеих групп одинаковая, но стоит помнить о большой разнице в численности групп (в 2.96 раза).\n",
    "\n",
    "\n",
    "События по дням в группе А распределены близко к нормальному. В группе В - два пика, в начале и в середине теста. 30 декабря активность резко обрывается. В этот день активность (незначительную) показали только участники группы В.\n",
    "Распределение по дням показывает бОльшую активность контрольной группы, что, судя по разнице графиков, не всегда может быть объяснено только значительным численным превосходством группы А.\n",
    "14 декабря в активности контрольной группы произошёл всплеск, во многом определявшийся всплеском регистрации новых пользователей для этой группы.\n",
    "\n",
    "Обращает на себя внимание, что в группе А товар в корзину положило меньше участников, чем совершило покупку. Это вызвано, тем, что здесь нет прямой последовательности.\n",
    "С одной стороны, пользователь может использовать корзину вместо \"Избранного\", если оно вообще есть в данном случае. То есть, человек кладёт что-то в корзину, чтобы подумать, точно ли ему нужен этот продукт.\n",
    "С другой стороны, покупатели могут воспользоваться возможностью \"быстрой покупки\", переходя сразу от товара к оплате. Скорее всего здесь мы сталкиваемся с людьми, которые уже точно знают, какой товар и с какими характеристиками они хотят приобрести.\n",
    "В группе В залогинилось на 1 человека меньше, чем в тесте приняло активное участие. Кто-то совершал покупку без входа в личный кабинет или подобного действия.\n",
    "\n",
    "При проведении тестирования необходимо учитывать сложный состав данных, которые нельзя назвать чистыми.\n",
    "Во-первых, нужно учесть, что таблицы содержат информацию по двум тестам.\n",
    "Во-вторых, данные по активности обрываются после 30 декабря, так что последние участники тестировались только 10-13 дней и их активность учитывать нельзя.\n",
    "В-третьих, хотя вместо 6000 человек для этого А/В-теста набрано 6701, участвовало в тесте (совершали события) 3675 человек. То есть нужно учитывать, что совокупность зарегистрированных участников должна быть заметно выше необходимого минимума.\n",
    "В-четвёртых, группы изначально отличаются по количеству очень сильно в 2.36 раза.\n",
    "В-пятых, доля жителей Европы, привлечённых в тест в реальности составила 41.47% зарегистрированных  по 21 декабря пользователей из Европы, вместо оговоренных 15%, что превышает условие в ТЗ в 2.76 раза. Такое превышение влияет на репрезентативность теста и искажает его результаты.\n",
    "В-шестых, 783 участника recommender_system_test участвовали и во втором тесте в тестовой группе, что может повлиять на результат нашего теста. Здесь стоит отметить, что пресечения по группам внутри recommender_system_test нет.\n",
    "Наконец, данные указывают на совпадение теста по времени с двумя маркетинговыми событиями и с двумя праздниками: Рождеством (помним, что у нас большинство участников из региона Европейский Союз, добавляем к ним участников из Северной Америки) и Новым годом (что актуально на территории СНГ). Если Рождество в Европе - семейный праздник, то на период от Рождества до Трёх королей (6 января), а то и до 10 января, многие уезжают в отпуска для активного отдыха. \n",
    "\n",
    "Таким образом, ТЗ по разным причинам было нарушено  по шести пунктам. Длительность участия, количество участников, совпадение с другими маркетинговыми событиями и совпадение с праздниками влияют на результат критично. Тест необходимо было перенести.\n",
    "\n",
    "\n",
    "На всех этапах воронки конверсия в группе В хуже, чем в группе А.\n",
    "Вместо роста по всем метрикам на 10% получили падение метрик: по конверсии в product_page  -12.93%, по конверсии в product_cart  -8.3% и по конверсии в purchase  -12.98%.\n",
    "Вместо заметного роста получили заметное падение.\n",
    "\n",
    "Статистическое отличие в долях групп А и В имеют метрики product_page, просевшая на 12.93%, и purchase, просевная на 12.98%. Метрика product_cart, просевшая на 8.3%, статистически значимых отличий по группам не имеет.\n",
    "\n",
    "Мы могли бы предположить, что внесённые изменения ухудшили продукт или усложнили пользовательский опыт. Однако мы должны учитывать, что по многим пунктам организаторам теста не удалось соблюсти не только условия ТЗ, но и общие принципы А/В-тестирования. Следовательно результаты теста НЕ могут быть признаны достоверными."
   ]
  }
 ],
 "metadata": {
  "ExecuteTimeLog": [
   {
    "duration": 71,
    "start_time": "2023-04-20T09:40:51.408Z"
   },
   {
    "duration": 452,
    "start_time": "2023-04-20T09:40:57.319Z"
   },
   {
    "duration": 838,
    "start_time": "2023-04-20T09:40:59.996Z"
   },
   {
    "duration": 97,
    "start_time": "2023-04-20T09:43:05.730Z"
   },
   {
    "duration": 18,
    "start_time": "2023-04-20T09:43:28.611Z"
   },
   {
    "duration": 13,
    "start_time": "2023-04-20T09:49:01.426Z"
   },
   {
    "duration": 24,
    "start_time": "2023-04-20T09:49:17.335Z"
   },
   {
    "duration": 11,
    "start_time": "2023-04-20T09:50:06.364Z"
   },
   {
    "duration": 5,
    "start_time": "2023-04-20T09:50:20.043Z"
   },
   {
    "duration": 71,
    "start_time": "2023-04-20T09:50:20.057Z"
   },
   {
    "duration": 29,
    "start_time": "2023-04-20T09:50:20.130Z"
   },
   {
    "duration": 540,
    "start_time": "2023-04-20T09:50:20.161Z"
   },
   {
    "duration": 40,
    "start_time": "2023-04-20T09:50:20.704Z"
   },
   {
    "duration": 911,
    "start_time": "2023-04-20T09:50:20.749Z"
   },
   {
    "duration": 107,
    "start_time": "2023-04-20T09:50:21.662Z"
   },
   {
    "duration": 657,
    "start_time": "2023-04-20T09:50:32.638Z"
   },
   {
    "duration": 56,
    "start_time": "2023-04-20T09:50:34.808Z"
   },
   {
    "duration": 37,
    "start_time": "2023-04-20T09:51:10.848Z"
   },
   {
    "duration": 92,
    "start_time": "2023-04-20T09:52:07.700Z"
   },
   {
    "duration": 23,
    "start_time": "2023-04-20T09:54:34.872Z"
   },
   {
    "duration": 1299,
    "start_time": "2023-04-20T10:22:11.192Z"
   },
   {
    "duration": 19,
    "start_time": "2023-04-20T10:22:28.639Z"
   },
   {
    "duration": 86,
    "start_time": "2023-04-20T10:23:31.238Z"
   },
   {
    "duration": 174,
    "start_time": "2023-04-20T10:23:51.139Z"
   },
   {
    "duration": 14,
    "start_time": "2023-04-20T10:29:35.357Z"
   },
   {
    "duration": 21,
    "start_time": "2023-04-20T10:30:28.656Z"
   },
   {
    "duration": 3,
    "start_time": "2023-04-20T10:33:10.836Z"
   },
   {
    "duration": 3,
    "start_time": "2023-04-20T10:33:15.977Z"
   },
   {
    "duration": 87,
    "start_time": "2023-04-20T10:33:15.983Z"
   },
   {
    "duration": 36,
    "start_time": "2023-04-20T10:33:16.072Z"
   },
   {
    "duration": 187,
    "start_time": "2023-04-20T10:33:16.111Z"
   },
   {
    "duration": 29,
    "start_time": "2023-04-20T10:33:16.302Z"
   },
   {
    "duration": 723,
    "start_time": "2023-04-20T10:33:16.349Z"
   },
   {
    "duration": 92,
    "start_time": "2023-04-20T10:33:17.075Z"
   },
   {
    "duration": 42,
    "start_time": "2023-04-20T10:33:17.171Z"
   },
   {
    "duration": 21,
    "start_time": "2023-04-20T10:33:17.215Z"
   },
   {
    "duration": 51,
    "start_time": "2023-04-20T10:33:17.238Z"
   },
   {
    "duration": 12,
    "start_time": "2023-04-20T10:33:23.006Z"
   },
   {
    "duration": 485,
    "start_time": "2023-04-20T10:33:38.688Z"
   },
   {
    "duration": 697,
    "start_time": "2023-04-20T10:34:04.283Z"
   },
   {
    "duration": 20,
    "start_time": "2023-04-20T10:34:51.245Z"
   },
   {
    "duration": 12,
    "start_time": "2023-04-20T10:35:35.285Z"
   },
   {
    "duration": 5,
    "start_time": "2023-04-20T10:35:47.284Z"
   },
   {
    "duration": 20,
    "start_time": "2023-04-20T10:36:05.165Z"
   },
   {
    "duration": 20,
    "start_time": "2023-04-20T10:36:38.663Z"
   },
   {
    "duration": 4,
    "start_time": "2023-04-20T10:36:46.182Z"
   },
   {
    "duration": 52,
    "start_time": "2023-04-20T10:36:46.188Z"
   },
   {
    "duration": 39,
    "start_time": "2023-04-20T10:36:46.254Z"
   },
   {
    "duration": 91,
    "start_time": "2023-04-20T10:36:46.296Z"
   },
   {
    "duration": 32,
    "start_time": "2023-04-20T10:36:46.390Z"
   },
   {
    "duration": 680,
    "start_time": "2023-04-20T10:36:46.424Z"
   },
   {
    "duration": 91,
    "start_time": "2023-04-20T10:36:47.105Z"
   },
   {
    "duration": 31,
    "start_time": "2023-04-20T10:36:47.198Z"
   },
   {
    "duration": 30,
    "start_time": "2023-04-20T10:36:47.232Z"
   },
   {
    "duration": 14,
    "start_time": "2023-04-20T10:36:47.264Z"
   },
   {
    "duration": 16,
    "start_time": "2023-04-20T10:37:19.473Z"
   },
   {
    "duration": 30,
    "start_time": "2023-04-20T10:38:51.852Z"
   },
   {
    "duration": 470,
    "start_time": "2023-04-20T10:40:47.456Z"
   },
   {
    "duration": 460,
    "start_time": "2023-04-20T10:41:29.031Z"
   },
   {
    "duration": 698,
    "start_time": "2023-04-20T10:41:52.756Z"
   },
   {
    "duration": 98,
    "start_time": "2023-04-20T10:42:44.741Z"
   },
   {
    "duration": 3,
    "start_time": "2023-04-20T10:43:43.850Z"
   },
   {
    "duration": 37,
    "start_time": "2023-04-20T10:43:43.856Z"
   },
   {
    "duration": 19,
    "start_time": "2023-04-20T10:43:43.895Z"
   },
   {
    "duration": 75,
    "start_time": "2023-04-20T10:43:43.916Z"
   },
   {
    "duration": 27,
    "start_time": "2023-04-20T10:43:43.994Z"
   },
   {
    "duration": 558,
    "start_time": "2023-04-20T10:43:44.023Z"
   },
   {
    "duration": 82,
    "start_time": "2023-04-20T10:43:44.583Z"
   },
   {
    "duration": 30,
    "start_time": "2023-04-20T10:43:44.667Z"
   },
   {
    "duration": 18,
    "start_time": "2023-04-20T10:43:44.699Z"
   },
   {
    "duration": 31,
    "start_time": "2023-04-20T10:43:44.719Z"
   },
   {
    "duration": 51,
    "start_time": "2023-04-20T10:43:44.752Z"
   },
   {
    "duration": 111,
    "start_time": "2023-04-20T10:43:44.804Z"
   },
   {
    "duration": 6,
    "start_time": "2023-04-20T12:19:56.868Z"
   },
   {
    "duration": 73,
    "start_time": "2023-04-20T12:20:51.396Z"
   },
   {
    "duration": 378,
    "start_time": "2023-04-20T12:21:51.734Z"
   },
   {
    "duration": 340,
    "start_time": "2023-04-20T12:22:23.935Z"
   },
   {
    "duration": 369,
    "start_time": "2023-04-20T12:23:16.078Z"
   },
   {
    "duration": 362,
    "start_time": "2023-04-20T12:23:29.139Z"
   },
   {
    "duration": 335,
    "start_time": "2023-04-20T12:23:44.476Z"
   },
   {
    "duration": 1900,
    "start_time": "2023-04-20T12:24:58.710Z"
   },
   {
    "duration": 1925,
    "start_time": "2023-04-20T12:25:25.258Z"
   },
   {
    "duration": 1960,
    "start_time": "2023-04-20T12:26:05.928Z"
   },
   {
    "duration": 325,
    "start_time": "2023-04-20T12:26:33.645Z"
   },
   {
    "duration": 376,
    "start_time": "2023-04-20T12:27:29.210Z"
   },
   {
    "duration": 253,
    "start_time": "2023-04-20T12:27:35.163Z"
   },
   {
    "duration": 12,
    "start_time": "2023-04-20T12:28:03.779Z"
   },
   {
    "duration": 16,
    "start_time": "2023-04-20T12:28:42.439Z"
   },
   {
    "duration": 332,
    "start_time": "2023-04-20T12:33:57.531Z"
   },
   {
    "duration": 357,
    "start_time": "2023-04-20T12:34:32.533Z"
   },
   {
    "duration": 327,
    "start_time": "2023-04-20T12:40:14.537Z"
   },
   {
    "duration": 6,
    "start_time": "2023-04-20T12:49:48.314Z"
   },
   {
    "duration": 26,
    "start_time": "2023-04-20T12:51:57.075Z"
   },
   {
    "duration": 7,
    "start_time": "2023-04-20T12:55:30.658Z"
   },
   {
    "duration": 12,
    "start_time": "2023-04-20T13:09:16.835Z"
   },
   {
    "duration": 10,
    "start_time": "2023-04-20T13:10:53.582Z"
   },
   {
    "duration": 9,
    "start_time": "2023-04-20T13:11:15.828Z"
   },
   {
    "duration": 9,
    "start_time": "2023-04-20T13:11:34.136Z"
   },
   {
    "duration": 4,
    "start_time": "2023-04-20T13:12:36.020Z"
   },
   {
    "duration": 55,
    "start_time": "2023-04-20T13:12:36.031Z"
   },
   {
    "duration": 24,
    "start_time": "2023-04-20T13:12:36.090Z"
   },
   {
    "duration": 103,
    "start_time": "2023-04-20T13:12:36.117Z"
   },
   {
    "duration": 34,
    "start_time": "2023-04-20T13:12:36.222Z"
   },
   {
    "duration": 680,
    "start_time": "2023-04-20T13:12:36.261Z"
   },
   {
    "duration": 96,
    "start_time": "2023-04-20T13:12:36.946Z"
   },
   {
    "duration": 37,
    "start_time": "2023-04-20T13:12:37.046Z"
   },
   {
    "duration": 45,
    "start_time": "2023-04-20T13:12:37.085Z"
   },
   {
    "duration": 36,
    "start_time": "2023-04-20T13:12:37.132Z"
   },
   {
    "duration": 7,
    "start_time": "2023-04-20T13:12:37.169Z"
   },
   {
    "duration": 21,
    "start_time": "2023-04-20T13:12:37.178Z"
   },
   {
    "duration": 78,
    "start_time": "2023-04-20T13:12:37.201Z"
   },
   {
    "duration": 134,
    "start_time": "2023-04-20T13:12:37.281Z"
   },
   {
    "duration": 6,
    "start_time": "2023-04-20T13:12:37.418Z"
   },
   {
    "duration": 85,
    "start_time": "2023-04-20T13:12:37.426Z"
   },
   {
    "duration": 384,
    "start_time": "2023-04-20T13:12:37.513Z"
   },
   {
    "duration": 16,
    "start_time": "2023-04-20T13:12:37.899Z"
   },
   {
    "duration": 39,
    "start_time": "2023-04-20T13:12:37.917Z"
   },
   {
    "duration": 829,
    "start_time": "2023-04-20T13:12:37.958Z"
   },
   {
    "duration": 127,
    "start_time": "2023-04-20T13:13:53.316Z"
   },
   {
    "duration": 104,
    "start_time": "2023-04-20T13:14:10.363Z"
   },
   {
    "duration": 10,
    "start_time": "2023-04-20T13:15:41.492Z"
   },
   {
    "duration": 16,
    "start_time": "2023-04-20T13:16:02.660Z"
   },
   {
    "duration": 10,
    "start_time": "2023-04-20T13:16:28.446Z"
   },
   {
    "duration": 170,
    "start_time": "2023-04-20T13:17:35.137Z"
   },
   {
    "duration": 36,
    "start_time": "2023-04-20T13:18:02.353Z"
   },
   {
    "duration": 7,
    "start_time": "2023-04-20T13:18:24.604Z"
   },
   {
    "duration": 28,
    "start_time": "2023-04-20T13:19:05.863Z"
   },
   {
    "duration": 14,
    "start_time": "2023-04-20T13:19:12.678Z"
   },
   {
    "duration": 55,
    "start_time": "2023-04-20T13:22:39.961Z"
   },
   {
    "duration": 39,
    "start_time": "2023-04-20T13:22:57.156Z"
   },
   {
    "duration": 40,
    "start_time": "2023-04-20T13:23:25.440Z"
   },
   {
    "duration": 457,
    "start_time": "2023-04-20T13:23:36.898Z"
   },
   {
    "duration": 31,
    "start_time": "2023-04-20T13:23:37.357Z"
   },
   {
    "duration": 27,
    "start_time": "2023-04-20T13:23:37.391Z"
   },
   {
    "duration": 96,
    "start_time": "2023-04-20T13:23:37.420Z"
   },
   {
    "duration": 31,
    "start_time": "2023-04-20T13:23:37.518Z"
   },
   {
    "duration": 611,
    "start_time": "2023-04-20T13:23:37.551Z"
   },
   {
    "duration": 82,
    "start_time": "2023-04-20T13:23:38.163Z"
   },
   {
    "duration": 30,
    "start_time": "2023-04-20T13:23:38.247Z"
   },
   {
    "duration": 58,
    "start_time": "2023-04-20T13:23:38.279Z"
   },
   {
    "duration": 41,
    "start_time": "2023-04-20T13:23:38.340Z"
   },
   {
    "duration": 7,
    "start_time": "2023-04-20T13:23:38.383Z"
   },
   {
    "duration": 23,
    "start_time": "2023-04-20T13:23:38.392Z"
   },
   {
    "duration": 44,
    "start_time": "2023-04-20T13:23:38.417Z"
   },
   {
    "duration": 149,
    "start_time": "2023-04-20T13:23:38.464Z"
   },
   {
    "duration": 7,
    "start_time": "2023-04-20T13:23:38.615Z"
   },
   {
    "duration": 55,
    "start_time": "2023-04-20T13:23:38.642Z"
   },
   {
    "duration": 367,
    "start_time": "2023-04-20T13:23:38.698Z"
   },
   {
    "duration": 15,
    "start_time": "2023-04-20T13:23:39.067Z"
   },
   {
    "duration": 18,
    "start_time": "2023-04-20T13:23:39.083Z"
   },
   {
    "duration": 47,
    "start_time": "2023-04-20T13:23:39.103Z"
   },
   {
    "duration": 133,
    "start_time": "2023-04-20T13:23:39.152Z"
   },
   {
    "duration": 52,
    "start_time": "2023-04-20T13:24:06.775Z"
   },
   {
    "duration": 50,
    "start_time": "2023-04-20T13:26:38.051Z"
   },
   {
    "duration": 44,
    "start_time": "2023-04-20T13:26:48.600Z"
   },
   {
    "duration": 88,
    "start_time": "2023-04-20T13:31:03.148Z"
   },
   {
    "duration": 55,
    "start_time": "2023-04-20T13:31:12.282Z"
   },
   {
    "duration": 13,
    "start_time": "2023-04-20T13:37:49.833Z"
   },
   {
    "duration": 50,
    "start_time": "2023-04-20T13:38:21.515Z"
   },
   {
    "duration": 1049,
    "start_time": "2023-04-20T13:40:59.737Z"
   },
   {
    "duration": 30,
    "start_time": "2023-04-20T13:41:00.789Z"
   },
   {
    "duration": 151,
    "start_time": "2023-04-20T13:41:00.821Z"
   },
   {
    "duration": 126,
    "start_time": "2023-04-20T13:41:00.975Z"
   },
   {
    "duration": 38,
    "start_time": "2023-04-20T13:41:01.103Z"
   },
   {
    "duration": 657,
    "start_time": "2023-04-20T13:41:01.143Z"
   },
   {
    "duration": 79,
    "start_time": "2023-04-20T13:41:01.803Z"
   },
   {
    "duration": 28,
    "start_time": "2023-04-20T13:41:01.884Z"
   },
   {
    "duration": 42,
    "start_time": "2023-04-20T13:41:01.914Z"
   },
   {
    "duration": 20,
    "start_time": "2023-04-20T13:41:01.960Z"
   },
   {
    "duration": 55,
    "start_time": "2023-04-20T13:41:01.982Z"
   },
   {
    "duration": 36,
    "start_time": "2023-04-20T13:41:02.039Z"
   },
   {
    "duration": 67,
    "start_time": "2023-04-20T13:41:02.077Z"
   },
   {
    "duration": 127,
    "start_time": "2023-04-20T13:41:02.146Z"
   },
   {
    "duration": 6,
    "start_time": "2023-04-20T13:41:02.275Z"
   },
   {
    "duration": 72,
    "start_time": "2023-04-20T13:41:02.283Z"
   },
   {
    "duration": 317,
    "start_time": "2023-04-20T13:41:02.358Z"
   },
   {
    "duration": 18,
    "start_time": "2023-04-20T13:41:02.677Z"
   },
   {
    "duration": 30,
    "start_time": "2023-04-20T13:41:02.697Z"
   },
   {
    "duration": 22,
    "start_time": "2023-04-20T13:41:02.742Z"
   },
   {
    "duration": 91,
    "start_time": "2023-04-20T13:41:02.767Z"
   },
   {
    "duration": 51,
    "start_time": "2023-04-20T13:41:02.860Z"
   },
   {
    "duration": 1119,
    "start_time": "2023-04-20T13:41:02.912Z"
   },
   {
    "duration": 53,
    "start_time": "2023-04-20T13:41:39.429Z"
   },
   {
    "duration": 611,
    "start_time": "2023-04-20T13:42:15.257Z"
   },
   {
    "duration": 817,
    "start_time": "2023-04-20T13:44:20.281Z"
   },
   {
    "duration": 16,
    "start_time": "2023-04-20T13:45:48.481Z"
   },
   {
    "duration": 61,
    "start_time": "2023-04-20T13:48:13.945Z"
   },
   {
    "duration": 4,
    "start_time": "2023-04-20T13:48:51.006Z"
   },
   {
    "duration": 37,
    "start_time": "2023-04-20T13:48:51.017Z"
   },
   {
    "duration": 23,
    "start_time": "2023-04-20T13:48:51.057Z"
   },
   {
    "duration": 101,
    "start_time": "2023-04-20T13:48:51.083Z"
   },
   {
    "duration": 31,
    "start_time": "2023-04-20T13:48:51.187Z"
   },
   {
    "duration": 623,
    "start_time": "2023-04-20T13:48:51.241Z"
   },
   {
    "duration": 117,
    "start_time": "2023-04-20T13:48:51.866Z"
   },
   {
    "duration": 27,
    "start_time": "2023-04-20T13:48:51.987Z"
   },
   {
    "duration": 81,
    "start_time": "2023-04-20T13:48:52.016Z"
   },
   {
    "duration": 56,
    "start_time": "2023-04-20T13:48:52.100Z"
   },
   {
    "duration": 57,
    "start_time": "2023-04-20T13:48:52.158Z"
   },
   {
    "duration": 25,
    "start_time": "2023-04-20T13:48:52.217Z"
   },
   {
    "duration": 100,
    "start_time": "2023-04-20T13:48:52.244Z"
   },
   {
    "duration": 153,
    "start_time": "2023-04-20T13:48:52.347Z"
   },
   {
    "duration": 6,
    "start_time": "2023-04-20T13:48:52.504Z"
   },
   {
    "duration": 74,
    "start_time": "2023-04-20T13:48:52.513Z"
   },
   {
    "duration": 315,
    "start_time": "2023-04-20T13:48:52.589Z"
   },
   {
    "duration": 37,
    "start_time": "2023-04-20T13:48:52.906Z"
   },
   {
    "duration": 14,
    "start_time": "2023-04-20T13:48:52.945Z"
   },
   {
    "duration": 44,
    "start_time": "2023-04-20T13:48:52.961Z"
   },
   {
    "duration": 57,
    "start_time": "2023-04-20T13:48:53.008Z"
   },
   {
    "duration": 1143,
    "start_time": "2023-04-20T13:48:53.068Z"
   },
   {
    "duration": 60,
    "start_time": "2023-04-20T13:49:25.265Z"
   },
   {
    "duration": 41,
    "start_time": "2023-04-20T13:50:58.924Z"
   },
   {
    "duration": 41,
    "start_time": "2023-04-20T13:56:33.439Z"
   },
   {
    "duration": 1463,
    "start_time": "2023-04-20T13:58:08.970Z"
   },
   {
    "duration": 81,
    "start_time": "2023-04-20T13:58:10.436Z"
   },
   {
    "duration": 24,
    "start_time": "2023-04-20T13:58:10.519Z"
   },
   {
    "duration": 257,
    "start_time": "2023-04-20T13:58:10.547Z"
   },
   {
    "duration": 27,
    "start_time": "2023-04-20T13:58:10.807Z"
   },
   {
    "duration": 803,
    "start_time": "2023-04-20T13:58:10.836Z"
   },
   {
    "duration": 79,
    "start_time": "2023-04-20T13:58:11.641Z"
   },
   {
    "duration": 38,
    "start_time": "2023-04-20T13:58:11.722Z"
   },
   {
    "duration": 81,
    "start_time": "2023-04-20T13:58:11.762Z"
   },
   {
    "duration": 21,
    "start_time": "2023-04-20T13:58:11.847Z"
   },
   {
    "duration": 5,
    "start_time": "2023-04-20T13:58:11.870Z"
   },
   {
    "duration": 32,
    "start_time": "2023-04-20T13:58:11.877Z"
   },
   {
    "duration": 64,
    "start_time": "2023-04-20T13:58:11.911Z"
   },
   {
    "duration": 140,
    "start_time": "2023-04-20T13:58:11.978Z"
   },
   {
    "duration": 22,
    "start_time": "2023-04-20T13:58:12.120Z"
   },
   {
    "duration": 55,
    "start_time": "2023-04-20T13:58:12.144Z"
   },
   {
    "duration": 343,
    "start_time": "2023-04-20T13:58:12.201Z"
   },
   {
    "duration": 13,
    "start_time": "2023-04-20T13:58:12.546Z"
   },
   {
    "duration": 33,
    "start_time": "2023-04-20T13:58:12.561Z"
   },
   {
    "duration": 30,
    "start_time": "2023-04-20T13:58:12.596Z"
   },
   {
    "duration": 59,
    "start_time": "2023-04-20T13:58:39.053Z"
   },
   {
    "duration": 1451,
    "start_time": "2023-04-20T13:58:59.970Z"
   },
   {
    "duration": 69,
    "start_time": "2023-04-20T13:59:01.423Z"
   },
   {
    "duration": 25,
    "start_time": "2023-04-20T13:59:01.494Z"
   },
   {
    "duration": 287,
    "start_time": "2023-04-20T13:59:01.521Z"
   },
   {
    "duration": 26,
    "start_time": "2023-04-20T13:59:01.810Z"
   },
   {
    "duration": 831,
    "start_time": "2023-04-20T13:59:01.839Z"
   },
   {
    "duration": 71,
    "start_time": "2023-04-20T13:59:02.673Z"
   },
   {
    "duration": 31,
    "start_time": "2023-04-20T13:59:02.746Z"
   },
   {
    "duration": 85,
    "start_time": "2023-04-20T13:59:02.779Z"
   },
   {
    "duration": 20,
    "start_time": "2023-04-20T13:59:02.868Z"
   },
   {
    "duration": 34,
    "start_time": "2023-04-20T13:59:02.890Z"
   },
   {
    "duration": 26,
    "start_time": "2023-04-20T13:59:02.926Z"
   },
   {
    "duration": 80,
    "start_time": "2023-04-20T13:59:02.954Z"
   },
   {
    "duration": 156,
    "start_time": "2023-04-20T13:59:03.037Z"
   },
   {
    "duration": 30,
    "start_time": "2023-04-20T13:59:03.196Z"
   },
   {
    "duration": 72,
    "start_time": "2023-04-20T13:59:03.229Z"
   },
   {
    "duration": 324,
    "start_time": "2023-04-20T13:59:03.303Z"
   },
   {
    "duration": 25,
    "start_time": "2023-04-20T13:59:03.629Z"
   },
   {
    "duration": 19,
    "start_time": "2023-04-20T13:59:03.655Z"
   },
   {
    "duration": 29,
    "start_time": "2023-04-20T13:59:03.676Z"
   },
   {
    "duration": 178,
    "start_time": "2023-04-20T13:59:03.707Z"
   },
   {
    "duration": 53,
    "start_time": "2023-04-20T13:59:15.758Z"
   },
   {
    "duration": 12,
    "start_time": "2023-04-20T13:59:33.308Z"
   },
   {
    "duration": 5,
    "start_time": "2023-04-20T13:59:56.508Z"
   },
   {
    "duration": 15,
    "start_time": "2023-04-20T14:00:14.834Z"
   },
   {
    "duration": 29,
    "start_time": "2023-04-20T14:00:42.335Z"
   },
   {
    "duration": 33,
    "start_time": "2023-04-20T14:02:47.427Z"
   },
   {
    "duration": 11,
    "start_time": "2023-04-20T14:05:20.841Z"
   },
   {
    "duration": 14,
    "start_time": "2023-04-20T14:05:49.214Z"
   },
   {
    "duration": 12,
    "start_time": "2023-04-20T14:06:15.304Z"
   },
   {
    "duration": 14,
    "start_time": "2023-04-20T14:06:27.304Z"
   },
   {
    "duration": 12,
    "start_time": "2023-04-20T14:06:43.573Z"
   },
   {
    "duration": 12,
    "start_time": "2023-04-20T14:06:55.997Z"
   },
   {
    "duration": 14,
    "start_time": "2023-04-20T14:07:04.205Z"
   },
   {
    "duration": 15,
    "start_time": "2023-04-20T14:07:35.444Z"
   },
   {
    "duration": 11,
    "start_time": "2023-04-20T14:08:12.804Z"
   },
   {
    "duration": 5,
    "start_time": "2023-04-20T14:08:23.371Z"
   },
   {
    "duration": 7,
    "start_time": "2023-04-20T14:08:43.220Z"
   },
   {
    "duration": 27,
    "start_time": "2023-04-20T14:08:58.328Z"
   },
   {
    "duration": 11,
    "start_time": "2023-04-20T14:11:07.032Z"
   },
   {
    "duration": 11,
    "start_time": "2023-04-20T14:11:34.149Z"
   },
   {
    "duration": 42,
    "start_time": "2023-04-20T14:11:48.419Z"
   },
   {
    "duration": 42,
    "start_time": "2023-04-20T14:12:05.219Z"
   },
   {
    "duration": 115,
    "start_time": "2023-04-20T14:12:22.319Z"
   },
   {
    "duration": 106,
    "start_time": "2023-04-20T14:24:08.590Z"
   },
   {
    "duration": 16,
    "start_time": "2023-04-20T14:24:18.665Z"
   },
   {
    "duration": 67,
    "start_time": "2023-04-20T14:26:37.848Z"
   },
   {
    "duration": 59,
    "start_time": "2023-04-20T14:26:55.774Z"
   },
   {
    "duration": 4,
    "start_time": "2023-04-20T16:35:36.214Z"
   },
   {
    "duration": 45,
    "start_time": "2023-04-20T16:35:36.220Z"
   },
   {
    "duration": 19,
    "start_time": "2023-04-20T16:35:36.267Z"
   },
   {
    "duration": 78,
    "start_time": "2023-04-20T16:35:36.288Z"
   },
   {
    "duration": 36,
    "start_time": "2023-04-20T16:35:36.368Z"
   },
   {
    "duration": 594,
    "start_time": "2023-04-20T16:35:36.407Z"
   },
   {
    "duration": 83,
    "start_time": "2023-04-20T16:35:37.003Z"
   },
   {
    "duration": 28,
    "start_time": "2023-04-20T16:35:37.088Z"
   },
   {
    "duration": 47,
    "start_time": "2023-04-20T16:35:37.117Z"
   },
   {
    "duration": 19,
    "start_time": "2023-04-20T16:35:37.167Z"
   },
   {
    "duration": 12,
    "start_time": "2023-04-20T16:35:37.187Z"
   },
   {
    "duration": 24,
    "start_time": "2023-04-20T16:35:37.201Z"
   },
   {
    "duration": 61,
    "start_time": "2023-04-20T16:35:37.227Z"
   },
   {
    "duration": 127,
    "start_time": "2023-04-20T16:35:37.293Z"
   },
   {
    "duration": 7,
    "start_time": "2023-04-20T16:35:37.421Z"
   },
   {
    "duration": 71,
    "start_time": "2023-04-20T16:35:37.443Z"
   },
   {
    "duration": 367,
    "start_time": "2023-04-20T16:35:37.516Z"
   },
   {
    "duration": 15,
    "start_time": "2023-04-20T16:35:37.885Z"
   },
   {
    "duration": 47,
    "start_time": "2023-04-20T16:35:37.902Z"
   },
   {
    "duration": 70,
    "start_time": "2023-04-20T16:35:37.952Z"
   },
   {
    "duration": 34,
    "start_time": "2023-04-20T16:35:38.024Z"
   },
   {
    "duration": 55,
    "start_time": "2023-04-20T16:35:38.061Z"
   },
   {
    "duration": 1019,
    "start_time": "2023-04-20T16:35:38.118Z"
   },
   {
    "duration": 880,
    "start_time": "2023-04-20T16:36:14.359Z"
   },
   {
    "duration": 823,
    "start_time": "2023-04-20T16:37:11.290Z"
   },
   {
    "duration": 854,
    "start_time": "2023-04-20T16:38:23.812Z"
   },
   {
    "duration": 12,
    "start_time": "2023-04-20T16:38:34.396Z"
   },
   {
    "duration": 6,
    "start_time": "2023-04-20T16:39:28.611Z"
   },
   {
    "duration": 6,
    "start_time": "2023-04-20T16:39:42.814Z"
   },
   {
    "duration": 9,
    "start_time": "2023-04-20T16:39:56.356Z"
   },
   {
    "duration": 12,
    "start_time": "2023-04-20T16:40:52.724Z"
   },
   {
    "duration": 16,
    "start_time": "2023-04-20T16:41:03.461Z"
   },
   {
    "duration": 10,
    "start_time": "2023-04-20T16:41:13.769Z"
   },
   {
    "duration": 6,
    "start_time": "2023-04-20T16:42:15.208Z"
   },
   {
    "duration": 7,
    "start_time": "2023-04-20T16:42:59.986Z"
   },
   {
    "duration": 7,
    "start_time": "2023-04-20T16:43:12.510Z"
   },
   {
    "duration": 6,
    "start_time": "2023-04-20T16:43:28.882Z"
   },
   {
    "duration": 6,
    "start_time": "2023-04-20T16:43:58.090Z"
   },
   {
    "duration": 7,
    "start_time": "2023-04-20T16:44:22.124Z"
   },
   {
    "duration": 17,
    "start_time": "2023-04-20T16:45:03.358Z"
   },
   {
    "duration": 54,
    "start_time": "2023-04-20T16:45:25.955Z"
   },
   {
    "duration": 15,
    "start_time": "2023-04-20T16:49:00.818Z"
   },
   {
    "duration": 5443,
    "start_time": "2023-04-20T16:49:57.134Z"
   },
   {
    "duration": 6247,
    "start_time": "2023-04-20T16:52:35.962Z"
   },
   {
    "duration": 6480,
    "start_time": "2023-04-20T16:53:37.109Z"
   },
   {
    "duration": 68,
    "start_time": "2023-04-20T16:55:01.494Z"
   },
   {
    "duration": 1113,
    "start_time": "2023-04-20T16:55:25.890Z"
   },
   {
    "duration": 72,
    "start_time": "2023-04-20T17:01:26.963Z"
   },
   {
    "duration": 593,
    "start_time": "2023-04-20T17:01:43.061Z"
   },
   {
    "duration": 16,
    "start_time": "2023-04-20T17:06:56.993Z"
   },
   {
    "duration": 306,
    "start_time": "2023-04-20T17:07:14.570Z"
   },
   {
    "duration": 74,
    "start_time": "2023-04-20T17:07:49.605Z"
   },
   {
    "duration": 32,
    "start_time": "2023-04-20T17:24:02.803Z"
   },
   {
    "duration": 44,
    "start_time": "2023-04-20T17:25:16.026Z"
   },
   {
    "duration": 61,
    "start_time": "2023-04-20T17:27:16.504Z"
   },
   {
    "duration": 11,
    "start_time": "2023-04-20T17:27:35.323Z"
   },
   {
    "duration": 31,
    "start_time": "2023-04-20T17:28:16.200Z"
   },
   {
    "duration": 56,
    "start_time": "2023-04-20T17:28:51.901Z"
   },
   {
    "duration": 62,
    "start_time": "2023-04-20T17:29:28.903Z"
   },
   {
    "duration": 36,
    "start_time": "2023-04-20T17:33:01.191Z"
   },
   {
    "duration": 9,
    "start_time": "2023-04-20T17:33:57.364Z"
   },
   {
    "duration": 17,
    "start_time": "2023-04-20T17:34:21.541Z"
   },
   {
    "duration": 14,
    "start_time": "2023-04-20T17:35:42.376Z"
   },
   {
    "duration": 34,
    "start_time": "2023-04-20T17:37:06.530Z"
   },
   {
    "duration": 13,
    "start_time": "2023-04-20T17:37:20.354Z"
   },
   {
    "duration": 19,
    "start_time": "2023-04-20T17:38:08.566Z"
   },
   {
    "duration": 11,
    "start_time": "2023-04-20T17:38:47.613Z"
   },
   {
    "duration": 28,
    "start_time": "2023-04-20T17:39:01.428Z"
   },
   {
    "duration": 13,
    "start_time": "2023-04-20T17:39:14.067Z"
   },
   {
    "duration": 16,
    "start_time": "2023-04-20T17:39:31.118Z"
   },
   {
    "duration": 12,
    "start_time": "2023-04-20T17:39:47.475Z"
   },
   {
    "duration": 18,
    "start_time": "2023-04-20T17:43:43.160Z"
   },
   {
    "duration": 12,
    "start_time": "2023-04-20T17:44:23.772Z"
   },
   {
    "duration": 12,
    "start_time": "2023-04-20T17:44:34.969Z"
   },
   {
    "duration": 11,
    "start_time": "2023-04-20T17:47:29.589Z"
   },
   {
    "duration": 5,
    "start_time": "2023-04-20T17:49:51.758Z"
   },
   {
    "duration": 17,
    "start_time": "2023-04-20T17:50:42.466Z"
   },
   {
    "duration": 18,
    "start_time": "2023-04-20T17:51:01.334Z"
   },
   {
    "duration": 5,
    "start_time": "2023-04-20T17:51:16.311Z"
   },
   {
    "duration": 10,
    "start_time": "2023-04-20T17:51:39.003Z"
   },
   {
    "duration": 5,
    "start_time": "2023-04-20T17:52:41.410Z"
   },
   {
    "duration": 5,
    "start_time": "2023-04-20T17:53:31.102Z"
   },
   {
    "duration": 18,
    "start_time": "2023-04-20T18:04:34.274Z"
   },
   {
    "duration": 39,
    "start_time": "2023-04-20T18:04:46.758Z"
   },
   {
    "duration": 19,
    "start_time": "2023-04-20T18:05:31.213Z"
   },
   {
    "duration": 26,
    "start_time": "2023-04-20T18:05:40.788Z"
   },
   {
    "duration": 42,
    "start_time": "2023-04-20T18:06:08.996Z"
   },
   {
    "duration": 12,
    "start_time": "2023-04-20T18:06:25.850Z"
   },
   {
    "duration": 19,
    "start_time": "2023-04-20T18:07:06.835Z"
   },
   {
    "duration": 14,
    "start_time": "2023-04-20T18:07:58.315Z"
   },
   {
    "duration": 18,
    "start_time": "2023-04-20T18:09:23.269Z"
   },
   {
    "duration": 29,
    "start_time": "2023-04-20T18:09:40.827Z"
   },
   {
    "duration": 15,
    "start_time": "2023-04-20T18:10:52.873Z"
   },
   {
    "duration": 24,
    "start_time": "2023-04-20T18:11:01.209Z"
   },
   {
    "duration": 20,
    "start_time": "2023-04-20T18:11:56.795Z"
   },
   {
    "duration": 2811,
    "start_time": "2023-04-20T18:14:51.393Z"
   },
   {
    "duration": 2019,
    "start_time": "2023-04-20T18:15:32.666Z"
   },
   {
    "duration": 39,
    "start_time": "2023-04-20T18:16:02.772Z"
   },
   {
    "duration": 11,
    "start_time": "2023-04-20T18:17:04.118Z"
   },
   {
    "duration": 17,
    "start_time": "2023-04-20T18:17:30.472Z"
   },
   {
    "duration": 15,
    "start_time": "2023-04-20T18:18:33.421Z"
   },
   {
    "duration": 22,
    "start_time": "2023-04-20T18:22:23.339Z"
   },
   {
    "duration": 16,
    "start_time": "2023-04-20T18:23:07.554Z"
   },
   {
    "duration": 13,
    "start_time": "2023-04-20T18:43:18.661Z"
   },
   {
    "duration": 85,
    "start_time": "2023-04-20T18:43:36.808Z"
   },
   {
    "duration": 29,
    "start_time": "2023-04-20T18:43:39.876Z"
   },
   {
    "duration": 36,
    "start_time": "2023-04-20T18:44:18.016Z"
   },
   {
    "duration": 58,
    "start_time": "2023-04-20T18:44:38.559Z"
   },
   {
    "duration": 47,
    "start_time": "2023-04-20T18:46:08.745Z"
   },
   {
    "duration": 39,
    "start_time": "2023-04-20T18:46:51.189Z"
   },
   {
    "duration": 357,
    "start_time": "2023-04-20T19:04:34.805Z"
   },
   {
    "duration": 348,
    "start_time": "2023-04-20T19:05:52.674Z"
   },
   {
    "duration": 529,
    "start_time": "2023-04-20T19:07:53.866Z"
   },
   {
    "duration": 546,
    "start_time": "2023-04-20T19:08:32.728Z"
   },
   {
    "duration": 506,
    "start_time": "2023-04-20T19:10:28.767Z"
   },
   {
    "duration": 471,
    "start_time": "2023-04-20T19:10:48.134Z"
   },
   {
    "duration": 21,
    "start_time": "2023-04-20T19:14:52.280Z"
   },
   {
    "duration": 49,
    "start_time": "2023-04-20T19:17:02.695Z"
   },
   {
    "duration": 62,
    "start_time": "2023-04-20T19:17:24.320Z"
   },
   {
    "duration": 68,
    "start_time": "2023-04-20T19:18:59.270Z"
   },
   {
    "duration": 78,
    "start_time": "2023-04-20T19:19:20.433Z"
   },
   {
    "duration": 62,
    "start_time": "2023-04-20T19:20:13.839Z"
   },
   {
    "duration": 65,
    "start_time": "2023-04-20T19:20:47.292Z"
   },
   {
    "duration": 66,
    "start_time": "2023-04-20T19:21:39.349Z"
   },
   {
    "duration": 56,
    "start_time": "2023-04-20T19:23:40.113Z"
   },
   {
    "duration": 60,
    "start_time": "2023-04-20T19:24:06.528Z"
   },
   {
    "duration": 234,
    "start_time": "2023-04-20T19:24:22.223Z"
   },
   {
    "duration": 473,
    "start_time": "2023-04-20T19:24:42.419Z"
   },
   {
    "duration": 207,
    "start_time": "2023-04-20T19:24:57.665Z"
   },
   {
    "duration": 550,
    "start_time": "2023-04-20T19:25:13.123Z"
   },
   {
    "duration": 57,
    "start_time": "2023-04-20T19:28:10.354Z"
   },
   {
    "duration": 70,
    "start_time": "2023-04-20T19:29:23.666Z"
   },
   {
    "duration": 83,
    "start_time": "2023-04-20T19:30:09.798Z"
   },
   {
    "duration": 103,
    "start_time": "2023-04-20T19:30:52.579Z"
   },
   {
    "duration": 127,
    "start_time": "2023-04-20T19:31:23.134Z"
   },
   {
    "duration": 88,
    "start_time": "2023-04-20T19:31:55.095Z"
   },
   {
    "duration": 86,
    "start_time": "2023-04-20T19:34:46.527Z"
   },
   {
    "duration": 61,
    "start_time": "2023-04-20T19:35:43.269Z"
   },
   {
    "duration": 13,
    "start_time": "2023-04-20T19:42:03.410Z"
   },
   {
    "duration": 4,
    "start_time": "2023-04-20T19:51:15.018Z"
   },
   {
    "duration": 81,
    "start_time": "2023-04-20T19:51:15.024Z"
   },
   {
    "duration": 39,
    "start_time": "2023-04-20T19:51:15.107Z"
   },
   {
    "duration": 50,
    "start_time": "2023-04-20T19:51:15.148Z"
   },
   {
    "duration": 82,
    "start_time": "2023-04-20T19:51:15.200Z"
   },
   {
    "duration": 33,
    "start_time": "2023-04-20T19:51:15.284Z"
   },
   {
    "duration": 40,
    "start_time": "2023-04-20T19:51:15.319Z"
   },
   {
    "duration": 549,
    "start_time": "2023-04-20T19:51:15.361Z"
   },
   {
    "duration": 95,
    "start_time": "2023-04-20T19:51:15.913Z"
   },
   {
    "duration": 38,
    "start_time": "2023-04-20T19:51:16.010Z"
   },
   {
    "duration": 56,
    "start_time": "2023-04-20T19:51:16.050Z"
   },
   {
    "duration": 20,
    "start_time": "2023-04-20T19:51:16.108Z"
   },
   {
    "duration": 28,
    "start_time": "2023-04-20T19:51:16.129Z"
   },
   {
    "duration": 30,
    "start_time": "2023-04-20T19:51:16.159Z"
   },
   {
    "duration": 54,
    "start_time": "2023-04-20T19:51:16.191Z"
   },
   {
    "duration": 119,
    "start_time": "2023-04-20T19:51:16.247Z"
   },
   {
    "duration": 6,
    "start_time": "2023-04-20T19:51:16.368Z"
   },
   {
    "duration": 70,
    "start_time": "2023-04-20T19:51:16.375Z"
   },
   {
    "duration": 312,
    "start_time": "2023-04-20T19:51:16.446Z"
   },
   {
    "duration": 16,
    "start_time": "2023-04-20T19:51:16.759Z"
   },
   {
    "duration": 12,
    "start_time": "2023-04-20T19:51:16.777Z"
   },
   {
    "duration": 92,
    "start_time": "2023-04-20T19:51:16.791Z"
   },
   {
    "duration": 14,
    "start_time": "2023-04-20T19:51:16.886Z"
   },
   {
    "duration": 67,
    "start_time": "2023-04-20T19:51:16.904Z"
   },
   {
    "duration": 69,
    "start_time": "2023-04-20T19:51:16.974Z"
   },
   {
    "duration": 307,
    "start_time": "2023-04-20T19:51:17.044Z"
   },
   {
    "duration": 41,
    "start_time": "2023-04-20T19:51:17.353Z"
   },
   {
    "duration": 435,
    "start_time": "2023-04-20T19:51:17.396Z"
   },
   {
    "duration": 66,
    "start_time": "2023-04-20T19:51:17.833Z"
   },
   {
    "duration": 14,
    "start_time": "2023-04-20T19:51:17.901Z"
   },
   {
    "duration": 1533,
    "start_time": "2023-04-21T10:32:15.650Z"
   },
   {
    "duration": 101,
    "start_time": "2023-04-21T10:32:17.185Z"
   },
   {
    "duration": 37,
    "start_time": "2023-04-21T10:32:17.288Z"
   },
   {
    "duration": 5,
    "start_time": "2023-04-21T10:32:17.327Z"
   },
   {
    "duration": 317,
    "start_time": "2023-04-21T10:32:17.333Z"
   },
   {
    "duration": 125,
    "start_time": "2023-04-21T10:32:17.652Z"
   },
   {
    "duration": 0,
    "start_time": "2023-04-21T10:32:17.779Z"
   },
   {
    "duration": 0,
    "start_time": "2023-04-21T10:32:17.780Z"
   },
   {
    "duration": 0,
    "start_time": "2023-04-21T10:32:17.781Z"
   },
   {
    "duration": 0,
    "start_time": "2023-04-21T10:32:17.782Z"
   },
   {
    "duration": 0,
    "start_time": "2023-04-21T10:32:17.784Z"
   },
   {
    "duration": 0,
    "start_time": "2023-04-21T10:32:17.793Z"
   },
   {
    "duration": 0,
    "start_time": "2023-04-21T10:32:17.794Z"
   },
   {
    "duration": 0,
    "start_time": "2023-04-21T10:32:17.795Z"
   },
   {
    "duration": 0,
    "start_time": "2023-04-21T10:32:17.796Z"
   },
   {
    "duration": 0,
    "start_time": "2023-04-21T10:32:17.797Z"
   },
   {
    "duration": 0,
    "start_time": "2023-04-21T10:32:17.798Z"
   },
   {
    "duration": 0,
    "start_time": "2023-04-21T10:32:17.799Z"
   },
   {
    "duration": 0,
    "start_time": "2023-04-21T10:32:17.800Z"
   },
   {
    "duration": 0,
    "start_time": "2023-04-21T10:32:17.801Z"
   },
   {
    "duration": 0,
    "start_time": "2023-04-21T10:32:17.801Z"
   },
   {
    "duration": 0,
    "start_time": "2023-04-21T10:32:17.802Z"
   },
   {
    "duration": 3,
    "start_time": "2023-04-21T10:32:17.803Z"
   },
   {
    "duration": 0,
    "start_time": "2023-04-21T10:32:17.807Z"
   },
   {
    "duration": 0,
    "start_time": "2023-04-21T10:32:17.808Z"
   },
   {
    "duration": 0,
    "start_time": "2023-04-21T10:32:17.809Z"
   },
   {
    "duration": 0,
    "start_time": "2023-04-21T10:32:17.810Z"
   },
   {
    "duration": 0,
    "start_time": "2023-04-21T10:32:17.811Z"
   },
   {
    "duration": 0,
    "start_time": "2023-04-21T10:32:17.815Z"
   },
   {
    "duration": 0,
    "start_time": "2023-04-21T10:32:17.816Z"
   },
   {
    "duration": 4,
    "start_time": "2023-04-21T10:32:28.850Z"
   },
   {
    "duration": 52,
    "start_time": "2023-04-21T10:32:28.858Z"
   },
   {
    "duration": 20,
    "start_time": "2023-04-21T10:32:28.913Z"
   },
   {
    "duration": 5,
    "start_time": "2023-04-21T10:32:28.940Z"
   },
   {
    "duration": 91,
    "start_time": "2023-04-21T10:32:28.947Z"
   },
   {
    "duration": 16,
    "start_time": "2023-04-21T10:32:29.042Z"
   },
   {
    "duration": 0,
    "start_time": "2023-04-21T10:32:29.060Z"
   },
   {
    "duration": 0,
    "start_time": "2023-04-21T10:32:29.061Z"
   },
   {
    "duration": 0,
    "start_time": "2023-04-21T10:32:29.062Z"
   },
   {
    "duration": 0,
    "start_time": "2023-04-21T10:32:29.063Z"
   },
   {
    "duration": 0,
    "start_time": "2023-04-21T10:32:29.064Z"
   },
   {
    "duration": 0,
    "start_time": "2023-04-21T10:32:29.065Z"
   },
   {
    "duration": 0,
    "start_time": "2023-04-21T10:32:29.066Z"
   },
   {
    "duration": 0,
    "start_time": "2023-04-21T10:32:29.068Z"
   },
   {
    "duration": 0,
    "start_time": "2023-04-21T10:32:29.069Z"
   },
   {
    "duration": 0,
    "start_time": "2023-04-21T10:32:29.070Z"
   },
   {
    "duration": 0,
    "start_time": "2023-04-21T10:32:29.071Z"
   },
   {
    "duration": 0,
    "start_time": "2023-04-21T10:32:29.072Z"
   },
   {
    "duration": 0,
    "start_time": "2023-04-21T10:32:29.073Z"
   },
   {
    "duration": 0,
    "start_time": "2023-04-21T10:32:29.099Z"
   },
   {
    "duration": 0,
    "start_time": "2023-04-21T10:32:29.105Z"
   },
   {
    "duration": 0,
    "start_time": "2023-04-21T10:32:29.107Z"
   },
   {
    "duration": 0,
    "start_time": "2023-04-21T10:32:29.108Z"
   },
   {
    "duration": 0,
    "start_time": "2023-04-21T10:32:29.109Z"
   },
   {
    "duration": 0,
    "start_time": "2023-04-21T10:32:29.109Z"
   },
   {
    "duration": 0,
    "start_time": "2023-04-21T10:32:29.110Z"
   },
   {
    "duration": 0,
    "start_time": "2023-04-21T10:32:29.113Z"
   },
   {
    "duration": 0,
    "start_time": "2023-04-21T10:32:29.117Z"
   },
   {
    "duration": 0,
    "start_time": "2023-04-21T10:32:29.121Z"
   },
   {
    "duration": 0,
    "start_time": "2023-04-21T10:32:29.124Z"
   },
   {
    "duration": 3,
    "start_time": "2023-04-21T10:33:09.689Z"
   },
   {
    "duration": 34,
    "start_time": "2023-04-21T10:33:09.720Z"
   },
   {
    "duration": 18,
    "start_time": "2023-04-21T10:33:09.757Z"
   },
   {
    "duration": 4,
    "start_time": "2023-04-21T10:33:09.777Z"
   },
   {
    "duration": 83,
    "start_time": "2023-04-21T10:33:09.783Z"
   },
   {
    "duration": 25,
    "start_time": "2023-04-21T10:33:09.869Z"
   },
   {
    "duration": 30,
    "start_time": "2023-04-21T10:33:09.897Z"
   },
   {
    "duration": 2216,
    "start_time": "2023-04-21T10:33:09.929Z"
   },
   {
    "duration": 131,
    "start_time": "2023-04-21T10:33:12.147Z"
   },
   {
    "duration": 36,
    "start_time": "2023-04-21T10:33:12.281Z"
   },
   {
    "duration": 198,
    "start_time": "2023-04-21T10:33:12.325Z"
   },
   {
    "duration": 24,
    "start_time": "2023-04-21T10:33:12.526Z"
   },
   {
    "duration": 5,
    "start_time": "2023-04-21T10:33:12.552Z"
   },
   {
    "duration": 20,
    "start_time": "2023-04-21T10:33:12.558Z"
   },
   {
    "duration": 52,
    "start_time": "2023-04-21T10:33:12.581Z"
   },
   {
    "duration": 139,
    "start_time": "2023-04-21T10:33:12.637Z"
   },
   {
    "duration": 32,
    "start_time": "2023-04-21T10:33:12.778Z"
   },
   {
    "duration": 50,
    "start_time": "2023-04-21T10:33:12.816Z"
   },
   {
    "duration": 301,
    "start_time": "2023-04-21T10:33:12.868Z"
   },
   {
    "duration": 12,
    "start_time": "2023-04-21T10:33:13.171Z"
   },
   {
    "duration": 19,
    "start_time": "2023-04-21T10:33:13.192Z"
   },
   {
    "duration": 102,
    "start_time": "2023-04-21T10:33:13.212Z"
   },
   {
    "duration": 23,
    "start_time": "2023-04-21T10:33:13.322Z"
   },
   {
    "duration": 83,
    "start_time": "2023-04-21T10:33:13.347Z"
   },
   {
    "duration": 81,
    "start_time": "2023-04-21T10:33:13.438Z"
   },
   {
    "duration": 381,
    "start_time": "2023-04-21T10:33:13.527Z"
   },
   {
    "duration": 68,
    "start_time": "2023-04-21T10:33:13.917Z"
   },
   {
    "duration": 423,
    "start_time": "2023-04-21T10:33:13.987Z"
   },
   {
    "duration": 50,
    "start_time": "2023-04-21T10:33:14.416Z"
   },
   {
    "duration": 0,
    "start_time": "2023-04-21T10:33:14.468Z"
   },
   {
    "duration": 60,
    "start_time": "2023-04-21T10:33:55.221Z"
   },
   {
    "duration": 9,
    "start_time": "2023-04-21T10:33:59.693Z"
   },
   {
    "duration": 33,
    "start_time": "2023-04-21T10:33:59.718Z"
   },
   {
    "duration": 15,
    "start_time": "2023-04-21T10:33:59.753Z"
   },
   {
    "duration": 4,
    "start_time": "2023-04-21T10:33:59.770Z"
   },
   {
    "duration": 83,
    "start_time": "2023-04-21T10:33:59.776Z"
   },
   {
    "duration": 23,
    "start_time": "2023-04-21T10:33:59.861Z"
   },
   {
    "duration": 28,
    "start_time": "2023-04-21T10:33:59.886Z"
   },
   {
    "duration": 533,
    "start_time": "2023-04-21T10:33:59.918Z"
   },
   {
    "duration": 94,
    "start_time": "2023-04-21T10:34:00.453Z"
   },
   {
    "duration": 26,
    "start_time": "2023-04-21T10:34:00.549Z"
   },
   {
    "duration": 73,
    "start_time": "2023-04-21T10:34:00.579Z"
   },
   {
    "duration": 21,
    "start_time": "2023-04-21T10:34:00.654Z"
   },
   {
    "duration": 10,
    "start_time": "2023-04-21T10:34:00.677Z"
   },
   {
    "duration": 51,
    "start_time": "2023-04-21T10:34:00.689Z"
   },
   {
    "duration": 59,
    "start_time": "2023-04-21T10:34:00.744Z"
   },
   {
    "duration": 142,
    "start_time": "2023-04-21T10:34:00.805Z"
   },
   {
    "duration": 9,
    "start_time": "2023-04-21T10:34:00.949Z"
   },
   {
    "duration": 99,
    "start_time": "2023-04-21T10:34:00.960Z"
   },
   {
    "duration": 282,
    "start_time": "2023-04-21T10:34:01.060Z"
   },
   {
    "duration": 14,
    "start_time": "2023-04-21T10:34:01.345Z"
   },
   {
    "duration": 33,
    "start_time": "2023-04-21T10:34:01.361Z"
   },
   {
    "duration": 72,
    "start_time": "2023-04-21T10:34:01.397Z"
   },
   {
    "duration": 25,
    "start_time": "2023-04-21T10:34:01.472Z"
   },
   {
    "duration": 79,
    "start_time": "2023-04-21T10:34:01.500Z"
   },
   {
    "duration": 80,
    "start_time": "2023-04-21T10:34:01.581Z"
   },
   {
    "duration": 372,
    "start_time": "2023-04-21T10:34:01.663Z"
   },
   {
    "duration": 44,
    "start_time": "2023-04-21T10:34:02.036Z"
   },
   {
    "duration": 475,
    "start_time": "2023-04-21T10:34:02.083Z"
   },
   {
    "duration": 80,
    "start_time": "2023-04-21T10:34:02.562Z"
   },
   {
    "duration": 20,
    "start_time": "2023-04-21T10:34:02.644Z"
   },
   {
    "duration": 14,
    "start_time": "2023-04-21T10:48:52.066Z"
   },
   {
    "duration": 59,
    "start_time": "2023-04-21T10:49:01.220Z"
   },
   {
    "duration": 10,
    "start_time": "2023-04-21T10:49:25.815Z"
   },
   {
    "duration": 14,
    "start_time": "2023-04-21T10:49:53.114Z"
   },
   {
    "duration": 13,
    "start_time": "2023-04-21T10:50:17.424Z"
   },
   {
    "duration": 20,
    "start_time": "2023-04-21T10:53:03.320Z"
   },
   {
    "duration": 15,
    "start_time": "2023-04-21T10:53:37.124Z"
   },
   {
    "duration": 11,
    "start_time": "2023-04-21T10:53:58.634Z"
   },
   {
    "duration": 12,
    "start_time": "2023-04-21T10:54:25.320Z"
   },
   {
    "duration": 10,
    "start_time": "2023-04-21T10:54:46.182Z"
   },
   {
    "duration": 17,
    "start_time": "2023-04-21T10:56:59.722Z"
   },
   {
    "duration": 12,
    "start_time": "2023-04-21T10:57:39.754Z"
   },
   {
    "duration": 19,
    "start_time": "2023-04-21T11:02:05.225Z"
   },
   {
    "duration": 27,
    "start_time": "2023-04-21T11:02:42.511Z"
   },
   {
    "duration": 18,
    "start_time": "2023-04-21T11:03:52.568Z"
   },
   {
    "duration": 41,
    "start_time": "2023-04-21T11:04:28.694Z"
   },
   {
    "duration": 16,
    "start_time": "2023-04-21T11:05:09.527Z"
   },
   {
    "duration": 20,
    "start_time": "2023-04-21T11:07:51.858Z"
   },
   {
    "duration": 3,
    "start_time": "2023-04-21T11:42:13.125Z"
   },
   {
    "duration": 32,
    "start_time": "2023-04-21T11:42:13.136Z"
   },
   {
    "duration": 21,
    "start_time": "2023-04-21T11:42:13.170Z"
   },
   {
    "duration": 6,
    "start_time": "2023-04-21T11:42:13.193Z"
   },
   {
    "duration": 86,
    "start_time": "2023-04-21T11:42:13.202Z"
   },
   {
    "duration": 35,
    "start_time": "2023-04-21T11:42:13.291Z"
   },
   {
    "duration": 16,
    "start_time": "2023-04-21T11:42:13.328Z"
   },
   {
    "duration": 462,
    "start_time": "2023-04-21T11:42:13.346Z"
   },
   {
    "duration": 60,
    "start_time": "2023-04-21T11:42:13.810Z"
   },
   {
    "duration": 31,
    "start_time": "2023-04-21T11:42:13.872Z"
   },
   {
    "duration": 40,
    "start_time": "2023-04-21T11:42:13.905Z"
   },
   {
    "duration": 16,
    "start_time": "2023-04-21T11:42:13.946Z"
   },
   {
    "duration": 7,
    "start_time": "2023-04-21T11:42:13.964Z"
   },
   {
    "duration": 28,
    "start_time": "2023-04-21T11:42:13.973Z"
   },
   {
    "duration": 45,
    "start_time": "2023-04-21T11:42:14.004Z"
   },
   {
    "duration": 103,
    "start_time": "2023-04-21T11:42:14.051Z"
   },
   {
    "duration": 6,
    "start_time": "2023-04-21T11:42:14.156Z"
   },
   {
    "duration": 54,
    "start_time": "2023-04-21T11:42:14.163Z"
   },
   {
    "duration": 225,
    "start_time": "2023-04-21T11:42:14.219Z"
   },
   {
    "duration": 12,
    "start_time": "2023-04-21T11:42:14.446Z"
   },
   {
    "duration": 19,
    "start_time": "2023-04-21T11:42:14.460Z"
   },
   {
    "duration": 64,
    "start_time": "2023-04-21T11:42:14.481Z"
   },
   {
    "duration": 13,
    "start_time": "2023-04-21T11:42:14.546Z"
   },
   {
    "duration": 60,
    "start_time": "2023-04-21T11:42:14.561Z"
   },
   {
    "duration": 31,
    "start_time": "2023-04-21T11:42:14.624Z"
   },
   {
    "duration": 369,
    "start_time": "2023-04-21T11:42:14.657Z"
   },
   {
    "duration": 80,
    "start_time": "2023-04-21T11:42:15.028Z"
   },
   {
    "duration": 17,
    "start_time": "2023-04-21T11:42:15.110Z"
   },
   {
    "duration": 13,
    "start_time": "2023-04-21T11:42:15.129Z"
   },
   {
    "duration": 26,
    "start_time": "2023-04-21T11:42:15.143Z"
   },
   {
    "duration": 26,
    "start_time": "2023-04-21T11:42:15.171Z"
   },
   {
    "duration": 18,
    "start_time": "2023-04-21T13:21:38.626Z"
   },
   {
    "duration": 19,
    "start_time": "2023-04-21T13:22:24.921Z"
   },
   {
    "duration": 31,
    "start_time": "2023-04-21T13:28:49.470Z"
   },
   {
    "duration": 49,
    "start_time": "2023-04-21T13:29:14.358Z"
   },
   {
    "duration": 41,
    "start_time": "2023-04-21T13:31:03.221Z"
   },
   {
    "duration": 29,
    "start_time": "2023-04-21T13:33:42.742Z"
   },
   {
    "duration": 38,
    "start_time": "2023-04-21T13:34:07.345Z"
   },
   {
    "duration": 25,
    "start_time": "2023-04-21T13:34:33.033Z"
   },
   {
    "duration": 17,
    "start_time": "2023-04-21T13:36:26.509Z"
   },
   {
    "duration": 24,
    "start_time": "2023-04-21T13:36:38.615Z"
   },
   {
    "duration": 43,
    "start_time": "2023-04-21T13:37:13.482Z"
   },
   {
    "duration": 19,
    "start_time": "2023-04-21T13:39:43.233Z"
   },
   {
    "duration": 436,
    "start_time": "2023-04-21T13:55:29.461Z"
   },
   {
    "duration": 580,
    "start_time": "2023-04-21T13:55:49.173Z"
   },
   {
    "duration": 42,
    "start_time": "2023-04-21T13:57:16.833Z"
   },
   {
    "duration": 32,
    "start_time": "2023-04-21T13:58:12.560Z"
   },
   {
    "duration": 193,
    "start_time": "2023-04-21T13:59:36.441Z"
   },
   {
    "duration": 33,
    "start_time": "2023-04-21T14:00:04.642Z"
   },
   {
    "duration": 201,
    "start_time": "2023-04-21T14:00:47.512Z"
   },
   {
    "duration": 178,
    "start_time": "2023-04-21T14:02:35.052Z"
   },
   {
    "duration": 32,
    "start_time": "2023-04-21T14:02:59.373Z"
   },
   {
    "duration": 14,
    "start_time": "2023-04-21T14:19:24.604Z"
   },
   {
    "duration": 14,
    "start_time": "2023-04-21T14:20:12.180Z"
   },
   {
    "duration": 149,
    "start_time": "2023-04-21T14:20:25.617Z"
   },
   {
    "duration": 155,
    "start_time": "2023-04-21T14:22:22.584Z"
   },
   {
    "duration": 1194,
    "start_time": "2023-04-21T14:22:58.416Z"
   },
   {
    "duration": 29,
    "start_time": "2023-04-21T14:22:59.612Z"
   },
   {
    "duration": 21,
    "start_time": "2023-04-21T14:22:59.644Z"
   },
   {
    "duration": 5,
    "start_time": "2023-04-21T14:22:59.668Z"
   },
   {
    "duration": 74,
    "start_time": "2023-04-21T14:22:59.676Z"
   },
   {
    "duration": 28,
    "start_time": "2023-04-21T14:22:59.752Z"
   },
   {
    "duration": 24,
    "start_time": "2023-04-21T14:22:59.782Z"
   },
   {
    "duration": 575,
    "start_time": "2023-04-21T14:22:59.808Z"
   },
   {
    "duration": 70,
    "start_time": "2023-04-21T14:23:00.385Z"
   },
   {
    "duration": 40,
    "start_time": "2023-04-21T14:23:00.458Z"
   },
   {
    "duration": 39,
    "start_time": "2023-04-21T14:23:00.500Z"
   },
   {
    "duration": 25,
    "start_time": "2023-04-21T14:23:00.541Z"
   },
   {
    "duration": 29,
    "start_time": "2023-04-21T14:23:00.568Z"
   },
   {
    "duration": 63,
    "start_time": "2023-04-21T14:23:00.599Z"
   },
   {
    "duration": 80,
    "start_time": "2023-04-21T14:23:00.665Z"
   },
   {
    "duration": 140,
    "start_time": "2023-04-21T14:23:00.748Z"
   },
   {
    "duration": 7,
    "start_time": "2023-04-21T14:23:00.894Z"
   },
   {
    "duration": 115,
    "start_time": "2023-04-21T14:23:00.904Z"
   },
   {
    "duration": 294,
    "start_time": "2023-04-21T14:23:01.021Z"
   },
   {
    "duration": 15,
    "start_time": "2023-04-21T14:23:01.316Z"
   },
   {
    "duration": 23,
    "start_time": "2023-04-21T14:23:01.332Z"
   },
   {
    "duration": 89,
    "start_time": "2023-04-21T14:23:01.357Z"
   },
   {
    "duration": 14,
    "start_time": "2023-04-21T14:23:01.448Z"
   },
   {
    "duration": 67,
    "start_time": "2023-04-21T14:23:01.464Z"
   },
   {
    "duration": 31,
    "start_time": "2023-04-21T14:23:01.532Z"
   },
   {
    "duration": 178,
    "start_time": "2023-04-21T14:23:01.565Z"
   },
   {
    "duration": 64,
    "start_time": "2023-04-21T14:23:01.745Z"
   },
   {
    "duration": 14,
    "start_time": "2023-04-21T14:23:01.812Z"
   },
   {
    "duration": 50,
    "start_time": "2023-04-21T14:23:01.827Z"
   },
   {
    "duration": 38,
    "start_time": "2023-04-21T14:23:01.879Z"
   },
   {
    "duration": 40,
    "start_time": "2023-04-21T14:23:01.919Z"
   },
   {
    "duration": 207,
    "start_time": "2023-04-21T14:23:01.960Z"
   },
   {
    "duration": 0,
    "start_time": "2023-04-21T14:23:02.170Z"
   },
   {
    "duration": 16,
    "start_time": "2023-04-21T14:23:46.982Z"
   },
   {
    "duration": 39,
    "start_time": "2023-04-21T14:23:50.341Z"
   },
   {
    "duration": 196,
    "start_time": "2023-04-21T14:24:26.821Z"
   },
   {
    "duration": 150,
    "start_time": "2023-04-21T14:25:41.261Z"
   },
   {
    "duration": 146,
    "start_time": "2023-04-21T14:25:55.422Z"
   },
   {
    "duration": 158,
    "start_time": "2023-04-21T14:27:16.229Z"
   },
   {
    "duration": 16,
    "start_time": "2023-04-21T14:27:43.895Z"
   },
   {
    "duration": 189,
    "start_time": "2023-04-21T14:28:28.445Z"
   },
   {
    "duration": 170,
    "start_time": "2023-04-21T14:28:58.904Z"
   },
   {
    "duration": 164,
    "start_time": "2023-04-21T14:29:18.726Z"
   },
   {
    "duration": 315,
    "start_time": "2023-04-21T14:30:08.313Z"
   },
   {
    "duration": 400,
    "start_time": "2023-04-21T14:30:24.432Z"
   },
   {
    "duration": 444,
    "start_time": "2023-04-21T14:34:43.817Z"
   },
   {
    "duration": 408,
    "start_time": "2023-04-21T14:36:35.950Z"
   },
   {
    "duration": 400,
    "start_time": "2023-04-21T14:36:56.769Z"
   },
   {
    "duration": 310,
    "start_time": "2023-04-21T14:40:36.214Z"
   },
   {
    "duration": 288,
    "start_time": "2023-04-21T14:43:07.728Z"
   },
   {
    "duration": 422,
    "start_time": "2023-04-21T14:46:49.132Z"
   },
   {
    "duration": 334,
    "start_time": "2023-04-21T14:47:46.995Z"
   },
   {
    "duration": 298,
    "start_time": "2023-04-21T14:48:28.509Z"
   },
   {
    "duration": 363,
    "start_time": "2023-04-21T14:49:54.806Z"
   },
   {
    "duration": 358,
    "start_time": "2023-04-21T14:50:09.491Z"
   },
   {
    "duration": 66,
    "start_time": "2023-04-21T14:52:12.971Z"
   },
   {
    "duration": 70,
    "start_time": "2023-04-21T14:52:23.573Z"
   },
   {
    "duration": 1319,
    "start_time": "2023-04-21T14:52:49.712Z"
   },
   {
    "duration": 30,
    "start_time": "2023-04-21T14:52:51.033Z"
   },
   {
    "duration": 22,
    "start_time": "2023-04-21T14:52:51.065Z"
   },
   {
    "duration": 4,
    "start_time": "2023-04-21T14:52:51.089Z"
   },
   {
    "duration": 89,
    "start_time": "2023-04-21T14:52:51.096Z"
   },
   {
    "duration": 28,
    "start_time": "2023-04-21T14:52:51.187Z"
   },
   {
    "duration": 20,
    "start_time": "2023-04-21T14:52:51.217Z"
   },
   {
    "duration": 604,
    "start_time": "2023-04-21T14:52:51.238Z"
   },
   {
    "duration": 97,
    "start_time": "2023-04-21T14:52:51.844Z"
   },
   {
    "duration": 62,
    "start_time": "2023-04-21T14:52:51.943Z"
   },
   {
    "duration": 33,
    "start_time": "2023-04-21T14:52:52.008Z"
   },
   {
    "duration": 21,
    "start_time": "2023-04-21T14:52:52.044Z"
   },
   {
    "duration": 7,
    "start_time": "2023-04-21T14:52:52.067Z"
   },
   {
    "duration": 20,
    "start_time": "2023-04-21T14:52:52.095Z"
   },
   {
    "duration": 57,
    "start_time": "2023-04-21T14:52:52.117Z"
   },
   {
    "duration": 130,
    "start_time": "2023-04-21T14:52:52.176Z"
   },
   {
    "duration": 5,
    "start_time": "2023-04-21T14:52:52.308Z"
   },
   {
    "duration": 80,
    "start_time": "2023-04-21T14:52:52.315Z"
   },
   {
    "duration": 350,
    "start_time": "2023-04-21T14:52:52.398Z"
   },
   {
    "duration": 18,
    "start_time": "2023-04-21T14:52:52.750Z"
   },
   {
    "duration": 34,
    "start_time": "2023-04-21T14:52:52.770Z"
   },
   {
    "duration": 108,
    "start_time": "2023-04-21T14:52:52.807Z"
   },
   {
    "duration": 15,
    "start_time": "2023-04-21T14:52:52.917Z"
   },
   {
    "duration": 67,
    "start_time": "2023-04-21T14:52:52.933Z"
   },
   {
    "duration": 32,
    "start_time": "2023-04-21T14:52:53.002Z"
   },
   {
    "duration": 415,
    "start_time": "2023-04-21T14:52:53.036Z"
   },
   {
    "duration": 71,
    "start_time": "2023-04-21T14:52:53.453Z"
   },
   {
    "duration": 13,
    "start_time": "2023-04-21T14:52:53.526Z"
   },
   {
    "duration": 19,
    "start_time": "2023-04-21T14:52:53.541Z"
   },
   {
    "duration": 10,
    "start_time": "2023-04-21T14:52:53.562Z"
   },
   {
    "duration": 37,
    "start_time": "2023-04-21T14:52:53.574Z"
   },
   {
    "duration": 18,
    "start_time": "2023-04-21T14:52:53.613Z"
   },
   {
    "duration": 373,
    "start_time": "2023-04-21T14:52:53.633Z"
   },
   {
    "duration": 501,
    "start_time": "2023-04-21T14:56:13.562Z"
   },
   {
    "duration": 572,
    "start_time": "2023-04-21T14:56:39.795Z"
   },
   {
    "duration": 710,
    "start_time": "2023-04-21T14:58:15.714Z"
   },
   {
    "duration": 573,
    "start_time": "2023-04-21T15:08:13.271Z"
   },
   {
    "duration": 611,
    "start_time": "2023-04-21T15:09:27.531Z"
   },
   {
    "duration": 582,
    "start_time": "2023-04-21T15:11:37.992Z"
   },
   {
    "duration": 16,
    "start_time": "2023-04-21T15:13:05.647Z"
   },
   {
    "duration": 3,
    "start_time": "2023-04-21T15:45:28.916Z"
   },
   {
    "duration": 33,
    "start_time": "2023-04-21T15:45:28.922Z"
   },
   {
    "duration": 18,
    "start_time": "2023-04-21T15:45:28.957Z"
   },
   {
    "duration": 6,
    "start_time": "2023-04-21T15:45:28.977Z"
   },
   {
    "duration": 85,
    "start_time": "2023-04-21T15:45:28.986Z"
   },
   {
    "duration": 25,
    "start_time": "2023-04-21T15:45:29.073Z"
   },
   {
    "duration": 26,
    "start_time": "2023-04-21T15:45:29.100Z"
   },
   {
    "duration": 570,
    "start_time": "2023-04-21T15:45:29.127Z"
   },
   {
    "duration": 79,
    "start_time": "2023-04-21T15:45:29.700Z"
   },
   {
    "duration": 52,
    "start_time": "2023-04-21T15:45:29.781Z"
   },
   {
    "duration": 36,
    "start_time": "2023-04-21T15:45:29.836Z"
   },
   {
    "duration": 23,
    "start_time": "2023-04-21T15:45:29.874Z"
   },
   {
    "duration": 19,
    "start_time": "2023-04-21T15:45:29.899Z"
   },
   {
    "duration": 14,
    "start_time": "2023-04-21T15:45:29.920Z"
   },
   {
    "duration": 45,
    "start_time": "2023-04-21T15:45:29.936Z"
   },
   {
    "duration": 135,
    "start_time": "2023-04-21T15:45:29.983Z"
   },
   {
    "duration": 6,
    "start_time": "2023-04-21T15:45:30.121Z"
   },
   {
    "duration": 93,
    "start_time": "2023-04-21T15:45:30.129Z"
   },
   {
    "duration": 342,
    "start_time": "2023-04-21T15:45:30.224Z"
   },
   {
    "duration": 32,
    "start_time": "2023-04-21T15:45:30.569Z"
   },
   {
    "duration": 31,
    "start_time": "2023-04-21T15:45:30.604Z"
   },
   {
    "duration": 105,
    "start_time": "2023-04-21T15:45:30.637Z"
   },
   {
    "duration": 16,
    "start_time": "2023-04-21T15:45:30.744Z"
   },
   {
    "duration": 78,
    "start_time": "2023-04-21T15:45:30.762Z"
   },
   {
    "duration": 51,
    "start_time": "2023-04-21T15:45:30.842Z"
   },
   {
    "duration": 424,
    "start_time": "2023-04-21T15:45:30.896Z"
   },
   {
    "duration": 92,
    "start_time": "2023-04-21T15:45:31.323Z"
   },
   {
    "duration": 17,
    "start_time": "2023-04-21T15:45:31.417Z"
   },
   {
    "duration": 39,
    "start_time": "2023-04-21T15:45:31.437Z"
   },
   {
    "duration": 29,
    "start_time": "2023-04-21T15:45:31.478Z"
   },
   {
    "duration": 36,
    "start_time": "2023-04-21T15:45:31.509Z"
   },
   {
    "duration": 26,
    "start_time": "2023-04-21T15:45:31.548Z"
   },
   {
    "duration": 666,
    "start_time": "2023-04-21T15:45:31.576Z"
   },
   {
    "duration": 14,
    "start_time": "2023-04-21T15:45:32.244Z"
   },
   {
    "duration": 17,
    "start_time": "2023-04-21T15:45:50.156Z"
   },
   {
    "duration": 18,
    "start_time": "2023-04-21T15:46:04.515Z"
   },
   {
    "duration": 22,
    "start_time": "2023-04-21T15:46:27.284Z"
   },
   {
    "duration": 683,
    "start_time": "2023-04-21T15:47:56.627Z"
   },
   {
    "duration": 84,
    "start_time": "2023-04-21T15:49:07.077Z"
   },
   {
    "duration": 34,
    "start_time": "2023-04-21T15:49:15.569Z"
   },
   {
    "duration": 20,
    "start_time": "2023-04-21T15:49:58.587Z"
   },
   {
    "duration": 25,
    "start_time": "2023-04-21T15:50:49.958Z"
   },
   {
    "duration": 16,
    "start_time": "2023-04-21T15:51:15.925Z"
   },
   {
    "duration": 4,
    "start_time": "2023-04-21T15:53:14.041Z"
   },
   {
    "duration": 29,
    "start_time": "2023-04-21T15:53:14.050Z"
   },
   {
    "duration": 22,
    "start_time": "2023-04-21T15:53:14.081Z"
   },
   {
    "duration": 17,
    "start_time": "2023-04-21T15:53:14.106Z"
   },
   {
    "duration": 76,
    "start_time": "2023-04-21T15:53:14.125Z"
   },
   {
    "duration": 29,
    "start_time": "2023-04-21T15:53:14.203Z"
   },
   {
    "duration": 18,
    "start_time": "2023-04-21T15:53:14.234Z"
   },
   {
    "duration": 567,
    "start_time": "2023-04-21T15:53:14.255Z"
   },
   {
    "duration": 69,
    "start_time": "2023-04-21T15:53:14.824Z"
   },
   {
    "duration": 45,
    "start_time": "2023-04-21T15:53:14.896Z"
   },
   {
    "duration": 31,
    "start_time": "2023-04-21T15:53:14.945Z"
   },
   {
    "duration": 38,
    "start_time": "2023-04-21T15:53:14.977Z"
   },
   {
    "duration": 25,
    "start_time": "2023-04-21T15:53:15.018Z"
   },
   {
    "duration": 14,
    "start_time": "2023-04-21T15:53:15.045Z"
   },
   {
    "duration": 53,
    "start_time": "2023-04-21T15:53:15.061Z"
   },
   {
    "duration": 117,
    "start_time": "2023-04-21T15:53:15.116Z"
   },
   {
    "duration": 5,
    "start_time": "2023-04-21T15:53:15.235Z"
   },
   {
    "duration": 84,
    "start_time": "2023-04-21T15:53:15.242Z"
   },
   {
    "duration": 312,
    "start_time": "2023-04-21T15:53:15.328Z"
   },
   {
    "duration": 16,
    "start_time": "2023-04-21T15:53:15.641Z"
   },
   {
    "duration": 38,
    "start_time": "2023-04-21T15:53:15.658Z"
   },
   {
    "duration": 102,
    "start_time": "2023-04-21T15:53:15.700Z"
   },
   {
    "duration": 18,
    "start_time": "2023-04-21T15:53:15.805Z"
   },
   {
    "duration": 70,
    "start_time": "2023-04-21T15:53:15.825Z"
   },
   {
    "duration": 59,
    "start_time": "2023-04-21T15:53:15.898Z"
   },
   {
    "duration": 397,
    "start_time": "2023-04-21T15:53:15.959Z"
   },
   {
    "duration": 78,
    "start_time": "2023-04-21T15:53:16.358Z"
   },
   {
    "duration": 15,
    "start_time": "2023-04-21T15:53:16.438Z"
   },
   {
    "duration": 39,
    "start_time": "2023-04-21T15:53:16.458Z"
   },
   {
    "duration": 19,
    "start_time": "2023-04-21T15:53:16.500Z"
   },
   {
    "duration": 17,
    "start_time": "2023-04-21T15:53:16.521Z"
   },
   {
    "duration": 20,
    "start_time": "2023-04-21T15:53:16.539Z"
   },
   {
    "duration": 640,
    "start_time": "2023-04-21T15:53:16.560Z"
   },
   {
    "duration": 25,
    "start_time": "2023-04-21T15:53:17.203Z"
   },
   {
    "duration": 20,
    "start_time": "2023-04-21T15:55:37.252Z"
   },
   {
    "duration": 15,
    "start_time": "2023-04-21T15:56:00.983Z"
   },
   {
    "duration": 20,
    "start_time": "2023-04-21T15:56:12.604Z"
   },
   {
    "duration": 132,
    "start_time": "2023-04-21T16:07:46.939Z"
   },
   {
    "duration": 22,
    "start_time": "2023-04-21T16:08:51.301Z"
   },
   {
    "duration": 2262,
    "start_time": "2023-04-21T16:10:10.859Z"
   },
   {
    "duration": 753,
    "start_time": "2023-04-21T16:11:51.550Z"
   },
   {
    "duration": 4,
    "start_time": "2023-04-21T16:12:15.377Z"
   },
   {
    "duration": 43,
    "start_time": "2023-04-21T16:12:15.386Z"
   },
   {
    "duration": 16,
    "start_time": "2023-04-21T16:12:15.431Z"
   },
   {
    "duration": 4,
    "start_time": "2023-04-21T16:12:15.449Z"
   },
   {
    "duration": 81,
    "start_time": "2023-04-21T16:12:15.454Z"
   },
   {
    "duration": 25,
    "start_time": "2023-04-21T16:12:15.537Z"
   },
   {
    "duration": 32,
    "start_time": "2023-04-21T16:12:15.563Z"
   },
   {
    "duration": 566,
    "start_time": "2023-04-21T16:12:15.598Z"
   },
   {
    "duration": 70,
    "start_time": "2023-04-21T16:12:16.166Z"
   },
   {
    "duration": 41,
    "start_time": "2023-04-21T16:12:16.238Z"
   },
   {
    "duration": 32,
    "start_time": "2023-04-21T16:12:16.294Z"
   },
   {
    "duration": 17,
    "start_time": "2023-04-21T16:12:16.328Z"
   },
   {
    "duration": 9,
    "start_time": "2023-04-21T16:12:16.346Z"
   },
   {
    "duration": 25,
    "start_time": "2023-04-21T16:12:16.357Z"
   },
   {
    "duration": 56,
    "start_time": "2023-04-21T16:12:16.385Z"
   },
   {
    "duration": 2002,
    "start_time": "2023-04-21T16:12:16.443Z"
   },
   {
    "duration": 5,
    "start_time": "2023-04-21T16:12:18.447Z"
   },
   {
    "duration": 72,
    "start_time": "2023-04-21T16:12:18.453Z"
   },
   {
    "duration": 323,
    "start_time": "2023-04-21T16:12:18.527Z"
   },
   {
    "duration": 15,
    "start_time": "2023-04-21T16:12:18.851Z"
   },
   {
    "duration": 36,
    "start_time": "2023-04-21T16:12:18.868Z"
   },
   {
    "duration": 145,
    "start_time": "2023-04-21T16:12:18.909Z"
   },
   {
    "duration": 15,
    "start_time": "2023-04-21T16:12:19.055Z"
   },
   {
    "duration": 98,
    "start_time": "2023-04-21T16:12:19.071Z"
   },
   {
    "duration": 64,
    "start_time": "2023-04-21T16:12:19.172Z"
   },
   {
    "duration": 518,
    "start_time": "2023-04-21T16:12:19.239Z"
   },
   {
    "duration": 73,
    "start_time": "2023-04-21T16:12:19.759Z"
   },
   {
    "duration": 12,
    "start_time": "2023-04-21T16:12:19.834Z"
   },
   {
    "duration": 9,
    "start_time": "2023-04-21T16:12:19.848Z"
   },
   {
    "duration": 17,
    "start_time": "2023-04-21T16:12:19.858Z"
   },
   {
    "duration": 42,
    "start_time": "2023-04-21T16:12:19.876Z"
   },
   {
    "duration": 21,
    "start_time": "2023-04-21T16:12:19.920Z"
   },
   {
    "duration": 592,
    "start_time": "2023-04-21T16:12:19.942Z"
   },
   {
    "duration": 644,
    "start_time": "2023-04-21T16:12:20.536Z"
   },
   {
    "duration": 653,
    "start_time": "2023-04-21T16:15:43.100Z"
   },
   {
    "duration": 589,
    "start_time": "2023-04-21T16:16:34.810Z"
   },
   {
    "duration": 680,
    "start_time": "2023-04-21T16:20:36.431Z"
   },
   {
    "duration": 741,
    "start_time": "2023-04-21T16:21:07.605Z"
   },
   {
    "duration": 590,
    "start_time": "2023-04-21T16:21:39.812Z"
   },
   {
    "duration": 732,
    "start_time": "2023-04-21T16:22:31.526Z"
   },
   {
    "duration": 2616,
    "start_time": "2023-04-21T16:24:27.572Z"
   },
   {
    "duration": 2000,
    "start_time": "2023-04-21T16:25:34.749Z"
   },
   {
    "duration": 527,
    "start_time": "2023-04-21T16:26:26.529Z"
   },
   {
    "duration": 229,
    "start_time": "2023-04-21T16:26:40.793Z"
   },
   {
    "duration": 202,
    "start_time": "2023-04-21T16:27:07.141Z"
   },
   {
    "duration": 246,
    "start_time": "2023-04-21T16:27:41.657Z"
   },
   {
    "duration": 224,
    "start_time": "2023-04-21T16:28:25.915Z"
   },
   {
    "duration": 74,
    "start_time": "2023-04-21T16:28:46.049Z"
   },
   {
    "duration": 12,
    "start_time": "2023-04-21T16:28:53.049Z"
   },
   {
    "duration": 8,
    "start_time": "2023-04-21T16:28:56.576Z"
   },
   {
    "duration": 19,
    "start_time": "2023-04-21T16:28:59.190Z"
   },
   {
    "duration": 22,
    "start_time": "2023-04-21T16:29:02.512Z"
   },
   {
    "duration": 26,
    "start_time": "2023-04-21T16:29:06.413Z"
   },
   {
    "duration": 566,
    "start_time": "2023-04-21T16:29:15.519Z"
   },
   {
    "duration": 700,
    "start_time": "2023-04-21T16:29:59.762Z"
   },
   {
    "duration": 704,
    "start_time": "2023-04-21T16:30:38.258Z"
   },
   {
    "duration": 621,
    "start_time": "2023-04-21T16:30:47.010Z"
   },
   {
    "duration": 584,
    "start_time": "2023-04-21T16:31:46.286Z"
   },
   {
    "duration": 674,
    "start_time": "2023-04-21T16:32:22.488Z"
   },
   {
    "duration": 98,
    "start_time": "2023-04-21T16:32:49.790Z"
   },
   {
    "duration": 590,
    "start_time": "2023-04-21T16:32:55.947Z"
   },
   {
    "duration": 611,
    "start_time": "2023-04-21T16:33:34.146Z"
   },
   {
    "duration": 27,
    "start_time": "2023-04-21T16:34:24.746Z"
   },
   {
    "duration": 32,
    "start_time": "2023-04-21T16:36:42.883Z"
   },
   {
    "duration": 14,
    "start_time": "2023-04-21T16:37:32.450Z"
   },
   {
    "duration": 23,
    "start_time": "2023-04-21T16:37:52.736Z"
   },
   {
    "duration": 23,
    "start_time": "2023-04-21T16:38:24.015Z"
   },
   {
    "duration": 241,
    "start_time": "2023-04-21T16:39:15.568Z"
   },
   {
    "duration": 682,
    "start_time": "2023-04-21T16:39:34.969Z"
   },
   {
    "duration": 678,
    "start_time": "2023-04-21T16:40:03.227Z"
   },
   {
    "duration": 256,
    "start_time": "2023-04-21T16:41:44.820Z"
   },
   {
    "duration": 44,
    "start_time": "2023-04-21T16:42:07.026Z"
   },
   {
    "duration": 99,
    "start_time": "2023-04-21T16:42:34.619Z"
   },
   {
    "duration": 70,
    "start_time": "2023-04-21T16:42:50.817Z"
   },
   {
    "duration": 67,
    "start_time": "2023-04-21T16:46:51.334Z"
   },
   {
    "duration": 635,
    "start_time": "2023-04-21T16:48:54.092Z"
   },
   {
    "duration": 4,
    "start_time": "2023-04-21T16:49:06.170Z"
   },
   {
    "duration": 61,
    "start_time": "2023-04-21T16:49:06.179Z"
   },
   {
    "duration": 17,
    "start_time": "2023-04-21T16:49:06.243Z"
   },
   {
    "duration": 4,
    "start_time": "2023-04-21T16:49:06.262Z"
   },
   {
    "duration": 90,
    "start_time": "2023-04-21T16:49:06.268Z"
   },
   {
    "duration": 39,
    "start_time": "2023-04-21T16:49:06.361Z"
   },
   {
    "duration": 31,
    "start_time": "2023-04-21T16:49:06.402Z"
   },
   {
    "duration": 607,
    "start_time": "2023-04-21T16:49:06.435Z"
   },
   {
    "duration": 90,
    "start_time": "2023-04-21T16:49:07.044Z"
   },
   {
    "duration": 43,
    "start_time": "2023-04-21T16:49:07.137Z"
   },
   {
    "duration": 45,
    "start_time": "2023-04-21T16:49:07.181Z"
   },
   {
    "duration": 23,
    "start_time": "2023-04-21T16:49:07.229Z"
   },
   {
    "duration": 6,
    "start_time": "2023-04-21T16:49:07.254Z"
   },
   {
    "duration": 18,
    "start_time": "2023-04-21T16:49:07.263Z"
   },
   {
    "duration": 59,
    "start_time": "2023-04-21T16:49:07.286Z"
   },
   {
    "duration": 2380,
    "start_time": "2023-04-21T16:49:07.347Z"
   },
   {
    "duration": 8,
    "start_time": "2023-04-21T16:49:09.737Z"
   },
   {
    "duration": 89,
    "start_time": "2023-04-21T16:49:09.748Z"
   },
   {
    "duration": 341,
    "start_time": "2023-04-21T16:49:09.839Z"
   },
   {
    "duration": 30,
    "start_time": "2023-04-21T16:49:10.182Z"
   },
   {
    "duration": 39,
    "start_time": "2023-04-21T16:49:10.213Z"
   },
   {
    "duration": 175,
    "start_time": "2023-04-21T16:49:10.254Z"
   },
   {
    "duration": 14,
    "start_time": "2023-04-21T16:49:10.432Z"
   },
   {
    "duration": 97,
    "start_time": "2023-04-21T16:49:10.448Z"
   },
   {
    "duration": 82,
    "start_time": "2023-04-21T16:49:10.548Z"
   },
   {
    "duration": 36,
    "start_time": "2023-04-21T16:49:10.643Z"
   },
   {
    "duration": 66,
    "start_time": "2023-04-21T16:49:10.680Z"
   },
   {
    "duration": 20,
    "start_time": "2023-04-21T16:49:10.748Z"
   },
   {
    "duration": 40,
    "start_time": "2023-04-21T16:49:10.771Z"
   },
   {
    "duration": 18,
    "start_time": "2023-04-21T16:49:10.816Z"
   },
   {
    "duration": 21,
    "start_time": "2023-04-21T16:49:10.836Z"
   },
   {
    "duration": 18,
    "start_time": "2023-04-21T16:49:10.859Z"
   },
   {
    "duration": 724,
    "start_time": "2023-04-21T16:49:10.892Z"
   },
   {
    "duration": 878,
    "start_time": "2023-04-21T16:49:11.624Z"
   },
   {
    "duration": 631,
    "start_time": "2023-04-21T16:49:53.539Z"
   },
   {
    "duration": 976,
    "start_time": "2023-04-21T16:51:11.591Z"
   },
   {
    "duration": 590,
    "start_time": "2023-04-21T16:51:36.434Z"
   },
   {
    "duration": 662,
    "start_time": "2023-04-21T16:52:01.208Z"
   },
   {
    "duration": 712,
    "start_time": "2023-04-21T16:53:53.549Z"
   },
   {
    "duration": 5,
    "start_time": "2023-04-21T16:57:52.421Z"
   },
   {
    "duration": 41,
    "start_time": "2023-04-21T16:57:52.429Z"
   },
   {
    "duration": 31,
    "start_time": "2023-04-21T16:57:52.472Z"
   },
   {
    "duration": 5,
    "start_time": "2023-04-21T16:57:52.510Z"
   },
   {
    "duration": 108,
    "start_time": "2023-04-21T16:57:52.518Z"
   },
   {
    "duration": 28,
    "start_time": "2023-04-21T16:57:52.628Z"
   },
   {
    "duration": 41,
    "start_time": "2023-04-21T16:57:52.658Z"
   },
   {
    "duration": 585,
    "start_time": "2023-04-21T16:57:52.702Z"
   },
   {
    "duration": 89,
    "start_time": "2023-04-21T16:57:53.289Z"
   },
   {
    "duration": 52,
    "start_time": "2023-04-21T16:57:53.380Z"
   },
   {
    "duration": 30,
    "start_time": "2023-04-21T16:57:53.433Z"
   },
   {
    "duration": 17,
    "start_time": "2023-04-21T16:57:53.465Z"
   },
   {
    "duration": 30,
    "start_time": "2023-04-21T16:57:53.484Z"
   },
   {
    "duration": 23,
    "start_time": "2023-04-21T16:57:53.518Z"
   },
   {
    "duration": 47,
    "start_time": "2023-04-21T16:57:53.543Z"
   },
   {
    "duration": 2354,
    "start_time": "2023-04-21T16:57:53.592Z"
   },
   {
    "duration": 6,
    "start_time": "2023-04-21T16:57:55.948Z"
   },
   {
    "duration": 81,
    "start_time": "2023-04-21T16:57:55.956Z"
   },
   {
    "duration": 380,
    "start_time": "2023-04-21T16:57:56.039Z"
   },
   {
    "duration": 24,
    "start_time": "2023-04-21T16:57:56.422Z"
   },
   {
    "duration": 32,
    "start_time": "2023-04-21T16:57:56.447Z"
   },
   {
    "duration": 167,
    "start_time": "2023-04-21T16:57:56.481Z"
   },
   {
    "duration": 14,
    "start_time": "2023-04-21T16:57:56.650Z"
   },
   {
    "duration": 115,
    "start_time": "2023-04-21T16:57:56.666Z"
   },
   {
    "duration": 52,
    "start_time": "2023-04-21T16:57:56.782Z"
   },
   {
    "duration": 32,
    "start_time": "2023-04-21T16:57:56.836Z"
   },
   {
    "duration": 86,
    "start_time": "2023-04-21T16:57:56.869Z"
   },
   {
    "duration": 12,
    "start_time": "2023-04-21T16:57:56.957Z"
   },
   {
    "duration": 37,
    "start_time": "2023-04-21T16:57:56.971Z"
   },
   {
    "duration": 15,
    "start_time": "2023-04-21T16:57:57.013Z"
   },
   {
    "duration": 16,
    "start_time": "2023-04-21T16:57:57.030Z"
   },
   {
    "duration": 20,
    "start_time": "2023-04-21T16:57:57.047Z"
   },
   {
    "duration": 614,
    "start_time": "2023-04-21T16:57:57.068Z"
   },
   {
    "duration": 15,
    "start_time": "2023-04-21T16:57:57.684Z"
   },
   {
    "duration": 4,
    "start_time": "2023-04-21T17:01:03.982Z"
   },
   {
    "duration": 51,
    "start_time": "2023-04-21T17:01:03.991Z"
   },
   {
    "duration": 19,
    "start_time": "2023-04-21T17:01:04.044Z"
   },
   {
    "duration": 6,
    "start_time": "2023-04-21T17:01:04.065Z"
   },
   {
    "duration": 92,
    "start_time": "2023-04-21T17:01:04.073Z"
   },
   {
    "duration": 39,
    "start_time": "2023-04-21T17:01:04.168Z"
   },
   {
    "duration": 23,
    "start_time": "2023-04-21T17:01:04.209Z"
   },
   {
    "duration": 579,
    "start_time": "2023-04-21T17:01:04.233Z"
   },
   {
    "duration": 77,
    "start_time": "2023-04-21T17:01:04.814Z"
   },
   {
    "duration": 52,
    "start_time": "2023-04-21T17:01:04.893Z"
   },
   {
    "duration": 31,
    "start_time": "2023-04-21T17:01:04.948Z"
   },
   {
    "duration": 45,
    "start_time": "2023-04-21T17:01:04.981Z"
   },
   {
    "duration": 7,
    "start_time": "2023-04-21T17:01:05.029Z"
   },
   {
    "duration": 21,
    "start_time": "2023-04-21T17:01:05.038Z"
   },
   {
    "duration": 68,
    "start_time": "2023-04-21T17:01:05.064Z"
   },
   {
    "duration": 2277,
    "start_time": "2023-04-21T17:01:05.134Z"
   },
   {
    "duration": 7,
    "start_time": "2023-04-21T17:01:07.413Z"
   },
   {
    "duration": 58,
    "start_time": "2023-04-21T17:01:07.422Z"
   },
   {
    "duration": 356,
    "start_time": "2023-04-21T17:01:07.482Z"
   },
   {
    "duration": 15,
    "start_time": "2023-04-21T17:01:07.840Z"
   },
   {
    "duration": 47,
    "start_time": "2023-04-21T17:01:07.857Z"
   },
   {
    "duration": 135,
    "start_time": "2023-04-21T17:01:07.912Z"
   },
   {
    "duration": 14,
    "start_time": "2023-04-21T17:01:08.049Z"
   },
   {
    "duration": 95,
    "start_time": "2023-04-21T17:01:08.065Z"
   },
   {
    "duration": 78,
    "start_time": "2023-04-21T17:01:08.163Z"
   },
   {
    "duration": 31,
    "start_time": "2023-04-21T17:01:08.242Z"
   },
   {
    "duration": 73,
    "start_time": "2023-04-21T17:01:08.275Z"
   },
   {
    "duration": 13,
    "start_time": "2023-04-21T17:01:08.349Z"
   },
   {
    "duration": 11,
    "start_time": "2023-04-21T17:01:08.364Z"
   },
   {
    "duration": 43,
    "start_time": "2023-04-21T17:01:08.377Z"
   },
   {
    "duration": 18,
    "start_time": "2023-04-21T17:01:08.423Z"
   },
   {
    "duration": 18,
    "start_time": "2023-04-21T17:01:08.443Z"
   },
   {
    "duration": 643,
    "start_time": "2023-04-21T17:01:08.463Z"
   },
   {
    "duration": 4,
    "start_time": "2023-04-21T17:01:09.116Z"
   },
   {
    "duration": 702,
    "start_time": "2023-04-21T17:01:36.230Z"
   },
   {
    "duration": 1353,
    "start_time": "2023-04-21T17:02:41.576Z"
   },
   {
    "duration": 29,
    "start_time": "2023-04-21T17:02:42.931Z"
   },
   {
    "duration": 21,
    "start_time": "2023-04-21T17:02:42.961Z"
   },
   {
    "duration": 4,
    "start_time": "2023-04-21T17:02:42.985Z"
   },
   {
    "duration": 85,
    "start_time": "2023-04-21T17:02:42.991Z"
   },
   {
    "duration": 35,
    "start_time": "2023-04-21T17:02:43.078Z"
   },
   {
    "duration": 13,
    "start_time": "2023-04-21T17:02:43.119Z"
   },
   {
    "duration": 561,
    "start_time": "2023-04-21T17:02:43.134Z"
   },
   {
    "duration": 110,
    "start_time": "2023-04-21T17:02:43.703Z"
   },
   {
    "duration": 30,
    "start_time": "2023-04-21T17:02:43.818Z"
   },
   {
    "duration": 27,
    "start_time": "2023-04-21T17:02:43.849Z"
   },
   {
    "duration": 28,
    "start_time": "2023-04-21T17:02:43.878Z"
   },
   {
    "duration": 11,
    "start_time": "2023-04-21T17:02:43.912Z"
   },
   {
    "duration": 24,
    "start_time": "2023-04-21T17:02:43.925Z"
   },
   {
    "duration": 30,
    "start_time": "2023-04-21T17:02:43.951Z"
   },
   {
    "duration": 2150,
    "start_time": "2023-04-21T17:02:43.982Z"
   },
   {
    "duration": 6,
    "start_time": "2023-04-21T17:02:46.134Z"
   },
   {
    "duration": 70,
    "start_time": "2023-04-21T17:02:46.141Z"
   },
   {
    "duration": 324,
    "start_time": "2023-04-21T17:02:46.218Z"
   },
   {
    "duration": 14,
    "start_time": "2023-04-21T17:02:46.544Z"
   },
   {
    "duration": 48,
    "start_time": "2023-04-21T17:02:46.560Z"
   },
   {
    "duration": 155,
    "start_time": "2023-04-21T17:02:46.610Z"
   },
   {
    "duration": 15,
    "start_time": "2023-04-21T17:02:46.767Z"
   },
   {
    "duration": 90,
    "start_time": "2023-04-21T17:02:46.793Z"
   },
   {
    "duration": 57,
    "start_time": "2023-04-21T17:02:46.884Z"
   },
   {
    "duration": 29,
    "start_time": "2023-04-21T17:02:46.943Z"
   },
   {
    "duration": 81,
    "start_time": "2023-04-21T17:02:46.975Z"
   },
   {
    "duration": 13,
    "start_time": "2023-04-21T17:02:47.060Z"
   },
   {
    "duration": 23,
    "start_time": "2023-04-21T17:02:47.075Z"
   },
   {
    "duration": 19,
    "start_time": "2023-04-21T17:02:47.100Z"
   },
   {
    "duration": 18,
    "start_time": "2023-04-21T17:02:47.121Z"
   },
   {
    "duration": 17,
    "start_time": "2023-04-21T17:02:47.141Z"
   },
   {
    "duration": 169,
    "start_time": "2023-04-21T17:02:47.160Z"
   },
   {
    "duration": 0,
    "start_time": "2023-04-21T17:02:47.331Z"
   },
   {
    "duration": 15,
    "start_time": "2023-04-21T17:06:25.276Z"
   },
   {
    "duration": 31,
    "start_time": "2023-04-21T17:07:34.981Z"
   },
   {
    "duration": 262,
    "start_time": "2023-04-21T17:08:17.087Z"
   },
   {
    "duration": 959,
    "start_time": "2023-04-21T17:08:46.194Z"
   },
   {
    "duration": 1022,
    "start_time": "2023-04-21T17:09:32.159Z"
   },
   {
    "duration": 1040,
    "start_time": "2023-04-21T17:10:14.530Z"
   },
   {
    "duration": 985,
    "start_time": "2023-04-21T17:10:36.548Z"
   },
   {
    "duration": 974,
    "start_time": "2023-04-21T17:11:09.066Z"
   },
   {
    "duration": 1166,
    "start_time": "2023-04-21T17:13:00.462Z"
   },
   {
    "duration": 946,
    "start_time": "2023-04-21T17:14:26.469Z"
   },
   {
    "duration": 308,
    "start_time": "2023-04-21T17:28:07.738Z"
   },
   {
    "duration": 959,
    "start_time": "2023-04-21T17:28:28.204Z"
   },
   {
    "duration": 917,
    "start_time": "2023-04-21T17:29:57.232Z"
   },
   {
    "duration": 672,
    "start_time": "2023-04-21T17:34:35.101Z"
   },
   {
    "duration": 701,
    "start_time": "2023-04-21T17:35:45.942Z"
   },
   {
    "duration": 242,
    "start_time": "2023-04-21T17:36:45.845Z"
   },
   {
    "duration": 838,
    "start_time": "2023-04-21T17:37:03.484Z"
   },
   {
    "duration": 1259,
    "start_time": "2023-04-21T17:37:34.786Z"
   },
   {
    "duration": 28,
    "start_time": "2023-04-21T17:37:36.047Z"
   },
   {
    "duration": 32,
    "start_time": "2023-04-21T17:37:36.077Z"
   },
   {
    "duration": 10,
    "start_time": "2023-04-21T17:37:36.115Z"
   },
   {
    "duration": 86,
    "start_time": "2023-04-21T17:37:36.128Z"
   },
   {
    "duration": 39,
    "start_time": "2023-04-21T17:37:36.217Z"
   },
   {
    "duration": 12,
    "start_time": "2023-04-21T17:37:36.258Z"
   },
   {
    "duration": 568,
    "start_time": "2023-04-21T17:37:36.272Z"
   },
   {
    "duration": 91,
    "start_time": "2023-04-21T17:37:36.842Z"
   },
   {
    "duration": 31,
    "start_time": "2023-04-21T17:37:36.936Z"
   },
   {
    "duration": 37,
    "start_time": "2023-04-21T17:37:36.969Z"
   },
   {
    "duration": 21,
    "start_time": "2023-04-21T17:37:37.008Z"
   },
   {
    "duration": 7,
    "start_time": "2023-04-21T17:37:37.031Z"
   },
   {
    "duration": 13,
    "start_time": "2023-04-21T17:37:37.042Z"
   },
   {
    "duration": 71,
    "start_time": "2023-04-21T17:37:37.057Z"
   },
   {
    "duration": 2232,
    "start_time": "2023-04-21T17:37:37.131Z"
   },
   {
    "duration": 5,
    "start_time": "2023-04-21T17:37:39.365Z"
   },
   {
    "duration": 70,
    "start_time": "2023-04-21T17:37:39.372Z"
   },
   {
    "duration": 323,
    "start_time": "2023-04-21T17:37:39.443Z"
   },
   {
    "duration": 13,
    "start_time": "2023-04-21T17:37:39.768Z"
   },
   {
    "duration": 28,
    "start_time": "2023-04-21T17:37:39.795Z"
   },
   {
    "duration": 161,
    "start_time": "2023-04-21T17:37:39.826Z"
   },
   {
    "duration": 32,
    "start_time": "2023-04-21T17:37:39.988Z"
   },
   {
    "duration": 100,
    "start_time": "2023-04-21T17:37:40.025Z"
   },
   {
    "duration": 32,
    "start_time": "2023-04-21T17:37:40.127Z"
   },
   {
    "duration": 43,
    "start_time": "2023-04-21T17:37:40.161Z"
   },
   {
    "duration": 58,
    "start_time": "2023-04-21T17:37:40.206Z"
   },
   {
    "duration": 37,
    "start_time": "2023-04-21T17:37:40.265Z"
   },
   {
    "duration": 11,
    "start_time": "2023-04-21T17:37:40.308Z"
   },
   {
    "duration": 13,
    "start_time": "2023-04-21T17:37:40.321Z"
   },
   {
    "duration": 15,
    "start_time": "2023-04-21T17:37:40.336Z"
   },
   {
    "duration": 50,
    "start_time": "2023-04-21T17:37:40.353Z"
   },
   {
    "duration": 425,
    "start_time": "2023-04-21T17:37:40.405Z"
   },
   {
    "duration": 0,
    "start_time": "2023-04-21T17:37:40.833Z"
   },
   {
    "duration": 978,
    "start_time": "2023-04-21T17:39:37.745Z"
   },
   {
    "duration": 984,
    "start_time": "2023-04-21T17:40:50.804Z"
   },
   {
    "duration": 1055,
    "start_time": "2023-04-21T17:54:53.211Z"
   },
   {
    "duration": 651,
    "start_time": "2023-04-21T18:14:13.817Z"
   },
   {
    "duration": 661,
    "start_time": "2023-04-21T18:15:15.117Z"
   },
   {
    "duration": 32,
    "start_time": "2023-04-21T18:20:58.728Z"
   },
   {
    "duration": 553,
    "start_time": "2023-04-21T18:21:35.794Z"
   },
   {
    "duration": 367,
    "start_time": "2023-04-21T18:22:07.081Z"
   },
   {
    "duration": 628,
    "start_time": "2023-04-21T18:22:35.445Z"
   },
   {
    "duration": 1421,
    "start_time": "2023-04-21T18:25:43.318Z"
   },
   {
    "duration": 464,
    "start_time": "2023-04-21T18:26:03.055Z"
   },
   {
    "duration": 502,
    "start_time": "2023-04-21T18:26:59.715Z"
   },
   {
    "duration": 28,
    "start_time": "2023-04-21T18:44:04.618Z"
   },
   {
    "duration": 26,
    "start_time": "2023-04-21T18:44:24.627Z"
   },
   {
    "duration": 34,
    "start_time": "2023-04-21T18:44:39.205Z"
   },
   {
    "duration": 49,
    "start_time": "2023-04-21T18:51:36.522Z"
   },
   {
    "duration": 60,
    "start_time": "2023-04-21T18:52:25.802Z"
   },
   {
    "duration": 56,
    "start_time": "2023-04-21T18:52:26.300Z"
   },
   {
    "duration": 79,
    "start_time": "2023-04-21T18:53:15.486Z"
   },
   {
    "duration": 20,
    "start_time": "2023-04-21T19:11:21.281Z"
   },
   {
    "duration": 21,
    "start_time": "2023-04-21T19:11:32.014Z"
   },
   {
    "duration": 105,
    "start_time": "2023-04-21T20:13:41.355Z"
   },
   {
    "duration": 67,
    "start_time": "2023-04-21T20:13:59.366Z"
   },
   {
    "duration": 76,
    "start_time": "2023-04-21T20:14:50.452Z"
   },
   {
    "duration": 1134,
    "start_time": "2023-04-21T20:16:51.830Z"
   },
   {
    "duration": 1047,
    "start_time": "2023-04-21T20:24:02.056Z"
   },
   {
    "duration": 1103,
    "start_time": "2023-04-21T20:32:46.114Z"
   },
   {
    "duration": 282,
    "start_time": "2023-04-21T20:35:29.216Z"
   },
   {
    "duration": 959,
    "start_time": "2023-04-21T20:38:17.260Z"
   },
   {
    "duration": 1111,
    "start_time": "2023-04-21T20:42:18.850Z"
   },
   {
    "duration": 1370,
    "start_time": "2023-04-22T11:01:53.450Z"
   },
   {
    "duration": 71,
    "start_time": "2023-04-22T11:01:54.822Z"
   },
   {
    "duration": 22,
    "start_time": "2023-04-22T11:01:54.894Z"
   },
   {
    "duration": 4,
    "start_time": "2023-04-22T11:01:54.918Z"
   },
   {
    "duration": 230,
    "start_time": "2023-04-22T11:01:54.924Z"
   },
   {
    "duration": 23,
    "start_time": "2023-04-22T11:01:55.156Z"
   },
   {
    "duration": 11,
    "start_time": "2023-04-22T11:01:55.181Z"
   },
   {
    "duration": 1596,
    "start_time": "2023-04-22T11:01:55.193Z"
   },
   {
    "duration": 62,
    "start_time": "2023-04-22T11:01:56.791Z"
   },
   {
    "duration": 37,
    "start_time": "2023-04-22T11:01:56.856Z"
   },
   {
    "duration": 119,
    "start_time": "2023-04-22T11:01:56.895Z"
   },
   {
    "duration": 17,
    "start_time": "2023-04-22T11:01:57.015Z"
   },
   {
    "duration": 5,
    "start_time": "2023-04-22T11:01:57.034Z"
   },
   {
    "duration": 13,
    "start_time": "2023-04-22T11:01:57.042Z"
   },
   {
    "duration": 37,
    "start_time": "2023-04-22T11:01:57.057Z"
   },
   {
    "duration": 1858,
    "start_time": "2023-04-22T11:01:57.095Z"
   },
   {
    "duration": 5,
    "start_time": "2023-04-22T11:01:58.955Z"
   },
   {
    "duration": 52,
    "start_time": "2023-04-22T11:01:58.961Z"
   },
   {
    "duration": 266,
    "start_time": "2023-04-22T11:01:59.015Z"
   },
   {
    "duration": 22,
    "start_time": "2023-04-22T11:01:59.282Z"
   },
   {
    "duration": 26,
    "start_time": "2023-04-22T11:01:59.305Z"
   },
   {
    "duration": 143,
    "start_time": "2023-04-22T11:01:59.333Z"
   },
   {
    "duration": 20,
    "start_time": "2023-04-22T11:01:59.478Z"
   },
   {
    "duration": 75,
    "start_time": "2023-04-22T11:01:59.500Z"
   },
   {
    "duration": 42,
    "start_time": "2023-04-22T11:01:59.577Z"
   },
   {
    "duration": 26,
    "start_time": "2023-04-22T11:01:59.621Z"
   },
   {
    "duration": 67,
    "start_time": "2023-04-22T11:01:59.649Z"
   },
   {
    "duration": 12,
    "start_time": "2023-04-22T11:01:59.719Z"
   },
   {
    "duration": 8,
    "start_time": "2023-04-22T11:01:59.733Z"
   },
   {
    "duration": 10,
    "start_time": "2023-04-22T11:01:59.742Z"
   },
   {
    "duration": 46,
    "start_time": "2023-04-22T11:01:59.753Z"
   },
   {
    "duration": 17,
    "start_time": "2023-04-22T11:01:59.800Z"
   },
   {
    "duration": 942,
    "start_time": "2023-04-22T11:01:59.819Z"
   },
   {
    "duration": 0,
    "start_time": "2023-04-22T11:02:00.762Z"
   },
   {
    "duration": 3,
    "start_time": "2023-04-22T11:02:55.396Z"
   },
   {
    "duration": 33,
    "start_time": "2023-04-22T11:02:55.401Z"
   },
   {
    "duration": 18,
    "start_time": "2023-04-22T11:02:55.436Z"
   },
   {
    "duration": 4,
    "start_time": "2023-04-22T11:02:55.455Z"
   },
   {
    "duration": 63,
    "start_time": "2023-04-22T11:02:55.461Z"
   },
   {
    "duration": 22,
    "start_time": "2023-04-22T11:02:55.526Z"
   },
   {
    "duration": 10,
    "start_time": "2023-04-22T11:02:55.550Z"
   },
   {
    "duration": 463,
    "start_time": "2023-04-22T11:02:55.562Z"
   },
   {
    "duration": 67,
    "start_time": "2023-04-22T11:02:56.027Z"
   },
   {
    "duration": 25,
    "start_time": "2023-04-22T11:02:56.095Z"
   },
   {
    "duration": 27,
    "start_time": "2023-04-22T11:02:56.122Z"
   },
   {
    "duration": 17,
    "start_time": "2023-04-22T11:02:56.151Z"
   },
   {
    "duration": 26,
    "start_time": "2023-04-22T11:02:56.170Z"
   },
   {
    "duration": 13,
    "start_time": "2023-04-22T11:02:56.200Z"
   },
   {
    "duration": 36,
    "start_time": "2023-04-22T11:02:56.215Z"
   },
   {
    "duration": 1862,
    "start_time": "2023-04-22T11:02:56.253Z"
   },
   {
    "duration": 5,
    "start_time": "2023-04-22T11:02:58.117Z"
   },
   {
    "duration": 50,
    "start_time": "2023-04-22T11:02:58.123Z"
   },
   {
    "duration": 275,
    "start_time": "2023-04-22T11:02:58.175Z"
   },
   {
    "duration": 14,
    "start_time": "2023-04-22T11:02:58.452Z"
   },
   {
    "duration": 44,
    "start_time": "2023-04-22T11:02:58.468Z"
   },
   {
    "duration": 138,
    "start_time": "2023-04-22T11:02:58.514Z"
   },
   {
    "duration": 14,
    "start_time": "2023-04-22T11:02:58.654Z"
   },
   {
    "duration": 89,
    "start_time": "2023-04-22T11:02:58.669Z"
   },
   {
    "duration": 39,
    "start_time": "2023-04-22T11:02:58.760Z"
   },
   {
    "duration": 27,
    "start_time": "2023-04-22T11:02:58.801Z"
   },
   {
    "duration": 66,
    "start_time": "2023-04-22T11:02:58.830Z"
   },
   {
    "duration": 12,
    "start_time": "2023-04-22T11:02:58.898Z"
   },
   {
    "duration": 10,
    "start_time": "2023-04-22T11:02:58.912Z"
   },
   {
    "duration": 10,
    "start_time": "2023-04-22T11:02:58.924Z"
   },
   {
    "duration": 17,
    "start_time": "2023-04-22T11:02:58.936Z"
   },
   {
    "duration": 48,
    "start_time": "2023-04-22T11:02:58.955Z"
   },
   {
    "duration": 849,
    "start_time": "2023-04-22T11:02:59.005Z"
   },
   {
    "duration": 787,
    "start_time": "2023-04-22T11:02:59.856Z"
   },
   {
    "duration": 6,
    "start_time": "2023-04-22T11:07:16.337Z"
   },
   {
    "duration": 29,
    "start_time": "2023-04-22T11:07:16.346Z"
   },
   {
    "duration": 16,
    "start_time": "2023-04-22T11:07:16.377Z"
   },
   {
    "duration": 5,
    "start_time": "2023-04-22T11:07:16.396Z"
   },
   {
    "duration": 63,
    "start_time": "2023-04-22T11:07:16.403Z"
   },
   {
    "duration": 29,
    "start_time": "2023-04-22T11:07:16.467Z"
   },
   {
    "duration": 10,
    "start_time": "2023-04-22T11:07:16.498Z"
   },
   {
    "duration": 429,
    "start_time": "2023-04-22T11:07:16.509Z"
   },
   {
    "duration": 67,
    "start_time": "2023-04-22T11:07:16.940Z"
   },
   {
    "duration": 24,
    "start_time": "2023-04-22T11:07:17.010Z"
   },
   {
    "duration": 26,
    "start_time": "2023-04-22T11:07:17.035Z"
   },
   {
    "duration": 31,
    "start_time": "2023-04-22T11:07:17.063Z"
   },
   {
    "duration": 5,
    "start_time": "2023-04-22T11:07:17.095Z"
   },
   {
    "duration": 13,
    "start_time": "2023-04-22T11:07:17.101Z"
   },
   {
    "duration": 26,
    "start_time": "2023-04-22T11:07:17.116Z"
   },
   {
    "duration": 1854,
    "start_time": "2023-04-22T11:07:17.143Z"
   },
   {
    "duration": 6,
    "start_time": "2023-04-22T11:07:18.999Z"
   },
   {
    "duration": 46,
    "start_time": "2023-04-22T11:07:19.007Z"
   },
   {
    "duration": 289,
    "start_time": "2023-04-22T11:07:19.055Z"
   },
   {
    "duration": 12,
    "start_time": "2023-04-22T11:07:19.346Z"
   },
   {
    "duration": 40,
    "start_time": "2023-04-22T11:07:19.360Z"
   },
   {
    "duration": 123,
    "start_time": "2023-04-22T11:07:19.402Z"
   },
   {
    "duration": 13,
    "start_time": "2023-04-22T11:07:19.526Z"
   },
   {
    "duration": 85,
    "start_time": "2023-04-22T11:07:19.541Z"
   },
   {
    "duration": 32,
    "start_time": "2023-04-22T11:07:19.628Z"
   },
   {
    "duration": 43,
    "start_time": "2023-04-22T11:07:19.662Z"
   },
   {
    "duration": 54,
    "start_time": "2023-04-22T11:07:19.708Z"
   },
   {
    "duration": 35,
    "start_time": "2023-04-22T11:07:19.767Z"
   },
   {
    "duration": 13,
    "start_time": "2023-04-22T11:07:19.804Z"
   },
   {
    "duration": 10,
    "start_time": "2023-04-22T11:07:19.819Z"
   },
   {
    "duration": 13,
    "start_time": "2023-04-22T11:07:19.831Z"
   },
   {
    "duration": 16,
    "start_time": "2023-04-22T11:07:19.846Z"
   },
   {
    "duration": 803,
    "start_time": "2023-04-22T11:07:19.893Z"
   },
   {
    "duration": 695,
    "start_time": "2023-04-22T11:07:20.698Z"
   },
   {
    "duration": 178,
    "start_time": "2023-04-22T11:07:21.394Z"
   },
   {
    "duration": 77,
    "start_time": "2023-04-22T11:10:26.622Z"
   },
   {
    "duration": 345,
    "start_time": "2023-04-22T11:11:12.627Z"
   },
   {
    "duration": 351,
    "start_time": "2023-04-22T11:12:47.674Z"
   },
   {
    "duration": 355,
    "start_time": "2023-04-22T11:13:02.444Z"
   },
   {
    "duration": 917,
    "start_time": "2023-04-22T11:13:45.065Z"
   },
   {
    "duration": 326,
    "start_time": "2023-04-22T11:14:07.610Z"
   },
   {
    "duration": 348,
    "start_time": "2023-04-22T11:14:34.559Z"
   },
   {
    "duration": 366,
    "start_time": "2023-04-22T11:14:47.950Z"
   },
   {
    "duration": 344,
    "start_time": "2023-04-22T11:15:14.440Z"
   },
   {
    "duration": 369,
    "start_time": "2023-04-22T11:15:32.306Z"
   },
   {
    "duration": 350,
    "start_time": "2023-04-22T11:15:58.042Z"
   },
   {
    "duration": 339,
    "start_time": "2023-04-22T11:16:17.807Z"
   },
   {
    "duration": 347,
    "start_time": "2023-04-22T11:16:56.314Z"
   },
   {
    "duration": 338,
    "start_time": "2023-04-22T11:17:18.671Z"
   },
   {
    "duration": 355,
    "start_time": "2023-04-22T11:41:06.362Z"
   },
   {
    "duration": 11,
    "start_time": "2023-04-22T11:42:41.141Z"
   },
   {
    "duration": 350,
    "start_time": "2023-04-22T11:44:45.410Z"
   },
   {
    "duration": 363,
    "start_time": "2023-04-22T11:45:22.243Z"
   },
   {
    "duration": 381,
    "start_time": "2023-04-22T11:47:00.170Z"
   },
   {
    "duration": 13,
    "start_time": "2023-04-22T11:48:05.035Z"
   },
   {
    "duration": 361,
    "start_time": "2023-04-22T11:50:03.108Z"
   },
   {
    "duration": 10,
    "start_time": "2023-04-22T11:50:17.421Z"
   },
   {
    "duration": 15,
    "start_time": "2023-04-22T11:51:10.364Z"
   },
   {
    "duration": 17,
    "start_time": "2023-04-22T11:57:20.201Z"
   },
   {
    "duration": 1326,
    "start_time": "2023-04-22T11:57:35.788Z"
   },
   {
    "duration": 11,
    "start_time": "2023-04-22T11:59:01.460Z"
   },
   {
    "duration": 16,
    "start_time": "2023-04-22T11:59:14.186Z"
   },
   {
    "duration": 70,
    "start_time": "2023-04-22T11:59:38.852Z"
   },
   {
    "duration": 73,
    "start_time": "2023-04-22T12:02:21.729Z"
   },
   {
    "duration": 75,
    "start_time": "2023-04-22T12:02:34.239Z"
   },
   {
    "duration": 131,
    "start_time": "2023-04-22T12:02:40.799Z"
   },
   {
    "duration": 76,
    "start_time": "2023-04-22T12:02:47.735Z"
   },
   {
    "duration": 1167,
    "start_time": "2023-04-22T12:05:50.197Z"
   },
   {
    "duration": 922,
    "start_time": "2023-04-22T12:06:04.649Z"
   },
   {
    "duration": 921,
    "start_time": "2023-04-22T12:07:06.037Z"
   },
   {
    "duration": 888,
    "start_time": "2023-04-22T12:07:28.384Z"
   },
   {
    "duration": 15,
    "start_time": "2023-04-22T12:07:37.913Z"
   },
   {
    "duration": 918,
    "start_time": "2023-04-22T12:11:46.019Z"
   },
   {
    "duration": 3,
    "start_time": "2023-04-22T12:11:57.595Z"
   },
   {
    "duration": 31,
    "start_time": "2023-04-22T12:11:57.603Z"
   },
   {
    "duration": 17,
    "start_time": "2023-04-22T12:11:57.636Z"
   },
   {
    "duration": 5,
    "start_time": "2023-04-22T12:11:57.655Z"
   },
   {
    "duration": 63,
    "start_time": "2023-04-22T12:11:57.662Z"
   },
   {
    "duration": 24,
    "start_time": "2023-04-22T12:11:57.728Z"
   },
   {
    "duration": 12,
    "start_time": "2023-04-22T12:11:57.754Z"
   },
   {
    "duration": 472,
    "start_time": "2023-04-22T12:11:57.768Z"
   },
   {
    "duration": 76,
    "start_time": "2023-04-22T12:11:58.242Z"
   },
   {
    "duration": 25,
    "start_time": "2023-04-22T12:11:58.319Z"
   },
   {
    "duration": 27,
    "start_time": "2023-04-22T12:11:58.346Z"
   },
   {
    "duration": 25,
    "start_time": "2023-04-22T12:11:58.375Z"
   },
   {
    "duration": 4,
    "start_time": "2023-04-22T12:11:58.402Z"
   },
   {
    "duration": 13,
    "start_time": "2023-04-22T12:11:58.408Z"
   },
   {
    "duration": 25,
    "start_time": "2023-04-22T12:11:58.426Z"
   },
   {
    "duration": 1960,
    "start_time": "2023-04-22T12:11:58.453Z"
   },
   {
    "duration": 6,
    "start_time": "2023-04-22T12:12:00.414Z"
   },
   {
    "duration": 60,
    "start_time": "2023-04-22T12:12:00.421Z"
   },
   {
    "duration": 305,
    "start_time": "2023-04-22T12:12:00.483Z"
   },
   {
    "duration": 12,
    "start_time": "2023-04-22T12:12:00.794Z"
   },
   {
    "duration": 39,
    "start_time": "2023-04-22T12:12:00.808Z"
   },
   {
    "duration": 113,
    "start_time": "2023-04-22T12:12:00.849Z"
   },
   {
    "duration": 15,
    "start_time": "2023-04-22T12:12:00.963Z"
   },
   {
    "duration": 119,
    "start_time": "2023-04-22T12:12:00.979Z"
   },
   {
    "duration": 35,
    "start_time": "2023-04-22T12:12:01.100Z"
   },
   {
    "duration": 104,
    "start_time": "2023-04-22T12:12:01.137Z"
   },
   {
    "duration": 133,
    "start_time": "2023-04-22T12:12:01.242Z"
   },
   {
    "duration": 33,
    "start_time": "2023-04-22T12:12:01.377Z"
   },
   {
    "duration": 39,
    "start_time": "2023-04-22T12:12:01.413Z"
   },
   {
    "duration": 50,
    "start_time": "2023-04-22T12:12:01.455Z"
   },
   {
    "duration": 53,
    "start_time": "2023-04-22T12:12:01.508Z"
   },
   {
    "duration": 33,
    "start_time": "2023-04-22T12:12:01.562Z"
   },
   {
    "duration": 922,
    "start_time": "2023-04-22T12:12:01.597Z"
   },
   {
    "duration": 711,
    "start_time": "2023-04-22T12:12:02.520Z"
   },
   {
    "duration": 375,
    "start_time": "2023-04-22T12:12:03.233Z"
   },
   {
    "duration": 15,
    "start_time": "2023-04-22T12:12:03.610Z"
   },
   {
    "duration": 349,
    "start_time": "2023-04-22T12:13:49.284Z"
   },
   {
    "duration": 333,
    "start_time": "2023-04-22T12:14:13.836Z"
   },
   {
    "duration": 20,
    "start_time": "2023-04-22T12:16:53.954Z"
   },
   {
    "duration": 19,
    "start_time": "2023-04-22T12:17:46.923Z"
   },
   {
    "duration": 17,
    "start_time": "2023-04-22T12:18:34.414Z"
   },
   {
    "duration": 4,
    "start_time": "2023-04-22T12:24:17.803Z"
   },
   {
    "duration": 5,
    "start_time": "2023-04-22T12:24:56.292Z"
   },
   {
    "duration": 14,
    "start_time": "2023-04-22T12:25:21.628Z"
   },
   {
    "duration": 15,
    "start_time": "2023-04-22T12:25:43.868Z"
   },
   {
    "duration": 347,
    "start_time": "2023-04-22T12:56:51.902Z"
   },
   {
    "duration": 15,
    "start_time": "2023-04-22T12:56:58.870Z"
   },
   {
    "duration": 15,
    "start_time": "2023-04-22T12:57:27.665Z"
   },
   {
    "duration": 101,
    "start_time": "2023-04-22T13:21:15.850Z"
   },
   {
    "duration": 7,
    "start_time": "2023-04-22T13:21:22.419Z"
   },
   {
    "duration": 13,
    "start_time": "2023-04-22T13:21:32.239Z"
   },
   {
    "duration": 7,
    "start_time": "2023-04-22T13:35:46.387Z"
   },
   {
    "duration": 14,
    "start_time": "2023-04-22T13:36:05.940Z"
   },
   {
    "duration": 14,
    "start_time": "2023-04-22T13:36:58.957Z"
   },
   {
    "duration": 13,
    "start_time": "2023-04-22T13:37:06.182Z"
   },
   {
    "duration": 8,
    "start_time": "2023-04-22T13:38:56.313Z"
   },
   {
    "duration": 17,
    "start_time": "2023-04-22T13:39:16.801Z"
   },
   {
    "duration": 16,
    "start_time": "2023-04-22T13:39:45.668Z"
   },
   {
    "duration": 17,
    "start_time": "2023-04-22T13:39:58.240Z"
   },
   {
    "duration": 16,
    "start_time": "2023-04-22T13:40:34.843Z"
   },
   {
    "duration": 1025,
    "start_time": "2023-04-22T13:55:53.023Z"
   },
   {
    "duration": 933,
    "start_time": "2023-04-22T13:56:10.111Z"
   },
   {
    "duration": 819,
    "start_time": "2023-04-22T13:56:34.811Z"
   },
   {
    "duration": 85,
    "start_time": "2023-04-22T13:57:31.988Z"
   },
   {
    "duration": 933,
    "start_time": "2023-04-22T13:57:37.977Z"
   },
   {
    "duration": 883,
    "start_time": "2023-04-22T13:58:02.424Z"
   },
   {
    "duration": 812,
    "start_time": "2023-04-22T13:58:29.038Z"
   },
   {
    "duration": 1273,
    "start_time": "2023-04-22T14:03:50.149Z"
   },
   {
    "duration": 10,
    "start_time": "2023-04-22T14:04:12.081Z"
   },
   {
    "duration": 5,
    "start_time": "2023-04-22T14:04:33.290Z"
   },
   {
    "duration": 3,
    "start_time": "2023-04-22T14:15:33.275Z"
   },
   {
    "duration": 7,
    "start_time": "2023-04-22T14:22:41.273Z"
   },
   {
    "duration": 9,
    "start_time": "2023-04-22T15:16:38.563Z"
   },
   {
    "duration": 83,
    "start_time": "2023-04-22T15:16:50.436Z"
   },
   {
    "duration": 5,
    "start_time": "2023-04-22T15:17:07.449Z"
   },
   {
    "duration": 5,
    "start_time": "2023-04-22T15:17:12.237Z"
   },
   {
    "duration": 5,
    "start_time": "2023-04-22T15:18:27.149Z"
   },
   {
    "duration": 5,
    "start_time": "2023-04-22T15:18:29.875Z"
   },
   {
    "duration": 5,
    "start_time": "2023-04-22T15:18:32.962Z"
   },
   {
    "duration": 5,
    "start_time": "2023-04-22T15:18:37.980Z"
   },
   {
    "duration": 11,
    "start_time": "2023-04-22T15:34:19.722Z"
   },
   {
    "duration": 12,
    "start_time": "2023-04-22T15:35:11.298Z"
   },
   {
    "duration": 12,
    "start_time": "2023-04-22T15:36:00.149Z"
   },
   {
    "duration": 15,
    "start_time": "2023-04-22T15:42:31.971Z"
   },
   {
    "duration": 1171,
    "start_time": "2023-04-22T15:44:21.622Z"
   },
   {
    "duration": 12,
    "start_time": "2023-04-22T15:44:44.141Z"
   },
   {
    "duration": 17,
    "start_time": "2023-04-22T15:59:51.269Z"
   },
   {
    "duration": 16,
    "start_time": "2023-04-22T16:03:51.625Z"
   },
   {
    "duration": 7,
    "start_time": "2023-04-22T16:06:22.644Z"
   },
   {
    "duration": 17,
    "start_time": "2023-04-22T16:08:45.577Z"
   },
   {
    "duration": 5,
    "start_time": "2023-04-22T16:16:50.955Z"
   },
   {
    "duration": 13,
    "start_time": "2023-04-22T16:16:57.670Z"
   },
   {
    "duration": 4,
    "start_time": "2023-04-22T16:28:00.744Z"
   },
   {
    "duration": 5,
    "start_time": "2023-04-22T16:28:22.405Z"
   },
   {
    "duration": 22,
    "start_time": "2023-04-22T16:28:25.973Z"
   },
   {
    "duration": 4,
    "start_time": "2023-04-22T16:28:40.916Z"
   },
   {
    "duration": 19,
    "start_time": "2023-04-22T16:32:37.293Z"
   },
   {
    "duration": 18,
    "start_time": "2023-04-22T16:34:25.318Z"
   },
   {
    "duration": 17,
    "start_time": "2023-04-22T16:35:21.957Z"
   },
   {
    "duration": 21,
    "start_time": "2023-04-22T16:35:59.943Z"
   },
   {
    "duration": 23,
    "start_time": "2023-04-22T16:36:00.434Z"
   },
   {
    "duration": 3,
    "start_time": "2023-04-22T16:36:41.883Z"
   },
   {
    "duration": 46,
    "start_time": "2023-04-22T16:36:41.890Z"
   },
   {
    "duration": 19,
    "start_time": "2023-04-22T16:36:41.938Z"
   },
   {
    "duration": 5,
    "start_time": "2023-04-22T16:36:41.959Z"
   },
   {
    "duration": 67,
    "start_time": "2023-04-22T16:36:41.966Z"
   },
   {
    "duration": 25,
    "start_time": "2023-04-22T16:36:42.035Z"
   },
   {
    "duration": 11,
    "start_time": "2023-04-22T16:36:42.062Z"
   },
   {
    "duration": 495,
    "start_time": "2023-04-22T16:36:42.075Z"
   },
   {
    "duration": 77,
    "start_time": "2023-04-22T16:36:42.572Z"
   },
   {
    "duration": 25,
    "start_time": "2023-04-22T16:36:42.651Z"
   },
   {
    "duration": 32,
    "start_time": "2023-04-22T16:36:42.697Z"
   },
   {
    "duration": 17,
    "start_time": "2023-04-22T16:36:42.731Z"
   },
   {
    "duration": 6,
    "start_time": "2023-04-22T16:36:42.750Z"
   },
   {
    "duration": 21,
    "start_time": "2023-04-22T16:36:42.757Z"
   },
   {
    "duration": 38,
    "start_time": "2023-04-22T16:36:42.780Z"
   },
   {
    "duration": 1940,
    "start_time": "2023-04-22T16:36:42.820Z"
   },
   {
    "duration": 7,
    "start_time": "2023-04-22T16:36:44.762Z"
   },
   {
    "duration": 68,
    "start_time": "2023-04-22T16:36:44.771Z"
   },
   {
    "duration": 287,
    "start_time": "2023-04-22T16:36:44.841Z"
   },
   {
    "duration": 14,
    "start_time": "2023-04-22T16:36:45.130Z"
   },
   {
    "duration": 50,
    "start_time": "2023-04-22T16:36:45.146Z"
   },
   {
    "duration": 121,
    "start_time": "2023-04-22T16:36:45.206Z"
   },
   {
    "duration": 13,
    "start_time": "2023-04-22T16:36:45.329Z"
   },
   {
    "duration": 96,
    "start_time": "2023-04-22T16:36:45.344Z"
   },
   {
    "duration": 34,
    "start_time": "2023-04-22T16:36:45.442Z"
   },
   {
    "duration": 52,
    "start_time": "2023-04-22T16:36:45.478Z"
   },
   {
    "duration": 63,
    "start_time": "2023-04-22T16:36:45.532Z"
   },
   {
    "duration": 15,
    "start_time": "2023-04-22T16:36:45.596Z"
   },
   {
    "duration": 7,
    "start_time": "2023-04-22T16:36:45.614Z"
   },
   {
    "duration": 14,
    "start_time": "2023-04-22T16:36:45.623Z"
   },
   {
    "duration": 14,
    "start_time": "2023-04-22T16:36:45.638Z"
   },
   {
    "duration": 46,
    "start_time": "2023-04-22T16:36:45.654Z"
   },
   {
    "duration": 960,
    "start_time": "2023-04-22T16:36:45.702Z"
   },
   {
    "duration": 723,
    "start_time": "2023-04-22T16:36:46.664Z"
   },
   {
    "duration": 366,
    "start_time": "2023-04-22T16:36:47.389Z"
   },
   {
    "duration": 18,
    "start_time": "2023-04-22T16:36:47.757Z"
   },
   {
    "duration": 40,
    "start_time": "2023-04-22T16:36:47.776Z"
   },
   {
    "duration": 16,
    "start_time": "2023-04-22T16:36:47.818Z"
   },
   {
    "duration": 6,
    "start_time": "2023-04-22T16:36:47.836Z"
   },
   {
    "duration": 64,
    "start_time": "2023-04-22T16:36:47.844Z"
   },
   {
    "duration": 13,
    "start_time": "2023-04-22T16:36:47.910Z"
   },
   {
    "duration": 7,
    "start_time": "2023-04-22T16:36:47.924Z"
   },
   {
    "duration": 13,
    "start_time": "2023-04-22T16:36:47.933Z"
   },
   {
    "duration": 0,
    "start_time": "2023-04-22T16:36:47.948Z"
   },
   {
    "duration": 13,
    "start_time": "2023-04-22T16:37:24.006Z"
   },
   {
    "duration": 1119,
    "start_time": "2023-04-22T16:40:43.725Z"
   },
   {
    "duration": 29,
    "start_time": "2023-04-22T16:40:44.846Z"
   },
   {
    "duration": 20,
    "start_time": "2023-04-22T16:40:44.877Z"
   },
   {
    "duration": 4,
    "start_time": "2023-04-22T16:40:44.899Z"
   },
   {
    "duration": 74,
    "start_time": "2023-04-22T16:40:44.904Z"
   },
   {
    "duration": 24,
    "start_time": "2023-04-22T16:40:44.980Z"
   },
   {
    "duration": 11,
    "start_time": "2023-04-22T16:40:45.006Z"
   },
   {
    "duration": 505,
    "start_time": "2023-04-22T16:40:45.018Z"
   },
   {
    "duration": 61,
    "start_time": "2023-04-22T16:40:45.525Z"
   },
   {
    "duration": 27,
    "start_time": "2023-04-22T16:40:45.594Z"
   },
   {
    "duration": 27,
    "start_time": "2023-04-22T16:40:45.622Z"
   },
   {
    "duration": 16,
    "start_time": "2023-04-22T16:40:45.651Z"
   },
   {
    "duration": 5,
    "start_time": "2023-04-22T16:40:45.669Z"
   },
   {
    "duration": 13,
    "start_time": "2023-04-22T16:40:45.694Z"
   },
   {
    "duration": 27,
    "start_time": "2023-04-22T16:40:45.709Z"
   },
   {
    "duration": 1896,
    "start_time": "2023-04-22T16:40:45.738Z"
   },
   {
    "duration": 6,
    "start_time": "2023-04-22T16:40:47.636Z"
   },
   {
    "duration": 55,
    "start_time": "2023-04-22T16:40:47.643Z"
   },
   {
    "duration": 264,
    "start_time": "2023-04-22T16:40:47.700Z"
   },
   {
    "duration": 13,
    "start_time": "2023-04-22T16:40:47.966Z"
   },
   {
    "duration": 13,
    "start_time": "2023-04-22T16:40:47.992Z"
   },
   {
    "duration": 143,
    "start_time": "2023-04-22T16:40:48.007Z"
   },
   {
    "duration": 16,
    "start_time": "2023-04-22T16:40:48.152Z"
   },
   {
    "duration": 97,
    "start_time": "2023-04-22T16:40:48.169Z"
   },
   {
    "duration": 40,
    "start_time": "2023-04-22T16:40:48.267Z"
   },
   {
    "duration": 28,
    "start_time": "2023-04-22T16:40:48.309Z"
   },
   {
    "duration": 69,
    "start_time": "2023-04-22T16:40:48.339Z"
   },
   {
    "duration": 12,
    "start_time": "2023-04-22T16:40:48.411Z"
   },
   {
    "duration": 9,
    "start_time": "2023-04-22T16:40:48.425Z"
   },
   {
    "duration": 10,
    "start_time": "2023-04-22T16:40:48.436Z"
   },
   {
    "duration": 13,
    "start_time": "2023-04-22T16:40:48.448Z"
   },
   {
    "duration": 47,
    "start_time": "2023-04-22T16:40:48.462Z"
   },
   {
    "duration": 815,
    "start_time": "2023-04-22T16:40:48.511Z"
   },
   {
    "duration": 677,
    "start_time": "2023-04-22T16:40:49.327Z"
   },
   {
    "duration": 341,
    "start_time": "2023-04-22T16:40:50.005Z"
   },
   {
    "duration": 166,
    "start_time": "2023-04-22T16:40:50.347Z"
   },
   {
    "duration": 16,
    "start_time": "2023-04-22T16:40:50.514Z"
   },
   {
    "duration": 18,
    "start_time": "2023-04-22T16:40:50.531Z"
   },
   {
    "duration": 6,
    "start_time": "2023-04-22T16:40:50.594Z"
   },
   {
    "duration": 26,
    "start_time": "2023-04-22T16:40:50.602Z"
   },
   {
    "duration": 64,
    "start_time": "2023-04-22T16:40:50.630Z"
   },
   {
    "duration": 124,
    "start_time": "2023-04-22T16:40:50.696Z"
   },
   {
    "duration": 0,
    "start_time": "2023-04-22T16:40:50.822Z"
   },
   {
    "duration": 0,
    "start_time": "2023-04-22T16:40:50.823Z"
   },
   {
    "duration": 1162,
    "start_time": "2023-04-22T16:42:53.584Z"
   },
   {
    "duration": 28,
    "start_time": "2023-04-22T16:42:54.748Z"
   },
   {
    "duration": 22,
    "start_time": "2023-04-22T16:42:54.778Z"
   },
   {
    "duration": 5,
    "start_time": "2023-04-22T16:42:54.802Z"
   },
   {
    "duration": 70,
    "start_time": "2023-04-22T16:42:54.810Z"
   },
   {
    "duration": 30,
    "start_time": "2023-04-22T16:42:54.882Z"
   },
   {
    "duration": 11,
    "start_time": "2023-04-22T16:42:54.914Z"
   },
   {
    "duration": 497,
    "start_time": "2023-04-22T16:42:54.927Z"
   },
   {
    "duration": 71,
    "start_time": "2023-04-22T16:42:55.426Z"
   },
   {
    "duration": 27,
    "start_time": "2023-04-22T16:42:55.499Z"
   },
   {
    "duration": 27,
    "start_time": "2023-04-22T16:42:55.528Z"
   },
   {
    "duration": 17,
    "start_time": "2023-04-22T16:42:55.556Z"
   },
   {
    "duration": 20,
    "start_time": "2023-04-22T16:42:55.575Z"
   },
   {
    "duration": 13,
    "start_time": "2023-04-22T16:42:55.598Z"
   },
   {
    "duration": 33,
    "start_time": "2023-04-22T16:42:55.613Z"
   },
   {
    "duration": 1833,
    "start_time": "2023-04-22T16:42:55.648Z"
   },
   {
    "duration": 11,
    "start_time": "2023-04-22T16:42:57.483Z"
   },
   {
    "duration": 50,
    "start_time": "2023-04-22T16:42:57.495Z"
   },
   {
    "duration": 258,
    "start_time": "2023-04-22T16:42:57.547Z"
   },
   {
    "duration": 12,
    "start_time": "2023-04-22T16:42:57.807Z"
   },
   {
    "duration": 19,
    "start_time": "2023-04-22T16:42:57.821Z"
   },
   {
    "duration": 161,
    "start_time": "2023-04-22T16:42:57.842Z"
   },
   {
    "duration": 15,
    "start_time": "2023-04-22T16:42:58.005Z"
   },
   {
    "duration": 90,
    "start_time": "2023-04-22T16:42:58.021Z"
   },
   {
    "duration": 31,
    "start_time": "2023-04-22T16:42:58.113Z"
   },
   {
    "duration": 50,
    "start_time": "2023-04-22T16:42:58.145Z"
   },
   {
    "duration": 60,
    "start_time": "2023-04-22T16:42:58.197Z"
   },
   {
    "duration": 33,
    "start_time": "2023-04-22T16:42:58.260Z"
   },
   {
    "duration": 9,
    "start_time": "2023-04-22T16:42:58.295Z"
   },
   {
    "duration": 11,
    "start_time": "2023-04-22T16:42:58.306Z"
   },
   {
    "duration": 15,
    "start_time": "2023-04-22T16:42:58.319Z"
   },
   {
    "duration": 18,
    "start_time": "2023-04-22T16:42:58.335Z"
   },
   {
    "duration": 856,
    "start_time": "2023-04-22T16:42:58.355Z"
   },
   {
    "duration": 722,
    "start_time": "2023-04-22T16:42:59.213Z"
   },
   {
    "duration": 353,
    "start_time": "2023-04-22T16:42:59.937Z"
   },
   {
    "duration": 151,
    "start_time": "2023-04-22T16:43:00.293Z"
   },
   {
    "duration": 16,
    "start_time": "2023-04-22T16:43:00.446Z"
   },
   {
    "duration": 42,
    "start_time": "2023-04-22T16:43:00.463Z"
   },
   {
    "duration": 16,
    "start_time": "2023-04-22T16:43:00.507Z"
   },
   {
    "duration": 73,
    "start_time": "2023-04-22T16:43:00.525Z"
   },
   {
    "duration": 122,
    "start_time": "2023-04-22T16:43:00.602Z"
   },
   {
    "duration": 0,
    "start_time": "2023-04-22T16:43:00.726Z"
   },
   {
    "duration": 1,
    "start_time": "2023-04-22T16:43:00.726Z"
   },
   {
    "duration": 21,
    "start_time": "2023-04-22T16:43:51.412Z"
   },
   {
    "duration": 12,
    "start_time": "2023-04-22T16:44:29.701Z"
   },
   {
    "duration": 18,
    "start_time": "2023-04-22T16:45:06.406Z"
   },
   {
    "duration": 16,
    "start_time": "2023-04-22T16:53:01.421Z"
   },
   {
    "duration": 20,
    "start_time": "2023-04-22T16:54:21.955Z"
   },
   {
    "duration": 3,
    "start_time": "2023-04-22T16:55:12.294Z"
   },
   {
    "duration": 21,
    "start_time": "2023-04-22T16:56:39.859Z"
   },
   {
    "duration": 87,
    "start_time": "2023-04-22T16:58:11.689Z"
   },
   {
    "duration": 3,
    "start_time": "2023-04-22T16:58:17.880Z"
   },
   {
    "duration": 18,
    "start_time": "2023-04-22T16:58:20.688Z"
   },
   {
    "duration": 1153,
    "start_time": "2023-04-22T16:58:37.441Z"
   },
   {
    "duration": 28,
    "start_time": "2023-04-22T16:58:38.596Z"
   },
   {
    "duration": 21,
    "start_time": "2023-04-22T16:58:38.626Z"
   },
   {
    "duration": 5,
    "start_time": "2023-04-22T16:58:38.648Z"
   },
   {
    "duration": 70,
    "start_time": "2023-04-22T16:58:38.655Z"
   },
   {
    "duration": 23,
    "start_time": "2023-04-22T16:58:38.726Z"
   },
   {
    "duration": 11,
    "start_time": "2023-04-22T16:58:38.751Z"
   },
   {
    "duration": 489,
    "start_time": "2023-04-22T16:58:38.763Z"
   },
   {
    "duration": 71,
    "start_time": "2023-04-22T16:58:39.254Z"
   },
   {
    "duration": 27,
    "start_time": "2023-04-22T16:58:39.326Z"
   },
   {
    "duration": 26,
    "start_time": "2023-04-22T16:58:39.355Z"
   },
   {
    "duration": 31,
    "start_time": "2023-04-22T16:58:39.383Z"
   },
   {
    "duration": 7,
    "start_time": "2023-04-22T16:58:39.416Z"
   },
   {
    "duration": 20,
    "start_time": "2023-04-22T16:58:39.427Z"
   },
   {
    "duration": 56,
    "start_time": "2023-04-22T16:58:39.450Z"
   },
   {
    "duration": 2093,
    "start_time": "2023-04-22T16:58:39.508Z"
   },
   {
    "duration": 5,
    "start_time": "2023-04-22T16:58:41.603Z"
   },
   {
    "duration": 66,
    "start_time": "2023-04-22T16:58:41.609Z"
   },
   {
    "duration": 255,
    "start_time": "2023-04-22T16:58:41.676Z"
   },
   {
    "duration": 12,
    "start_time": "2023-04-22T16:58:41.933Z"
   },
   {
    "duration": 23,
    "start_time": "2023-04-22T16:58:41.946Z"
   },
   {
    "duration": 157,
    "start_time": "2023-04-22T16:58:41.970Z"
   },
   {
    "duration": 14,
    "start_time": "2023-04-22T16:58:42.129Z"
   },
   {
    "duration": 88,
    "start_time": "2023-04-22T16:58:42.145Z"
   },
   {
    "duration": 31,
    "start_time": "2023-04-22T16:58:42.235Z"
   },
   {
    "duration": 44,
    "start_time": "2023-04-22T16:58:42.268Z"
   },
   {
    "duration": 52,
    "start_time": "2023-04-22T16:58:42.314Z"
   },
   {
    "duration": 31,
    "start_time": "2023-04-22T16:58:42.368Z"
   },
   {
    "duration": 10,
    "start_time": "2023-04-22T16:58:42.401Z"
   },
   {
    "duration": 9,
    "start_time": "2023-04-22T16:58:42.413Z"
   },
   {
    "duration": 13,
    "start_time": "2023-04-22T16:58:42.423Z"
   },
   {
    "duration": 15,
    "start_time": "2023-04-22T16:58:42.438Z"
   },
   {
    "duration": 841,
    "start_time": "2023-04-22T16:58:42.455Z"
   },
   {
    "duration": 667,
    "start_time": "2023-04-22T16:58:43.298Z"
   },
   {
    "duration": 332,
    "start_time": "2023-04-22T16:58:43.967Z"
   },
   {
    "duration": 160,
    "start_time": "2023-04-22T16:58:44.300Z"
   },
   {
    "duration": 18,
    "start_time": "2023-04-22T16:58:44.462Z"
   },
   {
    "duration": 24,
    "start_time": "2023-04-22T16:58:44.481Z"
   },
   {
    "duration": 3,
    "start_time": "2023-04-22T16:58:44.507Z"
   },
   {
    "duration": 161,
    "start_time": "2023-04-22T16:58:44.512Z"
   },
   {
    "duration": 0,
    "start_time": "2023-04-22T16:58:44.675Z"
   },
   {
    "duration": 5,
    "start_time": "2023-04-22T16:59:18.546Z"
   },
   {
    "duration": 20,
    "start_time": "2023-04-22T16:59:32.476Z"
   },
   {
    "duration": 875,
    "start_time": "2023-04-22T17:27:46.106Z"
   },
   {
    "duration": 774,
    "start_time": "2023-04-22T17:30:16.708Z"
   },
   {
    "duration": 838,
    "start_time": "2023-04-22T17:30:36.840Z"
   },
   {
    "duration": 900,
    "start_time": "2023-04-22T17:31:04.838Z"
   },
   {
    "duration": 773,
    "start_time": "2023-04-22T17:31:20.053Z"
   },
   {
    "duration": 774,
    "start_time": "2023-04-22T17:31:33.373Z"
   },
   {
    "duration": 867,
    "start_time": "2023-04-22T17:33:22.836Z"
   },
   {
    "duration": 763,
    "start_time": "2023-04-22T17:34:40.318Z"
   },
   {
    "duration": 795,
    "start_time": "2023-04-22T17:34:52.689Z"
   },
   {
    "duration": 917,
    "start_time": "2023-04-22T17:35:09.791Z"
   },
   {
    "duration": 804,
    "start_time": "2023-04-22T17:35:29.647Z"
   },
   {
    "duration": 755,
    "start_time": "2023-04-22T17:36:12.348Z"
   },
   {
    "duration": 1570,
    "start_time": "2023-04-22T17:37:08.730Z"
   },
   {
    "duration": 862,
    "start_time": "2023-04-22T17:37:35.104Z"
   },
   {
    "duration": 765,
    "start_time": "2023-04-22T17:39:15.249Z"
   },
   {
    "duration": 835,
    "start_time": "2023-04-22T17:39:27.862Z"
   },
   {
    "duration": 924,
    "start_time": "2023-04-22T17:39:39.885Z"
   },
   {
    "duration": 2387,
    "start_time": "2023-04-22T17:39:56.194Z"
   },
   {
    "duration": 755,
    "start_time": "2023-04-22T17:41:15.550Z"
   },
   {
    "duration": 857,
    "start_time": "2023-04-22T17:41:37.624Z"
   },
   {
    "duration": 778,
    "start_time": "2023-04-22T17:42:06.793Z"
   },
   {
    "duration": 791,
    "start_time": "2023-04-22T17:42:31.903Z"
   },
   {
    "duration": 890,
    "start_time": "2023-04-22T17:42:47.995Z"
   },
   {
    "duration": 790,
    "start_time": "2023-04-22T17:43:39.691Z"
   },
   {
    "duration": 779,
    "start_time": "2023-04-22T17:44:08.048Z"
   },
   {
    "duration": 904,
    "start_time": "2023-04-22T17:45:53.302Z"
   },
   {
    "duration": 4,
    "start_time": "2023-04-22T17:49:08.442Z"
   },
   {
    "duration": 5,
    "start_time": "2023-04-22T17:49:19.802Z"
   },
   {
    "duration": 149,
    "start_time": "2023-04-22T17:49:40.456Z"
   },
   {
    "duration": 135,
    "start_time": "2023-04-22T17:50:51.608Z"
   },
   {
    "duration": 140,
    "start_time": "2023-04-22T17:51:03.077Z"
   },
   {
    "duration": 168,
    "start_time": "2023-04-22T17:56:18.320Z"
   },
   {
    "duration": 164,
    "start_time": "2023-04-22T17:56:31.970Z"
   },
   {
    "duration": 161,
    "start_time": "2023-04-22T17:57:11.370Z"
   },
   {
    "duration": 22,
    "start_time": "2023-04-22T17:58:50.536Z"
   },
   {
    "duration": 13,
    "start_time": "2023-04-22T17:59:09.681Z"
   },
   {
    "duration": 824,
    "start_time": "2023-04-22T17:59:37.281Z"
   },
   {
    "duration": 835,
    "start_time": "2023-04-22T18:02:42.076Z"
   },
   {
    "duration": 975,
    "start_time": "2023-04-22T18:02:57.031Z"
   },
   {
    "duration": 904,
    "start_time": "2023-04-22T18:05:31.029Z"
   },
   {
    "duration": 855,
    "start_time": "2023-04-22T18:05:58.369Z"
   },
   {
    "duration": 929,
    "start_time": "2023-04-22T18:06:18.477Z"
   },
   {
    "duration": 802,
    "start_time": "2023-04-22T18:06:39.030Z"
   },
   {
    "duration": 831,
    "start_time": "2023-04-22T18:06:51.529Z"
   },
   {
    "duration": 1933,
    "start_time": "2023-04-22T18:50:33.402Z"
   },
   {
    "duration": 1608,
    "start_time": "2023-04-22T18:51:01.999Z"
   },
   {
    "duration": 1457,
    "start_time": "2023-04-22T18:53:50.684Z"
   },
   {
    "duration": 77,
    "start_time": "2023-04-22T18:54:46.177Z"
   },
   {
    "duration": 1550,
    "start_time": "2023-04-22T18:54:52.036Z"
   },
   {
    "duration": 777,
    "start_time": "2023-04-22T18:57:10.155Z"
   },
   {
    "duration": 776,
    "start_time": "2023-04-22T18:58:05.893Z"
   },
   {
    "duration": 894,
    "start_time": "2023-04-22T18:58:22.050Z"
   },
   {
    "duration": 771,
    "start_time": "2023-04-22T18:58:38.546Z"
   },
   {
    "duration": 661,
    "start_time": "2023-04-22T18:59:13.146Z"
   },
   {
    "duration": 27,
    "start_time": "2023-04-22T19:00:23.228Z"
   },
   {
    "duration": 34,
    "start_time": "2023-04-22T19:04:32.582Z"
   },
   {
    "duration": 72,
    "start_time": "2023-04-22T19:09:37.824Z"
   },
   {
    "duration": 0,
    "start_time": "2023-04-22T19:09:38.398Z"
   },
   {
    "duration": 70,
    "start_time": "2023-04-22T19:09:54.890Z"
   },
   {
    "duration": 1,
    "start_time": "2023-04-22T19:09:55.514Z"
   },
   {
    "duration": 74,
    "start_time": "2023-04-22T19:09:59.080Z"
   },
   {
    "duration": 75,
    "start_time": "2023-04-22T19:10:00.226Z"
   },
   {
    "duration": 92,
    "start_time": "2023-04-22T19:10:00.735Z"
   },
   {
    "duration": 0,
    "start_time": "2023-04-22T19:10:02.127Z"
   },
   {
    "duration": 130,
    "start_time": "2023-04-22T19:10:02.640Z"
   },
   {
    "duration": 0,
    "start_time": "2023-04-22T19:10:03.737Z"
   },
   {
    "duration": 51,
    "start_time": "2023-04-22T19:10:10.950Z"
   },
   {
    "duration": 59,
    "start_time": "2023-04-22T19:11:15.831Z"
   },
   {
    "duration": 8,
    "start_time": "2023-04-22T19:11:52.505Z"
   },
   {
    "duration": 10,
    "start_time": "2023-04-22T19:11:55.841Z"
   },
   {
    "duration": 10,
    "start_time": "2023-04-22T19:11:56.348Z"
   },
   {
    "duration": 10,
    "start_time": "2023-04-22T19:12:26.801Z"
   },
   {
    "duration": 200,
    "start_time": "2023-04-22T19:14:46.982Z"
   },
   {
    "duration": 207,
    "start_time": "2023-04-22T19:15:16.912Z"
   },
   {
    "duration": 215,
    "start_time": "2023-04-22T19:16:56.387Z"
   },
   {
    "duration": 1168,
    "start_time": "2023-04-22T19:18:05.388Z"
   },
   {
    "duration": 28,
    "start_time": "2023-04-22T19:18:06.558Z"
   },
   {
    "duration": 20,
    "start_time": "2023-04-22T19:18:06.588Z"
   },
   {
    "duration": 13,
    "start_time": "2023-04-22T19:18:06.609Z"
   },
   {
    "duration": 71,
    "start_time": "2023-04-22T19:18:06.624Z"
   },
   {
    "duration": 23,
    "start_time": "2023-04-22T19:18:06.697Z"
   },
   {
    "duration": 11,
    "start_time": "2023-04-22T19:18:06.722Z"
   },
   {
    "duration": 491,
    "start_time": "2023-04-22T19:18:06.734Z"
   },
   {
    "duration": 71,
    "start_time": "2023-04-22T19:18:07.227Z"
   },
   {
    "duration": 26,
    "start_time": "2023-04-22T19:18:07.300Z"
   },
   {
    "duration": 29,
    "start_time": "2023-04-22T19:18:07.328Z"
   },
   {
    "duration": 18,
    "start_time": "2023-04-22T19:18:07.358Z"
   },
   {
    "duration": 17,
    "start_time": "2023-04-22T19:18:07.378Z"
   },
   {
    "duration": 13,
    "start_time": "2023-04-22T19:18:07.398Z"
   },
   {
    "duration": 28,
    "start_time": "2023-04-22T19:18:07.413Z"
   },
   {
    "duration": 1838,
    "start_time": "2023-04-22T19:18:07.443Z"
   },
   {
    "duration": 12,
    "start_time": "2023-04-22T19:18:09.282Z"
   },
   {
    "duration": 42,
    "start_time": "2023-04-22T19:18:09.295Z"
   },
   {
    "duration": 278,
    "start_time": "2023-04-22T19:18:09.338Z"
   },
   {
    "duration": 12,
    "start_time": "2023-04-22T19:18:09.618Z"
   },
   {
    "duration": 21,
    "start_time": "2023-04-22T19:18:09.631Z"
   },
   {
    "duration": 165,
    "start_time": "2023-04-22T19:18:09.654Z"
   },
   {
    "duration": 16,
    "start_time": "2023-04-22T19:18:09.820Z"
   },
   {
    "duration": 95,
    "start_time": "2023-04-22T19:18:09.838Z"
   },
   {
    "duration": 32,
    "start_time": "2023-04-22T19:18:09.935Z"
   },
   {
    "duration": 41,
    "start_time": "2023-04-22T19:18:09.969Z"
   },
   {
    "duration": 88,
    "start_time": "2023-04-22T19:18:10.012Z"
   },
   {
    "duration": 13,
    "start_time": "2023-04-22T19:18:10.102Z"
   },
   {
    "duration": 8,
    "start_time": "2023-04-22T19:18:10.118Z"
   },
   {
    "duration": 8,
    "start_time": "2023-04-22T19:18:10.128Z"
   },
   {
    "duration": 241,
    "start_time": "2023-04-22T19:18:10.138Z"
   },
   {
    "duration": 16,
    "start_time": "2023-04-22T19:18:10.392Z"
   },
   {
    "duration": 849,
    "start_time": "2023-04-22T19:18:10.409Z"
   },
   {
    "duration": 692,
    "start_time": "2023-04-22T19:18:11.259Z"
   },
   {
    "duration": 348,
    "start_time": "2023-04-22T19:18:11.952Z"
   },
   {
    "duration": 157,
    "start_time": "2023-04-22T19:18:12.302Z"
   },
   {
    "duration": 34,
    "start_time": "2023-04-22T19:18:12.460Z"
   },
   {
    "duration": 15,
    "start_time": "2023-04-22T19:18:12.496Z"
   },
   {
    "duration": 6,
    "start_time": "2023-04-22T19:18:12.513Z"
   },
   {
    "duration": 85,
    "start_time": "2023-04-22T19:18:12.521Z"
   },
   {
    "duration": 2,
    "start_time": "2023-04-22T19:18:12.610Z"
   },
   {
    "duration": 363,
    "start_time": "2023-04-22T19:18:46.607Z"
   },
   {
    "duration": 248,
    "start_time": "2023-04-22T19:19:12.277Z"
   },
   {
    "duration": 241,
    "start_time": "2023-04-22T19:20:13.101Z"
   },
   {
    "duration": 252,
    "start_time": "2023-04-22T19:20:51.605Z"
   },
   {
    "duration": 204,
    "start_time": "2023-04-22T19:22:06.274Z"
   },
   {
    "duration": 203,
    "start_time": "2023-04-22T19:22:30.806Z"
   },
   {
    "duration": 196,
    "start_time": "2023-04-22T19:22:59.613Z"
   },
   {
    "duration": 186,
    "start_time": "2023-04-22T19:23:16.711Z"
   },
   {
    "duration": 189,
    "start_time": "2023-04-22T19:24:03.342Z"
   },
   {
    "duration": 224,
    "start_time": "2023-04-22T19:32:55.627Z"
   },
   {
    "duration": 222,
    "start_time": "2023-04-22T19:36:56.752Z"
   },
   {
    "duration": 1857,
    "start_time": "2023-04-23T08:57:56.782Z"
   },
   {
    "duration": 90,
    "start_time": "2023-04-23T08:57:58.643Z"
   },
   {
    "duration": 38,
    "start_time": "2023-04-23T08:57:58.736Z"
   },
   {
    "duration": 18,
    "start_time": "2023-04-23T08:57:58.777Z"
   },
   {
    "duration": 422,
    "start_time": "2023-04-23T08:57:58.797Z"
   },
   {
    "duration": 47,
    "start_time": "2023-04-23T08:57:59.221Z"
   },
   {
    "duration": 39,
    "start_time": "2023-04-23T08:57:59.275Z"
   },
   {
    "duration": 933,
    "start_time": "2023-04-23T08:57:59.316Z"
   },
   {
    "duration": 82,
    "start_time": "2023-04-23T08:58:00.252Z"
   },
   {
    "duration": 41,
    "start_time": "2023-04-23T08:58:00.344Z"
   },
   {
    "duration": 278,
    "start_time": "2023-04-23T08:58:00.388Z"
   },
   {
    "duration": 35,
    "start_time": "2023-04-23T08:58:00.669Z"
   },
   {
    "duration": 49,
    "start_time": "2023-04-23T08:58:00.707Z"
   },
   {
    "duration": 103,
    "start_time": "2023-04-23T08:58:00.759Z"
   },
   {
    "duration": 131,
    "start_time": "2023-04-23T08:58:00.865Z"
   },
   {
    "duration": 2592,
    "start_time": "2023-04-23T08:58:01.013Z"
   },
   {
    "duration": 6,
    "start_time": "2023-04-23T08:58:03.608Z"
   },
   {
    "duration": 170,
    "start_time": "2023-04-23T08:58:03.616Z"
   },
   {
    "duration": 462,
    "start_time": "2023-04-23T08:58:03.788Z"
   },
   {
    "duration": 26,
    "start_time": "2023-04-23T08:58:04.252Z"
   },
   {
    "duration": 54,
    "start_time": "2023-04-23T08:58:04.281Z"
   },
   {
    "duration": 203,
    "start_time": "2023-04-23T08:58:04.342Z"
   },
   {
    "duration": 22,
    "start_time": "2023-04-23T08:58:04.547Z"
   },
   {
    "duration": 143,
    "start_time": "2023-04-23T08:58:04.571Z"
   },
   {
    "duration": 68,
    "start_time": "2023-04-23T08:58:04.717Z"
   },
   {
    "duration": 60,
    "start_time": "2023-04-23T08:58:04.787Z"
   },
   {
    "duration": 135,
    "start_time": "2023-04-23T08:58:04.849Z"
   },
   {
    "duration": 26,
    "start_time": "2023-04-23T08:58:04.990Z"
   },
   {
    "duration": 33,
    "start_time": "2023-04-23T08:58:05.019Z"
   },
   {
    "duration": 44,
    "start_time": "2023-04-23T08:58:05.055Z"
   },
   {
    "duration": 389,
    "start_time": "2023-04-23T08:58:05.101Z"
   },
   {
    "duration": 50,
    "start_time": "2023-04-23T08:58:05.492Z"
   },
   {
    "duration": 660,
    "start_time": "2023-04-23T08:58:05.544Z"
   },
   {
    "duration": 0,
    "start_time": "2023-04-23T08:58:06.207Z"
   },
   {
    "duration": 0,
    "start_time": "2023-04-23T08:58:06.209Z"
   },
   {
    "duration": 0,
    "start_time": "2023-04-23T08:58:06.210Z"
   },
   {
    "duration": 0,
    "start_time": "2023-04-23T08:58:06.211Z"
   },
   {
    "duration": 0,
    "start_time": "2023-04-23T08:58:06.212Z"
   },
   {
    "duration": 0,
    "start_time": "2023-04-23T08:58:06.214Z"
   },
   {
    "duration": 0,
    "start_time": "2023-04-23T08:58:06.215Z"
   },
   {
    "duration": 0,
    "start_time": "2023-04-23T08:58:06.217Z"
   },
   {
    "duration": 126,
    "start_time": "2023-04-23T09:08:47.721Z"
   },
   {
    "duration": 98,
    "start_time": "2023-04-23T09:14:59.843Z"
   },
   {
    "duration": 134,
    "start_time": "2023-04-23T09:15:37.784Z"
   },
   {
    "duration": 130,
    "start_time": "2023-04-23T09:17:27.444Z"
   },
   {
    "duration": 110,
    "start_time": "2023-04-23T09:18:09.055Z"
   },
   {
    "duration": 84,
    "start_time": "2023-04-23T09:18:39.082Z"
   },
   {
    "duration": 10,
    "start_time": "2023-04-23T09:20:18.347Z"
   },
   {
    "duration": 12,
    "start_time": "2023-04-23T09:21:02.721Z"
   },
   {
    "duration": 8,
    "start_time": "2023-04-23T09:21:25.322Z"
   },
   {
    "duration": 13,
    "start_time": "2023-04-23T09:21:54.413Z"
   },
   {
    "duration": 11,
    "start_time": "2023-04-23T09:21:54.987Z"
   },
   {
    "duration": 10,
    "start_time": "2023-04-23T09:22:03.698Z"
   },
   {
    "duration": 356,
    "start_time": "2023-04-23T09:23:34.023Z"
   },
   {
    "duration": 322,
    "start_time": "2023-04-23T09:25:24.202Z"
   },
   {
    "duration": 3,
    "start_time": "2023-04-23T09:27:02.575Z"
   },
   {
    "duration": 89,
    "start_time": "2023-04-23T09:27:02.584Z"
   },
   {
    "duration": 17,
    "start_time": "2023-04-23T09:27:02.675Z"
   },
   {
    "duration": 13,
    "start_time": "2023-04-23T09:27:02.694Z"
   },
   {
    "duration": 227,
    "start_time": "2023-04-23T09:27:02.709Z"
   },
   {
    "duration": 40,
    "start_time": "2023-04-23T09:27:02.939Z"
   },
   {
    "duration": 25,
    "start_time": "2023-04-23T09:27:02.981Z"
   },
   {
    "duration": 763,
    "start_time": "2023-04-23T09:27:03.008Z"
   },
   {
    "duration": 74,
    "start_time": "2023-04-23T09:27:03.773Z"
   },
   {
    "duration": 35,
    "start_time": "2023-04-23T09:27:03.849Z"
   },
   {
    "duration": 40,
    "start_time": "2023-04-23T09:27:03.886Z"
   },
   {
    "duration": 24,
    "start_time": "2023-04-23T09:27:03.928Z"
   },
   {
    "duration": 23,
    "start_time": "2023-04-23T09:27:03.961Z"
   },
   {
    "duration": 17,
    "start_time": "2023-04-23T09:27:03.986Z"
   },
   {
    "duration": 35,
    "start_time": "2023-04-23T09:27:04.007Z"
   },
   {
    "duration": 2314,
    "start_time": "2023-04-23T09:27:04.045Z"
   },
   {
    "duration": 10,
    "start_time": "2023-04-23T09:27:06.366Z"
   },
   {
    "duration": 64,
    "start_time": "2023-04-23T09:27:06.378Z"
   },
   {
    "duration": 395,
    "start_time": "2023-04-23T09:27:06.444Z"
   },
   {
    "duration": 31,
    "start_time": "2023-04-23T09:27:06.843Z"
   },
   {
    "duration": 43,
    "start_time": "2023-04-23T09:27:06.876Z"
   },
   {
    "duration": 170,
    "start_time": "2023-04-23T09:27:06.921Z"
   },
   {
    "duration": 15,
    "start_time": "2023-04-23T09:27:07.093Z"
   },
   {
    "duration": 119,
    "start_time": "2023-04-23T09:27:07.110Z"
   },
   {
    "duration": 56,
    "start_time": "2023-04-23T09:27:07.231Z"
   },
   {
    "duration": 48,
    "start_time": "2023-04-23T09:27:07.289Z"
   },
   {
    "duration": 84,
    "start_time": "2023-04-23T09:27:07.339Z"
   },
   {
    "duration": 14,
    "start_time": "2023-04-23T09:27:07.425Z"
   },
   {
    "duration": 45,
    "start_time": "2023-04-23T09:27:07.442Z"
   },
   {
    "duration": 42,
    "start_time": "2023-04-23T09:27:07.489Z"
   },
   {
    "duration": 350,
    "start_time": "2023-04-23T09:27:07.533Z"
   },
   {
    "duration": 23,
    "start_time": "2023-04-23T09:27:07.886Z"
   },
   {
    "duration": 383,
    "start_time": "2023-04-23T09:27:07.911Z"
   },
   {
    "duration": 0,
    "start_time": "2023-04-23T09:27:08.297Z"
   },
   {
    "duration": 0,
    "start_time": "2023-04-23T09:27:08.299Z"
   },
   {
    "duration": 0,
    "start_time": "2023-04-23T09:27:08.300Z"
   },
   {
    "duration": 0,
    "start_time": "2023-04-23T09:27:08.302Z"
   },
   {
    "duration": 0,
    "start_time": "2023-04-23T09:27:08.305Z"
   },
   {
    "duration": 0,
    "start_time": "2023-04-23T09:27:08.307Z"
   },
   {
    "duration": 0,
    "start_time": "2023-04-23T09:27:08.308Z"
   },
   {
    "duration": 0,
    "start_time": "2023-04-23T09:27:08.310Z"
   },
   {
    "duration": 303,
    "start_time": "2023-04-23T09:28:03.972Z"
   },
   {
    "duration": 296,
    "start_time": "2023-04-23T09:28:26.379Z"
   },
   {
    "duration": 451,
    "start_time": "2023-04-23T09:29:17.119Z"
   },
   {
    "duration": 372,
    "start_time": "2023-04-23T09:39:50.886Z"
   },
   {
    "duration": 340,
    "start_time": "2023-04-23T09:40:08.559Z"
   },
   {
    "duration": 364,
    "start_time": "2023-04-23T09:41:16.202Z"
   },
   {
    "duration": 367,
    "start_time": "2023-04-23T09:41:36.802Z"
   },
   {
    "duration": 364,
    "start_time": "2023-04-23T09:42:18.304Z"
   },
   {
    "duration": 341,
    "start_time": "2023-04-23T09:42:33.363Z"
   },
   {
    "duration": 474,
    "start_time": "2023-04-23T09:54:01.006Z"
   },
   {
    "duration": 357,
    "start_time": "2023-04-23T09:54:34.011Z"
   },
   {
    "duration": 344,
    "start_time": "2023-04-23T09:57:44.461Z"
   },
   {
    "duration": 350,
    "start_time": "2023-04-23T10:00:43.074Z"
   },
   {
    "duration": 389,
    "start_time": "2023-04-23T10:01:17.870Z"
   },
   {
    "duration": 43,
    "start_time": "2023-04-23T10:06:04.204Z"
   },
   {
    "duration": 661,
    "start_time": "2023-04-23T10:11:55.658Z"
   },
   {
    "duration": 734,
    "start_time": "2023-04-23T10:12:52.022Z"
   },
   {
    "duration": 597,
    "start_time": "2023-04-23T10:13:19.711Z"
   },
   {
    "duration": 69,
    "start_time": "2023-04-23T10:14:54.904Z"
   },
   {
    "duration": 72,
    "start_time": "2023-04-23T10:15:38.611Z"
   },
   {
    "duration": 67,
    "start_time": "2023-04-23T10:15:53.671Z"
   },
   {
    "duration": 89,
    "start_time": "2023-04-23T10:16:04.441Z"
   },
   {
    "duration": 82,
    "start_time": "2023-04-23T10:16:12.502Z"
   },
   {
    "duration": 595,
    "start_time": "2023-04-23T10:17:28.529Z"
   },
   {
    "duration": 663,
    "start_time": "2023-04-23T10:20:56.528Z"
   },
   {
    "duration": 19,
    "start_time": "2023-04-23T10:24:34.518Z"
   },
   {
    "duration": 739,
    "start_time": "2023-04-23T10:29:42.438Z"
   },
   {
    "duration": 545,
    "start_time": "2023-04-23T10:31:20.866Z"
   },
   {
    "duration": 673,
    "start_time": "2023-04-23T10:32:01.230Z"
   },
   {
    "duration": 598,
    "start_time": "2023-04-23T10:38:48.187Z"
   },
   {
    "duration": 659,
    "start_time": "2023-04-23T10:39:08.159Z"
   },
   {
    "duration": 667,
    "start_time": "2023-04-23T10:39:36.022Z"
   },
   {
    "duration": 547,
    "start_time": "2023-04-23T10:39:52.236Z"
   },
   {
    "duration": 834,
    "start_time": "2023-04-23T10:40:03.936Z"
   },
   {
    "duration": 574,
    "start_time": "2023-04-23T10:47:40.014Z"
   },
   {
    "duration": 576,
    "start_time": "2023-04-23T10:48:09.823Z"
   },
   {
    "duration": 93,
    "start_time": "2023-04-23T10:50:32.427Z"
   },
   {
    "duration": 71,
    "start_time": "2023-04-23T10:50:38.919Z"
   },
   {
    "duration": 368,
    "start_time": "2023-04-23T10:50:46.226Z"
   },
   {
    "duration": 359,
    "start_time": "2023-04-23T10:51:07.946Z"
   },
   {
    "duration": 338,
    "start_time": "2023-04-23T10:51:50.230Z"
   },
   {
    "duration": 65,
    "start_time": "2023-04-23T10:57:50.328Z"
   },
   {
    "duration": 75,
    "start_time": "2023-04-23T10:58:11.208Z"
   },
   {
    "duration": 109,
    "start_time": "2023-04-23T10:58:20.520Z"
   },
   {
    "duration": 59,
    "start_time": "2023-04-23T10:58:25.472Z"
   },
   {
    "duration": 398,
    "start_time": "2023-04-23T10:59:49.612Z"
   },
   {
    "duration": 368,
    "start_time": "2023-04-23T11:00:33.518Z"
   },
   {
    "duration": 399,
    "start_time": "2023-04-23T11:00:51.219Z"
   },
   {
    "duration": 404,
    "start_time": "2023-04-23T11:01:01.227Z"
   },
   {
    "duration": 389,
    "start_time": "2023-04-23T11:01:30.210Z"
   },
   {
    "duration": 399,
    "start_time": "2023-04-23T11:02:51.696Z"
   },
   {
    "duration": 405,
    "start_time": "2023-04-23T11:03:02.526Z"
   },
   {
    "duration": 1958,
    "start_time": "2023-04-23T11:03:28.865Z"
   },
   {
    "duration": 1784,
    "start_time": "2023-04-23T11:04:15.305Z"
   },
   {
    "duration": 441,
    "start_time": "2023-04-23T11:04:28.011Z"
   },
   {
    "duration": 409,
    "start_time": "2023-04-23T11:06:02.172Z"
   },
   {
    "duration": 471,
    "start_time": "2023-04-23T11:06:10.924Z"
   },
   {
    "duration": 471,
    "start_time": "2023-04-23T11:07:15.724Z"
   },
   {
    "duration": 489,
    "start_time": "2023-04-23T11:07:27.819Z"
   },
   {
    "duration": 563,
    "start_time": "2023-04-23T11:26:10.711Z"
   },
   {
    "duration": 507,
    "start_time": "2023-04-23T11:28:02.212Z"
   },
   {
    "duration": 531,
    "start_time": "2023-04-23T11:31:17.018Z"
   },
   {
    "duration": 577,
    "start_time": "2023-04-23T11:32:31.408Z"
   },
   {
    "duration": 508,
    "start_time": "2023-04-23T11:38:55.131Z"
   },
   {
    "duration": 513,
    "start_time": "2023-04-23T11:39:11.614Z"
   },
   {
    "duration": 609,
    "start_time": "2023-04-23T11:39:55.488Z"
   },
   {
    "duration": 516,
    "start_time": "2023-04-23T11:42:25.161Z"
   },
   {
    "duration": 411,
    "start_time": "2023-04-23T11:49:41.125Z"
   },
   {
    "duration": 427,
    "start_time": "2023-04-23T11:52:33.999Z"
   },
   {
    "duration": 535,
    "start_time": "2023-04-23T11:53:33.816Z"
   },
   {
    "duration": 564,
    "start_time": "2023-04-23T11:55:03.415Z"
   },
   {
    "duration": 479,
    "start_time": "2023-04-23T11:55:43.489Z"
   },
   {
    "duration": 600,
    "start_time": "2023-04-23T11:56:21.893Z"
   },
   {
    "duration": 438,
    "start_time": "2023-04-23T11:57:34.506Z"
   },
   {
    "duration": 563,
    "start_time": "2023-04-23T12:00:04.507Z"
   },
   {
    "duration": 496,
    "start_time": "2023-04-23T12:05:13.526Z"
   },
   {
    "duration": 578,
    "start_time": "2023-04-23T12:07:51.514Z"
   },
   {
    "duration": 17,
    "start_time": "2023-04-23T12:11:24.612Z"
   },
   {
    "duration": 483,
    "start_time": "2023-04-23T12:14:23.423Z"
   },
   {
    "duration": 485,
    "start_time": "2023-04-23T12:15:46.924Z"
   },
   {
    "duration": 494,
    "start_time": "2023-04-23T12:15:57.914Z"
   },
   {
    "duration": 601,
    "start_time": "2023-04-23T12:16:33.886Z"
   },
   {
    "duration": 498,
    "start_time": "2023-04-23T12:17:21.015Z"
   },
   {
    "duration": 502,
    "start_time": "2023-04-23T12:18:12.386Z"
   },
   {
    "duration": 535,
    "start_time": "2023-04-23T12:18:32.963Z"
   },
   {
    "duration": 547,
    "start_time": "2023-04-23T12:20:02.818Z"
   },
   {
    "duration": 516,
    "start_time": "2023-04-23T12:20:49.886Z"
   },
   {
    "duration": 509,
    "start_time": "2023-04-23T12:21:11.643Z"
   },
   {
    "duration": 496,
    "start_time": "2023-04-23T12:22:04.428Z"
   },
   {
    "duration": 506,
    "start_time": "2023-04-23T12:22:57.720Z"
   },
   {
    "duration": 22,
    "start_time": "2023-04-23T12:23:39.522Z"
   },
   {
    "duration": 585,
    "start_time": "2023-04-23T12:29:11.115Z"
   },
   {
    "duration": 562,
    "start_time": "2023-04-23T12:30:28.319Z"
   },
   {
    "duration": 543,
    "start_time": "2023-04-23T12:30:42.514Z"
   },
   {
    "duration": 497,
    "start_time": "2023-04-23T12:30:54.231Z"
   },
   {
    "duration": 592,
    "start_time": "2023-04-23T12:31:05.527Z"
   },
   {
    "duration": 10,
    "start_time": "2023-04-23T12:31:41.838Z"
   },
   {
    "duration": 504,
    "start_time": "2023-04-23T12:31:53.182Z"
   },
   {
    "duration": 540,
    "start_time": "2023-04-23T12:32:08.321Z"
   },
   {
    "duration": 563,
    "start_time": "2023-04-23T12:32:24.221Z"
   },
   {
    "duration": 528,
    "start_time": "2023-04-23T12:32:42.358Z"
   },
   {
    "duration": 104,
    "start_time": "2023-04-23T12:34:35.127Z"
   },
   {
    "duration": 5,
    "start_time": "2023-04-23T12:34:59.798Z"
   },
   {
    "duration": 105,
    "start_time": "2023-04-23T12:34:59.806Z"
   },
   {
    "duration": 19,
    "start_time": "2023-04-23T12:34:59.914Z"
   },
   {
    "duration": 60,
    "start_time": "2023-04-23T12:34:59.936Z"
   },
   {
    "duration": 298,
    "start_time": "2023-04-23T12:34:59.999Z"
   },
   {
    "duration": 31,
    "start_time": "2023-04-23T12:35:00.299Z"
   },
   {
    "duration": 65,
    "start_time": "2023-04-23T12:35:00.333Z"
   },
   {
    "duration": 1039,
    "start_time": "2023-04-23T12:35:00.401Z"
   },
   {
    "duration": 101,
    "start_time": "2023-04-23T12:35:01.444Z"
   },
   {
    "duration": 39,
    "start_time": "2023-04-23T12:35:01.547Z"
   },
   {
    "duration": 135,
    "start_time": "2023-04-23T12:35:01.588Z"
   },
   {
    "duration": 23,
    "start_time": "2023-04-23T12:35:01.726Z"
   },
   {
    "duration": 49,
    "start_time": "2023-04-23T12:35:01.753Z"
   },
   {
    "duration": 87,
    "start_time": "2023-04-23T12:35:01.804Z"
   },
   {
    "duration": 72,
    "start_time": "2023-04-23T12:35:01.893Z"
   },
   {
    "duration": 2263,
    "start_time": "2023-04-23T12:35:01.968Z"
   },
   {
    "duration": 24,
    "start_time": "2023-04-23T12:35:04.233Z"
   },
   {
    "duration": 138,
    "start_time": "2023-04-23T12:35:04.264Z"
   },
   {
    "duration": 474,
    "start_time": "2023-04-23T12:35:04.406Z"
   },
   {
    "duration": 21,
    "start_time": "2023-04-23T12:35:04.885Z"
   },
   {
    "duration": 37,
    "start_time": "2023-04-23T12:35:04.909Z"
   },
   {
    "duration": 176,
    "start_time": "2023-04-23T12:35:04.953Z"
   },
   {
    "duration": 32,
    "start_time": "2023-04-23T12:35:05.132Z"
   },
   {
    "duration": 139,
    "start_time": "2023-04-23T12:35:05.167Z"
   },
   {
    "duration": 65,
    "start_time": "2023-04-23T12:35:05.308Z"
   },
   {
    "duration": 35,
    "start_time": "2023-04-23T12:35:05.375Z"
   },
   {
    "duration": 111,
    "start_time": "2023-04-23T12:35:05.412Z"
   },
   {
    "duration": 39,
    "start_time": "2023-04-23T12:35:05.525Z"
   },
   {
    "duration": 108,
    "start_time": "2023-04-23T12:35:05.566Z"
   },
   {
    "duration": 79,
    "start_time": "2023-04-23T12:35:05.676Z"
   },
   {
    "duration": 677,
    "start_time": "2023-04-23T12:35:05.757Z"
   },
   {
    "duration": 36,
    "start_time": "2023-04-23T12:35:06.436Z"
   },
   {
    "duration": 640,
    "start_time": "2023-04-23T12:35:06.474Z"
   },
   {
    "duration": 669,
    "start_time": "2023-04-23T12:35:07.116Z"
   },
   {
    "duration": 0,
    "start_time": "2023-04-23T12:35:07.788Z"
   },
   {
    "duration": 0,
    "start_time": "2023-04-23T12:35:07.790Z"
   },
   {
    "duration": 0,
    "start_time": "2023-04-23T12:35:07.791Z"
   },
   {
    "duration": 0,
    "start_time": "2023-04-23T12:35:07.793Z"
   },
   {
    "duration": 0,
    "start_time": "2023-04-23T12:35:07.795Z"
   },
   {
    "duration": 0,
    "start_time": "2023-04-23T12:35:07.797Z"
   },
   {
    "duration": 0,
    "start_time": "2023-04-23T12:35:07.798Z"
   },
   {
    "duration": 517,
    "start_time": "2023-04-23T12:36:08.962Z"
   },
   {
    "duration": 23,
    "start_time": "2023-04-23T12:37:18.068Z"
   },
   {
    "duration": 599,
    "start_time": "2023-04-23T12:39:11.712Z"
   },
   {
    "duration": 868,
    "start_time": "2023-04-23T12:40:03.268Z"
   },
   {
    "duration": 530,
    "start_time": "2023-04-23T12:51:01.586Z"
   },
   {
    "duration": 6,
    "start_time": "2023-04-23T12:51:17.469Z"
   },
   {
    "duration": 55,
    "start_time": "2023-04-23T12:51:17.478Z"
   },
   {
    "duration": 32,
    "start_time": "2023-04-23T12:51:17.535Z"
   },
   {
    "duration": 38,
    "start_time": "2023-04-23T12:51:17.570Z"
   },
   {
    "duration": 168,
    "start_time": "2023-04-23T12:51:17.611Z"
   },
   {
    "duration": 31,
    "start_time": "2023-04-23T12:51:17.782Z"
   },
   {
    "duration": 34,
    "start_time": "2023-04-23T12:51:17.815Z"
   },
   {
    "duration": 674,
    "start_time": "2023-04-23T12:51:17.858Z"
   },
   {
    "duration": 100,
    "start_time": "2023-04-23T12:51:18.534Z"
   },
   {
    "duration": 50,
    "start_time": "2023-04-23T12:51:18.636Z"
   },
   {
    "duration": 58,
    "start_time": "2023-04-23T12:51:18.690Z"
   },
   {
    "duration": 34,
    "start_time": "2023-04-23T12:51:18.750Z"
   },
   {
    "duration": 22,
    "start_time": "2023-04-23T12:51:18.786Z"
   },
   {
    "duration": 64,
    "start_time": "2023-04-23T12:51:18.812Z"
   },
   {
    "duration": 46,
    "start_time": "2023-04-23T12:51:18.890Z"
   },
   {
    "duration": 2422,
    "start_time": "2023-04-23T12:51:18.939Z"
   },
   {
    "duration": 8,
    "start_time": "2023-04-23T12:51:21.369Z"
   },
   {
    "duration": 118,
    "start_time": "2023-04-23T12:51:21.381Z"
   },
   {
    "duration": 393,
    "start_time": "2023-04-23T12:51:21.501Z"
   },
   {
    "duration": 15,
    "start_time": "2023-04-23T12:51:21.896Z"
   },
   {
    "duration": 67,
    "start_time": "2023-04-23T12:51:21.913Z"
   },
   {
    "duration": 146,
    "start_time": "2023-04-23T12:51:21.984Z"
   },
   {
    "duration": 54,
    "start_time": "2023-04-23T12:51:22.132Z"
   },
   {
    "duration": 130,
    "start_time": "2023-04-23T12:51:22.201Z"
   },
   {
    "duration": 65,
    "start_time": "2023-04-23T12:51:22.333Z"
   },
   {
    "duration": 51,
    "start_time": "2023-04-23T12:51:22.400Z"
   },
   {
    "duration": 135,
    "start_time": "2023-04-23T12:51:22.457Z"
   },
   {
    "duration": 13,
    "start_time": "2023-04-23T12:51:22.594Z"
   },
   {
    "duration": 22,
    "start_time": "2023-04-23T12:51:22.609Z"
   },
   {
    "duration": 19,
    "start_time": "2023-04-23T12:51:22.633Z"
   },
   {
    "duration": 587,
    "start_time": "2023-04-23T12:51:22.654Z"
   },
   {
    "duration": 33,
    "start_time": "2023-04-23T12:51:23.243Z"
   },
   {
    "duration": 593,
    "start_time": "2023-04-23T12:51:23.278Z"
   },
   {
    "duration": 448,
    "start_time": "2023-04-23T12:51:23.875Z"
   },
   {
    "duration": 387,
    "start_time": "2023-04-23T12:51:24.326Z"
   },
   {
    "duration": 0,
    "start_time": "2023-04-23T12:51:24.716Z"
   },
   {
    "duration": 0,
    "start_time": "2023-04-23T12:51:24.718Z"
   },
   {
    "duration": 0,
    "start_time": "2023-04-23T12:51:24.719Z"
   },
   {
    "duration": 0,
    "start_time": "2023-04-23T12:51:24.721Z"
   },
   {
    "duration": 0,
    "start_time": "2023-04-23T12:51:24.741Z"
   },
   {
    "duration": 0,
    "start_time": "2023-04-23T12:51:24.742Z"
   },
   {
    "duration": 645,
    "start_time": "2023-04-23T12:52:14.025Z"
   },
   {
    "duration": 495,
    "start_time": "2023-04-23T12:52:43.824Z"
   },
   {
    "duration": 488,
    "start_time": "2023-04-23T12:52:55.634Z"
   },
   {
    "duration": 553,
    "start_time": "2023-04-23T13:00:10.571Z"
   },
   {
    "duration": 33,
    "start_time": "2023-04-23T13:00:16.038Z"
   },
   {
    "duration": 27,
    "start_time": "2023-04-23T13:00:16.533Z"
   },
   {
    "duration": 606,
    "start_time": "2023-04-23T13:00:53.516Z"
   },
   {
    "duration": 581,
    "start_time": "2023-04-23T13:01:10.616Z"
   },
   {
    "duration": 45,
    "start_time": "2023-04-23T13:03:03.320Z"
   },
   {
    "duration": 6,
    "start_time": "2023-04-23T13:03:22.971Z"
   },
   {
    "duration": 190,
    "start_time": "2023-04-23T13:03:23.041Z"
   },
   {
    "duration": 39,
    "start_time": "2023-04-23T13:03:23.235Z"
   },
   {
    "duration": 143,
    "start_time": "2023-04-23T13:03:23.282Z"
   },
   {
    "duration": 465,
    "start_time": "2023-04-23T13:03:23.427Z"
   },
   {
    "duration": 210,
    "start_time": "2023-04-23T13:03:23.895Z"
   },
   {
    "duration": 113,
    "start_time": "2023-04-23T13:03:24.113Z"
   },
   {
    "duration": 1556,
    "start_time": "2023-04-23T13:03:24.229Z"
   },
   {
    "duration": 141,
    "start_time": "2023-04-23T13:03:25.787Z"
   },
   {
    "duration": 182,
    "start_time": "2023-04-23T13:03:25.931Z"
   },
   {
    "duration": 207,
    "start_time": "2023-04-23T13:03:26.116Z"
   },
   {
    "duration": 46,
    "start_time": "2023-04-23T13:03:26.332Z"
   },
   {
    "duration": 50,
    "start_time": "2023-04-23T13:03:26.387Z"
   },
   {
    "duration": 89,
    "start_time": "2023-04-23T13:03:26.451Z"
   },
   {
    "duration": 120,
    "start_time": "2023-04-23T13:03:26.557Z"
   },
   {
    "duration": 3268,
    "start_time": "2023-04-23T13:03:26.681Z"
   },
   {
    "duration": 9,
    "start_time": "2023-04-23T13:03:29.962Z"
   },
   {
    "duration": 155,
    "start_time": "2023-04-23T13:03:29.977Z"
   },
   {
    "duration": 738,
    "start_time": "2023-04-23T13:03:30.134Z"
   },
   {
    "duration": 44,
    "start_time": "2023-04-23T13:03:30.873Z"
   },
   {
    "duration": 344,
    "start_time": "2023-04-23T13:03:30.919Z"
   },
   {
    "duration": 311,
    "start_time": "2023-04-23T13:03:31.273Z"
   },
   {
    "duration": 31,
    "start_time": "2023-04-23T13:03:31.586Z"
   },
   {
    "duration": 237,
    "start_time": "2023-04-23T13:03:31.621Z"
   },
   {
    "duration": 63,
    "start_time": "2023-04-23T13:03:31.864Z"
   },
   {
    "duration": 136,
    "start_time": "2023-04-23T13:03:31.929Z"
   },
   {
    "duration": 149,
    "start_time": "2023-04-23T13:03:32.067Z"
   },
   {
    "duration": 101,
    "start_time": "2023-04-23T13:03:32.219Z"
   },
   {
    "duration": 81,
    "start_time": "2023-04-23T13:03:32.322Z"
   },
   {
    "duration": 66,
    "start_time": "2023-04-23T13:03:32.409Z"
   },
   {
    "duration": 701,
    "start_time": "2023-04-23T13:03:32.478Z"
   },
   {
    "duration": 42,
    "start_time": "2023-04-23T13:03:33.181Z"
   },
   {
    "duration": 665,
    "start_time": "2023-04-23T13:03:33.228Z"
   },
   {
    "duration": 483,
    "start_time": "2023-04-23T13:03:33.897Z"
   },
   {
    "duration": 34,
    "start_time": "2023-04-23T13:03:34.386Z"
   },
   {
    "duration": 686,
    "start_time": "2023-04-23T13:03:34.425Z"
   },
   {
    "duration": 18,
    "start_time": "2023-04-23T13:03:35.115Z"
   },
   {
    "duration": 94,
    "start_time": "2023-04-23T13:03:35.135Z"
   },
   {
    "duration": 21,
    "start_time": "2023-04-23T13:03:35.232Z"
   },
   {
    "duration": 111,
    "start_time": "2023-04-23T13:03:35.256Z"
   },
   {
    "duration": 37,
    "start_time": "2023-04-23T13:03:35.378Z"
   },
   {
    "duration": 46,
    "start_time": "2023-04-23T13:07:11.117Z"
   },
   {
    "duration": 7,
    "start_time": "2023-04-23T13:07:45.823Z"
   },
   {
    "duration": 24,
    "start_time": "2023-04-23T13:07:54.916Z"
   },
   {
    "duration": 795,
    "start_time": "2023-04-23T13:09:06.639Z"
   },
   {
    "duration": 18,
    "start_time": "2023-04-23T13:09:17.112Z"
   },
   {
    "duration": 624,
    "start_time": "2023-04-23T13:10:34.158Z"
   },
   {
    "duration": 18,
    "start_time": "2023-04-23T13:10:43.109Z"
   },
   {
    "duration": 836,
    "start_time": "2023-04-23T13:11:00.605Z"
   },
   {
    "duration": 570,
    "start_time": "2023-04-23T13:11:09.900Z"
   },
   {
    "duration": 33,
    "start_time": "2023-04-23T13:11:20.585Z"
   },
   {
    "duration": 46,
    "start_time": "2023-04-23T13:11:27.965Z"
   },
   {
    "duration": 36,
    "start_time": "2023-04-23T13:12:17.715Z"
   },
   {
    "duration": 22,
    "start_time": "2023-04-23T13:12:29.211Z"
   },
   {
    "duration": 59,
    "start_time": "2023-04-23T13:19:28.059Z"
   },
   {
    "duration": 27,
    "start_time": "2023-04-23T13:19:57.323Z"
   },
   {
    "duration": 39,
    "start_time": "2023-04-23T13:20:22.621Z"
   },
   {
    "duration": 17,
    "start_time": "2023-04-23T13:21:59.810Z"
   },
   {
    "duration": 32,
    "start_time": "2023-04-23T13:22:09.462Z"
   },
   {
    "duration": 10,
    "start_time": "2023-04-23T13:23:11.637Z"
   },
   {
    "duration": 38,
    "start_time": "2023-04-23T13:23:16.311Z"
   },
   {
    "duration": 33,
    "start_time": "2023-04-23T13:25:10.728Z"
   },
   {
    "duration": 38,
    "start_time": "2023-04-23T13:44:34.128Z"
   },
   {
    "duration": 46,
    "start_time": "2023-04-23T13:44:57.966Z"
   },
   {
    "duration": 21,
    "start_time": "2023-04-23T13:45:49.308Z"
   },
   {
    "duration": 120,
    "start_time": "2023-04-23T14:15:45.896Z"
   },
   {
    "duration": 129,
    "start_time": "2023-04-23T14:18:20.465Z"
   },
   {
    "duration": 114,
    "start_time": "2023-04-23T14:18:45.395Z"
   },
   {
    "duration": 144,
    "start_time": "2023-04-23T14:19:19.049Z"
   },
   {
    "duration": 124,
    "start_time": "2023-04-23T14:21:14.671Z"
   },
   {
    "duration": 125,
    "start_time": "2023-04-23T14:23:04.909Z"
   },
   {
    "duration": 15,
    "start_time": "2023-04-23T14:25:08.168Z"
   },
   {
    "duration": 94,
    "start_time": "2023-04-23T14:27:10.127Z"
   },
   {
    "duration": 95,
    "start_time": "2023-04-23T14:27:34.129Z"
   },
   {
    "duration": 119,
    "start_time": "2023-04-23T14:27:49.892Z"
   },
   {
    "duration": 89,
    "start_time": "2023-04-23T14:28:20.083Z"
   },
   {
    "duration": 24,
    "start_time": "2023-04-23T14:30:04.128Z"
   },
   {
    "duration": 22,
    "start_time": "2023-04-23T14:30:26.612Z"
   },
   {
    "duration": 16,
    "start_time": "2023-04-23T14:31:02.886Z"
   },
   {
    "duration": 19,
    "start_time": "2023-04-23T14:31:17.307Z"
   },
   {
    "duration": 78,
    "start_time": "2023-04-23T14:33:28.324Z"
   },
   {
    "duration": 31,
    "start_time": "2023-04-23T14:33:52.530Z"
   },
   {
    "duration": 59,
    "start_time": "2023-04-23T14:34:10.766Z"
   },
   {
    "duration": 33,
    "start_time": "2023-04-23T14:34:23.800Z"
   },
   {
    "duration": 40,
    "start_time": "2023-04-23T14:34:56.570Z"
   },
   {
    "duration": 19,
    "start_time": "2023-04-23T14:35:15.674Z"
   },
   {
    "duration": 18,
    "start_time": "2023-04-23T14:35:40.764Z"
   },
   {
    "duration": 17,
    "start_time": "2023-04-23T14:36:43.465Z"
   },
   {
    "duration": 11,
    "start_time": "2023-04-23T14:37:18.121Z"
   },
   {
    "duration": 11,
    "start_time": "2023-04-23T14:37:56.986Z"
   },
   {
    "duration": 13,
    "start_time": "2023-04-23T14:38:53.587Z"
   },
   {
    "duration": 9,
    "start_time": "2023-04-23T14:38:54.086Z"
   },
   {
    "duration": 11,
    "start_time": "2023-04-23T14:38:55.191Z"
   },
   {
    "duration": 36,
    "start_time": "2023-04-23T14:38:55.991Z"
   },
   {
    "duration": 14,
    "start_time": "2023-04-23T14:38:56.397Z"
   },
   {
    "duration": 12,
    "start_time": "2023-04-23T14:39:15.106Z"
   },
   {
    "duration": 16,
    "start_time": "2023-04-23T14:41:32.585Z"
   },
   {
    "duration": 28,
    "start_time": "2023-04-23T14:42:10.732Z"
   },
   {
    "duration": 68,
    "start_time": "2023-04-23T14:42:25.341Z"
   },
   {
    "duration": 22,
    "start_time": "2023-04-23T14:43:00.900Z"
   },
   {
    "duration": 20,
    "start_time": "2023-04-23T14:44:03.328Z"
   },
   {
    "duration": 27,
    "start_time": "2023-04-23T14:46:10.791Z"
   },
   {
    "duration": 16,
    "start_time": "2023-04-23T14:51:07.996Z"
   },
   {
    "duration": 14,
    "start_time": "2023-04-23T14:51:50.116Z"
   },
   {
    "duration": 18,
    "start_time": "2023-04-23T14:59:21.019Z"
   },
   {
    "duration": 23,
    "start_time": "2023-04-23T15:04:14.974Z"
   },
   {
    "duration": 25,
    "start_time": "2023-04-23T15:04:35.720Z"
   },
   {
    "duration": 7,
    "start_time": "2023-04-23T15:05:15.675Z"
   },
   {
    "duration": 14,
    "start_time": "2023-04-23T15:05:20.204Z"
   },
   {
    "duration": 15,
    "start_time": "2023-04-23T15:06:11.569Z"
   },
   {
    "duration": 16,
    "start_time": "2023-04-23T15:07:11.022Z"
   },
   {
    "duration": 16,
    "start_time": "2023-04-23T15:07:27.817Z"
   },
   {
    "duration": 20,
    "start_time": "2023-04-23T15:07:43.625Z"
   },
   {
    "duration": 13,
    "start_time": "2023-04-23T15:08:08.525Z"
   },
   {
    "duration": 15,
    "start_time": "2023-04-23T15:10:02.467Z"
   },
   {
    "duration": 22,
    "start_time": "2023-04-23T15:11:18.769Z"
   },
   {
    "duration": 15,
    "start_time": "2023-04-23T15:11:44.687Z"
   },
   {
    "duration": 21,
    "start_time": "2023-04-23T15:13:02.587Z"
   },
   {
    "duration": 15,
    "start_time": "2023-04-23T15:13:24.483Z"
   },
   {
    "duration": 20,
    "start_time": "2023-04-23T15:15:40.726Z"
   },
   {
    "duration": 41,
    "start_time": "2023-04-23T15:17:40.319Z"
   },
   {
    "duration": 31,
    "start_time": "2023-04-23T15:21:09.022Z"
   },
   {
    "duration": 43,
    "start_time": "2023-04-23T15:21:25.833Z"
   },
   {
    "duration": 38,
    "start_time": "2023-04-23T15:22:20.696Z"
   },
   {
    "duration": 37,
    "start_time": "2023-04-23T15:22:52.469Z"
   },
   {
    "duration": 56,
    "start_time": "2023-04-23T15:24:01.769Z"
   },
   {
    "duration": 2863,
    "start_time": "2023-04-23T15:32:44.250Z"
   },
   {
    "duration": 2098,
    "start_time": "2023-04-23T15:33:01.175Z"
   },
   {
    "duration": 12,
    "start_time": "2023-04-23T15:33:52.037Z"
   },
   {
    "duration": 13,
    "start_time": "2023-04-23T15:34:24.712Z"
   },
   {
    "duration": 12,
    "start_time": "2023-04-23T15:34:43.119Z"
   },
   {
    "duration": 19,
    "start_time": "2023-04-23T15:37:16.586Z"
   },
   {
    "duration": 9,
    "start_time": "2023-04-23T15:38:25.211Z"
   },
   {
    "duration": 7,
    "start_time": "2023-04-23T15:38:44.221Z"
   },
   {
    "duration": 101,
    "start_time": "2023-04-23T15:40:30.725Z"
   },
   {
    "duration": 124,
    "start_time": "2023-04-23T15:40:47.246Z"
   },
   {
    "duration": 15,
    "start_time": "2023-04-23T15:41:14.274Z"
   },
   {
    "duration": 9,
    "start_time": "2023-04-23T15:43:26.915Z"
   },
   {
    "duration": 8,
    "start_time": "2023-04-23T15:43:39.320Z"
   },
   {
    "duration": 12,
    "start_time": "2023-04-23T15:43:56.437Z"
   },
   {
    "duration": 9,
    "start_time": "2023-04-23T15:44:38.913Z"
   },
   {
    "duration": 36,
    "start_time": "2023-04-23T15:47:04.973Z"
   },
   {
    "duration": 13,
    "start_time": "2023-04-23T15:47:22.277Z"
   },
   {
    "duration": 22,
    "start_time": "2023-04-23T15:47:36.911Z"
   },
   {
    "duration": 33,
    "start_time": "2023-04-23T15:47:46.569Z"
   },
   {
    "duration": 25,
    "start_time": "2023-04-23T15:48:31.571Z"
   },
   {
    "duration": 8,
    "start_time": "2023-04-23T15:48:48.600Z"
   },
   {
    "duration": 15,
    "start_time": "2023-04-23T15:48:59.822Z"
   },
   {
    "duration": 12,
    "start_time": "2023-04-23T15:49:06.116Z"
   },
   {
    "duration": 22,
    "start_time": "2023-04-23T15:49:11.471Z"
   },
   {
    "duration": 15,
    "start_time": "2023-04-23T15:50:27.405Z"
   },
   {
    "duration": 12,
    "start_time": "2023-04-23T15:50:41.608Z"
   },
   {
    "duration": 13,
    "start_time": "2023-04-23T15:50:59.509Z"
   },
   {
    "duration": 123,
    "start_time": "2023-04-23T15:51:44.712Z"
   },
   {
    "duration": 40,
    "start_time": "2023-04-23T15:52:37.021Z"
   },
   {
    "duration": 180,
    "start_time": "2023-04-23T15:52:55.856Z"
   },
   {
    "duration": 23,
    "start_time": "2023-04-23T15:53:13.107Z"
   },
   {
    "duration": 31,
    "start_time": "2023-04-23T15:53:40.866Z"
   },
   {
    "duration": 88,
    "start_time": "2023-04-23T15:54:37.689Z"
   },
   {
    "duration": 88,
    "start_time": "2023-04-23T15:55:00.949Z"
   },
   {
    "duration": 67,
    "start_time": "2023-04-23T15:55:08.868Z"
   },
   {
    "duration": 49,
    "start_time": "2023-04-23T15:55:16.981Z"
   },
   {
    "duration": 32,
    "start_time": "2023-04-23T15:55:49.621Z"
   },
   {
    "duration": 80,
    "start_time": "2023-04-23T15:56:21.836Z"
   },
   {
    "duration": 66,
    "start_time": "2023-04-23T15:56:33.673Z"
   },
   {
    "duration": 91,
    "start_time": "2023-04-23T16:02:59.238Z"
   },
   {
    "duration": 61,
    "start_time": "2023-04-23T16:12:28.826Z"
   },
   {
    "duration": 159,
    "start_time": "2023-04-23T16:23:33.543Z"
   },
   {
    "duration": 47,
    "start_time": "2023-04-23T16:30:25.610Z"
   },
   {
    "duration": 42,
    "start_time": "2023-04-23T16:30:35.995Z"
   },
   {
    "duration": 19,
    "start_time": "2023-04-23T16:30:48.746Z"
   },
   {
    "duration": 11,
    "start_time": "2023-04-23T16:31:31.062Z"
   },
   {
    "duration": 195,
    "start_time": "2023-04-23T16:31:48.655Z"
   },
   {
    "duration": 20,
    "start_time": "2023-04-23T16:37:46.987Z"
   },
   {
    "duration": 47,
    "start_time": "2023-04-23T16:38:16.838Z"
   },
   {
    "duration": 58,
    "start_time": "2023-04-23T16:38:29.055Z"
   },
   {
    "duration": 46,
    "start_time": "2023-04-23T16:38:42.947Z"
   },
   {
    "duration": 71,
    "start_time": "2023-04-23T16:41:21.980Z"
   },
   {
    "duration": 42,
    "start_time": "2023-04-23T16:41:39.336Z"
   },
   {
    "duration": 25,
    "start_time": "2023-04-23T16:42:09.363Z"
   },
   {
    "duration": 47,
    "start_time": "2023-04-23T16:42:46.840Z"
   },
   {
    "duration": 48,
    "start_time": "2023-04-23T16:43:04.368Z"
   },
   {
    "duration": 8,
    "start_time": "2023-04-23T16:43:57.577Z"
   },
   {
    "duration": 47,
    "start_time": "2023-04-23T16:44:07.664Z"
   },
   {
    "duration": 67,
    "start_time": "2023-04-23T16:46:44.767Z"
   },
   {
    "duration": 855,
    "start_time": "2023-04-23T16:47:08.618Z"
   },
   {
    "duration": 2446,
    "start_time": "2023-04-23T16:47:35.309Z"
   },
   {
    "duration": 1492,
    "start_time": "2023-04-23T16:57:07.889Z"
   },
   {
    "duration": 22,
    "start_time": "2023-04-23T16:58:42.704Z"
   },
   {
    "duration": 15,
    "start_time": "2023-04-23T16:58:51.603Z"
   },
   {
    "duration": 25,
    "start_time": "2023-04-23T16:59:12.630Z"
   },
   {
    "duration": 30,
    "start_time": "2023-04-23T16:59:20.863Z"
   },
   {
    "duration": 26,
    "start_time": "2023-04-23T17:01:36.829Z"
   },
   {
    "duration": 33,
    "start_time": "2023-04-23T17:02:04.263Z"
   },
   {
    "duration": 18,
    "start_time": "2023-04-23T17:05:20.304Z"
   },
   {
    "duration": 42,
    "start_time": "2023-04-23T17:09:09.735Z"
   },
   {
    "duration": 64,
    "start_time": "2023-04-23T17:09:35.811Z"
   },
   {
    "duration": 4,
    "start_time": "2023-04-23T17:10:17.834Z"
   },
   {
    "duration": 184,
    "start_time": "2023-04-23T17:10:17.841Z"
   },
   {
    "duration": 46,
    "start_time": "2023-04-23T17:10:18.027Z"
   },
   {
    "duration": 53,
    "start_time": "2023-04-23T17:10:18.076Z"
   },
   {
    "duration": 336,
    "start_time": "2023-04-23T17:10:18.132Z"
   },
   {
    "duration": 37,
    "start_time": "2023-04-23T17:10:18.487Z"
   },
   {
    "duration": 40,
    "start_time": "2023-04-23T17:10:18.526Z"
   },
   {
    "duration": 1700,
    "start_time": "2023-04-23T17:10:18.580Z"
   },
   {
    "duration": 127,
    "start_time": "2023-04-23T17:10:20.283Z"
   },
   {
    "duration": 51,
    "start_time": "2023-04-23T17:10:20.413Z"
   },
   {
    "duration": 205,
    "start_time": "2023-04-23T17:10:20.472Z"
   },
   {
    "duration": 59,
    "start_time": "2023-04-23T17:10:20.679Z"
   },
   {
    "duration": 93,
    "start_time": "2023-04-23T17:10:20.745Z"
   },
   {
    "duration": 190,
    "start_time": "2023-04-23T17:10:20.843Z"
   },
   {
    "duration": 140,
    "start_time": "2023-04-23T17:10:21.035Z"
   },
   {
    "duration": 3734,
    "start_time": "2023-04-23T17:10:21.178Z"
   },
   {
    "duration": 22,
    "start_time": "2023-04-23T17:10:24.916Z"
   },
   {
    "duration": 197,
    "start_time": "2023-04-23T17:10:24.940Z"
   },
   {
    "duration": 573,
    "start_time": "2023-04-23T17:10:25.139Z"
   },
   {
    "duration": 30,
    "start_time": "2023-04-23T17:10:25.715Z"
   },
   {
    "duration": 167,
    "start_time": "2023-04-23T17:10:25.755Z"
   },
   {
    "duration": 240,
    "start_time": "2023-04-23T17:10:25.930Z"
   },
   {
    "duration": 42,
    "start_time": "2023-04-23T17:10:26.183Z"
   },
   {
    "duration": 266,
    "start_time": "2023-04-23T17:10:26.237Z"
   },
   {
    "duration": 95,
    "start_time": "2023-04-23T17:10:26.514Z"
   },
   {
    "duration": 149,
    "start_time": "2023-04-23T17:10:26.624Z"
   },
   {
    "duration": 414,
    "start_time": "2023-04-23T17:10:26.783Z"
   },
   {
    "duration": 49,
    "start_time": "2023-04-23T17:10:27.204Z"
   },
   {
    "duration": 119,
    "start_time": "2023-04-23T17:10:27.263Z"
   },
   {
    "duration": 131,
    "start_time": "2023-04-23T17:10:27.385Z"
   },
   {
    "duration": 692,
    "start_time": "2023-04-23T17:10:27.519Z"
   },
   {
    "duration": 45,
    "start_time": "2023-04-23T17:10:28.215Z"
   },
   {
    "duration": 826,
    "start_time": "2023-04-23T17:10:28.263Z"
   },
   {
    "duration": 569,
    "start_time": "2023-04-23T17:10:29.096Z"
   },
   {
    "duration": 44,
    "start_time": "2023-04-23T17:10:29.673Z"
   },
   {
    "duration": 147,
    "start_time": "2023-04-23T17:10:29.724Z"
   },
   {
    "duration": 144,
    "start_time": "2023-04-23T17:10:29.881Z"
   },
   {
    "duration": 180,
    "start_time": "2023-04-23T17:10:30.029Z"
   },
   {
    "duration": 117,
    "start_time": "2023-04-23T17:10:30.212Z"
   },
   {
    "duration": 392,
    "start_time": "2023-04-23T17:10:30.331Z"
   },
   {
    "duration": 47,
    "start_time": "2023-04-23T17:13:28.238Z"
   },
   {
    "duration": 58,
    "start_time": "2023-04-23T17:17:45.238Z"
   },
   {
    "duration": 19,
    "start_time": "2023-04-23T17:18:14.111Z"
   },
   {
    "duration": 26,
    "start_time": "2023-04-23T17:24:52.723Z"
   },
   {
    "duration": 19,
    "start_time": "2023-04-23T17:25:42.503Z"
   },
   {
    "duration": 34,
    "start_time": "2023-04-23T17:26:39.900Z"
   },
   {
    "duration": 100,
    "start_time": "2023-04-23T17:29:48.965Z"
   },
   {
    "duration": 105,
    "start_time": "2023-04-23T17:29:56.580Z"
   },
   {
    "duration": 10,
    "start_time": "2023-04-23T17:30:21.397Z"
   },
   {
    "duration": 123,
    "start_time": "2023-04-23T17:30:21.410Z"
   },
   {
    "duration": 46,
    "start_time": "2023-04-23T17:30:21.535Z"
   },
   {
    "duration": 113,
    "start_time": "2023-04-23T17:30:21.584Z"
   },
   {
    "duration": 426,
    "start_time": "2023-04-23T17:30:21.704Z"
   },
   {
    "duration": 73,
    "start_time": "2023-04-23T17:30:22.135Z"
   },
   {
    "duration": 89,
    "start_time": "2023-04-23T17:30:22.212Z"
   },
   {
    "duration": 2041,
    "start_time": "2023-04-23T17:30:22.306Z"
   },
   {
    "duration": 174,
    "start_time": "2023-04-23T17:30:24.353Z"
   },
   {
    "duration": 54,
    "start_time": "2023-04-23T17:30:24.535Z"
   },
   {
    "duration": 182,
    "start_time": "2023-04-23T17:30:24.597Z"
   },
   {
    "duration": 40,
    "start_time": "2023-04-23T17:30:24.782Z"
   },
   {
    "duration": 28,
    "start_time": "2023-04-23T17:30:24.824Z"
   },
   {
    "duration": 86,
    "start_time": "2023-04-23T17:30:24.858Z"
   },
   {
    "duration": 142,
    "start_time": "2023-04-23T17:30:24.946Z"
   },
   {
    "duration": 3207,
    "start_time": "2023-04-23T17:30:25.090Z"
   },
   {
    "duration": 13,
    "start_time": "2023-04-23T17:30:28.299Z"
   },
   {
    "duration": 114,
    "start_time": "2023-04-23T17:30:28.322Z"
   },
   {
    "duration": 573,
    "start_time": "2023-04-23T17:30:28.438Z"
   },
   {
    "duration": 27,
    "start_time": "2023-04-23T17:30:29.018Z"
   },
   {
    "duration": 128,
    "start_time": "2023-04-23T17:30:29.053Z"
   },
   {
    "duration": 245,
    "start_time": "2023-04-23T17:30:29.192Z"
   },
   {
    "duration": 25,
    "start_time": "2023-04-23T17:30:29.443Z"
   },
   {
    "duration": 165,
    "start_time": "2023-04-23T17:30:29.478Z"
   },
   {
    "duration": 60,
    "start_time": "2023-04-23T17:30:29.649Z"
   },
   {
    "duration": 101,
    "start_time": "2023-04-23T17:30:29.715Z"
   },
   {
    "duration": 129,
    "start_time": "2023-04-23T17:30:29.822Z"
   },
   {
    "duration": 26,
    "start_time": "2023-04-23T17:30:29.957Z"
   },
   {
    "duration": 84,
    "start_time": "2023-04-23T17:30:29.989Z"
   },
   {
    "duration": 130,
    "start_time": "2023-04-23T17:30:30.079Z"
   },
   {
    "duration": 868,
    "start_time": "2023-04-23T17:30:30.216Z"
   },
   {
    "duration": 41,
    "start_time": "2023-04-23T17:30:31.091Z"
   },
   {
    "duration": 1070,
    "start_time": "2023-04-23T17:30:31.139Z"
   },
   {
    "duration": 550,
    "start_time": "2023-04-23T17:30:32.215Z"
   },
   {
    "duration": 42,
    "start_time": "2023-04-23T17:30:32.780Z"
   },
   {
    "duration": 124,
    "start_time": "2023-04-23T17:30:32.828Z"
   },
   {
    "duration": 56,
    "start_time": "2023-04-23T17:30:32.953Z"
   },
   {
    "duration": 56,
    "start_time": "2023-04-23T17:30:33.015Z"
   },
   {
    "duration": 132,
    "start_time": "2023-04-23T17:30:33.083Z"
   },
   {
    "duration": 308,
    "start_time": "2023-04-23T17:30:33.229Z"
   },
   {
    "duration": 33,
    "start_time": "2023-04-23T17:31:19.625Z"
   },
   {
    "duration": 14,
    "start_time": "2023-04-23T17:31:42.224Z"
   },
   {
    "duration": 43,
    "start_time": "2023-04-23T17:31:49.490Z"
   },
   {
    "duration": 42,
    "start_time": "2023-04-23T17:32:14.579Z"
   },
   {
    "duration": 31,
    "start_time": "2023-04-23T17:34:12.540Z"
   },
   {
    "duration": 65,
    "start_time": "2023-04-23T17:35:30.193Z"
   },
   {
    "duration": 34,
    "start_time": "2023-04-23T17:37:51.926Z"
   },
   {
    "duration": 13,
    "start_time": "2023-04-23T17:38:03.063Z"
   },
   {
    "duration": 108,
    "start_time": "2023-04-23T17:38:03.082Z"
   },
   {
    "duration": 95,
    "start_time": "2023-04-23T17:38:03.192Z"
   },
   {
    "duration": 71,
    "start_time": "2023-04-23T17:38:03.297Z"
   },
   {
    "duration": 190,
    "start_time": "2023-04-23T17:38:03.378Z"
   },
   {
    "duration": 41,
    "start_time": "2023-04-23T17:38:03.570Z"
   },
   {
    "duration": 118,
    "start_time": "2023-04-23T17:38:03.613Z"
   },
   {
    "duration": 991,
    "start_time": "2023-04-23T17:38:03.736Z"
   },
   {
    "duration": 119,
    "start_time": "2023-04-23T17:38:04.730Z"
   },
   {
    "duration": 125,
    "start_time": "2023-04-23T17:38:04.852Z"
   },
   {
    "duration": 187,
    "start_time": "2023-04-23T17:38:04.986Z"
   },
   {
    "duration": 68,
    "start_time": "2023-04-23T17:38:05.180Z"
   },
   {
    "duration": 114,
    "start_time": "2023-04-23T17:38:05.265Z"
   },
   {
    "duration": 136,
    "start_time": "2023-04-23T17:38:05.387Z"
   },
   {
    "duration": 203,
    "start_time": "2023-04-23T17:38:05.527Z"
   },
   {
    "duration": 3550,
    "start_time": "2023-04-23T17:38:05.732Z"
   },
   {
    "duration": 13,
    "start_time": "2023-04-23T17:38:09.285Z"
   },
   {
    "duration": 287,
    "start_time": "2023-04-23T17:38:09.301Z"
   },
   {
    "duration": 570,
    "start_time": "2023-04-23T17:38:09.591Z"
   },
   {
    "duration": 69,
    "start_time": "2023-04-23T17:38:10.164Z"
   },
   {
    "duration": 87,
    "start_time": "2023-04-23T17:38:10.247Z"
   },
   {
    "duration": 223,
    "start_time": "2023-04-23T17:38:10.339Z"
   },
   {
    "duration": 41,
    "start_time": "2023-04-23T17:38:10.567Z"
   },
   {
    "duration": 350,
    "start_time": "2023-04-23T17:38:10.611Z"
   },
   {
    "duration": 169,
    "start_time": "2023-04-23T17:38:10.963Z"
   },
   {
    "duration": 83,
    "start_time": "2023-04-23T17:38:11.138Z"
   },
   {
    "duration": 284,
    "start_time": "2023-04-23T17:38:11.229Z"
   },
   {
    "duration": 66,
    "start_time": "2023-04-23T17:38:11.520Z"
   },
   {
    "duration": 165,
    "start_time": "2023-04-23T17:38:11.597Z"
   },
   {
    "duration": 198,
    "start_time": "2023-04-23T17:38:11.775Z"
   },
   {
    "duration": 983,
    "start_time": "2023-04-23T17:38:11.980Z"
   },
   {
    "duration": 48,
    "start_time": "2023-04-23T17:38:12.969Z"
   },
   {
    "duration": 869,
    "start_time": "2023-04-23T17:38:13.023Z"
   },
   {
    "duration": 899,
    "start_time": "2023-04-23T17:38:13.894Z"
   },
   {
    "duration": 40,
    "start_time": "2023-04-23T17:38:14.795Z"
   },
   {
    "duration": 272,
    "start_time": "2023-04-23T17:38:14.848Z"
   },
   {
    "duration": 127,
    "start_time": "2023-04-23T17:38:15.129Z"
   },
   {
    "duration": 79,
    "start_time": "2023-04-23T17:38:15.282Z"
   },
   {
    "duration": 160,
    "start_time": "2023-04-23T17:38:15.369Z"
   },
   {
    "duration": 193,
    "start_time": "2023-04-23T17:38:15.532Z"
   },
   {
    "duration": 11,
    "start_time": "2023-04-23T18:33:57.609Z"
   },
   {
    "duration": 333,
    "start_time": "2023-04-23T18:34:40.016Z"
   },
   {
    "duration": 1125,
    "start_time": "2023-04-23T18:35:04.062Z"
   },
   {
    "duration": 896,
    "start_time": "2023-04-23T18:35:16.859Z"
   },
   {
    "duration": 2815,
    "start_time": "2023-04-23T18:35:35.474Z"
   },
   {
    "duration": 2791,
    "start_time": "2023-04-23T18:35:48.119Z"
   },
   {
    "duration": 265,
    "start_time": "2023-04-23T18:36:23.462Z"
   },
   {
    "duration": 958,
    "start_time": "2023-04-23T18:36:39.902Z"
   },
   {
    "duration": 9,
    "start_time": "2023-04-23T18:37:04.527Z"
   },
   {
    "duration": 17,
    "start_time": "2023-04-23T18:37:29.532Z"
   },
   {
    "duration": 219,
    "start_time": "2023-04-23T18:50:00.358Z"
   },
   {
    "duration": 3433,
    "start_time": "2023-04-23T18:51:01.756Z"
   },
   {
    "duration": 3533,
    "start_time": "2023-04-23T18:51:27.596Z"
   },
   {
    "duration": 55,
    "start_time": "2023-04-23T18:51:48.160Z"
   },
   {
    "duration": 74,
    "start_time": "2023-04-23T18:52:40.180Z"
   },
   {
    "duration": 2914,
    "start_time": "2023-04-23T19:17:46.535Z"
   },
   {
    "duration": 93,
    "start_time": "2023-04-23T19:17:49.452Z"
   },
   {
    "duration": 167,
    "start_time": "2023-04-23T19:17:49.562Z"
   },
   {
    "duration": 78,
    "start_time": "2023-04-23T19:17:49.751Z"
   },
   {
    "duration": 438,
    "start_time": "2023-04-23T19:17:49.851Z"
   },
   {
    "duration": 75,
    "start_time": "2023-04-23T19:17:50.294Z"
   },
   {
    "duration": 116,
    "start_time": "2023-04-23T19:17:50.377Z"
   },
   {
    "duration": 1467,
    "start_time": "2023-04-23T19:17:50.500Z"
   },
   {
    "duration": 220,
    "start_time": "2023-04-23T19:17:51.979Z"
   },
   {
    "duration": 75,
    "start_time": "2023-04-23T19:17:52.210Z"
   },
   {
    "duration": 200,
    "start_time": "2023-04-23T19:17:52.292Z"
   },
   {
    "duration": 84,
    "start_time": "2023-04-23T19:17:52.495Z"
   },
   {
    "duration": 164,
    "start_time": "2023-04-23T19:17:52.581Z"
   },
   {
    "duration": 290,
    "start_time": "2023-04-23T19:17:52.749Z"
   },
   {
    "duration": 285,
    "start_time": "2023-04-23T19:17:53.048Z"
   },
   {
    "duration": 4483,
    "start_time": "2023-04-23T19:17:53.340Z"
   },
   {
    "duration": 16,
    "start_time": "2023-04-23T19:17:57.830Z"
   },
   {
    "duration": 355,
    "start_time": "2023-04-23T19:17:57.858Z"
   },
   {
    "duration": 1080,
    "start_time": "2023-04-23T19:17:58.221Z"
   },
   {
    "duration": 50,
    "start_time": "2023-04-23T19:17:59.315Z"
   },
   {
    "duration": 209,
    "start_time": "2023-04-23T19:17:59.368Z"
   },
   {
    "duration": 465,
    "start_time": "2023-04-23T19:17:59.580Z"
   },
   {
    "duration": 46,
    "start_time": "2023-04-23T19:18:00.063Z"
   },
   {
    "duration": 346,
    "start_time": "2023-04-23T19:18:00.111Z"
   },
   {
    "duration": 157,
    "start_time": "2023-04-23T19:18:00.470Z"
   },
   {
    "duration": 264,
    "start_time": "2023-04-23T19:18:00.629Z"
   },
   {
    "duration": 372,
    "start_time": "2023-04-23T19:18:00.897Z"
   },
   {
    "duration": 175,
    "start_time": "2023-04-23T19:18:01.278Z"
   },
   {
    "duration": 179,
    "start_time": "2023-04-23T19:18:01.470Z"
   },
   {
    "duration": 237,
    "start_time": "2023-04-23T19:18:01.660Z"
   },
   {
    "duration": 1168,
    "start_time": "2023-04-23T19:18:01.910Z"
   },
   {
    "duration": 218,
    "start_time": "2023-04-23T19:18:03.083Z"
   },
   {
    "duration": 0,
    "start_time": "2023-04-23T19:18:03.314Z"
   },
   {
    "duration": 0,
    "start_time": "2023-04-23T19:18:03.320Z"
   },
   {
    "duration": 0,
    "start_time": "2023-04-23T19:18:03.326Z"
   },
   {
    "duration": 0,
    "start_time": "2023-04-23T19:18:03.335Z"
   },
   {
    "duration": 0,
    "start_time": "2023-04-23T19:18:03.341Z"
   },
   {
    "duration": 0,
    "start_time": "2023-04-23T19:18:03.349Z"
   },
   {
    "duration": 0,
    "start_time": "2023-04-23T19:18:03.351Z"
   },
   {
    "duration": 0,
    "start_time": "2023-04-23T19:18:03.354Z"
   },
   {
    "duration": 0,
    "start_time": "2023-04-23T19:18:03.359Z"
   },
   {
    "duration": 1884,
    "start_time": "2023-04-23T19:18:28.808Z"
   },
   {
    "duration": 71,
    "start_time": "2023-04-23T19:18:30.706Z"
   },
   {
    "duration": 118,
    "start_time": "2023-04-23T19:18:30.791Z"
   },
   {
    "duration": 27,
    "start_time": "2023-04-23T19:18:30.912Z"
   },
   {
    "duration": 286,
    "start_time": "2023-04-23T19:18:30.944Z"
   },
   {
    "duration": 92,
    "start_time": "2023-04-23T19:18:31.232Z"
   },
   {
    "duration": 145,
    "start_time": "2023-04-23T19:18:31.326Z"
   },
   {
    "duration": 948,
    "start_time": "2023-04-23T19:18:31.475Z"
   },
   {
    "duration": 135,
    "start_time": "2023-04-23T19:18:32.438Z"
   },
   {
    "duration": 42,
    "start_time": "2023-04-23T19:18:32.581Z"
   },
   {
    "duration": 114,
    "start_time": "2023-04-23T19:18:32.629Z"
   },
   {
    "duration": 35,
    "start_time": "2023-04-23T19:18:32.752Z"
   },
   {
    "duration": 74,
    "start_time": "2023-04-23T19:18:32.794Z"
   },
   {
    "duration": 91,
    "start_time": "2023-04-23T19:18:32.886Z"
   },
   {
    "duration": 159,
    "start_time": "2023-04-23T19:18:32.985Z"
   },
   {
    "duration": 3727,
    "start_time": "2023-04-23T19:18:33.157Z"
   },
   {
    "duration": 33,
    "start_time": "2023-04-23T19:18:36.892Z"
   },
   {
    "duration": 322,
    "start_time": "2023-04-23T19:18:36.934Z"
   },
   {
    "duration": 593,
    "start_time": "2023-04-23T19:18:37.262Z"
   },
   {
    "duration": 27,
    "start_time": "2023-04-23T19:18:37.866Z"
   },
   {
    "duration": 74,
    "start_time": "2023-04-23T19:18:37.903Z"
   },
   {
    "duration": 351,
    "start_time": "2023-04-23T19:18:37.986Z"
   },
   {
    "duration": 80,
    "start_time": "2023-04-23T19:18:38.339Z"
   },
   {
    "duration": 386,
    "start_time": "2023-04-23T19:18:38.422Z"
   },
   {
    "duration": 87,
    "start_time": "2023-04-23T19:18:38.814Z"
   },
   {
    "duration": 101,
    "start_time": "2023-04-23T19:18:38.904Z"
   },
   {
    "duration": 265,
    "start_time": "2023-04-23T19:18:39.007Z"
   },
   {
    "duration": 34,
    "start_time": "2023-04-23T19:18:39.277Z"
   },
   {
    "duration": 125,
    "start_time": "2023-04-23T19:18:39.314Z"
   },
   {
    "duration": 129,
    "start_time": "2023-04-23T19:18:39.452Z"
   },
   {
    "duration": 618,
    "start_time": "2023-04-23T19:18:39.584Z"
   },
   {
    "duration": 186,
    "start_time": "2023-04-23T19:18:40.204Z"
   },
   {
    "duration": 0,
    "start_time": "2023-04-23T19:18:40.392Z"
   },
   {
    "duration": 0,
    "start_time": "2023-04-23T19:18:40.393Z"
   },
   {
    "duration": 0,
    "start_time": "2023-04-23T19:18:40.394Z"
   },
   {
    "duration": 0,
    "start_time": "2023-04-23T19:18:40.396Z"
   },
   {
    "duration": 0,
    "start_time": "2023-04-23T19:18:40.397Z"
   },
   {
    "duration": 0,
    "start_time": "2023-04-23T19:18:40.398Z"
   },
   {
    "duration": 0,
    "start_time": "2023-04-23T19:18:40.399Z"
   },
   {
    "duration": 0,
    "start_time": "2023-04-23T19:18:40.401Z"
   },
   {
    "duration": 0,
    "start_time": "2023-04-23T19:18:40.402Z"
   },
   {
    "duration": 1054,
    "start_time": "2023-04-23T19:19:58.843Z"
   },
   {
    "duration": 94,
    "start_time": "2023-04-23T19:20:47.075Z"
   },
   {
    "duration": 61,
    "start_time": "2023-04-23T19:22:31.187Z"
   },
   {
    "duration": 2324,
    "start_time": "2023-04-23T19:25:10.742Z"
   },
   {
    "duration": 161,
    "start_time": "2023-04-23T19:25:13.076Z"
   },
   {
    "duration": 132,
    "start_time": "2023-04-23T19:25:13.240Z"
   },
   {
    "duration": 29,
    "start_time": "2023-04-23T19:25:13.375Z"
   },
   {
    "duration": 718,
    "start_time": "2023-04-23T19:25:13.407Z"
   },
   {
    "duration": 122,
    "start_time": "2023-04-23T19:25:14.143Z"
   },
   {
    "duration": 107,
    "start_time": "2023-04-23T19:25:14.282Z"
   },
   {
    "duration": 3127,
    "start_time": "2023-04-23T19:25:14.414Z"
   },
   {
    "duration": 262,
    "start_time": "2023-04-23T19:25:17.555Z"
   },
   {
    "duration": 76,
    "start_time": "2023-04-23T19:25:17.833Z"
   },
   {
    "duration": 415,
    "start_time": "2023-04-23T19:25:17.915Z"
   },
   {
    "duration": 75,
    "start_time": "2023-04-23T19:25:18.346Z"
   },
   {
    "duration": 116,
    "start_time": "2023-04-23T19:25:18.432Z"
   },
   {
    "duration": 286,
    "start_time": "2023-04-23T19:25:18.560Z"
   },
   {
    "duration": 217,
    "start_time": "2023-04-23T19:25:18.856Z"
   },
   {
    "duration": 5784,
    "start_time": "2023-04-23T19:25:19.081Z"
   },
   {
    "duration": 14,
    "start_time": "2023-04-23T19:25:24.875Z"
   },
   {
    "duration": 258,
    "start_time": "2023-04-23T19:25:24.899Z"
   },
   {
    "duration": 669,
    "start_time": "2023-04-23T19:25:25.168Z"
   },
   {
    "duration": 62,
    "start_time": "2023-04-23T19:25:25.863Z"
   },
   {
    "duration": 149,
    "start_time": "2023-04-23T19:25:25.932Z"
   },
   {
    "duration": 291,
    "start_time": "2023-04-23T19:25:26.088Z"
   },
   {
    "duration": 29,
    "start_time": "2023-04-23T19:25:26.386Z"
   },
   {
    "duration": 319,
    "start_time": "2023-04-23T19:25:26.422Z"
   },
   {
    "duration": 122,
    "start_time": "2023-04-23T19:25:26.743Z"
   },
   {
    "duration": 207,
    "start_time": "2023-04-23T19:25:26.867Z"
   },
   {
    "duration": 269,
    "start_time": "2023-04-23T19:25:27.076Z"
   },
   {
    "duration": 130,
    "start_time": "2023-04-23T19:25:27.361Z"
   },
   {
    "duration": 166,
    "start_time": "2023-04-23T19:25:27.498Z"
   },
   {
    "duration": 156,
    "start_time": "2023-04-23T19:25:27.677Z"
   },
   {
    "duration": 1184,
    "start_time": "2023-04-23T19:25:27.840Z"
   },
   {
    "duration": 35,
    "start_time": "2023-04-23T19:25:29.030Z"
   },
   {
    "duration": 1232,
    "start_time": "2023-04-23T19:25:29.071Z"
   },
   {
    "duration": 18,
    "start_time": "2023-04-23T19:25:30.312Z"
   },
   {
    "duration": 968,
    "start_time": "2023-04-23T19:25:30.342Z"
   },
   {
    "duration": 45,
    "start_time": "2023-04-23T19:25:31.318Z"
   },
   {
    "duration": 5288,
    "start_time": "2023-04-23T19:25:31.369Z"
   },
   {
    "duration": 62,
    "start_time": "2023-04-23T19:25:36.659Z"
   },
   {
    "duration": 266,
    "start_time": "2023-04-23T19:25:36.723Z"
   },
   {
    "duration": 168,
    "start_time": "2023-04-23T19:25:36.992Z"
   },
   {
    "duration": 300,
    "start_time": "2023-04-23T19:25:37.162Z"
   },
   {
    "duration": 77,
    "start_time": "2023-04-23T19:26:57.304Z"
   },
   {
    "duration": 2279,
    "start_time": "2023-04-23T19:27:37.505Z"
   },
   {
    "duration": 75,
    "start_time": "2023-04-23T19:27:39.787Z"
   },
   {
    "duration": 83,
    "start_time": "2023-04-23T19:27:39.878Z"
   },
   {
    "duration": 48,
    "start_time": "2023-04-23T19:27:39.974Z"
   },
   {
    "duration": 246,
    "start_time": "2023-04-23T19:27:40.025Z"
   },
   {
    "duration": 53,
    "start_time": "2023-04-23T19:27:40.273Z"
   },
   {
    "duration": 208,
    "start_time": "2023-04-23T19:27:40.329Z"
   },
   {
    "duration": 1075,
    "start_time": "2023-04-23T19:27:40.539Z"
   },
   {
    "duration": 145,
    "start_time": "2023-04-23T19:27:41.620Z"
   },
   {
    "duration": 61,
    "start_time": "2023-04-23T19:27:41.772Z"
   },
   {
    "duration": 216,
    "start_time": "2023-04-23T19:27:41.840Z"
   },
   {
    "duration": 118,
    "start_time": "2023-04-23T19:27:42.063Z"
   },
   {
    "duration": 131,
    "start_time": "2023-04-23T19:27:42.187Z"
   },
   {
    "duration": 118,
    "start_time": "2023-04-23T19:27:42.327Z"
   },
   {
    "duration": 263,
    "start_time": "2023-04-23T19:27:42.456Z"
   },
   {
    "duration": 3785,
    "start_time": "2023-04-23T19:27:42.728Z"
   },
   {
    "duration": 14,
    "start_time": "2023-04-23T19:27:46.518Z"
   },
   {
    "duration": 300,
    "start_time": "2023-04-23T19:27:46.540Z"
   },
   {
    "duration": 762,
    "start_time": "2023-04-23T19:27:46.866Z"
   },
   {
    "duration": 26,
    "start_time": "2023-04-23T19:27:47.631Z"
   },
   {
    "duration": 221,
    "start_time": "2023-04-23T19:27:47.663Z"
   },
   {
    "duration": 315,
    "start_time": "2023-04-23T19:27:47.891Z"
   },
   {
    "duration": 30,
    "start_time": "2023-04-23T19:27:48.214Z"
   },
   {
    "duration": 250,
    "start_time": "2023-04-23T19:27:48.254Z"
   },
   {
    "duration": 102,
    "start_time": "2023-04-23T19:27:48.511Z"
   },
   {
    "duration": 260,
    "start_time": "2023-04-23T19:27:48.629Z"
   },
   {
    "duration": 234,
    "start_time": "2023-04-23T19:27:48.902Z"
   },
   {
    "duration": 52,
    "start_time": "2023-04-23T19:27:49.158Z"
   },
   {
    "duration": 173,
    "start_time": "2023-04-23T19:27:49.219Z"
   },
   {
    "duration": 201,
    "start_time": "2023-04-23T19:27:49.408Z"
   },
   {
    "duration": 1059,
    "start_time": "2023-04-23T19:27:49.626Z"
   },
   {
    "duration": 53,
    "start_time": "2023-04-23T19:27:50.699Z"
   },
   {
    "duration": 1213,
    "start_time": "2023-04-23T19:27:50.760Z"
   },
   {
    "duration": 29,
    "start_time": "2023-04-23T19:27:51.988Z"
   },
   {
    "duration": 1304,
    "start_time": "2023-04-23T19:27:52.029Z"
   },
   {
    "duration": 110,
    "start_time": "2023-04-23T19:27:53.341Z"
   },
   {
    "duration": 675,
    "start_time": "2023-04-23T19:27:53.459Z"
   },
   {
    "duration": 73,
    "start_time": "2023-04-23T19:27:54.143Z"
   },
   {
    "duration": 101,
    "start_time": "2023-04-23T19:27:54.234Z"
   },
   {
    "duration": 151,
    "start_time": "2023-04-23T19:27:54.338Z"
   },
   {
    "duration": 357,
    "start_time": "2023-04-23T19:27:54.491Z"
   },
   {
    "duration": 18,
    "start_time": "2023-04-23T19:28:36.256Z"
   },
   {
    "duration": 276,
    "start_time": "2023-04-23T19:28:36.295Z"
   },
   {
    "duration": 130,
    "start_time": "2023-04-23T19:28:36.583Z"
   },
   {
    "duration": 153,
    "start_time": "2023-04-23T19:28:36.724Z"
   },
   {
    "duration": 305,
    "start_time": "2023-04-23T19:28:36.888Z"
   },
   {
    "duration": 87,
    "start_time": "2023-04-23T19:28:37.205Z"
   },
   {
    "duration": 137,
    "start_time": "2023-04-23T19:28:37.294Z"
   },
   {
    "duration": 1064,
    "start_time": "2023-04-23T19:28:37.441Z"
   },
   {
    "duration": 197,
    "start_time": "2023-04-23T19:28:38.511Z"
   },
   {
    "duration": 67,
    "start_time": "2023-04-23T19:28:38.714Z"
   },
   {
    "duration": 177,
    "start_time": "2023-04-23T19:28:38.787Z"
   },
   {
    "duration": 112,
    "start_time": "2023-04-23T19:28:38.979Z"
   },
   {
    "duration": 95,
    "start_time": "2023-04-23T19:28:39.102Z"
   },
   {
    "duration": 205,
    "start_time": "2023-04-23T19:28:39.212Z"
   },
   {
    "duration": 169,
    "start_time": "2023-04-23T19:28:39.434Z"
   },
   {
    "duration": 5255,
    "start_time": "2023-04-23T19:28:39.610Z"
   },
   {
    "duration": 25,
    "start_time": "2023-04-23T19:28:44.872Z"
   },
   {
    "duration": 318,
    "start_time": "2023-04-23T19:28:44.903Z"
   },
   {
    "duration": 565,
    "start_time": "2023-04-23T19:28:45.224Z"
   },
   {
    "duration": 23,
    "start_time": "2023-04-23T19:28:45.796Z"
   },
   {
    "duration": 236,
    "start_time": "2023-04-23T19:28:45.826Z"
   },
   {
    "duration": 368,
    "start_time": "2023-04-23T19:28:46.064Z"
   },
   {
    "duration": 34,
    "start_time": "2023-04-23T19:28:46.435Z"
   },
   {
    "duration": 443,
    "start_time": "2023-04-23T19:28:46.476Z"
   },
   {
    "duration": 83,
    "start_time": "2023-04-23T19:28:46.927Z"
   },
   {
    "duration": 207,
    "start_time": "2023-04-23T19:28:47.021Z"
   },
   {
    "duration": 327,
    "start_time": "2023-04-23T19:28:47.236Z"
   },
   {
    "duration": 39,
    "start_time": "2023-04-23T19:28:47.569Z"
   },
   {
    "duration": 197,
    "start_time": "2023-04-23T19:28:47.614Z"
   },
   {
    "duration": 133,
    "start_time": "2023-04-23T19:28:47.820Z"
   },
   {
    "duration": 896,
    "start_time": "2023-04-23T19:28:47.959Z"
   },
   {
    "duration": 55,
    "start_time": "2023-04-23T19:28:48.861Z"
   },
   {
    "duration": 1213,
    "start_time": "2023-04-23T19:28:48.923Z"
   },
   {
    "duration": 15,
    "start_time": "2023-04-23T19:28:50.142Z"
   },
   {
    "duration": 744,
    "start_time": "2023-04-23T19:28:50.162Z"
   },
   {
    "duration": 51,
    "start_time": "2023-04-23T19:28:50.912Z"
   },
   {
    "duration": 155,
    "start_time": "2023-04-23T19:28:50.968Z"
   },
   {
    "duration": 258,
    "start_time": "2023-04-23T19:28:51.129Z"
   },
   {
    "duration": 215,
    "start_time": "2023-04-23T19:28:51.396Z"
   },
   {
    "duration": 110,
    "start_time": "2023-04-23T19:28:51.635Z"
   },
   {
    "duration": 267,
    "start_time": "2023-04-23T19:28:51.771Z"
   },
   {
    "duration": 1842,
    "start_time": "2023-04-23T21:11:00.733Z"
   },
   {
    "duration": 71,
    "start_time": "2023-04-23T21:11:02.577Z"
   },
   {
    "duration": 24,
    "start_time": "2023-04-23T21:11:02.653Z"
   },
   {
    "duration": 4,
    "start_time": "2023-04-23T21:11:02.679Z"
   },
   {
    "duration": 254,
    "start_time": "2023-04-23T21:11:02.685Z"
   },
   {
    "duration": 25,
    "start_time": "2023-04-23T21:11:02.941Z"
   },
   {
    "duration": 11,
    "start_time": "2023-04-23T21:11:02.968Z"
   },
   {
    "duration": 1604,
    "start_time": "2023-04-23T21:11:02.980Z"
   },
   {
    "duration": 71,
    "start_time": "2023-04-23T21:11:04.587Z"
   },
   {
    "duration": 26,
    "start_time": "2023-04-23T21:11:04.660Z"
   },
   {
    "duration": 119,
    "start_time": "2023-04-23T21:11:04.688Z"
   },
   {
    "duration": 16,
    "start_time": "2023-04-23T21:11:04.809Z"
   },
   {
    "duration": 5,
    "start_time": "2023-04-23T21:11:04.827Z"
   },
   {
    "duration": 14,
    "start_time": "2023-04-23T21:11:04.833Z"
   },
   {
    "duration": 28,
    "start_time": "2023-04-23T21:11:04.848Z"
   },
   {
    "duration": 1811,
    "start_time": "2023-04-23T21:11:04.877Z"
   },
   {
    "duration": 7,
    "start_time": "2023-04-23T21:11:06.690Z"
   },
   {
    "duration": 43,
    "start_time": "2023-04-23T21:11:06.711Z"
   },
   {
    "duration": 313,
    "start_time": "2023-04-23T21:11:06.756Z"
   },
   {
    "duration": 14,
    "start_time": "2023-04-23T21:11:07.070Z"
   },
   {
    "duration": 46,
    "start_time": "2023-04-23T21:11:07.085Z"
   },
   {
    "duration": 160,
    "start_time": "2023-04-23T21:11:07.133Z"
   },
   {
    "duration": 24,
    "start_time": "2023-04-23T21:11:07.295Z"
   },
   {
    "duration": 100,
    "start_time": "2023-04-23T21:11:07.320Z"
   },
   {
    "duration": 34,
    "start_time": "2023-04-23T21:11:07.422Z"
   },
   {
    "duration": 40,
    "start_time": "2023-04-23T21:11:07.458Z"
   },
   {
    "duration": 60,
    "start_time": "2023-04-23T21:11:07.514Z"
   },
   {
    "duration": 14,
    "start_time": "2023-04-23T21:11:07.575Z"
   },
   {
    "duration": 14,
    "start_time": "2023-04-23T21:11:07.612Z"
   },
   {
    "duration": 19,
    "start_time": "2023-04-23T21:11:07.628Z"
   },
   {
    "duration": 392,
    "start_time": "2023-04-23T21:11:07.649Z"
   },
   {
    "duration": 15,
    "start_time": "2023-04-23T21:11:08.043Z"
   },
   {
    "duration": 914,
    "start_time": "2023-04-23T21:11:08.059Z"
   },
   {
    "duration": 7,
    "start_time": "2023-04-23T21:11:08.974Z"
   },
   {
    "duration": 499,
    "start_time": "2023-04-23T21:11:08.982Z"
   },
   {
    "duration": 30,
    "start_time": "2023-04-23T21:11:09.482Z"
   },
   {
    "duration": 631,
    "start_time": "2023-04-23T21:11:09.514Z"
   },
   {
    "duration": 17,
    "start_time": "2023-04-23T21:11:10.147Z"
   },
   {
    "duration": 17,
    "start_time": "2023-04-23T21:11:10.211Z"
   },
   {
    "duration": 7,
    "start_time": "2023-04-23T21:11:10.230Z"
   },
   {
    "duration": 79,
    "start_time": "2023-04-23T21:11:10.239Z"
   },
   {
    "duration": 21,
    "start_time": "2023-04-23T21:19:21.583Z"
   },
   {
    "duration": 21,
    "start_time": "2023-04-23T21:19:26.661Z"
   },
   {
    "duration": 5,
    "start_time": "2023-04-23T21:21:29.444Z"
   },
   {
    "duration": 30,
    "start_time": "2023-04-23T21:21:30.573Z"
   },
   {
    "duration": 1319,
    "start_time": "2023-04-24T10:08:32.360Z"
   },
   {
    "duration": 64,
    "start_time": "2023-04-24T10:08:33.681Z"
   },
   {
    "duration": 20,
    "start_time": "2023-04-24T10:08:33.747Z"
   },
   {
    "duration": 4,
    "start_time": "2023-04-24T10:08:33.769Z"
   },
   {
    "duration": 223,
    "start_time": "2023-04-24T10:08:33.775Z"
   },
   {
    "duration": 31,
    "start_time": "2023-04-24T10:08:34.000Z"
   },
   {
    "duration": 13,
    "start_time": "2023-04-24T10:08:34.034Z"
   },
   {
    "duration": 1482,
    "start_time": "2023-04-24T10:08:34.048Z"
   },
   {
    "duration": 65,
    "start_time": "2023-04-24T10:08:35.531Z"
   },
   {
    "duration": 26,
    "start_time": "2023-04-24T10:08:35.599Z"
   },
   {
    "duration": 108,
    "start_time": "2023-04-24T10:08:35.626Z"
   },
   {
    "duration": 16,
    "start_time": "2023-04-24T10:08:35.736Z"
   },
   {
    "duration": 5,
    "start_time": "2023-04-24T10:08:35.753Z"
   },
   {
    "duration": 31,
    "start_time": "2023-04-24T10:08:35.760Z"
   },
   {
    "duration": 26,
    "start_time": "2023-04-24T10:08:35.793Z"
   },
   {
    "duration": 1747,
    "start_time": "2023-04-24T10:08:35.821Z"
   },
   {
    "duration": 4,
    "start_time": "2023-04-24T10:08:37.570Z"
   },
   {
    "duration": 55,
    "start_time": "2023-04-24T10:08:37.576Z"
   },
   {
    "duration": 251,
    "start_time": "2023-04-24T10:08:37.632Z"
   },
   {
    "duration": 11,
    "start_time": "2023-04-24T10:08:37.885Z"
   },
   {
    "duration": 26,
    "start_time": "2023-04-24T10:08:37.897Z"
   },
   {
    "duration": 139,
    "start_time": "2023-04-24T10:08:37.924Z"
   },
   {
    "duration": 22,
    "start_time": "2023-04-24T10:08:38.065Z"
   },
   {
    "duration": 76,
    "start_time": "2023-04-24T10:08:38.089Z"
   },
   {
    "duration": 40,
    "start_time": "2023-04-24T10:08:38.166Z"
   },
   {
    "duration": 35,
    "start_time": "2023-04-24T10:08:38.208Z"
   },
   {
    "duration": 86,
    "start_time": "2023-04-24T10:08:38.245Z"
   },
   {
    "duration": 16,
    "start_time": "2023-04-24T10:08:38.334Z"
   },
   {
    "duration": 16,
    "start_time": "2023-04-24T10:08:38.351Z"
   },
   {
    "duration": 18,
    "start_time": "2023-04-24T10:08:38.386Z"
   },
   {
    "duration": 319,
    "start_time": "2023-04-24T10:08:38.406Z"
   },
   {
    "duration": 12,
    "start_time": "2023-04-24T10:08:38.727Z"
   },
   {
    "duration": 462,
    "start_time": "2023-04-24T10:08:38.740Z"
   },
   {
    "duration": 6,
    "start_time": "2023-04-24T10:08:39.204Z"
   },
   {
    "duration": 333,
    "start_time": "2023-04-24T10:08:39.212Z"
   },
   {
    "duration": 19,
    "start_time": "2023-04-24T10:08:39.546Z"
   },
   {
    "duration": 203,
    "start_time": "2023-04-24T10:08:39.567Z"
   },
   {
    "duration": 15,
    "start_time": "2023-04-24T10:08:39.772Z"
   },
   {
    "duration": 16,
    "start_time": "2023-04-24T10:08:39.788Z"
   },
   {
    "duration": 5,
    "start_time": "2023-04-24T10:08:39.806Z"
   },
   {
    "duration": 76,
    "start_time": "2023-04-24T10:08:39.812Z"
   },
   {
    "duration": 89,
    "start_time": "2023-04-24T10:20:16.019Z"
   },
   {
    "duration": 82,
    "start_time": "2023-04-24T10:20:21.967Z"
   },
   {
    "duration": 152,
    "start_time": "2023-04-24T10:20:44.107Z"
   },
   {
    "duration": 3,
    "start_time": "2023-04-24T10:21:07.356Z"
   },
   {
    "duration": 35,
    "start_time": "2023-04-24T10:21:07.363Z"
   },
   {
    "duration": 18,
    "start_time": "2023-04-24T10:21:07.400Z"
   },
   {
    "duration": 19,
    "start_time": "2023-04-24T10:21:07.420Z"
   },
   {
    "duration": 75,
    "start_time": "2023-04-24T10:21:07.441Z"
   },
   {
    "duration": 24,
    "start_time": "2023-04-24T10:21:07.519Z"
   },
   {
    "duration": 12,
    "start_time": "2023-04-24T10:21:07.545Z"
   },
   {
    "duration": 499,
    "start_time": "2023-04-24T10:21:07.558Z"
   },
   {
    "duration": 74,
    "start_time": "2023-04-24T10:21:08.059Z"
   },
   {
    "duration": 23,
    "start_time": "2023-04-24T10:21:08.134Z"
   },
   {
    "duration": 39,
    "start_time": "2023-04-24T10:21:08.159Z"
   },
   {
    "duration": 18,
    "start_time": "2023-04-24T10:21:08.200Z"
   },
   {
    "duration": 5,
    "start_time": "2023-04-24T10:21:08.219Z"
   },
   {
    "duration": 16,
    "start_time": "2023-04-24T10:21:08.225Z"
   },
   {
    "duration": 64,
    "start_time": "2023-04-24T10:21:08.245Z"
   },
   {
    "duration": 1659,
    "start_time": "2023-04-24T10:21:08.311Z"
   },
   {
    "duration": 14,
    "start_time": "2023-04-24T10:21:09.972Z"
   },
   {
    "duration": 43,
    "start_time": "2023-04-24T10:21:09.988Z"
   },
   {
    "duration": 268,
    "start_time": "2023-04-24T10:21:10.033Z"
   },
   {
    "duration": 13,
    "start_time": "2023-04-24T10:21:10.303Z"
   },
   {
    "duration": 19,
    "start_time": "2023-04-24T10:21:10.318Z"
   },
   {
    "duration": 153,
    "start_time": "2023-04-24T10:21:10.339Z"
   },
   {
    "duration": 13,
    "start_time": "2023-04-24T10:21:10.494Z"
   },
   {
    "duration": 95,
    "start_time": "2023-04-24T10:21:10.509Z"
   },
   {
    "duration": 27,
    "start_time": "2023-04-24T10:21:10.606Z"
   },
   {
    "duration": 0,
    "start_time": "2023-04-24T10:21:10.635Z"
   },
   {
    "duration": 0,
    "start_time": "2023-04-24T10:21:10.637Z"
   },
   {
    "duration": 0,
    "start_time": "2023-04-24T10:21:10.638Z"
   },
   {
    "duration": 0,
    "start_time": "2023-04-24T10:21:10.640Z"
   },
   {
    "duration": 0,
    "start_time": "2023-04-24T10:21:10.641Z"
   },
   {
    "duration": 0,
    "start_time": "2023-04-24T10:21:10.643Z"
   },
   {
    "duration": 0,
    "start_time": "2023-04-24T10:21:10.644Z"
   },
   {
    "duration": 0,
    "start_time": "2023-04-24T10:21:10.646Z"
   },
   {
    "duration": 0,
    "start_time": "2023-04-24T10:21:10.648Z"
   },
   {
    "duration": 0,
    "start_time": "2023-04-24T10:21:10.649Z"
   },
   {
    "duration": 0,
    "start_time": "2023-04-24T10:21:10.651Z"
   },
   {
    "duration": 0,
    "start_time": "2023-04-24T10:21:10.651Z"
   },
   {
    "duration": 0,
    "start_time": "2023-04-24T10:21:10.686Z"
   },
   {
    "duration": 0,
    "start_time": "2023-04-24T10:21:10.688Z"
   },
   {
    "duration": 0,
    "start_time": "2023-04-24T10:21:10.689Z"
   },
   {
    "duration": 0,
    "start_time": "2023-04-24T10:21:10.691Z"
   },
   {
    "duration": 69,
    "start_time": "2023-04-24T10:21:44.749Z"
   },
   {
    "duration": 69,
    "start_time": "2023-04-24T10:22:18.705Z"
   },
   {
    "duration": 75,
    "start_time": "2023-04-24T10:23:32.039Z"
   },
   {
    "duration": 72,
    "start_time": "2023-04-24T10:23:41.820Z"
   },
   {
    "duration": 1356,
    "start_time": "2023-04-24T10:24:14.899Z"
   },
   {
    "duration": 66,
    "start_time": "2023-04-24T10:24:34.384Z"
   },
   {
    "duration": 36,
    "start_time": "2023-04-24T10:27:49.921Z"
   },
   {
    "duration": 3,
    "start_time": "2023-04-24T10:28:01.833Z"
   },
   {
    "duration": 63,
    "start_time": "2023-04-24T10:28:01.838Z"
   },
   {
    "duration": 26,
    "start_time": "2023-04-24T10:28:01.903Z"
   },
   {
    "duration": 26,
    "start_time": "2023-04-24T10:28:01.931Z"
   },
   {
    "duration": 96,
    "start_time": "2023-04-24T10:28:01.958Z"
   },
   {
    "duration": 22,
    "start_time": "2023-04-24T10:28:02.056Z"
   },
   {
    "duration": 16,
    "start_time": "2023-04-24T10:28:02.080Z"
   },
   {
    "duration": 473,
    "start_time": "2023-04-24T10:28:02.098Z"
   },
   {
    "duration": 73,
    "start_time": "2023-04-24T10:28:02.572Z"
   },
   {
    "duration": 24,
    "start_time": "2023-04-24T10:28:02.648Z"
   },
   {
    "duration": 25,
    "start_time": "2023-04-24T10:28:02.686Z"
   },
   {
    "duration": 15,
    "start_time": "2023-04-24T10:28:02.713Z"
   },
   {
    "duration": 13,
    "start_time": "2023-04-24T10:28:02.730Z"
   },
   {
    "duration": 16,
    "start_time": "2023-04-24T10:28:02.745Z"
   },
   {
    "duration": 38,
    "start_time": "2023-04-24T10:28:02.763Z"
   },
   {
    "duration": 1772,
    "start_time": "2023-04-24T10:28:02.802Z"
   },
   {
    "duration": 11,
    "start_time": "2023-04-24T10:28:04.577Z"
   },
   {
    "duration": 44,
    "start_time": "2023-04-24T10:28:04.590Z"
   },
   {
    "duration": 287,
    "start_time": "2023-04-24T10:28:04.636Z"
   },
   {
    "duration": 12,
    "start_time": "2023-04-24T10:28:04.925Z"
   },
   {
    "duration": 14,
    "start_time": "2023-04-24T10:28:04.938Z"
   },
   {
    "duration": 149,
    "start_time": "2023-04-24T10:28:04.953Z"
   },
   {
    "duration": 13,
    "start_time": "2023-04-24T10:28:05.104Z"
   },
   {
    "duration": 97,
    "start_time": "2023-04-24T10:28:05.119Z"
   },
   {
    "duration": 80,
    "start_time": "2023-04-24T10:28:05.217Z"
   },
   {
    "duration": 32,
    "start_time": "2023-04-24T10:28:05.299Z"
   },
   {
    "duration": 75,
    "start_time": "2023-04-24T10:28:05.333Z"
   },
   {
    "duration": 13,
    "start_time": "2023-04-24T10:28:05.411Z"
   },
   {
    "duration": 25,
    "start_time": "2023-04-24T10:28:05.425Z"
   },
   {
    "duration": 39,
    "start_time": "2023-04-24T10:28:05.452Z"
   },
   {
    "duration": 344,
    "start_time": "2023-04-24T10:28:05.493Z"
   },
   {
    "duration": 14,
    "start_time": "2023-04-24T10:28:05.839Z"
   },
   {
    "duration": 574,
    "start_time": "2023-04-24T10:28:05.886Z"
   },
   {
    "duration": 8,
    "start_time": "2023-04-24T10:28:06.461Z"
   },
   {
    "duration": 350,
    "start_time": "2023-04-24T10:28:06.470Z"
   },
   {
    "duration": 21,
    "start_time": "2023-04-24T10:28:06.821Z"
   },
   {
    "duration": 15,
    "start_time": "2023-04-24T10:28:06.844Z"
   },
   {
    "duration": 36,
    "start_time": "2023-04-24T10:28:06.861Z"
   },
   {
    "duration": 19,
    "start_time": "2023-04-24T10:28:06.898Z"
   },
   {
    "duration": 22,
    "start_time": "2023-04-24T10:28:06.918Z"
   },
   {
    "duration": 44,
    "start_time": "2023-04-24T10:28:06.942Z"
   },
   {
    "duration": 13,
    "start_time": "2023-04-24T10:31:37.398Z"
   },
   {
    "duration": 16,
    "start_time": "2023-04-24T10:32:22.997Z"
   },
   {
    "duration": 44,
    "start_time": "2023-04-24T10:36:53.655Z"
   },
   {
    "duration": 18,
    "start_time": "2023-04-24T10:37:13.640Z"
   },
   {
    "duration": 20,
    "start_time": "2023-04-24T10:38:50.515Z"
   },
   {
    "duration": 28,
    "start_time": "2023-04-24T10:39:06.664Z"
   },
   {
    "duration": 21,
    "start_time": "2023-04-24T10:40:33.519Z"
   },
   {
    "duration": 19,
    "start_time": "2023-04-24T10:41:20.504Z"
   },
   {
    "duration": 25,
    "start_time": "2023-04-24T10:41:34.430Z"
   },
   {
    "duration": 20,
    "start_time": "2023-04-24T10:42:51.717Z"
   },
   {
    "duration": 21,
    "start_time": "2023-04-24T10:43:47.178Z"
   },
   {
    "duration": 25,
    "start_time": "2023-04-24T10:45:18.056Z"
   },
   {
    "duration": 21,
    "start_time": "2023-04-24T11:24:06.286Z"
   },
   {
    "duration": 31,
    "start_time": "2023-04-24T11:24:55.330Z"
   },
   {
    "duration": 31,
    "start_time": "2023-04-24T11:25:18.447Z"
   },
   {
    "duration": 16,
    "start_time": "2023-04-24T11:26:55.073Z"
   },
   {
    "duration": 23,
    "start_time": "2023-04-24T11:29:08.557Z"
   },
   {
    "duration": 14,
    "start_time": "2023-04-24T11:31:31.182Z"
   },
   {
    "duration": 17,
    "start_time": "2023-04-24T11:31:41.203Z"
   },
   {
    "duration": 17,
    "start_time": "2023-04-24T11:31:54.714Z"
   },
   {
    "duration": 15,
    "start_time": "2023-04-24T11:33:46.163Z"
   },
   {
    "duration": 27,
    "start_time": "2023-04-24T11:40:17.885Z"
   },
   {
    "duration": 30,
    "start_time": "2023-04-24T11:40:40.091Z"
   },
   {
    "duration": 30,
    "start_time": "2023-04-24T11:59:41.956Z"
   },
   {
    "duration": 32,
    "start_time": "2023-04-24T12:00:30.331Z"
   },
   {
    "duration": 31,
    "start_time": "2023-04-24T12:01:45.025Z"
   },
   {
    "duration": 908,
    "start_time": "2023-04-24T12:02:10.559Z"
   },
   {
    "duration": 1283,
    "start_time": "2023-04-24T12:02:44.599Z"
   },
   {
    "duration": 1613,
    "start_time": "2023-04-24T12:03:34.466Z"
   },
   {
    "duration": 1680,
    "start_time": "2023-04-24T12:04:17.151Z"
   },
   {
    "duration": 236,
    "start_time": "2023-04-24T12:04:35.432Z"
   },
   {
    "duration": 34,
    "start_time": "2023-04-24T12:07:39.035Z"
   },
   {
    "duration": 34,
    "start_time": "2023-04-24T12:08:13.302Z"
   },
   {
    "duration": 40,
    "start_time": "2023-04-24T12:11:23.913Z"
   },
   {
    "duration": 33,
    "start_time": "2023-04-24T12:12:01.739Z"
   },
   {
    "duration": 29,
    "start_time": "2023-04-24T12:12:43.081Z"
   },
   {
    "duration": 30,
    "start_time": "2023-04-24T12:14:03.364Z"
   },
   {
    "duration": 34,
    "start_time": "2023-04-24T12:14:20.730Z"
   },
   {
    "duration": 33,
    "start_time": "2023-04-24T12:15:11.448Z"
   },
   {
    "duration": 33,
    "start_time": "2023-04-24T12:15:56.068Z"
   },
   {
    "duration": 35,
    "start_time": "2023-04-24T12:16:15.858Z"
   },
   {
    "duration": 36,
    "start_time": "2023-04-24T12:17:57.847Z"
   },
   {
    "duration": 35,
    "start_time": "2023-04-24T12:19:02.218Z"
   },
   {
    "duration": 34,
    "start_time": "2023-04-24T12:19:08.100Z"
   },
   {
    "duration": 43,
    "start_time": "2023-04-24T12:19:29.413Z"
   },
   {
    "duration": 39,
    "start_time": "2023-04-24T12:19:39.041Z"
   },
   {
    "duration": 37,
    "start_time": "2023-04-24T12:19:50.164Z"
   },
   {
    "duration": 35,
    "start_time": "2023-04-24T12:20:27.092Z"
   },
   {
    "duration": 34,
    "start_time": "2023-04-24T12:22:10.090Z"
   },
   {
    "duration": 3,
    "start_time": "2023-04-24T12:45:11.626Z"
   },
   {
    "duration": 35,
    "start_time": "2023-04-24T12:45:11.634Z"
   },
   {
    "duration": 16,
    "start_time": "2023-04-24T12:45:11.671Z"
   },
   {
    "duration": 9,
    "start_time": "2023-04-24T12:45:11.688Z"
   },
   {
    "duration": 67,
    "start_time": "2023-04-24T12:45:11.699Z"
   },
   {
    "duration": 25,
    "start_time": "2023-04-24T12:45:11.769Z"
   },
   {
    "duration": 13,
    "start_time": "2023-04-24T12:45:11.796Z"
   },
   {
    "duration": 467,
    "start_time": "2023-04-24T12:45:11.810Z"
   },
   {
    "duration": 69,
    "start_time": "2023-04-24T12:45:12.278Z"
   },
   {
    "duration": 39,
    "start_time": "2023-04-24T12:45:12.349Z"
   },
   {
    "duration": 28,
    "start_time": "2023-04-24T12:45:12.390Z"
   },
   {
    "duration": 18,
    "start_time": "2023-04-24T12:45:12.420Z"
   },
   {
    "duration": 6,
    "start_time": "2023-04-24T12:45:12.440Z"
   },
   {
    "duration": 31,
    "start_time": "2023-04-24T12:45:12.448Z"
   },
   {
    "duration": 39,
    "start_time": "2023-04-24T12:45:12.486Z"
   },
   {
    "duration": 1826,
    "start_time": "2023-04-24T12:45:12.526Z"
   },
   {
    "duration": 5,
    "start_time": "2023-04-24T12:45:14.354Z"
   },
   {
    "duration": 52,
    "start_time": "2023-04-24T12:45:14.361Z"
   },
   {
    "duration": 240,
    "start_time": "2023-04-24T12:45:14.415Z"
   },
   {
    "duration": 14,
    "start_time": "2023-04-24T12:45:14.656Z"
   },
   {
    "duration": 22,
    "start_time": "2023-04-24T12:45:14.672Z"
   },
   {
    "duration": 108,
    "start_time": "2023-04-24T12:45:14.696Z"
   },
   {
    "duration": 14,
    "start_time": "2023-04-24T12:45:14.805Z"
   },
   {
    "duration": 85,
    "start_time": "2023-04-24T12:45:14.821Z"
   },
   {
    "duration": 78,
    "start_time": "2023-04-24T12:45:14.908Z"
   },
   {
    "duration": 32,
    "start_time": "2023-04-24T12:45:14.987Z"
   },
   {
    "duration": 77,
    "start_time": "2023-04-24T12:45:15.020Z"
   },
   {
    "duration": 22,
    "start_time": "2023-04-24T12:45:15.098Z"
   },
   {
    "duration": 11,
    "start_time": "2023-04-24T12:45:15.122Z"
   },
   {
    "duration": 21,
    "start_time": "2023-04-24T12:45:15.135Z"
   },
   {
    "duration": 54,
    "start_time": "2023-04-24T12:45:15.158Z"
   },
   {
    "duration": 319,
    "start_time": "2023-04-24T12:45:15.214Z"
   },
   {
    "duration": 14,
    "start_time": "2023-04-24T12:45:15.535Z"
   },
   {
    "duration": 487,
    "start_time": "2023-04-24T12:45:15.551Z"
   },
   {
    "duration": 7,
    "start_time": "2023-04-24T12:45:16.040Z"
   },
   {
    "duration": 439,
    "start_time": "2023-04-24T12:45:16.048Z"
   },
   {
    "duration": 21,
    "start_time": "2023-04-24T12:45:16.489Z"
   },
   {
    "duration": 19,
    "start_time": "2023-04-24T12:45:16.512Z"
   },
   {
    "duration": 15,
    "start_time": "2023-04-24T12:45:16.533Z"
   },
   {
    "duration": 49,
    "start_time": "2023-04-24T12:45:16.549Z"
   },
   {
    "duration": 6,
    "start_time": "2023-04-24T12:45:16.599Z"
   },
   {
    "duration": 28,
    "start_time": "2023-04-24T12:45:16.608Z"
   },
   {
    "duration": 34,
    "start_time": "2023-04-24T12:46:26.205Z"
   },
   {
    "duration": 36,
    "start_time": "2023-04-24T12:47:27.456Z"
   },
   {
    "duration": 60,
    "start_time": "2023-04-24T12:52:11.739Z"
   },
   {
    "duration": 46,
    "start_time": "2023-04-24T12:52:54.028Z"
   },
   {
    "duration": 44,
    "start_time": "2023-04-24T12:53:52.419Z"
   },
   {
    "duration": 41,
    "start_time": "2023-04-24T12:54:35.131Z"
   },
   {
    "duration": 34,
    "start_time": "2023-04-24T12:55:45.794Z"
   },
   {
    "duration": 304,
    "start_time": "2023-04-24T12:56:39.823Z"
   },
   {
    "duration": 2151,
    "start_time": "2023-04-24T16:25:57.251Z"
   },
   {
    "duration": 1943,
    "start_time": "2023-04-24T16:27:15.031Z"
   },
   {
    "duration": 47,
    "start_time": "2023-04-24T16:28:29.405Z"
   },
   {
    "duration": 69,
    "start_time": "2023-04-24T16:28:54.099Z"
   },
   {
    "duration": 52,
    "start_time": "2023-04-24T16:30:30.476Z"
   },
   {
    "duration": 52,
    "start_time": "2023-04-24T16:30:46.162Z"
   },
   {
    "duration": 43,
    "start_time": "2023-04-24T16:32:55.233Z"
   },
   {
    "duration": 37,
    "start_time": "2023-04-24T16:33:11.428Z"
   },
   {
    "duration": 37,
    "start_time": "2023-04-24T16:33:30.840Z"
   },
   {
    "duration": 47,
    "start_time": "2023-04-24T16:34:40.312Z"
   },
   {
    "duration": 59,
    "start_time": "2023-04-24T16:36:17.721Z"
   },
   {
    "duration": 61,
    "start_time": "2023-04-24T16:43:07.486Z"
   },
   {
    "duration": 42,
    "start_time": "2023-04-24T16:48:44.516Z"
   },
   {
    "duration": 40,
    "start_time": "2023-04-24T16:49:16.289Z"
   },
   {
    "duration": 40,
    "start_time": "2023-04-24T16:49:56.146Z"
   },
   {
    "duration": 43,
    "start_time": "2023-04-24T16:50:41.417Z"
   },
   {
    "duration": 60,
    "start_time": "2023-04-24T16:51:13.520Z"
   },
   {
    "duration": 3,
    "start_time": "2023-04-24T16:51:26.486Z"
   },
   {
    "duration": 32,
    "start_time": "2023-04-24T16:51:26.491Z"
   },
   {
    "duration": 16,
    "start_time": "2023-04-24T16:51:26.524Z"
   },
   {
    "duration": 4,
    "start_time": "2023-04-24T16:51:26.542Z"
   },
   {
    "duration": 66,
    "start_time": "2023-04-24T16:51:26.548Z"
   },
   {
    "duration": 26,
    "start_time": "2023-04-24T16:51:26.616Z"
   },
   {
    "duration": 12,
    "start_time": "2023-04-24T16:51:26.643Z"
   },
   {
    "duration": 493,
    "start_time": "2023-04-24T16:51:26.657Z"
   },
   {
    "duration": 77,
    "start_time": "2023-04-24T16:51:27.152Z"
   },
   {
    "duration": 25,
    "start_time": "2023-04-24T16:51:27.232Z"
   },
   {
    "duration": 36,
    "start_time": "2023-04-24T16:51:27.259Z"
   },
   {
    "duration": 17,
    "start_time": "2023-04-24T16:51:27.297Z"
   },
   {
    "duration": 5,
    "start_time": "2023-04-24T16:51:27.315Z"
   },
   {
    "duration": 15,
    "start_time": "2023-04-24T16:51:27.321Z"
   },
   {
    "duration": 53,
    "start_time": "2023-04-24T16:51:27.338Z"
   },
   {
    "duration": 1845,
    "start_time": "2023-04-24T16:51:27.393Z"
   },
   {
    "duration": 7,
    "start_time": "2023-04-24T16:51:29.239Z"
   },
   {
    "duration": 56,
    "start_time": "2023-04-24T16:51:29.248Z"
   },
   {
    "duration": 287,
    "start_time": "2023-04-24T16:51:29.306Z"
   },
   {
    "duration": 27,
    "start_time": "2023-04-24T16:51:29.595Z"
   },
   {
    "duration": 29,
    "start_time": "2023-04-24T16:51:29.624Z"
   },
   {
    "duration": 127,
    "start_time": "2023-04-24T16:51:29.655Z"
   },
   {
    "duration": 15,
    "start_time": "2023-04-24T16:51:29.784Z"
   },
   {
    "duration": 95,
    "start_time": "2023-04-24T16:51:29.801Z"
   },
   {
    "duration": 89,
    "start_time": "2023-04-24T16:51:29.898Z"
   },
   {
    "duration": 33,
    "start_time": "2023-04-24T16:51:29.989Z"
   },
   {
    "duration": 97,
    "start_time": "2023-04-24T16:51:30.024Z"
   },
   {
    "duration": 26,
    "start_time": "2023-04-24T16:51:30.125Z"
   },
   {
    "duration": 38,
    "start_time": "2023-04-24T16:51:30.153Z"
   },
   {
    "duration": 63,
    "start_time": "2023-04-24T16:51:30.193Z"
   },
   {
    "duration": 76,
    "start_time": "2023-04-24T16:51:30.258Z"
   },
   {
    "duration": 388,
    "start_time": "2023-04-24T16:51:30.336Z"
   },
   {
    "duration": 19,
    "start_time": "2023-04-24T16:51:30.726Z"
   },
   {
    "duration": 513,
    "start_time": "2023-04-24T16:51:30.747Z"
   },
   {
    "duration": 7,
    "start_time": "2023-04-24T16:51:31.262Z"
   },
   {
    "duration": 377,
    "start_time": "2023-04-24T16:51:31.271Z"
   },
   {
    "duration": 23,
    "start_time": "2023-04-24T16:51:31.650Z"
   },
   {
    "duration": 30,
    "start_time": "2023-04-24T16:51:31.684Z"
   },
   {
    "duration": 27,
    "start_time": "2023-04-24T16:51:31.716Z"
   },
   {
    "duration": 34,
    "start_time": "2023-04-24T16:51:31.745Z"
   },
   {
    "duration": 18,
    "start_time": "2023-04-24T16:51:31.781Z"
   },
   {
    "duration": 40,
    "start_time": "2023-04-24T16:51:31.801Z"
   },
   {
    "duration": 55,
    "start_time": "2023-04-24T16:51:56.300Z"
   },
   {
    "duration": 39,
    "start_time": "2023-04-24T16:52:41.446Z"
   },
   {
    "duration": 44,
    "start_time": "2023-04-24T16:54:01.303Z"
   },
   {
    "duration": 52,
    "start_time": "2023-04-24T16:54:17.951Z"
   },
   {
    "duration": 51,
    "start_time": "2023-04-24T16:55:56.389Z"
   },
   {
    "duration": 46,
    "start_time": "2023-04-24T16:56:15.642Z"
   },
   {
    "duration": 53,
    "start_time": "2023-04-24T16:56:30.599Z"
   },
   {
    "duration": 48,
    "start_time": "2023-04-24T16:57:12.460Z"
   },
   {
    "duration": 46,
    "start_time": "2023-04-24T16:57:39.655Z"
   },
   {
    "duration": 40,
    "start_time": "2023-04-24T16:59:41.296Z"
   },
   {
    "duration": 44,
    "start_time": "2023-04-24T17:04:08.416Z"
   },
   {
    "duration": 48,
    "start_time": "2023-04-24T17:04:35.094Z"
   },
   {
    "duration": 40,
    "start_time": "2023-04-24T17:05:04.590Z"
   },
   {
    "duration": 145,
    "start_time": "2023-04-24T17:06:06.430Z"
   },
   {
    "duration": 38,
    "start_time": "2023-04-24T17:06:24.907Z"
   },
   {
    "duration": 38,
    "start_time": "2023-04-24T17:08:06.845Z"
   },
   {
    "duration": 39,
    "start_time": "2023-04-24T17:08:17.784Z"
   },
   {
    "duration": 3,
    "start_time": "2023-04-24T17:09:28.129Z"
   },
   {
    "duration": 36,
    "start_time": "2023-04-24T17:09:28.137Z"
   },
   {
    "duration": 20,
    "start_time": "2023-04-24T17:09:28.175Z"
   },
   {
    "duration": 4,
    "start_time": "2023-04-24T17:09:28.197Z"
   },
   {
    "duration": 75,
    "start_time": "2023-04-24T17:09:28.203Z"
   },
   {
    "duration": 34,
    "start_time": "2023-04-24T17:09:28.287Z"
   },
   {
    "duration": 12,
    "start_time": "2023-04-24T17:09:28.322Z"
   },
   {
    "duration": 469,
    "start_time": "2023-04-24T17:09:28.335Z"
   },
   {
    "duration": 79,
    "start_time": "2023-04-24T17:09:28.806Z"
   },
   {
    "duration": 25,
    "start_time": "2023-04-24T17:09:28.887Z"
   },
   {
    "duration": 27,
    "start_time": "2023-04-24T17:09:28.914Z"
   },
   {
    "duration": 17,
    "start_time": "2023-04-24T17:09:28.942Z"
   },
   {
    "duration": 25,
    "start_time": "2023-04-24T17:09:28.961Z"
   },
   {
    "duration": 13,
    "start_time": "2023-04-24T17:09:28.989Z"
   },
   {
    "duration": 27,
    "start_time": "2023-04-24T17:09:29.005Z"
   },
   {
    "duration": 1801,
    "start_time": "2023-04-24T17:09:29.034Z"
   },
   {
    "duration": 5,
    "start_time": "2023-04-24T17:09:30.837Z"
   },
   {
    "duration": 110,
    "start_time": "2023-04-24T17:09:30.844Z"
   },
   {
    "duration": 277,
    "start_time": "2023-04-24T17:09:30.956Z"
   },
   {
    "duration": 12,
    "start_time": "2023-04-24T17:09:31.235Z"
   },
   {
    "duration": 42,
    "start_time": "2023-04-24T17:09:31.249Z"
   },
   {
    "duration": 119,
    "start_time": "2023-04-24T17:09:31.293Z"
   },
   {
    "duration": 14,
    "start_time": "2023-04-24T17:09:31.414Z"
   },
   {
    "duration": 99,
    "start_time": "2023-04-24T17:09:31.430Z"
   },
   {
    "duration": 79,
    "start_time": "2023-04-24T17:09:31.531Z"
   },
   {
    "duration": 34,
    "start_time": "2023-04-24T17:09:31.612Z"
   },
   {
    "duration": 91,
    "start_time": "2023-04-24T17:09:31.648Z"
   },
   {
    "duration": 24,
    "start_time": "2023-04-24T17:09:31.741Z"
   },
   {
    "duration": 28,
    "start_time": "2023-04-24T17:09:31.767Z"
   },
   {
    "duration": 25,
    "start_time": "2023-04-24T17:09:31.797Z"
   },
   {
    "duration": 67,
    "start_time": "2023-04-24T17:09:31.823Z"
   },
   {
    "duration": 357,
    "start_time": "2023-04-24T17:09:31.892Z"
   },
   {
    "duration": 43,
    "start_time": "2023-04-24T17:09:32.251Z"
   },
   {
    "duration": 610,
    "start_time": "2023-04-24T17:09:32.295Z"
   },
   {
    "duration": 8,
    "start_time": "2023-04-24T17:09:32.906Z"
   },
   {
    "duration": 360,
    "start_time": "2023-04-24T17:09:32.916Z"
   },
   {
    "duration": 29,
    "start_time": "2023-04-24T17:09:33.278Z"
   },
   {
    "duration": 18,
    "start_time": "2023-04-24T17:09:33.309Z"
   },
   {
    "duration": 16,
    "start_time": "2023-04-24T17:09:33.329Z"
   },
   {
    "duration": 51,
    "start_time": "2023-04-24T17:09:33.346Z"
   },
   {
    "duration": 5,
    "start_time": "2023-04-24T17:09:33.398Z"
   },
   {
    "duration": 26,
    "start_time": "2023-04-24T17:09:33.406Z"
   },
   {
    "duration": 22,
    "start_time": "2023-04-24T17:55:01.346Z"
   },
   {
    "duration": 10,
    "start_time": "2023-04-24T17:56:27.047Z"
   },
   {
    "duration": 4,
    "start_time": "2023-04-24T17:56:36.519Z"
   },
   {
    "duration": 4,
    "start_time": "2023-04-24T17:56:53.781Z"
   },
   {
    "duration": 5,
    "start_time": "2023-04-24T17:57:06.373Z"
   },
   {
    "duration": 7,
    "start_time": "2023-04-24T17:57:18.888Z"
   },
   {
    "duration": 10,
    "start_time": "2023-04-24T17:58:38.880Z"
   },
   {
    "duration": 12,
    "start_time": "2023-04-24T17:58:48.372Z"
   },
   {
    "duration": 18,
    "start_time": "2023-04-24T17:59:52.626Z"
   },
   {
    "duration": 21,
    "start_time": "2023-04-24T18:01:14.198Z"
   },
   {
    "duration": 18,
    "start_time": "2023-04-24T18:01:27.375Z"
   },
   {
    "duration": 72,
    "start_time": "2023-04-24T18:09:27.529Z"
   },
   {
    "duration": 91,
    "start_time": "2023-04-24T18:09:38.012Z"
   },
   {
    "duration": 18,
    "start_time": "2023-04-24T18:10:06.217Z"
   },
   {
    "duration": 13,
    "start_time": "2023-04-24T18:12:42.509Z"
   },
   {
    "duration": 125,
    "start_time": "2023-04-24T18:12:58.332Z"
   },
   {
    "duration": 135,
    "start_time": "2023-04-24T18:13:21.474Z"
   },
   {
    "duration": 151,
    "start_time": "2023-04-24T18:14:13.847Z"
   },
   {
    "duration": 78,
    "start_time": "2023-04-24T18:14:40.574Z"
   },
   {
    "duration": 138,
    "start_time": "2023-04-24T18:14:56.400Z"
   },
   {
    "duration": 18,
    "start_time": "2023-04-24T18:15:19.518Z"
   },
   {
    "duration": 121,
    "start_time": "2023-04-24T18:15:34.717Z"
   },
   {
    "duration": 17,
    "start_time": "2023-04-24T18:19:42.744Z"
   },
   {
    "duration": 28,
    "start_time": "2023-04-24T18:25:54.755Z"
   },
   {
    "duration": 24,
    "start_time": "2023-04-24T18:28:39.836Z"
   },
   {
    "duration": 17,
    "start_time": "2023-04-24T18:35:08.665Z"
   },
   {
    "duration": 17,
    "start_time": "2023-04-24T18:35:21.466Z"
   },
   {
    "duration": 16,
    "start_time": "2023-04-24T18:35:37.815Z"
   },
   {
    "duration": 12,
    "start_time": "2023-04-24T18:36:32.830Z"
   },
   {
    "duration": 19,
    "start_time": "2023-04-24T18:36:38.031Z"
   },
   {
    "duration": 13,
    "start_time": "2023-04-24T18:36:43.692Z"
   },
   {
    "duration": 13,
    "start_time": "2023-04-24T18:36:52.624Z"
   },
   {
    "duration": 14,
    "start_time": "2023-04-24T18:36:57.058Z"
   },
   {
    "duration": 18,
    "start_time": "2023-04-24T18:37:08.933Z"
   },
   {
    "duration": 16,
    "start_time": "2023-04-24T18:37:33.568Z"
   },
   {
    "duration": 17,
    "start_time": "2023-04-24T18:38:09.262Z"
   },
   {
    "duration": 19,
    "start_time": "2023-04-24T18:42:57.173Z"
   },
   {
    "duration": 18,
    "start_time": "2023-04-24T18:43:15.764Z"
   },
   {
    "duration": 27,
    "start_time": "2023-04-24T18:43:43.227Z"
   },
   {
    "duration": 18,
    "start_time": "2023-04-24T18:44:08.333Z"
   },
   {
    "duration": 18,
    "start_time": "2023-04-24T18:44:18.519Z"
   },
   {
    "duration": 19,
    "start_time": "2023-04-24T18:44:27.986Z"
   },
   {
    "duration": 7,
    "start_time": "2023-04-24T19:01:39.332Z"
   },
   {
    "duration": 8,
    "start_time": "2023-04-24T19:02:40.437Z"
   },
   {
    "duration": 8,
    "start_time": "2023-04-24T19:02:53.984Z"
   },
   {
    "duration": 24,
    "start_time": "2023-04-24T19:02:58.881Z"
   },
   {
    "duration": 6,
    "start_time": "2023-04-24T19:03:59.083Z"
   },
   {
    "duration": 31,
    "start_time": "2023-04-24T19:04:02.380Z"
   },
   {
    "duration": 5,
    "start_time": "2023-04-24T19:05:24.891Z"
   },
   {
    "duration": 34,
    "start_time": "2023-04-24T19:05:28.549Z"
   },
   {
    "duration": 6,
    "start_time": "2023-04-24T19:06:06.182Z"
   },
   {
    "duration": 22,
    "start_time": "2023-04-24T19:06:09.000Z"
   },
   {
    "duration": 5,
    "start_time": "2023-04-24T19:09:04.690Z"
   },
   {
    "duration": 25,
    "start_time": "2023-04-24T19:09:07.882Z"
   },
   {
    "duration": 6,
    "start_time": "2023-04-24T19:16:22.532Z"
   },
   {
    "duration": 55,
    "start_time": "2023-04-24T19:16:26.379Z"
   },
   {
    "duration": 45,
    "start_time": "2023-04-24T19:19:31.429Z"
   },
   {
    "duration": 6,
    "start_time": "2023-04-24T19:20:01.135Z"
   },
   {
    "duration": 80,
    "start_time": "2023-04-24T19:20:05.505Z"
   },
   {
    "duration": 6,
    "start_time": "2023-04-24T19:23:41.708Z"
   },
   {
    "duration": 41,
    "start_time": "2023-04-24T19:23:44.990Z"
   },
   {
    "duration": 5,
    "start_time": "2023-04-24T19:24:35.479Z"
   },
   {
    "duration": 32,
    "start_time": "2023-04-24T19:24:56.509Z"
   },
   {
    "duration": 6,
    "start_time": "2023-04-24T19:25:17.133Z"
   },
   {
    "duration": 3,
    "start_time": "2023-04-24T19:25:40.081Z"
   },
   {
    "duration": 37,
    "start_time": "2023-04-24T19:25:40.087Z"
   },
   {
    "duration": 16,
    "start_time": "2023-04-24T19:25:40.126Z"
   },
   {
    "duration": 4,
    "start_time": "2023-04-24T19:25:40.144Z"
   },
   {
    "duration": 66,
    "start_time": "2023-04-24T19:25:40.150Z"
   },
   {
    "duration": 25,
    "start_time": "2023-04-24T19:25:40.218Z"
   },
   {
    "duration": 10,
    "start_time": "2023-04-24T19:25:40.245Z"
   },
   {
    "duration": 484,
    "start_time": "2023-04-24T19:25:40.257Z"
   },
   {
    "duration": 74,
    "start_time": "2023-04-24T19:25:40.742Z"
   },
   {
    "duration": 24,
    "start_time": "2023-04-24T19:25:40.818Z"
   },
   {
    "duration": 26,
    "start_time": "2023-04-24T19:25:40.844Z"
   },
   {
    "duration": 24,
    "start_time": "2023-04-24T19:25:40.871Z"
   },
   {
    "duration": 4,
    "start_time": "2023-04-24T19:25:40.897Z"
   },
   {
    "duration": 11,
    "start_time": "2023-04-24T19:25:40.903Z"
   },
   {
    "duration": 27,
    "start_time": "2023-04-24T19:25:40.917Z"
   },
   {
    "duration": 1724,
    "start_time": "2023-04-24T19:25:40.945Z"
   },
   {
    "duration": 5,
    "start_time": "2023-04-24T19:25:42.671Z"
   },
   {
    "duration": 58,
    "start_time": "2023-04-24T19:25:42.677Z"
   },
   {
    "duration": 264,
    "start_time": "2023-04-24T19:25:42.737Z"
   },
   {
    "duration": 12,
    "start_time": "2023-04-24T19:25:43.003Z"
   },
   {
    "duration": 25,
    "start_time": "2023-04-24T19:25:43.017Z"
   },
   {
    "duration": 128,
    "start_time": "2023-04-24T19:25:43.044Z"
   },
   {
    "duration": 14,
    "start_time": "2023-04-24T19:25:43.174Z"
   },
   {
    "duration": 71,
    "start_time": "2023-04-24T19:25:43.190Z"
   },
   {
    "duration": 89,
    "start_time": "2023-04-24T19:25:43.263Z"
   },
   {
    "duration": 40,
    "start_time": "2023-04-24T19:25:43.354Z"
   },
   {
    "duration": 61,
    "start_time": "2023-04-24T19:25:43.396Z"
   },
   {
    "duration": 49,
    "start_time": "2023-04-24T19:25:43.458Z"
   },
   {
    "duration": 12,
    "start_time": "2023-04-24T19:25:43.509Z"
   },
   {
    "duration": 21,
    "start_time": "2023-04-24T19:25:43.523Z"
   },
   {
    "duration": 61,
    "start_time": "2023-04-24T19:25:43.546Z"
   },
   {
    "duration": 355,
    "start_time": "2023-04-24T19:25:43.609Z"
   },
   {
    "duration": 21,
    "start_time": "2023-04-24T19:25:43.985Z"
   },
   {
    "duration": 306,
    "start_time": "2023-04-24T19:25:44.008Z"
   },
   {
    "duration": 0,
    "start_time": "2023-04-24T19:25:44.315Z"
   },
   {
    "duration": 0,
    "start_time": "2023-04-24T19:25:44.317Z"
   },
   {
    "duration": 0,
    "start_time": "2023-04-24T19:25:44.318Z"
   },
   {
    "duration": 1,
    "start_time": "2023-04-24T19:25:44.319Z"
   },
   {
    "duration": 0,
    "start_time": "2023-04-24T19:25:44.321Z"
   },
   {
    "duration": 0,
    "start_time": "2023-04-24T19:25:44.322Z"
   },
   {
    "duration": 0,
    "start_time": "2023-04-24T19:25:44.323Z"
   },
   {
    "duration": 0,
    "start_time": "2023-04-24T19:25:44.324Z"
   },
   {
    "duration": 0,
    "start_time": "2023-04-24T19:25:44.325Z"
   },
   {
    "duration": 304,
    "start_time": "2023-04-24T19:27:23.332Z"
   },
   {
    "duration": 322,
    "start_time": "2023-04-24T19:28:14.252Z"
   },
   {
    "duration": 233,
    "start_time": "2023-04-24T19:28:37.680Z"
   },
   {
    "duration": 3,
    "start_time": "2023-04-24T19:28:49.644Z"
   },
   {
    "duration": 26,
    "start_time": "2023-04-24T19:28:49.651Z"
   },
   {
    "duration": 15,
    "start_time": "2023-04-24T19:28:49.679Z"
   },
   {
    "duration": 5,
    "start_time": "2023-04-24T19:28:49.696Z"
   },
   {
    "duration": 63,
    "start_time": "2023-04-24T19:28:49.703Z"
   },
   {
    "duration": 43,
    "start_time": "2023-04-24T19:28:49.768Z"
   },
   {
    "duration": 13,
    "start_time": "2023-04-24T19:28:49.812Z"
   },
   {
    "duration": 457,
    "start_time": "2023-04-24T19:28:49.826Z"
   },
   {
    "duration": 71,
    "start_time": "2023-04-24T19:28:50.285Z"
   },
   {
    "duration": 37,
    "start_time": "2023-04-24T19:28:50.358Z"
   },
   {
    "duration": 26,
    "start_time": "2023-04-24T19:28:50.397Z"
   },
   {
    "duration": 17,
    "start_time": "2023-04-24T19:28:50.425Z"
   },
   {
    "duration": 4,
    "start_time": "2023-04-24T19:28:50.444Z"
   },
   {
    "duration": 14,
    "start_time": "2023-04-24T19:28:50.450Z"
   },
   {
    "duration": 29,
    "start_time": "2023-04-24T19:28:50.490Z"
   },
   {
    "duration": 1787,
    "start_time": "2023-04-24T19:28:50.521Z"
   },
   {
    "duration": 6,
    "start_time": "2023-04-24T19:28:52.310Z"
   },
   {
    "duration": 67,
    "start_time": "2023-04-24T19:28:52.318Z"
   },
   {
    "duration": 299,
    "start_time": "2023-04-24T19:28:52.387Z"
   },
   {
    "duration": 15,
    "start_time": "2023-04-24T19:28:52.688Z"
   },
   {
    "duration": 27,
    "start_time": "2023-04-24T19:28:52.705Z"
   },
   {
    "duration": 140,
    "start_time": "2023-04-24T19:28:52.734Z"
   },
   {
    "duration": 16,
    "start_time": "2023-04-24T19:28:52.876Z"
   },
   {
    "duration": 92,
    "start_time": "2023-04-24T19:28:52.894Z"
   },
   {
    "duration": 75,
    "start_time": "2023-04-24T19:28:52.988Z"
   },
   {
    "duration": 57,
    "start_time": "2023-04-24T19:28:53.065Z"
   },
   {
    "duration": 75,
    "start_time": "2023-04-24T19:28:53.124Z"
   },
   {
    "duration": 23,
    "start_time": "2023-04-24T19:28:53.200Z"
   },
   {
    "duration": 11,
    "start_time": "2023-04-24T19:28:53.224Z"
   },
   {
    "duration": 11,
    "start_time": "2023-04-24T19:28:53.237Z"
   },
   {
    "duration": 67,
    "start_time": "2023-04-24T19:28:53.249Z"
   },
   {
    "duration": 370,
    "start_time": "2023-04-24T19:28:53.318Z"
   },
   {
    "duration": 17,
    "start_time": "2023-04-24T19:28:53.690Z"
   },
   {
    "duration": 252,
    "start_time": "2023-04-24T19:28:53.708Z"
   },
   {
    "duration": 0,
    "start_time": "2023-04-24T19:28:53.962Z"
   },
   {
    "duration": 0,
    "start_time": "2023-04-24T19:28:53.964Z"
   },
   {
    "duration": 0,
    "start_time": "2023-04-24T19:28:53.966Z"
   },
   {
    "duration": 0,
    "start_time": "2023-04-24T19:28:53.967Z"
   },
   {
    "duration": 0,
    "start_time": "2023-04-24T19:28:53.969Z"
   },
   {
    "duration": 0,
    "start_time": "2023-04-24T19:28:53.985Z"
   },
   {
    "duration": 0,
    "start_time": "2023-04-24T19:28:53.987Z"
   },
   {
    "duration": 1,
    "start_time": "2023-04-24T19:28:53.988Z"
   },
   {
    "duration": 0,
    "start_time": "2023-04-24T19:28:53.991Z"
   },
   {
    "duration": 358,
    "start_time": "2023-04-24T19:29:06.746Z"
   },
   {
    "duration": 531,
    "start_time": "2023-04-24T19:29:26.110Z"
   },
   {
    "duration": 423,
    "start_time": "2023-04-24T19:29:45.806Z"
   },
   {
    "duration": 3,
    "start_time": "2023-04-24T19:30:05.527Z"
   },
   {
    "duration": 36,
    "start_time": "2023-04-24T19:30:05.538Z"
   },
   {
    "duration": 16,
    "start_time": "2023-04-24T19:30:05.576Z"
   },
   {
    "duration": 4,
    "start_time": "2023-04-24T19:30:05.593Z"
   },
   {
    "duration": 72,
    "start_time": "2023-04-24T19:30:05.599Z"
   },
   {
    "duration": 29,
    "start_time": "2023-04-24T19:30:05.674Z"
   },
   {
    "duration": 11,
    "start_time": "2023-04-24T19:30:05.705Z"
   },
   {
    "duration": 490,
    "start_time": "2023-04-24T19:30:05.717Z"
   },
   {
    "duration": 82,
    "start_time": "2023-04-24T19:30:06.209Z"
   },
   {
    "duration": 27,
    "start_time": "2023-04-24T19:30:06.293Z"
   },
   {
    "duration": 28,
    "start_time": "2023-04-24T19:30:06.322Z"
   },
   {
    "duration": 33,
    "start_time": "2023-04-24T19:30:06.352Z"
   },
   {
    "duration": 6,
    "start_time": "2023-04-24T19:30:06.387Z"
   },
   {
    "duration": 29,
    "start_time": "2023-04-24T19:30:06.395Z"
   },
   {
    "duration": 34,
    "start_time": "2023-04-24T19:30:06.428Z"
   },
   {
    "duration": 1854,
    "start_time": "2023-04-24T19:30:06.464Z"
   },
   {
    "duration": 7,
    "start_time": "2023-04-24T19:30:08.320Z"
   },
   {
    "duration": 69,
    "start_time": "2023-04-24T19:30:08.329Z"
   },
   {
    "duration": 281,
    "start_time": "2023-04-24T19:30:08.400Z"
   },
   {
    "duration": 14,
    "start_time": "2023-04-24T19:30:08.686Z"
   },
   {
    "duration": 58,
    "start_time": "2023-04-24T19:30:08.702Z"
   },
   {
    "duration": 127,
    "start_time": "2023-04-24T19:30:08.762Z"
   },
   {
    "duration": 14,
    "start_time": "2023-04-24T19:30:08.891Z"
   },
   {
    "duration": 89,
    "start_time": "2023-04-24T19:30:08.906Z"
   },
   {
    "duration": 92,
    "start_time": "2023-04-24T19:30:08.997Z"
   },
   {
    "duration": 33,
    "start_time": "2023-04-24T19:30:09.090Z"
   },
   {
    "duration": 80,
    "start_time": "2023-04-24T19:30:09.124Z"
   },
   {
    "duration": 21,
    "start_time": "2023-04-24T19:30:09.206Z"
   },
   {
    "duration": 12,
    "start_time": "2023-04-24T19:30:09.229Z"
   },
   {
    "duration": 46,
    "start_time": "2023-04-24T19:30:09.243Z"
   },
   {
    "duration": 47,
    "start_time": "2023-04-24T19:30:09.291Z"
   },
   {
    "duration": 372,
    "start_time": "2023-04-24T19:30:09.340Z"
   },
   {
    "duration": 16,
    "start_time": "2023-04-24T19:30:09.714Z"
   },
   {
    "duration": 471,
    "start_time": "2023-04-24T19:30:09.732Z"
   },
   {
    "duration": 8,
    "start_time": "2023-04-24T19:30:10.204Z"
   },
   {
    "duration": 439,
    "start_time": "2023-04-24T19:30:10.213Z"
   },
   {
    "duration": 0,
    "start_time": "2023-04-24T19:30:10.653Z"
   },
   {
    "duration": 0,
    "start_time": "2023-04-24T19:30:10.655Z"
   },
   {
    "duration": 0,
    "start_time": "2023-04-24T19:30:10.656Z"
   },
   {
    "duration": 0,
    "start_time": "2023-04-24T19:30:10.657Z"
   },
   {
    "duration": 0,
    "start_time": "2023-04-24T19:30:10.659Z"
   },
   {
    "duration": 0,
    "start_time": "2023-04-24T19:30:10.660Z"
   },
   {
    "duration": 0,
    "start_time": "2023-04-24T19:30:10.661Z"
   },
   {
    "duration": 356,
    "start_time": "2023-04-24T19:30:25.314Z"
   },
   {
    "duration": 18,
    "start_time": "2023-04-24T19:30:30.343Z"
   },
   {
    "duration": 22,
    "start_time": "2023-04-24T19:30:35.990Z"
   },
   {
    "duration": 23,
    "start_time": "2023-04-24T19:30:36.488Z"
   },
   {
    "duration": 21,
    "start_time": "2023-04-24T19:30:41.847Z"
   },
   {
    "duration": 15,
    "start_time": "2023-04-24T19:30:48.613Z"
   },
   {
    "duration": 17,
    "start_time": "2023-04-24T19:30:52.755Z"
   },
   {
    "duration": 5,
    "start_time": "2023-04-24T19:30:59.471Z"
   },
   {
    "duration": 42,
    "start_time": "2023-04-24T19:31:05.000Z"
   },
   {
    "duration": 4,
    "start_time": "2023-04-24T19:33:36.260Z"
   },
   {
    "duration": 26,
    "start_time": "2023-04-24T19:33:36.269Z"
   },
   {
    "duration": 16,
    "start_time": "2023-04-24T19:33:36.297Z"
   },
   {
    "duration": 5,
    "start_time": "2023-04-24T19:33:36.314Z"
   },
   {
    "duration": 84,
    "start_time": "2023-04-24T19:33:36.321Z"
   },
   {
    "duration": 30,
    "start_time": "2023-04-24T19:33:36.407Z"
   },
   {
    "duration": 29,
    "start_time": "2023-04-24T19:33:36.439Z"
   },
   {
    "duration": 494,
    "start_time": "2023-04-24T19:33:36.470Z"
   },
   {
    "duration": 79,
    "start_time": "2023-04-24T19:33:36.966Z"
   },
   {
    "duration": 38,
    "start_time": "2023-04-24T19:33:37.047Z"
   },
   {
    "duration": 26,
    "start_time": "2023-04-24T19:33:37.087Z"
   },
   {
    "duration": 16,
    "start_time": "2023-04-24T19:33:37.115Z"
   },
   {
    "duration": 4,
    "start_time": "2023-04-24T19:33:37.133Z"
   },
   {
    "duration": 14,
    "start_time": "2023-04-24T19:33:37.139Z"
   },
   {
    "duration": 57,
    "start_time": "2023-04-24T19:33:37.156Z"
   },
   {
    "duration": 1887,
    "start_time": "2023-04-24T19:33:37.215Z"
   },
   {
    "duration": 5,
    "start_time": "2023-04-24T19:33:39.104Z"
   },
   {
    "duration": 74,
    "start_time": "2023-04-24T19:33:39.112Z"
   },
   {
    "duration": 286,
    "start_time": "2023-04-24T19:33:39.188Z"
   },
   {
    "duration": 21,
    "start_time": "2023-04-24T19:33:39.476Z"
   },
   {
    "duration": 35,
    "start_time": "2023-04-24T19:33:39.499Z"
   },
   {
    "duration": 161,
    "start_time": "2023-04-24T19:33:39.536Z"
   },
   {
    "duration": 14,
    "start_time": "2023-04-24T19:33:39.699Z"
   },
   {
    "duration": 100,
    "start_time": "2023-04-24T19:33:39.715Z"
   },
   {
    "duration": 84,
    "start_time": "2023-04-24T19:33:39.816Z"
   },
   {
    "duration": 41,
    "start_time": "2023-04-24T19:33:39.902Z"
   },
   {
    "duration": 92,
    "start_time": "2023-04-24T19:33:39.945Z"
   },
   {
    "duration": 48,
    "start_time": "2023-04-24T19:33:40.039Z"
   },
   {
    "duration": 13,
    "start_time": "2023-04-24T19:33:40.088Z"
   },
   {
    "duration": 18,
    "start_time": "2023-04-24T19:33:40.104Z"
   },
   {
    "duration": 69,
    "start_time": "2023-04-24T19:33:40.124Z"
   },
   {
    "duration": 410,
    "start_time": "2023-04-24T19:33:40.195Z"
   },
   {
    "duration": 24,
    "start_time": "2023-04-24T19:33:40.607Z"
   },
   {
    "duration": 461,
    "start_time": "2023-04-24T19:33:40.633Z"
   },
   {
    "duration": 8,
    "start_time": "2023-04-24T19:33:41.096Z"
   },
   {
    "duration": 363,
    "start_time": "2023-04-24T19:33:41.106Z"
   },
   {
    "duration": 28,
    "start_time": "2023-04-24T19:33:41.471Z"
   },
   {
    "duration": 22,
    "start_time": "2023-04-24T19:33:41.500Z"
   },
   {
    "duration": 19,
    "start_time": "2023-04-24T19:33:41.523Z"
   },
   {
    "duration": 53,
    "start_time": "2023-04-24T19:33:41.543Z"
   },
   {
    "duration": 21,
    "start_time": "2023-04-24T19:33:41.597Z"
   },
   {
    "duration": 7,
    "start_time": "2023-04-24T19:33:41.622Z"
   },
   {
    "duration": 74,
    "start_time": "2023-04-24T19:33:41.631Z"
   },
   {
    "duration": 6,
    "start_time": "2023-04-24T19:36:17.260Z"
   },
   {
    "duration": 40,
    "start_time": "2023-04-24T19:36:29.318Z"
   },
   {
    "duration": 10,
    "start_time": "2023-04-24T19:38:28.891Z"
   },
   {
    "duration": 29,
    "start_time": "2023-04-24T19:39:27.510Z"
   },
   {
    "duration": 20,
    "start_time": "2023-04-24T19:40:46.417Z"
   },
   {
    "duration": 31,
    "start_time": "2023-04-24T19:41:12.048Z"
   },
   {
    "duration": 496,
    "start_time": "2023-04-24T19:45:16.903Z"
   },
   {
    "duration": 1208,
    "start_time": "2023-04-24T19:49:51.208Z"
   },
   {
    "duration": 27,
    "start_time": "2023-04-24T19:49:52.418Z"
   },
   {
    "duration": 26,
    "start_time": "2023-04-24T19:49:52.447Z"
   },
   {
    "duration": 6,
    "start_time": "2023-04-24T19:49:52.476Z"
   },
   {
    "duration": 97,
    "start_time": "2023-04-24T19:49:52.490Z"
   },
   {
    "duration": 29,
    "start_time": "2023-04-24T19:49:52.589Z"
   },
   {
    "duration": 13,
    "start_time": "2023-04-24T19:49:52.620Z"
   },
   {
    "duration": 557,
    "start_time": "2023-04-24T19:49:52.634Z"
   },
   {
    "duration": 102,
    "start_time": "2023-04-24T19:49:53.193Z"
   },
   {
    "duration": 27,
    "start_time": "2023-04-24T19:49:53.299Z"
   },
   {
    "duration": 27,
    "start_time": "2023-04-24T19:49:53.327Z"
   },
   {
    "duration": 37,
    "start_time": "2023-04-24T19:49:53.355Z"
   },
   {
    "duration": 5,
    "start_time": "2023-04-24T19:49:53.393Z"
   },
   {
    "duration": 28,
    "start_time": "2023-04-24T19:49:53.400Z"
   },
   {
    "duration": 45,
    "start_time": "2023-04-24T19:49:53.429Z"
   },
   {
    "duration": 2016,
    "start_time": "2023-04-24T19:49:53.476Z"
   },
   {
    "duration": 6,
    "start_time": "2023-04-24T19:49:55.494Z"
   },
   {
    "duration": 46,
    "start_time": "2023-04-24T19:49:55.502Z"
   },
   {
    "duration": 299,
    "start_time": "2023-04-24T19:49:55.550Z"
   },
   {
    "duration": 13,
    "start_time": "2023-04-24T19:49:55.851Z"
   },
   {
    "duration": 38,
    "start_time": "2023-04-24T19:49:55.865Z"
   },
   {
    "duration": 158,
    "start_time": "2023-04-24T19:49:55.905Z"
   },
   {
    "duration": 25,
    "start_time": "2023-04-24T19:49:56.065Z"
   },
   {
    "duration": 95,
    "start_time": "2023-04-24T19:49:56.092Z"
   },
   {
    "duration": 96,
    "start_time": "2023-04-24T19:49:56.189Z"
   },
   {
    "duration": 37,
    "start_time": "2023-04-24T19:49:56.287Z"
   },
   {
    "duration": 108,
    "start_time": "2023-04-24T19:49:56.326Z"
   },
   {
    "duration": 49,
    "start_time": "2023-04-24T19:49:56.439Z"
   },
   {
    "duration": 14,
    "start_time": "2023-04-24T19:49:56.490Z"
   },
   {
    "duration": 16,
    "start_time": "2023-04-24T19:49:56.505Z"
   },
   {
    "duration": 81,
    "start_time": "2023-04-24T19:49:56.523Z"
   },
   {
    "duration": 418,
    "start_time": "2023-04-24T19:49:56.606Z"
   },
   {
    "duration": 17,
    "start_time": "2023-04-24T19:49:57.026Z"
   },
   {
    "duration": 541,
    "start_time": "2023-04-24T19:49:57.044Z"
   },
   {
    "duration": 7,
    "start_time": "2023-04-24T19:49:57.587Z"
   },
   {
    "duration": 365,
    "start_time": "2023-04-24T19:49:57.596Z"
   },
   {
    "duration": 29,
    "start_time": "2023-04-24T19:49:57.964Z"
   },
   {
    "duration": 22,
    "start_time": "2023-04-24T19:49:57.994Z"
   },
   {
    "duration": 192,
    "start_time": "2023-04-24T19:49:58.018Z"
   },
   {
    "duration": 23,
    "start_time": "2023-04-24T19:49:58.213Z"
   },
   {
    "duration": 67,
    "start_time": "2023-04-24T19:49:58.239Z"
   },
   {
    "duration": 10,
    "start_time": "2023-04-24T19:49:58.309Z"
   },
   {
    "duration": 93,
    "start_time": "2023-04-24T19:49:58.321Z"
   },
   {
    "duration": 1387,
    "start_time": "2023-04-25T09:05:26.356Z"
   },
   {
    "duration": 73,
    "start_time": "2023-04-25T09:05:27.745Z"
   },
   {
    "duration": 20,
    "start_time": "2023-04-25T09:05:27.819Z"
   },
   {
    "duration": 4,
    "start_time": "2023-04-25T09:05:27.841Z"
   },
   {
    "duration": 129,
    "start_time": "2023-04-25T09:05:27.847Z"
   },
   {
    "duration": 24,
    "start_time": "2023-04-25T09:05:27.977Z"
   },
   {
    "duration": 12,
    "start_time": "2023-04-25T09:05:28.002Z"
   },
   {
    "duration": 588,
    "start_time": "2023-04-25T09:05:28.015Z"
   },
   {
    "duration": 56,
    "start_time": "2023-04-25T09:05:28.605Z"
   },
   {
    "duration": 25,
    "start_time": "2023-04-25T09:05:28.664Z"
   },
   {
    "duration": 72,
    "start_time": "2023-04-25T09:05:28.691Z"
   },
   {
    "duration": 16,
    "start_time": "2023-04-25T09:05:28.765Z"
   },
   {
    "duration": 4,
    "start_time": "2023-04-25T09:05:28.783Z"
   },
   {
    "duration": 12,
    "start_time": "2023-04-25T09:05:28.788Z"
   },
   {
    "duration": 26,
    "start_time": "2023-04-25T09:05:28.801Z"
   },
   {
    "duration": 1881,
    "start_time": "2023-04-25T09:05:28.829Z"
   },
   {
    "duration": 5,
    "start_time": "2023-04-25T09:05:30.712Z"
   },
   {
    "duration": 101,
    "start_time": "2023-04-25T09:05:30.719Z"
   },
   {
    "duration": 224,
    "start_time": "2023-04-25T09:05:30.822Z"
   },
   {
    "duration": 13,
    "start_time": "2023-04-25T09:05:31.048Z"
   },
   {
    "duration": 48,
    "start_time": "2023-04-25T09:05:31.072Z"
   },
   {
    "duration": 138,
    "start_time": "2023-04-25T09:05:31.122Z"
   },
   {
    "duration": 18,
    "start_time": "2023-04-25T09:05:31.262Z"
   },
   {
    "duration": 82,
    "start_time": "2023-04-25T09:05:31.281Z"
   },
   {
    "duration": 53,
    "start_time": "2023-04-25T09:05:31.364Z"
   },
   {
    "duration": 27,
    "start_time": "2023-04-25T09:05:31.418Z"
   },
   {
    "duration": 89,
    "start_time": "2023-04-25T09:05:31.446Z"
   },
   {
    "duration": 29,
    "start_time": "2023-04-25T09:05:31.538Z"
   },
   {
    "duration": 52,
    "start_time": "2023-04-25T09:05:31.568Z"
   },
   {
    "duration": 51,
    "start_time": "2023-04-25T09:05:31.621Z"
   },
   {
    "duration": 71,
    "start_time": "2023-04-25T09:05:31.673Z"
   },
   {
    "duration": 263,
    "start_time": "2023-04-25T09:05:31.746Z"
   },
   {
    "duration": 15,
    "start_time": "2023-04-25T09:05:32.010Z"
   },
   {
    "duration": 426,
    "start_time": "2023-04-25T09:05:32.026Z"
   },
   {
    "duration": 19,
    "start_time": "2023-04-25T09:05:32.453Z"
   },
   {
    "duration": 288,
    "start_time": "2023-04-25T09:05:32.473Z"
   },
   {
    "duration": 18,
    "start_time": "2023-04-25T09:05:32.762Z"
   },
   {
    "duration": 21,
    "start_time": "2023-04-25T09:05:32.781Z"
   },
   {
    "duration": 191,
    "start_time": "2023-04-25T09:05:32.803Z"
   },
   {
    "duration": 17,
    "start_time": "2023-04-25T09:05:32.996Z"
   },
   {
    "duration": 60,
    "start_time": "2023-04-25T09:05:33.014Z"
   },
   {
    "duration": 7,
    "start_time": "2023-04-25T09:05:33.075Z"
   },
   {
    "duration": 95,
    "start_time": "2023-04-25T09:05:33.084Z"
   },
   {
    "duration": 41,
    "start_time": "2023-04-25T09:08:09.839Z"
   },
   {
    "duration": 41,
    "start_time": "2023-04-25T09:08:39.811Z"
   },
   {
    "duration": 35,
    "start_time": "2023-04-25T09:09:55.845Z"
   },
   {
    "duration": 33,
    "start_time": "2023-04-25T09:11:10.454Z"
   },
   {
    "duration": 64,
    "start_time": "2023-04-25T09:11:25.265Z"
   },
   {
    "duration": 45,
    "start_time": "2023-04-25T09:11:40.846Z"
   },
   {
    "duration": 45,
    "start_time": "2023-04-25T09:12:14.398Z"
   },
   {
    "duration": 37,
    "start_time": "2023-04-25T09:13:14.016Z"
   },
   {
    "duration": 38,
    "start_time": "2023-04-25T09:13:41.914Z"
   },
   {
    "duration": 33,
    "start_time": "2023-04-25T09:15:06.504Z"
   },
   {
    "duration": 37,
    "start_time": "2023-04-25T09:16:34.804Z"
   },
   {
    "duration": 743,
    "start_time": "2023-04-25T09:22:09.360Z"
   },
   {
    "duration": 933,
    "start_time": "2023-04-25T09:23:26.646Z"
   },
   {
    "duration": 67,
    "start_time": "2023-04-25T09:23:53.563Z"
   },
   {
    "duration": 44,
    "start_time": "2023-04-25T09:25:32.326Z"
   },
   {
    "duration": 50,
    "start_time": "2023-04-25T09:27:01.090Z"
   },
   {
    "duration": 83,
    "start_time": "2023-04-25T09:32:28.061Z"
   },
   {
    "duration": 22,
    "start_time": "2023-04-25T09:33:53.139Z"
   },
   {
    "duration": 16,
    "start_time": "2023-04-25T09:36:17.344Z"
   },
   {
    "duration": 20,
    "start_time": "2023-04-25T09:38:28.462Z"
   },
   {
    "duration": 24,
    "start_time": "2023-04-25T09:39:22.429Z"
   },
   {
    "duration": 161,
    "start_time": "2023-04-25T09:43:37.136Z"
   },
   {
    "duration": 178,
    "start_time": "2023-04-25T09:43:45.720Z"
   },
   {
    "duration": 164,
    "start_time": "2023-04-25T09:45:03.261Z"
   },
   {
    "duration": 159,
    "start_time": "2023-04-25T09:45:17.542Z"
   },
   {
    "duration": 203,
    "start_time": "2023-04-25T09:45:52.823Z"
   },
   {
    "duration": 165,
    "start_time": "2023-04-25T09:46:14.022Z"
   },
   {
    "duration": 165,
    "start_time": "2023-04-25T09:46:14.523Z"
   },
   {
    "duration": 267,
    "start_time": "2023-04-25T09:46:21.907Z"
   },
   {
    "duration": 294,
    "start_time": "2023-04-25T09:46:30.739Z"
   },
   {
    "duration": 1082,
    "start_time": "2023-04-25T09:46:48.100Z"
   },
   {
    "duration": 28,
    "start_time": "2023-04-25T09:46:49.183Z"
   },
   {
    "duration": 19,
    "start_time": "2023-04-25T09:46:49.212Z"
   },
   {
    "duration": 5,
    "start_time": "2023-04-25T09:46:49.232Z"
   },
   {
    "duration": 72,
    "start_time": "2023-04-25T09:46:49.238Z"
   },
   {
    "duration": 21,
    "start_time": "2023-04-25T09:46:49.312Z"
   },
   {
    "duration": 10,
    "start_time": "2023-04-25T09:46:49.335Z"
   },
   {
    "duration": 400,
    "start_time": "2023-04-25T09:46:49.347Z"
   },
   {
    "duration": 58,
    "start_time": "2023-04-25T09:46:49.749Z"
   },
   {
    "duration": 25,
    "start_time": "2023-04-25T09:46:49.809Z"
   },
   {
    "duration": 25,
    "start_time": "2023-04-25T09:46:49.835Z"
   },
   {
    "duration": 19,
    "start_time": "2023-04-25T09:46:49.861Z"
   },
   {
    "duration": 5,
    "start_time": "2023-04-25T09:46:49.881Z"
   },
   {
    "duration": 15,
    "start_time": "2023-04-25T09:46:49.888Z"
   },
   {
    "duration": 26,
    "start_time": "2023-04-25T09:46:49.904Z"
   },
   {
    "duration": 1804,
    "start_time": "2023-04-25T09:46:49.931Z"
   },
   {
    "duration": 5,
    "start_time": "2023-04-25T09:46:51.737Z"
   },
   {
    "duration": 62,
    "start_time": "2023-04-25T09:46:51.743Z"
   },
   {
    "duration": 208,
    "start_time": "2023-04-25T09:46:51.807Z"
   },
   {
    "duration": 11,
    "start_time": "2023-04-25T09:46:52.017Z"
   },
   {
    "duration": 31,
    "start_time": "2023-04-25T09:46:52.029Z"
   },
   {
    "duration": 122,
    "start_time": "2023-04-25T09:46:52.062Z"
   },
   {
    "duration": 12,
    "start_time": "2023-04-25T09:46:52.186Z"
   },
   {
    "duration": 77,
    "start_time": "2023-04-25T09:46:52.199Z"
   },
   {
    "duration": 53,
    "start_time": "2023-04-25T09:46:52.278Z"
   },
   {
    "duration": 39,
    "start_time": "2023-04-25T09:46:52.333Z"
   },
   {
    "duration": 340,
    "start_time": "2023-04-25T09:46:52.373Z"
   },
   {
    "duration": 0,
    "start_time": "2023-04-25T09:46:52.715Z"
   },
   {
    "duration": 0,
    "start_time": "2023-04-25T09:46:52.716Z"
   },
   {
    "duration": 0,
    "start_time": "2023-04-25T09:46:52.717Z"
   },
   {
    "duration": 0,
    "start_time": "2023-04-25T09:46:52.718Z"
   },
   {
    "duration": 0,
    "start_time": "2023-04-25T09:46:52.719Z"
   },
   {
    "duration": 0,
    "start_time": "2023-04-25T09:46:52.720Z"
   },
   {
    "duration": 0,
    "start_time": "2023-04-25T09:46:52.721Z"
   },
   {
    "duration": 0,
    "start_time": "2023-04-25T09:46:52.722Z"
   },
   {
    "duration": 0,
    "start_time": "2023-04-25T09:46:52.723Z"
   },
   {
    "duration": 0,
    "start_time": "2023-04-25T09:46:52.724Z"
   },
   {
    "duration": 0,
    "start_time": "2023-04-25T09:46:52.725Z"
   },
   {
    "duration": 0,
    "start_time": "2023-04-25T09:46:52.726Z"
   },
   {
    "duration": 0,
    "start_time": "2023-04-25T09:46:52.727Z"
   },
   {
    "duration": 0,
    "start_time": "2023-04-25T09:46:52.728Z"
   },
   {
    "duration": 0,
    "start_time": "2023-04-25T09:46:52.728Z"
   },
   {
    "duration": 0,
    "start_time": "2023-04-25T09:46:52.729Z"
   },
   {
    "duration": 256,
    "start_time": "2023-04-25T09:47:34.244Z"
   },
   {
    "duration": 367,
    "start_time": "2023-04-25T09:50:03.390Z"
   },
   {
    "duration": 450,
    "start_time": "2023-04-25T09:50:43.693Z"
   },
   {
    "duration": 405,
    "start_time": "2023-04-25T09:53:16.638Z"
   },
   {
    "duration": 411,
    "start_time": "2023-04-25T09:54:34.895Z"
   },
   {
    "duration": 419,
    "start_time": "2023-04-25T09:54:49.845Z"
   },
   {
    "duration": 498,
    "start_time": "2023-04-25T09:57:17.655Z"
   },
   {
    "duration": 454,
    "start_time": "2023-04-25T09:57:37.794Z"
   },
   {
    "duration": 492,
    "start_time": "2023-04-25T10:06:22.671Z"
   },
   {
    "duration": 519,
    "start_time": "2023-04-25T10:06:45.505Z"
   },
   {
    "duration": 507,
    "start_time": "2023-04-25T10:08:04.815Z"
   },
   {
    "duration": 485,
    "start_time": "2023-04-25T10:10:42.011Z"
   },
   {
    "duration": 491,
    "start_time": "2023-04-25T10:11:03.147Z"
   },
   {
    "duration": 486,
    "start_time": "2023-04-25T10:11:24.534Z"
   },
   {
    "duration": 516,
    "start_time": "2023-04-25T10:12:11.010Z"
   },
   {
    "duration": 551,
    "start_time": "2023-04-25T10:12:30.422Z"
   },
   {
    "duration": 452,
    "start_time": "2023-04-25T10:13:19.327Z"
   },
   {
    "duration": 458,
    "start_time": "2023-04-25T10:14:25.305Z"
   },
   {
    "duration": 475,
    "start_time": "2023-04-25T10:14:53.325Z"
   },
   {
    "duration": 457,
    "start_time": "2023-04-25T10:18:09.901Z"
   },
   {
    "duration": 529,
    "start_time": "2023-04-25T10:18:42.776Z"
   },
   {
    "duration": 19,
    "start_time": "2023-04-25T10:19:48.657Z"
   },
   {
    "duration": 11,
    "start_time": "2023-04-25T10:22:06.462Z"
   },
   {
    "duration": 18,
    "start_time": "2023-04-25T10:22:16.752Z"
   },
   {
    "duration": 26,
    "start_time": "2023-04-25T10:22:57.046Z"
   },
   {
    "duration": 32,
    "start_time": "2023-04-25T10:23:47.906Z"
   },
   {
    "duration": 30,
    "start_time": "2023-04-25T10:26:49.322Z"
   },
   {
    "duration": 32,
    "start_time": "2023-04-25T10:27:09.018Z"
   },
   {
    "duration": 38,
    "start_time": "2023-04-25T10:28:12.060Z"
   },
   {
    "duration": 89,
    "start_time": "2023-04-25T10:30:04.748Z"
   },
   {
    "duration": 1048,
    "start_time": "2023-04-25T10:32:00.326Z"
   },
   {
    "duration": 27,
    "start_time": "2023-04-25T10:32:01.376Z"
   },
   {
    "duration": 48,
    "start_time": "2023-04-25T10:32:01.405Z"
   },
   {
    "duration": 105,
    "start_time": "2023-04-25T10:32:01.454Z"
   },
   {
    "duration": 85,
    "start_time": "2023-04-25T10:32:01.561Z"
   },
   {
    "duration": 20,
    "start_time": "2023-04-25T10:32:01.647Z"
   },
   {
    "duration": 90,
    "start_time": "2023-04-25T10:32:01.669Z"
   },
   {
    "duration": 423,
    "start_time": "2023-04-25T10:32:01.760Z"
   },
   {
    "duration": 56,
    "start_time": "2023-04-25T10:32:02.185Z"
   },
   {
    "duration": 33,
    "start_time": "2023-04-25T10:32:02.242Z"
   },
   {
    "duration": 45,
    "start_time": "2023-04-25T10:32:02.277Z"
   },
   {
    "duration": 30,
    "start_time": "2023-04-25T10:32:02.323Z"
   },
   {
    "duration": 48,
    "start_time": "2023-04-25T10:32:02.354Z"
   },
   {
    "duration": 31,
    "start_time": "2023-04-25T10:32:02.405Z"
   },
   {
    "duration": 86,
    "start_time": "2023-04-25T10:32:02.438Z"
   },
   {
    "duration": 1769,
    "start_time": "2023-04-25T10:32:02.526Z"
   },
   {
    "duration": 5,
    "start_time": "2023-04-25T10:32:04.297Z"
   },
   {
    "duration": 36,
    "start_time": "2023-04-25T10:32:04.303Z"
   },
   {
    "duration": 217,
    "start_time": "2023-04-25T10:32:04.341Z"
   },
   {
    "duration": 16,
    "start_time": "2023-04-25T10:32:04.560Z"
   },
   {
    "duration": 16,
    "start_time": "2023-04-25T10:32:04.578Z"
   },
   {
    "duration": 133,
    "start_time": "2023-04-25T10:32:04.596Z"
   },
   {
    "duration": 12,
    "start_time": "2023-04-25T10:32:04.730Z"
   },
   {
    "duration": 75,
    "start_time": "2023-04-25T10:32:04.744Z"
   },
   {
    "duration": 59,
    "start_time": "2023-04-25T10:32:04.820Z"
   },
   {
    "duration": 23,
    "start_time": "2023-04-25T10:32:04.880Z"
   },
   {
    "duration": 450,
    "start_time": "2023-04-25T10:32:04.904Z"
   },
   {
    "duration": 20,
    "start_time": "2023-04-25T10:32:05.356Z"
   },
   {
    "duration": 30,
    "start_time": "2023-04-25T10:32:05.377Z"
   },
   {
    "duration": 88,
    "start_time": "2023-04-25T10:32:05.409Z"
   },
   {
    "duration": 302,
    "start_time": "2023-04-25T10:32:05.498Z"
   },
   {
    "duration": 14,
    "start_time": "2023-04-25T10:32:05.801Z"
   },
   {
    "duration": 440,
    "start_time": "2023-04-25T10:32:05.816Z"
   },
   {
    "duration": 16,
    "start_time": "2023-04-25T10:32:06.258Z"
   },
   {
    "duration": 285,
    "start_time": "2023-04-25T10:32:06.276Z"
   },
   {
    "duration": 15,
    "start_time": "2023-04-25T10:32:06.563Z"
   },
   {
    "duration": 22,
    "start_time": "2023-04-25T10:32:06.580Z"
   },
   {
    "duration": 165,
    "start_time": "2023-04-25T10:32:06.604Z"
   },
   {
    "duration": 13,
    "start_time": "2023-04-25T10:32:06.771Z"
   },
   {
    "duration": 15,
    "start_time": "2023-04-25T10:32:06.785Z"
   },
   {
    "duration": 12,
    "start_time": "2023-04-25T10:32:06.803Z"
   },
   {
    "duration": 76,
    "start_time": "2023-04-25T10:32:06.817Z"
   },
   {
    "duration": 106,
    "start_time": "2023-04-25T10:47:31.321Z"
   },
   {
    "duration": 93,
    "start_time": "2023-04-25T10:52:28.623Z"
   },
   {
    "duration": 77,
    "start_time": "2023-04-25T10:54:20.452Z"
   },
   {
    "duration": 56,
    "start_time": "2023-04-25T10:55:33.668Z"
   },
   {
    "duration": 1232,
    "start_time": "2023-04-25T10:59:44.086Z"
   },
   {
    "duration": 33,
    "start_time": "2023-04-25T10:59:45.320Z"
   },
   {
    "duration": 20,
    "start_time": "2023-04-25T10:59:45.354Z"
   },
   {
    "duration": 4,
    "start_time": "2023-04-25T10:59:45.376Z"
   },
   {
    "duration": 72,
    "start_time": "2023-04-25T10:59:45.382Z"
   },
   {
    "duration": 21,
    "start_time": "2023-04-25T10:59:45.456Z"
   },
   {
    "duration": 13,
    "start_time": "2023-04-25T10:59:45.479Z"
   },
   {
    "duration": 414,
    "start_time": "2023-04-25T10:59:45.494Z"
   },
   {
    "duration": 75,
    "start_time": "2023-04-25T10:59:45.910Z"
   },
   {
    "duration": 25,
    "start_time": "2023-04-25T10:59:45.987Z"
   },
   {
    "duration": 34,
    "start_time": "2023-04-25T10:59:46.014Z"
   },
   {
    "duration": 17,
    "start_time": "2023-04-25T10:59:46.049Z"
   },
   {
    "duration": 5,
    "start_time": "2023-04-25T10:59:46.071Z"
   },
   {
    "duration": 21,
    "start_time": "2023-04-25T10:59:46.078Z"
   },
   {
    "duration": 58,
    "start_time": "2023-04-25T10:59:46.101Z"
   },
   {
    "duration": 1832,
    "start_time": "2023-04-25T10:59:46.161Z"
   },
   {
    "duration": 6,
    "start_time": "2023-04-25T10:59:47.994Z"
   },
   {
    "duration": 61,
    "start_time": "2023-04-25T10:59:48.001Z"
   },
   {
    "duration": 210,
    "start_time": "2023-04-25T10:59:48.064Z"
   },
   {
    "duration": 11,
    "start_time": "2023-04-25T10:59:48.276Z"
   },
   {
    "duration": 56,
    "start_time": "2023-04-25T10:59:48.288Z"
   },
   {
    "duration": 200,
    "start_time": "2023-04-25T10:59:48.345Z"
   },
   {
    "duration": 12,
    "start_time": "2023-04-25T10:59:48.547Z"
   },
   {
    "duration": 76,
    "start_time": "2023-04-25T10:59:48.561Z"
   },
   {
    "duration": 60,
    "start_time": "2023-04-25T10:59:48.639Z"
   },
   {
    "duration": 23,
    "start_time": "2023-04-25T10:59:48.701Z"
   },
   {
    "duration": 517,
    "start_time": "2023-04-25T10:59:48.726Z"
   },
   {
    "duration": 26,
    "start_time": "2023-04-25T10:59:49.247Z"
   },
   {
    "duration": 34,
    "start_time": "2023-04-25T10:59:49.275Z"
   },
   {
    "duration": 47,
    "start_time": "2023-04-25T10:59:49.311Z"
   },
   {
    "duration": 266,
    "start_time": "2023-04-25T10:59:49.360Z"
   },
   {
    "duration": 11,
    "start_time": "2023-04-25T10:59:49.628Z"
   },
   {
    "duration": 410,
    "start_time": "2023-04-25T10:59:49.641Z"
   },
   {
    "duration": 5,
    "start_time": "2023-04-25T10:59:50.053Z"
   },
   {
    "duration": 309,
    "start_time": "2023-04-25T10:59:50.072Z"
   },
   {
    "duration": 15,
    "start_time": "2023-04-25T10:59:50.382Z"
   },
   {
    "duration": 26,
    "start_time": "2023-04-25T10:59:50.399Z"
   },
   {
    "duration": 192,
    "start_time": "2023-04-25T10:59:50.426Z"
   },
   {
    "duration": 19,
    "start_time": "2023-04-25T10:59:50.620Z"
   },
   {
    "duration": 44,
    "start_time": "2023-04-25T10:59:50.640Z"
   },
   {
    "duration": 15,
    "start_time": "2023-04-25T10:59:50.686Z"
   },
   {
    "duration": 77,
    "start_time": "2023-04-25T10:59:50.702Z"
   },
   {
    "duration": 71,
    "start_time": "2023-04-25T11:03:19.993Z"
   },
   {
    "duration": 26,
    "start_time": "2023-04-25T11:05:15.039Z"
   },
   {
    "duration": 24,
    "start_time": "2023-04-25T11:06:31.735Z"
   },
   {
    "duration": 21,
    "start_time": "2023-04-25T11:07:18.302Z"
   },
   {
    "duration": 25,
    "start_time": "2023-04-25T11:07:43.180Z"
   },
   {
    "duration": 155,
    "start_time": "2023-04-25T11:13:31.769Z"
   },
   {
    "duration": 34,
    "start_time": "2023-04-25T11:14:00.162Z"
   },
   {
    "duration": 33,
    "start_time": "2023-04-25T11:14:34.596Z"
   },
   {
    "duration": 39,
    "start_time": "2023-04-25T11:18:43.152Z"
   },
   {
    "duration": 315,
    "start_time": "2023-04-25T11:19:40.863Z"
   },
   {
    "duration": 269,
    "start_time": "2023-04-25T11:21:36.550Z"
   },
   {
    "duration": 281,
    "start_time": "2023-04-25T11:24:20.336Z"
   },
   {
    "duration": 1036,
    "start_time": "2023-04-25T11:25:57.919Z"
   },
   {
    "duration": 28,
    "start_time": "2023-04-25T11:25:58.957Z"
   },
   {
    "duration": 19,
    "start_time": "2023-04-25T11:25:58.986Z"
   },
   {
    "duration": 4,
    "start_time": "2023-04-25T11:25:59.007Z"
   },
   {
    "duration": 70,
    "start_time": "2023-04-25T11:25:59.012Z"
   },
   {
    "duration": 21,
    "start_time": "2023-04-25T11:25:59.084Z"
   },
   {
    "duration": 11,
    "start_time": "2023-04-25T11:25:59.106Z"
   },
   {
    "duration": 374,
    "start_time": "2023-04-25T11:25:59.118Z"
   },
   {
    "duration": 54,
    "start_time": "2023-04-25T11:25:59.493Z"
   },
   {
    "duration": 33,
    "start_time": "2023-04-25T11:25:59.549Z"
   },
   {
    "duration": 24,
    "start_time": "2023-04-25T11:25:59.584Z"
   },
   {
    "duration": 14,
    "start_time": "2023-04-25T11:25:59.610Z"
   },
   {
    "duration": 8,
    "start_time": "2023-04-25T11:25:59.625Z"
   },
   {
    "duration": 12,
    "start_time": "2023-04-25T11:25:59.634Z"
   },
   {
    "duration": 38,
    "start_time": "2023-04-25T11:25:59.647Z"
   },
   {
    "duration": 1798,
    "start_time": "2023-04-25T11:25:59.687Z"
   },
   {
    "duration": 5,
    "start_time": "2023-04-25T11:26:01.486Z"
   },
   {
    "duration": 104,
    "start_time": "2023-04-25T11:26:01.492Z"
   },
   {
    "duration": 237,
    "start_time": "2023-04-25T11:26:01.598Z"
   },
   {
    "duration": 12,
    "start_time": "2023-04-25T11:26:01.837Z"
   },
   {
    "duration": 75,
    "start_time": "2023-04-25T11:26:01.851Z"
   },
   {
    "duration": 247,
    "start_time": "2023-04-25T11:26:01.928Z"
   },
   {
    "duration": 12,
    "start_time": "2023-04-25T11:26:02.177Z"
   },
   {
    "duration": 72,
    "start_time": "2023-04-25T11:26:02.190Z"
   },
   {
    "duration": 57,
    "start_time": "2023-04-25T11:26:02.263Z"
   },
   {
    "duration": 25,
    "start_time": "2023-04-25T11:26:02.322Z"
   },
   {
    "duration": 453,
    "start_time": "2023-04-25T11:26:02.348Z"
   },
   {
    "duration": 10,
    "start_time": "2023-04-25T11:26:02.804Z"
   },
   {
    "duration": 28,
    "start_time": "2023-04-25T11:26:02.815Z"
   },
   {
    "duration": 44,
    "start_time": "2023-04-25T11:26:02.844Z"
   },
   {
    "duration": 315,
    "start_time": "2023-04-25T11:26:02.890Z"
   },
   {
    "duration": 11,
    "start_time": "2023-04-25T11:26:03.207Z"
   },
   {
    "duration": 405,
    "start_time": "2023-04-25T11:26:03.220Z"
   },
   {
    "duration": 5,
    "start_time": "2023-04-25T11:26:03.627Z"
   },
   {
    "duration": 294,
    "start_time": "2023-04-25T11:26:03.633Z"
   },
   {
    "duration": 18,
    "start_time": "2023-04-25T11:26:03.928Z"
   },
   {
    "duration": 29,
    "start_time": "2023-04-25T11:26:03.947Z"
   },
   {
    "duration": 144,
    "start_time": "2023-04-25T11:26:03.977Z"
   },
   {
    "duration": 13,
    "start_time": "2023-04-25T11:26:04.122Z"
   },
   {
    "duration": 37,
    "start_time": "2023-04-25T11:26:04.136Z"
   },
   {
    "duration": 6,
    "start_time": "2023-04-25T11:26:04.174Z"
   },
   {
    "duration": 27,
    "start_time": "2023-04-25T11:26:04.182Z"
   },
   {
    "duration": 304,
    "start_time": "2023-04-25T11:34:53.028Z"
   },
   {
    "duration": 290,
    "start_time": "2023-04-25T11:35:48.587Z"
   },
   {
    "duration": 521,
    "start_time": "2023-04-25T11:37:06.112Z"
   },
   {
    "duration": 1052,
    "start_time": "2023-04-25T11:37:35.130Z"
   },
   {
    "duration": 27,
    "start_time": "2023-04-25T11:37:36.184Z"
   },
   {
    "duration": 22,
    "start_time": "2023-04-25T11:37:36.212Z"
   },
   {
    "duration": 3,
    "start_time": "2023-04-25T11:37:36.236Z"
   },
   {
    "duration": 68,
    "start_time": "2023-04-25T11:37:36.240Z"
   },
   {
    "duration": 19,
    "start_time": "2023-04-25T11:37:36.310Z"
   },
   {
    "duration": 16,
    "start_time": "2023-04-25T11:37:36.331Z"
   },
   {
    "duration": 392,
    "start_time": "2023-04-25T11:37:36.348Z"
   },
   {
    "duration": 62,
    "start_time": "2023-04-25T11:37:36.741Z"
   },
   {
    "duration": 25,
    "start_time": "2023-04-25T11:37:36.805Z"
   },
   {
    "duration": 37,
    "start_time": "2023-04-25T11:37:36.831Z"
   },
   {
    "duration": 13,
    "start_time": "2023-04-25T11:37:36.869Z"
   },
   {
    "duration": 11,
    "start_time": "2023-04-25T11:37:36.883Z"
   },
   {
    "duration": 35,
    "start_time": "2023-04-25T11:37:36.895Z"
   },
   {
    "duration": 38,
    "start_time": "2023-04-25T11:37:36.932Z"
   },
   {
    "duration": 1761,
    "start_time": "2023-04-25T11:37:36.971Z"
   },
   {
    "duration": 5,
    "start_time": "2023-04-25T11:37:38.733Z"
   },
   {
    "duration": 50,
    "start_time": "2023-04-25T11:37:38.740Z"
   },
   {
    "duration": 204,
    "start_time": "2023-04-25T11:37:38.792Z"
   },
   {
    "duration": 10,
    "start_time": "2023-04-25T11:37:38.997Z"
   },
   {
    "duration": 29,
    "start_time": "2023-04-25T11:37:39.008Z"
   },
   {
    "duration": 129,
    "start_time": "2023-04-25T11:37:39.038Z"
   },
   {
    "duration": 12,
    "start_time": "2023-04-25T11:37:39.172Z"
   },
   {
    "duration": 89,
    "start_time": "2023-04-25T11:37:39.185Z"
   },
   {
    "duration": 128,
    "start_time": "2023-04-25T11:37:39.276Z"
   },
   {
    "duration": 25,
    "start_time": "2023-04-25T11:37:39.405Z"
   },
   {
    "duration": 464,
    "start_time": "2023-04-25T11:37:39.431Z"
   },
   {
    "duration": 11,
    "start_time": "2023-04-25T11:37:39.898Z"
   },
   {
    "duration": 25,
    "start_time": "2023-04-25T11:37:39.911Z"
   },
   {
    "duration": 49,
    "start_time": "2023-04-25T11:37:39.938Z"
   },
   {
    "duration": 336,
    "start_time": "2023-04-25T11:37:39.989Z"
   },
   {
    "duration": 14,
    "start_time": "2023-04-25T11:37:40.327Z"
   },
   {
    "duration": 448,
    "start_time": "2023-04-25T11:37:40.342Z"
   },
   {
    "duration": 6,
    "start_time": "2023-04-25T11:37:40.792Z"
   },
   {
    "duration": 310,
    "start_time": "2023-04-25T11:37:40.799Z"
   },
   {
    "duration": 15,
    "start_time": "2023-04-25T11:37:41.111Z"
   },
   {
    "duration": 19,
    "start_time": "2023-04-25T11:37:41.128Z"
   },
   {
    "duration": 189,
    "start_time": "2023-04-25T11:37:41.148Z"
   },
   {
    "duration": 16,
    "start_time": "2023-04-25T11:37:41.338Z"
   },
   {
    "duration": 27,
    "start_time": "2023-04-25T11:37:41.356Z"
   },
   {
    "duration": 10,
    "start_time": "2023-04-25T11:37:41.385Z"
   },
   {
    "duration": 85,
    "start_time": "2023-04-25T11:37:41.396Z"
   },
   {
    "duration": 315,
    "start_time": "2023-04-25T11:38:53.102Z"
   },
   {
    "duration": 446,
    "start_time": "2023-04-25T11:42:10.187Z"
   },
   {
    "duration": 450,
    "start_time": "2023-04-25T11:42:40.542Z"
   },
   {
    "duration": 298,
    "start_time": "2023-04-25T11:44:05.429Z"
   },
   {
    "duration": 307,
    "start_time": "2023-04-25T11:44:07.166Z"
   },
   {
    "duration": 342,
    "start_time": "2023-04-25T11:45:48.846Z"
   },
   {
    "duration": 82,
    "start_time": "2023-04-25T11:50:29.642Z"
   },
   {
    "duration": 1088,
    "start_time": "2023-04-25T11:51:27.243Z"
   },
   {
    "duration": 27,
    "start_time": "2023-04-25T11:51:28.332Z"
   },
   {
    "duration": 17,
    "start_time": "2023-04-25T11:51:28.360Z"
   },
   {
    "duration": 4,
    "start_time": "2023-04-25T11:51:28.379Z"
   },
   {
    "duration": 62,
    "start_time": "2023-04-25T11:51:28.384Z"
   },
   {
    "duration": 19,
    "start_time": "2023-04-25T11:51:28.448Z"
   },
   {
    "duration": 10,
    "start_time": "2023-04-25T11:51:28.471Z"
   },
   {
    "duration": 396,
    "start_time": "2023-04-25T11:51:28.482Z"
   },
   {
    "duration": 64,
    "start_time": "2023-04-25T11:51:28.879Z"
   },
   {
    "duration": 34,
    "start_time": "2023-04-25T11:51:28.946Z"
   },
   {
    "duration": 24,
    "start_time": "2023-04-25T11:51:28.981Z"
   },
   {
    "duration": 14,
    "start_time": "2023-04-25T11:51:29.006Z"
   },
   {
    "duration": 4,
    "start_time": "2023-04-25T11:51:29.022Z"
   },
   {
    "duration": 11,
    "start_time": "2023-04-25T11:51:29.027Z"
   },
   {
    "duration": 41,
    "start_time": "2023-04-25T11:51:29.039Z"
   },
   {
    "duration": 1832,
    "start_time": "2023-04-25T11:51:29.081Z"
   },
   {
    "duration": 5,
    "start_time": "2023-04-25T11:51:30.914Z"
   },
   {
    "duration": 93,
    "start_time": "2023-04-25T11:51:30.920Z"
   },
   {
    "duration": 267,
    "start_time": "2023-04-25T11:51:31.015Z"
   },
   {
    "duration": 10,
    "start_time": "2023-04-25T11:51:31.284Z"
   },
   {
    "duration": 61,
    "start_time": "2023-04-25T11:51:31.295Z"
   },
   {
    "duration": 159,
    "start_time": "2023-04-25T11:51:31.357Z"
   },
   {
    "duration": 14,
    "start_time": "2023-04-25T11:51:31.517Z"
   },
   {
    "duration": 111,
    "start_time": "2023-04-25T11:51:31.532Z"
   },
   {
    "duration": 56,
    "start_time": "2023-04-25T11:51:31.644Z"
   },
   {
    "duration": 134,
    "start_time": "2023-04-25T11:51:31.701Z"
   },
   {
    "duration": 282,
    "start_time": "2023-04-25T11:51:31.836Z"
   },
   {
    "duration": 0,
    "start_time": "2023-04-25T11:51:32.120Z"
   },
   {
    "duration": 0,
    "start_time": "2023-04-25T11:51:32.121Z"
   },
   {
    "duration": 0,
    "start_time": "2023-04-25T11:51:32.122Z"
   },
   {
    "duration": 0,
    "start_time": "2023-04-25T11:51:32.123Z"
   },
   {
    "duration": 0,
    "start_time": "2023-04-25T11:51:32.124Z"
   },
   {
    "duration": 0,
    "start_time": "2023-04-25T11:51:32.125Z"
   },
   {
    "duration": 0,
    "start_time": "2023-04-25T11:51:32.126Z"
   },
   {
    "duration": 0,
    "start_time": "2023-04-25T11:51:32.127Z"
   },
   {
    "duration": 0,
    "start_time": "2023-04-25T11:51:32.127Z"
   },
   {
    "duration": 0,
    "start_time": "2023-04-25T11:51:32.129Z"
   },
   {
    "duration": 0,
    "start_time": "2023-04-25T11:51:32.129Z"
   },
   {
    "duration": 0,
    "start_time": "2023-04-25T11:51:32.130Z"
   },
   {
    "duration": 0,
    "start_time": "2023-04-25T11:51:32.131Z"
   },
   {
    "duration": 0,
    "start_time": "2023-04-25T11:51:32.132Z"
   },
   {
    "duration": 0,
    "start_time": "2023-04-25T11:51:32.133Z"
   },
   {
    "duration": 52,
    "start_time": "2023-04-25T11:52:57.409Z"
   },
   {
    "duration": 276,
    "start_time": "2023-04-25T11:55:24.633Z"
   },
   {
    "duration": 281,
    "start_time": "2023-04-25T11:55:44.114Z"
   },
   {
    "duration": 287,
    "start_time": "2023-04-25T11:58:30.141Z"
   },
   {
    "duration": 241,
    "start_time": "2023-04-25T12:07:14.657Z"
   },
   {
    "duration": 277,
    "start_time": "2023-04-25T12:14:24.813Z"
   },
   {
    "duration": 275,
    "start_time": "2023-04-25T12:15:29.735Z"
   },
   {
    "duration": 292,
    "start_time": "2023-04-25T12:23:50.895Z"
   },
   {
    "duration": 241,
    "start_time": "2023-04-25T12:37:17.702Z"
   },
   {
    "duration": 271,
    "start_time": "2023-04-25T12:38:14.119Z"
   },
   {
    "duration": 235,
    "start_time": "2023-04-25T12:47:10.639Z"
   },
   {
    "duration": 243,
    "start_time": "2023-04-25T12:53:37.137Z"
   },
   {
    "duration": 15,
    "start_time": "2023-04-25T12:57:29.311Z"
   },
   {
    "duration": 6,
    "start_time": "2023-04-25T12:58:19.991Z"
   },
   {
    "duration": 67,
    "start_time": "2023-04-25T12:58:19.999Z"
   },
   {
    "duration": 19,
    "start_time": "2023-04-25T12:58:20.067Z"
   },
   {
    "duration": 17,
    "start_time": "2023-04-25T12:58:20.088Z"
   },
   {
    "duration": 83,
    "start_time": "2023-04-25T12:58:20.107Z"
   },
   {
    "duration": 22,
    "start_time": "2023-04-25T12:58:20.192Z"
   },
   {
    "duration": 19,
    "start_time": "2023-04-25T12:58:20.215Z"
   },
   {
    "duration": 397,
    "start_time": "2023-04-25T12:58:20.235Z"
   },
   {
    "duration": 63,
    "start_time": "2023-04-25T12:58:20.634Z"
   },
   {
    "duration": 32,
    "start_time": "2023-04-25T12:58:20.700Z"
   },
   {
    "duration": 36,
    "start_time": "2023-04-25T12:58:20.733Z"
   },
   {
    "duration": 22,
    "start_time": "2023-04-25T12:58:20.771Z"
   },
   {
    "duration": 17,
    "start_time": "2023-04-25T12:58:20.795Z"
   },
   {
    "duration": 41,
    "start_time": "2023-04-25T12:58:20.814Z"
   },
   {
    "duration": 67,
    "start_time": "2023-04-25T12:58:20.857Z"
   },
   {
    "duration": 2152,
    "start_time": "2023-04-25T12:58:20.926Z"
   },
   {
    "duration": 21,
    "start_time": "2023-04-25T12:58:23.080Z"
   },
   {
    "duration": 39,
    "start_time": "2023-04-25T12:58:23.103Z"
   },
   {
    "duration": 250,
    "start_time": "2023-04-25T12:58:23.144Z"
   },
   {
    "duration": 14,
    "start_time": "2023-04-25T12:58:23.396Z"
   },
   {
    "duration": 11,
    "start_time": "2023-04-25T12:58:23.412Z"
   },
   {
    "duration": 155,
    "start_time": "2023-04-25T12:58:23.425Z"
   },
   {
    "duration": 16,
    "start_time": "2023-04-25T12:58:23.582Z"
   },
   {
    "duration": 77,
    "start_time": "2023-04-25T12:58:23.599Z"
   },
   {
    "duration": 69,
    "start_time": "2023-04-25T12:58:23.678Z"
   },
   {
    "duration": 51,
    "start_time": "2023-04-25T12:58:23.749Z"
   },
   {
    "duration": 75,
    "start_time": "2023-04-25T12:58:23.802Z"
   },
   {
    "duration": 18,
    "start_time": "2023-04-25T12:58:23.884Z"
   },
   {
    "duration": 18,
    "start_time": "2023-04-25T12:58:23.904Z"
   },
   {
    "duration": 71,
    "start_time": "2023-04-25T12:58:23.923Z"
   },
   {
    "duration": 306,
    "start_time": "2023-04-25T12:58:23.996Z"
   },
   {
    "duration": 13,
    "start_time": "2023-04-25T12:58:24.303Z"
   },
   {
    "duration": 562,
    "start_time": "2023-04-25T12:58:24.318Z"
   },
   {
    "duration": 8,
    "start_time": "2023-04-25T12:58:24.882Z"
   },
   {
    "duration": 357,
    "start_time": "2023-04-25T12:58:24.893Z"
   },
   {
    "duration": 24,
    "start_time": "2023-04-25T12:58:25.252Z"
   },
   {
    "duration": 30,
    "start_time": "2023-04-25T12:58:25.278Z"
   },
   {
    "duration": 292,
    "start_time": "2023-04-25T12:58:25.309Z"
   },
   {
    "duration": 15,
    "start_time": "2023-04-25T12:58:25.603Z"
   },
   {
    "duration": 14,
    "start_time": "2023-04-25T12:58:25.619Z"
   },
   {
    "duration": 43,
    "start_time": "2023-04-25T12:58:25.635Z"
   },
   {
    "duration": 119,
    "start_time": "2023-04-25T12:58:25.680Z"
   },
   {
    "duration": 1808,
    "start_time": "2023-04-25T13:13:22.488Z"
   },
   {
    "duration": 14,
    "start_time": "2023-04-25T13:13:58.061Z"
   },
   {
    "duration": 17,
    "start_time": "2023-04-25T13:15:15.748Z"
   },
   {
    "duration": 27,
    "start_time": "2023-04-25T13:16:46.840Z"
   },
   {
    "duration": 1100,
    "start_time": "2023-04-25T13:17:27.016Z"
   },
   {
    "duration": 27,
    "start_time": "2023-04-25T13:17:28.117Z"
   },
   {
    "duration": 18,
    "start_time": "2023-04-25T13:17:28.146Z"
   },
   {
    "duration": 9,
    "start_time": "2023-04-25T13:17:28.166Z"
   },
   {
    "duration": 80,
    "start_time": "2023-04-25T13:17:28.176Z"
   },
   {
    "duration": 22,
    "start_time": "2023-04-25T13:17:28.258Z"
   },
   {
    "duration": 11,
    "start_time": "2023-04-25T13:17:28.281Z"
   },
   {
    "duration": 436,
    "start_time": "2023-04-25T13:17:28.293Z"
   },
   {
    "duration": 75,
    "start_time": "2023-04-25T13:17:28.730Z"
   },
   {
    "duration": 29,
    "start_time": "2023-04-25T13:17:28.808Z"
   },
   {
    "duration": 39,
    "start_time": "2023-04-25T13:17:28.839Z"
   },
   {
    "duration": 20,
    "start_time": "2023-04-25T13:17:28.880Z"
   },
   {
    "duration": 17,
    "start_time": "2023-04-25T13:17:28.902Z"
   },
   {
    "duration": 24,
    "start_time": "2023-04-25T13:17:28.921Z"
   },
   {
    "duration": 61,
    "start_time": "2023-04-25T13:17:28.947Z"
   },
   {
    "duration": 1945,
    "start_time": "2023-04-25T13:17:29.010Z"
   },
   {
    "duration": 5,
    "start_time": "2023-04-25T13:17:30.957Z"
   },
   {
    "duration": 69,
    "start_time": "2023-04-25T13:17:30.972Z"
   },
   {
    "duration": 220,
    "start_time": "2023-04-25T13:17:31.042Z"
   },
   {
    "duration": 21,
    "start_time": "2023-04-25T13:17:31.264Z"
   },
   {
    "duration": 36,
    "start_time": "2023-04-25T13:17:31.287Z"
   },
   {
    "duration": 194,
    "start_time": "2023-04-25T13:17:31.324Z"
   },
   {
    "duration": 14,
    "start_time": "2023-04-25T13:17:31.519Z"
   },
   {
    "duration": 168,
    "start_time": "2023-04-25T13:17:31.535Z"
   },
   {
    "duration": 173,
    "start_time": "2023-04-25T13:17:31.704Z"
   },
   {
    "duration": 23,
    "start_time": "2023-04-25T13:17:31.878Z"
   },
   {
    "duration": 82,
    "start_time": "2023-04-25T13:17:31.902Z"
   },
   {
    "duration": 10,
    "start_time": "2023-04-25T13:17:31.986Z"
   },
   {
    "duration": 52,
    "start_time": "2023-04-25T13:17:31.997Z"
   },
   {
    "duration": 59,
    "start_time": "2023-04-25T13:17:32.051Z"
   },
   {
    "duration": 265,
    "start_time": "2023-04-25T13:17:32.112Z"
   },
   {
    "duration": 10,
    "start_time": "2023-04-25T13:17:32.379Z"
   },
   {
    "duration": 373,
    "start_time": "2023-04-25T13:17:32.391Z"
   },
   {
    "duration": 6,
    "start_time": "2023-04-25T13:17:32.771Z"
   },
   {
    "duration": 281,
    "start_time": "2023-04-25T13:17:32.779Z"
   },
   {
    "duration": 24,
    "start_time": "2023-04-25T13:17:33.061Z"
   },
   {
    "duration": 21,
    "start_time": "2023-04-25T13:17:33.086Z"
   },
   {
    "duration": 148,
    "start_time": "2023-04-25T13:17:33.108Z"
   },
   {
    "duration": 14,
    "start_time": "2023-04-25T13:17:33.258Z"
   },
   {
    "duration": 15,
    "start_time": "2023-04-25T13:17:33.274Z"
   },
   {
    "duration": 7,
    "start_time": "2023-04-25T13:17:33.290Z"
   },
   {
    "duration": 87,
    "start_time": "2023-04-25T13:17:33.298Z"
   },
   {
    "duration": 482,
    "start_time": "2023-04-25T13:29:10.353Z"
   },
   {
    "duration": 1064,
    "start_time": "2023-04-25T13:40:46.889Z"
   },
   {
    "duration": 28,
    "start_time": "2023-04-25T13:40:47.954Z"
   },
   {
    "duration": 66,
    "start_time": "2023-04-25T13:40:47.984Z"
   },
   {
    "duration": 5,
    "start_time": "2023-04-25T13:40:48.051Z"
   },
   {
    "duration": 64,
    "start_time": "2023-04-25T13:40:48.058Z"
   },
   {
    "duration": 21,
    "start_time": "2023-04-25T13:40:48.124Z"
   },
   {
    "duration": 10,
    "start_time": "2023-04-25T13:40:48.146Z"
   },
   {
    "duration": 418,
    "start_time": "2023-04-25T13:40:48.157Z"
   },
   {
    "duration": 54,
    "start_time": "2023-04-25T13:40:48.577Z"
   },
   {
    "duration": 25,
    "start_time": "2023-04-25T13:40:48.632Z"
   },
   {
    "duration": 24,
    "start_time": "2023-04-25T13:40:48.672Z"
   },
   {
    "duration": 14,
    "start_time": "2023-04-25T13:40:48.697Z"
   },
   {
    "duration": 22,
    "start_time": "2023-04-25T13:40:48.713Z"
   },
   {
    "duration": 15,
    "start_time": "2023-04-25T13:40:48.739Z"
   },
   {
    "duration": 57,
    "start_time": "2023-04-25T13:40:48.756Z"
   },
   {
    "duration": 1859,
    "start_time": "2023-04-25T13:40:48.815Z"
   },
   {
    "duration": 5,
    "start_time": "2023-04-25T13:40:50.676Z"
   },
   {
    "duration": 38,
    "start_time": "2023-04-25T13:40:50.683Z"
   },
   {
    "duration": 216,
    "start_time": "2023-04-25T13:40:50.723Z"
   },
   {
    "duration": 11,
    "start_time": "2023-04-25T13:40:50.940Z"
   },
   {
    "duration": 39,
    "start_time": "2023-04-25T13:40:50.953Z"
   },
   {
    "duration": 127,
    "start_time": "2023-04-25T13:40:50.993Z"
   },
   {
    "duration": 13,
    "start_time": "2023-04-25T13:40:51.122Z"
   },
   {
    "duration": 83,
    "start_time": "2023-04-25T13:40:51.136Z"
   },
   {
    "duration": 64,
    "start_time": "2023-04-25T13:40:51.221Z"
   },
   {
    "duration": 25,
    "start_time": "2023-04-25T13:40:51.286Z"
   },
   {
    "duration": 440,
    "start_time": "2023-04-25T13:40:51.312Z"
   },
   {
    "duration": 0,
    "start_time": "2023-04-25T13:40:51.753Z"
   },
   {
    "duration": 0,
    "start_time": "2023-04-25T13:40:51.754Z"
   },
   {
    "duration": 0,
    "start_time": "2023-04-25T13:40:51.755Z"
   },
   {
    "duration": 0,
    "start_time": "2023-04-25T13:40:51.756Z"
   },
   {
    "duration": 0,
    "start_time": "2023-04-25T13:40:51.756Z"
   },
   {
    "duration": 0,
    "start_time": "2023-04-25T13:40:51.757Z"
   },
   {
    "duration": 0,
    "start_time": "2023-04-25T13:40:51.758Z"
   },
   {
    "duration": 0,
    "start_time": "2023-04-25T13:40:51.759Z"
   },
   {
    "duration": 0,
    "start_time": "2023-04-25T13:40:51.759Z"
   },
   {
    "duration": 0,
    "start_time": "2023-04-25T13:40:51.760Z"
   },
   {
    "duration": 0,
    "start_time": "2023-04-25T13:40:51.761Z"
   },
   {
    "duration": 0,
    "start_time": "2023-04-25T13:40:51.762Z"
   },
   {
    "duration": 0,
    "start_time": "2023-04-25T13:40:51.762Z"
   },
   {
    "duration": 0,
    "start_time": "2023-04-25T13:40:51.763Z"
   },
   {
    "duration": 0,
    "start_time": "2023-04-25T13:40:51.764Z"
   },
   {
    "duration": 300,
    "start_time": "2023-04-25T13:41:11.581Z"
   },
   {
    "duration": 523,
    "start_time": "2023-04-25T13:41:16.797Z"
   },
   {
    "duration": 53,
    "start_time": "2023-04-25T13:41:39.030Z"
   },
   {
    "duration": 55,
    "start_time": "2023-04-25T13:42:11.140Z"
   },
   {
    "duration": 58,
    "start_time": "2023-04-25T13:42:53.127Z"
   },
   {
    "duration": 64,
    "start_time": "2023-04-25T13:43:32.884Z"
   },
   {
    "duration": 70,
    "start_time": "2023-04-25T13:44:08.704Z"
   },
   {
    "duration": 54,
    "start_time": "2023-04-25T13:44:26.136Z"
   },
   {
    "duration": 55,
    "start_time": "2023-04-25T13:45:21.908Z"
   },
   {
    "duration": 49,
    "start_time": "2023-04-25T13:45:33.696Z"
   },
   {
    "duration": 53,
    "start_time": "2023-04-25T13:45:49.680Z"
   },
   {
    "duration": 1116,
    "start_time": "2023-04-25T13:47:14.392Z"
   },
   {
    "duration": 27,
    "start_time": "2023-04-25T13:47:15.510Z"
   },
   {
    "duration": 17,
    "start_time": "2023-04-25T13:47:15.539Z"
   },
   {
    "duration": 4,
    "start_time": "2023-04-25T13:47:15.558Z"
   },
   {
    "duration": 64,
    "start_time": "2023-04-25T13:47:15.564Z"
   },
   {
    "duration": 23,
    "start_time": "2023-04-25T13:47:15.630Z"
   },
   {
    "duration": 13,
    "start_time": "2023-04-25T13:47:15.654Z"
   },
   {
    "duration": 401,
    "start_time": "2023-04-25T13:47:15.671Z"
   },
   {
    "duration": 70,
    "start_time": "2023-04-25T13:47:16.074Z"
   },
   {
    "duration": 45,
    "start_time": "2023-04-25T13:47:16.148Z"
   },
   {
    "duration": 36,
    "start_time": "2023-04-25T13:47:16.194Z"
   },
   {
    "duration": 18,
    "start_time": "2023-04-25T13:47:16.232Z"
   },
   {
    "duration": 7,
    "start_time": "2023-04-25T13:47:16.251Z"
   },
   {
    "duration": 32,
    "start_time": "2023-04-25T13:47:16.259Z"
   },
   {
    "duration": 37,
    "start_time": "2023-04-25T13:47:16.293Z"
   },
   {
    "duration": 1763,
    "start_time": "2023-04-25T13:47:16.331Z"
   },
   {
    "duration": 4,
    "start_time": "2023-04-25T13:47:18.095Z"
   },
   {
    "duration": 47,
    "start_time": "2023-04-25T13:47:18.101Z"
   },
   {
    "duration": 204,
    "start_time": "2023-04-25T13:47:18.149Z"
   },
   {
    "duration": 18,
    "start_time": "2023-04-25T13:47:18.355Z"
   },
   {
    "duration": 26,
    "start_time": "2023-04-25T13:47:18.375Z"
   },
   {
    "duration": 132,
    "start_time": "2023-04-25T13:47:18.402Z"
   },
   {
    "duration": 12,
    "start_time": "2023-04-25T13:47:18.536Z"
   },
   {
    "duration": 79,
    "start_time": "2023-04-25T13:47:18.549Z"
   },
   {
    "duration": 58,
    "start_time": "2023-04-25T13:47:18.630Z"
   },
   {
    "duration": 24,
    "start_time": "2023-04-25T13:47:18.689Z"
   },
   {
    "duration": 68,
    "start_time": "2023-04-25T13:47:18.715Z"
   },
   {
    "duration": 12,
    "start_time": "2023-04-25T13:47:18.786Z"
   },
   {
    "duration": 28,
    "start_time": "2023-04-25T13:47:18.799Z"
   },
   {
    "duration": 54,
    "start_time": "2023-04-25T13:47:18.828Z"
   },
   {
    "duration": 262,
    "start_time": "2023-04-25T13:47:18.883Z"
   },
   {
    "duration": 30,
    "start_time": "2023-04-25T13:47:19.146Z"
   },
   {
    "duration": 406,
    "start_time": "2023-04-25T13:47:19.177Z"
   },
   {
    "duration": 5,
    "start_time": "2023-04-25T13:47:19.584Z"
   },
   {
    "duration": 299,
    "start_time": "2023-04-25T13:47:19.590Z"
   },
   {
    "duration": 14,
    "start_time": "2023-04-25T13:47:19.890Z"
   },
   {
    "duration": 31,
    "start_time": "2023-04-25T13:47:19.905Z"
   },
   {
    "duration": 165,
    "start_time": "2023-04-25T13:47:19.938Z"
   },
   {
    "duration": 13,
    "start_time": "2023-04-25T13:47:20.105Z"
   },
   {
    "duration": 54,
    "start_time": "2023-04-25T13:47:20.119Z"
   },
   {
    "duration": 21,
    "start_time": "2023-04-25T13:47:20.174Z"
   },
   {
    "duration": 78,
    "start_time": "2023-04-25T13:47:20.196Z"
   },
   {
    "duration": 1183,
    "start_time": "2023-04-25T14:03:16.196Z"
   },
   {
    "duration": 26,
    "start_time": "2023-04-25T14:03:17.381Z"
   },
   {
    "duration": 22,
    "start_time": "2023-04-25T14:03:17.409Z"
   },
   {
    "duration": 9,
    "start_time": "2023-04-25T14:03:17.432Z"
   },
   {
    "duration": 91,
    "start_time": "2023-04-25T14:03:17.442Z"
   },
   {
    "duration": 20,
    "start_time": "2023-04-25T14:03:17.534Z"
   },
   {
    "duration": 10,
    "start_time": "2023-04-25T14:03:17.555Z"
   },
   {
    "duration": 396,
    "start_time": "2023-04-25T14:03:17.566Z"
   },
   {
    "duration": 71,
    "start_time": "2023-04-25T14:03:17.964Z"
   },
   {
    "duration": 36,
    "start_time": "2023-04-25T14:03:18.036Z"
   },
   {
    "duration": 25,
    "start_time": "2023-04-25T14:03:18.074Z"
   },
   {
    "duration": 18,
    "start_time": "2023-04-25T14:03:18.101Z"
   },
   {
    "duration": 23,
    "start_time": "2023-04-25T14:03:18.120Z"
   },
   {
    "duration": 32,
    "start_time": "2023-04-25T14:03:18.145Z"
   },
   {
    "duration": 40,
    "start_time": "2023-04-25T14:03:18.178Z"
   },
   {
    "duration": 1725,
    "start_time": "2023-04-25T14:03:18.219Z"
   },
   {
    "duration": 5,
    "start_time": "2023-04-25T14:03:19.945Z"
   },
   {
    "duration": 63,
    "start_time": "2023-04-25T14:03:19.951Z"
   },
   {
    "duration": 197,
    "start_time": "2023-04-25T14:03:20.015Z"
   },
   {
    "duration": 10,
    "start_time": "2023-04-25T14:03:20.213Z"
   },
   {
    "duration": 29,
    "start_time": "2023-04-25T14:03:20.224Z"
   },
   {
    "duration": 127,
    "start_time": "2023-04-25T14:03:20.255Z"
   },
   {
    "duration": 12,
    "start_time": "2023-04-25T14:03:20.384Z"
   },
   {
    "duration": 76,
    "start_time": "2023-04-25T14:03:20.397Z"
   },
   {
    "duration": 52,
    "start_time": "2023-04-25T14:03:20.474Z"
   },
   {
    "duration": 45,
    "start_time": "2023-04-25T14:03:20.527Z"
   },
   {
    "duration": 51,
    "start_time": "2023-04-25T14:03:20.574Z"
   },
   {
    "duration": 10,
    "start_time": "2023-04-25T14:03:20.627Z"
   },
   {
    "duration": 30,
    "start_time": "2023-04-25T14:03:20.672Z"
   },
   {
    "duration": 85,
    "start_time": "2023-04-25T14:03:20.704Z"
   },
   {
    "duration": 260,
    "start_time": "2023-04-25T14:03:20.790Z"
   },
   {
    "duration": 32,
    "start_time": "2023-04-25T14:03:21.051Z"
   },
   {
    "duration": 449,
    "start_time": "2023-04-25T14:03:21.085Z"
   },
   {
    "duration": 6,
    "start_time": "2023-04-25T14:03:21.536Z"
   },
   {
    "duration": 333,
    "start_time": "2023-04-25T14:03:21.543Z"
   },
   {
    "duration": 17,
    "start_time": "2023-04-25T14:03:21.878Z"
   },
   {
    "duration": 25,
    "start_time": "2023-04-25T14:03:21.897Z"
   },
   {
    "duration": 186,
    "start_time": "2023-04-25T14:03:21.923Z"
   },
   {
    "duration": 15,
    "start_time": "2023-04-25T14:03:22.111Z"
   },
   {
    "duration": 54,
    "start_time": "2023-04-25T14:03:22.127Z"
   },
   {
    "duration": 61,
    "start_time": "2023-04-25T14:03:22.184Z"
   },
   {
    "duration": 88,
    "start_time": "2023-04-25T14:03:22.246Z"
   },
   {
    "duration": 1033,
    "start_time": "2023-04-25T14:12:32.794Z"
   },
   {
    "duration": 27,
    "start_time": "2023-04-25T14:12:33.829Z"
   },
   {
    "duration": 18,
    "start_time": "2023-04-25T14:12:33.858Z"
   },
   {
    "duration": 4,
    "start_time": "2023-04-25T14:12:33.878Z"
   },
   {
    "duration": 62,
    "start_time": "2023-04-25T14:12:33.884Z"
   },
   {
    "duration": 26,
    "start_time": "2023-04-25T14:12:33.948Z"
   },
   {
    "duration": 11,
    "start_time": "2023-04-25T14:12:33.976Z"
   },
   {
    "duration": 388,
    "start_time": "2023-04-25T14:12:33.989Z"
   },
   {
    "duration": 51,
    "start_time": "2023-04-25T14:12:34.379Z"
   },
   {
    "duration": 24,
    "start_time": "2023-04-25T14:12:34.432Z"
   },
   {
    "duration": 24,
    "start_time": "2023-04-25T14:12:34.457Z"
   },
   {
    "duration": 14,
    "start_time": "2023-04-25T14:12:34.482Z"
   },
   {
    "duration": 4,
    "start_time": "2023-04-25T14:12:34.497Z"
   },
   {
    "duration": 11,
    "start_time": "2023-04-25T14:12:34.504Z"
   },
   {
    "duration": 23,
    "start_time": "2023-04-25T14:12:34.516Z"
   },
   {
    "duration": 1779,
    "start_time": "2023-04-25T14:12:34.541Z"
   },
   {
    "duration": 5,
    "start_time": "2023-04-25T14:12:36.321Z"
   },
   {
    "duration": 38,
    "start_time": "2023-04-25T14:12:36.327Z"
   },
   {
    "duration": 206,
    "start_time": "2023-04-25T14:12:36.366Z"
   },
   {
    "duration": 10,
    "start_time": "2023-04-25T14:12:36.574Z"
   },
   {
    "duration": 17,
    "start_time": "2023-04-25T14:12:36.585Z"
   },
   {
    "duration": 141,
    "start_time": "2023-04-25T14:12:36.604Z"
   },
   {
    "duration": 12,
    "start_time": "2023-04-25T14:12:36.747Z"
   },
   {
    "duration": 75,
    "start_time": "2023-04-25T14:12:36.760Z"
   },
   {
    "duration": 60,
    "start_time": "2023-04-25T14:12:36.837Z"
   },
   {
    "duration": 24,
    "start_time": "2023-04-25T14:12:36.898Z"
   },
   {
    "duration": 69,
    "start_time": "2023-04-25T14:12:36.923Z"
   },
   {
    "duration": 11,
    "start_time": "2023-04-25T14:12:36.994Z"
   },
   {
    "duration": 10,
    "start_time": "2023-04-25T14:12:37.006Z"
   },
   {
    "duration": 77,
    "start_time": "2023-04-25T14:12:37.018Z"
   },
   {
    "duration": 259,
    "start_time": "2023-04-25T14:12:37.097Z"
   },
   {
    "duration": 11,
    "start_time": "2023-04-25T14:12:37.372Z"
   },
   {
    "duration": 376,
    "start_time": "2023-04-25T14:12:37.384Z"
   },
   {
    "duration": 13,
    "start_time": "2023-04-25T14:12:37.761Z"
   },
   {
    "duration": 197,
    "start_time": "2023-04-25T14:12:37.775Z"
   },
   {
    "duration": 13,
    "start_time": "2023-04-25T14:12:37.973Z"
   },
   {
    "duration": 27,
    "start_time": "2023-04-25T14:12:37.987Z"
   },
   {
    "duration": 146,
    "start_time": "2023-04-25T14:12:38.015Z"
   },
   {
    "duration": 12,
    "start_time": "2023-04-25T14:12:38.163Z"
   },
   {
    "duration": 32,
    "start_time": "2023-04-25T14:12:38.177Z"
   },
   {
    "duration": 12,
    "start_time": "2023-04-25T14:12:38.212Z"
   },
   {
    "duration": 66,
    "start_time": "2023-04-25T14:12:38.226Z"
   },
   {
    "duration": 254,
    "start_time": "2023-04-25T14:14:07.900Z"
   },
   {
    "duration": 1250,
    "start_time": "2023-04-25T19:08:58.256Z"
   },
   {
    "duration": 30,
    "start_time": "2023-04-25T19:08:59.508Z"
   },
   {
    "duration": 34,
    "start_time": "2023-04-25T19:08:59.540Z"
   },
   {
    "duration": 6,
    "start_time": "2023-04-25T19:08:59.580Z"
   },
   {
    "duration": 90,
    "start_time": "2023-04-25T19:08:59.589Z"
   },
   {
    "duration": 25,
    "start_time": "2023-04-25T19:08:59.681Z"
   },
   {
    "duration": 14,
    "start_time": "2023-04-25T19:08:59.708Z"
   },
   {
    "duration": 597,
    "start_time": "2023-04-25T19:08:59.725Z"
   },
   {
    "duration": 80,
    "start_time": "2023-04-25T19:09:00.323Z"
   },
   {
    "duration": 30,
    "start_time": "2023-04-25T19:09:00.407Z"
   },
   {
    "duration": 63,
    "start_time": "2023-04-25T19:09:00.439Z"
   },
   {
    "duration": 18,
    "start_time": "2023-04-25T19:09:00.505Z"
   },
   {
    "duration": 23,
    "start_time": "2023-04-25T19:09:00.525Z"
   },
   {
    "duration": 61,
    "start_time": "2023-04-25T19:09:00.550Z"
   },
   {
    "duration": 52,
    "start_time": "2023-04-25T19:09:00.614Z"
   },
   {
    "duration": 1782,
    "start_time": "2023-04-25T19:09:00.668Z"
   },
   {
    "duration": 8,
    "start_time": "2023-04-25T19:09:02.451Z"
   },
   {
    "duration": 67,
    "start_time": "2023-04-25T19:09:02.460Z"
   },
   {
    "duration": 319,
    "start_time": "2023-04-25T19:09:02.529Z"
   },
   {
    "duration": 20,
    "start_time": "2023-04-25T19:09:02.850Z"
   },
   {
    "duration": 16,
    "start_time": "2023-04-25T19:09:02.872Z"
   },
   {
    "duration": 155,
    "start_time": "2023-04-25T19:09:02.890Z"
   },
   {
    "duration": 17,
    "start_time": "2023-04-25T19:09:03.047Z"
   },
   {
    "duration": 99,
    "start_time": "2023-04-25T19:09:03.067Z"
   },
   {
    "duration": 69,
    "start_time": "2023-04-25T19:09:03.168Z"
   },
   {
    "duration": 55,
    "start_time": "2023-04-25T19:09:03.240Z"
   },
   {
    "duration": 84,
    "start_time": "2023-04-25T19:09:03.298Z"
   },
   {
    "duration": 17,
    "start_time": "2023-04-25T19:09:03.386Z"
   },
   {
    "duration": 47,
    "start_time": "2023-04-25T19:09:03.405Z"
   },
   {
    "duration": 71,
    "start_time": "2023-04-25T19:09:03.456Z"
   },
   {
    "duration": 389,
    "start_time": "2023-04-25T19:09:03.529Z"
   },
   {
    "duration": 48,
    "start_time": "2023-04-25T19:09:03.920Z"
   },
   {
    "duration": 517,
    "start_time": "2023-04-25T19:09:03.970Z"
   },
   {
    "duration": 8,
    "start_time": "2023-04-25T19:09:04.489Z"
   },
   {
    "duration": 325,
    "start_time": "2023-04-25T19:09:04.498Z"
   },
   {
    "duration": 18,
    "start_time": "2023-04-25T19:09:04.824Z"
   },
   {
    "duration": 33,
    "start_time": "2023-04-25T19:09:04.843Z"
   },
   {
    "duration": 608,
    "start_time": "2023-04-25T19:09:04.878Z"
   },
   {
    "duration": 19,
    "start_time": "2023-04-25T19:09:05.488Z"
   },
   {
    "duration": 65,
    "start_time": "2023-04-25T19:09:05.509Z"
   },
   {
    "duration": 10,
    "start_time": "2023-04-25T19:09:05.576Z"
   },
   {
    "duration": 95,
    "start_time": "2023-04-25T19:09:05.588Z"
   },
   {
    "duration": 1301,
    "start_time": "2023-04-25T19:47:21.228Z"
   },
   {
    "duration": 77,
    "start_time": "2023-04-25T19:47:22.531Z"
   },
   {
    "duration": 21,
    "start_time": "2023-04-25T19:47:22.609Z"
   },
   {
    "duration": 4,
    "start_time": "2023-04-25T19:47:22.631Z"
   },
   {
    "duration": 273,
    "start_time": "2023-04-25T19:47:22.637Z"
   },
   {
    "duration": 30,
    "start_time": "2023-04-25T19:47:22.912Z"
   },
   {
    "duration": 12,
    "start_time": "2023-04-25T19:47:22.944Z"
   },
   {
    "duration": 1474,
    "start_time": "2023-04-25T19:47:22.957Z"
   },
   {
    "duration": 80,
    "start_time": "2023-04-25T19:47:24.434Z"
   },
   {
    "duration": 27,
    "start_time": "2023-04-25T19:47:24.516Z"
   },
   {
    "duration": 119,
    "start_time": "2023-04-25T19:47:24.544Z"
   },
   {
    "duration": 18,
    "start_time": "2023-04-25T19:47:24.665Z"
   },
   {
    "duration": 5,
    "start_time": "2023-04-25T19:47:24.685Z"
   },
   {
    "duration": 13,
    "start_time": "2023-04-25T19:47:24.693Z"
   },
   {
    "duration": 37,
    "start_time": "2023-04-25T19:47:24.708Z"
   },
   {
    "duration": 1778,
    "start_time": "2023-04-25T19:47:24.747Z"
   },
   {
    "duration": 5,
    "start_time": "2023-04-25T19:47:26.527Z"
   },
   {
    "duration": 52,
    "start_time": "2023-04-25T19:47:26.533Z"
   },
   {
    "duration": 256,
    "start_time": "2023-04-25T19:47:26.586Z"
   },
   {
    "duration": 13,
    "start_time": "2023-04-25T19:47:26.844Z"
   },
   {
    "duration": 37,
    "start_time": "2023-04-25T19:47:26.858Z"
   },
   {
    "duration": 148,
    "start_time": "2023-04-25T19:47:26.896Z"
   },
   {
    "duration": 16,
    "start_time": "2023-04-25T19:47:27.046Z"
   },
   {
    "duration": 86,
    "start_time": "2023-04-25T19:47:27.063Z"
   },
   {
    "duration": 79,
    "start_time": "2023-04-25T19:47:27.151Z"
   },
   {
    "duration": 36,
    "start_time": "2023-04-25T19:47:27.231Z"
   },
   {
    "duration": 77,
    "start_time": "2023-04-25T19:47:27.268Z"
   },
   {
    "duration": 11,
    "start_time": "2023-04-25T19:47:27.346Z"
   },
   {
    "duration": 14,
    "start_time": "2023-04-25T19:47:27.386Z"
   },
   {
    "duration": 46,
    "start_time": "2023-04-25T19:47:27.402Z"
   },
   {
    "duration": 363,
    "start_time": "2023-04-25T19:47:27.450Z"
   },
   {
    "duration": 15,
    "start_time": "2023-04-25T19:47:27.814Z"
   },
   {
    "duration": 501,
    "start_time": "2023-04-25T19:47:27.831Z"
   },
   {
    "duration": 7,
    "start_time": "2023-04-25T19:47:28.334Z"
   },
   {
    "duration": 335,
    "start_time": "2023-04-25T19:47:28.342Z"
   },
   {
    "duration": 19,
    "start_time": "2023-04-25T19:47:28.679Z"
   },
   {
    "duration": 19,
    "start_time": "2023-04-25T19:47:28.699Z"
   },
   {
    "duration": 175,
    "start_time": "2023-04-25T19:47:28.720Z"
   },
   {
    "duration": 15,
    "start_time": "2023-04-25T19:47:28.897Z"
   },
   {
    "duration": 22,
    "start_time": "2023-04-25T19:47:28.913Z"
   },
   {
    "duration": 70,
    "start_time": "2023-04-25T19:47:28.988Z"
   },
   {
    "duration": 0,
    "start_time": "2023-04-25T19:47:29.060Z"
   },
   {
    "duration": 6,
    "start_time": "2023-04-25T19:47:52.327Z"
   },
   {
    "duration": 109,
    "start_time": "2023-04-25T19:47:59.171Z"
   },
   {
    "duration": 5,
    "start_time": "2023-04-25T19:48:13.658Z"
   },
   {
    "duration": 35,
    "start_time": "2023-04-25T19:48:47.350Z"
   },
   {
    "duration": 1438,
    "start_time": "2023-04-26T07:31:25.864Z"
   },
   {
    "duration": 84,
    "start_time": "2023-04-26T07:31:27.304Z"
   },
   {
    "duration": 22,
    "start_time": "2023-04-26T07:31:27.390Z"
   },
   {
    "duration": 6,
    "start_time": "2023-04-26T07:31:27.414Z"
   },
   {
    "duration": 276,
    "start_time": "2023-04-26T07:31:27.421Z"
   },
   {
    "duration": 38,
    "start_time": "2023-04-26T07:31:27.698Z"
   },
   {
    "duration": 15,
    "start_time": "2023-04-26T07:31:27.739Z"
   },
   {
    "duration": 1604,
    "start_time": "2023-04-26T07:31:27.756Z"
   },
   {
    "duration": 63,
    "start_time": "2023-04-26T07:31:29.362Z"
   },
   {
    "duration": 27,
    "start_time": "2023-04-26T07:31:29.429Z"
   },
   {
    "duration": 134,
    "start_time": "2023-04-26T07:31:29.458Z"
   },
   {
    "duration": 17,
    "start_time": "2023-04-26T07:31:29.594Z"
   },
   {
    "duration": 5,
    "start_time": "2023-04-26T07:31:29.612Z"
   },
   {
    "duration": 24,
    "start_time": "2023-04-26T07:31:29.619Z"
   },
   {
    "duration": 71,
    "start_time": "2023-04-26T07:31:29.645Z"
   },
   {
    "duration": 1918,
    "start_time": "2023-04-26T07:31:29.718Z"
   },
   {
    "duration": 6,
    "start_time": "2023-04-26T07:31:31.637Z"
   },
   {
    "duration": 85,
    "start_time": "2023-04-26T07:31:31.645Z"
   },
   {
    "duration": 334,
    "start_time": "2023-04-26T07:31:31.731Z"
   },
   {
    "duration": 34,
    "start_time": "2023-04-26T07:31:32.067Z"
   },
   {
    "duration": 21,
    "start_time": "2023-04-26T07:31:32.103Z"
   },
   {
    "duration": 146,
    "start_time": "2023-04-26T07:31:32.127Z"
   },
   {
    "duration": 20,
    "start_time": "2023-04-26T07:31:32.275Z"
   },
   {
    "duration": 83,
    "start_time": "2023-04-26T07:31:32.297Z"
   },
   {
    "duration": 66,
    "start_time": "2023-04-26T07:31:32.393Z"
   },
   {
    "duration": 40,
    "start_time": "2023-04-26T07:31:32.461Z"
   },
   {
    "duration": 95,
    "start_time": "2023-04-26T07:31:32.504Z"
   },
   {
    "duration": 18,
    "start_time": "2023-04-26T07:31:32.602Z"
   },
   {
    "duration": 23,
    "start_time": "2023-04-26T07:31:32.622Z"
   },
   {
    "duration": 70,
    "start_time": "2023-04-26T07:31:32.647Z"
   },
   {
    "duration": 380,
    "start_time": "2023-04-26T07:31:32.720Z"
   },
   {
    "duration": 17,
    "start_time": "2023-04-26T07:31:33.102Z"
   },
   {
    "duration": 516,
    "start_time": "2023-04-26T07:31:33.121Z"
   },
   {
    "duration": 8,
    "start_time": "2023-04-26T07:31:33.639Z"
   },
   {
    "duration": 366,
    "start_time": "2023-04-26T07:31:33.649Z"
   },
   {
    "duration": 18,
    "start_time": "2023-04-26T07:31:34.018Z"
   },
   {
    "duration": 23,
    "start_time": "2023-04-26T07:31:34.037Z"
   },
   {
    "duration": 223,
    "start_time": "2023-04-26T07:31:34.062Z"
   },
   {
    "duration": 21,
    "start_time": "2023-04-26T07:31:34.286Z"
   },
   {
    "duration": 33,
    "start_time": "2023-04-26T07:31:34.309Z"
   },
   {
    "duration": 54,
    "start_time": "2023-04-26T07:31:34.344Z"
   },
   {
    "duration": 93,
    "start_time": "2023-04-26T07:31:34.401Z"
   },
   {
    "duration": 589,
    "start_time": "2023-04-26T07:34:41.740Z"
   },
   {
    "duration": 1196,
    "start_time": "2023-04-26T07:35:03.436Z"
   },
   {
    "duration": 28,
    "start_time": "2023-04-26T07:35:04.635Z"
   },
   {
    "duration": 20,
    "start_time": "2023-04-26T07:35:04.665Z"
   },
   {
    "duration": 4,
    "start_time": "2023-04-26T07:35:04.688Z"
   },
   {
    "duration": 73,
    "start_time": "2023-04-26T07:35:04.694Z"
   },
   {
    "duration": 24,
    "start_time": "2023-04-26T07:35:04.769Z"
   },
   {
    "duration": 12,
    "start_time": "2023-04-26T07:35:04.794Z"
   },
   {
    "duration": 490,
    "start_time": "2023-04-26T07:35:04.808Z"
   },
   {
    "duration": 76,
    "start_time": "2023-04-26T07:35:05.300Z"
   },
   {
    "duration": 35,
    "start_time": "2023-04-26T07:35:05.380Z"
   },
   {
    "duration": 26,
    "start_time": "2023-04-26T07:35:05.417Z"
   },
   {
    "duration": 18,
    "start_time": "2023-04-26T07:35:05.445Z"
   },
   {
    "duration": 33,
    "start_time": "2023-04-26T07:35:05.466Z"
   },
   {
    "duration": 18,
    "start_time": "2023-04-26T07:35:05.501Z"
   },
   {
    "duration": 47,
    "start_time": "2023-04-26T07:35:05.521Z"
   },
   {
    "duration": 1840,
    "start_time": "2023-04-26T07:35:05.570Z"
   },
   {
    "duration": 5,
    "start_time": "2023-04-26T07:35:07.412Z"
   },
   {
    "duration": 49,
    "start_time": "2023-04-26T07:35:07.418Z"
   },
   {
    "duration": 308,
    "start_time": "2023-04-26T07:35:07.469Z"
   },
   {
    "duration": 22,
    "start_time": "2023-04-26T07:35:07.779Z"
   },
   {
    "duration": 21,
    "start_time": "2023-04-26T07:35:07.803Z"
   },
   {
    "duration": 149,
    "start_time": "2023-04-26T07:35:07.826Z"
   },
   {
    "duration": 23,
    "start_time": "2023-04-26T07:35:07.977Z"
   },
   {
    "duration": 92,
    "start_time": "2023-04-26T07:35:08.002Z"
   },
   {
    "duration": 70,
    "start_time": "2023-04-26T07:35:08.095Z"
   },
   {
    "duration": 67,
    "start_time": "2023-04-26T07:35:08.168Z"
   },
   {
    "duration": 508,
    "start_time": "2023-04-26T07:35:08.237Z"
   },
   {
    "duration": 0,
    "start_time": "2023-04-26T07:35:08.748Z"
   },
   {
    "duration": 0,
    "start_time": "2023-04-26T07:35:08.750Z"
   },
   {
    "duration": 0,
    "start_time": "2023-04-26T07:35:08.752Z"
   },
   {
    "duration": 0,
    "start_time": "2023-04-26T07:35:08.754Z"
   },
   {
    "duration": 0,
    "start_time": "2023-04-26T07:35:08.755Z"
   },
   {
    "duration": 0,
    "start_time": "2023-04-26T07:35:08.757Z"
   },
   {
    "duration": 0,
    "start_time": "2023-04-26T07:35:08.758Z"
   },
   {
    "duration": 0,
    "start_time": "2023-04-26T07:35:08.760Z"
   },
   {
    "duration": 0,
    "start_time": "2023-04-26T07:35:08.761Z"
   },
   {
    "duration": 0,
    "start_time": "2023-04-26T07:35:08.763Z"
   },
   {
    "duration": 0,
    "start_time": "2023-04-26T07:35:08.764Z"
   },
   {
    "duration": 0,
    "start_time": "2023-04-26T07:35:08.765Z"
   },
   {
    "duration": 0,
    "start_time": "2023-04-26T07:35:08.767Z"
   },
   {
    "duration": 0,
    "start_time": "2023-04-26T07:35:08.768Z"
   },
   {
    "duration": 0,
    "start_time": "2023-04-26T07:35:08.770Z"
   },
   {
    "duration": 398,
    "start_time": "2023-04-26T07:36:13.018Z"
   },
   {
    "duration": 63,
    "start_time": "2023-04-26T07:36:25.109Z"
   },
   {
    "duration": 78,
    "start_time": "2023-04-26T07:37:13.097Z"
   },
   {
    "duration": 122,
    "start_time": "2023-04-26T07:37:31.880Z"
   },
   {
    "duration": 70,
    "start_time": "2023-04-26T07:38:30.433Z"
   },
   {
    "duration": 64,
    "start_time": "2023-04-26T07:39:36.287Z"
   },
   {
    "duration": 55,
    "start_time": "2023-04-26T07:56:17.269Z"
   },
   {
    "duration": 52,
    "start_time": "2023-04-26T07:56:37.993Z"
   },
   {
    "duration": 0,
    "start_time": "2023-04-26T07:56:38.551Z"
   },
   {
    "duration": 61,
    "start_time": "2023-04-26T07:56:48.827Z"
   },
   {
    "duration": 60,
    "start_time": "2023-04-26T07:57:13.555Z"
   },
   {
    "duration": 72,
    "start_time": "2023-04-26T07:58:07.818Z"
   },
   {
    "duration": 66,
    "start_time": "2023-04-26T07:58:39.199Z"
   },
   {
    "duration": 4,
    "start_time": "2023-04-26T08:04:14.413Z"
   },
   {
    "duration": 36,
    "start_time": "2023-04-26T08:04:14.419Z"
   },
   {
    "duration": 16,
    "start_time": "2023-04-26T08:04:14.457Z"
   },
   {
    "duration": 4,
    "start_time": "2023-04-26T08:04:14.475Z"
   },
   {
    "duration": 61,
    "start_time": "2023-04-26T08:04:14.481Z"
   },
   {
    "duration": 23,
    "start_time": "2023-04-26T08:04:14.544Z"
   },
   {
    "duration": 11,
    "start_time": "2023-04-26T08:04:14.569Z"
   },
   {
    "duration": 458,
    "start_time": "2023-04-26T08:04:14.593Z"
   },
   {
    "duration": 74,
    "start_time": "2023-04-26T08:04:15.053Z"
   },
   {
    "duration": 25,
    "start_time": "2023-04-26T08:04:15.128Z"
   },
   {
    "duration": 44,
    "start_time": "2023-04-26T08:04:15.155Z"
   },
   {
    "duration": 23,
    "start_time": "2023-04-26T08:04:15.201Z"
   },
   {
    "duration": 18,
    "start_time": "2023-04-26T08:04:15.226Z"
   },
   {
    "duration": 13,
    "start_time": "2023-04-26T08:04:15.246Z"
   },
   {
    "duration": 39,
    "start_time": "2023-04-26T08:04:15.262Z"
   },
   {
    "duration": 1860,
    "start_time": "2023-04-26T08:04:15.303Z"
   },
   {
    "duration": 6,
    "start_time": "2023-04-26T08:04:17.164Z"
   },
   {
    "duration": 60,
    "start_time": "2023-04-26T08:04:17.172Z"
   },
   {
    "duration": 264,
    "start_time": "2023-04-26T08:04:17.234Z"
   },
   {
    "duration": 13,
    "start_time": "2023-04-26T08:04:17.500Z"
   },
   {
    "duration": 13,
    "start_time": "2023-04-26T08:04:17.515Z"
   },
   {
    "duration": 142,
    "start_time": "2023-04-26T08:04:17.530Z"
   },
   {
    "duration": 23,
    "start_time": "2023-04-26T08:04:17.674Z"
   },
   {
    "duration": 78,
    "start_time": "2023-04-26T08:04:17.698Z"
   },
   {
    "duration": 79,
    "start_time": "2023-04-26T08:04:17.778Z"
   },
   {
    "duration": 38,
    "start_time": "2023-04-26T08:04:17.859Z"
   },
   {
    "duration": 61,
    "start_time": "2023-04-26T08:04:17.899Z"
   },
   {
    "duration": 13,
    "start_time": "2023-04-26T08:04:17.994Z"
   },
   {
    "duration": 15,
    "start_time": "2023-04-26T08:04:18.009Z"
   },
   {
    "duration": 85,
    "start_time": "2023-04-26T08:04:18.027Z"
   },
   {
    "duration": 383,
    "start_time": "2023-04-26T08:04:18.114Z"
   },
   {
    "duration": 16,
    "start_time": "2023-04-26T08:04:18.499Z"
   },
   {
    "duration": 522,
    "start_time": "2023-04-26T08:04:18.517Z"
   },
   {
    "duration": 12,
    "start_time": "2023-04-26T08:04:19.041Z"
   },
   {
    "duration": 466,
    "start_time": "2023-04-26T08:04:19.055Z"
   },
   {
    "duration": 21,
    "start_time": "2023-04-26T08:04:19.523Z"
   },
   {
    "duration": 61,
    "start_time": "2023-04-26T08:04:19.546Z"
   },
   {
    "duration": 253,
    "start_time": "2023-04-26T08:04:19.609Z"
   },
   {
    "duration": 16,
    "start_time": "2023-04-26T08:04:19.863Z"
   },
   {
    "duration": 16,
    "start_time": "2023-04-26T08:04:19.894Z"
   },
   {
    "duration": 12,
    "start_time": "2023-04-26T08:04:19.912Z"
   },
   {
    "duration": 92,
    "start_time": "2023-04-26T08:04:19.928Z"
   },
   {
    "duration": 464,
    "start_time": "2023-04-26T08:16:30.661Z"
   },
   {
    "duration": 432,
    "start_time": "2023-04-26T08:23:20.427Z"
   },
   {
    "duration": 298,
    "start_time": "2023-04-26T08:24:56.598Z"
   },
   {
    "duration": 480,
    "start_time": "2023-04-26T08:25:12.916Z"
   },
   {
    "duration": 3,
    "start_time": "2023-04-26T08:25:43.432Z"
   },
   {
    "duration": 41,
    "start_time": "2023-04-26T08:25:43.438Z"
   },
   {
    "duration": 19,
    "start_time": "2023-04-26T08:25:43.481Z"
   },
   {
    "duration": 4,
    "start_time": "2023-04-26T08:25:43.502Z"
   },
   {
    "duration": 82,
    "start_time": "2023-04-26T08:25:43.508Z"
   },
   {
    "duration": 23,
    "start_time": "2023-04-26T08:25:43.593Z"
   },
   {
    "duration": 53,
    "start_time": "2023-04-26T08:25:43.618Z"
   },
   {
    "duration": 484,
    "start_time": "2023-04-26T08:25:43.672Z"
   },
   {
    "duration": 94,
    "start_time": "2023-04-26T08:25:44.158Z"
   },
   {
    "duration": 25,
    "start_time": "2023-04-26T08:25:44.254Z"
   },
   {
    "duration": 29,
    "start_time": "2023-04-26T08:25:44.280Z"
   },
   {
    "duration": 16,
    "start_time": "2023-04-26T08:25:44.311Z"
   },
   {
    "duration": 17,
    "start_time": "2023-04-26T08:25:44.329Z"
   },
   {
    "duration": 36,
    "start_time": "2023-04-26T08:25:44.348Z"
   },
   {
    "duration": 48,
    "start_time": "2023-04-26T08:25:44.387Z"
   },
   {
    "duration": 1820,
    "start_time": "2023-04-26T08:25:44.437Z"
   },
   {
    "duration": 6,
    "start_time": "2023-04-26T08:25:46.259Z"
   },
   {
    "duration": 64,
    "start_time": "2023-04-26T08:25:46.267Z"
   },
   {
    "duration": 243,
    "start_time": "2023-04-26T08:25:46.333Z"
   },
   {
    "duration": 26,
    "start_time": "2023-04-26T08:25:46.578Z"
   },
   {
    "duration": 32,
    "start_time": "2023-04-26T08:25:46.606Z"
   },
   {
    "duration": 134,
    "start_time": "2023-04-26T08:25:46.640Z"
   },
   {
    "duration": 24,
    "start_time": "2023-04-26T08:25:46.776Z"
   },
   {
    "duration": 72,
    "start_time": "2023-04-26T08:25:46.802Z"
   },
   {
    "duration": 78,
    "start_time": "2023-04-26T08:25:46.876Z"
   },
   {
    "duration": 39,
    "start_time": "2023-04-26T08:25:46.956Z"
   },
   {
    "duration": 62,
    "start_time": "2023-04-26T08:25:46.997Z"
   },
   {
    "duration": 14,
    "start_time": "2023-04-26T08:25:47.094Z"
   },
   {
    "duration": 27,
    "start_time": "2023-04-26T08:25:47.109Z"
   },
   {
    "duration": 67,
    "start_time": "2023-04-26T08:25:47.138Z"
   },
   {
    "duration": 429,
    "start_time": "2023-04-26T08:25:47.207Z"
   },
   {
    "duration": 28,
    "start_time": "2023-04-26T08:25:47.638Z"
   },
   {
    "duration": 656,
    "start_time": "2023-04-26T08:25:47.667Z"
   },
   {
    "duration": 7,
    "start_time": "2023-04-26T08:25:48.325Z"
   },
   {
    "duration": 387,
    "start_time": "2023-04-26T08:25:48.334Z"
   },
   {
    "duration": 33,
    "start_time": "2023-04-26T08:25:48.723Z"
   },
   {
    "duration": 53,
    "start_time": "2023-04-26T08:25:48.758Z"
   },
   {
    "duration": 18,
    "start_time": "2023-04-26T08:25:48.813Z"
   },
   {
    "duration": 21,
    "start_time": "2023-04-26T08:25:48.833Z"
   },
   {
    "duration": 50,
    "start_time": "2023-04-26T08:25:48.856Z"
   },
   {
    "duration": 6,
    "start_time": "2023-04-26T08:25:48.908Z"
   },
   {
    "duration": 77,
    "start_time": "2023-04-26T08:25:48.918Z"
   },
   {
    "duration": 385,
    "start_time": "2023-04-26T08:31:54.127Z"
   },
   {
    "duration": 302,
    "start_time": "2023-04-26T08:32:12.183Z"
   },
   {
    "duration": 273,
    "start_time": "2023-04-26T08:32:36.614Z"
   },
   {
    "duration": 311,
    "start_time": "2023-04-26T08:34:25.016Z"
   },
   {
    "duration": 282,
    "start_time": "2023-04-26T08:34:34.614Z"
   },
   {
    "duration": 292,
    "start_time": "2023-04-26T08:35:01.019Z"
   },
   {
    "duration": 267,
    "start_time": "2023-04-26T08:35:44.242Z"
   },
   {
    "duration": 295,
    "start_time": "2023-04-26T08:35:52.872Z"
   },
   {
    "duration": 1191,
    "start_time": "2023-04-26T08:36:08.967Z"
   },
   {
    "duration": 28,
    "start_time": "2023-04-26T08:36:10.160Z"
   },
   {
    "duration": 22,
    "start_time": "2023-04-26T08:36:10.190Z"
   },
   {
    "duration": 4,
    "start_time": "2023-04-26T08:36:10.214Z"
   },
   {
    "duration": 73,
    "start_time": "2023-04-26T08:36:10.219Z"
   },
   {
    "duration": 23,
    "start_time": "2023-04-26T08:36:10.294Z"
   },
   {
    "duration": 10,
    "start_time": "2023-04-26T08:36:10.319Z"
   },
   {
    "duration": 514,
    "start_time": "2023-04-26T08:36:10.331Z"
   },
   {
    "duration": 67,
    "start_time": "2023-04-26T08:36:10.846Z"
   },
   {
    "duration": 27,
    "start_time": "2023-04-26T08:36:10.917Z"
   },
   {
    "duration": 27,
    "start_time": "2023-04-26T08:36:10.946Z"
   },
   {
    "duration": 28,
    "start_time": "2023-04-26T08:36:10.975Z"
   },
   {
    "duration": 5,
    "start_time": "2023-04-26T08:36:11.005Z"
   },
   {
    "duration": 24,
    "start_time": "2023-04-26T08:36:11.012Z"
   },
   {
    "duration": 29,
    "start_time": "2023-04-26T08:36:11.038Z"
   },
   {
    "duration": 1948,
    "start_time": "2023-04-26T08:36:11.069Z"
   },
   {
    "duration": 6,
    "start_time": "2023-04-26T08:36:13.019Z"
   },
   {
    "duration": 53,
    "start_time": "2023-04-26T08:36:13.026Z"
   },
   {
    "duration": 282,
    "start_time": "2023-04-26T08:36:13.081Z"
   },
   {
    "duration": 13,
    "start_time": "2023-04-26T08:36:13.365Z"
   },
   {
    "duration": 29,
    "start_time": "2023-04-26T08:36:13.380Z"
   },
   {
    "duration": 160,
    "start_time": "2023-04-26T08:36:13.411Z"
   },
   {
    "duration": 24,
    "start_time": "2023-04-26T08:36:13.573Z"
   },
   {
    "duration": 100,
    "start_time": "2023-04-26T08:36:13.599Z"
   },
   {
    "duration": 62,
    "start_time": "2023-04-26T08:36:13.701Z"
   },
   {
    "duration": 43,
    "start_time": "2023-04-26T08:36:13.764Z"
   },
   {
    "duration": 85,
    "start_time": "2023-04-26T08:36:13.809Z"
   },
   {
    "duration": 14,
    "start_time": "2023-04-26T08:36:13.898Z"
   },
   {
    "duration": 16,
    "start_time": "2023-04-26T08:36:13.913Z"
   },
   {
    "duration": 72,
    "start_time": "2023-04-26T08:36:13.930Z"
   },
   {
    "duration": 372,
    "start_time": "2023-04-26T08:36:14.004Z"
   },
   {
    "duration": 0,
    "start_time": "2023-04-26T08:36:14.378Z"
   },
   {
    "duration": 0,
    "start_time": "2023-04-26T08:36:14.379Z"
   },
   {
    "duration": 0,
    "start_time": "2023-04-26T08:36:14.381Z"
   },
   {
    "duration": 0,
    "start_time": "2023-04-26T08:36:14.381Z"
   },
   {
    "duration": 0,
    "start_time": "2023-04-26T08:36:14.382Z"
   },
   {
    "duration": 0,
    "start_time": "2023-04-26T08:36:14.383Z"
   },
   {
    "duration": 0,
    "start_time": "2023-04-26T08:36:14.384Z"
   },
   {
    "duration": 0,
    "start_time": "2023-04-26T08:36:14.393Z"
   },
   {
    "duration": 0,
    "start_time": "2023-04-26T08:36:14.394Z"
   },
   {
    "duration": 0,
    "start_time": "2023-04-26T08:36:14.395Z"
   },
   {
    "duration": 0,
    "start_time": "2023-04-26T08:36:14.396Z"
   },
   {
    "duration": 293,
    "start_time": "2023-04-26T08:37:09.725Z"
   },
   {
    "duration": 318,
    "start_time": "2023-04-26T08:37:36.777Z"
   },
   {
    "duration": 331,
    "start_time": "2023-04-26T08:38:16.460Z"
   },
   {
    "duration": 328,
    "start_time": "2023-04-26T08:39:24.126Z"
   },
   {
    "duration": 370,
    "start_time": "2023-04-26T08:40:09.946Z"
   },
   {
    "duration": 3,
    "start_time": "2023-04-26T08:50:15.015Z"
   },
   {
    "duration": 76,
    "start_time": "2023-04-26T08:50:15.021Z"
   },
   {
    "duration": 18,
    "start_time": "2023-04-26T08:50:15.099Z"
   },
   {
    "duration": 14,
    "start_time": "2023-04-26T08:50:15.118Z"
   },
   {
    "duration": 82,
    "start_time": "2023-04-26T08:50:15.135Z"
   },
   {
    "duration": 34,
    "start_time": "2023-04-26T08:50:15.220Z"
   },
   {
    "duration": 13,
    "start_time": "2023-04-26T08:50:15.257Z"
   },
   {
    "duration": 464,
    "start_time": "2023-04-26T08:50:15.293Z"
   },
   {
    "duration": 92,
    "start_time": "2023-04-26T08:50:15.758Z"
   },
   {
    "duration": 23,
    "start_time": "2023-04-26T08:50:15.852Z"
   },
   {
    "duration": 31,
    "start_time": "2023-04-26T08:50:15.877Z"
   },
   {
    "duration": 16,
    "start_time": "2023-04-26T08:50:15.909Z"
   },
   {
    "duration": 5,
    "start_time": "2023-04-26T08:50:15.927Z"
   },
   {
    "duration": 14,
    "start_time": "2023-04-26T08:50:15.935Z"
   },
   {
    "duration": 54,
    "start_time": "2023-04-26T08:50:15.950Z"
   },
   {
    "duration": 1869,
    "start_time": "2023-04-26T08:50:16.006Z"
   },
   {
    "duration": 5,
    "start_time": "2023-04-26T08:50:17.877Z"
   },
   {
    "duration": 41,
    "start_time": "2023-04-26T08:50:17.892Z"
   },
   {
    "duration": 287,
    "start_time": "2023-04-26T08:50:17.934Z"
   },
   {
    "duration": 20,
    "start_time": "2023-04-26T08:50:18.223Z"
   },
   {
    "duration": 50,
    "start_time": "2023-04-26T08:50:18.245Z"
   },
   {
    "duration": 128,
    "start_time": "2023-04-26T08:50:18.297Z"
   },
   {
    "duration": 14,
    "start_time": "2023-04-26T08:50:18.427Z"
   },
   {
    "duration": 102,
    "start_time": "2023-04-26T08:50:18.442Z"
   },
   {
    "duration": 77,
    "start_time": "2023-04-26T08:50:18.545Z"
   },
   {
    "duration": 28,
    "start_time": "2023-04-26T08:50:18.623Z"
   },
   {
    "duration": 86,
    "start_time": "2023-04-26T08:50:18.653Z"
   },
   {
    "duration": 14,
    "start_time": "2023-04-26T08:50:18.741Z"
   },
   {
    "duration": 39,
    "start_time": "2023-04-26T08:50:18.757Z"
   },
   {
    "duration": 48,
    "start_time": "2023-04-26T08:50:18.799Z"
   },
   {
    "duration": 557,
    "start_time": "2023-04-26T08:50:18.849Z"
   },
   {
    "duration": 17,
    "start_time": "2023-04-26T08:50:19.408Z"
   },
   {
    "duration": 631,
    "start_time": "2023-04-26T08:50:19.427Z"
   },
   {
    "duration": 39,
    "start_time": "2023-04-26T08:50:20.059Z"
   },
   {
    "duration": 356,
    "start_time": "2023-04-26T08:50:20.100Z"
   },
   {
    "duration": 20,
    "start_time": "2023-04-26T08:50:20.458Z"
   },
   {
    "duration": 33,
    "start_time": "2023-04-26T08:50:20.480Z"
   },
   {
    "duration": 176,
    "start_time": "2023-04-26T08:50:20.515Z"
   },
   {
    "duration": 22,
    "start_time": "2023-04-26T08:50:20.693Z"
   },
   {
    "duration": 21,
    "start_time": "2023-04-26T08:50:20.717Z"
   },
   {
    "duration": 9,
    "start_time": "2023-04-26T08:50:20.795Z"
   },
   {
    "duration": 116,
    "start_time": "2023-04-26T08:50:20.806Z"
   },
   {
    "duration": 1389,
    "start_time": "2023-04-26T13:38:27.131Z"
   },
   {
    "duration": 30,
    "start_time": "2023-04-26T13:38:28.523Z"
   },
   {
    "duration": 34,
    "start_time": "2023-04-26T13:38:28.556Z"
   },
   {
    "duration": 38,
    "start_time": "2023-04-26T13:38:28.593Z"
   },
   {
    "duration": 104,
    "start_time": "2023-04-26T13:38:28.633Z"
   },
   {
    "duration": 26,
    "start_time": "2023-04-26T13:38:28.739Z"
   },
   {
    "duration": 14,
    "start_time": "2023-04-26T13:38:28.767Z"
   },
   {
    "duration": 661,
    "start_time": "2023-04-26T13:38:28.783Z"
   },
   {
    "duration": 72,
    "start_time": "2023-04-26T13:38:29.446Z"
   },
   {
    "duration": 44,
    "start_time": "2023-04-26T13:38:29.521Z"
   },
   {
    "duration": 41,
    "start_time": "2023-04-26T13:38:29.567Z"
   },
   {
    "duration": 19,
    "start_time": "2023-04-26T13:38:29.610Z"
   },
   {
    "duration": 14,
    "start_time": "2023-04-26T13:38:29.631Z"
   },
   {
    "duration": 21,
    "start_time": "2023-04-26T13:38:29.647Z"
   },
   {
    "duration": 58,
    "start_time": "2023-04-26T13:38:29.671Z"
   },
   {
    "duration": 2064,
    "start_time": "2023-04-26T13:38:29.741Z"
   },
   {
    "duration": 7,
    "start_time": "2023-04-26T13:38:31.808Z"
   },
   {
    "duration": 79,
    "start_time": "2023-04-26T13:38:31.817Z"
   },
   {
    "duration": 365,
    "start_time": "2023-04-26T13:38:31.898Z"
   },
   {
    "duration": 16,
    "start_time": "2023-04-26T13:38:32.265Z"
   },
   {
    "duration": 36,
    "start_time": "2023-04-26T13:38:32.284Z"
   },
   {
    "duration": 182,
    "start_time": "2023-04-26T13:38:32.323Z"
   },
   {
    "duration": 22,
    "start_time": "2023-04-26T13:38:32.507Z"
   },
   {
    "duration": 112,
    "start_time": "2023-04-26T13:38:32.540Z"
   },
   {
    "duration": 129,
    "start_time": "2023-04-26T13:38:32.654Z"
   },
   {
    "duration": 60,
    "start_time": "2023-04-26T13:38:32.786Z"
   },
   {
    "duration": 134,
    "start_time": "2023-04-26T13:38:32.849Z"
   },
   {
    "duration": 21,
    "start_time": "2023-04-26T13:38:32.986Z"
   },
   {
    "duration": 38,
    "start_time": "2023-04-26T13:38:33.009Z"
   },
   {
    "duration": 57,
    "start_time": "2023-04-26T13:38:33.050Z"
   },
   {
    "duration": 503,
    "start_time": "2023-04-26T13:38:33.108Z"
   },
   {
    "duration": 43,
    "start_time": "2023-04-26T13:38:33.613Z"
   },
   {
    "duration": 556,
    "start_time": "2023-04-26T13:38:33.658Z"
   },
   {
    "duration": 24,
    "start_time": "2023-04-26T13:38:34.217Z"
   },
   {
    "duration": 403,
    "start_time": "2023-04-26T13:38:34.244Z"
   },
   {
    "duration": 30,
    "start_time": "2023-04-26T13:38:34.650Z"
   },
   {
    "duration": 29,
    "start_time": "2023-04-26T13:38:34.683Z"
   },
   {
    "duration": 718,
    "start_time": "2023-04-26T13:38:34.740Z"
   },
   {
    "duration": 25,
    "start_time": "2023-04-26T13:38:35.460Z"
   },
   {
    "duration": 128,
    "start_time": "2023-04-26T13:38:35.541Z"
   },
   {
    "duration": 107,
    "start_time": "2023-04-26T13:38:35.671Z"
   },
   {
    "duration": 159,
    "start_time": "2023-04-26T13:38:35.781Z"
   },
   {
    "duration": 7,
    "start_time": "2023-04-26T13:39:02.920Z"
   },
   {
    "duration": 15,
    "start_time": "2023-04-26T13:39:44.581Z"
   },
   {
    "duration": 21,
    "start_time": "2023-04-26T13:42:24.497Z"
   },
   {
    "duration": 22,
    "start_time": "2023-04-26T13:42:33.703Z"
   },
   {
    "duration": 14,
    "start_time": "2023-04-26T13:42:39.511Z"
   },
   {
    "duration": 14,
    "start_time": "2023-04-26T13:42:43.613Z"
   }
  ],
  "kernelspec": {
   "display_name": "Python 3 (ipykernel)",
   "language": "python",
   "name": "python3"
  },
  "language_info": {
   "codemirror_mode": {
    "name": "ipython",
    "version": 3
   },
   "file_extension": ".py",
   "mimetype": "text/x-python",
   "name": "python",
   "nbconvert_exporter": "python",
   "pygments_lexer": "ipython3",
   "version": "3.9.7"
  },
  "toc": {
   "base_numbering": 1,
   "nav_menu": {},
   "number_sections": true,
   "sideBar": true,
   "skip_h1_title": true,
   "title_cell": "Table of Contents",
   "title_sidebar": "Contents",
   "toc_cell": false,
   "toc_position": {
    "height": "calc(100% - 180px)",
    "left": "10px",
    "top": "150px",
    "width": "232.83px"
   },
   "toc_section_display": true,
   "toc_window_display": true
  }
 },
 "nbformat": 4,
 "nbformat_minor": 2
}
