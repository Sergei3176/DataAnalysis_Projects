{
 "cells": [
  {
   "cell_type": "markdown",
   "id": "e3e95daf",
   "metadata": {},
   "source": [
    "# Исследование надежности заемщиков."
   ]
  },
  {
   "cell_type": "markdown",
   "id": "8b1bcb39",
   "metadata": {},
   "source": [
    "Описание исследования.\n",
    "\n",
    "Заказчиком проекта является кредитный отдел банка.\n",
    "Нужно выяснить влияние нескольких параметров - семейного положения, количества детей у клиента, уровня дохода и целей кредита -  на способность погашения кредита в срок.\n",
    "Входные данные от банка — статистика о платёжеспособности клиентов.\n",
    "    \n",
    "Цель исследования.\n",
    "    \n",
    "Представить информацию и выводы для построения модели кредитного скоринга — специальной системы, которая оценивает способность потенциального заёмщика вернуть кредит банку.\n",
    "    \n",
    "Задачи исследования.\n",
    "    \n",
    "Установить наличие зависимости между количеством детей и возвратом кредита в срок.\n",
    "Выяснить, как влияет семейное положение на способность заёмщика вернуть кредит в течение установленного в договоре срока.\n",
    "Установить характер зависимости (если она есть) возврата кредита согласно договору от уровня дохода.\n",
    "Выяснить, влияют ли (и как) разные цели кредита на его возврат в срок.\n",
    "Интерпретировать результаты решения задач с учётом социальной специфики каждой категории заёмщиков и характера социальных отношений в российском обществе. \n",
    "    \n",
    "Исходные данные.\n",
    "    \n",
    "Исходные данные представленны в виде таблицы csv.\n",
    "В таблице 'data' представленны двенадцать параметров для анализа: children, days_employed, dob_years, education, education_id, family_status, family_status_id, gender, income_type, debt, total_income, purpose.\n",
    "В двух столбцах (days_employed и total_income) данные представленны не полностью. Кроме того, большая часть числовой информации в столбце days_employed имеет отрицательное значение.\n",
    "В столбцах education и family_status присутствуют скрытые дубликаты.\n",
    "Столбец children содержит по меньшей мере одну аномалию.\n",
    "Информация в таблице представленна в виде типов данных: float(два столбца), int(пять столбцов), object(пять столбцов)\n",
    "Общий объём данных в таблице несколько превышает 2 мегабайта.\n",
    "    \n",
    "Структура исследования.\n",
    "    \n",
    "[Часть 1. Обзор данных.](#Step1)\n",
    "\n",
    "[Часть 2. Подготовка данных.](#Step2)\n",
    "  1. Проверка данных на аномалии и исправления.\n",
    "  2. Заполнение пропусков.\n",
    "  3. Изменение типов данных.\n",
    "  4. Удаление дубликатов.\n",
    "  5. Формирование дополнительных датафреймов словарей, декомпозиция исходного датафрейма.\n",
    "  6. Категоризация дохода.\n",
    "  7. Категоризация целей кредита.\n",
    "\n",
    "[Часть 3. Исследование и интерпретация данных.](#Step3)\n",
    "1. Изучение зависимости между количеством детей и возвратом кредита в срок.\n",
    "2. Выявление влияния семейного положения на способность заёмщика вернуть кредит в течение установленного в договоре срока.\n",
    "3. Установление наличия и характера зависимости возврата кредита согласно договору от уровня дохода.\n",
    "4. Выявление влияния целей кредита на его возврат в срок.\n",
    "\n",
    "[Часть 4. Составление общего вывода по исследованию.](#Step4)\n",
    "1. Интерпретация результатов исследования.\n",
    "2. Общий вывод по исследованию.\n",
    "   \n"
   ]
  },
  {
   "cell_type": "markdown",
   "id": "21490dbe",
   "metadata": {},
   "source": [
    "### Шаг 1. Обзор данных\n",
    "<a id='Step1'></a>"
   ]
  },
  {
   "cell_type": "code",
   "execution_count": 1,
   "id": "7cc1a8b9",
   "metadata": {},
   "outputs": [
    {
     "name": "stdout",
     "output_type": "stream",
     "text": [
      "<class 'pandas.core.frame.DataFrame'>\n",
      "RangeIndex: 21525 entries, 0 to 21524\n",
      "Data columns (total 12 columns):\n",
      " #   Column            Non-Null Count  Dtype  \n",
      "---  ------            --------------  -----  \n",
      " 0   children          21525 non-null  int64  \n",
      " 1   days_employed     19351 non-null  float64\n",
      " 2   dob_years         21525 non-null  int64  \n",
      " 3   education         21525 non-null  object \n",
      " 4   education_id      21525 non-null  int64  \n",
      " 5   family_status     21525 non-null  object \n",
      " 6   family_status_id  21525 non-null  int64  \n",
      " 7   gender            21525 non-null  object \n",
      " 8   income_type       21525 non-null  object \n",
      " 9   debt              21525 non-null  int64  \n",
      " 10  total_income      19351 non-null  float64\n",
      " 11  purpose           21525 non-null  object \n",
      "dtypes: float64(2), int64(5), object(5)\n",
      "memory usage: 2.0+ MB\n"
     ]
    }
   ],
   "source": [
    "import pandas as pd\n",
    "data_table = pd.read_csv('/datasets/data.csv')\n",
    "data_table.info()# Определяем размер таблицы, корректность названий колонок. Проверяем типы данных в каждом столбце таблицы и полноту данных\n"
   ]
  },
  {
   "cell_type": "markdown",
   "id": "c525f873",
   "metadata": {},
   "source": [
    "В столбцах days_employed и total_income отсутствует по 2174 значения"
   ]
  },
  {
   "cell_type": "markdown",
   "id": "678abdd5",
   "metadata": {},
   "source": [
    "### Шаг 2 Подготовка данных.\n",
    "<a id='Step2'></a>"
   ]
  },
  {
   "cell_type": "markdown",
   "id": "0ee9afd5",
   "metadata": {},
   "source": [
    "### Шаг 2.1 Проверка данных на аномалии и исправления."
   ]
  },
  {
   "cell_type": "code",
   "execution_count": 2,
   "id": "5d9e4076",
   "metadata": {},
   "outputs": [
    {
     "data": {
      "text/plain": [
       "401755.40047533"
      ]
     },
     "metadata": {},
     "output_type": "display_data"
    },
    {
     "data": {
      "text/plain": [
       "children            3447\n",
       "days_employed       3447\n",
       "dob_years           3447\n",
       "education           3447\n",
       "education_id        3447\n",
       "family_status       3447\n",
       "family_status_id    3447\n",
       "gender              3447\n",
       "income_type         3447\n",
       "debt                3447\n",
       "total_income        3447\n",
       "purpose             3447\n",
       "dtype: int64"
      ]
     },
     "metadata": {},
     "output_type": "display_data"
    },
    {
     "data": {
      "text/plain": [
       "401755.40047533"
      ]
     },
     "metadata": {},
     "output_type": "display_data"
    },
    {
     "data": {
      "text/plain": [
       "16593.472817263817"
      ]
     },
     "metadata": {},
     "output_type": "display_data"
    }
   ],
   "source": [
    "try:\n",
    "    data_table['days_employed'] = data_table['days_employed'].abs()\n",
    "except:\n",
    "    data_table['days_employed'] = None\n",
    "\n",
    "    \n",
    "display(data_table['days_employed'].max())\n",
    "\n",
    "data_table_error_count = data_table[data_table['days_employed'] > 17167].count()\n",
    "display(data_table_error_count)\n",
    "\n",
    "display(data_table['days_employed'].max())\n",
    "\n",
    "data_table.loc[data_table['days_employed'] > 17167, 'days_employed'] = None\n",
    "\n",
    "display(data_table['days_employed'].max())"
   ]
  },
  {
   "cell_type": "code",
   "execution_count": 3,
   "id": "635a41b9",
   "metadata": {},
   "outputs": [
    {
     "data": {
      "text/plain": [
       " 0     14149\n",
       " 1      4818\n",
       " 2      2055\n",
       " 3       330\n",
       " 20       76\n",
       "-1        47\n",
       " 4        41\n",
       " 5         9\n",
       "Name: children, dtype: int64"
      ]
     },
     "metadata": {},
     "output_type": "display_data"
    },
    {
     "data": {
      "text/plain": [
       "0    14149\n",
       "1     4865\n",
       "2     2131\n",
       "3      330\n",
       "4       41\n",
       "5        9\n",
       "Name: children, dtype: int64"
      ]
     },
     "metadata": {},
     "output_type": "display_data"
    }
   ],
   "source": [
    "display(data_table['children'].value_counts())\n",
    "\n",
    "try:\n",
    "    data_table['children'] = data_table['children'].abs()\n",
    "except:\n",
    "    data_table['children'] = None\n",
    "    \n",
    "\n",
    "data_table.loc[data_table['children'] == 20, 'children'] = 2\n",
    "\n",
    "display(data_table['children'].value_counts())\n"
   ]
  },
  {
   "cell_type": "code",
   "execution_count": 4,
   "id": "5627a579",
   "metadata": {},
   "outputs": [
    {
     "data": {
      "text/plain": [
       "0    19784\n",
       "1     1741\n",
       "Name: debt, dtype: int64"
      ]
     },
     "execution_count": 4,
     "metadata": {},
     "output_type": "execute_result"
    }
   ],
   "source": [
    "data_table['education'].value_counts()\n",
    "\n",
    "\n",
    "data_table['family_status'].value_counts()\n",
    "\n",
    "data_table['income_type'].value_counts()\n",
    "data_table['debt'].value_counts()"
   ]
  },
  {
   "cell_type": "markdown",
   "id": "3794c331",
   "metadata": {},
   "source": [
    "В столбце days_employed присутствует большое количество отрицательных значений - 10,01%. Очевидно, это результат ошибки при выгрузке. Значения в колонке days_employed приведены в пригодное для анализа состояние методом abs().\n",
    "Применив к той же колонке метод max() выяснил, что максимальный стаж работы, согласно данным таблицы, равен 1100 лет. Следовательно, нужно убрать невозможные значения. Если предположить, что человек может работать 8 часов в день с 18 до 65 лет включительно, максимальный стаж можно считать равным 47 годам. Значения, превышающие этот срок нужно удалить и заменить на None, а затем - на среднее значение по столбцу, где 47 лет (17167 дней / 47 * 365,25) - максимальное значение.\n",
    "Значения, превышающие 47 лет в столбце days_employed составляют 16% от общего количества значений. Вместе с пустыми ячейками - 26%\n",
    "\n",
    "В столбце children обнаружил отрицательное количество детей. Изменил отрицательное значение на положительное.\n",
    "Согласно данным таблицы, 69 семей имеют 20 детей. Здесь возможна ошибка, но это могут быть и приёмные семьи с большим количеством воспитанников. В любом случае, их больше, чем семей с 4-мя детьми и значительно больше, чем детей с 5-ю детьми. Очевидно, ноль набран по ошибке, и речь идёт ещё о 69 семьях с 2-мя детьми. Произвёл замену значений \"20\" на  \"2\".\n",
    "В столбцах income_type, family_status, income_type обнаружены скрытые дубликаты. Они будут удалены в шаге 2.4. \n",
    "Для обнаружения дубликатов применён метод value_counts(), поскольку он возвращает уникальные зачения и их количество.\n",
    "\n"
   ]
  },
  {
   "cell_type": "markdown",
   "id": "2ca2f2bb",
   "metadata": {},
   "source": [
    "### Шаг 2.2 Заполнение пропусков"
   ]
  },
  {
   "cell_type": "code",
   "execution_count": 5,
   "id": "d7254e95",
   "metadata": {},
   "outputs": [],
   "source": [
    "days_employed_median = data_table['days_employed'].median()\n",
    "\n",
    "total_income_median = data_table['total_income'].median()\n",
    "\n",
    "data_table['days_employed'].fillna(days_employed_median, inplace=True)\n",
    "data_table['total_income'].fillna(total_income_median, inplace=True)\n",
    "#display(data_table['total_income'].head(30))\n"
   ]
  },
  {
   "cell_type": "markdown",
   "id": "d4362899",
   "metadata": {},
   "source": [
    "Пропущены данные в столбцах: days_employed и total_income. Судя по всему, эти данные пропущены в одних и тех же строках. То есть - их не предоставили одни и те же клиенты. Вероятно они не имеют постоянного источника дохода, либо находятся на пенсии.\n",
    "Пропуски в каждом из двух столбцов составляют 10,1%, что довольно заметно. Кроме того, в столбце days_employed 16% составляют нереалистичные значения. Это слишком много для удаления строк. Данные были бы серьёзно искажены. По этому в столбце days_employed нереалистичные значения заменены на None, затем отсутсвующие значения и None заменены на медианное по столбцу.\n",
    "В столбце total_income заполнить пропуски медианным значением лучшая идея, поскольку, поместив в ячейки среднее значение, мы рискуем получить сильно искажённые данные, из-за большого разброса в заработной плате(Разница между максимальным и минимальным значениями дохода - 106 раз.).\n",
    "Строковые значения в столбце education записаны с применением разных регистров. Привёл их к единообразию методом str.lower().\n",
    "То же с колонкойfamily_status.\n"
   ]
  },
  {
   "cell_type": "markdown",
   "id": "86b92c1f",
   "metadata": {},
   "source": [
    "### Шаг 2.3. Изменение типов данных."
   ]
  },
  {
   "cell_type": "code",
   "execution_count": 6,
   "id": "f46fb876",
   "metadata": {},
   "outputs": [
    {
     "data": {
      "text/plain": [
       "0        253875\n",
       "1        112080\n",
       "2        145885\n",
       "3        267628\n",
       "4        158616\n",
       "          ...  \n",
       "21520    224791\n",
       "21521    155999\n",
       "21522     89672\n",
       "21523    244093\n",
       "21524     82047\n",
       "Name: total_income, Length: 21525, dtype: int32"
      ]
     },
     "metadata": {},
     "output_type": "display_data"
    }
   ],
   "source": [
    "try:\n",
    "    data_table['total_income'] = data_table['total_income'].astype(int)\n",
    "except:\n",
    "    data_table['total_income'] = data_table['total_income']\n",
    "display(data_table['total_income'])"
   ]
  },
  {
   "cell_type": "markdown",
   "id": "9283a473",
   "metadata": {},
   "source": [
    "### Шаг 2.4. Удаление дубликатов."
   ]
  },
  {
   "cell_type": "code",
   "execution_count": 7,
   "id": "624b1e76",
   "metadata": {},
   "outputs": [
    {
     "data": {
      "text/plain": [
       "сотрудник          12578\n",
       "предприниматель     5087\n",
       "пенсионер           3856\n",
       "безработный            2\n",
       "студент                1\n",
       "в декрете              1\n",
       "Name: income_type, dtype: int64"
      ]
     },
     "execution_count": 7,
     "metadata": {},
     "output_type": "execute_result"
    }
   ],
   "source": [
    "data_table['education'] = data_table['education'].str.lower()\n",
    "\n",
    "data_table['family_status'] = data_table['family_status'].str.lower()\n",
    "\n",
    "data_table['income_type'] = data_table['income_type'].replace('компаньон', 'предприниматель')\n",
    "data_table['income_type'] = data_table['income_type'].replace('госслужащий', 'сотрудник')\n",
    "\n",
    "\n",
    "data_table['income_type'].value_counts()\n"
   ]
  },
  {
   "cell_type": "markdown",
   "id": "9592cc51",
   "metadata": {},
   "source": [
    "Явных дубликатов в таблице нет.\n",
    "Неявные дубликаты, выявленные в столбцах education и family_status обработаны с применением\n",
    "метода str.lower(), приводящего значения к одному регистру и избавляющего от неявного\n",
    "дублирования значений. \n",
    "Неявные дубликаты, выявленные в столбце income_type обработаны методом replace():\n",
    "значения \"компаньон\" заменены на \"предприниматель\", поскольку первое - частный случай второго. \n",
    "Значения \"госслужащий\" заменены на \"сотрудник\", по той же причине.\n",
    "Метод value_counts() позволяет убедиться, что скрытые дубликаты исчезли из столбца."
   ]
  },
  {
   "cell_type": "markdown",
   "id": "aae4e042",
   "metadata": {},
   "source": [
    "### Шаг 2.5. Формирование дополнительных датафреймов словарей, декомпозиция исходного датафрейма."
   ]
  },
  {
   "cell_type": "code",
   "execution_count": 8,
   "id": "3a1584cc",
   "metadata": {},
   "outputs": [
    {
     "data": {
      "text/html": [
       "<div>\n",
       "<style scoped>\n",
       "    .dataframe tbody tr th:only-of-type {\n",
       "        vertical-align: middle;\n",
       "    }\n",
       "\n",
       "    .dataframe tbody tr th {\n",
       "        vertical-align: top;\n",
       "    }\n",
       "\n",
       "    .dataframe thead th {\n",
       "        text-align: right;\n",
       "    }\n",
       "</style>\n",
       "<table border=\"1\" class=\"dataframe\">\n",
       "  <thead>\n",
       "    <tr style=\"text-align: right;\">\n",
       "      <th></th>\n",
       "      <th>education</th>\n",
       "    </tr>\n",
       "    <tr>\n",
       "      <th>education_id</th>\n",
       "      <th></th>\n",
       "    </tr>\n",
       "  </thead>\n",
       "  <tbody>\n",
       "    <tr>\n",
       "      <th>0</th>\n",
       "      <td>высшее</td>\n",
       "    </tr>\n",
       "    <tr>\n",
       "      <th>1</th>\n",
       "      <td>среднее</td>\n",
       "    </tr>\n",
       "    <tr>\n",
       "      <th>2</th>\n",
       "      <td>неоконченное высшее</td>\n",
       "    </tr>\n",
       "    <tr>\n",
       "      <th>3</th>\n",
       "      <td>начальное</td>\n",
       "    </tr>\n",
       "    <tr>\n",
       "      <th>4</th>\n",
       "      <td>ученая степень</td>\n",
       "    </tr>\n",
       "  </tbody>\n",
       "</table>\n",
       "</div>"
      ],
      "text/plain": [
       "                        education\n",
       "education_id                     \n",
       "0                          высшее\n",
       "1                         среднее\n",
       "2             неоконченное высшее\n",
       "3                       начальное\n",
       "4                  ученая степень"
      ]
     },
     "metadata": {},
     "output_type": "display_data"
    },
    {
     "data": {
      "text/html": [
       "<div>\n",
       "<style scoped>\n",
       "    .dataframe tbody tr th:only-of-type {\n",
       "        vertical-align: middle;\n",
       "    }\n",
       "\n",
       "    .dataframe tbody tr th {\n",
       "        vertical-align: top;\n",
       "    }\n",
       "\n",
       "    .dataframe thead th {\n",
       "        text-align: right;\n",
       "    }\n",
       "</style>\n",
       "<table border=\"1\" class=\"dataframe\">\n",
       "  <thead>\n",
       "    <tr style=\"text-align: right;\">\n",
       "      <th></th>\n",
       "      <th>family_status</th>\n",
       "    </tr>\n",
       "    <tr>\n",
       "      <th>family_status_id</th>\n",
       "      <th></th>\n",
       "    </tr>\n",
       "  </thead>\n",
       "  <tbody>\n",
       "    <tr>\n",
       "      <th>0</th>\n",
       "      <td>женат / замужем</td>\n",
       "    </tr>\n",
       "    <tr>\n",
       "      <th>1</th>\n",
       "      <td>гражданский брак</td>\n",
       "    </tr>\n",
       "    <tr>\n",
       "      <th>2</th>\n",
       "      <td>вдовец / вдова</td>\n",
       "    </tr>\n",
       "    <tr>\n",
       "      <th>3</th>\n",
       "      <td>в разводе</td>\n",
       "    </tr>\n",
       "    <tr>\n",
       "      <th>4</th>\n",
       "      <td>не женат / не замужем</td>\n",
       "    </tr>\n",
       "  </tbody>\n",
       "</table>\n",
       "</div>"
      ],
      "text/plain": [
       "                          family_status\n",
       "family_status_id                       \n",
       "0                       женат / замужем\n",
       "1                      гражданский брак\n",
       "2                        вдовец / вдова\n",
       "3                             в разводе\n",
       "4                 не женат / не замужем"
      ]
     },
     "metadata": {},
     "output_type": "display_data"
    }
   ],
   "source": [
    "education_dic = data_table[['education_id', 'education']] \n",
    "education_dic = education_dic.drop_duplicates().reset_index(drop=True).set_index('education_id')\n",
    "\n",
    "family_status_dic = data_table [['family_status_id', 'family_status']]\n",
    "family_status_dic = family_status_dic.drop_duplicates().reset_index(drop=True).set_index('family_status_id')\n",
    "\n",
    "data_table.drop(columns = ['education', 'family_status'], axis = 1, inplace = True)\n",
    "#display(data_table)\n",
    "\n",
    "display(education_dic.tail(30))\n",
    "display(family_status_dic)"
   ]
  },
  {
   "cell_type": "markdown",
   "id": "a2b43c36",
   "metadata": {},
   "source": [
    "### Шаг 2.6. Категоризация дохода."
   ]
  },
  {
   "cell_type": "code",
   "execution_count": 9,
   "id": "b1685973",
   "metadata": {},
   "outputs": [
    {
     "data": {
      "text/plain": [
       "'C'"
      ]
     },
     "metadata": {},
     "output_type": "display_data"
    }
   ],
   "source": [
    "def total_income_category(income):\n",
    "    '''\n",
    "     Возвращает возрастную группу по значению дохода income, используя правила:\n",
    "    - 'E', если income <= 3000;\n",
    "    - 'D', если income от 3001 до 50000;\n",
    "    - 'C', если income от 50001 до 200000;\n",
    "    - 'B', если income от 200001 до 1000000;\n",
    "    - 'A', если income 1000001 и выше.\n",
    "    '''\n",
    "    if income <= 3000:\n",
    "        return 'E'\n",
    "    if income <= 50000:\n",
    "        return 'D'\n",
    "    if income <= 200000:\n",
    "        return 'C'\n",
    "    if income <= 1000000:\n",
    "        return 'B'\n",
    "    return 'A'\n",
    "#Тестирую корректность работы функции\n",
    "display(total_income_category(53637))\n",
    "\n",
    "\n",
    "data_table['total_income_category'] = data_table['total_income'].apply(total_income_category)\n",
    "#display(data_table)\n"
   ]
  },
  {
   "cell_type": "markdown",
   "id": "aa9b107f",
   "metadata": {},
   "source": [
    "### Шаг 2.7. Категоризация целей кредита."
   ]
  },
  {
   "cell_type": "code",
   "execution_count": 10,
   "id": "79ef8949",
   "metadata": {},
   "outputs": [
    {
     "data": {
      "text/plain": [
       "'операции с недвижимостью'"
      ]
     },
     "metadata": {},
     "output_type": "display_data"
    },
    {
     "data": {
      "text/html": [
       "<div>\n",
       "<style scoped>\n",
       "    .dataframe tbody tr th:only-of-type {\n",
       "        vertical-align: middle;\n",
       "    }\n",
       "\n",
       "    .dataframe tbody tr th {\n",
       "        vertical-align: top;\n",
       "    }\n",
       "\n",
       "    .dataframe thead th {\n",
       "        text-align: right;\n",
       "    }\n",
       "</style>\n",
       "<table border=\"1\" class=\"dataframe\">\n",
       "  <thead>\n",
       "    <tr style=\"text-align: right;\">\n",
       "      <th></th>\n",
       "      <th>children</th>\n",
       "      <th>days_employed</th>\n",
       "      <th>dob_years</th>\n",
       "      <th>education_id</th>\n",
       "      <th>family_status_id</th>\n",
       "      <th>gender</th>\n",
       "      <th>income_type</th>\n",
       "      <th>debt</th>\n",
       "      <th>total_income</th>\n",
       "      <th>purpose</th>\n",
       "      <th>total_income_category</th>\n",
       "      <th>purpose_category</th>\n",
       "    </tr>\n",
       "  </thead>\n",
       "  <tbody>\n",
       "    <tr>\n",
       "      <th>0</th>\n",
       "      <td>1</td>\n",
       "      <td>8437.673028</td>\n",
       "      <td>42</td>\n",
       "      <td>0</td>\n",
       "      <td>0</td>\n",
       "      <td>F</td>\n",
       "      <td>сотрудник</td>\n",
       "      <td>0</td>\n",
       "      <td>253875</td>\n",
       "      <td>покупка жилья</td>\n",
       "      <td>B</td>\n",
       "      <td>операции с недвижимостью</td>\n",
       "    </tr>\n",
       "    <tr>\n",
       "      <th>1</th>\n",
       "      <td>1</td>\n",
       "      <td>4024.803754</td>\n",
       "      <td>36</td>\n",
       "      <td>1</td>\n",
       "      <td>0</td>\n",
       "      <td>F</td>\n",
       "      <td>сотрудник</td>\n",
       "      <td>0</td>\n",
       "      <td>112080</td>\n",
       "      <td>приобретение автомобиля</td>\n",
       "      <td>C</td>\n",
       "      <td>операции с автомобилем</td>\n",
       "    </tr>\n",
       "    <tr>\n",
       "      <th>2</th>\n",
       "      <td>0</td>\n",
       "      <td>5623.422610</td>\n",
       "      <td>33</td>\n",
       "      <td>1</td>\n",
       "      <td>0</td>\n",
       "      <td>M</td>\n",
       "      <td>сотрудник</td>\n",
       "      <td>0</td>\n",
       "      <td>145885</td>\n",
       "      <td>покупка жилья</td>\n",
       "      <td>C</td>\n",
       "      <td>операции с недвижимостью</td>\n",
       "    </tr>\n",
       "    <tr>\n",
       "      <th>3</th>\n",
       "      <td>3</td>\n",
       "      <td>4124.747207</td>\n",
       "      <td>32</td>\n",
       "      <td>1</td>\n",
       "      <td>0</td>\n",
       "      <td>M</td>\n",
       "      <td>сотрудник</td>\n",
       "      <td>0</td>\n",
       "      <td>267628</td>\n",
       "      <td>дополнительное образование</td>\n",
       "      <td>B</td>\n",
       "      <td>получение образования</td>\n",
       "    </tr>\n",
       "    <tr>\n",
       "      <th>4</th>\n",
       "      <td>0</td>\n",
       "      <td>1629.851736</td>\n",
       "      <td>53</td>\n",
       "      <td>1</td>\n",
       "      <td>1</td>\n",
       "      <td>F</td>\n",
       "      <td>пенсионер</td>\n",
       "      <td>0</td>\n",
       "      <td>158616</td>\n",
       "      <td>сыграть свадьбу</td>\n",
       "      <td>C</td>\n",
       "      <td>проведение свадьбы</td>\n",
       "    </tr>\n",
       "    <tr>\n",
       "      <th>...</th>\n",
       "      <td>...</td>\n",
       "      <td>...</td>\n",
       "      <td>...</td>\n",
       "      <td>...</td>\n",
       "      <td>...</td>\n",
       "      <td>...</td>\n",
       "      <td>...</td>\n",
       "      <td>...</td>\n",
       "      <td>...</td>\n",
       "      <td>...</td>\n",
       "      <td>...</td>\n",
       "      <td>...</td>\n",
       "    </tr>\n",
       "    <tr>\n",
       "      <th>21520</th>\n",
       "      <td>1</td>\n",
       "      <td>4529.316663</td>\n",
       "      <td>43</td>\n",
       "      <td>1</td>\n",
       "      <td>1</td>\n",
       "      <td>F</td>\n",
       "      <td>предприниматель</td>\n",
       "      <td>0</td>\n",
       "      <td>224791</td>\n",
       "      <td>операции с жильем</td>\n",
       "      <td>B</td>\n",
       "      <td>операции с недвижимостью</td>\n",
       "    </tr>\n",
       "    <tr>\n",
       "      <th>21521</th>\n",
       "      <td>0</td>\n",
       "      <td>1629.851736</td>\n",
       "      <td>67</td>\n",
       "      <td>1</td>\n",
       "      <td>0</td>\n",
       "      <td>F</td>\n",
       "      <td>пенсионер</td>\n",
       "      <td>0</td>\n",
       "      <td>155999</td>\n",
       "      <td>сделка с автомобилем</td>\n",
       "      <td>C</td>\n",
       "      <td>операции с автомобилем</td>\n",
       "    </tr>\n",
       "    <tr>\n",
       "      <th>21522</th>\n",
       "      <td>1</td>\n",
       "      <td>2113.346888</td>\n",
       "      <td>38</td>\n",
       "      <td>1</td>\n",
       "      <td>1</td>\n",
       "      <td>M</td>\n",
       "      <td>сотрудник</td>\n",
       "      <td>1</td>\n",
       "      <td>89672</td>\n",
       "      <td>недвижимость</td>\n",
       "      <td>C</td>\n",
       "      <td>операции с недвижимостью</td>\n",
       "    </tr>\n",
       "    <tr>\n",
       "      <th>21523</th>\n",
       "      <td>3</td>\n",
       "      <td>3112.481705</td>\n",
       "      <td>38</td>\n",
       "      <td>1</td>\n",
       "      <td>0</td>\n",
       "      <td>M</td>\n",
       "      <td>сотрудник</td>\n",
       "      <td>1</td>\n",
       "      <td>244093</td>\n",
       "      <td>на покупку своего автомобиля</td>\n",
       "      <td>B</td>\n",
       "      <td>операции с автомобилем</td>\n",
       "    </tr>\n",
       "    <tr>\n",
       "      <th>21524</th>\n",
       "      <td>2</td>\n",
       "      <td>1984.507589</td>\n",
       "      <td>40</td>\n",
       "      <td>1</td>\n",
       "      <td>0</td>\n",
       "      <td>F</td>\n",
       "      <td>сотрудник</td>\n",
       "      <td>0</td>\n",
       "      <td>82047</td>\n",
       "      <td>на покупку автомобиля</td>\n",
       "      <td>C</td>\n",
       "      <td>операции с автомобилем</td>\n",
       "    </tr>\n",
       "  </tbody>\n",
       "</table>\n",
       "<p>21525 rows × 12 columns</p>\n",
       "</div>"
      ],
      "text/plain": [
       "       children  days_employed  dob_years  education_id  family_status_id  \\\n",
       "0             1    8437.673028         42             0                 0   \n",
       "1             1    4024.803754         36             1                 0   \n",
       "2             0    5623.422610         33             1                 0   \n",
       "3             3    4124.747207         32             1                 0   \n",
       "4             0    1629.851736         53             1                 1   \n",
       "...         ...            ...        ...           ...               ...   \n",
       "21520         1    4529.316663         43             1                 1   \n",
       "21521         0    1629.851736         67             1                 0   \n",
       "21522         1    2113.346888         38             1                 1   \n",
       "21523         3    3112.481705         38             1                 0   \n",
       "21524         2    1984.507589         40             1                 0   \n",
       "\n",
       "      gender      income_type  debt  total_income  \\\n",
       "0          F        сотрудник     0        253875   \n",
       "1          F        сотрудник     0        112080   \n",
       "2          M        сотрудник     0        145885   \n",
       "3          M        сотрудник     0        267628   \n",
       "4          F        пенсионер     0        158616   \n",
       "...      ...              ...   ...           ...   \n",
       "21520      F  предприниматель     0        224791   \n",
       "21521      F        пенсионер     0        155999   \n",
       "21522      M        сотрудник     1         89672   \n",
       "21523      M        сотрудник     1        244093   \n",
       "21524      F        сотрудник     0         82047   \n",
       "\n",
       "                            purpose total_income_category  \\\n",
       "0                     покупка жилья                     B   \n",
       "1           приобретение автомобиля                     C   \n",
       "2                     покупка жилья                     C   \n",
       "3        дополнительное образование                     B   \n",
       "4                   сыграть свадьбу                     C   \n",
       "...                             ...                   ...   \n",
       "21520             операции с жильем                     B   \n",
       "21521          сделка с автомобилем                     C   \n",
       "21522                  недвижимость                     C   \n",
       "21523  на покупку своего автомобиля                     B   \n",
       "21524         на покупку автомобиля                     C   \n",
       "\n",
       "               purpose_category  \n",
       "0      операции с недвижимостью  \n",
       "1        операции с автомобилем  \n",
       "2      операции с недвижимостью  \n",
       "3         получение образования  \n",
       "4            проведение свадьбы  \n",
       "...                         ...  \n",
       "21520  операции с недвижимостью  \n",
       "21521    операции с автомобилем  \n",
       "21522  операции с недвижимостью  \n",
       "21523    операции с автомобилем  \n",
       "21524    операции с автомобилем  \n",
       "\n",
       "[21525 rows x 12 columns]"
      ]
     },
     "metadata": {},
     "output_type": "display_data"
    }
   ],
   "source": [
    "#data_table['purpose'].value_counts()\n",
    "\n",
    "def purpose_category(purpose):\n",
    "    '''\n",
    "     Возвращает единую формулировку по каждой цели заёмщиков по значению цели кредита purpose,\n",
    "     используя правила:\n",
    "    - 'операции с автомобилем', если в строке purpose встречается 'автомобил';\n",
    "    - 'операции с недвижимостью', если в строке purpose встречается 'недвижимост';\n",
    "    - 'проведение свадьбы', если в строке purpose встречается 'свадьб';\n",
    "    - 'получение образования', если в строке purpose встречается 'образовани'.\n",
    "    '''\n",
    "    if purpose.find('свадьб') >= 0:\n",
    "        return 'проведение свадьбы'\n",
    "    if purpose.find(\"автомобил\") >= 0:\n",
    "        return 'операции с автомобилем'\n",
    "    if purpose.find('недвижимост') >= 0:\n",
    "        return 'операции с недвижимостью'\n",
    "    if purpose.find('жил') >= 0:\n",
    "        return 'операции с недвижимостью'\n",
    "    if purpose.find('образовани') >= 0:\n",
    "        return 'получение образования'\n",
    "    \n",
    "\n",
    "\n",
    "data_table['purpose_category'] = data_table['purpose'].apply(purpose_category)\n",
    "display(data_table)"
   ]
  },
  {
   "cell_type": "markdown",
   "id": "e8d004d6",
   "metadata": {},
   "source": [
    "### Шаг 3. Ответы на вопросы.\n",
    "<a id='Step3'></a>"
   ]
  },
  {
   "cell_type": "markdown",
   "id": "d7526bb1",
   "metadata": {},
   "source": [
    "##### Вопрос 1: Есть ли зависимость между количеством детей и возвратом кредита в срок?"
   ]
  },
  {
   "cell_type": "code",
   "execution_count": 11,
   "id": "8945f778",
   "metadata": {},
   "outputs": [
    {
     "data": {
      "text/html": [
       "<div>\n",
       "<style scoped>\n",
       "    .dataframe tbody tr th:only-of-type {\n",
       "        vertical-align: middle;\n",
       "    }\n",
       "\n",
       "    .dataframe tbody tr th {\n",
       "        vertical-align: top;\n",
       "    }\n",
       "\n",
       "    .dataframe thead tr th {\n",
       "        text-align: left;\n",
       "    }\n",
       "\n",
       "    .dataframe thead tr:last-of-type th {\n",
       "        text-align: right;\n",
       "    }\n",
       "</style>\n",
       "<table border=\"1\" class=\"dataframe\">\n",
       "  <thead>\n",
       "    <tr>\n",
       "      <th></th>\n",
       "      <th colspan=\"2\" halign=\"left\">median</th>\n",
       "    </tr>\n",
       "    <tr>\n",
       "      <th>debt</th>\n",
       "      <th>0</th>\n",
       "      <th>1</th>\n",
       "    </tr>\n",
       "    <tr>\n",
       "      <th>children</th>\n",
       "      <th></th>\n",
       "      <th></th>\n",
       "    </tr>\n",
       "  </thead>\n",
       "  <tbody>\n",
       "    <tr>\n",
       "      <th>0</th>\n",
       "      <td>145017.0</td>\n",
       "      <td>145017.0</td>\n",
       "    </tr>\n",
       "    <tr>\n",
       "      <th>1</th>\n",
       "      <td>145017.0</td>\n",
       "      <td>145017.0</td>\n",
       "    </tr>\n",
       "    <tr>\n",
       "      <th>2</th>\n",
       "      <td>145017.0</td>\n",
       "      <td>145017.0</td>\n",
       "    </tr>\n",
       "    <tr>\n",
       "      <th>3</th>\n",
       "      <td>145017.0</td>\n",
       "      <td>145017.0</td>\n",
       "    </tr>\n",
       "    <tr>\n",
       "      <th>4</th>\n",
       "      <td>145017.0</td>\n",
       "      <td>164076.0</td>\n",
       "    </tr>\n",
       "    <tr>\n",
       "      <th>5</th>\n",
       "      <td>168460.0</td>\n",
       "      <td>NaN</td>\n",
       "    </tr>\n",
       "  </tbody>\n",
       "</table>\n",
       "</div>"
      ],
      "text/plain": [
       "            median          \n",
       "debt             0         1\n",
       "children                    \n",
       "0         145017.0  145017.0\n",
       "1         145017.0  145017.0\n",
       "2         145017.0  145017.0\n",
       "3         145017.0  145017.0\n",
       "4         145017.0  164076.0\n",
       "5         168460.0       NaN"
      ]
     },
     "metadata": {},
     "output_type": "display_data"
    },
    {
     "data": {
      "text/html": [
       "<div>\n",
       "<style scoped>\n",
       "    .dataframe tbody tr th:only-of-type {\n",
       "        vertical-align: middle;\n",
       "    }\n",
       "\n",
       "    .dataframe tbody tr th {\n",
       "        vertical-align: top;\n",
       "    }\n",
       "\n",
       "    .dataframe thead tr th {\n",
       "        text-align: left;\n",
       "    }\n",
       "\n",
       "    .dataframe thead tr:last-of-type th {\n",
       "        text-align: right;\n",
       "    }\n",
       "</style>\n",
       "<table border=\"1\" class=\"dataframe\">\n",
       "  <thead>\n",
       "    <tr>\n",
       "      <th></th>\n",
       "      <th colspan=\"3\" halign=\"left\">debt</th>\n",
       "    </tr>\n",
       "    <tr>\n",
       "      <th></th>\n",
       "      <th>mean</th>\n",
       "      <th>sum</th>\n",
       "      <th>count</th>\n",
       "    </tr>\n",
       "    <tr>\n",
       "      <th>children</th>\n",
       "      <th></th>\n",
       "      <th></th>\n",
       "      <th></th>\n",
       "    </tr>\n",
       "  </thead>\n",
       "  <tbody>\n",
       "    <tr>\n",
       "      <th>0</th>\n",
       "      <td>0.075129</td>\n",
       "      <td>1063</td>\n",
       "      <td>14149</td>\n",
       "    </tr>\n",
       "    <tr>\n",
       "      <th>1</th>\n",
       "      <td>0.091470</td>\n",
       "      <td>445</td>\n",
       "      <td>4865</td>\n",
       "    </tr>\n",
       "    <tr>\n",
       "      <th>2</th>\n",
       "      <td>0.094791</td>\n",
       "      <td>202</td>\n",
       "      <td>2131</td>\n",
       "    </tr>\n",
       "    <tr>\n",
       "      <th>3</th>\n",
       "      <td>0.081818</td>\n",
       "      <td>27</td>\n",
       "      <td>330</td>\n",
       "    </tr>\n",
       "    <tr>\n",
       "      <th>4</th>\n",
       "      <td>0.097561</td>\n",
       "      <td>4</td>\n",
       "      <td>41</td>\n",
       "    </tr>\n",
       "    <tr>\n",
       "      <th>5</th>\n",
       "      <td>0.000000</td>\n",
       "      <td>0</td>\n",
       "      <td>9</td>\n",
       "    </tr>\n",
       "  </tbody>\n",
       "</table>\n",
       "</div>"
      ],
      "text/plain": [
       "              debt             \n",
       "              mean   sum  count\n",
       "children                       \n",
       "0         0.075129  1063  14149\n",
       "1         0.091470   445   4865\n",
       "2         0.094791   202   2131\n",
       "3         0.081818    27    330\n",
       "4         0.097561     4     41\n",
       "5         0.000000     0      9"
      ]
     },
     "metadata": {},
     "output_type": "display_data"
    }
   ],
   "source": [
    "final_data_table = data_table.pivot_table(index='children', columns=\"debt\", values='total_income', aggfunc=['median'])\n",
    "\n",
    "grouped_table = data_table.groupby('children').agg({'debt': ['mean', 'sum', 'count']})\n",
    "\n",
    "display(final_data_table)\n",
    "display(grouped_table)"
   ]
  },
  {
   "cell_type": "markdown",
   "id": "0dc41c81",
   "metadata": {},
   "source": [
    "##### Вывод 1:"
   ]
  },
  {
   "cell_type": "markdown",
   "id": "b35ae419",
   "metadata": {},
   "source": [
    "Сводная таблица показывает, что в 5-ти группах семей из 6-ти средний размер дохода исправных плательщиков и должников не отличается, кроме семей с тремя детьми.\n",
    "Медианная зарплата в каждой группе различается ещё меньше, кроме семей с 4-мя детьми, где должники имеют больший доход, чем не имеющие задолженности. Семьи с 5-ю детьми имеют доход на 16.16% более высокий, чем другие плательщики.\n",
    "Из второй таблицы видно, что разница в среднем размере задолженности бездетных заёмщиков и заёмщиков с 4-мя детьми составляет 2.2 процентных пункта, что представляется некритичным.\n",
    "Но если объём задолженности бездетных взять за 100%, задолженность семей с 4-мя детьми будет на 13% выше.\n",
    "Что заметно, но не критично.\n",
    "Обращает на себя внимание, что семьи с 5-детьми не имеют задолженности вовсе. Они могут быть более дисциплинированы в силу жизненных обстоятельств. Либо у нас нет репрезентативных данных. В списке всего 9 таких семей и отсутствие задолженности у всех девяти может быть случайным.\n",
    "Отсутствие детей несколько повышает уровень погашения кредита, но не принципиально."
   ]
  },
  {
   "cell_type": "markdown",
   "id": "a826a57a",
   "metadata": {},
   "source": [
    "##### Вопрос 2: Есть ли зависимость между семейным положением и возвратом кредита в срок?\n"
   ]
  },
  {
   "cell_type": "code",
   "execution_count": 12,
   "id": "26c381c8",
   "metadata": {},
   "outputs": [
    {
     "data": {
      "text/html": [
       "<div>\n",
       "<style scoped>\n",
       "    .dataframe tbody tr th:only-of-type {\n",
       "        vertical-align: middle;\n",
       "    }\n",
       "\n",
       "    .dataframe tbody tr th {\n",
       "        vertical-align: top;\n",
       "    }\n",
       "\n",
       "    .dataframe thead tr th {\n",
       "        text-align: left;\n",
       "    }\n",
       "\n",
       "    .dataframe thead tr:last-of-type th {\n",
       "        text-align: right;\n",
       "    }\n",
       "</style>\n",
       "<table border=\"1\" class=\"dataframe\">\n",
       "  <thead>\n",
       "    <tr>\n",
       "      <th></th>\n",
       "      <th colspan=\"2\" halign=\"left\">median</th>\n",
       "    </tr>\n",
       "    <tr>\n",
       "      <th>debt</th>\n",
       "      <th>0</th>\n",
       "      <th>1</th>\n",
       "    </tr>\n",
       "    <tr>\n",
       "      <th>family_status_id</th>\n",
       "      <th></th>\n",
       "      <th></th>\n",
       "    </tr>\n",
       "  </thead>\n",
       "  <tbody>\n",
       "    <tr>\n",
       "      <th>0</th>\n",
       "      <td>145017</td>\n",
       "      <td>145017</td>\n",
       "    </tr>\n",
       "    <tr>\n",
       "      <th>1</th>\n",
       "      <td>145017</td>\n",
       "      <td>145017</td>\n",
       "    </tr>\n",
       "    <tr>\n",
       "      <th>2</th>\n",
       "      <td>134549</td>\n",
       "      <td>145017</td>\n",
       "    </tr>\n",
       "    <tr>\n",
       "      <th>3</th>\n",
       "      <td>145017</td>\n",
       "      <td>145017</td>\n",
       "    </tr>\n",
       "    <tr>\n",
       "      <th>4</th>\n",
       "      <td>145017</td>\n",
       "      <td>145017</td>\n",
       "    </tr>\n",
       "  </tbody>\n",
       "</table>\n",
       "</div>"
      ],
      "text/plain": [
       "                  median        \n",
       "debt                   0       1\n",
       "family_status_id                \n",
       "0                 145017  145017\n",
       "1                 145017  145017\n",
       "2                 134549  145017\n",
       "3                 145017  145017\n",
       "4                 145017  145017"
      ]
     },
     "metadata": {},
     "output_type": "display_data"
    },
    {
     "data": {
      "text/html": [
       "<div>\n",
       "<style scoped>\n",
       "    .dataframe tbody tr th:only-of-type {\n",
       "        vertical-align: middle;\n",
       "    }\n",
       "\n",
       "    .dataframe tbody tr th {\n",
       "        vertical-align: top;\n",
       "    }\n",
       "\n",
       "    .dataframe thead tr th {\n",
       "        text-align: left;\n",
       "    }\n",
       "\n",
       "    .dataframe thead tr:last-of-type th {\n",
       "        text-align: right;\n",
       "    }\n",
       "</style>\n",
       "<table border=\"1\" class=\"dataframe\">\n",
       "  <thead>\n",
       "    <tr>\n",
       "      <th></th>\n",
       "      <th colspan=\"3\" halign=\"left\">debt</th>\n",
       "    </tr>\n",
       "    <tr>\n",
       "      <th></th>\n",
       "      <th>mean</th>\n",
       "      <th>sum</th>\n",
       "      <th>count</th>\n",
       "    </tr>\n",
       "    <tr>\n",
       "      <th>family_status_id</th>\n",
       "      <th></th>\n",
       "      <th></th>\n",
       "      <th></th>\n",
       "    </tr>\n",
       "  </thead>\n",
       "  <tbody>\n",
       "    <tr>\n",
       "      <th>0</th>\n",
       "      <td>0.075202</td>\n",
       "      <td>931</td>\n",
       "      <td>12380</td>\n",
       "    </tr>\n",
       "    <tr>\n",
       "      <th>1</th>\n",
       "      <td>0.092890</td>\n",
       "      <td>388</td>\n",
       "      <td>4177</td>\n",
       "    </tr>\n",
       "    <tr>\n",
       "      <th>2</th>\n",
       "      <td>0.065625</td>\n",
       "      <td>63</td>\n",
       "      <td>960</td>\n",
       "    </tr>\n",
       "    <tr>\n",
       "      <th>3</th>\n",
       "      <td>0.071130</td>\n",
       "      <td>85</td>\n",
       "      <td>1195</td>\n",
       "    </tr>\n",
       "    <tr>\n",
       "      <th>4</th>\n",
       "      <td>0.097405</td>\n",
       "      <td>274</td>\n",
       "      <td>2813</td>\n",
       "    </tr>\n",
       "  </tbody>\n",
       "</table>\n",
       "</div>"
      ],
      "text/plain": [
       "                      debt            \n",
       "                      mean  sum  count\n",
       "family_status_id                      \n",
       "0                 0.075202  931  12380\n",
       "1                 0.092890  388   4177\n",
       "2                 0.065625   63    960\n",
       "3                 0.071130   85   1195\n",
       "4                 0.097405  274   2813"
      ]
     },
     "metadata": {},
     "output_type": "display_data"
    }
   ],
   "source": [
    "final_data_table = data_table.pivot_table(index='family_status_id', columns=\"debt\", values='total_income', aggfunc=['median'])\n",
    "\n",
    "grouped_table = data_table.groupby('family_status_id').agg({'debt': ['mean', 'sum', 'count']})\n",
    "\n",
    "display(final_data_table)\n",
    "display(grouped_table)"
   ]
  },
  {
   "cell_type": "markdown",
   "id": "ed228a40",
   "metadata": {},
   "source": [
    "##### Вывод 2:"
   ]
  },
  {
   "cell_type": "markdown",
   "id": "e34ea50c",
   "metadata": {},
   "source": [
    "Средний доход в группах по семейному статусу для должников и исправных плательщиков принципиально не отличается. Средний доход разведённых должников несколько превышает этот показатель у дисциплинированных заёмщиков. Если сравнивать медианный доход групп по семейному статусу, можно обнаружить, что он идентичен у всех, кроме исправно платящих вдовцов,\n",
    "медианный доход которых ниже, чем у всех должников.\n",
    "    Вторая таблица даёт информацию о том, что средняя доля непогашенных кредитов по группам колеблется от 6.5% у вдовцов до 9.7% у не вступивших в брак. Разница в 3.2 процентных пункта не представляется значительной. Но если объём задолженности вдовцов взять за 100%, то разница с объёмом задолженности не вступивших в брак будет выглядеть значительно и составит 9.2%. Вывод о разнице в объёмах просроченных кредитов здесь будет зависеть от детализации цели заказчика.\n",
    "    В целом ситуация лучше у вдовых и разведённых (они старше, и их финансовая база уже сложилась;\n",
    "здесь было бы хорошо посмотреть, у кого из них есть дети, и сколько их - возможно, им не нужно тратить деньги на содержание других членов семьи). Несколько хуже справляются люди, состоящие в браке. Хуже всего ситуация у состоящих в гражданском браке и не состоящих в браке.\n",
    "Здесь разница может быть вызвана чувством ответственности, которым связаны люди, состоящие или состоявшие в официально оформленном браке. Поскольку люди в этом случае осознают, что принимают на себя целый ряд обязательств по отношению к семье."
   ]
  },
  {
   "cell_type": "markdown",
   "id": "32139438",
   "metadata": {},
   "source": [
    "##### Вопрос 3: Есть ли зависимость между уровнем дохода и возвратом кредита в срок?"
   ]
  },
  {
   "cell_type": "code",
   "execution_count": 13,
   "id": "345f6e2d",
   "metadata": {},
   "outputs": [
    {
     "data": {
      "text/html": [
       "<div>\n",
       "<style scoped>\n",
       "    .dataframe tbody tr th:only-of-type {\n",
       "        vertical-align: middle;\n",
       "    }\n",
       "\n",
       "    .dataframe tbody tr th {\n",
       "        vertical-align: top;\n",
       "    }\n",
       "\n",
       "    .dataframe thead th {\n",
       "        text-align: right;\n",
       "    }\n",
       "</style>\n",
       "<table border=\"1\" class=\"dataframe\">\n",
       "  <thead>\n",
       "    <tr style=\"text-align: right;\">\n",
       "      <th>debt</th>\n",
       "      <th>0</th>\n",
       "      <th>1</th>\n",
       "    </tr>\n",
       "    <tr>\n",
       "      <th>total_income_category</th>\n",
       "      <th></th>\n",
       "      <th></th>\n",
       "    </tr>\n",
       "  </thead>\n",
       "  <tbody>\n",
       "    <tr>\n",
       "      <th>A</th>\n",
       "      <td>1223042.0</td>\n",
       "      <td>1615875.5</td>\n",
       "    </tr>\n",
       "    <tr>\n",
       "      <th>B</th>\n",
       "      <td>257788.0</td>\n",
       "      <td>256466.5</td>\n",
       "    </tr>\n",
       "    <tr>\n",
       "      <th>C</th>\n",
       "      <td>133877.0</td>\n",
       "      <td>135682.5</td>\n",
       "    </tr>\n",
       "    <tr>\n",
       "      <th>D</th>\n",
       "      <td>43166.0</td>\n",
       "      <td>42915.0</td>\n",
       "    </tr>\n",
       "  </tbody>\n",
       "</table>\n",
       "</div>"
      ],
      "text/plain": [
       "debt                           0          1\n",
       "total_income_category                      \n",
       "A                      1223042.0  1615875.5\n",
       "B                       257788.0   256466.5\n",
       "C                       133877.0   135682.5\n",
       "D                        43166.0    42915.0"
      ]
     },
     "metadata": {},
     "output_type": "display_data"
    },
    {
     "data": {
      "text/html": [
       "<div>\n",
       "<style scoped>\n",
       "    .dataframe tbody tr th:only-of-type {\n",
       "        vertical-align: middle;\n",
       "    }\n",
       "\n",
       "    .dataframe tbody tr th {\n",
       "        vertical-align: top;\n",
       "    }\n",
       "\n",
       "    .dataframe thead tr th {\n",
       "        text-align: left;\n",
       "    }\n",
       "\n",
       "    .dataframe thead tr:last-of-type th {\n",
       "        text-align: right;\n",
       "    }\n",
       "</style>\n",
       "<table border=\"1\" class=\"dataframe\">\n",
       "  <thead>\n",
       "    <tr>\n",
       "      <th></th>\n",
       "      <th colspan=\"3\" halign=\"left\">debt</th>\n",
       "    </tr>\n",
       "    <tr>\n",
       "      <th></th>\n",
       "      <th>mean</th>\n",
       "      <th>sum</th>\n",
       "      <th>count</th>\n",
       "    </tr>\n",
       "    <tr>\n",
       "      <th>total_income_category</th>\n",
       "      <th></th>\n",
       "      <th></th>\n",
       "      <th></th>\n",
       "    </tr>\n",
       "  </thead>\n",
       "  <tbody>\n",
       "    <tr>\n",
       "      <th>A</th>\n",
       "      <td>0.080000</td>\n",
       "      <td>2</td>\n",
       "      <td>25</td>\n",
       "    </tr>\n",
       "    <tr>\n",
       "      <th>B</th>\n",
       "      <td>0.070621</td>\n",
       "      <td>356</td>\n",
       "      <td>5041</td>\n",
       "    </tr>\n",
       "    <tr>\n",
       "      <th>C</th>\n",
       "      <td>0.084540</td>\n",
       "      <td>1360</td>\n",
       "      <td>16087</td>\n",
       "    </tr>\n",
       "    <tr>\n",
       "      <th>D</th>\n",
       "      <td>0.061828</td>\n",
       "      <td>23</td>\n",
       "      <td>372</td>\n",
       "    </tr>\n",
       "  </tbody>\n",
       "</table>\n",
       "</div>"
      ],
      "text/plain": [
       "                           debt             \n",
       "                           mean   sum  count\n",
       "total_income_category                       \n",
       "A                      0.080000     2     25\n",
       "B                      0.070621   356   5041\n",
       "C                      0.084540  1360  16087\n",
       "D                      0.061828    23    372"
      ]
     },
     "metadata": {},
     "output_type": "display_data"
    }
   ],
   "source": [
    "final_data_table = data_table.pivot_table(index='total_income_category', columns=\"debt\", values='total_income', aggfunc='median')\n",
    "\n",
    "total_income_grouped_table = data_table.groupby('total_income_category').agg({'debt': ['mean', 'sum', 'count']})\n",
    "\n",
    "display(final_data_table)\n",
    "display(total_income_grouped_table)"
   ]
  },
  {
   "cell_type": "markdown",
   "id": "74102589",
   "metadata": {},
   "source": [
    "##### Вывод 3:"
   ]
  },
  {
   "cell_type": "markdown",
   "id": "f854466e",
   "metadata": {},
   "source": [
    "В данном случае медианный доход плательщиков и должников в каждой категории дохода приблизительно равен. Кроме категории дохода 'A', где доход должников на 32% больше, чем медианный доход исправных заёмщиков. Платёжная дисциплина у представителей зажиточного слоя не связана с уровнем дохода.\n",
    "    Сводная таблица так же демонстрирует отсутствие связи между уровнем дохода и платёжной дисциплиной.\n",
    "    Самый низкий уровень неплатежей показывает беднейшая категория заёмщиков (можно предположить, что это вызвано низким доходом и, как следствие, привычкой считать деньги, а также стремлением погасить кредит в срок, чтобы иметь возможность взять кредит в следующий раз; есть вероятность, что в данном случае люди перекредитовываются, чтобы погасить текущий кредит).\n",
    "    Несколько меньший уровень возврата кредитов демонстрируют представители категории 'B'. Их уровень дохода позволяет им гасить кредиты, взятые на личные нужды. Вероятно, непогашенные в срок кредиты были взяты для ведения бизнеса.\n",
    "    Затем идёт группа с доходом категории 'A' - самая богатая. Есть вероятность, что их долги так же связаны с состоянием бизнеса.\n",
    "    И, наконец, самые недисциплинированные - заёмщики с доходом категории 'C' (50001 - 200000 рублей/мес.) Причину положения дел здесь предположить затруднительно. Возможно, часть кредитов составляет ипотека, оказавшаяся неподъёмной или кредиты, взятые для поддержания бизнеса ИП или самозанятыми. (Здесь стоило бы уточнить семейный статус и количество детей, а так же - тип дохода в каждом случае невозврата кредитов.)\n",
    "    Прямой зависимости между размером дохода и погашением кредита в срок не наблюдается."
   ]
  },
  {
   "cell_type": "markdown",
   "id": "cd2cbdc3",
   "metadata": {},
   "source": [
    "##### Вопрос 4: Как разные цели кредита влияют на его возврат в срок?"
   ]
  },
  {
   "cell_type": "code",
   "execution_count": 14,
   "id": "988e85ec",
   "metadata": {},
   "outputs": [
    {
     "data": {
      "text/html": [
       "<div>\n",
       "<style scoped>\n",
       "    .dataframe tbody tr th:only-of-type {\n",
       "        vertical-align: middle;\n",
       "    }\n",
       "\n",
       "    .dataframe tbody tr th {\n",
       "        vertical-align: top;\n",
       "    }\n",
       "\n",
       "    .dataframe thead tr th {\n",
       "        text-align: left;\n",
       "    }\n",
       "\n",
       "    .dataframe thead tr:last-of-type th {\n",
       "        text-align: right;\n",
       "    }\n",
       "</style>\n",
       "<table border=\"1\" class=\"dataframe\">\n",
       "  <thead>\n",
       "    <tr>\n",
       "      <th></th>\n",
       "      <th colspan=\"2\" halign=\"left\">median</th>\n",
       "    </tr>\n",
       "    <tr>\n",
       "      <th>debt</th>\n",
       "      <th>0</th>\n",
       "      <th>1</th>\n",
       "    </tr>\n",
       "    <tr>\n",
       "      <th>purpose_category</th>\n",
       "      <th></th>\n",
       "      <th></th>\n",
       "    </tr>\n",
       "  </thead>\n",
       "  <tbody>\n",
       "    <tr>\n",
       "      <th>операции с автомобилем</th>\n",
       "      <td>145017.0</td>\n",
       "      <td>145017.0</td>\n",
       "    </tr>\n",
       "    <tr>\n",
       "      <th>операции с недвижимостью</th>\n",
       "      <td>145017.0</td>\n",
       "      <td>145017.0</td>\n",
       "    </tr>\n",
       "    <tr>\n",
       "      <th>получение образования</th>\n",
       "      <td>145017.0</td>\n",
       "      <td>145017.0</td>\n",
       "    </tr>\n",
       "    <tr>\n",
       "      <th>проведение свадьбы</th>\n",
       "      <td>145017.0</td>\n",
       "      <td>144773.5</td>\n",
       "    </tr>\n",
       "  </tbody>\n",
       "</table>\n",
       "</div>"
      ],
      "text/plain": [
       "                            median          \n",
       "debt                             0         1\n",
       "purpose_category                            \n",
       "операции с автомобилем    145017.0  145017.0\n",
       "операции с недвижимостью  145017.0  145017.0\n",
       "получение образования     145017.0  145017.0\n",
       "проведение свадьбы        145017.0  144773.5"
      ]
     },
     "metadata": {},
     "output_type": "display_data"
    },
    {
     "data": {
      "text/html": [
       "<div>\n",
       "<style scoped>\n",
       "    .dataframe tbody tr th:only-of-type {\n",
       "        vertical-align: middle;\n",
       "    }\n",
       "\n",
       "    .dataframe tbody tr th {\n",
       "        vertical-align: top;\n",
       "    }\n",
       "\n",
       "    .dataframe thead tr th {\n",
       "        text-align: left;\n",
       "    }\n",
       "\n",
       "    .dataframe thead tr:last-of-type th {\n",
       "        text-align: right;\n",
       "    }\n",
       "</style>\n",
       "<table border=\"1\" class=\"dataframe\">\n",
       "  <thead>\n",
       "    <tr>\n",
       "      <th></th>\n",
       "      <th colspan=\"3\" halign=\"left\">debt</th>\n",
       "    </tr>\n",
       "    <tr>\n",
       "      <th></th>\n",
       "      <th>mean</th>\n",
       "      <th>sum</th>\n",
       "      <th>count</th>\n",
       "    </tr>\n",
       "    <tr>\n",
       "      <th>purpose_category</th>\n",
       "      <th></th>\n",
       "      <th></th>\n",
       "      <th></th>\n",
       "    </tr>\n",
       "  </thead>\n",
       "  <tbody>\n",
       "    <tr>\n",
       "      <th>операции с автомобилем</th>\n",
       "      <td>0.093395</td>\n",
       "      <td>403</td>\n",
       "      <td>4315</td>\n",
       "    </tr>\n",
       "    <tr>\n",
       "      <th>операции с недвижимостью</th>\n",
       "      <td>0.072140</td>\n",
       "      <td>782</td>\n",
       "      <td>10840</td>\n",
       "    </tr>\n",
       "    <tr>\n",
       "      <th>получение образования</th>\n",
       "      <td>0.091994</td>\n",
       "      <td>370</td>\n",
       "      <td>4022</td>\n",
       "    </tr>\n",
       "    <tr>\n",
       "      <th>проведение свадьбы</th>\n",
       "      <td>0.079216</td>\n",
       "      <td>186</td>\n",
       "      <td>2348</td>\n",
       "    </tr>\n",
       "  </tbody>\n",
       "</table>\n",
       "</div>"
      ],
      "text/plain": [
       "                              debt            \n",
       "                              mean  sum  count\n",
       "purpose_category                              \n",
       "операции с автомобилем    0.093395  403   4315\n",
       "операции с недвижимостью  0.072140  782  10840\n",
       "получение образования     0.091994  370   4022\n",
       "проведение свадьбы        0.079216  186   2348"
      ]
     },
     "metadata": {},
     "output_type": "display_data"
    }
   ],
   "source": [
    "final_data_table = data_table.pivot_table(index='purpose_category', columns=\"debt\", values='total_income', aggfunc=['median'])\n",
    "#Группирую плательщиков по цели кредита, средний максимальный доход членов этих групп,\n",
    "#погасивших и не погасивших кредит\n",
    "\n",
    "grouped_table = data_table.groupby('purpose_category').agg({'debt': ['mean', 'sum', 'count']})\n",
    "#Выясняю долю успешных и неуспешных заёмщиков в  группах, сформированных по цели кредита.\n",
    "display(final_data_table)\n",
    "display(grouped_table)"
   ]
  },
  {
   "cell_type": "markdown",
   "id": "967e1b21",
   "metadata": {},
   "source": [
    "##### Вывод 4:"
   ]
  },
  {
   "cell_type": "markdown",
   "id": "03ee67e0",
   "metadata": {},
   "source": [
    "В сводной таблице, как и в предыдущих случаях, можно видеть, что средний доход должников и исправных плательщиков для всех целей кредитов не отличается, за исключением тех, кто взял кредит для проведения свадеб. Здесь средний доход должников на 9% меньше дохода дисциплинированных заёмщиков. Медианный доход у обеих групп по всем категориям целей практически одинаков.\n",
    "    Вторая таблица свидетельствует о том, что доля просроченных кредитов меньше всего среди тех, кто брал кредит для операций с недвижимостью. Это ожидаемо, поскольку в данном случае сумма кредита больше, кроме того, сделка заключается, как правило, с передачей самой недвижимости банку в качестве залога. Учитывая тот факт, что чаще всего речь идёт о покупке жилья (см. столбец 'purpose'), дисциплина заёмщиков в этой категории неизбежно будет выше.\n",
    "    Второй по качеству возврата кредита целью стали свадьбы. Возможно, часть таких кредитов гасится за счёт денежных подарков молодожёнам, весьма вероятна помощь родителей.\n",
    "    Ещё реже возвращаются кредиты на получение образования. Можно предположить, что не все студенты в состоянии учиться и зарабатывать деньги для погашения кредита в нужном количестве. (Было бы полезно узнать, какая доля неплательщиков снимает жильё или выплачивает взносы по ипотечному кредиту.)\n",
    "    Больше всего просроченных кредитов в категории \"операции с автомобилем\". Такая ситуация возможна, поскольку автомобиль мог быть приобретён из соображений \"престижа\", что довольно распространено в России. В этом случае могла быть сделана эмоциональная покупка, без учёта последствий. Не являясь предметом первой необходимости или средством заработка для многих, автомобиль может в итоге оказаться на последнем месте в приоритете платежей.\n",
    "    В итоге, можно заключить, что возврат кредита в срок до некоторой степени зависит от целей кредита. Или, если быть более точным, от обстоятельств, в которых реализуется та или иная цель кредитования."
   ]
  },
  {
   "cell_type": "markdown",
   "id": "0e4dea61",
   "metadata": {},
   "source": [
    "## Шаг 4. Общий вывод:\n",
    "<a id='Step4'></a>"
   ]
  },
  {
   "cell_type": "markdown",
   "id": "f8ed947c",
   "metadata": {},
   "source": [
    "В 5-ти группах семей из 6-ти, выделенных по количеству детей, средний размер дохода исправных плательщиков и должников не отличается, кроме семей с тремя детьми. Медианная зарплата в каждой группе различается ещё меньше, кроме семей с 4-мя детьми, где должники имеют больший доход, чем не имеющие задолженности. Семьи с 5-ю детьми имеют доход на 16.16% более высокий, чем другие плательщики. Разница в среднем размере задолженности бездетных заёмщиков и заёмщиков с 4-мя детьми составляет 2.2 процентных пункта, что представляется некритичным. Но если объём задолженности бездетных взять за 100%, задолженность семей с 4-мя детьми будет на 13% выше. Это заметно, но не критично. Обращает на себя внимание, что семьи с 5-детьми не имеют задолженности вовсе. Они могут быть более дисциплинированы в силу жизненных обстоятельств. Либо у нас нет репрезентативных данных. В списке всего 9 таких семей и отсутствие задолженности у всех девяти может быть случайным. Отсутствие детей несколько повышает уровень погашения кредита, но не принципиально.\n",
    "    \n",
    "Средний доход в группах по семейному статусу для должников и исправных плательщиков принципиально не отличается. Средний доход разведённых должников несколько превышает этот показатель у дисциплинированных заёмщиков. Если сравнивать медианный доход групп по семейному статусу, можно обнаружить, что он идентичен у всех, кроме исправно платящих вдовцов, медианный доход которых ниже, чем у всех должников. Средняя доля непогашенных кредитов по группам колеблется от 6.5% у вдовцов до 9.7% у не вступивших в брак. Разница в 3.2 процентных пункта не представляется значительной. Но если объём задолженности вдовцов взять за 100%, то разница с объёмом задолженности не вступивших в брак будет выглядеть значительно и составит 9.2%. Вывод о разнице в объёмах просроченных кредитов здесь будет зависеть от целей заказчика. В целом ситуация лучше у вдовых и разведённых (они старше, и их финансовая база уже сложилась; здесь было бы хорошо посмотреть, у кого из них есть дети, и сколько их - возможно, им не нужно тратить деньги на содержание других членов семьи). Несколько хуже справляются люди, состоящие в браке. Хуже всего ситуация у состоящих в гражданском браке и не состоящих в браке. Здесь разница может быть вызвана чувством ответственности, которым связаны люди, состоящие или состоявшие в официально оформленном браке. Поскольку люди в этом случае осознают, что принимают на себя целый ряд обязательств по отношению к семье.\n",
    "\n",
    "В случае деления плательщиков по уровню дохода медианный доход плательщиков и должников в каждой категории дохода приблизительно равен. Кроме категории 'A', где доход должников на 32% больше, чем медианный доход исправных заёмщиков. Платёжная дисциплина у представителей зажиточного слоя не связана с уровнем дохода. Сводная таблица так же демонстрирует отсутствие связи между уровнем дохода и платёжной дисциплиной. Самый низкий уровень неплатежей показывает беднейшая категория заёмщиков (можно предположить, что это вызвано низким доходом и, как следствие, привычкой считать деньги, а также стремлением погасить кредит в срок, чтобы иметь возможность взять кредит в следующий раз; есть вероятность, что в данном случае люди перекредитовываются, чтобы погасить текущий кредит). Несколько меньший уровень возврата кредитов демонстрируют представители категории 'B'. Их уровень дохода позволяет им гасить кредиты, взятые на личные нужды. Вероятно, непогашенные в срок кредиты были взяты для ведения бизнеса. Затем идёт группа с доходом категории 'A' - самая богатая. Есть вероятность, что их долги так же связаны с состоянием бизнеса. И, наконец, самые недисциплинированные - заёмщики с доходом категории 'C' (50001 - 200000 рублей/мес.) Причину положения дел здесь предположить затруднительно. Возможно, часть кредитов составляет ипотека, оказавшаяся неподъёмной или кредиты, взятые для поддержания бизнеса ИП или самозанятыми. (Здесь стоило бы уточнить семейный статус и количество детей, а так же - тип дохода в каждом случае невозврата кредитов.) Прямой зависимости между размером дохода и погашением кредита в срок не наблюдается.\n",
    "\n",
    "Средний доход должников и исправных плательщиков для всех целей кредитов не отличается, за исключением тех, кто взял кредит для проведения свадеб. Здесь средний доход должников на 9% меньше дохода дисциплинированных заёмщиков. Медианный доход у обеих групп по всем категориям целей практически одинаков. Вторая таблица свидетельствует о том, что доля просроченных кредитов меньше всего среди тех, кто брал кредит для операций с недвижимостью. Это ожидаемо, поскольку в данном случае сумма кредита больше, кроме того, сделка заключается, как правило, с передачей самой недвижимости банку в качестве залога. Учитывая тот факт, что чаще всего речь идёт о покупке жилья, дисциплина заёмщиков в этой категории неизбежно будет выше. Второй по качеству возврата кредита целью стали свадьбы. Возможно, часть таких кредитов гасится за счёт денежных подарков молодожёнам, весьма вероятна помощь родителей. Ещё реже возвращаются кредиты на получение образования. Можно предположить, что не все студенты в состоянии учиться и зарабатывать деньги для погашения кредита в нужном количестве. (Было бы полезно узнать, какая доля неплательщиков снимает жильё или выплачивает взносы по ипотечному кредиту.) Больше всего просроченных кредитов в категории \"операции с автомобилем\". Такая ситуация возможна, поскольку автомобиль мог быть приобретён из соображений \"престижа\", что довольно распространено в России. В этом случае могла быть сделана эмоциональная покупка, без учёта последствий. Не являясь предметом первой необходимости или средством заработка для многих, автомобиль может в итоге оказаться на последнем месте в приоритете платежей. В итоге, можно заключить, что возврат кредита в срок до некоторой степени зависит от целей кредита. Или, если быть более точным, от обстоятельств, в которых реализуется та или иная цель кредитования.\n",
    "\n",
    "В целом, можно утверждать, что между количеством в семье детей или размером общего дохода, одной стороны, и возвратом кредита в срок - с другой, зависимости нет. Более того здесь есть своего рода аномалии, такие как отсутствие просроченных кредитов у семей с 5-ю детьми или наличие просрочки у наиболее зажиточных заёмщиков.\n",
    "    Что касается семейного положения, такая зависимость прослеживается. Люди, состоящие или состоявшие в браке официально, погашают кредит более аккуратно, чем люди, состоящие в незарегистрированном партнёрстве неженатые/незамужние.\n",
    "    Зависимость между целями кредитов и возвратом их в срок прослеживается, но скорее всего, влияют не столько цели сами по себе, сколько жизненные обстоятельства, сопровождающие каждую из этих целей кредита."
   ]
  },
  {
   "cell_type": "code",
   "execution_count": null,
   "id": "be8dace7",
   "metadata": {},
   "outputs": [],
   "source": []
  }
 ],
 "metadata": {
  "ExecuteTimeLog": [
   {
    "duration": 600,
    "start_time": "2022-02-21T06:20:53.909Z"
   },
   {
    "duration": 55,
    "start_time": "2022-02-21T07:47:24.978Z"
   },
   {
    "duration": 16,
    "start_time": "2022-02-21T08:23:03.965Z"
   },
   {
    "duration": 12,
    "start_time": "2022-02-21T08:31:51.692Z"
   },
   {
    "duration": 9,
    "start_time": "2022-02-21T08:32:26.846Z"
   },
   {
    "duration": 8,
    "start_time": "2022-02-21T08:33:38.088Z"
   },
   {
    "duration": 1093,
    "start_time": "2022-02-21T08:34:18.084Z"
   },
   {
    "duration": 4634,
    "start_time": "2022-02-21T08:34:26.704Z"
   },
   {
    "duration": 7,
    "start_time": "2022-02-21T08:35:06.419Z"
   },
   {
    "duration": 8,
    "start_time": "2022-02-21T08:37:22.576Z"
   },
   {
    "duration": 11,
    "start_time": "2022-02-21T08:39:22.068Z"
   },
   {
    "duration": 8,
    "start_time": "2022-02-21T10:35:19.829Z"
   },
   {
    "duration": 4398,
    "start_time": "2022-02-21T10:35:36.241Z"
   },
   {
    "duration": 8,
    "start_time": "2022-02-21T10:35:59.605Z"
   },
   {
    "duration": 9,
    "start_time": "2022-02-21T10:36:23.212Z"
   },
   {
    "duration": 19,
    "start_time": "2022-02-21T11:19:30.081Z"
   },
   {
    "duration": 22,
    "start_time": "2022-02-21T11:22:59.428Z"
   },
   {
    "duration": 185,
    "start_time": "2022-02-21T11:49:52.536Z"
   },
   {
    "duration": 52,
    "start_time": "2022-02-21T11:53:33.439Z"
   },
   {
    "duration": 24,
    "start_time": "2022-02-21T11:53:38.455Z"
   },
   {
    "duration": 13,
    "start_time": "2022-02-21T11:54:11.208Z"
   },
   {
    "duration": 13,
    "start_time": "2022-02-21T11:54:24.331Z"
   },
   {
    "duration": 11,
    "start_time": "2022-02-21T11:54:37.731Z"
   },
   {
    "duration": 12,
    "start_time": "2022-02-21T11:55:12.267Z"
   },
   {
    "duration": 12,
    "start_time": "2022-02-21T11:56:16.527Z"
   },
   {
    "duration": 11,
    "start_time": "2022-02-21T11:56:38.847Z"
   },
   {
    "duration": 9,
    "start_time": "2022-02-21T11:58:22.726Z"
   },
   {
    "duration": 66,
    "start_time": "2022-02-21T12:16:55.247Z"
   },
   {
    "duration": 8,
    "start_time": "2022-02-21T12:17:07.982Z"
   },
   {
    "duration": 705,
    "start_time": "2022-02-21T12:17:09.618Z"
   },
   {
    "duration": 666,
    "start_time": "2022-02-21T12:18:55.098Z"
   },
   {
    "duration": 807,
    "start_time": "2022-02-21T12:22:45.202Z"
   },
   {
    "duration": 901,
    "start_time": "2022-02-21T12:22:53.648Z"
   },
   {
    "duration": 54,
    "start_time": "2022-02-21T12:50:24.679Z"
   },
   {
    "duration": 11,
    "start_time": "2022-02-21T12:50:29.432Z"
   },
   {
    "duration": 13,
    "start_time": "2022-02-21T12:51:33.552Z"
   },
   {
    "duration": 12,
    "start_time": "2022-02-21T12:52:03.456Z"
   },
   {
    "duration": 10,
    "start_time": "2022-02-21T12:52:17.223Z"
   },
   {
    "duration": 12,
    "start_time": "2022-02-21T12:52:32.922Z"
   },
   {
    "duration": 12,
    "start_time": "2022-02-21T12:52:39.643Z"
   },
   {
    "duration": 13,
    "start_time": "2022-02-21T13:14:11.712Z"
   },
   {
    "duration": 62,
    "start_time": "2022-02-21T13:17:42.731Z"
   },
   {
    "duration": 8,
    "start_time": "2022-02-21T13:18:07.312Z"
   },
   {
    "duration": 6,
    "start_time": "2022-02-21T13:18:46.480Z"
   },
   {
    "duration": 997,
    "start_time": "2022-02-21T13:23:48.103Z"
   },
   {
    "duration": 239,
    "start_time": "2022-02-21T13:24:21.282Z"
   },
   {
    "duration": 12,
    "start_time": "2022-02-21T13:25:20.660Z"
   },
   {
    "duration": 6,
    "start_time": "2022-02-21T13:45:32.729Z"
   },
   {
    "duration": 653,
    "start_time": "2022-02-22T12:42:08.564Z"
   },
   {
    "duration": 57,
    "start_time": "2022-02-22T12:46:50.084Z"
   },
   {
    "duration": 9,
    "start_time": "2022-02-22T12:46:54.793Z"
   },
   {
    "duration": 11,
    "start_time": "2022-02-22T12:47:02.869Z"
   },
   {
    "duration": 379,
    "start_time": "2022-02-22T12:48:26.483Z"
   },
   {
    "duration": 10,
    "start_time": "2022-02-22T12:50:13.768Z"
   },
   {
    "duration": 8,
    "start_time": "2022-02-22T12:50:21.104Z"
   },
   {
    "duration": 316,
    "start_time": "2022-02-22T12:54:10.539Z"
   },
   {
    "duration": 358,
    "start_time": "2022-02-22T12:54:52.861Z"
   },
   {
    "duration": 332,
    "start_time": "2022-02-22T12:55:09.427Z"
   },
   {
    "duration": 332,
    "start_time": "2022-02-22T12:59:45.285Z"
   },
   {
    "duration": 7,
    "start_time": "2022-02-22T12:59:57.709Z"
   },
   {
    "duration": 12,
    "start_time": "2022-02-22T13:02:11.533Z"
   },
   {
    "duration": 15,
    "start_time": "2022-02-22T13:05:55.204Z"
   },
   {
    "duration": 116,
    "start_time": "2022-02-22T13:08:22.707Z"
   },
   {
    "duration": 14,
    "start_time": "2022-02-22T13:08:29.801Z"
   },
   {
    "duration": 5,
    "start_time": "2022-02-22T13:10:03.331Z"
   },
   {
    "duration": 6,
    "start_time": "2022-02-22T13:10:14.250Z"
   },
   {
    "duration": 7,
    "start_time": "2022-02-22T13:21:30.969Z"
   },
   {
    "duration": 12,
    "start_time": "2022-02-22T13:21:35.976Z"
   },
   {
    "duration": 5,
    "start_time": "2022-02-22T13:21:53.728Z"
   },
   {
    "duration": 10,
    "start_time": "2022-02-22T13:22:00.454Z"
   },
   {
    "duration": 5,
    "start_time": "2022-02-22T13:23:38.416Z"
   },
   {
    "duration": 4,
    "start_time": "2022-02-22T13:23:48.595Z"
   },
   {
    "duration": 5,
    "start_time": "2022-02-22T13:24:23.364Z"
   },
   {
    "duration": 5,
    "start_time": "2022-02-22T13:24:42.675Z"
   },
   {
    "duration": 6,
    "start_time": "2022-02-22T13:25:00.047Z"
   },
   {
    "duration": 5,
    "start_time": "2022-02-22T13:25:04.621Z"
   },
   {
    "duration": 5,
    "start_time": "2022-02-22T13:26:24.587Z"
   },
   {
    "duration": 3,
    "start_time": "2022-02-22T13:35:36.230Z"
   },
   {
    "duration": 5,
    "start_time": "2022-02-22T13:35:48.980Z"
   },
   {
    "duration": 466,
    "start_time": "2022-02-23T06:26:41.685Z"
   },
   {
    "duration": 807,
    "start_time": "2022-02-23T06:26:49.601Z"
   },
   {
    "duration": 12,
    "start_time": "2022-02-23T06:26:59.197Z"
   },
   {
    "duration": 87,
    "start_time": "2022-02-23T06:34:53.749Z"
   },
   {
    "duration": 712,
    "start_time": "2022-02-23T06:35:09.174Z"
   },
   {
    "duration": 7,
    "start_time": "2022-02-23T06:35:57.786Z"
   },
   {
    "duration": 272,
    "start_time": "2022-02-23T06:51:05.520Z"
   },
   {
    "duration": 21,
    "start_time": "2022-02-23T06:51:29.211Z"
   },
   {
    "duration": 248,
    "start_time": "2022-02-23T06:52:42.671Z"
   },
   {
    "duration": 301,
    "start_time": "2022-02-23T06:54:17.331Z"
   },
   {
    "duration": 296,
    "start_time": "2022-02-23T06:54:30.770Z"
   },
   {
    "duration": 61,
    "start_time": "2022-02-23T06:55:18.227Z"
   },
   {
    "duration": 304,
    "start_time": "2022-02-23T06:55:32.826Z"
   },
   {
    "duration": 334,
    "start_time": "2022-02-23T06:56:04.347Z"
   },
   {
    "duration": 6,
    "start_time": "2022-02-23T06:57:00.990Z"
   },
   {
    "duration": 292,
    "start_time": "2022-02-23T06:59:41.425Z"
   },
   {
    "duration": 420,
    "start_time": "2022-02-23T07:00:33.865Z"
   },
   {
    "duration": 671,
    "start_time": "2022-02-23T07:00:46.345Z"
   },
   {
    "duration": 60,
    "start_time": "2022-02-23T07:02:04.304Z"
   },
   {
    "duration": 20,
    "start_time": "2022-02-23T07:02:50.672Z"
   },
   {
    "duration": 18,
    "start_time": "2022-02-23T07:04:17.906Z"
   },
   {
    "duration": 4,
    "start_time": "2022-02-23T07:05:18.469Z"
   },
   {
    "duration": 8,
    "start_time": "2022-02-23T07:05:44.497Z"
   },
   {
    "duration": 22,
    "start_time": "2022-02-23T07:06:04.804Z"
   },
   {
    "duration": 247,
    "start_time": "2022-02-23T07:06:13.979Z"
   },
   {
    "duration": 253,
    "start_time": "2022-02-23T07:07:02.279Z"
   },
   {
    "duration": 259,
    "start_time": "2022-02-23T07:07:12.251Z"
   },
   {
    "duration": 250,
    "start_time": "2022-02-23T07:07:38.240Z"
   },
   {
    "duration": 20,
    "start_time": "2022-02-23T07:08:09.212Z"
   },
   {
    "duration": 56,
    "start_time": "2022-02-23T07:08:33.502Z"
   },
   {
    "duration": 19,
    "start_time": "2022-02-23T07:08:37.135Z"
   },
   {
    "duration": 16,
    "start_time": "2022-02-23T07:08:55.864Z"
   },
   {
    "duration": 16,
    "start_time": "2022-02-23T07:09:12.391Z"
   },
   {
    "duration": 16,
    "start_time": "2022-02-23T07:10:06.875Z"
   },
   {
    "duration": 16,
    "start_time": "2022-02-23T07:11:16.385Z"
   },
   {
    "duration": 5,
    "start_time": "2022-02-23T07:18:05.822Z"
   },
   {
    "duration": 6,
    "start_time": "2022-02-23T07:18:34.589Z"
   },
   {
    "duration": 7,
    "start_time": "2022-02-23T07:20:12.156Z"
   },
   {
    "duration": 28,
    "start_time": "2022-02-23T07:23:07.688Z"
   },
   {
    "duration": 31,
    "start_time": "2022-02-23T07:23:48.393Z"
   },
   {
    "duration": 29,
    "start_time": "2022-02-23T07:24:23.385Z"
   },
   {
    "duration": 6,
    "start_time": "2022-02-23T07:32:23.517Z"
   },
   {
    "duration": 9,
    "start_time": "2022-02-23T07:33:21.584Z"
   },
   {
    "duration": 16,
    "start_time": "2022-02-23T07:35:10.533Z"
   },
   {
    "duration": 30,
    "start_time": "2022-02-23T07:35:19.930Z"
   },
   {
    "duration": 6,
    "start_time": "2022-02-23T07:46:35.415Z"
   },
   {
    "duration": 19,
    "start_time": "2022-02-23T07:59:55.711Z"
   },
   {
    "duration": 17,
    "start_time": "2022-02-23T08:00:34.515Z"
   },
   {
    "duration": 17,
    "start_time": "2022-02-23T08:01:13.990Z"
   },
   {
    "duration": 17,
    "start_time": "2022-02-23T08:01:36.578Z"
   },
   {
    "duration": 16,
    "start_time": "2022-02-23T08:02:06.058Z"
   },
   {
    "duration": 21,
    "start_time": "2022-02-23T08:03:25.929Z"
   },
   {
    "duration": 19,
    "start_time": "2022-02-23T08:03:47.913Z"
   },
   {
    "duration": 18,
    "start_time": "2022-02-23T08:03:59.098Z"
   },
   {
    "duration": 20,
    "start_time": "2022-02-23T08:04:12.196Z"
   },
   {
    "duration": 33,
    "start_time": "2022-02-23T08:04:23.402Z"
   },
   {
    "duration": 58,
    "start_time": "2022-02-23T08:04:36.221Z"
   },
   {
    "duration": 37,
    "start_time": "2022-02-23T08:04:39.106Z"
   },
   {
    "duration": 18,
    "start_time": "2022-02-23T08:05:03.451Z"
   },
   {
    "duration": 57,
    "start_time": "2022-02-23T08:05:15.921Z"
   },
   {
    "duration": 22,
    "start_time": "2022-02-23T08:05:21.220Z"
   },
   {
    "duration": 285,
    "start_time": "2022-02-23T08:20:18.079Z"
   },
   {
    "duration": 55,
    "start_time": "2022-02-23T08:20:42.802Z"
   },
   {
    "duration": 22,
    "start_time": "2022-02-23T08:20:49.292Z"
   },
   {
    "duration": 16,
    "start_time": "2022-02-23T08:21:05.646Z"
   },
   {
    "duration": 7,
    "start_time": "2022-02-23T08:21:10.561Z"
   },
   {
    "duration": 5,
    "start_time": "2022-02-23T08:21:14.993Z"
   },
   {
    "duration": 4,
    "start_time": "2022-02-23T08:21:19.524Z"
   },
   {
    "duration": 6,
    "start_time": "2022-02-23T08:21:43.422Z"
   },
   {
    "duration": 51,
    "start_time": "2022-02-23T08:55:08.791Z"
   },
   {
    "duration": 24,
    "start_time": "2022-02-23T08:55:20.275Z"
   },
   {
    "duration": 17,
    "start_time": "2022-02-23T08:55:41.575Z"
   },
   {
    "duration": 19,
    "start_time": "2022-02-23T08:56:02.663Z"
   },
   {
    "duration": 26,
    "start_time": "2022-02-23T09:12:34.583Z"
   },
   {
    "duration": 21,
    "start_time": "2022-02-23T09:12:54.979Z"
   },
   {
    "duration": 6657,
    "start_time": "2022-02-23T09:17:41.898Z"
   },
   {
    "duration": 2321,
    "start_time": "2022-02-23T09:18:56.942Z"
   },
   {
    "duration": 1863,
    "start_time": "2022-02-23T09:19:40.617Z"
   },
   {
    "duration": 1773,
    "start_time": "2022-02-23T09:20:14.477Z"
   },
   {
    "duration": 317,
    "start_time": "2022-02-23T09:20:51.056Z"
   },
   {
    "duration": 109,
    "start_time": "2022-02-23T09:21:03.134Z"
   },
   {
    "duration": 96,
    "start_time": "2022-02-23T09:21:11.993Z"
   },
   {
    "duration": 124,
    "start_time": "2022-02-23T09:21:26.132Z"
   },
   {
    "duration": 21,
    "start_time": "2022-02-23T09:21:31.908Z"
   },
   {
    "duration": 7,
    "start_time": "2022-02-23T09:21:42.201Z"
   },
   {
    "duration": 7,
    "start_time": "2022-02-23T09:21:49.536Z"
   },
   {
    "duration": 90,
    "start_time": "2022-02-23T09:21:54.124Z"
   },
   {
    "duration": 86,
    "start_time": "2022-02-23T09:22:05.046Z"
   },
   {
    "duration": 5,
    "start_time": "2022-02-23T09:22:30.425Z"
   },
   {
    "duration": 287,
    "start_time": "2022-02-23T09:27:19.594Z"
   },
   {
    "duration": 6,
    "start_time": "2022-02-23T09:28:26.443Z"
   },
   {
    "duration": 22,
    "start_time": "2022-02-23T09:32:32.362Z"
   },
   {
    "duration": 21,
    "start_time": "2022-02-23T09:33:06.070Z"
   },
   {
    "duration": 666,
    "start_time": "2022-02-23T10:02:42.242Z"
   },
   {
    "duration": 25,
    "start_time": "2022-02-23T10:04:13.862Z"
   },
   {
    "duration": 80,
    "start_time": "2022-02-23T10:04:38.050Z"
   },
   {
    "duration": 25,
    "start_time": "2022-02-23T10:04:47.379Z"
   },
   {
    "duration": 269,
    "start_time": "2022-02-23T10:08:36.545Z"
   },
   {
    "duration": 32,
    "start_time": "2022-02-23T10:08:47.653Z"
   },
   {
    "duration": 55,
    "start_time": "2022-02-23T10:08:59.160Z"
   },
   {
    "duration": 38,
    "start_time": "2022-02-23T10:09:05.052Z"
   },
   {
    "duration": 28,
    "start_time": "2022-02-23T10:11:55.050Z"
   },
   {
    "duration": 420,
    "start_time": "2022-02-23T10:17:17.410Z"
   },
   {
    "duration": 28,
    "start_time": "2022-02-23T10:17:59.952Z"
   },
   {
    "duration": 58,
    "start_time": "2022-02-23T10:18:35.431Z"
   },
   {
    "duration": 35,
    "start_time": "2022-02-23T10:18:39.055Z"
   },
   {
    "duration": 56,
    "start_time": "2022-02-23T10:24:41.836Z"
   },
   {
    "duration": 32,
    "start_time": "2022-02-23T10:24:45.626Z"
   },
   {
    "duration": 26,
    "start_time": "2022-02-23T10:24:52.837Z"
   },
   {
    "duration": 28,
    "start_time": "2022-02-23T10:25:35.102Z"
   },
   {
    "duration": 58,
    "start_time": "2022-02-23T10:32:24.639Z"
   },
   {
    "duration": 38,
    "start_time": "2022-02-23T10:32:29.575Z"
   },
   {
    "duration": 28,
    "start_time": "2022-02-23T10:33:10.028Z"
   },
   {
    "duration": 59,
    "start_time": "2022-02-23T10:33:49.611Z"
   },
   {
    "duration": 29,
    "start_time": "2022-02-23T10:33:56.115Z"
   },
   {
    "duration": 25,
    "start_time": "2022-02-23T10:34:03.871Z"
   },
   {
    "duration": 32,
    "start_time": "2022-02-23T10:34:10.556Z"
   },
   {
    "duration": 54,
    "start_time": "2022-02-23T10:34:29.043Z"
   },
   {
    "duration": 33,
    "start_time": "2022-02-23T10:34:33.203Z"
   },
   {
    "duration": 28,
    "start_time": "2022-02-23T10:35:29.986Z"
   },
   {
    "duration": 56,
    "start_time": "2022-02-23T10:36:02.950Z"
   },
   {
    "duration": 45,
    "start_time": "2022-02-23T10:36:07.751Z"
   },
   {
    "duration": 31,
    "start_time": "2022-02-23T10:36:19.870Z"
   },
   {
    "duration": 55,
    "start_time": "2022-02-23T10:39:27.416Z"
   },
   {
    "duration": 33,
    "start_time": "2022-02-23T10:39:31.331Z"
   },
   {
    "duration": 21,
    "start_time": "2022-02-23T10:39:42.325Z"
   },
   {
    "duration": 54,
    "start_time": "2022-02-23T10:39:49.054Z"
   },
   {
    "duration": 28,
    "start_time": "2022-02-23T10:39:51.715Z"
   },
   {
    "duration": 54,
    "start_time": "2022-02-23T10:41:45.602Z"
   },
   {
    "duration": 35,
    "start_time": "2022-02-23T10:41:50.100Z"
   },
   {
    "duration": 27,
    "start_time": "2022-02-23T10:42:14.660Z"
   },
   {
    "duration": 55,
    "start_time": "2022-02-23T10:43:48.010Z"
   },
   {
    "duration": 34,
    "start_time": "2022-02-23T10:43:51.884Z"
   },
   {
    "duration": 308,
    "start_time": "2022-02-23T10:48:34.086Z"
   },
   {
    "duration": 646,
    "start_time": "2022-02-23T10:49:34.170Z"
   },
   {
    "duration": 280,
    "start_time": "2022-02-23T10:50:27.548Z"
   },
   {
    "duration": 292,
    "start_time": "2022-02-23T10:52:04.741Z"
   },
   {
    "duration": 49,
    "start_time": "2022-02-23T10:52:54.145Z"
   },
   {
    "duration": 46,
    "start_time": "2022-02-23T10:54:07.489Z"
   },
   {
    "duration": 53,
    "start_time": "2022-02-23T10:54:12.169Z"
   },
   {
    "duration": 39,
    "start_time": "2022-02-23T10:54:14.304Z"
   },
   {
    "duration": 53,
    "start_time": "2022-02-23T10:54:46.909Z"
   },
   {
    "duration": 43,
    "start_time": "2022-02-23T10:54:48.797Z"
   },
   {
    "duration": 61,
    "start_time": "2022-02-23T10:56:54.886Z"
   },
   {
    "duration": 57,
    "start_time": "2022-02-23T10:56:57.147Z"
   },
   {
    "duration": 55,
    "start_time": "2022-02-23T10:57:26.724Z"
   },
   {
    "duration": 58,
    "start_time": "2022-02-23T10:57:29.993Z"
   },
   {
    "duration": 55,
    "start_time": "2022-02-23T10:59:37.023Z"
   },
   {
    "duration": 39,
    "start_time": "2022-02-23T10:59:39.219Z"
   },
   {
    "duration": 68,
    "start_time": "2022-02-23T11:00:12.053Z"
   },
   {
    "duration": 53,
    "start_time": "2022-02-23T11:00:54.670Z"
   },
   {
    "duration": 54,
    "start_time": "2022-02-23T11:00:57.172Z"
   },
   {
    "duration": 54,
    "start_time": "2022-02-23T11:02:02.976Z"
   },
   {
    "duration": 51,
    "start_time": "2022-02-23T11:02:06.952Z"
   },
   {
    "duration": 60,
    "start_time": "2022-02-23T11:02:16.352Z"
   },
   {
    "duration": 40,
    "start_time": "2022-02-23T11:02:18.792Z"
   },
   {
    "duration": 29,
    "start_time": "2022-02-23T11:09:33.894Z"
   },
   {
    "duration": 32,
    "start_time": "2022-02-23T11:13:29.712Z"
   },
   {
    "duration": 417,
    "start_time": "2022-02-23T11:14:03.572Z"
   },
   {
    "duration": 29,
    "start_time": "2022-02-23T11:14:29.394Z"
   },
   {
    "duration": 40,
    "start_time": "2022-02-23T11:14:52.302Z"
   },
   {
    "duration": 32,
    "start_time": "2022-02-23T11:15:12.356Z"
   },
   {
    "duration": 26,
    "start_time": "2022-02-23T11:19:02.591Z"
   },
   {
    "duration": 24,
    "start_time": "2022-02-23T11:19:28.307Z"
   },
   {
    "duration": 28,
    "start_time": "2022-02-23T11:19:41.122Z"
   },
   {
    "duration": 38,
    "start_time": "2022-02-23T12:28:40.676Z"
   },
   {
    "duration": 54,
    "start_time": "2022-02-23T12:29:56.853Z"
   },
   {
    "duration": 36,
    "start_time": "2022-02-23T12:30:01.162Z"
   },
   {
    "duration": 38,
    "start_time": "2022-02-23T12:30:20.805Z"
   },
   {
    "duration": 57,
    "start_time": "2022-02-23T12:31:26.969Z"
   },
   {
    "duration": 57,
    "start_time": "2022-02-23T12:33:33.425Z"
   },
   {
    "duration": 40,
    "start_time": "2022-02-23T12:34:24.221Z"
   },
   {
    "duration": 53,
    "start_time": "2022-02-23T13:13:39.421Z"
   },
   {
    "duration": 39,
    "start_time": "2022-02-23T13:13:43.524Z"
   },
   {
    "duration": 36,
    "start_time": "2022-02-23T13:13:49.120Z"
   },
   {
    "duration": 36,
    "start_time": "2022-02-23T13:14:23.005Z"
   },
   {
    "duration": 32,
    "start_time": "2022-02-23T13:14:33.168Z"
   },
   {
    "duration": 35,
    "start_time": "2022-02-23T13:15:00.564Z"
   },
   {
    "duration": 56,
    "start_time": "2022-02-23T13:15:04.459Z"
   },
   {
    "duration": 39,
    "start_time": "2022-02-23T13:15:06.997Z"
   },
   {
    "duration": 35,
    "start_time": "2022-02-23T13:15:54.703Z"
   },
   {
    "duration": 52,
    "start_time": "2022-02-23T13:18:51.797Z"
   },
   {
    "duration": 30,
    "start_time": "2022-02-23T13:18:54.299Z"
   },
   {
    "duration": 61,
    "start_time": "2022-02-23T13:22:30.623Z"
   },
   {
    "duration": 31,
    "start_time": "2022-02-23T13:22:44.534Z"
   },
   {
    "duration": 57,
    "start_time": "2022-02-23T14:07:55.591Z"
   },
   {
    "duration": 37,
    "start_time": "2022-02-23T14:08:01.414Z"
   },
   {
    "duration": 44,
    "start_time": "2022-02-23T14:09:24.821Z"
   },
   {
    "duration": 50,
    "start_time": "2022-02-23T14:10:08.597Z"
   },
   {
    "duration": 46,
    "start_time": "2022-02-23T14:10:21.188Z"
   },
   {
    "duration": 48,
    "start_time": "2022-02-23T14:10:50.357Z"
   },
   {
    "duration": 48,
    "start_time": "2022-02-23T14:13:12.974Z"
   },
   {
    "duration": 49,
    "start_time": "2022-02-23T14:13:32.970Z"
   },
   {
    "duration": 59,
    "start_time": "2022-02-23T14:19:52.010Z"
   },
   {
    "duration": 50,
    "start_time": "2022-02-23T14:20:02.123Z"
   },
   {
    "duration": 53,
    "start_time": "2022-02-23T14:20:47.590Z"
   },
   {
    "duration": 21,
    "start_time": "2022-02-23T14:22:16.161Z"
   },
   {
    "duration": 687,
    "start_time": "2022-02-24T06:20:43.710Z"
   },
   {
    "duration": 50,
    "start_time": "2022-02-24T06:20:52.697Z"
   },
   {
    "duration": 7,
    "start_time": "2022-02-24T06:20:59.388Z"
   },
   {
    "duration": 6,
    "start_time": "2022-02-24T06:21:03.789Z"
   },
   {
    "duration": 61,
    "start_time": "2022-02-24T06:36:20.712Z"
   },
   {
    "duration": 433,
    "start_time": "2022-02-24T06:37:09.838Z"
   },
   {
    "duration": 57,
    "start_time": "2022-02-24T06:37:47.669Z"
   },
   {
    "duration": 52,
    "start_time": "2022-02-24T06:43:47.602Z"
   },
   {
    "duration": 37,
    "start_time": "2022-02-24T06:43:52.335Z"
   },
   {
    "duration": 79,
    "start_time": "2022-02-24T06:44:20.893Z"
   },
   {
    "duration": 32,
    "start_time": "2022-02-24T06:46:10.938Z"
   },
   {
    "duration": 26,
    "start_time": "2022-02-24T06:46:56.980Z"
   },
   {
    "duration": 44,
    "start_time": "2022-02-24T06:48:29.692Z"
   },
   {
    "duration": 29,
    "start_time": "2022-02-24T06:49:05.551Z"
   },
   {
    "duration": 22,
    "start_time": "2022-02-24T06:50:54.042Z"
   },
   {
    "duration": 29,
    "start_time": "2022-02-24T06:54:44.078Z"
   },
   {
    "duration": 33,
    "start_time": "2022-02-24T06:57:53.044Z"
   },
   {
    "duration": 28,
    "start_time": "2022-02-24T06:58:48.171Z"
   },
   {
    "duration": 21,
    "start_time": "2022-02-24T06:59:28.700Z"
   },
   {
    "duration": 57,
    "start_time": "2022-02-24T06:59:35.631Z"
   },
   {
    "duration": 23,
    "start_time": "2022-02-24T06:59:39.055Z"
   },
   {
    "duration": 24,
    "start_time": "2022-02-24T07:00:44.407Z"
   },
   {
    "duration": 24,
    "start_time": "2022-02-24T07:04:36.321Z"
   },
   {
    "duration": 42,
    "start_time": "2022-02-24T07:12:57.017Z"
   },
   {
    "duration": 46,
    "start_time": "2022-02-24T07:13:34.699Z"
   },
   {
    "duration": 31,
    "start_time": "2022-02-24T07:14:35.508Z"
   },
   {
    "duration": 234,
    "start_time": "2022-02-24T07:43:26.444Z"
   },
   {
    "duration": 268,
    "start_time": "2022-02-24T07:44:21.260Z"
   },
   {
    "duration": 13,
    "start_time": "2022-02-24T07:44:47.278Z"
   },
   {
    "duration": 16,
    "start_time": "2022-02-24T07:45:07.817Z"
   },
   {
    "duration": 454,
    "start_time": "2022-02-24T07:54:09.203Z"
   },
   {
    "duration": 9,
    "start_time": "2022-02-24T07:54:30.655Z"
   },
   {
    "duration": 260,
    "start_time": "2022-02-24T07:54:54.902Z"
   },
   {
    "duration": 53,
    "start_time": "2022-02-24T07:55:33.471Z"
   },
   {
    "duration": 100,
    "start_time": "2022-02-24T07:55:38.998Z"
   },
   {
    "duration": 6,
    "start_time": "2022-02-24T07:55:45.439Z"
   },
   {
    "duration": 8,
    "start_time": "2022-02-24T07:55:50.425Z"
   },
   {
    "duration": 33,
    "start_time": "2022-02-24T07:55:54.946Z"
   },
   {
    "duration": 22,
    "start_time": "2022-02-24T07:55:59.667Z"
   },
   {
    "duration": 91,
    "start_time": "2022-02-24T07:56:33.676Z"
   },
   {
    "duration": 274,
    "start_time": "2022-02-24T07:56:40.912Z"
   },
   {
    "duration": 56,
    "start_time": "2022-02-24T07:56:51.543Z"
   },
   {
    "duration": 85,
    "start_time": "2022-02-24T07:56:56.163Z"
   },
   {
    "duration": 53,
    "start_time": "2022-02-24T07:57:29.346Z"
   },
   {
    "duration": 29,
    "start_time": "2022-02-24T07:57:33.057Z"
   },
   {
    "duration": 6,
    "start_time": "2022-02-24T07:57:40.655Z"
   },
   {
    "duration": 7,
    "start_time": "2022-02-24T07:57:44.778Z"
   },
   {
    "duration": 32,
    "start_time": "2022-02-24T07:57:50.597Z"
   },
   {
    "duration": 25,
    "start_time": "2022-02-24T07:57:57.362Z"
   },
   {
    "duration": 57,
    "start_time": "2022-02-24T11:30:53.442Z"
   },
   {
    "duration": 28,
    "start_time": "2022-02-24T11:30:57.894Z"
   },
   {
    "duration": 7,
    "start_time": "2022-02-24T11:31:06.527Z"
   },
   {
    "duration": 7,
    "start_time": "2022-02-24T11:31:11.891Z"
   },
   {
    "duration": 31,
    "start_time": "2022-02-24T11:31:18.056Z"
   },
   {
    "duration": 23,
    "start_time": "2022-02-24T11:31:22.592Z"
   },
   {
    "duration": 4,
    "start_time": "2022-02-24T12:01:07.530Z"
   },
   {
    "duration": 5,
    "start_time": "2022-02-24T12:24:43.411Z"
   },
   {
    "duration": 11,
    "start_time": "2022-02-24T12:27:05.908Z"
   },
   {
    "duration": 12,
    "start_time": "2022-02-24T12:27:10.680Z"
   },
   {
    "duration": 20,
    "start_time": "2022-02-24T12:28:22.672Z"
   },
   {
    "duration": 11,
    "start_time": "2022-02-24T12:34:00.701Z"
   },
   {
    "duration": 19,
    "start_time": "2022-02-24T12:37:36.801Z"
   },
   {
    "duration": 52,
    "start_time": "2022-02-24T12:38:18.462Z"
   },
   {
    "duration": 30,
    "start_time": "2022-02-24T12:38:22.461Z"
   },
   {
    "duration": 6,
    "start_time": "2022-02-24T12:38:36.881Z"
   },
   {
    "duration": 6,
    "start_time": "2022-02-24T12:38:41.081Z"
   },
   {
    "duration": 30,
    "start_time": "2022-02-24T12:38:44.933Z"
   },
   {
    "duration": 22,
    "start_time": "2022-02-24T12:38:49.386Z"
   },
   {
    "duration": 20,
    "start_time": "2022-02-24T12:38:54.139Z"
   },
   {
    "duration": 54,
    "start_time": "2022-02-24T13:19:12.290Z"
   },
   {
    "duration": 29,
    "start_time": "2022-02-24T13:19:16.588Z"
   },
   {
    "duration": 27,
    "start_time": "2022-02-24T13:19:26.760Z"
   },
   {
    "duration": 6,
    "start_time": "2022-02-24T13:19:32.326Z"
   },
   {
    "duration": 7,
    "start_time": "2022-02-24T13:19:36.647Z"
   },
   {
    "duration": 34,
    "start_time": "2022-02-24T13:19:45.642Z"
   },
   {
    "duration": 23,
    "start_time": "2022-02-24T13:19:50.585Z"
   },
   {
    "duration": 21,
    "start_time": "2022-02-24T13:19:56.423Z"
   },
   {
    "duration": 276,
    "start_time": "2022-02-24T13:20:02.640Z"
   },
   {
    "duration": 82,
    "start_time": "2022-02-24T13:20:37.003Z"
   },
   {
    "duration": 84,
    "start_time": "2022-02-24T13:20:51.650Z"
   },
   {
    "duration": 101,
    "start_time": "2022-02-24T13:21:21.879Z"
   },
   {
    "duration": 81,
    "start_time": "2022-02-24T13:22:15.479Z"
   },
   {
    "duration": 5,
    "start_time": "2022-02-24T13:22:59.802Z"
   },
   {
    "duration": 5,
    "start_time": "2022-02-24T13:26:09.652Z"
   },
   {
    "duration": 4,
    "start_time": "2022-02-24T13:26:23.379Z"
   },
   {
    "duration": 5,
    "start_time": "2022-02-24T13:26:35.332Z"
   },
   {
    "duration": 4,
    "start_time": "2022-02-24T13:26:44.445Z"
   },
   {
    "duration": 7398,
    "start_time": "2022-02-24T13:27:04.212Z"
   },
   {
    "duration": 22,
    "start_time": "2022-02-24T13:27:44.088Z"
   },
   {
    "duration": 237,
    "start_time": "2022-02-24T13:28:21.694Z"
   },
   {
    "duration": 5,
    "start_time": "2022-02-24T13:28:45.120Z"
   },
   {
    "duration": 19,
    "start_time": "2022-02-24T13:29:10.466Z"
   },
   {
    "duration": 20,
    "start_time": "2022-02-24T13:29:31.755Z"
   },
   {
    "duration": 6475,
    "start_time": "2022-02-24T13:29:55.105Z"
   },
   {
    "duration": 55,
    "start_time": "2022-02-24T13:30:17.673Z"
   },
   {
    "duration": 26,
    "start_time": "2022-02-24T13:30:22.512Z"
   },
   {
    "duration": 8,
    "start_time": "2022-02-24T13:30:34.116Z"
   },
   {
    "duration": 6,
    "start_time": "2022-02-24T13:30:38.201Z"
   },
   {
    "duration": 30,
    "start_time": "2022-02-24T13:30:42.760Z"
   },
   {
    "duration": 22,
    "start_time": "2022-02-24T13:30:47.020Z"
   },
   {
    "duration": 22,
    "start_time": "2022-02-24T13:30:52.724Z"
   },
   {
    "duration": 6170,
    "start_time": "2022-02-24T13:30:57.819Z"
   },
   {
    "duration": 4,
    "start_time": "2022-02-24T13:31:30.665Z"
   },
   {
    "duration": 3,
    "start_time": "2022-02-24T13:31:35.645Z"
   },
   {
    "duration": 4,
    "start_time": "2022-02-24T13:31:41.520Z"
   },
   {
    "duration": 6339,
    "start_time": "2022-02-24T13:31:52.162Z"
   },
   {
    "duration": 15,
    "start_time": "2022-02-24T13:32:43.384Z"
   },
   {
    "duration": 1450,
    "start_time": "2022-02-24T13:37:02.361Z"
   },
   {
    "duration": 9,
    "start_time": "2022-02-24T13:37:47.579Z"
   },
   {
    "duration": 31,
    "start_time": "2022-02-24T13:37:55.332Z"
   },
   {
    "duration": 53,
    "start_time": "2022-02-24T13:38:38.767Z"
   },
   {
    "duration": 28,
    "start_time": "2022-02-24T13:38:43.050Z"
   },
   {
    "duration": 6,
    "start_time": "2022-02-24T13:38:48.334Z"
   },
   {
    "duration": 6,
    "start_time": "2022-02-24T13:38:52.311Z"
   },
   {
    "duration": 32,
    "start_time": "2022-02-24T13:38:57.342Z"
   },
   {
    "duration": 22,
    "start_time": "2022-02-24T13:39:01.498Z"
   },
   {
    "duration": 23,
    "start_time": "2022-02-24T13:39:06.015Z"
   },
   {
    "duration": 27,
    "start_time": "2022-02-24T13:39:10.452Z"
   },
   {
    "duration": 4,
    "start_time": "2022-02-24T13:41:06.461Z"
   },
   {
    "duration": 52,
    "start_time": "2022-02-24T13:43:16.017Z"
   },
   {
    "duration": 29,
    "start_time": "2022-02-24T13:43:20.998Z"
   },
   {
    "duration": 7,
    "start_time": "2022-02-24T13:43:28.461Z"
   },
   {
    "duration": 7,
    "start_time": "2022-02-24T13:43:33.498Z"
   },
   {
    "duration": 31,
    "start_time": "2022-02-24T13:43:37.714Z"
   },
   {
    "duration": 24,
    "start_time": "2022-02-24T13:43:42.483Z"
   },
   {
    "duration": 21,
    "start_time": "2022-02-24T13:43:48.322Z"
   },
   {
    "duration": 22,
    "start_time": "2022-02-24T13:43:53.343Z"
   },
   {
    "duration": 13,
    "start_time": "2022-02-24T13:44:31.335Z"
   },
   {
    "duration": 55,
    "start_time": "2022-02-24T13:45:13.766Z"
   },
   {
    "duration": 28,
    "start_time": "2022-02-24T13:45:18.134Z"
   },
   {
    "duration": 7,
    "start_time": "2022-02-24T13:45:23.582Z"
   },
   {
    "duration": 6,
    "start_time": "2022-02-24T13:45:27.380Z"
   },
   {
    "duration": 30,
    "start_time": "2022-02-24T13:45:31.294Z"
   },
   {
    "duration": 23,
    "start_time": "2022-02-24T13:45:35.034Z"
   },
   {
    "duration": 25,
    "start_time": "2022-02-24T13:45:40.070Z"
   },
   {
    "duration": 14,
    "start_time": "2022-02-24T13:45:56.018Z"
   },
   {
    "duration": 6,
    "start_time": "2022-02-24T13:46:31.826Z"
   },
   {
    "duration": 9,
    "start_time": "2022-02-24T13:48:22.729Z"
   },
   {
    "duration": 21,
    "start_time": "2022-02-24T13:48:30.481Z"
   },
   {
    "duration": 22,
    "start_time": "2022-02-24T13:50:11.587Z"
   },
   {
    "duration": 53,
    "start_time": "2022-02-24T13:50:34.016Z"
   },
   {
    "duration": 41,
    "start_time": "2022-02-24T13:50:38.047Z"
   },
   {
    "duration": 6,
    "start_time": "2022-02-24T13:50:44.087Z"
   },
   {
    "duration": 6,
    "start_time": "2022-02-24T13:50:48.383Z"
   },
   {
    "duration": 30,
    "start_time": "2022-02-24T13:50:52.081Z"
   },
   {
    "duration": 23,
    "start_time": "2022-02-24T13:50:56.243Z"
   },
   {
    "duration": 21,
    "start_time": "2022-02-24T13:51:01.325Z"
   },
   {
    "duration": 22,
    "start_time": "2022-02-24T13:51:06.732Z"
   },
   {
    "duration": 26,
    "start_time": "2022-02-24T14:01:34.758Z"
   },
   {
    "duration": 16,
    "start_time": "2022-02-24T14:03:05.522Z"
   },
   {
    "duration": 100,
    "start_time": "2022-02-24T14:04:23.711Z"
   },
   {
    "duration": 5,
    "start_time": "2022-02-24T14:04:34.845Z"
   },
   {
    "duration": 5,
    "start_time": "2022-02-24T14:05:05.786Z"
   },
   {
    "duration": 12,
    "start_time": "2022-02-24T14:05:34.795Z"
   },
   {
    "duration": 15,
    "start_time": "2022-02-24T14:05:48.820Z"
   },
   {
    "duration": 57,
    "start_time": "2022-02-24T14:06:26.904Z"
   },
   {
    "duration": 28,
    "start_time": "2022-02-24T14:06:30.695Z"
   },
   {
    "duration": 23,
    "start_time": "2022-02-24T14:06:36.307Z"
   },
   {
    "duration": 7,
    "start_time": "2022-02-24T14:06:42.070Z"
   },
   {
    "duration": 6,
    "start_time": "2022-02-24T14:06:46.404Z"
   },
   {
    "duration": 32,
    "start_time": "2022-02-24T14:06:51.766Z"
   },
   {
    "duration": 22,
    "start_time": "2022-02-24T14:06:57.449Z"
   },
   {
    "duration": 12,
    "start_time": "2022-02-24T14:07:03.334Z"
   },
   {
    "duration": 11,
    "start_time": "2022-02-24T14:07:13.134Z"
   },
   {
    "duration": 5,
    "start_time": "2022-02-24T14:07:18.419Z"
   },
   {
    "duration": 5,
    "start_time": "2022-02-24T14:07:43.835Z"
   },
   {
    "duration": 11,
    "start_time": "2022-02-24T14:08:50.031Z"
   },
   {
    "duration": 27,
    "start_time": "2022-02-24T14:09:15.753Z"
   },
   {
    "duration": 59,
    "start_time": "2022-02-24T14:12:00.447Z"
   },
   {
    "duration": 27,
    "start_time": "2022-02-24T14:12:03.845Z"
   },
   {
    "duration": 6,
    "start_time": "2022-02-24T14:12:07.990Z"
   },
   {
    "duration": 8,
    "start_time": "2022-02-24T14:12:11.984Z"
   },
   {
    "duration": 31,
    "start_time": "2022-02-24T14:12:15.834Z"
   },
   {
    "duration": 23,
    "start_time": "2022-02-24T14:12:19.956Z"
   },
   {
    "duration": 10,
    "start_time": "2022-02-24T14:12:27.140Z"
   },
   {
    "duration": 27,
    "start_time": "2022-02-24T14:12:32.701Z"
   },
   {
    "duration": 25,
    "start_time": "2022-02-24T14:12:49.558Z"
   },
   {
    "duration": 25,
    "start_time": "2022-02-24T14:13:29.495Z"
   },
   {
    "duration": 25,
    "start_time": "2022-02-24T14:14:10.222Z"
   },
   {
    "duration": 30,
    "start_time": "2022-02-24T14:23:49.460Z"
   },
   {
    "duration": 33,
    "start_time": "2022-02-24T14:25:00.661Z"
   },
   {
    "duration": 29,
    "start_time": "2022-02-24T14:25:51.794Z"
   },
   {
    "duration": 34,
    "start_time": "2022-02-24T14:25:56.300Z"
   },
   {
    "duration": 48,
    "start_time": "2022-02-24T14:26:23.494Z"
   },
   {
    "duration": 5851,
    "start_time": "2022-02-24T14:28:02.288Z"
   },
   {
    "duration": 6,
    "start_time": "2022-02-24T14:28:54.275Z"
   },
   {
    "duration": 98,
    "start_time": "2022-02-24T14:30:04.125Z"
   },
   {
    "duration": 7,
    "start_time": "2022-02-24T14:30:23.472Z"
   },
   {
    "duration": 6,
    "start_time": "2022-02-24T14:31:43.641Z"
   },
   {
    "duration": 12,
    "start_time": "2022-02-24T14:32:03.138Z"
   },
   {
    "duration": 7,
    "start_time": "2022-02-24T14:33:05.156Z"
   },
   {
    "duration": 34,
    "start_time": "2022-02-24T14:33:29.473Z"
   },
   {
    "duration": 31,
    "start_time": "2022-02-24T14:34:18.256Z"
   },
   {
    "duration": 31,
    "start_time": "2022-02-24T14:34:39.174Z"
   },
   {
    "duration": 2997,
    "start_time": "2022-02-24T14:35:03.153Z"
   },
   {
    "duration": 37,
    "start_time": "2022-02-24T14:35:15.529Z"
   },
   {
    "duration": 10,
    "start_time": "2022-02-24T14:45:02.170Z"
   },
   {
    "duration": 9,
    "start_time": "2022-02-24T14:45:29.634Z"
   },
   {
    "duration": 10,
    "start_time": "2022-02-24T14:45:42.629Z"
   },
   {
    "duration": 652,
    "start_time": "2022-02-25T06:48:45.536Z"
   },
   {
    "duration": 29,
    "start_time": "2022-02-25T06:48:50.799Z"
   },
   {
    "duration": 9,
    "start_time": "2022-02-25T06:48:56.447Z"
   },
   {
    "duration": 7,
    "start_time": "2022-02-25T06:49:01.738Z"
   },
   {
    "duration": 30,
    "start_time": "2022-02-25T06:49:07.235Z"
   },
   {
    "duration": 22,
    "start_time": "2022-02-25T06:49:11.536Z"
   },
   {
    "duration": 11,
    "start_time": "2022-02-25T06:49:17.767Z"
   },
   {
    "duration": 33,
    "start_time": "2022-02-25T06:49:21.476Z"
   },
   {
    "duration": 441,
    "start_time": "2022-02-25T06:53:22.803Z"
   },
   {
    "duration": 7,
    "start_time": "2022-02-25T06:53:39.928Z"
   },
   {
    "duration": 60,
    "start_time": "2022-02-25T06:58:28.691Z"
   },
   {
    "duration": 68,
    "start_time": "2022-02-25T06:59:16.739Z"
   },
   {
    "duration": 55,
    "start_time": "2022-02-25T07:01:42.875Z"
   },
   {
    "duration": 26,
    "start_time": "2022-02-25T07:01:46.456Z"
   },
   {
    "duration": 8,
    "start_time": "2022-02-25T07:01:50.968Z"
   },
   {
    "duration": 7,
    "start_time": "2022-02-25T07:01:56.074Z"
   },
   {
    "duration": 33,
    "start_time": "2022-02-25T07:01:59.595Z"
   },
   {
    "duration": 22,
    "start_time": "2022-02-25T07:02:03.951Z"
   },
   {
    "duration": 12,
    "start_time": "2022-02-25T07:02:08.219Z"
   },
   {
    "duration": 33,
    "start_time": "2022-02-25T07:02:12.785Z"
   },
   {
    "duration": 308,
    "start_time": "2022-02-25T07:21:15.641Z"
   },
   {
    "duration": 190,
    "start_time": "2022-02-25T07:21:51.757Z"
   },
   {
    "duration": 189,
    "start_time": "2022-02-25T07:22:03.023Z"
   },
   {
    "duration": 72,
    "start_time": "2022-02-25T07:22:19.088Z"
   },
   {
    "duration": 28,
    "start_time": "2022-02-25T07:22:24.828Z"
   },
   {
    "duration": 9,
    "start_time": "2022-02-25T07:22:30.270Z"
   },
   {
    "duration": 7,
    "start_time": "2022-02-25T07:22:35.403Z"
   },
   {
    "duration": 48,
    "start_time": "2022-02-25T07:22:39.056Z"
   },
   {
    "duration": 16,
    "start_time": "2022-02-25T07:22:43.459Z"
   },
   {
    "duration": 214,
    "start_time": "2022-02-25T07:23:09.401Z"
   },
   {
    "duration": 51,
    "start_time": "2022-02-25T07:23:25.562Z"
   },
   {
    "duration": 28,
    "start_time": "2022-02-25T07:23:29.524Z"
   },
   {
    "duration": 8,
    "start_time": "2022-02-25T07:23:36.014Z"
   },
   {
    "duration": 6,
    "start_time": "2022-02-25T07:23:40.707Z"
   },
   {
    "duration": 37,
    "start_time": "2022-02-25T07:23:44.514Z"
   },
   {
    "duration": 16,
    "start_time": "2022-02-25T07:23:48.655Z"
   },
   {
    "duration": 199,
    "start_time": "2022-02-25T07:24:47.574Z"
   },
   {
    "duration": 62,
    "start_time": "2022-02-25T07:24:57.728Z"
   },
   {
    "duration": 29,
    "start_time": "2022-02-25T07:25:02.650Z"
   },
   {
    "duration": 9,
    "start_time": "2022-02-25T07:25:07.990Z"
   },
   {
    "duration": 7,
    "start_time": "2022-02-25T07:25:13.578Z"
   },
   {
    "duration": 35,
    "start_time": "2022-02-25T07:25:19.816Z"
   },
   {
    "duration": 18,
    "start_time": "2022-02-25T07:25:23.720Z"
   },
   {
    "duration": 185,
    "start_time": "2022-02-25T07:25:59.163Z"
   },
   {
    "duration": 64,
    "start_time": "2022-02-25T07:26:07.188Z"
   },
   {
    "duration": 26,
    "start_time": "2022-02-25T07:26:11.126Z"
   },
   {
    "duration": 8,
    "start_time": "2022-02-25T07:26:16.330Z"
   },
   {
    "duration": 6,
    "start_time": "2022-02-25T07:26:21.486Z"
   },
   {
    "duration": 28,
    "start_time": "2022-02-25T07:26:25.653Z"
   },
   {
    "duration": 14,
    "start_time": "2022-02-25T07:26:30.327Z"
   },
   {
    "duration": 6204,
    "start_time": "2022-02-25T07:30:08.254Z"
   },
   {
    "duration": 55,
    "start_time": "2022-02-25T07:30:22.109Z"
   },
   {
    "duration": 36,
    "start_time": "2022-02-25T07:30:26.014Z"
   },
   {
    "duration": 8,
    "start_time": "2022-02-25T07:30:31.449Z"
   },
   {
    "duration": 7,
    "start_time": "2022-02-25T07:30:36.046Z"
   },
   {
    "duration": 50,
    "start_time": "2022-02-25T07:30:41.466Z"
   },
   {
    "duration": 38,
    "start_time": "2022-02-25T07:31:10.307Z"
   },
   {
    "duration": 33,
    "start_time": "2022-02-25T07:31:59.561Z"
   },
   {
    "duration": 30,
    "start_time": "2022-02-25T07:32:13.097Z"
   },
   {
    "duration": 13,
    "start_time": "2022-02-25T07:32:32.433Z"
   },
   {
    "duration": 11,
    "start_time": "2022-02-25T07:32:40.692Z"
   },
   {
    "duration": 35,
    "start_time": "2022-02-25T07:32:45.234Z"
   },
   {
    "duration": 52,
    "start_time": "2022-02-25T07:33:44.271Z"
   },
   {
    "duration": 71,
    "start_time": "2022-02-25T07:39:38.072Z"
   },
   {
    "duration": 62,
    "start_time": "2022-02-25T07:39:53.003Z"
   },
   {
    "duration": 146,
    "start_time": "2022-02-25T07:45:25.545Z"
   },
   {
    "duration": 163,
    "start_time": "2022-02-25T07:48:39.992Z"
   },
   {
    "duration": 4841,
    "start_time": "2022-02-25T07:50:13.744Z"
   },
   {
    "duration": 50,
    "start_time": "2022-02-25T07:50:24.359Z"
   },
   {
    "duration": 26,
    "start_time": "2022-02-25T07:50:28.861Z"
   },
   {
    "duration": 264,
    "start_time": "2022-02-25T07:51:20.791Z"
   },
   {
    "duration": 52,
    "start_time": "2022-02-25T07:51:29.047Z"
   },
   {
    "duration": 27,
    "start_time": "2022-02-25T07:51:33.644Z"
   },
   {
    "duration": 8,
    "start_time": "2022-02-25T07:51:38.855Z"
   },
   {
    "duration": 7,
    "start_time": "2022-02-25T07:51:43.974Z"
   },
   {
    "duration": 20,
    "start_time": "2022-02-25T07:51:49.126Z"
   },
   {
    "duration": 10,
    "start_time": "2022-02-25T07:51:53.491Z"
   },
   {
    "duration": 44,
    "start_time": "2022-02-25T07:51:57.023Z"
   },
   {
    "duration": 136,
    "start_time": "2022-02-25T07:52:02.269Z"
   },
   {
    "duration": 19,
    "start_time": "2022-02-25T08:06:59.970Z"
   },
   {
    "duration": 210,
    "start_time": "2022-02-25T08:07:38.722Z"
   },
   {
    "duration": 19,
    "start_time": "2022-02-25T08:07:46.696Z"
   },
   {
    "duration": 19,
    "start_time": "2022-02-25T08:08:27.013Z"
   },
   {
    "duration": 20,
    "start_time": "2022-02-25T08:09:09.858Z"
   },
   {
    "duration": 20,
    "start_time": "2022-02-25T08:09:40.396Z"
   },
   {
    "duration": 22,
    "start_time": "2022-02-25T08:10:22.371Z"
   },
   {
    "duration": 21,
    "start_time": "2022-02-25T08:10:47.056Z"
   },
   {
    "duration": 29,
    "start_time": "2022-02-25T08:11:58.319Z"
   },
   {
    "duration": 20,
    "start_time": "2022-02-25T08:12:28.287Z"
   },
   {
    "duration": 21,
    "start_time": "2022-02-25T08:19:37.394Z"
   },
   {
    "duration": 29,
    "start_time": "2022-02-25T08:19:45.624Z"
   },
   {
    "duration": 18,
    "start_time": "2022-02-25T08:20:36.966Z"
   },
   {
    "duration": 23,
    "start_time": "2022-02-25T08:26:44.873Z"
   },
   {
    "duration": 213,
    "start_time": "2022-02-25T08:33:34.702Z"
   },
   {
    "duration": 55,
    "start_time": "2022-02-25T08:33:48.857Z"
   },
   {
    "duration": 27,
    "start_time": "2022-02-25T08:33:57.771Z"
   },
   {
    "duration": 8,
    "start_time": "2022-02-25T08:34:03.594Z"
   },
   {
    "duration": 6,
    "start_time": "2022-02-25T08:34:08.288Z"
   },
   {
    "duration": 12,
    "start_time": "2022-02-25T08:34:14.021Z"
   },
   {
    "duration": 11,
    "start_time": "2022-02-25T08:34:19.346Z"
   },
   {
    "duration": 32,
    "start_time": "2022-02-25T08:34:24.090Z"
   },
   {
    "duration": 370,
    "start_time": "2022-02-25T08:34:30.706Z"
   },
   {
    "duration": 208,
    "start_time": "2022-02-25T08:36:25.502Z"
   },
   {
    "duration": 68,
    "start_time": "2022-02-25T08:37:44.695Z"
   },
   {
    "duration": 204,
    "start_time": "2022-02-25T08:38:26.089Z"
   },
   {
    "duration": 54,
    "start_time": "2022-02-25T08:38:37.677Z"
   },
   {
    "duration": 33,
    "start_time": "2022-02-25T08:38:41.320Z"
   },
   {
    "duration": 8,
    "start_time": "2022-02-25T08:38:45.903Z"
   },
   {
    "duration": 6,
    "start_time": "2022-02-25T08:38:50.300Z"
   },
   {
    "duration": 42,
    "start_time": "2022-02-25T08:38:53.627Z"
   },
   {
    "duration": 15,
    "start_time": "2022-02-25T08:38:57.096Z"
   },
   {
    "duration": 18,
    "start_time": "2022-02-25T08:39:02.126Z"
   },
   {
    "duration": 33,
    "start_time": "2022-02-25T08:39:06.246Z"
   },
   {
    "duration": 200,
    "start_time": "2022-02-25T08:39:12.209Z"
   },
   {
    "duration": 27,
    "start_time": "2022-02-25T08:45:42.952Z"
   },
   {
    "duration": 58,
    "start_time": "2022-02-25T08:45:42.980Z"
   },
   {
    "duration": 60,
    "start_time": "2022-02-25T08:45:47.026Z"
   },
   {
    "duration": 27,
    "start_time": "2022-02-25T08:45:51.058Z"
   },
   {
    "duration": 9,
    "start_time": "2022-02-25T08:45:56.113Z"
   },
   {
    "duration": 7,
    "start_time": "2022-02-25T08:46:01.399Z"
   },
   {
    "duration": 32,
    "start_time": "2022-02-25T08:46:05.185Z"
   },
   {
    "duration": 17,
    "start_time": "2022-02-25T08:46:09.033Z"
   },
   {
    "duration": 10,
    "start_time": "2022-02-25T08:46:13.262Z"
   },
   {
    "duration": 32,
    "start_time": "2022-02-25T08:46:17.863Z"
   },
   {
    "duration": 222,
    "start_time": "2022-02-25T08:46:37.958Z"
   },
   {
    "duration": 77,
    "start_time": "2022-02-25T08:46:48.286Z"
   },
   {
    "duration": 63,
    "start_time": "2022-02-25T08:47:42.084Z"
   },
   {
    "duration": 17,
    "start_time": "2022-02-25T08:48:38.220Z"
   },
   {
    "duration": 16,
    "start_time": "2022-02-25T08:48:42.628Z"
   },
   {
    "duration": 25,
    "start_time": "2022-02-25T08:49:08.558Z"
   },
   {
    "duration": 193,
    "start_time": "2022-02-25T08:49:41.110Z"
   },
   {
    "duration": 23,
    "start_time": "2022-02-25T08:50:16.229Z"
   },
   {
    "duration": 103,
    "start_time": "2022-02-25T08:50:40.595Z"
   },
   {
    "duration": 4164,
    "start_time": "2022-02-25T08:55:12.251Z"
   },
   {
    "duration": 61,
    "start_time": "2022-02-25T08:57:39.518Z"
   },
   {
    "duration": 28,
    "start_time": "2022-02-25T08:57:39.581Z"
   },
   {
    "duration": 31,
    "start_time": "2022-02-25T08:57:39.611Z"
   },
   {
    "duration": 6,
    "start_time": "2022-02-25T08:57:39.645Z"
   },
   {
    "duration": 28,
    "start_time": "2022-02-25T08:57:39.653Z"
   },
   {
    "duration": 15,
    "start_time": "2022-02-25T08:57:39.683Z"
   },
   {
    "duration": 87,
    "start_time": "2022-02-25T08:57:39.699Z"
   },
   {
    "duration": -213,
    "start_time": "2022-02-25T08:57:40.001Z"
   },
   {
    "duration": -218,
    "start_time": "2022-02-25T08:57:40.008Z"
   },
   {
    "duration": -219,
    "start_time": "2022-02-25T08:57:40.010Z"
   },
   {
    "duration": -218,
    "start_time": "2022-02-25T08:57:40.011Z"
   },
   {
    "duration": 4025,
    "start_time": "2022-02-25T08:57:51.762Z"
   },
   {
    "duration": 208,
    "start_time": "2022-02-25T09:04:35.584Z"
   },
   {
    "duration": 24,
    "start_time": "2022-02-25T09:05:01.346Z"
   },
   {
    "duration": 21,
    "start_time": "2022-02-25T09:08:05.863Z"
   },
   {
    "duration": -365,
    "start_time": "2022-02-25T09:08:22.884Z"
   },
   {
    "duration": 3753,
    "start_time": "2022-02-25T09:08:29.560Z"
   },
   {
    "duration": 30,
    "start_time": "2022-02-25T09:08:33.657Z"
   },
   {
    "duration": 20,
    "start_time": "2022-02-25T09:10:53.317Z"
   },
   {
    "duration": 196,
    "start_time": "2022-02-25T09:15:46.167Z"
   },
   {
    "duration": 239,
    "start_time": "2022-02-25T09:16:10.181Z"
   },
   {
    "duration": 34,
    "start_time": "2022-02-25T09:16:19.709Z"
   },
   {
    "duration": 18,
    "start_time": "2022-02-25T09:16:26.051Z"
   },
   {
    "duration": 31,
    "start_time": "2022-02-25T09:16:51.568Z"
   },
   {
    "duration": 28,
    "start_time": "2022-02-25T09:19:35.049Z"
   },
   {
    "duration": 13,
    "start_time": "2022-02-25T09:19:38.980Z"
   },
   {
    "duration": 91,
    "start_time": "2022-02-25T09:19:56.233Z"
   },
   {
    "duration": 195,
    "start_time": "2022-02-25T09:20:00.213Z"
   },
   {
    "duration": 22,
    "start_time": "2022-02-25T09:20:56.629Z"
   },
   {
    "duration": 313,
    "start_time": "2022-02-25T09:22:31.264Z"
   },
   {
    "duration": 26,
    "start_time": "2022-02-25T09:22:40.346Z"
   },
   {
    "duration": 12,
    "start_time": "2022-02-25T09:25:09.400Z"
   },
   {
    "duration": 22,
    "start_time": "2022-02-25T09:26:20.319Z"
   },
   {
    "duration": 27,
    "start_time": "2022-02-25T09:27:01.087Z"
   },
   {
    "duration": 32,
    "start_time": "2022-02-25T09:27:10.767Z"
   },
   {
    "duration": 31,
    "start_time": "2022-02-25T09:30:44.426Z"
   },
   {
    "duration": 27,
    "start_time": "2022-02-25T09:31:58.454Z"
   },
   {
    "duration": 28,
    "start_time": "2022-02-25T09:32:12.753Z"
   },
   {
    "duration": 41,
    "start_time": "2022-02-25T09:33:57.869Z"
   },
   {
    "duration": 44,
    "start_time": "2022-02-25T09:34:10.047Z"
   },
   {
    "duration": 214,
    "start_time": "2022-02-25T09:36:02.291Z"
   },
   {
    "duration": 56,
    "start_time": "2022-02-25T09:36:14.730Z"
   },
   {
    "duration": 47,
    "start_time": "2022-02-25T09:37:24.649Z"
   },
   {
    "duration": 245,
    "start_time": "2022-02-25T10:04:10.583Z"
   },
   {
    "duration": 49,
    "start_time": "2022-02-25T10:05:14.425Z"
   },
   {
    "duration": 70,
    "start_time": "2022-02-25T10:16:15.816Z"
   },
   {
    "duration": 59,
    "start_time": "2022-02-25T10:16:48.426Z"
   },
   {
    "duration": 309,
    "start_time": "2022-02-25T10:22:59.949Z"
   },
   {
    "duration": 96,
    "start_time": "2022-02-25T10:23:42.223Z"
   },
   {
    "duration": 200,
    "start_time": "2022-02-25T10:25:21.180Z"
   },
   {
    "duration": 221,
    "start_time": "2022-02-25T10:25:44.774Z"
   },
   {
    "duration": 203,
    "start_time": "2022-02-25T10:26:01.807Z"
   },
   {
    "duration": 58,
    "start_time": "2022-02-25T10:26:13.016Z"
   },
   {
    "duration": 46,
    "start_time": "2022-02-25T10:26:16.629Z"
   },
   {
    "duration": 8,
    "start_time": "2022-02-25T10:26:22.200Z"
   },
   {
    "duration": 7,
    "start_time": "2022-02-25T10:26:26.684Z"
   },
   {
    "duration": 30,
    "start_time": "2022-02-25T10:26:31.558Z"
   },
   {
    "duration": 15,
    "start_time": "2022-02-25T10:26:35.502Z"
   },
   {
    "duration": 15,
    "start_time": "2022-02-25T10:26:39.932Z"
   },
   {
    "duration": 33,
    "start_time": "2022-02-25T10:26:43.595Z"
   },
   {
    "duration": 64,
    "start_time": "2022-02-25T10:26:48.597Z"
   },
   {
    "duration": 51,
    "start_time": "2022-02-25T10:26:54.175Z"
   },
   {
    "duration": 72,
    "start_time": "2022-02-25T10:26:59.705Z"
   },
   {
    "duration": 56,
    "start_time": "2022-02-25T10:27:04.246Z"
   },
   {
    "duration": 55,
    "start_time": "2022-02-25T10:28:44.204Z"
   },
   {
    "duration": 54,
    "start_time": "2022-02-25T10:29:49.796Z"
   },
   {
    "duration": 56,
    "start_time": "2022-02-25T10:33:17.306Z"
   },
   {
    "duration": 30,
    "start_time": "2022-02-25T10:36:48.974Z"
   },
   {
    "duration": 29,
    "start_time": "2022-02-25T10:37:11.170Z"
   },
   {
    "duration": 35,
    "start_time": "2022-02-25T10:40:11.404Z"
   },
   {
    "duration": 33,
    "start_time": "2022-02-25T10:44:12.516Z"
   },
   {
    "duration": 292,
    "start_time": "2022-02-25T10:49:13.813Z"
   },
   {
    "duration": 49,
    "start_time": "2022-02-25T10:49:23.970Z"
   },
   {
    "duration": 33,
    "start_time": "2022-02-25T10:49:28.518Z"
   },
   {
    "duration": 9,
    "start_time": "2022-02-25T10:49:35.867Z"
   },
   {
    "duration": 8,
    "start_time": "2022-02-25T10:49:41.022Z"
   },
   {
    "duration": 29,
    "start_time": "2022-02-25T10:49:45.551Z"
   },
   {
    "duration": 18,
    "start_time": "2022-02-25T10:49:50.324Z"
   },
   {
    "duration": 11,
    "start_time": "2022-02-25T10:49:55.562Z"
   },
   {
    "duration": 34,
    "start_time": "2022-02-25T10:50:00.403Z"
   },
   {
    "duration": 31,
    "start_time": "2022-02-25T10:50:05.946Z"
   },
   {
    "duration": 30,
    "start_time": "2022-02-25T10:50:11.471Z"
   },
   {
    "duration": 57,
    "start_time": "2022-02-25T10:50:16.232Z"
   },
   {
    "duration": 293,
    "start_time": "2022-02-25T10:50:24.230Z"
   },
   {
    "duration": 21,
    "start_time": "2022-02-25T10:51:26.790Z"
   },
   {
    "duration": 55,
    "start_time": "2022-02-25T10:52:02.013Z"
   },
   {
    "duration": 32,
    "start_time": "2022-02-25T10:52:10.116Z"
   },
   {
    "duration": 8,
    "start_time": "2022-02-25T10:52:16.401Z"
   },
   {
    "duration": 6,
    "start_time": "2022-02-25T10:52:22.721Z"
   },
   {
    "duration": 33,
    "start_time": "2022-02-25T10:52:29.941Z"
   },
   {
    "duration": 14,
    "start_time": "2022-02-25T10:52:34.985Z"
   },
   {
    "duration": 11,
    "start_time": "2022-02-25T10:52:40.146Z"
   },
   {
    "duration": 31,
    "start_time": "2022-02-25T10:52:45.557Z"
   },
   {
    "duration": 39,
    "start_time": "2022-02-25T10:52:52.504Z"
   },
   {
    "duration": 28,
    "start_time": "2022-02-25T10:52:58.749Z"
   },
   {
    "duration": 55,
    "start_time": "2022-02-25T10:53:06.645Z"
   },
   {
    "duration": 20,
    "start_time": "2022-02-25T10:53:13.346Z"
   },
   {
    "duration": 19,
    "start_time": "2022-02-25T10:54:23.899Z"
   },
   {
    "duration": 23,
    "start_time": "2022-02-25T10:54:59.817Z"
   },
   {
    "duration": 36,
    "start_time": "2022-02-25T10:55:51.021Z"
   },
   {
    "duration": 28,
    "start_time": "2022-02-25T10:56:35.256Z"
   },
   {
    "duration": 32,
    "start_time": "2022-02-25T10:57:04.420Z"
   },
   {
    "duration": 34,
    "start_time": "2022-02-25T10:57:12.287Z"
   },
   {
    "duration": 30,
    "start_time": "2022-02-25T10:58:52.589Z"
   },
   {
    "duration": 29,
    "start_time": "2022-02-25T10:59:43.391Z"
   },
   {
    "duration": 32,
    "start_time": "2022-02-25T11:06:17.665Z"
   },
   {
    "duration": 216,
    "start_time": "2022-02-25T11:16:12.186Z"
   },
   {
    "duration": 675,
    "start_time": "2022-02-26T07:54:16.391Z"
   },
   {
    "duration": 40,
    "start_time": "2022-02-26T07:54:21.223Z"
   },
   {
    "duration": 10,
    "start_time": "2022-02-26T07:54:33.182Z"
   },
   {
    "duration": 7,
    "start_time": "2022-02-26T07:54:37.873Z"
   },
   {
    "duration": 34,
    "start_time": "2022-02-26T07:54:41.197Z"
   },
   {
    "duration": 18,
    "start_time": "2022-02-26T07:54:44.489Z"
   },
   {
    "duration": 312,
    "start_time": "2022-02-26T07:55:11.285Z"
   },
   {
    "duration": 244,
    "start_time": "2022-02-26T07:55:22.376Z"
   },
   {
    "duration": 55,
    "start_time": "2022-02-26T07:55:41.584Z"
   },
   {
    "duration": 31,
    "start_time": "2022-02-26T07:55:45.247Z"
   },
   {
    "duration": 10,
    "start_time": "2022-02-26T07:55:50.024Z"
   },
   {
    "duration": 8,
    "start_time": "2022-02-26T07:55:55.979Z"
   },
   {
    "duration": 35,
    "start_time": "2022-02-26T07:56:02.447Z"
   },
   {
    "duration": 18,
    "start_time": "2022-02-26T07:56:06.666Z"
   },
   {
    "duration": 329,
    "start_time": "2022-02-26T07:57:30.364Z"
   },
   {
    "duration": 55,
    "start_time": "2022-02-26T07:57:55.483Z"
   },
   {
    "duration": 31,
    "start_time": "2022-02-26T07:57:58.999Z"
   },
   {
    "duration": 10,
    "start_time": "2022-02-26T07:58:03.621Z"
   },
   {
    "duration": 8,
    "start_time": "2022-02-26T07:58:07.502Z"
   },
   {
    "duration": 35,
    "start_time": "2022-02-26T07:58:16.307Z"
   },
   {
    "duration": 16,
    "start_time": "2022-02-26T07:58:19.753Z"
   },
   {
    "duration": 15,
    "start_time": "2022-02-26T07:58:34.882Z"
   },
   {
    "duration": 40,
    "start_time": "2022-02-26T07:58:40.665Z"
   },
   {
    "duration": 38,
    "start_time": "2022-02-26T07:58:45.752Z"
   },
   {
    "duration": 32,
    "start_time": "2022-02-26T07:59:24.838Z"
   },
   {
    "duration": 33,
    "start_time": "2022-02-26T07:59:29.646Z"
   },
   {
    "duration": 49,
    "start_time": "2022-02-26T07:59:33.805Z"
   },
   {
    "duration": 36,
    "start_time": "2022-02-26T07:59:37.569Z"
   },
   {
    "duration": 57,
    "start_time": "2022-02-26T09:18:40.214Z"
   },
   {
    "duration": 30,
    "start_time": "2022-02-26T09:18:43.721Z"
   },
   {
    "duration": 28,
    "start_time": "2022-02-26T09:18:45.684Z"
   },
   {
    "duration": 11,
    "start_time": "2022-02-26T09:18:51.272Z"
   },
   {
    "duration": 9,
    "start_time": "2022-02-26T09:18:55.388Z"
   },
   {
    "duration": 51,
    "start_time": "2022-02-26T09:18:58.884Z"
   },
   {
    "duration": 23,
    "start_time": "2022-02-26T09:19:02.382Z"
   },
   {
    "duration": 12,
    "start_time": "2022-02-26T09:19:11.555Z"
   },
   {
    "duration": 42,
    "start_time": "2022-02-26T09:19:16.326Z"
   },
   {
    "duration": 36,
    "start_time": "2022-02-26T09:19:21.818Z"
   },
   {
    "duration": 35,
    "start_time": "2022-02-26T09:19:26.823Z"
   },
   {
    "duration": 36,
    "start_time": "2022-02-26T09:19:31.812Z"
   },
   {
    "duration": 38,
    "start_time": "2022-02-26T09:19:35.317Z"
   },
   {
    "duration": 31,
    "start_time": "2022-02-26T09:41:16.539Z"
   },
   {
    "duration": 6472,
    "start_time": "2022-02-26T10:03:36.607Z"
   },
   {
    "duration": 7459,
    "start_time": "2022-02-26T10:03:59.853Z"
   },
   {
    "duration": 56,
    "start_time": "2022-02-26T10:04:13.316Z"
   },
   {
    "duration": 25,
    "start_time": "2022-02-26T10:04:18.365Z"
   },
   {
    "duration": 26,
    "start_time": "2022-02-26T10:05:20.114Z"
   },
   {
    "duration": 35,
    "start_time": "2022-02-26T10:06:52.552Z"
   },
   {
    "duration": 14,
    "start_time": "2022-02-26T10:13:50.453Z"
   },
   {
    "duration": 43,
    "start_time": "2022-02-26T10:13:54.854Z"
   },
   {
    "duration": 648,
    "start_time": "2022-02-27T05:27:36.171Z"
   },
   {
    "duration": 31,
    "start_time": "2022-02-27T05:27:40.027Z"
   },
   {
    "duration": 7,
    "start_time": "2022-02-27T05:27:45.863Z"
   },
   {
    "duration": 6,
    "start_time": "2022-02-27T05:27:51.670Z"
   },
   {
    "duration": 13,
    "start_time": "2022-02-27T05:27:55.572Z"
   },
   {
    "duration": 10,
    "start_time": "2022-02-27T05:27:59.674Z"
   },
   {
    "duration": 29,
    "start_time": "2022-02-27T05:28:03.896Z"
   },
   {
    "duration": 29,
    "start_time": "2022-02-27T05:28:11.797Z"
   },
   {
    "duration": 10,
    "start_time": "2022-02-27T05:28:14.943Z"
   },
   {
    "duration": 28,
    "start_time": "2022-02-27T05:28:20.783Z"
   },
   {
    "duration": 28,
    "start_time": "2022-02-27T05:28:36.227Z"
   },
   {
    "duration": 25,
    "start_time": "2022-02-27T05:28:42.825Z"
   },
   {
    "duration": 26,
    "start_time": "2022-02-27T05:28:47.599Z"
   },
   {
    "duration": 28,
    "start_time": "2022-02-27T05:28:51.426Z"
   },
   {
    "duration": 25,
    "start_time": "2022-02-27T05:29:08.851Z"
   },
   {
    "duration": 50,
    "start_time": "2022-02-27T08:09:14.169Z"
   },
   {
    "duration": 24,
    "start_time": "2022-02-27T08:09:17.908Z"
   },
   {
    "duration": 7,
    "start_time": "2022-02-27T08:09:22.433Z"
   },
   {
    "duration": 6,
    "start_time": "2022-02-27T08:09:26.320Z"
   },
   {
    "duration": 12,
    "start_time": "2022-02-27T08:09:30.380Z"
   },
   {
    "duration": 10,
    "start_time": "2022-02-27T08:09:34.336Z"
   },
   {
    "duration": 31,
    "start_time": "2022-02-27T08:09:37.677Z"
   },
   {
    "duration": 10,
    "start_time": "2022-02-27T08:09:45.156Z"
   },
   {
    "duration": 29,
    "start_time": "2022-02-27T08:09:48.000Z"
   },
   {
    "duration": 27,
    "start_time": "2022-02-27T08:09:52.234Z"
   },
   {
    "duration": 24,
    "start_time": "2022-02-27T08:09:56.608Z"
   },
   {
    "duration": 39,
    "start_time": "2022-02-27T08:10:01.533Z"
   },
   {
    "duration": 28,
    "start_time": "2022-02-27T08:15:14.943Z"
   },
   {
    "duration": 58,
    "start_time": "2022-02-27T09:06:18.249Z"
   },
   {
    "duration": 23,
    "start_time": "2022-02-27T09:06:22.309Z"
   },
   {
    "duration": 7,
    "start_time": "2022-02-27T09:06:27.186Z"
   },
   {
    "duration": 6,
    "start_time": "2022-02-27T09:06:31.490Z"
   },
   {
    "duration": 25,
    "start_time": "2022-02-27T09:06:36.178Z"
   },
   {
    "duration": 13,
    "start_time": "2022-02-27T09:06:39.762Z"
   },
   {
    "duration": 12,
    "start_time": "2022-02-27T09:06:43.977Z"
   },
   {
    "duration": 31,
    "start_time": "2022-02-27T09:06:47.338Z"
   },
   {
    "duration": 26,
    "start_time": "2022-02-27T09:06:51.957Z"
   },
   {
    "duration": 29,
    "start_time": "2022-02-27T09:06:57.115Z"
   },
   {
    "duration": 26,
    "start_time": "2022-02-27T09:07:02.090Z"
   },
   {
    "duration": 29,
    "start_time": "2022-02-27T09:07:07.035Z"
   },
   {
    "duration": 51,
    "start_time": "2022-02-27T09:07:32.502Z"
   },
   {
    "duration": 24,
    "start_time": "2022-02-27T09:07:32.555Z"
   },
   {
    "duration": 21,
    "start_time": "2022-02-27T09:07:32.581Z"
   },
   {
    "duration": 6,
    "start_time": "2022-02-27T09:07:32.604Z"
   },
   {
    "duration": 26,
    "start_time": "2022-02-27T09:07:32.612Z"
   },
   {
    "duration": 12,
    "start_time": "2022-02-27T09:07:32.640Z"
   },
   {
    "duration": 10,
    "start_time": "2022-02-27T09:07:32.654Z"
   },
   {
    "duration": 64,
    "start_time": "2022-02-27T09:07:32.666Z"
   },
   {
    "duration": 26,
    "start_time": "2022-02-27T09:07:32.732Z"
   },
   {
    "duration": 47,
    "start_time": "2022-02-27T09:07:32.760Z"
   },
   {
    "duration": 25,
    "start_time": "2022-02-27T09:07:32.809Z"
   },
   {
    "duration": 28,
    "start_time": "2022-02-27T09:07:32.836Z"
   },
   {
    "duration": 766,
    "start_time": "2022-03-07T12:03:49.437Z"
   },
   {
    "duration": 50,
    "start_time": "2022-03-07T12:03:50.207Z"
   },
   {
    "duration": 35,
    "start_time": "2022-03-07T12:03:50.261Z"
   },
   {
    "duration": 10,
    "start_time": "2022-03-07T12:03:50.300Z"
   },
   {
    "duration": 74,
    "start_time": "2022-03-07T12:03:50.312Z"
   },
   {
    "duration": 22,
    "start_time": "2022-03-07T12:03:50.389Z"
   },
   {
    "duration": 19,
    "start_time": "2022-03-07T12:03:50.414Z"
   },
   {
    "duration": 91,
    "start_time": "2022-03-07T12:03:50.436Z"
   },
   {
    "duration": 68,
    "start_time": "2022-03-07T12:03:50.532Z"
   },
   {
    "duration": 43,
    "start_time": "2022-03-07T12:03:50.604Z"
   },
   {
    "duration": 71,
    "start_time": "2022-03-07T12:03:50.649Z"
   },
   {
    "duration": 63,
    "start_time": "2022-03-07T12:03:50.723Z"
   },
   {
    "duration": 307,
    "start_time": "2022-03-07T12:49:57.543Z"
   },
   {
    "duration": 823,
    "start_time": "2022-03-07T12:50:21.957Z"
   },
   {
    "duration": 46,
    "start_time": "2022-03-07T12:50:22.782Z"
   },
   {
    "duration": 11,
    "start_time": "2022-03-07T12:50:22.831Z"
   },
   {
    "duration": 8,
    "start_time": "2022-03-07T12:50:22.844Z"
   },
   {
    "duration": 72,
    "start_time": "2022-03-07T12:50:22.854Z"
   },
   {
    "duration": 23,
    "start_time": "2022-03-07T12:50:22.928Z"
   },
   {
    "duration": 343,
    "start_time": "2022-03-07T12:50:22.954Z"
   },
   {
    "duration": -360,
    "start_time": "2022-03-07T12:50:23.661Z"
   },
   {
    "duration": -364,
    "start_time": "2022-03-07T12:50:23.667Z"
   },
   {
    "duration": -365,
    "start_time": "2022-03-07T12:50:23.670Z"
   },
   {
    "duration": -364,
    "start_time": "2022-03-07T12:50:23.672Z"
   },
   {
    "duration": -364,
    "start_time": "2022-03-07T12:50:23.674Z"
   },
   {
    "duration": -363,
    "start_time": "2022-03-07T12:50:23.675Z"
   },
   {
    "duration": 218,
    "start_time": "2022-03-07T12:52:24.429Z"
   },
   {
    "duration": 805,
    "start_time": "2022-03-07T12:52:53.156Z"
   },
   {
    "duration": 45,
    "start_time": "2022-03-07T12:52:53.964Z"
   },
   {
    "duration": 11,
    "start_time": "2022-03-07T12:52:54.012Z"
   },
   {
    "duration": 12,
    "start_time": "2022-03-07T12:52:54.025Z"
   },
   {
    "duration": 61,
    "start_time": "2022-03-07T12:52:54.039Z"
   },
   {
    "duration": 24,
    "start_time": "2022-03-07T12:52:54.102Z"
   },
   {
    "duration": 27,
    "start_time": "2022-03-07T12:52:54.128Z"
   },
   {
    "duration": 40,
    "start_time": "2022-03-07T12:52:54.158Z"
   },
   {
    "duration": 53,
    "start_time": "2022-03-07T12:52:54.203Z"
   },
   {
    "duration": 69,
    "start_time": "2022-03-07T12:52:54.259Z"
   },
   {
    "duration": 57,
    "start_time": "2022-03-07T12:52:54.331Z"
   },
   {
    "duration": 41,
    "start_time": "2022-03-07T12:52:54.390Z"
   },
   {
    "duration": 72,
    "start_time": "2022-03-07T12:52:54.434Z"
   },
   {
    "duration": 760,
    "start_time": "2022-03-07T12:53:45.129Z"
   },
   {
    "duration": 48,
    "start_time": "2022-03-07T12:53:45.892Z"
   },
   {
    "duration": 11,
    "start_time": "2022-03-07T12:53:45.943Z"
   },
   {
    "duration": 35,
    "start_time": "2022-03-07T12:53:45.957Z"
   },
   {
    "duration": 50,
    "start_time": "2022-03-07T12:53:45.995Z"
   },
   {
    "duration": 21,
    "start_time": "2022-03-07T12:53:46.048Z"
   },
   {
    "duration": 22,
    "start_time": "2022-03-07T12:53:46.087Z"
   },
   {
    "duration": 17,
    "start_time": "2022-03-07T12:53:46.112Z"
   },
   {
    "duration": 88,
    "start_time": "2022-03-07T12:53:46.132Z"
   },
   {
    "duration": 64,
    "start_time": "2022-03-07T12:53:46.223Z"
   },
   {
    "duration": 44,
    "start_time": "2022-03-07T12:53:46.290Z"
   },
   {
    "duration": 69,
    "start_time": "2022-03-07T12:53:46.336Z"
   },
   {
    "duration": 49,
    "start_time": "2022-03-07T12:53:46.407Z"
   },
   {
    "duration": 332,
    "start_time": "2022-03-07T12:55:54.620Z"
   },
   {
    "duration": 760,
    "start_time": "2022-03-07T12:56:04.226Z"
   },
   {
    "duration": 47,
    "start_time": "2022-03-07T12:56:04.989Z"
   },
   {
    "duration": 10,
    "start_time": "2022-03-07T12:56:05.039Z"
   },
   {
    "duration": 37,
    "start_time": "2022-03-07T12:56:05.052Z"
   },
   {
    "duration": 43,
    "start_time": "2022-03-07T12:56:05.092Z"
   },
   {
    "duration": 22,
    "start_time": "2022-03-07T12:56:05.137Z"
   },
   {
    "duration": 18,
    "start_time": "2022-03-07T12:56:05.187Z"
   },
   {
    "duration": 81,
    "start_time": "2022-03-07T12:56:05.209Z"
   },
   {
    "duration": 47,
    "start_time": "2022-03-07T12:56:05.293Z"
   },
   {
    "duration": 67,
    "start_time": "2022-03-07T12:56:05.342Z"
   },
   {
    "duration": 44,
    "start_time": "2022-03-07T12:56:05.411Z"
   },
   {
    "duration": 74,
    "start_time": "2022-03-07T12:56:05.458Z"
   },
   {
    "duration": 816,
    "start_time": "2022-03-07T13:08:21.085Z"
   },
   {
    "duration": 48,
    "start_time": "2022-03-07T13:08:21.904Z"
   },
   {
    "duration": 10,
    "start_time": "2022-03-07T13:08:21.955Z"
   },
   {
    "duration": 8,
    "start_time": "2022-03-07T13:08:21.988Z"
   },
   {
    "duration": 41,
    "start_time": "2022-03-07T13:08:21.998Z"
   },
   {
    "duration": 45,
    "start_time": "2022-03-07T13:08:22.041Z"
   },
   {
    "duration": 17,
    "start_time": "2022-03-07T13:08:22.089Z"
   },
   {
    "duration": 50,
    "start_time": "2022-03-07T13:08:22.108Z"
   },
   {
    "duration": 70,
    "start_time": "2022-03-07T13:08:22.161Z"
   },
   {
    "duration": 73,
    "start_time": "2022-03-07T13:08:22.234Z"
   },
   {
    "duration": 54,
    "start_time": "2022-03-07T13:08:22.309Z"
   },
   {
    "duration": 64,
    "start_time": "2022-03-07T13:08:22.365Z"
   },
   {
    "duration": 796,
    "start_time": "2022-03-07T13:08:30.776Z"
   },
   {
    "duration": 46,
    "start_time": "2022-03-07T13:08:31.575Z"
   },
   {
    "duration": 11,
    "start_time": "2022-03-07T13:08:31.624Z"
   },
   {
    "duration": 8,
    "start_time": "2022-03-07T13:08:31.637Z"
   },
   {
    "duration": 69,
    "start_time": "2022-03-07T13:08:31.647Z"
   },
   {
    "duration": 21,
    "start_time": "2022-03-07T13:08:31.719Z"
   },
   {
    "duration": 44,
    "start_time": "2022-03-07T13:08:31.743Z"
   },
   {
    "duration": 57,
    "start_time": "2022-03-07T13:08:31.790Z"
   },
   {
    "duration": 68,
    "start_time": "2022-03-07T13:08:31.850Z"
   },
   {
    "duration": 40,
    "start_time": "2022-03-07T13:08:31.921Z"
   },
   {
    "duration": 62,
    "start_time": "2022-03-07T13:08:31.964Z"
   },
   {
    "duration": 67,
    "start_time": "2022-03-07T13:08:32.029Z"
   },
   {
    "duration": 796,
    "start_time": "2022-03-07T13:09:07.174Z"
   },
   {
    "duration": 44,
    "start_time": "2022-03-07T13:09:07.973Z"
   },
   {
    "duration": 11,
    "start_time": "2022-03-07T13:09:08.020Z"
   },
   {
    "duration": 8,
    "start_time": "2022-03-07T13:09:08.034Z"
   },
   {
    "duration": 69,
    "start_time": "2022-03-07T13:09:08.045Z"
   },
   {
    "duration": 19,
    "start_time": "2022-03-07T13:09:08.116Z"
   },
   {
    "duration": 17,
    "start_time": "2022-03-07T13:09:08.137Z"
   },
   {
    "duration": 84,
    "start_time": "2022-03-07T13:09:08.157Z"
   },
   {
    "duration": 58,
    "start_time": "2022-03-07T13:09:08.244Z"
   },
   {
    "duration": 42,
    "start_time": "2022-03-07T13:09:08.304Z"
   },
   {
    "duration": 71,
    "start_time": "2022-03-07T13:09:08.348Z"
   },
   {
    "duration": 68,
    "start_time": "2022-03-07T13:09:08.421Z"
   },
   {
    "duration": 207,
    "start_time": "2022-03-08T09:29:40.696Z"
   },
   {
    "duration": -875,
    "start_time": "2022-03-08T09:29:41.781Z"
   },
   {
    "duration": -876,
    "start_time": "2022-03-08T09:29:41.783Z"
   },
   {
    "duration": -881,
    "start_time": "2022-03-08T09:29:41.790Z"
   },
   {
    "duration": -912,
    "start_time": "2022-03-08T09:29:41.822Z"
   },
   {
    "duration": -916,
    "start_time": "2022-03-08T09:29:41.827Z"
   },
   {
    "duration": -919,
    "start_time": "2022-03-08T09:29:41.832Z"
   },
   {
    "duration": -924,
    "start_time": "2022-03-08T09:29:41.838Z"
   },
   {
    "duration": -927,
    "start_time": "2022-03-08T09:29:41.843Z"
   },
   {
    "duration": -934,
    "start_time": "2022-03-08T09:29:41.851Z"
   },
   {
    "duration": 457,
    "start_time": "2022-03-08T09:29:40.919Z"
   },
   {
    "duration": -888,
    "start_time": "2022-03-08T09:29:42.266Z"
   },
   {
    "duration": -899,
    "start_time": "2022-03-08T09:29:42.279Z"
   },
   {
    "duration": 894,
    "start_time": "2022-03-08T09:30:20.660Z"
   },
   {
    "duration": 57,
    "start_time": "2022-03-08T09:30:27.357Z"
   },
   {
    "duration": 381,
    "start_time": "2022-03-08T09:30:34.000Z"
   },
   {
    "duration": 286,
    "start_time": "2022-03-08T09:30:46.460Z"
   },
   {
    "duration": 17,
    "start_time": "2022-03-08T09:31:21.871Z"
   },
   {
    "duration": 9,
    "start_time": "2022-03-08T09:31:32.522Z"
   },
   {
    "duration": 50,
    "start_time": "2022-03-08T09:31:38.455Z"
   },
   {
    "duration": 27,
    "start_time": "2022-03-08T09:31:42.648Z"
   },
   {
    "duration": 17,
    "start_time": "2022-03-08T09:31:49.407Z"
   },
   {
    "duration": 90,
    "start_time": "2022-03-08T09:31:53.439Z"
   },
   {
    "duration": 70,
    "start_time": "2022-03-08T09:31:58.896Z"
   },
   {
    "duration": 44,
    "start_time": "2022-03-08T09:32:04.212Z"
   },
   {
    "duration": 53,
    "start_time": "2022-03-08T09:32:13.024Z"
   },
   {
    "duration": 52,
    "start_time": "2022-03-08T09:32:18.906Z"
   },
   {
    "duration": 71,
    "start_time": "2022-03-08T10:49:15.297Z"
   },
   {
    "duration": 39,
    "start_time": "2022-03-08T10:49:15.370Z"
   },
   {
    "duration": 11,
    "start_time": "2022-03-08T10:49:15.412Z"
   },
   {
    "duration": 8,
    "start_time": "2022-03-08T10:49:15.425Z"
   },
   {
    "duration": 70,
    "start_time": "2022-03-08T10:49:15.435Z"
   },
   {
    "duration": 30,
    "start_time": "2022-03-08T10:49:15.508Z"
   },
   {
    "duration": 45,
    "start_time": "2022-03-08T10:49:15.542Z"
   },
   {
    "duration": 52,
    "start_time": "2022-03-08T10:49:15.592Z"
   },
   {
    "duration": 74,
    "start_time": "2022-03-08T10:49:15.647Z"
   },
   {
    "duration": 58,
    "start_time": "2022-03-08T10:49:15.724Z"
   },
   {
    "duration": 46,
    "start_time": "2022-03-08T10:49:15.785Z"
   },
   {
    "duration": 71,
    "start_time": "2022-03-08T10:49:15.834Z"
   },
   {
    "duration": 833,
    "start_time": "2022-03-09T02:38:47.453Z"
   },
   {
    "duration": 50,
    "start_time": "2022-03-09T02:38:48.289Z"
   },
   {
    "duration": 12,
    "start_time": "2022-03-09T02:38:48.342Z"
   },
   {
    "duration": 36,
    "start_time": "2022-03-09T02:38:48.356Z"
   },
   {
    "duration": 46,
    "start_time": "2022-03-09T02:38:48.394Z"
   },
   {
    "duration": 51,
    "start_time": "2022-03-09T02:38:48.442Z"
   },
   {
    "duration": 17,
    "start_time": "2022-03-09T02:38:48.496Z"
   },
   {
    "duration": 78,
    "start_time": "2022-03-09T02:38:48.516Z"
   },
   {
    "duration": 54,
    "start_time": "2022-03-09T02:38:48.596Z"
   },
   {
    "duration": 66,
    "start_time": "2022-03-09T02:38:48.652Z"
   },
   {
    "duration": 42,
    "start_time": "2022-03-09T02:38:48.720Z"
   },
   {
    "duration": 69,
    "start_time": "2022-03-09T02:38:48.764Z"
   },
   {
    "duration": 321,
    "start_time": "2022-03-09T02:48:29.087Z"
   },
   {
    "duration": 226,
    "start_time": "2022-03-09T02:48:45.054Z"
   },
   {
    "duration": 761,
    "start_time": "2022-03-09T02:48:51.107Z"
   },
   {
    "duration": 45,
    "start_time": "2022-03-09T02:48:51.871Z"
   },
   {
    "duration": 11,
    "start_time": "2022-03-09T02:48:51.919Z"
   },
   {
    "duration": 7,
    "start_time": "2022-03-09T02:48:51.932Z"
   },
   {
    "duration": 70,
    "start_time": "2022-03-09T02:48:51.942Z"
   },
   {
    "duration": 33,
    "start_time": "2022-03-09T02:48:52.014Z"
   },
   {
    "duration": 43,
    "start_time": "2022-03-09T02:48:52.051Z"
   },
   {
    "duration": 54,
    "start_time": "2022-03-09T02:48:52.096Z"
   },
   {
    "duration": 74,
    "start_time": "2022-03-09T02:48:52.155Z"
   },
   {
    "duration": 56,
    "start_time": "2022-03-09T02:48:52.232Z"
   },
   {
    "duration": 44,
    "start_time": "2022-03-09T02:48:52.290Z"
   },
   {
    "duration": 73,
    "start_time": "2022-03-09T02:48:52.336Z"
   },
   {
    "duration": 321,
    "start_time": "2022-03-09T02:49:25.259Z"
   },
   {
    "duration": 788,
    "start_time": "2022-03-09T02:49:35.798Z"
   },
   {
    "duration": 45,
    "start_time": "2022-03-09T02:49:36.589Z"
   },
   {
    "duration": 10,
    "start_time": "2022-03-09T02:49:36.637Z"
   },
   {
    "duration": 38,
    "start_time": "2022-03-09T02:49:36.651Z"
   },
   {
    "duration": 41,
    "start_time": "2022-03-09T02:49:36.691Z"
   },
   {
    "duration": 27,
    "start_time": "2022-03-09T02:49:36.735Z"
   },
   {
    "duration": 37,
    "start_time": "2022-03-09T02:49:36.764Z"
   },
   {
    "duration": 52,
    "start_time": "2022-03-09T02:49:36.804Z"
   },
   {
    "duration": 70,
    "start_time": "2022-03-09T02:49:36.859Z"
   },
   {
    "duration": 65,
    "start_time": "2022-03-09T02:49:36.931Z"
   },
   {
    "duration": 42,
    "start_time": "2022-03-09T02:49:36.998Z"
   },
   {
    "duration": 71,
    "start_time": "2022-03-09T02:49:37.043Z"
   },
   {
    "duration": 819,
    "start_time": "2022-03-09T02:52:45.273Z"
   },
   {
    "duration": 45,
    "start_time": "2022-03-09T02:52:46.095Z"
   },
   {
    "duration": 13,
    "start_time": "2022-03-09T02:52:46.143Z"
   },
   {
    "duration": 36,
    "start_time": "2022-03-09T02:52:46.159Z"
   },
   {
    "duration": 44,
    "start_time": "2022-03-09T02:52:46.197Z"
   },
   {
    "duration": 64,
    "start_time": "2022-03-09T02:52:46.244Z"
   },
   {
    "duration": 17,
    "start_time": "2022-03-09T02:52:46.311Z"
   },
   {
    "duration": 79,
    "start_time": "2022-03-09T02:52:46.330Z"
   },
   {
    "duration": 47,
    "start_time": "2022-03-09T02:52:46.412Z"
   },
   {
    "duration": 62,
    "start_time": "2022-03-09T02:52:46.461Z"
   },
   {
    "duration": 64,
    "start_time": "2022-03-09T02:52:46.525Z"
   },
   {
    "duration": 49,
    "start_time": "2022-03-09T02:52:46.591Z"
   },
   {
    "duration": 618,
    "start_time": "2022-03-09T04:51:15.079Z"
   },
   {
    "duration": 34,
    "start_time": "2022-03-09T04:51:15.699Z"
   },
   {
    "duration": 9,
    "start_time": "2022-03-09T04:51:15.735Z"
   },
   {
    "duration": 16,
    "start_time": "2022-03-09T04:51:15.746Z"
   },
   {
    "duration": 29,
    "start_time": "2022-03-09T04:51:15.764Z"
   },
   {
    "duration": 29,
    "start_time": "2022-03-09T04:51:15.794Z"
   },
   {
    "duration": 35,
    "start_time": "2022-03-09T04:51:15.825Z"
   },
   {
    "duration": 36,
    "start_time": "2022-03-09T04:51:15.861Z"
   },
   {
    "duration": 31,
    "start_time": "2022-03-09T04:51:15.900Z"
   },
   {
    "duration": 53,
    "start_time": "2022-03-09T04:51:15.933Z"
   },
   {
    "duration": 30,
    "start_time": "2022-03-09T04:51:15.987Z"
   },
   {
    "duration": 58,
    "start_time": "2022-03-09T04:51:16.019Z"
   },
   {
    "duration": 52,
    "start_time": "2022-03-09T05:00:27.718Z"
   },
   {
    "duration": 25,
    "start_time": "2022-03-09T05:00:27.771Z"
   },
   {
    "duration": 7,
    "start_time": "2022-03-09T05:00:27.798Z"
   },
   {
    "duration": 5,
    "start_time": "2022-03-09T05:00:27.807Z"
   },
   {
    "duration": 53,
    "start_time": "2022-03-09T05:00:27.814Z"
   },
   {
    "duration": 21,
    "start_time": "2022-03-09T05:00:27.869Z"
   },
   {
    "duration": 10,
    "start_time": "2022-03-09T05:00:27.892Z"
   },
   {
    "duration": 57,
    "start_time": "2022-03-09T05:00:27.903Z"
   },
   {
    "duration": 32,
    "start_time": "2022-03-09T05:00:27.962Z"
   },
   {
    "duration": 26,
    "start_time": "2022-03-09T05:00:27.996Z"
   },
   {
    "duration": 54,
    "start_time": "2022-03-09T05:00:28.023Z"
   },
   {
    "duration": 32,
    "start_time": "2022-03-09T05:00:28.078Z"
   },
   {
    "duration": 54,
    "start_time": "2022-03-09T05:00:41.064Z"
   },
   {
    "duration": 40,
    "start_time": "2022-03-09T05:00:41.120Z"
   },
   {
    "duration": 9,
    "start_time": "2022-03-09T05:00:41.163Z"
   },
   {
    "duration": 5,
    "start_time": "2022-03-09T05:00:41.174Z"
   },
   {
    "duration": 28,
    "start_time": "2022-03-09T05:00:41.181Z"
   },
   {
    "duration": 49,
    "start_time": "2022-03-09T05:00:41.211Z"
   },
   {
    "duration": 11,
    "start_time": "2022-03-09T05:00:41.261Z"
   },
   {
    "duration": 32,
    "start_time": "2022-03-09T05:00:41.274Z"
   },
   {
    "duration": 56,
    "start_time": "2022-03-09T05:00:41.307Z"
   },
   {
    "duration": 30,
    "start_time": "2022-03-09T05:00:41.365Z"
   },
   {
    "duration": 29,
    "start_time": "2022-03-09T05:00:41.397Z"
   },
   {
    "duration": 60,
    "start_time": "2022-03-09T05:00:41.427Z"
   },
   {
    "duration": 808,
    "start_time": "2022-03-09T22:28:22.143Z"
   },
   {
    "duration": 47,
    "start_time": "2022-03-09T22:28:22.954Z"
   },
   {
    "duration": 13,
    "start_time": "2022-03-09T22:28:23.005Z"
   },
   {
    "duration": 36,
    "start_time": "2022-03-09T22:28:23.021Z"
   },
   {
    "duration": 42,
    "start_time": "2022-03-09T22:28:23.060Z"
   },
   {
    "duration": 70,
    "start_time": "2022-03-09T22:28:23.104Z"
   },
   {
    "duration": 16,
    "start_time": "2022-03-09T22:28:23.176Z"
   },
   {
    "duration": 75,
    "start_time": "2022-03-09T22:28:23.195Z"
   },
   {
    "duration": 45,
    "start_time": "2022-03-09T22:28:23.273Z"
   },
   {
    "duration": 65,
    "start_time": "2022-03-09T22:28:23.320Z"
   },
   {
    "duration": 42,
    "start_time": "2022-03-09T22:28:23.387Z"
   },
   {
    "duration": 48,
    "start_time": "2022-03-09T22:28:23.452Z"
   },
   {
    "duration": 503,
    "start_time": "2023-03-26T11:07:26.677Z"
   },
   {
    "duration": 26,
    "start_time": "2023-03-26T11:07:27.182Z"
   },
   {
    "duration": 9,
    "start_time": "2023-03-26T11:07:27.209Z"
   },
   {
    "duration": 5,
    "start_time": "2023-03-26T11:07:27.219Z"
   },
   {
    "duration": 36,
    "start_time": "2023-03-26T11:07:27.227Z"
   },
   {
    "duration": 24,
    "start_time": "2023-03-26T11:07:27.265Z"
   },
   {
    "duration": 11,
    "start_time": "2023-03-26T11:07:27.290Z"
   },
   {
    "duration": 52,
    "start_time": "2023-03-26T11:07:27.302Z"
   },
   {
    "duration": 27,
    "start_time": "2023-03-26T11:07:27.356Z"
   },
   {
    "duration": 26,
    "start_time": "2023-03-26T11:07:27.385Z"
   },
   {
    "duration": 51,
    "start_time": "2023-03-26T11:07:27.413Z"
   },
   {
    "duration": 31,
    "start_time": "2023-03-26T11:07:27.466Z"
   }
  ],
  "kernelspec": {
   "display_name": "Python 3 (ipykernel)",
   "language": "python",
   "name": "python3"
  },
  "language_info": {
   "codemirror_mode": {
    "name": "ipython",
    "version": 3
   },
   "file_extension": ".py",
   "mimetype": "text/x-python",
   "name": "python",
   "nbconvert_exporter": "python",
   "pygments_lexer": "ipython3",
   "version": "3.9.7"
  },
  "toc": {
   "base_numbering": 1,
   "nav_menu": {},
   "number_sections": true,
   "sideBar": true,
   "skip_h1_title": true,
   "title_cell": "Table of Contents",
   "title_sidebar": "Contents",
   "toc_cell": false,
   "toc_position": {
    "height": "397.92px",
    "left": "217px",
    "top": "150.14px",
    "width": "228.22px"
   },
   "toc_section_display": true,
   "toc_window_display": false
  }
 },
 "nbformat": 4,
 "nbformat_minor": 5
}
