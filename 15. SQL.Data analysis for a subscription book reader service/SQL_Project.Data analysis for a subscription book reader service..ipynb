{
 "cells": [
  {
   "cell_type": "markdown",
   "metadata": {},
   "source": [
    "# Анализ данных для сервиса чтения книг по подписке."
   ]
  },
  {
   "cell_type": "markdown",
   "metadata": {},
   "source": [
    "## Описание проекта."
   ]
  },
  {
   "cell_type": "markdown",
   "metadata": {},
   "source": [
    "Цель проекта: анализ информации для создания ценностного предложения для нового продукта\n",
    "Задачи:\n",
    "Выяснение количества изданных книг с 2000 года;\n",
    "Выяснение популярности изданных книг среди читателей (количество обзоров и средняя оценка);\n",
    "Выяснение наиболее активного издательства, занимающегося публикацией объёмных книг (в нашем случае - 50 страниц и больше);\n",
    "Определить самого популярного на данный момент автора (самый высокий средний рейтинг книг автора среди наиболее активных читателей, тех, кто оставил более 50 оценок);\n",
    "Определить среднее количество отзывов от наиболее активных читателей, так как они влияют на выбор других читателей.\n",
    "\n",
    "Источники информации:\n",
    "База данных (пять таблиц), содержащая информацию о книгах, издательствах, авторах, а также пользовательские обзоры книг и оценки читателей.\n",
    "\n",
    "Структура проекта:\n",
    "1. [Изучение данных.](#start)\n",
    "2. [Исследовательский анализ.](#analysis)\n",
    "3. [Вывод и рекомендации.](#outcome)"
   ]
  },
  {
   "cell_type": "code",
   "execution_count": 1,
   "metadata": {},
   "outputs": [],
   "source": [
    "#Импортируем библиотеку и модуль для работы с данными в БД SQL data-analyst-final-project-db\n",
    "import pandas as pd\n",
    "from sqlalchemy import create_engine"
   ]
  },
  {
   "cell_type": "code",
   "execution_count": 2,
   "metadata": {},
   "outputs": [],
   "source": [
    "#Устанавливаем параметры.\n",
    "db_config = {'user': 'praktikum_student',\n",
    "            'pwd': 'Sdf4$2;d-d30pp',\n",
    "            'host': 'rc1b-wcoijxj3yxfsf3fs.mdb.yandexcloud.net',\n",
    "            'port': 6432,\n",
    "            'db': 'data-analyst-final-project-db'}\n",
    "\n",
    "connection_string = 'postgresql://{}:{}@{}:{}/{}'.format(db_config['user'],\n",
    "                                                       db_config['pwd'],\n",
    "                                                       db_config['host'],\n",
    "                                                       db_config['port'],\n",
    "                                                       db_config['db'])\n"
   ]
  },
  {
   "cell_type": "code",
   "execution_count": 3,
   "metadata": {},
   "outputs": [],
   "source": [
    "#Сохраняем коннектор.\n",
    "engine = create_engine(connection_string, connect_args = {'sslmode': 'require'})"
   ]
  },
  {
   "cell_type": "markdown",
   "metadata": {},
   "source": [
    "## Изучение данных.\n",
    "<a id=\"start\"></a>"
   ]
  },
  {
   "cell_type": "code",
   "execution_count": 4,
   "metadata": {},
   "outputs": [],
   "source": [
    "#Создаём функцию для более удобного вывода данных.\n",
    "def pd_read_sql(query):\n",
    "    return pd.io.sql.read_sql(query, con = engine)\n",
    "#pd.io.sql.read_sql(query, con = engine)"
   ]
  },
  {
   "cell_type": "code",
   "execution_count": 5,
   "metadata": {},
   "outputs": [],
   "source": [
    "#Исследуем данные в таблице books\n",
    "books = '''\n",
    "SELECT *\n",
    "FROM books\n",
    "LIMIT 10;\n",
    "''' "
   ]
  },
  {
   "cell_type": "code",
   "execution_count": 6,
   "metadata": {},
   "outputs": [
    {
     "data": {
      "text/html": [
       "<div>\n",
       "<style scoped>\n",
       "    .dataframe tbody tr th:only-of-type {\n",
       "        vertical-align: middle;\n",
       "    }\n",
       "\n",
       "    .dataframe tbody tr th {\n",
       "        vertical-align: top;\n",
       "    }\n",
       "\n",
       "    .dataframe thead th {\n",
       "        text-align: right;\n",
       "    }\n",
       "</style>\n",
       "<table border=\"1\" class=\"dataframe\">\n",
       "  <thead>\n",
       "    <tr style=\"text-align: right;\">\n",
       "      <th></th>\n",
       "      <th>book_id</th>\n",
       "      <th>author_id</th>\n",
       "      <th>title</th>\n",
       "      <th>num_pages</th>\n",
       "      <th>publication_date</th>\n",
       "      <th>publisher_id</th>\n",
       "    </tr>\n",
       "  </thead>\n",
       "  <tbody>\n",
       "    <tr>\n",
       "      <th>0</th>\n",
       "      <td>1</td>\n",
       "      <td>546</td>\n",
       "      <td>'Salem's Lot</td>\n",
       "      <td>594</td>\n",
       "      <td>2005-11-01</td>\n",
       "      <td>93</td>\n",
       "    </tr>\n",
       "    <tr>\n",
       "      <th>1</th>\n",
       "      <td>2</td>\n",
       "      <td>465</td>\n",
       "      <td>1 000 Places to See Before You Die</td>\n",
       "      <td>992</td>\n",
       "      <td>2003-05-22</td>\n",
       "      <td>336</td>\n",
       "    </tr>\n",
       "    <tr>\n",
       "      <th>2</th>\n",
       "      <td>3</td>\n",
       "      <td>407</td>\n",
       "      <td>13 Little Blue Envelopes (Little Blue Envelope...</td>\n",
       "      <td>322</td>\n",
       "      <td>2010-12-21</td>\n",
       "      <td>135</td>\n",
       "    </tr>\n",
       "    <tr>\n",
       "      <th>3</th>\n",
       "      <td>4</td>\n",
       "      <td>82</td>\n",
       "      <td>1491: New Revelations of the Americas Before C...</td>\n",
       "      <td>541</td>\n",
       "      <td>2006-10-10</td>\n",
       "      <td>309</td>\n",
       "    </tr>\n",
       "    <tr>\n",
       "      <th>4</th>\n",
       "      <td>5</td>\n",
       "      <td>125</td>\n",
       "      <td>1776</td>\n",
       "      <td>386</td>\n",
       "      <td>2006-07-04</td>\n",
       "      <td>268</td>\n",
       "    </tr>\n",
       "    <tr>\n",
       "      <th>5</th>\n",
       "      <td>6</td>\n",
       "      <td>257</td>\n",
       "      <td>1st to Die (Women's Murder Club  #1)</td>\n",
       "      <td>424</td>\n",
       "      <td>2005-05-20</td>\n",
       "      <td>116</td>\n",
       "    </tr>\n",
       "    <tr>\n",
       "      <th>6</th>\n",
       "      <td>7</td>\n",
       "      <td>258</td>\n",
       "      <td>2nd Chance (Women's Murder Club  #2)</td>\n",
       "      <td>400</td>\n",
       "      <td>2005-05-20</td>\n",
       "      <td>116</td>\n",
       "    </tr>\n",
       "    <tr>\n",
       "      <th>7</th>\n",
       "      <td>8</td>\n",
       "      <td>260</td>\n",
       "      <td>4th of July (Women's Murder Club  #4)</td>\n",
       "      <td>448</td>\n",
       "      <td>2006-06-01</td>\n",
       "      <td>318</td>\n",
       "    </tr>\n",
       "    <tr>\n",
       "      <th>8</th>\n",
       "      <td>9</td>\n",
       "      <td>563</td>\n",
       "      <td>A Beautiful Mind</td>\n",
       "      <td>461</td>\n",
       "      <td>2002-02-04</td>\n",
       "      <td>104</td>\n",
       "    </tr>\n",
       "    <tr>\n",
       "      <th>9</th>\n",
       "      <td>10</td>\n",
       "      <td>445</td>\n",
       "      <td>A Bend in the Road</td>\n",
       "      <td>341</td>\n",
       "      <td>2005-04-01</td>\n",
       "      <td>116</td>\n",
       "    </tr>\n",
       "  </tbody>\n",
       "</table>\n",
       "</div>"
      ],
      "text/plain": [
       "   book_id  author_id                                              title  \\\n",
       "0        1        546                                       'Salem's Lot   \n",
       "1        2        465                 1 000 Places to See Before You Die   \n",
       "2        3        407  13 Little Blue Envelopes (Little Blue Envelope...   \n",
       "3        4         82  1491: New Revelations of the Americas Before C...   \n",
       "4        5        125                                               1776   \n",
       "5        6        257               1st to Die (Women's Murder Club  #1)   \n",
       "6        7        258               2nd Chance (Women's Murder Club  #2)   \n",
       "7        8        260              4th of July (Women's Murder Club  #4)   \n",
       "8        9        563                                   A Beautiful Mind   \n",
       "9       10        445                                 A Bend in the Road   \n",
       "\n",
       "   num_pages publication_date  publisher_id  \n",
       "0        594       2005-11-01            93  \n",
       "1        992       2003-05-22           336  \n",
       "2        322       2010-12-21           135  \n",
       "3        541       2006-10-10           309  \n",
       "4        386       2006-07-04           268  \n",
       "5        424       2005-05-20           116  \n",
       "6        400       2005-05-20           116  \n",
       "7        448       2006-06-01           318  \n",
       "8        461       2002-02-04           104  \n",
       "9        341       2005-04-01           116  "
      ]
     },
     "execution_count": 6,
     "metadata": {},
     "output_type": "execute_result"
    }
   ],
   "source": [
    "pd_read_sql(books)"
   ]
  },
  {
   "cell_type": "code",
   "execution_count": 7,
   "metadata": {},
   "outputs": [],
   "source": [
    "#Исследуем данные в таблице authors\n",
    "authors = '''\n",
    "SELECT *\n",
    "FROM authors\n",
    "LIMIT 10;\n",
    "''' "
   ]
  },
  {
   "cell_type": "code",
   "execution_count": 8,
   "metadata": {},
   "outputs": [
    {
     "data": {
      "text/html": [
       "<div>\n",
       "<style scoped>\n",
       "    .dataframe tbody tr th:only-of-type {\n",
       "        vertical-align: middle;\n",
       "    }\n",
       "\n",
       "    .dataframe tbody tr th {\n",
       "        vertical-align: top;\n",
       "    }\n",
       "\n",
       "    .dataframe thead th {\n",
       "        text-align: right;\n",
       "    }\n",
       "</style>\n",
       "<table border=\"1\" class=\"dataframe\">\n",
       "  <thead>\n",
       "    <tr style=\"text-align: right;\">\n",
       "      <th></th>\n",
       "      <th>author_id</th>\n",
       "      <th>author</th>\n",
       "    </tr>\n",
       "  </thead>\n",
       "  <tbody>\n",
       "    <tr>\n",
       "      <th>0</th>\n",
       "      <td>1</td>\n",
       "      <td>A.S. Byatt</td>\n",
       "    </tr>\n",
       "    <tr>\n",
       "      <th>1</th>\n",
       "      <td>2</td>\n",
       "      <td>Aesop/Laura Harris/Laura Gibbs</td>\n",
       "    </tr>\n",
       "    <tr>\n",
       "      <th>2</th>\n",
       "      <td>3</td>\n",
       "      <td>Agatha Christie</td>\n",
       "    </tr>\n",
       "    <tr>\n",
       "      <th>3</th>\n",
       "      <td>4</td>\n",
       "      <td>Alan Brennert</td>\n",
       "    </tr>\n",
       "    <tr>\n",
       "      <th>4</th>\n",
       "      <td>5</td>\n",
       "      <td>Alan Moore/David   Lloyd</td>\n",
       "    </tr>\n",
       "    <tr>\n",
       "      <th>5</th>\n",
       "      <td>6</td>\n",
       "      <td>Alan Paton</td>\n",
       "    </tr>\n",
       "    <tr>\n",
       "      <th>6</th>\n",
       "      <td>7</td>\n",
       "      <td>Albert Camus/Justin O'Brien</td>\n",
       "    </tr>\n",
       "    <tr>\n",
       "      <th>7</th>\n",
       "      <td>8</td>\n",
       "      <td>Aldous Huxley</td>\n",
       "    </tr>\n",
       "    <tr>\n",
       "      <th>8</th>\n",
       "      <td>9</td>\n",
       "      <td>Aldous Huxley/Christopher Hitchens</td>\n",
       "    </tr>\n",
       "    <tr>\n",
       "      <th>9</th>\n",
       "      <td>10</td>\n",
       "      <td>Aleksandr Solzhenitsyn/H.T. Willetts</td>\n",
       "    </tr>\n",
       "  </tbody>\n",
       "</table>\n",
       "</div>"
      ],
      "text/plain": [
       "   author_id                                author\n",
       "0          1                            A.S. Byatt\n",
       "1          2        Aesop/Laura Harris/Laura Gibbs\n",
       "2          3                       Agatha Christie\n",
       "3          4                         Alan Brennert\n",
       "4          5              Alan Moore/David   Lloyd\n",
       "5          6                            Alan Paton\n",
       "6          7           Albert Camus/Justin O'Brien\n",
       "7          8                         Aldous Huxley\n",
       "8          9    Aldous Huxley/Christopher Hitchens\n",
       "9         10  Aleksandr Solzhenitsyn/H.T. Willetts"
      ]
     },
     "execution_count": 8,
     "metadata": {},
     "output_type": "execute_result"
    }
   ],
   "source": [
    "pd_read_sql(authors)"
   ]
  },
  {
   "cell_type": "code",
   "execution_count": 9,
   "metadata": {},
   "outputs": [],
   "source": [
    "#Исследуем данные в таблице ratings\n",
    "ratings = '''\n",
    "SELECT *\n",
    "FROM ratings\n",
    "LIMIT 10;\n",
    "''' "
   ]
  },
  {
   "cell_type": "code",
   "execution_count": 10,
   "metadata": {},
   "outputs": [
    {
     "data": {
      "text/html": [
       "<div>\n",
       "<style scoped>\n",
       "    .dataframe tbody tr th:only-of-type {\n",
       "        vertical-align: middle;\n",
       "    }\n",
       "\n",
       "    .dataframe tbody tr th {\n",
       "        vertical-align: top;\n",
       "    }\n",
       "\n",
       "    .dataframe thead th {\n",
       "        text-align: right;\n",
       "    }\n",
       "</style>\n",
       "<table border=\"1\" class=\"dataframe\">\n",
       "  <thead>\n",
       "    <tr style=\"text-align: right;\">\n",
       "      <th></th>\n",
       "      <th>rating_id</th>\n",
       "      <th>book_id</th>\n",
       "      <th>username</th>\n",
       "      <th>rating</th>\n",
       "    </tr>\n",
       "  </thead>\n",
       "  <tbody>\n",
       "    <tr>\n",
       "      <th>0</th>\n",
       "      <td>1</td>\n",
       "      <td>1</td>\n",
       "      <td>ryanfranco</td>\n",
       "      <td>4</td>\n",
       "    </tr>\n",
       "    <tr>\n",
       "      <th>1</th>\n",
       "      <td>2</td>\n",
       "      <td>1</td>\n",
       "      <td>grantpatricia</td>\n",
       "      <td>2</td>\n",
       "    </tr>\n",
       "    <tr>\n",
       "      <th>2</th>\n",
       "      <td>3</td>\n",
       "      <td>1</td>\n",
       "      <td>brandtandrea</td>\n",
       "      <td>5</td>\n",
       "    </tr>\n",
       "    <tr>\n",
       "      <th>3</th>\n",
       "      <td>4</td>\n",
       "      <td>2</td>\n",
       "      <td>lorichen</td>\n",
       "      <td>3</td>\n",
       "    </tr>\n",
       "    <tr>\n",
       "      <th>4</th>\n",
       "      <td>5</td>\n",
       "      <td>2</td>\n",
       "      <td>mariokeller</td>\n",
       "      <td>2</td>\n",
       "    </tr>\n",
       "    <tr>\n",
       "      <th>5</th>\n",
       "      <td>6</td>\n",
       "      <td>3</td>\n",
       "      <td>johnsonamanda</td>\n",
       "      <td>4</td>\n",
       "    </tr>\n",
       "    <tr>\n",
       "      <th>6</th>\n",
       "      <td>7</td>\n",
       "      <td>3</td>\n",
       "      <td>scotttamara</td>\n",
       "      <td>5</td>\n",
       "    </tr>\n",
       "    <tr>\n",
       "      <th>7</th>\n",
       "      <td>8</td>\n",
       "      <td>3</td>\n",
       "      <td>lesliegibbs</td>\n",
       "      <td>5</td>\n",
       "    </tr>\n",
       "    <tr>\n",
       "      <th>8</th>\n",
       "      <td>9</td>\n",
       "      <td>4</td>\n",
       "      <td>abbottjames</td>\n",
       "      <td>5</td>\n",
       "    </tr>\n",
       "    <tr>\n",
       "      <th>9</th>\n",
       "      <td>10</td>\n",
       "      <td>4</td>\n",
       "      <td>valenciaanne</td>\n",
       "      <td>4</td>\n",
       "    </tr>\n",
       "  </tbody>\n",
       "</table>\n",
       "</div>"
      ],
      "text/plain": [
       "   rating_id  book_id       username  rating\n",
       "0          1        1     ryanfranco       4\n",
       "1          2        1  grantpatricia       2\n",
       "2          3        1   brandtandrea       5\n",
       "3          4        2       lorichen       3\n",
       "4          5        2    mariokeller       2\n",
       "5          6        3  johnsonamanda       4\n",
       "6          7        3    scotttamara       5\n",
       "7          8        3    lesliegibbs       5\n",
       "8          9        4    abbottjames       5\n",
       "9         10        4   valenciaanne       4"
      ]
     },
     "execution_count": 10,
     "metadata": {},
     "output_type": "execute_result"
    }
   ],
   "source": [
    "pd_read_sql(ratings)"
   ]
  },
  {
   "cell_type": "code",
   "execution_count": 11,
   "metadata": {},
   "outputs": [],
   "source": [
    "#Исследуем данные в таблице reviews\n",
    "reviews = '''\n",
    "SELECT *\n",
    "FROM reviews\n",
    "LIMIT 10;\n",
    "''' "
   ]
  },
  {
   "cell_type": "code",
   "execution_count": 12,
   "metadata": {},
   "outputs": [
    {
     "data": {
      "text/html": [
       "<div>\n",
       "<style scoped>\n",
       "    .dataframe tbody tr th:only-of-type {\n",
       "        vertical-align: middle;\n",
       "    }\n",
       "\n",
       "    .dataframe tbody tr th {\n",
       "        vertical-align: top;\n",
       "    }\n",
       "\n",
       "    .dataframe thead th {\n",
       "        text-align: right;\n",
       "    }\n",
       "</style>\n",
       "<table border=\"1\" class=\"dataframe\">\n",
       "  <thead>\n",
       "    <tr style=\"text-align: right;\">\n",
       "      <th></th>\n",
       "      <th>review_id</th>\n",
       "      <th>book_id</th>\n",
       "      <th>username</th>\n",
       "      <th>text</th>\n",
       "    </tr>\n",
       "  </thead>\n",
       "  <tbody>\n",
       "    <tr>\n",
       "      <th>0</th>\n",
       "      <td>1</td>\n",
       "      <td>1</td>\n",
       "      <td>brandtandrea</td>\n",
       "      <td>Mention society tell send professor analysis. ...</td>\n",
       "    </tr>\n",
       "    <tr>\n",
       "      <th>1</th>\n",
       "      <td>2</td>\n",
       "      <td>1</td>\n",
       "      <td>ryanfranco</td>\n",
       "      <td>Foot glass pretty audience hit themselves. Amo...</td>\n",
       "    </tr>\n",
       "    <tr>\n",
       "      <th>2</th>\n",
       "      <td>3</td>\n",
       "      <td>2</td>\n",
       "      <td>lorichen</td>\n",
       "      <td>Listen treat keep worry. Miss husband tax but ...</td>\n",
       "    </tr>\n",
       "    <tr>\n",
       "      <th>3</th>\n",
       "      <td>4</td>\n",
       "      <td>3</td>\n",
       "      <td>johnsonamanda</td>\n",
       "      <td>Finally month interesting blue could nature cu...</td>\n",
       "    </tr>\n",
       "    <tr>\n",
       "      <th>4</th>\n",
       "      <td>5</td>\n",
       "      <td>3</td>\n",
       "      <td>scotttamara</td>\n",
       "      <td>Nation purpose heavy give wait song will. List...</td>\n",
       "    </tr>\n",
       "    <tr>\n",
       "      <th>5</th>\n",
       "      <td>6</td>\n",
       "      <td>3</td>\n",
       "      <td>lesliegibbs</td>\n",
       "      <td>Analysis no several cause international.</td>\n",
       "    </tr>\n",
       "    <tr>\n",
       "      <th>6</th>\n",
       "      <td>7</td>\n",
       "      <td>4</td>\n",
       "      <td>valenciaanne</td>\n",
       "      <td>One there cost another. Say type save. With pe...</td>\n",
       "    </tr>\n",
       "    <tr>\n",
       "      <th>7</th>\n",
       "      <td>8</td>\n",
       "      <td>4</td>\n",
       "      <td>abbottjames</td>\n",
       "      <td>Within enough mother. There at system full rec...</td>\n",
       "    </tr>\n",
       "    <tr>\n",
       "      <th>8</th>\n",
       "      <td>9</td>\n",
       "      <td>5</td>\n",
       "      <td>npowers</td>\n",
       "      <td>Thank now focus realize economy focus fly. Ite...</td>\n",
       "    </tr>\n",
       "    <tr>\n",
       "      <th>9</th>\n",
       "      <td>10</td>\n",
       "      <td>5</td>\n",
       "      <td>staylor</td>\n",
       "      <td>Game push lot reduce where remember. Including...</td>\n",
       "    </tr>\n",
       "  </tbody>\n",
       "</table>\n",
       "</div>"
      ],
      "text/plain": [
       "   review_id  book_id       username  \\\n",
       "0          1        1   brandtandrea   \n",
       "1          2        1     ryanfranco   \n",
       "2          3        2       lorichen   \n",
       "3          4        3  johnsonamanda   \n",
       "4          5        3    scotttamara   \n",
       "5          6        3    lesliegibbs   \n",
       "6          7        4   valenciaanne   \n",
       "7          8        4    abbottjames   \n",
       "8          9        5        npowers   \n",
       "9         10        5        staylor   \n",
       "\n",
       "                                                text  \n",
       "0  Mention society tell send professor analysis. ...  \n",
       "1  Foot glass pretty audience hit themselves. Amo...  \n",
       "2  Listen treat keep worry. Miss husband tax but ...  \n",
       "3  Finally month interesting blue could nature cu...  \n",
       "4  Nation purpose heavy give wait song will. List...  \n",
       "5           Analysis no several cause international.  \n",
       "6  One there cost another. Say type save. With pe...  \n",
       "7  Within enough mother. There at system full rec...  \n",
       "8  Thank now focus realize economy focus fly. Ite...  \n",
       "9  Game push lot reduce where remember. Including...  "
      ]
     },
     "execution_count": 12,
     "metadata": {},
     "output_type": "execute_result"
    }
   ],
   "source": [
    "pd_read_sql(reviews)"
   ]
  },
  {
   "cell_type": "code",
   "execution_count": 13,
   "metadata": {},
   "outputs": [],
   "source": [
    "#Исследуем данные в таблице publishers\n",
    "publishers = '''\n",
    "SELECT *\n",
    "FROM publishers\n",
    "LIMIT 10;\n",
    "''' "
   ]
  },
  {
   "cell_type": "code",
   "execution_count": 14,
   "metadata": {
    "scrolled": true
   },
   "outputs": [
    {
     "data": {
      "text/html": [
       "<div>\n",
       "<style scoped>\n",
       "    .dataframe tbody tr th:only-of-type {\n",
       "        vertical-align: middle;\n",
       "    }\n",
       "\n",
       "    .dataframe tbody tr th {\n",
       "        vertical-align: top;\n",
       "    }\n",
       "\n",
       "    .dataframe thead th {\n",
       "        text-align: right;\n",
       "    }\n",
       "</style>\n",
       "<table border=\"1\" class=\"dataframe\">\n",
       "  <thead>\n",
       "    <tr style=\"text-align: right;\">\n",
       "      <th></th>\n",
       "      <th>publisher_id</th>\n",
       "      <th>publisher</th>\n",
       "    </tr>\n",
       "  </thead>\n",
       "  <tbody>\n",
       "    <tr>\n",
       "      <th>0</th>\n",
       "      <td>1</td>\n",
       "      <td>Ace</td>\n",
       "    </tr>\n",
       "    <tr>\n",
       "      <th>1</th>\n",
       "      <td>2</td>\n",
       "      <td>Ace Book</td>\n",
       "    </tr>\n",
       "    <tr>\n",
       "      <th>2</th>\n",
       "      <td>3</td>\n",
       "      <td>Ace Books</td>\n",
       "    </tr>\n",
       "    <tr>\n",
       "      <th>3</th>\n",
       "      <td>4</td>\n",
       "      <td>Ace Hardcover</td>\n",
       "    </tr>\n",
       "    <tr>\n",
       "      <th>4</th>\n",
       "      <td>5</td>\n",
       "      <td>Addison Wesley Publishing Company</td>\n",
       "    </tr>\n",
       "    <tr>\n",
       "      <th>5</th>\n",
       "      <td>6</td>\n",
       "      <td>Aladdin</td>\n",
       "    </tr>\n",
       "    <tr>\n",
       "      <th>6</th>\n",
       "      <td>7</td>\n",
       "      <td>Aladdin Paperbacks</td>\n",
       "    </tr>\n",
       "    <tr>\n",
       "      <th>7</th>\n",
       "      <td>8</td>\n",
       "      <td>Albin Michel</td>\n",
       "    </tr>\n",
       "    <tr>\n",
       "      <th>8</th>\n",
       "      <td>9</td>\n",
       "      <td>Alfred A. Knopf</td>\n",
       "    </tr>\n",
       "    <tr>\n",
       "      <th>9</th>\n",
       "      <td>10</td>\n",
       "      <td>Alfred A. Knopf Books for Young Readers</td>\n",
       "    </tr>\n",
       "  </tbody>\n",
       "</table>\n",
       "</div>"
      ],
      "text/plain": [
       "   publisher_id                                publisher\n",
       "0             1                                      Ace\n",
       "1             2                                 Ace Book\n",
       "2             3                                Ace Books\n",
       "3             4                            Ace Hardcover\n",
       "4             5        Addison Wesley Publishing Company\n",
       "5             6                                  Aladdin\n",
       "6             7                       Aladdin Paperbacks\n",
       "7             8                             Albin Michel\n",
       "8             9                          Alfred A. Knopf\n",
       "9            10  Alfred A. Knopf Books for Young Readers"
      ]
     },
     "execution_count": 14,
     "metadata": {},
     "output_type": "execute_result"
    }
   ],
   "source": [
    "pd_read_sql(publishers)"
   ]
  },
  {
   "cell_type": "markdown",
   "metadata": {},
   "source": [
    "## Исследовательский анализ.\n",
    "<a id=\"analysis\"></a>"
   ]
  },
  {
   "cell_type": "code",
   "execution_count": 15,
   "metadata": {},
   "outputs": [],
   "source": [
    "#Считаем количество id изданных книг после 1 января 2000.\n",
    "book_id_count = '''\n",
    "SELECT COUNT(DISTINCT book_id) as books_number\n",
    "FROM books\n",
    "WHERE publication_date > '2000-01-01';\n",
    "'''"
   ]
  },
  {
   "cell_type": "code",
   "execution_count": 16,
   "metadata": {},
   "outputs": [
    {
     "data": {
      "text/html": [
       "<div>\n",
       "<style scoped>\n",
       "    .dataframe tbody tr th:only-of-type {\n",
       "        vertical-align: middle;\n",
       "    }\n",
       "\n",
       "    .dataframe tbody tr th {\n",
       "        vertical-align: top;\n",
       "    }\n",
       "\n",
       "    .dataframe thead th {\n",
       "        text-align: right;\n",
       "    }\n",
       "</style>\n",
       "<table border=\"1\" class=\"dataframe\">\n",
       "  <thead>\n",
       "    <tr style=\"text-align: right;\">\n",
       "      <th></th>\n",
       "      <th>books_number</th>\n",
       "    </tr>\n",
       "  </thead>\n",
       "  <tbody>\n",
       "    <tr>\n",
       "      <th>0</th>\n",
       "      <td>819</td>\n",
       "    </tr>\n",
       "  </tbody>\n",
       "</table>\n",
       "</div>"
      ],
      "text/plain": [
       "   books_number\n",
       "0           819"
      ]
     },
     "execution_count": 16,
     "metadata": {},
     "output_type": "execute_result"
    }
   ],
   "source": [
    "pd_read_sql(book_id_count)"
   ]
  },
  {
   "cell_type": "code",
   "execution_count": 17,
   "metadata": {},
   "outputs": [],
   "source": [
    "#Считаем количество названий изданных книг после 1 января 2000.\n",
    "title_count = '''\n",
    "SELECT COUNT(DISTINCT title) as books_number--,\n",
    "            --title\n",
    "FROM books\n",
    "WHERE publication_date > '2000-01-01'\n",
    "--group by title\n",
    "--having count(title) > 1\n",
    ";\n",
    "'''"
   ]
  },
  {
   "cell_type": "code",
   "execution_count": 18,
   "metadata": {
    "scrolled": true
   },
   "outputs": [
    {
     "data": {
      "text/html": [
       "<div>\n",
       "<style scoped>\n",
       "    .dataframe tbody tr th:only-of-type {\n",
       "        vertical-align: middle;\n",
       "    }\n",
       "\n",
       "    .dataframe tbody tr th {\n",
       "        vertical-align: top;\n",
       "    }\n",
       "\n",
       "    .dataframe thead th {\n",
       "        text-align: right;\n",
       "    }\n",
       "</style>\n",
       "<table border=\"1\" class=\"dataframe\">\n",
       "  <thead>\n",
       "    <tr style=\"text-align: right;\">\n",
       "      <th></th>\n",
       "      <th>books_number</th>\n",
       "    </tr>\n",
       "  </thead>\n",
       "  <tbody>\n",
       "    <tr>\n",
       "      <th>0</th>\n",
       "      <td>818</td>\n",
       "    </tr>\n",
       "  </tbody>\n",
       "</table>\n",
       "</div>"
      ],
      "text/plain": [
       "   books_number\n",
       "0           818"
      ]
     },
     "execution_count": 18,
     "metadata": {},
     "output_type": "execute_result"
    }
   ],
   "source": [
    "pd_read_sql(title_count)"
   ]
  },
  {
   "cell_type": "markdown",
   "metadata": {},
   "source": [
    "После 1 января 2000 года издано 819 книг. Выпущено 818 наименований книг. Из них Memoirs of a Geisha - дважды."
   ]
  },
  {
   "cell_type": "code",
   "execution_count": 19,
   "metadata": {},
   "outputs": [],
   "source": [
    "#Считаем количество обзоров и среднюю оценку для книги.\n",
    "assets_counts ='''\n",
    "SELECT b.book_id,\n",
    "       b.title,\n",
    "       COUNT(DISTINCT re.review_id) as review_count,\n",
    "       AVG(r.rating) as avg_rating\n",
    "FROM books as b\n",
    "LEFT JOIN reviews as re ON b.book_id = re.book_id\n",
    "LEFT JOIN ratings as r ON b.book_id = r.book_id\n",
    "GROUP BY b.book_id\n",
    "ORDER BY avg_rating, review_count;\n",
    "'''"
   ]
  },
  {
   "cell_type": "code",
   "execution_count": 20,
   "metadata": {},
   "outputs": [
    {
     "data": {
      "text/html": [
       "<div>\n",
       "<style scoped>\n",
       "    .dataframe tbody tr th:only-of-type {\n",
       "        vertical-align: middle;\n",
       "    }\n",
       "\n",
       "    .dataframe tbody tr th {\n",
       "        vertical-align: top;\n",
       "    }\n",
       "\n",
       "    .dataframe thead th {\n",
       "        text-align: right;\n",
       "    }\n",
       "</style>\n",
       "<table border=\"1\" class=\"dataframe\">\n",
       "  <thead>\n",
       "    <tr style=\"text-align: right;\">\n",
       "      <th></th>\n",
       "      <th>book_id</th>\n",
       "      <th>title</th>\n",
       "      <th>review_count</th>\n",
       "      <th>avg_rating</th>\n",
       "    </tr>\n",
       "  </thead>\n",
       "  <tbody>\n",
       "    <tr>\n",
       "      <th>0</th>\n",
       "      <td>303</td>\n",
       "      <td>Harvesting the Heart</td>\n",
       "      <td>2</td>\n",
       "      <td>1.50</td>\n",
       "    </tr>\n",
       "    <tr>\n",
       "      <th>1</th>\n",
       "      <td>316</td>\n",
       "      <td>His Excellency: George Washington</td>\n",
       "      <td>2</td>\n",
       "      <td>2.00</td>\n",
       "    </tr>\n",
       "    <tr>\n",
       "      <th>2</th>\n",
       "      <td>371</td>\n",
       "      <td>Junky</td>\n",
       "      <td>2</td>\n",
       "      <td>2.00</td>\n",
       "    </tr>\n",
       "    <tr>\n",
       "      <th>3</th>\n",
       "      <td>202</td>\n",
       "      <td>Drowning Ruth</td>\n",
       "      <td>3</td>\n",
       "      <td>2.00</td>\n",
       "    </tr>\n",
       "    <tr>\n",
       "      <th>4</th>\n",
       "      <td>915</td>\n",
       "      <td>The World Is Flat: A Brief History of the Twen...</td>\n",
       "      <td>3</td>\n",
       "      <td>2.25</td>\n",
       "    </tr>\n",
       "    <tr>\n",
       "      <th>...</th>\n",
       "      <td>...</td>\n",
       "      <td>...</td>\n",
       "      <td>...</td>\n",
       "      <td>...</td>\n",
       "    </tr>\n",
       "    <tr>\n",
       "      <th>995</th>\n",
       "      <td>76</td>\n",
       "      <td>Angels Fall</td>\n",
       "      <td>2</td>\n",
       "      <td>5.00</td>\n",
       "    </tr>\n",
       "    <tr>\n",
       "      <th>996</th>\n",
       "      <td>913</td>\n",
       "      <td>The Woman in Black</td>\n",
       "      <td>2</td>\n",
       "      <td>5.00</td>\n",
       "    </tr>\n",
       "    <tr>\n",
       "      <th>997</th>\n",
       "      <td>444</td>\n",
       "      <td>Moneyball: The Art of Winning an Unfair Game</td>\n",
       "      <td>3</td>\n",
       "      <td>5.00</td>\n",
       "    </tr>\n",
       "    <tr>\n",
       "      <th>998</th>\n",
       "      <td>553</td>\n",
       "      <td>School's Out—Forever (Maximum Ride  #2)</td>\n",
       "      <td>3</td>\n",
       "      <td>5.00</td>\n",
       "    </tr>\n",
       "    <tr>\n",
       "      <th>999</th>\n",
       "      <td>17</td>\n",
       "      <td>A Dirty Job (Grim Reaper  #1)</td>\n",
       "      <td>4</td>\n",
       "      <td>5.00</td>\n",
       "    </tr>\n",
       "  </tbody>\n",
       "</table>\n",
       "<p>1000 rows × 4 columns</p>\n",
       "</div>"
      ],
      "text/plain": [
       "     book_id                                              title  review_count  \\\n",
       "0        303                               Harvesting the Heart             2   \n",
       "1        316                  His Excellency: George Washington             2   \n",
       "2        371                                              Junky             2   \n",
       "3        202                                      Drowning Ruth             3   \n",
       "4        915  The World Is Flat: A Brief History of the Twen...             3   \n",
       "..       ...                                                ...           ...   \n",
       "995       76                                        Angels Fall             2   \n",
       "996      913                                 The Woman in Black             2   \n",
       "997      444       Moneyball: The Art of Winning an Unfair Game             3   \n",
       "998      553            School's Out—Forever (Maximum Ride  #2)             3   \n",
       "999       17                      A Dirty Job (Grim Reaper  #1)             4   \n",
       "\n",
       "     avg_rating  \n",
       "0          1.50  \n",
       "1          2.00  \n",
       "2          2.00  \n",
       "3          2.00  \n",
       "4          2.25  \n",
       "..          ...  \n",
       "995        5.00  \n",
       "996        5.00  \n",
       "997        5.00  \n",
       "998        5.00  \n",
       "999        5.00  \n",
       "\n",
       "[1000 rows x 4 columns]"
      ]
     },
     "execution_count": 20,
     "metadata": {},
     "output_type": "execute_result"
    }
   ],
   "source": [
    "pd_read_sql(assets_counts)"
   ]
  },
  {
   "cell_type": "markdown",
   "metadata": {},
   "source": [
    "Книги имеют рейтинг от 1.5 до 5 баллов. Количество ревью на каждую книгу от 0 до 7-ми."
   ]
  },
  {
   "cell_type": "code",
   "execution_count": 21,
   "metadata": {},
   "outputs": [],
   "source": [
    "#Выясняем самое активное издательство. С учётом книг в 50 и более стр.\n",
    "best_publisher = '''\n",
    "SELECT p.publisher_id,\n",
    "       p.publisher\n",
    "       \n",
    "FROM publishers as p\n",
    "LEFT JOIN books as b ON p.publisher_id = b.publisher_id\n",
    "WHERE b.num_pages > 50\n",
    "GROUP BY p.publisher_id, p.publisher\n",
    "ORDER BY COUNT(DISTINCT b.book_id) DESC\n",
    "LIMIT 1;\n",
    "'''"
   ]
  },
  {
   "cell_type": "code",
   "execution_count": 22,
   "metadata": {},
   "outputs": [
    {
     "data": {
      "text/html": [
       "<div>\n",
       "<style scoped>\n",
       "    .dataframe tbody tr th:only-of-type {\n",
       "        vertical-align: middle;\n",
       "    }\n",
       "\n",
       "    .dataframe tbody tr th {\n",
       "        vertical-align: top;\n",
       "    }\n",
       "\n",
       "    .dataframe thead th {\n",
       "        text-align: right;\n",
       "    }\n",
       "</style>\n",
       "<table border=\"1\" class=\"dataframe\">\n",
       "  <thead>\n",
       "    <tr style=\"text-align: right;\">\n",
       "      <th></th>\n",
       "      <th>publisher_id</th>\n",
       "      <th>publisher</th>\n",
       "    </tr>\n",
       "  </thead>\n",
       "  <tbody>\n",
       "    <tr>\n",
       "      <th>0</th>\n",
       "      <td>212</td>\n",
       "      <td>Penguin Books</td>\n",
       "    </tr>\n",
       "  </tbody>\n",
       "</table>\n",
       "</div>"
      ],
      "text/plain": [
       "   publisher_id      publisher\n",
       "0           212  Penguin Books"
      ]
     },
     "execution_count": 22,
     "metadata": {},
     "output_type": "execute_result"
    }
   ],
   "source": [
    "pd_read_sql(best_publisher)"
   ]
  },
  {
   "cell_type": "markdown",
   "metadata": {},
   "source": [
    "Самым активным издательством ожиданмо оказалось Penguin Books. Если вывести число изданных книг, увидим, что их 42."
   ]
  },
  {
   "cell_type": "markdown",
   "metadata": {},
   "source": []
  },
  {
   "cell_type": "code",
   "execution_count": 23,
   "metadata": {},
   "outputs": [],
   "source": [
    "#Выясняем самого популярного автора.C 50-ю и большим кол-м оценок\n",
    "#Во внутреннем подзапросе выясняем средний рейтинг книг с количеством оценок 50 и больше.\n",
    "#Во внешнем подзапросе считаем средний рейтинг всех книг для каждого автора.\n",
    "author = '''\n",
    "SELECT avg_rt.author\n",
    "FROM\n",
    "(\n",
    "SELECT rt.author,\n",
    "       SUM(rt.avg_rating) / COUNT(rt.title) as sum_rating\n",
    "        \n",
    "       \n",
    "FROM\n",
    "    (\n",
    "    SELECT COUNT(r.rating_id) as num_rating,\n",
    "           a.author,\n",
    "           b.title,\n",
    "           AVG(r.rating) as avg_rating\n",
    "           \n",
    "    FROM books as b\n",
    "    LEFT JOIN ratings as r ON b.book_id = r.book_id\n",
    "    LEFT JOIN authors as a ON a.author_id = b.author_id\n",
    "    GROUP BY b.book_id, a.author_id, b.title\n",
    "    HAVING COUNT(r.rating_id) > 49\n",
    "    ORDER BY avg_rating DESC) as rt\n",
    "GROUP BY  rt.author) as avg_rt\n",
    "LIMIT 1\n",
    "'''"
   ]
  },
  {
   "cell_type": "code",
   "execution_count": 24,
   "metadata": {},
   "outputs": [
    {
     "data": {
      "text/html": [
       "<div>\n",
       "<style scoped>\n",
       "    .dataframe tbody tr th:only-of-type {\n",
       "        vertical-align: middle;\n",
       "    }\n",
       "\n",
       "    .dataframe tbody tr th {\n",
       "        vertical-align: top;\n",
       "    }\n",
       "\n",
       "    .dataframe thead th {\n",
       "        text-align: right;\n",
       "    }\n",
       "</style>\n",
       "<table border=\"1\" class=\"dataframe\">\n",
       "  <thead>\n",
       "    <tr style=\"text-align: right;\">\n",
       "      <th></th>\n",
       "      <th>author</th>\n",
       "    </tr>\n",
       "  </thead>\n",
       "  <tbody>\n",
       "    <tr>\n",
       "      <th>0</th>\n",
       "      <td>J.K. Rowling/Mary GrandPré</td>\n",
       "    </tr>\n",
       "  </tbody>\n",
       "</table>\n",
       "</div>"
      ],
      "text/plain": [
       "                       author\n",
       "0  J.K. Rowling/Mary GrandPré"
      ]
     },
     "execution_count": 24,
     "metadata": {},
     "output_type": "execute_result"
    }
   ],
   "source": [
    "pd_read_sql(author)"
   ]
  },
  {
   "cell_type": "markdown",
   "metadata": {},
   "source": [
    "Самый высокий средний рейтинг представленных на сервисе книг у американской писательницы Джоан Роулинг, работающей в жанрах: \n",
    "трагикомедия, криминальный роман и фэнтези."
   ]
  },
  {
   "cell_type": "markdown",
   "metadata": {},
   "source": []
  },
  {
   "cell_type": "code",
   "execution_count": 25,
   "metadata": {},
   "outputs": [],
   "source": [
    "num_review = '''\n",
    "WITH\n",
    "ratings AS(    \n",
    "    SELECT r.username,\n",
    "    COUNT(r.rating_id) as num_rating\n",
    "    FROM ratings as r\n",
    "    GROUP BY r.username\n",
    "    HAVING COUNT(r.rating_id) > 50\n",
    "    ),\n",
    "    \n",
    "reviews AS(\n",
    "        SELECT COUNT(re.review_id) as num_review,\n",
    "        re.username\n",
    "        FROM reviews as re\n",
    "        GROUP BY username\n",
    "        )\n",
    "\n",
    "SELECT ROUND(AVG (reviews.num_review)) as avg_number_of_reviews\n",
    "FROM ratings LEFT JOIN reviews ON ratings.username = reviews.username\n",
    "''' "
   ]
  },
  {
   "cell_type": "code",
   "execution_count": 26,
   "metadata": {},
   "outputs": [
    {
     "data": {
      "text/html": [
       "<div>\n",
       "<style scoped>\n",
       "    .dataframe tbody tr th:only-of-type {\n",
       "        vertical-align: middle;\n",
       "    }\n",
       "\n",
       "    .dataframe tbody tr th {\n",
       "        vertical-align: top;\n",
       "    }\n",
       "\n",
       "    .dataframe thead th {\n",
       "        text-align: right;\n",
       "    }\n",
       "</style>\n",
       "<table border=\"1\" class=\"dataframe\">\n",
       "  <thead>\n",
       "    <tr style=\"text-align: right;\">\n",
       "      <th></th>\n",
       "      <th>avg_number_of_reviews</th>\n",
       "    </tr>\n",
       "  </thead>\n",
       "  <tbody>\n",
       "    <tr>\n",
       "      <th>0</th>\n",
       "      <td>24.0</td>\n",
       "    </tr>\n",
       "  </tbody>\n",
       "</table>\n",
       "</div>"
      ],
      "text/plain": [
       "   avg_number_of_reviews\n",
       "0                   24.0"
      ]
     },
     "execution_count": 26,
     "metadata": {},
     "output_type": "execute_result"
    }
   ],
   "source": [
    "pd_read_sql(num_review)"
   ]
  },
  {
   "cell_type": "markdown",
   "metadata": {},
   "source": [
    "Пользователи, поставившие более 50-ти оценок в среднем написали 24 (24.3333) отзыва."
   ]
  },
  {
   "cell_type": "markdown",
   "metadata": {},
   "source": [
    "## Выводы.\n",
    "<a id=\"outcome\"></a>"
   ]
  },
  {
   "cell_type": "markdown",
   "metadata": {},
   "source": [
    "После 1 января 2000 года издано 819 книг. Выпущено 818 наименований книг. Из них Memoirs of a Geisha - дважды, что может свидетельствовать о её популярности. Следовательно приобретаемый сервис должен предлагать читателям не меньшее количество книг.\n",
    "\n",
    "Книги имеют рейтинг от 1.5 до 5 баллов. Количество ревью на каждую книгу от 0 до 7-ми. Возможно, стоит выполнить отбор книг для сервиса, так, чтобы рейтинг был не ниже среднего. Отбор по количеству ревью нежелателен. Это может отсечь хорошие, но не самые массовые книги.\n",
    "\n",
    "Самым активным издательством ожиданмо оказалось Penguin Books. Издательство опубликовало 42 книги. Следовательно именно на книги этого издательства стоит обратить особое внимание.\n",
    "\n",
    "Самый высокий средний рейтинг книг у американской писательницы Джоан Роулинг, работающей в жанрах: \n",
    "трагикомедия, криминальный роман и фэнтези, как и в целом книги жанров, в которых она работает.\n",
    "\n",
    "Активные читатели, поставившие более 50 оценок, написали в среднем по 24 ревью на прочитанные книги. Следовательно, читателям в сервисе должна быть предоставленна возможность писать отзывы, обсуждать прочитанные книги, и советовать новые книги друг-другу."
   ]
  },
  {
   "cell_type": "code",
   "execution_count": null,
   "metadata": {},
   "outputs": [],
   "source": []
  }
 ],
 "metadata": {
  "ExecuteTimeLog": [
   {
    "duration": 534,
    "start_time": "2023-04-26T16:12:02.548Z"
   },
   {
    "duration": 99,
    "start_time": "2023-04-26T16:12:05.803Z"
   },
   {
    "duration": 8680,
    "start_time": "2023-04-26T16:12:19.683Z"
   },
   {
    "duration": 4,
    "start_time": "2023-04-26T16:19:18.118Z"
   },
   {
    "duration": 3,
    "start_time": "2023-04-26T16:19:21.878Z"
   },
   {
    "duration": 4,
    "start_time": "2023-04-26T16:19:22.429Z"
   },
   {
    "duration": 3,
    "start_time": "2023-04-26T16:22:09.570Z"
   },
   {
    "duration": 3,
    "start_time": "2023-04-26T16:24:26.690Z"
   },
   {
    "duration": 255,
    "start_time": "2023-04-26T16:24:47.931Z"
   },
   {
    "duration": 598,
    "start_time": "2023-04-26T17:18:19.174Z"
   },
   {
    "duration": 3,
    "start_time": "2023-04-26T17:18:19.774Z"
   },
   {
    "duration": 8196,
    "start_time": "2023-04-26T17:18:19.779Z"
   },
   {
    "duration": 3,
    "start_time": "2023-04-26T17:18:27.977Z"
   },
   {
    "duration": 4,
    "start_time": "2023-04-26T17:18:27.983Z"
   },
   {
    "duration": 231,
    "start_time": "2023-04-26T17:18:27.988Z"
   },
   {
    "duration": 3,
    "start_time": "2023-04-26T17:55:02.990Z"
   },
   {
    "duration": 3,
    "start_time": "2023-04-26T17:55:03.007Z"
   },
   {
    "duration": 11,
    "start_time": "2023-04-26T17:55:03.013Z"
   },
   {
    "duration": 10,
    "start_time": "2023-04-26T17:55:03.025Z"
   },
   {
    "duration": 5,
    "start_time": "2023-04-26T17:55:03.037Z"
   },
   {
    "duration": 53,
    "start_time": "2023-04-26T17:55:03.044Z"
   },
   {
    "duration": 10,
    "start_time": "2023-04-26T18:01:22.603Z"
   },
   {
    "duration": 3,
    "start_time": "2023-04-26T18:01:38.792Z"
   },
   {
    "duration": 2,
    "start_time": "2023-04-26T18:01:52.587Z"
   },
   {
    "duration": 12,
    "start_time": "2023-04-26T18:01:54.905Z"
   },
   {
    "duration": 2,
    "start_time": "2023-04-26T18:03:37.199Z"
   },
   {
    "duration": 22,
    "start_time": "2023-04-26T18:03:40.228Z"
   },
   {
    "duration": 3,
    "start_time": "2023-04-26T18:06:50.942Z"
   },
   {
    "duration": 14,
    "start_time": "2023-04-26T18:06:54.096Z"
   },
   {
    "duration": 3,
    "start_time": "2023-04-26T18:16:21.106Z"
   },
   {
    "duration": 14,
    "start_time": "2023-04-26T18:16:24.092Z"
   },
   {
    "duration": 558,
    "start_time": "2023-04-27T09:46:40.229Z"
   },
   {
    "duration": 4,
    "start_time": "2023-04-27T09:46:40.789Z"
   },
   {
    "duration": 8135,
    "start_time": "2023-04-27T09:46:40.795Z"
   },
   {
    "duration": 4,
    "start_time": "2023-04-27T09:46:48.932Z"
   },
   {
    "duration": 9,
    "start_time": "2023-04-27T09:46:48.939Z"
   },
   {
    "duration": 79,
    "start_time": "2023-04-27T09:46:48.950Z"
   },
   {
    "duration": 3,
    "start_time": "2023-04-27T09:46:49.031Z"
   },
   {
    "duration": 18,
    "start_time": "2023-04-27T09:46:49.036Z"
   },
   {
    "duration": 3,
    "start_time": "2023-04-27T09:46:49.056Z"
   },
   {
    "duration": 19,
    "start_time": "2023-04-27T09:46:49.061Z"
   },
   {
    "duration": 2,
    "start_time": "2023-04-27T09:46:49.082Z"
   },
   {
    "duration": 15,
    "start_time": "2023-04-27T09:46:49.087Z"
   },
   {
    "duration": 3,
    "start_time": "2023-04-27T09:46:49.104Z"
   },
   {
    "duration": 21,
    "start_time": "2023-04-27T09:46:49.111Z"
   },
   {
    "duration": 3,
    "start_time": "2023-04-27T09:46:52.463Z"
   },
   {
    "duration": 10,
    "start_time": "2023-04-27T09:46:52.473Z"
   },
   {
    "duration": 13,
    "start_time": "2023-04-27T09:46:52.486Z"
   },
   {
    "duration": 10,
    "start_time": "2023-04-27T09:46:52.501Z"
   },
   {
    "duration": 9,
    "start_time": "2023-04-27T09:46:52.513Z"
   },
   {
    "duration": 48,
    "start_time": "2023-04-27T09:46:52.524Z"
   },
   {
    "duration": 2,
    "start_time": "2023-04-27T09:46:52.574Z"
   },
   {
    "duration": 25,
    "start_time": "2023-04-27T09:46:52.578Z"
   },
   {
    "duration": 3,
    "start_time": "2023-04-27T09:46:52.605Z"
   },
   {
    "duration": 23,
    "start_time": "2023-04-27T09:46:52.609Z"
   },
   {
    "duration": 3,
    "start_time": "2023-04-27T09:46:52.634Z"
   },
   {
    "duration": 15,
    "start_time": "2023-04-27T09:46:52.639Z"
   },
   {
    "duration": 4,
    "start_time": "2023-04-27T09:46:52.656Z"
   },
   {
    "duration": 17,
    "start_time": "2023-04-27T09:46:52.662Z"
   },
   {
    "duration": 73,
    "start_time": "2023-04-27T09:51:24.512Z"
   },
   {
    "duration": 2,
    "start_time": "2023-04-27T09:51:33.744Z"
   },
   {
    "duration": 146,
    "start_time": "2023-04-27T09:51:36.462Z"
   },
   {
    "duration": 103,
    "start_time": "2023-04-27T09:51:37.999Z"
   },
   {
    "duration": 2,
    "start_time": "2023-04-27T09:52:09.779Z"
   },
   {
    "duration": 3,
    "start_time": "2023-04-27T09:52:12.587Z"
   },
   {
    "duration": 14,
    "start_time": "2023-04-27T09:52:15.476Z"
   },
   {
    "duration": 2,
    "start_time": "2023-04-27T09:52:38.597Z"
   },
   {
    "duration": 29,
    "start_time": "2023-04-27T09:52:41.391Z"
   },
   {
    "duration": 2,
    "start_time": "2023-04-27T09:54:59.582Z"
   },
   {
    "duration": 3,
    "start_time": "2023-04-27T09:55:02.936Z"
   },
   {
    "duration": 10,
    "start_time": "2023-04-27T09:55:05.682Z"
   },
   {
    "duration": 2,
    "start_time": "2023-04-27T09:55:24.211Z"
   },
   {
    "duration": 12,
    "start_time": "2023-04-27T09:55:26.983Z"
   },
   {
    "duration": 2,
    "start_time": "2023-04-27T09:55:42.397Z"
   },
   {
    "duration": 13,
    "start_time": "2023-04-27T09:55:45.016Z"
   },
   {
    "duration": 2,
    "start_time": "2023-04-27T09:58:07.746Z"
   },
   {
    "duration": 11,
    "start_time": "2023-04-27T09:58:10.778Z"
   },
   {
    "duration": 3,
    "start_time": "2023-04-27T09:58:33.514Z"
   },
   {
    "duration": 15,
    "start_time": "2023-04-27T09:58:36.011Z"
   },
   {
    "duration": 15,
    "start_time": "2023-04-27T09:59:59.887Z"
   },
   {
    "duration": 3,
    "start_time": "2023-04-27T10:00:12.563Z"
   },
   {
    "duration": 3,
    "start_time": "2023-04-27T10:00:16.093Z"
   },
   {
    "duration": 128,
    "start_time": "2023-04-27T10:00:21.069Z"
   },
   {
    "duration": 3,
    "start_time": "2023-04-27T10:01:29.069Z"
   },
   {
    "duration": 11,
    "start_time": "2023-04-27T10:01:33.504Z"
   },
   {
    "duration": 2,
    "start_time": "2023-04-27T10:02:10.310Z"
   },
   {
    "duration": 13,
    "start_time": "2023-04-27T10:02:13.614Z"
   },
   {
    "duration": 3,
    "start_time": "2023-04-27T10:03:36.406Z"
   },
   {
    "duration": 13,
    "start_time": "2023-04-27T10:03:40.009Z"
   },
   {
    "duration": 3,
    "start_time": "2023-04-27T10:03:43.983Z"
   },
   {
    "duration": 2,
    "start_time": "2023-04-27T10:03:44.547Z"
   },
   {
    "duration": 2,
    "start_time": "2023-04-27T10:04:32.967Z"
   },
   {
    "duration": 12,
    "start_time": "2023-04-27T10:04:35.507Z"
   },
   {
    "duration": 3,
    "start_time": "2023-04-27T10:05:05.061Z"
   },
   {
    "duration": 11,
    "start_time": "2023-04-27T10:05:08.254Z"
   },
   {
    "duration": 3,
    "start_time": "2023-04-27T10:11:15.243Z"
   },
   {
    "duration": 98,
    "start_time": "2023-04-27T10:11:17.764Z"
   },
   {
    "duration": 3,
    "start_time": "2023-04-27T10:11:35.679Z"
   },
   {
    "duration": 25,
    "start_time": "2023-04-27T10:11:38.693Z"
   },
   {
    "duration": 2,
    "start_time": "2023-04-27T10:12:21.308Z"
   },
   {
    "duration": 2,
    "start_time": "2023-04-27T10:12:21.770Z"
   },
   {
    "duration": 31,
    "start_time": "2023-04-27T10:12:24.106Z"
   },
   {
    "duration": 3,
    "start_time": "2023-04-27T10:21:18.191Z"
   },
   {
    "duration": 128,
    "start_time": "2023-04-27T10:21:21.060Z"
   },
   {
    "duration": 3,
    "start_time": "2023-04-27T10:21:54.786Z"
   },
   {
    "duration": 37,
    "start_time": "2023-04-27T10:21:57.268Z"
   },
   {
    "duration": 3,
    "start_time": "2023-04-27T10:22:42.823Z"
   },
   {
    "duration": 129,
    "start_time": "2023-04-27T10:22:46.111Z"
   },
   {
    "duration": 4,
    "start_time": "2023-04-27T10:23:32.151Z"
   },
   {
    "duration": 40,
    "start_time": "2023-04-27T10:23:35.115Z"
   },
   {
    "duration": 3,
    "start_time": "2023-04-27T10:27:28.825Z"
   },
   {
    "duration": 109,
    "start_time": "2023-04-27T10:27:31.014Z"
   },
   {
    "duration": 3,
    "start_time": "2023-04-27T10:28:03.784Z"
   },
   {
    "duration": 12,
    "start_time": "2023-04-27T10:28:06.382Z"
   },
   {
    "duration": 3,
    "start_time": "2023-04-27T10:28:32.674Z"
   },
   {
    "duration": 7,
    "start_time": "2023-04-27T10:28:33.156Z"
   },
   {
    "duration": 13,
    "start_time": "2023-04-27T10:28:35.415Z"
   },
   {
    "duration": 3,
    "start_time": "2023-04-27T10:28:40.031Z"
   },
   {
    "duration": 109,
    "start_time": "2023-04-27T10:28:43.238Z"
   },
   {
    "duration": 2,
    "start_time": "2023-04-27T10:28:48.001Z"
   },
   {
    "duration": 11,
    "start_time": "2023-04-27T10:28:50.705Z"
   },
   {
    "duration": 3,
    "start_time": "2023-04-27T10:29:42.142Z"
   },
   {
    "duration": 284,
    "start_time": "2023-04-27T10:29:44.811Z"
   },
   {
    "duration": 3,
    "start_time": "2023-04-27T10:30:05.914Z"
   },
   {
    "duration": 11,
    "start_time": "2023-04-27T10:30:08.313Z"
   },
   {
    "duration": 2,
    "start_time": "2023-04-27T10:30:20.317Z"
   },
   {
    "duration": 279,
    "start_time": "2023-04-27T10:30:22.746Z"
   },
   {
    "duration": 3,
    "start_time": "2023-04-27T10:30:41.315Z"
   },
   {
    "duration": 102,
    "start_time": "2023-04-27T10:30:44.619Z"
   },
   {
    "duration": 3,
    "start_time": "2023-04-27T10:31:06.225Z"
   },
   {
    "duration": 117,
    "start_time": "2023-04-27T10:31:08.749Z"
   },
   {
    "duration": 3,
    "start_time": "2023-04-27T10:34:49.812Z"
   },
   {
    "duration": 126,
    "start_time": "2023-04-27T10:34:52.716Z"
   },
   {
    "duration": 3,
    "start_time": "2023-04-27T10:35:18.060Z"
   },
   {
    "duration": 105,
    "start_time": "2023-04-27T10:35:20.822Z"
   },
   {
    "duration": 2,
    "start_time": "2023-04-27T10:36:49.975Z"
   },
   {
    "duration": 128,
    "start_time": "2023-04-27T10:36:52.645Z"
   },
   {
    "duration": 2,
    "start_time": "2023-04-27T10:37:00.447Z"
   },
   {
    "duration": 50,
    "start_time": "2023-04-27T10:37:03.022Z"
   },
   {
    "duration": 2,
    "start_time": "2023-04-27T10:37:39.883Z"
   },
   {
    "duration": 115,
    "start_time": "2023-04-27T10:37:42.733Z"
   },
   {
    "duration": 3,
    "start_time": "2023-04-27T10:38:25.874Z"
   },
   {
    "duration": 113,
    "start_time": "2023-04-27T10:38:28.626Z"
   },
   {
    "duration": 566,
    "start_time": "2023-04-27T10:38:52.325Z"
   },
   {
    "duration": 3,
    "start_time": "2023-04-27T10:38:52.893Z"
   },
   {
    "duration": 8943,
    "start_time": "2023-04-27T10:38:52.897Z"
   },
   {
    "duration": 3,
    "start_time": "2023-04-27T10:39:01.842Z"
   },
   {
    "duration": 60,
    "start_time": "2023-04-27T10:39:01.848Z"
   },
   {
    "duration": 111,
    "start_time": "2023-04-27T10:39:01.910Z"
   },
   {
    "duration": 5,
    "start_time": "2023-04-27T10:39:02.024Z"
   },
   {
    "duration": 79,
    "start_time": "2023-04-27T10:39:02.031Z"
   },
   {
    "duration": 31,
    "start_time": "2023-04-27T10:39:02.113Z"
   },
   {
    "duration": 60,
    "start_time": "2023-04-27T10:39:02.146Z"
   },
   {
    "duration": 30,
    "start_time": "2023-04-27T10:39:02.208Z"
   },
   {
    "duration": 82,
    "start_time": "2023-04-27T10:39:02.240Z"
   },
   {
    "duration": 26,
    "start_time": "2023-04-27T10:39:02.324Z"
   },
   {
    "duration": 85,
    "start_time": "2023-04-27T10:39:02.353Z"
   },
   {
    "duration": 59,
    "start_time": "2023-04-27T10:39:02.440Z"
   },
   {
    "duration": 76,
    "start_time": "2023-04-27T10:39:02.501Z"
   },
   {
    "duration": 18,
    "start_time": "2023-04-27T10:39:02.579Z"
   },
   {
    "duration": 41,
    "start_time": "2023-04-27T10:39:02.599Z"
   },
   {
    "duration": 31,
    "start_time": "2023-04-27T10:39:02.642Z"
   },
   {
    "duration": 191,
    "start_time": "2023-04-27T10:39:02.675Z"
   },
   {
    "duration": 0,
    "start_time": "2023-04-27T10:39:02.873Z"
   },
   {
    "duration": 0,
    "start_time": "2023-04-27T10:39:02.874Z"
   },
   {
    "duration": 3,
    "start_time": "2023-04-27T10:39:43.450Z"
   },
   {
    "duration": 39,
    "start_time": "2023-04-27T10:39:45.972Z"
   },
   {
    "duration": 4,
    "start_time": "2023-04-27T10:40:21.584Z"
   },
   {
    "duration": 20,
    "start_time": "2023-04-27T10:40:23.803Z"
   },
   {
    "duration": 3,
    "start_time": "2023-04-27T10:41:38.456Z"
   },
   {
    "duration": 26,
    "start_time": "2023-04-27T10:41:40.819Z"
   },
   {
    "duration": 3,
    "start_time": "2023-04-27T10:42:32.125Z"
   },
   {
    "duration": 93,
    "start_time": "2023-04-27T10:42:34.405Z"
   },
   {
    "duration": 114,
    "start_time": "2023-04-27T10:42:34.892Z"
   },
   {
    "duration": 3,
    "start_time": "2023-04-27T10:42:58.980Z"
   },
   {
    "duration": 31,
    "start_time": "2023-04-27T10:43:01.883Z"
   },
   {
    "duration": 3,
    "start_time": "2023-04-27T10:56:00.813Z"
   },
   {
    "duration": 106,
    "start_time": "2023-04-27T10:56:03.948Z"
   },
   {
    "duration": 2,
    "start_time": "2023-04-27T10:56:47.717Z"
   },
   {
    "duration": 103,
    "start_time": "2023-04-27T10:56:50.203Z"
   },
   {
    "duration": 2,
    "start_time": "2023-04-27T10:57:21.685Z"
   },
   {
    "duration": 112,
    "start_time": "2023-04-27T10:57:24.127Z"
   },
   {
    "duration": 3,
    "start_time": "2023-04-27T10:57:44.477Z"
   },
   {
    "duration": 99,
    "start_time": "2023-04-27T10:57:47.327Z"
   },
   {
    "duration": 3,
    "start_time": "2023-04-27T10:59:02.943Z"
   },
   {
    "duration": 13,
    "start_time": "2023-04-27T10:59:05.836Z"
   },
   {
    "duration": 3,
    "start_time": "2023-04-27T10:59:30.526Z"
   },
   {
    "duration": 12,
    "start_time": "2023-04-27T10:59:33.702Z"
   },
   {
    "duration": 2,
    "start_time": "2023-04-27T10:59:57.298Z"
   },
   {
    "duration": 18,
    "start_time": "2023-04-27T10:59:57.303Z"
   },
   {
    "duration": 11,
    "start_time": "2023-04-27T10:59:57.323Z"
   },
   {
    "duration": 19,
    "start_time": "2023-04-27T10:59:57.336Z"
   },
   {
    "duration": 30,
    "start_time": "2023-04-27T10:59:57.357Z"
   },
   {
    "duration": 61,
    "start_time": "2023-04-27T10:59:57.389Z"
   },
   {
    "duration": 3,
    "start_time": "2023-04-27T10:59:57.452Z"
   },
   {
    "duration": 18,
    "start_time": "2023-04-27T10:59:57.457Z"
   },
   {
    "duration": 3,
    "start_time": "2023-04-27T10:59:57.477Z"
   },
   {
    "duration": 27,
    "start_time": "2023-04-27T10:59:57.482Z"
   },
   {
    "duration": 2,
    "start_time": "2023-04-27T10:59:57.511Z"
   },
   {
    "duration": 31,
    "start_time": "2023-04-27T10:59:57.515Z"
   },
   {
    "duration": 3,
    "start_time": "2023-04-27T10:59:57.548Z"
   },
   {
    "duration": 23,
    "start_time": "2023-04-27T10:59:57.552Z"
   },
   {
    "duration": 4,
    "start_time": "2023-04-27T10:59:57.577Z"
   },
   {
    "duration": 29,
    "start_time": "2023-04-27T10:59:57.583Z"
   },
   {
    "duration": 4,
    "start_time": "2023-04-27T10:59:57.613Z"
   },
   {
    "duration": 23,
    "start_time": "2023-04-27T10:59:57.619Z"
   },
   {
    "duration": 3,
    "start_time": "2023-04-27T10:59:57.645Z"
   },
   {
    "duration": 38,
    "start_time": "2023-04-27T10:59:57.650Z"
   },
   {
    "duration": 4,
    "start_time": "2023-04-27T10:59:57.690Z"
   },
   {
    "duration": 18,
    "start_time": "2023-04-27T10:59:57.695Z"
   },
   {
    "duration": 2,
    "start_time": "2023-04-27T11:00:30.107Z"
   },
   {
    "duration": 14,
    "start_time": "2023-04-27T11:00:33.646Z"
   },
   {
    "duration": 2,
    "start_time": "2023-04-27T11:00:43.382Z"
   },
   {
    "duration": 106,
    "start_time": "2023-04-27T11:00:46.261Z"
   },
   {
    "duration": 3,
    "start_time": "2023-04-27T11:01:32.978Z"
   },
   {
    "duration": 12,
    "start_time": "2023-04-27T11:01:35.532Z"
   },
   {
    "duration": 6,
    "start_time": "2023-04-27T11:01:44.029Z"
   },
   {
    "duration": 12,
    "start_time": "2023-04-27T11:01:46.487Z"
   },
   {
    "duration": 3,
    "start_time": "2023-04-27T11:01:59.254Z"
   },
   {
    "duration": 13,
    "start_time": "2023-04-27T11:02:03.396Z"
   },
   {
    "duration": 12,
    "start_time": "2023-04-27T11:02:03.894Z"
   },
   {
    "duration": 3,
    "start_time": "2023-04-27T11:14:22.609Z"
   },
   {
    "duration": 113,
    "start_time": "2023-04-27T11:14:25.169Z"
   },
   {
    "duration": 3,
    "start_time": "2023-04-27T11:15:22.425Z"
   },
   {
    "duration": 3,
    "start_time": "2023-04-27T11:15:22.932Z"
   },
   {
    "duration": 115,
    "start_time": "2023-04-27T11:15:25.652Z"
   },
   {
    "duration": 3,
    "start_time": "2023-04-27T11:16:03.061Z"
   },
   {
    "duration": 108,
    "start_time": "2023-04-27T11:16:06.001Z"
   },
   {
    "duration": 2,
    "start_time": "2023-04-27T11:16:24.094Z"
   },
   {
    "duration": 102,
    "start_time": "2023-04-27T11:16:26.831Z"
   },
   {
    "duration": 3,
    "start_time": "2023-04-27T11:16:42.393Z"
   },
   {
    "duration": 12,
    "start_time": "2023-04-27T11:16:45.476Z"
   },
   {
    "duration": 2,
    "start_time": "2023-04-27T11:28:27.261Z"
   },
   {
    "duration": 91,
    "start_time": "2023-04-27T11:28:29.486Z"
   },
   {
    "duration": 3,
    "start_time": "2023-04-27T11:28:52.239Z"
   },
   {
    "duration": 22,
    "start_time": "2023-04-27T11:28:55.463Z"
   },
   {
    "duration": 2,
    "start_time": "2023-04-27T11:31:39.213Z"
   },
   {
    "duration": 14,
    "start_time": "2023-04-27T11:31:41.699Z"
   },
   {
    "duration": 3,
    "start_time": "2023-04-27T11:32:45.502Z"
   },
   {
    "duration": 3,
    "start_time": "2023-04-27T11:33:02.812Z"
   },
   {
    "duration": 17,
    "start_time": "2023-04-27T11:33:05.604Z"
   },
   {
    "duration": 3,
    "start_time": "2023-04-27T11:33:17.242Z"
   },
   {
    "duration": 22,
    "start_time": "2023-04-27T11:33:20.355Z"
   },
   {
    "duration": 2,
    "start_time": "2023-04-27T11:34:27.036Z"
   },
   {
    "duration": 13,
    "start_time": "2023-04-27T11:34:29.603Z"
   },
   {
    "duration": 7,
    "start_time": "2023-04-27T11:36:49.714Z"
   },
   {
    "duration": 3,
    "start_time": "2023-04-27T11:37:04.631Z"
   },
   {
    "duration": 125,
    "start_time": "2023-04-27T11:37:07.162Z"
   },
   {
    "duration": 3,
    "start_time": "2023-04-27T11:37:30.307Z"
   },
   {
    "duration": 12,
    "start_time": "2023-04-27T11:37:32.822Z"
   },
   {
    "duration": 3,
    "start_time": "2023-04-27T11:38:06.241Z"
   },
   {
    "duration": 18,
    "start_time": "2023-04-27T11:38:08.867Z"
   },
   {
    "duration": 3,
    "start_time": "2023-04-27T11:40:29.340Z"
   },
   {
    "duration": 117,
    "start_time": "2023-04-27T11:40:31.976Z"
   },
   {
    "duration": 3,
    "start_time": "2023-04-27T11:40:43.423Z"
   },
   {
    "duration": 26,
    "start_time": "2023-04-27T11:40:45.977Z"
   },
   {
    "duration": 3,
    "start_time": "2023-04-27T11:40:55.211Z"
   },
   {
    "duration": 17,
    "start_time": "2023-04-27T11:40:58.536Z"
   },
   {
    "duration": 2,
    "start_time": "2023-04-27T11:50:52.420Z"
   },
   {
    "duration": 121,
    "start_time": "2023-04-27T11:50:54.933Z"
   },
   {
    "duration": 3,
    "start_time": "2023-04-27T11:51:30.577Z"
   },
   {
    "duration": 99,
    "start_time": "2023-04-27T11:51:33.158Z"
   },
   {
    "duration": 2,
    "start_time": "2023-04-27T11:52:01.958Z"
   },
   {
    "duration": 12,
    "start_time": "2023-04-27T11:52:04.748Z"
   },
   {
    "duration": 3,
    "start_time": "2023-04-27T11:52:21.175Z"
   },
   {
    "duration": 101,
    "start_time": "2023-04-27T11:52:24.344Z"
   },
   {
    "duration": 3,
    "start_time": "2023-04-27T12:01:17.332Z"
   },
   {
    "duration": 20,
    "start_time": "2023-04-27T12:01:19.738Z"
   },
   {
    "duration": 2,
    "start_time": "2023-04-27T12:01:54.562Z"
   },
   {
    "duration": 21,
    "start_time": "2023-04-27T12:01:57.762Z"
   },
   {
    "duration": 3,
    "start_time": "2023-04-27T12:15:05.308Z"
   },
   {
    "duration": 19,
    "start_time": "2023-04-27T12:15:07.903Z"
   },
   {
    "duration": 3,
    "start_time": "2023-04-27T12:15:45.799Z"
   },
   {
    "duration": 115,
    "start_time": "2023-04-27T12:15:48.172Z"
   },
   {
    "duration": 3,
    "start_time": "2023-04-27T12:15:56.924Z"
   },
   {
    "duration": 105,
    "start_time": "2023-04-27T12:15:59.331Z"
   },
   {
    "duration": 3,
    "start_time": "2023-04-27T12:16:20.507Z"
   },
   {
    "duration": 18,
    "start_time": "2023-04-27T12:16:23.344Z"
   },
   {
    "duration": 3,
    "start_time": "2023-04-27T12:17:01.104Z"
   },
   {
    "duration": 19,
    "start_time": "2023-04-27T12:17:04.506Z"
   },
   {
    "duration": 3,
    "start_time": "2023-04-27T12:17:53.162Z"
   },
   {
    "duration": 20,
    "start_time": "2023-04-27T12:17:55.522Z"
   },
   {
    "duration": 3,
    "start_time": "2023-04-27T12:18:17.848Z"
   },
   {
    "duration": 17,
    "start_time": "2023-04-27T12:18:21.723Z"
   },
   {
    "duration": 2,
    "start_time": "2023-04-27T12:22:21.703Z"
   },
   {
    "duration": 14,
    "start_time": "2023-04-27T12:22:24.307Z"
   },
   {
    "duration": 3,
    "start_time": "2023-04-27T12:23:01.713Z"
   },
   {
    "duration": 16,
    "start_time": "2023-04-27T12:23:04.337Z"
   },
   {
    "duration": 3,
    "start_time": "2023-04-27T13:02:32.601Z"
   },
   {
    "duration": 11,
    "start_time": "2023-04-27T13:02:35.237Z"
   },
   {
    "duration": 3,
    "start_time": "2023-04-27T13:06:41.612Z"
   },
   {
    "duration": 23,
    "start_time": "2023-04-27T13:06:44.950Z"
   },
   {
    "duration": 3,
    "start_time": "2023-04-27T13:10:38.196Z"
   },
   {
    "duration": 37,
    "start_time": "2023-04-27T13:10:41.853Z"
   },
   {
    "duration": 3,
    "start_time": "2023-04-27T13:11:45.016Z"
   },
   {
    "duration": 41,
    "start_time": "2023-04-27T13:11:48.541Z"
   },
   {
    "duration": 2,
    "start_time": "2023-04-27T13:22:57.316Z"
   },
   {
    "duration": 17,
    "start_time": "2023-04-27T13:23:00.045Z"
   },
   {
    "duration": 3,
    "start_time": "2023-04-27T13:48:14.203Z"
   },
   {
    "duration": 25,
    "start_time": "2023-04-27T13:48:17.298Z"
   },
   {
    "duration": 3,
    "start_time": "2023-04-27T13:48:43.762Z"
   },
   {
    "duration": 16,
    "start_time": "2023-04-27T13:48:47.766Z"
   },
   {
    "duration": 2,
    "start_time": "2023-04-27T13:49:10.898Z"
   },
   {
    "duration": 17,
    "start_time": "2023-04-27T13:49:15.160Z"
   },
   {
    "duration": 3,
    "start_time": "2023-04-27T13:49:24.147Z"
   },
   {
    "duration": 13,
    "start_time": "2023-04-27T13:49:27.334Z"
   },
   {
    "duration": 524,
    "start_time": "2023-04-27T13:59:18.361Z"
   },
   {
    "duration": 3,
    "start_time": "2023-04-27T13:59:18.887Z"
   },
   {
    "duration": 8376,
    "start_time": "2023-04-27T13:59:18.892Z"
   },
   {
    "duration": 2,
    "start_time": "2023-04-27T13:59:27.270Z"
   },
   {
    "duration": 7,
    "start_time": "2023-04-27T13:59:27.273Z"
   },
   {
    "duration": 56,
    "start_time": "2023-04-27T13:59:27.282Z"
   },
   {
    "duration": 3,
    "start_time": "2023-04-27T13:59:27.340Z"
   },
   {
    "duration": 31,
    "start_time": "2023-04-27T13:59:27.344Z"
   },
   {
    "duration": 2,
    "start_time": "2023-04-27T13:59:27.377Z"
   },
   {
    "duration": 19,
    "start_time": "2023-04-27T13:59:27.382Z"
   },
   {
    "duration": 2,
    "start_time": "2023-04-27T13:59:27.403Z"
   },
   {
    "duration": 25,
    "start_time": "2023-04-27T13:59:27.407Z"
   },
   {
    "duration": 10,
    "start_time": "2023-04-27T13:59:27.434Z"
   },
   {
    "duration": 15,
    "start_time": "2023-04-27T13:59:27.446Z"
   },
   {
    "duration": 13,
    "start_time": "2023-04-27T13:59:27.462Z"
   },
   {
    "duration": 35,
    "start_time": "2023-04-27T13:59:27.477Z"
   },
   {
    "duration": 3,
    "start_time": "2023-04-27T13:59:27.513Z"
   },
   {
    "duration": 14,
    "start_time": "2023-04-27T13:59:27.518Z"
   },
   {
    "duration": 3,
    "start_time": "2023-04-27T13:59:27.533Z"
   },
   {
    "duration": 35,
    "start_time": "2023-04-27T13:59:27.537Z"
   },
   {
    "duration": 2,
    "start_time": "2023-04-27T13:59:27.574Z"
   },
   {
    "duration": 13,
    "start_time": "2023-04-27T13:59:27.578Z"
   },
   {
    "duration": 2,
    "start_time": "2023-04-27T13:59:27.593Z"
   },
   {
    "duration": 26,
    "start_time": "2023-04-27T13:59:27.596Z"
   },
   {
    "duration": 2,
    "start_time": "2023-04-27T13:59:27.624Z"
   },
   {
    "duration": 17,
    "start_time": "2023-04-27T13:59:27.628Z"
   },
   {
    "duration": 512,
    "start_time": "2023-04-27T14:00:08.443Z"
   },
   {
    "duration": 3,
    "start_time": "2023-04-27T14:00:08.957Z"
   },
   {
    "duration": 8230,
    "start_time": "2023-04-27T14:00:08.961Z"
   },
   {
    "duration": 3,
    "start_time": "2023-04-27T14:00:17.194Z"
   },
   {
    "duration": 19,
    "start_time": "2023-04-27T14:00:17.198Z"
   },
   {
    "duration": 56,
    "start_time": "2023-04-27T14:00:17.219Z"
   },
   {
    "duration": 3,
    "start_time": "2023-04-27T14:00:17.277Z"
   },
   {
    "duration": 16,
    "start_time": "2023-04-27T14:00:17.282Z"
   },
   {
    "duration": 3,
    "start_time": "2023-04-27T14:00:17.299Z"
   },
   {
    "duration": 13,
    "start_time": "2023-04-27T14:00:17.304Z"
   },
   {
    "duration": 2,
    "start_time": "2023-04-27T14:00:17.319Z"
   },
   {
    "duration": 14,
    "start_time": "2023-04-27T14:00:17.323Z"
   },
   {
    "duration": 18,
    "start_time": "2023-04-27T14:00:17.339Z"
   },
   {
    "duration": 22,
    "start_time": "2023-04-27T14:00:17.359Z"
   },
   {
    "duration": 3,
    "start_time": "2023-04-27T14:00:17.383Z"
   },
   {
    "duration": 43,
    "start_time": "2023-04-27T14:00:17.388Z"
   },
   {
    "duration": 4,
    "start_time": "2023-04-27T14:00:17.433Z"
   },
   {
    "duration": 17,
    "start_time": "2023-04-27T14:00:17.438Z"
   },
   {
    "duration": 5,
    "start_time": "2023-04-27T14:00:17.457Z"
   },
   {
    "duration": 38,
    "start_time": "2023-04-27T14:00:17.464Z"
   },
   {
    "duration": 3,
    "start_time": "2023-04-27T14:00:17.504Z"
   },
   {
    "duration": 32,
    "start_time": "2023-04-27T14:00:17.510Z"
   },
   {
    "duration": 10,
    "start_time": "2023-04-27T14:00:17.544Z"
   },
   {
    "duration": 27,
    "start_time": "2023-04-27T14:00:17.555Z"
   },
   {
    "duration": 3,
    "start_time": "2023-04-27T14:00:17.583Z"
   },
   {
    "duration": 19,
    "start_time": "2023-04-27T14:00:17.587Z"
   },
   {
    "duration": 561,
    "start_time": "2023-04-27T19:01:07.802Z"
   },
   {
    "duration": 3,
    "start_time": "2023-04-27T19:01:08.365Z"
   },
   {
    "duration": 11027,
    "start_time": "2023-04-27T19:01:08.370Z"
   },
   {
    "duration": 3,
    "start_time": "2023-04-27T19:01:19.399Z"
   },
   {
    "duration": 12,
    "start_time": "2023-04-27T19:01:19.404Z"
   },
   {
    "duration": 297,
    "start_time": "2023-04-27T19:01:19.419Z"
   },
   {
    "duration": 3,
    "start_time": "2023-04-27T19:01:19.718Z"
   },
   {
    "duration": 89,
    "start_time": "2023-04-27T19:01:19.723Z"
   },
   {
    "duration": 3,
    "start_time": "2023-04-27T19:01:19.813Z"
   },
   {
    "duration": 89,
    "start_time": "2023-04-27T19:01:19.823Z"
   },
   {
    "duration": 2,
    "start_time": "2023-04-27T19:01:19.914Z"
   },
   {
    "duration": 99,
    "start_time": "2023-04-27T19:01:19.918Z"
   },
   {
    "duration": 4,
    "start_time": "2023-04-27T19:01:20.019Z"
   },
   {
    "duration": 92,
    "start_time": "2023-04-27T19:01:20.033Z"
   },
   {
    "duration": 3,
    "start_time": "2023-04-27T19:01:20.129Z"
   },
   {
    "duration": 100,
    "start_time": "2023-04-27T19:01:20.134Z"
   },
   {
    "duration": 3,
    "start_time": "2023-04-27T19:01:20.236Z"
   },
   {
    "duration": 91,
    "start_time": "2023-04-27T19:01:20.241Z"
   },
   {
    "duration": 3,
    "start_time": "2023-04-27T19:01:20.334Z"
   },
   {
    "duration": 128,
    "start_time": "2023-04-27T19:01:20.339Z"
   },
   {
    "duration": 3,
    "start_time": "2023-04-27T19:01:20.468Z"
   },
   {
    "duration": 105,
    "start_time": "2023-04-27T19:01:20.473Z"
   },
   {
    "duration": 3,
    "start_time": "2023-04-27T19:01:20.580Z"
   },
   {
    "duration": 98,
    "start_time": "2023-04-27T19:01:20.584Z"
   },
   {
    "duration": 3,
    "start_time": "2023-04-27T19:01:20.684Z"
   },
   {
    "duration": 100,
    "start_time": "2023-04-27T19:01:20.688Z"
   },
   {
    "duration": 13,
    "start_time": "2023-04-27T19:42:18.353Z"
   },
   {
    "duration": 66,
    "start_time": "2023-04-27T19:42:36.793Z"
   },
   {
    "duration": 565,
    "start_time": "2023-04-27T19:42:46.826Z"
   },
   {
    "duration": 4,
    "start_time": "2023-04-27T19:42:47.393Z"
   },
   {
    "duration": 6201,
    "start_time": "2023-04-27T19:42:47.399Z"
   },
   {
    "duration": 3,
    "start_time": "2023-04-27T19:42:53.602Z"
   },
   {
    "duration": 12,
    "start_time": "2023-04-27T19:42:53.606Z"
   },
   {
    "duration": 346,
    "start_time": "2023-04-27T19:42:53.620Z"
   },
   {
    "duration": 2,
    "start_time": "2023-04-27T19:42:53.968Z"
   },
   {
    "duration": 139,
    "start_time": "2023-04-27T19:42:53.972Z"
   },
   {
    "duration": 2,
    "start_time": "2023-04-27T19:42:54.113Z"
   },
   {
    "duration": 161,
    "start_time": "2023-04-27T19:42:54.119Z"
   },
   {
    "duration": 3,
    "start_time": "2023-04-27T19:42:54.282Z"
   },
   {
    "duration": 121,
    "start_time": "2023-04-27T19:42:54.287Z"
   },
   {
    "duration": 3,
    "start_time": "2023-04-27T19:42:54.409Z"
   },
   {
    "duration": 116,
    "start_time": "2023-04-27T19:42:54.413Z"
   },
   {
    "duration": 6,
    "start_time": "2023-04-27T19:42:54.530Z"
   },
   {
    "duration": 139,
    "start_time": "2023-04-27T19:42:54.537Z"
   },
   {
    "duration": 2,
    "start_time": "2023-04-27T19:42:54.677Z"
   },
   {
    "duration": 127,
    "start_time": "2023-04-27T19:42:54.681Z"
   },
   {
    "duration": 2,
    "start_time": "2023-04-27T19:42:54.809Z"
   },
   {
    "duration": 171,
    "start_time": "2023-04-27T19:42:54.813Z"
   },
   {
    "duration": 2,
    "start_time": "2023-04-27T19:42:54.986Z"
   },
   {
    "duration": 119,
    "start_time": "2023-04-27T19:42:54.989Z"
   },
   {
    "duration": 3,
    "start_time": "2023-04-27T19:42:55.110Z"
   },
   {
    "duration": 214,
    "start_time": "2023-04-27T19:42:55.115Z"
   },
   {
    "duration": 0,
    "start_time": "2023-04-27T19:42:55.331Z"
   },
   {
    "duration": 0,
    "start_time": "2023-04-27T19:42:55.333Z"
   },
   {
    "duration": 5,
    "start_time": "2023-04-27T19:43:18.862Z"
   },
   {
    "duration": 142,
    "start_time": "2023-04-27T19:43:23.183Z"
   },
   {
    "duration": 2,
    "start_time": "2023-04-27T19:43:40.258Z"
   },
   {
    "duration": 73,
    "start_time": "2023-04-27T19:43:43.562Z"
   },
   {
    "duration": 3,
    "start_time": "2023-04-27T19:44:46.853Z"
   },
   {
    "duration": 91,
    "start_time": "2023-04-27T19:44:50.281Z"
   },
   {
    "duration": 3,
    "start_time": "2023-04-27T19:46:17.567Z"
   },
   {
    "duration": 184,
    "start_time": "2023-04-27T19:46:21.514Z"
   },
   {
    "duration": 3,
    "start_time": "2023-04-27T19:47:15.491Z"
   },
   {
    "duration": 88,
    "start_time": "2023-04-27T19:47:18.889Z"
   },
   {
    "duration": 6,
    "start_time": "2023-04-27T19:48:04.134Z"
   },
   {
    "duration": 76,
    "start_time": "2023-04-27T19:48:08.159Z"
   },
   {
    "duration": 4,
    "start_time": "2023-04-27T19:51:21.965Z"
   },
   {
    "duration": 149,
    "start_time": "2023-04-27T19:51:27.248Z"
   },
   {
    "duration": 3,
    "start_time": "2023-04-27T19:52:04.424Z"
   },
   {
    "duration": 172,
    "start_time": "2023-04-27T19:52:07.282Z"
   },
   {
    "duration": 3,
    "start_time": "2023-04-27T19:52:25.309Z"
   },
   {
    "duration": 158,
    "start_time": "2023-04-27T19:52:29.061Z"
   },
   {
    "duration": 2,
    "start_time": "2023-04-27T19:53:23.488Z"
   },
   {
    "duration": 161,
    "start_time": "2023-04-27T19:53:26.762Z"
   },
   {
    "duration": 2,
    "start_time": "2023-04-27T19:53:48.109Z"
   },
   {
    "duration": 181,
    "start_time": "2023-04-27T19:53:51.403Z"
   },
   {
    "duration": 4,
    "start_time": "2023-04-27T19:54:52.096Z"
   },
   {
    "duration": 294,
    "start_time": "2023-04-27T19:54:56.521Z"
   },
   {
    "duration": 4,
    "start_time": "2023-04-27T19:56:51.459Z"
   },
   {
    "duration": 173,
    "start_time": "2023-04-27T19:56:55.426Z"
   },
   {
    "duration": 3,
    "start_time": "2023-04-27T20:00:01.957Z"
   },
   {
    "duration": 3,
    "start_time": "2023-04-27T20:00:20.206Z"
   },
   {
    "duration": 142,
    "start_time": "2023-04-27T20:00:23.387Z"
   },
   {
    "duration": 3,
    "start_time": "2023-04-27T20:00:55.410Z"
   },
   {
    "duration": 165,
    "start_time": "2023-04-27T20:00:58.157Z"
   },
   {
    "duration": 5,
    "start_time": "2023-04-27T20:01:47.036Z"
   },
   {
    "duration": 142,
    "start_time": "2023-04-27T20:01:51.066Z"
   },
   {
    "duration": 3,
    "start_time": "2023-04-27T20:02:48.106Z"
   },
   {
    "duration": 160,
    "start_time": "2023-04-27T20:02:50.753Z"
   },
   {
    "duration": 3,
    "start_time": "2023-04-27T20:03:16.266Z"
   },
   {
    "duration": 150,
    "start_time": "2023-04-27T20:03:18.681Z"
   },
   {
    "duration": 3,
    "start_time": "2023-04-27T20:03:42.162Z"
   },
   {
    "duration": 161,
    "start_time": "2023-04-27T20:03:44.963Z"
   },
   {
    "duration": 543,
    "start_time": "2023-04-27T20:04:31.719Z"
   },
   {
    "duration": 5,
    "start_time": "2023-04-27T20:04:32.269Z"
   },
   {
    "duration": 6330,
    "start_time": "2023-04-27T20:04:32.275Z"
   },
   {
    "duration": 3,
    "start_time": "2023-04-27T20:04:38.607Z"
   },
   {
    "duration": 22,
    "start_time": "2023-04-27T20:04:38.612Z"
   },
   {
    "duration": 331,
    "start_time": "2023-04-27T20:04:38.635Z"
   },
   {
    "duration": 2,
    "start_time": "2023-04-27T20:04:38.967Z"
   },
   {
    "duration": 112,
    "start_time": "2023-04-27T20:04:38.971Z"
   },
   {
    "duration": 2,
    "start_time": "2023-04-27T20:04:39.085Z"
   },
   {
    "duration": 107,
    "start_time": "2023-04-27T20:04:39.088Z"
   },
   {
    "duration": 3,
    "start_time": "2023-04-27T20:04:39.196Z"
   },
   {
    "duration": 129,
    "start_time": "2023-04-27T20:04:39.200Z"
   },
   {
    "duration": 2,
    "start_time": "2023-04-27T20:04:39.330Z"
   },
   {
    "duration": 128,
    "start_time": "2023-04-27T20:04:39.335Z"
   },
   {
    "duration": 3,
    "start_time": "2023-04-27T20:04:39.464Z"
   },
   {
    "duration": 105,
    "start_time": "2023-04-27T20:04:39.468Z"
   },
   {
    "duration": 2,
    "start_time": "2023-04-27T20:04:39.575Z"
   },
   {
    "duration": 108,
    "start_time": "2023-04-27T20:04:39.578Z"
   },
   {
    "duration": 3,
    "start_time": "2023-04-27T20:04:39.687Z"
   },
   {
    "duration": 139,
    "start_time": "2023-04-27T20:04:39.691Z"
   },
   {
    "duration": 1,
    "start_time": "2023-04-27T20:04:39.832Z"
   },
   {
    "duration": 94,
    "start_time": "2023-04-27T20:04:39.834Z"
   },
   {
    "duration": 5,
    "start_time": "2023-04-27T20:04:39.930Z"
   },
   {
    "duration": 103,
    "start_time": "2023-04-27T20:04:39.936Z"
   },
   {
    "duration": 6,
    "start_time": "2023-04-27T20:04:40.046Z"
   },
   {
    "duration": 108,
    "start_time": "2023-04-27T20:04:40.053Z"
   },
   {
    "duration": 2,
    "start_time": "2023-04-27T20:06:00.923Z"
   },
   {
    "duration": 91,
    "start_time": "2023-04-27T20:06:10.002Z"
   },
   {
    "duration": 2,
    "start_time": "2023-04-27T20:06:39.379Z"
   },
   {
    "duration": 94,
    "start_time": "2023-04-27T20:06:43.001Z"
   },
   {
    "duration": 3,
    "start_time": "2023-04-27T20:06:49.108Z"
   },
   {
    "duration": 98,
    "start_time": "2023-04-27T20:06:51.662Z"
   },
   {
    "duration": 2,
    "start_time": "2023-04-27T20:09:21.967Z"
   },
   {
    "duration": 87,
    "start_time": "2023-04-27T20:09:25.327Z"
   },
   {
    "duration": 3,
    "start_time": "2023-04-27T20:12:12.168Z"
   },
   {
    "duration": 96,
    "start_time": "2023-04-27T20:12:14.682Z"
   },
   {
    "duration": 2,
    "start_time": "2023-04-27T20:14:32.370Z"
   },
   {
    "duration": 105,
    "start_time": "2023-04-27T20:14:34.701Z"
   },
   {
    "duration": 2,
    "start_time": "2023-04-27T20:15:24.517Z"
   },
   {
    "duration": 90,
    "start_time": "2023-04-27T20:15:27.730Z"
   },
   {
    "duration": 2,
    "start_time": "2023-04-27T20:16:26.179Z"
   },
   {
    "duration": 102,
    "start_time": "2023-04-27T20:16:28.710Z"
   },
   {
    "duration": 2,
    "start_time": "2023-04-27T20:18:11.877Z"
   },
   {
    "duration": 97,
    "start_time": "2023-04-27T20:18:14.392Z"
   },
   {
    "duration": 3,
    "start_time": "2023-04-27T20:19:18.308Z"
   },
   {
    "duration": 3,
    "start_time": "2023-04-27T20:19:34.718Z"
   },
   {
    "duration": 96,
    "start_time": "2023-04-27T20:19:37.521Z"
   },
   {
    "duration": 4,
    "start_time": "2023-04-27T20:20:28.895Z"
   },
   {
    "duration": 105,
    "start_time": "2023-04-27T20:20:31.702Z"
   },
   {
    "duration": 4,
    "start_time": "2023-04-27T20:21:04.066Z"
   },
   {
    "duration": 246,
    "start_time": "2023-04-27T20:21:07.256Z"
   },
   {
    "duration": 2,
    "start_time": "2023-04-27T20:21:46.899Z"
   },
   {
    "duration": 111,
    "start_time": "2023-04-27T20:21:49.473Z"
   },
   {
    "duration": 3,
    "start_time": "2023-04-27T20:23:33.712Z"
   },
   {
    "duration": 189,
    "start_time": "2023-04-27T20:23:36.633Z"
   },
   {
    "duration": 2,
    "start_time": "2023-04-27T20:24:08.971Z"
   },
   {
    "duration": 105,
    "start_time": "2023-04-27T20:24:11.771Z"
   },
   {
    "duration": 4,
    "start_time": "2023-04-27T20:24:53.573Z"
   },
   {
    "duration": 90,
    "start_time": "2023-04-27T20:24:56.487Z"
   },
   {
    "duration": 2,
    "start_time": "2023-04-27T20:25:30.977Z"
   },
   {
    "duration": 170,
    "start_time": "2023-04-27T20:25:33.286Z"
   },
   {
    "duration": 2,
    "start_time": "2023-04-27T20:25:59.173Z"
   },
   {
    "duration": 168,
    "start_time": "2023-04-27T20:26:01.878Z"
   },
   {
    "duration": 4,
    "start_time": "2023-04-27T20:26:25.035Z"
   },
   {
    "duration": 109,
    "start_time": "2023-04-27T20:26:27.892Z"
   },
   {
    "duration": 3,
    "start_time": "2023-04-27T20:28:17.784Z"
   },
   {
    "duration": 108,
    "start_time": "2023-04-27T20:28:20.773Z"
   },
   {
    "duration": 2,
    "start_time": "2023-04-27T20:28:41.327Z"
   },
   {
    "duration": 129,
    "start_time": "2023-04-27T20:28:44.385Z"
   },
   {
    "duration": 8,
    "start_time": "2023-04-27T20:28:57.234Z"
   },
   {
    "duration": 102,
    "start_time": "2023-04-27T20:28:59.610Z"
   },
   {
    "duration": 3,
    "start_time": "2023-04-27T20:31:04.191Z"
   },
   {
    "duration": 172,
    "start_time": "2023-04-27T20:31:06.925Z"
   },
   {
    "duration": 2,
    "start_time": "2023-04-27T20:31:22.686Z"
   },
   {
    "duration": 146,
    "start_time": "2023-04-27T20:31:25.774Z"
   },
   {
    "duration": 2,
    "start_time": "2023-04-27T20:31:51.282Z"
   },
   {
    "duration": 115,
    "start_time": "2023-04-27T20:31:53.794Z"
   },
   {
    "duration": 3,
    "start_time": "2023-04-27T20:33:18.576Z"
   },
   {
    "duration": 105,
    "start_time": "2023-04-27T20:33:22.102Z"
   },
   {
    "duration": 2,
    "start_time": "2023-04-27T20:36:42.584Z"
   },
   {
    "duration": 196,
    "start_time": "2023-04-27T20:36:46.068Z"
   },
   {
    "duration": 3,
    "start_time": "2023-04-27T20:38:20.366Z"
   },
   {
    "duration": 158,
    "start_time": "2023-04-27T20:38:23.201Z"
   },
   {
    "duration": 2,
    "start_time": "2023-04-27T20:38:51.762Z"
   },
   {
    "duration": 181,
    "start_time": "2023-04-27T20:38:54.506Z"
   },
   {
    "duration": 3,
    "start_time": "2023-04-27T20:39:50.902Z"
   },
   {
    "duration": 143,
    "start_time": "2023-04-27T20:39:53.555Z"
   },
   {
    "duration": 3,
    "start_time": "2023-04-27T20:40:16.406Z"
   },
   {
    "duration": 111,
    "start_time": "2023-04-27T20:40:18.900Z"
   },
   {
    "duration": 2,
    "start_time": "2023-04-27T20:40:52.472Z"
   },
   {
    "duration": 98,
    "start_time": "2023-04-27T20:40:57.480Z"
   },
   {
    "duration": 98,
    "start_time": "2023-04-27T20:41:00.071Z"
   },
   {
    "duration": 9,
    "start_time": "2023-04-27T20:41:13.836Z"
   },
   {
    "duration": 271,
    "start_time": "2023-04-27T20:41:16.210Z"
   },
   {
    "duration": 4,
    "start_time": "2023-04-27T20:42:49.640Z"
   },
   {
    "duration": 89,
    "start_time": "2023-04-27T20:42:52.591Z"
   },
   {
    "duration": 2,
    "start_time": "2023-04-27T20:43:14.186Z"
   },
   {
    "duration": 104,
    "start_time": "2023-04-27T20:43:17.275Z"
   },
   {
    "duration": 4,
    "start_time": "2023-04-27T20:43:39.558Z"
   },
   {
    "duration": 92,
    "start_time": "2023-04-27T20:43:42.286Z"
   },
   {
    "duration": 2,
    "start_time": "2023-04-27T20:45:03.021Z"
   },
   {
    "duration": 94,
    "start_time": "2023-04-27T20:45:05.819Z"
   },
   {
    "duration": 2,
    "start_time": "2023-04-27T20:45:44.707Z"
   },
   {
    "duration": 100,
    "start_time": "2023-04-27T20:45:48.227Z"
   },
   {
    "duration": 3,
    "start_time": "2023-04-27T20:48:44.972Z"
   },
   {
    "duration": 81,
    "start_time": "2023-04-27T20:48:48.051Z"
   },
   {
    "duration": 3,
    "start_time": "2023-04-27T20:49:11.171Z"
   },
   {
    "duration": 77,
    "start_time": "2023-04-27T20:49:13.759Z"
   },
   {
    "duration": 3,
    "start_time": "2023-04-27T20:50:01.097Z"
   },
   {
    "duration": 150,
    "start_time": "2023-04-27T20:50:03.972Z"
   },
   {
    "duration": 3,
    "start_time": "2023-04-27T20:50:24.561Z"
   },
   {
    "duration": 96,
    "start_time": "2023-04-27T20:50:27.206Z"
   },
   {
    "duration": 3,
    "start_time": "2023-04-27T20:50:56.011Z"
   },
   {
    "duration": 95,
    "start_time": "2023-04-27T20:50:58.815Z"
   },
   {
    "duration": 3,
    "start_time": "2023-04-27T20:53:24.950Z"
   },
   {
    "duration": 143,
    "start_time": "2023-04-27T20:53:27.131Z"
   },
   {
    "duration": 2,
    "start_time": "2023-04-27T20:53:48.598Z"
   },
   {
    "duration": 74,
    "start_time": "2023-04-27T20:53:50.953Z"
   },
   {
    "duration": 3,
    "start_time": "2023-04-27T21:14:48.658Z"
   },
   {
    "duration": 171,
    "start_time": "2023-04-27T21:14:51.718Z"
   },
   {
    "duration": 3,
    "start_time": "2023-04-27T21:15:14.328Z"
   },
   {
    "duration": 95,
    "start_time": "2023-04-27T21:15:17.008Z"
   },
   {
    "duration": 3,
    "start_time": "2023-04-27T21:15:44.878Z"
   },
   {
    "duration": 166,
    "start_time": "2023-04-27T21:15:47.460Z"
   },
   {
    "duration": 3,
    "start_time": "2023-04-27T21:16:11.015Z"
   },
   {
    "duration": 81,
    "start_time": "2023-04-27T21:16:14.162Z"
   },
   {
    "duration": 3,
    "start_time": "2023-04-27T21:18:08.023Z"
   },
   {
    "duration": 98,
    "start_time": "2023-04-27T21:18:11.020Z"
   },
   {
    "duration": 3,
    "start_time": "2023-04-27T21:20:21.899Z"
   },
   {
    "duration": 239,
    "start_time": "2023-04-27T21:20:26.178Z"
   },
   {
    "duration": 5,
    "start_time": "2023-04-27T21:20:53.753Z"
   },
   {
    "duration": 98,
    "start_time": "2023-04-27T21:20:57.110Z"
   },
   {
    "duration": 5,
    "start_time": "2023-04-27T21:21:37.975Z"
   },
   {
    "duration": 86,
    "start_time": "2023-04-27T21:21:41.139Z"
   },
   {
    "duration": 6,
    "start_time": "2023-04-27T21:23:05.236Z"
   },
   {
    "duration": 83,
    "start_time": "2023-04-27T21:23:07.976Z"
   },
   {
    "duration": 3,
    "start_time": "2023-04-27T21:23:56.712Z"
   },
   {
    "duration": 89,
    "start_time": "2023-04-27T21:24:00.104Z"
   },
   {
    "duration": 2,
    "start_time": "2023-04-27T21:24:43.860Z"
   },
   {
    "duration": 102,
    "start_time": "2023-04-27T21:24:47.166Z"
   },
   {
    "duration": 6,
    "start_time": "2023-04-27T21:28:30.952Z"
   },
   {
    "duration": 173,
    "start_time": "2023-04-27T21:28:33.512Z"
   },
   {
    "duration": 5,
    "start_time": "2023-04-27T21:29:04.258Z"
   },
   {
    "duration": 161,
    "start_time": "2023-04-27T21:29:07.349Z"
   },
   {
    "duration": 3,
    "start_time": "2023-04-27T21:29:54.814Z"
   },
   {
    "duration": 99,
    "start_time": "2023-04-27T21:29:57.477Z"
   },
   {
    "duration": 3,
    "start_time": "2023-04-27T21:30:22.305Z"
   },
   {
    "duration": 101,
    "start_time": "2023-04-27T21:30:26.405Z"
   },
   {
    "duration": 3,
    "start_time": "2023-04-27T21:54:39.279Z"
   },
   {
    "duration": 164,
    "start_time": "2023-04-27T21:54:43.065Z"
   },
   {
    "duration": 13,
    "start_time": "2023-04-27T21:55:05.147Z"
   },
   {
    "duration": 149,
    "start_time": "2023-04-27T21:55:08.282Z"
   },
   {
    "duration": 5,
    "start_time": "2023-04-27T21:55:53.731Z"
   },
   {
    "duration": 224,
    "start_time": "2023-04-27T21:55:56.377Z"
   },
   {
    "duration": 3,
    "start_time": "2023-04-27T21:56:17.667Z"
   },
   {
    "duration": 124,
    "start_time": "2023-04-27T21:56:20.199Z"
   },
   {
    "duration": 7,
    "start_time": "2023-04-27T21:56:41.034Z"
   },
   {
    "duration": 195,
    "start_time": "2023-04-27T21:56:45.627Z"
   },
   {
    "duration": 6,
    "start_time": "2023-04-27T21:57:03.956Z"
   },
   {
    "duration": 120,
    "start_time": "2023-04-27T21:57:07.299Z"
   },
   {
    "duration": 7,
    "start_time": "2023-04-27T21:57:32.832Z"
   },
   {
    "duration": 168,
    "start_time": "2023-04-27T21:57:35.561Z"
   },
   {
    "duration": 2,
    "start_time": "2023-04-27T21:58:00.105Z"
   },
   {
    "duration": 129,
    "start_time": "2023-04-27T21:58:03.247Z"
   },
   {
    "duration": 3,
    "start_time": "2023-04-27T21:58:43.731Z"
   },
   {
    "duration": 108,
    "start_time": "2023-04-27T21:58:46.324Z"
   },
   {
    "duration": 3,
    "start_time": "2023-04-27T22:00:40.583Z"
   },
   {
    "duration": 175,
    "start_time": "2023-04-27T22:00:43.157Z"
   },
   {
    "duration": 2,
    "start_time": "2023-04-27T22:01:02.617Z"
   },
   {
    "duration": 97,
    "start_time": "2023-04-27T22:01:06.333Z"
   },
   {
    "duration": 6,
    "start_time": "2023-04-27T22:02:51.055Z"
   },
   {
    "duration": 193,
    "start_time": "2023-04-27T22:02:53.800Z"
   },
   {
    "duration": 6,
    "start_time": "2023-04-27T22:03:22.461Z"
   },
   {
    "duration": 93,
    "start_time": "2023-04-27T22:03:25.199Z"
   },
   {
    "duration": 4,
    "start_time": "2023-04-27T22:03:40.285Z"
   },
   {
    "duration": 94,
    "start_time": "2023-04-27T22:03:43.057Z"
   },
   {
    "duration": 2,
    "start_time": "2023-04-27T22:03:59.372Z"
   },
   {
    "duration": 99,
    "start_time": "2023-04-27T22:04:02.366Z"
   },
   {
    "duration": 2,
    "start_time": "2023-04-27T22:04:10.201Z"
   },
   {
    "duration": 90,
    "start_time": "2023-04-27T22:04:12.714Z"
   },
   {
    "duration": 2,
    "start_time": "2023-04-27T22:04:22.961Z"
   },
   {
    "duration": 99,
    "start_time": "2023-04-27T22:04:26.977Z"
   },
   {
    "duration": 5,
    "start_time": "2023-04-27T22:08:10.944Z"
   },
   {
    "duration": 180,
    "start_time": "2023-04-27T22:08:13.389Z"
   },
   {
    "duration": 2,
    "start_time": "2023-04-27T22:08:35.064Z"
   },
   {
    "duration": 141,
    "start_time": "2023-04-27T22:08:38.170Z"
   },
   {
    "duration": 2,
    "start_time": "2023-04-27T22:08:58.382Z"
   },
   {
    "duration": 81,
    "start_time": "2023-04-27T22:09:00.763Z"
   },
   {
    "duration": 2,
    "start_time": "2023-04-27T22:09:37.204Z"
   },
   {
    "duration": 95,
    "start_time": "2023-04-27T22:09:39.712Z"
   },
   {
    "duration": 2,
    "start_time": "2023-04-27T22:11:01.005Z"
   },
   {
    "duration": 97,
    "start_time": "2023-04-27T22:11:03.261Z"
   },
   {
    "duration": 2,
    "start_time": "2023-04-27T22:11:43.866Z"
   },
   {
    "duration": 184,
    "start_time": "2023-04-27T22:11:47.531Z"
   },
   {
    "duration": 2,
    "start_time": "2023-04-27T22:12:03.221Z"
   },
   {
    "duration": 102,
    "start_time": "2023-04-27T22:12:07.677Z"
   },
   {
    "duration": 2,
    "start_time": "2023-04-27T22:12:35.806Z"
   },
   {
    "duration": 77,
    "start_time": "2023-04-27T22:12:38.755Z"
   },
   {
    "duration": 3,
    "start_time": "2023-04-27T22:13:25.462Z"
   },
   {
    "duration": 95,
    "start_time": "2023-04-27T22:13:27.701Z"
   },
   {
    "duration": 2,
    "start_time": "2023-04-27T22:13:59.563Z"
   },
   {
    "duration": 94,
    "start_time": "2023-04-27T22:14:02.980Z"
   },
   {
    "duration": 4,
    "start_time": "2023-04-27T22:14:11.950Z"
   },
   {
    "duration": 93,
    "start_time": "2023-04-27T22:14:15.649Z"
   },
   {
    "duration": 2,
    "start_time": "2023-04-27T22:18:10.060Z"
   },
   {
    "duration": 168,
    "start_time": "2023-04-27T22:18:12.507Z"
   },
   {
    "duration": 2,
    "start_time": "2023-04-27T22:18:32.903Z"
   },
   {
    "duration": 175,
    "start_time": "2023-04-27T22:18:35.621Z"
   },
   {
    "duration": 2,
    "start_time": "2023-04-27T22:19:35.267Z"
   },
   {
    "duration": 161,
    "start_time": "2023-04-27T22:19:37.725Z"
   },
   {
    "duration": 2,
    "start_time": "2023-04-27T22:20:18.099Z"
   },
   {
    "duration": 151,
    "start_time": "2023-04-27T22:20:20.864Z"
   },
   {
    "duration": 2,
    "start_time": "2023-04-27T22:21:12.607Z"
   },
   {
    "duration": 176,
    "start_time": "2023-04-27T22:21:15.173Z"
   },
   {
    "duration": 6,
    "start_time": "2023-04-27T22:21:56.640Z"
   },
   {
    "duration": 147,
    "start_time": "2023-04-27T22:21:59.174Z"
   },
   {
    "duration": 2,
    "start_time": "2023-04-27T22:22:33.508Z"
   },
   {
    "duration": 109,
    "start_time": "2023-04-27T22:22:37.002Z"
   },
   {
    "duration": 3,
    "start_time": "2023-04-27T22:23:25.781Z"
   },
   {
    "duration": 95,
    "start_time": "2023-04-27T22:23:28.270Z"
   },
   {
    "duration": 2,
    "start_time": "2023-04-27T22:27:52.376Z"
   },
   {
    "duration": 86,
    "start_time": "2023-04-27T22:27:54.906Z"
   },
   {
    "duration": 2,
    "start_time": "2023-04-27T22:28:51.564Z"
   },
   {
    "duration": 104,
    "start_time": "2023-04-27T22:28:54.262Z"
   },
   {
    "duration": 3,
    "start_time": "2023-04-27T22:29:29.882Z"
   },
   {
    "duration": 90,
    "start_time": "2023-04-27T22:29:32.465Z"
   },
   {
    "duration": 2,
    "start_time": "2023-04-27T22:30:09.606Z"
   },
   {
    "duration": 159,
    "start_time": "2023-04-27T22:30:13.760Z"
   },
   {
    "duration": 3,
    "start_time": "2023-04-27T22:31:16.765Z"
   },
   {
    "duration": 118,
    "start_time": "2023-04-27T22:31:19.089Z"
   },
   {
    "duration": 5,
    "start_time": "2023-04-27T22:31:38.260Z"
   },
   {
    "duration": 110,
    "start_time": "2023-04-27T22:31:40.760Z"
   },
   {
    "duration": 561,
    "start_time": "2023-04-27T22:31:56.376Z"
   },
   {
    "duration": 4,
    "start_time": "2023-04-27T22:31:56.939Z"
   },
   {
    "duration": 6909,
    "start_time": "2023-04-27T22:31:56.948Z"
   },
   {
    "duration": 3,
    "start_time": "2023-04-27T22:32:03.862Z"
   },
   {
    "duration": 10,
    "start_time": "2023-04-27T22:32:03.867Z"
   },
   {
    "duration": 313,
    "start_time": "2023-04-27T22:32:03.878Z"
   },
   {
    "duration": 2,
    "start_time": "2023-04-27T22:32:04.193Z"
   },
   {
    "duration": 102,
    "start_time": "2023-04-27T22:32:04.197Z"
   },
   {
    "duration": 2,
    "start_time": "2023-04-27T22:32:04.301Z"
   },
   {
    "duration": 95,
    "start_time": "2023-04-27T22:32:04.304Z"
   },
   {
    "duration": 3,
    "start_time": "2023-04-27T22:32:04.400Z"
   },
   {
    "duration": 102,
    "start_time": "2023-04-27T22:32:04.404Z"
   },
   {
    "duration": 2,
    "start_time": "2023-04-27T22:32:04.508Z"
   },
   {
    "duration": 86,
    "start_time": "2023-04-27T22:32:04.514Z"
   },
   {
    "duration": 2,
    "start_time": "2023-04-27T22:32:04.602Z"
   },
   {
    "duration": 100,
    "start_time": "2023-04-27T22:32:04.605Z"
   },
   {
    "duration": 2,
    "start_time": "2023-04-27T22:32:04.707Z"
   },
   {
    "duration": 98,
    "start_time": "2023-04-27T22:32:04.710Z"
   },
   {
    "duration": 2,
    "start_time": "2023-04-27T22:32:04.809Z"
   },
   {
    "duration": 153,
    "start_time": "2023-04-27T22:32:04.813Z"
   },
   {
    "duration": 3,
    "start_time": "2023-04-27T22:32:04.968Z"
   },
   {
    "duration": 100,
    "start_time": "2023-04-27T22:32:04.973Z"
   },
   {
    "duration": 3,
    "start_time": "2023-04-27T22:32:05.075Z"
   },
   {
    "duration": 112,
    "start_time": "2023-04-27T22:32:05.080Z"
   },
   {
    "duration": 3,
    "start_time": "2023-04-27T22:32:05.193Z"
   },
   {
    "duration": 100,
    "start_time": "2023-04-27T22:32:05.198Z"
   },
   {
    "duration": 3,
    "start_time": "2023-04-27T22:32:05.300Z"
   },
   {
    "duration": 96,
    "start_time": "2023-04-27T22:32:05.304Z"
   },
   {
    "duration": 4,
    "start_time": "2023-04-27T22:32:33.762Z"
   },
   {
    "duration": 95,
    "start_time": "2023-04-27T22:32:36.268Z"
   },
   {
    "duration": 2,
    "start_time": "2023-04-27T22:32:57.862Z"
   },
   {
    "duration": 100,
    "start_time": "2023-04-27T22:33:00.388Z"
   },
   {
    "duration": 2,
    "start_time": "2023-04-27T22:34:59.168Z"
   },
   {
    "duration": 300,
    "start_time": "2023-04-27T22:35:01.890Z"
   },
   {
    "duration": 2,
    "start_time": "2023-04-27T22:35:40.962Z"
   },
   {
    "duration": 188,
    "start_time": "2023-04-27T22:35:43.268Z"
   },
   {
    "duration": 7,
    "start_time": "2023-04-27T22:36:02.131Z"
   },
   {
    "duration": 87,
    "start_time": "2023-04-27T22:36:04.632Z"
   },
   {
    "duration": 2,
    "start_time": "2023-04-27T22:38:01.165Z"
   },
   {
    "duration": 95,
    "start_time": "2023-04-27T22:38:03.582Z"
   },
   {
    "duration": 6,
    "start_time": "2023-04-27T22:38:38.136Z"
   },
   {
    "duration": 173,
    "start_time": "2023-04-27T22:38:41.224Z"
   },
   {
    "duration": 2,
    "start_time": "2023-04-27T22:39:14.976Z"
   },
   {
    "duration": 89,
    "start_time": "2023-04-27T22:39:17.473Z"
   },
   {
    "duration": 5,
    "start_time": "2023-04-27T22:39:55.466Z"
   },
   {
    "duration": 97,
    "start_time": "2023-04-27T22:39:58.221Z"
   },
   {
    "duration": 2,
    "start_time": "2023-04-27T22:40:47.623Z"
   },
   {
    "duration": 241,
    "start_time": "2023-04-27T22:40:49.860Z"
   },
   {
    "duration": 520,
    "start_time": "2023-04-27T22:47:58.259Z"
   },
   {
    "duration": 4,
    "start_time": "2023-04-27T22:47:58.781Z"
   },
   {
    "duration": 6816,
    "start_time": "2023-04-27T22:47:58.786Z"
   },
   {
    "duration": 4,
    "start_time": "2023-04-27T22:48:05.603Z"
   },
   {
    "duration": 54,
    "start_time": "2023-04-27T22:48:05.609Z"
   },
   {
    "duration": 341,
    "start_time": "2023-04-27T22:48:05.665Z"
   },
   {
    "duration": 4,
    "start_time": "2023-04-27T22:48:06.008Z"
   },
   {
    "duration": 123,
    "start_time": "2023-04-27T22:48:06.014Z"
   },
   {
    "duration": 4,
    "start_time": "2023-04-27T22:48:06.139Z"
   },
   {
    "duration": 112,
    "start_time": "2023-04-27T22:48:06.145Z"
   },
   {
    "duration": 3,
    "start_time": "2023-04-27T22:48:06.259Z"
   },
   {
    "duration": 103,
    "start_time": "2023-04-27T22:48:06.263Z"
   },
   {
    "duration": 3,
    "start_time": "2023-04-27T22:48:06.368Z"
   },
   {
    "duration": 103,
    "start_time": "2023-04-27T22:48:06.374Z"
   },
   {
    "duration": 3,
    "start_time": "2023-04-27T22:48:06.479Z"
   },
   {
    "duration": 95,
    "start_time": "2023-04-27T22:48:06.483Z"
   },
   {
    "duration": 3,
    "start_time": "2023-04-27T22:48:06.579Z"
   },
   {
    "duration": 105,
    "start_time": "2023-04-27T22:48:06.583Z"
   },
   {
    "duration": 3,
    "start_time": "2023-04-27T22:48:06.691Z"
   },
   {
    "duration": 154,
    "start_time": "2023-04-27T22:48:06.696Z"
   },
   {
    "duration": 3,
    "start_time": "2023-04-27T22:48:06.852Z"
   },
   {
    "duration": 128,
    "start_time": "2023-04-27T22:48:06.859Z"
   },
   {
    "duration": 3,
    "start_time": "2023-04-27T22:48:06.989Z"
   },
   {
    "duration": 97,
    "start_time": "2023-04-27T22:48:06.993Z"
   },
   {
    "duration": 3,
    "start_time": "2023-04-27T22:48:07.093Z"
   },
   {
    "duration": 112,
    "start_time": "2023-04-27T22:48:07.097Z"
   },
   {
    "duration": 3,
    "start_time": "2023-04-27T22:48:07.211Z"
   },
   {
    "duration": 95,
    "start_time": "2023-04-27T22:48:07.216Z"
   },
   {
    "duration": 2,
    "start_time": "2023-04-27T22:48:44.587Z"
   },
   {
    "duration": 102,
    "start_time": "2023-04-27T22:48:47.396Z"
   },
   {
    "duration": 3,
    "start_time": "2023-04-27T22:49:51.858Z"
   },
   {
    "duration": 226,
    "start_time": "2023-04-27T22:49:54.820Z"
   },
   {
    "duration": 2,
    "start_time": "2023-04-27T22:50:13.068Z"
   },
   {
    "duration": 87,
    "start_time": "2023-04-27T22:50:15.577Z"
   },
   {
    "duration": 4,
    "start_time": "2023-04-27T22:51:00.557Z"
   },
   {
    "duration": 160,
    "start_time": "2023-04-27T22:51:03.357Z"
   },
   {
    "duration": 2,
    "start_time": "2023-04-27T22:51:42.008Z"
   },
   {
    "duration": 102,
    "start_time": "2023-04-27T22:51:44.615Z"
   },
   {
    "duration": 4,
    "start_time": "2023-04-27T22:53:57.051Z"
   },
   {
    "duration": 181,
    "start_time": "2023-04-27T22:54:00.456Z"
   },
   {
    "duration": 5,
    "start_time": "2023-04-27T22:54:14.136Z"
   },
   {
    "duration": 150,
    "start_time": "2023-04-27T22:54:16.946Z"
   },
   {
    "duration": 3,
    "start_time": "2023-04-27T22:54:41.059Z"
   },
   {
    "duration": 94,
    "start_time": "2023-04-27T22:54:43.617Z"
   },
   {
    "duration": 3,
    "start_time": "2023-04-27T22:55:10.479Z"
   },
   {
    "duration": 95,
    "start_time": "2023-04-27T22:55:13.467Z"
   },
   {
    "duration": 3,
    "start_time": "2023-04-27T22:55:45.325Z"
   },
   {
    "duration": 75,
    "start_time": "2023-04-27T22:55:48.157Z"
   },
   {
    "duration": 2,
    "start_time": "2023-04-27T22:55:56.285Z"
   },
   {
    "duration": 88,
    "start_time": "2023-04-27T22:56:00.004Z"
   },
   {
    "duration": 2,
    "start_time": "2023-04-27T22:56:06.510Z"
   },
   {
    "duration": 94,
    "start_time": "2023-04-27T22:56:09.432Z"
   },
   {
    "duration": 2,
    "start_time": "2023-04-27T22:56:17.516Z"
   },
   {
    "duration": 2,
    "start_time": "2023-04-27T22:56:18.029Z"
   },
   {
    "duration": 96,
    "start_time": "2023-04-27T22:56:20.566Z"
   },
   {
    "duration": 4,
    "start_time": "2023-04-27T22:56:48.034Z"
   },
   {
    "duration": 184,
    "start_time": "2023-04-27T22:56:50.929Z"
   },
   {
    "duration": 2,
    "start_time": "2023-04-27T22:57:03.617Z"
   },
   {
    "duration": 89,
    "start_time": "2023-04-27T22:57:06.565Z"
   },
   {
    "duration": 3,
    "start_time": "2023-04-27T22:57:26.957Z"
   },
   {
    "duration": 86,
    "start_time": "2023-04-27T22:57:29.659Z"
   },
   {
    "duration": 2,
    "start_time": "2023-04-27T22:58:30.685Z"
   },
   {
    "duration": 179,
    "start_time": "2023-04-27T22:58:33.509Z"
   },
   {
    "duration": 3,
    "start_time": "2023-04-27T22:58:49.361Z"
   },
   {
    "duration": 109,
    "start_time": "2023-04-27T22:58:52.309Z"
   },
   {
    "duration": 2,
    "start_time": "2023-04-27T23:01:19.801Z"
   },
   {
    "duration": 93,
    "start_time": "2023-04-27T23:01:22.282Z"
   },
   {
    "duration": 4,
    "start_time": "2023-04-27T23:01:48.850Z"
   },
   {
    "duration": 84,
    "start_time": "2023-04-27T23:01:51.553Z"
   },
   {
    "duration": 471,
    "start_time": "2023-04-27T23:02:11.556Z"
   },
   {
    "duration": 9,
    "start_time": "2023-04-27T23:02:12.029Z"
   },
   {
    "duration": 7869,
    "start_time": "2023-04-27T23:02:12.041Z"
   },
   {
    "duration": 3,
    "start_time": "2023-04-27T23:02:19.911Z"
   },
   {
    "duration": 46,
    "start_time": "2023-04-27T23:02:19.916Z"
   },
   {
    "duration": 319,
    "start_time": "2023-04-27T23:02:19.964Z"
   },
   {
    "duration": 3,
    "start_time": "2023-04-27T23:02:20.284Z"
   },
   {
    "duration": 97,
    "start_time": "2023-04-27T23:02:20.288Z"
   },
   {
    "duration": 3,
    "start_time": "2023-04-27T23:02:20.386Z"
   },
   {
    "duration": 108,
    "start_time": "2023-04-27T23:02:20.390Z"
   },
   {
    "duration": 2,
    "start_time": "2023-04-27T23:02:20.500Z"
   },
   {
    "duration": 94,
    "start_time": "2023-04-27T23:02:20.504Z"
   },
   {
    "duration": 3,
    "start_time": "2023-04-27T23:02:20.599Z"
   },
   {
    "duration": 108,
    "start_time": "2023-04-27T23:02:20.604Z"
   },
   {
    "duration": 3,
    "start_time": "2023-04-27T23:02:20.713Z"
   },
   {
    "duration": 113,
    "start_time": "2023-04-27T23:02:20.718Z"
   },
   {
    "duration": 8,
    "start_time": "2023-04-27T23:02:20.833Z"
   },
   {
    "duration": 98,
    "start_time": "2023-04-27T23:02:20.842Z"
   },
   {
    "duration": 4,
    "start_time": "2023-04-27T23:02:20.941Z"
   },
   {
    "duration": 152,
    "start_time": "2023-04-27T23:02:20.949Z"
   },
   {
    "duration": 3,
    "start_time": "2023-04-27T23:02:21.102Z"
   },
   {
    "duration": 103,
    "start_time": "2023-04-27T23:02:21.106Z"
   },
   {
    "duration": 3,
    "start_time": "2023-04-27T23:02:21.210Z"
   },
   {
    "duration": 115,
    "start_time": "2023-04-27T23:02:21.214Z"
   },
   {
    "duration": 3,
    "start_time": "2023-04-27T23:02:21.331Z"
   },
   {
    "duration": 132,
    "start_time": "2023-04-27T23:02:21.343Z"
   },
   {
    "duration": 3,
    "start_time": "2023-04-27T23:02:21.477Z"
   },
   {
    "duration": 105,
    "start_time": "2023-04-27T23:02:21.481Z"
   },
   {
    "duration": 5,
    "start_time": "2023-04-27T23:04:18.933Z"
   },
   {
    "duration": 237,
    "start_time": "2023-04-27T23:04:21.838Z"
   },
   {
    "duration": 2,
    "start_time": "2023-04-27T23:04:46.250Z"
   },
   {
    "duration": 80,
    "start_time": "2023-04-27T23:04:48.945Z"
   },
   {
    "duration": 3,
    "start_time": "2023-04-27T23:05:15.108Z"
   },
   {
    "duration": 90,
    "start_time": "2023-04-27T23:05:17.738Z"
   },
   {
    "duration": 2,
    "start_time": "2023-04-27T23:06:34.725Z"
   },
   {
    "duration": 80,
    "start_time": "2023-04-27T23:06:37.162Z"
   },
   {
    "duration": 2,
    "start_time": "2023-04-27T23:07:17.058Z"
   },
   {
    "duration": 89,
    "start_time": "2023-04-27T23:07:19.779Z"
   },
   {
    "duration": 3,
    "start_time": "2023-04-27T23:07:45.524Z"
   },
   {
    "duration": 103,
    "start_time": "2023-04-27T23:07:48.068Z"
   },
   {
    "duration": 2,
    "start_time": "2023-04-27T23:09:13.265Z"
   },
   {
    "duration": 83,
    "start_time": "2023-04-27T23:09:16.387Z"
   },
   {
    "duration": 2,
    "start_time": "2023-04-27T23:09:34.803Z"
   },
   {
    "duration": 88,
    "start_time": "2023-04-27T23:09:37.273Z"
   },
   {
    "duration": 3,
    "start_time": "2023-04-27T23:10:37.580Z"
   },
   {
    "duration": 82,
    "start_time": "2023-04-27T23:10:40.431Z"
   },
   {
    "duration": 2,
    "start_time": "2023-04-27T23:11:06.087Z"
   },
   {
    "duration": 3,
    "start_time": "2023-04-27T23:11:06.584Z"
   },
   {
    "duration": 142,
    "start_time": "2023-04-27T23:11:08.905Z"
   },
   {
    "duration": 3,
    "start_time": "2023-04-27T23:11:55.983Z"
   },
   {
    "duration": 76,
    "start_time": "2023-04-27T23:11:58.319Z"
   },
   {
    "duration": 3,
    "start_time": "2023-04-27T23:16:56.167Z"
   },
   {
    "duration": 128,
    "start_time": "2023-04-27T23:16:58.284Z"
   },
   {
    "duration": 2,
    "start_time": "2023-04-27T23:17:22.459Z"
   },
   {
    "duration": 112,
    "start_time": "2023-04-27T23:17:25.059Z"
   },
   {
    "duration": 3,
    "start_time": "2023-04-27T23:17:59.499Z"
   },
   {
    "duration": 147,
    "start_time": "2023-04-27T23:18:03.010Z"
   },
   {
    "duration": 2,
    "start_time": "2023-04-27T23:18:38.806Z"
   },
   {
    "duration": 180,
    "start_time": "2023-04-27T23:18:41.362Z"
   },
   {
    "duration": 3,
    "start_time": "2023-04-27T23:19:08.586Z"
   },
   {
    "duration": 94,
    "start_time": "2023-04-27T23:19:10.969Z"
   },
   {
    "duration": 2,
    "start_time": "2023-04-27T23:21:55.473Z"
   },
   {
    "duration": 147,
    "start_time": "2023-04-27T23:21:58.899Z"
   },
   {
    "duration": 3,
    "start_time": "2023-04-27T23:22:38.012Z"
   },
   {
    "duration": 146,
    "start_time": "2023-04-27T23:22:40.700Z"
   },
   {
    "duration": 2,
    "start_time": "2023-04-27T23:22:53.069Z"
   },
   {
    "duration": 158,
    "start_time": "2023-04-27T23:22:55.600Z"
   },
   {
    "duration": 2,
    "start_time": "2023-04-27T23:23:13.463Z"
   },
   {
    "duration": 147,
    "start_time": "2023-04-27T23:23:16.004Z"
   },
   {
    "duration": 2,
    "start_time": "2023-04-27T23:23:40.801Z"
   },
   {
    "duration": 86,
    "start_time": "2023-04-27T23:23:43.746Z"
   },
   {
    "duration": 3,
    "start_time": "2023-04-27T23:24:01.309Z"
   },
   {
    "duration": 83,
    "start_time": "2023-04-27T23:24:03.659Z"
   },
   {
    "duration": 2,
    "start_time": "2023-04-27T23:24:51.949Z"
   },
   {
    "duration": 141,
    "start_time": "2023-04-27T23:24:54.460Z"
   },
   {
    "duration": 2,
    "start_time": "2023-04-27T23:25:14.816Z"
   },
   {
    "duration": 79,
    "start_time": "2023-04-27T23:25:17.784Z"
   },
   {
    "duration": 3,
    "start_time": "2023-04-27T23:26:42.826Z"
   },
   {
    "duration": 157,
    "start_time": "2023-04-27T23:26:45.400Z"
   },
   {
    "duration": 4,
    "start_time": "2023-04-27T23:27:01.266Z"
   },
   {
    "duration": 151,
    "start_time": "2023-04-27T23:27:04.246Z"
   },
   {
    "duration": 2,
    "start_time": "2023-04-27T23:27:22.346Z"
   },
   {
    "duration": 81,
    "start_time": "2023-04-27T23:27:24.969Z"
   },
   {
    "duration": 3,
    "start_time": "2023-04-27T23:28:30.905Z"
   },
   {
    "duration": 151,
    "start_time": "2023-04-27T23:28:33.532Z"
   },
   {
    "duration": 2,
    "start_time": "2023-04-27T23:29:08.457Z"
   },
   {
    "duration": 76,
    "start_time": "2023-04-27T23:29:10.953Z"
   },
   {
    "duration": 3,
    "start_time": "2023-04-27T23:30:35.948Z"
   },
   {
    "duration": 144,
    "start_time": "2023-04-27T23:30:38.416Z"
   },
   {
    "duration": 3,
    "start_time": "2023-04-27T23:30:58.499Z"
   },
   {
    "duration": 81,
    "start_time": "2023-04-27T23:31:01.515Z"
   },
   {
    "duration": 3,
    "start_time": "2023-04-27T23:33:33.103Z"
   },
   {
    "duration": 164,
    "start_time": "2023-04-27T23:33:36.223Z"
   },
   {
    "duration": 3,
    "start_time": "2023-04-27T23:33:53.661Z"
   },
   {
    "duration": 174,
    "start_time": "2023-04-27T23:33:56.386Z"
   },
   {
    "duration": 3,
    "start_time": "2023-04-27T23:36:10.305Z"
   },
   {
    "duration": 134,
    "start_time": "2023-04-27T23:36:13.164Z"
   },
   {
    "duration": 2,
    "start_time": "2023-04-27T23:37:33.701Z"
   },
   {
    "duration": 98,
    "start_time": "2023-04-27T23:37:36.559Z"
   },
   {
    "duration": 3,
    "start_time": "2023-04-27T23:37:49.778Z"
   },
   {
    "duration": 81,
    "start_time": "2023-04-27T23:37:53.210Z"
   },
   {
    "duration": 3,
    "start_time": "2023-04-27T23:38:42.598Z"
   },
   {
    "duration": 156,
    "start_time": "2023-04-27T23:38:45.467Z"
   },
   {
    "duration": 2,
    "start_time": "2023-04-27T23:39:12.745Z"
   },
   {
    "duration": 3,
    "start_time": "2023-04-27T23:39:13.246Z"
   },
   {
    "duration": 153,
    "start_time": "2023-04-27T23:39:17.230Z"
   },
   {
    "duration": 3,
    "start_time": "2023-04-27T23:39:40.146Z"
   },
   {
    "duration": 92,
    "start_time": "2023-04-27T23:39:42.613Z"
   },
   {
    "duration": 3,
    "start_time": "2023-04-27T23:40:11.508Z"
   },
   {
    "duration": 93,
    "start_time": "2023-04-27T23:40:13.802Z"
   },
   {
    "duration": 3,
    "start_time": "2023-04-27T23:40:23.628Z"
   },
   {
    "duration": 84,
    "start_time": "2023-04-27T23:40:26.715Z"
   },
   {
    "duration": 3,
    "start_time": "2023-04-27T23:41:06.975Z"
   },
   {
    "duration": 87,
    "start_time": "2023-04-27T23:41:10.105Z"
   },
   {
    "duration": 13,
    "start_time": "2023-04-27T23:42:08.731Z"
   },
   {
    "duration": 73,
    "start_time": "2023-04-27T23:42:11.252Z"
   },
   {
    "duration": 5,
    "start_time": "2023-04-27T23:42:35.341Z"
   },
   {
    "duration": 106,
    "start_time": "2023-04-27T23:42:37.647Z"
   },
   {
    "duration": 3,
    "start_time": "2023-04-27T23:43:17.159Z"
   },
   {
    "duration": 148,
    "start_time": "2023-04-27T23:43:20.002Z"
   },
   {
    "duration": 2,
    "start_time": "2023-04-27T23:45:23.433Z"
   },
   {
    "duration": 103,
    "start_time": "2023-04-27T23:45:26.411Z"
   },
   {
    "duration": 3,
    "start_time": "2023-04-27T23:45:45.587Z"
   },
   {
    "duration": 97,
    "start_time": "2023-04-27T23:45:48.336Z"
   },
   {
    "duration": 493,
    "start_time": "2023-04-27T23:45:56.288Z"
   },
   {
    "duration": 3,
    "start_time": "2023-04-27T23:45:56.783Z"
   },
   {
    "duration": 4712,
    "start_time": "2023-04-27T23:45:56.788Z"
   },
   {
    "duration": 3,
    "start_time": "2023-04-27T23:46:01.502Z"
   },
   {
    "duration": 29,
    "start_time": "2023-04-27T23:46:01.507Z"
   },
   {
    "duration": 302,
    "start_time": "2023-04-27T23:46:01.538Z"
   },
   {
    "duration": 2,
    "start_time": "2023-04-27T23:46:01.842Z"
   },
   {
    "duration": 87,
    "start_time": "2023-04-27T23:46:01.846Z"
   },
   {
    "duration": 2,
    "start_time": "2023-04-27T23:46:01.935Z"
   },
   {
    "duration": 80,
    "start_time": "2023-04-27T23:46:01.939Z"
   },
   {
    "duration": 3,
    "start_time": "2023-04-27T23:46:02.021Z"
   },
   {
    "duration": 87,
    "start_time": "2023-04-27T23:46:02.025Z"
   },
   {
    "duration": 3,
    "start_time": "2023-04-27T23:46:02.113Z"
   },
   {
    "duration": 92,
    "start_time": "2023-04-27T23:46:02.117Z"
   },
   {
    "duration": 2,
    "start_time": "2023-04-27T23:46:02.211Z"
   },
   {
    "duration": 82,
    "start_time": "2023-04-27T23:46:02.215Z"
   },
   {
    "duration": 2,
    "start_time": "2023-04-27T23:46:02.298Z"
   },
   {
    "duration": 81,
    "start_time": "2023-04-27T23:46:02.302Z"
   },
   {
    "duration": 2,
    "start_time": "2023-04-27T23:46:02.385Z"
   },
   {
    "duration": 118,
    "start_time": "2023-04-27T23:46:02.388Z"
   },
   {
    "duration": 2,
    "start_time": "2023-04-27T23:46:02.508Z"
   },
   {
    "duration": 88,
    "start_time": "2023-04-27T23:46:02.512Z"
   },
   {
    "duration": 3,
    "start_time": "2023-04-27T23:46:02.601Z"
   },
   {
    "duration": 80,
    "start_time": "2023-04-27T23:46:02.605Z"
   },
   {
    "duration": 2,
    "start_time": "2023-04-27T23:46:02.687Z"
   },
   {
    "duration": 82,
    "start_time": "2023-04-27T23:46:02.691Z"
   },
   {
    "duration": 3,
    "start_time": "2023-04-27T23:46:02.775Z"
   },
   {
    "duration": 78,
    "start_time": "2023-04-27T23:46:02.780Z"
   },
   {
    "duration": 3,
    "start_time": "2023-04-27T23:46:02.859Z"
   },
   {
    "duration": 194,
    "start_time": "2023-04-27T23:46:02.863Z"
   },
   {
    "duration": 3,
    "start_time": "2023-04-27T23:58:50.358Z"
   },
   {
    "duration": 79,
    "start_time": "2023-04-27T23:58:52.771Z"
   },
   {
    "duration": 2,
    "start_time": "2023-04-28T00:01:06.345Z"
   },
   {
    "duration": 151,
    "start_time": "2023-04-28T00:01:09.963Z"
   },
   {
    "duration": 2,
    "start_time": "2023-04-28T00:01:30.817Z"
   },
   {
    "duration": 249,
    "start_time": "2023-04-28T00:01:34.116Z"
   },
   {
    "duration": 4,
    "start_time": "2023-04-28T00:01:58.080Z"
   },
   {
    "duration": 86,
    "start_time": "2023-04-28T00:02:01.944Z"
   },
   {
    "duration": 3,
    "start_time": "2023-04-28T00:03:07.569Z"
   },
   {
    "duration": 75,
    "start_time": "2023-04-28T00:03:10.239Z"
   },
   {
    "duration": 3,
    "start_time": "2023-04-28T00:03:52.007Z"
   },
   {
    "duration": 85,
    "start_time": "2023-04-28T00:03:54.835Z"
   },
   {
    "duration": 3,
    "start_time": "2023-04-28T00:04:03.065Z"
   },
   {
    "duration": 80,
    "start_time": "2023-04-28T00:04:05.750Z"
   },
   {
    "duration": 2,
    "start_time": "2023-04-28T00:04:33.861Z"
   },
   {
    "duration": 74,
    "start_time": "2023-04-28T00:04:36.413Z"
   },
   {
    "duration": 74,
    "start_time": "2023-04-28T00:05:01.894Z"
   },
   {
    "duration": 75,
    "start_time": "2023-04-28T00:05:12.107Z"
   },
   {
    "duration": 74,
    "start_time": "2023-04-28T00:05:19.724Z"
   },
   {
    "duration": 2,
    "start_time": "2023-04-28T00:05:26.341Z"
   },
   {
    "duration": 80,
    "start_time": "2023-04-28T00:05:30.016Z"
   },
   {
    "duration": 75,
    "start_time": "2023-04-28T00:05:30.508Z"
   },
   {
    "duration": 2,
    "start_time": "2023-04-28T00:05:53.061Z"
   },
   {
    "duration": 134,
    "start_time": "2023-04-28T00:05:55.448Z"
   },
   {
    "duration": 483,
    "start_time": "2023-04-28T00:06:27.236Z"
   },
   {
    "duration": 3,
    "start_time": "2023-04-28T00:06:27.720Z"
   },
   {
    "duration": 5372,
    "start_time": "2023-04-28T00:06:27.725Z"
   },
   {
    "duration": 2,
    "start_time": "2023-04-28T00:06:33.099Z"
   },
   {
    "duration": 16,
    "start_time": "2023-04-28T00:06:33.102Z"
   },
   {
    "duration": 249,
    "start_time": "2023-04-28T00:06:33.119Z"
   },
   {
    "duration": 2,
    "start_time": "2023-04-28T00:06:33.370Z"
   },
   {
    "duration": 84,
    "start_time": "2023-04-28T00:06:33.373Z"
   },
   {
    "duration": 2,
    "start_time": "2023-04-28T00:06:33.459Z"
   },
   {
    "duration": 86,
    "start_time": "2023-04-28T00:06:33.463Z"
   },
   {
    "duration": 2,
    "start_time": "2023-04-28T00:06:33.551Z"
   },
   {
    "duration": 80,
    "start_time": "2023-04-28T00:06:33.554Z"
   },
   {
    "duration": 2,
    "start_time": "2023-04-28T00:06:33.636Z"
   },
   {
    "duration": 82,
    "start_time": "2023-04-28T00:06:33.640Z"
   },
   {
    "duration": 2,
    "start_time": "2023-04-28T00:06:33.724Z"
   },
   {
    "duration": 74,
    "start_time": "2023-04-28T00:06:33.728Z"
   },
   {
    "duration": 2,
    "start_time": "2023-04-28T00:06:33.804Z"
   },
   {
    "duration": 79,
    "start_time": "2023-04-28T00:06:33.808Z"
   },
   {
    "duration": 2,
    "start_time": "2023-04-28T00:06:33.889Z"
   },
   {
    "duration": 115,
    "start_time": "2023-04-28T00:06:33.893Z"
   },
   {
    "duration": 3,
    "start_time": "2023-04-28T00:06:34.009Z"
   },
   {
    "duration": 76,
    "start_time": "2023-04-28T00:06:34.013Z"
   },
   {
    "duration": 3,
    "start_time": "2023-04-28T00:06:34.090Z"
   },
   {
    "duration": 87,
    "start_time": "2023-04-28T00:06:34.094Z"
   },
   {
    "duration": 2,
    "start_time": "2023-04-28T00:06:34.183Z"
   },
   {
    "duration": 95,
    "start_time": "2023-04-28T00:06:34.187Z"
   },
   {
    "duration": 3,
    "start_time": "2023-04-28T00:06:34.283Z"
   },
   {
    "duration": 187,
    "start_time": "2023-04-28T00:06:34.288Z"
   },
   {
    "duration": 1,
    "start_time": "2023-04-28T00:06:34.477Z"
   },
   {
    "duration": 0,
    "start_time": "2023-04-28T00:06:34.479Z"
   },
   {
    "duration": 2,
    "start_time": "2023-04-28T00:06:58.493Z"
   },
   {
    "duration": 79,
    "start_time": "2023-04-28T00:07:00.761Z"
   },
   {
    "duration": 3,
    "start_time": "2023-04-28T00:11:00.924Z"
   },
   {
    "duration": 80,
    "start_time": "2023-04-28T00:11:03.873Z"
   },
   {
    "duration": 3,
    "start_time": "2023-04-28T00:11:13.425Z"
   },
   {
    "duration": 158,
    "start_time": "2023-04-28T00:11:17.385Z"
   },
   {
    "duration": 2,
    "start_time": "2023-04-28T00:11:27.412Z"
   },
   {
    "duration": 83,
    "start_time": "2023-04-28T00:11:30.986Z"
   },
   {
    "duration": 2,
    "start_time": "2023-04-28T00:12:17.622Z"
   },
   {
    "duration": 254,
    "start_time": "2023-04-28T00:12:20.708Z"
   },
   {
    "duration": 2,
    "start_time": "2023-04-28T00:12:43.346Z"
   },
   {
    "duration": 154,
    "start_time": "2023-04-28T00:12:46.393Z"
   },
   {
    "duration": 2,
    "start_time": "2023-04-28T00:13:06.198Z"
   },
   {
    "duration": 83,
    "start_time": "2023-04-28T00:13:09.212Z"
   },
   {
    "duration": 2,
    "start_time": "2023-04-28T00:13:28.097Z"
   },
   {
    "duration": 150,
    "start_time": "2023-04-28T00:13:31.952Z"
   },
   {
    "duration": 3,
    "start_time": "2023-04-28T00:13:44.952Z"
   },
   {
    "duration": 81,
    "start_time": "2023-04-28T00:13:48.161Z"
   },
   {
    "duration": 3,
    "start_time": "2023-04-28T00:14:00.496Z"
   },
   {
    "duration": 83,
    "start_time": "2023-04-28T00:14:03.377Z"
   },
   {
    "duration": 2,
    "start_time": "2023-04-28T00:14:17.376Z"
   },
   {
    "duration": 128,
    "start_time": "2023-04-28T00:14:20.256Z"
   },
   {
    "duration": 2,
    "start_time": "2023-04-28T00:14:56.833Z"
   },
   {
    "duration": 497,
    "start_time": "2023-04-28T00:14:59.667Z"
   },
   {
    "duration": 3,
    "start_time": "2023-04-28T00:15:35.688Z"
   },
   {
    "duration": 167,
    "start_time": "2023-04-28T00:15:38.757Z"
   },
   {
    "duration": 2,
    "start_time": "2023-04-28T00:15:54.819Z"
   },
   {
    "duration": 73,
    "start_time": "2023-04-28T00:15:58.206Z"
   },
   {
    "duration": 2,
    "start_time": "2023-04-28T00:16:45.181Z"
   },
   {
    "duration": 209,
    "start_time": "2023-04-28T00:16:48.045Z"
   },
   {
    "duration": 2,
    "start_time": "2023-04-28T00:17:16.269Z"
   },
   {
    "duration": 75,
    "start_time": "2023-04-28T00:17:18.896Z"
   },
   {
    "duration": 2,
    "start_time": "2023-04-28T00:17:48.043Z"
   },
   {
    "duration": 76,
    "start_time": "2023-04-28T00:17:51.013Z"
   },
   {
    "duration": 3,
    "start_time": "2023-04-28T00:19:32.576Z"
   },
   {
    "duration": 292,
    "start_time": "2023-04-28T00:19:35.622Z"
   },
   {
    "duration": 2,
    "start_time": "2023-04-28T00:20:00.309Z"
   },
   {
    "duration": 104,
    "start_time": "2023-04-28T00:20:03.548Z"
   },
   {
    "duration": 2,
    "start_time": "2023-04-28T00:20:43.285Z"
   },
   {
    "duration": 81,
    "start_time": "2023-04-28T00:20:46.445Z"
   },
   {
    "duration": 3,
    "start_time": "2023-04-28T00:21:01.687Z"
   },
   {
    "duration": 77,
    "start_time": "2023-04-28T00:21:04.932Z"
   },
   {
    "duration": 3,
    "start_time": "2023-04-28T00:21:50.577Z"
   },
   {
    "duration": 76,
    "start_time": "2023-04-28T00:21:53.462Z"
   },
   {
    "duration": 3,
    "start_time": "2023-04-28T00:28:53.232Z"
   },
   {
    "duration": 157,
    "start_time": "2023-04-28T00:28:55.994Z"
   },
   {
    "duration": 2,
    "start_time": "2023-04-28T00:29:19.062Z"
   },
   {
    "duration": 76,
    "start_time": "2023-04-28T00:29:21.706Z"
   },
   {
    "duration": 539,
    "start_time": "2023-04-28T07:05:41.135Z"
   },
   {
    "duration": 9,
    "start_time": "2023-04-28T07:05:41.676Z"
   },
   {
    "duration": 8220,
    "start_time": "2023-04-28T07:05:41.687Z"
   },
   {
    "duration": 2,
    "start_time": "2023-04-28T07:05:49.909Z"
   },
   {
    "duration": 16,
    "start_time": "2023-04-28T07:05:49.914Z"
   },
   {
    "duration": 288,
    "start_time": "2023-04-28T07:05:49.931Z"
   },
   {
    "duration": 2,
    "start_time": "2023-04-28T07:05:50.220Z"
   },
   {
    "duration": 109,
    "start_time": "2023-04-28T07:05:50.224Z"
   },
   {
    "duration": 2,
    "start_time": "2023-04-28T07:05:50.335Z"
   },
   {
    "duration": 105,
    "start_time": "2023-04-28T07:05:50.338Z"
   },
   {
    "duration": 2,
    "start_time": "2023-04-28T07:05:50.444Z"
   },
   {
    "duration": 96,
    "start_time": "2023-04-28T07:05:50.448Z"
   },
   {
    "duration": 3,
    "start_time": "2023-04-28T07:05:50.545Z"
   },
   {
    "duration": 98,
    "start_time": "2023-04-28T07:05:50.550Z"
   },
   {
    "duration": 2,
    "start_time": "2023-04-28T07:05:50.650Z"
   },
   {
    "duration": 116,
    "start_time": "2023-04-28T07:05:50.654Z"
   },
   {
    "duration": 2,
    "start_time": "2023-04-28T07:05:50.772Z"
   },
   {
    "duration": 89,
    "start_time": "2023-04-28T07:05:50.776Z"
   },
   {
    "duration": 3,
    "start_time": "2023-04-28T07:05:50.866Z"
   },
   {
    "duration": 128,
    "start_time": "2023-04-28T07:05:50.870Z"
   },
   {
    "duration": 3,
    "start_time": "2023-04-28T07:05:51.000Z"
   },
   {
    "duration": 88,
    "start_time": "2023-04-28T07:05:51.005Z"
   },
   {
    "duration": 3,
    "start_time": "2023-04-28T07:05:51.095Z"
   },
   {
    "duration": 90,
    "start_time": "2023-04-28T07:05:51.100Z"
   },
   {
    "duration": 3,
    "start_time": "2023-04-28T07:05:51.192Z"
   },
   {
    "duration": 105,
    "start_time": "2023-04-28T07:05:51.197Z"
   },
   {
    "duration": 3,
    "start_time": "2023-04-28T07:05:51.304Z"
   },
   {
    "duration": 93,
    "start_time": "2023-04-28T07:05:51.308Z"
   },
   {
    "duration": 2,
    "start_time": "2023-04-28T07:05:51.403Z"
   },
   {
    "duration": 96,
    "start_time": "2023-04-28T07:05:51.406Z"
   },
   {
    "duration": 3,
    "start_time": "2023-04-28T07:06:15.941Z"
   },
   {
    "duration": 104,
    "start_time": "2023-04-28T07:06:18.717Z"
   },
   {
    "duration": 2,
    "start_time": "2023-04-28T07:06:29.573Z"
   },
   {
    "duration": 90,
    "start_time": "2023-04-28T07:06:32.023Z"
   },
   {
    "duration": 3,
    "start_time": "2023-04-28T07:06:41.396Z"
   },
   {
    "duration": 162,
    "start_time": "2023-04-28T07:06:44.631Z"
   },
   {
    "duration": 4,
    "start_time": "2023-04-28T07:07:43.821Z"
   },
   {
    "duration": 126,
    "start_time": "2023-04-28T07:07:46.945Z"
   },
   {
    "duration": 2,
    "start_time": "2023-04-28T07:09:19.949Z"
   },
   {
    "duration": 79,
    "start_time": "2023-04-28T07:09:22.424Z"
   },
   {
    "duration": 3,
    "start_time": "2023-04-28T07:10:45.249Z"
   },
   {
    "duration": 90,
    "start_time": "2023-04-28T07:10:47.939Z"
   },
   {
    "duration": 3,
    "start_time": "2023-04-28T07:14:49.321Z"
   },
   {
    "duration": 418,
    "start_time": "2023-04-28T07:14:51.895Z"
   },
   {
    "duration": 3,
    "start_time": "2023-04-28T07:16:30.570Z"
   },
   {
    "duration": 83,
    "start_time": "2023-04-28T07:16:33.151Z"
   },
   {
    "duration": 3,
    "start_time": "2023-04-28T07:18:16.218Z"
   },
   {
    "duration": 76,
    "start_time": "2023-04-28T07:18:18.798Z"
   },
   {
    "duration": 2,
    "start_time": "2023-04-28T07:18:59.123Z"
   },
   {
    "duration": 95,
    "start_time": "2023-04-28T07:19:01.775Z"
   },
   {
    "duration": 3,
    "start_time": "2023-04-28T07:19:18.846Z"
   },
   {
    "duration": 88,
    "start_time": "2023-04-28T07:19:21.416Z"
   },
   {
    "duration": 2,
    "start_time": "2023-04-28T07:19:46.306Z"
   },
   {
    "duration": 154,
    "start_time": "2023-04-28T07:19:49.068Z"
   },
   {
    "duration": 3,
    "start_time": "2023-04-28T07:26:09.577Z"
   },
   {
    "duration": 73,
    "start_time": "2023-04-28T07:26:12.142Z"
   },
   {
    "duration": 3,
    "start_time": "2023-04-28T07:26:45.520Z"
   },
   {
    "duration": 239,
    "start_time": "2023-04-28T07:26:47.941Z"
   },
   {
    "duration": 3,
    "start_time": "2023-04-28T07:27:09.820Z"
   },
   {
    "duration": 802,
    "start_time": "2023-04-28T07:27:12.467Z"
   },
   {
    "duration": 2,
    "start_time": "2023-04-28T07:27:31.259Z"
   },
   {
    "duration": 80,
    "start_time": "2023-04-28T07:27:33.996Z"
   },
   {
    "duration": 3,
    "start_time": "2023-04-28T07:30:00.908Z"
   },
   {
    "duration": 79,
    "start_time": "2023-04-28T07:30:03.619Z"
   },
   {
    "duration": 2,
    "start_time": "2023-04-28T07:30:10.657Z"
   },
   {
    "duration": 160,
    "start_time": "2023-04-28T07:30:13.477Z"
   },
   {
    "duration": 3,
    "start_time": "2023-04-28T07:30:26.894Z"
   },
   {
    "duration": 132,
    "start_time": "2023-04-28T07:30:29.356Z"
   },
   {
    "duration": 3,
    "start_time": "2023-04-28T07:39:29.939Z"
   },
   {
    "duration": 258,
    "start_time": "2023-04-28T07:39:32.383Z"
   },
   {
    "duration": 3,
    "start_time": "2023-04-28T07:40:10.516Z"
   },
   {
    "duration": 84,
    "start_time": "2023-04-28T07:40:13.180Z"
   },
   {
    "duration": 3,
    "start_time": "2023-04-28T07:47:36.452Z"
   },
   {
    "duration": 189,
    "start_time": "2023-04-28T07:47:39.319Z"
   },
   {
    "duration": 2,
    "start_time": "2023-04-28T07:49:34.263Z"
   },
   {
    "duration": 140,
    "start_time": "2023-04-28T07:49:37.228Z"
   },
   {
    "duration": 3,
    "start_time": "2023-04-28T07:49:59.061Z"
   },
   {
    "duration": 372,
    "start_time": "2023-04-28T07:50:01.971Z"
   },
   {
    "duration": 2,
    "start_time": "2023-04-28T07:52:26.200Z"
   },
   {
    "duration": 79,
    "start_time": "2023-04-28T07:52:28.744Z"
   },
   {
    "duration": 3,
    "start_time": "2023-04-28T07:53:46.908Z"
   },
   {
    "duration": 76,
    "start_time": "2023-04-28T07:53:49.404Z"
   },
   {
    "duration": 3,
    "start_time": "2023-04-28T07:54:16.650Z"
   },
   {
    "duration": 82,
    "start_time": "2023-04-28T07:54:19.775Z"
   },
   {
    "duration": 3,
    "start_time": "2023-04-28T07:56:06.154Z"
   },
   {
    "duration": 76,
    "start_time": "2023-04-28T07:56:08.576Z"
   },
   {
    "duration": 3,
    "start_time": "2023-04-28T07:56:22.011Z"
   },
   {
    "duration": 85,
    "start_time": "2023-04-28T07:56:24.111Z"
   },
   {
    "duration": 3,
    "start_time": "2023-04-28T07:57:17.780Z"
   },
   {
    "duration": 80,
    "start_time": "2023-04-28T07:57:21.059Z"
   },
   {
    "duration": 3,
    "start_time": "2023-04-28T07:57:40.174Z"
   },
   {
    "duration": 80,
    "start_time": "2023-04-28T07:57:42.625Z"
   },
   {
    "duration": 2,
    "start_time": "2023-04-28T07:58:50.172Z"
   },
   {
    "duration": 79,
    "start_time": "2023-04-28T07:58:53.431Z"
   },
   {
    "duration": 2,
    "start_time": "2023-04-28T07:59:04.422Z"
   },
   {
    "duration": 80,
    "start_time": "2023-04-28T07:59:07.145Z"
   },
   {
    "duration": 3,
    "start_time": "2023-04-28T08:00:16.296Z"
   },
   {
    "duration": 4,
    "start_time": "2023-04-28T08:00:29.073Z"
   },
   {
    "duration": 75,
    "start_time": "2023-04-28T08:00:33.895Z"
   },
   {
    "duration": 3,
    "start_time": "2023-04-28T08:04:31.997Z"
   },
   {
    "duration": 27,
    "start_time": "2023-04-28T08:04:32.002Z"
   },
   {
    "duration": 26,
    "start_time": "2023-04-28T08:04:32.031Z"
   },
   {
    "duration": 29,
    "start_time": "2023-04-28T08:04:32.060Z"
   },
   {
    "duration": 24,
    "start_time": "2023-04-28T08:04:32.093Z"
   },
   {
    "duration": 297,
    "start_time": "2023-04-28T08:04:32.119Z"
   },
   {
    "duration": 3,
    "start_time": "2023-04-28T08:04:32.417Z"
   },
   {
    "duration": 94,
    "start_time": "2023-04-28T08:04:32.421Z"
   },
   {
    "duration": 4,
    "start_time": "2023-04-28T08:04:32.516Z"
   },
   {
    "duration": 123,
    "start_time": "2023-04-28T08:04:32.522Z"
   },
   {
    "duration": 3,
    "start_time": "2023-04-28T08:04:32.647Z"
   },
   {
    "duration": 128,
    "start_time": "2023-04-28T08:04:32.651Z"
   },
   {
    "duration": 4,
    "start_time": "2023-04-28T08:04:32.781Z"
   },
   {
    "duration": 116,
    "start_time": "2023-04-28T08:04:32.788Z"
   },
   {
    "duration": 2,
    "start_time": "2023-04-28T08:04:32.906Z"
   },
   {
    "duration": 91,
    "start_time": "2023-04-28T08:04:32.909Z"
   },
   {
    "duration": 3,
    "start_time": "2023-04-28T08:04:33.001Z"
   },
   {
    "duration": 78,
    "start_time": "2023-04-28T08:04:33.005Z"
   },
   {
    "duration": 3,
    "start_time": "2023-04-28T08:04:33.085Z"
   },
   {
    "duration": 129,
    "start_time": "2023-04-28T08:04:33.090Z"
   },
   {
    "duration": 3,
    "start_time": "2023-04-28T08:04:33.221Z"
   },
   {
    "duration": 118,
    "start_time": "2023-04-28T08:04:33.226Z"
   },
   {
    "duration": 4,
    "start_time": "2023-04-28T08:04:33.346Z"
   },
   {
    "duration": 148,
    "start_time": "2023-04-28T08:04:33.352Z"
   },
   {
    "duration": 3,
    "start_time": "2023-04-28T08:04:33.501Z"
   },
   {
    "duration": 163,
    "start_time": "2023-04-28T08:04:33.506Z"
   },
   {
    "duration": 2,
    "start_time": "2023-04-28T08:06:33.111Z"
   },
   {
    "duration": 96,
    "start_time": "2023-04-28T08:06:35.573Z"
   },
   {
    "duration": 3,
    "start_time": "2023-04-28T08:07:48.057Z"
   },
   {
    "duration": 93,
    "start_time": "2023-04-28T08:07:50.631Z"
   },
   {
    "duration": 3,
    "start_time": "2023-04-28T08:09:01.311Z"
   },
   {
    "duration": 162,
    "start_time": "2023-04-28T08:09:04.141Z"
   },
   {
    "duration": 6,
    "start_time": "2023-04-28T08:09:23.786Z"
   },
   {
    "duration": 94,
    "start_time": "2023-04-28T08:09:26.945Z"
   },
   {
    "duration": 2,
    "start_time": "2023-04-28T08:09:44.162Z"
   },
   {
    "duration": 136,
    "start_time": "2023-04-28T08:09:46.957Z"
   },
   {
    "duration": 3,
    "start_time": "2023-04-28T08:10:17.628Z"
   },
   {
    "duration": 105,
    "start_time": "2023-04-28T08:10:20.371Z"
   },
   {
    "duration": 3,
    "start_time": "2023-04-28T08:10:35.725Z"
   },
   {
    "duration": 86,
    "start_time": "2023-04-28T08:10:38.010Z"
   },
   {
    "duration": 4,
    "start_time": "2023-04-28T08:11:20.941Z"
   },
   {
    "duration": 91,
    "start_time": "2023-04-28T08:11:22.919Z"
   },
   {
    "duration": 2,
    "start_time": "2023-04-28T08:12:41.741Z"
   },
   {
    "duration": 101,
    "start_time": "2023-04-28T08:12:44.273Z"
   },
   {
    "duration": 2,
    "start_time": "2023-04-28T08:23:16.395Z"
   },
   {
    "duration": 154,
    "start_time": "2023-04-28T08:23:18.887Z"
   },
   {
    "duration": 3,
    "start_time": "2023-04-28T08:23:40.282Z"
   },
   {
    "duration": 80,
    "start_time": "2023-04-28T08:23:45.138Z"
   },
   {
    "duration": 4,
    "start_time": "2023-04-28T08:24:47.353Z"
   },
   {
    "duration": 87,
    "start_time": "2023-04-28T08:24:49.777Z"
   },
   {
    "duration": 3,
    "start_time": "2023-04-28T08:25:15.847Z"
   },
   {
    "duration": 88,
    "start_time": "2023-04-28T08:25:18.741Z"
   },
   {
    "duration": 3,
    "start_time": "2023-04-28T08:27:08.832Z"
   },
   {
    "duration": 4,
    "start_time": "2023-04-28T08:27:11.181Z"
   },
   {
    "duration": 87,
    "start_time": "2023-04-28T08:27:13.229Z"
   },
   {
    "duration": 2,
    "start_time": "2023-04-28T08:27:48.603Z"
   },
   {
    "duration": 858,
    "start_time": "2023-04-28T08:27:51.996Z"
   },
   {
    "duration": 4,
    "start_time": "2023-04-28T08:28:45.402Z"
   },
   {
    "duration": 230,
    "start_time": "2023-04-28T08:28:48.061Z"
   },
   {
    "duration": 3,
    "start_time": "2023-04-28T08:29:27.176Z"
   },
   {
    "duration": 408,
    "start_time": "2023-04-28T08:29:29.535Z"
   },
   {
    "duration": 3,
    "start_time": "2023-04-28T08:30:20.451Z"
   },
   {
    "duration": 356,
    "start_time": "2023-04-28T08:30:23.659Z"
   },
   {
    "duration": 4,
    "start_time": "2023-04-28T08:30:50.635Z"
   },
   {
    "duration": 81,
    "start_time": "2023-04-28T08:30:53.138Z"
   },
   {
    "duration": 4,
    "start_time": "2023-04-28T08:32:41.553Z"
   },
   {
    "duration": 416,
    "start_time": "2023-04-28T08:32:44.845Z"
   },
   {
    "duration": 3,
    "start_time": "2023-04-28T08:36:21.352Z"
   },
   {
    "duration": 79,
    "start_time": "2023-04-28T08:36:24.562Z"
   },
   {
    "duration": 3,
    "start_time": "2023-04-28T08:36:35.085Z"
   },
   {
    "duration": 84,
    "start_time": "2023-04-28T08:36:37.555Z"
   },
   {
    "duration": 3,
    "start_time": "2023-04-28T08:38:21.851Z"
   },
   {
    "duration": 240,
    "start_time": "2023-04-28T08:38:24.768Z"
   },
   {
    "duration": 3,
    "start_time": "2023-04-28T08:38:48.666Z"
   },
   {
    "duration": 350,
    "start_time": "2023-04-28T08:38:51.218Z"
   },
   {
    "duration": 4,
    "start_time": "2023-04-28T08:39:55.057Z"
   },
   {
    "duration": 79,
    "start_time": "2023-04-28T08:39:57.905Z"
   },
   {
    "duration": 4,
    "start_time": "2023-04-28T08:40:06.141Z"
   },
   {
    "duration": 77,
    "start_time": "2023-04-28T08:40:09.058Z"
   },
   {
    "duration": 488,
    "start_time": "2023-04-28T08:51:44.124Z"
   },
   {
    "duration": 3,
    "start_time": "2023-04-28T08:51:44.614Z"
   },
   {
    "duration": 15263,
    "start_time": "2023-04-28T08:51:44.619Z"
   },
   {
    "duration": 3,
    "start_time": "2023-04-28T08:51:59.884Z"
   },
   {
    "duration": 7,
    "start_time": "2023-04-28T08:51:59.888Z"
   },
   {
    "duration": 274,
    "start_time": "2023-04-28T08:51:59.896Z"
   },
   {
    "duration": 3,
    "start_time": "2023-04-28T08:52:00.171Z"
   },
   {
    "duration": 80,
    "start_time": "2023-04-28T08:52:00.175Z"
   },
   {
    "duration": 3,
    "start_time": "2023-04-28T08:52:00.256Z"
   },
   {
    "duration": 83,
    "start_time": "2023-04-28T08:52:00.261Z"
   },
   {
    "duration": 3,
    "start_time": "2023-04-28T08:52:00.345Z"
   },
   {
    "duration": 98,
    "start_time": "2023-04-28T08:52:00.350Z"
   },
   {
    "duration": 2,
    "start_time": "2023-04-28T08:52:00.450Z"
   },
   {
    "duration": 90,
    "start_time": "2023-04-28T08:52:00.454Z"
   },
   {
    "duration": 3,
    "start_time": "2023-04-28T08:52:00.545Z"
   },
   {
    "duration": 85,
    "start_time": "2023-04-28T08:52:00.550Z"
   },
   {
    "duration": 3,
    "start_time": "2023-04-28T08:52:00.637Z"
   },
   {
    "duration": 121,
    "start_time": "2023-04-28T08:52:00.642Z"
   },
   {
    "duration": 3,
    "start_time": "2023-04-28T08:52:00.765Z"
   },
   {
    "duration": 142,
    "start_time": "2023-04-28T08:52:00.770Z"
   },
   {
    "duration": 3,
    "start_time": "2023-04-28T08:52:00.914Z"
   },
   {
    "duration": 108,
    "start_time": "2023-04-28T08:52:00.919Z"
   },
   {
    "duration": 4,
    "start_time": "2023-04-28T08:52:01.029Z"
   },
   {
    "duration": 134,
    "start_time": "2023-04-28T08:52:01.035Z"
   },
   {
    "duration": 3,
    "start_time": "2023-04-28T08:52:01.172Z"
   },
   {
    "duration": 94,
    "start_time": "2023-04-28T08:52:01.177Z"
   },
   {
    "duration": 553,
    "start_time": "2023-04-28T08:53:34.189Z"
   },
   {
    "duration": 5,
    "start_time": "2023-04-28T08:53:34.744Z"
   },
   {
    "duration": 21811,
    "start_time": "2023-04-28T08:53:34.751Z"
   },
   {
    "duration": 3,
    "start_time": "2023-04-28T08:53:56.564Z"
   },
   {
    "duration": 38,
    "start_time": "2023-04-28T08:53:56.568Z"
   },
   {
    "duration": 286,
    "start_time": "2023-04-28T08:53:56.608Z"
   },
   {
    "duration": 2,
    "start_time": "2023-04-28T08:53:56.896Z"
   },
   {
    "duration": 97,
    "start_time": "2023-04-28T08:53:56.899Z"
   },
   {
    "duration": 2,
    "start_time": "2023-04-28T08:53:56.998Z"
   },
   {
    "duration": 123,
    "start_time": "2023-04-28T08:53:57.003Z"
   },
   {
    "duration": 3,
    "start_time": "2023-04-28T08:53:57.128Z"
   },
   {
    "duration": 109,
    "start_time": "2023-04-28T08:53:57.133Z"
   },
   {
    "duration": 3,
    "start_time": "2023-04-28T08:53:57.244Z"
   },
   {
    "duration": 140,
    "start_time": "2023-04-28T08:53:57.249Z"
   },
   {
    "duration": 2,
    "start_time": "2023-04-28T08:53:57.391Z"
   },
   {
    "duration": 133,
    "start_time": "2023-04-28T08:53:57.395Z"
   },
   {
    "duration": 3,
    "start_time": "2023-04-28T08:53:57.530Z"
   },
   {
    "duration": 115,
    "start_time": "2023-04-28T08:53:57.534Z"
   },
   {
    "duration": 3,
    "start_time": "2023-04-28T08:53:57.651Z"
   },
   {
    "duration": 161,
    "start_time": "2023-04-28T08:53:57.656Z"
   },
   {
    "duration": 2,
    "start_time": "2023-04-28T08:53:57.819Z"
   },
   {
    "duration": 117,
    "start_time": "2023-04-28T08:53:57.823Z"
   },
   {
    "duration": 3,
    "start_time": "2023-04-28T08:53:57.941Z"
   },
   {
    "duration": 144,
    "start_time": "2023-04-28T08:53:57.945Z"
   },
   {
    "duration": 3,
    "start_time": "2023-04-28T08:53:58.091Z"
   },
   {
    "duration": 106,
    "start_time": "2023-04-28T08:53:58.095Z"
   },
   {
    "duration": 512,
    "start_time": "2023-04-28T08:55:13.747Z"
   },
   {
    "duration": 3,
    "start_time": "2023-04-28T08:55:14.261Z"
   },
   {
    "duration": 556,
    "start_time": "2023-04-28T14:58:58.873Z"
   },
   {
    "duration": 3,
    "start_time": "2023-04-28T14:58:59.431Z"
   },
   {
    "duration": 14623,
    "start_time": "2023-04-28T14:58:59.435Z"
   },
   {
    "duration": 3,
    "start_time": "2023-04-28T14:59:14.060Z"
   },
   {
    "duration": 4,
    "start_time": "2023-04-28T14:59:14.065Z"
   },
   {
    "duration": 347,
    "start_time": "2023-04-28T14:59:14.071Z"
   },
   {
    "duration": 2,
    "start_time": "2023-04-28T14:59:14.419Z"
   },
   {
    "duration": 90,
    "start_time": "2023-04-28T14:59:14.422Z"
   },
   {
    "duration": 2,
    "start_time": "2023-04-28T14:59:14.514Z"
   },
   {
    "duration": 93,
    "start_time": "2023-04-28T14:59:14.518Z"
   },
   {
    "duration": 2,
    "start_time": "2023-04-28T14:59:14.612Z"
   },
   {
    "duration": 113,
    "start_time": "2023-04-28T14:59:14.616Z"
   },
   {
    "duration": 1,
    "start_time": "2023-04-28T14:59:14.731Z"
   },
   {
    "duration": 100,
    "start_time": "2023-04-28T14:59:14.734Z"
   },
   {
    "duration": 2,
    "start_time": "2023-04-28T14:59:14.836Z"
   },
   {
    "duration": 93,
    "start_time": "2023-04-28T14:59:14.839Z"
   },
   {
    "duration": 2,
    "start_time": "2023-04-28T14:59:14.934Z"
   },
   {
    "duration": 96,
    "start_time": "2023-04-28T14:59:14.937Z"
   },
   {
    "duration": 2,
    "start_time": "2023-04-28T14:59:15.034Z"
   },
   {
    "duration": 163,
    "start_time": "2023-04-28T14:59:15.038Z"
   },
   {
    "duration": 2,
    "start_time": "2023-04-28T14:59:15.202Z"
   },
   {
    "duration": 106,
    "start_time": "2023-04-28T14:59:15.206Z"
   },
   {
    "duration": 2,
    "start_time": "2023-04-28T14:59:15.314Z"
   },
   {
    "duration": 95,
    "start_time": "2023-04-28T14:59:15.318Z"
   },
   {
    "duration": 3,
    "start_time": "2023-04-28T14:59:15.414Z"
   },
   {
    "duration": 91,
    "start_time": "2023-04-28T14:59:15.418Z"
   },
   {
    "duration": 4,
    "start_time": "2023-04-28T14:59:42.185Z"
   },
   {
    "duration": 81,
    "start_time": "2023-04-28T14:59:44.025Z"
   },
   {
    "duration": 4,
    "start_time": "2023-04-28T14:59:45.583Z"
   },
   {
    "duration": 78,
    "start_time": "2023-04-28T14:59:46.621Z"
   },
   {
    "duration": 540,
    "start_time": "2023-07-11T16:28:06.611Z"
   },
   {
    "duration": 3,
    "start_time": "2023-07-11T16:28:07.153Z"
   },
   {
    "duration": 571,
    "start_time": "2023-07-11T16:28:25.629Z"
   },
   {
    "duration": 3,
    "start_time": "2023-07-11T16:28:26.202Z"
   },
   {
    "duration": 21075,
    "start_time": "2023-07-11T16:28:26.207Z"
   },
   {
    "duration": 3,
    "start_time": "2023-07-11T16:28:47.285Z"
   },
   {
    "duration": 22,
    "start_time": "2023-07-11T16:28:47.290Z"
   },
   {
    "duration": 311,
    "start_time": "2023-07-11T16:28:47.314Z"
   },
   {
    "duration": 2,
    "start_time": "2023-07-11T16:28:47.627Z"
   },
   {
    "duration": 109,
    "start_time": "2023-07-11T16:28:47.631Z"
   },
   {
    "duration": 3,
    "start_time": "2023-07-11T16:28:47.742Z"
   },
   {
    "duration": 82,
    "start_time": "2023-07-11T16:28:47.748Z"
   },
   {
    "duration": 3,
    "start_time": "2023-07-11T16:28:47.833Z"
   },
   {
    "duration": 104,
    "start_time": "2023-07-11T16:28:47.838Z"
   },
   {
    "duration": 3,
    "start_time": "2023-07-11T16:28:47.944Z"
   },
   {
    "duration": 84,
    "start_time": "2023-07-11T16:28:47.948Z"
   },
   {
    "duration": 2,
    "start_time": "2023-07-11T16:28:48.034Z"
   },
   {
    "duration": 89,
    "start_time": "2023-07-11T16:28:48.038Z"
   },
   {
    "duration": 3,
    "start_time": "2023-07-11T16:28:48.129Z"
   },
   {
    "duration": 77,
    "start_time": "2023-07-11T16:28:48.134Z"
   },
   {
    "duration": 2,
    "start_time": "2023-07-11T16:28:48.214Z"
   },
   {
    "duration": 165,
    "start_time": "2023-07-11T16:28:48.219Z"
   },
   {
    "duration": 4,
    "start_time": "2023-07-11T16:28:48.386Z"
   },
   {
    "duration": 106,
    "start_time": "2023-07-11T16:28:48.392Z"
   },
   {
    "duration": 4,
    "start_time": "2023-07-11T16:28:48.500Z"
   },
   {
    "duration": 315,
    "start_time": "2023-07-11T16:28:48.506Z"
   },
   {
    "duration": 3,
    "start_time": "2023-07-11T16:28:48.823Z"
   },
   {
    "duration": 105,
    "start_time": "2023-07-11T16:28:48.827Z"
   },
   {
    "duration": 3,
    "start_time": "2023-07-11T16:28:48.935Z"
   },
   {
    "duration": 3,
    "start_time": "2023-07-11T16:28:52.533Z"
   },
   {
    "duration": 2,
    "start_time": "2023-07-11T16:29:07.808Z"
   },
   {
    "duration": 9,
    "start_time": "2023-07-11T16:29:07.815Z"
   },
   {
    "duration": 11,
    "start_time": "2023-07-11T16:29:07.825Z"
   },
   {
    "duration": 12,
    "start_time": "2023-07-11T16:29:07.838Z"
   },
   {
    "duration": 13,
    "start_time": "2023-07-11T16:29:07.851Z"
   },
   {
    "duration": 263,
    "start_time": "2023-07-11T16:29:07.866Z"
   },
   {
    "duration": 3,
    "start_time": "2023-07-11T16:29:08.130Z"
   },
   {
    "duration": 79,
    "start_time": "2023-07-11T16:29:08.134Z"
   },
   {
    "duration": 3,
    "start_time": "2023-07-11T16:29:08.216Z"
   },
   {
    "duration": 85,
    "start_time": "2023-07-11T16:29:08.221Z"
   },
   {
    "duration": 3,
    "start_time": "2023-07-11T16:29:08.308Z"
   },
   {
    "duration": 92,
    "start_time": "2023-07-11T16:29:08.312Z"
   },
   {
    "duration": 6,
    "start_time": "2023-07-11T16:29:08.407Z"
   },
   {
    "duration": 84,
    "start_time": "2023-07-11T16:29:08.415Z"
   },
   {
    "duration": 3,
    "start_time": "2023-07-11T16:29:08.501Z"
   },
   {
    "duration": 76,
    "start_time": "2023-07-11T16:29:08.505Z"
   },
   {
    "duration": 2,
    "start_time": "2023-07-11T16:29:08.583Z"
   },
   {
    "duration": 76,
    "start_time": "2023-07-11T16:29:08.586Z"
   },
   {
    "duration": 2,
    "start_time": "2023-07-11T16:29:08.664Z"
   },
   {
    "duration": 114,
    "start_time": "2023-07-11T16:29:08.668Z"
   },
   {
    "duration": 2,
    "start_time": "2023-07-11T16:29:08.784Z"
   },
   {
    "duration": 77,
    "start_time": "2023-07-11T16:29:08.788Z"
   },
   {
    "duration": 3,
    "start_time": "2023-07-11T16:29:08.867Z"
   },
   {
    "duration": 89,
    "start_time": "2023-07-11T16:29:08.872Z"
   },
   {
    "duration": 3,
    "start_time": "2023-07-11T16:29:08.963Z"
   },
   {
    "duration": 80,
    "start_time": "2023-07-11T16:29:08.968Z"
   }
  ],
  "kernelspec": {
   "display_name": "Python 3 (ipykernel)",
   "language": "python",
   "name": "python3"
  },
  "language_info": {
   "codemirror_mode": {
    "name": "ipython",
    "version": 3
   },
   "file_extension": ".py",
   "mimetype": "text/x-python",
   "name": "python",
   "nbconvert_exporter": "python",
   "pygments_lexer": "ipython3",
   "version": "3.9.7"
  },
  "toc": {
   "base_numbering": 1,
   "nav_menu": {},
   "number_sections": true,
   "sideBar": true,
   "skip_h1_title": true,
   "title_cell": "Table of Contents",
   "title_sidebar": "Contents",
   "toc_cell": false,
   "toc_position": {},
   "toc_section_display": true,
   "toc_window_display": true
  }
 },
 "nbformat": 4,
 "nbformat_minor": 2
}
